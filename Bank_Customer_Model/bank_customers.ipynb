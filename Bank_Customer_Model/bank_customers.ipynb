{
 "cells": [
  {
   "cell_type": "markdown",
   "metadata": {},
   "source": [
    "# Bank Customer Model"
   ]
  },
  {
   "cell_type": "markdown",
   "metadata": {},
   "source": [
    "## Table of Contents \n",
    "* [2 Project Description](#project_description)\n",
    "* [3 Data Description](#data_description)\n",
    "* [3 Data Preprocessing](#Data_Preprocessing)\n",
    "    * [3.1 Missing Values](#Missing_values)\n",
    "    * [3.2 Remove Missing Values](#Remove_Missing_values)\n",
    "    * [3.3 Duplicates](#duplicates)\n",
    "    * [3.4 Convert data](#convert)\n",
    "    * [3.5 Droping columns](#dropping_columns)\n",
    "* [4 EDA](#eda)\n",
    "    * [4.1 Gender](#gender)\n",
    "    * [4.2 Target](#target)\n",
    "    * [4.3 Balance](#balance)\n",
    "    * [4.6 Age](#age)\n",
    "    * [4.5 Geography](#geo)\n",
    "    * [4.6 Credit Score](#credit)\n",
    "* [5 Splitting Data](#split)\n",
    "    * [5.1 Feature Encoding](#encode)\n",
    "    * [5.2 Training and Testing](#train)\n",
    "* [6 Imbalance of classes](#balance)\n",
    "    * [6.1 baseline](#baseline)\n",
    "    * [6.2 Looking at models with imbalance classes](#looking)\n",
    "        * [6.2.1 Decision Tree](#dt_in)\n",
    "        * [6.2.2 Random Forest](#rf_in)\n",
    "        * [6.2.3 Logistic Regression](#lr_in)\n",
    "    * [6.3 Fixing inbalanced classes](#fixing)\n",
    "        * [6.3.1 Upsampling](#upsample)\n",
    "            * [6.3.1.1 Logistic Regression](#lr_up)\n",
    "            * [6.3.1.2 Random Forest](#rf_up)\n",
    "            * [6.3.1.2 Decision Tree](#dt_up)\n",
    "        * [6.3.2 Downsampling](#down)\n",
    "            * [6.3.2.1 Logistic Regression](#lr_dw)\n",
    "            * [6.3.2.2 Random Forest](#rf_dw)\n",
    "            * [6.3.2.3 Decision Tree](#dt_dw)\n",
    "* [7 Final Model](#final)\n",
    "    * [7.1 ROC](#roc)\n",
    "    * [7.2 PR Curve](#pr)\n",
    "* [8 Conclusion](#dt_dw)"
   ]
  },
  {
   "cell_type": "markdown",
   "metadata": {},
   "source": [
    "Beta Bank customers are leaving: little by little, chipping away every month. The bankers figured out it’s cheaper to save the existing customers rather than to attract new ones.\n",
    "We need to predict whether a customer will leave the bank soon. You have the data on clients’ past behavior and termination of contracts with the bank.\n",
    "Build a model with the maximum possible F1 score. To pass the project, you need an F1 score of at least 0.59. Check the F1 for the test set.\n",
    "Additionally, measure the AUC-ROC metric and compare it with the F1."
   ]
  },
  {
   "cell_type": "markdown",
   "metadata": {},
   "source": [
    "## Data Discription<a class=\"anchor\" id=\"data_description\"></a>\n",
    "Features\n",
    "- RowNumber — data string index\n",
    "- CustomerId — unique customer identifier\n",
    "- Surname — surname\n",
    "- CreditScore — credit score\n",
    "- Geography — country of residence\n",
    "- Gender — gender\n",
    "- Age — age\n",
    "- Tenure — period of maturation for a customer’s fixed deposit (years)\n",
    "- Balance — account balance\n",
    "- NumOfProducts — number of banking products used by the customer\n",
    "- HasCrCard — customer has a credit card\n",
    "- IsActiveMember — customer’s activeness\n",
    "- EstimatedSalary — estimated salary\n",
    "\n",
    "Target\n",
    "- Exited — сustomer has left"
   ]
  },
  {
   "cell_type": "code",
   "execution_count": 1,
   "metadata": {},
   "outputs": [],
   "source": [
    "import pandas as pd\n",
    "import numpy as np\n",
    "import seaborn as sns\n",
    "import matplotlib\n",
    "from sklearn.preprocessing import StandardScaler, OneHotEncoder, OrdinalEncoder\n",
    "from sklearn.model_selection import train_test_split, GridSearchCV\n",
    "from sklearn.metrics import f1_score, roc_curve, roc_auc_score, accuracy_score\n",
    "from sklearn.metrics import recall_score,balanced_accuracy_score\n",
    "from sklearn.metrics import confusion_matrix, classification_report, precision_score, precision_recall_curve\n",
    "\n",
    "from sklearn.dummy import DummyClassifier \n",
    "from sklearn.tree import DecisionTreeClassifier \n",
    "from sklearn.linear_model import LogisticRegression \n",
    "from sklearn.ensemble import RandomForestClassifier\n",
    "\n",
    "from sklearn.utils import shuffle\n",
    "\n",
    "import matplotlib.pyplot as plt\n",
    "%matplotlib inline\n",
    "\n",
    "\n",
    "# import warnings\n",
    "import warnings\n",
    "warnings.filterwarnings('ignore')\n"
   ]
  },
  {
   "cell_type": "code",
   "execution_count": 2,
   "metadata": {},
   "outputs": [],
   "source": [
    "try: \n",
    "    df = pd.read_csv(\"/datasets/Churn.csv\")\n",
    "except: \n",
    "    df = pd.read_csv(\"Churn.csv\")"
   ]
  },
  {
   "cell_type": "code",
   "execution_count": 3,
   "metadata": {},
   "outputs": [
    {
     "data": {
      "text/html": [
       "<div>\n",
       "<style scoped>\n",
       "    .dataframe tbody tr th:only-of-type {\n",
       "        vertical-align: middle;\n",
       "    }\n",
       "\n",
       "    .dataframe tbody tr th {\n",
       "        vertical-align: top;\n",
       "    }\n",
       "\n",
       "    .dataframe thead th {\n",
       "        text-align: right;\n",
       "    }\n",
       "</style>\n",
       "<table border=\"1\" class=\"dataframe\">\n",
       "  <thead>\n",
       "    <tr style=\"text-align: right;\">\n",
       "      <th></th>\n",
       "      <th>RowNumber</th>\n",
       "      <th>CustomerId</th>\n",
       "      <th>Surname</th>\n",
       "      <th>CreditScore</th>\n",
       "      <th>Geography</th>\n",
       "      <th>Gender</th>\n",
       "      <th>Age</th>\n",
       "      <th>Tenure</th>\n",
       "      <th>Balance</th>\n",
       "      <th>NumOfProducts</th>\n",
       "      <th>HasCrCard</th>\n",
       "      <th>IsActiveMember</th>\n",
       "      <th>EstimatedSalary</th>\n",
       "      <th>Exited</th>\n",
       "    </tr>\n",
       "  </thead>\n",
       "  <tbody>\n",
       "    <tr>\n",
       "      <td>0</td>\n",
       "      <td>1</td>\n",
       "      <td>15634602</td>\n",
       "      <td>Hargrave</td>\n",
       "      <td>619</td>\n",
       "      <td>France</td>\n",
       "      <td>Female</td>\n",
       "      <td>42</td>\n",
       "      <td>2.0</td>\n",
       "      <td>0.00</td>\n",
       "      <td>1</td>\n",
       "      <td>1</td>\n",
       "      <td>1</td>\n",
       "      <td>101348.88</td>\n",
       "      <td>1</td>\n",
       "    </tr>\n",
       "    <tr>\n",
       "      <td>1</td>\n",
       "      <td>2</td>\n",
       "      <td>15647311</td>\n",
       "      <td>Hill</td>\n",
       "      <td>608</td>\n",
       "      <td>Spain</td>\n",
       "      <td>Female</td>\n",
       "      <td>41</td>\n",
       "      <td>1.0</td>\n",
       "      <td>83807.86</td>\n",
       "      <td>1</td>\n",
       "      <td>0</td>\n",
       "      <td>1</td>\n",
       "      <td>112542.58</td>\n",
       "      <td>0</td>\n",
       "    </tr>\n",
       "    <tr>\n",
       "      <td>2</td>\n",
       "      <td>3</td>\n",
       "      <td>15619304</td>\n",
       "      <td>Onio</td>\n",
       "      <td>502</td>\n",
       "      <td>France</td>\n",
       "      <td>Female</td>\n",
       "      <td>42</td>\n",
       "      <td>8.0</td>\n",
       "      <td>159660.80</td>\n",
       "      <td>3</td>\n",
       "      <td>1</td>\n",
       "      <td>0</td>\n",
       "      <td>113931.57</td>\n",
       "      <td>1</td>\n",
       "    </tr>\n",
       "    <tr>\n",
       "      <td>3</td>\n",
       "      <td>4</td>\n",
       "      <td>15701354</td>\n",
       "      <td>Boni</td>\n",
       "      <td>699</td>\n",
       "      <td>France</td>\n",
       "      <td>Female</td>\n",
       "      <td>39</td>\n",
       "      <td>1.0</td>\n",
       "      <td>0.00</td>\n",
       "      <td>2</td>\n",
       "      <td>0</td>\n",
       "      <td>0</td>\n",
       "      <td>93826.63</td>\n",
       "      <td>0</td>\n",
       "    </tr>\n",
       "    <tr>\n",
       "      <td>4</td>\n",
       "      <td>5</td>\n",
       "      <td>15737888</td>\n",
       "      <td>Mitchell</td>\n",
       "      <td>850</td>\n",
       "      <td>Spain</td>\n",
       "      <td>Female</td>\n",
       "      <td>43</td>\n",
       "      <td>2.0</td>\n",
       "      <td>125510.82</td>\n",
       "      <td>1</td>\n",
       "      <td>1</td>\n",
       "      <td>1</td>\n",
       "      <td>79084.10</td>\n",
       "      <td>0</td>\n",
       "    </tr>\n",
       "  </tbody>\n",
       "</table>\n",
       "</div>"
      ],
      "text/plain": [
       "   RowNumber  CustomerId   Surname  CreditScore Geography  Gender  Age  \\\n",
       "0          1    15634602  Hargrave          619    France  Female   42   \n",
       "1          2    15647311      Hill          608     Spain  Female   41   \n",
       "2          3    15619304      Onio          502    France  Female   42   \n",
       "3          4    15701354      Boni          699    France  Female   39   \n",
       "4          5    15737888  Mitchell          850     Spain  Female   43   \n",
       "\n",
       "   Tenure    Balance  NumOfProducts  HasCrCard  IsActiveMember  \\\n",
       "0     2.0       0.00              1          1               1   \n",
       "1     1.0   83807.86              1          0               1   \n",
       "2     8.0  159660.80              3          1               0   \n",
       "3     1.0       0.00              2          0               0   \n",
       "4     2.0  125510.82              1          1               1   \n",
       "\n",
       "   EstimatedSalary  Exited  \n",
       "0        101348.88       1  \n",
       "1        112542.58       0  \n",
       "2        113931.57       1  \n",
       "3         93826.63       0  \n",
       "4         79084.10       0  "
      ]
     },
     "execution_count": 3,
     "metadata": {},
     "output_type": "execute_result"
    }
   ],
   "source": [
    "df.head()"
   ]
  },
  {
   "cell_type": "markdown",
   "metadata": {},
   "source": [
    "- Drop RowNumber since its a data string index which isn't needed. \n",
    "- Convery Tenure to int from float\n",
    "- need to convert the header to lowercase\n",
    "- We will drop some columns which aren't usefull for the analysis and can be droped."
   ]
  },
  {
   "cell_type": "code",
   "execution_count": 4,
   "metadata": {},
   "outputs": [
    {
     "name": "stdout",
     "output_type": "stream",
     "text": [
      "<class 'pandas.core.frame.DataFrame'>\n",
      "RangeIndex: 10000 entries, 0 to 9999\n",
      "Data columns (total 14 columns):\n",
      "RowNumber          10000 non-null int64\n",
      "CustomerId         10000 non-null int64\n",
      "Surname            10000 non-null object\n",
      "CreditScore        10000 non-null int64\n",
      "Geography          10000 non-null object\n",
      "Gender             10000 non-null object\n",
      "Age                10000 non-null int64\n",
      "Tenure             9091 non-null float64\n",
      "Balance            10000 non-null float64\n",
      "NumOfProducts      10000 non-null int64\n",
      "HasCrCard          10000 non-null int64\n",
      "IsActiveMember     10000 non-null int64\n",
      "EstimatedSalary    10000 non-null float64\n",
      "Exited             10000 non-null int64\n",
      "dtypes: float64(3), int64(8), object(3)\n",
      "memory usage: 1.1+ MB\n"
     ]
    }
   ],
   "source": [
    "df.info()"
   ]
  },
  {
   "cell_type": "markdown",
   "metadata": {},
   "source": [
    "We seem to have missing values present in Tenure and everthing thing else looks fine."
   ]
  },
  {
   "cell_type": "code",
   "execution_count": 5,
   "metadata": {},
   "outputs": [
    {
     "data": {
      "text/html": [
       "<div>\n",
       "<style scoped>\n",
       "    .dataframe tbody tr th:only-of-type {\n",
       "        vertical-align: middle;\n",
       "    }\n",
       "\n",
       "    .dataframe tbody tr th {\n",
       "        vertical-align: top;\n",
       "    }\n",
       "\n",
       "    .dataframe thead th {\n",
       "        text-align: right;\n",
       "    }\n",
       "</style>\n",
       "<table border=\"1\" class=\"dataframe\">\n",
       "  <thead>\n",
       "    <tr style=\"text-align: right;\">\n",
       "      <th></th>\n",
       "      <th>RowNumber</th>\n",
       "      <th>CustomerId</th>\n",
       "      <th>CreditScore</th>\n",
       "      <th>Age</th>\n",
       "      <th>Tenure</th>\n",
       "      <th>Balance</th>\n",
       "      <th>NumOfProducts</th>\n",
       "      <th>HasCrCard</th>\n",
       "      <th>IsActiveMember</th>\n",
       "      <th>EstimatedSalary</th>\n",
       "      <th>Exited</th>\n",
       "    </tr>\n",
       "  </thead>\n",
       "  <tbody>\n",
       "    <tr>\n",
       "      <td>count</td>\n",
       "      <td>10000.00000</td>\n",
       "      <td>1.000000e+04</td>\n",
       "      <td>10000.000000</td>\n",
       "      <td>10000.000000</td>\n",
       "      <td>9091.000000</td>\n",
       "      <td>10000.000000</td>\n",
       "      <td>10000.000000</td>\n",
       "      <td>10000.00000</td>\n",
       "      <td>10000.000000</td>\n",
       "      <td>10000.000000</td>\n",
       "      <td>10000.000000</td>\n",
       "    </tr>\n",
       "    <tr>\n",
       "      <td>mean</td>\n",
       "      <td>5000.50000</td>\n",
       "      <td>1.569094e+07</td>\n",
       "      <td>650.528800</td>\n",
       "      <td>38.921800</td>\n",
       "      <td>4.997690</td>\n",
       "      <td>76485.889288</td>\n",
       "      <td>1.530200</td>\n",
       "      <td>0.70550</td>\n",
       "      <td>0.515100</td>\n",
       "      <td>100090.239881</td>\n",
       "      <td>0.203700</td>\n",
       "    </tr>\n",
       "    <tr>\n",
       "      <td>std</td>\n",
       "      <td>2886.89568</td>\n",
       "      <td>7.193619e+04</td>\n",
       "      <td>96.653299</td>\n",
       "      <td>10.487806</td>\n",
       "      <td>2.894723</td>\n",
       "      <td>62397.405202</td>\n",
       "      <td>0.581654</td>\n",
       "      <td>0.45584</td>\n",
       "      <td>0.499797</td>\n",
       "      <td>57510.492818</td>\n",
       "      <td>0.402769</td>\n",
       "    </tr>\n",
       "    <tr>\n",
       "      <td>min</td>\n",
       "      <td>1.00000</td>\n",
       "      <td>1.556570e+07</td>\n",
       "      <td>350.000000</td>\n",
       "      <td>18.000000</td>\n",
       "      <td>0.000000</td>\n",
       "      <td>0.000000</td>\n",
       "      <td>1.000000</td>\n",
       "      <td>0.00000</td>\n",
       "      <td>0.000000</td>\n",
       "      <td>11.580000</td>\n",
       "      <td>0.000000</td>\n",
       "    </tr>\n",
       "    <tr>\n",
       "      <td>25%</td>\n",
       "      <td>2500.75000</td>\n",
       "      <td>1.562853e+07</td>\n",
       "      <td>584.000000</td>\n",
       "      <td>32.000000</td>\n",
       "      <td>2.000000</td>\n",
       "      <td>0.000000</td>\n",
       "      <td>1.000000</td>\n",
       "      <td>0.00000</td>\n",
       "      <td>0.000000</td>\n",
       "      <td>51002.110000</td>\n",
       "      <td>0.000000</td>\n",
       "    </tr>\n",
       "    <tr>\n",
       "      <td>50%</td>\n",
       "      <td>5000.50000</td>\n",
       "      <td>1.569074e+07</td>\n",
       "      <td>652.000000</td>\n",
       "      <td>37.000000</td>\n",
       "      <td>5.000000</td>\n",
       "      <td>97198.540000</td>\n",
       "      <td>1.000000</td>\n",
       "      <td>1.00000</td>\n",
       "      <td>1.000000</td>\n",
       "      <td>100193.915000</td>\n",
       "      <td>0.000000</td>\n",
       "    </tr>\n",
       "    <tr>\n",
       "      <td>75%</td>\n",
       "      <td>7500.25000</td>\n",
       "      <td>1.575323e+07</td>\n",
       "      <td>718.000000</td>\n",
       "      <td>44.000000</td>\n",
       "      <td>7.000000</td>\n",
       "      <td>127644.240000</td>\n",
       "      <td>2.000000</td>\n",
       "      <td>1.00000</td>\n",
       "      <td>1.000000</td>\n",
       "      <td>149388.247500</td>\n",
       "      <td>0.000000</td>\n",
       "    </tr>\n",
       "    <tr>\n",
       "      <td>max</td>\n",
       "      <td>10000.00000</td>\n",
       "      <td>1.581569e+07</td>\n",
       "      <td>850.000000</td>\n",
       "      <td>92.000000</td>\n",
       "      <td>10.000000</td>\n",
       "      <td>250898.090000</td>\n",
       "      <td>4.000000</td>\n",
       "      <td>1.00000</td>\n",
       "      <td>1.000000</td>\n",
       "      <td>199992.480000</td>\n",
       "      <td>1.000000</td>\n",
       "    </tr>\n",
       "  </tbody>\n",
       "</table>\n",
       "</div>"
      ],
      "text/plain": [
       "         RowNumber    CustomerId   CreditScore           Age       Tenure  \\\n",
       "count  10000.00000  1.000000e+04  10000.000000  10000.000000  9091.000000   \n",
       "mean    5000.50000  1.569094e+07    650.528800     38.921800     4.997690   \n",
       "std     2886.89568  7.193619e+04     96.653299     10.487806     2.894723   \n",
       "min        1.00000  1.556570e+07    350.000000     18.000000     0.000000   \n",
       "25%     2500.75000  1.562853e+07    584.000000     32.000000     2.000000   \n",
       "50%     5000.50000  1.569074e+07    652.000000     37.000000     5.000000   \n",
       "75%     7500.25000  1.575323e+07    718.000000     44.000000     7.000000   \n",
       "max    10000.00000  1.581569e+07    850.000000     92.000000    10.000000   \n",
       "\n",
       "             Balance  NumOfProducts    HasCrCard  IsActiveMember  \\\n",
       "count   10000.000000   10000.000000  10000.00000    10000.000000   \n",
       "mean    76485.889288       1.530200      0.70550        0.515100   \n",
       "std     62397.405202       0.581654      0.45584        0.499797   \n",
       "min         0.000000       1.000000      0.00000        0.000000   \n",
       "25%         0.000000       1.000000      0.00000        0.000000   \n",
       "50%     97198.540000       1.000000      1.00000        1.000000   \n",
       "75%    127644.240000       2.000000      1.00000        1.000000   \n",
       "max    250898.090000       4.000000      1.00000        1.000000   \n",
       "\n",
       "       EstimatedSalary        Exited  \n",
       "count     10000.000000  10000.000000  \n",
       "mean     100090.239881      0.203700  \n",
       "std       57510.492818      0.402769  \n",
       "min          11.580000      0.000000  \n",
       "25%       51002.110000      0.000000  \n",
       "50%      100193.915000      0.000000  \n",
       "75%      149388.247500      0.000000  \n",
       "max      199992.480000      1.000000  "
      ]
     },
     "execution_count": 5,
     "metadata": {},
     "output_type": "execute_result"
    }
   ],
   "source": [
    "df.describe()"
   ]
  },
  {
   "cell_type": "markdown",
   "metadata": {},
   "source": [
    "The mean and medium values are somewhat close together and are not to far apart."
   ]
  },
  {
   "cell_type": "markdown",
   "metadata": {},
   "source": [
    "## Data Preprocessing <a class=\"anchor\" id=\"Data_Preprocessing\"></a>"
   ]
  },
  {
   "cell_type": "markdown",
   "metadata": {},
   "source": [
    "### Missing values <a class=\"anchor\" id=\"Missing_values \"></a>"
   ]
  },
  {
   "cell_type": "code",
   "execution_count": 6,
   "metadata": {},
   "outputs": [
    {
     "data": {
      "text/plain": [
       "RowNumber            0\n",
       "CustomerId           0\n",
       "Surname              0\n",
       "CreditScore          0\n",
       "Geography            0\n",
       "Gender               0\n",
       "Age                  0\n",
       "Tenure             909\n",
       "Balance              0\n",
       "NumOfProducts        0\n",
       "HasCrCard            0\n",
       "IsActiveMember       0\n",
       "EstimatedSalary      0\n",
       "Exited               0\n",
       "dtype: int64"
      ]
     },
     "execution_count": 6,
     "metadata": {},
     "output_type": "execute_result"
    }
   ],
   "source": [
    "df.isnull().sum()"
   ]
  },
  {
   "cell_type": "markdown",
   "metadata": {},
   "source": [
    "There are 909 missing values in Tenure which will be taken care of by filling it with mean or medium."
   ]
  },
  {
   "cell_type": "markdown",
   "metadata": {},
   "source": [
    "### Removing missing values<a class=\"anchor\" id=\"Removing_Missing_values \"></a>"
   ]
  },
  {
   "cell_type": "code",
   "execution_count": 8,
   "metadata": {},
   "outputs": [],
   "source": [
    "#filling in missing values with mean\n",
    "df['Tenure']= df['Tenure'].fillna(df['Tenure'].median())"
   ]
  },
  {
   "cell_type": "code",
   "execution_count": 9,
   "metadata": {},
   "outputs": [
    {
     "data": {
      "text/plain": [
       "0"
      ]
     },
     "execution_count": 9,
     "metadata": {},
     "output_type": "execute_result"
    }
   ],
   "source": [
    "#check for missing values\n",
    "df.Tenure.isnull().sum()"
   ]
  },
  {
   "cell_type": "markdown",
   "metadata": {},
   "source": [
    "### Duplicates <a class=\"anchor\" id=\"duplicates\"></a>"
   ]
  },
  {
   "cell_type": "code",
   "execution_count": 10,
   "metadata": {},
   "outputs": [
    {
     "data": {
      "text/plain": [
       "0"
      ]
     },
     "execution_count": 10,
     "metadata": {},
     "output_type": "execute_result"
    }
   ],
   "source": [
    "# checking for duplicates\n",
    "df.duplicated().sum()"
   ]
  },
  {
   "cell_type": "markdown",
   "metadata": {},
   "source": [
    "### Converting data <a class=\"anchor\" id=\"convert\"></a>"
   ]
  },
  {
   "cell_type": "code",
   "execution_count": 11,
   "metadata": {},
   "outputs": [],
   "source": [
    "# convert float to int for tenure\n",
    "df['Tenure'] = df['Tenure'].astype(\"int\")"
   ]
  },
  {
   "cell_type": "markdown",
   "metadata": {},
   "source": [
    "### Droping column<a class=\"anchor\" id=\"droping_columns\"></a>"
   ]
  },
  {
   "cell_type": "code",
   "execution_count": 12,
   "metadata": {},
   "outputs": [],
   "source": [
    "# droping column for rownNumber,'CustomerId','Surname'\n",
    "df = df.drop(['RowNumber','CustomerId','Surname'], axis = 1)"
   ]
  },
  {
   "cell_type": "code",
   "execution_count": 13,
   "metadata": {},
   "outputs": [
    {
     "data": {
      "text/html": [
       "<div>\n",
       "<style scoped>\n",
       "    .dataframe tbody tr th:only-of-type {\n",
       "        vertical-align: middle;\n",
       "    }\n",
       "\n",
       "    .dataframe tbody tr th {\n",
       "        vertical-align: top;\n",
       "    }\n",
       "\n",
       "    .dataframe thead th {\n",
       "        text-align: right;\n",
       "    }\n",
       "</style>\n",
       "<table border=\"1\" class=\"dataframe\">\n",
       "  <thead>\n",
       "    <tr style=\"text-align: right;\">\n",
       "      <th></th>\n",
       "      <th>CreditScore</th>\n",
       "      <th>Geography</th>\n",
       "      <th>Gender</th>\n",
       "      <th>Age</th>\n",
       "      <th>Tenure</th>\n",
       "      <th>Balance</th>\n",
       "      <th>NumOfProducts</th>\n",
       "      <th>HasCrCard</th>\n",
       "      <th>IsActiveMember</th>\n",
       "      <th>EstimatedSalary</th>\n",
       "      <th>Exited</th>\n",
       "    </tr>\n",
       "  </thead>\n",
       "  <tbody>\n",
       "    <tr>\n",
       "      <td>0</td>\n",
       "      <td>619</td>\n",
       "      <td>France</td>\n",
       "      <td>Female</td>\n",
       "      <td>42</td>\n",
       "      <td>2</td>\n",
       "      <td>0.00</td>\n",
       "      <td>1</td>\n",
       "      <td>1</td>\n",
       "      <td>1</td>\n",
       "      <td>101348.88</td>\n",
       "      <td>1</td>\n",
       "    </tr>\n",
       "    <tr>\n",
       "      <td>1</td>\n",
       "      <td>608</td>\n",
       "      <td>Spain</td>\n",
       "      <td>Female</td>\n",
       "      <td>41</td>\n",
       "      <td>1</td>\n",
       "      <td>83807.86</td>\n",
       "      <td>1</td>\n",
       "      <td>0</td>\n",
       "      <td>1</td>\n",
       "      <td>112542.58</td>\n",
       "      <td>0</td>\n",
       "    </tr>\n",
       "    <tr>\n",
       "      <td>2</td>\n",
       "      <td>502</td>\n",
       "      <td>France</td>\n",
       "      <td>Female</td>\n",
       "      <td>42</td>\n",
       "      <td>8</td>\n",
       "      <td>159660.80</td>\n",
       "      <td>3</td>\n",
       "      <td>1</td>\n",
       "      <td>0</td>\n",
       "      <td>113931.57</td>\n",
       "      <td>1</td>\n",
       "    </tr>\n",
       "    <tr>\n",
       "      <td>3</td>\n",
       "      <td>699</td>\n",
       "      <td>France</td>\n",
       "      <td>Female</td>\n",
       "      <td>39</td>\n",
       "      <td>1</td>\n",
       "      <td>0.00</td>\n",
       "      <td>2</td>\n",
       "      <td>0</td>\n",
       "      <td>0</td>\n",
       "      <td>93826.63</td>\n",
       "      <td>0</td>\n",
       "    </tr>\n",
       "    <tr>\n",
       "      <td>4</td>\n",
       "      <td>850</td>\n",
       "      <td>Spain</td>\n",
       "      <td>Female</td>\n",
       "      <td>43</td>\n",
       "      <td>2</td>\n",
       "      <td>125510.82</td>\n",
       "      <td>1</td>\n",
       "      <td>1</td>\n",
       "      <td>1</td>\n",
       "      <td>79084.10</td>\n",
       "      <td>0</td>\n",
       "    </tr>\n",
       "  </tbody>\n",
       "</table>\n",
       "</div>"
      ],
      "text/plain": [
       "   CreditScore Geography  Gender  Age  Tenure    Balance  NumOfProducts  \\\n",
       "0          619    France  Female   42       2       0.00              1   \n",
       "1          608     Spain  Female   41       1   83807.86              1   \n",
       "2          502    France  Female   42       8  159660.80              3   \n",
       "3          699    France  Female   39       1       0.00              2   \n",
       "4          850     Spain  Female   43       2  125510.82              1   \n",
       "\n",
       "   HasCrCard  IsActiveMember  EstimatedSalary  Exited  \n",
       "0          1               1        101348.88       1  \n",
       "1          0               1        112542.58       0  \n",
       "2          1               0        113931.57       1  \n",
       "3          0               0         93826.63       0  \n",
       "4          1               1         79084.10       0  "
      ]
     },
     "execution_count": 13,
     "metadata": {},
     "output_type": "execute_result"
    }
   ],
   "source": [
    "df.head()"
   ]
  },
  {
   "cell_type": "markdown",
   "metadata": {},
   "source": [
    "## EDA<a class=\"anchor\" id=\"eda\"></a>"
   ]
  },
  {
   "cell_type": "markdown",
   "metadata": {},
   "source": [
    "### Gender <a class=\"anchor\" id=\"gender\"></a>"
   ]
  },
  {
   "cell_type": "code",
   "execution_count": 14,
   "metadata": {},
   "outputs": [
    {
     "data": {
      "text/plain": [
       "<matplotlib.axes._subplots.AxesSubplot at 0x7f15a2b368d0>"
      ]
     },
     "execution_count": 14,
     "metadata": {},
     "output_type": "execute_result"
    },
    {
     "data": {
      "image/png": "[encoded data removed]",
      "text/plain": [
       "<Figure size 432x288 with 1 Axes>"
      ]
     },
     "metadata": {
      "needs_background": "light"
     },
     "output_type": "display_data"
    }
   ],
   "source": [
    "sns.barplot(x=\"Gender\", y=\"Exited\", data=df,palette=\"Blues_d\")"
   ]
  },
  {
   "cell_type": "markdown",
   "metadata": {},
   "source": [
    "There are more Female clients who left then male clients."
   ]
  },
  {
   "cell_type": "markdown",
   "metadata": {},
   "source": [
    "### Target<a class=\"anchor\" id=\"target\"></a>"
   ]
  },
  {
   "cell_type": "code",
   "execution_count": 15,
   "metadata": {},
   "outputs": [
    {
     "data": {
      "text/plain": [
       "Text(0.5, 0, 'Exited')"
      ]
     },
     "execution_count": 15,
     "metadata": {},
     "output_type": "execute_result"
    },
    {
     "data": {
      "image/png": "[encoded data removed]",
      "text/plain": [
       "<Figure size 432x288 with 1 Axes>"
      ]
     },
     "metadata": {
      "needs_background": "light"
     },
     "output_type": "display_data"
    }
   ],
   "source": [
    "df['Exited'].value_counts().plot(kind='bar')\n",
    "plt.title('Distribution of target variable')\n",
    "plt.ylabel(\"Frequencey\")\n",
    "plt.xlabel(\"Exited\")"
   ]
  },
  {
   "cell_type": "markdown",
   "metadata": {},
   "source": [
    "The graph shows that there are 2 times the amount of people staying than leaving. This graph also shows how imbalanced the data is."
   ]
  },
  {
   "cell_type": "markdown",
   "metadata": {},
   "source": [
    "### Balance<a class=\"anchor\" id=\"balance\"></a>"
   ]
  },
  {
   "cell_type": "code",
   "execution_count": 16,
   "metadata": {},
   "outputs": [
    {
     "data": {
      "text/plain": [
       "Text(0.5, 0, 'Balance')"
      ]
     },
     "execution_count": 16,
     "metadata": {},
     "output_type": "execute_result"
    },
    {
     "data": {
      "image/png": "[encoded data removed]",
      "text/plain": [
       "<Figure size 432x288 with 1 Axes>"
      ]
     },
     "metadata": {
      "needs_background": "light"
     },
     "output_type": "display_data"
    }
   ],
   "source": [
    "df['Balance'].hist()\n",
    "plt.title('Distribution of Balance')\n",
    "plt.ylabel(\"Frequencey\")\n",
    "plt.xlabel(\"Balance\")"
   ]
  },
  {
   "cell_type": "markdown",
   "metadata": {},
   "source": [
    "There is a high amount of people with less then 50000 dollars and 0 dollars in there bank account. The blance seem to be a uniformed distribution with average going from 50000 to 200000."
   ]
  },
  {
   "cell_type": "markdown",
   "metadata": {},
   "source": [
    "### Age<a class=\"anchor\" id=\"age\"></a>"
   ]
  },
  {
   "cell_type": "code",
   "execution_count": 17,
   "metadata": {},
   "outputs": [
    {
     "data": {
      "text/plain": [
       "Text(0.5, 0, 'Age')"
      ]
     },
     "execution_count": 17,
     "metadata": {},
     "output_type": "execute_result"
    },
    {
     "data": {
      "image/png": "[encoded data removed]",
      "text/plain": [
       "<Figure size 432x288 with 1 Axes>"
      ]
     },
     "metadata": {
      "needs_background": "light"
     },
     "output_type": "display_data"
    }
   ],
   "source": [
    "df.groupby('Exited')['Age'].hist()\n",
    "plt.title(' Age Vs. target group')\n",
    "plt.ylabel(\"Frequencey\")\n",
    "plt.xlabel(\"Age\")"
   ]
  },
  {
   "cell_type": "markdown",
   "metadata": {},
   "source": [
    "People who are in the ages of their early 20 to mid 40 seem to have a higher chance of leaving. While a small portion of people in their early 30 to 60 stay as clients. There is also another trend showing that people after their mid 40 seem to stay as clients then leave."
   ]
  },
  {
   "cell_type": "markdown",
   "metadata": {},
   "source": [
    "### Geography<a class=\"anchor\" id=\"geo\"></a>"
   ]
  },
  {
   "cell_type": "code",
   "execution_count": 18,
   "metadata": {},
   "outputs": [
    {
     "data": {
      "text/plain": [
       "<matplotlib.axes._subplots.AxesSubplot at 0x7f159a311d50>"
      ]
     },
     "execution_count": 18,
     "metadata": {},
     "output_type": "execute_result"
    },
    {
     "data": {
      "image/png": "[encoded data removed]",
      "text/plain": [
       "<Figure size 432x288 with 1 Axes>"
      ]
     },
     "metadata": {
      "needs_background": "light"
     },
     "output_type": "display_data"
    }
   ],
   "source": [
    "sns.barplot(x=\"Geography\", y=\"Exited\", data=df,palette=\"Blues_d\")"
   ]
  },
  {
   "cell_type": "markdown",
   "metadata": {},
   "source": [
    "More people in Germany seem to leave than stay. France and Spain have an almost equal amount of people staying, but it is the people in France that seem to have a higher amount of people staying in the bank than all other countries."
   ]
  },
  {
   "cell_type": "markdown",
   "metadata": {},
   "source": [
    "### Credit Score<a class=\"anchor\" id=\"credit\"></a>"
   ]
  },
  {
   "cell_type": "code",
   "execution_count": 19,
   "metadata": {},
   "outputs": [
    {
     "data": {
      "text/plain": [
       "Text(0.5, 0, 'Credit Score')"
      ]
     },
     "execution_count": 19,
     "metadata": {},
     "output_type": "execute_result"
    },
    {
     "data": {
      "image/png": "[encoded data removed]",
      "text/plain": [
       "<Figure size 432x288 with 1 Axes>"
      ]
     },
     "metadata": {
      "needs_background": "light"
     },
     "output_type": "display_data"
    }
   ],
   "source": [
    "df['CreditScore'].hist()\n",
    "plt.title('Distribution of credit score')\n",
    "plt.ylabel(\"Frequencey\")\n",
    "plt.xlabel(\"Credit Score\")"
   ]
  },
  {
   "cell_type": "markdown",
   "metadata": {},
   "source": [
    "There are a vast amount of people who do have goof credit scores. The distributions seem to be uniformed."
   ]
  },
  {
   "cell_type": "markdown",
   "metadata": {},
   "source": [
    "## Splitting Data<a class=\"anchor\" id=\"split_data\"></a>"
   ]
  },
  {
   "cell_type": "markdown",
   "metadata": {},
   "source": [
    "### Feature Encoding<a class=\"anchor\" id=\"encode\"></a>\n",
    "\n",
    "We will look into the categorical data and make them numerical. This will be done with one-hot encoding."
   ]
  },
  {
   "cell_type": "code",
   "execution_count": 20,
   "metadata": {},
   "outputs": [],
   "source": [
    "#creating categorical columns\n",
    "cat_col = ['Geography', 'Gender']"
   ]
  },
  {
   "cell_type": "code",
   "execution_count": 21,
   "metadata": {},
   "outputs": [
    {
     "data": {
      "text/html": [
       "<div>\n",
       "<style scoped>\n",
       "    .dataframe tbody tr th:only-of-type {\n",
       "        vertical-align: middle;\n",
       "    }\n",
       "\n",
       "    .dataframe tbody tr th {\n",
       "        vertical-align: top;\n",
       "    }\n",
       "\n",
       "    .dataframe thead th {\n",
       "        text-align: right;\n",
       "    }\n",
       "</style>\n",
       "<table border=\"1\" class=\"dataframe\">\n",
       "  <thead>\n",
       "    <tr style=\"text-align: right;\">\n",
       "      <th></th>\n",
       "      <th>CreditScore</th>\n",
       "      <th>Age</th>\n",
       "      <th>Tenure</th>\n",
       "      <th>Balance</th>\n",
       "      <th>NumOfProducts</th>\n",
       "      <th>HasCrCard</th>\n",
       "      <th>IsActiveMember</th>\n",
       "      <th>EstimatedSalary</th>\n",
       "      <th>Exited</th>\n",
       "      <th>Geography_France</th>\n",
       "      <th>Geography_Germany</th>\n",
       "      <th>Geography_Spain</th>\n",
       "      <th>Gender_Female</th>\n",
       "      <th>Gender_Male</th>\n",
       "    </tr>\n",
       "  </thead>\n",
       "  <tbody>\n",
       "    <tr>\n",
       "      <td>0</td>\n",
       "      <td>619</td>\n",
       "      <td>42</td>\n",
       "      <td>2</td>\n",
       "      <td>0.00</td>\n",
       "      <td>1</td>\n",
       "      <td>1</td>\n",
       "      <td>1</td>\n",
       "      <td>101348.88</td>\n",
       "      <td>1</td>\n",
       "      <td>1</td>\n",
       "      <td>0</td>\n",
       "      <td>0</td>\n",
       "      <td>1</td>\n",
       "      <td>0</td>\n",
       "    </tr>\n",
       "    <tr>\n",
       "      <td>1</td>\n",
       "      <td>608</td>\n",
       "      <td>41</td>\n",
       "      <td>1</td>\n",
       "      <td>83807.86</td>\n",
       "      <td>1</td>\n",
       "      <td>0</td>\n",
       "      <td>1</td>\n",
       "      <td>112542.58</td>\n",
       "      <td>0</td>\n",
       "      <td>0</td>\n",
       "      <td>0</td>\n",
       "      <td>1</td>\n",
       "      <td>1</td>\n",
       "      <td>0</td>\n",
       "    </tr>\n",
       "    <tr>\n",
       "      <td>2</td>\n",
       "      <td>502</td>\n",
       "      <td>42</td>\n",
       "      <td>8</td>\n",
       "      <td>159660.80</td>\n",
       "      <td>3</td>\n",
       "      <td>1</td>\n",
       "      <td>0</td>\n",
       "      <td>113931.57</td>\n",
       "      <td>1</td>\n",
       "      <td>1</td>\n",
       "      <td>0</td>\n",
       "      <td>0</td>\n",
       "      <td>1</td>\n",
       "      <td>0</td>\n",
       "    </tr>\n",
       "    <tr>\n",
       "      <td>3</td>\n",
       "      <td>699</td>\n",
       "      <td>39</td>\n",
       "      <td>1</td>\n",
       "      <td>0.00</td>\n",
       "      <td>2</td>\n",
       "      <td>0</td>\n",
       "      <td>0</td>\n",
       "      <td>93826.63</td>\n",
       "      <td>0</td>\n",
       "      <td>1</td>\n",
       "      <td>0</td>\n",
       "      <td>0</td>\n",
       "      <td>1</td>\n",
       "      <td>0</td>\n",
       "    </tr>\n",
       "    <tr>\n",
       "      <td>4</td>\n",
       "      <td>850</td>\n",
       "      <td>43</td>\n",
       "      <td>2</td>\n",
       "      <td>125510.82</td>\n",
       "      <td>1</td>\n",
       "      <td>1</td>\n",
       "      <td>1</td>\n",
       "      <td>79084.10</td>\n",
       "      <td>0</td>\n",
       "      <td>0</td>\n",
       "      <td>0</td>\n",
       "      <td>1</td>\n",
       "      <td>1</td>\n",
       "      <td>0</td>\n",
       "    </tr>\n",
       "  </tbody>\n",
       "</table>\n",
       "</div>"
      ],
      "text/plain": [
       "   CreditScore  Age  Tenure    Balance  NumOfProducts  HasCrCard  \\\n",
       "0          619   42       2       0.00              1          1   \n",
       "1          608   41       1   83807.86              1          0   \n",
       "2          502   42       8  159660.80              3          1   \n",
       "3          699   39       1       0.00              2          0   \n",
       "4          850   43       2  125510.82              1          1   \n",
       "\n",
       "   IsActiveMember  EstimatedSalary  Exited  Geography_France  \\\n",
       "0               1        101348.88       1                 1   \n",
       "1               1        112542.58       0                 0   \n",
       "2               0        113931.57       1                 1   \n",
       "3               0         93826.63       0                 1   \n",
       "4               1         79084.10       0                 0   \n",
       "\n",
       "   Geography_Germany  Geography_Spain  Gender_Female  Gender_Male  \n",
       "0                  0                0              1            0  \n",
       "1                  0                1              1            0  \n",
       "2                  0                0              1            0  \n",
       "3                  0                0              1            0  \n",
       "4                  0                1              1            0  "
      ]
     },
     "execution_count": 21,
     "metadata": {},
     "output_type": "execute_result"
    }
   ],
   "source": [
    "# implementing one-hot-encoding for geography and gender columns, \n",
    "df_ohe = pd.get_dummies(df, columns = cat_col)\n",
    "df_ohe.head()"
   ]
  },
  {
   "cell_type": "markdown",
   "metadata": {},
   "source": [
    "### Training and Testing <a class=\"anchor\" id=\"train\"></a>"
   ]
  },
  {
   "cell_type": "code",
   "execution_count": 22,
   "metadata": {},
   "outputs": [],
   "source": [
    "# declare variables for features and target\n",
    "x = df_ohe.drop(['Exited'], axis=1) #features\n",
    "y = df_ohe['Exited'] # target \n",
    "\n",
    "# spliting out data into 80:20\n",
    "x_train, x_test, y_train, y_test = train_test_split(x, y, test_size = 0.2, random_state=12345)\n",
    "\n",
    "# creat validating set\n",
    "x_train, x_valid, y_train, y_valid = train_test_split(x_train, y_train,test_size = 0.2, random_state=12345)\n",
    "\n",
    "#numeric features for the dataset\n",
    "numeric = [\"CreditScore\", \"Age\", \"Tenure\",\"Balance\", \"NumOfProducts\",\"HasCrCard\",\n",
    "           \"IsActiveMember\",\"EstimatedSalary\"]\n",
    "\n",
    "# features scaling\n",
    "scaler = StandardScaler()\n",
    "scaler.fit(x_train[numeric]) \n",
    "x_train[numeric] = scaler.transform(x_train[numeric])\n",
    "x_valid[numeric] = scaler.transform(x_valid[numeric])\n",
    "x_test[numeric] = scaler.transform(x_test[numeric])\n"
   ]
  },
  {
   "cell_type": "code",
   "execution_count": 23,
   "metadata": {},
   "outputs": [
    {
     "data": {
      "text/plain": [
       "array([0.64, 0.2 ])"
      ]
     },
     "execution_count": 23,
     "metadata": {},
     "output_type": "execute_result"
    }
   ],
   "source": [
    "# checking to see if our split is correct\n",
    "np.array([x_train.shape[0],x_test.shape[0]])/df_ohe.shape[0]"
   ]
  },
  {
   "cell_type": "code",
   "execution_count": 24,
   "metadata": {},
   "outputs": [
    {
     "data": {
      "text/plain": [
       "array([0.64, 0.16])"
      ]
     },
     "execution_count": 24,
     "metadata": {},
     "output_type": "execute_result"
    }
   ],
   "source": [
    "np.array([x_train.shape[0],x_valid.shape[0]])/df_ohe.shape[0]"
   ]
  },
  {
   "cell_type": "markdown",
   "metadata": {},
   "source": [
    "## Imbalance of classes<a class=\"anchor\" id=\"inbalance\"></a>"
   ]
  },
  {
   "cell_type": "markdown",
   "metadata": {},
   "source": [
    "### baseline <a class=\"anchor\" id=\"baseline\"></a>"
   ]
  },
  {
   "cell_type": "code",
   "execution_count": 25,
   "metadata": {},
   "outputs": [
    {
     "name": "stdout",
     "output_type": "stream",
     "text": [
      "Baseline F1 score: 0.3184445612191277\n",
      "Baseline AUC-ROC score: 0.5\n"
     ]
    }
   ],
   "source": [
    "# creating a baseline model\n",
    "dummy_clf = DummyClassifier(strategy='constant', constant=1, random_state=12345)\n",
    "dummy_clf.fit(x_train, y_train)\n",
    "pred = dummy_clf.predict(x_valid)\n",
    "f1_baseline = f1_score(y_valid,pred)\n",
    "print(\"Baseline F1 score:\", f1_baseline)\n",
    "auc_roc_baseline = roc_auc_score(y_valid, pred)\n",
    "print(\"Baseline AUC-ROC score:\",auc_roc_baseline)"
   ]
  },
  {
   "cell_type": "markdown",
   "metadata": {},
   "source": [
    "What this baseline means is that our model we will work on need to do better then a 0.31 score for our sanity check."
   ]
  },
  {
   "cell_type": "code",
   "execution_count": 26,
   "metadata": {},
   "outputs": [],
   "source": [
    "#Function the saves the model parameter and updates them on a dataframe\n",
    "F1_baseline= 0.59\n",
    "column_names = [\"method\", \"hyperparameters\", \"accuracy_score\",\"auc_roc\",\"f1\",'f1_required','above_f1_threshold?']\n",
    "df_results = pd.DataFrame(columns = column_names)\n",
    "def model_paramater(model,features_train, target_train,method,hyperparam):\n",
    "    global df_results \n",
    "    model.fit(features_train, target_train)\n",
    "    predicted_valid = model.predict(x_valid)\n",
    "    f1 = f1_score(y_valid,predicted_valid)\n",
    "    auc_roc = roc_auc_score(y_valid, predicted_valid)\n",
    "    acc= accuracy_score(y_valid,predicted_valid)\n",
    "\n",
    "    above_threshold = np.where(f1 > F1_baseline, True, False)\n",
    "    resultRowStr= [method,hyperparam,acc,auc_roc,f1,F1_baseline,above_threshold]\n",
    "    rows = [pd.Series(resultRowStr, index=df_results.columns)]\n",
    "\n",
    "    # append the rows\n",
    "    df_results=df_results.append(rows,ignore_index=True).round(decimals=4)\n",
    "    # check the rows \n",
    "    display(df_results)"
   ]
  },
  {
   "cell_type": "markdown",
   "metadata": {},
   "source": [
    "Next, we will run a model and in our case we will run a some models to test the model with ny hyperparamters and class balance."
   ]
  },
  {
   "cell_type": "markdown",
   "metadata": {},
   "source": [
    "### Looking at models with class imbalances<a class=\"anchor\" id=\"looking\"></a>"
   ]
  },
  {
   "cell_type": "markdown",
   "metadata": {},
   "source": [
    "#### Decision Tree<a class=\"anchor\" id=\"dt_in\"></a>\n",
    "\n",
    "- No class balance \n",
    "- No hyperparamter\n",
    "-  Looking into the model and not taking account the class imbalance"
   ]
  },
  {
   "cell_type": "code",
   "execution_count": 27,
   "metadata": {},
   "outputs": [
    {
     "data": {
      "text/html": [
       "<div>\n",
       "<style scoped>\n",
       "    .dataframe tbody tr th:only-of-type {\n",
       "        vertical-align: middle;\n",
       "    }\n",
       "\n",
       "    .dataframe tbody tr th {\n",
       "        vertical-align: top;\n",
       "    }\n",
       "\n",
       "    .dataframe thead th {\n",
       "        text-align: right;\n",
       "    }\n",
       "</style>\n",
       "<table border=\"1\" class=\"dataframe\">\n",
       "  <thead>\n",
       "    <tr style=\"text-align: right;\">\n",
       "      <th></th>\n",
       "      <th>method</th>\n",
       "      <th>hyperparameters</th>\n",
       "      <th>accuracy_score</th>\n",
       "      <th>auc_roc</th>\n",
       "      <th>f1</th>\n",
       "      <th>f1_required</th>\n",
       "      <th>above_f1_threshold?</th>\n",
       "    </tr>\n",
       "  </thead>\n",
       "  <tbody>\n",
       "    <tr>\n",
       "      <td>0</td>\n",
       "      <td>Decision Tree</td>\n",
       "      <td>none</td>\n",
       "      <td>0.7988</td>\n",
       "      <td>0.6836</td>\n",
       "      <td>0.484</td>\n",
       "      <td>0.59</td>\n",
       "      <td>False</td>\n",
       "    </tr>\n",
       "  </tbody>\n",
       "</table>\n",
       "</div>"
      ],
      "text/plain": [
       "          method hyperparameters  accuracy_score  auc_roc     f1  f1_required  \\\n",
       "0  Decision Tree            none          0.7988   0.6836  0.484         0.59   \n",
       "\n",
       "  above_f1_threshold?  \n",
       "0               False  "
      ]
     },
     "metadata": {},
     "output_type": "display_data"
    }
   ],
   "source": [
    "dt = DecisionTreeClassifier(random_state=12345)\n",
    "dt.fit(x_train, y_train)\n",
    "y_pred = dt.predict(x_valid)\n",
    "method=\"Decision Tree\"\n",
    "hyperparam = \"none\"\n",
    "model_paramater(dt,x_train, y_train,method, hyperparam)"
   ]
  },
  {
   "cell_type": "markdown",
   "metadata": {},
   "source": [
    "We can see that our model with no hyperparameters and does not give an f1 value that passes the threshold."
   ]
  },
  {
   "cell_type": "markdown",
   "metadata": {},
   "source": [
    "#### Random Forest<a class=\"anchor\" id=\"rf_in\"></a>\n",
    "- Looking into the model and not taking account the class imbalance."
   ]
  },
  {
   "cell_type": "code",
   "execution_count": 28,
   "metadata": {},
   "outputs": [
    {
     "data": {
      "text/html": [
       "<div>\n",
       "<style scoped>\n",
       "    .dataframe tbody tr th:only-of-type {\n",
       "        vertical-align: middle;\n",
       "    }\n",
       "\n",
       "    .dataframe tbody tr th {\n",
       "        vertical-align: top;\n",
       "    }\n",
       "\n",
       "    .dataframe thead th {\n",
       "        text-align: right;\n",
       "    }\n",
       "</style>\n",
       "<table border=\"1\" class=\"dataframe\">\n",
       "  <thead>\n",
       "    <tr style=\"text-align: right;\">\n",
       "      <th></th>\n",
       "      <th>method</th>\n",
       "      <th>hyperparameters</th>\n",
       "      <th>accuracy_score</th>\n",
       "      <th>auc_roc</th>\n",
       "      <th>f1</th>\n",
       "      <th>f1_required</th>\n",
       "      <th>above_f1_threshold?</th>\n",
       "    </tr>\n",
       "  </thead>\n",
       "  <tbody>\n",
       "    <tr>\n",
       "      <td>0</td>\n",
       "      <td>Decision Tree</td>\n",
       "      <td>none</td>\n",
       "      <td>0.7988</td>\n",
       "      <td>0.6836</td>\n",
       "      <td>0.484</td>\n",
       "      <td>0.59</td>\n",
       "      <td>False</td>\n",
       "    </tr>\n",
       "    <tr>\n",
       "      <td>1</td>\n",
       "      <td>Random Forest</td>\n",
       "      <td>none</td>\n",
       "      <td>0.8600</td>\n",
       "      <td>0.6974</td>\n",
       "      <td>0.541</td>\n",
       "      <td>0.59</td>\n",
       "      <td>False</td>\n",
       "    </tr>\n",
       "  </tbody>\n",
       "</table>\n",
       "</div>"
      ],
      "text/plain": [
       "          method hyperparameters  accuracy_score  auc_roc     f1  f1_required  \\\n",
       "0  Decision Tree            none          0.7988   0.6836  0.484         0.59   \n",
       "1  Random Forest            none          0.8600   0.6974  0.541         0.59   \n",
       "\n",
       "  above_f1_threshold?  \n",
       "0               False  \n",
       "1               False  "
      ]
     },
     "metadata": {},
     "output_type": "display_data"
    }
   ],
   "source": [
    "rf = RandomForestClassifier(random_state=12345)\n",
    "rf.fit(x_train, y_train)\n",
    "y_pred = rf.predict(x_valid)\n",
    "method=\"Random Forest\"\n",
    "hyperparam = \"none\"\n",
    "model_paramater(rf,x_train, y_train,method, hyperparam)"
   ]
  },
  {
   "cell_type": "markdown",
   "metadata": {},
   "source": [
    "We can see that our model with no hyperparameters and does not give an f1 value that passes the threshold, but the results for random forest aren't too far away from the threshold."
   ]
  },
  {
   "cell_type": "markdown",
   "metadata": {},
   "source": [
    "#### Logistic Regression<a class=\"anchor\" id=\"lr_in\"></a>\n",
    "\n",
    "- Looking into the model and not taking account the class imbalance"
   ]
  },
  {
   "cell_type": "code",
   "execution_count": 29,
   "metadata": {
    "scrolled": true
   },
   "outputs": [
    {
     "data": {
      "text/html": [
       "<div>\n",
       "<style scoped>\n",
       "    .dataframe tbody tr th:only-of-type {\n",
       "        vertical-align: middle;\n",
       "    }\n",
       "\n",
       "    .dataframe tbody tr th {\n",
       "        vertical-align: top;\n",
       "    }\n",
       "\n",
       "    .dataframe thead th {\n",
       "        text-align: right;\n",
       "    }\n",
       "</style>\n",
       "<table border=\"1\" class=\"dataframe\">\n",
       "  <thead>\n",
       "    <tr style=\"text-align: right;\">\n",
       "      <th></th>\n",
       "      <th>method</th>\n",
       "      <th>hyperparameters</th>\n",
       "      <th>accuracy_score</th>\n",
       "      <th>auc_roc</th>\n",
       "      <th>f1</th>\n",
       "      <th>f1_required</th>\n",
       "      <th>above_f1_threshold?</th>\n",
       "    </tr>\n",
       "  </thead>\n",
       "  <tbody>\n",
       "    <tr>\n",
       "      <td>0</td>\n",
       "      <td>Decision Tree</td>\n",
       "      <td>none</td>\n",
       "      <td>0.7988</td>\n",
       "      <td>0.6836</td>\n",
       "      <td>0.4840</td>\n",
       "      <td>0.59</td>\n",
       "      <td>False</td>\n",
       "    </tr>\n",
       "    <tr>\n",
       "      <td>1</td>\n",
       "      <td>Random Forest</td>\n",
       "      <td>none</td>\n",
       "      <td>0.8600</td>\n",
       "      <td>0.6974</td>\n",
       "      <td>0.5410</td>\n",
       "      <td>0.59</td>\n",
       "      <td>False</td>\n",
       "    </tr>\n",
       "    <tr>\n",
       "      <td>2</td>\n",
       "      <td>LogisticRegression</td>\n",
       "      <td>none</td>\n",
       "      <td>0.8175</td>\n",
       "      <td>0.5890</td>\n",
       "      <td>0.3146</td>\n",
       "      <td>0.59</td>\n",
       "      <td>False</td>\n",
       "    </tr>\n",
       "  </tbody>\n",
       "</table>\n",
       "</div>"
      ],
      "text/plain": [
       "               method hyperparameters  accuracy_score  auc_roc      f1  \\\n",
       "0       Decision Tree            none          0.7988   0.6836  0.4840   \n",
       "1       Random Forest            none          0.8600   0.6974  0.5410   \n",
       "2  LogisticRegression            none          0.8175   0.5890  0.3146   \n",
       "\n",
       "   f1_required above_f1_threshold?  \n",
       "0         0.59               False  \n",
       "1         0.59               False  \n",
       "2         0.59               False  "
      ]
     },
     "metadata": {},
     "output_type": "display_data"
    }
   ],
   "source": [
    "lr = LogisticRegression(random_state=12345,solver='liblinear')\n",
    "lr.fit(x_train, y_train)     \n",
    "y_pred = lr.predict(x_valid)\n",
    "method=\"LogisticRegression\"\n",
    "hyperparam = \"none\"\n",
    "model_paramater(lr,x_train, y_train,method, hyperparam)"
   ]
  },
  {
   "cell_type": "markdown",
   "metadata": {},
   "source": [
    "We can see that our model with no hyperparamters and does not give a f1 value that passes the threshold."
   ]
  },
  {
   "cell_type": "code",
   "execution_count": 30,
   "metadata": {},
   "outputs": [
    {
     "name": "stdout",
     "output_type": "stream",
     "text": [
      "0    0.923125\n",
      "1    0.076875\n",
      "dtype: float64\n"
     ]
    },
    {
     "data": {
      "image/png": "[encoded data removed]",
      "text/plain": [
       "<Figure size 432x288 with 1 Axes>"
      ]
     },
     "metadata": {
      "needs_background": "light"
     },
     "output_type": "display_data"
    }
   ],
   "source": [
    "#sanity check \n",
    "test_predictions = pd.Series(lr.predict(x_valid))\n",
    "class_frequency = test_predictions.value_counts(normalize=True)\n",
    "print(class_frequency)\n",
    "class_frequency.plot(kind='bar');"
   ]
  },
  {
   "cell_type": "markdown",
   "metadata": {},
   "source": [
    "Without taking into account the imbalance of the classes we found our f1 score to be lower then the baseline. In addition, we from checking the prediction of our logistic regression model we can see how often people leave and found the data to be skewed and inbalanced with more data taking 0 than 1 which needs to be fixed."
   ]
  },
  {
   "cell_type": "markdown",
   "metadata": {},
   "source": [
    "### Fixing inbalanced classes<a class=\"anchor\" id=\"fix\"></a>\n",
    "\n",
    "For fixing class imbalance we will try\n",
    " - Upsampling\n",
    " \n",
    " - Downsampling\n",
    " \n",
    " - Class Weight Adjustment"
   ]
  },
  {
   "cell_type": "markdown",
   "metadata": {},
   "source": [
    "#### Upsampling<a class=\"anchor\" id=\"upsample\"></a>\n",
    "Upsampling means to increse the number of samples which are less in number.\n"
   ]
  },
  {
   "cell_type": "code",
   "execution_count": 34,
   "metadata": {},
   "outputs": [],
   "source": [
    "def upsample(features, target, repeat):\n",
    "    features_zeros = features[target == 0]\n",
    "    features_ones = features[target == 1]\n",
    "    target_zeros = target[target == 0]\n",
    "    target_ones = target[target == 1]\n",
    "    #Use the pd.concat() function to concatenate the tables. \n",
    "    features_upsampled = pd.concat([features_zeros] + [features_ones] * repeat)\n",
    "    target_upsampled = pd.concat([target_zeros] + [target_ones] * repeat)\n",
    "\n",
    "    features_upsampled, target_upsampled = shuffle(\n",
    "        features_upsampled, target_upsampled, random_state=12345\n",
    "    )\n",
    "\n",
    "    return features_upsampled, target_upsampled\n",
    "\n",
    "features_upsampled, target_upsampled = upsample(x_train, y_train, 10)\n"
   ]
  },
  {
   "cell_type": "markdown",
   "metadata": {},
   "source": [
    "##### Logistic Regresion<a class=\"anchor\" id=\"lr_up\"></a>\n",
    "- upsampled\n",
    "- balanced class weight"
   ]
  },
  {
   "cell_type": "code",
   "execution_count": 36,
   "metadata": {},
   "outputs": [
    {
     "data": {
      "text/html": [
       "<div>\n",
       "<style scoped>\n",
       "    .dataframe tbody tr th:only-of-type {\n",
       "        vertical-align: middle;\n",
       "    }\n",
       "\n",
       "    .dataframe tbody tr th {\n",
       "        vertical-align: top;\n",
       "    }\n",
       "\n",
       "    .dataframe thead th {\n",
       "        text-align: right;\n",
       "    }\n",
       "</style>\n",
       "<table border=\"1\" class=\"dataframe\">\n",
       "  <thead>\n",
       "    <tr style=\"text-align: right;\">\n",
       "      <th></th>\n",
       "      <th>method</th>\n",
       "      <th>hyperparameters</th>\n",
       "      <th>accuracy_score</th>\n",
       "      <th>auc_roc</th>\n",
       "      <th>f1</th>\n",
       "      <th>f1_required</th>\n",
       "      <th>above_f1_threshold?</th>\n",
       "    </tr>\n",
       "  </thead>\n",
       "  <tbody>\n",
       "    <tr>\n",
       "      <td>0</td>\n",
       "      <td>Decision Tree</td>\n",
       "      <td>none</td>\n",
       "      <td>0.7988</td>\n",
       "      <td>0.6836</td>\n",
       "      <td>0.4840</td>\n",
       "      <td>0.59</td>\n",
       "      <td>False</td>\n",
       "    </tr>\n",
       "    <tr>\n",
       "      <td>1</td>\n",
       "      <td>Random Forest</td>\n",
       "      <td>none</td>\n",
       "      <td>0.8600</td>\n",
       "      <td>0.6974</td>\n",
       "      <td>0.5410</td>\n",
       "      <td>0.59</td>\n",
       "      <td>False</td>\n",
       "    </tr>\n",
       "    <tr>\n",
       "      <td>2</td>\n",
       "      <td>LogisticRegression</td>\n",
       "      <td>none</td>\n",
       "      <td>0.8175</td>\n",
       "      <td>0.5890</td>\n",
       "      <td>0.3146</td>\n",
       "      <td>0.59</td>\n",
       "      <td>False</td>\n",
       "    </tr>\n",
       "    <tr>\n",
       "      <td>3</td>\n",
       "      <td>LogisticRegression</td>\n",
       "      <td>Balanced, upsampled</td>\n",
       "      <td>0.7069</td>\n",
       "      <td>0.6953</td>\n",
       "      <td>0.4664</td>\n",
       "      <td>0.59</td>\n",
       "      <td>False</td>\n",
       "    </tr>\n",
       "  </tbody>\n",
       "</table>\n",
       "</div>"
      ],
      "text/plain": [
       "               method      hyperparameters  accuracy_score  auc_roc      f1  \\\n",
       "0       Decision Tree                 none          0.7988   0.6836  0.4840   \n",
       "1       Random Forest                 none          0.8600   0.6974  0.5410   \n",
       "2  LogisticRegression                 none          0.8175   0.5890  0.3146   \n",
       "3  LogisticRegression  Balanced, upsampled          0.7069   0.6953  0.4664   \n",
       "\n",
       "   f1_required above_f1_threshold?  \n",
       "0         0.59               False  \n",
       "1         0.59               False  \n",
       "2         0.59               False  \n",
       "3         0.59               False  "
      ]
     },
     "metadata": {},
     "output_type": "display_data"
    }
   ],
   "source": [
    "#upsampling with logistic regression\n",
    "model_lr = LogisticRegression(solver='liblinear', class_weight='balanced',random_state = 12345)\n",
    "model_lr.fit(features_upsampled, target_upsampled)\n",
    "predicted_lr = model_lr.predict(x_valid)\n",
    "#model_evaluation(y_valid, predicted_lr)\n",
    "method=\"LogisticRegression\"\n",
    "hyperparam=\"Balanced, upsampled\"  \n",
    "model_paramater(model_lr,features_upsampled, target_upsampled,method, hyperparam)"
   ]
  },
  {
   "cell_type": "markdown",
   "metadata": {},
   "source": [
    " The new f1-score showes that our data got balanced and improvement from our previous score of  0.35."
   ]
  },
  {
   "cell_type": "markdown",
   "metadata": {},
   "source": [
    "##### Random Forest<a class=\"anchor\" id=\"rf_up\"></a>\n",
    "\n",
    "- use upsampling\n",
    "- hyperperamaters\n",
    "- balanced class"
   ]
  },
  {
   "cell_type": "code",
   "execution_count": 37,
   "metadata": {
    "scrolled": true
   },
   "outputs": [
    {
     "name": "stdout",
     "output_type": "stream",
     "text": [
      "f1Score: 0.49875311720698257 Depth: 1\n",
      "f1Score: 0.5286783042394015 Depth: 2\n",
      "f1Score: 0.5323910482921084 Depth: 3\n",
      "f1Score: 0.5358490566037736 Depth: 4\n",
      "f1Score: 0.5456953642384106 Depth: 5\n",
      "f1Score: 0.5627476882430648 Depth: 6\n",
      "f1Score: 0.5649263721552877 Depth: 7\n",
      "f1Score: 0.5702592087312415 Depth: 8\n",
      "f1Score: 0.575 Depth: 9\n",
      "f1Score: 0.5862552594670406 Depth: 10\n",
      "f1Score: 0.5880597014925373 Depth: 11\n",
      "f1Score: 0.5894736842105263 Depth: 12\n",
      "f1Score: 0.6009389671361502 Depth: 13\n",
      "f1Score: 0.5922330097087379 Depth: 14\n",
      " The max Depth:  13\n"
     ]
    },
    {
     "data": {
      "text/html": [
       "<div>\n",
       "<style scoped>\n",
       "    .dataframe tbody tr th:only-of-type {\n",
       "        vertical-align: middle;\n",
       "    }\n",
       "\n",
       "    .dataframe tbody tr th {\n",
       "        vertical-align: top;\n",
       "    }\n",
       "\n",
       "    .dataframe thead th {\n",
       "        text-align: right;\n",
       "    }\n",
       "</style>\n",
       "<table border=\"1\" class=\"dataframe\">\n",
       "  <thead>\n",
       "    <tr style=\"text-align: right;\">\n",
       "      <th></th>\n",
       "      <th>method</th>\n",
       "      <th>hyperparameters</th>\n",
       "      <th>accuracy_score</th>\n",
       "      <th>auc_roc</th>\n",
       "      <th>f1</th>\n",
       "      <th>f1_required</th>\n",
       "      <th>above_f1_threshold?</th>\n",
       "    </tr>\n",
       "  </thead>\n",
       "  <tbody>\n",
       "    <tr>\n",
       "      <td>0</td>\n",
       "      <td>Decision Tree</td>\n",
       "      <td>none</td>\n",
       "      <td>0.7988</td>\n",
       "      <td>0.6836</td>\n",
       "      <td>0.4840</td>\n",
       "      <td>0.59</td>\n",
       "      <td>False</td>\n",
       "    </tr>\n",
       "    <tr>\n",
       "      <td>1</td>\n",
       "      <td>Random Forest</td>\n",
       "      <td>none</td>\n",
       "      <td>0.8600</td>\n",
       "      <td>0.6974</td>\n",
       "      <td>0.5410</td>\n",
       "      <td>0.59</td>\n",
       "      <td>False</td>\n",
       "    </tr>\n",
       "    <tr>\n",
       "      <td>2</td>\n",
       "      <td>LogisticRegression</td>\n",
       "      <td>none</td>\n",
       "      <td>0.8175</td>\n",
       "      <td>0.5890</td>\n",
       "      <td>0.3146</td>\n",
       "      <td>0.59</td>\n",
       "      <td>False</td>\n",
       "    </tr>\n",
       "    <tr>\n",
       "      <td>3</td>\n",
       "      <td>LogisticRegression</td>\n",
       "      <td>Balanced, upsampled</td>\n",
       "      <td>0.7069</td>\n",
       "      <td>0.6953</td>\n",
       "      <td>0.4664</td>\n",
       "      <td>0.59</td>\n",
       "      <td>False</td>\n",
       "    </tr>\n",
       "    <tr>\n",
       "      <td>4</td>\n",
       "      <td>RandomForestClassifier</td>\n",
       "      <td>Balanced, upsampled, depth: 13</td>\n",
       "      <td>0.8425</td>\n",
       "      <td>0.7599</td>\n",
       "      <td>0.6013</td>\n",
       "      <td>0.59</td>\n",
       "      <td>True</td>\n",
       "    </tr>\n",
       "  </tbody>\n",
       "</table>\n",
       "</div>"
      ],
      "text/plain": [
       "                   method                 hyperparameters  accuracy_score  \\\n",
       "0           Decision Tree                            none          0.7988   \n",
       "1           Random Forest                            none          0.8600   \n",
       "2      LogisticRegression                            none          0.8175   \n",
       "3      LogisticRegression             Balanced, upsampled          0.7069   \n",
       "4  RandomForestClassifier  Balanced, upsampled, depth: 13          0.8425   \n",
       "\n",
       "   auc_roc      f1  f1_required above_f1_threshold?  \n",
       "0   0.6836  0.4840         0.59               False  \n",
       "1   0.6974  0.5410         0.59               False  \n",
       "2   0.5890  0.3146         0.59               False  \n",
       "3   0.6953  0.4664         0.59               False  \n",
       "4   0.7599  0.6013         0.59                True  "
      ]
     },
     "metadata": {},
     "output_type": "display_data"
    }
   ],
   "source": [
    "old_score=0\n",
    "depth_val=0\n",
    "for depth in range(1, 15):\n",
    "    model = RandomForestClassifier(n_estimators=50, max_depth=depth, random_state=12345, class_weight='balanced')\n",
    "    model.fit(features_upsampled, target_upsampled)\n",
    "    predicted_valid = model.predict(x_valid)\n",
    "    f1_score_val = f1_score(y_valid,predicted_valid)\n",
    "    print(\"f1Score:\",f1_score_val,\"Depth:\",depth)\n",
    "    if (f1_score_val > old_score):\n",
    "        old_score = f1_score_val\n",
    "        depth_val=depth\n",
    "print(' The max Depth: ',depth_val)\n",
    "\n",
    "model = RandomForestClassifier(n_estimators=100, max_depth=depth_val, random_state=12345,  class_weight='balanced')\n",
    "method=\"RandomForestClassifier\"\n",
    "hyperparam = \"Balanced, upsampled, depth: \"+str(depth_val)\n",
    "model_paramater(model,features_upsampled, target_upsampled,method, hyperparam)"
   ]
  },
  {
   "cell_type": "markdown",
   "metadata": {},
   "source": [
    "The Random Forest Classifier model seems to be the best model so far with a better f1 score and accuracy score compared to Logistic Regression."
   ]
  },
  {
   "cell_type": "markdown",
   "metadata": {},
   "source": [
    "##### Dession Tree<a class=\"anchor\" id=\"dt_up\"></a>\n",
    "\n",
    "- Upsampling\n",
    "- hyperperamaters\n",
    "- balanced classes"
   ]
  },
  {
   "cell_type": "code",
   "execution_count": 38,
   "metadata": {},
   "outputs": [
    {
     "name": "stdout",
     "output_type": "stream",
     "text": [
      "max_depth = 1 :  0.735625\n",
      "max_depth = 2 :  0.743125\n",
      "max_depth = 3 :  0.743125\n",
      "max_depth = 4 :  0.756875\n",
      "max_depth = 5 :  0.77\n",
      "max_depth = 6 :  0.778125\n",
      "max_depth = 7 :  0.771875\n",
      "max_depth = 8 :  0.778125\n",
      "max_depth = 9 :  0.770625\n",
      "max_depth = 10 :  0.76875\n",
      "max_depth = 11 :  0.759375\n",
      "max_depth = 12 :  0.76\n",
      "max_depth = 13 :  0.766875\n",
      "max_depth = 14 :  0.78125\n",
      "The max depth:  14  The f1 score 0.78125\n"
     ]
    },
    {
     "data": {
      "text/html": [
       "<div>\n",
       "<style scoped>\n",
       "    .dataframe tbody tr th:only-of-type {\n",
       "        vertical-align: middle;\n",
       "    }\n",
       "\n",
       "    .dataframe tbody tr th {\n",
       "        vertical-align: top;\n",
       "    }\n",
       "\n",
       "    .dataframe thead th {\n",
       "        text-align: right;\n",
       "    }\n",
       "</style>\n",
       "<table border=\"1\" class=\"dataframe\">\n",
       "  <thead>\n",
       "    <tr style=\"text-align: right;\">\n",
       "      <th></th>\n",
       "      <th>method</th>\n",
       "      <th>hyperparameters</th>\n",
       "      <th>accuracy_score</th>\n",
       "      <th>auc_roc</th>\n",
       "      <th>f1</th>\n",
       "      <th>f1_required</th>\n",
       "      <th>above_f1_threshold?</th>\n",
       "    </tr>\n",
       "  </thead>\n",
       "  <tbody>\n",
       "    <tr>\n",
       "      <td>0</td>\n",
       "      <td>Decision Tree</td>\n",
       "      <td>none</td>\n",
       "      <td>0.7988</td>\n",
       "      <td>0.6836</td>\n",
       "      <td>0.4840</td>\n",
       "      <td>0.59</td>\n",
       "      <td>False</td>\n",
       "    </tr>\n",
       "    <tr>\n",
       "      <td>1</td>\n",
       "      <td>Random Forest</td>\n",
       "      <td>none</td>\n",
       "      <td>0.8600</td>\n",
       "      <td>0.6974</td>\n",
       "      <td>0.5410</td>\n",
       "      <td>0.59</td>\n",
       "      <td>False</td>\n",
       "    </tr>\n",
       "    <tr>\n",
       "      <td>2</td>\n",
       "      <td>LogisticRegression</td>\n",
       "      <td>none</td>\n",
       "      <td>0.8175</td>\n",
       "      <td>0.5890</td>\n",
       "      <td>0.3146</td>\n",
       "      <td>0.59</td>\n",
       "      <td>False</td>\n",
       "    </tr>\n",
       "    <tr>\n",
       "      <td>3</td>\n",
       "      <td>LogisticRegression</td>\n",
       "      <td>Balanced, upsampled</td>\n",
       "      <td>0.7069</td>\n",
       "      <td>0.6953</td>\n",
       "      <td>0.4664</td>\n",
       "      <td>0.59</td>\n",
       "      <td>False</td>\n",
       "    </tr>\n",
       "    <tr>\n",
       "      <td>4</td>\n",
       "      <td>RandomForestClassifier</td>\n",
       "      <td>Balanced, upsampled, depth: 13</td>\n",
       "      <td>0.8425</td>\n",
       "      <td>0.7599</td>\n",
       "      <td>0.6013</td>\n",
       "      <td>0.59</td>\n",
       "      <td>True</td>\n",
       "    </tr>\n",
       "    <tr>\n",
       "      <td>5</td>\n",
       "      <td>DecisionTreeClassifier</td>\n",
       "      <td>Balanced,Upsampled, depth: 14</td>\n",
       "      <td>0.7812</td>\n",
       "      <td>0.6830</td>\n",
       "      <td>0.4760</td>\n",
       "      <td>0.59</td>\n",
       "      <td>False</td>\n",
       "    </tr>\n",
       "  </tbody>\n",
       "</table>\n",
       "</div>"
      ],
      "text/plain": [
       "                   method                 hyperparameters  accuracy_score  \\\n",
       "0           Decision Tree                            none          0.7988   \n",
       "1           Random Forest                            none          0.8600   \n",
       "2      LogisticRegression                            none          0.8175   \n",
       "3      LogisticRegression             Balanced, upsampled          0.7069   \n",
       "4  RandomForestClassifier  Balanced, upsampled, depth: 13          0.8425   \n",
       "5  DecisionTreeClassifier   Balanced,Upsampled, depth: 14          0.7812   \n",
       "\n",
       "   auc_roc      f1  f1_required above_f1_threshold?  \n",
       "0   0.6836  0.4840         0.59               False  \n",
       "1   0.6974  0.5410         0.59               False  \n",
       "2   0.5890  0.3146         0.59               False  \n",
       "3   0.6953  0.4664         0.59               False  \n",
       "4   0.7599  0.6013         0.59                True  \n",
       "5   0.6830  0.4760         0.59               False  "
      ]
     },
     "metadata": {},
     "output_type": "display_data"
    }
   ],
   "source": [
    "highest_score=0\n",
    "highDepth=0\n",
    "for depth in range(1, 15):\n",
    "    dt = DecisionTreeClassifier(max_depth = depth,class_weight = 'balanced', random_state=12345)# <create a model,specify max_depth=depth >\n",
    "    # < train the model >\n",
    "    dt.fit(features_upsampled, target_upsampled)\n",
    "    dt_predictions_valid1 = dt.predict(x_valid)# < find the predictions using validation set >\n",
    "    dt_f1 = accuracy_score(y_valid, dt_predictions_valid1)\n",
    "    print(\"max_depth =\", depth, \": \", dt_f1)\n",
    "        \n",
    "    if (dt_f1 > highest_score):\n",
    "        highest_score = dt_f1\n",
    "        highDepth = depth\n",
    "print('The max depth: ', highDepth,' The f1 score', highest_score)\n",
    "method=\"DecisionTreeClassifier\"\n",
    "hyperparam = \"Balanced,Upsampled, depth: \"+str(highDepth)\n",
    "model = DecisionTreeClassifier(max_depth=highDepth,class_weight='balanced',random_state=12345)\n",
    "model_paramater(model,features_upsampled, target_upsampled,method, hyperparam)\n"
   ]
  },
  {
   "cell_type": "markdown",
   "metadata": {},
   "source": [
    "#### Downsampling<a class=\"anchor\" id=\"downsampling\"></a>\n"
   ]
  },
  {
   "cell_type": "code",
   "execution_count": 39,
   "metadata": {},
   "outputs": [],
   "source": [
    "#sownsample function\n",
    "def downsample(features, target, fraction):\n",
    "    features_zeros = features[target == 0]\n",
    "    features_ones = features[target == 1]\n",
    "    target_zeros = target[target == 0]\n",
    "    target_ones = target[target == 1]\n",
    "\n",
    "    features_downsampled = pd.concat(\n",
    "        [features_zeros.sample(frac=fraction, random_state=12345)]\n",
    "        + [features_ones]\n",
    "    )\n",
    "    target_downsampled = pd.concat(\n",
    "        [target_zeros.sample(frac=fraction, random_state=12345)]\n",
    "        + [target_ones]\n",
    "    )\n",
    "\n",
    "    features_downsampled, target_downsampled = shuffle(\n",
    "        features_downsampled, target_downsampled, random_state=12345\n",
    "    )\n",
    "\n",
    "    return features_downsampled, target_downsampled\n",
    "\n",
    "\n",
    "features_downsampled, target_downsampled = downsample( x_train, y_train, 0.1)\n"
   ]
  },
  {
   "cell_type": "markdown",
   "metadata": {},
   "source": [
    "##### Logistic Regression<a class=\"anchor\" id=\"lr_dw\"></a>"
   ]
  },
  {
   "cell_type": "code",
   "execution_count": 40,
   "metadata": {},
   "outputs": [
    {
     "data": {
      "text/html": [
       "<div>\n",
       "<style scoped>\n",
       "    .dataframe tbody tr th:only-of-type {\n",
       "        vertical-align: middle;\n",
       "    }\n",
       "\n",
       "    .dataframe tbody tr th {\n",
       "        vertical-align: top;\n",
       "    }\n",
       "\n",
       "    .dataframe thead th {\n",
       "        text-align: right;\n",
       "    }\n",
       "</style>\n",
       "<table border=\"1\" class=\"dataframe\">\n",
       "  <thead>\n",
       "    <tr style=\"text-align: right;\">\n",
       "      <th></th>\n",
       "      <th>method</th>\n",
       "      <th>hyperparameters</th>\n",
       "      <th>accuracy_score</th>\n",
       "      <th>auc_roc</th>\n",
       "      <th>f1</th>\n",
       "      <th>f1_required</th>\n",
       "      <th>above_f1_threshold?</th>\n",
       "    </tr>\n",
       "  </thead>\n",
       "  <tbody>\n",
       "    <tr>\n",
       "      <td>0</td>\n",
       "      <td>Decision Tree</td>\n",
       "      <td>none</td>\n",
       "      <td>0.7988</td>\n",
       "      <td>0.6836</td>\n",
       "      <td>0.4840</td>\n",
       "      <td>0.59</td>\n",
       "      <td>False</td>\n",
       "    </tr>\n",
       "    <tr>\n",
       "      <td>1</td>\n",
       "      <td>Random Forest</td>\n",
       "      <td>none</td>\n",
       "      <td>0.8600</td>\n",
       "      <td>0.6974</td>\n",
       "      <td>0.5410</td>\n",
       "      <td>0.59</td>\n",
       "      <td>False</td>\n",
       "    </tr>\n",
       "    <tr>\n",
       "      <td>2</td>\n",
       "      <td>LogisticRegression</td>\n",
       "      <td>none</td>\n",
       "      <td>0.8175</td>\n",
       "      <td>0.5890</td>\n",
       "      <td>0.3146</td>\n",
       "      <td>0.59</td>\n",
       "      <td>False</td>\n",
       "    </tr>\n",
       "    <tr>\n",
       "      <td>3</td>\n",
       "      <td>LogisticRegression</td>\n",
       "      <td>Balanced, upsampled</td>\n",
       "      <td>0.7069</td>\n",
       "      <td>0.6953</td>\n",
       "      <td>0.4664</td>\n",
       "      <td>0.59</td>\n",
       "      <td>False</td>\n",
       "    </tr>\n",
       "    <tr>\n",
       "      <td>4</td>\n",
       "      <td>RandomForestClassifier</td>\n",
       "      <td>Balanced, upsampled, depth: 13</td>\n",
       "      <td>0.8425</td>\n",
       "      <td>0.7599</td>\n",
       "      <td>0.6013</td>\n",
       "      <td>0.59</td>\n",
       "      <td>True</td>\n",
       "    </tr>\n",
       "    <tr>\n",
       "      <td>5</td>\n",
       "      <td>DecisionTreeClassifier</td>\n",
       "      <td>Balanced,Upsampled, depth: 14</td>\n",
       "      <td>0.7812</td>\n",
       "      <td>0.6830</td>\n",
       "      <td>0.4760</td>\n",
       "      <td>0.59</td>\n",
       "      <td>False</td>\n",
       "    </tr>\n",
       "    <tr>\n",
       "      <td>6</td>\n",
       "      <td>LogisticRegression</td>\n",
       "      <td>Balanced, downsampled</td>\n",
       "      <td>0.7031</td>\n",
       "      <td>0.6967</td>\n",
       "      <td>0.4669</td>\n",
       "      <td>0.59</td>\n",
       "      <td>False</td>\n",
       "    </tr>\n",
       "  </tbody>\n",
       "</table>\n",
       "</div>"
      ],
      "text/plain": [
       "                   method                 hyperparameters  accuracy_score  \\\n",
       "0           Decision Tree                            none          0.7988   \n",
       "1           Random Forest                            none          0.8600   \n",
       "2      LogisticRegression                            none          0.8175   \n",
       "3      LogisticRegression             Balanced, upsampled          0.7069   \n",
       "4  RandomForestClassifier  Balanced, upsampled, depth: 13          0.8425   \n",
       "5  DecisionTreeClassifier   Balanced,Upsampled, depth: 14          0.7812   \n",
       "6      LogisticRegression           Balanced, downsampled          0.7031   \n",
       "\n",
       "   auc_roc      f1  f1_required above_f1_threshold?  \n",
       "0   0.6836  0.4840         0.59               False  \n",
       "1   0.6974  0.5410         0.59               False  \n",
       "2   0.5890  0.3146         0.59               False  \n",
       "3   0.6953  0.4664         0.59               False  \n",
       "4   0.7599  0.6013         0.59                True  \n",
       "5   0.6830  0.4760         0.59               False  \n",
       "6   0.6967  0.4669         0.59               False  "
      ]
     },
     "metadata": {},
     "output_type": "display_data"
    }
   ],
   "source": [
    "#downsamplingsampling with logistic regression\n",
    "model_lr = LogisticRegression(solver='liblinear', class_weight='balanced',random_state = 12345)\n",
    "model_lr.fit(features_downsampled, target_downsampled)\n",
    "predicted_lr = model_lr.predict(x_valid)\n",
    "#model_evaluation(y_valid, predicted_lr)\n",
    "method=\"LogisticRegression\"\n",
    "hyperparam=\"Balanced, downsampled\"  \n",
    "model_paramater(model_lr,features_downsampled, target_downsampled,method, hyperparam)"
   ]
  },
  {
   "cell_type": "markdown",
   "metadata": {},
   "source": [
    "##### Random Forest<a class=\"anchor\" id=\"rf_dw\"></a>"
   ]
  },
  {
   "cell_type": "code",
   "execution_count": 41,
   "metadata": {},
   "outputs": [
    {
     "name": "stdout",
     "output_type": "stream",
     "text": [
      "f1Score: 0.5024630541871921 Depth: 1\n",
      "f1Score: 0.5304010349288487 Depth: 2\n",
      "f1Score: 0.5245901639344261 Depth: 3\n",
      "f1Score: 0.5362134688691232 Depth: 4\n",
      "f1Score: 0.5292682926829267 Depth: 5\n",
      "f1Score: 0.5252051582649473 Depth: 6\n",
      "f1Score: 0.5119305856832972 Depth: 7\n",
      "f1Score: 0.5 Depth: 8\n",
      "f1Score: 0.48940269749518306 Depth: 9\n",
      " The max Depth:  4\n"
     ]
    },
    {
     "data": {
      "text/html": [
       "<div>\n",
       "<style scoped>\n",
       "    .dataframe tbody tr th:only-of-type {\n",
       "        vertical-align: middle;\n",
       "    }\n",
       "\n",
       "    .dataframe tbody tr th {\n",
       "        vertical-align: top;\n",
       "    }\n",
       "\n",
       "    .dataframe thead th {\n",
       "        text-align: right;\n",
       "    }\n",
       "</style>\n",
       "<table border=\"1\" class=\"dataframe\">\n",
       "  <thead>\n",
       "    <tr style=\"text-align: right;\">\n",
       "      <th></th>\n",
       "      <th>method</th>\n",
       "      <th>hyperparameters</th>\n",
       "      <th>accuracy_score</th>\n",
       "      <th>auc_roc</th>\n",
       "      <th>f1</th>\n",
       "      <th>f1_required</th>\n",
       "      <th>above_f1_threshold?</th>\n",
       "    </tr>\n",
       "  </thead>\n",
       "  <tbody>\n",
       "    <tr>\n",
       "      <td>0</td>\n",
       "      <td>Decision Tree</td>\n",
       "      <td>none</td>\n",
       "      <td>0.7988</td>\n",
       "      <td>0.6836</td>\n",
       "      <td>0.4840</td>\n",
       "      <td>0.59</td>\n",
       "      <td>False</td>\n",
       "    </tr>\n",
       "    <tr>\n",
       "      <td>1</td>\n",
       "      <td>Random Forest</td>\n",
       "      <td>none</td>\n",
       "      <td>0.8600</td>\n",
       "      <td>0.6974</td>\n",
       "      <td>0.5410</td>\n",
       "      <td>0.59</td>\n",
       "      <td>False</td>\n",
       "    </tr>\n",
       "    <tr>\n",
       "      <td>2</td>\n",
       "      <td>LogisticRegression</td>\n",
       "      <td>none</td>\n",
       "      <td>0.8175</td>\n",
       "      <td>0.5890</td>\n",
       "      <td>0.3146</td>\n",
       "      <td>0.59</td>\n",
       "      <td>False</td>\n",
       "    </tr>\n",
       "    <tr>\n",
       "      <td>3</td>\n",
       "      <td>LogisticRegression</td>\n",
       "      <td>Balanced, upsampled</td>\n",
       "      <td>0.7069</td>\n",
       "      <td>0.6953</td>\n",
       "      <td>0.4664</td>\n",
       "      <td>0.59</td>\n",
       "      <td>False</td>\n",
       "    </tr>\n",
       "    <tr>\n",
       "      <td>4</td>\n",
       "      <td>RandomForestClassifier</td>\n",
       "      <td>Balanced, upsampled, depth: 13</td>\n",
       "      <td>0.8425</td>\n",
       "      <td>0.7599</td>\n",
       "      <td>0.6013</td>\n",
       "      <td>0.59</td>\n",
       "      <td>True</td>\n",
       "    </tr>\n",
       "    <tr>\n",
       "      <td>5</td>\n",
       "      <td>DecisionTreeClassifier</td>\n",
       "      <td>Balanced,Upsampled, depth: 14</td>\n",
       "      <td>0.7812</td>\n",
       "      <td>0.6830</td>\n",
       "      <td>0.4760</td>\n",
       "      <td>0.59</td>\n",
       "      <td>False</td>\n",
       "    </tr>\n",
       "    <tr>\n",
       "      <td>6</td>\n",
       "      <td>LogisticRegression</td>\n",
       "      <td>Balanced, downsampled</td>\n",
       "      <td>0.7031</td>\n",
       "      <td>0.6967</td>\n",
       "      <td>0.4669</td>\n",
       "      <td>0.59</td>\n",
       "      <td>False</td>\n",
       "    </tr>\n",
       "    <tr>\n",
       "      <td>7</td>\n",
       "      <td>RandomForestClassifier</td>\n",
       "      <td>Balanced, downsampled, depth: 4</td>\n",
       "      <td>0.7762</td>\n",
       "      <td>0.7520</td>\n",
       "      <td>0.5468</td>\n",
       "      <td>0.59</td>\n",
       "      <td>False</td>\n",
       "    </tr>\n",
       "  </tbody>\n",
       "</table>\n",
       "</div>"
      ],
      "text/plain": [
       "                   method                  hyperparameters  accuracy_score  \\\n",
       "0           Decision Tree                             none          0.7988   \n",
       "1           Random Forest                             none          0.8600   \n",
       "2      LogisticRegression                             none          0.8175   \n",
       "3      LogisticRegression              Balanced, upsampled          0.7069   \n",
       "4  RandomForestClassifier   Balanced, upsampled, depth: 13          0.8425   \n",
       "5  DecisionTreeClassifier    Balanced,Upsampled, depth: 14          0.7812   \n",
       "6      LogisticRegression            Balanced, downsampled          0.7031   \n",
       "7  RandomForestClassifier  Balanced, downsampled, depth: 4          0.7762   \n",
       "\n",
       "   auc_roc      f1  f1_required above_f1_threshold?  \n",
       "0   0.6836  0.4840         0.59               False  \n",
       "1   0.6974  0.5410         0.59               False  \n",
       "2   0.5890  0.3146         0.59               False  \n",
       "3   0.6953  0.4664         0.59               False  \n",
       "4   0.7599  0.6013         0.59                True  \n",
       "5   0.6830  0.4760         0.59               False  \n",
       "6   0.6967  0.4669         0.59               False  \n",
       "7   0.7520  0.5468         0.59               False  "
      ]
     },
     "metadata": {},
     "output_type": "display_data"
    }
   ],
   "source": [
    "old_score=0\n",
    "depth_val=0\n",
    "for depth in range(1, 10):\n",
    "    model = RandomForestClassifier(n_estimators=20, max_depth=depth, random_state=12345, class_weight='balanced')\n",
    "    model.fit(features_downsampled, target_downsampled)\n",
    "    predicted_valid = model.predict(x_valid)\n",
    "    f1_score_val = f1_score(y_valid,predicted_valid)\n",
    "    print(\"f1Score:\",f1_score_val,\"Depth:\",depth)\n",
    "    if (f1_score_val > old_score):\n",
    "        old_score =  f1_score_val\n",
    "        depth_val = depth\n",
    "print(' The max Depth: ',depth_val)\n",
    "\n",
    "model = RandomForestClassifier(n_estimators=100, max_depth=depth_val, random_state=12345,  class_weight='balanced')\n",
    "method=\"RandomForestClassifier\"\n",
    "hyperparam = \"Balanced, downsampled, depth: \"+str(depth_val)\n",
    "model_paramater(model,features_downsampled, target_downsampled,method, hyperparam)"
   ]
  },
  {
   "cell_type": "markdown",
   "metadata": {},
   "source": [
    "##### Dession Tree<a class=\"anchor\" id=\"dt_dw\"></a>"
   ]
  },
  {
   "cell_type": "code",
   "execution_count": 42,
   "metadata": {},
   "outputs": [
    {
     "name": "stdout",
     "output_type": "stream",
     "text": [
      "F1 score: 0.47043363994743764 Depth: 1\n",
      "F1 score: 0.50571791613723 Depth: 2\n",
      "F1 score: 0.5239520958083832 Depth: 3\n",
      "F1 score: 0.4977777777777777 Depth: 4\n",
      "F1 score: 0.5501955671447196 Depth: 5\n",
      "F1 score: 0.5505226480836236 Depth: 6\n",
      "F1 score: 0.5198711063372717 Depth: 7\n",
      "F1 score: 0.5086580086580087 Depth: 8\n",
      "F1 score: 0.49603174603174605 Depth: 9\n",
      "The max depth:  6 The f1 score 0.5505226480836236\n"
     ]
    },
    {
     "data": {
      "text/html": [
       "<div>\n",
       "<style scoped>\n",
       "    .dataframe tbody tr th:only-of-type {\n",
       "        vertical-align: middle;\n",
       "    }\n",
       "\n",
       "    .dataframe tbody tr th {\n",
       "        vertical-align: top;\n",
       "    }\n",
       "\n",
       "    .dataframe thead th {\n",
       "        text-align: right;\n",
       "    }\n",
       "</style>\n",
       "<table border=\"1\" class=\"dataframe\">\n",
       "  <thead>\n",
       "    <tr style=\"text-align: right;\">\n",
       "      <th></th>\n",
       "      <th>method</th>\n",
       "      <th>hyperparameters</th>\n",
       "      <th>accuracy_score</th>\n",
       "      <th>auc_roc</th>\n",
       "      <th>f1</th>\n",
       "      <th>f1_required</th>\n",
       "      <th>above_f1_threshold?</th>\n",
       "    </tr>\n",
       "  </thead>\n",
       "  <tbody>\n",
       "    <tr>\n",
       "      <td>0</td>\n",
       "      <td>Decision Tree</td>\n",
       "      <td>none</td>\n",
       "      <td>0.7988</td>\n",
       "      <td>0.6836</td>\n",
       "      <td>0.4840</td>\n",
       "      <td>0.59</td>\n",
       "      <td>False</td>\n",
       "    </tr>\n",
       "    <tr>\n",
       "      <td>1</td>\n",
       "      <td>Random Forest</td>\n",
       "      <td>none</td>\n",
       "      <td>0.8600</td>\n",
       "      <td>0.6974</td>\n",
       "      <td>0.5410</td>\n",
       "      <td>0.59</td>\n",
       "      <td>False</td>\n",
       "    </tr>\n",
       "    <tr>\n",
       "      <td>2</td>\n",
       "      <td>LogisticRegression</td>\n",
       "      <td>none</td>\n",
       "      <td>0.8175</td>\n",
       "      <td>0.5890</td>\n",
       "      <td>0.3146</td>\n",
       "      <td>0.59</td>\n",
       "      <td>False</td>\n",
       "    </tr>\n",
       "    <tr>\n",
       "      <td>3</td>\n",
       "      <td>LogisticRegression</td>\n",
       "      <td>Balanced, upsampled</td>\n",
       "      <td>0.7069</td>\n",
       "      <td>0.6953</td>\n",
       "      <td>0.4664</td>\n",
       "      <td>0.59</td>\n",
       "      <td>False</td>\n",
       "    </tr>\n",
       "    <tr>\n",
       "      <td>4</td>\n",
       "      <td>RandomForestClassifier</td>\n",
       "      <td>Balanced, upsampled, depth: 13</td>\n",
       "      <td>0.8425</td>\n",
       "      <td>0.7599</td>\n",
       "      <td>0.6013</td>\n",
       "      <td>0.59</td>\n",
       "      <td>True</td>\n",
       "    </tr>\n",
       "    <tr>\n",
       "      <td>5</td>\n",
       "      <td>DecisionTreeClassifier</td>\n",
       "      <td>Balanced,Upsampled, depth: 14</td>\n",
       "      <td>0.7812</td>\n",
       "      <td>0.6830</td>\n",
       "      <td>0.4760</td>\n",
       "      <td>0.59</td>\n",
       "      <td>False</td>\n",
       "    </tr>\n",
       "    <tr>\n",
       "      <td>6</td>\n",
       "      <td>LogisticRegression</td>\n",
       "      <td>Balanced, downsampled</td>\n",
       "      <td>0.7031</td>\n",
       "      <td>0.6967</td>\n",
       "      <td>0.4669</td>\n",
       "      <td>0.59</td>\n",
       "      <td>False</td>\n",
       "    </tr>\n",
       "    <tr>\n",
       "      <td>7</td>\n",
       "      <td>RandomForestClassifier</td>\n",
       "      <td>Balanced, downsampled, depth: 4</td>\n",
       "      <td>0.7762</td>\n",
       "      <td>0.7520</td>\n",
       "      <td>0.5468</td>\n",
       "      <td>0.59</td>\n",
       "      <td>False</td>\n",
       "    </tr>\n",
       "    <tr>\n",
       "      <td>8</td>\n",
       "      <td>DecisionTreeClassifier</td>\n",
       "      <td>Balanced, downsampled, depth: 6</td>\n",
       "      <td>0.7581</td>\n",
       "      <td>0.7673</td>\n",
       "      <td>0.5505</td>\n",
       "      <td>0.59</td>\n",
       "      <td>False</td>\n",
       "    </tr>\n",
       "  </tbody>\n",
       "</table>\n",
       "</div>"
      ],
      "text/plain": [
       "                   method                  hyperparameters  accuracy_score  \\\n",
       "0           Decision Tree                             none          0.7988   \n",
       "1           Random Forest                             none          0.8600   \n",
       "2      LogisticRegression                             none          0.8175   \n",
       "3      LogisticRegression              Balanced, upsampled          0.7069   \n",
       "4  RandomForestClassifier   Balanced, upsampled, depth: 13          0.8425   \n",
       "5  DecisionTreeClassifier    Balanced,Upsampled, depth: 14          0.7812   \n",
       "6      LogisticRegression            Balanced, downsampled          0.7031   \n",
       "7  RandomForestClassifier  Balanced, downsampled, depth: 4          0.7762   \n",
       "8  DecisionTreeClassifier  Balanced, downsampled, depth: 6          0.7581   \n",
       "\n",
       "   auc_roc      f1  f1_required above_f1_threshold?  \n",
       "0   0.6836  0.4840         0.59               False  \n",
       "1   0.6974  0.5410         0.59               False  \n",
       "2   0.5890  0.3146         0.59               False  \n",
       "3   0.6953  0.4664         0.59               False  \n",
       "4   0.7599  0.6013         0.59                True  \n",
       "5   0.6830  0.4760         0.59               False  \n",
       "6   0.6967  0.4669         0.59               False  \n",
       "7   0.7520  0.5468         0.59               False  \n",
       "8   0.7673  0.5505         0.59               False  "
      ]
     },
     "metadata": {},
     "output_type": "display_data"
    }
   ],
   "source": [
    "the_Score=0\n",
    "the_Depth=0\n",
    "for depth in range(1, 10):\n",
    "    model = DecisionTreeClassifier(max_depth=depth, random_state=12345,class_weight='balanced')\n",
    "    model.fit(features_downsampled, target_downsampled)\n",
    "    predicted_valid = model.predict(x_valid)\n",
    "    new_score = f1_score(y_valid,predicted_valid)\n",
    "    \n",
    "    print(\"F1 score:\",new_score,\"Depth:\",depth)\n",
    "    if (new_score > the_Score):\n",
    "        the_Score = new_score\n",
    "        the_Depth = depth\n",
    "#print('The maxDepth',the_Depth)\n",
    "print('The max depth: ', the_Depth,'The f1 score', the_Score)\n",
    "method=\"DecisionTreeClassifier\"\n",
    "hyperparam = \"Balanced, downsampled, depth: \"+str(the_Depth)\n",
    "model = DecisionTreeClassifier(max_depth=the_Depth ,class_weight='balanced',random_state=12345)\n",
    "model_paramater(model,features_downsampled, target_downsampled,method, hyperparam)"
   ]
  },
  {
   "cell_type": "markdown",
   "metadata": {},
   "source": [
    "We can see that Random Forest is the best model and will be the final model. This is because the f1 score has passed and met the threshold of the required 0.59 needed. Even Decision Tree came as a close second, which is followed by Logistic Regression lately. Overall, we can see that models with balanced classes and hyperparamter tunning had better f1 scores then thoses who did not have."
   ]
  },
  {
   "cell_type": "markdown",
   "metadata": {},
   "source": [
    "## Final Model<a class=\"anchor\" id=\"final\"></a>"
   ]
  },
  {
   "cell_type": "code",
   "execution_count": 43,
   "metadata": {},
   "outputs": [
    {
     "name": "stdout",
     "output_type": "stream",
     "text": [
      "f1 score: 0.6290115532734274\n",
      "accuracy score 0.8555\n"
     ]
    }
   ],
   "source": [
    "# looking at the final model and f1 score from test set\n",
    "rf = RandomForestClassifier(n_estimators=50, max_depth=12, random_state=12345, class_weight='balanced')\n",
    "rf.fit(x_train,y_train)\n",
    "y_pred = rf.predict(x_test)\n",
    "print(\"f1 score:\",f1_score(y_test,y_pred))\n",
    "acc=accuracy_score(y_test,y_pred)\n",
    "print(\"accuracy score\",acc )"
   ]
  },
  {
   "cell_type": "markdown",
   "metadata": {},
   "source": [
    "We can see that our final model using Random Forest does have a better f1 score and does way better than the baseline."
   ]
  },
  {
   "cell_type": "code",
   "execution_count": 40,
   "metadata": {},
   "outputs": [
    {
     "name": "stdout",
     "output_type": "stream",
     "text": [
      "              precision    recall  f1-score   support\n",
      "\n",
      "           0       0.89      0.93      0.91      1573\n",
      "           1       0.68      0.56      0.62       427\n",
      "\n",
      "    accuracy                           0.85      2000\n",
      "   macro avg       0.78      0.75      0.76      2000\n",
      "weighted avg       0.84      0.85      0.85      2000\n",
      "\n"
     ]
    }
   ],
   "source": [
    "# checking out the classification report\n",
    "print(classification_report(y_test, y_pred))"
   ]
  },
  {
   "cell_type": "markdown",
   "metadata": {},
   "source": [
    "- Retained customer clients 1573\n",
    "- Churn clients 423"
   ]
  },
  {
   "cell_type": "markdown",
   "metadata": {},
   "source": [
    "### ROC <a class=\"anchor\" id=\"roc\"></a>\n",
    "- For a model that always answers randomly, the ROC curve is a diagonal line going from the lower left to the upper right. The higher the curve, the greater the TPR value and the better the model's quality.\n"
   ]
  },
  {
   "cell_type": "code",
   "execution_count": 44,
   "metadata": {},
   "outputs": [
    {
     "name": "stdout",
     "output_type": "stream",
     "text": [
      "0.8608604510243855\n"
     ]
    }
   ],
   "source": [
    "# < write code here >\n",
    "probabilities_valid = rf.predict_proba(x_test)\n",
    "probabilities_one_valid = probabilities_valid[:, 1]\n",
    "auc_roc = roc_auc_score(y_test, probabilities_one_valid)\n",
    "print(auc_roc)"
   ]
  },
  {
   "cell_type": "markdown",
   "metadata": {},
   "source": [
    "Our Model Roc accuracy score shows that it correctly predict 86%."
   ]
  },
  {
   "cell_type": "code",
   "execution_count": 45,
   "metadata": {},
   "outputs": [
    {
     "data": {
      "image/png": "[encoded data removed]",
      "text/plain": [
       "<Figure size 432x288 with 1 Axes>"
      ]
     },
     "metadata": {
      "needs_background": "light"
     },
     "output_type": "display_data"
    }
   ],
   "source": [
    "fpr, tpr, thresholds = roc_curve(y_test, probabilities_one_valid) \n",
    "plt.figure()\n",
    "# < plot the graph >\n",
    "plt.plot(fpr,tpr)\n",
    "# ROC curve for random model (looks like a straight line)\n",
    "plt.plot([0, 1], [0, 1], linestyle='--')\n",
    "plt.xlim([0.0,1.0])\n",
    "plt.ylim([0.0,1.0])\n",
    "plt.xlabel('False Positive Rate')\n",
    "plt.ylabel('True Positive Rate')\n",
    "plt.title('ROC curve')\n",
    "plt.show()"
   ]
  },
  {
   "cell_type": "markdown",
   "metadata": {},
   "source": [
    "We can see that our ROC curve preforms quiet well and is giving higher preformance values."
   ]
  },
  {
   "cell_type": "markdown",
   "metadata": {},
   "source": [
    "### PR Curve<a class=\"anchor\" id=\"pr\"></a>\n",
    "-  A curve plotted from Precision and Recall values is called a PR curve. The higher the curve, the better the model."
   ]
  },
  {
   "cell_type": "code",
   "execution_count": 46,
   "metadata": {},
   "outputs": [
    {
     "data": {
      "image/png": "[encoded data removed]",
      "text/plain": [
       "<Figure size 432x432 with 1 Axes>"
      ]
     },
     "metadata": {
      "needs_background": "light"
     },
     "output_type": "display_data"
    }
   ],
   "source": [
    "precision, recall, thresholds = precision_recall_curve(y_test, probabilities_valid[:, 1])\n",
    "plt.figure(figsize=(6, 6))\n",
    "plt.step(recall, precision, where='post')\n",
    "plt.xlabel('Recall')\n",
    "plt.ylabel('Precision')\n",
    "plt.ylim([0.0, 1.05])\n",
    "plt.xlim([0.0, 1.0])\n",
    "plt.title('Precision-Recall Curve')\n",
    "plt.show() \n"
   ]
  },
  {
   "cell_type": "markdown",
   "metadata": {},
   "source": [
    "The PR Curve showcases a high curve which means we have a higher accuracy."
   ]
  },
  {
   "cell_type": "markdown",
   "metadata": {},
   "source": [
    "## Conclusion<a class=\"anchor\" id=\"con\"></a>"
   ]
  },
  {
   "cell_type": "markdown",
   "metadata": {},
   "source": [
    "Based on data on clients’ past behavior and termination of contracts with the bank. We can predict whether a customer will leave the bank soon.\n",
    "\n",
    "Watching churning customers rates are important because costs more to acquire new customers than it does to retain existing customers. With remaining existing customers can help create more profit than trying to get new customers. For this project, we tested out different models using data on clients’ past behavior and termination of contracts with the bank to find out what model can help provide reliable information to predict whether their customer will leave the bank or not. This is important because having the ability to help prevent losses of loyal customers will help increase a profit for banks.\n",
    "\n",
    "From data processing we have found:\n",
    "- Customers in their early 30 to mid 50 have a bank account than people in their early 20 don't.\n",
    "- Demographically people in Germany seem to have a high amount of contract terminations with the bank than people in France and Spain.\n",
    "- A high amount of females than Males seem to leave the bank than stay.\n",
    "\n",
    "From testing different models and adjusting the class imbalance we were able to find that the best model is Random Forest Classifier. This model showed that it had higher accuracy and f1 score which passed our baseline f1 score of 0.59. In addition, turning the parameters and balancing the class weight is the reason why the model was able to meet the baseline. Without out doing so our model would have had a low f1 score and would not have passed.\n",
    "\n",
    "Overall, from the Random Forest model, we have found that the model Roc accuracy score shows that it correctly predicts 86% cases. This model is the best model that meets the f1 baseline and preforms the best prediction out of all the models."
   ]
  }
 ],
 "metadata": {
  "ExecuteTimeLog": [
   {
    "duration": 75,
    "start_time": "2021-12-13T19:18:47.783Z"
   },
   {
    "duration": 843,
    "start_time": "2021-12-13T19:20:15.068Z"
   },
   {
    "duration": 1146,
    "start_time": "2021-12-13T19:20:21.828Z"
   },
   {
    "duration": 31,
    "start_time": "2021-12-13T19:20:45.992Z"
   },
   {
    "duration": 15,
    "start_time": "2021-12-13T19:21:00.344Z"
   },
   {
    "duration": 10,
    "start_time": "2021-12-13T19:21:19.039Z"
   },
   {
    "duration": 5,
    "start_time": "2021-12-13T19:21:28.639Z"
   },
   {
    "duration": 38,
    "start_time": "2021-12-13T19:23:46.863Z"
   },
   {
    "duration": 8,
    "start_time": "2021-12-13T19:30:33.148Z"
   },
   {
    "duration": 6,
    "start_time": "2021-12-13T19:30:39.344Z"
   },
   {
    "duration": 7,
    "start_time": "2021-12-13T19:30:44.952Z"
   },
   {
    "duration": 376,
    "start_time": "2021-12-13T19:31:33.057Z"
   },
   {
    "duration": 8,
    "start_time": "2021-12-13T19:31:40.376Z"
   },
   {
    "duration": 5,
    "start_time": "2021-12-13T19:31:51.875Z"
   },
   {
    "duration": 98,
    "start_time": "2021-12-13T19:33:34.166Z"
   },
   {
    "duration": 292,
    "start_time": "2021-12-13T19:33:37.128Z"
   },
   {
    "duration": 73,
    "start_time": "2021-12-13T19:44:05.816Z"
   },
   {
    "duration": 37,
    "start_time": "2021-12-13T19:50:10.082Z"
   },
   {
    "duration": 47,
    "start_time": "2021-12-13T19:50:19.076Z"
   },
   {
    "duration": 36,
    "start_time": "2021-12-13T19:50:35.733Z"
   },
   {
    "duration": 3,
    "start_time": "2021-12-13T20:36:25.707Z"
   },
   {
    "duration": 1217,
    "start_time": "2021-12-13T21:54:24.099Z"
   },
   {
    "duration": 42,
    "start_time": "2021-12-13T21:54:25.318Z"
   },
   {
    "duration": 20,
    "start_time": "2021-12-13T21:54:26.637Z"
   },
   {
    "duration": 10,
    "start_time": "2021-12-13T21:54:28.561Z"
   },
   {
    "duration": 47,
    "start_time": "2021-12-13T21:54:29.305Z"
   },
   {
    "duration": 7,
    "start_time": "2021-12-13T21:54:33.114Z"
   },
   {
    "duration": 29,
    "start_time": "2021-12-13T21:59:40.302Z"
   },
   {
    "duration": 4,
    "start_time": "2021-12-13T22:00:15.911Z"
   },
   {
    "duration": 4,
    "start_time": "2021-12-13T22:00:27.423Z"
   },
   {
    "duration": 227,
    "start_time": "2021-12-14T00:56:31.752Z"
   },
   {
    "duration": 1079,
    "start_time": "2021-12-14T00:56:39.041Z"
   },
   {
    "duration": 30,
    "start_time": "2021-12-14T00:56:40.122Z"
   },
   {
    "duration": 16,
    "start_time": "2021-12-14T00:56:40.154Z"
   },
   {
    "duration": 8,
    "start_time": "2021-12-14T00:56:40.172Z"
   },
   {
    "duration": 39,
    "start_time": "2021-12-14T00:56:40.192Z"
   },
   {
    "duration": 7,
    "start_time": "2021-12-14T00:56:40.232Z"
   },
   {
    "duration": 12,
    "start_time": "2021-12-14T00:56:40.240Z"
   },
   {
    "duration": 14,
    "start_time": "2021-12-14T00:56:40.254Z"
   },
   {
    "duration": 9,
    "start_time": "2021-12-14T00:56:57.219Z"
   },
   {
    "duration": 3,
    "start_time": "2021-12-14T01:14:49.498Z"
   },
   {
    "duration": 4,
    "start_time": "2021-12-14T01:14:52.498Z"
   },
   {
    "duration": 12,
    "start_time": "2021-12-14T01:14:57.489Z"
   },
   {
    "duration": 4,
    "start_time": "2021-12-14T01:36:12.530Z"
   },
   {
    "duration": 8,
    "start_time": "2021-12-14T01:36:14.789Z"
   },
   {
    "duration": 3,
    "start_time": "2021-12-14T01:36:21.846Z"
   },
   {
    "duration": 8,
    "start_time": "2021-12-14T01:36:23.796Z"
   },
   {
    "duration": 4,
    "start_time": "2021-12-14T01:36:29.865Z"
   },
   {
    "duration": 1081,
    "start_time": "2021-12-14T01:40:33.613Z"
   },
   {
    "duration": 29,
    "start_time": "2021-12-14T01:40:34.696Z"
   },
   {
    "duration": 14,
    "start_time": "2021-12-14T01:40:34.727Z"
   },
   {
    "duration": 8,
    "start_time": "2021-12-14T01:40:34.743Z"
   },
   {
    "duration": 50,
    "start_time": "2021-12-14T01:40:34.753Z"
   },
   {
    "duration": 2,
    "start_time": "2021-12-14T01:40:34.805Z"
   },
   {
    "duration": 9,
    "start_time": "2021-12-14T01:40:34.808Z"
   },
   {
    "duration": 4,
    "start_time": "2021-12-14T01:40:34.819Z"
   },
   {
    "duration": 8,
    "start_time": "2021-12-14T01:40:34.824Z"
   },
   {
    "duration": 3,
    "start_time": "2021-12-14T01:40:34.833Z"
   },
   {
    "duration": 5,
    "start_time": "2021-12-14T01:40:34.838Z"
   },
   {
    "duration": 5,
    "start_time": "2021-12-14T01:40:50.128Z"
   },
   {
    "duration": 12,
    "start_time": "2021-12-14T01:40:55.754Z"
   },
   {
    "duration": 3,
    "start_time": "2021-12-14T01:53:38.191Z"
   },
   {
    "duration": 5,
    "start_time": "2021-12-14T01:54:57.134Z"
   },
   {
    "duration": 293,
    "start_time": "2021-12-14T02:00:24.668Z"
   },
   {
    "duration": 199,
    "start_time": "2021-12-14T02:00:27.860Z"
   },
   {
    "duration": 810,
    "start_time": "2021-12-14T02:00:49.873Z"
   },
   {
    "duration": 187,
    "start_time": "2021-12-14T02:01:02.383Z"
   },
   {
    "duration": 1078,
    "start_time": "2021-12-14T02:01:09.826Z"
   },
   {
    "duration": 29,
    "start_time": "2021-12-14T02:01:10.906Z"
   },
   {
    "duration": 14,
    "start_time": "2021-12-14T02:01:10.937Z"
   },
   {
    "duration": 9,
    "start_time": "2021-12-14T02:01:10.952Z"
   },
   {
    "duration": 51,
    "start_time": "2021-12-14T02:01:10.962Z"
   },
   {
    "duration": 3,
    "start_time": "2021-12-14T02:01:11.014Z"
   },
   {
    "duration": 12,
    "start_time": "2021-12-14T02:01:11.018Z"
   },
   {
    "duration": 4,
    "start_time": "2021-12-14T02:01:11.031Z"
   },
   {
    "duration": 7,
    "start_time": "2021-12-14T02:01:11.037Z"
   },
   {
    "duration": 4,
    "start_time": "2021-12-14T02:01:11.045Z"
   },
   {
    "duration": 9,
    "start_time": "2021-12-14T02:01:11.050Z"
   },
   {
    "duration": 32,
    "start_time": "2021-12-14T02:01:11.061Z"
   },
   {
    "duration": 1238,
    "start_time": "2021-12-14T23:57:27.051Z"
   },
   {
    "duration": 45,
    "start_time": "2021-12-14T23:57:28.290Z"
   },
   {
    "duration": 18,
    "start_time": "2021-12-14T23:57:28.337Z"
   },
   {
    "duration": 27,
    "start_time": "2021-12-14T23:57:28.357Z"
   },
   {
    "duration": 38,
    "start_time": "2021-12-14T23:57:28.386Z"
   },
   {
    "duration": 2,
    "start_time": "2021-12-14T23:57:28.426Z"
   },
   {
    "duration": 14,
    "start_time": "2021-12-14T23:57:28.430Z"
   },
   {
    "duration": 5,
    "start_time": "2021-12-14T23:57:28.447Z"
   },
   {
    "duration": 20,
    "start_time": "2021-12-14T23:57:28.455Z"
   },
   {
    "duration": 11,
    "start_time": "2021-12-14T23:57:28.478Z"
   },
   {
    "duration": 17,
    "start_time": "2021-12-14T23:57:28.490Z"
   },
   {
    "duration": 16,
    "start_time": "2021-12-14T23:57:28.508Z"
   },
   {
    "duration": 5,
    "start_time": "2021-12-14T23:57:28.526Z"
   },
   {
    "duration": 99,
    "start_time": "2021-12-15T00:12:35.496Z"
   },
   {
    "duration": 3,
    "start_time": "2021-12-15T00:14:13.623Z"
   },
   {
    "duration": 22,
    "start_time": "2021-12-15T00:23:46.357Z"
   },
   {
    "duration": 6663,
    "start_time": "2021-12-15T00:33:49.576Z"
   },
   {
    "duration": 2,
    "start_time": "2021-12-15T00:33:58.003Z"
   },
   {
    "duration": 7522,
    "start_time": "2021-12-15T00:33:59.415Z"
   },
   {
    "duration": 18,
    "start_time": "2021-12-15T00:34:24.027Z"
   },
   {
    "duration": 27,
    "start_time": "2021-12-15T00:34:50.739Z"
   },
   {
    "duration": 18,
    "start_time": "2021-12-15T00:35:12.269Z"
   },
   {
    "duration": 372,
    "start_time": "2021-12-15T02:36:01.726Z"
   },
   {
    "duration": 1211,
    "start_time": "2021-12-15T02:36:12.228Z"
   },
   {
    "duration": 29,
    "start_time": "2021-12-15T02:36:13.441Z"
   },
   {
    "duration": 25,
    "start_time": "2021-12-15T02:36:13.472Z"
   },
   {
    "duration": 31,
    "start_time": "2021-12-15T02:36:13.500Z"
   },
   {
    "duration": 59,
    "start_time": "2021-12-15T02:36:13.533Z"
   },
   {
    "duration": 3,
    "start_time": "2021-12-15T02:36:13.593Z"
   },
   {
    "duration": 27,
    "start_time": "2021-12-15T02:36:13.598Z"
   },
   {
    "duration": 21,
    "start_time": "2021-12-15T02:36:13.627Z"
   },
   {
    "duration": 19,
    "start_time": "2021-12-15T02:36:13.651Z"
   },
   {
    "duration": 21,
    "start_time": "2021-12-15T02:36:13.672Z"
   },
   {
    "duration": 28,
    "start_time": "2021-12-15T02:36:13.695Z"
   },
   {
    "duration": 45,
    "start_time": "2021-12-15T02:36:13.726Z"
   },
   {
    "duration": 23,
    "start_time": "2021-12-15T02:36:13.773Z"
   },
   {
    "duration": 49,
    "start_time": "2021-12-15T02:36:13.798Z"
   },
   {
    "duration": 25,
    "start_time": "2021-12-15T02:36:13.849Z"
   },
   {
    "duration": 2,
    "start_time": "2021-12-15T02:37:28.027Z"
   },
   {
    "duration": 9,
    "start_time": "2021-12-15T02:37:38.153Z"
   },
   {
    "duration": 4,
    "start_time": "2021-12-15T05:53:02.207Z"
   },
   {
    "duration": 1742,
    "start_time": "2021-12-15T18:31:01.885Z"
   },
   {
    "duration": 41,
    "start_time": "2021-12-15T18:31:03.630Z"
   },
   {
    "duration": 27,
    "start_time": "2021-12-15T18:31:03.675Z"
   },
   {
    "duration": 12,
    "start_time": "2021-12-15T18:31:03.705Z"
   },
   {
    "duration": 100,
    "start_time": "2021-12-15T18:31:03.720Z"
   },
   {
    "duration": 3,
    "start_time": "2021-12-15T18:31:03.824Z"
   },
   {
    "duration": 12,
    "start_time": "2021-12-15T18:31:03.829Z"
   },
   {
    "duration": 6,
    "start_time": "2021-12-15T18:31:03.844Z"
   },
   {
    "duration": 9,
    "start_time": "2021-12-15T18:31:03.886Z"
   },
   {
    "duration": 19,
    "start_time": "2021-12-15T18:31:03.898Z"
   },
   {
    "duration": 5,
    "start_time": "2021-12-15T18:31:03.919Z"
   },
   {
    "duration": 11,
    "start_time": "2021-12-15T18:31:03.927Z"
   },
   {
    "duration": 29,
    "start_time": "2021-12-15T18:31:03.969Z"
   },
   {
    "duration": 7,
    "start_time": "2021-12-15T18:31:04.001Z"
   },
   {
    "duration": 33,
    "start_time": "2021-12-15T18:31:04.010Z"
   },
   {
    "duration": 469,
    "start_time": "2021-12-15T18:31:04.045Z"
   },
   {
    "duration": 317,
    "start_time": "2021-12-15T18:31:43.456Z"
   },
   {
    "duration": 19,
    "start_time": "2021-12-15T18:31:46.894Z"
   },
   {
    "duration": 1586,
    "start_time": "2021-12-15T21:00:53.396Z"
   },
   {
    "duration": 117,
    "start_time": "2021-12-15T21:00:54.985Z"
   },
   {
    "duration": 24,
    "start_time": "2021-12-15T21:00:55.105Z"
   },
   {
    "duration": 13,
    "start_time": "2021-12-15T21:00:55.132Z"
   },
   {
    "duration": 79,
    "start_time": "2021-12-15T21:00:55.148Z"
   },
   {
    "duration": 3,
    "start_time": "2021-12-15T21:00:55.230Z"
   },
   {
    "duration": 35,
    "start_time": "2021-12-15T21:00:55.235Z"
   },
   {
    "duration": 6,
    "start_time": "2021-12-15T21:00:55.275Z"
   },
   {
    "duration": 12,
    "start_time": "2021-12-15T21:00:55.285Z"
   },
   {
    "duration": 38,
    "start_time": "2021-12-15T21:00:55.300Z"
   },
   {
    "duration": 14,
    "start_time": "2021-12-15T21:00:55.340Z"
   },
   {
    "duration": 20,
    "start_time": "2021-12-15T21:00:55.357Z"
   },
   {
    "duration": 27,
    "start_time": "2021-12-15T21:00:55.379Z"
   },
   {
    "duration": 26,
    "start_time": "2021-12-15T21:00:55.408Z"
   },
   {
    "duration": 52,
    "start_time": "2021-12-15T21:00:55.436Z"
   },
   {
    "duration": 20,
    "start_time": "2021-12-15T21:00:55.490Z"
   },
   {
    "duration": 443,
    "start_time": "2021-12-15T22:21:27.784Z"
   },
   {
    "duration": 65,
    "start_time": "2021-12-15T22:21:36.538Z"
   },
   {
    "duration": 64,
    "start_time": "2021-12-15T22:21:48.172Z"
   },
   {
    "duration": 1618,
    "start_time": "2021-12-15T22:22:40.935Z"
   },
   {
    "duration": 35,
    "start_time": "2021-12-15T22:22:42.556Z"
   },
   {
    "duration": 23,
    "start_time": "2021-12-15T22:22:42.594Z"
   },
   {
    "duration": 12,
    "start_time": "2021-12-15T22:22:42.620Z"
   },
   {
    "duration": 92,
    "start_time": "2021-12-15T22:22:42.635Z"
   },
   {
    "duration": 4,
    "start_time": "2021-12-15T22:22:42.729Z"
   },
   {
    "duration": 33,
    "start_time": "2021-12-15T22:22:42.735Z"
   },
   {
    "duration": 6,
    "start_time": "2021-12-15T22:22:42.773Z"
   },
   {
    "duration": 8,
    "start_time": "2021-12-15T22:22:42.783Z"
   },
   {
    "duration": 21,
    "start_time": "2021-12-15T22:22:42.794Z"
   },
   {
    "duration": 51,
    "start_time": "2021-12-15T22:22:42.817Z"
   },
   {
    "duration": 14,
    "start_time": "2021-12-15T22:22:42.870Z"
   },
   {
    "duration": 19,
    "start_time": "2021-12-15T22:22:42.887Z"
   },
   {
    "duration": 5,
    "start_time": "2021-12-15T22:22:42.909Z"
   },
   {
    "duration": 69,
    "start_time": "2021-12-15T22:22:42.917Z"
   },
   {
    "duration": 109,
    "start_time": "2021-12-15T22:22:42.989Z"
   },
   {
    "duration": 9,
    "start_time": "2021-12-15T22:23:05.957Z"
   },
   {
    "duration": 71,
    "start_time": "2021-12-15T22:23:09.736Z"
   },
   {
    "duration": 1190,
    "start_time": "2021-12-16T18:42:24.074Z"
   },
   {
    "duration": 31,
    "start_time": "2021-12-16T18:42:25.266Z"
   },
   {
    "duration": 14,
    "start_time": "2021-12-16T18:42:25.298Z"
   },
   {
    "duration": 7,
    "start_time": "2021-12-16T18:42:25.314Z"
   },
   {
    "duration": 44,
    "start_time": "2021-12-16T18:42:25.323Z"
   },
   {
    "duration": 2,
    "start_time": "2021-12-16T18:42:25.369Z"
   },
   {
    "duration": 11,
    "start_time": "2021-12-16T18:42:25.372Z"
   },
   {
    "duration": 3,
    "start_time": "2021-12-16T18:42:25.385Z"
   },
   {
    "duration": 6,
    "start_time": "2021-12-16T18:42:25.390Z"
   },
   {
    "duration": 13,
    "start_time": "2021-12-16T18:42:25.398Z"
   },
   {
    "duration": 4,
    "start_time": "2021-12-16T18:42:25.412Z"
   },
   {
    "duration": 6,
    "start_time": "2021-12-16T18:42:25.418Z"
   },
   {
    "duration": 44,
    "start_time": "2021-12-16T18:42:25.426Z"
   },
   {
    "duration": 9,
    "start_time": "2021-12-16T18:42:25.473Z"
   },
   {
    "duration": 20,
    "start_time": "2021-12-16T18:42:25.484Z"
   },
   {
    "duration": 39,
    "start_time": "2021-12-16T18:42:25.506Z"
   },
   {
    "duration": 41,
    "start_time": "2021-12-16T18:54:00.633Z"
   },
   {
    "duration": 346,
    "start_time": "2021-12-16T18:55:33.516Z"
   },
   {
    "duration": 5,
    "start_time": "2021-12-16T18:55:56.121Z"
   },
   {
    "duration": 5,
    "start_time": "2021-12-16T18:55:59.738Z"
   },
   {
    "duration": 6,
    "start_time": "2021-12-16T18:56:17.028Z"
   },
   {
    "duration": 4,
    "start_time": "2021-12-16T18:56:20.780Z"
   },
   {
    "duration": 5,
    "start_time": "2021-12-16T18:56:24.760Z"
   },
   {
    "duration": 37,
    "start_time": "2021-12-16T18:56:38.471Z"
   },
   {
    "duration": 6,
    "start_time": "2021-12-16T18:56:42.402Z"
   },
   {
    "duration": 303,
    "start_time": "2021-12-16T19:00:37.354Z"
   },
   {
    "duration": 269,
    "start_time": "2021-12-16T19:00:44.895Z"
   },
   {
    "duration": 63062,
    "start_time": "2021-12-16T19:00:49.686Z"
   },
   {
    "duration": 13,
    "start_time": "2021-12-16T19:02:17.893Z"
   },
   {
    "duration": 297,
    "start_time": "2021-12-16T19:02:34.378Z"
   },
   {
    "duration": 1216,
    "start_time": "2021-12-16T19:02:34.911Z"
   },
   {
    "duration": 36,
    "start_time": "2021-12-16T19:02:36.130Z"
   },
   {
    "duration": 16,
    "start_time": "2021-12-16T19:02:36.169Z"
   },
   {
    "duration": 25,
    "start_time": "2021-12-16T19:02:36.187Z"
   },
   {
    "duration": 54,
    "start_time": "2021-12-16T19:02:36.214Z"
   },
   {
    "duration": 2,
    "start_time": "2021-12-16T19:02:36.270Z"
   },
   {
    "duration": 17,
    "start_time": "2021-12-16T19:02:36.274Z"
   },
   {
    "duration": 12,
    "start_time": "2021-12-16T19:02:36.292Z"
   },
   {
    "duration": 8,
    "start_time": "2021-12-16T19:02:36.306Z"
   },
   {
    "duration": 28,
    "start_time": "2021-12-16T19:02:36.315Z"
   },
   {
    "duration": 4,
    "start_time": "2021-12-16T19:02:36.345Z"
   },
   {
    "duration": 13,
    "start_time": "2021-12-16T19:02:36.350Z"
   },
   {
    "duration": 16,
    "start_time": "2021-12-16T19:02:36.365Z"
   },
   {
    "duration": 9,
    "start_time": "2021-12-16T19:02:36.383Z"
   },
   {
    "duration": 33,
    "start_time": "2021-12-16T19:02:36.394Z"
   },
   {
    "duration": 39,
    "start_time": "2021-12-16T19:02:36.428Z"
   },
   {
    "duration": 4,
    "start_time": "2021-12-16T19:02:36.469Z"
   },
   {
    "duration": 10,
    "start_time": "2021-12-16T19:02:36.475Z"
   },
   {
    "duration": 1213,
    "start_time": "2021-12-16T19:03:55.141Z"
   },
   {
    "duration": 30,
    "start_time": "2021-12-16T19:03:56.356Z"
   },
   {
    "duration": 15,
    "start_time": "2021-12-16T19:03:56.388Z"
   },
   {
    "duration": 9,
    "start_time": "2021-12-16T19:03:56.405Z"
   },
   {
    "duration": 50,
    "start_time": "2021-12-16T19:03:56.415Z"
   },
   {
    "duration": 2,
    "start_time": "2021-12-16T19:03:56.467Z"
   },
   {
    "duration": 14,
    "start_time": "2021-12-16T19:03:56.471Z"
   },
   {
    "duration": 4,
    "start_time": "2021-12-16T19:03:56.487Z"
   },
   {
    "duration": 5,
    "start_time": "2021-12-16T19:03:56.493Z"
   },
   {
    "duration": 13,
    "start_time": "2021-12-16T19:03:56.500Z"
   },
   {
    "duration": 3,
    "start_time": "2021-12-16T19:03:56.515Z"
   },
   {
    "duration": 9,
    "start_time": "2021-12-16T19:03:56.520Z"
   },
   {
    "duration": 38,
    "start_time": "2021-12-16T19:03:56.530Z"
   },
   {
    "duration": 3,
    "start_time": "2021-12-16T19:06:39.610Z"
   },
   {
    "duration": 21,
    "start_time": "2021-12-16T19:06:39.614Z"
   },
   {
    "duration": 36,
    "start_time": "2021-12-16T19:06:39.636Z"
   },
   {
    "duration": 3,
    "start_time": "2021-12-16T19:06:39.674Z"
   },
   {
    "duration": 6,
    "start_time": "2021-12-16T19:06:39.679Z"
   },
   {
    "duration": 4,
    "start_time": "2021-12-16T19:06:39.686Z"
   },
   {
    "duration": 1194,
    "start_time": "2021-12-16T19:07:09.983Z"
   },
   {
    "duration": 32,
    "start_time": "2021-12-16T19:07:11.179Z"
   },
   {
    "duration": 15,
    "start_time": "2021-12-16T19:07:11.213Z"
   },
   {
    "duration": 16,
    "start_time": "2021-12-16T19:07:11.230Z"
   },
   {
    "duration": 38,
    "start_time": "2021-12-16T19:07:11.248Z"
   },
   {
    "duration": 2,
    "start_time": "2021-12-16T19:07:11.288Z"
   },
   {
    "duration": 10,
    "start_time": "2021-12-16T19:07:11.291Z"
   },
   {
    "duration": 15,
    "start_time": "2021-12-16T19:07:11.303Z"
   },
   {
    "duration": 6,
    "start_time": "2021-12-16T19:07:11.320Z"
   },
   {
    "duration": 21,
    "start_time": "2021-12-16T19:07:11.327Z"
   },
   {
    "duration": 4,
    "start_time": "2021-12-16T19:07:11.350Z"
   },
   {
    "duration": 5,
    "start_time": "2021-12-16T19:07:11.363Z"
   },
   {
    "duration": 12,
    "start_time": "2021-12-16T19:07:11.370Z"
   },
   {
    "duration": 1246,
    "start_time": "2021-12-16T19:09:12.581Z"
   },
   {
    "duration": 32,
    "start_time": "2021-12-16T19:09:14.797Z"
   },
   {
    "duration": 16,
    "start_time": "2021-12-16T19:09:15.763Z"
   },
   {
    "duration": 9,
    "start_time": "2021-12-16T19:09:18.302Z"
   },
   {
    "duration": 40,
    "start_time": "2021-12-16T19:09:18.704Z"
   },
   {
    "duration": 3,
    "start_time": "2021-12-16T19:09:19.584Z"
   },
   {
    "duration": 9,
    "start_time": "2021-12-16T19:09:20.014Z"
   },
   {
    "duration": 5,
    "start_time": "2021-12-16T19:09:22.165Z"
   },
   {
    "duration": 6,
    "start_time": "2021-12-16T19:09:22.382Z"
   },
   {
    "duration": 12,
    "start_time": "2021-12-16T19:09:24.023Z"
   },
   {
    "duration": 5,
    "start_time": "2021-12-16T19:09:27.004Z"
   },
   {
    "duration": 5,
    "start_time": "2021-12-16T19:09:29.442Z"
   },
   {
    "duration": 11,
    "start_time": "2021-12-16T19:09:30.157Z"
   },
   {
    "duration": 201,
    "start_time": "2021-12-16T19:09:30.403Z"
   },
   {
    "duration": 195,
    "start_time": "2021-12-16T19:09:35.261Z"
   },
   {
    "duration": -554,
    "start_time": "2021-12-16T19:12:32.224Z"
   },
   {
    "duration": -556,
    "start_time": "2021-12-16T19:12:32.227Z"
   },
   {
    "duration": 11,
    "start_time": "2021-12-16T19:12:35.840Z"
   },
   {
    "duration": 188,
    "start_time": "2021-12-16T19:12:36.906Z"
   },
   {
    "duration": 247,
    "start_time": "2021-12-16T19:12:38.156Z"
   },
   {
    "duration": 87,
    "start_time": "2021-12-16T19:13:37.057Z"
   },
   {
    "duration": 4975,
    "start_time": "2021-12-16T19:17:08.569Z"
   },
   {
    "duration": -534,
    "start_time": "2021-12-16T19:17:14.082Z"
   },
   {
    "duration": -536,
    "start_time": "2021-12-16T19:17:14.085Z"
   },
   {
    "duration": 288,
    "start_time": "2021-12-16T19:22:36.152Z"
   },
   {
    "duration": 1229,
    "start_time": "2021-12-16T19:22:38.940Z"
   },
   {
    "duration": 30,
    "start_time": "2021-12-16T19:22:40.171Z"
   },
   {
    "duration": 16,
    "start_time": "2021-12-16T19:22:40.966Z"
   },
   {
    "duration": 12,
    "start_time": "2021-12-16T19:22:44.408Z"
   },
   {
    "duration": 9,
    "start_time": "2021-12-16T19:22:45.633Z"
   },
   {
    "duration": 40,
    "start_time": "2021-12-16T19:22:46.758Z"
   },
   {
    "duration": 3,
    "start_time": "2021-12-16T19:22:48.784Z"
   },
   {
    "duration": 8,
    "start_time": "2021-12-16T19:22:50.410Z"
   },
   {
    "duration": 5,
    "start_time": "2021-12-16T19:22:52.379Z"
   },
   {
    "duration": 4,
    "start_time": "2021-12-16T19:22:53.051Z"
   },
   {
    "duration": 12,
    "start_time": "2021-12-16T19:22:54.885Z"
   },
   {
    "duration": 4,
    "start_time": "2021-12-16T19:22:56.998Z"
   },
   {
    "duration": 5,
    "start_time": "2021-12-16T19:22:57.947Z"
   },
   {
    "duration": 12,
    "start_time": "2021-12-16T19:23:01.875Z"
   },
   {
    "duration": 314,
    "start_time": "2021-12-16T19:23:46.745Z"
   },
   {
    "duration": 6,
    "start_time": "2021-12-16T19:23:59.595Z"
   },
   {
    "duration": 269,
    "start_time": "2021-12-16T19:24:06.376Z"
   },
   {
    "duration": 432,
    "start_time": "2021-12-16T19:24:13.568Z"
   },
   {
    "duration": 356,
    "start_time": "2021-12-16T19:26:30.221Z"
   },
   {
    "duration": 375,
    "start_time": "2021-12-16T19:26:42.943Z"
   },
   {
    "duration": 447,
    "start_time": "2021-12-16T19:30:59.495Z"
   },
   {
    "duration": 269,
    "start_time": "2021-12-16T19:37:34.074Z"
   },
   {
    "duration": 354,
    "start_time": "2021-12-16T19:37:36.095Z"
   },
   {
    "duration": 271,
    "start_time": "2021-12-16T19:37:46.421Z"
   },
   {
    "duration": 267,
    "start_time": "2021-12-16T19:37:50.580Z"
   },
   {
    "duration": 6622,
    "start_time": "2021-12-16T19:38:10.938Z"
   },
   {
    "duration": 7344,
    "start_time": "2021-12-16T19:38:22.010Z"
   },
   {
    "duration": 364,
    "start_time": "2021-12-16T19:39:07.073Z"
   },
   {
    "duration": 271,
    "start_time": "2021-12-16T19:43:14.309Z"
   },
   {
    "duration": 270,
    "start_time": "2021-12-16T19:43:24.624Z"
   },
   {
    "duration": 1245,
    "start_time": "2021-12-16T19:43:27.065Z"
   },
   {
    "duration": 1325,
    "start_time": "2021-12-16T19:43:43.152Z"
   },
   {
    "duration": 269,
    "start_time": "2021-12-16T19:43:53.183Z"
   },
   {
    "duration": 1282,
    "start_time": "2021-12-16T19:43:58.638Z"
   },
   {
    "duration": 221,
    "start_time": "2021-12-16T19:48:46.196Z"
   },
   {
    "duration": 164,
    "start_time": "2021-12-16T19:49:04.979Z"
   },
   {
    "duration": 440,
    "start_time": "2021-12-16T19:53:18.081Z"
   },
   {
    "duration": 207,
    "start_time": "2021-12-16T19:53:49.868Z"
   },
   {
    "duration": 199,
    "start_time": "2021-12-16T19:53:59.491Z"
   },
   {
    "duration": 152,
    "start_time": "2021-12-16T19:54:31.013Z"
   },
   {
    "duration": 207,
    "start_time": "2021-12-16T20:01:56.563Z"
   },
   {
    "duration": 306,
    "start_time": "2021-12-16T20:01:57.951Z"
   },
   {
    "duration": 222,
    "start_time": "2021-12-16T20:02:01.103Z"
   },
   {
    "duration": 2,
    "start_time": "2021-12-16T20:02:18.658Z"
   },
   {
    "duration": 226,
    "start_time": "2021-12-16T20:09:10.732Z"
   },
   {
    "duration": 209151,
    "start_time": "2021-12-16T20:12:23.559Z"
   },
   {
    "duration": 270,
    "start_time": "2021-12-16T20:32:16.104Z"
   },
   {
    "duration": 439,
    "start_time": "2021-12-16T20:35:20.573Z"
   },
   {
    "duration": 225,
    "start_time": "2021-12-16T20:35:28.648Z"
   },
   {
    "duration": 399,
    "start_time": "2021-12-16T20:35:53.019Z"
   },
   {
    "duration": 205,
    "start_time": "2021-12-16T20:38:57.830Z"
   },
   {
    "duration": 419,
    "start_time": "2021-12-16T22:04:13.591Z"
   },
   {
    "duration": 2,
    "start_time": "2021-12-16T22:04:18.391Z"
   },
   {
    "duration": 18,
    "start_time": "2021-12-16T22:04:19.242Z"
   },
   {
    "duration": 37,
    "start_time": "2021-12-16T22:04:55.353Z"
   },
   {
    "duration": 4,
    "start_time": "2021-12-16T22:04:57.896Z"
   },
   {
    "duration": 5,
    "start_time": "2021-12-16T22:04:58.223Z"
   },
   {
    "duration": 4,
    "start_time": "2021-12-16T22:05:53.193Z"
   },
   {
    "duration": 5,
    "start_time": "2021-12-16T22:06:35.519Z"
   },
   {
    "duration": 4,
    "start_time": "2021-12-16T22:06:38.533Z"
   },
   {
    "duration": 278,
    "start_time": "2021-12-17T00:19:08.885Z"
   },
   {
    "duration": 1107,
    "start_time": "2021-12-17T00:19:16.838Z"
   },
   {
    "duration": 27,
    "start_time": "2021-12-17T00:19:17.947Z"
   },
   {
    "duration": 14,
    "start_time": "2021-12-17T00:19:17.976Z"
   },
   {
    "duration": 7,
    "start_time": "2021-12-17T00:19:17.992Z"
   },
   {
    "duration": 35,
    "start_time": "2021-12-17T00:19:18.000Z"
   },
   {
    "duration": 2,
    "start_time": "2021-12-17T00:19:18.036Z"
   },
   {
    "duration": 11,
    "start_time": "2021-12-17T00:19:18.040Z"
   },
   {
    "duration": 3,
    "start_time": "2021-12-17T00:19:18.053Z"
   },
   {
    "duration": 5,
    "start_time": "2021-12-17T00:19:18.059Z"
   },
   {
    "duration": 10,
    "start_time": "2021-12-17T00:19:18.087Z"
   },
   {
    "duration": 2,
    "start_time": "2021-12-17T00:19:18.099Z"
   },
   {
    "duration": 5,
    "start_time": "2021-12-17T00:19:18.103Z"
   },
   {
    "duration": 10,
    "start_time": "2021-12-17T00:19:18.109Z"
   },
   {
    "duration": 358,
    "start_time": "2021-12-17T00:19:18.120Z"
   },
   {
    "duration": 152,
    "start_time": "2021-12-17T00:19:18.480Z"
   },
   {
    "duration": 196,
    "start_time": "2021-12-17T00:19:18.634Z"
   },
   {
    "duration": 214,
    "start_time": "2021-12-17T00:19:18.831Z"
   },
   {
    "duration": 443,
    "start_time": "2021-12-17T00:19:19.046Z"
   },
   {
    "duration": 203,
    "start_time": "2021-12-17T00:19:19.491Z"
   },
   {
    "duration": 2,
    "start_time": "2021-12-17T00:19:19.695Z"
   },
   {
    "duration": 19,
    "start_time": "2021-12-17T00:19:19.699Z"
   },
   {
    "duration": 34,
    "start_time": "2021-12-17T00:19:19.719Z"
   },
   {
    "duration": 3,
    "start_time": "2021-12-17T00:19:19.755Z"
   },
   {
    "duration": 5,
    "start_time": "2021-12-17T00:19:19.760Z"
   },
   {
    "duration": 338,
    "start_time": "2021-12-17T00:19:19.787Z"
   },
   {
    "duration": 6,
    "start_time": "2021-12-17T00:19:34.558Z"
   },
   {
    "duration": 86,
    "start_time": "2021-12-17T00:19:50.266Z"
   },
   {
    "duration": 6,
    "start_time": "2021-12-17T00:19:52.461Z"
   },
   {
    "duration": 6,
    "start_time": "2021-12-17T00:20:40.316Z"
   },
   {
    "duration": 276,
    "start_time": "2021-12-17T00:20:52.818Z"
   },
   {
    "duration": 5,
    "start_time": "2021-12-17T00:21:09.225Z"
   },
   {
    "duration": 251,
    "start_time": "2021-12-17T00:22:18.167Z"
   },
   {
    "duration": 251,
    "start_time": "2021-12-17T00:22:27.003Z"
   },
   {
    "duration": 6,
    "start_time": "2021-12-17T00:22:30.546Z"
   },
   {
    "duration": 8,
    "start_time": "2021-12-17T00:22:34.459Z"
   },
   {
    "duration": 265,
    "start_time": "2021-12-17T00:22:58.051Z"
   },
   {
    "duration": 246,
    "start_time": "2021-12-17T00:23:06.767Z"
   },
   {
    "duration": 259,
    "start_time": "2021-12-17T01:13:03.390Z"
   },
   {
    "duration": 7,
    "start_time": "2021-12-17T01:13:16.513Z"
   },
   {
    "duration": 5,
    "start_time": "2021-12-17T01:17:07.935Z"
   },
   {
    "duration": 246,
    "start_time": "2021-12-17T01:18:01.043Z"
   },
   {
    "duration": 6,
    "start_time": "2021-12-17T01:18:03.617Z"
   },
   {
    "duration": 6,
    "start_time": "2021-12-17T01:18:13.174Z"
   },
   {
    "duration": 5,
    "start_time": "2021-12-17T01:18:18.330Z"
   },
   {
    "duration": 5,
    "start_time": "2021-12-17T01:18:26.078Z"
   },
   {
    "duration": 6,
    "start_time": "2021-12-17T01:18:54.185Z"
   },
   {
    "duration": 5,
    "start_time": "2021-12-17T01:18:56.130Z"
   },
   {
    "duration": 256,
    "start_time": "2021-12-17T01:19:51.832Z"
   },
   {
    "duration": 494,
    "start_time": "2021-12-17T01:20:05.093Z"
   },
   {
    "duration": 508,
    "start_time": "2021-12-17T01:20:20.322Z"
   },
   {
    "duration": 6,
    "start_time": "2021-12-17T01:20:40.380Z"
   },
   {
    "duration": 6,
    "start_time": "2021-12-17T01:20:43.892Z"
   },
   {
    "duration": 482,
    "start_time": "2021-12-17T01:20:44.476Z"
   },
   {
    "duration": 6,
    "start_time": "2021-12-17T01:21:18.817Z"
   },
   {
    "duration": 5,
    "start_time": "2021-12-17T01:21:22.800Z"
   },
   {
    "duration": 473,
    "start_time": "2021-12-17T01:21:23.060Z"
   },
   {
    "duration": 5,
    "start_time": "2021-12-17T01:21:51.366Z"
   },
   {
    "duration": 5,
    "start_time": "2021-12-17T01:21:55.810Z"
   },
   {
    "duration": 19,
    "start_time": "2021-12-17T01:21:56.081Z"
   },
   {
    "duration": 6,
    "start_time": "2021-12-17T01:22:51.393Z"
   },
   {
    "duration": 6,
    "start_time": "2021-12-17T01:23:18.998Z"
   },
   {
    "duration": 1134,
    "start_time": "2021-12-17T01:23:25.718Z"
   },
   {
    "duration": 28,
    "start_time": "2021-12-17T01:23:26.853Z"
   },
   {
    "duration": 13,
    "start_time": "2021-12-17T01:23:26.883Z"
   },
   {
    "duration": 7,
    "start_time": "2021-12-17T01:23:26.898Z"
   },
   {
    "duration": 36,
    "start_time": "2021-12-17T01:23:26.907Z"
   },
   {
    "duration": 2,
    "start_time": "2021-12-17T01:23:26.944Z"
   },
   {
    "duration": 12,
    "start_time": "2021-12-17T01:23:26.948Z"
   },
   {
    "duration": 4,
    "start_time": "2021-12-17T01:23:26.962Z"
   },
   {
    "duration": 25,
    "start_time": "2021-12-17T01:23:26.967Z"
   },
   {
    "duration": 12,
    "start_time": "2021-12-17T01:23:26.993Z"
   },
   {
    "duration": 3,
    "start_time": "2021-12-17T01:23:27.006Z"
   },
   {
    "duration": 6,
    "start_time": "2021-12-17T01:23:27.011Z"
   },
   {
    "duration": 11,
    "start_time": "2021-12-17T01:23:27.019Z"
   },
   {
    "duration": 362,
    "start_time": "2021-12-17T01:23:27.031Z"
   },
   {
    "duration": 152,
    "start_time": "2021-12-17T01:23:27.395Z"
   },
   {
    "duration": 201,
    "start_time": "2021-12-17T01:23:27.549Z"
   },
   {
    "duration": 223,
    "start_time": "2021-12-17T01:23:27.752Z"
   },
   {
    "duration": 443,
    "start_time": "2021-12-17T01:23:27.977Z"
   },
   {
    "duration": 195,
    "start_time": "2021-12-17T01:23:28.422Z"
   },
   {
    "duration": 2,
    "start_time": "2021-12-17T01:23:28.619Z"
   },
   {
    "duration": 19,
    "start_time": "2021-12-17T01:23:28.623Z"
   },
   {
    "duration": 50,
    "start_time": "2021-12-17T01:23:28.643Z"
   },
   {
    "duration": 3,
    "start_time": "2021-12-17T01:23:28.696Z"
   },
   {
    "duration": 5,
    "start_time": "2021-12-17T01:23:28.701Z"
   },
   {
    "duration": 320,
    "start_time": "2021-12-17T01:23:28.708Z"
   },
   {
    "duration": 6,
    "start_time": "2021-12-17T01:23:37.766Z"
   },
   {
    "duration": 5,
    "start_time": "2021-12-17T01:31:25.302Z"
   },
   {
    "duration": 5,
    "start_time": "2021-12-17T01:31:50.544Z"
   },
   {
    "duration": 6,
    "start_time": "2021-12-17T01:31:53.548Z"
   },
   {
    "duration": 253,
    "start_time": "2021-12-17T01:36:45.665Z"
   },
   {
    "duration": 266,
    "start_time": "2021-12-17T01:37:04.485Z"
   },
   {
    "duration": 78,
    "start_time": "2021-12-17T01:43:35.382Z"
   },
   {
    "duration": 82,
    "start_time": "2021-12-17T01:44:25.160Z"
   },
   {
    "duration": 85,
    "start_time": "2021-12-17T01:44:29.649Z"
   },
   {
    "duration": 4,
    "start_time": "2021-12-17T01:44:44.932Z"
   },
   {
    "duration": 20,
    "start_time": "2021-12-17T01:49:06.232Z"
   },
   {
    "duration": 258,
    "start_time": "2021-12-17T02:01:50.816Z"
   },
   {
    "duration": 22,
    "start_time": "2021-12-17T02:02:00.145Z"
   },
   {
    "duration": 21,
    "start_time": "2021-12-17T02:04:51.368Z"
   },
   {
    "duration": 19,
    "start_time": "2021-12-17T02:05:13.154Z"
   },
   {
    "duration": 21,
    "start_time": "2021-12-17T02:05:16.396Z"
   },
   {
    "duration": 20,
    "start_time": "2021-12-17T02:05:23.345Z"
   },
   {
    "duration": 20,
    "start_time": "2021-12-17T02:05:25.566Z"
   },
   {
    "duration": 28,
    "start_time": "2021-12-17T02:09:33.700Z"
   },
   {
    "duration": 93,
    "start_time": "2021-12-17T02:09:40.100Z"
   },
   {
    "duration": 21,
    "start_time": "2021-12-17T02:18:50.087Z"
   },
   {
    "duration": 270,
    "start_time": "2021-12-17T02:19:58.792Z"
   },
   {
    "duration": 336,
    "start_time": "2021-12-17T02:20:39.292Z"
   },
   {
    "duration": 267,
    "start_time": "2021-12-17T02:20:45.330Z"
   },
   {
    "duration": 298,
    "start_time": "2021-12-17T02:21:03.290Z"
   },
   {
    "duration": 253,
    "start_time": "2021-12-17T02:21:36.796Z"
   },
   {
    "duration": 288,
    "start_time": "2021-12-17T02:21:47.507Z"
   },
   {
    "duration": 23,
    "start_time": "2021-12-17T02:21:54.086Z"
   },
   {
    "duration": 20,
    "start_time": "2021-12-17T02:21:56.563Z"
   },
   {
    "duration": 263,
    "start_time": "2021-12-17T02:39:54.753Z"
   },
   {
    "duration": 241,
    "start_time": "2021-12-17T02:39:57.497Z"
   },
   {
    "duration": 81,
    "start_time": "2021-12-17T02:40:04.798Z"
   },
   {
    "duration": 450,
    "start_time": "2021-12-17T03:04:22.260Z"
   },
   {
    "duration": 6,
    "start_time": "2021-12-17T03:04:40.748Z"
   },
   {
    "duration": 21,
    "start_time": "2021-12-17T03:04:46.122Z"
   },
   {
    "duration": 269,
    "start_time": "2021-12-17T03:17:16.798Z"
   },
   {
    "duration": 44,
    "start_time": "2021-12-17T03:17:57.119Z"
   },
   {
    "duration": 81,
    "start_time": "2021-12-17T03:24:20.907Z"
   },
   {
    "duration": 21,
    "start_time": "2021-12-17T03:25:07.327Z"
   },
   {
    "duration": 21,
    "start_time": "2021-12-17T03:26:10.891Z"
   },
   {
    "duration": 20,
    "start_time": "2021-12-17T04:05:57.830Z"
   },
   {
    "duration": 27,
    "start_time": "2021-12-17T04:06:01.870Z"
   },
   {
    "duration": 248,
    "start_time": "2021-12-17T04:27:41.276Z"
   },
   {
    "duration": 12,
    "start_time": "2021-12-17T04:33:17.447Z"
   },
   {
    "duration": 292,
    "start_time": "2021-12-17T04:34:22.063Z"
   },
   {
    "duration": 17,
    "start_time": "2021-12-17T04:34:24.107Z"
   },
   {
    "duration": 307,
    "start_time": "2021-12-17T04:34:25.361Z"
   },
   {
    "duration": 322,
    "start_time": "2021-12-17T04:34:51.547Z"
   },
   {
    "duration": 40,
    "start_time": "2021-12-17T04:34:55.802Z"
   },
   {
    "duration": 41,
    "start_time": "2021-12-17T04:49:22.790Z"
   },
   {
    "duration": 12,
    "start_time": "2021-12-17T04:49:25.734Z"
   },
   {
    "duration": 192,
    "start_time": "2021-12-17T04:50:24.701Z"
   },
   {
    "duration": 430,
    "start_time": "2021-12-17T04:56:14.524Z"
   },
   {
    "duration": 19,
    "start_time": "2021-12-17T04:56:25.931Z"
   },
   {
    "duration": 196,
    "start_time": "2021-12-17T05:01:04.297Z"
   },
   {
    "duration": 326,
    "start_time": "2021-12-17T06:28:36.136Z"
   },
   {
    "duration": 343,
    "start_time": "2021-12-17T06:28:56.450Z"
   },
   {
    "duration": 10393,
    "start_time": "2021-12-17T06:29:01.589Z"
   },
   {
    "duration": -871,
    "start_time": "2021-12-17T06:35:33.272Z"
   },
   {
    "duration": 16486,
    "start_time": "2021-12-17T06:38:42.008Z"
   },
   {
    "duration": -921,
    "start_time": "2021-12-17T06:39:52.090Z"
   },
   {
    "duration": 18308,
    "start_time": "2021-12-17T06:40:27.259Z"
   },
   {
    "duration": -702,
    "start_time": "2021-12-17T06:41:12.446Z"
   },
   {
    "duration": 10312,
    "start_time": "2021-12-17T06:57:12.401Z"
   },
   {
    "duration": 10240,
    "start_time": "2021-12-17T06:57:26.659Z"
   },
   {
    "duration": 541,
    "start_time": "2021-12-17T19:04:17.943Z"
   },
   {
    "duration": 1836,
    "start_time": "2021-12-17T19:08:18.393Z"
   },
   {
    "duration": 9,
    "start_time": "2021-12-17T19:08:22.438Z"
   },
   {
    "duration": 6,
    "start_time": "2021-12-17T19:37:57.477Z"
   },
   {
    "duration": 6,
    "start_time": "2021-12-17T19:38:00.174Z"
   },
   {
    "duration": 7,
    "start_time": "2021-12-17T19:38:02.834Z"
   },
   {
    "duration": 476,
    "start_time": "2021-12-17T19:49:52.273Z"
   },
   {
    "duration": 490,
    "start_time": "2021-12-17T19:51:19.657Z"
   },
   {
    "duration": 388,
    "start_time": "2021-12-17T19:51:57.980Z"
   },
   {
    "duration": 1644,
    "start_time": "2021-12-17T19:52:08.045Z"
   },
   {
    "duration": 37,
    "start_time": "2021-12-17T19:52:09.692Z"
   },
   {
    "duration": 29,
    "start_time": "2021-12-17T19:52:09.732Z"
   },
   {
    "duration": 12,
    "start_time": "2021-12-17T19:52:09.764Z"
   },
   {
    "duration": 84,
    "start_time": "2021-12-17T19:52:09.779Z"
   },
   {
    "duration": 3,
    "start_time": "2021-12-17T19:52:09.866Z"
   },
   {
    "duration": 15,
    "start_time": "2021-12-17T19:52:09.872Z"
   },
   {
    "duration": 5,
    "start_time": "2021-12-17T19:52:09.892Z"
   },
   {
    "duration": 8,
    "start_time": "2021-12-17T19:52:09.901Z"
   },
   {
    "duration": 59,
    "start_time": "2021-12-17T19:52:09.911Z"
   },
   {
    "duration": 4,
    "start_time": "2021-12-17T19:52:09.972Z"
   },
   {
    "duration": 13,
    "start_time": "2021-12-17T19:52:09.978Z"
   },
   {
    "duration": 19,
    "start_time": "2021-12-17T19:52:09.993Z"
   },
   {
    "duration": 628,
    "start_time": "2021-12-17T19:52:10.015Z"
   },
   {
    "duration": 284,
    "start_time": "2021-12-17T19:52:10.646Z"
   },
   {
    "duration": 386,
    "start_time": "2021-12-17T19:52:10.933Z"
   },
   {
    "duration": 418,
    "start_time": "2021-12-17T19:52:11.321Z"
   },
   {
    "duration": 745,
    "start_time": "2021-12-17T19:52:11.741Z"
   },
   {
    "duration": 376,
    "start_time": "2021-12-17T19:52:12.489Z"
   },
   {
    "duration": 3,
    "start_time": "2021-12-17T19:52:12.868Z"
   },
   {
    "duration": 27,
    "start_time": "2021-12-17T19:52:12.874Z"
   },
   {
    "duration": 87,
    "start_time": "2021-12-17T19:52:12.903Z"
   },
   {
    "duration": 8,
    "start_time": "2021-12-17T19:52:12.995Z"
   },
   {
    "duration": 8,
    "start_time": "2021-12-17T19:52:13.006Z"
   },
   {
    "duration": 9,
    "start_time": "2021-12-17T19:52:13.017Z"
   },
   {
    "duration": 7,
    "start_time": "2021-12-17T19:52:13.058Z"
   },
   {
    "duration": 865,
    "start_time": "2021-12-17T19:52:13.067Z"
   },
   {
    "duration": -127,
    "start_time": "2021-12-17T19:52:14.062Z"
   },
   {
    "duration": -332,
    "start_time": "2021-12-17T19:52:14.269Z"
   },
   {
    "duration": -337,
    "start_time": "2021-12-17T19:52:14.277Z"
   },
   {
    "duration": -339,
    "start_time": "2021-12-17T19:52:14.280Z"
   },
   {
    "duration": -339,
    "start_time": "2021-12-17T19:52:14.283Z"
   },
   {
    "duration": -341,
    "start_time": "2021-12-17T19:52:14.287Z"
   },
   {
    "duration": -342,
    "start_time": "2021-12-17T19:52:14.290Z"
   },
   {
    "duration": -343,
    "start_time": "2021-12-17T19:52:14.293Z"
   },
   {
    "duration": -343,
    "start_time": "2021-12-17T19:52:14.295Z"
   },
   {
    "duration": 21,
    "start_time": "2021-12-17T19:54:04.749Z"
   },
   {
    "duration": 714,
    "start_time": "2021-12-17T19:54:12.751Z"
   },
   {
    "duration": 12,
    "start_time": "2021-12-17T20:45:47.831Z"
   },
   {
    "duration": 374,
    "start_time": "2021-12-17T20:45:54.018Z"
   },
   {
    "duration": 1041,
    "start_time": "2021-12-17T20:46:00.241Z"
   },
   {
    "duration": 19,
    "start_time": "2021-12-17T20:49:20.927Z"
   },
   {
    "duration": 875,
    "start_time": "2021-12-17T20:49:45.668Z"
   },
   {
    "duration": 372,
    "start_time": "2021-12-17T20:59:32.420Z"
   },
   {
    "duration": 370,
    "start_time": "2021-12-17T20:59:34.407Z"
   },
   {
    "duration": 832,
    "start_time": "2021-12-17T20:59:40.795Z"
   },
   {
    "duration": 8,
    "start_time": "2021-12-17T21:01:23.247Z"
   },
   {
    "duration": 2016,
    "start_time": "2021-12-17T21:01:26.473Z"
   },
   {
    "duration": 12,
    "start_time": "2021-12-17T21:04:16.772Z"
   },
   {
    "duration": 412,
    "start_time": "2021-12-17T21:04:23.749Z"
   },
   {
    "duration": 10,
    "start_time": "2021-12-17T21:04:26.776Z"
   },
   {
    "duration": 7,
    "start_time": "2021-12-17T21:10:12.936Z"
   },
   {
    "duration": 4579,
    "start_time": "2021-12-17T21:10:15.650Z"
   },
   {
    "duration": 980,
    "start_time": "2021-12-17T21:10:28.045Z"
   },
   {
    "duration": 8,
    "start_time": "2021-12-17T21:10:34.604Z"
   },
   {
    "duration": 975,
    "start_time": "2021-12-17T21:10:36.466Z"
   },
   {
    "duration": 13,
    "start_time": "2021-12-17T21:11:06.452Z"
   },
   {
    "duration": 243,
    "start_time": "2021-12-17T21:11:07.231Z"
   },
   {
    "duration": 12,
    "start_time": "2021-12-17T21:12:19.827Z"
   },
   {
    "duration": 134,
    "start_time": "2021-12-17T21:12:22.458Z"
   },
   {
    "duration": 9,
    "start_time": "2021-12-17T21:12:24.135Z"
   },
   {
    "duration": 13,
    "start_time": "2021-12-17T21:12:32.623Z"
   },
   {
    "duration": 217,
    "start_time": "2021-12-17T21:12:33.157Z"
   },
   {
    "duration": 482,
    "start_time": "2021-12-17T21:22:31.052Z"
   },
   {
    "duration": 82,
    "start_time": "2021-12-17T21:22:39.381Z"
   },
   {
    "duration": 358,
    "start_time": "2021-12-17T21:22:39.803Z"
   },
   {
    "duration": 540,
    "start_time": "2021-12-17T21:23:05.902Z"
   },
   {
    "duration": 29,
    "start_time": "2021-12-17T21:23:11.834Z"
   },
   {
    "duration": 263,
    "start_time": "2021-12-17T21:24:36.710Z"
   },
   {
    "duration": 234,
    "start_time": "2021-12-17T21:24:58.042Z"
   },
   {
    "duration": 12,
    "start_time": "2021-12-17T21:49:26.296Z"
   },
   {
    "duration": 772,
    "start_time": "2021-12-17T21:49:26.761Z"
   },
   {
    "duration": 12,
    "start_time": "2021-12-17T21:49:44.972Z"
   },
   {
    "duration": 808,
    "start_time": "2021-12-17T21:49:45.334Z"
   },
   {
    "duration": 11,
    "start_time": "2021-12-17T21:50:04.434Z"
   },
   {
    "duration": 192,
    "start_time": "2021-12-17T21:50:05.970Z"
   },
   {
    "duration": 13,
    "start_time": "2021-12-17T21:50:19.624Z"
   },
   {
    "duration": 235,
    "start_time": "2021-12-17T21:50:20.436Z"
   },
   {
    "duration": 13,
    "start_time": "2021-12-17T21:50:30.698Z"
   },
   {
    "duration": 211,
    "start_time": "2021-12-17T21:50:31.361Z"
   },
   {
    "duration": 11,
    "start_time": "2021-12-17T21:50:54.108Z"
   },
   {
    "duration": 879,
    "start_time": "2021-12-17T21:50:54.528Z"
   },
   {
    "duration": 12,
    "start_time": "2021-12-17T21:51:13.613Z"
   },
   {
    "duration": 141,
    "start_time": "2021-12-17T21:51:13.628Z"
   },
   {
    "duration": 1609,
    "start_time": "2021-12-17T21:59:19.845Z"
   },
   {
    "duration": 37,
    "start_time": "2021-12-17T21:59:21.457Z"
   },
   {
    "duration": 23,
    "start_time": "2021-12-17T21:59:21.497Z"
   },
   {
    "duration": 17,
    "start_time": "2021-12-17T21:59:21.522Z"
   },
   {
    "duration": 74,
    "start_time": "2021-12-17T21:59:21.542Z"
   },
   {
    "duration": 4,
    "start_time": "2021-12-17T21:59:21.618Z"
   },
   {
    "duration": 35,
    "start_time": "2021-12-17T21:59:21.624Z"
   },
   {
    "duration": 5,
    "start_time": "2021-12-17T21:59:21.663Z"
   },
   {
    "duration": 5,
    "start_time": "2021-12-17T21:59:21.672Z"
   },
   {
    "duration": 18,
    "start_time": "2021-12-17T21:59:21.680Z"
   },
   {
    "duration": 5,
    "start_time": "2021-12-17T21:59:21.700Z"
   },
   {
    "duration": 7,
    "start_time": "2021-12-17T21:59:21.707Z"
   },
   {
    "duration": 56,
    "start_time": "2021-12-17T21:59:21.717Z"
   },
   {
    "duration": 620,
    "start_time": "2021-12-17T21:59:21.776Z"
   },
   {
    "duration": 267,
    "start_time": "2021-12-17T21:59:22.399Z"
   },
   {
    "duration": 455,
    "start_time": "2021-12-17T21:59:22.668Z"
   },
   {
    "duration": 417,
    "start_time": "2021-12-17T21:59:23.126Z"
   },
   {
    "duration": 746,
    "start_time": "2021-12-17T21:59:23.546Z"
   },
   {
    "duration": 356,
    "start_time": "2021-12-17T21:59:24.294Z"
   },
   {
    "duration": 3,
    "start_time": "2021-12-17T21:59:24.659Z"
   },
   {
    "duration": 32,
    "start_time": "2021-12-17T21:59:24.664Z"
   },
   {
    "duration": 76,
    "start_time": "2021-12-17T21:59:24.698Z"
   },
   {
    "duration": 6,
    "start_time": "2021-12-17T21:59:24.778Z"
   },
   {
    "duration": 6,
    "start_time": "2021-12-17T21:59:24.787Z"
   },
   {
    "duration": 9,
    "start_time": "2021-12-17T21:59:24.796Z"
   },
   {
    "duration": 11,
    "start_time": "2021-12-17T21:59:24.808Z"
   },
   {
    "duration": 252,
    "start_time": "2021-12-17T21:59:24.821Z"
   },
   {
    "duration": 27,
    "start_time": "2021-12-17T21:59:25.076Z"
   },
   {
    "duration": 158,
    "start_time": "2021-12-17T21:59:25.106Z"
   },
   {
    "duration": 467,
    "start_time": "2021-12-17T21:59:25.268Z"
   },
   {
    "duration": 32,
    "start_time": "2021-12-17T21:59:25.738Z"
   },
   {
    "duration": 301,
    "start_time": "2021-12-17T21:59:25.772Z"
   },
   {
    "duration": 490,
    "start_time": "2021-12-17T21:59:26.076Z"
   },
   {
    "duration": 18481,
    "start_time": "2021-12-17T21:59:26.569Z"
   },
   {
    "duration": 540,
    "start_time": "2021-12-17T21:59:45.059Z"
   },
   {
    "duration": -259,
    "start_time": "2021-12-17T21:59:45.860Z"
   },
   {
    "duration": -261,
    "start_time": "2021-12-17T21:59:45.864Z"
   },
   {
    "duration": 434,
    "start_time": "2021-12-17T22:00:37.083Z"
   },
   {
    "duration": 883,
    "start_time": "2021-12-17T22:00:50.042Z"
   },
   {
    "duration": 405,
    "start_time": "2021-12-17T22:34:51.278Z"
   },
   {
    "duration": 18,
    "start_time": "2021-12-17T22:34:58.114Z"
   },
   {
    "duration": 3899,
    "start_time": "2021-12-17T22:35:09.120Z"
   },
   {
    "duration": 1177,
    "start_time": "2021-12-17T22:35:37.816Z"
   },
   {
    "duration": 14060,
    "start_time": "2021-12-17T22:35:46.277Z"
   },
   {
    "duration": 14342,
    "start_time": "2021-12-17T22:36:32.578Z"
   },
   {
    "duration": 19551,
    "start_time": "2021-12-17T22:40:36.000Z"
   },
   {
    "duration": 7741,
    "start_time": "2021-12-17T22:41:14.959Z"
   },
   {
    "duration": 28,
    "start_time": "2021-12-17T22:47:09.286Z"
   },
   {
    "duration": 64,
    "start_time": "2021-12-17T22:47:24.499Z"
   },
   {
    "duration": 395,
    "start_time": "2021-12-17T22:47:25.266Z"
   },
   {
    "duration": 19,
    "start_time": "2021-12-17T22:47:31.888Z"
   },
   {
    "duration": 269,
    "start_time": "2021-12-17T22:47:33.001Z"
   },
   {
    "duration": 278,
    "start_time": "2021-12-17T22:47:40.386Z"
   },
   {
    "duration": 7628,
    "start_time": "2021-12-17T22:48:08.972Z"
   },
   {
    "duration": 12674,
    "start_time": "2021-12-17T22:48:57.193Z"
   },
   {
    "duration": 376,
    "start_time": "2021-12-17T22:49:09.870Z"
   },
   {
    "duration": 359,
    "start_time": "2021-12-17T22:49:17.092Z"
   },
   {
    "duration": 14957,
    "start_time": "2021-12-17T22:50:17.048Z"
   },
   {
    "duration": 499,
    "start_time": "2021-12-17T23:22:49.964Z"
   },
   {
    "duration": 487,
    "start_time": "2021-12-17T23:23:33.982Z"
   },
   {
    "duration": 454,
    "start_time": "2021-12-17T23:23:38.115Z"
   },
   {
    "duration": 1625,
    "start_time": "2021-12-17T23:24:09.110Z"
   },
   {
    "duration": 38,
    "start_time": "2021-12-17T23:24:10.738Z"
   },
   {
    "duration": 23,
    "start_time": "2021-12-17T23:24:10.779Z"
   },
   {
    "duration": 13,
    "start_time": "2021-12-17T23:24:11.882Z"
   },
   {
    "duration": 63,
    "start_time": "2021-12-17T23:24:12.230Z"
   },
   {
    "duration": 3,
    "start_time": "2021-12-17T23:24:13.070Z"
   },
   {
    "duration": 9,
    "start_time": "2021-12-17T23:24:13.471Z"
   },
   {
    "duration": 6,
    "start_time": "2021-12-17T23:24:14.526Z"
   },
   {
    "duration": 6,
    "start_time": "2021-12-17T23:24:14.936Z"
   },
   {
    "duration": 18,
    "start_time": "2021-12-17T23:24:15.676Z"
   },
   {
    "duration": 5,
    "start_time": "2021-12-17T23:24:16.374Z"
   },
   {
    "duration": 7,
    "start_time": "2021-12-17T23:24:17.374Z"
   },
   {
    "duration": 17,
    "start_time": "2021-12-17T23:24:17.719Z"
   },
   {
    "duration": 573,
    "start_time": "2021-12-17T23:24:20.221Z"
   },
   {
    "duration": 246,
    "start_time": "2021-12-17T23:24:23.965Z"
   },
   {
    "duration": 329,
    "start_time": "2021-12-17T23:24:27.200Z"
   },
   {
    "duration": 394,
    "start_time": "2021-12-17T23:24:29.022Z"
   },
   {
    "duration": 734,
    "start_time": "2021-12-17T23:24:30.486Z"
   },
   {
    "duration": 340,
    "start_time": "2021-12-17T23:24:31.497Z"
   },
   {
    "duration": 4,
    "start_time": "2021-12-17T23:24:34.038Z"
   },
   {
    "duration": 28,
    "start_time": "2021-12-17T23:24:34.399Z"
   },
   {
    "duration": 28,
    "start_time": "2021-12-17T23:24:45.952Z"
   },
   {
    "duration": 691,
    "start_time": "2021-12-17T23:25:10.795Z"
   },
   {
    "duration": 533,
    "start_time": "2021-12-17T23:25:24.905Z"
   },
   {
    "duration": 3,
    "start_time": "2021-12-17T23:25:29.194Z"
   },
   {
    "duration": 26,
    "start_time": "2021-12-17T23:25:29.522Z"
   },
   {
    "duration": 431,
    "start_time": "2021-12-17T23:25:30.723Z"
   },
   {
    "duration": 9,
    "start_time": "2021-12-17T23:25:41.976Z"
   },
   {
    "duration": 5,
    "start_time": "2021-12-17T23:25:52.550Z"
   },
   {
    "duration": 6,
    "start_time": "2021-12-17T23:26:03.179Z"
   },
   {
    "duration": 55,
    "start_time": "2021-12-17T23:26:11.812Z"
   },
   {
    "duration": 6,
    "start_time": "2021-12-17T23:26:12.424Z"
   },
   {
    "duration": 6,
    "start_time": "2021-12-17T23:26:13.631Z"
   },
   {
    "duration": 9,
    "start_time": "2021-12-17T23:26:17.334Z"
   },
   {
    "duration": 16,
    "start_time": "2021-12-17T23:27:06.180Z"
   },
   {
    "duration": 806,
    "start_time": "2021-12-17T23:27:08.362Z"
   },
   {
    "duration": 12,
    "start_time": "2021-12-17T23:27:16.957Z"
   },
   {
    "duration": 11,
    "start_time": "2021-12-17T23:27:19.552Z"
   },
   {
    "duration": 240,
    "start_time": "2021-12-17T23:27:20.727Z"
   },
   {
    "duration": 1585,
    "start_time": "2021-12-17T23:28:51.387Z"
   },
   {
    "duration": 37,
    "start_time": "2021-12-17T23:28:52.974Z"
   },
   {
    "duration": 24,
    "start_time": "2021-12-17T23:28:53.014Z"
   },
   {
    "duration": 24,
    "start_time": "2021-12-17T23:28:53.041Z"
   },
   {
    "duration": 61,
    "start_time": "2021-12-17T23:28:53.068Z"
   },
   {
    "duration": 27,
    "start_time": "2021-12-17T23:28:53.132Z"
   },
   {
    "duration": 10,
    "start_time": "2021-12-17T23:28:53.162Z"
   },
   {
    "duration": 5,
    "start_time": "2021-12-17T23:28:53.174Z"
   },
   {
    "duration": 6,
    "start_time": "2021-12-17T23:28:53.183Z"
   },
   {
    "duration": 17,
    "start_time": "2021-12-17T23:28:53.192Z"
   },
   {
    "duration": 4,
    "start_time": "2021-12-17T23:28:53.211Z"
   },
   {
    "duration": 48,
    "start_time": "2021-12-17T23:28:53.217Z"
   },
   {
    "duration": 15,
    "start_time": "2021-12-17T23:28:53.267Z"
   },
   {
    "duration": 604,
    "start_time": "2021-12-17T23:28:53.285Z"
   },
   {
    "duration": 275,
    "start_time": "2021-12-17T23:28:53.891Z"
   },
   {
    "duration": 365,
    "start_time": "2021-12-17T23:28:54.168Z"
   },
   {
    "duration": 417,
    "start_time": "2021-12-17T23:28:54.535Z"
   },
   {
    "duration": 839,
    "start_time": "2021-12-17T23:28:54.959Z"
   },
   {
    "duration": 353,
    "start_time": "2021-12-17T23:28:55.800Z"
   },
   {
    "duration": 5,
    "start_time": "2021-12-17T23:28:56.155Z"
   },
   {
    "duration": 28,
    "start_time": "2021-12-17T23:28:56.163Z"
   },
   {
    "duration": 84,
    "start_time": "2021-12-17T23:28:56.194Z"
   },
   {
    "duration": 6,
    "start_time": "2021-12-17T23:28:56.281Z"
   },
   {
    "duration": 8,
    "start_time": "2021-12-17T23:28:56.289Z"
   },
   {
    "duration": 10,
    "start_time": "2021-12-17T23:28:56.299Z"
   },
   {
    "duration": 10,
    "start_time": "2021-12-17T23:28:56.312Z"
   },
   {
    "duration": 3,
    "start_time": "2021-12-17T23:28:56.359Z"
   },
   {
    "duration": 34,
    "start_time": "2021-12-17T23:45:30.835Z"
   },
   {
    "duration": 48,
    "start_time": "2021-12-17T23:45:57.815Z"
   },
   {
    "duration": 355,
    "start_time": "2021-12-17T23:45:59.522Z"
   },
   {
    "duration": 20,
    "start_time": "2021-12-17T23:46:08.725Z"
   },
   {
    "duration": 1207,
    "start_time": "2021-12-17T23:46:28.736Z"
   },
   {
    "duration": 11,
    "start_time": "2021-12-17T23:47:20.878Z"
   },
   {
    "duration": 428,
    "start_time": "2021-12-17T23:47:27.240Z"
   },
   {
    "duration": 440,
    "start_time": "2021-12-17T23:48:07.331Z"
   },
   {
    "duration": 1602,
    "start_time": "2021-12-17T23:48:21.928Z"
   },
   {
    "duration": 37,
    "start_time": "2021-12-17T23:48:23.532Z"
   },
   {
    "duration": 22,
    "start_time": "2021-12-17T23:48:23.572Z"
   },
   {
    "duration": 12,
    "start_time": "2021-12-17T23:48:23.597Z"
   },
   {
    "duration": 91,
    "start_time": "2021-12-17T23:48:23.612Z"
   },
   {
    "duration": 3,
    "start_time": "2021-12-17T23:48:23.706Z"
   },
   {
    "duration": 13,
    "start_time": "2021-12-17T23:48:23.711Z"
   },
   {
    "duration": 4,
    "start_time": "2021-12-17T23:48:23.728Z"
   },
   {
    "duration": 29,
    "start_time": "2021-12-17T23:48:23.735Z"
   },
   {
    "duration": 21,
    "start_time": "2021-12-17T23:48:23.767Z"
   },
   {
    "duration": 5,
    "start_time": "2021-12-17T23:48:23.790Z"
   },
   {
    "duration": 7,
    "start_time": "2021-12-17T23:48:23.797Z"
   },
   {
    "duration": 54,
    "start_time": "2021-12-17T23:48:23.807Z"
   },
   {
    "duration": 577,
    "start_time": "2021-12-17T23:48:23.863Z"
   },
   {
    "duration": 264,
    "start_time": "2021-12-17T23:48:24.442Z"
   },
   {
    "duration": 354,
    "start_time": "2021-12-17T23:48:24.709Z"
   },
   {
    "duration": 397,
    "start_time": "2021-12-17T23:48:25.065Z"
   },
   {
    "duration": 715,
    "start_time": "2021-12-17T23:48:25.464Z"
   },
   {
    "duration": 356,
    "start_time": "2021-12-17T23:48:26.182Z"
   },
   {
    "duration": 3,
    "start_time": "2021-12-17T23:48:26.541Z"
   },
   {
    "duration": 38,
    "start_time": "2021-12-17T23:48:26.546Z"
   },
   {
    "duration": 73,
    "start_time": "2021-12-17T23:48:26.586Z"
   },
   {
    "duration": 6,
    "start_time": "2021-12-17T23:48:26.663Z"
   },
   {
    "duration": 12,
    "start_time": "2021-12-17T23:48:26.671Z"
   },
   {
    "duration": 22,
    "start_time": "2021-12-17T23:48:26.685Z"
   },
   {
    "duration": 13,
    "start_time": "2021-12-17T23:48:26.710Z"
   },
   {
    "duration": 20,
    "start_time": "2021-12-17T23:48:26.725Z"
   },
   {
    "duration": 38,
    "start_time": "2021-12-17T23:48:26.747Z"
   },
   {
    "duration": 36,
    "start_time": "2021-12-17T23:48:26.788Z"
   },
   {
    "duration": 399,
    "start_time": "2021-12-17T23:48:26.860Z"
   },
   {
    "duration": 22,
    "start_time": "2021-12-17T23:48:27.262Z"
   },
   {
    "duration": 476,
    "start_time": "2021-12-17T23:48:27.287Z"
   },
   {
    "duration": 14713,
    "start_time": "2021-12-17T23:48:48.348Z"
   },
   {
    "duration": 228,
    "start_time": "2021-12-17T23:49:42.339Z"
   },
   {
    "duration": 30,
    "start_time": "2021-12-17T23:50:09.887Z"
   },
   {
    "duration": 30,
    "start_time": "2021-12-17T23:50:39.066Z"
   },
   {
    "duration": 233,
    "start_time": "2021-12-18T07:07:28.048Z"
   },
   {
    "duration": 219,
    "start_time": "2021-12-18T07:13:08.157Z"
   },
   {
    "duration": 1189,
    "start_time": "2021-12-18T07:13:25.691Z"
   },
   {
    "duration": 29,
    "start_time": "2021-12-18T07:13:26.882Z"
   },
   {
    "duration": 14,
    "start_time": "2021-12-18T07:13:26.913Z"
   },
   {
    "duration": 9,
    "start_time": "2021-12-18T07:13:26.929Z"
   },
   {
    "duration": 51,
    "start_time": "2021-12-18T07:13:26.940Z"
   },
   {
    "duration": 2,
    "start_time": "2021-12-18T07:13:26.993Z"
   },
   {
    "duration": 9,
    "start_time": "2021-12-18T07:13:26.996Z"
   },
   {
    "duration": 4,
    "start_time": "2021-12-18T07:13:27.007Z"
   },
   {
    "duration": 5,
    "start_time": "2021-12-18T07:13:27.013Z"
   },
   {
    "duration": 11,
    "start_time": "2021-12-18T07:13:27.020Z"
   },
   {
    "duration": 4,
    "start_time": "2021-12-18T07:13:27.032Z"
   },
   {
    "duration": 6,
    "start_time": "2021-12-18T07:13:27.037Z"
   },
   {
    "duration": 10,
    "start_time": "2021-12-18T07:13:27.044Z"
   },
   {
    "duration": 404,
    "start_time": "2021-12-18T07:13:27.055Z"
   },
   {
    "duration": 169,
    "start_time": "2021-12-18T07:13:27.460Z"
   },
   {
    "duration": 227,
    "start_time": "2021-12-18T07:13:27.631Z"
   },
   {
    "duration": 240,
    "start_time": "2021-12-18T07:13:27.860Z"
   },
   {
    "duration": 493,
    "start_time": "2021-12-18T07:13:28.101Z"
   },
   {
    "duration": 233,
    "start_time": "2021-12-18T07:13:28.596Z"
   },
   {
    "duration": 3,
    "start_time": "2021-12-18T07:13:28.830Z"
   },
   {
    "duration": 21,
    "start_time": "2021-12-18T07:13:28.834Z"
   },
   {
    "duration": 53,
    "start_time": "2021-12-18T07:13:28.856Z"
   },
   {
    "duration": 4,
    "start_time": "2021-12-18T07:13:28.911Z"
   },
   {
    "duration": 9,
    "start_time": "2021-12-18T07:13:28.916Z"
   },
   {
    "duration": 8,
    "start_time": "2021-12-18T07:13:28.926Z"
   },
   {
    "duration": 18,
    "start_time": "2021-12-18T07:13:28.936Z"
   },
   {
    "duration": 8,
    "start_time": "2021-12-18T07:13:58.538Z"
   },
   {
    "duration": 230,
    "start_time": "2021-12-18T07:14:19.232Z"
   },
   {
    "duration": 70,
    "start_time": "2021-12-18T07:14:25.829Z"
   },
   {
    "duration": 21,
    "start_time": "2021-12-18T07:14:30.545Z"
   },
   {
    "duration": 258,
    "start_time": "2021-12-18T07:14:34.345Z"
   },
   {
    "duration": 14,
    "start_time": "2021-12-18T07:14:40.717Z"
   },
   {
    "duration": 283,
    "start_time": "2021-12-18T07:14:42.729Z"
   },
   {
    "duration": 459,
    "start_time": "2021-12-18T07:14:48.133Z"
   },
   {
    "duration": -95,
    "start_time": "2021-12-18T07:15:26.020Z"
   },
   {
    "duration": 8281,
    "start_time": "2021-12-18T07:15:30.559Z"
   },
   {
    "duration": 177,
    "start_time": "2021-12-18T07:27:34.211Z"
   },
   {
    "duration": 180,
    "start_time": "2021-12-18T07:27:47.756Z"
   },
   {
    "duration": 174,
    "start_time": "2021-12-18T07:27:57.111Z"
   },
   {
    "duration": 20,
    "start_time": "2021-12-18T07:32:37.024Z"
   },
   {
    "duration": 60,
    "start_time": "2021-12-18T07:32:45.983Z"
   },
   {
    "duration": 39,
    "start_time": "2021-12-18T07:35:31.551Z"
   },
   {
    "duration": 4,
    "start_time": "2021-12-18T07:35:33.393Z"
   },
   {
    "duration": 4,
    "start_time": "2021-12-18T07:35:34.354Z"
   },
   {
    "duration": 1113,
    "start_time": "2021-12-18T07:35:53.252Z"
   },
   {
    "duration": 29,
    "start_time": "2021-12-18T07:35:54.367Z"
   },
   {
    "duration": 14,
    "start_time": "2021-12-18T07:35:54.398Z"
   },
   {
    "duration": 9,
    "start_time": "2021-12-18T07:35:54.413Z"
   },
   {
    "duration": 37,
    "start_time": "2021-12-18T07:35:54.423Z"
   },
   {
    "duration": 2,
    "start_time": "2021-12-18T07:35:54.462Z"
   },
   {
    "duration": 29,
    "start_time": "2021-12-18T07:35:54.465Z"
   },
   {
    "duration": 4,
    "start_time": "2021-12-18T07:35:54.495Z"
   },
   {
    "duration": 5,
    "start_time": "2021-12-18T07:35:54.501Z"
   },
   {
    "duration": 13,
    "start_time": "2021-12-18T07:35:54.508Z"
   },
   {
    "duration": 3,
    "start_time": "2021-12-18T07:35:54.523Z"
   },
   {
    "duration": 8,
    "start_time": "2021-12-18T07:35:54.528Z"
   },
   {
    "duration": 12,
    "start_time": "2021-12-18T07:35:54.537Z"
   },
   {
    "duration": 406,
    "start_time": "2021-12-18T07:35:54.551Z"
   },
   {
    "duration": 182,
    "start_time": "2021-12-18T07:35:54.959Z"
   },
   {
    "duration": 233,
    "start_time": "2021-12-18T07:35:55.143Z"
   },
   {
    "duration": 245,
    "start_time": "2021-12-18T07:35:55.378Z"
   },
   {
    "duration": 467,
    "start_time": "2021-12-18T07:35:55.625Z"
   },
   {
    "duration": 234,
    "start_time": "2021-12-18T07:35:56.094Z"
   },
   {
    "duration": 2,
    "start_time": "2021-12-18T07:35:56.330Z"
   },
   {
    "duration": 20,
    "start_time": "2021-12-18T07:35:56.333Z"
   },
   {
    "duration": 55,
    "start_time": "2021-12-18T07:35:56.354Z"
   },
   {
    "duration": 4,
    "start_time": "2021-12-18T07:35:56.410Z"
   },
   {
    "duration": 5,
    "start_time": "2021-12-18T07:36:00.295Z"
   },
   {
    "duration": 6,
    "start_time": "2021-12-18T07:36:38.103Z"
   },
   {
    "duration": 267,
    "start_time": "2021-12-18T07:36:51.063Z"
   },
   {
    "duration": 172,
    "start_time": "2021-12-18T07:36:56.414Z"
   },
   {
    "duration": 6,
    "start_time": "2021-12-18T07:37:22.073Z"
   },
   {
    "duration": 34,
    "start_time": "2021-12-18T07:38:31.585Z"
   },
   {
    "duration": 1171,
    "start_time": "2021-12-18T07:38:42.798Z"
   },
   {
    "duration": 28,
    "start_time": "2021-12-18T07:38:43.971Z"
   },
   {
    "duration": 15,
    "start_time": "2021-12-18T07:38:44.001Z"
   },
   {
    "duration": 8,
    "start_time": "2021-12-18T07:38:44.018Z"
   },
   {
    "duration": 37,
    "start_time": "2021-12-18T07:38:44.027Z"
   },
   {
    "duration": 2,
    "start_time": "2021-12-18T07:38:44.066Z"
   },
   {
    "duration": 26,
    "start_time": "2021-12-18T07:38:44.069Z"
   },
   {
    "duration": 3,
    "start_time": "2021-12-18T07:38:44.097Z"
   },
   {
    "duration": 5,
    "start_time": "2021-12-18T07:38:44.103Z"
   },
   {
    "duration": 13,
    "start_time": "2021-12-18T07:38:44.109Z"
   },
   {
    "duration": 3,
    "start_time": "2021-12-18T07:38:44.123Z"
   },
   {
    "duration": 6,
    "start_time": "2021-12-18T07:38:44.128Z"
   },
   {
    "duration": 11,
    "start_time": "2021-12-18T07:38:44.135Z"
   },
   {
    "duration": 404,
    "start_time": "2021-12-18T07:38:44.147Z"
   },
   {
    "duration": 175,
    "start_time": "2021-12-18T07:38:44.552Z"
   },
   {
    "duration": 228,
    "start_time": "2021-12-18T07:38:44.728Z"
   },
   {
    "duration": 252,
    "start_time": "2021-12-18T07:38:44.958Z"
   },
   {
    "duration": 481,
    "start_time": "2021-12-18T07:38:45.212Z"
   },
   {
    "duration": 220,
    "start_time": "2021-12-18T07:38:45.694Z"
   },
   {
    "duration": 3,
    "start_time": "2021-12-18T07:38:45.915Z"
   },
   {
    "duration": 19,
    "start_time": "2021-12-18T07:38:45.919Z"
   },
   {
    "duration": 32,
    "start_time": "2021-12-18T07:38:45.940Z"
   },
   {
    "duration": 4,
    "start_time": "2021-12-18T07:38:56.044Z"
   },
   {
    "duration": 5,
    "start_time": "2021-12-18T07:38:57.682Z"
   },
   {
    "duration": 5,
    "start_time": "2021-12-18T07:39:11.368Z"
   },
   {
    "duration": 7,
    "start_time": "2021-12-18T07:39:35.297Z"
   },
   {
    "duration": 378,
    "start_time": "2021-12-18T07:39:43.522Z"
   },
   {
    "duration": 290,
    "start_time": "2021-12-18T07:39:53.744Z"
   },
   {
    "duration": 1292,
    "start_time": "2021-12-18T07:40:03.875Z"
   },
   {
    "duration": 28,
    "start_time": "2021-12-18T07:40:05.168Z"
   },
   {
    "duration": 14,
    "start_time": "2021-12-18T07:40:05.198Z"
   },
   {
    "duration": 8,
    "start_time": "2021-12-18T07:40:05.214Z"
   },
   {
    "duration": 36,
    "start_time": "2021-12-18T07:40:05.223Z"
   },
   {
    "duration": 2,
    "start_time": "2021-12-18T07:40:05.261Z"
   },
   {
    "duration": 27,
    "start_time": "2021-12-18T07:40:05.265Z"
   },
   {
    "duration": 16,
    "start_time": "2021-12-18T07:40:05.294Z"
   },
   {
    "duration": 9,
    "start_time": "2021-12-18T07:40:05.312Z"
   },
   {
    "duration": 14,
    "start_time": "2021-12-18T07:40:05.323Z"
   },
   {
    "duration": 3,
    "start_time": "2021-12-18T07:40:05.338Z"
   },
   {
    "duration": 9,
    "start_time": "2021-12-18T07:40:05.342Z"
   },
   {
    "duration": 12,
    "start_time": "2021-12-18T07:40:05.353Z"
   },
   {
    "duration": 396,
    "start_time": "2021-12-18T07:40:05.366Z"
   },
   {
    "duration": 172,
    "start_time": "2021-12-18T07:40:05.763Z"
   },
   {
    "duration": 226,
    "start_time": "2021-12-18T07:40:05.936Z"
   },
   {
    "duration": 245,
    "start_time": "2021-12-18T07:40:06.163Z"
   },
   {
    "duration": 472,
    "start_time": "2021-12-18T07:40:06.409Z"
   },
   {
    "duration": 238,
    "start_time": "2021-12-18T07:40:06.883Z"
   },
   {
    "duration": 3,
    "start_time": "2021-12-18T07:40:07.123Z"
   },
   {
    "duration": 24,
    "start_time": "2021-12-18T07:40:07.127Z"
   },
   {
    "duration": 45,
    "start_time": "2021-12-18T07:40:07.153Z"
   },
   {
    "duration": 10,
    "start_time": "2021-12-18T07:40:07.200Z"
   },
   {
    "duration": 11,
    "start_time": "2021-12-18T07:40:07.211Z"
   },
   {
    "duration": 10,
    "start_time": "2021-12-18T07:40:07.224Z"
   },
   {
    "duration": 402,
    "start_time": "2021-12-18T07:40:07.236Z"
   },
   {
    "duration": 176,
    "start_time": "2021-12-18T07:40:44.643Z"
   },
   {
    "duration": 9,
    "start_time": "2021-12-18T07:41:26.140Z"
   },
   {
    "duration": 8,
    "start_time": "2021-12-18T07:41:31.036Z"
   },
   {
    "duration": 8,
    "start_time": "2021-12-18T07:41:44.887Z"
   },
   {
    "duration": 6,
    "start_time": "2021-12-18T07:42:17.271Z"
   },
   {
    "duration": 6,
    "start_time": "2021-12-18T07:42:19.868Z"
   },
   {
    "duration": 7,
    "start_time": "2021-12-18T07:42:21.192Z"
   },
   {
    "duration": 178,
    "start_time": "2021-12-18T07:43:46.700Z"
   },
   {
    "duration": 3,
    "start_time": "2021-12-18T07:43:58.794Z"
   },
   {
    "duration": 4,
    "start_time": "2021-12-18T07:44:01.922Z"
   },
   {
    "duration": 9,
    "start_time": "2021-12-18T07:44:48.044Z"
   },
   {
    "duration": 71,
    "start_time": "2021-12-18T07:44:59.626Z"
   },
   {
    "duration": 26,
    "start_time": "2021-12-18T07:45:03.966Z"
   },
   {
    "duration": 335,
    "start_time": "2021-12-18T07:45:08.879Z"
   },
   {
    "duration": 13,
    "start_time": "2021-12-18T07:45:12.561Z"
   },
   {
    "duration": 14,
    "start_time": "2021-12-18T07:45:13.513Z"
   },
   {
    "duration": 452,
    "start_time": "2021-12-18T07:45:15.442Z"
   },
   {
    "duration": 8,
    "start_time": "2021-12-18T07:45:46.336Z"
   },
   {
    "duration": 91,
    "start_time": "2021-12-18T07:45:48.707Z"
   },
   {
    "duration": 20,
    "start_time": "2021-12-18T07:45:51.290Z"
   },
   {
    "duration": 21,
    "start_time": "2021-12-18T07:45:51.784Z"
   },
   {
    "duration": 19,
    "start_time": "2021-12-18T07:45:53.966Z"
   },
   {
    "duration": 380,
    "start_time": "2021-12-18T07:45:55.715Z"
   },
   {
    "duration": 10,
    "start_time": "2021-12-18T07:46:07.694Z"
   },
   {
    "duration": 6783,
    "start_time": "2021-12-18T07:46:11.484Z"
   },
   {
    "duration": 331,
    "start_time": "2021-12-18T07:46:18.269Z"
   },
   {
    "duration": 1325,
    "start_time": "2021-12-20T18:49:29.199Z"
   },
   {
    "duration": 163,
    "start_time": "2021-12-20T18:49:30.526Z"
   },
   {
    "duration": 16,
    "start_time": "2021-12-20T18:49:30.691Z"
   },
   {
    "duration": 10,
    "start_time": "2021-12-20T18:49:30.709Z"
   },
   {
    "duration": 41,
    "start_time": "2021-12-20T18:49:30.721Z"
   },
   {
    "duration": 3,
    "start_time": "2021-12-20T18:49:30.764Z"
   },
   {
    "duration": 39,
    "start_time": "2021-12-20T18:49:30.769Z"
   },
   {
    "duration": 5,
    "start_time": "2021-12-20T18:49:30.811Z"
   },
   {
    "duration": 6,
    "start_time": "2021-12-20T18:49:30.818Z"
   },
   {
    "duration": 13,
    "start_time": "2021-12-20T18:49:30.826Z"
   },
   {
    "duration": 4,
    "start_time": "2021-12-20T18:49:30.840Z"
   },
   {
    "duration": 8,
    "start_time": "2021-12-20T18:49:30.845Z"
   },
   {
    "duration": 14,
    "start_time": "2021-12-20T18:49:30.854Z"
   },
   {
    "duration": 413,
    "start_time": "2021-12-20T18:49:30.869Z"
   },
   {
    "duration": 164,
    "start_time": "2021-12-20T18:49:31.283Z"
   },
   {
    "duration": 213,
    "start_time": "2021-12-20T18:49:31.449Z"
   },
   {
    "duration": 235,
    "start_time": "2021-12-20T18:49:31.663Z"
   },
   {
    "duration": 585,
    "start_time": "2021-12-20T18:49:31.900Z"
   },
   {
    "duration": 234,
    "start_time": "2021-12-20T18:49:32.486Z"
   },
   {
    "duration": 2,
    "start_time": "2021-12-20T18:49:32.722Z"
   },
   {
    "duration": 21,
    "start_time": "2021-12-20T18:49:32.725Z"
   },
   {
    "duration": 36,
    "start_time": "2021-12-20T18:49:32.747Z"
   },
   {
    "duration": 23,
    "start_time": "2021-12-20T18:49:32.786Z"
   },
   {
    "duration": 5,
    "start_time": "2021-12-20T18:49:32.811Z"
   },
   {
    "duration": 8,
    "start_time": "2021-12-20T18:49:32.818Z"
   },
   {
    "duration": 11,
    "start_time": "2021-12-20T18:49:32.828Z"
   },
   {
    "duration": 7,
    "start_time": "2021-12-20T18:49:32.840Z"
   },
   {
    "duration": 771,
    "start_time": "2021-12-20T18:49:32.849Z"
   },
   {
    "duration": -208,
    "start_time": "2021-12-20T18:49:33.830Z"
   },
   {
    "duration": -226,
    "start_time": "2021-12-20T18:49:33.849Z"
   },
   {
    "duration": -237,
    "start_time": "2021-12-20T18:49:33.862Z"
   },
   {
    "duration": -240,
    "start_time": "2021-12-20T18:49:33.866Z"
   },
   {
    "duration": -244,
    "start_time": "2021-12-20T18:49:33.871Z"
   },
   {
    "duration": -258,
    "start_time": "2021-12-20T18:49:33.887Z"
   },
   {
    "duration": -260,
    "start_time": "2021-12-20T18:49:33.891Z"
   },
   {
    "duration": -281,
    "start_time": "2021-12-20T18:49:33.913Z"
   },
   {
    "duration": -296,
    "start_time": "2021-12-20T18:49:33.930Z"
   },
   {
    "duration": 5,
    "start_time": "2021-12-20T19:04:12.116Z"
   },
   {
    "duration": 9,
    "start_time": "2021-12-20T19:04:21.940Z"
   },
   {
    "duration": 156,
    "start_time": "2021-12-20T19:04:21.951Z"
   },
   {
    "duration": 96,
    "start_time": "2021-12-20T19:04:22.109Z"
   },
   {
    "duration": 325,
    "start_time": "2021-12-20T19:04:22.208Z"
   },
   {
    "duration": 14,
    "start_time": "2021-12-20T19:04:22.535Z"
   },
   {
    "duration": 361,
    "start_time": "2021-12-20T19:04:22.551Z"
   },
   {
    "duration": 8105,
    "start_time": "2021-12-20T19:04:22.915Z"
   },
   {
    "duration": 852,
    "start_time": "2021-12-20T19:04:31.022Z"
   },
   {
    "duration": -308,
    "start_time": "2021-12-20T19:04:32.184Z"
   },
   {
    "duration": 122,
    "start_time": "2021-12-20T19:37:49.532Z"
   },
   {
    "duration": 120,
    "start_time": "2021-12-20T19:40:19.793Z"
   },
   {
    "duration": 378,
    "start_time": "2021-12-20T19:40:28.305Z"
   },
   {
    "duration": 694,
    "start_time": "2021-12-20T19:40:45.013Z"
   },
   {
    "duration": 1114,
    "start_time": "2021-12-20T19:41:03.730Z"
   },
   {
    "duration": 1611,
    "start_time": "2021-12-20T19:52:22.804Z"
   },
   {
    "duration": 1022,
    "start_time": "2021-12-20T19:52:44.006Z"
   },
   {
    "duration": 415,
    "start_time": "2021-12-20T19:53:01.657Z"
   },
   {
    "duration": 638,
    "start_time": "2021-12-20T19:53:16.864Z"
   },
   {
    "duration": 953,
    "start_time": "2021-12-20T19:53:27.179Z"
   },
   {
    "duration": 1100,
    "start_time": "2021-12-20T20:15:12.698Z"
   },
   {
    "duration": 806,
    "start_time": "2021-12-20T20:15:16.583Z"
   },
   {
    "duration": 6217,
    "start_time": "2021-12-20T23:24:29.556Z"
   },
   {
    "duration": 117,
    "start_time": "2021-12-20T23:24:35.776Z"
   },
   {
    "duration": 140,
    "start_time": "2021-12-20T23:24:35.896Z"
   },
   {
    "duration": 215,
    "start_time": "2021-12-20T23:24:36.039Z"
   },
   {
    "duration": 249,
    "start_time": "2021-12-20T23:24:36.257Z"
   },
   {
    "duration": 133,
    "start_time": "2021-12-20T23:24:36.508Z"
   },
   {
    "duration": 187,
    "start_time": "2021-12-20T23:24:36.643Z"
   },
   {
    "duration": 187,
    "start_time": "2021-12-20T23:24:36.834Z"
   },
   {
    "duration": 213,
    "start_time": "2021-12-20T23:24:37.025Z"
   },
   {
    "duration": 194,
    "start_time": "2021-12-20T23:24:37.240Z"
   },
   {
    "duration": 184,
    "start_time": "2021-12-20T23:24:37.436Z"
   },
   {
    "duration": 156,
    "start_time": "2021-12-20T23:24:37.622Z"
   },
   {
    "duration": 210,
    "start_time": "2021-12-20T23:24:37.780Z"
   },
   {
    "duration": 804,
    "start_time": "2021-12-20T23:24:37.992Z"
   },
   {
    "duration": 295,
    "start_time": "2021-12-20T23:24:38.800Z"
   },
   {
    "duration": 392,
    "start_time": "2021-12-20T23:24:39.097Z"
   },
   {
    "duration": 438,
    "start_time": "2021-12-20T23:24:39.492Z"
   },
   {
    "duration": 781,
    "start_time": "2021-12-20T23:24:39.932Z"
   },
   {
    "duration": 388,
    "start_time": "2021-12-20T23:24:40.715Z"
   },
   {
    "duration": 5,
    "start_time": "2021-12-20T23:24:41.106Z"
   },
   {
    "duration": 226,
    "start_time": "2021-12-20T23:24:41.113Z"
   },
   {
    "duration": 211,
    "start_time": "2021-12-20T23:24:41.341Z"
   },
   {
    "duration": 147,
    "start_time": "2021-12-20T23:24:41.558Z"
   },
   {
    "duration": 180,
    "start_time": "2021-12-20T23:24:41.707Z"
   },
   {
    "duration": 186,
    "start_time": "2021-12-20T23:24:41.890Z"
   },
   {
    "duration": 174,
    "start_time": "2021-12-20T23:24:42.078Z"
   },
   {
    "duration": 173,
    "start_time": "2021-12-20T23:24:42.255Z"
   },
   {
    "duration": 171,
    "start_time": "2021-12-20T23:24:42.431Z"
   },
   {
    "duration": 259,
    "start_time": "2021-12-20T23:24:42.604Z"
   },
   {
    "duration": 501,
    "start_time": "2021-12-20T23:24:42.866Z"
   },
   {
    "duration": 32,
    "start_time": "2021-12-20T23:24:43.370Z"
   },
   {
    "duration": 652,
    "start_time": "2021-12-20T23:24:43.469Z"
   },
   {
    "duration": 22,
    "start_time": "2021-12-20T23:24:44.124Z"
   },
   {
    "duration": 628,
    "start_time": "2021-12-20T23:24:44.148Z"
   },
   {
    "duration": 12975,
    "start_time": "2021-12-20T23:24:44.780Z"
   },
   {
    "duration": 1085,
    "start_time": "2021-12-20T23:24:57.758Z"
   },
   {
    "duration": 1080,
    "start_time": "2021-12-20T23:33:06.089Z"
   },
   {
    "duration": 437,
    "start_time": "2021-12-20T23:36:56.632Z"
   },
   {
    "duration": 11,
    "start_time": "2021-12-20T23:37:13.580Z"
   },
   {
    "duration": 13,
    "start_time": "2021-12-20T23:39:51.495Z"
   },
   {
    "duration": 1642,
    "start_time": "2021-12-20T23:40:00.364Z"
   },
   {
    "duration": 38,
    "start_time": "2021-12-20T23:40:02.008Z"
   },
   {
    "duration": 289,
    "start_time": "2021-12-20T23:40:02.049Z"
   },
   {
    "duration": 243,
    "start_time": "2021-12-20T23:40:02.341Z"
   },
   {
    "duration": 279,
    "start_time": "2021-12-20T23:40:02.587Z"
   },
   {
    "duration": 138,
    "start_time": "2021-12-20T23:40:02.868Z"
   },
   {
    "duration": 213,
    "start_time": "2021-12-20T23:40:03.008Z"
   },
   {
    "duration": 183,
    "start_time": "2021-12-20T23:40:03.225Z"
   },
   {
    "duration": 195,
    "start_time": "2021-12-20T23:40:03.411Z"
   },
   {
    "duration": 202,
    "start_time": "2021-12-20T23:40:03.608Z"
   },
   {
    "duration": 192,
    "start_time": "2021-12-20T23:40:03.812Z"
   },
   {
    "duration": 203,
    "start_time": "2021-12-20T23:40:04.007Z"
   },
   {
    "duration": 224,
    "start_time": "2021-12-20T23:40:04.212Z"
   },
   {
    "duration": 840,
    "start_time": "2021-12-20T23:40:04.439Z"
   },
   {
    "duration": 302,
    "start_time": "2021-12-20T23:40:05.281Z"
   },
   {
    "duration": 404,
    "start_time": "2021-12-20T23:40:05.586Z"
   },
   {
    "duration": 432,
    "start_time": "2021-12-20T23:40:05.993Z"
   },
   {
    "duration": 788,
    "start_time": "2021-12-20T23:40:06.428Z"
   },
   {
    "duration": 386,
    "start_time": "2021-12-20T23:40:07.219Z"
   },
   {
    "duration": 3,
    "start_time": "2021-12-20T23:40:07.607Z"
   },
   {
    "duration": 397,
    "start_time": "2021-12-20T23:40:07.612Z"
   },
   {
    "duration": 248,
    "start_time": "2021-12-20T23:40:08.011Z"
   },
   {
    "duration": 275,
    "start_time": "2021-12-20T23:40:08.263Z"
   },
   {
    "duration": 207,
    "start_time": "2021-12-20T23:40:08.542Z"
   },
   {
    "duration": 188,
    "start_time": "2021-12-20T23:40:08.752Z"
   },
   {
    "duration": 224,
    "start_time": "2021-12-20T23:40:08.944Z"
   },
   {
    "duration": 196,
    "start_time": "2021-12-20T23:40:09.171Z"
   },
   {
    "duration": 194,
    "start_time": "2021-12-20T23:40:09.370Z"
   },
   {
    "duration": 278,
    "start_time": "2021-12-20T23:40:09.567Z"
   },
   {
    "duration": 427,
    "start_time": "2021-12-20T23:40:09.847Z"
   },
   {
    "duration": 97,
    "start_time": "2021-12-20T23:40:10.276Z"
   },
   {
    "duration": 707,
    "start_time": "2021-12-20T23:40:10.378Z"
   },
   {
    "duration": 20,
    "start_time": "2021-12-20T23:40:11.088Z"
   },
   {
    "duration": 662,
    "start_time": "2021-12-20T23:40:11.110Z"
   },
   {
    "duration": 13136,
    "start_time": "2021-12-20T23:40:11.774Z"
   },
   {
    "duration": 1097,
    "start_time": "2021-12-20T23:40:24.913Z"
   },
   {
    "duration": 13235,
    "start_time": "2021-12-20T23:43:04.875Z"
   },
   {
    "duration": 13513,
    "start_time": "2021-12-20T23:43:33.055Z"
   },
   {
    "duration": 13150,
    "start_time": "2021-12-20T23:43:52.240Z"
   },
   {
    "duration": 65,
    "start_time": "2021-12-20T23:50:12.184Z"
   },
   {
    "duration": 65,
    "start_time": "2021-12-20T23:50:22.495Z"
   },
   {
    "duration": 9,
    "start_time": "2021-12-20T23:50:37.887Z"
   },
   {
    "duration": 409,
    "start_time": "2021-12-20T23:54:24.475Z"
   },
   {
    "duration": 17,
    "start_time": "2021-12-20T23:55:15.299Z"
   },
   {
    "duration": 18,
    "start_time": "2021-12-20T23:56:32.914Z"
   },
   {
    "duration": 224,
    "start_time": "2021-12-20T23:58:21.451Z"
   },
   {
    "duration": 282,
    "start_time": "2021-12-20T23:58:29.098Z"
   },
   {
    "duration": 2655,
    "start_time": "2021-12-20T23:59:35.653Z"
   },
   {
    "duration": 2635,
    "start_time": "2021-12-20T23:59:43.067Z"
   },
   {
    "duration": 198,
    "start_time": "2021-12-21T00:01:59.525Z"
   },
   {
    "duration": 1622,
    "start_time": "2021-12-21T00:02:22.009Z"
   },
   {
    "duration": 38,
    "start_time": "2021-12-21T00:02:23.634Z"
   },
   {
    "duration": 178,
    "start_time": "2021-12-21T00:02:23.675Z"
   },
   {
    "duration": 190,
    "start_time": "2021-12-21T00:02:23.856Z"
   },
   {
    "duration": 233,
    "start_time": "2021-12-21T00:02:24.049Z"
   },
   {
    "duration": 150,
    "start_time": "2021-12-21T00:02:24.285Z"
   },
   {
    "duration": 207,
    "start_time": "2021-12-21T00:02:24.437Z"
   },
   {
    "duration": 291,
    "start_time": "2021-12-21T00:02:24.647Z"
   },
   {
    "duration": 192,
    "start_time": "2021-12-21T00:02:24.942Z"
   },
   {
    "duration": 205,
    "start_time": "2021-12-21T00:02:25.137Z"
   },
   {
    "duration": 171,
    "start_time": "2021-12-21T00:02:25.344Z"
   },
   {
    "duration": 186,
    "start_time": "2021-12-21T00:02:25.517Z"
   },
   {
    "duration": 215,
    "start_time": "2021-12-21T00:02:25.705Z"
   },
   {
    "duration": 821,
    "start_time": "2021-12-21T00:02:25.923Z"
   },
   {
    "duration": 302,
    "start_time": "2021-12-21T00:02:26.746Z"
   },
   {
    "duration": 399,
    "start_time": "2021-12-21T00:02:27.051Z"
   },
   {
    "duration": 435,
    "start_time": "2021-12-21T00:02:27.452Z"
   },
   {
    "duration": 896,
    "start_time": "2021-12-21T00:02:27.890Z"
   },
   {
    "duration": 409,
    "start_time": "2021-12-21T00:02:28.788Z"
   },
   {
    "duration": 3,
    "start_time": "2021-12-21T00:02:29.200Z"
   },
   {
    "duration": 220,
    "start_time": "2021-12-21T00:02:29.206Z"
   },
   {
    "duration": 225,
    "start_time": "2021-12-21T00:02:29.429Z"
   },
   {
    "duration": 189,
    "start_time": "2021-12-21T00:02:29.657Z"
   },
   {
    "duration": 198,
    "start_time": "2021-12-21T00:02:29.849Z"
   },
   {
    "duration": 195,
    "start_time": "2021-12-21T00:02:30.050Z"
   },
   {
    "duration": 1546,
    "start_time": "2021-12-21T00:02:30.248Z"
   },
   {
    "duration": -316,
    "start_time": "2021-12-21T00:02:32.114Z"
   },
   {
    "duration": -329,
    "start_time": "2021-12-21T00:02:32.128Z"
   },
   {
    "duration": -332,
    "start_time": "2021-12-21T00:02:32.132Z"
   },
   {
    "duration": -590,
    "start_time": "2021-12-21T00:02:32.392Z"
   },
   {
    "duration": -594,
    "start_time": "2021-12-21T00:02:32.397Z"
   },
   {
    "duration": -595,
    "start_time": "2021-12-21T00:02:32.400Z"
   },
   {
    "duration": -598,
    "start_time": "2021-12-21T00:02:32.404Z"
   },
   {
    "duration": -600,
    "start_time": "2021-12-21T00:02:32.408Z"
   },
   {
    "duration": -602,
    "start_time": "2021-12-21T00:02:32.412Z"
   },
   {
    "duration": -606,
    "start_time": "2021-12-21T00:02:32.417Z"
   },
   {
    "duration": -619,
    "start_time": "2021-12-21T00:02:32.432Z"
   },
   {
    "duration": -634,
    "start_time": "2021-12-21T00:02:32.448Z"
   },
   {
    "duration": -647,
    "start_time": "2021-12-21T00:02:32.463Z"
   },
   {
    "duration": -660,
    "start_time": "2021-12-21T00:02:32.477Z"
   },
   {
    "duration": 15,
    "start_time": "2021-12-21T00:29:56.189Z"
   },
   {
    "duration": 263,
    "start_time": "2021-12-21T00:30:48.320Z"
   },
   {
    "duration": 385,
    "start_time": "2021-12-21T00:31:17.815Z"
   },
   {
    "duration": 13,
    "start_time": "2021-12-21T00:31:34.315Z"
   },
   {
    "duration": 216,
    "start_time": "2021-12-21T00:31:36.260Z"
   },
   {
    "duration": 48,
    "start_time": "2021-12-21T00:31:41.021Z"
   },
   {
    "duration": 617,
    "start_time": "2021-12-21T00:31:41.073Z"
   },
   {
    "duration": 23,
    "start_time": "2021-12-21T00:31:41.694Z"
   },
   {
    "duration": 758,
    "start_time": "2021-12-21T00:31:41.720Z"
   },
   {
    "duration": 13094,
    "start_time": "2021-12-21T00:31:42.481Z"
   },
   {
    "duration": 1078,
    "start_time": "2021-12-21T00:31:55.578Z"
   },
   {
    "duration": 20,
    "start_time": "2021-12-21T00:31:56.659Z"
   },
   {
    "duration": 490,
    "start_time": "2021-12-21T00:31:56.683Z"
   },
   {
    "duration": 3080,
    "start_time": "2021-12-21T00:31:57.176Z"
   },
   {
    "duration": 242,
    "start_time": "2021-12-21T00:32:00.259Z"
   },
   {
    "duration": 283,
    "start_time": "2021-12-21T00:32:35.858Z"
   },
   {
    "duration": 208,
    "start_time": "2021-12-21T00:35:42.897Z"
   },
   {
    "duration": 284,
    "start_time": "2021-12-21T00:38:02.339Z"
   },
   {
    "duration": 560,
    "start_time": "2021-12-21T00:38:11.096Z"
   },
   {
    "duration": 386,
    "start_time": "2021-12-21T00:38:18.524Z"
   },
   {
    "duration": 398,
    "start_time": "2021-12-21T00:38:35.586Z"
   },
   {
    "duration": 148,
    "start_time": "2021-12-21T00:38:44.375Z"
   },
   {
    "duration": 226,
    "start_time": "2021-12-21T00:39:22.895Z"
   },
   {
    "duration": 137,
    "start_time": "2021-12-21T00:39:33.548Z"
   },
   {
    "duration": 622,
    "start_time": "2021-12-21T00:41:54.217Z"
   },
   {
    "duration": 271,
    "start_time": "2021-12-21T00:42:46.123Z"
   },
   {
    "duration": 282,
    "start_time": "2021-12-21T00:42:57.907Z"
   },
   {
    "duration": 363,
    "start_time": "2021-12-21T00:43:09.702Z"
   },
   {
    "duration": 144,
    "start_time": "2021-12-21T00:43:22.205Z"
   },
   {
    "duration": 150,
    "start_time": "2021-12-21T00:44:29.119Z"
   },
   {
    "duration": 161,
    "start_time": "2021-12-21T00:45:33.694Z"
   },
   {
    "duration": 157,
    "start_time": "2021-12-21T00:46:01.416Z"
   },
   {
    "duration": 152,
    "start_time": "2021-12-21T00:46:04.721Z"
   },
   {
    "duration": 228,
    "start_time": "2021-12-21T00:46:13.101Z"
   },
   {
    "duration": 230,
    "start_time": "2021-12-21T00:47:18.708Z"
   },
   {
    "duration": 238,
    "start_time": "2021-12-21T00:47:27.768Z"
   },
   {
    "duration": 498,
    "start_time": "2021-12-21T00:47:49.195Z"
   },
   {
    "duration": 84,
    "start_time": "2021-12-21T00:47:52.831Z"
   },
   {
    "duration": 96,
    "start_time": "2021-12-21T00:48:03.212Z"
   },
   {
    "duration": 274,
    "start_time": "2021-12-21T00:48:15.572Z"
   },
   {
    "duration": 85,
    "start_time": "2021-12-21T00:48:31.846Z"
   },
   {
    "duration": 237,
    "start_time": "2021-12-21T00:48:36.543Z"
   },
   {
    "duration": 234,
    "start_time": "2021-12-21T00:48:44.176Z"
   },
   {
    "duration": 1655,
    "start_time": "2021-12-21T00:49:01.212Z"
   },
   {
    "duration": 38,
    "start_time": "2021-12-21T00:49:02.870Z"
   },
   {
    "duration": 212,
    "start_time": "2021-12-21T00:49:02.911Z"
   },
   {
    "duration": 182,
    "start_time": "2021-12-21T00:49:03.126Z"
   },
   {
    "duration": 267,
    "start_time": "2021-12-21T00:49:03.310Z"
   },
   {
    "duration": 160,
    "start_time": "2021-12-21T00:49:03.579Z"
   },
   {
    "duration": 172,
    "start_time": "2021-12-21T00:49:03.741Z"
   },
   {
    "duration": 180,
    "start_time": "2021-12-21T00:49:03.916Z"
   },
   {
    "duration": 276,
    "start_time": "2021-12-21T00:49:04.100Z"
   },
   {
    "duration": 183,
    "start_time": "2021-12-21T00:49:04.379Z"
   },
   {
    "duration": 188,
    "start_time": "2021-12-21T00:49:04.564Z"
   },
   {
    "duration": 212,
    "start_time": "2021-12-21T00:49:04.754Z"
   },
   {
    "duration": 187,
    "start_time": "2021-12-21T00:49:04.968Z"
   },
   {
    "duration": 835,
    "start_time": "2021-12-21T00:49:05.157Z"
   },
   {
    "duration": 305,
    "start_time": "2021-12-21T00:49:05.995Z"
   },
   {
    "duration": 385,
    "start_time": "2021-12-21T00:49:06.302Z"
   },
   {
    "duration": 422,
    "start_time": "2021-12-21T00:49:06.689Z"
   },
   {
    "duration": 755,
    "start_time": "2021-12-21T00:49:07.114Z"
   },
   {
    "duration": 403,
    "start_time": "2021-12-21T00:49:07.872Z"
   },
   {
    "duration": 4,
    "start_time": "2021-12-21T00:49:08.277Z"
   },
   {
    "duration": 221,
    "start_time": "2021-12-21T00:49:08.283Z"
   },
   {
    "duration": 228,
    "start_time": "2021-12-21T00:49:08.506Z"
   },
   {
    "duration": 231,
    "start_time": "2021-12-21T00:49:08.736Z"
   },
   {
    "duration": 179,
    "start_time": "2021-12-21T00:49:08.970Z"
   },
   {
    "duration": 195,
    "start_time": "2021-12-21T00:49:09.152Z"
   },
   {
    "duration": 583,
    "start_time": "2021-12-21T00:49:09.349Z"
   },
   {
    "duration": -170,
    "start_time": "2021-12-21T00:49:10.106Z"
   },
   {
    "duration": -173,
    "start_time": "2021-12-21T00:49:10.110Z"
   },
   {
    "duration": -177,
    "start_time": "2021-12-21T00:49:10.116Z"
   },
   {
    "duration": -179,
    "start_time": "2021-12-21T00:49:10.120Z"
   },
   {
    "duration": -181,
    "start_time": "2021-12-21T00:49:10.123Z"
   },
   {
    "duration": -184,
    "start_time": "2021-12-21T00:49:10.127Z"
   },
   {
    "duration": -186,
    "start_time": "2021-12-21T00:49:10.131Z"
   },
   {
    "duration": -190,
    "start_time": "2021-12-21T00:49:10.136Z"
   },
   {
    "duration": -193,
    "start_time": "2021-12-21T00:49:10.140Z"
   },
   {
    "duration": -194,
    "start_time": "2021-12-21T00:49:10.143Z"
   },
   {
    "duration": -197,
    "start_time": "2021-12-21T00:49:10.147Z"
   },
   {
    "duration": -200,
    "start_time": "2021-12-21T00:49:10.151Z"
   },
   {
    "duration": -202,
    "start_time": "2021-12-21T00:49:10.155Z"
   },
   {
    "duration": -205,
    "start_time": "2021-12-21T00:49:10.159Z"
   },
   {
    "duration": 5,
    "start_time": "2021-12-21T00:50:48.125Z"
   },
   {
    "duration": 37,
    "start_time": "2021-12-21T00:50:48.325Z"
   },
   {
    "duration": 309,
    "start_time": "2021-12-21T00:50:48.365Z"
   },
   {
    "duration": 94,
    "start_time": "2021-12-21T00:50:48.677Z"
   },
   {
    "duration": 520,
    "start_time": "2021-12-21T00:50:48.776Z"
   },
   {
    "duration": 23,
    "start_time": "2021-12-21T00:50:49.299Z"
   },
   {
    "duration": 651,
    "start_time": "2021-12-21T00:50:49.325Z"
   },
   {
    "duration": 13079,
    "start_time": "2021-12-21T00:50:49.980Z"
   },
   {
    "duration": 1079,
    "start_time": "2021-12-21T00:51:03.061Z"
   },
   {
    "duration": 30,
    "start_time": "2021-12-21T00:51:04.143Z"
   },
   {
    "duration": 503,
    "start_time": "2021-12-21T00:51:04.176Z"
   },
   {
    "duration": 2725,
    "start_time": "2021-12-21T00:51:04.682Z"
   },
   {
    "duration": 479,
    "start_time": "2021-12-21T00:51:07.410Z"
   },
   {
    "duration": 222,
    "start_time": "2021-12-21T00:53:31.554Z"
   },
   {
    "duration": 142,
    "start_time": "2021-12-21T00:53:43.531Z"
   },
   {
    "duration": 1671,
    "start_time": "2021-12-21T00:54:02.924Z"
   },
   {
    "duration": 921,
    "start_time": "2021-12-21T00:54:20.733Z"
   },
   {
    "duration": 665,
    "start_time": "2021-12-21T00:54:36.744Z"
   },
   {
    "duration": 1322,
    "start_time": "2021-12-21T00:54:43.595Z"
   },
   {
    "duration": 1709,
    "start_time": "2021-12-21T00:54:57.509Z"
   },
   {
    "duration": 718,
    "start_time": "2021-12-21T00:55:07.165Z"
   },
   {
    "duration": 2190,
    "start_time": "2021-12-21T00:55:11.417Z"
   },
   {
    "duration": 1339,
    "start_time": "2021-12-21T00:55:29.391Z"
   },
   {
    "duration": 312,
    "start_time": "2021-12-21T00:56:49.393Z"
   },
   {
    "duration": 474,
    "start_time": "2021-12-21T00:56:56.339Z"
   },
   {
    "duration": 278,
    "start_time": "2021-12-21T00:57:11.119Z"
   },
   {
    "duration": 794,
    "start_time": "2021-12-21T00:57:15.750Z"
   },
   {
    "duration": 154,
    "start_time": "2021-12-21T00:57:20.956Z"
   },
   {
    "duration": 1392,
    "start_time": "2021-12-21T00:57:57.015Z"
   },
   {
    "duration": 1301,
    "start_time": "2021-12-21T00:58:47.085Z"
   },
   {
    "duration": 1401,
    "start_time": "2021-12-21T00:58:57.558Z"
   },
   {
    "duration": 1573,
    "start_time": "2021-12-21T00:59:16.199Z"
   },
   {
    "duration": 36,
    "start_time": "2021-12-21T00:59:17.775Z"
   },
   {
    "duration": 165,
    "start_time": "2021-12-21T00:59:17.813Z"
   },
   {
    "duration": 181,
    "start_time": "2021-12-21T00:59:17.981Z"
   },
   {
    "duration": 235,
    "start_time": "2021-12-21T00:59:18.164Z"
   },
   {
    "duration": 132,
    "start_time": "2021-12-21T00:59:18.401Z"
   },
   {
    "duration": 265,
    "start_time": "2021-12-21T00:59:18.536Z"
   },
   {
    "duration": 179,
    "start_time": "2021-12-21T00:59:18.806Z"
   },
   {
    "duration": 169,
    "start_time": "2021-12-21T00:59:18.988Z"
   },
   {
    "duration": 278,
    "start_time": "2021-12-21T00:59:19.159Z"
   },
   {
    "duration": 201,
    "start_time": "2021-12-21T00:59:19.439Z"
   },
   {
    "duration": 168,
    "start_time": "2021-12-21T00:59:19.643Z"
   },
   {
    "duration": 202,
    "start_time": "2021-12-21T00:59:19.814Z"
   },
   {
    "duration": 775,
    "start_time": "2021-12-21T00:59:20.018Z"
   },
   {
    "duration": 300,
    "start_time": "2021-12-21T00:59:20.795Z"
   },
   {
    "duration": 405,
    "start_time": "2021-12-21T00:59:21.098Z"
   },
   {
    "duration": 448,
    "start_time": "2021-12-21T00:59:21.506Z"
   },
   {
    "duration": 783,
    "start_time": "2021-12-21T00:59:21.956Z"
   },
   {
    "duration": 387,
    "start_time": "2021-12-21T00:59:22.742Z"
   },
   {
    "duration": 4,
    "start_time": "2021-12-21T00:59:23.132Z"
   },
   {
    "duration": 219,
    "start_time": "2021-12-21T00:59:23.139Z"
   },
   {
    "duration": 211,
    "start_time": "2021-12-21T00:59:23.361Z"
   },
   {
    "duration": 99,
    "start_time": "2021-12-21T00:59:23.579Z"
   },
   {
    "duration": 243,
    "start_time": "2021-12-21T00:59:23.682Z"
   },
   {
    "duration": 152,
    "start_time": "2021-12-21T00:59:23.928Z"
   },
   {
    "duration": 590,
    "start_time": "2021-12-21T00:59:24.083Z"
   },
   {
    "duration": -132,
    "start_time": "2021-12-21T00:59:24.807Z"
   },
   {
    "duration": -135,
    "start_time": "2021-12-21T00:59:24.812Z"
   },
   {
    "duration": -137,
    "start_time": "2021-12-21T00:59:24.816Z"
   },
   {
    "duration": -140,
    "start_time": "2021-12-21T00:59:24.820Z"
   },
   {
    "duration": -146,
    "start_time": "2021-12-21T00:59:24.828Z"
   },
   {
    "duration": -148,
    "start_time": "2021-12-21T00:59:24.832Z"
   },
   {
    "duration": -163,
    "start_time": "2021-12-21T00:59:24.848Z"
   },
   {
    "duration": -168,
    "start_time": "2021-12-21T00:59:24.855Z"
   },
   {
    "duration": -176,
    "start_time": "2021-12-21T00:59:24.864Z"
   },
   {
    "duration": -182,
    "start_time": "2021-12-21T00:59:24.872Z"
   },
   {
    "duration": -189,
    "start_time": "2021-12-21T00:59:24.880Z"
   },
   {
    "duration": -303,
    "start_time": "2021-12-21T00:59:24.996Z"
   },
   {
    "duration": -338,
    "start_time": "2021-12-21T00:59:25.032Z"
   },
   {
    "duration": -348,
    "start_time": "2021-12-21T00:59:25.044Z"
   },
   {
    "duration": 12,
    "start_time": "2021-12-21T00:59:50.128Z"
   },
   {
    "duration": 313,
    "start_time": "2021-12-21T00:59:50.161Z"
   },
   {
    "duration": 92,
    "start_time": "2021-12-21T00:59:50.477Z"
   },
   {
    "duration": 599,
    "start_time": "2021-12-21T00:59:50.574Z"
   },
   {
    "duration": 19,
    "start_time": "2021-12-21T00:59:51.176Z"
   },
   {
    "duration": 574,
    "start_time": "2021-12-21T00:59:51.197Z"
   },
   {
    "duration": 12757,
    "start_time": "2021-12-21T00:59:51.774Z"
   },
   {
    "duration": 1104,
    "start_time": "2021-12-21T01:00:04.535Z"
   },
   {
    "duration": 30,
    "start_time": "2021-12-21T01:00:05.642Z"
   },
   {
    "duration": 497,
    "start_time": "2021-12-21T01:00:05.675Z"
   },
   {
    "duration": 1429,
    "start_time": "2021-12-21T01:00:06.174Z"
   },
   {
    "duration": 151,
    "start_time": "2021-12-21T01:00:07.605Z"
   },
   {
    "duration": 203,
    "start_time": "2021-12-21T01:39:34.204Z"
   },
   {
    "duration": 394,
    "start_time": "2021-12-21T01:40:03.681Z"
   },
   {
    "duration": 432,
    "start_time": "2021-12-21T01:40:43.639Z"
   },
   {
    "duration": 408,
    "start_time": "2021-12-21T01:41:24.870Z"
   },
   {
    "duration": 396,
    "start_time": "2021-12-21T01:41:28.273Z"
   },
   {
    "duration": 1568,
    "start_time": "2021-12-21T01:41:56.987Z"
   },
   {
    "duration": 35,
    "start_time": "2021-12-21T01:41:58.558Z"
   },
   {
    "duration": 155,
    "start_time": "2021-12-21T01:41:58.596Z"
   },
   {
    "duration": 147,
    "start_time": "2021-12-21T01:41:58.754Z"
   },
   {
    "duration": 215,
    "start_time": "2021-12-21T01:41:58.904Z"
   },
   {
    "duration": 112,
    "start_time": "2021-12-21T01:41:59.121Z"
   },
   {
    "duration": 194,
    "start_time": "2021-12-21T01:41:59.235Z"
   },
   {
    "duration": 172,
    "start_time": "2021-12-21T01:41:59.433Z"
   },
   {
    "duration": 182,
    "start_time": "2021-12-21T01:41:59.608Z"
   },
   {
    "duration": 195,
    "start_time": "2021-12-21T01:41:59.793Z"
   },
   {
    "duration": 217,
    "start_time": "2021-12-21T01:41:59.990Z"
   },
   {
    "duration": 162,
    "start_time": "2021-12-21T01:42:00.210Z"
   },
   {
    "duration": 164,
    "start_time": "2021-12-21T01:42:00.374Z"
   },
   {
    "duration": 807,
    "start_time": "2021-12-21T01:42:00.540Z"
   },
   {
    "duration": 293,
    "start_time": "2021-12-21T01:42:01.349Z"
   },
   {
    "duration": 383,
    "start_time": "2021-12-21T01:42:01.645Z"
   },
   {
    "duration": 405,
    "start_time": "2021-12-21T01:42:02.031Z"
   },
   {
    "duration": 773,
    "start_time": "2021-12-21T01:42:02.439Z"
   },
   {
    "duration": 390,
    "start_time": "2021-12-21T01:42:03.214Z"
   },
   {
    "duration": 4,
    "start_time": "2021-12-21T01:42:03.606Z"
   },
   {
    "duration": 196,
    "start_time": "2021-12-21T01:42:03.612Z"
   },
   {
    "duration": 208,
    "start_time": "2021-12-21T01:42:03.811Z"
   },
   {
    "duration": 139,
    "start_time": "2021-12-21T01:42:04.024Z"
   },
   {
    "duration": 182,
    "start_time": "2021-12-21T01:42:04.165Z"
   },
   {
    "duration": 196,
    "start_time": "2021-12-21T01:42:04.350Z"
   },
   {
    "duration": 655,
    "start_time": "2021-12-21T01:42:04.549Z"
   },
   {
    "duration": -322,
    "start_time": "2021-12-21T01:42:05.529Z"
   },
   {
    "duration": -327,
    "start_time": "2021-12-21T01:42:05.536Z"
   },
   {
    "duration": -344,
    "start_time": "2021-12-21T01:42:05.554Z"
   },
   {
    "duration": -348,
    "start_time": "2021-12-21T01:42:05.559Z"
   },
   {
    "duration": -363,
    "start_time": "2021-12-21T01:42:05.576Z"
   },
   {
    "duration": -378,
    "start_time": "2021-12-21T01:42:05.592Z"
   },
   {
    "duration": -396,
    "start_time": "2021-12-21T01:42:05.611Z"
   },
   {
    "duration": -414,
    "start_time": "2021-12-21T01:42:05.630Z"
   },
   {
    "duration": -437,
    "start_time": "2021-12-21T01:42:05.654Z"
   },
   {
    "duration": -440,
    "start_time": "2021-12-21T01:42:05.659Z"
   },
   {
    "duration": -458,
    "start_time": "2021-12-21T01:42:05.678Z"
   },
   {
    "duration": -468,
    "start_time": "2021-12-21T01:42:05.690Z"
   },
   {
    "duration": -488,
    "start_time": "2021-12-21T01:42:05.711Z"
   },
   {
    "duration": -538,
    "start_time": "2021-12-21T01:42:05.762Z"
   },
   {
    "duration": 12,
    "start_time": "2021-12-21T01:42:17.239Z"
   },
   {
    "duration": 316,
    "start_time": "2021-12-21T01:42:19.957Z"
   },
   {
    "duration": 424,
    "start_time": "2021-12-21T01:42:30.946Z"
   },
   {
    "duration": 359,
    "start_time": "2021-12-21T01:42:49.516Z"
   },
   {
    "duration": 402,
    "start_time": "2021-12-21T01:43:25.580Z"
   },
   {
    "duration": 56,
    "start_time": "2021-12-21T01:46:11.689Z"
   },
   {
    "duration": 56,
    "start_time": "2021-12-21T01:46:13.310Z"
   },
   {
    "duration": 4,
    "start_time": "2021-12-21T01:47:13.200Z"
   },
   {
    "duration": 116,
    "start_time": "2021-12-21T01:49:52.588Z"
   },
   {
    "duration": 290,
    "start_time": "2021-12-21T01:50:31.195Z"
   },
   {
    "duration": 369,
    "start_time": "2021-12-21T01:50:36.913Z"
   },
   {
    "duration": 242,
    "start_time": "2021-12-21T01:50:41.362Z"
   },
   {
    "duration": 238,
    "start_time": "2021-12-21T01:50:48.537Z"
   },
   {
    "duration": 257,
    "start_time": "2021-12-21T01:50:50.265Z"
   },
   {
    "duration": 1662,
    "start_time": "2021-12-21T01:53:36.044Z"
   },
   {
    "duration": 36,
    "start_time": "2021-12-21T01:53:37.709Z"
   },
   {
    "duration": 182,
    "start_time": "2021-12-21T01:53:37.748Z"
   },
   {
    "duration": 191,
    "start_time": "2021-12-21T01:53:37.933Z"
   },
   {
    "duration": 268,
    "start_time": "2021-12-21T01:53:38.126Z"
   },
   {
    "duration": 133,
    "start_time": "2021-12-21T01:53:38.397Z"
   },
   {
    "duration": 167,
    "start_time": "2021-12-21T01:53:38.533Z"
   },
   {
    "duration": 186,
    "start_time": "2021-12-21T01:53:38.703Z"
   },
   {
    "duration": 207,
    "start_time": "2021-12-21T01:53:38.892Z"
   },
   {
    "duration": 205,
    "start_time": "2021-12-21T01:53:39.101Z"
   },
   {
    "duration": 181,
    "start_time": "2021-12-21T01:53:39.309Z"
   },
   {
    "duration": 264,
    "start_time": "2021-12-21T01:53:39.492Z"
   },
   {
    "duration": 151,
    "start_time": "2021-12-21T01:53:39.759Z"
   },
   {
    "duration": 765,
    "start_time": "2021-12-21T01:53:39.912Z"
   },
   {
    "duration": 290,
    "start_time": "2021-12-21T01:53:40.679Z"
   },
   {
    "duration": 379,
    "start_time": "2021-12-21T01:53:40.973Z"
   },
   {
    "duration": 428,
    "start_time": "2021-12-21T01:53:41.355Z"
   },
   {
    "duration": 764,
    "start_time": "2021-12-21T01:53:41.785Z"
   },
   {
    "duration": 376,
    "start_time": "2021-12-21T01:53:42.552Z"
   },
   {
    "duration": 5,
    "start_time": "2021-12-21T01:53:42.931Z"
   },
   {
    "duration": 219,
    "start_time": "2021-12-21T01:53:42.938Z"
   },
   {
    "duration": 226,
    "start_time": "2021-12-21T01:53:43.160Z"
   },
   {
    "duration": 225,
    "start_time": "2021-12-21T01:53:43.391Z"
   },
   {
    "duration": 178,
    "start_time": "2021-12-21T01:53:43.618Z"
   },
   {
    "duration": 153,
    "start_time": "2021-12-21T01:53:43.798Z"
   },
   {
    "duration": 668,
    "start_time": "2021-12-21T01:53:43.954Z"
   },
   {
    "duration": -171,
    "start_time": "2021-12-21T01:53:44.796Z"
   },
   {
    "duration": -192,
    "start_time": "2021-12-21T01:53:44.819Z"
   },
   {
    "duration": -194,
    "start_time": "2021-12-21T01:53:44.824Z"
   },
   {
    "duration": -197,
    "start_time": "2021-12-21T01:53:44.829Z"
   },
   {
    "duration": -232,
    "start_time": "2021-12-21T01:53:44.866Z"
   },
   {
    "duration": -252,
    "start_time": "2021-12-21T01:53:44.888Z"
   },
   {
    "duration": -255,
    "start_time": "2021-12-21T01:53:44.893Z"
   },
   {
    "duration": -273,
    "start_time": "2021-12-21T01:53:44.913Z"
   },
   {
    "duration": -290,
    "start_time": "2021-12-21T01:53:44.932Z"
   },
   {
    "duration": -297,
    "start_time": "2021-12-21T01:53:44.940Z"
   },
   {
    "duration": -305,
    "start_time": "2021-12-21T01:53:44.949Z"
   },
   {
    "duration": -310,
    "start_time": "2021-12-21T01:53:44.956Z"
   },
   {
    "duration": -315,
    "start_time": "2021-12-21T01:53:44.962Z"
   },
   {
    "duration": -339,
    "start_time": "2021-12-21T01:53:44.987Z"
   },
   {
    "duration": -381,
    "start_time": "2021-12-21T01:53:45.031Z"
   },
   {
    "duration": 260,
    "start_time": "2021-12-21T01:54:32.150Z"
   },
   {
    "duration": 282,
    "start_time": "2021-12-21T01:54:50.261Z"
   },
   {
    "duration": 392,
    "start_time": "2021-12-21T01:55:00.588Z"
   },
   {
    "duration": 13,
    "start_time": "2021-12-21T01:55:03.399Z"
   },
   {
    "duration": 13,
    "start_time": "2021-12-21T01:55:25.303Z"
   },
   {
    "duration": 117,
    "start_time": "2021-12-21T01:55:27.185Z"
   },
   {
    "duration": 233,
    "start_time": "2021-12-21T01:55:28.702Z"
   },
   {
    "duration": 303,
    "start_time": "2021-12-21T01:55:30.472Z"
   },
   {
    "duration": 414,
    "start_time": "2021-12-21T01:55:32.157Z"
   },
   {
    "duration": 21,
    "start_time": "2021-12-21T01:55:35.543Z"
   },
   {
    "duration": 417,
    "start_time": "2021-12-21T01:55:37.056Z"
   },
   {
    "duration": 12691,
    "start_time": "2021-12-21T01:55:39.999Z"
   },
   {
    "duration": 1077,
    "start_time": "2021-12-21T01:55:52.693Z"
   },
   {
    "duration": 18,
    "start_time": "2021-12-21T01:55:53.773Z"
   },
   {
    "duration": 1727,
    "start_time": "2021-12-21T01:55:53.793Z"
   },
   {
    "duration": 160,
    "start_time": "2021-12-21T01:55:55.523Z"
   },
   {
    "duration": 15,
    "start_time": "2021-12-21T01:55:57.080Z"
   },
   {
    "duration": 285,
    "start_time": "2021-12-21T01:55:58.890Z"
   },
   {
    "duration": 1579,
    "start_time": "2021-12-21T01:56:10.792Z"
   },
   {
    "duration": 36,
    "start_time": "2021-12-21T01:56:12.374Z"
   },
   {
    "duration": 211,
    "start_time": "2021-12-21T01:56:12.413Z"
   },
   {
    "duration": 205,
    "start_time": "2021-12-21T01:56:12.627Z"
   },
   {
    "duration": 270,
    "start_time": "2021-12-21T01:56:12.835Z"
   },
   {
    "duration": 161,
    "start_time": "2021-12-21T01:56:13.108Z"
   },
   {
    "duration": 203,
    "start_time": "2021-12-21T01:56:13.271Z"
   },
   {
    "duration": 231,
    "start_time": "2021-12-21T01:56:13.477Z"
   },
   {
    "duration": 207,
    "start_time": "2021-12-21T01:56:13.713Z"
   },
   {
    "duration": 233,
    "start_time": "2021-12-21T01:56:13.924Z"
   },
   {
    "duration": 198,
    "start_time": "2021-12-21T01:56:14.160Z"
   },
   {
    "duration": 192,
    "start_time": "2021-12-21T01:56:14.360Z"
   },
   {
    "duration": 192,
    "start_time": "2021-12-21T01:56:14.555Z"
   },
   {
    "duration": 792,
    "start_time": "2021-12-21T01:56:14.750Z"
   },
   {
    "duration": 304,
    "start_time": "2021-12-21T01:56:15.546Z"
   },
   {
    "duration": 376,
    "start_time": "2021-12-21T01:56:15.852Z"
   },
   {
    "duration": 415,
    "start_time": "2021-12-21T01:56:16.230Z"
   },
   {
    "duration": 740,
    "start_time": "2021-12-21T01:56:16.648Z"
   },
   {
    "duration": 381,
    "start_time": "2021-12-21T01:56:17.391Z"
   },
   {
    "duration": 4,
    "start_time": "2021-12-21T01:56:17.775Z"
   },
   {
    "duration": 253,
    "start_time": "2021-12-21T01:56:17.783Z"
   },
   {
    "duration": 257,
    "start_time": "2021-12-21T01:56:18.039Z"
   },
   {
    "duration": 196,
    "start_time": "2021-12-21T01:56:18.299Z"
   },
   {
    "duration": 221,
    "start_time": "2021-12-21T01:56:18.498Z"
   },
   {
    "duration": 200,
    "start_time": "2021-12-21T01:56:18.722Z"
   },
   {
    "duration": 220,
    "start_time": "2021-12-21T01:56:18.926Z"
   },
   {
    "duration": 202,
    "start_time": "2021-12-21T01:56:19.151Z"
   },
   {
    "duration": 361,
    "start_time": "2021-12-21T01:56:19.357Z"
   },
   {
    "duration": 328,
    "start_time": "2021-12-21T01:56:19.721Z"
   },
   {
    "duration": 421,
    "start_time": "2021-12-21T01:56:20.052Z"
   },
   {
    "duration": 495,
    "start_time": "2021-12-21T01:56:20.475Z"
   },
   {
    "duration": 20,
    "start_time": "2021-12-21T01:56:20.973Z"
   },
   {
    "duration": 675,
    "start_time": "2021-12-21T01:56:20.995Z"
   },
   {
    "duration": 12910,
    "start_time": "2021-12-21T01:56:21.672Z"
   },
   {
    "duration": 1095,
    "start_time": "2021-12-21T01:56:34.585Z"
   },
   {
    "duration": 17,
    "start_time": "2021-12-21T01:56:35.683Z"
   },
   {
    "duration": 674,
    "start_time": "2021-12-21T01:56:35.703Z"
   },
   {
    "duration": 1453,
    "start_time": "2021-12-21T01:56:36.380Z"
   },
   {
    "duration": 153,
    "start_time": "2021-12-21T01:56:37.836Z"
   },
   {
    "duration": 3011,
    "start_time": "2021-12-21T02:01:19.038Z"
   },
   {
    "duration": 913,
    "start_time": "2021-12-21T02:01:36.779Z"
   },
   {
    "duration": 13,
    "start_time": "2021-12-21T02:12:37.644Z"
   },
   {
    "duration": 789,
    "start_time": "2021-12-21T02:12:40.721Z"
   },
   {
    "duration": 12,
    "start_time": "2021-12-21T02:13:03.244Z"
   },
   {
    "duration": 641,
    "start_time": "2021-12-21T02:13:13.186Z"
   },
   {
    "duration": 1656,
    "start_time": "2021-12-21T02:14:02.279Z"
   },
   {
    "duration": 37,
    "start_time": "2021-12-21T02:14:03.938Z"
   },
   {
    "duration": 184,
    "start_time": "2021-12-21T02:14:03.978Z"
   },
   {
    "duration": 170,
    "start_time": "2021-12-21T02:14:04.164Z"
   },
   {
    "duration": 249,
    "start_time": "2021-12-21T02:14:04.336Z"
   },
   {
    "duration": 129,
    "start_time": "2021-12-21T02:14:04.587Z"
   },
   {
    "duration": 185,
    "start_time": "2021-12-21T02:14:04.718Z"
   },
   {
    "duration": 174,
    "start_time": "2021-12-21T02:14:04.905Z"
   },
   {
    "duration": 140,
    "start_time": "2021-12-21T02:14:05.083Z"
   },
   {
    "duration": 212,
    "start_time": "2021-12-21T02:14:05.227Z"
   },
   {
    "duration": 175,
    "start_time": "2021-12-21T02:14:05.442Z"
   },
   {
    "duration": 167,
    "start_time": "2021-12-21T02:14:05.620Z"
   },
   {
    "duration": 162,
    "start_time": "2021-12-21T02:14:05.789Z"
   },
   {
    "duration": 777,
    "start_time": "2021-12-21T02:14:05.953Z"
   },
   {
    "duration": 294,
    "start_time": "2021-12-21T02:14:06.732Z"
   },
   {
    "duration": 393,
    "start_time": "2021-12-21T02:14:07.028Z"
   },
   {
    "duration": 413,
    "start_time": "2021-12-21T02:14:07.423Z"
   },
   {
    "duration": 766,
    "start_time": "2021-12-21T02:14:07.838Z"
   },
   {
    "duration": 376,
    "start_time": "2021-12-21T02:14:08.607Z"
   },
   {
    "duration": 4,
    "start_time": "2021-12-21T02:14:08.985Z"
   },
   {
    "duration": 193,
    "start_time": "2021-12-21T02:14:08.991Z"
   },
   {
    "duration": 202,
    "start_time": "2021-12-21T02:14:09.186Z"
   },
   {
    "duration": 129,
    "start_time": "2021-12-21T02:14:09.390Z"
   },
   {
    "duration": 170,
    "start_time": "2021-12-21T02:14:09.521Z"
   },
   {
    "duration": 184,
    "start_time": "2021-12-21T02:14:09.694Z"
   },
   {
    "duration": 229,
    "start_time": "2021-12-21T02:14:09.880Z"
   },
   {
    "duration": 227,
    "start_time": "2021-12-21T02:14:10.114Z"
   },
   {
    "duration": 918,
    "start_time": "2021-12-21T02:14:10.344Z"
   },
   {
    "duration": -130,
    "start_time": "2021-12-21T02:14:11.394Z"
   },
   {
    "duration": -152,
    "start_time": "2021-12-21T02:14:11.417Z"
   },
   {
    "duration": -165,
    "start_time": "2021-12-21T02:14:11.432Z"
   },
   {
    "duration": -168,
    "start_time": "2021-12-21T02:14:11.436Z"
   },
   {
    "duration": -175,
    "start_time": "2021-12-21T02:14:11.445Z"
   },
   {
    "duration": -179,
    "start_time": "2021-12-21T02:14:11.450Z"
   },
   {
    "duration": -187,
    "start_time": "2021-12-21T02:14:11.460Z"
   },
   {
    "duration": -326,
    "start_time": "2021-12-21T02:14:11.600Z"
   },
   {
    "duration": -330,
    "start_time": "2021-12-21T02:14:11.606Z"
   },
   {
    "duration": -333,
    "start_time": "2021-12-21T02:14:11.610Z"
   },
   {
    "duration": -335,
    "start_time": "2021-12-21T02:14:11.613Z"
   },
   {
    "duration": -337,
    "start_time": "2021-12-21T02:14:11.617Z"
   },
   {
    "duration": 14,
    "start_time": "2021-12-21T02:14:43.543Z"
   },
   {
    "duration": 800,
    "start_time": "2021-12-21T02:14:45.767Z"
   },
   {
    "duration": 313,
    "start_time": "2021-12-21T02:17:09.705Z"
   },
   {
    "duration": 388,
    "start_time": "2021-12-21T02:17:15.492Z"
   },
   {
    "duration": 696,
    "start_time": "2021-12-21T02:17:29.862Z"
   },
   {
    "duration": 13,
    "start_time": "2021-12-21T02:17:51.755Z"
   },
   {
    "duration": 122,
    "start_time": "2021-12-21T02:17:53.682Z"
   },
   {
    "duration": 304,
    "start_time": "2021-12-21T02:24:15.437Z"
   },
   {
    "duration": 246,
    "start_time": "2021-12-21T02:24:29.264Z"
   },
   {
    "duration": 357,
    "start_time": "2021-12-21T02:24:29.514Z"
   },
   {
    "duration": 398,
    "start_time": "2021-12-21T02:24:29.874Z"
   },
   {
    "duration": 21,
    "start_time": "2021-12-21T02:24:30.275Z"
   },
   {
    "duration": 581,
    "start_time": "2021-12-21T02:24:30.299Z"
   },
   {
    "duration": 13648,
    "start_time": "2021-12-21T02:24:30.882Z"
   },
   {
    "duration": 1107,
    "start_time": "2021-12-21T02:24:44.533Z"
   },
   {
    "duration": 16,
    "start_time": "2021-12-21T02:24:45.644Z"
   },
   {
    "duration": 513,
    "start_time": "2021-12-21T02:24:45.666Z"
   },
   {
    "duration": 1010,
    "start_time": "2021-12-21T02:24:46.181Z"
   },
   {
    "duration": 144,
    "start_time": "2021-12-21T02:24:47.194Z"
   },
   {
    "duration": 37548,
    "start_time": "2021-12-21T02:24:47.340Z"
   },
   {
    "duration": 258,
    "start_time": "2021-12-21T02:25:24.890Z"
   },
   {
    "duration": 12,
    "start_time": "2021-12-21T02:26:08.852Z"
   },
   {
    "duration": 13,
    "start_time": "2021-12-21T02:26:14.547Z"
   },
   {
    "duration": 123,
    "start_time": "2021-12-21T02:26:19.024Z"
   },
   {
    "duration": 227,
    "start_time": "2021-12-21T02:26:21.856Z"
   },
   {
    "duration": 369,
    "start_time": "2021-12-21T02:26:24.703Z"
   },
   {
    "duration": 19,
    "start_time": "2021-12-21T02:26:28.179Z"
   },
   {
    "duration": 418,
    "start_time": "2021-12-21T02:26:30.662Z"
   },
   {
    "duration": 12804,
    "start_time": "2021-12-21T02:26:34.677Z"
   },
   {
    "duration": 1105,
    "start_time": "2021-12-21T02:26:47.483Z"
   },
   {
    "duration": 1051,
    "start_time": "2021-12-21T02:26:56.981Z"
   },
   {
    "duration": 17,
    "start_time": "2021-12-21T02:27:04.944Z"
   },
   {
    "duration": 252,
    "start_time": "2021-12-21T02:27:07.120Z"
   },
   {
    "duration": 12,
    "start_time": "2021-12-21T02:46:38.049Z"
   },
   {
    "duration": 12,
    "start_time": "2021-12-21T02:47:41.217Z"
   },
   {
    "duration": 1631,
    "start_time": "2021-12-21T02:48:44.966Z"
   },
   {
    "duration": 37,
    "start_time": "2021-12-21T02:48:46.600Z"
   },
   {
    "duration": 316,
    "start_time": "2021-12-21T02:48:46.640Z"
   },
   {
    "duration": 273,
    "start_time": "2021-12-21T02:48:46.958Z"
   },
   {
    "duration": 243,
    "start_time": "2021-12-21T02:48:47.233Z"
   },
   {
    "duration": 233,
    "start_time": "2021-12-21T02:48:47.479Z"
   },
   {
    "duration": 361,
    "start_time": "2021-12-21T02:48:47.715Z"
   },
   {
    "duration": 171,
    "start_time": "2021-12-21T02:48:48.080Z"
   },
   {
    "duration": 191,
    "start_time": "2021-12-21T02:48:48.254Z"
   },
   {
    "duration": 184,
    "start_time": "2021-12-21T02:48:48.447Z"
   },
   {
    "duration": 163,
    "start_time": "2021-12-21T02:48:48.633Z"
   },
   {
    "duration": 172,
    "start_time": "2021-12-21T02:48:48.799Z"
   },
   {
    "duration": 209,
    "start_time": "2021-12-21T02:48:48.974Z"
   },
   {
    "duration": 801,
    "start_time": "2021-12-21T02:48:49.185Z"
   },
   {
    "duration": 301,
    "start_time": "2021-12-21T02:48:49.988Z"
   },
   {
    "duration": 381,
    "start_time": "2021-12-21T02:48:50.292Z"
   },
   {
    "duration": 423,
    "start_time": "2021-12-21T02:48:50.675Z"
   },
   {
    "duration": 802,
    "start_time": "2021-12-21T02:48:51.101Z"
   },
   {
    "duration": 388,
    "start_time": "2021-12-21T02:48:51.906Z"
   },
   {
    "duration": 3,
    "start_time": "2021-12-21T02:48:52.297Z"
   },
   {
    "duration": 336,
    "start_time": "2021-12-21T02:48:52.303Z"
   },
   {
    "duration": 252,
    "start_time": "2021-12-21T02:48:52.641Z"
   },
   {
    "duration": 292,
    "start_time": "2021-12-21T02:48:52.898Z"
   },
   {
    "duration": 197,
    "start_time": "2021-12-21T02:48:53.194Z"
   },
   {
    "duration": 294,
    "start_time": "2021-12-21T02:48:53.393Z"
   },
   {
    "duration": 283,
    "start_time": "2021-12-21T02:48:53.689Z"
   },
   {
    "duration": 223,
    "start_time": "2021-12-21T02:48:53.974Z"
   },
   {
    "duration": 843,
    "start_time": "2021-12-21T02:48:54.199Z"
   },
   {
    "duration": -137,
    "start_time": "2021-12-21T02:48:55.182Z"
   },
   {
    "duration": -142,
    "start_time": "2021-12-21T02:48:55.188Z"
   },
   {
    "duration": -150,
    "start_time": "2021-12-21T02:48:55.197Z"
   },
   {
    "duration": -307,
    "start_time": "2021-12-21T02:48:55.356Z"
   },
   {
    "duration": -316,
    "start_time": "2021-12-21T02:48:55.367Z"
   },
   {
    "duration": -318,
    "start_time": "2021-12-21T02:48:55.370Z"
   },
   {
    "duration": -323,
    "start_time": "2021-12-21T02:48:55.376Z"
   },
   {
    "duration": -325,
    "start_time": "2021-12-21T02:48:55.380Z"
   },
   {
    "duration": -328,
    "start_time": "2021-12-21T02:48:55.384Z"
   },
   {
    "duration": -330,
    "start_time": "2021-12-21T02:48:55.388Z"
   },
   {
    "duration": -333,
    "start_time": "2021-12-21T02:48:55.392Z"
   },
   {
    "duration": -337,
    "start_time": "2021-12-21T02:48:55.397Z"
   },
   {
    "duration": 116,
    "start_time": "2021-12-21T02:49:29.871Z"
   },
   {
    "duration": 121,
    "start_time": "2021-12-21T02:49:34.248Z"
   },
   {
    "duration": 381,
    "start_time": "2021-12-21T02:49:34.373Z"
   },
   {
    "duration": 409,
    "start_time": "2021-12-21T02:49:34.767Z"
   },
   {
    "duration": 493,
    "start_time": "2021-12-21T02:49:35.179Z"
   },
   {
    "duration": 21,
    "start_time": "2021-12-21T02:49:35.674Z"
   },
   {
    "duration": 678,
    "start_time": "2021-12-21T02:49:35.697Z"
   },
   {
    "duration": 13007,
    "start_time": "2021-12-21T02:49:36.378Z"
   },
   {
    "duration": 1062,
    "start_time": "2021-12-21T02:49:49.388Z"
   },
   {
    "duration": 25,
    "start_time": "2021-12-21T02:49:50.453Z"
   },
   {
    "duration": 491,
    "start_time": "2021-12-21T02:49:50.481Z"
   },
   {
    "duration": 914,
    "start_time": "2021-12-21T02:49:50.975Z"
   },
   {
    "duration": 164,
    "start_time": "2021-12-21T02:49:51.892Z"
   },
   {
    "duration": 396,
    "start_time": "2021-12-21T02:49:52.059Z"
   },
   {
    "duration": 341,
    "start_time": "2021-12-21T02:51:11.468Z"
   },
   {
    "duration": 458,
    "start_time": "2021-12-21T02:52:35.635Z"
   },
   {
    "duration": 3,
    "start_time": "2021-12-21T03:01:59.871Z"
   },
   {
    "duration": 259,
    "start_time": "2021-12-21T03:06:25.137Z"
   },
   {
    "duration": 430,
    "start_time": "2021-12-21T03:06:29.288Z"
   },
   {
    "duration": 8,
    "start_time": "2021-12-21T03:06:30.933Z"
   },
   {
    "duration": 295,
    "start_time": "2021-12-21T03:12:36.985Z"
   },
   {
    "duration": 259,
    "start_time": "2021-12-21T03:12:53.944Z"
   },
   {
    "duration": 300,
    "start_time": "2021-12-21T03:14:13.010Z"
   },
   {
    "duration": 302,
    "start_time": "2021-12-21T20:32:26.515Z"
   },
   {
    "duration": 1234,
    "start_time": "2021-12-21T20:33:12.432Z"
   },
   {
    "duration": 9,
    "start_time": "2021-12-21T20:33:24.035Z"
   },
   {
    "duration": 6,
    "start_time": "2021-12-21T20:33:30.076Z"
   },
   {
    "duration": 356,
    "start_time": "2021-12-21T20:33:31.287Z"
   },
   {
    "duration": 251,
    "start_time": "2021-12-21T20:33:54.037Z"
   },
   {
    "duration": 1282,
    "start_time": "2021-12-21T20:34:04.551Z"
   },
   {
    "duration": 31,
    "start_time": "2021-12-21T20:34:05.834Z"
   },
   {
    "duration": 17,
    "start_time": "2021-12-21T20:34:05.867Z"
   },
   {
    "duration": 12,
    "start_time": "2021-12-21T20:34:05.886Z"
   },
   {
    "duration": 51,
    "start_time": "2021-12-21T20:34:05.900Z"
   },
   {
    "duration": 2,
    "start_time": "2021-12-21T20:34:05.953Z"
   },
   {
    "duration": 11,
    "start_time": "2021-12-21T20:34:05.957Z"
   },
   {
    "duration": 4,
    "start_time": "2021-12-21T20:34:05.971Z"
   },
   {
    "duration": 8,
    "start_time": "2021-12-21T20:34:05.977Z"
   },
   {
    "duration": 16,
    "start_time": "2021-12-21T20:34:05.986Z"
   },
   {
    "duration": 3,
    "start_time": "2021-12-21T20:34:06.004Z"
   },
   {
    "duration": 11,
    "start_time": "2021-12-21T20:34:06.009Z"
   },
   {
    "duration": 28,
    "start_time": "2021-12-21T20:34:06.021Z"
   },
   {
    "duration": 376,
    "start_time": "2021-12-21T20:34:06.050Z"
   },
   {
    "duration": 167,
    "start_time": "2021-12-21T20:34:06.428Z"
   },
   {
    "duration": 212,
    "start_time": "2021-12-21T20:34:06.597Z"
   },
   {
    "duration": 246,
    "start_time": "2021-12-21T20:34:06.811Z"
   },
   {
    "duration": 490,
    "start_time": "2021-12-21T20:34:07.058Z"
   },
   {
    "duration": 225,
    "start_time": "2021-12-21T20:34:07.550Z"
   },
   {
    "duration": 3,
    "start_time": "2021-12-21T20:34:07.777Z"
   },
   {
    "duration": 20,
    "start_time": "2021-12-21T20:34:07.782Z"
   },
   {
    "duration": 55,
    "start_time": "2021-12-21T20:34:07.804Z"
   },
   {
    "duration": 5,
    "start_time": "2021-12-21T20:34:07.863Z"
   },
   {
    "duration": 8,
    "start_time": "2021-12-21T20:34:07.871Z"
   },
   {
    "duration": 17,
    "start_time": "2021-12-21T20:34:07.880Z"
   },
   {
    "duration": 4,
    "start_time": "2021-12-21T20:34:07.898Z"
   },
   {
    "duration": 13,
    "start_time": "2021-12-21T20:34:07.904Z"
   },
   {
    "duration": 100,
    "start_time": "2021-12-21T20:34:07.919Z"
   },
   {
    "duration": 161,
    "start_time": "2021-12-21T20:34:08.020Z"
   },
   {
    "duration": 174,
    "start_time": "2021-12-21T20:34:08.183Z"
   },
   {
    "duration": 320,
    "start_time": "2021-12-21T20:34:08.442Z"
   },
   {
    "duration": 14,
    "start_time": "2021-12-21T20:34:08.763Z"
   },
   {
    "duration": 364,
    "start_time": "2021-12-21T20:34:08.779Z"
   },
   {
    "duration": 7518,
    "start_time": "2021-12-21T20:34:09.145Z"
   },
   {
    "duration": 683,
    "start_time": "2021-12-21T20:34:16.665Z"
   },
   {
    "duration": 11,
    "start_time": "2021-12-21T20:34:17.349Z"
   },
   {
    "duration": 186,
    "start_time": "2021-12-21T20:34:17.362Z"
   },
   {
    "duration": 662,
    "start_time": "2021-12-21T20:34:17.551Z"
   },
   {
    "duration": 104,
    "start_time": "2021-12-21T20:34:18.214Z"
   },
   {
    "duration": 298,
    "start_time": "2021-12-21T20:34:18.321Z"
   },
   {
    "duration": 5,
    "start_time": "2021-12-21T20:34:18.621Z"
   },
   {
    "duration": 178,
    "start_time": "2021-12-21T20:34:18.628Z"
   },
   {
    "duration": 177,
    "start_time": "2021-12-21T20:34:18.808Z"
   },
   {
    "duration": 308,
    "start_time": "2021-12-21T20:40:12.137Z"
   },
   {
    "duration": 304,
    "start_time": "2021-12-21T20:40:23.187Z"
   },
   {
    "duration": 292,
    "start_time": "2021-12-21T20:40:31.528Z"
   },
   {
    "duration": 5,
    "start_time": "2021-12-21T21:24:46.685Z"
   },
   {
    "duration": 22,
    "start_time": "2021-12-21T21:25:03.722Z"
   },
   {
    "duration": 6,
    "start_time": "2021-12-21T21:25:06.448Z"
   },
   {
    "duration": 25,
    "start_time": "2021-12-21T21:25:22.342Z"
   },
   {
    "duration": 171,
    "start_time": "2021-12-21T21:25:31.155Z"
   },
   {
    "duration": 409,
    "start_time": "2021-12-21T21:45:00.742Z"
   },
   {
    "duration": 166,
    "start_time": "2021-12-21T21:45:19.353Z"
   },
   {
    "duration": 165,
    "start_time": "2021-12-21T21:45:53.456Z"
   },
   {
    "duration": 85,
    "start_time": "2021-12-21T21:46:17.543Z"
   },
   {
    "duration": 27,
    "start_time": "2021-12-21T21:56:46.927Z"
   },
   {
    "duration": 27,
    "start_time": "2021-12-21T21:57:18.213Z"
   },
   {
    "duration": 291,
    "start_time": "2021-12-21T21:59:18.031Z"
   },
   {
    "duration": 9,
    "start_time": "2021-12-21T22:00:18.152Z"
   },
   {
    "duration": 9,
    "start_time": "2021-12-21T22:00:23.561Z"
   },
   {
    "duration": 9,
    "start_time": "2021-12-21T22:00:25.005Z"
   },
   {
    "duration": 7,
    "start_time": "2021-12-21T22:02:33.185Z"
   },
   {
    "duration": 251,
    "start_time": "2021-12-21T22:04:00.563Z"
   },
   {
    "duration": 250,
    "start_time": "2021-12-21T22:04:07.635Z"
   },
   {
    "duration": 5,
    "start_time": "2021-12-21T22:04:11.286Z"
   },
   {
    "duration": 8,
    "start_time": "2021-12-21T22:05:33.315Z"
   },
   {
    "duration": 7,
    "start_time": "2021-12-21T22:06:13.124Z"
   },
   {
    "duration": 417,
    "start_time": "2021-12-21T22:06:21.481Z"
   },
   {
    "duration": 365,
    "start_time": "2021-12-21T22:06:26.203Z"
   },
   {
    "duration": 6,
    "start_time": "2021-12-21T22:06:33.875Z"
   },
   {
    "duration": 596,
    "start_time": "2021-12-21T23:03:22.137Z"
   },
   {
    "duration": 516,
    "start_time": "2021-12-21T23:03:30.209Z"
   },
   {
    "duration": 266,
    "start_time": "2021-12-21T23:03:34.865Z"
   },
   {
    "duration": 5,
    "start_time": "2021-12-21T23:04:27.367Z"
   },
   {
    "duration": 10,
    "start_time": "2021-12-21T23:06:02.306Z"
   },
   {
    "duration": 1212,
    "start_time": "2021-12-22T02:41:54.839Z"
   },
   {
    "duration": 33,
    "start_time": "2021-12-22T02:41:56.053Z"
   },
   {
    "duration": 24,
    "start_time": "2021-12-22T02:41:56.089Z"
   },
   {
    "duration": 30,
    "start_time": "2021-12-22T02:41:56.116Z"
   },
   {
    "duration": 68,
    "start_time": "2021-12-22T02:41:56.148Z"
   },
   {
    "duration": 3,
    "start_time": "2021-12-22T02:41:56.218Z"
   },
   {
    "duration": 48,
    "start_time": "2021-12-22T02:41:56.223Z"
   },
   {
    "duration": 24,
    "start_time": "2021-12-22T02:41:56.274Z"
   },
   {
    "duration": 32,
    "start_time": "2021-12-22T02:41:56.301Z"
   },
   {
    "duration": 44,
    "start_time": "2021-12-22T02:41:56.336Z"
   },
   {
    "duration": 12,
    "start_time": "2021-12-22T02:41:56.383Z"
   },
   {
    "duration": 38,
    "start_time": "2021-12-22T02:41:56.397Z"
   },
   {
    "duration": 39,
    "start_time": "2021-12-22T02:41:56.437Z"
   },
   {
    "duration": 402,
    "start_time": "2021-12-22T02:41:56.478Z"
   },
   {
    "duration": 178,
    "start_time": "2021-12-22T02:41:56.882Z"
   },
   {
    "duration": 229,
    "start_time": "2021-12-22T02:41:57.062Z"
   },
   {
    "duration": 248,
    "start_time": "2021-12-22T02:41:57.293Z"
   },
   {
    "duration": 506,
    "start_time": "2021-12-22T02:41:57.542Z"
   },
   {
    "duration": 233,
    "start_time": "2021-12-22T02:41:58.049Z"
   },
   {
    "duration": 2,
    "start_time": "2021-12-22T02:41:58.284Z"
   },
   {
    "duration": 57,
    "start_time": "2021-12-22T02:41:58.288Z"
   },
   {
    "duration": 52,
    "start_time": "2021-12-22T02:41:58.347Z"
   },
   {
    "duration": 5,
    "start_time": "2021-12-22T02:41:58.401Z"
   },
   {
    "duration": 7,
    "start_time": "2021-12-22T02:41:58.408Z"
   },
   {
    "duration": 13,
    "start_time": "2021-12-22T02:41:58.417Z"
   },
   {
    "duration": 15,
    "start_time": "2021-12-22T02:41:58.432Z"
   },
   {
    "duration": 99,
    "start_time": "2021-12-22T02:41:58.451Z"
   },
   {
    "duration": 169,
    "start_time": "2021-12-22T02:41:58.552Z"
   },
   {
    "duration": 320,
    "start_time": "2021-12-22T02:41:58.723Z"
   },
   {
    "duration": 315,
    "start_time": "2021-12-22T02:41:59.044Z"
   },
   {
    "duration": 14,
    "start_time": "2021-12-22T02:41:59.361Z"
   },
   {
    "duration": 366,
    "start_time": "2021-12-22T02:41:59.376Z"
   },
   {
    "duration": 8129,
    "start_time": "2021-12-22T02:41:59.744Z"
   },
   {
    "duration": 648,
    "start_time": "2021-12-22T02:42:07.875Z"
   },
   {
    "duration": 21,
    "start_time": "2021-12-22T02:42:08.525Z"
   },
   {
    "duration": 298,
    "start_time": "2021-12-22T02:42:08.548Z"
   },
   {
    "duration": 581,
    "start_time": "2021-12-22T02:42:08.848Z"
   },
   {
    "duration": 111,
    "start_time": "2021-12-22T02:42:09.431Z"
   },
   {
    "duration": 317,
    "start_time": "2021-12-22T02:42:09.544Z"
   },
   {
    "duration": 8,
    "start_time": "2021-12-22T02:42:09.863Z"
   },
   {
    "duration": 23,
    "start_time": "2021-12-22T02:42:09.873Z"
   },
   {
    "duration": 208,
    "start_time": "2021-12-22T02:42:09.898Z"
   },
   {
    "duration": 176,
    "start_time": "2021-12-22T02:42:10.108Z"
   },
   {
    "duration": 1364,
    "start_time": "2021-12-23T18:16:30.849Z"
   },
   {
    "duration": 30,
    "start_time": "2021-12-23T18:16:35.631Z"
   },
   {
    "duration": 15,
    "start_time": "2021-12-23T18:16:38.998Z"
   },
   {
    "duration": 9,
    "start_time": "2021-12-23T18:16:44.176Z"
   },
   {
    "duration": 42,
    "start_time": "2021-12-23T18:16:46.568Z"
   },
   {
    "duration": 7,
    "start_time": "2021-12-23T18:17:29.979Z"
   },
   {
    "duration": 4,
    "start_time": "2021-12-23T18:17:32.765Z"
   },
   {
    "duration": 4,
    "start_time": "2021-12-23T18:17:36.952Z"
   },
   {
    "duration": 5,
    "start_time": "2021-12-23T18:17:38.284Z"
   },
   {
    "duration": 12,
    "start_time": "2021-12-23T18:17:41.381Z"
   },
   {
    "duration": 5,
    "start_time": "2021-12-23T18:17:43.172Z"
   },
   {
    "duration": 5,
    "start_time": "2021-12-23T18:17:45.066Z"
   },
   {
    "duration": 10,
    "start_time": "2021-12-23T18:17:46.760Z"
   },
   {
    "duration": 501,
    "start_time": "2021-12-23T18:17:49.513Z"
   },
   {
    "duration": 155,
    "start_time": "2021-12-23T18:17:51.492Z"
   },
   {
    "duration": 200,
    "start_time": "2021-12-23T18:17:53.928Z"
   },
   {
    "duration": 228,
    "start_time": "2021-12-23T18:17:56.143Z"
   },
   {
    "duration": 483,
    "start_time": "2021-12-23T18:17:58.526Z"
   },
   {
    "duration": 221,
    "start_time": "2021-12-23T18:18:01.537Z"
   },
   {
    "duration": 3,
    "start_time": "2021-12-23T18:18:04.675Z"
   },
   {
    "duration": 17,
    "start_time": "2021-12-23T18:18:05.799Z"
   },
   {
    "duration": 38,
    "start_time": "2021-12-23T18:18:08.900Z"
   },
   {
    "duration": 6,
    "start_time": "2021-12-23T18:18:10.778Z"
   },
   {
    "duration": 6,
    "start_time": "2021-12-23T18:18:12.303Z"
   },
   {
    "duration": 9,
    "start_time": "2021-12-23T18:18:22.933Z"
   },
   {
    "duration": 8,
    "start_time": "2021-12-23T18:18:30.598Z"
   },
   {
    "duration": 80,
    "start_time": "2021-12-23T18:18:35.382Z"
   },
   {
    "duration": 147,
    "start_time": "2021-12-23T18:18:40.416Z"
   },
   {
    "duration": 281,
    "start_time": "2021-12-23T18:18:47.681Z"
   },
   {
    "duration": 292,
    "start_time": "2021-12-23T18:19:04.594Z"
   },
   {
    "duration": 15,
    "start_time": "2021-12-23T18:19:15.534Z"
   },
   {
    "duration": 11,
    "start_time": "2021-12-23T18:19:19.125Z"
   },
   {
    "duration": 14,
    "start_time": "2021-12-23T18:23:24.372Z"
   },
   {
    "duration": 13,
    "start_time": "2021-12-23T19:10:16.938Z"
   },
   {
    "duration": 426,
    "start_time": "2021-12-23T19:10:23.887Z"
   },
   {
    "duration": 407,
    "start_time": "2021-12-23T19:10:28.655Z"
   },
   {
    "duration": 7314,
    "start_time": "2021-12-23T19:10:37.916Z"
   },
   {
    "duration": 650,
    "start_time": "2021-12-23T19:10:45.231Z"
   },
   {
    "duration": 10,
    "start_time": "2021-12-23T19:10:45.883Z"
   },
   {
    "duration": 169,
    "start_time": "2021-12-23T19:10:48.393Z"
   },
   {
    "duration": 554,
    "start_time": "2021-12-23T19:10:52.289Z"
   },
   {
    "duration": 102,
    "start_time": "2021-12-23T19:10:57.863Z"
   },
   {
    "duration": 300,
    "start_time": "2021-12-23T19:11:00.995Z"
   },
   {
    "duration": 23,
    "start_time": "2021-12-23T19:11:02.948Z"
   },
   {
    "duration": 154,
    "start_time": "2021-12-23T19:11:10.136Z"
   },
   {
    "duration": 162,
    "start_time": "2021-12-23T19:11:17.669Z"
   }
  ],
  "kernelspec": {
   "display_name": "Python 3",
   "language": "python",
   "name": "python3"
  },
  "language_info": {
   "codemirror_mode": {
    "name": "ipython",
    "version": 3
   },
   "file_extension": ".py",
   "mimetype": "text/x-python",
   "name": "python",
   "nbconvert_exporter": "python",
   "pygments_lexer": "ipython3",
   "version": "3.7.10"
  },
  "toc": {
   "base_numbering": 1,
   "nav_menu": {},
   "number_sections": true,
   "sideBar": true,
   "skip_h1_title": true,
   "title_cell": "Table of Contents",
   "title_sidebar": "Contents",
   "toc_cell": false,
   "toc_position": {
    "height": "calc(100% - 180px)",
    "left": "10px",
    "top": "150px",
    "width": "266.875px"
   },
   "toc_section_display": true,
   "toc_window_display": false
  }
 },
 "nbformat": 4,
 "nbformat_minor": 2
}
