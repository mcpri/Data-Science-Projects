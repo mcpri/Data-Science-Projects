{
 "cells": [
  {
   "cell_type": "markdown",
   "metadata": {},
   "source": [
    "# Gold Recovery"
   ]
  },
  {
   "cell_type": "markdown",
   "metadata": {},
   "source": [
    "## Tabel Of Contents\n",
    "* [Goal](#goal)\n",
    "* [Data Description](#data_desc)\n",
    "* [General Information](#general)\n",
    "* [Data Preprocessing](#data_pre)\n",
    "* [Analyze the data](#analyze)\n",
    "* [Build the model](#build)\n",
    "* [Conclusion](#con)"
   ]
  },
  {
   "cell_type": "markdown",
   "metadata": {},
   "source": [
    "## Goal<a class=\"anchor\" id=\"goal\"></a>\n",
    "\n",
    "Prepare a prototype of a machine learning model for Zyfra. The company develops efficiency solutions for heavy industry. The model should predict the amount of gold recovered from gold ore. You have the data on extraction and purification. The model will help to optimize the production and eliminate unprofitable parameters."
   ]
  },
  {
   "cell_type": "markdown",
   "metadata": {},
   "source": [
    "## Data Description<a class=\"anchor\" id=\"data_desc\"></a>\n",
    "\n",
    "Technological process\n",
    "* Rougher feed — raw material\n",
    "* Rougher additions (or reagent additions) — flotation reagents: Xanthate, Sulphate, Depressant\n",
    "* Xanthate — promoter or flotation activator;\n",
    "* Sulphate — sodium sulphide for this particular process;\n",
    "* Depressant — sodium silicate.\n",
    "* Rougher process — flotation\n",
    "* Rougher tails — product residues\n",
    "* Float banks — flotation unit\n",
    "* Cleaner process — purification\n",
    "* Rougher Au — rougher gold concentrate\n",
    "* Final Au — final gold concentrate\n",
    "\n",
    "Parameters of stages\n",
    "* air amount — volume of air\n",
    "* fluid levels\n",
    "* feed size — feed particle size\n",
    "* feed rate"
   ]
  },
  {
   "cell_type": "markdown",
   "metadata": {},
   "source": [
    "### General Information <a class=\"anchor\" id=\"general\"></a>\n",
    "\n"
   ]
  },
  {
   "cell_type": "code",
   "execution_count": 1,
   "metadata": {},
   "outputs": [],
   "source": [
    "# import \n",
    "import pandas as pd\n",
    "import numpy as np\n",
    "import seaborn as sns\n",
    "from scipy import stats as st\n",
    "import matplotlib.pyplot as plt\n",
    "%matplotlib inline\n",
    "from sklearn.metrics import make_scorer\n",
    "from sklearn.metrics import mean_absolute_error\n",
    "from sklearn.preprocessing import StandardScaler\n",
    "from sklearn.model_selection import cross_validate,GridSearchCV\n",
    "from sklearn.model_selection import train_test_split, cross_val_score\n",
    "from sklearn.dummy import DummyRegressor\n",
    "from sklearn.ensemble import RandomForestRegressor\n",
    "from sklearn.linear_model import LinearRegression, Lasso, Ridge\n",
    "from sklearn.tree import DecisionTreeRegressor\n",
    "\n",
    "# import warnings\n",
    "import warnings\n",
    "warnings.filterwarnings('ignore')"
   ]
  },
  {
   "cell_type": "code",
   "execution_count": 2,
   "metadata": {},
   "outputs": [],
   "source": [
    "try:\n",
    "    df_train = pd.read_csv(\"gold_recovery_train.csv\")\n",
    "    df_test = pd.read_csv(\"gold_recovery_test.csv\")\n",
    "    df_full = pd.read_csv(\"gold_recovery_full.csv\")\n",
    "except:\n",
    "    df_train = pd.read_csv(\"/datasets/gold_recovery_train.csv\")\n",
    "    df_test = pd.read_csv(\"/datasets/gold_recovery_test.csv\")\n",
    "    df_full = pd.read_csv(\"/datasets/gold_recovery_full.csv\")    "
   ]
  },
  {
   "cell_type": "code",
   "execution_count": 3,
   "metadata": {},
   "outputs": [
    {
     "data": {
      "text/html": [
       "<div>\n",
       "<style scoped>\n",
       "    .dataframe tbody tr th:only-of-type {\n",
       "        vertical-align: middle;\n",
       "    }\n",
       "\n",
       "    .dataframe tbody tr th {\n",
       "        vertical-align: top;\n",
       "    }\n",
       "\n",
       "    .dataframe thead th {\n",
       "        text-align: right;\n",
       "    }\n",
       "</style>\n",
       "<table border=\"1\" class=\"dataframe\">\n",
       "  <thead>\n",
       "    <tr style=\"text-align: right;\">\n",
       "      <th></th>\n",
       "      <th>date</th>\n",
       "      <th>final.output.concentrate_ag</th>\n",
       "      <th>final.output.concentrate_pb</th>\n",
       "      <th>final.output.concentrate_sol</th>\n",
       "      <th>final.output.concentrate_au</th>\n",
       "      <th>final.output.recovery</th>\n",
       "      <th>final.output.tail_ag</th>\n",
       "      <th>final.output.tail_pb</th>\n",
       "      <th>final.output.tail_sol</th>\n",
       "      <th>final.output.tail_au</th>\n",
       "      <th>...</th>\n",
       "      <th>secondary_cleaner.state.floatbank4_a_air</th>\n",
       "      <th>secondary_cleaner.state.floatbank4_a_level</th>\n",
       "      <th>secondary_cleaner.state.floatbank4_b_air</th>\n",
       "      <th>secondary_cleaner.state.floatbank4_b_level</th>\n",
       "      <th>secondary_cleaner.state.floatbank5_a_air</th>\n",
       "      <th>secondary_cleaner.state.floatbank5_a_level</th>\n",
       "      <th>secondary_cleaner.state.floatbank5_b_air</th>\n",
       "      <th>secondary_cleaner.state.floatbank5_b_level</th>\n",
       "      <th>secondary_cleaner.state.floatbank6_a_air</th>\n",
       "      <th>secondary_cleaner.state.floatbank6_a_level</th>\n",
       "    </tr>\n",
       "  </thead>\n",
       "  <tbody>\n",
       "    <tr>\n",
       "      <td>0</td>\n",
       "      <td>2016-01-15 00:00:00</td>\n",
       "      <td>6.055403</td>\n",
       "      <td>9.889648</td>\n",
       "      <td>5.507324</td>\n",
       "      <td>42.192020</td>\n",
       "      <td>70.541216</td>\n",
       "      <td>10.411962</td>\n",
       "      <td>0.895447</td>\n",
       "      <td>16.904297</td>\n",
       "      <td>2.143149</td>\n",
       "      <td>...</td>\n",
       "      <td>14.016835</td>\n",
       "      <td>-502.488007</td>\n",
       "      <td>12.099931</td>\n",
       "      <td>-504.715942</td>\n",
       "      <td>9.925633</td>\n",
       "      <td>-498.310211</td>\n",
       "      <td>8.079666</td>\n",
       "      <td>-500.470978</td>\n",
       "      <td>14.151341</td>\n",
       "      <td>-605.841980</td>\n",
       "    </tr>\n",
       "    <tr>\n",
       "      <td>1</td>\n",
       "      <td>2016-01-15 01:00:00</td>\n",
       "      <td>6.029369</td>\n",
       "      <td>9.968944</td>\n",
       "      <td>5.257781</td>\n",
       "      <td>42.701629</td>\n",
       "      <td>69.266198</td>\n",
       "      <td>10.462676</td>\n",
       "      <td>0.927452</td>\n",
       "      <td>16.634514</td>\n",
       "      <td>2.224930</td>\n",
       "      <td>...</td>\n",
       "      <td>13.992281</td>\n",
       "      <td>-505.503262</td>\n",
       "      <td>11.950531</td>\n",
       "      <td>-501.331529</td>\n",
       "      <td>10.039245</td>\n",
       "      <td>-500.169983</td>\n",
       "      <td>7.984757</td>\n",
       "      <td>-500.582168</td>\n",
       "      <td>13.998353</td>\n",
       "      <td>-599.787184</td>\n",
       "    </tr>\n",
       "    <tr>\n",
       "      <td>2</td>\n",
       "      <td>2016-01-15 02:00:00</td>\n",
       "      <td>6.055926</td>\n",
       "      <td>10.213995</td>\n",
       "      <td>5.383759</td>\n",
       "      <td>42.657501</td>\n",
       "      <td>68.116445</td>\n",
       "      <td>10.507046</td>\n",
       "      <td>0.953716</td>\n",
       "      <td>16.208849</td>\n",
       "      <td>2.257889</td>\n",
       "      <td>...</td>\n",
       "      <td>14.015015</td>\n",
       "      <td>-502.520901</td>\n",
       "      <td>11.912783</td>\n",
       "      <td>-501.133383</td>\n",
       "      <td>10.070913</td>\n",
       "      <td>-500.129135</td>\n",
       "      <td>8.013877</td>\n",
       "      <td>-500.517572</td>\n",
       "      <td>14.028663</td>\n",
       "      <td>-601.427363</td>\n",
       "    </tr>\n",
       "    <tr>\n",
       "      <td>3</td>\n",
       "      <td>2016-01-15 03:00:00</td>\n",
       "      <td>6.047977</td>\n",
       "      <td>9.977019</td>\n",
       "      <td>4.858634</td>\n",
       "      <td>42.689819</td>\n",
       "      <td>68.347543</td>\n",
       "      <td>10.422762</td>\n",
       "      <td>0.883763</td>\n",
       "      <td>16.532835</td>\n",
       "      <td>2.146849</td>\n",
       "      <td>...</td>\n",
       "      <td>14.036510</td>\n",
       "      <td>-500.857308</td>\n",
       "      <td>11.999550</td>\n",
       "      <td>-501.193686</td>\n",
       "      <td>9.970366</td>\n",
       "      <td>-499.201640</td>\n",
       "      <td>7.977324</td>\n",
       "      <td>-500.255908</td>\n",
       "      <td>14.005551</td>\n",
       "      <td>-599.996129</td>\n",
       "    </tr>\n",
       "    <tr>\n",
       "      <td>4</td>\n",
       "      <td>2016-01-15 04:00:00</td>\n",
       "      <td>6.148599</td>\n",
       "      <td>10.142511</td>\n",
       "      <td>4.939416</td>\n",
       "      <td>42.774141</td>\n",
       "      <td>66.927016</td>\n",
       "      <td>10.360302</td>\n",
       "      <td>0.792826</td>\n",
       "      <td>16.525686</td>\n",
       "      <td>2.055292</td>\n",
       "      <td>...</td>\n",
       "      <td>14.027298</td>\n",
       "      <td>-499.838632</td>\n",
       "      <td>11.953070</td>\n",
       "      <td>-501.053894</td>\n",
       "      <td>9.925709</td>\n",
       "      <td>-501.686727</td>\n",
       "      <td>7.894242</td>\n",
       "      <td>-500.356035</td>\n",
       "      <td>13.996647</td>\n",
       "      <td>-601.496691</td>\n",
       "    </tr>\n",
       "  </tbody>\n",
       "</table>\n",
       "<p>5 rows × 87 columns</p>\n",
       "</div>"
      ],
      "text/plain": [
       "                  date  final.output.concentrate_ag  \\\n",
       "0  2016-01-15 00:00:00                     6.055403   \n",
       "1  2016-01-15 01:00:00                     6.029369   \n",
       "2  2016-01-15 02:00:00                     6.055926   \n",
       "3  2016-01-15 03:00:00                     6.047977   \n",
       "4  2016-01-15 04:00:00                     6.148599   \n",
       "\n",
       "   final.output.concentrate_pb  final.output.concentrate_sol  \\\n",
       "0                     9.889648                      5.507324   \n",
       "1                     9.968944                      5.257781   \n",
       "2                    10.213995                      5.383759   \n",
       "3                     9.977019                      4.858634   \n",
       "4                    10.142511                      4.939416   \n",
       "\n",
       "   final.output.concentrate_au  final.output.recovery  final.output.tail_ag  \\\n",
       "0                    42.192020              70.541216             10.411962   \n",
       "1                    42.701629              69.266198             10.462676   \n",
       "2                    42.657501              68.116445             10.507046   \n",
       "3                    42.689819              68.347543             10.422762   \n",
       "4                    42.774141              66.927016             10.360302   \n",
       "\n",
       "   final.output.tail_pb  final.output.tail_sol  final.output.tail_au  ...  \\\n",
       "0              0.895447              16.904297              2.143149  ...   \n",
       "1              0.927452              16.634514              2.224930  ...   \n",
       "2              0.953716              16.208849              2.257889  ...   \n",
       "3              0.883763              16.532835              2.146849  ...   \n",
       "4              0.792826              16.525686              2.055292  ...   \n",
       "\n",
       "   secondary_cleaner.state.floatbank4_a_air  \\\n",
       "0                                 14.016835   \n",
       "1                                 13.992281   \n",
       "2                                 14.015015   \n",
       "3                                 14.036510   \n",
       "4                                 14.027298   \n",
       "\n",
       "   secondary_cleaner.state.floatbank4_a_level  \\\n",
       "0                                 -502.488007   \n",
       "1                                 -505.503262   \n",
       "2                                 -502.520901   \n",
       "3                                 -500.857308   \n",
       "4                                 -499.838632   \n",
       "\n",
       "   secondary_cleaner.state.floatbank4_b_air  \\\n",
       "0                                 12.099931   \n",
       "1                                 11.950531   \n",
       "2                                 11.912783   \n",
       "3                                 11.999550   \n",
       "4                                 11.953070   \n",
       "\n",
       "   secondary_cleaner.state.floatbank4_b_level  \\\n",
       "0                                 -504.715942   \n",
       "1                                 -501.331529   \n",
       "2                                 -501.133383   \n",
       "3                                 -501.193686   \n",
       "4                                 -501.053894   \n",
       "\n",
       "   secondary_cleaner.state.floatbank5_a_air  \\\n",
       "0                                  9.925633   \n",
       "1                                 10.039245   \n",
       "2                                 10.070913   \n",
       "3                                  9.970366   \n",
       "4                                  9.925709   \n",
       "\n",
       "   secondary_cleaner.state.floatbank5_a_level  \\\n",
       "0                                 -498.310211   \n",
       "1                                 -500.169983   \n",
       "2                                 -500.129135   \n",
       "3                                 -499.201640   \n",
       "4                                 -501.686727   \n",
       "\n",
       "   secondary_cleaner.state.floatbank5_b_air  \\\n",
       "0                                  8.079666   \n",
       "1                                  7.984757   \n",
       "2                                  8.013877   \n",
       "3                                  7.977324   \n",
       "4                                  7.894242   \n",
       "\n",
       "   secondary_cleaner.state.floatbank5_b_level  \\\n",
       "0                                 -500.470978   \n",
       "1                                 -500.582168   \n",
       "2                                 -500.517572   \n",
       "3                                 -500.255908   \n",
       "4                                 -500.356035   \n",
       "\n",
       "   secondary_cleaner.state.floatbank6_a_air  \\\n",
       "0                                 14.151341   \n",
       "1                                 13.998353   \n",
       "2                                 14.028663   \n",
       "3                                 14.005551   \n",
       "4                                 13.996647   \n",
       "\n",
       "   secondary_cleaner.state.floatbank6_a_level  \n",
       "0                                 -605.841980  \n",
       "1                                 -599.787184  \n",
       "2                                 -601.427363  \n",
       "3                                 -599.996129  \n",
       "4                                 -601.496691  \n",
       "\n",
       "[5 rows x 87 columns]"
      ]
     },
     "execution_count": 3,
     "metadata": {},
     "output_type": "execute_result"
    }
   ],
   "source": [
    "#looking at the first 5 row in datset\n",
    "df_train.head()"
   ]
  },
  {
   "cell_type": "code",
   "execution_count": 4,
   "metadata": {},
   "outputs": [
    {
     "data": {
      "text/html": [
       "<div>\n",
       "<style scoped>\n",
       "    .dataframe tbody tr th:only-of-type {\n",
       "        vertical-align: middle;\n",
       "    }\n",
       "\n",
       "    .dataframe tbody tr th {\n",
       "        vertical-align: top;\n",
       "    }\n",
       "\n",
       "    .dataframe thead th {\n",
       "        text-align: right;\n",
       "    }\n",
       "</style>\n",
       "<table border=\"1\" class=\"dataframe\">\n",
       "  <thead>\n",
       "    <tr style=\"text-align: right;\">\n",
       "      <th></th>\n",
       "      <th>final.output.concentrate_ag</th>\n",
       "      <th>final.output.concentrate_pb</th>\n",
       "      <th>final.output.concentrate_sol</th>\n",
       "      <th>final.output.concentrate_au</th>\n",
       "      <th>final.output.recovery</th>\n",
       "      <th>final.output.tail_ag</th>\n",
       "      <th>final.output.tail_pb</th>\n",
       "      <th>final.output.tail_sol</th>\n",
       "      <th>final.output.tail_au</th>\n",
       "      <th>primary_cleaner.input.sulfate</th>\n",
       "      <th>...</th>\n",
       "      <th>secondary_cleaner.state.floatbank4_a_air</th>\n",
       "      <th>secondary_cleaner.state.floatbank4_a_level</th>\n",
       "      <th>secondary_cleaner.state.floatbank4_b_air</th>\n",
       "      <th>secondary_cleaner.state.floatbank4_b_level</th>\n",
       "      <th>secondary_cleaner.state.floatbank5_a_air</th>\n",
       "      <th>secondary_cleaner.state.floatbank5_a_level</th>\n",
       "      <th>secondary_cleaner.state.floatbank5_b_air</th>\n",
       "      <th>secondary_cleaner.state.floatbank5_b_level</th>\n",
       "      <th>secondary_cleaner.state.floatbank6_a_air</th>\n",
       "      <th>secondary_cleaner.state.floatbank6_a_level</th>\n",
       "    </tr>\n",
       "  </thead>\n",
       "  <tbody>\n",
       "    <tr>\n",
       "      <td>count</td>\n",
       "      <td>16788.000000</td>\n",
       "      <td>16788.000000</td>\n",
       "      <td>16490.000000</td>\n",
       "      <td>16789.000000</td>\n",
       "      <td>15339.000000</td>\n",
       "      <td>16794.000000</td>\n",
       "      <td>16677.000000</td>\n",
       "      <td>16715.000000</td>\n",
       "      <td>16794.000000</td>\n",
       "      <td>15553.000000</td>\n",
       "      <td>...</td>\n",
       "      <td>16731.000000</td>\n",
       "      <td>16747.000000</td>\n",
       "      <td>16768.000000</td>\n",
       "      <td>16767.000000</td>\n",
       "      <td>16775.000000</td>\n",
       "      <td>16775.000000</td>\n",
       "      <td>16775.000000</td>\n",
       "      <td>16776.000000</td>\n",
       "      <td>16757.000000</td>\n",
       "      <td>16775.000000</td>\n",
       "    </tr>\n",
       "    <tr>\n",
       "      <td>mean</td>\n",
       "      <td>4.716907</td>\n",
       "      <td>9.113559</td>\n",
       "      <td>8.301123</td>\n",
       "      <td>39.467217</td>\n",
       "      <td>67.213166</td>\n",
       "      <td>8.757048</td>\n",
       "      <td>2.360327</td>\n",
       "      <td>9.303932</td>\n",
       "      <td>2.687512</td>\n",
       "      <td>129.479789</td>\n",
       "      <td>...</td>\n",
       "      <td>19.101874</td>\n",
       "      <td>-494.164481</td>\n",
       "      <td>14.778164</td>\n",
       "      <td>-476.600082</td>\n",
       "      <td>15.779488</td>\n",
       "      <td>-500.230146</td>\n",
       "      <td>12.377241</td>\n",
       "      <td>-498.956257</td>\n",
       "      <td>18.429208</td>\n",
       "      <td>-521.801826</td>\n",
       "    </tr>\n",
       "    <tr>\n",
       "      <td>std</td>\n",
       "      <td>2.096718</td>\n",
       "      <td>3.389495</td>\n",
       "      <td>3.825760</td>\n",
       "      <td>13.917227</td>\n",
       "      <td>11.960446</td>\n",
       "      <td>3.634103</td>\n",
       "      <td>1.215576</td>\n",
       "      <td>4.263208</td>\n",
       "      <td>1.272757</td>\n",
       "      <td>45.386931</td>\n",
       "      <td>...</td>\n",
       "      <td>6.883163</td>\n",
       "      <td>84.803334</td>\n",
       "      <td>5.999149</td>\n",
       "      <td>89.381172</td>\n",
       "      <td>6.834703</td>\n",
       "      <td>76.983542</td>\n",
       "      <td>6.219989</td>\n",
       "      <td>82.146207</td>\n",
       "      <td>6.958294</td>\n",
       "      <td>77.170888</td>\n",
       "    </tr>\n",
       "    <tr>\n",
       "      <td>min</td>\n",
       "      <td>0.000000</td>\n",
       "      <td>0.000000</td>\n",
       "      <td>0.000000</td>\n",
       "      <td>0.000000</td>\n",
       "      <td>0.000000</td>\n",
       "      <td>0.000000</td>\n",
       "      <td>0.000000</td>\n",
       "      <td>0.000000</td>\n",
       "      <td>0.000000</td>\n",
       "      <td>0.000003</td>\n",
       "      <td>...</td>\n",
       "      <td>0.000000</td>\n",
       "      <td>-799.920713</td>\n",
       "      <td>0.000000</td>\n",
       "      <td>-800.021781</td>\n",
       "      <td>-0.423260</td>\n",
       "      <td>-799.741097</td>\n",
       "      <td>0.427084</td>\n",
       "      <td>-800.258209</td>\n",
       "      <td>0.024270</td>\n",
       "      <td>-810.473526</td>\n",
       "    </tr>\n",
       "    <tr>\n",
       "      <td>25%</td>\n",
       "      <td>3.971262</td>\n",
       "      <td>8.825748</td>\n",
       "      <td>6.939185</td>\n",
       "      <td>42.055722</td>\n",
       "      <td>62.625685</td>\n",
       "      <td>7.610544</td>\n",
       "      <td>1.641604</td>\n",
       "      <td>7.870275</td>\n",
       "      <td>2.172953</td>\n",
       "      <td>103.064021</td>\n",
       "      <td>...</td>\n",
       "      <td>14.508299</td>\n",
       "      <td>-500.837689</td>\n",
       "      <td>10.741388</td>\n",
       "      <td>-500.269182</td>\n",
       "      <td>10.977713</td>\n",
       "      <td>-500.530594</td>\n",
       "      <td>8.925586</td>\n",
       "      <td>-500.147603</td>\n",
       "      <td>13.977626</td>\n",
       "      <td>-501.080595</td>\n",
       "    </tr>\n",
       "    <tr>\n",
       "      <td>50%</td>\n",
       "      <td>4.869346</td>\n",
       "      <td>10.065316</td>\n",
       "      <td>8.557228</td>\n",
       "      <td>44.498874</td>\n",
       "      <td>67.644601</td>\n",
       "      <td>9.220393</td>\n",
       "      <td>2.453690</td>\n",
       "      <td>10.021968</td>\n",
       "      <td>2.781132</td>\n",
       "      <td>131.783108</td>\n",
       "      <td>...</td>\n",
       "      <td>19.986958</td>\n",
       "      <td>-499.778379</td>\n",
       "      <td>14.943933</td>\n",
       "      <td>-499.593286</td>\n",
       "      <td>15.998340</td>\n",
       "      <td>-499.784231</td>\n",
       "      <td>11.092839</td>\n",
       "      <td>-499.933330</td>\n",
       "      <td>18.034960</td>\n",
       "      <td>-500.109898</td>\n",
       "    </tr>\n",
       "    <tr>\n",
       "      <td>75%</td>\n",
       "      <td>5.821176</td>\n",
       "      <td>11.054809</td>\n",
       "      <td>10.289741</td>\n",
       "      <td>45.976222</td>\n",
       "      <td>72.824595</td>\n",
       "      <td>10.971110</td>\n",
       "      <td>3.192404</td>\n",
       "      <td>11.648573</td>\n",
       "      <td>3.416936</td>\n",
       "      <td>159.539839</td>\n",
       "      <td>...</td>\n",
       "      <td>24.983961</td>\n",
       "      <td>-494.648754</td>\n",
       "      <td>20.023751</td>\n",
       "      <td>-400.137948</td>\n",
       "      <td>20.000701</td>\n",
       "      <td>-496.531781</td>\n",
       "      <td>15.979467</td>\n",
       "      <td>-498.418000</td>\n",
       "      <td>24.984992</td>\n",
       "      <td>-499.565540</td>\n",
       "    </tr>\n",
       "    <tr>\n",
       "      <td>max</td>\n",
       "      <td>16.001945</td>\n",
       "      <td>17.031899</td>\n",
       "      <td>18.124851</td>\n",
       "      <td>53.611374</td>\n",
       "      <td>100.000000</td>\n",
       "      <td>19.552149</td>\n",
       "      <td>6.086532</td>\n",
       "      <td>22.317730</td>\n",
       "      <td>9.789625</td>\n",
       "      <td>251.999948</td>\n",
       "      <td>...</td>\n",
       "      <td>60.000000</td>\n",
       "      <td>-127.692333</td>\n",
       "      <td>28.003828</td>\n",
       "      <td>-71.472472</td>\n",
       "      <td>63.116298</td>\n",
       "      <td>-275.073125</td>\n",
       "      <td>39.846228</td>\n",
       "      <td>-120.190931</td>\n",
       "      <td>54.876806</td>\n",
       "      <td>-39.784927</td>\n",
       "    </tr>\n",
       "  </tbody>\n",
       "</table>\n",
       "<p>8 rows × 86 columns</p>\n",
       "</div>"
      ],
      "text/plain": [
       "       final.output.concentrate_ag  final.output.concentrate_pb  \\\n",
       "count                 16788.000000                 16788.000000   \n",
       "mean                      4.716907                     9.113559   \n",
       "std                       2.096718                     3.389495   \n",
       "min                       0.000000                     0.000000   \n",
       "25%                       3.971262                     8.825748   \n",
       "50%                       4.869346                    10.065316   \n",
       "75%                       5.821176                    11.054809   \n",
       "max                      16.001945                    17.031899   \n",
       "\n",
       "       final.output.concentrate_sol  final.output.concentrate_au  \\\n",
       "count                  16490.000000                 16789.000000   \n",
       "mean                       8.301123                    39.467217   \n",
       "std                        3.825760                    13.917227   \n",
       "min                        0.000000                     0.000000   \n",
       "25%                        6.939185                    42.055722   \n",
       "50%                        8.557228                    44.498874   \n",
       "75%                       10.289741                    45.976222   \n",
       "max                       18.124851                    53.611374   \n",
       "\n",
       "       final.output.recovery  final.output.tail_ag  final.output.tail_pb  \\\n",
       "count           15339.000000          16794.000000          16677.000000   \n",
       "mean               67.213166              8.757048              2.360327   \n",
       "std                11.960446              3.634103              1.215576   \n",
       "min                 0.000000              0.000000              0.000000   \n",
       "25%                62.625685              7.610544              1.641604   \n",
       "50%                67.644601              9.220393              2.453690   \n",
       "75%                72.824595             10.971110              3.192404   \n",
       "max               100.000000             19.552149              6.086532   \n",
       "\n",
       "       final.output.tail_sol  final.output.tail_au  \\\n",
       "count           16715.000000          16794.000000   \n",
       "mean                9.303932              2.687512   \n",
       "std                 4.263208              1.272757   \n",
       "min                 0.000000              0.000000   \n",
       "25%                 7.870275              2.172953   \n",
       "50%                10.021968              2.781132   \n",
       "75%                11.648573              3.416936   \n",
       "max                22.317730              9.789625   \n",
       "\n",
       "       primary_cleaner.input.sulfate  ...  \\\n",
       "count                   15553.000000  ...   \n",
       "mean                      129.479789  ...   \n",
       "std                        45.386931  ...   \n",
       "min                         0.000003  ...   \n",
       "25%                       103.064021  ...   \n",
       "50%                       131.783108  ...   \n",
       "75%                       159.539839  ...   \n",
       "max                       251.999948  ...   \n",
       "\n",
       "       secondary_cleaner.state.floatbank4_a_air  \\\n",
       "count                              16731.000000   \n",
       "mean                                  19.101874   \n",
       "std                                    6.883163   \n",
       "min                                    0.000000   \n",
       "25%                                   14.508299   \n",
       "50%                                   19.986958   \n",
       "75%                                   24.983961   \n",
       "max                                   60.000000   \n",
       "\n",
       "       secondary_cleaner.state.floatbank4_a_level  \\\n",
       "count                                16747.000000   \n",
       "mean                                  -494.164481   \n",
       "std                                     84.803334   \n",
       "min                                   -799.920713   \n",
       "25%                                   -500.837689   \n",
       "50%                                   -499.778379   \n",
       "75%                                   -494.648754   \n",
       "max                                   -127.692333   \n",
       "\n",
       "       secondary_cleaner.state.floatbank4_b_air  \\\n",
       "count                              16768.000000   \n",
       "mean                                  14.778164   \n",
       "std                                    5.999149   \n",
       "min                                    0.000000   \n",
       "25%                                   10.741388   \n",
       "50%                                   14.943933   \n",
       "75%                                   20.023751   \n",
       "max                                   28.003828   \n",
       "\n",
       "       secondary_cleaner.state.floatbank4_b_level  \\\n",
       "count                                16767.000000   \n",
       "mean                                  -476.600082   \n",
       "std                                     89.381172   \n",
       "min                                   -800.021781   \n",
       "25%                                   -500.269182   \n",
       "50%                                   -499.593286   \n",
       "75%                                   -400.137948   \n",
       "max                                    -71.472472   \n",
       "\n",
       "       secondary_cleaner.state.floatbank5_a_air  \\\n",
       "count                              16775.000000   \n",
       "mean                                  15.779488   \n",
       "std                                    6.834703   \n",
       "min                                   -0.423260   \n",
       "25%                                   10.977713   \n",
       "50%                                   15.998340   \n",
       "75%                                   20.000701   \n",
       "max                                   63.116298   \n",
       "\n",
       "       secondary_cleaner.state.floatbank5_a_level  \\\n",
       "count                                16775.000000   \n",
       "mean                                  -500.230146   \n",
       "std                                     76.983542   \n",
       "min                                   -799.741097   \n",
       "25%                                   -500.530594   \n",
       "50%                                   -499.784231   \n",
       "75%                                   -496.531781   \n",
       "max                                   -275.073125   \n",
       "\n",
       "       secondary_cleaner.state.floatbank5_b_air  \\\n",
       "count                              16775.000000   \n",
       "mean                                  12.377241   \n",
       "std                                    6.219989   \n",
       "min                                    0.427084   \n",
       "25%                                    8.925586   \n",
       "50%                                   11.092839   \n",
       "75%                                   15.979467   \n",
       "max                                   39.846228   \n",
       "\n",
       "       secondary_cleaner.state.floatbank5_b_level  \\\n",
       "count                                16776.000000   \n",
       "mean                                  -498.956257   \n",
       "std                                     82.146207   \n",
       "min                                   -800.258209   \n",
       "25%                                   -500.147603   \n",
       "50%                                   -499.933330   \n",
       "75%                                   -498.418000   \n",
       "max                                   -120.190931   \n",
       "\n",
       "       secondary_cleaner.state.floatbank6_a_air  \\\n",
       "count                              16757.000000   \n",
       "mean                                  18.429208   \n",
       "std                                    6.958294   \n",
       "min                                    0.024270   \n",
       "25%                                   13.977626   \n",
       "50%                                   18.034960   \n",
       "75%                                   24.984992   \n",
       "max                                   54.876806   \n",
       "\n",
       "       secondary_cleaner.state.floatbank6_a_level  \n",
       "count                                16775.000000  \n",
       "mean                                  -521.801826  \n",
       "std                                     77.170888  \n",
       "min                                   -810.473526  \n",
       "25%                                   -501.080595  \n",
       "50%                                   -500.109898  \n",
       "75%                                   -499.565540  \n",
       "max                                    -39.784927  \n",
       "\n",
       "[8 rows x 86 columns]"
      ]
     },
     "execution_count": 4,
     "metadata": {},
     "output_type": "execute_result"
    }
   ],
   "source": [
    "df_train.describe()"
   ]
  },
  {
   "cell_type": "code",
   "execution_count": 5,
   "metadata": {},
   "outputs": [
    {
     "name": "stdout",
     "output_type": "stream",
     "text": [
      "<class 'pandas.core.frame.DataFrame'>\n",
      "RangeIndex: 16860 entries, 0 to 16859\n",
      "Data columns (total 87 columns):\n",
      "date                                                  16860 non-null object\n",
      "final.output.concentrate_ag                           16788 non-null float64\n",
      "final.output.concentrate_pb                           16788 non-null float64\n",
      "final.output.concentrate_sol                          16490 non-null float64\n",
      "final.output.concentrate_au                           16789 non-null float64\n",
      "final.output.recovery                                 15339 non-null float64\n",
      "final.output.tail_ag                                  16794 non-null float64\n",
      "final.output.tail_pb                                  16677 non-null float64\n",
      "final.output.tail_sol                                 16715 non-null float64\n",
      "final.output.tail_au                                  16794 non-null float64\n",
      "primary_cleaner.input.sulfate                         15553 non-null float64\n",
      "primary_cleaner.input.depressant                      15598 non-null float64\n",
      "primary_cleaner.input.feed_size                       16860 non-null float64\n",
      "primary_cleaner.input.xanthate                        15875 non-null float64\n",
      "primary_cleaner.output.concentrate_ag                 16778 non-null float64\n",
      "primary_cleaner.output.concentrate_pb                 16502 non-null float64\n",
      "primary_cleaner.output.concentrate_sol                16224 non-null float64\n",
      "primary_cleaner.output.concentrate_au                 16778 non-null float64\n",
      "primary_cleaner.output.tail_ag                        16777 non-null float64\n",
      "primary_cleaner.output.tail_pb                        16761 non-null float64\n",
      "primary_cleaner.output.tail_sol                       16579 non-null float64\n",
      "primary_cleaner.output.tail_au                        16777 non-null float64\n",
      "primary_cleaner.state.floatbank8_a_air                16820 non-null float64\n",
      "primary_cleaner.state.floatbank8_a_level              16827 non-null float64\n",
      "primary_cleaner.state.floatbank8_b_air                16820 non-null float64\n",
      "primary_cleaner.state.floatbank8_b_level              16833 non-null float64\n",
      "primary_cleaner.state.floatbank8_c_air                16822 non-null float64\n",
      "primary_cleaner.state.floatbank8_c_level              16833 non-null float64\n",
      "primary_cleaner.state.floatbank8_d_air                16821 non-null float64\n",
      "primary_cleaner.state.floatbank8_d_level              16833 non-null float64\n",
      "rougher.calculation.sulfate_to_au_concentrate         16833 non-null float64\n",
      "rougher.calculation.floatbank10_sulfate_to_au_feed    16833 non-null float64\n",
      "rougher.calculation.floatbank11_sulfate_to_au_feed    16833 non-null float64\n",
      "rougher.calculation.au_pb_ratio                       15618 non-null float64\n",
      "rougher.input.feed_ag                                 16778 non-null float64\n",
      "rougher.input.feed_pb                                 16632 non-null float64\n",
      "rougher.input.feed_rate                               16347 non-null float64\n",
      "rougher.input.feed_size                               16443 non-null float64\n",
      "rougher.input.feed_sol                                16568 non-null float64\n",
      "rougher.input.feed_au                                 16777 non-null float64\n",
      "rougher.input.floatbank10_sulfate                     15816 non-null float64\n",
      "rougher.input.floatbank10_xanthate                    16514 non-null float64\n",
      "rougher.input.floatbank11_sulfate                     16237 non-null float64\n",
      "rougher.input.floatbank11_xanthate                    14956 non-null float64\n",
      "rougher.output.concentrate_ag                         16778 non-null float64\n",
      "rougher.output.concentrate_pb                         16778 non-null float64\n",
      "rougher.output.concentrate_sol                        16698 non-null float64\n",
      "rougher.output.concentrate_au                         16778 non-null float64\n",
      "rougher.output.recovery                               14287 non-null float64\n",
      "rougher.output.tail_ag                                14610 non-null float64\n",
      "rougher.output.tail_pb                                16778 non-null float64\n",
      "rougher.output.tail_sol                               14611 non-null float64\n",
      "rougher.output.tail_au                                14611 non-null float64\n",
      "rougher.state.floatbank10_a_air                       16807 non-null float64\n",
      "rougher.state.floatbank10_a_level                     16807 non-null float64\n",
      "rougher.state.floatbank10_b_air                       16807 non-null float64\n",
      "rougher.state.floatbank10_b_level                     16807 non-null float64\n",
      "rougher.state.floatbank10_c_air                       16807 non-null float64\n",
      "rougher.state.floatbank10_c_level                     16814 non-null float64\n",
      "rougher.state.floatbank10_d_air                       16802 non-null float64\n",
      "rougher.state.floatbank10_d_level                     16809 non-null float64\n",
      "rougher.state.floatbank10_e_air                       16257 non-null float64\n",
      "rougher.state.floatbank10_e_level                     16809 non-null float64\n",
      "rougher.state.floatbank10_f_air                       16802 non-null float64\n",
      "rougher.state.floatbank10_f_level                     16802 non-null float64\n",
      "secondary_cleaner.output.tail_ag                      16776 non-null float64\n",
      "secondary_cleaner.output.tail_pb                      16764 non-null float64\n",
      "secondary_cleaner.output.tail_sol                     14874 non-null float64\n",
      "secondary_cleaner.output.tail_au                      16778 non-null float64\n",
      "secondary_cleaner.state.floatbank2_a_air              16497 non-null float64\n",
      "secondary_cleaner.state.floatbank2_a_level            16751 non-null float64\n",
      "secondary_cleaner.state.floatbank2_b_air              16705 non-null float64\n",
      "secondary_cleaner.state.floatbank2_b_level            16748 non-null float64\n",
      "secondary_cleaner.state.floatbank3_a_air              16763 non-null float64\n",
      "secondary_cleaner.state.floatbank3_a_level            16747 non-null float64\n",
      "secondary_cleaner.state.floatbank3_b_air              16752 non-null float64\n",
      "secondary_cleaner.state.floatbank3_b_level            16750 non-null float64\n",
      "secondary_cleaner.state.floatbank4_a_air              16731 non-null float64\n",
      "secondary_cleaner.state.floatbank4_a_level            16747 non-null float64\n",
      "secondary_cleaner.state.floatbank4_b_air              16768 non-null float64\n",
      "secondary_cleaner.state.floatbank4_b_level            16767 non-null float64\n",
      "secondary_cleaner.state.floatbank5_a_air              16775 non-null float64\n",
      "secondary_cleaner.state.floatbank5_a_level            16775 non-null float64\n",
      "secondary_cleaner.state.floatbank5_b_air              16775 non-null float64\n",
      "secondary_cleaner.state.floatbank5_b_level            16776 non-null float64\n",
      "secondary_cleaner.state.floatbank6_a_air              16757 non-null float64\n",
      "secondary_cleaner.state.floatbank6_a_level            16775 non-null float64\n",
      "dtypes: float64(86), object(1)\n",
      "memory usage: 11.2+ MB\n"
     ]
    }
   ],
   "source": [
    "df_train.info()"
   ]
  },
  {
   "cell_type": "markdown",
   "metadata": {},
   "source": [
    " Missing values present."
   ]
  },
  {
   "cell_type": "code",
   "execution_count": 6,
   "metadata": {},
   "outputs": [
    {
     "data": {
      "text/html": [
       "<div>\n",
       "<style scoped>\n",
       "    .dataframe tbody tr th:only-of-type {\n",
       "        vertical-align: middle;\n",
       "    }\n",
       "\n",
       "    .dataframe tbody tr th {\n",
       "        vertical-align: top;\n",
       "    }\n",
       "\n",
       "    .dataframe thead th {\n",
       "        text-align: right;\n",
       "    }\n",
       "</style>\n",
       "<table border=\"1\" class=\"dataframe\">\n",
       "  <thead>\n",
       "    <tr style=\"text-align: right;\">\n",
       "      <th></th>\n",
       "      <th>date</th>\n",
       "      <th>primary_cleaner.input.sulfate</th>\n",
       "      <th>primary_cleaner.input.depressant</th>\n",
       "      <th>primary_cleaner.input.feed_size</th>\n",
       "      <th>primary_cleaner.input.xanthate</th>\n",
       "      <th>primary_cleaner.state.floatbank8_a_air</th>\n",
       "      <th>primary_cleaner.state.floatbank8_a_level</th>\n",
       "      <th>primary_cleaner.state.floatbank8_b_air</th>\n",
       "      <th>primary_cleaner.state.floatbank8_b_level</th>\n",
       "      <th>primary_cleaner.state.floatbank8_c_air</th>\n",
       "      <th>...</th>\n",
       "      <th>secondary_cleaner.state.floatbank4_a_air</th>\n",
       "      <th>secondary_cleaner.state.floatbank4_a_level</th>\n",
       "      <th>secondary_cleaner.state.floatbank4_b_air</th>\n",
       "      <th>secondary_cleaner.state.floatbank4_b_level</th>\n",
       "      <th>secondary_cleaner.state.floatbank5_a_air</th>\n",
       "      <th>secondary_cleaner.state.floatbank5_a_level</th>\n",
       "      <th>secondary_cleaner.state.floatbank5_b_air</th>\n",
       "      <th>secondary_cleaner.state.floatbank5_b_level</th>\n",
       "      <th>secondary_cleaner.state.floatbank6_a_air</th>\n",
       "      <th>secondary_cleaner.state.floatbank6_a_level</th>\n",
       "    </tr>\n",
       "  </thead>\n",
       "  <tbody>\n",
       "    <tr>\n",
       "      <td>0</td>\n",
       "      <td>2016-09-01 00:59:59</td>\n",
       "      <td>210.800909</td>\n",
       "      <td>14.993118</td>\n",
       "      <td>8.080000</td>\n",
       "      <td>1.005021</td>\n",
       "      <td>1398.981301</td>\n",
       "      <td>-500.225577</td>\n",
       "      <td>1399.144926</td>\n",
       "      <td>-499.919735</td>\n",
       "      <td>1400.102998</td>\n",
       "      <td>...</td>\n",
       "      <td>12.023554</td>\n",
       "      <td>-497.795834</td>\n",
       "      <td>8.016656</td>\n",
       "      <td>-501.289139</td>\n",
       "      <td>7.946562</td>\n",
       "      <td>-432.317850</td>\n",
       "      <td>4.872511</td>\n",
       "      <td>-500.037437</td>\n",
       "      <td>26.705889</td>\n",
       "      <td>-499.709414</td>\n",
       "    </tr>\n",
       "    <tr>\n",
       "      <td>1</td>\n",
       "      <td>2016-09-01 01:59:59</td>\n",
       "      <td>215.392455</td>\n",
       "      <td>14.987471</td>\n",
       "      <td>8.080000</td>\n",
       "      <td>0.990469</td>\n",
       "      <td>1398.777912</td>\n",
       "      <td>-500.057435</td>\n",
       "      <td>1398.055362</td>\n",
       "      <td>-499.778182</td>\n",
       "      <td>1396.151033</td>\n",
       "      <td>...</td>\n",
       "      <td>12.058140</td>\n",
       "      <td>-498.695773</td>\n",
       "      <td>8.130979</td>\n",
       "      <td>-499.634209</td>\n",
       "      <td>7.958270</td>\n",
       "      <td>-525.839648</td>\n",
       "      <td>4.878850</td>\n",
       "      <td>-500.162375</td>\n",
       "      <td>25.019940</td>\n",
       "      <td>-499.819438</td>\n",
       "    </tr>\n",
       "    <tr>\n",
       "      <td>2</td>\n",
       "      <td>2016-09-01 02:59:59</td>\n",
       "      <td>215.259946</td>\n",
       "      <td>12.884934</td>\n",
       "      <td>7.786667</td>\n",
       "      <td>0.996043</td>\n",
       "      <td>1398.493666</td>\n",
       "      <td>-500.868360</td>\n",
       "      <td>1398.860436</td>\n",
       "      <td>-499.764529</td>\n",
       "      <td>1398.075709</td>\n",
       "      <td>...</td>\n",
       "      <td>11.962366</td>\n",
       "      <td>-498.767484</td>\n",
       "      <td>8.096893</td>\n",
       "      <td>-500.827423</td>\n",
       "      <td>8.071056</td>\n",
       "      <td>-500.801673</td>\n",
       "      <td>4.905125</td>\n",
       "      <td>-499.828510</td>\n",
       "      <td>24.994862</td>\n",
       "      <td>-500.622559</td>\n",
       "    </tr>\n",
       "    <tr>\n",
       "      <td>3</td>\n",
       "      <td>2016-09-01 03:59:59</td>\n",
       "      <td>215.336236</td>\n",
       "      <td>12.006805</td>\n",
       "      <td>7.640000</td>\n",
       "      <td>0.863514</td>\n",
       "      <td>1399.618111</td>\n",
       "      <td>-498.863574</td>\n",
       "      <td>1397.440120</td>\n",
       "      <td>-499.211024</td>\n",
       "      <td>1400.129303</td>\n",
       "      <td>...</td>\n",
       "      <td>12.033091</td>\n",
       "      <td>-498.350935</td>\n",
       "      <td>8.074946</td>\n",
       "      <td>-499.474407</td>\n",
       "      <td>7.897085</td>\n",
       "      <td>-500.868509</td>\n",
       "      <td>4.931400</td>\n",
       "      <td>-499.963623</td>\n",
       "      <td>24.948919</td>\n",
       "      <td>-498.709987</td>\n",
       "    </tr>\n",
       "    <tr>\n",
       "      <td>4</td>\n",
       "      <td>2016-09-01 04:59:59</td>\n",
       "      <td>199.099327</td>\n",
       "      <td>10.682530</td>\n",
       "      <td>7.530000</td>\n",
       "      <td>0.805575</td>\n",
       "      <td>1401.268123</td>\n",
       "      <td>-500.808305</td>\n",
       "      <td>1398.128818</td>\n",
       "      <td>-499.504543</td>\n",
       "      <td>1402.172226</td>\n",
       "      <td>...</td>\n",
       "      <td>12.025367</td>\n",
       "      <td>-500.786497</td>\n",
       "      <td>8.054678</td>\n",
       "      <td>-500.397500</td>\n",
       "      <td>8.107890</td>\n",
       "      <td>-509.526725</td>\n",
       "      <td>4.957674</td>\n",
       "      <td>-500.360026</td>\n",
       "      <td>25.003331</td>\n",
       "      <td>-500.856333</td>\n",
       "    </tr>\n",
       "  </tbody>\n",
       "</table>\n",
       "<p>5 rows × 53 columns</p>\n",
       "</div>"
      ],
      "text/plain": [
       "                  date  primary_cleaner.input.sulfate  \\\n",
       "0  2016-09-01 00:59:59                     210.800909   \n",
       "1  2016-09-01 01:59:59                     215.392455   \n",
       "2  2016-09-01 02:59:59                     215.259946   \n",
       "3  2016-09-01 03:59:59                     215.336236   \n",
       "4  2016-09-01 04:59:59                     199.099327   \n",
       "\n",
       "   primary_cleaner.input.depressant  primary_cleaner.input.feed_size  \\\n",
       "0                         14.993118                         8.080000   \n",
       "1                         14.987471                         8.080000   \n",
       "2                         12.884934                         7.786667   \n",
       "3                         12.006805                         7.640000   \n",
       "4                         10.682530                         7.530000   \n",
       "\n",
       "   primary_cleaner.input.xanthate  primary_cleaner.state.floatbank8_a_air  \\\n",
       "0                        1.005021                             1398.981301   \n",
       "1                        0.990469                             1398.777912   \n",
       "2                        0.996043                             1398.493666   \n",
       "3                        0.863514                             1399.618111   \n",
       "4                        0.805575                             1401.268123   \n",
       "\n",
       "   primary_cleaner.state.floatbank8_a_level  \\\n",
       "0                               -500.225577   \n",
       "1                               -500.057435   \n",
       "2                               -500.868360   \n",
       "3                               -498.863574   \n",
       "4                               -500.808305   \n",
       "\n",
       "   primary_cleaner.state.floatbank8_b_air  \\\n",
       "0                             1399.144926   \n",
       "1                             1398.055362   \n",
       "2                             1398.860436   \n",
       "3                             1397.440120   \n",
       "4                             1398.128818   \n",
       "\n",
       "   primary_cleaner.state.floatbank8_b_level  \\\n",
       "0                               -499.919735   \n",
       "1                               -499.778182   \n",
       "2                               -499.764529   \n",
       "3                               -499.211024   \n",
       "4                               -499.504543   \n",
       "\n",
       "   primary_cleaner.state.floatbank8_c_air  ...  \\\n",
       "0                             1400.102998  ...   \n",
       "1                             1396.151033  ...   \n",
       "2                             1398.075709  ...   \n",
       "3                             1400.129303  ...   \n",
       "4                             1402.172226  ...   \n",
       "\n",
       "   secondary_cleaner.state.floatbank4_a_air  \\\n",
       "0                                 12.023554   \n",
       "1                                 12.058140   \n",
       "2                                 11.962366   \n",
       "3                                 12.033091   \n",
       "4                                 12.025367   \n",
       "\n",
       "   secondary_cleaner.state.floatbank4_a_level  \\\n",
       "0                                 -497.795834   \n",
       "1                                 -498.695773   \n",
       "2                                 -498.767484   \n",
       "3                                 -498.350935   \n",
       "4                                 -500.786497   \n",
       "\n",
       "   secondary_cleaner.state.floatbank4_b_air  \\\n",
       "0                                  8.016656   \n",
       "1                                  8.130979   \n",
       "2                                  8.096893   \n",
       "3                                  8.074946   \n",
       "4                                  8.054678   \n",
       "\n",
       "   secondary_cleaner.state.floatbank4_b_level  \\\n",
       "0                                 -501.289139   \n",
       "1                                 -499.634209   \n",
       "2                                 -500.827423   \n",
       "3                                 -499.474407   \n",
       "4                                 -500.397500   \n",
       "\n",
       "   secondary_cleaner.state.floatbank5_a_air  \\\n",
       "0                                  7.946562   \n",
       "1                                  7.958270   \n",
       "2                                  8.071056   \n",
       "3                                  7.897085   \n",
       "4                                  8.107890   \n",
       "\n",
       "   secondary_cleaner.state.floatbank5_a_level  \\\n",
       "0                                 -432.317850   \n",
       "1                                 -525.839648   \n",
       "2                                 -500.801673   \n",
       "3                                 -500.868509   \n",
       "4                                 -509.526725   \n",
       "\n",
       "   secondary_cleaner.state.floatbank5_b_air  \\\n",
       "0                                  4.872511   \n",
       "1                                  4.878850   \n",
       "2                                  4.905125   \n",
       "3                                  4.931400   \n",
       "4                                  4.957674   \n",
       "\n",
       "   secondary_cleaner.state.floatbank5_b_level  \\\n",
       "0                                 -500.037437   \n",
       "1                                 -500.162375   \n",
       "2                                 -499.828510   \n",
       "3                                 -499.963623   \n",
       "4                                 -500.360026   \n",
       "\n",
       "   secondary_cleaner.state.floatbank6_a_air  \\\n",
       "0                                 26.705889   \n",
       "1                                 25.019940   \n",
       "2                                 24.994862   \n",
       "3                                 24.948919   \n",
       "4                                 25.003331   \n",
       "\n",
       "   secondary_cleaner.state.floatbank6_a_level  \n",
       "0                                 -499.709414  \n",
       "1                                 -499.819438  \n",
       "2                                 -500.622559  \n",
       "3                                 -498.709987  \n",
       "4                                 -500.856333  \n",
       "\n",
       "[5 rows x 53 columns]"
      ]
     },
     "execution_count": 6,
     "metadata": {},
     "output_type": "execute_result"
    }
   ],
   "source": [
    "#looking at first 5 rows in test\n",
    "df_test.head()"
   ]
  },
  {
   "cell_type": "code",
   "execution_count": 7,
   "metadata": {},
   "outputs": [
    {
     "data": {
      "text/html": [
       "<div>\n",
       "<style scoped>\n",
       "    .dataframe tbody tr th:only-of-type {\n",
       "        vertical-align: middle;\n",
       "    }\n",
       "\n",
       "    .dataframe tbody tr th {\n",
       "        vertical-align: top;\n",
       "    }\n",
       "\n",
       "    .dataframe thead th {\n",
       "        text-align: right;\n",
       "    }\n",
       "</style>\n",
       "<table border=\"1\" class=\"dataframe\">\n",
       "  <thead>\n",
       "    <tr style=\"text-align: right;\">\n",
       "      <th></th>\n",
       "      <th>primary_cleaner.input.sulfate</th>\n",
       "      <th>primary_cleaner.input.depressant</th>\n",
       "      <th>primary_cleaner.input.feed_size</th>\n",
       "      <th>primary_cleaner.input.xanthate</th>\n",
       "      <th>primary_cleaner.state.floatbank8_a_air</th>\n",
       "      <th>primary_cleaner.state.floatbank8_a_level</th>\n",
       "      <th>primary_cleaner.state.floatbank8_b_air</th>\n",
       "      <th>primary_cleaner.state.floatbank8_b_level</th>\n",
       "      <th>primary_cleaner.state.floatbank8_c_air</th>\n",
       "      <th>primary_cleaner.state.floatbank8_c_level</th>\n",
       "      <th>...</th>\n",
       "      <th>secondary_cleaner.state.floatbank4_a_air</th>\n",
       "      <th>secondary_cleaner.state.floatbank4_a_level</th>\n",
       "      <th>secondary_cleaner.state.floatbank4_b_air</th>\n",
       "      <th>secondary_cleaner.state.floatbank4_b_level</th>\n",
       "      <th>secondary_cleaner.state.floatbank5_a_air</th>\n",
       "      <th>secondary_cleaner.state.floatbank5_a_level</th>\n",
       "      <th>secondary_cleaner.state.floatbank5_b_air</th>\n",
       "      <th>secondary_cleaner.state.floatbank5_b_level</th>\n",
       "      <th>secondary_cleaner.state.floatbank6_a_air</th>\n",
       "      <th>secondary_cleaner.state.floatbank6_a_level</th>\n",
       "    </tr>\n",
       "  </thead>\n",
       "  <tbody>\n",
       "    <tr>\n",
       "      <td>count</td>\n",
       "      <td>5554.000000</td>\n",
       "      <td>5572.000000</td>\n",
       "      <td>5856.000000</td>\n",
       "      <td>5690.000000</td>\n",
       "      <td>5840.000000</td>\n",
       "      <td>5840.000000</td>\n",
       "      <td>5840.000000</td>\n",
       "      <td>5840.000000</td>\n",
       "      <td>5840.000000</td>\n",
       "      <td>5840.000000</td>\n",
       "      <td>...</td>\n",
       "      <td>5840.000000</td>\n",
       "      <td>5840.000000</td>\n",
       "      <td>5840.000000</td>\n",
       "      <td>5840.000000</td>\n",
       "      <td>5840.000000</td>\n",
       "      <td>5840.000000</td>\n",
       "      <td>5840.000000</td>\n",
       "      <td>5840.000000</td>\n",
       "      <td>5840.000000</td>\n",
       "      <td>5840.000000</td>\n",
       "    </tr>\n",
       "    <tr>\n",
       "      <td>mean</td>\n",
       "      <td>170.515243</td>\n",
       "      <td>8.482873</td>\n",
       "      <td>7.264651</td>\n",
       "      <td>1.321420</td>\n",
       "      <td>1481.990241</td>\n",
       "      <td>-509.057796</td>\n",
       "      <td>1486.908670</td>\n",
       "      <td>-511.743956</td>\n",
       "      <td>1468.495216</td>\n",
       "      <td>-509.741212</td>\n",
       "      <td>...</td>\n",
       "      <td>15.636031</td>\n",
       "      <td>-516.266074</td>\n",
       "      <td>13.145702</td>\n",
       "      <td>-476.338907</td>\n",
       "      <td>12.308967</td>\n",
       "      <td>-512.208126</td>\n",
       "      <td>9.470986</td>\n",
       "      <td>-505.017827</td>\n",
       "      <td>16.678722</td>\n",
       "      <td>-512.351694</td>\n",
       "    </tr>\n",
       "    <tr>\n",
       "      <td>std</td>\n",
       "      <td>49.608602</td>\n",
       "      <td>3.353105</td>\n",
       "      <td>0.611526</td>\n",
       "      <td>0.693246</td>\n",
       "      <td>310.453166</td>\n",
       "      <td>61.339256</td>\n",
       "      <td>313.224286</td>\n",
       "      <td>67.139074</td>\n",
       "      <td>309.980748</td>\n",
       "      <td>62.671873</td>\n",
       "      <td>...</td>\n",
       "      <td>4.660835</td>\n",
       "      <td>62.756748</td>\n",
       "      <td>4.304086</td>\n",
       "      <td>105.549424</td>\n",
       "      <td>3.762827</td>\n",
       "      <td>58.864651</td>\n",
       "      <td>3.312471</td>\n",
       "      <td>68.785898</td>\n",
       "      <td>5.404514</td>\n",
       "      <td>69.919839</td>\n",
       "    </tr>\n",
       "    <tr>\n",
       "      <td>min</td>\n",
       "      <td>0.000103</td>\n",
       "      <td>0.000031</td>\n",
       "      <td>5.650000</td>\n",
       "      <td>0.000003</td>\n",
       "      <td>0.000000</td>\n",
       "      <td>-799.773788</td>\n",
       "      <td>0.000000</td>\n",
       "      <td>-800.029078</td>\n",
       "      <td>0.000000</td>\n",
       "      <td>-799.995127</td>\n",
       "      <td>...</td>\n",
       "      <td>0.000000</td>\n",
       "      <td>-799.798523</td>\n",
       "      <td>0.000000</td>\n",
       "      <td>-800.836914</td>\n",
       "      <td>-0.223393</td>\n",
       "      <td>-799.661076</td>\n",
       "      <td>0.528083</td>\n",
       "      <td>-800.220337</td>\n",
       "      <td>-0.079426</td>\n",
       "      <td>-809.859706</td>\n",
       "    </tr>\n",
       "    <tr>\n",
       "      <td>25%</td>\n",
       "      <td>143.340022</td>\n",
       "      <td>6.411500</td>\n",
       "      <td>6.885625</td>\n",
       "      <td>0.888769</td>\n",
       "      <td>1497.190681</td>\n",
       "      <td>-500.455211</td>\n",
       "      <td>1497.150234</td>\n",
       "      <td>-500.936639</td>\n",
       "      <td>1437.050321</td>\n",
       "      <td>-501.300441</td>\n",
       "      <td>...</td>\n",
       "      <td>12.057838</td>\n",
       "      <td>-501.054741</td>\n",
       "      <td>11.880119</td>\n",
       "      <td>-500.419113</td>\n",
       "      <td>10.123459</td>\n",
       "      <td>-500.879383</td>\n",
       "      <td>7.991208</td>\n",
       "      <td>-500.223089</td>\n",
       "      <td>13.012422</td>\n",
       "      <td>-500.833821</td>\n",
       "    </tr>\n",
       "    <tr>\n",
       "      <td>50%</td>\n",
       "      <td>176.103893</td>\n",
       "      <td>8.023252</td>\n",
       "      <td>7.259333</td>\n",
       "      <td>1.183362</td>\n",
       "      <td>1554.659783</td>\n",
       "      <td>-499.997402</td>\n",
       "      <td>1553.268084</td>\n",
       "      <td>-500.066588</td>\n",
       "      <td>1546.160672</td>\n",
       "      <td>-500.079537</td>\n",
       "      <td>...</td>\n",
       "      <td>17.001867</td>\n",
       "      <td>-500.160145</td>\n",
       "      <td>14.952102</td>\n",
       "      <td>-499.644328</td>\n",
       "      <td>12.062877</td>\n",
       "      <td>-500.047621</td>\n",
       "      <td>9.980774</td>\n",
       "      <td>-500.001338</td>\n",
       "      <td>16.007242</td>\n",
       "      <td>-500.041085</td>\n",
       "    </tr>\n",
       "    <tr>\n",
       "      <td>75%</td>\n",
       "      <td>207.240761</td>\n",
       "      <td>10.017725</td>\n",
       "      <td>7.650000</td>\n",
       "      <td>1.763797</td>\n",
       "      <td>1601.681656</td>\n",
       "      <td>-499.575313</td>\n",
       "      <td>1601.784707</td>\n",
       "      <td>-499.323361</td>\n",
       "      <td>1600.785573</td>\n",
       "      <td>-499.009545</td>\n",
       "      <td>...</td>\n",
       "      <td>18.030985</td>\n",
       "      <td>-499.441529</td>\n",
       "      <td>15.940011</td>\n",
       "      <td>-401.523664</td>\n",
       "      <td>15.017881</td>\n",
       "      <td>-499.297033</td>\n",
       "      <td>11.992176</td>\n",
       "      <td>-499.722835</td>\n",
       "      <td>21.009076</td>\n",
       "      <td>-499.395621</td>\n",
       "    </tr>\n",
       "    <tr>\n",
       "      <td>max</td>\n",
       "      <td>274.409626</td>\n",
       "      <td>40.024582</td>\n",
       "      <td>15.500000</td>\n",
       "      <td>5.433169</td>\n",
       "      <td>2212.432090</td>\n",
       "      <td>-57.195404</td>\n",
       "      <td>1975.147923</td>\n",
       "      <td>-142.527229</td>\n",
       "      <td>1715.053773</td>\n",
       "      <td>-150.937035</td>\n",
       "      <td>...</td>\n",
       "      <td>30.051797</td>\n",
       "      <td>-401.565212</td>\n",
       "      <td>31.269706</td>\n",
       "      <td>-6.506986</td>\n",
       "      <td>25.258848</td>\n",
       "      <td>-244.483566</td>\n",
       "      <td>14.090194</td>\n",
       "      <td>-126.463446</td>\n",
       "      <td>26.705889</td>\n",
       "      <td>-29.093593</td>\n",
       "    </tr>\n",
       "  </tbody>\n",
       "</table>\n",
       "<p>8 rows × 52 columns</p>\n",
       "</div>"
      ],
      "text/plain": [
       "       primary_cleaner.input.sulfate  primary_cleaner.input.depressant  \\\n",
       "count                    5554.000000                       5572.000000   \n",
       "mean                      170.515243                          8.482873   \n",
       "std                        49.608602                          3.353105   \n",
       "min                         0.000103                          0.000031   \n",
       "25%                       143.340022                          6.411500   \n",
       "50%                       176.103893                          8.023252   \n",
       "75%                       207.240761                         10.017725   \n",
       "max                       274.409626                         40.024582   \n",
       "\n",
       "       primary_cleaner.input.feed_size  primary_cleaner.input.xanthate  \\\n",
       "count                      5856.000000                     5690.000000   \n",
       "mean                          7.264651                        1.321420   \n",
       "std                           0.611526                        0.693246   \n",
       "min                           5.650000                        0.000003   \n",
       "25%                           6.885625                        0.888769   \n",
       "50%                           7.259333                        1.183362   \n",
       "75%                           7.650000                        1.763797   \n",
       "max                          15.500000                        5.433169   \n",
       "\n",
       "       primary_cleaner.state.floatbank8_a_air  \\\n",
       "count                             5840.000000   \n",
       "mean                              1481.990241   \n",
       "std                                310.453166   \n",
       "min                                  0.000000   \n",
       "25%                               1497.190681   \n",
       "50%                               1554.659783   \n",
       "75%                               1601.681656   \n",
       "max                               2212.432090   \n",
       "\n",
       "       primary_cleaner.state.floatbank8_a_level  \\\n",
       "count                               5840.000000   \n",
       "mean                                -509.057796   \n",
       "std                                   61.339256   \n",
       "min                                 -799.773788   \n",
       "25%                                 -500.455211   \n",
       "50%                                 -499.997402   \n",
       "75%                                 -499.575313   \n",
       "max                                  -57.195404   \n",
       "\n",
       "       primary_cleaner.state.floatbank8_b_air  \\\n",
       "count                             5840.000000   \n",
       "mean                              1486.908670   \n",
       "std                                313.224286   \n",
       "min                                  0.000000   \n",
       "25%                               1497.150234   \n",
       "50%                               1553.268084   \n",
       "75%                               1601.784707   \n",
       "max                               1975.147923   \n",
       "\n",
       "       primary_cleaner.state.floatbank8_b_level  \\\n",
       "count                               5840.000000   \n",
       "mean                                -511.743956   \n",
       "std                                   67.139074   \n",
       "min                                 -800.029078   \n",
       "25%                                 -500.936639   \n",
       "50%                                 -500.066588   \n",
       "75%                                 -499.323361   \n",
       "max                                 -142.527229   \n",
       "\n",
       "       primary_cleaner.state.floatbank8_c_air  \\\n",
       "count                             5840.000000   \n",
       "mean                              1468.495216   \n",
       "std                                309.980748   \n",
       "min                                  0.000000   \n",
       "25%                               1437.050321   \n",
       "50%                               1546.160672   \n",
       "75%                               1600.785573   \n",
       "max                               1715.053773   \n",
       "\n",
       "       primary_cleaner.state.floatbank8_c_level  ...  \\\n",
       "count                               5840.000000  ...   \n",
       "mean                                -509.741212  ...   \n",
       "std                                   62.671873  ...   \n",
       "min                                 -799.995127  ...   \n",
       "25%                                 -501.300441  ...   \n",
       "50%                                 -500.079537  ...   \n",
       "75%                                 -499.009545  ...   \n",
       "max                                 -150.937035  ...   \n",
       "\n",
       "       secondary_cleaner.state.floatbank4_a_air  \\\n",
       "count                               5840.000000   \n",
       "mean                                  15.636031   \n",
       "std                                    4.660835   \n",
       "min                                    0.000000   \n",
       "25%                                   12.057838   \n",
       "50%                                   17.001867   \n",
       "75%                                   18.030985   \n",
       "max                                   30.051797   \n",
       "\n",
       "       secondary_cleaner.state.floatbank4_a_level  \\\n",
       "count                                 5840.000000   \n",
       "mean                                  -516.266074   \n",
       "std                                     62.756748   \n",
       "min                                   -799.798523   \n",
       "25%                                   -501.054741   \n",
       "50%                                   -500.160145   \n",
       "75%                                   -499.441529   \n",
       "max                                   -401.565212   \n",
       "\n",
       "       secondary_cleaner.state.floatbank4_b_air  \\\n",
       "count                               5840.000000   \n",
       "mean                                  13.145702   \n",
       "std                                    4.304086   \n",
       "min                                    0.000000   \n",
       "25%                                   11.880119   \n",
       "50%                                   14.952102   \n",
       "75%                                   15.940011   \n",
       "max                                   31.269706   \n",
       "\n",
       "       secondary_cleaner.state.floatbank4_b_level  \\\n",
       "count                                 5840.000000   \n",
       "mean                                  -476.338907   \n",
       "std                                    105.549424   \n",
       "min                                   -800.836914   \n",
       "25%                                   -500.419113   \n",
       "50%                                   -499.644328   \n",
       "75%                                   -401.523664   \n",
       "max                                     -6.506986   \n",
       "\n",
       "       secondary_cleaner.state.floatbank5_a_air  \\\n",
       "count                               5840.000000   \n",
       "mean                                  12.308967   \n",
       "std                                    3.762827   \n",
       "min                                   -0.223393   \n",
       "25%                                   10.123459   \n",
       "50%                                   12.062877   \n",
       "75%                                   15.017881   \n",
       "max                                   25.258848   \n",
       "\n",
       "       secondary_cleaner.state.floatbank5_a_level  \\\n",
       "count                                 5840.000000   \n",
       "mean                                  -512.208126   \n",
       "std                                     58.864651   \n",
       "min                                   -799.661076   \n",
       "25%                                   -500.879383   \n",
       "50%                                   -500.047621   \n",
       "75%                                   -499.297033   \n",
       "max                                   -244.483566   \n",
       "\n",
       "       secondary_cleaner.state.floatbank5_b_air  \\\n",
       "count                               5840.000000   \n",
       "mean                                   9.470986   \n",
       "std                                    3.312471   \n",
       "min                                    0.528083   \n",
       "25%                                    7.991208   \n",
       "50%                                    9.980774   \n",
       "75%                                   11.992176   \n",
       "max                                   14.090194   \n",
       "\n",
       "       secondary_cleaner.state.floatbank5_b_level  \\\n",
       "count                                 5840.000000   \n",
       "mean                                  -505.017827   \n",
       "std                                     68.785898   \n",
       "min                                   -800.220337   \n",
       "25%                                   -500.223089   \n",
       "50%                                   -500.001338   \n",
       "75%                                   -499.722835   \n",
       "max                                   -126.463446   \n",
       "\n",
       "       secondary_cleaner.state.floatbank6_a_air  \\\n",
       "count                               5840.000000   \n",
       "mean                                  16.678722   \n",
       "std                                    5.404514   \n",
       "min                                   -0.079426   \n",
       "25%                                   13.012422   \n",
       "50%                                   16.007242   \n",
       "75%                                   21.009076   \n",
       "max                                   26.705889   \n",
       "\n",
       "       secondary_cleaner.state.floatbank6_a_level  \n",
       "count                                 5840.000000  \n",
       "mean                                  -512.351694  \n",
       "std                                     69.919839  \n",
       "min                                   -809.859706  \n",
       "25%                                   -500.833821  \n",
       "50%                                   -500.041085  \n",
       "75%                                   -499.395621  \n",
       "max                                    -29.093593  \n",
       "\n",
       "[8 rows x 52 columns]"
      ]
     },
     "execution_count": 7,
     "metadata": {},
     "output_type": "execute_result"
    }
   ],
   "source": [
    "df_test.describe()"
   ]
  },
  {
   "cell_type": "code",
   "execution_count": 8,
   "metadata": {},
   "outputs": [
    {
     "name": "stdout",
     "output_type": "stream",
     "text": [
      "<class 'pandas.core.frame.DataFrame'>\n",
      "RangeIndex: 5856 entries, 0 to 5855\n",
      "Data columns (total 53 columns):\n",
      "date                                          5856 non-null object\n",
      "primary_cleaner.input.sulfate                 5554 non-null float64\n",
      "primary_cleaner.input.depressant              5572 non-null float64\n",
      "primary_cleaner.input.feed_size               5856 non-null float64\n",
      "primary_cleaner.input.xanthate                5690 non-null float64\n",
      "primary_cleaner.state.floatbank8_a_air        5840 non-null float64\n",
      "primary_cleaner.state.floatbank8_a_level      5840 non-null float64\n",
      "primary_cleaner.state.floatbank8_b_air        5840 non-null float64\n",
      "primary_cleaner.state.floatbank8_b_level      5840 non-null float64\n",
      "primary_cleaner.state.floatbank8_c_air        5840 non-null float64\n",
      "primary_cleaner.state.floatbank8_c_level      5840 non-null float64\n",
      "primary_cleaner.state.floatbank8_d_air        5840 non-null float64\n",
      "primary_cleaner.state.floatbank8_d_level      5840 non-null float64\n",
      "rougher.input.feed_ag                         5840 non-null float64\n",
      "rougher.input.feed_pb                         5840 non-null float64\n",
      "rougher.input.feed_rate                       5816 non-null float64\n",
      "rougher.input.feed_size                       5834 non-null float64\n",
      "rougher.input.feed_sol                        5789 non-null float64\n",
      "rougher.input.feed_au                         5840 non-null float64\n",
      "rougher.input.floatbank10_sulfate             5599 non-null float64\n",
      "rougher.input.floatbank10_xanthate            5733 non-null float64\n",
      "rougher.input.floatbank11_sulfate             5801 non-null float64\n",
      "rougher.input.floatbank11_xanthate            5503 non-null float64\n",
      "rougher.state.floatbank10_a_air               5839 non-null float64\n",
      "rougher.state.floatbank10_a_level             5840 non-null float64\n",
      "rougher.state.floatbank10_b_air               5839 non-null float64\n",
      "rougher.state.floatbank10_b_level             5840 non-null float64\n",
      "rougher.state.floatbank10_c_air               5839 non-null float64\n",
      "rougher.state.floatbank10_c_level             5840 non-null float64\n",
      "rougher.state.floatbank10_d_air               5839 non-null float64\n",
      "rougher.state.floatbank10_d_level             5840 non-null float64\n",
      "rougher.state.floatbank10_e_air               5839 non-null float64\n",
      "rougher.state.floatbank10_e_level             5840 non-null float64\n",
      "rougher.state.floatbank10_f_air               5839 non-null float64\n",
      "rougher.state.floatbank10_f_level             5840 non-null float64\n",
      "secondary_cleaner.state.floatbank2_a_air      5836 non-null float64\n",
      "secondary_cleaner.state.floatbank2_a_level    5840 non-null float64\n",
      "secondary_cleaner.state.floatbank2_b_air      5833 non-null float64\n",
      "secondary_cleaner.state.floatbank2_b_level    5840 non-null float64\n",
      "secondary_cleaner.state.floatbank3_a_air      5822 non-null float64\n",
      "secondary_cleaner.state.floatbank3_a_level    5840 non-null float64\n",
      "secondary_cleaner.state.floatbank3_b_air      5840 non-null float64\n",
      "secondary_cleaner.state.floatbank3_b_level    5840 non-null float64\n",
      "secondary_cleaner.state.floatbank4_a_air      5840 non-null float64\n",
      "secondary_cleaner.state.floatbank4_a_level    5840 non-null float64\n",
      "secondary_cleaner.state.floatbank4_b_air      5840 non-null float64\n",
      "secondary_cleaner.state.floatbank4_b_level    5840 non-null float64\n",
      "secondary_cleaner.state.floatbank5_a_air      5840 non-null float64\n",
      "secondary_cleaner.state.floatbank5_a_level    5840 non-null float64\n",
      "secondary_cleaner.state.floatbank5_b_air      5840 non-null float64\n",
      "secondary_cleaner.state.floatbank5_b_level    5840 non-null float64\n",
      "secondary_cleaner.state.floatbank6_a_air      5840 non-null float64\n",
      "secondary_cleaner.state.floatbank6_a_level    5840 non-null float64\n",
      "dtypes: float64(52), object(1)\n",
      "memory usage: 2.4+ MB\n"
     ]
    }
   ],
   "source": [
    "df_test.info()"
   ]
  },
  {
   "cell_type": "markdown",
   "metadata": {},
   "source": [
    "Missing values present."
   ]
  },
  {
   "cell_type": "code",
   "execution_count": 9,
   "metadata": {},
   "outputs": [
    {
     "data": {
      "text/html": [
       "<div>\n",
       "<style scoped>\n",
       "    .dataframe tbody tr th:only-of-type {\n",
       "        vertical-align: middle;\n",
       "    }\n",
       "\n",
       "    .dataframe tbody tr th {\n",
       "        vertical-align: top;\n",
       "    }\n",
       "\n",
       "    .dataframe thead th {\n",
       "        text-align: right;\n",
       "    }\n",
       "</style>\n",
       "<table border=\"1\" class=\"dataframe\">\n",
       "  <thead>\n",
       "    <tr style=\"text-align: right;\">\n",
       "      <th></th>\n",
       "      <th>date</th>\n",
       "      <th>final.output.concentrate_ag</th>\n",
       "      <th>final.output.concentrate_pb</th>\n",
       "      <th>final.output.concentrate_sol</th>\n",
       "      <th>final.output.concentrate_au</th>\n",
       "      <th>final.output.recovery</th>\n",
       "      <th>final.output.tail_ag</th>\n",
       "      <th>final.output.tail_pb</th>\n",
       "      <th>final.output.tail_sol</th>\n",
       "      <th>final.output.tail_au</th>\n",
       "      <th>...</th>\n",
       "      <th>secondary_cleaner.state.floatbank4_a_air</th>\n",
       "      <th>secondary_cleaner.state.floatbank4_a_level</th>\n",
       "      <th>secondary_cleaner.state.floatbank4_b_air</th>\n",
       "      <th>secondary_cleaner.state.floatbank4_b_level</th>\n",
       "      <th>secondary_cleaner.state.floatbank5_a_air</th>\n",
       "      <th>secondary_cleaner.state.floatbank5_a_level</th>\n",
       "      <th>secondary_cleaner.state.floatbank5_b_air</th>\n",
       "      <th>secondary_cleaner.state.floatbank5_b_level</th>\n",
       "      <th>secondary_cleaner.state.floatbank6_a_air</th>\n",
       "      <th>secondary_cleaner.state.floatbank6_a_level</th>\n",
       "    </tr>\n",
       "  </thead>\n",
       "  <tbody>\n",
       "    <tr>\n",
       "      <td>0</td>\n",
       "      <td>2016-01-15 00:00:00</td>\n",
       "      <td>6.055403</td>\n",
       "      <td>9.889648</td>\n",
       "      <td>5.507324</td>\n",
       "      <td>42.192020</td>\n",
       "      <td>70.541216</td>\n",
       "      <td>10.411962</td>\n",
       "      <td>0.895447</td>\n",
       "      <td>16.904297</td>\n",
       "      <td>2.143149</td>\n",
       "      <td>...</td>\n",
       "      <td>14.016835</td>\n",
       "      <td>-502.488007</td>\n",
       "      <td>12.099931</td>\n",
       "      <td>-504.715942</td>\n",
       "      <td>9.925633</td>\n",
       "      <td>-498.310211</td>\n",
       "      <td>8.079666</td>\n",
       "      <td>-500.470978</td>\n",
       "      <td>14.151341</td>\n",
       "      <td>-605.841980</td>\n",
       "    </tr>\n",
       "    <tr>\n",
       "      <td>1</td>\n",
       "      <td>2016-01-15 01:00:00</td>\n",
       "      <td>6.029369</td>\n",
       "      <td>9.968944</td>\n",
       "      <td>5.257781</td>\n",
       "      <td>42.701629</td>\n",
       "      <td>69.266198</td>\n",
       "      <td>10.462676</td>\n",
       "      <td>0.927452</td>\n",
       "      <td>16.634514</td>\n",
       "      <td>2.224930</td>\n",
       "      <td>...</td>\n",
       "      <td>13.992281</td>\n",
       "      <td>-505.503262</td>\n",
       "      <td>11.950531</td>\n",
       "      <td>-501.331529</td>\n",
       "      <td>10.039245</td>\n",
       "      <td>-500.169983</td>\n",
       "      <td>7.984757</td>\n",
       "      <td>-500.582168</td>\n",
       "      <td>13.998353</td>\n",
       "      <td>-599.787184</td>\n",
       "    </tr>\n",
       "    <tr>\n",
       "      <td>2</td>\n",
       "      <td>2016-01-15 02:00:00</td>\n",
       "      <td>6.055926</td>\n",
       "      <td>10.213995</td>\n",
       "      <td>5.383759</td>\n",
       "      <td>42.657501</td>\n",
       "      <td>68.116445</td>\n",
       "      <td>10.507046</td>\n",
       "      <td>0.953716</td>\n",
       "      <td>16.208849</td>\n",
       "      <td>2.257889</td>\n",
       "      <td>...</td>\n",
       "      <td>14.015015</td>\n",
       "      <td>-502.520901</td>\n",
       "      <td>11.912783</td>\n",
       "      <td>-501.133383</td>\n",
       "      <td>10.070913</td>\n",
       "      <td>-500.129135</td>\n",
       "      <td>8.013877</td>\n",
       "      <td>-500.517572</td>\n",
       "      <td>14.028663</td>\n",
       "      <td>-601.427363</td>\n",
       "    </tr>\n",
       "    <tr>\n",
       "      <td>3</td>\n",
       "      <td>2016-01-15 03:00:00</td>\n",
       "      <td>6.047977</td>\n",
       "      <td>9.977019</td>\n",
       "      <td>4.858634</td>\n",
       "      <td>42.689819</td>\n",
       "      <td>68.347543</td>\n",
       "      <td>10.422762</td>\n",
       "      <td>0.883763</td>\n",
       "      <td>16.532835</td>\n",
       "      <td>2.146849</td>\n",
       "      <td>...</td>\n",
       "      <td>14.036510</td>\n",
       "      <td>-500.857308</td>\n",
       "      <td>11.999550</td>\n",
       "      <td>-501.193686</td>\n",
       "      <td>9.970366</td>\n",
       "      <td>-499.201640</td>\n",
       "      <td>7.977324</td>\n",
       "      <td>-500.255908</td>\n",
       "      <td>14.005551</td>\n",
       "      <td>-599.996129</td>\n",
       "    </tr>\n",
       "    <tr>\n",
       "      <td>4</td>\n",
       "      <td>2016-01-15 04:00:00</td>\n",
       "      <td>6.148599</td>\n",
       "      <td>10.142511</td>\n",
       "      <td>4.939416</td>\n",
       "      <td>42.774141</td>\n",
       "      <td>66.927016</td>\n",
       "      <td>10.360302</td>\n",
       "      <td>0.792826</td>\n",
       "      <td>16.525686</td>\n",
       "      <td>2.055292</td>\n",
       "      <td>...</td>\n",
       "      <td>14.027298</td>\n",
       "      <td>-499.838632</td>\n",
       "      <td>11.953070</td>\n",
       "      <td>-501.053894</td>\n",
       "      <td>9.925709</td>\n",
       "      <td>-501.686727</td>\n",
       "      <td>7.894242</td>\n",
       "      <td>-500.356035</td>\n",
       "      <td>13.996647</td>\n",
       "      <td>-601.496691</td>\n",
       "    </tr>\n",
       "  </tbody>\n",
       "</table>\n",
       "<p>5 rows × 87 columns</p>\n",
       "</div>"
      ],
      "text/plain": [
       "                  date  final.output.concentrate_ag  \\\n",
       "0  2016-01-15 00:00:00                     6.055403   \n",
       "1  2016-01-15 01:00:00                     6.029369   \n",
       "2  2016-01-15 02:00:00                     6.055926   \n",
       "3  2016-01-15 03:00:00                     6.047977   \n",
       "4  2016-01-15 04:00:00                     6.148599   \n",
       "\n",
       "   final.output.concentrate_pb  final.output.concentrate_sol  \\\n",
       "0                     9.889648                      5.507324   \n",
       "1                     9.968944                      5.257781   \n",
       "2                    10.213995                      5.383759   \n",
       "3                     9.977019                      4.858634   \n",
       "4                    10.142511                      4.939416   \n",
       "\n",
       "   final.output.concentrate_au  final.output.recovery  final.output.tail_ag  \\\n",
       "0                    42.192020              70.541216             10.411962   \n",
       "1                    42.701629              69.266198             10.462676   \n",
       "2                    42.657501              68.116445             10.507046   \n",
       "3                    42.689819              68.347543             10.422762   \n",
       "4                    42.774141              66.927016             10.360302   \n",
       "\n",
       "   final.output.tail_pb  final.output.tail_sol  final.output.tail_au  ...  \\\n",
       "0              0.895447              16.904297              2.143149  ...   \n",
       "1              0.927452              16.634514              2.224930  ...   \n",
       "2              0.953716              16.208849              2.257889  ...   \n",
       "3              0.883763              16.532835              2.146849  ...   \n",
       "4              0.792826              16.525686              2.055292  ...   \n",
       "\n",
       "   secondary_cleaner.state.floatbank4_a_air  \\\n",
       "0                                 14.016835   \n",
       "1                                 13.992281   \n",
       "2                                 14.015015   \n",
       "3                                 14.036510   \n",
       "4                                 14.027298   \n",
       "\n",
       "   secondary_cleaner.state.floatbank4_a_level  \\\n",
       "0                                 -502.488007   \n",
       "1                                 -505.503262   \n",
       "2                                 -502.520901   \n",
       "3                                 -500.857308   \n",
       "4                                 -499.838632   \n",
       "\n",
       "   secondary_cleaner.state.floatbank4_b_air  \\\n",
       "0                                 12.099931   \n",
       "1                                 11.950531   \n",
       "2                                 11.912783   \n",
       "3                                 11.999550   \n",
       "4                                 11.953070   \n",
       "\n",
       "   secondary_cleaner.state.floatbank4_b_level  \\\n",
       "0                                 -504.715942   \n",
       "1                                 -501.331529   \n",
       "2                                 -501.133383   \n",
       "3                                 -501.193686   \n",
       "4                                 -501.053894   \n",
       "\n",
       "   secondary_cleaner.state.floatbank5_a_air  \\\n",
       "0                                  9.925633   \n",
       "1                                 10.039245   \n",
       "2                                 10.070913   \n",
       "3                                  9.970366   \n",
       "4                                  9.925709   \n",
       "\n",
       "   secondary_cleaner.state.floatbank5_a_level  \\\n",
       "0                                 -498.310211   \n",
       "1                                 -500.169983   \n",
       "2                                 -500.129135   \n",
       "3                                 -499.201640   \n",
       "4                                 -501.686727   \n",
       "\n",
       "   secondary_cleaner.state.floatbank5_b_air  \\\n",
       "0                                  8.079666   \n",
       "1                                  7.984757   \n",
       "2                                  8.013877   \n",
       "3                                  7.977324   \n",
       "4                                  7.894242   \n",
       "\n",
       "   secondary_cleaner.state.floatbank5_b_level  \\\n",
       "0                                 -500.470978   \n",
       "1                                 -500.582168   \n",
       "2                                 -500.517572   \n",
       "3                                 -500.255908   \n",
       "4                                 -500.356035   \n",
       "\n",
       "   secondary_cleaner.state.floatbank6_a_air  \\\n",
       "0                                 14.151341   \n",
       "1                                 13.998353   \n",
       "2                                 14.028663   \n",
       "3                                 14.005551   \n",
       "4                                 13.996647   \n",
       "\n",
       "   secondary_cleaner.state.floatbank6_a_level  \n",
       "0                                 -605.841980  \n",
       "1                                 -599.787184  \n",
       "2                                 -601.427363  \n",
       "3                                 -599.996129  \n",
       "4                                 -601.496691  \n",
       "\n",
       "[5 rows x 87 columns]"
      ]
     },
     "execution_count": 9,
     "metadata": {},
     "output_type": "execute_result"
    }
   ],
   "source": [
    "#looking at first 5 rows in full\n",
    "df_full.head()"
   ]
  },
  {
   "cell_type": "code",
   "execution_count": 10,
   "metadata": {},
   "outputs": [
    {
     "data": {
      "text/html": [
       "<div>\n",
       "<style scoped>\n",
       "    .dataframe tbody tr th:only-of-type {\n",
       "        vertical-align: middle;\n",
       "    }\n",
       "\n",
       "    .dataframe tbody tr th {\n",
       "        vertical-align: top;\n",
       "    }\n",
       "\n",
       "    .dataframe thead th {\n",
       "        text-align: right;\n",
       "    }\n",
       "</style>\n",
       "<table border=\"1\" class=\"dataframe\">\n",
       "  <thead>\n",
       "    <tr style=\"text-align: right;\">\n",
       "      <th></th>\n",
       "      <th>final.output.concentrate_ag</th>\n",
       "      <th>final.output.concentrate_pb</th>\n",
       "      <th>final.output.concentrate_sol</th>\n",
       "      <th>final.output.concentrate_au</th>\n",
       "      <th>final.output.recovery</th>\n",
       "      <th>final.output.tail_ag</th>\n",
       "      <th>final.output.tail_pb</th>\n",
       "      <th>final.output.tail_sol</th>\n",
       "      <th>final.output.tail_au</th>\n",
       "      <th>primary_cleaner.input.sulfate</th>\n",
       "      <th>...</th>\n",
       "      <th>secondary_cleaner.state.floatbank4_a_air</th>\n",
       "      <th>secondary_cleaner.state.floatbank4_a_level</th>\n",
       "      <th>secondary_cleaner.state.floatbank4_b_air</th>\n",
       "      <th>secondary_cleaner.state.floatbank4_b_level</th>\n",
       "      <th>secondary_cleaner.state.floatbank5_a_air</th>\n",
       "      <th>secondary_cleaner.state.floatbank5_a_level</th>\n",
       "      <th>secondary_cleaner.state.floatbank5_b_air</th>\n",
       "      <th>secondary_cleaner.state.floatbank5_b_level</th>\n",
       "      <th>secondary_cleaner.state.floatbank6_a_air</th>\n",
       "      <th>secondary_cleaner.state.floatbank6_a_level</th>\n",
       "    </tr>\n",
       "  </thead>\n",
       "  <tbody>\n",
       "    <tr>\n",
       "      <td>count</td>\n",
       "      <td>22627.000000</td>\n",
       "      <td>22629.000000</td>\n",
       "      <td>22331.000000</td>\n",
       "      <td>22630.000000</td>\n",
       "      <td>20753.000000</td>\n",
       "      <td>22633.000000</td>\n",
       "      <td>22516.000000</td>\n",
       "      <td>22445.000000</td>\n",
       "      <td>22635.000000</td>\n",
       "      <td>21107.000000</td>\n",
       "      <td>...</td>\n",
       "      <td>22571.000000</td>\n",
       "      <td>22587.000000</td>\n",
       "      <td>22608.000000</td>\n",
       "      <td>22607.000000</td>\n",
       "      <td>22615.000000</td>\n",
       "      <td>22615.000000</td>\n",
       "      <td>22615.000000</td>\n",
       "      <td>22616.000000</td>\n",
       "      <td>22597.000000</td>\n",
       "      <td>22615.000000</td>\n",
       "    </tr>\n",
       "    <tr>\n",
       "      <td>mean</td>\n",
       "      <td>4.781559</td>\n",
       "      <td>9.095308</td>\n",
       "      <td>8.640317</td>\n",
       "      <td>40.001172</td>\n",
       "      <td>67.447488</td>\n",
       "      <td>8.923690</td>\n",
       "      <td>2.488252</td>\n",
       "      <td>9.523632</td>\n",
       "      <td>2.827459</td>\n",
       "      <td>140.277672</td>\n",
       "      <td>...</td>\n",
       "      <td>18.205125</td>\n",
       "      <td>-499.878977</td>\n",
       "      <td>14.356474</td>\n",
       "      <td>-476.532613</td>\n",
       "      <td>14.883276</td>\n",
       "      <td>-503.323288</td>\n",
       "      <td>11.626743</td>\n",
       "      <td>-500.521502</td>\n",
       "      <td>17.976810</td>\n",
       "      <td>-519.361465</td>\n",
       "    </tr>\n",
       "    <tr>\n",
       "      <td>std</td>\n",
       "      <td>2.030128</td>\n",
       "      <td>3.230797</td>\n",
       "      <td>3.785035</td>\n",
       "      <td>13.398062</td>\n",
       "      <td>11.616034</td>\n",
       "      <td>3.517917</td>\n",
       "      <td>1.189407</td>\n",
       "      <td>4.079739</td>\n",
       "      <td>1.262834</td>\n",
       "      <td>49.919004</td>\n",
       "      <td>...</td>\n",
       "      <td>6.560700</td>\n",
       "      <td>80.273964</td>\n",
       "      <td>5.655791</td>\n",
       "      <td>93.822791</td>\n",
       "      <td>6.372811</td>\n",
       "      <td>72.925589</td>\n",
       "      <td>5.757449</td>\n",
       "      <td>78.956292</td>\n",
       "      <td>6.636203</td>\n",
       "      <td>75.477151</td>\n",
       "    </tr>\n",
       "    <tr>\n",
       "      <td>min</td>\n",
       "      <td>0.000000</td>\n",
       "      <td>0.000000</td>\n",
       "      <td>0.000000</td>\n",
       "      <td>0.000000</td>\n",
       "      <td>0.000000</td>\n",
       "      <td>0.000000</td>\n",
       "      <td>0.000000</td>\n",
       "      <td>0.000000</td>\n",
       "      <td>0.000000</td>\n",
       "      <td>0.000003</td>\n",
       "      <td>...</td>\n",
       "      <td>0.000000</td>\n",
       "      <td>-799.920713</td>\n",
       "      <td>0.000000</td>\n",
       "      <td>-800.836914</td>\n",
       "      <td>-0.423260</td>\n",
       "      <td>-799.741097</td>\n",
       "      <td>0.427084</td>\n",
       "      <td>-800.258209</td>\n",
       "      <td>-0.079426</td>\n",
       "      <td>-810.473526</td>\n",
       "    </tr>\n",
       "    <tr>\n",
       "      <td>25%</td>\n",
       "      <td>4.018525</td>\n",
       "      <td>8.750171</td>\n",
       "      <td>7.116799</td>\n",
       "      <td>42.383721</td>\n",
       "      <td>63.282393</td>\n",
       "      <td>7.684016</td>\n",
       "      <td>1.805376</td>\n",
       "      <td>8.143576</td>\n",
       "      <td>2.303108</td>\n",
       "      <td>110.177081</td>\n",
       "      <td>...</td>\n",
       "      <td>14.095940</td>\n",
       "      <td>-500.896232</td>\n",
       "      <td>10.882675</td>\n",
       "      <td>-500.309169</td>\n",
       "      <td>10.941299</td>\n",
       "      <td>-500.628697</td>\n",
       "      <td>8.037533</td>\n",
       "      <td>-500.167897</td>\n",
       "      <td>13.968418</td>\n",
       "      <td>-500.981671</td>\n",
       "    </tr>\n",
       "    <tr>\n",
       "      <td>50%</td>\n",
       "      <td>4.953729</td>\n",
       "      <td>9.914519</td>\n",
       "      <td>8.908792</td>\n",
       "      <td>44.653436</td>\n",
       "      <td>68.322258</td>\n",
       "      <td>9.484369</td>\n",
       "      <td>2.653001</td>\n",
       "      <td>10.212998</td>\n",
       "      <td>2.913794</td>\n",
       "      <td>141.330501</td>\n",
       "      <td>...</td>\n",
       "      <td>18.007326</td>\n",
       "      <td>-499.917108</td>\n",
       "      <td>14.947646</td>\n",
       "      <td>-499.612292</td>\n",
       "      <td>14.859117</td>\n",
       "      <td>-499.865158</td>\n",
       "      <td>10.989756</td>\n",
       "      <td>-499.951980</td>\n",
       "      <td>18.004215</td>\n",
       "      <td>-500.095463</td>\n",
       "    </tr>\n",
       "    <tr>\n",
       "      <td>75%</td>\n",
       "      <td>5.862593</td>\n",
       "      <td>10.929839</td>\n",
       "      <td>10.705824</td>\n",
       "      <td>46.111999</td>\n",
       "      <td>72.950836</td>\n",
       "      <td>11.084557</td>\n",
       "      <td>3.287790</td>\n",
       "      <td>11.860824</td>\n",
       "      <td>3.555077</td>\n",
       "      <td>174.049914</td>\n",
       "      <td>...</td>\n",
       "      <td>22.998194</td>\n",
       "      <td>-498.361545</td>\n",
       "      <td>17.977502</td>\n",
       "      <td>-400.224147</td>\n",
       "      <td>18.014914</td>\n",
       "      <td>-498.489381</td>\n",
       "      <td>14.001193</td>\n",
       "      <td>-499.492354</td>\n",
       "      <td>23.009704</td>\n",
       "      <td>-499.526388</td>\n",
       "    </tr>\n",
       "    <tr>\n",
       "      <td>max</td>\n",
       "      <td>16.001945</td>\n",
       "      <td>17.031899</td>\n",
       "      <td>19.615720</td>\n",
       "      <td>53.611374</td>\n",
       "      <td>100.000000</td>\n",
       "      <td>19.552149</td>\n",
       "      <td>6.086532</td>\n",
       "      <td>22.861749</td>\n",
       "      <td>9.789625</td>\n",
       "      <td>274.409626</td>\n",
       "      <td>...</td>\n",
       "      <td>60.000000</td>\n",
       "      <td>-127.692333</td>\n",
       "      <td>31.269706</td>\n",
       "      <td>-6.506986</td>\n",
       "      <td>63.116298</td>\n",
       "      <td>-244.483566</td>\n",
       "      <td>39.846228</td>\n",
       "      <td>-120.190931</td>\n",
       "      <td>54.876806</td>\n",
       "      <td>-29.093593</td>\n",
       "    </tr>\n",
       "  </tbody>\n",
       "</table>\n",
       "<p>8 rows × 86 columns</p>\n",
       "</div>"
      ],
      "text/plain": [
       "       final.output.concentrate_ag  final.output.concentrate_pb  \\\n",
       "count                 22627.000000                 22629.000000   \n",
       "mean                      4.781559                     9.095308   \n",
       "std                       2.030128                     3.230797   \n",
       "min                       0.000000                     0.000000   \n",
       "25%                       4.018525                     8.750171   \n",
       "50%                       4.953729                     9.914519   \n",
       "75%                       5.862593                    10.929839   \n",
       "max                      16.001945                    17.031899   \n",
       "\n",
       "       final.output.concentrate_sol  final.output.concentrate_au  \\\n",
       "count                  22331.000000                 22630.000000   \n",
       "mean                       8.640317                    40.001172   \n",
       "std                        3.785035                    13.398062   \n",
       "min                        0.000000                     0.000000   \n",
       "25%                        7.116799                    42.383721   \n",
       "50%                        8.908792                    44.653436   \n",
       "75%                       10.705824                    46.111999   \n",
       "max                       19.615720                    53.611374   \n",
       "\n",
       "       final.output.recovery  final.output.tail_ag  final.output.tail_pb  \\\n",
       "count           20753.000000          22633.000000          22516.000000   \n",
       "mean               67.447488              8.923690              2.488252   \n",
       "std                11.616034              3.517917              1.189407   \n",
       "min                 0.000000              0.000000              0.000000   \n",
       "25%                63.282393              7.684016              1.805376   \n",
       "50%                68.322258              9.484369              2.653001   \n",
       "75%                72.950836             11.084557              3.287790   \n",
       "max               100.000000             19.552149              6.086532   \n",
       "\n",
       "       final.output.tail_sol  final.output.tail_au  \\\n",
       "count           22445.000000          22635.000000   \n",
       "mean                9.523632              2.827459   \n",
       "std                 4.079739              1.262834   \n",
       "min                 0.000000              0.000000   \n",
       "25%                 8.143576              2.303108   \n",
       "50%                10.212998              2.913794   \n",
       "75%                11.860824              3.555077   \n",
       "max                22.861749              9.789625   \n",
       "\n",
       "       primary_cleaner.input.sulfate  ...  \\\n",
       "count                   21107.000000  ...   \n",
       "mean                      140.277672  ...   \n",
       "std                        49.919004  ...   \n",
       "min                         0.000003  ...   \n",
       "25%                       110.177081  ...   \n",
       "50%                       141.330501  ...   \n",
       "75%                       174.049914  ...   \n",
       "max                       274.409626  ...   \n",
       "\n",
       "       secondary_cleaner.state.floatbank4_a_air  \\\n",
       "count                              22571.000000   \n",
       "mean                                  18.205125   \n",
       "std                                    6.560700   \n",
       "min                                    0.000000   \n",
       "25%                                   14.095940   \n",
       "50%                                   18.007326   \n",
       "75%                                   22.998194   \n",
       "max                                   60.000000   \n",
       "\n",
       "       secondary_cleaner.state.floatbank4_a_level  \\\n",
       "count                                22587.000000   \n",
       "mean                                  -499.878977   \n",
       "std                                     80.273964   \n",
       "min                                   -799.920713   \n",
       "25%                                   -500.896232   \n",
       "50%                                   -499.917108   \n",
       "75%                                   -498.361545   \n",
       "max                                   -127.692333   \n",
       "\n",
       "       secondary_cleaner.state.floatbank4_b_air  \\\n",
       "count                              22608.000000   \n",
       "mean                                  14.356474   \n",
       "std                                    5.655791   \n",
       "min                                    0.000000   \n",
       "25%                                   10.882675   \n",
       "50%                                   14.947646   \n",
       "75%                                   17.977502   \n",
       "max                                   31.269706   \n",
       "\n",
       "       secondary_cleaner.state.floatbank4_b_level  \\\n",
       "count                                22607.000000   \n",
       "mean                                  -476.532613   \n",
       "std                                     93.822791   \n",
       "min                                   -800.836914   \n",
       "25%                                   -500.309169   \n",
       "50%                                   -499.612292   \n",
       "75%                                   -400.224147   \n",
       "max                                     -6.506986   \n",
       "\n",
       "       secondary_cleaner.state.floatbank5_a_air  \\\n",
       "count                              22615.000000   \n",
       "mean                                  14.883276   \n",
       "std                                    6.372811   \n",
       "min                                   -0.423260   \n",
       "25%                                   10.941299   \n",
       "50%                                   14.859117   \n",
       "75%                                   18.014914   \n",
       "max                                   63.116298   \n",
       "\n",
       "       secondary_cleaner.state.floatbank5_a_level  \\\n",
       "count                                22615.000000   \n",
       "mean                                  -503.323288   \n",
       "std                                     72.925589   \n",
       "min                                   -799.741097   \n",
       "25%                                   -500.628697   \n",
       "50%                                   -499.865158   \n",
       "75%                                   -498.489381   \n",
       "max                                   -244.483566   \n",
       "\n",
       "       secondary_cleaner.state.floatbank5_b_air  \\\n",
       "count                              22615.000000   \n",
       "mean                                  11.626743   \n",
       "std                                    5.757449   \n",
       "min                                    0.427084   \n",
       "25%                                    8.037533   \n",
       "50%                                   10.989756   \n",
       "75%                                   14.001193   \n",
       "max                                   39.846228   \n",
       "\n",
       "       secondary_cleaner.state.floatbank5_b_level  \\\n",
       "count                                22616.000000   \n",
       "mean                                  -500.521502   \n",
       "std                                     78.956292   \n",
       "min                                   -800.258209   \n",
       "25%                                   -500.167897   \n",
       "50%                                   -499.951980   \n",
       "75%                                   -499.492354   \n",
       "max                                   -120.190931   \n",
       "\n",
       "       secondary_cleaner.state.floatbank6_a_air  \\\n",
       "count                              22597.000000   \n",
       "mean                                  17.976810   \n",
       "std                                    6.636203   \n",
       "min                                   -0.079426   \n",
       "25%                                   13.968418   \n",
       "50%                                   18.004215   \n",
       "75%                                   23.009704   \n",
       "max                                   54.876806   \n",
       "\n",
       "       secondary_cleaner.state.floatbank6_a_level  \n",
       "count                                22615.000000  \n",
       "mean                                  -519.361465  \n",
       "std                                     75.477151  \n",
       "min                                   -810.473526  \n",
       "25%                                   -500.981671  \n",
       "50%                                   -500.095463  \n",
       "75%                                   -499.526388  \n",
       "max                                    -29.093593  \n",
       "\n",
       "[8 rows x 86 columns]"
      ]
     },
     "execution_count": 10,
     "metadata": {},
     "output_type": "execute_result"
    }
   ],
   "source": [
    "df_full.describe()"
   ]
  },
  {
   "cell_type": "code",
   "execution_count": 11,
   "metadata": {},
   "outputs": [
    {
     "name": "stdout",
     "output_type": "stream",
     "text": [
      "<class 'pandas.core.frame.DataFrame'>\n",
      "RangeIndex: 22716 entries, 0 to 22715\n",
      "Data columns (total 87 columns):\n",
      "date                                                  22716 non-null object\n",
      "final.output.concentrate_ag                           22627 non-null float64\n",
      "final.output.concentrate_pb                           22629 non-null float64\n",
      "final.output.concentrate_sol                          22331 non-null float64\n",
      "final.output.concentrate_au                           22630 non-null float64\n",
      "final.output.recovery                                 20753 non-null float64\n",
      "final.output.tail_ag                                  22633 non-null float64\n",
      "final.output.tail_pb                                  22516 non-null float64\n",
      "final.output.tail_sol                                 22445 non-null float64\n",
      "final.output.tail_au                                  22635 non-null float64\n",
      "primary_cleaner.input.sulfate                         21107 non-null float64\n",
      "primary_cleaner.input.depressant                      21170 non-null float64\n",
      "primary_cleaner.input.feed_size                       22716 non-null float64\n",
      "primary_cleaner.input.xanthate                        21565 non-null float64\n",
      "primary_cleaner.output.concentrate_ag                 22618 non-null float64\n",
      "primary_cleaner.output.concentrate_pb                 22268 non-null float64\n",
      "primary_cleaner.output.concentrate_sol                21918 non-null float64\n",
      "primary_cleaner.output.concentrate_au                 22618 non-null float64\n",
      "primary_cleaner.output.tail_ag                        22614 non-null float64\n",
      "primary_cleaner.output.tail_pb                        22594 non-null float64\n",
      "primary_cleaner.output.tail_sol                       22365 non-null float64\n",
      "primary_cleaner.output.tail_au                        22617 non-null float64\n",
      "primary_cleaner.state.floatbank8_a_air                22660 non-null float64\n",
      "primary_cleaner.state.floatbank8_a_level              22667 non-null float64\n",
      "primary_cleaner.state.floatbank8_b_air                22660 non-null float64\n",
      "primary_cleaner.state.floatbank8_b_level              22673 non-null float64\n",
      "primary_cleaner.state.floatbank8_c_air                22662 non-null float64\n",
      "primary_cleaner.state.floatbank8_c_level              22673 non-null float64\n",
      "primary_cleaner.state.floatbank8_d_air                22661 non-null float64\n",
      "primary_cleaner.state.floatbank8_d_level              22673 non-null float64\n",
      "rougher.calculation.sulfate_to_au_concentrate         22672 non-null float64\n",
      "rougher.calculation.floatbank10_sulfate_to_au_feed    22672 non-null float64\n",
      "rougher.calculation.floatbank11_sulfate_to_au_feed    22672 non-null float64\n",
      "rougher.calculation.au_pb_ratio                       21089 non-null float64\n",
      "rougher.input.feed_ag                                 22618 non-null float64\n",
      "rougher.input.feed_pb                                 22472 non-null float64\n",
      "rougher.input.feed_rate                               22163 non-null float64\n",
      "rougher.input.feed_size                               22277 non-null float64\n",
      "rougher.input.feed_sol                                22357 non-null float64\n",
      "rougher.input.feed_au                                 22617 non-null float64\n",
      "rougher.input.floatbank10_sulfate                     21415 non-null float64\n",
      "rougher.input.floatbank10_xanthate                    22247 non-null float64\n",
      "rougher.input.floatbank11_sulfate                     22038 non-null float64\n",
      "rougher.input.floatbank11_xanthate                    20459 non-null float64\n",
      "rougher.output.concentrate_ag                         22618 non-null float64\n",
      "rougher.output.concentrate_pb                         22618 non-null float64\n",
      "rougher.output.concentrate_sol                        22526 non-null float64\n",
      "rougher.output.concentrate_au                         22618 non-null float64\n",
      "rougher.output.recovery                               19597 non-null float64\n",
      "rougher.output.tail_ag                                19979 non-null float64\n",
      "rougher.output.tail_pb                                22618 non-null float64\n",
      "rougher.output.tail_sol                               19980 non-null float64\n",
      "rougher.output.tail_au                                19980 non-null float64\n",
      "rougher.state.floatbank10_a_air                       22646 non-null float64\n",
      "rougher.state.floatbank10_a_level                     22647 non-null float64\n",
      "rougher.state.floatbank10_b_air                       22646 non-null float64\n",
      "rougher.state.floatbank10_b_level                     22647 non-null float64\n",
      "rougher.state.floatbank10_c_air                       22646 non-null float64\n",
      "rougher.state.floatbank10_c_level                     22654 non-null float64\n",
      "rougher.state.floatbank10_d_air                       22641 non-null float64\n",
      "rougher.state.floatbank10_d_level                     22649 non-null float64\n",
      "rougher.state.floatbank10_e_air                       22096 non-null float64\n",
      "rougher.state.floatbank10_e_level                     22649 non-null float64\n",
      "rougher.state.floatbank10_f_air                       22641 non-null float64\n",
      "rougher.state.floatbank10_f_level                     22642 non-null float64\n",
      "secondary_cleaner.output.tail_ag                      22616 non-null float64\n",
      "secondary_cleaner.output.tail_pb                      22600 non-null float64\n",
      "secondary_cleaner.output.tail_sol                     20501 non-null float64\n",
      "secondary_cleaner.output.tail_au                      22618 non-null float64\n",
      "secondary_cleaner.state.floatbank2_a_air              22333 non-null float64\n",
      "secondary_cleaner.state.floatbank2_a_level            22591 non-null float64\n",
      "secondary_cleaner.state.floatbank2_b_air              22538 non-null float64\n",
      "secondary_cleaner.state.floatbank2_b_level            22588 non-null float64\n",
      "secondary_cleaner.state.floatbank3_a_air              22585 non-null float64\n",
      "secondary_cleaner.state.floatbank3_a_level            22587 non-null float64\n",
      "secondary_cleaner.state.floatbank3_b_air              22592 non-null float64\n",
      "secondary_cleaner.state.floatbank3_b_level            22590 non-null float64\n",
      "secondary_cleaner.state.floatbank4_a_air              22571 non-null float64\n",
      "secondary_cleaner.state.floatbank4_a_level            22587 non-null float64\n",
      "secondary_cleaner.state.floatbank4_b_air              22608 non-null float64\n",
      "secondary_cleaner.state.floatbank4_b_level            22607 non-null float64\n",
      "secondary_cleaner.state.floatbank5_a_air              22615 non-null float64\n",
      "secondary_cleaner.state.floatbank5_a_level            22615 non-null float64\n",
      "secondary_cleaner.state.floatbank5_b_air              22615 non-null float64\n",
      "secondary_cleaner.state.floatbank5_b_level            22616 non-null float64\n",
      "secondary_cleaner.state.floatbank6_a_air              22597 non-null float64\n",
      "secondary_cleaner.state.floatbank6_a_level            22615 non-null float64\n",
      "dtypes: float64(86), object(1)\n",
      "memory usage: 15.1+ MB\n"
     ]
    }
   ],
   "source": [
    "df_full.info()"
   ]
  },
  {
   "cell_type": "markdown",
   "metadata": {},
   "source": [
    "Missing values present."
   ]
  },
  {
   "cell_type": "markdown",
   "metadata": {},
   "source": [
    "#### Conclusion\n",
    "\n",
    "- Missing values present.\n",
    "- Need to replace date column in each data set to datetime objects.\n",
    "- There are 16860 observations in the train set and 5856 observations in the test set.\n",
    "- There are 87 features in the train set and only 53 features in the test."
   ]
  },
  {
   "cell_type": "markdown",
   "metadata": {},
   "source": [
    "#### Recovery Calculation  <a class=\"anchor\" id=\"recovery\"></a>\n",
    "\n",
    "It's to simulate the process of recovering gold from gold ore.\n",
    "\n",
    "Where: \n",
    "* C — share of gold in the concentrate right after flotation (for finding the rougher concentrate recovery)/after purification (for finding the final concentrate recovery)\n",
    "* F — share of gold in the feed before flotation (for finding the rougher concentrate recovery)/in the concentrate right after flotation (for finding the final concentrate recovery)\n",
    "* T — share of gold in the rougher tails right after flotation (for finding the rougher concentrate recovery)/after purification (for finding the final concentrate recovery)"
   ]
  },
  {
   "cell_type": "markdown",
   "metadata": {},
   "source": [
    "$$Recovery =  \\frac{C*(F-T)}{F*(C-T)}* 100$$"
   ]
  },
  {
   "cell_type": "code",
   "execution_count": 12,
   "metadata": {},
   "outputs": [
    {
     "data": {
      "text/plain": [
       "0        87.107763\n",
       "1        86.843261\n",
       "2        86.842308\n",
       "3        87.226430\n",
       "4        86.688794\n",
       "           ...    \n",
       "16855    89.574376\n",
       "16856    87.724007\n",
       "16857    88.890579\n",
       "16858    89.858126\n",
       "16859    89.514960\n",
       "Length: 16860, dtype: float64"
      ]
     },
     "execution_count": 12,
     "metadata": {},
     "output_type": "execute_result"
    }
   ],
   "source": [
    "C = df_train['rougher.output.concentrate_au']\n",
    "F = df_train['rougher.input.feed_au']\n",
    "T = df_train['rougher.output.tail_au']\n",
    "\n",
    "recovery_calc = ((C*(F-T)) / (F*(C-T)))*100\n",
    "recovery_calc"
   ]
  },
  {
   "cell_type": "code",
   "execution_count": 13,
   "metadata": {},
   "outputs": [
    {
     "data": {
      "text/plain": [
       "9.444891926100695e-15"
      ]
     },
     "execution_count": 13,
     "metadata": {},
     "output_type": "execute_result"
    }
   ],
   "source": [
    "#mae calculation\n",
    "MAE = (recovery_calc - df_train['rougher.output.recovery']).abs().mean()\n",
    "MAE"
   ]
  },
  {
   "cell_type": "markdown",
   "metadata": {},
   "source": [
    "#### Conclusion\n",
    "The MAE value is close to the 'rougher.output.recovery' and the calculations for it where done correctly since MAE value is 0."
   ]
  },
  {
   "cell_type": "markdown",
   "metadata": {},
   "source": [
    "### Data Preprocessing<a class=\"anchor\" id=\"data_pre\"></a>\n"
   ]
  },
  {
   "cell_type": "markdown",
   "metadata": {},
   "source": [
    "#### selecting columns that are present in both train and test"
   ]
  },
  {
   "cell_type": "code",
   "execution_count": 14,
   "metadata": {},
   "outputs": [
    {
     "data": {
      "text/plain": [
       "['date',\n",
       " 'primary_cleaner.input.depressant',\n",
       " 'primary_cleaner.input.feed_size',\n",
       " 'primary_cleaner.input.sulfate',\n",
       " 'primary_cleaner.input.xanthate',\n",
       " 'primary_cleaner.state.floatbank8_a_air',\n",
       " 'primary_cleaner.state.floatbank8_a_level',\n",
       " 'primary_cleaner.state.floatbank8_b_air',\n",
       " 'primary_cleaner.state.floatbank8_b_level',\n",
       " 'primary_cleaner.state.floatbank8_c_air',\n",
       " 'primary_cleaner.state.floatbank8_c_level',\n",
       " 'primary_cleaner.state.floatbank8_d_air',\n",
       " 'primary_cleaner.state.floatbank8_d_level',\n",
       " 'rougher.input.feed_ag',\n",
       " 'rougher.input.feed_au',\n",
       " 'rougher.input.feed_pb',\n",
       " 'rougher.input.feed_rate',\n",
       " 'rougher.input.feed_size',\n",
       " 'rougher.input.feed_sol',\n",
       " 'rougher.input.floatbank10_sulfate',\n",
       " 'rougher.input.floatbank10_xanthate',\n",
       " 'rougher.input.floatbank11_sulfate',\n",
       " 'rougher.input.floatbank11_xanthate',\n",
       " 'rougher.state.floatbank10_a_air',\n",
       " 'rougher.state.floatbank10_a_level',\n",
       " 'rougher.state.floatbank10_b_air',\n",
       " 'rougher.state.floatbank10_b_level',\n",
       " 'rougher.state.floatbank10_c_air',\n",
       " 'rougher.state.floatbank10_c_level',\n",
       " 'rougher.state.floatbank10_d_air',\n",
       " 'rougher.state.floatbank10_d_level',\n",
       " 'rougher.state.floatbank10_e_air',\n",
       " 'rougher.state.floatbank10_e_level',\n",
       " 'rougher.state.floatbank10_f_air',\n",
       " 'rougher.state.floatbank10_f_level',\n",
       " 'secondary_cleaner.state.floatbank2_a_air',\n",
       " 'secondary_cleaner.state.floatbank2_a_level',\n",
       " 'secondary_cleaner.state.floatbank2_b_air',\n",
       " 'secondary_cleaner.state.floatbank2_b_level',\n",
       " 'secondary_cleaner.state.floatbank3_a_air',\n",
       " 'secondary_cleaner.state.floatbank3_a_level',\n",
       " 'secondary_cleaner.state.floatbank3_b_air',\n",
       " 'secondary_cleaner.state.floatbank3_b_level',\n",
       " 'secondary_cleaner.state.floatbank4_a_air',\n",
       " 'secondary_cleaner.state.floatbank4_a_level',\n",
       " 'secondary_cleaner.state.floatbank4_b_air',\n",
       " 'secondary_cleaner.state.floatbank4_b_level',\n",
       " 'secondary_cleaner.state.floatbank5_a_air',\n",
       " 'secondary_cleaner.state.floatbank5_a_level',\n",
       " 'secondary_cleaner.state.floatbank5_b_air',\n",
       " 'secondary_cleaner.state.floatbank5_b_level',\n",
       " 'secondary_cleaner.state.floatbank6_a_air',\n",
       " 'secondary_cleaner.state.floatbank6_a_level']"
      ]
     },
     "execution_count": 14,
     "metadata": {},
     "output_type": "execute_result"
    }
   ],
   "source": [
    "# selecting columns that are present in both train and test\n",
    "train_test_columns =  list(set(df_train.columns).intersection(set(df_test.columns)))\n",
    "train_test_columns.sort()\n",
    "train_test_columns"
   ]
  },
  {
   "cell_type": "code",
   "execution_count": 15,
   "metadata": {},
   "outputs": [
    {
     "data": {
      "text/plain": [
       "['final.output.concentrate_ag',\n",
       " 'final.output.concentrate_au',\n",
       " 'final.output.concentrate_pb',\n",
       " 'final.output.concentrate_sol',\n",
       " 'final.output.recovery',\n",
       " 'final.output.tail_ag',\n",
       " 'final.output.tail_au',\n",
       " 'final.output.tail_pb',\n",
       " 'final.output.tail_sol',\n",
       " 'primary_cleaner.output.concentrate_ag',\n",
       " 'primary_cleaner.output.concentrate_au',\n",
       " 'primary_cleaner.output.concentrate_pb',\n",
       " 'primary_cleaner.output.concentrate_sol',\n",
       " 'primary_cleaner.output.tail_ag',\n",
       " 'primary_cleaner.output.tail_au',\n",
       " 'primary_cleaner.output.tail_pb',\n",
       " 'primary_cleaner.output.tail_sol',\n",
       " 'rougher.calculation.au_pb_ratio',\n",
       " 'rougher.calculation.floatbank10_sulfate_to_au_feed',\n",
       " 'rougher.calculation.floatbank11_sulfate_to_au_feed',\n",
       " 'rougher.calculation.sulfate_to_au_concentrate',\n",
       " 'rougher.output.concentrate_ag',\n",
       " 'rougher.output.concentrate_au',\n",
       " 'rougher.output.concentrate_pb',\n",
       " 'rougher.output.concentrate_sol',\n",
       " 'rougher.output.recovery',\n",
       " 'rougher.output.tail_ag',\n",
       " 'rougher.output.tail_au',\n",
       " 'rougher.output.tail_pb',\n",
       " 'rougher.output.tail_sol',\n",
       " 'secondary_cleaner.output.tail_ag',\n",
       " 'secondary_cleaner.output.tail_au',\n",
       " 'secondary_cleaner.output.tail_pb',\n",
       " 'secondary_cleaner.output.tail_sol']"
      ]
     },
     "execution_count": 15,
     "metadata": {},
     "output_type": "execute_result"
    }
   ],
   "source": [
    "#columns in Train but NOT in Test\n",
    "train_not_test_columns = list(set(df_train.columns)-set(df_test.columns))\n",
    "train_not_test_columns.sort()\n",
    "train_not_test_columns"
   ]
  },
  {
   "cell_type": "markdown",
   "metadata": {},
   "source": [
    "#### Missing Values"
   ]
  },
  {
   "cell_type": "code",
   "execution_count": 16,
   "metadata": {},
   "outputs": [
    {
     "data": {
      "text/plain": [
       "(16860, 87)"
      ]
     },
     "execution_count": 16,
     "metadata": {},
     "output_type": "execute_result"
    }
   ],
   "source": [
    "df_train.shape"
   ]
  },
  {
   "cell_type": "code",
   "execution_count": 17,
   "metadata": {},
   "outputs": [
    {
     "data": {
      "text/plain": [
       "date                                          0.000000\n",
       "final.output.concentrate_ag                   0.004270\n",
       "final.output.concentrate_pb                   0.004270\n",
       "final.output.concentrate_sol                  0.021945\n",
       "final.output.concentrate_au                   0.004211\n",
       "                                                ...   \n",
       "secondary_cleaner.state.floatbank5_a_level    0.005042\n",
       "secondary_cleaner.state.floatbank5_b_air      0.005042\n",
       "secondary_cleaner.state.floatbank5_b_level    0.004982\n",
       "secondary_cleaner.state.floatbank6_a_air      0.006109\n",
       "secondary_cleaner.state.floatbank6_a_level    0.005042\n",
       "Length: 87, dtype: float64"
      ]
     },
     "execution_count": 17,
     "metadata": {},
     "output_type": "execute_result"
    }
   ],
   "source": [
    "# seeing the missing values\n",
    "#missing_col [train_test_columns]\n",
    "df_train.isnull().sum()/df_train.shape[0]"
   ]
  },
  {
   "cell_type": "code",
   "execution_count": 18,
   "metadata": {},
   "outputs": [
    {
     "data": {
      "text/plain": [
       "date                                          0.000000\n",
       "primary_cleaner.input.sulfate                 0.051571\n",
       "primary_cleaner.input.depressant              0.048497\n",
       "primary_cleaner.input.feed_size               0.000000\n",
       "primary_cleaner.input.xanthate                0.028347\n",
       "primary_cleaner.state.floatbank8_a_air        0.002732\n",
       "primary_cleaner.state.floatbank8_a_level      0.002732\n",
       "primary_cleaner.state.floatbank8_b_air        0.002732\n",
       "primary_cleaner.state.floatbank8_b_level      0.002732\n",
       "primary_cleaner.state.floatbank8_c_air        0.002732\n",
       "primary_cleaner.state.floatbank8_c_level      0.002732\n",
       "primary_cleaner.state.floatbank8_d_air        0.002732\n",
       "primary_cleaner.state.floatbank8_d_level      0.002732\n",
       "rougher.input.feed_ag                         0.002732\n",
       "rougher.input.feed_pb                         0.002732\n",
       "rougher.input.feed_rate                       0.006831\n",
       "rougher.input.feed_size                       0.003757\n",
       "rougher.input.feed_sol                        0.011441\n",
       "rougher.input.feed_au                         0.002732\n",
       "rougher.input.floatbank10_sulfate             0.043887\n",
       "rougher.input.floatbank10_xanthate            0.021004\n",
       "rougher.input.floatbank11_sulfate             0.009392\n",
       "rougher.input.floatbank11_xanthate            0.060280\n",
       "rougher.state.floatbank10_a_air               0.002903\n",
       "rougher.state.floatbank10_a_level             0.002732\n",
       "rougher.state.floatbank10_b_air               0.002903\n",
       "rougher.state.floatbank10_b_level             0.002732\n",
       "rougher.state.floatbank10_c_air               0.002903\n",
       "rougher.state.floatbank10_c_level             0.002732\n",
       "rougher.state.floatbank10_d_air               0.002903\n",
       "rougher.state.floatbank10_d_level             0.002732\n",
       "rougher.state.floatbank10_e_air               0.002903\n",
       "rougher.state.floatbank10_e_level             0.002732\n",
       "rougher.state.floatbank10_f_air               0.002903\n",
       "rougher.state.floatbank10_f_level             0.002732\n",
       "secondary_cleaner.state.floatbank2_a_air      0.003415\n",
       "secondary_cleaner.state.floatbank2_a_level    0.002732\n",
       "secondary_cleaner.state.floatbank2_b_air      0.003928\n",
       "secondary_cleaner.state.floatbank2_b_level    0.002732\n",
       "secondary_cleaner.state.floatbank3_a_air      0.005806\n",
       "secondary_cleaner.state.floatbank3_a_level    0.002732\n",
       "secondary_cleaner.state.floatbank3_b_air      0.002732\n",
       "secondary_cleaner.state.floatbank3_b_level    0.002732\n",
       "secondary_cleaner.state.floatbank4_a_air      0.002732\n",
       "secondary_cleaner.state.floatbank4_a_level    0.002732\n",
       "secondary_cleaner.state.floatbank4_b_air      0.002732\n",
       "secondary_cleaner.state.floatbank4_b_level    0.002732\n",
       "secondary_cleaner.state.floatbank5_a_air      0.002732\n",
       "secondary_cleaner.state.floatbank5_a_level    0.002732\n",
       "secondary_cleaner.state.floatbank5_b_air      0.002732\n",
       "secondary_cleaner.state.floatbank5_b_level    0.002732\n",
       "secondary_cleaner.state.floatbank6_a_air      0.002732\n",
       "secondary_cleaner.state.floatbank6_a_level    0.002732\n",
       "dtype: float64"
      ]
     },
     "execution_count": 18,
     "metadata": {},
     "output_type": "execute_result"
    }
   ],
   "source": [
    "df_test.isnull().sum()/df_test.shape[0]"
   ]
  },
  {
   "cell_type": "code",
   "execution_count": 19,
   "metadata": {},
   "outputs": [],
   "source": [
    "# filling in missing values\n",
    "df_test.fillna(method = 'ffill',axis = 0, inplace = True)\n",
    "df_train.fillna(method = 'ffill', axis = 0, inplace = True)\n",
    "df_full.fillna(method = 'ffill', axis = 0, inplace = True)"
   ]
  },
  {
   "cell_type": "code",
   "execution_count": 20,
   "metadata": {},
   "outputs": [],
   "source": [
    "df_test = df_test.merge(df_full[['date', 'final.output.recovery', 'rougher.output.recovery']], \n",
    "                        how='left', on='date')"
   ]
  },
  {
   "cell_type": "code",
   "execution_count": 21,
   "metadata": {},
   "outputs": [
    {
     "data": {
      "text/plain": [
       "date                                          0\n",
       "primary_cleaner.input.sulfate                 0\n",
       "primary_cleaner.input.depressant              0\n",
       "primary_cleaner.input.feed_size               0\n",
       "primary_cleaner.input.xanthate                0\n",
       "primary_cleaner.state.floatbank8_a_air        0\n",
       "primary_cleaner.state.floatbank8_a_level      0\n",
       "primary_cleaner.state.floatbank8_b_air        0\n",
       "primary_cleaner.state.floatbank8_b_level      0\n",
       "primary_cleaner.state.floatbank8_c_air        0\n",
       "primary_cleaner.state.floatbank8_c_level      0\n",
       "primary_cleaner.state.floatbank8_d_air        0\n",
       "primary_cleaner.state.floatbank8_d_level      0\n",
       "rougher.input.feed_ag                         0\n",
       "rougher.input.feed_pb                         0\n",
       "rougher.input.feed_rate                       0\n",
       "rougher.input.feed_size                       0\n",
       "rougher.input.feed_sol                        0\n",
       "rougher.input.feed_au                         0\n",
       "rougher.input.floatbank10_sulfate             0\n",
       "rougher.input.floatbank10_xanthate            0\n",
       "rougher.input.floatbank11_sulfate             0\n",
       "rougher.input.floatbank11_xanthate            0\n",
       "rougher.state.floatbank10_a_air               0\n",
       "rougher.state.floatbank10_a_level             0\n",
       "rougher.state.floatbank10_b_air               0\n",
       "rougher.state.floatbank10_b_level             0\n",
       "rougher.state.floatbank10_c_air               0\n",
       "rougher.state.floatbank10_c_level             0\n",
       "rougher.state.floatbank10_d_air               0\n",
       "rougher.state.floatbank10_d_level             0\n",
       "rougher.state.floatbank10_e_air               0\n",
       "rougher.state.floatbank10_e_level             0\n",
       "rougher.state.floatbank10_f_air               0\n",
       "rougher.state.floatbank10_f_level             0\n",
       "secondary_cleaner.state.floatbank2_a_air      0\n",
       "secondary_cleaner.state.floatbank2_a_level    0\n",
       "secondary_cleaner.state.floatbank2_b_air      0\n",
       "secondary_cleaner.state.floatbank2_b_level    0\n",
       "secondary_cleaner.state.floatbank3_a_air      0\n",
       "secondary_cleaner.state.floatbank3_a_level    0\n",
       "secondary_cleaner.state.floatbank3_b_air      0\n",
       "secondary_cleaner.state.floatbank3_b_level    0\n",
       "secondary_cleaner.state.floatbank4_a_air      0\n",
       "secondary_cleaner.state.floatbank4_a_level    0\n",
       "secondary_cleaner.state.floatbank4_b_air      0\n",
       "secondary_cleaner.state.floatbank4_b_level    0\n",
       "secondary_cleaner.state.floatbank5_a_air      0\n",
       "secondary_cleaner.state.floatbank5_a_level    0\n",
       "secondary_cleaner.state.floatbank5_b_air      0\n",
       "secondary_cleaner.state.floatbank5_b_level    0\n",
       "secondary_cleaner.state.floatbank6_a_air      0\n",
       "secondary_cleaner.state.floatbank6_a_level    0\n",
       "final.output.recovery                         0\n",
       "rougher.output.recovery                       0\n",
       "dtype: int64"
      ]
     },
     "execution_count": 21,
     "metadata": {},
     "output_type": "execute_result"
    }
   ],
   "source": [
    "df_test.isnull().sum()"
   ]
  },
  {
   "cell_type": "code",
   "execution_count": 22,
   "metadata": {},
   "outputs": [],
   "source": [
    "df_train = df_train.dropna()\n",
    "df_test = df_test.dropna()\n",
    "df_full = df_full.dropna()"
   ]
  },
  {
   "cell_type": "code",
   "execution_count": 23,
   "metadata": {},
   "outputs": [
    {
     "data": {
      "text/plain": [
       "date                                          0\n",
       "final.output.concentrate_ag                   0\n",
       "final.output.concentrate_pb                   0\n",
       "final.output.concentrate_sol                  0\n",
       "final.output.concentrate_au                   0\n",
       "                                             ..\n",
       "secondary_cleaner.state.floatbank5_a_level    0\n",
       "secondary_cleaner.state.floatbank5_b_air      0\n",
       "secondary_cleaner.state.floatbank5_b_level    0\n",
       "secondary_cleaner.state.floatbank6_a_air      0\n",
       "secondary_cleaner.state.floatbank6_a_level    0\n",
       "Length: 87, dtype: int64"
      ]
     },
     "execution_count": 23,
     "metadata": {},
     "output_type": "execute_result"
    }
   ],
   "source": [
    "df_train.isnull().sum()"
   ]
  },
  {
   "cell_type": "code",
   "execution_count": 24,
   "metadata": {},
   "outputs": [
    {
     "data": {
      "text/plain": [
       "date                                          0\n",
       "primary_cleaner.input.sulfate                 0\n",
       "primary_cleaner.input.depressant              0\n",
       "primary_cleaner.input.feed_size               0\n",
       "primary_cleaner.input.xanthate                0\n",
       "primary_cleaner.state.floatbank8_a_air        0\n",
       "primary_cleaner.state.floatbank8_a_level      0\n",
       "primary_cleaner.state.floatbank8_b_air        0\n",
       "primary_cleaner.state.floatbank8_b_level      0\n",
       "primary_cleaner.state.floatbank8_c_air        0\n",
       "primary_cleaner.state.floatbank8_c_level      0\n",
       "primary_cleaner.state.floatbank8_d_air        0\n",
       "primary_cleaner.state.floatbank8_d_level      0\n",
       "rougher.input.feed_ag                         0\n",
       "rougher.input.feed_pb                         0\n",
       "rougher.input.feed_rate                       0\n",
       "rougher.input.feed_size                       0\n",
       "rougher.input.feed_sol                        0\n",
       "rougher.input.feed_au                         0\n",
       "rougher.input.floatbank10_sulfate             0\n",
       "rougher.input.floatbank10_xanthate            0\n",
       "rougher.input.floatbank11_sulfate             0\n",
       "rougher.input.floatbank11_xanthate            0\n",
       "rougher.state.floatbank10_a_air               0\n",
       "rougher.state.floatbank10_a_level             0\n",
       "rougher.state.floatbank10_b_air               0\n",
       "rougher.state.floatbank10_b_level             0\n",
       "rougher.state.floatbank10_c_air               0\n",
       "rougher.state.floatbank10_c_level             0\n",
       "rougher.state.floatbank10_d_air               0\n",
       "rougher.state.floatbank10_d_level             0\n",
       "rougher.state.floatbank10_e_air               0\n",
       "rougher.state.floatbank10_e_level             0\n",
       "rougher.state.floatbank10_f_air               0\n",
       "rougher.state.floatbank10_f_level             0\n",
       "secondary_cleaner.state.floatbank2_a_air      0\n",
       "secondary_cleaner.state.floatbank2_a_level    0\n",
       "secondary_cleaner.state.floatbank2_b_air      0\n",
       "secondary_cleaner.state.floatbank2_b_level    0\n",
       "secondary_cleaner.state.floatbank3_a_air      0\n",
       "secondary_cleaner.state.floatbank3_a_level    0\n",
       "secondary_cleaner.state.floatbank3_b_air      0\n",
       "secondary_cleaner.state.floatbank3_b_level    0\n",
       "secondary_cleaner.state.floatbank4_a_air      0\n",
       "secondary_cleaner.state.floatbank4_a_level    0\n",
       "secondary_cleaner.state.floatbank4_b_air      0\n",
       "secondary_cleaner.state.floatbank4_b_level    0\n",
       "secondary_cleaner.state.floatbank5_a_air      0\n",
       "secondary_cleaner.state.floatbank5_a_level    0\n",
       "secondary_cleaner.state.floatbank5_b_air      0\n",
       "secondary_cleaner.state.floatbank5_b_level    0\n",
       "secondary_cleaner.state.floatbank6_a_air      0\n",
       "secondary_cleaner.state.floatbank6_a_level    0\n",
       "final.output.recovery                         0\n",
       "rougher.output.recovery                       0\n",
       "dtype: int64"
      ]
     },
     "execution_count": 24,
     "metadata": {},
     "output_type": "execute_result"
    }
   ],
   "source": [
    "df_test.isnull().sum()"
   ]
  },
  {
   "cell_type": "markdown",
   "metadata": {},
   "source": [
    "#### Duplicates"
   ]
  },
  {
   "cell_type": "code",
   "execution_count": 25,
   "metadata": {},
   "outputs": [
    {
     "data": {
      "text/plain": [
       "0"
      ]
     },
     "execution_count": 25,
     "metadata": {},
     "output_type": "execute_result"
    }
   ],
   "source": [
    "#checking for duplicates\n",
    "df_train.duplicated().sum()"
   ]
  },
  {
   "cell_type": "code",
   "execution_count": 26,
   "metadata": {},
   "outputs": [
    {
     "data": {
      "text/plain": [
       "0"
      ]
     },
     "execution_count": 26,
     "metadata": {},
     "output_type": "execute_result"
    }
   ],
   "source": [
    "#checking for duplicates\n",
    "df_test.duplicated().sum()"
   ]
  },
  {
   "cell_type": "markdown",
   "metadata": {},
   "source": [
    "####  Data type conversion"
   ]
  },
  {
   "cell_type": "code",
   "execution_count": 27,
   "metadata": {},
   "outputs": [],
   "source": [
    "#converting date to datetime\n",
    "df_full['date'] = pd.to_datetime(df_full.date)\n",
    "df_full.sort_values('date',inplace=True)\n",
    "df_train['date'] = pd.to_datetime(df_train.date)\n",
    "df_train.sort_values('date',inplace=True)\n",
    "df_test['date'] = pd.to_datetime(df_test.date)\n",
    "df_test.sort_values('date',inplace=True)"
   ]
  },
  {
   "cell_type": "markdown",
   "metadata": {},
   "source": [
    "### Analyze the data<a class=\"anchor\" id=\"analyze\"></a>\n",
    "\n",
    "Let's see how the concentrations of metals (Au, Ag, Pb) change depending on the purification stage.\n"
   ]
  },
  {
   "cell_type": "code",
   "execution_count": 28,
   "metadata": {},
   "outputs": [],
   "source": [
    "au = ['rougher.output.concentrate_au', 'primary_cleaner.output.concentrate_au', 'secondary_cleaner.output.tail_au','final.output.concentrate_au']\n",
    "ag = ['rougher.output.concentrate_ag', 'primary_cleaner.output.concentrate_ag', 'secondary_cleaner.output.tail_ag','final.output.concentrate_ag']\n",
    "pb = ['rougher.output.concentrate_pb', 'primary_cleaner.output.concentrate_pb', 'secondary_cleaner.output.tail_pb','final.output.concentrate_pb']\n",
    "\n",
    "def plot_stages(df, element):\n",
    "    for stage in element:\n",
    "        df[stage].plot(kind='hist', bins = 70, legend=True, alpha=0.5)\n",
    "        plt.xlabel(\"Concentration\")\n",
    "        plt.ylim(0,2500)\n"
   ]
  },
  {
   "cell_type": "code",
   "execution_count": 29,
   "metadata": {},
   "outputs": [
    {
     "data": {
      "text/plain": [
       "Text(0.5, 1.0, 'Metal Au')"
      ]
     },
     "execution_count": 29,
     "metadata": {},
     "output_type": "execute_result"
    },
    {
     "data": {
      "image/png": "[encoded data removed]",
      "text/plain": [
       "<Figure size 800x400 with 1 Axes>"
      ]
     },
     "metadata": {
      "needs_background": "light"
     },
     "output_type": "display_data"
    }
   ],
   "source": [
    "from matplotlib.pyplot import figure\n",
    "figure(figsize=(10, 5), dpi=80)\n",
    "plot_stages(df_train, au)\n",
    "plt.title('Metal Au')"
   ]
  },
  {
   "cell_type": "code",
   "execution_count": 30,
   "metadata": {},
   "outputs": [
    {
     "data": {
      "text/plain": [
       "Text(0.5, 1.0, 'Metal Ag')"
      ]
     },
     "execution_count": 30,
     "metadata": {},
     "output_type": "execute_result"
    },
    {
     "data": {
      "image/png": "[encoded data removed]",
      "text/plain": [
       "<Figure size 800x400 with 1 Axes>"
      ]
     },
     "metadata": {
      "needs_background": "light"
     },
     "output_type": "display_data"
    }
   ],
   "source": [
    "figure(figsize=(10, 5), dpi=80)\n",
    "plot_stages(df_train, ag)\n",
    "plt.title('Metal Ag')"
   ]
  },
  {
   "cell_type": "code",
   "execution_count": 31,
   "metadata": {},
   "outputs": [
    {
     "data": {
      "text/plain": [
       "Text(0.5, 1.0, 'Metal Pb')"
      ]
     },
     "execution_count": 31,
     "metadata": {},
     "output_type": "execute_result"
    },
    {
     "data": {
      "image/png": "[encoded data removed]",
      "text/plain": [
       "<Figure size 800x400 with 1 Axes>"
      ]
     },
     "metadata": {
      "needs_background": "light"
     },
     "output_type": "display_data"
    }
   ],
   "source": [
    "figure(figsize=(10, 5), dpi=80)\n",
    "plot_stages(df_train, pb)\n",
    "plt.title('Metal Pb')"
   ]
  },
  {
   "cell_type": "markdown",
   "metadata": {},
   "source": [
    "- Metal Au(gold) concentration is higher after the purification stages and retains more metal. The secondary stage did not seem useful for the concentration. \n",
    "- Metal Ag(Silver) has a lower concentration. The more it purified the less metal we get. The secondary stage does not show much help in improvement.\n",
    "- Metal Pb(Lead) shows there is slight improvement after the primary stage and the final concentration. The secondary stage seems to show no improvement. "
   ]
  },
  {
   "cell_type": "markdown",
   "metadata": {},
   "source": [
    "#### Comparing feed particle size distributions\n",
    "\n",
    "Compare the feed particle size distributions in the training set and in the test set through analysis."
   ]
  },
  {
   "cell_type": "code",
   "execution_count": 32,
   "metadata": {},
   "outputs": [
    {
     "data": {
      "text/plain": [
       "Text(0, 0.5, 'frequency')"
      ]
     },
     "execution_count": 32,
     "metadata": {},
     "output_type": "execute_result"
    },
    {
     "data": {
      "image/png": "[encoded data removed]",
      "text/plain": [
       "<Figure size 432x288 with 1 Axes>"
      ]
     },
     "metadata": {
      "needs_background": "light"
     },
     "output_type": "display_data"
    }
   ],
   "source": [
    "df_train['rougher.input.feed_size'].hist(label = 'Training set feed size distribution', alpha = 0.5, bins = 50, density = True)\n",
    "df_test['rougher.input.feed_size'].hist(label= 'Testing set feed size distribution', alpha = 0.5, bins = 50, density = True)\n",
    "plt.legend()\n",
    "plt.xlabel(\"Feed Particle Size\")\n",
    "plt.ylabel(\"frequency\")"
   ]
  },
  {
   "cell_type": "markdown",
   "metadata": {},
   "source": [
    "The distrubution looks similar with each other."
   ]
  },
  {
   "cell_type": "markdown",
   "metadata": {},
   "source": [
    "#### Compare the total concentrations of all substances at different stages\n",
    "\n",
    "- raw feed,\n",
    "- rougher concentrate,\n",
    "- final concentrate\n"
   ]
  },
  {
   "cell_type": "code",
   "execution_count": 33,
   "metadata": {},
   "outputs": [
    {
     "data": {
      "image/png": "[encoded data removed]",
      "text/plain": [
       "<Figure size 432x288 with 1 Axes>"
      ]
     },
     "metadata": {
      "needs_background": "light"
     },
     "output_type": "display_data"
    }
   ],
   "source": [
    "df_full['total.rougher.input.feed'] = df_full[['rougher.input.feed_ag', 'rougher.input.feed_pb', 'rougher.input.feed_au']].sum(axis=1)\n",
    "df_full['total.rougher.input.feed'].hist(bins = 50, grid = False)\n",
    "plt.xlabel('total.rougher.input.feed')\n",
    "plt.ylabel('frequency')\n",
    "plt.title(\"Distribution of total concentration of raw feed\");"
   ]
  },
  {
   "cell_type": "code",
   "execution_count": 34,
   "metadata": {},
   "outputs": [
    {
     "data": {
      "image/png": "[encoded data removed]",
      "text/plain": [
       "<Figure size 432x288 with 1 Axes>"
      ]
     },
     "metadata": {
      "needs_background": "light"
     },
     "output_type": "display_data"
    }
   ],
   "source": [
    "df_full['total.rougher.output.concentrate'] = df_full[['rougher.output.concentrate_ag', 'rougher.output.concentrate_pb', 'rougher.output.concentrate_au']].sum(axis=1)\n",
    "df_full['total.rougher.output.concentrate'].hist(bins = 40, grid = False)\n",
    "plt.xlabel('total.rougher.output.concentrate')\n",
    "plt.ylabel('frequency')\n",
    "plt.title(\"Distribution of total rougher concentrate\");"
   ]
  },
  {
   "cell_type": "code",
   "execution_count": 35,
   "metadata": {},
   "outputs": [
    {
     "data": {
      "image/png": "[encoded data removed]",
      "text/plain": [
       "<Figure size 432x288 with 1 Axes>"
      ]
     },
     "metadata": {
      "needs_background": "light"
     },
     "output_type": "display_data"
    }
   ],
   "source": [
    "df_full['total.final.output.concentrate'] = df_full[['final.output.concentrate_ag', 'final.output.concentrate_pb', 'final.output.concentrate_au']].sum(axis=1)\n",
    "df_full['total.final.output.concentrate'].hist(bins = 40, grid = False)\n",
    "plt.xlabel('total.final.output.concentrate')\n",
    "plt.ylabel('frequency')\n",
    "plt.title(\"Distribution of total final concentrate\");"
   ]
  },
  {
   "cell_type": "markdown",
   "metadata": {},
   "source": [
    "- The distribution for raw feed shows that it is right skewed with outliers present.\n",
    "- The distribution for rougher concentrate shows that there is a left tail of outliers present.\n",
    "- The final concentrate shows there are outliers present.\n",
    "- For all distributions there seems to be a large amrount of outliers present at 0 which need to be removed."
   ]
  },
  {
   "cell_type": "markdown",
   "metadata": {},
   "source": [
    "#### Outlier removal"
   ]
  },
  {
   "cell_type": "code",
   "execution_count": 36,
   "metadata": {},
   "outputs": [],
   "source": [
    "#remove outlier and for IQR\n",
    "def remove_outlier(df_fill, col_name):\n",
    "    q1 = df_fill[col_name].quantile(0.25)\n",
    "    q3 = df_fill[col_name].quantile(0.75)\n",
    "    iqr = q3-q1 #Interquartile range\n",
    "    lower_limit = q1 - 1.5*iqr\n",
    "    upper_limit = q3 + 1.5*iqr\n",
    "    df_final = df_fill.loc[(df_fill[col_name] > lower_limit) & (df_fill[col_name] < upper_limit)]\n",
    "    return df_final"
   ]
  },
  {
   "cell_type": "code",
   "execution_count": 37,
   "metadata": {},
   "outputs": [],
   "source": [
    "# Selecting parameter to remove outler for price\n",
    "df_new_full = remove_outlier(df_full, 'total.rougher.input.feed')\n",
    "df_new_full = remove_outlier(df_full,'total.rougher.output.concentrate')\n",
    "df_new_full = remove_outlier(df_full,'total.final.output.concentrate')"
   ]
  },
  {
   "cell_type": "code",
   "execution_count": 38,
   "metadata": {},
   "outputs": [
    {
     "data": {
      "image/png": "[encoded data removed]",
      "text/plain": [
       "<Figure size 1152x576 with 4 Axes>"
      ]
     },
     "metadata": {
      "needs_background": "light"
     },
     "output_type": "display_data"
    }
   ],
   "source": [
    "#subplot or ogrinal vs outlier removed graph\n",
    "plt.figure(figsize=(16,8))\n",
    "plt.subplot(2,2,1)\n",
    "sns.distplot(df_full['total.rougher.input.feed'])\n",
    "plt.subplot(2,2,2)\n",
    "sns.boxplot(df_full['total.rougher.input.feed'])\n",
    "plt.subplot(2,2,3)\n",
    "sns.distplot(df_new_full['total.rougher.input.feed'])\n",
    "plt.subplot(2,2,4)\n",
    "sns.boxplot(df_new_full['total.rougher.input.feed'])\n",
    "plt.show()"
   ]
  },
  {
   "cell_type": "code",
   "execution_count": 39,
   "metadata": {},
   "outputs": [
    {
     "data": {
      "image/png": "[encoded data removed]",
      "text/plain": [
       "<Figure size 1152x576 with 4 Axes>"
      ]
     },
     "metadata": {
      "needs_background": "light"
     },
     "output_type": "display_data"
    }
   ],
   "source": [
    "#subplot or ogrinal vs outlier removed graph\n",
    "plt.figure(figsize=(16,8))\n",
    "plt.subplot(2,2,1)\n",
    "sns.distplot(df_full['total.rougher.output.concentrate'])\n",
    "plt.subplot(2,2,2)\n",
    "sns.boxplot(df_full['total.rougher.output.concentrate'])\n",
    "plt.subplot(2,2,3)\n",
    "sns.distplot(df_new_full['total.rougher.output.concentrate'])\n",
    "plt.subplot(2,2,4)\n",
    "sns.boxplot(df_new_full['total.rougher.output.concentrate'])\n",
    "plt.show()"
   ]
  },
  {
   "cell_type": "code",
   "execution_count": 40,
   "metadata": {},
   "outputs": [
    {
     "data": {
      "image/png": "[encoded data removed]",
      "text/plain": [
       "<Figure size 1152x576 with 4 Axes>"
      ]
     },
     "metadata": {
      "needs_background": "light"
     },
     "output_type": "display_data"
    }
   ],
   "source": [
    "#subplot or ogrinal vs outlier removed graph\n",
    "plt.figure(figsize=(16,8))\n",
    "plt.subplot(2,2,1)\n",
    "sns.distplot(df_full['total.final.output.concentrate'])\n",
    "plt.subplot(2,2,2)\n",
    "sns.boxplot(df_full['total.final.output.concentrate'])\n",
    "plt.subplot(2,2,3)\n",
    "sns.distplot(df_new_full['total.final.output.concentrate'])\n",
    "plt.subplot(2,2,4)\n",
    "sns.boxplot(df_new_full['total.final.output.concentrate'])\n",
    "plt.show()"
   ]
  },
  {
   "cell_type": "markdown",
   "metadata": {},
   "source": [
    "We have removed the outliers present, but now we have to handel the removal of training and testing set outliers. To do so we will use the new full data set which we removied outliers room to split into training and testing sets."
   ]
  },
  {
   "cell_type": "code",
   "execution_count": 41,
   "metadata": {},
   "outputs": [],
   "source": [
    "# make date column the index in dataset\n",
    "df_new_full.set_index('date', inplace=True)\n",
    "df_train.set_index('date', inplace=True)\n",
    "df_test.set_index('date', inplace=True)"
   ]
  },
  {
   "cell_type": "code",
   "execution_count": 42,
   "metadata": {},
   "outputs": [
    {
     "data": {
      "text/plain": [
       "(14357,)"
      ]
     },
     "execution_count": 42,
     "metadata": {},
     "output_type": "execute_result"
    }
   ],
   "source": [
    "# index of train set in full dataset\n",
    "df_train_index = df_new_full.index.intersection(df_train.index)\n",
    "df_train_index.shape"
   ]
  },
  {
   "cell_type": "code",
   "execution_count": 43,
   "metadata": {},
   "outputs": [
    {
     "data": {
      "text/html": [
       "<div>\n",
       "<style scoped>\n",
       "    .dataframe tbody tr th:only-of-type {\n",
       "        vertical-align: middle;\n",
       "    }\n",
       "\n",
       "    .dataframe tbody tr th {\n",
       "        vertical-align: top;\n",
       "    }\n",
       "\n",
       "    .dataframe thead th {\n",
       "        text-align: right;\n",
       "    }\n",
       "</style>\n",
       "<table border=\"1\" class=\"dataframe\">\n",
       "  <thead>\n",
       "    <tr style=\"text-align: right;\">\n",
       "      <th></th>\n",
       "      <th>date</th>\n",
       "      <th>final.output.concentrate_ag</th>\n",
       "      <th>final.output.concentrate_pb</th>\n",
       "      <th>final.output.concentrate_sol</th>\n",
       "      <th>final.output.concentrate_au</th>\n",
       "      <th>final.output.recovery</th>\n",
       "      <th>final.output.tail_ag</th>\n",
       "      <th>final.output.tail_pb</th>\n",
       "      <th>final.output.tail_sol</th>\n",
       "      <th>final.output.tail_au</th>\n",
       "      <th>...</th>\n",
       "      <th>secondary_cleaner.state.floatbank4_b_level</th>\n",
       "      <th>secondary_cleaner.state.floatbank5_a_air</th>\n",
       "      <th>secondary_cleaner.state.floatbank5_a_level</th>\n",
       "      <th>secondary_cleaner.state.floatbank5_b_air</th>\n",
       "      <th>secondary_cleaner.state.floatbank5_b_level</th>\n",
       "      <th>secondary_cleaner.state.floatbank6_a_air</th>\n",
       "      <th>secondary_cleaner.state.floatbank6_a_level</th>\n",
       "      <th>total.rougher.input.feed</th>\n",
       "      <th>total.rougher.output.concentrate</th>\n",
       "      <th>total.final.output.concentrate</th>\n",
       "    </tr>\n",
       "  </thead>\n",
       "  <tbody>\n",
       "    <tr>\n",
       "      <td>0</td>\n",
       "      <td>2016-01-15 00:00:00</td>\n",
       "      <td>6.055403</td>\n",
       "      <td>9.889648</td>\n",
       "      <td>5.507324</td>\n",
       "      <td>42.192020</td>\n",
       "      <td>70.541216</td>\n",
       "      <td>10.411962</td>\n",
       "      <td>0.895447</td>\n",
       "      <td>16.904297</td>\n",
       "      <td>2.143149</td>\n",
       "      <td>...</td>\n",
       "      <td>-504.715942</td>\n",
       "      <td>9.925633</td>\n",
       "      <td>-498.310211</td>\n",
       "      <td>8.079666</td>\n",
       "      <td>-500.470978</td>\n",
       "      <td>14.151341</td>\n",
       "      <td>-605.841980</td>\n",
       "      <td>14.871440</td>\n",
       "      <td>38.395653</td>\n",
       "      <td>58.137072</td>\n",
       "    </tr>\n",
       "    <tr>\n",
       "      <td>1</td>\n",
       "      <td>2016-01-15 01:00:00</td>\n",
       "      <td>6.029369</td>\n",
       "      <td>9.968944</td>\n",
       "      <td>5.257781</td>\n",
       "      <td>42.701629</td>\n",
       "      <td>69.266198</td>\n",
       "      <td>10.462676</td>\n",
       "      <td>0.927452</td>\n",
       "      <td>16.634514</td>\n",
       "      <td>2.224930</td>\n",
       "      <td>...</td>\n",
       "      <td>-501.331529</td>\n",
       "      <td>10.039245</td>\n",
       "      <td>-500.169983</td>\n",
       "      <td>7.984757</td>\n",
       "      <td>-500.582168</td>\n",
       "      <td>13.998353</td>\n",
       "      <td>-599.787184</td>\n",
       "      <td>14.905729</td>\n",
       "      <td>38.945647</td>\n",
       "      <td>58.699942</td>\n",
       "    </tr>\n",
       "    <tr>\n",
       "      <td>2</td>\n",
       "      <td>2016-01-15 02:00:00</td>\n",
       "      <td>6.055926</td>\n",
       "      <td>10.213995</td>\n",
       "      <td>5.383759</td>\n",
       "      <td>42.657501</td>\n",
       "      <td>68.116445</td>\n",
       "      <td>10.507046</td>\n",
       "      <td>0.953716</td>\n",
       "      <td>16.208849</td>\n",
       "      <td>2.257889</td>\n",
       "      <td>...</td>\n",
       "      <td>-501.133383</td>\n",
       "      <td>10.070913</td>\n",
       "      <td>-500.129135</td>\n",
       "      <td>8.013877</td>\n",
       "      <td>-500.517572</td>\n",
       "      <td>14.028663</td>\n",
       "      <td>-601.427363</td>\n",
       "      <td>14.638299</td>\n",
       "      <td>38.649756</td>\n",
       "      <td>58.927421</td>\n",
       "    </tr>\n",
       "    <tr>\n",
       "      <td>3</td>\n",
       "      <td>2016-01-15 03:00:00</td>\n",
       "      <td>6.047977</td>\n",
       "      <td>9.977019</td>\n",
       "      <td>4.858634</td>\n",
       "      <td>42.689819</td>\n",
       "      <td>68.347543</td>\n",
       "      <td>10.422762</td>\n",
       "      <td>0.883763</td>\n",
       "      <td>16.532835</td>\n",
       "      <td>2.146849</td>\n",
       "      <td>...</td>\n",
       "      <td>-501.193686</td>\n",
       "      <td>9.970366</td>\n",
       "      <td>-499.201640</td>\n",
       "      <td>7.977324</td>\n",
       "      <td>-500.255908</td>\n",
       "      <td>14.005551</td>\n",
       "      <td>-599.996129</td>\n",
       "      <td>14.199305</td>\n",
       "      <td>38.411473</td>\n",
       "      <td>58.714815</td>\n",
       "    </tr>\n",
       "    <tr>\n",
       "      <td>4</td>\n",
       "      <td>2016-01-15 04:00:00</td>\n",
       "      <td>6.148599</td>\n",
       "      <td>10.142511</td>\n",
       "      <td>4.939416</td>\n",
       "      <td>42.774141</td>\n",
       "      <td>66.927016</td>\n",
       "      <td>10.360302</td>\n",
       "      <td>0.792826</td>\n",
       "      <td>16.525686</td>\n",
       "      <td>2.055292</td>\n",
       "      <td>...</td>\n",
       "      <td>-501.053894</td>\n",
       "      <td>9.925709</td>\n",
       "      <td>-501.686727</td>\n",
       "      <td>7.894242</td>\n",
       "      <td>-500.356035</td>\n",
       "      <td>13.996647</td>\n",
       "      <td>-601.496691</td>\n",
       "      <td>13.511497</td>\n",
       "      <td>38.867359</td>\n",
       "      <td>59.065251</td>\n",
       "    </tr>\n",
       "  </tbody>\n",
       "</table>\n",
       "<p>5 rows × 90 columns</p>\n",
       "</div>"
      ],
      "text/plain": [
       "                 date  final.output.concentrate_ag  \\\n",
       "0 2016-01-15 00:00:00                     6.055403   \n",
       "1 2016-01-15 01:00:00                     6.029369   \n",
       "2 2016-01-15 02:00:00                     6.055926   \n",
       "3 2016-01-15 03:00:00                     6.047977   \n",
       "4 2016-01-15 04:00:00                     6.148599   \n",
       "\n",
       "   final.output.concentrate_pb  final.output.concentrate_sol  \\\n",
       "0                     9.889648                      5.507324   \n",
       "1                     9.968944                      5.257781   \n",
       "2                    10.213995                      5.383759   \n",
       "3                     9.977019                      4.858634   \n",
       "4                    10.142511                      4.939416   \n",
       "\n",
       "   final.output.concentrate_au  final.output.recovery  final.output.tail_ag  \\\n",
       "0                    42.192020              70.541216             10.411962   \n",
       "1                    42.701629              69.266198             10.462676   \n",
       "2                    42.657501              68.116445             10.507046   \n",
       "3                    42.689819              68.347543             10.422762   \n",
       "4                    42.774141              66.927016             10.360302   \n",
       "\n",
       "   final.output.tail_pb  final.output.tail_sol  final.output.tail_au  ...  \\\n",
       "0              0.895447              16.904297              2.143149  ...   \n",
       "1              0.927452              16.634514              2.224930  ...   \n",
       "2              0.953716              16.208849              2.257889  ...   \n",
       "3              0.883763              16.532835              2.146849  ...   \n",
       "4              0.792826              16.525686              2.055292  ...   \n",
       "\n",
       "   secondary_cleaner.state.floatbank4_b_level  \\\n",
       "0                                 -504.715942   \n",
       "1                                 -501.331529   \n",
       "2                                 -501.133383   \n",
       "3                                 -501.193686   \n",
       "4                                 -501.053894   \n",
       "\n",
       "   secondary_cleaner.state.floatbank5_a_air  \\\n",
       "0                                  9.925633   \n",
       "1                                 10.039245   \n",
       "2                                 10.070913   \n",
       "3                                  9.970366   \n",
       "4                                  9.925709   \n",
       "\n",
       "   secondary_cleaner.state.floatbank5_a_level  \\\n",
       "0                                 -498.310211   \n",
       "1                                 -500.169983   \n",
       "2                                 -500.129135   \n",
       "3                                 -499.201640   \n",
       "4                                 -501.686727   \n",
       "\n",
       "   secondary_cleaner.state.floatbank5_b_air  \\\n",
       "0                                  8.079666   \n",
       "1                                  7.984757   \n",
       "2                                  8.013877   \n",
       "3                                  7.977324   \n",
       "4                                  7.894242   \n",
       "\n",
       "   secondary_cleaner.state.floatbank5_b_level  \\\n",
       "0                                 -500.470978   \n",
       "1                                 -500.582168   \n",
       "2                                 -500.517572   \n",
       "3                                 -500.255908   \n",
       "4                                 -500.356035   \n",
       "\n",
       "   secondary_cleaner.state.floatbank6_a_air  \\\n",
       "0                                 14.151341   \n",
       "1                                 13.998353   \n",
       "2                                 14.028663   \n",
       "3                                 14.005551   \n",
       "4                                 13.996647   \n",
       "\n",
       "   secondary_cleaner.state.floatbank6_a_level  total.rougher.input.feed  \\\n",
       "0                                 -605.841980                 14.871440   \n",
       "1                                 -599.787184                 14.905729   \n",
       "2                                 -601.427363                 14.638299   \n",
       "3                                 -599.996129                 14.199305   \n",
       "4                                 -601.496691                 13.511497   \n",
       "\n",
       "   total.rougher.output.concentrate  total.final.output.concentrate  \n",
       "0                         38.395653                       58.137072  \n",
       "1                         38.945647                       58.699942  \n",
       "2                         38.649756                       58.927421  \n",
       "3                         38.411473                       58.714815  \n",
       "4                         38.867359                       59.065251  \n",
       "\n",
       "[5 rows x 90 columns]"
      ]
     },
     "execution_count": 43,
     "metadata": {},
     "output_type": "execute_result"
    }
   ],
   "source": [
    "# new train dataset\n",
    "df_new_train = df_new_full.loc[df_train_index]\n",
    "df_new_train.reset_index(inplace=True)\n",
    "df_new_train.head()"
   ]
  },
  {
   "cell_type": "code",
   "execution_count": 44,
   "metadata": {},
   "outputs": [
    {
     "data": {
      "text/plain": [
       "(5110,)"
      ]
     },
     "execution_count": 44,
     "metadata": {},
     "output_type": "execute_result"
    }
   ],
   "source": [
    "# index of test set in full dataset\n",
    "df_test_index = df_new_full.index.intersection(df_test.index)\n",
    "df_test_index.shape"
   ]
  },
  {
   "cell_type": "code",
   "execution_count": 45,
   "metadata": {},
   "outputs": [
    {
     "data": {
      "text/html": [
       "<div>\n",
       "<style scoped>\n",
       "    .dataframe tbody tr th:only-of-type {\n",
       "        vertical-align: middle;\n",
       "    }\n",
       "\n",
       "    .dataframe tbody tr th {\n",
       "        vertical-align: top;\n",
       "    }\n",
       "\n",
       "    .dataframe thead th {\n",
       "        text-align: right;\n",
       "    }\n",
       "</style>\n",
       "<table border=\"1\" class=\"dataframe\">\n",
       "  <thead>\n",
       "    <tr style=\"text-align: right;\">\n",
       "      <th></th>\n",
       "      <th>date</th>\n",
       "      <th>final.output.concentrate_ag</th>\n",
       "      <th>final.output.concentrate_pb</th>\n",
       "      <th>final.output.concentrate_sol</th>\n",
       "      <th>final.output.concentrate_au</th>\n",
       "      <th>final.output.recovery</th>\n",
       "      <th>final.output.tail_ag</th>\n",
       "      <th>final.output.tail_pb</th>\n",
       "      <th>final.output.tail_sol</th>\n",
       "      <th>final.output.tail_au</th>\n",
       "      <th>...</th>\n",
       "      <th>secondary_cleaner.state.floatbank4_b_level</th>\n",
       "      <th>secondary_cleaner.state.floatbank5_a_air</th>\n",
       "      <th>secondary_cleaner.state.floatbank5_a_level</th>\n",
       "      <th>secondary_cleaner.state.floatbank5_b_air</th>\n",
       "      <th>secondary_cleaner.state.floatbank5_b_level</th>\n",
       "      <th>secondary_cleaner.state.floatbank6_a_air</th>\n",
       "      <th>secondary_cleaner.state.floatbank6_a_level</th>\n",
       "      <th>total.rougher.input.feed</th>\n",
       "      <th>total.rougher.output.concentrate</th>\n",
       "      <th>total.final.output.concentrate</th>\n",
       "    </tr>\n",
       "  </thead>\n",
       "  <tbody>\n",
       "    <tr>\n",
       "      <td>0</td>\n",
       "      <td>2016-09-01 00:59:59</td>\n",
       "      <td>7.578381</td>\n",
       "      <td>10.466295</td>\n",
       "      <td>11.990938</td>\n",
       "      <td>40.743891</td>\n",
       "      <td>70.273583</td>\n",
       "      <td>12.688885</td>\n",
       "      <td>3.844413</td>\n",
       "      <td>11.075686</td>\n",
       "      <td>4.537988</td>\n",
       "      <td>...</td>\n",
       "      <td>-501.289139</td>\n",
       "      <td>7.946562</td>\n",
       "      <td>-432.317850</td>\n",
       "      <td>4.872511</td>\n",
       "      <td>-500.037437</td>\n",
       "      <td>26.705889</td>\n",
       "      <td>-499.709414</td>\n",
       "      <td>30.849382</td>\n",
       "      <td>46.147906</td>\n",
       "      <td>58.788566</td>\n",
       "    </tr>\n",
       "    <tr>\n",
       "      <td>1</td>\n",
       "      <td>2016-09-01 01:59:59</td>\n",
       "      <td>7.813838</td>\n",
       "      <td>10.581152</td>\n",
       "      <td>12.216172</td>\n",
       "      <td>39.604292</td>\n",
       "      <td>68.910432</td>\n",
       "      <td>12.829171</td>\n",
       "      <td>3.918901</td>\n",
       "      <td>11.132824</td>\n",
       "      <td>4.675117</td>\n",
       "      <td>...</td>\n",
       "      <td>-499.634209</td>\n",
       "      <td>7.958270</td>\n",
       "      <td>-525.839648</td>\n",
       "      <td>4.878850</td>\n",
       "      <td>-500.162375</td>\n",
       "      <td>25.019940</td>\n",
       "      <td>-499.819438</td>\n",
       "      <td>30.481322</td>\n",
       "      <td>46.914165</td>\n",
       "      <td>57.999282</td>\n",
       "    </tr>\n",
       "    <tr>\n",
       "      <td>2</td>\n",
       "      <td>2016-09-01 02:59:59</td>\n",
       "      <td>7.623392</td>\n",
       "      <td>10.424024</td>\n",
       "      <td>12.313710</td>\n",
       "      <td>40.724190</td>\n",
       "      <td>68.143213</td>\n",
       "      <td>12.977846</td>\n",
       "      <td>4.026561</td>\n",
       "      <td>10.990134</td>\n",
       "      <td>4.828907</td>\n",
       "      <td>...</td>\n",
       "      <td>-500.827423</td>\n",
       "      <td>8.071056</td>\n",
       "      <td>-500.801673</td>\n",
       "      <td>4.905125</td>\n",
       "      <td>-499.828510</td>\n",
       "      <td>24.994862</td>\n",
       "      <td>-500.622559</td>\n",
       "      <td>30.656305</td>\n",
       "      <td>45.489926</td>\n",
       "      <td>58.771605</td>\n",
       "    </tr>\n",
       "    <tr>\n",
       "      <td>3</td>\n",
       "      <td>2016-09-01 03:59:59</td>\n",
       "      <td>8.552457</td>\n",
       "      <td>10.503229</td>\n",
       "      <td>13.074570</td>\n",
       "      <td>39.290997</td>\n",
       "      <td>67.776393</td>\n",
       "      <td>12.451947</td>\n",
       "      <td>3.780702</td>\n",
       "      <td>11.155935</td>\n",
       "      <td>4.969620</td>\n",
       "      <td>...</td>\n",
       "      <td>-499.474407</td>\n",
       "      <td>7.897085</td>\n",
       "      <td>-500.868509</td>\n",
       "      <td>4.931400</td>\n",
       "      <td>-499.963623</td>\n",
       "      <td>24.948919</td>\n",
       "      <td>-498.709987</td>\n",
       "      <td>29.696862</td>\n",
       "      <td>46.559998</td>\n",
       "      <td>58.346683</td>\n",
       "    </tr>\n",
       "    <tr>\n",
       "      <td>4</td>\n",
       "      <td>2016-09-01 04:59:59</td>\n",
       "      <td>8.078781</td>\n",
       "      <td>10.222788</td>\n",
       "      <td>12.475427</td>\n",
       "      <td>40.254524</td>\n",
       "      <td>61.467078</td>\n",
       "      <td>11.827846</td>\n",
       "      <td>3.632272</td>\n",
       "      <td>11.403663</td>\n",
       "      <td>5.256806</td>\n",
       "      <td>...</td>\n",
       "      <td>-500.397500</td>\n",
       "      <td>8.107890</td>\n",
       "      <td>-509.526725</td>\n",
       "      <td>4.957674</td>\n",
       "      <td>-500.360026</td>\n",
       "      <td>25.003331</td>\n",
       "      <td>-500.856333</td>\n",
       "      <td>27.385235</td>\n",
       "      <td>46.269598</td>\n",
       "      <td>58.556092</td>\n",
       "    </tr>\n",
       "  </tbody>\n",
       "</table>\n",
       "<p>5 rows × 90 columns</p>\n",
       "</div>"
      ],
      "text/plain": [
       "                 date  final.output.concentrate_ag  \\\n",
       "0 2016-09-01 00:59:59                     7.578381   \n",
       "1 2016-09-01 01:59:59                     7.813838   \n",
       "2 2016-09-01 02:59:59                     7.623392   \n",
       "3 2016-09-01 03:59:59                     8.552457   \n",
       "4 2016-09-01 04:59:59                     8.078781   \n",
       "\n",
       "   final.output.concentrate_pb  final.output.concentrate_sol  \\\n",
       "0                    10.466295                     11.990938   \n",
       "1                    10.581152                     12.216172   \n",
       "2                    10.424024                     12.313710   \n",
       "3                    10.503229                     13.074570   \n",
       "4                    10.222788                     12.475427   \n",
       "\n",
       "   final.output.concentrate_au  final.output.recovery  final.output.tail_ag  \\\n",
       "0                    40.743891              70.273583             12.688885   \n",
       "1                    39.604292              68.910432             12.829171   \n",
       "2                    40.724190              68.143213             12.977846   \n",
       "3                    39.290997              67.776393             12.451947   \n",
       "4                    40.254524              61.467078             11.827846   \n",
       "\n",
       "   final.output.tail_pb  final.output.tail_sol  final.output.tail_au  ...  \\\n",
       "0              3.844413              11.075686              4.537988  ...   \n",
       "1              3.918901              11.132824              4.675117  ...   \n",
       "2              4.026561              10.990134              4.828907  ...   \n",
       "3              3.780702              11.155935              4.969620  ...   \n",
       "4              3.632272              11.403663              5.256806  ...   \n",
       "\n",
       "   secondary_cleaner.state.floatbank4_b_level  \\\n",
       "0                                 -501.289139   \n",
       "1                                 -499.634209   \n",
       "2                                 -500.827423   \n",
       "3                                 -499.474407   \n",
       "4                                 -500.397500   \n",
       "\n",
       "   secondary_cleaner.state.floatbank5_a_air  \\\n",
       "0                                  7.946562   \n",
       "1                                  7.958270   \n",
       "2                                  8.071056   \n",
       "3                                  7.897085   \n",
       "4                                  8.107890   \n",
       "\n",
       "   secondary_cleaner.state.floatbank5_a_level  \\\n",
       "0                                 -432.317850   \n",
       "1                                 -525.839648   \n",
       "2                                 -500.801673   \n",
       "3                                 -500.868509   \n",
       "4                                 -509.526725   \n",
       "\n",
       "   secondary_cleaner.state.floatbank5_b_air  \\\n",
       "0                                  4.872511   \n",
       "1                                  4.878850   \n",
       "2                                  4.905125   \n",
       "3                                  4.931400   \n",
       "4                                  4.957674   \n",
       "\n",
       "   secondary_cleaner.state.floatbank5_b_level  \\\n",
       "0                                 -500.037437   \n",
       "1                                 -500.162375   \n",
       "2                                 -499.828510   \n",
       "3                                 -499.963623   \n",
       "4                                 -500.360026   \n",
       "\n",
       "   secondary_cleaner.state.floatbank6_a_air  \\\n",
       "0                                 26.705889   \n",
       "1                                 25.019940   \n",
       "2                                 24.994862   \n",
       "3                                 24.948919   \n",
       "4                                 25.003331   \n",
       "\n",
       "   secondary_cleaner.state.floatbank6_a_level  total.rougher.input.feed  \\\n",
       "0                                 -499.709414                 30.849382   \n",
       "1                                 -499.819438                 30.481322   \n",
       "2                                 -500.622559                 30.656305   \n",
       "3                                 -498.709987                 29.696862   \n",
       "4                                 -500.856333                 27.385235   \n",
       "\n",
       "   total.rougher.output.concentrate  total.final.output.concentrate  \n",
       "0                         46.147906                       58.788566  \n",
       "1                         46.914165                       57.999282  \n",
       "2                         45.489926                       58.771605  \n",
       "3                         46.559998                       58.346683  \n",
       "4                         46.269598                       58.556092  \n",
       "\n",
       "[5 rows x 90 columns]"
      ]
     },
     "execution_count": 45,
     "metadata": {},
     "output_type": "execute_result"
    }
   ],
   "source": [
    "# new test dataset\n",
    "df_new_test= df_new_full.loc[df_test_index]\n",
    "df_new_test.reset_index(inplace=True)\n",
    "df_new_test.head()"
   ]
  },
  {
   "cell_type": "markdown",
   "metadata": {},
   "source": [
    "### Build the model<a class=\"anchor\" id=\"build\"></a>\n"
   ]
  },
  {
   "cell_type": "markdown",
   "metadata": {},
   "source": [
    "#### sMAPE \n",
    "\n",
    "sMAPE is a new evaluation metric. It is called sMAPE, symmetric Mean Absolute Percentage Error. It is similar to MAE, but is expressed in relative values instead of absolute ones. Why is it symmetrical? It equally takes into account the scale of both the target and the prediction.\n",
    "\n",
    "- We need to predict two values:\n",
    "    * rougher concentrate recovery rougher.output.recovery\n",
    "    * final concentrate recovery final.output.recovery\n",
    "\n",
    "Denotations: \n",
    "\n",
    "$$y_i$$ \n",
    "* Value of target for the observation with the i index in the sample used to measure quality.\n",
    "$$\\hat{y_i}$$ \n",
    "* Value of prediction for the observation with the i index, for example, in the test sample.\n",
    "$$N$$\n",
    "* Number of observations in the sample.\n",
    "$$\\sum_{i=1}^{N} $$\n",
    "* Summation over all observations of the sample (i takes values from 1 to N).\n",
    "\n",
    "Here’s how sMAPE is calculated:\n",
    "\n",
    "$$sMAPE = \\frac{1}{N} \\sum_{i=1}^{N} (\\frac{|y_i-\\hat{y_i}|}{(|y_i|+\\hat{|y_i|})/2})*100\\%$$\n",
    "\n",
    "\n",
    "\n",
    "The final metric includes the two values:\n",
    "$$Final sMAPE = 25\\% * sMAPE(rougher) + 75\\% * sMAPE(Final)$$"
   ]
  },
  {
   "cell_type": "markdown",
   "metadata": {},
   "source": [
    "#### Function for smape and final smape"
   ]
  },
  {
   "cell_type": "code",
   "execution_count": 56,
   "metadata": {},
   "outputs": [],
   "source": [
    "# function to calculate sMAPE value.\n",
    "def smape(target, predictions):\n",
    "    return (np.abs(target - predictions)/((np.abs(target) + np.abs(predictions))/2)).mean()\n",
    "\n",
    "# function to calculate the final_smape \n",
    "def final_smape(target, prediction):\n",
    "    rough = smape(target[:,0], prediction[:,0])\n",
    "    final = smape(target[:,1], prediction[:,1])\n",
    "    return (0.25 * rough + 0.75 * final)\n",
    "#create scorer\n",
    "smape_score = make_scorer(final_smape, greater_is_better = False)"
   ]
  },
  {
   "cell_type": "markdown",
   "metadata": {},
   "source": [
    "#### Training and Testing model"
   ]
  },
  {
   "cell_type": "code",
   "execution_count": 57,
   "metadata": {},
   "outputs": [],
   "source": [
    "# declaring the target and features variable\n",
    "features_train = df_new_train.drop(['date','rougher.output.recovery', 'final.output.recovery'], axis=1)\n",
    "target_train = df_new_train[['rougher.output.recovery', 'final.output.recovery']].values\n",
    "features_test = df_new_test.drop(['date','rougher.output.recovery', 'final.output.recovery'], axis=1)\n",
    "target_test = df_new_test[['rougher.output.recovery', 'final.output.recovery']].values\n",
    "\n",
    "# features scaling\n",
    "scaler = StandardScaler()\n",
    "features_train = scaler.fit_transform(features_train)\n",
    "features_test  = scaler.transform(features_test)"
   ]
  },
  {
   "cell_type": "markdown",
   "metadata": {},
   "source": [
    "#### Sanity Check"
   ]
  },
  {
   "cell_type": "code",
   "execution_count": 58,
   "metadata": {},
   "outputs": [
    {
     "data": {
      "text/plain": [
       "0.08863396949938634"
      ]
     },
     "execution_count": 58,
     "metadata": {},
     "output_type": "execute_result"
    }
   ],
   "source": [
    "# baseline model using a dummy model regressor\n",
    "dummy_model = DummyRegressor(strategy=\"mean\")\n",
    "dummy_model.fit(features_train, target_train)\n",
    "dummy_pred = dummy_model.predict(features_test)\n",
    "final_smape(target_test, dummy_pred)\n"
   ]
  },
  {
   "cell_type": "markdown",
   "metadata": {},
   "source": [
    "Our baseline for our final sMAPE is 8.86% we can try other models and try to improve this score."
   ]
  },
  {
   "cell_type": "markdown",
   "metadata": {},
   "source": [
    "#### Random Forest "
   ]
  },
  {
   "cell_type": "code",
   "execution_count": 59,
   "metadata": {},
   "outputs": [
    {
     "name": "stdout",
     "output_type": "stream",
     "text": [
      "The final sMAPE is: 8.06%\n"
     ]
    }
   ],
   "source": [
    "random_forest = RandomForestRegressor(random_state=12345)\n",
    "random_params = {\n",
    "    'n_estimators':range(10,50,100),\n",
    "    'max_depth': range(2,7)\n",
    "}\n",
    "rf_result = GridSearchCV(random_forest, random_params,scoring=smape_score)\n",
    "rf_result.fit(features_train, target_train)\n",
    "rf_predictions = rf_result.predict(features_test)\n",
    "print('The final sMAPE is: {:.2%}'.format(final_smape(target_test,rf_predictions )))"
   ]
  },
  {
   "cell_type": "markdown",
   "metadata": {},
   "source": [
    "#### Linear Regression"
   ]
  },
  {
   "cell_type": "code",
   "execution_count": 60,
   "metadata": {},
   "outputs": [
    {
     "name": "stdout",
     "output_type": "stream",
     "text": [
      "Mean smape:  -6.08%\n",
      "The sMAPE range of values are:  [-0.05566152 -0.04054052 -0.06396623 -0.0836606  -0.06024311]\n",
      "The final sMAPE score is: 4.49%\n"
     ]
    }
   ],
   "source": [
    "lr_regr = LinearRegression()\n",
    "lr_regr.fit(features_train, target_train) # train the model \n",
    "lr_regr_test_predictions = lr_regr.predict(features_test)\n",
    "\n",
    "cv_score_lr = cross_val_score(lr_regr, features_train, target_train, cv=5, scoring=smape_score)\n",
    "print('Mean smape:  {:.2%}'.format(cv_score_lr.mean()))\n",
    "print('The sMAPE range of values are: ', cv_score_lr)\n",
    "print('The final sMAPE score is: {:.2%}'.format(final_smape(target_test, lr_regr_test_predictions)))\n",
    "\n"
   ]
  },
  {
   "cell_type": "markdown",
   "metadata": {},
   "source": [
    "#### Decision Tree"
   ]
  },
  {
   "cell_type": "code",
   "execution_count": 61,
   "metadata": {},
   "outputs": [
    {
     "name": "stdout",
     "output_type": "stream",
     "text": [
      "Max depth: 1, Mean sMAPE: -11.4381%\n",
      "Max depth: 2, Mean sMAPE: -11.3693%\n",
      "Max depth: 8, Mean sMAPE: nan%\n",
      "Max depth: 15, Mean sMAPE: nan%\n"
     ]
    }
   ],
   "source": [
    "# define the cross validation scheme\n",
    "for i in [1, 2, 8, 15]:\n",
    "    dt = DecisionTreeRegressor(max_depth = i, random_state = 12345)\n",
    "    dt.fit(features_train, target_train)\n",
    "    scores_dt = cross_val_score(dt, features_train, target_train, cv=5, scoring=smape_score)\n",
    "    print('Max depth: ' + str(i) + ', Mean sMAPE: {:.4%}'.format(scores_dt.mean()))"
   ]
  },
  {
   "cell_type": "code",
   "execution_count": 62,
   "metadata": {},
   "outputs": [
    {
     "name": "stdout",
     "output_type": "stream",
     "text": [
      "The best hyperparameters are: {'max_depth': 1}\n"
     ]
    }
   ],
   "source": [
    "# define hyperparameters to tune\n",
    "parameters= {\n",
    "    \"max_depth\" : [1, 2, 8, 15]\n",
    "    }\n",
    "# define the model\n",
    "dt_regressor = DecisionTreeRegressor()\n",
    "\n",
    "grid_search_dt = GridSearchCV(dt_regressor, parameters, scoring=smape_score)\n",
    "grid_search_dt.fit(features_train, target_train)\n",
    "# summarize result\n",
    "print('The best hyperparameters are: {}'.format(grid_search_dt.best_params_))"
   ]
  },
  {
   "cell_type": "code",
   "execution_count": 63,
   "metadata": {},
   "outputs": [],
   "source": [
    "# decision tree regressor model to compute evalu metric\n",
    "def decision_tree_regressor(X_train, y_train, X_test, y_test):\n",
    "    dt_model = DecisionTreeRegressor(**grid_search_dt.best_params_)\n",
    "    dt_model.fit(X_train, y_train) \n",
    "    dt_test_predictions = dt_model.predict(X_test)\n",
    "    print('The final sMAPE is: {:.2%}'.format(final_smape(target_test, dt_test_predictions)))"
   ]
  },
  {
   "cell_type": "code",
   "execution_count": 64,
   "metadata": {},
   "outputs": [
    {
     "name": "stdout",
     "output_type": "stream",
     "text": [
      "The final sMAPE is: 8.41%\n"
     ]
    }
   ],
   "source": [
    "# final sMAPE for decision tree regressor\n",
    "decision_tree_regressor(features_train, target_train, features_test, target_test)"
   ]
  },
  {
   "cell_type": "markdown",
   "metadata": {},
   "source": [
    "#### Lasso"
   ]
  },
  {
   "cell_type": "code",
   "execution_count": 65,
   "metadata": {},
   "outputs": [
    {
     "name": "stdout",
     "output_type": "stream",
     "text": [
      "The final sMAPE is: 3.35%\n"
     ]
    }
   ],
   "source": [
    "lasso = Lasso(random_state=12345)\n",
    "alpha = [0.001, 0.01, 0.1, 1, 10, 100, 1000]\n",
    "lasso_params = dict(alpha=alpha)\n",
    "lasso_result = GridSearchCV(lasso, lasso_params,scoring=smape_score,refit='SMAPE',n_jobs=-1)\n",
    "lasso_result.fit(features_train, target_train) \n",
    "pred_train_lasso= lasso_result.predict(features_test)\n",
    "print('The final sMAPE is: {:.2%}'.format(final_smape(target_test, pred_train_lasso)))"
   ]
  },
  {
   "cell_type": "markdown",
   "metadata": {},
   "source": [
    "### Conclusion<a class=\"anchor\" id=\"con\"></a>\n"
   ]
  },
  {
   "cell_type": "markdown",
   "metadata": {},
   "source": [
    "We were successfully able to prepare a prototype of a machine learning model to help the company develops efficient solutions for heavy industry. \n",
    "\n",
    "We data preprocessed and removed all missing and we then proceeded to calculate the recovery for the 'rougher.output.recovery' feature using the training set. We computed the mean absolute error between the calculated value and feature values and found the MAE to be 9.444891926100695e-15 which is 0.\n",
    "\n",
    "In addition, we took note of how the concentrations of metals (Au, Ag, Pb) change depending on the purification stage. And found how Au has a higher concentration after purification stages, and ag has the lowest concentration. Pb has a higher concentration than Ag. Furthermore, we analyzed the data and looked into the total concentrations of all substances at different stages: raw feed, rougher concentrate, and final concentrate. From there we found some abnormal values in the total distribution and removed them from the data. \n",
    "\n",
    "\n",
    "During the training and testing stages, we were able to implement different models and evaluate them using cross-validation models. We created a sMape function to help calulate our final values. The models used includes Random Forest Regressor, Decision Tree Regression, Linear Regression, and Lasso. Our baseline model was 8.86 and from computing our final sMAPE we found the models to have these values: \n",
    "\n",
    "* Random Forest Regressor: 8.06\n",
    "* Linear Regression: 4.49\n",
    "* Descision Tree Regressor: 8.41\n",
    "* Lasso: 3.35\n",
    "\n",
    "We found the best model to be lasso and secound is linear regression since Lower MAPE values are better. Overall, with  this model was able to predict the amount of gold recovered and optimize gold production."
   ]
  }
 ],
 "metadata": {
  "ExecuteTimeLog": [
   {
    "duration": 107,
    "start_time": "2022-01-10T21:05:56.748Z"
   },
   {
    "duration": 1111,
    "start_time": "2022-01-10T21:06:32.143Z"
   },
   {
    "duration": 1009,
    "start_time": "2022-01-10T21:06:39.890Z"
   },
   {
    "duration": 19,
    "start_time": "2022-01-10T21:06:46.949Z"
   },
   {
    "duration": 210,
    "start_time": "2022-01-10T21:06:56.704Z"
   },
   {
    "duration": 15,
    "start_time": "2022-01-10T21:07:05.864Z"
   },
   {
    "duration": 22,
    "start_time": "2022-01-10T21:07:30.823Z"
   },
   {
    "duration": 113,
    "start_time": "2022-01-10T21:07:39.748Z"
   },
   {
    "duration": 11,
    "start_time": "2022-01-10T21:07:46.626Z"
   },
   {
    "duration": 16,
    "start_time": "2022-01-10T21:08:06.024Z"
   },
   {
    "duration": 224,
    "start_time": "2022-01-10T21:08:13.283Z"
   },
   {
    "duration": 16,
    "start_time": "2022-01-10T21:08:20.762Z"
   },
   {
    "duration": 124,
    "start_time": "2022-01-10T21:08:32.382Z"
   },
   {
    "duration": 103,
    "start_time": "2022-01-10T21:08:58.701Z"
   },
   {
    "duration": 3,
    "start_time": "2022-01-10T21:09:09.770Z"
   },
   {
    "duration": 10,
    "start_time": "2022-01-10T21:09:26.131Z"
   },
   {
    "duration": 6,
    "start_time": "2022-01-10T21:09:37.363Z"
   },
   {
    "duration": 10,
    "start_time": "2022-01-10T21:09:48.733Z"
   },
   {
    "duration": 5,
    "start_time": "2022-01-10T23:07:02.251Z"
   },
   {
    "duration": 5,
    "start_time": "2022-01-10T23:10:19.886Z"
   },
   {
    "duration": 4,
    "start_time": "2022-01-10T23:10:43.312Z"
   },
   {
    "duration": 17,
    "start_time": "2022-01-10T23:10:49.116Z"
   },
   {
    "duration": 12,
    "start_time": "2022-01-10T23:10:59.126Z"
   },
   {
    "duration": 8,
    "start_time": "2022-01-10T23:11:05.485Z"
   },
   {
    "duration": 32,
    "start_time": "2022-01-10T23:11:13.979Z"
   },
   {
    "duration": 130,
    "start_time": "2022-01-10T23:11:29.110Z"
   },
   {
    "duration": 35,
    "start_time": "2022-01-10T23:11:37.894Z"
   },
   {
    "duration": 43,
    "start_time": "2022-01-10T23:11:43.015Z"
   },
   {
    "duration": 6,
    "start_time": "2022-01-10T23:11:52.478Z"
   },
   {
    "duration": 65,
    "start_time": "2022-01-10T23:12:00.780Z"
   },
   {
    "duration": 26,
    "start_time": "2022-01-10T23:12:06.580Z"
   },
   {
    "duration": 15,
    "start_time": "2022-01-10T23:23:38.583Z"
   },
   {
    "duration": 14,
    "start_time": "2022-01-10T23:23:44.168Z"
   },
   {
    "duration": 14,
    "start_time": "2022-01-10T23:23:48.706Z"
   },
   {
    "duration": 32,
    "start_time": "2022-01-10T23:24:34.532Z"
   },
   {
    "duration": 441,
    "start_time": "2022-01-10T23:34:20.005Z"
   },
   {
    "duration": 3,
    "start_time": "2022-01-10T23:34:25.597Z"
   },
   {
    "duration": 3,
    "start_time": "2022-01-10T23:34:32.447Z"
   },
   {
    "duration": 4,
    "start_time": "2022-01-10T23:34:42.670Z"
   },
   {
    "duration": 2,
    "start_time": "2022-01-10T23:43:06.398Z"
   },
   {
    "duration": 8363,
    "start_time": "2022-01-11T02:18:42.692Z"
   },
   {
    "duration": 1115,
    "start_time": "2022-01-11T02:19:29.523Z"
   },
   {
    "duration": 1019,
    "start_time": "2022-01-11T02:19:30.640Z"
   },
   {
    "duration": 21,
    "start_time": "2022-01-11T02:19:31.661Z"
   },
   {
    "duration": 223,
    "start_time": "2022-01-11T02:19:31.684Z"
   },
   {
    "duration": 22,
    "start_time": "2022-01-11T02:19:31.908Z"
   },
   {
    "duration": 16,
    "start_time": "2022-01-11T02:19:31.931Z"
   },
   {
    "duration": 123,
    "start_time": "2022-01-11T02:19:31.949Z"
   },
   {
    "duration": 9,
    "start_time": "2022-01-11T02:19:32.073Z"
   },
   {
    "duration": 19,
    "start_time": "2022-01-11T02:19:32.084Z"
   },
   {
    "duration": 244,
    "start_time": "2022-01-11T02:19:32.105Z"
   },
   {
    "duration": 16,
    "start_time": "2022-01-11T02:19:32.350Z"
   },
   {
    "duration": 10,
    "start_time": "2022-01-11T02:19:32.368Z"
   },
   {
    "duration": 16,
    "start_time": "2022-01-11T02:19:32.380Z"
   },
   {
    "duration": 7,
    "start_time": "2022-01-11T02:19:32.398Z"
   },
   {
    "duration": 25,
    "start_time": "2022-01-11T02:19:32.406Z"
   },
   {
    "duration": 8,
    "start_time": "2022-01-11T02:19:32.433Z"
   },
   {
    "duration": 23,
    "start_time": "2022-01-11T02:19:32.443Z"
   },
   {
    "duration": 24,
    "start_time": "2022-01-11T02:19:32.467Z"
   },
   {
    "duration": 13,
    "start_time": "2022-01-11T02:19:32.493Z"
   },
   {
    "duration": 14,
    "start_time": "2022-01-11T02:19:32.508Z"
   },
   {
    "duration": 7,
    "start_time": "2022-01-11T02:19:32.524Z"
   },
   {
    "duration": 46,
    "start_time": "2022-01-11T02:19:32.532Z"
   },
   {
    "duration": 135,
    "start_time": "2022-01-11T02:19:32.579Z"
   },
   {
    "duration": 442,
    "start_time": "2022-01-11T02:19:32.716Z"
   },
   {
    "duration": -130,
    "start_time": "2022-01-11T02:19:33.289Z"
   },
   {
    "duration": -133,
    "start_time": "2022-01-11T02:19:33.293Z"
   },
   {
    "duration": -140,
    "start_time": "2022-01-11T02:19:33.301Z"
   },
   {
    "duration": -148,
    "start_time": "2022-01-11T02:19:33.310Z"
   },
   {
    "duration": 1497,
    "start_time": "2022-01-11T20:03:55.485Z"
   },
   {
    "duration": 1839,
    "start_time": "2022-01-11T20:03:57.132Z"
   },
   {
    "duration": 34,
    "start_time": "2022-01-11T20:03:59.577Z"
   },
   {
    "duration": 374,
    "start_time": "2022-01-11T20:04:02.026Z"
   },
   {
    "duration": 25,
    "start_time": "2022-01-11T20:04:04.250Z"
   },
   {
    "duration": 33,
    "start_time": "2022-01-11T20:04:07.734Z"
   },
   {
    "duration": 230,
    "start_time": "2022-01-11T20:04:10.246Z"
   },
   {
    "duration": 18,
    "start_time": "2022-01-11T20:04:12.667Z"
   },
   {
    "duration": 32,
    "start_time": "2022-01-11T20:04:15.278Z"
   },
   {
    "duration": 402,
    "start_time": "2022-01-11T20:04:17.138Z"
   },
   {
    "duration": 22,
    "start_time": "2022-01-11T20:04:22.683Z"
   },
   {
    "duration": 11,
    "start_time": "2022-01-11T20:04:28.133Z"
   },
   {
    "duration": 861,
    "start_time": "2022-01-11T20:05:21.632Z"
   },
   {
    "duration": 88,
    "start_time": "2022-01-11T20:05:47.143Z"
   },
   {
    "duration": 649,
    "start_time": "2022-01-11T20:05:56.136Z"
   },
   {
    "duration": 10,
    "start_time": "2022-01-11T20:06:09.725Z"
   },
   {
    "duration": 335,
    "start_time": "2022-01-11T20:06:12.186Z"
   },
   {
    "duration": 1101,
    "start_time": "2022-01-11T20:06:59.767Z"
   },
   {
    "duration": 17655,
    "start_time": "2022-01-11T20:07:09.277Z"
   },
   {
    "duration": 8,
    "start_time": "2022-01-11T20:08:21.208Z"
   },
   {
    "duration": 8,
    "start_time": "2022-01-11T20:09:10.716Z"
   },
   {
    "duration": 13,
    "start_time": "2022-01-11T20:19:41.369Z"
   },
   {
    "duration": 11,
    "start_time": "2022-01-11T20:19:43.297Z"
   },
   {
    "duration": 14,
    "start_time": "2022-01-11T20:19:46.683Z"
   },
   {
    "duration": 7,
    "start_time": "2022-01-11T20:21:43.078Z"
   },
   {
    "duration": 6,
    "start_time": "2022-01-11T20:21:51.318Z"
   },
   {
    "duration": 5,
    "start_time": "2022-01-11T20:21:57.703Z"
   },
   {
    "duration": 19,
    "start_time": "2022-01-11T20:22:01.611Z"
   },
   {
    "duration": 15,
    "start_time": "2022-01-11T20:22:24.652Z"
   },
   {
    "duration": 12,
    "start_time": "2022-01-11T20:22:26.084Z"
   },
   {
    "duration": 60,
    "start_time": "2022-01-11T20:22:51.220Z"
   },
   {
    "duration": 343,
    "start_time": "2022-01-11T20:22:59.199Z"
   },
   {
    "duration": 241,
    "start_time": "2022-01-11T20:23:19.237Z"
   },
   {
    "duration": 230,
    "start_time": "2022-01-11T20:23:45.668Z"
   },
   {
    "duration": 231,
    "start_time": "2022-01-11T20:23:51.105Z"
   },
   {
    "duration": 426,
    "start_time": "2022-01-11T20:30:50.406Z"
   },
   {
    "duration": 1708,
    "start_time": "2022-01-11T20:31:01.683Z"
   },
   {
    "duration": 1416,
    "start_time": "2022-01-11T20:31:03.393Z"
   },
   {
    "duration": 35,
    "start_time": "2022-01-11T20:31:04.812Z"
   },
   {
    "duration": 426,
    "start_time": "2022-01-11T20:31:04.849Z"
   },
   {
    "duration": 24,
    "start_time": "2022-01-11T20:31:05.278Z"
   },
   {
    "duration": 31,
    "start_time": "2022-01-11T20:31:05.305Z"
   },
   {
    "duration": 222,
    "start_time": "2022-01-11T20:31:05.364Z"
   },
   {
    "duration": 16,
    "start_time": "2022-01-11T20:31:05.588Z"
   },
   {
    "duration": 56,
    "start_time": "2022-01-11T20:31:05.609Z"
   },
   {
    "duration": 414,
    "start_time": "2022-01-11T20:31:05.668Z"
   },
   {
    "duration": 27,
    "start_time": "2022-01-11T20:31:06.084Z"
   },
   {
    "duration": 16,
    "start_time": "2022-01-11T20:31:06.114Z"
   },
   {
    "duration": 528,
    "start_time": "2022-01-11T20:31:06.133Z"
   },
   {
    "duration": -436,
    "start_time": "2022-01-11T20:31:07.100Z"
   },
   {
    "duration": -444,
    "start_time": "2022-01-11T20:31:07.109Z"
   },
   {
    "duration": -456,
    "start_time": "2022-01-11T20:31:07.123Z"
   },
   {
    "duration": -459,
    "start_time": "2022-01-11T20:31:07.127Z"
   },
   {
    "duration": -462,
    "start_time": "2022-01-11T20:31:07.132Z"
   },
   {
    "duration": -464,
    "start_time": "2022-01-11T20:31:07.135Z"
   },
   {
    "duration": -532,
    "start_time": "2022-01-11T20:31:07.204Z"
   },
   {
    "duration": -600,
    "start_time": "2022-01-11T20:31:07.274Z"
   },
   {
    "duration": -602,
    "start_time": "2022-01-11T20:31:07.277Z"
   },
   {
    "duration": -604,
    "start_time": "2022-01-11T20:31:07.280Z"
   },
   {
    "duration": -605,
    "start_time": "2022-01-11T20:31:07.283Z"
   },
   {
    "duration": -608,
    "start_time": "2022-01-11T20:31:07.287Z"
   },
   {
    "duration": -608,
    "start_time": "2022-01-11T20:31:07.289Z"
   },
   {
    "duration": -610,
    "start_time": "2022-01-11T20:31:07.292Z"
   },
   {
    "duration": -610,
    "start_time": "2022-01-11T20:31:07.294Z"
   },
   {
    "duration": -611,
    "start_time": "2022-01-11T20:31:07.296Z"
   },
   {
    "duration": -613,
    "start_time": "2022-01-11T20:31:07.299Z"
   },
   {
    "duration": 3,
    "start_time": "2022-01-11T20:31:18.413Z"
   },
   {
    "duration": 3,
    "start_time": "2022-01-11T20:31:21.579Z"
   },
   {
    "duration": 8,
    "start_time": "2022-01-11T20:31:21.585Z"
   },
   {
    "duration": 15,
    "start_time": "2022-01-11T20:31:21.598Z"
   },
   {
    "duration": 10,
    "start_time": "2022-01-11T20:31:21.617Z"
   },
   {
    "duration": 15,
    "start_time": "2022-01-11T20:31:21.664Z"
   },
   {
    "duration": 7,
    "start_time": "2022-01-11T20:31:21.682Z"
   },
   {
    "duration": 7,
    "start_time": "2022-01-11T20:31:21.691Z"
   },
   {
    "duration": 6,
    "start_time": "2022-01-11T20:31:21.700Z"
   },
   {
    "duration": 65,
    "start_time": "2022-01-11T20:31:21.708Z"
   },
   {
    "duration": 15,
    "start_time": "2022-01-11T20:31:21.776Z"
   },
   {
    "duration": 11,
    "start_time": "2022-01-11T20:31:21.794Z"
   },
   {
    "duration": 90,
    "start_time": "2022-01-11T20:31:21.807Z"
   },
   {
    "duration": 265,
    "start_time": "2022-01-11T20:31:21.900Z"
   },
   {
    "duration": 406,
    "start_time": "2022-01-11T20:31:22.168Z"
   },
   {
    "duration": -112,
    "start_time": "2022-01-11T20:31:22.689Z"
   },
   {
    "duration": -115,
    "start_time": "2022-01-11T20:31:22.694Z"
   },
   {
    "duration": -290,
    "start_time": "2022-01-11T20:31:22.871Z"
   },
   {
    "duration": -294,
    "start_time": "2022-01-11T20:31:22.877Z"
   },
   {
    "duration": 60,
    "start_time": "2022-01-11T20:31:48.910Z"
   },
   {
    "duration": 249,
    "start_time": "2022-01-11T20:31:51.516Z"
   },
   {
    "duration": 317,
    "start_time": "2022-01-11T20:31:55.983Z"
   },
   {
    "duration": 50,
    "start_time": "2022-01-11T20:32:15.327Z"
   },
   {
    "duration": 557,
    "start_time": "2022-01-11T20:32:19.640Z"
   },
   {
    "duration": 50,
    "start_time": "2022-01-11T20:33:00.036Z"
   },
   {
    "duration": 238,
    "start_time": "2022-01-11T20:33:02.390Z"
   },
   {
    "duration": 307,
    "start_time": "2022-01-11T20:33:04.602Z"
   },
   {
    "duration": 353,
    "start_time": "2022-01-11T20:33:54.773Z"
   },
   {
    "duration": 1492,
    "start_time": "2022-01-11T20:34:39.095Z"
   },
   {
    "duration": 1282,
    "start_time": "2022-01-11T20:34:40.590Z"
   },
   {
    "duration": 48,
    "start_time": "2022-01-11T20:34:41.875Z"
   },
   {
    "duration": 437,
    "start_time": "2022-01-11T20:34:41.927Z"
   },
   {
    "duration": 28,
    "start_time": "2022-01-11T20:34:42.367Z"
   },
   {
    "duration": 31,
    "start_time": "2022-01-11T20:34:42.397Z"
   },
   {
    "duration": 244,
    "start_time": "2022-01-11T20:34:42.430Z"
   },
   {
    "duration": 16,
    "start_time": "2022-01-11T20:34:42.678Z"
   },
   {
    "duration": 30,
    "start_time": "2022-01-11T20:34:42.697Z"
   },
   {
    "duration": 440,
    "start_time": "2022-01-11T20:34:42.729Z"
   },
   {
    "duration": 29,
    "start_time": "2022-01-11T20:34:43.172Z"
   },
   {
    "duration": 18,
    "start_time": "2022-01-11T20:34:43.204Z"
   },
   {
    "duration": 4,
    "start_time": "2022-01-11T20:34:43.224Z"
   },
   {
    "duration": 8,
    "start_time": "2022-01-11T20:34:43.264Z"
   },
   {
    "duration": 15,
    "start_time": "2022-01-11T20:34:43.275Z"
   },
   {
    "duration": 10,
    "start_time": "2022-01-11T20:34:43.293Z"
   },
   {
    "duration": 61,
    "start_time": "2022-01-11T20:34:43.306Z"
   },
   {
    "duration": 8,
    "start_time": "2022-01-11T20:34:43.370Z"
   },
   {
    "duration": 9,
    "start_time": "2022-01-11T20:34:43.381Z"
   },
   {
    "duration": 7,
    "start_time": "2022-01-11T20:34:43.393Z"
   },
   {
    "duration": 74,
    "start_time": "2022-01-11T20:34:43.403Z"
   },
   {
    "duration": 17,
    "start_time": "2022-01-11T20:34:43.480Z"
   },
   {
    "duration": 11,
    "start_time": "2022-01-11T20:34:43.504Z"
   },
   {
    "duration": 93,
    "start_time": "2022-01-11T20:34:43.518Z"
   },
   {
    "duration": 245,
    "start_time": "2022-01-11T20:34:43.613Z"
   },
   {
    "duration": 70,
    "start_time": "2022-01-11T20:34:43.863Z"
   },
   {
    "duration": 93,
    "start_time": "2022-01-11T20:34:43.935Z"
   },
   {
    "duration": 8,
    "start_time": "2022-01-11T20:34:44.031Z"
   },
   {
    "duration": 135,
    "start_time": "2022-01-11T20:34:44.042Z"
   },
   {
    "duration": 62,
    "start_time": "2022-01-11T20:34:44.180Z"
   },
   {
    "duration": 556,
    "start_time": "2022-01-11T22:10:21.267Z"
   },
   {
    "duration": 416,
    "start_time": "2022-01-11T22:10:27.204Z"
   },
   {
    "duration": 295,
    "start_time": "2022-01-11T22:10:39.958Z"
   },
   {
    "duration": 324,
    "start_time": "2022-01-11T22:10:49.869Z"
   },
   {
    "duration": 44,
    "start_time": "2022-01-11T22:10:58.949Z"
   },
   {
    "duration": 484,
    "start_time": "2022-01-11T22:13:04.749Z"
   },
   {
    "duration": 7,
    "start_time": "2022-01-11T23:03:34.898Z"
   },
   {
    "duration": 9,
    "start_time": "2022-01-11T23:03:45.028Z"
   },
   {
    "duration": 8,
    "start_time": "2022-01-11T23:04:01.415Z"
   },
   {
    "duration": 6,
    "start_time": "2022-01-11T23:04:07.473Z"
   },
   {
    "duration": 284,
    "start_time": "2022-01-11T23:21:45.506Z"
   },
   {
    "duration": 303,
    "start_time": "2022-01-11T23:21:47.536Z"
   },
   {
    "duration": 15,
    "start_time": "2022-01-11T23:21:53.722Z"
   },
   {
    "duration": 11,
    "start_time": "2022-01-11T23:21:59.225Z"
   },
   {
    "duration": 16,
    "start_time": "2022-01-11T23:22:10.596Z"
   },
   {
    "duration": 293,
    "start_time": "2022-01-11T23:29:06.458Z"
   },
   {
    "duration": 294,
    "start_time": "2022-01-11T23:29:10.846Z"
   },
   {
    "duration": 96,
    "start_time": "2022-01-11T23:29:20.381Z"
   },
   {
    "duration": 44,
    "start_time": "2022-01-11T23:29:30.897Z"
   },
   {
    "duration": 1613,
    "start_time": "2022-01-11T23:29:52.863Z"
   },
   {
    "duration": 1268,
    "start_time": "2022-01-11T23:29:54.479Z"
   },
   {
    "duration": 48,
    "start_time": "2022-01-11T23:29:55.750Z"
   },
   {
    "duration": 395,
    "start_time": "2022-01-11T23:29:55.800Z"
   },
   {
    "duration": 24,
    "start_time": "2022-01-11T23:29:56.198Z"
   },
   {
    "duration": 59,
    "start_time": "2022-01-11T23:29:56.224Z"
   },
   {
    "duration": 235,
    "start_time": "2022-01-11T23:29:56.286Z"
   },
   {
    "duration": 17,
    "start_time": "2022-01-11T23:29:56.525Z"
   },
   {
    "duration": 46,
    "start_time": "2022-01-11T23:29:56.545Z"
   },
   {
    "duration": 440,
    "start_time": "2022-01-11T23:29:56.595Z"
   },
   {
    "duration": 45,
    "start_time": "2022-01-11T23:29:57.038Z"
   },
   {
    "duration": 17,
    "start_time": "2022-01-11T23:29:57.086Z"
   },
   {
    "duration": 4,
    "start_time": "2022-01-11T23:29:57.106Z"
   },
   {
    "duration": 11,
    "start_time": "2022-01-11T23:29:57.112Z"
   },
   {
    "duration": 47,
    "start_time": "2022-01-11T23:29:57.125Z"
   },
   {
    "duration": 10,
    "start_time": "2022-01-11T23:29:57.175Z"
   },
   {
    "duration": 16,
    "start_time": "2022-01-11T23:29:57.188Z"
   },
   {
    "duration": 8,
    "start_time": "2022-01-11T23:29:57.207Z"
   },
   {
    "duration": 56,
    "start_time": "2022-01-11T23:29:57.218Z"
   },
   {
    "duration": 7,
    "start_time": "2022-01-11T23:29:57.279Z"
   },
   {
    "duration": 21,
    "start_time": "2022-01-11T23:29:57.289Z"
   },
   {
    "duration": 52,
    "start_time": "2022-01-11T23:29:57.313Z"
   },
   {
    "duration": 15,
    "start_time": "2022-01-11T23:29:57.372Z"
   },
   {
    "duration": 76,
    "start_time": "2022-01-11T23:29:57.389Z"
   },
   {
    "duration": 255,
    "start_time": "2022-01-11T23:29:57.467Z"
   },
   {
    "duration": 88,
    "start_time": "2022-01-11T23:29:57.725Z"
   },
   {
    "duration": 92,
    "start_time": "2022-01-11T23:29:57.816Z"
   },
   {
    "duration": 8,
    "start_time": "2022-01-11T23:29:57.911Z"
   },
   {
    "duration": 136,
    "start_time": "2022-01-11T23:29:57.922Z"
   },
   {
    "duration": 48,
    "start_time": "2022-01-11T23:29:58.061Z"
   },
   {
    "duration": 103,
    "start_time": "2022-01-11T23:29:58.112Z"
   },
   {
    "duration": 60,
    "start_time": "2022-01-11T23:29:58.218Z"
   },
   {
    "duration": 15,
    "start_time": "2022-01-11T23:31:37.314Z"
   },
   {
    "duration": 14,
    "start_time": "2022-01-11T23:31:39.063Z"
   },
   {
    "duration": 11,
    "start_time": "2022-01-11T23:31:42.916Z"
   },
   {
    "duration": 91,
    "start_time": "2022-01-11T23:31:50.679Z"
   },
   {
    "duration": 51,
    "start_time": "2022-01-11T23:31:56.336Z"
   },
   {
    "duration": 80,
    "start_time": "2022-01-11T23:32:00.202Z"
   },
   {
    "duration": 9,
    "start_time": "2022-01-11T23:32:03.376Z"
   },
   {
    "duration": 52,
    "start_time": "2022-01-11T23:32:10.458Z"
   },
   {
    "duration": 3,
    "start_time": "2022-01-11T23:34:45.042Z"
   },
   {
    "duration": 3,
    "start_time": "2022-01-11T23:34:46.992Z"
   },
   {
    "duration": 3,
    "start_time": "2022-01-11T23:34:47.753Z"
   },
   {
    "duration": 3,
    "start_time": "2022-01-11T23:34:49.490Z"
   },
   {
    "duration": 1486,
    "start_time": "2022-01-11T23:35:11.611Z"
   },
   {
    "duration": 1395,
    "start_time": "2022-01-11T23:35:13.100Z"
   },
   {
    "duration": 35,
    "start_time": "2022-01-11T23:35:14.499Z"
   },
   {
    "duration": 405,
    "start_time": "2022-01-11T23:35:14.537Z"
   },
   {
    "duration": 37,
    "start_time": "2022-01-11T23:35:14.944Z"
   },
   {
    "duration": 31,
    "start_time": "2022-01-11T23:35:14.983Z"
   },
   {
    "duration": 242,
    "start_time": "2022-01-11T23:35:15.016Z"
   },
   {
    "duration": 20,
    "start_time": "2022-01-11T23:35:15.261Z"
   },
   {
    "duration": 31,
    "start_time": "2022-01-11T23:35:15.285Z"
   },
   {
    "duration": 445,
    "start_time": "2022-01-11T23:35:15.319Z"
   },
   {
    "duration": 30,
    "start_time": "2022-01-11T23:35:15.767Z"
   },
   {
    "duration": 16,
    "start_time": "2022-01-11T23:35:15.800Z"
   },
   {
    "duration": 3,
    "start_time": "2022-01-11T23:35:15.819Z"
   },
   {
    "duration": 42,
    "start_time": "2022-01-11T23:35:15.824Z"
   },
   {
    "duration": 7,
    "start_time": "2022-01-11T23:35:55.600Z"
   },
   {
    "duration": 6,
    "start_time": "2022-01-11T23:35:58.955Z"
   },
   {
    "duration": 5,
    "start_time": "2022-01-11T23:36:02.393Z"
   },
   {
    "duration": 19,
    "start_time": "2022-01-11T23:37:24.027Z"
   },
   {
    "duration": 19,
    "start_time": "2022-01-11T23:37:28.558Z"
   },
   {
    "duration": 17,
    "start_time": "2022-01-11T23:37:56.760Z"
   },
   {
    "duration": 14,
    "start_time": "2022-01-11T23:37:59.460Z"
   },
   {
    "duration": 148,
    "start_time": "2022-01-11T23:38:09.067Z"
   },
   {
    "duration": 139,
    "start_time": "2022-01-11T23:38:21.421Z"
   },
   {
    "duration": 145,
    "start_time": "2022-01-11T23:38:22.458Z"
   },
   {
    "duration": 6,
    "start_time": "2022-01-11T23:39:02.136Z"
   },
   {
    "duration": 17,
    "start_time": "2022-01-11T23:39:04.171Z"
   },
   {
    "duration": 13,
    "start_time": "2022-01-11T23:39:13.841Z"
   },
   {
    "duration": 10,
    "start_time": "2022-01-11T23:39:19.272Z"
   },
   {
    "duration": 44,
    "start_time": "2022-01-11T23:39:33.014Z"
   },
   {
    "duration": 15,
    "start_time": "2022-01-11T23:45:32.913Z"
   },
   {
    "duration": 1551,
    "start_time": "2022-01-11T23:45:42.542Z"
   },
   {
    "duration": 1272,
    "start_time": "2022-01-11T23:45:44.096Z"
   },
   {
    "duration": 36,
    "start_time": "2022-01-11T23:45:45.370Z"
   },
   {
    "duration": 402,
    "start_time": "2022-01-11T23:45:45.409Z"
   },
   {
    "duration": 23,
    "start_time": "2022-01-11T23:45:45.814Z"
   },
   {
    "duration": 54,
    "start_time": "2022-01-11T23:45:45.841Z"
   },
   {
    "duration": 240,
    "start_time": "2022-01-11T23:45:45.898Z"
   },
   {
    "duration": 28,
    "start_time": "2022-01-11T23:45:46.140Z"
   },
   {
    "duration": 33,
    "start_time": "2022-01-11T23:45:46.170Z"
   },
   {
    "duration": 429,
    "start_time": "2022-01-11T23:45:46.205Z"
   },
   {
    "duration": 44,
    "start_time": "2022-01-11T23:45:46.637Z"
   },
   {
    "duration": 16,
    "start_time": "2022-01-11T23:45:46.684Z"
   },
   {
    "duration": 2,
    "start_time": "2022-01-11T23:45:46.703Z"
   },
   {
    "duration": 9,
    "start_time": "2022-01-11T23:45:46.708Z"
   },
   {
    "duration": 3,
    "start_time": "2022-01-11T23:45:46.719Z"
   },
   {
    "duration": 6,
    "start_time": "2022-01-11T23:45:46.724Z"
   },
   {
    "duration": 3,
    "start_time": "2022-01-11T23:45:46.764Z"
   },
   {
    "duration": 14,
    "start_time": "2022-01-11T23:45:46.770Z"
   },
   {
    "duration": 7,
    "start_time": "2022-01-11T23:45:46.786Z"
   },
   {
    "duration": 6,
    "start_time": "2022-01-11T23:45:46.797Z"
   },
   {
    "duration": 15,
    "start_time": "2022-01-11T23:45:52.177Z"
   },
   {
    "duration": 11,
    "start_time": "2022-01-11T23:50:22.448Z"
   },
   {
    "duration": 14,
    "start_time": "2022-01-11T23:51:03.514Z"
   },
   {
    "duration": 6,
    "start_time": "2022-01-11T23:51:05.293Z"
   },
   {
    "duration": 14,
    "start_time": "2022-01-11T23:51:23.639Z"
   },
   {
    "duration": 153,
    "start_time": "2022-01-11T23:51:26.555Z"
   },
   {
    "duration": 10,
    "start_time": "2022-01-11T23:51:58.357Z"
   },
   {
    "duration": 42,
    "start_time": "2022-01-11T23:52:23.903Z"
   },
   {
    "duration": 131,
    "start_time": "2022-01-11T23:52:26.316Z"
   },
   {
    "duration": 58,
    "start_time": "2022-01-11T23:53:03.839Z"
   },
   {
    "duration": 377,
    "start_time": "2022-01-11T23:53:07.741Z"
   },
   {
    "duration": 39,
    "start_time": "2022-01-11T23:53:40.684Z"
   },
   {
    "duration": 22,
    "start_time": "2022-01-11T23:54:18.938Z"
   },
   {
    "duration": 11,
    "start_time": "2022-01-11T23:54:33.330Z"
   },
   {
    "duration": 9275,
    "start_time": "2022-01-11T23:54:48.201Z"
   },
   {
    "duration": 10,
    "start_time": "2022-01-11T23:55:00.229Z"
   },
   {
    "duration": 74,
    "start_time": "2022-01-11T23:55:11.011Z"
   },
   {
    "duration": 12,
    "start_time": "2022-01-11T23:55:12.924Z"
   },
   {
    "duration": 12,
    "start_time": "2022-01-11T23:55:16.157Z"
   },
   {
    "duration": 1514,
    "start_time": "2022-01-11T23:55:32.381Z"
   },
   {
    "duration": 1373,
    "start_time": "2022-01-11T23:55:33.898Z"
   },
   {
    "duration": 36,
    "start_time": "2022-01-11T23:55:35.274Z"
   },
   {
    "duration": 400,
    "start_time": "2022-01-11T23:55:35.313Z"
   },
   {
    "duration": 24,
    "start_time": "2022-01-11T23:55:35.715Z"
   },
   {
    "duration": 51,
    "start_time": "2022-01-11T23:55:35.742Z"
   },
   {
    "duration": 239,
    "start_time": "2022-01-11T23:55:35.796Z"
   },
   {
    "duration": 36,
    "start_time": "2022-01-11T23:55:36.038Z"
   },
   {
    "duration": 30,
    "start_time": "2022-01-11T23:55:36.078Z"
   },
   {
    "duration": 418,
    "start_time": "2022-01-11T23:55:36.111Z"
   },
   {
    "duration": 36,
    "start_time": "2022-01-11T23:55:36.532Z"
   },
   {
    "duration": 17,
    "start_time": "2022-01-11T23:55:36.571Z"
   },
   {
    "duration": 2,
    "start_time": "2022-01-11T23:55:36.591Z"
   },
   {
    "duration": 9,
    "start_time": "2022-01-11T23:55:36.596Z"
   },
   {
    "duration": 4,
    "start_time": "2022-01-11T23:55:36.607Z"
   },
   {
    "duration": 5,
    "start_time": "2022-01-11T23:55:36.613Z"
   },
   {
    "duration": 51,
    "start_time": "2022-01-11T23:55:36.620Z"
   },
   {
    "duration": 9,
    "start_time": "2022-01-11T23:55:36.674Z"
   },
   {
    "duration": 8,
    "start_time": "2022-01-11T23:55:36.686Z"
   },
   {
    "duration": 6,
    "start_time": "2022-01-11T23:55:36.696Z"
   },
   {
    "duration": 15,
    "start_time": "2022-01-11T23:55:36.705Z"
   },
   {
    "duration": 55,
    "start_time": "2022-01-11T23:55:36.723Z"
   },
   {
    "duration": 15,
    "start_time": "2022-01-11T23:55:36.780Z"
   },
   {
    "duration": 6,
    "start_time": "2022-01-11T23:55:36.797Z"
   },
   {
    "duration": 13,
    "start_time": "2022-01-11T23:55:36.805Z"
   },
   {
    "duration": 46,
    "start_time": "2022-01-11T23:55:36.820Z"
   },
   {
    "duration": 48,
    "start_time": "2022-01-11T23:55:36.871Z"
   },
   {
    "duration": 177,
    "start_time": "2022-01-11T23:55:36.922Z"
   },
   {
    "duration": 66,
    "start_time": "2022-01-11T23:55:37.102Z"
   },
   {
    "duration": 386,
    "start_time": "2022-01-11T23:55:37.171Z"
   },
   {
    "duration": 73,
    "start_time": "2022-01-11T23:55:37.563Z"
   },
   {
    "duration": 10,
    "start_time": "2022-01-11T23:55:42.481Z"
   },
   {
    "duration": 87,
    "start_time": "2022-01-11T23:56:03.861Z"
   },
   {
    "duration": 9,
    "start_time": "2022-01-11T23:56:06.718Z"
   },
   {
    "duration": 123,
    "start_time": "2022-01-11T23:56:14.659Z"
   },
   {
    "duration": 47,
    "start_time": "2022-01-11T23:56:15.837Z"
   },
   {
    "duration": 47,
    "start_time": "2022-01-11T23:56:23.462Z"
   },
   {
    "duration": 147,
    "start_time": "2022-01-11T23:56:33.229Z"
   },
   {
    "duration": 503,
    "start_time": "2022-01-11T23:58:37.969Z"
   },
   {
    "duration": 375,
    "start_time": "2022-01-12T00:02:41.220Z"
   },
   {
    "duration": 899,
    "start_time": "2022-01-12T00:02:44.323Z"
   },
   {
    "duration": 18,
    "start_time": "2022-01-12T00:03:38.417Z"
   },
   {
    "duration": 42,
    "start_time": "2022-01-12T00:03:49.871Z"
   },
   {
    "duration": 16,
    "start_time": "2022-01-12T00:03:57.289Z"
   },
   {
    "duration": 381,
    "start_time": "2022-01-12T00:03:58.884Z"
   },
   {
    "duration": 296,
    "start_time": "2022-01-12T00:04:09.388Z"
   },
   {
    "duration": 1511,
    "start_time": "2022-01-12T00:04:37.300Z"
   },
   {
    "duration": 1496,
    "start_time": "2022-01-12T00:04:38.814Z"
   },
   {
    "duration": 57,
    "start_time": "2022-01-12T00:04:40.313Z"
   },
   {
    "duration": 385,
    "start_time": "2022-01-12T00:04:40.374Z"
   },
   {
    "duration": 29,
    "start_time": "2022-01-12T00:04:40.762Z"
   },
   {
    "duration": 32,
    "start_time": "2022-01-12T00:04:40.794Z"
   },
   {
    "duration": 332,
    "start_time": "2022-01-12T00:04:40.829Z"
   },
   {
    "duration": 18,
    "start_time": "2022-01-12T00:04:41.173Z"
   },
   {
    "duration": 33,
    "start_time": "2022-01-12T00:04:41.195Z"
   },
   {
    "duration": 447,
    "start_time": "2022-01-12T00:04:41.231Z"
   },
   {
    "duration": 26,
    "start_time": "2022-01-12T00:04:41.681Z"
   },
   {
    "duration": 17,
    "start_time": "2022-01-12T00:04:41.709Z"
   },
   {
    "duration": 3,
    "start_time": "2022-01-12T00:04:41.728Z"
   },
   {
    "duration": 14,
    "start_time": "2022-01-12T00:04:41.763Z"
   },
   {
    "duration": 7,
    "start_time": "2022-01-12T00:04:47.291Z"
   },
   {
    "duration": 7,
    "start_time": "2022-01-12T00:04:50.809Z"
   },
   {
    "duration": 6,
    "start_time": "2022-01-12T00:04:52.870Z"
   },
   {
    "duration": 14,
    "start_time": "2022-01-12T00:04:54.597Z"
   },
   {
    "duration": 10,
    "start_time": "2022-01-12T00:04:58.084Z"
   },
   {
    "duration": 15,
    "start_time": "2022-01-12T00:05:01.202Z"
   },
   {
    "duration": 6,
    "start_time": "2022-01-12T00:05:02.443Z"
   },
   {
    "duration": 14,
    "start_time": "2022-01-12T00:05:03.640Z"
   },
   {
    "duration": 9,
    "start_time": "2022-01-12T00:05:05.701Z"
   },
   {
    "duration": 45,
    "start_time": "2022-01-12T00:05:08.655Z"
   },
   {
    "duration": 146,
    "start_time": "2022-01-12T00:05:09.867Z"
   },
   {
    "duration": 48,
    "start_time": "2022-01-12T00:05:14.509Z"
   },
   {
    "duration": 365,
    "start_time": "2022-01-12T00:05:16.882Z"
   },
   {
    "duration": 454,
    "start_time": "2022-01-12T00:05:21.833Z"
   },
   {
    "duration": 317,
    "start_time": "2022-01-12T00:05:36.755Z"
   },
   {
    "duration": 1542,
    "start_time": "2022-01-12T00:05:47.257Z"
   },
   {
    "duration": 1333,
    "start_time": "2022-01-12T00:05:48.802Z"
   },
   {
    "duration": 43,
    "start_time": "2022-01-12T00:05:50.138Z"
   },
   {
    "duration": 401,
    "start_time": "2022-01-12T00:05:50.184Z"
   },
   {
    "duration": 24,
    "start_time": "2022-01-12T00:05:50.587Z"
   },
   {
    "duration": 53,
    "start_time": "2022-01-12T00:05:50.614Z"
   },
   {
    "duration": 225,
    "start_time": "2022-01-12T00:05:50.676Z"
   },
   {
    "duration": 16,
    "start_time": "2022-01-12T00:05:50.905Z"
   },
   {
    "duration": 61,
    "start_time": "2022-01-12T00:05:50.924Z"
   },
   {
    "duration": 419,
    "start_time": "2022-01-12T00:05:50.988Z"
   },
   {
    "duration": 28,
    "start_time": "2022-01-12T00:05:51.410Z"
   },
   {
    "duration": 39,
    "start_time": "2022-01-12T00:05:51.441Z"
   },
   {
    "duration": 3,
    "start_time": "2022-01-12T00:05:51.482Z"
   },
   {
    "duration": 8,
    "start_time": "2022-01-12T00:05:51.488Z"
   },
   {
    "duration": 2,
    "start_time": "2022-01-12T00:05:51.499Z"
   },
   {
    "duration": 5,
    "start_time": "2022-01-12T00:05:51.504Z"
   },
   {
    "duration": 5,
    "start_time": "2022-01-12T00:05:51.512Z"
   },
   {
    "duration": 53,
    "start_time": "2022-01-12T00:05:51.519Z"
   },
   {
    "duration": 7,
    "start_time": "2022-01-12T00:05:51.575Z"
   },
   {
    "duration": 7,
    "start_time": "2022-01-12T00:05:51.585Z"
   },
   {
    "duration": 15,
    "start_time": "2022-01-12T00:05:51.594Z"
   },
   {
    "duration": 11,
    "start_time": "2022-01-12T00:05:51.612Z"
   },
   {
    "duration": 49,
    "start_time": "2022-01-12T00:05:51.628Z"
   },
   {
    "duration": 6,
    "start_time": "2022-01-12T00:05:51.680Z"
   },
   {
    "duration": 14,
    "start_time": "2022-01-12T00:05:51.688Z"
   },
   {
    "duration": 9,
    "start_time": "2022-01-12T00:05:51.705Z"
   },
   {
    "duration": 87,
    "start_time": "2022-01-12T00:05:51.716Z"
   },
   {
    "duration": 174,
    "start_time": "2022-01-12T00:05:51.805Z"
   },
   {
    "duration": 25,
    "start_time": "2022-01-12T00:05:51.981Z"
   },
   {
    "duration": 386,
    "start_time": "2022-01-12T00:05:52.008Z"
   },
   {
    "duration": 463,
    "start_time": "2022-01-12T00:05:52.397Z"
   },
   {
    "duration": -125,
    "start_time": "2022-01-12T00:05:52.987Z"
   },
   {
    "duration": -130,
    "start_time": "2022-01-12T00:05:52.993Z"
   },
   {
    "duration": -128,
    "start_time": "2022-01-12T00:05:52.996Z"
   },
   {
    "duration": -141,
    "start_time": "2022-01-12T00:05:53.011Z"
   },
   {
    "duration": -143,
    "start_time": "2022-01-12T00:05:53.014Z"
   },
   {
    "duration": -145,
    "start_time": "2022-01-12T00:05:53.018Z"
   },
   {
    "duration": -147,
    "start_time": "2022-01-12T00:05:53.022Z"
   },
   {
    "duration": -149,
    "start_time": "2022-01-12T00:05:53.026Z"
   },
   {
    "duration": 320,
    "start_time": "2022-01-12T00:06:33.054Z"
   },
   {
    "duration": 322,
    "start_time": "2022-01-12T00:06:57.949Z"
   },
   {
    "duration": 1479,
    "start_time": "2022-01-12T00:07:31.106Z"
   },
   {
    "duration": 1419,
    "start_time": "2022-01-12T00:07:32.588Z"
   },
   {
    "duration": 37,
    "start_time": "2022-01-12T00:07:34.010Z"
   },
   {
    "duration": 408,
    "start_time": "2022-01-12T00:07:34.049Z"
   },
   {
    "duration": 25,
    "start_time": "2022-01-12T00:07:34.472Z"
   },
   {
    "duration": 30,
    "start_time": "2022-01-12T00:07:34.500Z"
   },
   {
    "duration": 255,
    "start_time": "2022-01-12T00:07:34.533Z"
   },
   {
    "duration": 16,
    "start_time": "2022-01-12T00:07:34.792Z"
   },
   {
    "duration": 31,
    "start_time": "2022-01-12T00:07:34.811Z"
   },
   {
    "duration": 420,
    "start_time": "2022-01-12T00:07:34.863Z"
   },
   {
    "duration": 27,
    "start_time": "2022-01-12T00:07:35.286Z"
   },
   {
    "duration": 17,
    "start_time": "2022-01-12T00:07:35.316Z"
   },
   {
    "duration": 3,
    "start_time": "2022-01-12T00:07:35.335Z"
   },
   {
    "duration": 7,
    "start_time": "2022-01-12T00:07:35.364Z"
   },
   {
    "duration": 8,
    "start_time": "2022-01-12T00:07:35.373Z"
   },
   {
    "duration": 5,
    "start_time": "2022-01-12T00:07:35.384Z"
   },
   {
    "duration": 7,
    "start_time": "2022-01-12T00:07:35.391Z"
   },
   {
    "duration": 9,
    "start_time": "2022-01-12T00:07:35.400Z"
   },
   {
    "duration": 57,
    "start_time": "2022-01-12T00:07:35.411Z"
   },
   {
    "duration": 6,
    "start_time": "2022-01-12T00:07:35.471Z"
   },
   {
    "duration": 16,
    "start_time": "2022-01-12T00:07:35.480Z"
   },
   {
    "duration": 12,
    "start_time": "2022-01-12T00:07:35.499Z"
   },
   {
    "duration": 61,
    "start_time": "2022-01-12T00:07:35.517Z"
   },
   {
    "duration": 7,
    "start_time": "2022-01-12T00:07:35.581Z"
   },
   {
    "duration": 16,
    "start_time": "2022-01-12T00:07:35.591Z"
   },
   {
    "duration": 12,
    "start_time": "2022-01-12T00:07:35.609Z"
   },
   {
    "duration": 46,
    "start_time": "2022-01-12T00:07:35.664Z"
   },
   {
    "duration": 168,
    "start_time": "2022-01-12T00:07:35.712Z"
   },
   {
    "duration": 3,
    "start_time": "2022-01-12T00:07:35.883Z"
   },
   {
    "duration": 395,
    "start_time": "2022-01-12T00:07:35.888Z"
   },
   {
    "duration": 20,
    "start_time": "2022-01-12T00:07:36.285Z"
   },
   {
    "duration": 11,
    "start_time": "2022-01-12T00:07:36.307Z"
   },
   {
    "duration": 25,
    "start_time": "2022-01-12T00:07:50.590Z"
   },
   {
    "duration": 11,
    "start_time": "2022-01-12T00:07:52.651Z"
   },
   {
    "duration": 118,
    "start_time": "2022-01-12T00:08:03.523Z"
   },
   {
    "duration": 45,
    "start_time": "2022-01-12T00:08:04.918Z"
   },
   {
    "duration": 140,
    "start_time": "2022-01-12T00:08:06.863Z"
   },
   {
    "duration": 46,
    "start_time": "2022-01-12T00:08:08.547Z"
   },
   {
    "duration": 460,
    "start_time": "2022-01-12T00:08:17.954Z"
   },
   {
    "duration": 320,
    "start_time": "2022-01-12T00:08:22.826Z"
   },
   {
    "duration": 1933,
    "start_time": "2022-01-12T00:08:50.666Z"
   },
   {
    "duration": 1268,
    "start_time": "2022-01-12T00:08:52.602Z"
   },
   {
    "duration": 38,
    "start_time": "2022-01-12T00:08:53.874Z"
   },
   {
    "duration": 397,
    "start_time": "2022-01-12T00:08:53.916Z"
   },
   {
    "duration": 25,
    "start_time": "2022-01-12T00:08:54.315Z"
   },
   {
    "duration": 53,
    "start_time": "2022-01-12T00:08:54.342Z"
   },
   {
    "duration": 229,
    "start_time": "2022-01-12T00:08:54.398Z"
   },
   {
    "duration": 15,
    "start_time": "2022-01-12T00:08:54.630Z"
   },
   {
    "duration": 35,
    "start_time": "2022-01-12T00:08:54.662Z"
   },
   {
    "duration": 418,
    "start_time": "2022-01-12T00:08:54.700Z"
   },
   {
    "duration": 26,
    "start_time": "2022-01-12T00:08:55.121Z"
   },
   {
    "duration": 19,
    "start_time": "2022-01-12T00:08:55.167Z"
   },
   {
    "duration": 20,
    "start_time": "2022-01-12T00:08:55.188Z"
   },
   {
    "duration": 15,
    "start_time": "2022-01-12T00:08:55.210Z"
   },
   {
    "duration": 29,
    "start_time": "2022-01-12T00:08:55.227Z"
   },
   {
    "duration": 29,
    "start_time": "2022-01-12T00:08:55.258Z"
   },
   {
    "duration": 11,
    "start_time": "2022-01-12T00:08:55.289Z"
   },
   {
    "duration": 29,
    "start_time": "2022-01-12T00:08:55.302Z"
   },
   {
    "duration": 32,
    "start_time": "2022-01-12T00:08:55.334Z"
   },
   {
    "duration": 18,
    "start_time": "2022-01-12T00:08:55.368Z"
   },
   {
    "duration": 42,
    "start_time": "2022-01-12T00:08:55.389Z"
   },
   {
    "duration": 25,
    "start_time": "2022-01-12T00:08:55.434Z"
   },
   {
    "duration": 31,
    "start_time": "2022-01-12T00:08:55.462Z"
   },
   {
    "duration": 30,
    "start_time": "2022-01-12T00:08:55.496Z"
   },
   {
    "duration": 17,
    "start_time": "2022-01-12T00:08:55.529Z"
   },
   {
    "duration": 31,
    "start_time": "2022-01-12T00:08:55.548Z"
   },
   {
    "duration": 69,
    "start_time": "2022-01-12T00:08:55.584Z"
   },
   {
    "duration": 147,
    "start_time": "2022-01-12T00:08:55.655Z"
   },
   {
    "duration": 23,
    "start_time": "2022-01-12T00:08:55.805Z"
   },
   {
    "duration": 391,
    "start_time": "2022-01-12T00:08:55.831Z"
   },
   {
    "duration": 462,
    "start_time": "2022-01-12T00:08:56.224Z"
   },
   {
    "duration": -317,
    "start_time": "2022-01-12T00:08:57.005Z"
   },
   {
    "duration": -320,
    "start_time": "2022-01-12T00:08:57.010Z"
   },
   {
    "duration": -322,
    "start_time": "2022-01-12T00:08:57.013Z"
   },
   {
    "duration": -324,
    "start_time": "2022-01-12T00:08:57.016Z"
   },
   {
    "duration": -326,
    "start_time": "2022-01-12T00:08:57.019Z"
   },
   {
    "duration": -331,
    "start_time": "2022-01-12T00:08:57.026Z"
   },
   {
    "duration": -335,
    "start_time": "2022-01-12T00:08:57.031Z"
   },
   {
    "duration": -337,
    "start_time": "2022-01-12T00:08:57.034Z"
   },
   {
    "duration": -339,
    "start_time": "2022-01-12T00:08:57.037Z"
   },
   {
    "duration": 351,
    "start_time": "2022-01-12T00:11:56.954Z"
   },
   {
    "duration": 17,
    "start_time": "2022-01-12T00:12:11.372Z"
   },
   {
    "duration": 308,
    "start_time": "2022-01-12T00:12:14.551Z"
   },
   {
    "duration": 1572,
    "start_time": "2022-01-12T00:12:27.842Z"
   },
   {
    "duration": 1265,
    "start_time": "2022-01-12T00:12:29.417Z"
   },
   {
    "duration": 36,
    "start_time": "2022-01-12T00:12:30.684Z"
   },
   {
    "duration": 399,
    "start_time": "2022-01-12T00:12:30.723Z"
   },
   {
    "duration": 38,
    "start_time": "2022-01-12T00:12:31.125Z"
   },
   {
    "duration": 34,
    "start_time": "2022-01-12T00:12:31.166Z"
   },
   {
    "duration": 235,
    "start_time": "2022-01-12T00:12:31.202Z"
   },
   {
    "duration": 31,
    "start_time": "2022-01-12T00:12:31.441Z"
   },
   {
    "duration": 31,
    "start_time": "2022-01-12T00:12:31.476Z"
   },
   {
    "duration": 424,
    "start_time": "2022-01-12T00:12:31.509Z"
   },
   {
    "duration": 42,
    "start_time": "2022-01-12T00:12:31.935Z"
   },
   {
    "duration": 17,
    "start_time": "2022-01-12T00:12:31.980Z"
   },
   {
    "duration": 3,
    "start_time": "2022-01-12T00:12:31.999Z"
   },
   {
    "duration": 16,
    "start_time": "2022-01-12T00:12:32.004Z"
   },
   {
    "duration": 3,
    "start_time": "2022-01-12T00:12:32.022Z"
   },
   {
    "duration": 5,
    "start_time": "2022-01-12T00:12:32.027Z"
   },
   {
    "duration": 32,
    "start_time": "2022-01-12T00:12:32.034Z"
   },
   {
    "duration": 7,
    "start_time": "2022-01-12T00:12:32.079Z"
   },
   {
    "duration": 6,
    "start_time": "2022-01-12T00:12:32.089Z"
   },
   {
    "duration": 6,
    "start_time": "2022-01-12T00:12:32.097Z"
   },
   {
    "duration": 15,
    "start_time": "2022-01-12T00:12:32.105Z"
   },
   {
    "duration": 46,
    "start_time": "2022-01-12T00:12:32.122Z"
   },
   {
    "duration": 14,
    "start_time": "2022-01-12T00:12:32.174Z"
   },
   {
    "duration": 6,
    "start_time": "2022-01-12T00:12:32.191Z"
   },
   {
    "duration": 13,
    "start_time": "2022-01-12T00:12:32.199Z"
   },
   {
    "duration": 8,
    "start_time": "2022-01-12T00:12:32.214Z"
   },
   {
    "duration": 45,
    "start_time": "2022-01-12T00:12:32.264Z"
   },
   {
    "duration": 170,
    "start_time": "2022-01-12T00:12:32.311Z"
   },
   {
    "duration": 87,
    "start_time": "2022-01-12T00:12:32.483Z"
   },
   {
    "duration": 10,
    "start_time": "2022-01-12T00:12:32.573Z"
   },
   {
    "duration": 24,
    "start_time": "2022-01-12T00:12:32.585Z"
   },
   {
    "duration": 3,
    "start_time": "2022-01-12T00:12:32.612Z"
   },
   {
    "duration": 15,
    "start_time": "2022-01-12T00:12:32.617Z"
   },
   {
    "duration": 155,
    "start_time": "2022-01-12T00:12:32.635Z"
   },
   {
    "duration": 40,
    "start_time": "2022-01-12T00:12:32.793Z"
   },
   {
    "duration": 152,
    "start_time": "2022-01-12T00:12:32.835Z"
   },
   {
    "duration": 42,
    "start_time": "2022-01-12T00:12:32.990Z"
   },
   {
    "duration": 3,
    "start_time": "2022-01-12T00:12:33.035Z"
   },
   {
    "duration": 611,
    "start_time": "2022-01-12T00:12:54.183Z"
   },
   {
    "duration": 1688,
    "start_time": "2022-01-12T00:13:01.308Z"
   },
   {
    "duration": 1238,
    "start_time": "2022-01-12T00:13:02.998Z"
   },
   {
    "duration": 51,
    "start_time": "2022-01-12T00:13:04.239Z"
   },
   {
    "duration": 404,
    "start_time": "2022-01-12T00:13:04.293Z"
   },
   {
    "duration": 24,
    "start_time": "2022-01-12T00:13:04.699Z"
   },
   {
    "duration": 61,
    "start_time": "2022-01-12T00:13:04.726Z"
   },
   {
    "duration": 226,
    "start_time": "2022-01-12T00:13:04.789Z"
   },
   {
    "duration": 16,
    "start_time": "2022-01-12T00:13:05.019Z"
   },
   {
    "duration": 51,
    "start_time": "2022-01-12T00:13:05.039Z"
   },
   {
    "duration": 419,
    "start_time": "2022-01-12T00:13:05.093Z"
   },
   {
    "duration": 27,
    "start_time": "2022-01-12T00:13:05.514Z"
   },
   {
    "duration": 34,
    "start_time": "2022-01-12T00:13:05.543Z"
   },
   {
    "duration": 3,
    "start_time": "2022-01-12T00:13:05.580Z"
   },
   {
    "duration": 7,
    "start_time": "2022-01-12T00:13:05.586Z"
   },
   {
    "duration": 3,
    "start_time": "2022-01-12T00:13:05.596Z"
   },
   {
    "duration": 4,
    "start_time": "2022-01-12T00:13:05.601Z"
   },
   {
    "duration": 5,
    "start_time": "2022-01-12T00:13:05.608Z"
   },
   {
    "duration": 55,
    "start_time": "2022-01-12T00:13:05.616Z"
   },
   {
    "duration": 8,
    "start_time": "2022-01-12T00:13:05.674Z"
   },
   {
    "duration": 5,
    "start_time": "2022-01-12T00:13:05.684Z"
   },
   {
    "duration": 15,
    "start_time": "2022-01-12T00:13:05.692Z"
   },
   {
    "duration": 9,
    "start_time": "2022-01-12T00:13:05.709Z"
   },
   {
    "duration": 58,
    "start_time": "2022-01-12T00:13:05.723Z"
   },
   {
    "duration": 5,
    "start_time": "2022-01-12T00:13:05.784Z"
   },
   {
    "duration": 18,
    "start_time": "2022-01-12T00:13:05.792Z"
   },
   {
    "duration": 8,
    "start_time": "2022-01-12T00:13:05.812Z"
   },
   {
    "duration": 77,
    "start_time": "2022-01-12T00:13:05.822Z"
   },
   {
    "duration": 144,
    "start_time": "2022-01-12T00:13:05.901Z"
   },
   {
    "duration": 36,
    "start_time": "2022-01-12T00:13:06.047Z"
   },
   {
    "duration": 11,
    "start_time": "2022-01-12T00:13:06.085Z"
   },
   {
    "duration": 23,
    "start_time": "2022-01-12T00:13:06.099Z"
   },
   {
    "duration": 3,
    "start_time": "2022-01-12T00:13:06.124Z"
   },
   {
    "duration": 40,
    "start_time": "2022-01-12T00:13:06.130Z"
   },
   {
    "duration": 129,
    "start_time": "2022-01-12T00:13:06.174Z"
   },
   {
    "duration": 40,
    "start_time": "2022-01-12T00:13:06.305Z"
   },
   {
    "duration": 156,
    "start_time": "2022-01-12T00:13:06.348Z"
   },
   {
    "duration": 64,
    "start_time": "2022-01-12T00:13:06.507Z"
   },
   {
    "duration": 3,
    "start_time": "2022-01-12T00:13:06.575Z"
   },
   {
    "duration": 1567,
    "start_time": "2022-01-12T00:15:54.236Z"
   },
   {
    "duration": 1278,
    "start_time": "2022-01-12T00:15:55.805Z"
   },
   {
    "duration": 36,
    "start_time": "2022-01-12T00:15:57.087Z"
   },
   {
    "duration": 394,
    "start_time": "2022-01-12T00:15:57.126Z"
   },
   {
    "duration": 25,
    "start_time": "2022-01-12T00:15:57.523Z"
   },
   {
    "duration": 33,
    "start_time": "2022-01-12T00:15:57.567Z"
   },
   {
    "duration": 238,
    "start_time": "2022-01-12T00:15:57.604Z"
   },
   {
    "duration": 30,
    "start_time": "2022-01-12T00:15:57.847Z"
   },
   {
    "duration": 31,
    "start_time": "2022-01-12T00:15:57.881Z"
   },
   {
    "duration": 420,
    "start_time": "2022-01-12T00:15:57.915Z"
   },
   {
    "duration": 41,
    "start_time": "2022-01-12T00:15:58.338Z"
   },
   {
    "duration": 16,
    "start_time": "2022-01-12T00:15:58.382Z"
   },
   {
    "duration": 3,
    "start_time": "2022-01-12T00:15:58.400Z"
   },
   {
    "duration": 7,
    "start_time": "2022-01-12T00:15:58.405Z"
   },
   {
    "duration": 3,
    "start_time": "2022-01-12T00:15:58.415Z"
   },
   {
    "duration": 4,
    "start_time": "2022-01-12T00:15:58.420Z"
   },
   {
    "duration": 37,
    "start_time": "2022-01-12T00:15:58.427Z"
   },
   {
    "duration": 11,
    "start_time": "2022-01-12T00:15:58.467Z"
   },
   {
    "duration": 10,
    "start_time": "2022-01-12T00:15:58.481Z"
   },
   {
    "duration": 11,
    "start_time": "2022-01-12T00:15:58.493Z"
   },
   {
    "duration": 19,
    "start_time": "2022-01-12T00:15:58.507Z"
   },
   {
    "duration": 47,
    "start_time": "2022-01-12T00:15:58.528Z"
   },
   {
    "duration": 16,
    "start_time": "2022-01-12T00:15:58.584Z"
   },
   {
    "duration": 8,
    "start_time": "2022-01-12T00:15:58.603Z"
   },
   {
    "duration": 58,
    "start_time": "2022-01-12T00:15:58.613Z"
   },
   {
    "duration": 10,
    "start_time": "2022-01-12T00:15:58.674Z"
   },
   {
    "duration": 43,
    "start_time": "2022-01-12T00:15:58.686Z"
   },
   {
    "duration": 170,
    "start_time": "2022-01-12T00:15:58.732Z"
   },
   {
    "duration": 84,
    "start_time": "2022-01-12T00:15:58.905Z"
   },
   {
    "duration": 9,
    "start_time": "2022-01-12T00:15:58.991Z"
   },
   {
    "duration": 24,
    "start_time": "2022-01-12T00:15:59.002Z"
   },
   {
    "duration": 1448,
    "start_time": "2022-01-12T00:15:59.028Z"
   },
   {
    "duration": -1326,
    "start_time": "2022-01-12T00:16:01.806Z"
   },
   {
    "duration": -1334,
    "start_time": "2022-01-12T00:16:01.816Z"
   },
   {
    "duration": -1336,
    "start_time": "2022-01-12T00:16:01.820Z"
   },
   {
    "duration": -1337,
    "start_time": "2022-01-12T00:16:01.823Z"
   },
   {
    "duration": -1342,
    "start_time": "2022-01-12T00:16:01.829Z"
   },
   {
    "duration": -1345,
    "start_time": "2022-01-12T00:16:01.834Z"
   },
   {
    "duration": 1220,
    "start_time": "2022-01-12T00:16:29.427Z"
   },
   {
    "duration": 74,
    "start_time": "2022-01-12T00:16:38.135Z"
   },
   {
    "duration": 10,
    "start_time": "2022-01-12T00:16:41.283Z"
   },
   {
    "duration": 115,
    "start_time": "2022-01-12T00:16:47.672Z"
   },
   {
    "duration": 41,
    "start_time": "2022-01-12T00:16:48.777Z"
   },
   {
    "duration": 347,
    "start_time": "2022-01-12T00:17:59.749Z"
   },
   {
    "duration": 198,
    "start_time": "2022-01-12T00:18:03.249Z"
   },
   {
    "duration": 307,
    "start_time": "2022-01-12T00:18:05.385Z"
   },
   {
    "duration": 1469,
    "start_time": "2022-01-12T00:18:11.916Z"
   },
   {
    "duration": 1268,
    "start_time": "2022-01-12T00:18:13.388Z"
   },
   {
    "duration": 39,
    "start_time": "2022-01-12T00:18:14.659Z"
   },
   {
    "duration": 402,
    "start_time": "2022-01-12T00:18:14.700Z"
   },
   {
    "duration": 25,
    "start_time": "2022-01-12T00:18:15.104Z"
   },
   {
    "duration": 55,
    "start_time": "2022-01-12T00:18:15.131Z"
   },
   {
    "duration": 227,
    "start_time": "2022-01-12T00:18:15.188Z"
   },
   {
    "duration": 16,
    "start_time": "2022-01-12T00:18:15.419Z"
   },
   {
    "duration": 53,
    "start_time": "2022-01-12T00:18:15.438Z"
   },
   {
    "duration": 418,
    "start_time": "2022-01-12T00:18:15.494Z"
   },
   {
    "duration": 28,
    "start_time": "2022-01-12T00:18:15.915Z"
   },
   {
    "duration": 19,
    "start_time": "2022-01-12T00:18:15.962Z"
   },
   {
    "duration": 3,
    "start_time": "2022-01-12T00:18:15.984Z"
   },
   {
    "duration": 15,
    "start_time": "2022-01-12T00:18:15.989Z"
   },
   {
    "duration": 15,
    "start_time": "2022-01-12T00:18:16.006Z"
   },
   {
    "duration": 10,
    "start_time": "2022-01-12T00:18:16.024Z"
   },
   {
    "duration": 18,
    "start_time": "2022-01-12T00:18:16.036Z"
   },
   {
    "duration": 38,
    "start_time": "2022-01-12T00:18:16.056Z"
   },
   {
    "duration": 19,
    "start_time": "2022-01-12T00:18:16.097Z"
   },
   {
    "duration": 20,
    "start_time": "2022-01-12T00:18:16.119Z"
   },
   {
    "duration": 17,
    "start_time": "2022-01-12T00:18:16.141Z"
   },
   {
    "duration": 18,
    "start_time": "2022-01-12T00:18:16.160Z"
   },
   {
    "duration": 22,
    "start_time": "2022-01-12T00:18:16.182Z"
   },
   {
    "duration": 6,
    "start_time": "2022-01-12T00:18:16.207Z"
   },
   {
    "duration": 19,
    "start_time": "2022-01-12T00:18:16.215Z"
   },
   {
    "duration": 34,
    "start_time": "2022-01-12T00:18:16.236Z"
   },
   {
    "duration": 44,
    "start_time": "2022-01-12T00:18:16.273Z"
   },
   {
    "duration": 164,
    "start_time": "2022-01-12T00:18:16.320Z"
   },
   {
    "duration": 21,
    "start_time": "2022-01-12T00:18:16.486Z"
   },
   {
    "duration": 20,
    "start_time": "2022-01-12T00:18:16.509Z"
   },
   {
    "duration": 51,
    "start_time": "2022-01-12T00:18:16.531Z"
   },
   {
    "duration": 3,
    "start_time": "2022-01-12T00:18:16.585Z"
   },
   {
    "duration": 15,
    "start_time": "2022-01-12T00:18:16.590Z"
   },
   {
    "duration": 126,
    "start_time": "2022-01-12T00:18:16.608Z"
   },
   {
    "duration": 59,
    "start_time": "2022-01-12T00:18:16.737Z"
   },
   {
    "duration": 140,
    "start_time": "2022-01-12T00:18:16.798Z"
   },
   {
    "duration": 54,
    "start_time": "2022-01-12T00:18:16.940Z"
   },
   {
    "duration": 3,
    "start_time": "2022-01-12T00:18:16.996Z"
   },
   {
    "duration": 497,
    "start_time": "2022-01-12T00:36:38.999Z"
   },
   {
    "duration": 1560,
    "start_time": "2022-01-12T00:36:46.436Z"
   },
   {
    "duration": 1289,
    "start_time": "2022-01-12T00:36:47.999Z"
   },
   {
    "duration": 36,
    "start_time": "2022-01-12T00:36:49.292Z"
   },
   {
    "duration": 408,
    "start_time": "2022-01-12T00:36:49.331Z"
   },
   {
    "duration": 39,
    "start_time": "2022-01-12T00:36:49.742Z"
   },
   {
    "duration": 32,
    "start_time": "2022-01-12T00:36:49.784Z"
   },
   {
    "duration": 254,
    "start_time": "2022-01-12T00:36:49.818Z"
   },
   {
    "duration": 20,
    "start_time": "2022-01-12T00:36:50.075Z"
   },
   {
    "duration": 66,
    "start_time": "2022-01-12T00:36:50.101Z"
   },
   {
    "duration": 414,
    "start_time": "2022-01-12T00:36:50.171Z"
   },
   {
    "duration": 27,
    "start_time": "2022-01-12T00:36:50.587Z"
   },
   {
    "duration": 16,
    "start_time": "2022-01-12T00:36:50.616Z"
   },
   {
    "duration": 28,
    "start_time": "2022-01-12T00:36:50.635Z"
   },
   {
    "duration": 13,
    "start_time": "2022-01-12T00:36:50.665Z"
   },
   {
    "duration": 3,
    "start_time": "2022-01-12T00:36:50.681Z"
   },
   {
    "duration": 6,
    "start_time": "2022-01-12T00:36:50.686Z"
   },
   {
    "duration": 8,
    "start_time": "2022-01-12T00:36:50.694Z"
   },
   {
    "duration": 9,
    "start_time": "2022-01-12T00:36:50.704Z"
   },
   {
    "duration": 54,
    "start_time": "2022-01-12T00:36:50.716Z"
   },
   {
    "duration": 7,
    "start_time": "2022-01-12T00:36:50.773Z"
   },
   {
    "duration": 16,
    "start_time": "2022-01-12T00:36:50.782Z"
   },
   {
    "duration": 10,
    "start_time": "2022-01-12T00:36:50.801Z"
   },
   {
    "duration": 51,
    "start_time": "2022-01-12T00:36:50.814Z"
   },
   {
    "duration": 11,
    "start_time": "2022-01-12T00:36:50.868Z"
   },
   {
    "duration": 18,
    "start_time": "2022-01-12T00:36:50.882Z"
   },
   {
    "duration": 11,
    "start_time": "2022-01-12T00:36:50.903Z"
   },
   {
    "duration": 89,
    "start_time": "2022-01-12T00:36:50.920Z"
   },
   {
    "duration": 161,
    "start_time": "2022-01-12T00:36:51.013Z"
   },
   {
    "duration": 91,
    "start_time": "2022-01-12T00:36:51.176Z"
   },
   {
    "duration": 9,
    "start_time": "2022-01-12T00:36:51.274Z"
   },
   {
    "duration": 24,
    "start_time": "2022-01-12T00:36:51.286Z"
   },
   {
    "duration": 3,
    "start_time": "2022-01-12T00:36:51.313Z"
   },
   {
    "duration": 11,
    "start_time": "2022-01-12T00:36:51.318Z"
   },
   {
    "duration": 122,
    "start_time": "2022-01-12T00:36:51.372Z"
   },
   {
    "duration": 43,
    "start_time": "2022-01-12T00:36:51.496Z"
   },
   {
    "duration": 156,
    "start_time": "2022-01-12T00:36:51.541Z"
   },
   {
    "duration": 70,
    "start_time": "2022-01-12T00:36:51.700Z"
   },
   {
    "duration": 4,
    "start_time": "2022-01-12T00:36:51.773Z"
   },
   {
    "duration": 38,
    "start_time": "2022-01-12T00:37:14.513Z"
   },
   {
    "duration": 10,
    "start_time": "2022-01-12T00:37:19.633Z"
   },
   {
    "duration": 1523,
    "start_time": "2022-01-12T00:39:10.928Z"
   },
   {
    "duration": 1248,
    "start_time": "2022-01-12T00:39:12.453Z"
   },
   {
    "duration": 36,
    "start_time": "2022-01-12T00:39:13.705Z"
   },
   {
    "duration": 409,
    "start_time": "2022-01-12T00:39:13.744Z"
   },
   {
    "duration": 28,
    "start_time": "2022-01-12T00:39:14.162Z"
   },
   {
    "duration": 30,
    "start_time": "2022-01-12T00:39:14.193Z"
   },
   {
    "duration": 251,
    "start_time": "2022-01-12T00:39:14.225Z"
   },
   {
    "duration": 16,
    "start_time": "2022-01-12T00:39:14.479Z"
   },
   {
    "duration": 30,
    "start_time": "2022-01-12T00:39:14.499Z"
   },
   {
    "duration": 439,
    "start_time": "2022-01-12T00:39:14.533Z"
   },
   {
    "duration": 30,
    "start_time": "2022-01-12T00:39:14.975Z"
   },
   {
    "duration": 16,
    "start_time": "2022-01-12T00:39:15.008Z"
   },
   {
    "duration": 3,
    "start_time": "2022-01-12T00:39:15.027Z"
   },
   {
    "duration": 44,
    "start_time": "2022-01-12T00:39:15.032Z"
   },
   {
    "duration": 3,
    "start_time": "2022-01-12T00:39:15.079Z"
   },
   {
    "duration": 7,
    "start_time": "2022-01-12T00:39:15.084Z"
   },
   {
    "duration": 6,
    "start_time": "2022-01-12T00:39:15.093Z"
   },
   {
    "duration": 9,
    "start_time": "2022-01-12T00:39:15.101Z"
   },
   {
    "duration": 6,
    "start_time": "2022-01-12T00:39:15.112Z"
   },
   {
    "duration": 5,
    "start_time": "2022-01-12T00:39:15.121Z"
   },
   {
    "duration": 17,
    "start_time": "2022-01-12T00:39:15.172Z"
   },
   {
    "duration": 12,
    "start_time": "2022-01-12T00:39:15.192Z"
   },
   {
    "duration": 16,
    "start_time": "2022-01-12T00:39:15.207Z"
   },
   {
    "duration": 50,
    "start_time": "2022-01-12T00:39:15.225Z"
   },
   {
    "duration": 12,
    "start_time": "2022-01-12T00:39:15.278Z"
   },
   {
    "duration": 8,
    "start_time": "2022-01-12T00:39:15.293Z"
   },
   {
    "duration": 77,
    "start_time": "2022-01-12T00:39:15.305Z"
   },
   {
    "duration": 157,
    "start_time": "2022-01-12T00:39:15.385Z"
   },
   {
    "duration": 74,
    "start_time": "2022-01-12T00:39:15.544Z"
   },
   {
    "duration": 9,
    "start_time": "2022-01-12T00:39:15.620Z"
   },
   {
    "duration": 51,
    "start_time": "2022-01-12T00:39:15.632Z"
   },
   {
    "duration": 37,
    "start_time": "2022-01-12T00:39:15.685Z"
   },
   {
    "duration": 9,
    "start_time": "2022-01-12T00:39:15.724Z"
   },
   {
    "duration": 154,
    "start_time": "2022-01-12T00:39:15.735Z"
   },
   {
    "duration": 42,
    "start_time": "2022-01-12T00:39:15.892Z"
   },
   {
    "duration": 158,
    "start_time": "2022-01-12T00:39:15.937Z"
   },
   {
    "duration": 45,
    "start_time": "2022-01-12T00:39:16.098Z"
   },
   {
    "duration": 3,
    "start_time": "2022-01-12T00:39:16.164Z"
   },
   {
    "duration": 440,
    "start_time": "2022-01-12T00:39:57.777Z"
   },
   {
    "duration": 1549,
    "start_time": "2022-01-12T00:40:06.138Z"
   },
   {
    "duration": 1263,
    "start_time": "2022-01-12T00:40:07.690Z"
   },
   {
    "duration": 37,
    "start_time": "2022-01-12T00:40:08.956Z"
   },
   {
    "duration": 412,
    "start_time": "2022-01-12T00:40:08.996Z"
   },
   {
    "duration": 23,
    "start_time": "2022-01-12T00:40:09.411Z"
   },
   {
    "duration": 54,
    "start_time": "2022-01-12T00:40:09.436Z"
   },
   {
    "duration": 229,
    "start_time": "2022-01-12T00:40:09.493Z"
   },
   {
    "duration": 16,
    "start_time": "2022-01-12T00:40:09.725Z"
   },
   {
    "duration": 49,
    "start_time": "2022-01-12T00:40:09.744Z"
   },
   {
    "duration": 413,
    "start_time": "2022-01-12T00:40:09.796Z"
   },
   {
    "duration": 27,
    "start_time": "2022-01-12T00:40:10.212Z"
   },
   {
    "duration": 36,
    "start_time": "2022-01-12T00:40:10.242Z"
   },
   {
    "duration": 3,
    "start_time": "2022-01-12T00:40:10.281Z"
   },
   {
    "duration": 7,
    "start_time": "2022-01-12T00:40:10.287Z"
   },
   {
    "duration": 3,
    "start_time": "2022-01-12T00:40:10.297Z"
   },
   {
    "duration": 5,
    "start_time": "2022-01-12T00:40:10.302Z"
   },
   {
    "duration": 4,
    "start_time": "2022-01-12T00:40:10.310Z"
   },
   {
    "duration": 7,
    "start_time": "2022-01-12T00:40:10.316Z"
   },
   {
    "duration": 8,
    "start_time": "2022-01-12T00:40:10.372Z"
   },
   {
    "duration": 6,
    "start_time": "2022-01-12T00:40:10.382Z"
   },
   {
    "duration": 15,
    "start_time": "2022-01-12T00:40:10.390Z"
   },
   {
    "duration": 9,
    "start_time": "2022-01-12T00:40:10.408Z"
   },
   {
    "duration": 49,
    "start_time": "2022-01-12T00:40:10.421Z"
   },
   {
    "duration": 8,
    "start_time": "2022-01-12T00:40:10.473Z"
   },
   {
    "duration": 17,
    "start_time": "2022-01-12T00:40:10.483Z"
   },
   {
    "duration": 9,
    "start_time": "2022-01-12T00:40:10.503Z"
   },
   {
    "duration": 81,
    "start_time": "2022-01-12T00:40:10.515Z"
   },
   {
    "duration": 155,
    "start_time": "2022-01-12T00:40:10.599Z"
   },
   {
    "duration": 29,
    "start_time": "2022-01-12T00:40:10.756Z"
   },
   {
    "duration": 11,
    "start_time": "2022-01-12T00:40:10.787Z"
   },
   {
    "duration": 24,
    "start_time": "2022-01-12T00:40:10.801Z"
   },
   {
    "duration": 44,
    "start_time": "2022-01-12T00:40:10.828Z"
   },
   {
    "duration": 13,
    "start_time": "2022-01-12T00:40:10.876Z"
   },
   {
    "duration": 138,
    "start_time": "2022-01-12T00:40:10.892Z"
   },
   {
    "duration": 64,
    "start_time": "2022-01-12T00:40:11.033Z"
   },
   {
    "duration": 151,
    "start_time": "2022-01-12T00:40:11.099Z"
   },
   {
    "duration": 53,
    "start_time": "2022-01-12T00:40:11.253Z"
   },
   {
    "duration": 4,
    "start_time": "2022-01-12T00:40:11.309Z"
   },
   {
    "duration": 1482,
    "start_time": "2022-01-12T00:41:56.713Z"
   },
   {
    "duration": 1362,
    "start_time": "2022-01-12T00:41:58.198Z"
   },
   {
    "duration": 40,
    "start_time": "2022-01-12T00:41:59.564Z"
   },
   {
    "duration": 414,
    "start_time": "2022-01-12T00:41:59.606Z"
   },
   {
    "duration": 41,
    "start_time": "2022-01-12T00:42:00.022Z"
   },
   {
    "duration": 34,
    "start_time": "2022-01-12T00:42:00.065Z"
   },
   {
    "duration": 242,
    "start_time": "2022-01-12T00:42:00.102Z"
   },
   {
    "duration": 30,
    "start_time": "2022-01-12T00:42:00.348Z"
   },
   {
    "duration": 32,
    "start_time": "2022-01-12T00:42:00.382Z"
   },
   {
    "duration": 423,
    "start_time": "2022-01-12T00:42:00.417Z"
   },
   {
    "duration": 40,
    "start_time": "2022-01-12T00:42:00.843Z"
   },
   {
    "duration": 17,
    "start_time": "2022-01-12T00:42:00.886Z"
   },
   {
    "duration": 15,
    "start_time": "2022-01-12T00:42:00.906Z"
   },
   {
    "duration": 27,
    "start_time": "2022-01-12T00:42:00.924Z"
   },
   {
    "duration": 19,
    "start_time": "2022-01-12T00:42:00.953Z"
   },
   {
    "duration": 22,
    "start_time": "2022-01-12T00:42:00.975Z"
   },
   {
    "duration": 18,
    "start_time": "2022-01-12T00:42:01.000Z"
   },
   {
    "duration": 32,
    "start_time": "2022-01-12T00:42:01.021Z"
   },
   {
    "duration": 26,
    "start_time": "2022-01-12T00:42:01.055Z"
   },
   {
    "duration": 23,
    "start_time": "2022-01-12T00:42:01.084Z"
   },
   {
    "duration": 48,
    "start_time": "2022-01-12T00:42:01.109Z"
   },
   {
    "duration": 24,
    "start_time": "2022-01-12T00:42:01.159Z"
   },
   {
    "duration": 26,
    "start_time": "2022-01-12T00:42:01.188Z"
   },
   {
    "duration": 28,
    "start_time": "2022-01-12T00:42:01.217Z"
   },
   {
    "duration": 25,
    "start_time": "2022-01-12T00:42:01.248Z"
   },
   {
    "duration": 21,
    "start_time": "2022-01-12T00:42:01.276Z"
   },
   {
    "duration": 69,
    "start_time": "2022-01-12T00:42:01.301Z"
   },
   {
    "duration": 146,
    "start_time": "2022-01-12T00:42:01.373Z"
   },
   {
    "duration": 26,
    "start_time": "2022-01-12T00:42:01.521Z"
   },
   {
    "duration": 459,
    "start_time": "2022-01-12T00:42:01.572Z"
   },
   {
    "duration": -191,
    "start_time": "2022-01-12T00:42:02.225Z"
   },
   {
    "duration": -241,
    "start_time": "2022-01-12T00:42:02.276Z"
   },
   {
    "duration": -244,
    "start_time": "2022-01-12T00:42:02.281Z"
   },
   {
    "duration": -245,
    "start_time": "2022-01-12T00:42:02.284Z"
   },
   {
    "duration": -248,
    "start_time": "2022-01-12T00:42:02.288Z"
   },
   {
    "duration": -249,
    "start_time": "2022-01-12T00:42:02.291Z"
   },
   {
    "duration": -255,
    "start_time": "2022-01-12T00:42:02.298Z"
   },
   {
    "duration": 327,
    "start_time": "2022-01-12T00:42:46.315Z"
   },
   {
    "duration": 1458,
    "start_time": "2022-01-12T00:43:08.724Z"
   },
   {
    "duration": 1267,
    "start_time": "2022-01-12T00:43:10.187Z"
   },
   {
    "duration": 41,
    "start_time": "2022-01-12T00:43:11.457Z"
   },
   {
    "duration": 388,
    "start_time": "2022-01-12T00:43:11.500Z"
   },
   {
    "duration": 31,
    "start_time": "2022-01-12T00:43:11.891Z"
   },
   {
    "duration": 65,
    "start_time": "2022-01-12T00:43:11.925Z"
   },
   {
    "duration": 227,
    "start_time": "2022-01-12T00:43:11.993Z"
   },
   {
    "duration": 15,
    "start_time": "2022-01-12T00:43:12.222Z"
   },
   {
    "duration": 54,
    "start_time": "2022-01-12T00:43:12.241Z"
   },
   {
    "duration": 414,
    "start_time": "2022-01-12T00:43:12.298Z"
   },
   {
    "duration": 26,
    "start_time": "2022-01-12T00:43:12.715Z"
   },
   {
    "duration": 32,
    "start_time": "2022-01-12T00:43:12.743Z"
   },
   {
    "duration": 3,
    "start_time": "2022-01-12T00:43:12.778Z"
   },
   {
    "duration": 7,
    "start_time": "2022-01-12T00:43:12.783Z"
   },
   {
    "duration": 3,
    "start_time": "2022-01-12T00:43:12.793Z"
   },
   {
    "duration": 5,
    "start_time": "2022-01-12T00:43:12.798Z"
   },
   {
    "duration": 4,
    "start_time": "2022-01-12T00:43:12.805Z"
   },
   {
    "duration": 54,
    "start_time": "2022-01-12T00:43:12.812Z"
   },
   {
    "duration": 11,
    "start_time": "2022-01-12T00:43:12.868Z"
   },
   {
    "duration": 6,
    "start_time": "2022-01-12T00:43:12.882Z"
   },
   {
    "duration": 16,
    "start_time": "2022-01-12T00:43:12.892Z"
   },
   {
    "duration": 60,
    "start_time": "2022-01-12T00:43:12.911Z"
   },
   {
    "duration": 14,
    "start_time": "2022-01-12T00:43:12.974Z"
   },
   {
    "duration": 6,
    "start_time": "2022-01-12T00:43:12.990Z"
   },
   {
    "duration": 12,
    "start_time": "2022-01-12T00:43:12.999Z"
   },
   {
    "duration": 8,
    "start_time": "2022-01-12T00:43:13.014Z"
   },
   {
    "duration": 48,
    "start_time": "2022-01-12T00:43:13.064Z"
   },
   {
    "duration": 164,
    "start_time": "2022-01-12T00:43:13.116Z"
   },
   {
    "duration": 23,
    "start_time": "2022-01-12T00:43:13.284Z"
   },
   {
    "duration": 12,
    "start_time": "2022-01-12T00:43:13.309Z"
   },
   {
    "duration": 4,
    "start_time": "2022-01-12T00:43:13.324Z"
   },
   {
    "duration": 19,
    "start_time": "2022-01-12T00:43:13.363Z"
   },
   {
    "duration": 7,
    "start_time": "2022-01-12T00:43:13.385Z"
   },
   {
    "duration": 167,
    "start_time": "2022-01-12T00:43:13.394Z"
   },
   {
    "duration": 47,
    "start_time": "2022-01-12T00:43:13.563Z"
   },
   {
    "duration": 3,
    "start_time": "2022-01-12T00:43:13.612Z"
   },
   {
    "duration": 57,
    "start_time": "2022-01-12T00:43:13.617Z"
   },
   {
    "duration": 4,
    "start_time": "2022-01-12T00:43:49.275Z"
   },
   {
    "duration": 9,
    "start_time": "2022-01-12T00:44:52.840Z"
   },
   {
    "duration": 12,
    "start_time": "2022-01-12T00:45:02.729Z"
   },
   {
    "duration": 9,
    "start_time": "2022-01-12T00:45:08.778Z"
   },
   {
    "duration": 842,
    "start_time": "2022-01-12T01:42:29.856Z"
   },
   {
    "duration": 16,
    "start_time": "2022-01-12T01:42:34.660Z"
   },
   {
    "duration": 9,
    "start_time": "2022-01-12T01:42:49.717Z"
   },
   {
    "duration": 16,
    "start_time": "2022-01-12T01:43:11.135Z"
   },
   {
    "duration": -551,
    "start_time": "2022-01-12T02:11:45.339Z"
   },
   {
    "duration": 8414,
    "start_time": "2022-01-12T02:11:58.964Z"
   },
   {
    "duration": 8411,
    "start_time": "2022-01-12T02:26:08.085Z"
   },
   {
    "duration": 5593,
    "start_time": "2022-01-12T02:26:37.427Z"
   },
   {
    "duration": 7375,
    "start_time": "2022-01-12T02:31:00.647Z"
   },
   {
    "duration": 4,
    "start_time": "2022-01-12T02:32:23.810Z"
   },
   {
    "duration": 5,
    "start_time": "2022-01-12T02:34:37.920Z"
   },
   {
    "duration": 753,
    "start_time": "2022-01-12T02:34:51.283Z"
   },
   {
    "duration": 6,
    "start_time": "2022-01-12T02:34:55.934Z"
   },
   {
    "duration": 618,
    "start_time": "2022-01-12T02:34:57.429Z"
   },
   {
    "duration": 5,
    "start_time": "2022-01-12T02:35:05.643Z"
   },
   {
    "duration": 2375,
    "start_time": "2022-01-12T02:35:06.764Z"
   },
   {
    "duration": 2345,
    "start_time": "2022-01-12T02:35:28.336Z"
   },
   {
    "duration": 2223,
    "start_time": "2022-01-12T02:35:33.890Z"
   },
   {
    "duration": 5,
    "start_time": "2022-01-12T02:36:48.837Z"
   },
   {
    "duration": 589,
    "start_time": "2022-01-12T02:36:56.100Z"
   },
   {
    "duration": 584,
    "start_time": "2022-01-12T02:36:57.618Z"
   },
   {
    "duration": 600,
    "start_time": "2022-01-12T02:37:00.295Z"
   },
   {
    "duration": 642,
    "start_time": "2022-01-12T02:37:03.674Z"
   },
   {
    "duration": 6,
    "start_time": "2022-01-12T02:37:28.343Z"
   },
   {
    "duration": 1044,
    "start_time": "2022-01-12T02:37:30.835Z"
   },
   {
    "duration": 960,
    "start_time": "2022-01-12T02:37:34.472Z"
   },
   {
    "duration": 930,
    "start_time": "2022-01-12T02:37:40.975Z"
   },
   {
    "duration": 6,
    "start_time": "2022-01-12T02:37:54.486Z"
   },
   {
    "duration": 1406,
    "start_time": "2022-01-12T02:37:55.811Z"
   },
   {
    "duration": 1418,
    "start_time": "2022-01-12T02:38:00.030Z"
   },
   {
    "duration": 1476,
    "start_time": "2022-01-12T02:38:04.817Z"
   },
   {
    "duration": 5,
    "start_time": "2022-01-12T02:40:46.972Z"
   },
   {
    "duration": 1006,
    "start_time": "2022-01-12T02:40:55.751Z"
   },
   {
    "duration": 4,
    "start_time": "2022-01-12T02:41:06.603Z"
   },
   {
    "duration": 719,
    "start_time": "2022-01-12T02:41:10.225Z"
   },
   {
    "duration": 5,
    "start_time": "2022-01-12T02:41:32.884Z"
   },
   {
    "duration": 1251,
    "start_time": "2022-01-12T02:41:39.028Z"
   },
   {
    "duration": 1420,
    "start_time": "2022-01-12T02:41:41.947Z"
   },
   {
    "duration": 1228,
    "start_time": "2022-01-12T02:41:44.041Z"
   },
   {
    "duration": 6133,
    "start_time": "2022-01-12T02:41:51.570Z"
   },
   {
    "duration": 6,
    "start_time": "2022-01-12T02:42:28.158Z"
   },
   {
    "duration": 2140,
    "start_time": "2022-01-12T02:42:30.046Z"
   },
   {
    "duration": 2119,
    "start_time": "2022-01-12T02:42:41.251Z"
   },
   {
    "duration": 2105,
    "start_time": "2022-01-12T02:42:43.373Z"
   },
   {
    "duration": 5,
    "start_time": "2022-01-12T02:43:09.491Z"
   },
   {
    "duration": 1286,
    "start_time": "2022-01-12T02:43:10.008Z"
   },
   {
    "duration": 6,
    "start_time": "2022-01-12T02:43:16.620Z"
   },
   {
    "duration": 1720,
    "start_time": "2022-01-12T02:43:18.301Z"
   },
   {
    "duration": 1517,
    "start_time": "2022-01-12T02:43:23.664Z"
   },
   {
    "duration": 1525,
    "start_time": "2022-01-12T02:43:25.361Z"
   },
   {
    "duration": 5,
    "start_time": "2022-01-12T02:44:15.616Z"
   },
   {
    "duration": 1644,
    "start_time": "2022-01-12T02:44:17.658Z"
   },
   {
    "duration": 6,
    "start_time": "2022-01-12T02:44:27.483Z"
   },
   {
    "duration": 1639,
    "start_time": "2022-01-12T02:44:29.340Z"
   },
   {
    "duration": 1530,
    "start_time": "2022-01-12T02:44:34.336Z"
   },
   {
    "duration": 1751,
    "start_time": "2022-01-12T02:44:38.398Z"
   },
   {
    "duration": 6,
    "start_time": "2022-01-12T02:45:36.760Z"
   },
   {
    "duration": 1607,
    "start_time": "2022-01-12T02:45:39.324Z"
   },
   {
    "duration": 1545,
    "start_time": "2022-01-12T02:45:41.206Z"
   },
   {
    "duration": 1646,
    "start_time": "2022-01-12T02:45:43.689Z"
   },
   {
    "duration": 1538,
    "start_time": "2022-01-12T02:45:56.630Z"
   },
   {
    "duration": 1675,
    "start_time": "2022-01-12T02:46:00.595Z"
   },
   {
    "duration": 1535,
    "start_time": "2022-01-12T02:46:32.134Z"
   },
   {
    "duration": 5,
    "start_time": "2022-01-12T02:46:40.010Z"
   },
   {
    "duration": 1608,
    "start_time": "2022-01-12T02:47:02.672Z"
   },
   {
    "duration": 1648,
    "start_time": "2022-01-12T02:47:12.881Z"
   },
   {
    "duration": 1555,
    "start_time": "2022-01-12T02:47:20.661Z"
   },
   {
    "duration": 7185,
    "start_time": "2022-01-12T02:53:25.684Z"
   },
   {
    "duration": 6,
    "start_time": "2022-01-12T02:57:53.042Z"
   },
   {
    "duration": 1886,
    "start_time": "2022-01-12T02:57:54.727Z"
   },
   {
    "duration": 1521,
    "start_time": "2022-01-12T02:58:46.548Z"
   },
   {
    "duration": 1820,
    "start_time": "2022-01-12T18:52:44.428Z"
   },
   {
    "duration": 2213,
    "start_time": "2022-01-12T18:52:46.251Z"
   },
   {
    "duration": 47,
    "start_time": "2022-01-12T18:52:48.467Z"
   },
   {
    "duration": 395,
    "start_time": "2022-01-12T18:52:48.518Z"
   },
   {
    "duration": 27,
    "start_time": "2022-01-12T18:52:48.917Z"
   },
   {
    "duration": 57,
    "start_time": "2022-01-12T18:52:48.948Z"
   },
   {
    "duration": 386,
    "start_time": "2022-01-12T18:52:49.007Z"
   },
   {
    "duration": 17,
    "start_time": "2022-01-12T18:52:49.397Z"
   },
   {
    "duration": 34,
    "start_time": "2022-01-12T18:52:49.417Z"
   },
   {
    "duration": 457,
    "start_time": "2022-01-12T18:52:49.454Z"
   },
   {
    "duration": 27,
    "start_time": "2022-01-12T18:52:49.913Z"
   },
   {
    "duration": 31,
    "start_time": "2022-01-12T18:52:49.943Z"
   },
   {
    "duration": 4,
    "start_time": "2022-01-12T18:52:49.976Z"
   },
   {
    "duration": 8,
    "start_time": "2022-01-12T18:52:50.002Z"
   },
   {
    "duration": 13,
    "start_time": "2022-01-12T18:52:50.013Z"
   },
   {
    "duration": 8,
    "start_time": "2022-01-12T18:52:50.028Z"
   },
   {
    "duration": 10,
    "start_time": "2022-01-12T18:52:50.039Z"
   },
   {
    "duration": 58,
    "start_time": "2022-01-12T18:52:50.052Z"
   },
   {
    "duration": 10,
    "start_time": "2022-01-12T18:52:50.113Z"
   },
   {
    "duration": 17,
    "start_time": "2022-01-12T18:52:50.125Z"
   },
   {
    "duration": 12,
    "start_time": "2022-01-12T18:52:50.144Z"
   },
   {
    "duration": 53,
    "start_time": "2022-01-12T18:52:50.159Z"
   },
   {
    "duration": 17,
    "start_time": "2022-01-12T18:52:50.220Z"
   },
   {
    "duration": 17,
    "start_time": "2022-01-12T18:52:50.239Z"
   },
   {
    "duration": 45,
    "start_time": "2022-01-12T18:52:50.258Z"
   },
   {
    "duration": 15,
    "start_time": "2022-01-12T18:52:50.306Z"
   },
   {
    "duration": 9,
    "start_time": "2022-01-12T18:52:50.324Z"
   },
   {
    "duration": 181,
    "start_time": "2022-01-12T18:52:50.335Z"
   },
   {
    "duration": 48,
    "start_time": "2022-01-12T18:52:50.519Z"
   },
   {
    "duration": 46,
    "start_time": "2022-01-12T18:52:50.570Z"
   },
   {
    "duration": 7,
    "start_time": "2022-01-12T18:52:50.619Z"
   },
   {
    "duration": 1743,
    "start_time": "2022-01-12T18:52:50.629Z"
   },
   {
    "duration": 1573,
    "start_time": "2022-01-12T18:52:52.375Z"
   },
   {
    "duration": 1567,
    "start_time": "2022-01-12T18:52:53.950Z"
   },
   {
    "duration": 606,
    "start_time": "2022-01-12T20:41:09.448Z"
   },
   {
    "duration": 1060,
    "start_time": "2022-01-12T20:41:30.413Z"
   },
   {
    "duration": 851,
    "start_time": "2022-01-12T20:41:47.527Z"
   },
   {
    "duration": 752,
    "start_time": "2022-01-12T20:42:07.032Z"
   },
   {
    "duration": 829,
    "start_time": "2022-01-12T20:43:15.813Z"
   },
   {
    "duration": 9054,
    "start_time": "2022-01-12T23:12:49.975Z"
   },
   {
    "duration": 126,
    "start_time": "2022-01-12T23:13:44.860Z"
   },
   {
    "duration": 10032,
    "start_time": "2022-01-12T23:13:55.535Z"
   },
   {
    "duration": 8,
    "start_time": "2022-01-12T23:14:52.997Z"
   },
   {
    "duration": 496,
    "start_time": "2022-01-12T23:16:39.442Z"
   },
   {
    "duration": 632,
    "start_time": "2022-01-12T23:16:45.611Z"
   },
   {
    "duration": 488,
    "start_time": "2022-01-12T23:16:51.845Z"
   },
   {
    "duration": 620,
    "start_time": "2022-01-12T23:17:15.370Z"
   },
   {
    "duration": 465,
    "start_time": "2022-01-12T23:17:25.030Z"
   },
   {
    "duration": 554,
    "start_time": "2022-01-12T23:17:35.210Z"
   },
   {
    "duration": 535,
    "start_time": "2022-01-12T23:17:42.118Z"
   },
   {
    "duration": 459,
    "start_time": "2022-01-12T23:17:49.551Z"
   },
   {
    "duration": 498,
    "start_time": "2022-01-12T23:18:31.518Z"
   },
   {
    "duration": -926,
    "start_time": "2022-01-12T23:22:00.112Z"
   },
   {
    "duration": 9896,
    "start_time": "2022-01-12T23:22:13.564Z"
   },
   {
    "duration": 9494,
    "start_time": "2022-01-12T23:25:19.661Z"
   },
   {
    "duration": 151,
    "start_time": "2022-01-12T23:26:16.195Z"
   },
   {
    "duration": 10572,
    "start_time": "2022-01-12T23:26:27.789Z"
   },
   {
    "duration": 470,
    "start_time": "2022-01-12T23:26:58.466Z"
   },
   {
    "duration": -817,
    "start_time": "2022-01-12T23:29:52.283Z"
   },
   {
    "duration": 10122,
    "start_time": "2022-01-12T23:29:55.408Z"
   },
   {
    "duration": 471,
    "start_time": "2022-01-12T23:30:16.307Z"
   },
   {
    "duration": 505,
    "start_time": "2022-01-12T23:31:14.918Z"
   },
   {
    "duration": 618,
    "start_time": "2022-01-12T23:31:45.513Z"
   },
   {
    "duration": 485,
    "start_time": "2022-01-12T23:31:51.326Z"
   },
   {
    "duration": 483,
    "start_time": "2022-01-12T23:31:58.664Z"
   },
   {
    "duration": 389,
    "start_time": "2022-01-12T23:47:50.868Z"
   },
   {
    "duration": 669,
    "start_time": "2022-01-12T23:48:01.240Z"
   },
   {
    "duration": 772,
    "start_time": "2022-01-12T23:48:10.192Z"
   },
   {
    "duration": 626,
    "start_time": "2022-01-12T23:48:25.410Z"
   },
   {
    "duration": 597,
    "start_time": "2022-01-12T23:48:34.860Z"
   },
   {
    "duration": 738,
    "start_time": "2022-01-12T23:48:44.565Z"
   },
   {
    "duration": 635,
    "start_time": "2022-01-12T23:48:52.626Z"
   },
   {
    "duration": 358,
    "start_time": "2022-01-12T23:49:26.782Z"
   },
   {
    "duration": 355,
    "start_time": "2022-01-12T23:50:21.293Z"
   },
   {
    "duration": 354,
    "start_time": "2022-01-12T23:50:23.798Z"
   },
   {
    "duration": 368,
    "start_time": "2022-01-12T23:51:30.295Z"
   },
   {
    "duration": 375,
    "start_time": "2022-01-12T23:51:53.632Z"
   },
   {
    "duration": 762,
    "start_time": "2022-01-12T23:52:02.106Z"
   },
   {
    "duration": 983,
    "start_time": "2022-01-12T23:52:10.210Z"
   },
   {
    "duration": 456,
    "start_time": "2022-01-12T23:54:43.110Z"
   },
   {
    "duration": 441,
    "start_time": "2022-01-12T23:54:50.272Z"
   },
   {
    "duration": 376,
    "start_time": "2022-01-13T00:01:15.502Z"
   },
   {
    "duration": 6,
    "start_time": "2022-01-13T00:01:24.852Z"
   },
   {
    "duration": 261,
    "start_time": "2022-01-13T00:01:30.134Z"
   },
   {
    "duration": 299,
    "start_time": "2022-01-13T00:01:57.824Z"
   },
   {
    "duration": 126,
    "start_time": "2022-01-13T01:17:54.899Z"
   },
   {
    "duration": 6,
    "start_time": "2022-01-13T01:18:00.419Z"
   },
   {
    "duration": 19,
    "start_time": "2022-01-13T01:18:39.279Z"
   },
   {
    "duration": 1295,
    "start_time": "2022-01-13T01:19:40.335Z"
   },
   {
    "duration": 1211,
    "start_time": "2022-01-13T01:20:21.752Z"
   },
   {
    "duration": 1444,
    "start_time": "2022-01-13T01:20:30.897Z"
   },
   {
    "duration": 462,
    "start_time": "2022-01-13T01:20:53.684Z"
   },
   {
    "duration": 379,
    "start_time": "2022-01-13T01:22:57.601Z"
   },
   {
    "duration": 763,
    "start_time": "2022-01-13T01:23:06.337Z"
   },
   {
    "duration": 4,
    "start_time": "2022-01-13T01:23:26.058Z"
   },
   {
    "duration": 760,
    "start_time": "2022-01-13T01:23:42.141Z"
   },
   {
    "duration": 4,
    "start_time": "2022-01-13T01:25:50.265Z"
   },
   {
    "duration": 786,
    "start_time": "2022-01-13T01:25:56.232Z"
   },
   {
    "duration": 389,
    "start_time": "2022-01-13T01:26:19.336Z"
   },
   {
    "duration": 762,
    "start_time": "2022-01-13T01:26:26.253Z"
   },
   {
    "duration": 20,
    "start_time": "2022-01-13T01:26:37.533Z"
   },
   {
    "duration": 20,
    "start_time": "2022-01-13T01:26:41.593Z"
   },
   {
    "duration": 369,
    "start_time": "2022-01-13T01:29:52.621Z"
   },
   {
    "duration": 9727,
    "start_time": "2022-01-13T01:30:05.780Z"
   },
   {
    "duration": 418,
    "start_time": "2022-01-13T01:30:35.059Z"
   },
   {
    "duration": 421,
    "start_time": "2022-01-13T01:30:44.994Z"
   },
   {
    "duration": 409,
    "start_time": "2022-01-13T01:30:52.633Z"
   },
   {
    "duration": 50,
    "start_time": "2022-01-13T01:30:55.657Z"
   },
   {
    "duration": 9548,
    "start_time": "2022-01-13T01:31:17.234Z"
   },
   {
    "duration": -515,
    "start_time": "2022-01-13T01:31:38.142Z"
   },
   {
    "duration": 10320,
    "start_time": "2022-01-13T01:31:43.007Z"
   },
   {
    "duration": 41,
    "start_time": "2022-01-13T01:32:02.468Z"
   },
   {
    "duration": 45,
    "start_time": "2022-01-13T01:32:15.514Z"
   },
   {
    "duration": 5,
    "start_time": "2022-01-13T01:32:31.130Z"
   },
   {
    "duration": 789,
    "start_time": "2022-01-13T01:32:37.004Z"
   },
   {
    "duration": 750,
    "start_time": "2022-01-13T01:37:41.017Z"
   },
   {
    "duration": 6,
    "start_time": "2022-01-13T01:41:30.774Z"
   },
   {
    "duration": 758,
    "start_time": "2022-01-13T01:41:34.092Z"
   },
   {
    "duration": 786,
    "start_time": "2022-01-13T01:41:44.328Z"
   },
   {
    "duration": 7,
    "start_time": "2022-01-13T01:42:40.871Z"
   },
   {
    "duration": 7,
    "start_time": "2022-01-13T01:43:36.970Z"
   },
   {
    "duration": 770,
    "start_time": "2022-01-13T01:43:40.313Z"
   },
   {
    "duration": 5,
    "start_time": "2022-01-13T01:46:50.844Z"
   },
   {
    "duration": 40,
    "start_time": "2022-01-13T01:48:06.688Z"
   },
   {
    "duration": 1260,
    "start_time": "2022-01-13T01:48:20.556Z"
   },
   {
    "duration": 1222,
    "start_time": "2022-01-13T01:49:08.405Z"
   },
   {
    "duration": 1409,
    "start_time": "2022-01-13T01:50:07.623Z"
   },
   {
    "duration": 1225,
    "start_time": "2022-01-13T01:50:24.055Z"
   },
   {
    "duration": 389,
    "start_time": "2022-01-13T01:58:23.369Z"
   },
   {
    "duration": 8,
    "start_time": "2022-01-13T02:18:00.270Z"
   },
   {
    "duration": 179,
    "start_time": "2022-01-13T02:19:15.273Z"
   },
   {
    "duration": 350,
    "start_time": "2022-01-13T02:19:29.158Z"
   },
   {
    "duration": 182,
    "start_time": "2022-01-13T02:20:01.602Z"
   },
   {
    "duration": 5,
    "start_time": "2022-01-13T02:20:38.887Z"
   },
   {
    "duration": 180,
    "start_time": "2022-01-13T02:20:44.539Z"
   },
   {
    "duration": 330,
    "start_time": "2022-01-13T02:22:35.890Z"
   },
   {
    "duration": 1526,
    "start_time": "2022-01-13T02:22:43.840Z"
   },
   {
    "duration": 1291,
    "start_time": "2022-01-13T02:22:45.369Z"
   },
   {
    "duration": 50,
    "start_time": "2022-01-13T02:22:46.663Z"
   },
   {
    "duration": 378,
    "start_time": "2022-01-13T02:22:46.716Z"
   },
   {
    "duration": 27,
    "start_time": "2022-01-13T02:22:47.096Z"
   },
   {
    "duration": 41,
    "start_time": "2022-01-13T02:22:47.125Z"
   },
   {
    "duration": 248,
    "start_time": "2022-01-13T02:22:47.168Z"
   },
   {
    "duration": 19,
    "start_time": "2022-01-13T02:22:47.420Z"
   },
   {
    "duration": 30,
    "start_time": "2022-01-13T02:22:47.443Z"
   },
   {
    "duration": 404,
    "start_time": "2022-01-13T02:22:47.501Z"
   },
   {
    "duration": 26,
    "start_time": "2022-01-13T02:22:47.907Z"
   },
   {
    "duration": 15,
    "start_time": "2022-01-13T02:22:47.936Z"
   },
   {
    "duration": 3,
    "start_time": "2022-01-13T02:22:47.953Z"
   },
   {
    "duration": 43,
    "start_time": "2022-01-13T02:22:47.959Z"
   },
   {
    "duration": 7,
    "start_time": "2022-01-13T02:22:48.004Z"
   },
   {
    "duration": 10,
    "start_time": "2022-01-13T02:22:48.013Z"
   },
   {
    "duration": 6,
    "start_time": "2022-01-13T02:22:48.025Z"
   },
   {
    "duration": 14,
    "start_time": "2022-01-13T02:22:48.034Z"
   },
   {
    "duration": 9,
    "start_time": "2022-01-13T02:22:48.051Z"
   },
   {
    "duration": 14,
    "start_time": "2022-01-13T02:22:48.101Z"
   },
   {
    "duration": 6,
    "start_time": "2022-01-13T02:22:48.117Z"
   },
   {
    "duration": 22,
    "start_time": "2022-01-13T02:22:48.125Z"
   },
   {
    "duration": 53,
    "start_time": "2022-01-13T02:22:48.152Z"
   },
   {
    "duration": 16,
    "start_time": "2022-01-13T02:22:48.208Z"
   },
   {
    "duration": 7,
    "start_time": "2022-01-13T02:22:48.227Z"
   },
   {
    "duration": 13,
    "start_time": "2022-01-13T02:22:48.236Z"
   },
   {
    "duration": 9,
    "start_time": "2022-01-13T02:22:48.251Z"
   },
   {
    "duration": 158,
    "start_time": "2022-01-13T02:22:48.300Z"
   },
   {
    "duration": 56,
    "start_time": "2022-01-13T02:22:48.460Z"
   },
   {
    "duration": 24,
    "start_time": "2022-01-13T02:22:48.519Z"
   },
   {
    "duration": 5,
    "start_time": "2022-01-13T02:22:48.545Z"
   },
   {
    "duration": 1640,
    "start_time": "2022-01-13T02:22:48.552Z"
   },
   {
    "duration": 1606,
    "start_time": "2022-01-13T02:22:50.194Z"
   },
   {
    "duration": 1784,
    "start_time": "2022-01-13T02:22:51.803Z"
   },
   {
    "duration": 855,
    "start_time": "2022-01-13T02:22:53.589Z"
   },
   {
    "duration": 729,
    "start_time": "2022-01-13T02:22:54.446Z"
   },
   {
    "duration": 461,
    "start_time": "2022-01-13T02:22:55.177Z"
   },
   {
    "duration": 465,
    "start_time": "2022-01-13T02:22:55.641Z"
   },
   {
    "duration": 5,
    "start_time": "2022-01-13T02:22:56.109Z"
   },
   {
    "duration": 60,
    "start_time": "2022-01-13T02:22:56.116Z"
   },
   {
    "duration": 1266,
    "start_time": "2022-01-13T02:22:56.178Z"
   },
   {
    "duration": 1249,
    "start_time": "2022-01-13T02:22:57.446Z"
   },
   {
    "duration": 1374,
    "start_time": "2022-01-13T02:22:58.701Z"
   },
   {
    "duration": 7,
    "start_time": "2022-01-13T02:23:00.078Z"
   },
   {
    "duration": 205,
    "start_time": "2022-01-13T02:23:00.088Z"
   },
   {
    "duration": 25,
    "start_time": "2022-01-13T02:24:35.010Z"
   },
   {
    "duration": 504,
    "start_time": "2022-01-13T02:24:45.963Z"
   },
   {
    "duration": 407,
    "start_time": "2022-01-13T02:24:49.137Z"
   },
   {
    "duration": 37,
    "start_time": "2022-01-13T02:25:06.384Z"
   },
   {
    "duration": 871,
    "start_time": "2022-01-13T02:25:30.884Z"
   },
   {
    "duration": 497,
    "start_time": "2022-01-13T02:26:02.902Z"
   },
   {
    "duration": 365,
    "start_time": "2022-01-13T02:46:07.923Z"
   },
   {
    "duration": 387,
    "start_time": "2022-01-13T03:02:49.759Z"
   },
   {
    "duration": 380,
    "start_time": "2022-01-13T03:02:59.949Z"
   },
   {
    "duration": 2866,
    "start_time": "2022-01-13T18:35:31.089Z"
   },
   {
    "duration": 4388,
    "start_time": "2022-01-13T18:35:33.960Z"
   },
   {
    "duration": 39,
    "start_time": "2022-01-13T18:35:38.351Z"
   },
   {
    "duration": 393,
    "start_time": "2022-01-13T18:35:38.393Z"
   },
   {
    "duration": 41,
    "start_time": "2022-01-13T18:35:38.789Z"
   },
   {
    "duration": 67,
    "start_time": "2022-01-13T18:35:38.833Z"
   },
   {
    "duration": 221,
    "start_time": "2022-01-13T18:35:38.902Z"
   },
   {
    "duration": 16,
    "start_time": "2022-01-13T18:35:39.126Z"
   },
   {
    "duration": 31,
    "start_time": "2022-01-13T18:35:39.162Z"
   },
   {
    "duration": 409,
    "start_time": "2022-01-13T18:35:39.196Z"
   },
   {
    "duration": 26,
    "start_time": "2022-01-13T18:35:39.608Z"
   },
   {
    "duration": 28,
    "start_time": "2022-01-13T18:35:39.636Z"
   },
   {
    "duration": 3,
    "start_time": "2022-01-13T18:35:39.666Z"
   },
   {
    "duration": 11,
    "start_time": "2022-01-13T18:35:39.671Z"
   },
   {
    "duration": 7,
    "start_time": "2022-01-13T18:35:39.685Z"
   },
   {
    "duration": 8,
    "start_time": "2022-01-13T18:35:39.695Z"
   },
   {
    "duration": 55,
    "start_time": "2022-01-13T18:35:39.706Z"
   },
   {
    "duration": 15,
    "start_time": "2022-01-13T18:35:39.764Z"
   },
   {
    "duration": 10,
    "start_time": "2022-01-13T18:35:39.782Z"
   },
   {
    "duration": 14,
    "start_time": "2022-01-13T18:35:39.795Z"
   },
   {
    "duration": 52,
    "start_time": "2022-01-13T18:35:39.812Z"
   },
   {
    "duration": 20,
    "start_time": "2022-01-13T18:35:39.867Z"
   },
   {
    "duration": 12,
    "start_time": "2022-01-13T18:35:39.890Z"
   },
   {
    "duration": 55,
    "start_time": "2022-01-13T18:35:39.904Z"
   },
   {
    "duration": 8,
    "start_time": "2022-01-13T18:35:39.961Z"
   },
   {
    "duration": 16,
    "start_time": "2022-01-13T18:35:39.971Z"
   },
   {
    "duration": 10,
    "start_time": "2022-01-13T18:35:39.992Z"
   },
   {
    "duration": 180,
    "start_time": "2022-01-13T18:35:40.005Z"
   },
   {
    "duration": 43,
    "start_time": "2022-01-13T18:35:40.188Z"
   },
   {
    "duration": 58,
    "start_time": "2022-01-13T18:35:40.233Z"
   },
   {
    "duration": 5,
    "start_time": "2022-01-13T18:35:40.293Z"
   },
   {
    "duration": 1837,
    "start_time": "2022-01-13T18:35:40.301Z"
   },
   {
    "duration": 1566,
    "start_time": "2022-01-13T18:35:42.140Z"
   },
   {
    "duration": 1591,
    "start_time": "2022-01-13T18:35:43.708Z"
   },
   {
    "duration": 783,
    "start_time": "2022-01-13T18:35:45.301Z"
   },
   {
    "duration": 609,
    "start_time": "2022-01-13T18:35:46.087Z"
   },
   {
    "duration": 479,
    "start_time": "2022-01-13T18:35:46.699Z"
   },
   {
    "duration": 478,
    "start_time": "2022-01-13T18:35:47.181Z"
   },
   {
    "duration": 6,
    "start_time": "2022-01-13T18:35:47.662Z"
   },
   {
    "duration": 51,
    "start_time": "2022-01-13T18:35:47.670Z"
   },
   {
    "duration": 1317,
    "start_time": "2022-01-13T18:35:47.723Z"
   },
   {
    "duration": 1257,
    "start_time": "2022-01-13T18:35:49.043Z"
   },
   {
    "duration": 2125,
    "start_time": "2022-01-13T18:35:50.302Z"
   },
   {
    "duration": 41,
    "start_time": "2022-01-13T18:35:52.431Z"
   },
   {
    "duration": 1710,
    "start_time": "2022-01-13T18:35:52.475Z"
   },
   {
    "duration": 7,
    "start_time": "2022-01-13T18:48:44.226Z"
   },
   {
    "duration": 372,
    "start_time": "2022-01-13T18:49:32.220Z"
   },
   {
    "duration": 8,
    "start_time": "2022-01-13T18:49:46.607Z"
   },
   {
    "duration": 372,
    "start_time": "2022-01-13T20:08:15.354Z"
   },
   {
    "duration": 167,
    "start_time": "2022-01-13T20:30:58.844Z"
   },
   {
    "duration": 428,
    "start_time": "2022-01-13T20:31:03.877Z"
   },
   {
    "duration": 415,
    "start_time": "2022-01-13T20:42:06.577Z"
   },
   {
    "duration": 1554,
    "start_time": "2022-01-13T20:42:17.459Z"
   },
   {
    "duration": 1269,
    "start_time": "2022-01-13T20:42:19.016Z"
   },
   {
    "duration": 35,
    "start_time": "2022-01-13T20:42:20.288Z"
   },
   {
    "duration": 398,
    "start_time": "2022-01-13T20:42:20.325Z"
   },
   {
    "duration": 34,
    "start_time": "2022-01-13T20:42:20.725Z"
   },
   {
    "duration": 30,
    "start_time": "2022-01-13T20:42:20.761Z"
   },
   {
    "duration": 227,
    "start_time": "2022-01-13T20:42:20.793Z"
   },
   {
    "duration": 16,
    "start_time": "2022-01-13T20:42:21.024Z"
   },
   {
    "duration": 43,
    "start_time": "2022-01-13T20:42:21.043Z"
   },
   {
    "duration": 415,
    "start_time": "2022-01-13T20:42:21.089Z"
   },
   {
    "duration": 29,
    "start_time": "2022-01-13T20:42:21.507Z"
   },
   {
    "duration": 16,
    "start_time": "2022-01-13T20:42:21.558Z"
   },
   {
    "duration": 3,
    "start_time": "2022-01-13T20:42:21.577Z"
   },
   {
    "duration": 9,
    "start_time": "2022-01-13T20:42:21.583Z"
   },
   {
    "duration": 9,
    "start_time": "2022-01-13T20:42:21.595Z"
   },
   {
    "duration": 53,
    "start_time": "2022-01-13T20:42:21.607Z"
   },
   {
    "duration": 5,
    "start_time": "2022-01-13T20:42:21.662Z"
   },
   {
    "duration": 18,
    "start_time": "2022-01-13T20:42:21.670Z"
   },
   {
    "duration": 12,
    "start_time": "2022-01-13T20:42:21.691Z"
   },
   {
    "duration": 56,
    "start_time": "2022-01-13T20:42:21.705Z"
   },
   {
    "duration": 8,
    "start_time": "2022-01-13T20:42:21.763Z"
   },
   {
    "duration": 23,
    "start_time": "2022-01-13T20:42:21.774Z"
   },
   {
    "duration": 12,
    "start_time": "2022-01-13T20:42:21.802Z"
   },
   {
    "duration": 57,
    "start_time": "2022-01-13T20:42:21.817Z"
   },
   {
    "duration": 14,
    "start_time": "2022-01-13T20:42:21.877Z"
   },
   {
    "duration": 18,
    "start_time": "2022-01-13T20:42:21.894Z"
   },
   {
    "duration": 16,
    "start_time": "2022-01-13T20:42:21.915Z"
   },
   {
    "duration": 175,
    "start_time": "2022-01-13T20:42:21.958Z"
   },
   {
    "duration": 66,
    "start_time": "2022-01-13T20:42:22.135Z"
   },
   {
    "duration": 72,
    "start_time": "2022-01-13T20:42:22.204Z"
   },
   {
    "duration": 6,
    "start_time": "2022-01-13T20:42:22.279Z"
   },
   {
    "duration": 2789,
    "start_time": "2022-01-13T20:42:22.288Z"
   },
   {
    "duration": 1538,
    "start_time": "2022-01-13T20:42:25.080Z"
   },
   {
    "duration": 2239,
    "start_time": "2022-01-13T20:42:26.620Z"
   },
   {
    "duration": 744,
    "start_time": "2022-01-13T20:42:28.863Z"
   },
   {
    "duration": 579,
    "start_time": "2022-01-13T20:42:29.609Z"
   },
   {
    "duration": 456,
    "start_time": "2022-01-13T20:42:30.192Z"
   },
   {
    "duration": 479,
    "start_time": "2022-01-13T20:42:30.650Z"
   },
   {
    "duration": 5,
    "start_time": "2022-01-13T20:42:31.131Z"
   },
   {
    "duration": 65,
    "start_time": "2022-01-13T20:42:31.139Z"
   },
   {
    "duration": 1365,
    "start_time": "2022-01-13T20:42:31.207Z"
   },
   {
    "duration": 1943,
    "start_time": "2022-01-13T20:42:32.575Z"
   },
   {
    "duration": 2167,
    "start_time": "2022-01-13T20:42:34.521Z"
   },
   {
    "duration": 27,
    "start_time": "2022-01-13T20:42:36.691Z"
   },
   {
    "duration": 610,
    "start_time": "2022-01-13T20:42:36.721Z"
   },
   {
    "duration": -194,
    "start_time": "2022-01-13T20:42:37.527Z"
   },
   {
    "duration": -198,
    "start_time": "2022-01-13T20:42:37.533Z"
   },
   {
    "duration": -202,
    "start_time": "2022-01-13T20:42:37.538Z"
   },
   {
    "duration": 392,
    "start_time": "2022-01-13T20:43:35.638Z"
   },
   {
    "duration": 10,
    "start_time": "2022-01-13T20:43:53.866Z"
   },
   {
    "duration": 6,
    "start_time": "2022-01-13T20:50:19.533Z"
   },
   {
    "duration": 38,
    "start_time": "2022-01-13T21:08:50.316Z"
   },
   {
    "duration": 367,
    "start_time": "2022-01-13T21:18:43.843Z"
   },
   {
    "duration": 6,
    "start_time": "2022-01-13T21:18:50.067Z"
   },
   {
    "duration": 40,
    "start_time": "2022-01-13T21:19:36.765Z"
   },
   {
    "duration": 1391,
    "start_time": "2022-01-13T21:20:10.669Z"
   },
   {
    "duration": 43,
    "start_time": "2022-01-13T21:20:23.879Z"
   },
   {
    "duration": 5,
    "start_time": "2022-01-14T00:13:42.258Z"
   },
   {
    "duration": 7,
    "start_time": "2022-01-14T00:13:58.496Z"
   },
   {
    "duration": 8,
    "start_time": "2022-01-14T00:14:00.533Z"
   },
   {
    "duration": 6,
    "start_time": "2022-01-14T00:16:57.380Z"
   },
   {
    "duration": 5,
    "start_time": "2022-01-14T00:18:42.372Z"
   },
   {
    "duration": 4,
    "start_time": "2022-01-14T00:22:26.607Z"
   },
   {
    "duration": 489,
    "start_time": "2022-01-14T00:36:31.749Z"
   },
   {
    "duration": 57,
    "start_time": "2022-01-14T00:39:30.265Z"
   },
   {
    "duration": 400,
    "start_time": "2022-01-14T00:39:36.595Z"
   },
   {
    "duration": 425,
    "start_time": "2022-01-14T00:40:32.798Z"
   },
   {
    "duration": 8,
    "start_time": "2022-01-14T00:41:25.467Z"
   },
   {
    "duration": 379,
    "start_time": "2022-01-14T00:41:31.508Z"
   },
   {
    "duration": 8,
    "start_time": "2022-01-14T00:41:42.608Z"
   },
   {
    "duration": 382,
    "start_time": "2022-01-14T00:41:49.370Z"
   },
   {
    "duration": 5,
    "start_time": "2022-01-14T00:41:54.707Z"
   },
   {
    "duration": 586,
    "start_time": "2022-01-14T00:42:03.132Z"
   },
   {
    "duration": 19,
    "start_time": "2022-01-14T00:43:01.374Z"
   },
   {
    "duration": 503,
    "start_time": "2022-01-14T00:43:07.214Z"
   },
   {
    "duration": 1491,
    "start_time": "2022-01-14T00:44:05.946Z"
   },
   {
    "duration": 1266,
    "start_time": "2022-01-14T00:44:07.440Z"
   },
   {
    "duration": 50,
    "start_time": "2022-01-14T00:44:08.710Z"
   },
   {
    "duration": 384,
    "start_time": "2022-01-14T00:44:08.764Z"
   },
   {
    "duration": 33,
    "start_time": "2022-01-14T00:44:09.151Z"
   },
   {
    "duration": 32,
    "start_time": "2022-01-14T00:44:09.187Z"
   },
   {
    "duration": 253,
    "start_time": "2022-01-14T00:44:09.222Z"
   },
   {
    "duration": 18,
    "start_time": "2022-01-14T00:44:09.478Z"
   },
   {
    "duration": 58,
    "start_time": "2022-01-14T00:44:09.502Z"
   },
   {
    "duration": 413,
    "start_time": "2022-01-14T00:44:09.564Z"
   },
   {
    "duration": 28,
    "start_time": "2022-01-14T00:44:09.980Z"
   },
   {
    "duration": 18,
    "start_time": "2022-01-14T00:44:10.011Z"
   },
   {
    "duration": 28,
    "start_time": "2022-01-14T00:44:10.031Z"
   },
   {
    "duration": 10,
    "start_time": "2022-01-14T00:44:10.063Z"
   },
   {
    "duration": 6,
    "start_time": "2022-01-14T00:44:10.076Z"
   },
   {
    "duration": 12,
    "start_time": "2022-01-14T00:44:10.085Z"
   },
   {
    "duration": 7,
    "start_time": "2022-01-14T00:44:10.099Z"
   },
   {
    "duration": 60,
    "start_time": "2022-01-14T00:44:10.108Z"
   },
   {
    "duration": 9,
    "start_time": "2022-01-14T00:44:10.171Z"
   },
   {
    "duration": 13,
    "start_time": "2022-01-14T00:44:10.182Z"
   },
   {
    "duration": 5,
    "start_time": "2022-01-14T00:44:10.197Z"
   },
   {
    "duration": 61,
    "start_time": "2022-01-14T00:44:10.204Z"
   },
   {
    "duration": 9,
    "start_time": "2022-01-14T00:44:10.268Z"
   },
   {
    "duration": 14,
    "start_time": "2022-01-14T00:44:10.279Z"
   },
   {
    "duration": 8,
    "start_time": "2022-01-14T00:44:10.295Z"
   },
   {
    "duration": 12,
    "start_time": "2022-01-14T00:44:10.305Z"
   },
   {
    "duration": 9,
    "start_time": "2022-01-14T00:44:10.359Z"
   },
   {
    "duration": 152,
    "start_time": "2022-01-14T00:44:10.371Z"
   },
   {
    "duration": 51,
    "start_time": "2022-01-14T00:44:10.525Z"
   },
   {
    "duration": 41,
    "start_time": "2022-01-14T00:44:10.578Z"
   },
   {
    "duration": 5,
    "start_time": "2022-01-14T00:44:10.622Z"
   },
   {
    "duration": 1833,
    "start_time": "2022-01-14T00:44:10.629Z"
   },
   {
    "duration": 1516,
    "start_time": "2022-01-14T00:44:12.464Z"
   },
   {
    "duration": 1531,
    "start_time": "2022-01-14T00:44:13.983Z"
   },
   {
    "duration": 752,
    "start_time": "2022-01-14T00:44:15.516Z"
   },
   {
    "duration": 605,
    "start_time": "2022-01-14T00:44:16.270Z"
   },
   {
    "duration": 454,
    "start_time": "2022-01-14T00:44:16.877Z"
   },
   {
    "duration": 467,
    "start_time": "2022-01-14T00:44:17.333Z"
   },
   {
    "duration": 5,
    "start_time": "2022-01-14T00:44:17.803Z"
   },
   {
    "duration": 67,
    "start_time": "2022-01-14T00:44:17.810Z"
   },
   {
    "duration": 1046,
    "start_time": "2022-01-14T00:44:17.879Z"
   },
   {
    "duration": -355,
    "start_time": "2022-01-14T00:44:19.283Z"
   },
   {
    "duration": -362,
    "start_time": "2022-01-14T00:44:19.291Z"
   },
   {
    "duration": -375,
    "start_time": "2022-01-14T00:44:19.306Z"
   },
   {
    "duration": -411,
    "start_time": "2022-01-14T00:44:19.344Z"
   },
   {
    "duration": -422,
    "start_time": "2022-01-14T00:44:19.356Z"
   },
   {
    "duration": -429,
    "start_time": "2022-01-14T00:44:19.365Z"
   },
   {
    "duration": -433,
    "start_time": "2022-01-14T00:44:19.370Z"
   },
   {
    "duration": -450,
    "start_time": "2022-01-14T00:44:19.388Z"
   },
   {
    "duration": -433,
    "start_time": "2022-01-14T00:44:19.392Z"
   },
   {
    "duration": -438,
    "start_time": "2022-01-14T00:44:19.399Z"
   },
   {
    "duration": 89,
    "start_time": "2022-01-14T00:44:55.016Z"
   },
   {
    "duration": 1635,
    "start_time": "2022-01-14T00:45:02.081Z"
   },
   {
    "duration": 1249,
    "start_time": "2022-01-14T00:45:03.719Z"
   },
   {
    "duration": 35,
    "start_time": "2022-01-14T00:45:04.971Z"
   },
   {
    "duration": 391,
    "start_time": "2022-01-14T00:45:05.009Z"
   },
   {
    "duration": 24,
    "start_time": "2022-01-14T00:45:05.403Z"
   },
   {
    "duration": 51,
    "start_time": "2022-01-14T00:45:05.429Z"
   },
   {
    "duration": 221,
    "start_time": "2022-01-14T00:45:05.483Z"
   },
   {
    "duration": 16,
    "start_time": "2022-01-14T00:45:05.706Z"
   },
   {
    "duration": 50,
    "start_time": "2022-01-14T00:45:05.726Z"
   },
   {
    "duration": 498,
    "start_time": "2022-01-14T00:45:05.780Z"
   },
   {
    "duration": 36,
    "start_time": "2022-01-14T00:45:06.281Z"
   },
   {
    "duration": 41,
    "start_time": "2022-01-14T00:45:06.320Z"
   },
   {
    "duration": 3,
    "start_time": "2022-01-14T00:45:06.363Z"
   },
   {
    "duration": 9,
    "start_time": "2022-01-14T00:45:06.368Z"
   },
   {
    "duration": 8,
    "start_time": "2022-01-14T00:45:06.380Z"
   },
   {
    "duration": 9,
    "start_time": "2022-01-14T00:45:06.390Z"
   },
   {
    "duration": 7,
    "start_time": "2022-01-14T00:45:06.401Z"
   },
   {
    "duration": 60,
    "start_time": "2022-01-14T00:45:06.411Z"
   },
   {
    "duration": 11,
    "start_time": "2022-01-14T00:45:06.473Z"
   },
   {
    "duration": 15,
    "start_time": "2022-01-14T00:45:06.486Z"
   },
   {
    "duration": 5,
    "start_time": "2022-01-14T00:45:06.504Z"
   },
   {
    "duration": 22,
    "start_time": "2022-01-14T00:45:06.559Z"
   },
   {
    "duration": 10,
    "start_time": "2022-01-14T00:45:06.583Z"
   },
   {
    "duration": 15,
    "start_time": "2022-01-14T00:45:06.595Z"
   },
   {
    "duration": 48,
    "start_time": "2022-01-14T00:45:06.612Z"
   },
   {
    "duration": 18,
    "start_time": "2022-01-14T00:45:06.663Z"
   },
   {
    "duration": 9,
    "start_time": "2022-01-14T00:45:06.687Z"
   },
   {
    "duration": 181,
    "start_time": "2022-01-14T00:45:06.700Z"
   },
   {
    "duration": 44,
    "start_time": "2022-01-14T00:45:06.884Z"
   },
   {
    "duration": 67,
    "start_time": "2022-01-14T00:45:06.930Z"
   },
   {
    "duration": 5,
    "start_time": "2022-01-14T00:45:07.000Z"
   },
   {
    "duration": 1673,
    "start_time": "2022-01-14T00:45:07.007Z"
   },
   {
    "duration": 1506,
    "start_time": "2022-01-14T00:45:08.683Z"
   },
   {
    "duration": 1506,
    "start_time": "2022-01-14T00:45:10.191Z"
   },
   {
    "duration": 847,
    "start_time": "2022-01-14T00:45:11.700Z"
   },
   {
    "duration": 487,
    "start_time": "2022-01-14T00:45:12.549Z"
   },
   {
    "duration": 451,
    "start_time": "2022-01-14T00:45:13.038Z"
   },
   {
    "duration": 455,
    "start_time": "2022-01-14T00:45:13.492Z"
   },
   {
    "duration": 10,
    "start_time": "2022-01-14T00:45:13.950Z"
   },
   {
    "duration": 49,
    "start_time": "2022-01-14T00:45:13.963Z"
   },
   {
    "duration": 1248,
    "start_time": "2022-01-14T00:45:14.014Z"
   },
   {
    "duration": 1245,
    "start_time": "2022-01-14T00:45:15.264Z"
   },
   {
    "duration": 1348,
    "start_time": "2022-01-14T00:45:16.511Z"
   },
   {
    "duration": 7,
    "start_time": "2022-01-14T00:45:17.862Z"
   },
   {
    "duration": 7,
    "start_time": "2022-01-14T00:45:17.872Z"
   },
   {
    "duration": 36,
    "start_time": "2022-01-14T00:45:17.882Z"
   },
   {
    "duration": 6,
    "start_time": "2022-01-14T00:45:17.921Z"
   },
   {
    "duration": 38,
    "start_time": "2022-01-14T00:45:17.960Z"
   },
   {
    "duration": 5,
    "start_time": "2022-01-14T00:45:18.001Z"
   },
   {
    "duration": 53,
    "start_time": "2022-01-14T00:45:18.009Z"
   },
   {
    "duration": 718,
    "start_time": "2022-01-14T00:45:18.065Z"
   },
   {
    "duration": 50,
    "start_time": "2022-01-14T00:46:12.575Z"
   },
   {
    "duration": 24,
    "start_time": "2022-01-14T00:46:23.406Z"
   },
   {
    "duration": 885,
    "start_time": "2022-01-14T00:46:46.443Z"
   },
   {
    "duration": 355,
    "start_time": "2022-01-14T00:47:29.072Z"
   },
   {
    "duration": 12,
    "start_time": "2022-01-14T00:47:51.317Z"
   },
   {
    "duration": 69,
    "start_time": "2022-01-14T00:47:54.192Z"
   },
   {
    "duration": 1063,
    "start_time": "2022-01-14T00:48:34.065Z"
   },
   {
    "duration": 370,
    "start_time": "2022-01-14T00:48:42.153Z"
   },
   {
    "duration": 21,
    "start_time": "2022-01-14T00:48:47.478Z"
   },
   {
    "duration": 62,
    "start_time": "2022-01-14T00:48:48.704Z"
   },
   {
    "duration": 373,
    "start_time": "2022-01-14T00:48:59.299Z"
   },
   {
    "duration": 6,
    "start_time": "2022-01-14T00:49:13.067Z"
   },
   {
    "duration": 435,
    "start_time": "2022-01-14T00:49:16.736Z"
   },
   {
    "duration": 455,
    "start_time": "2022-01-14T00:49:25.451Z"
   },
   {
    "duration": 1608,
    "start_time": "2022-01-14T00:50:03.976Z"
   },
   {
    "duration": 1269,
    "start_time": "2022-01-14T00:50:05.588Z"
   },
   {
    "duration": 37,
    "start_time": "2022-01-14T00:50:06.860Z"
   },
   {
    "duration": 385,
    "start_time": "2022-01-14T00:50:06.899Z"
   },
   {
    "duration": 24,
    "start_time": "2022-01-14T00:50:07.286Z"
   },
   {
    "duration": 49,
    "start_time": "2022-01-14T00:50:07.312Z"
   },
   {
    "duration": 222,
    "start_time": "2022-01-14T00:50:07.364Z"
   },
   {
    "duration": 18,
    "start_time": "2022-01-14T00:50:07.589Z"
   },
   {
    "duration": 61,
    "start_time": "2022-01-14T00:50:07.612Z"
   },
   {
    "duration": 402,
    "start_time": "2022-01-14T00:50:07.678Z"
   },
   {
    "duration": 25,
    "start_time": "2022-01-14T00:50:08.083Z"
   },
   {
    "duration": 15,
    "start_time": "2022-01-14T00:50:08.111Z"
   },
   {
    "duration": 30,
    "start_time": "2022-01-14T00:50:08.129Z"
   },
   {
    "duration": 12,
    "start_time": "2022-01-14T00:50:08.161Z"
   },
   {
    "duration": 7,
    "start_time": "2022-01-14T00:50:08.175Z"
   },
   {
    "duration": 6,
    "start_time": "2022-01-14T00:50:08.185Z"
   },
   {
    "duration": 6,
    "start_time": "2022-01-14T00:50:08.194Z"
   },
   {
    "duration": 14,
    "start_time": "2022-01-14T00:50:08.202Z"
   },
   {
    "duration": 10,
    "start_time": "2022-01-14T00:50:08.258Z"
   },
   {
    "duration": 14,
    "start_time": "2022-01-14T00:50:08.270Z"
   },
   {
    "duration": 5,
    "start_time": "2022-01-14T00:50:08.287Z"
   },
   {
    "duration": 21,
    "start_time": "2022-01-14T00:50:08.294Z"
   },
   {
    "duration": 50,
    "start_time": "2022-01-14T00:50:08.318Z"
   },
   {
    "duration": 14,
    "start_time": "2022-01-14T00:50:08.371Z"
   },
   {
    "duration": 7,
    "start_time": "2022-01-14T00:50:08.388Z"
   },
   {
    "duration": 16,
    "start_time": "2022-01-14T00:50:08.398Z"
   },
   {
    "duration": 45,
    "start_time": "2022-01-14T00:50:08.419Z"
   },
   {
    "duration": 154,
    "start_time": "2022-01-14T00:50:08.467Z"
   },
   {
    "duration": 55,
    "start_time": "2022-01-14T00:50:08.623Z"
   },
   {
    "duration": 41,
    "start_time": "2022-01-14T00:50:08.680Z"
   },
   {
    "duration": 5,
    "start_time": "2022-01-14T00:50:08.723Z"
   },
   {
    "duration": 1763,
    "start_time": "2022-01-14T00:50:08.730Z"
   },
   {
    "duration": 1689,
    "start_time": "2022-01-14T00:50:10.497Z"
   },
   {
    "duration": 1496,
    "start_time": "2022-01-14T00:50:12.189Z"
   },
   {
    "duration": 829,
    "start_time": "2022-01-14T00:50:13.688Z"
   },
   {
    "duration": 483,
    "start_time": "2022-01-14T00:50:14.521Z"
   },
   {
    "duration": 443,
    "start_time": "2022-01-14T00:50:15.008Z"
   },
   {
    "duration": 712,
    "start_time": "2022-01-14T00:50:15.453Z"
   },
   {
    "duration": 7,
    "start_time": "2022-01-14T00:50:16.168Z"
   },
   {
    "duration": 81,
    "start_time": "2022-01-14T00:50:16.179Z"
   },
   {
    "duration": 1952,
    "start_time": "2022-01-14T00:50:16.263Z"
   },
   {
    "duration": 1394,
    "start_time": "2022-01-14T00:50:18.218Z"
   },
   {
    "duration": 1353,
    "start_time": "2022-01-14T00:50:19.615Z"
   },
   {
    "duration": 2,
    "start_time": "2022-01-14T00:50:20.971Z"
   },
   {
    "duration": 9,
    "start_time": "2022-01-14T00:50:20.976Z"
   },
   {
    "duration": 42,
    "start_time": "2022-01-14T00:50:20.988Z"
   },
   {
    "duration": 8,
    "start_time": "2022-01-14T00:50:21.060Z"
   },
   {
    "duration": 56,
    "start_time": "2022-01-14T00:50:21.071Z"
   },
   {
    "duration": 30,
    "start_time": "2022-01-14T00:50:21.130Z"
   },
   {
    "duration": 33,
    "start_time": "2022-01-14T00:50:21.163Z"
   },
   {
    "duration": 727,
    "start_time": "2022-01-14T00:50:21.203Z"
   },
   {
    "duration": 7,
    "start_time": "2022-01-14T00:54:37.797Z"
   },
   {
    "duration": 7,
    "start_time": "2022-01-14T00:54:39.320Z"
   },
   {
    "duration": 36,
    "start_time": "2022-01-14T00:54:40.680Z"
   },
   {
    "duration": 7,
    "start_time": "2022-01-14T00:54:42.727Z"
   },
   {
    "duration": 36,
    "start_time": "2022-01-14T00:54:43.998Z"
   },
   {
    "duration": 8,
    "start_time": "2022-01-14T00:54:49.010Z"
   },
   {
    "duration": 22,
    "start_time": "2022-01-14T00:54:53.989Z"
   },
   {
    "duration": 21,
    "start_time": "2022-01-14T00:54:57.971Z"
   },
   {
    "duration": 22,
    "start_time": "2022-01-14T00:55:23.154Z"
   },
   {
    "duration": 71,
    "start_time": "2022-01-14T00:55:24.406Z"
   },
   {
    "duration": 40,
    "start_time": "2022-01-14T00:55:35.569Z"
   },
   {
    "duration": 21,
    "start_time": "2022-01-14T00:56:59.177Z"
   },
   {
    "duration": 1519,
    "start_time": "2022-01-14T00:57:08.196Z"
   },
   {
    "duration": 1269,
    "start_time": "2022-01-14T00:57:09.718Z"
   },
   {
    "duration": 37,
    "start_time": "2022-01-14T00:57:10.991Z"
   },
   {
    "duration": 397,
    "start_time": "2022-01-14T00:57:11.031Z"
   },
   {
    "duration": 38,
    "start_time": "2022-01-14T00:57:11.430Z"
   },
   {
    "duration": 30,
    "start_time": "2022-01-14T00:57:11.471Z"
   },
   {
    "duration": 228,
    "start_time": "2022-01-14T00:57:11.503Z"
   },
   {
    "duration": 32,
    "start_time": "2022-01-14T00:57:11.735Z"
   },
   {
    "duration": 30,
    "start_time": "2022-01-14T00:57:11.770Z"
   },
   {
    "duration": 421,
    "start_time": "2022-01-14T00:57:11.803Z"
   },
   {
    "duration": 44,
    "start_time": "2022-01-14T00:57:12.227Z"
   },
   {
    "duration": 17,
    "start_time": "2022-01-14T00:57:12.274Z"
   },
   {
    "duration": 3,
    "start_time": "2022-01-14T00:57:12.294Z"
   },
   {
    "duration": 8,
    "start_time": "2022-01-14T00:57:12.300Z"
   },
   {
    "duration": 48,
    "start_time": "2022-01-14T00:57:12.311Z"
   },
   {
    "duration": 8,
    "start_time": "2022-01-14T00:57:12.363Z"
   },
   {
    "duration": 6,
    "start_time": "2022-01-14T00:57:12.374Z"
   },
   {
    "duration": 15,
    "start_time": "2022-01-14T00:57:12.383Z"
   },
   {
    "duration": 63,
    "start_time": "2022-01-14T00:57:12.401Z"
   },
   {
    "duration": 17,
    "start_time": "2022-01-14T00:57:12.467Z"
   },
   {
    "duration": 7,
    "start_time": "2022-01-14T00:57:12.486Z"
   },
   {
    "duration": 22,
    "start_time": "2022-01-14T00:57:12.496Z"
   },
   {
    "duration": 47,
    "start_time": "2022-01-14T00:57:12.523Z"
   },
   {
    "duration": 15,
    "start_time": "2022-01-14T00:57:12.573Z"
   },
   {
    "duration": 8,
    "start_time": "2022-01-14T00:57:12.591Z"
   },
   {
    "duration": 15,
    "start_time": "2022-01-14T00:57:12.601Z"
   },
   {
    "duration": 47,
    "start_time": "2022-01-14T00:57:12.619Z"
   },
   {
    "duration": 152,
    "start_time": "2022-01-14T00:57:12.668Z"
   },
   {
    "duration": 55,
    "start_time": "2022-01-14T00:57:12.822Z"
   },
   {
    "duration": 40,
    "start_time": "2022-01-14T00:57:12.879Z"
   },
   {
    "duration": 5,
    "start_time": "2022-01-14T00:57:12.922Z"
   },
   {
    "duration": 1638,
    "start_time": "2022-01-14T00:57:12.930Z"
   },
   {
    "duration": 1489,
    "start_time": "2022-01-14T00:57:14.570Z"
   },
   {
    "duration": 1500,
    "start_time": "2022-01-14T00:57:16.062Z"
   },
   {
    "duration": 847,
    "start_time": "2022-01-14T00:57:17.565Z"
   },
   {
    "duration": 505,
    "start_time": "2022-01-14T00:57:18.415Z"
   },
   {
    "duration": 562,
    "start_time": "2022-01-14T00:57:18.922Z"
   },
   {
    "duration": 461,
    "start_time": "2022-01-14T00:57:19.486Z"
   },
   {
    "duration": 10,
    "start_time": "2022-01-14T00:57:19.950Z"
   },
   {
    "duration": 52,
    "start_time": "2022-01-14T00:57:19.963Z"
   },
   {
    "duration": 1279,
    "start_time": "2022-01-14T00:57:20.017Z"
   },
   {
    "duration": 1235,
    "start_time": "2022-01-14T00:57:21.298Z"
   },
   {
    "duration": 1345,
    "start_time": "2022-01-14T00:57:22.535Z"
   },
   {
    "duration": 7,
    "start_time": "2022-01-14T00:57:23.882Z"
   },
   {
    "duration": 14,
    "start_time": "2022-01-14T00:57:23.891Z"
   },
   {
    "duration": 56,
    "start_time": "2022-01-14T00:57:23.907Z"
   },
   {
    "duration": 6,
    "start_time": "2022-01-14T00:57:23.965Z"
   },
   {
    "duration": 45,
    "start_time": "2022-01-14T00:57:23.973Z"
   },
   {
    "duration": 6,
    "start_time": "2022-01-14T00:57:24.020Z"
   },
   {
    "duration": 45,
    "start_time": "2022-01-14T00:57:24.028Z"
   },
   {
    "duration": 756,
    "start_time": "2022-01-14T00:57:24.075Z"
   },
   {
    "duration": 98,
    "start_time": "2022-01-14T00:58:40.693Z"
   },
   {
    "duration": 33,
    "start_time": "2022-01-14T00:58:53.049Z"
   },
   {
    "duration": 35,
    "start_time": "2022-01-14T01:00:08.472Z"
   },
   {
    "duration": 40,
    "start_time": "2022-01-14T01:00:22.370Z"
   },
   {
    "duration": 32,
    "start_time": "2022-01-14T01:00:32.269Z"
   },
   {
    "duration": 31,
    "start_time": "2022-01-14T01:00:46.728Z"
   },
   {
    "duration": 372,
    "start_time": "2022-01-14T01:02:52.691Z"
   },
   {
    "duration": 360,
    "start_time": "2022-01-14T01:03:36.418Z"
   },
   {
    "duration": 41,
    "start_time": "2022-01-14T01:05:33.572Z"
   },
   {
    "duration": 373,
    "start_time": "2022-01-14T01:05:48.626Z"
   },
   {
    "duration": 1646,
    "start_time": "2022-01-14T01:06:00.182Z"
   },
   {
    "duration": 1273,
    "start_time": "2022-01-14T01:06:01.831Z"
   },
   {
    "duration": 35,
    "start_time": "2022-01-14T01:06:03.107Z"
   },
   {
    "duration": 381,
    "start_time": "2022-01-14T01:06:03.144Z"
   },
   {
    "duration": 36,
    "start_time": "2022-01-14T01:06:03.527Z"
   },
   {
    "duration": 29,
    "start_time": "2022-01-14T01:06:03.566Z"
   },
   {
    "duration": 251,
    "start_time": "2022-01-14T01:06:03.597Z"
   },
   {
    "duration": 19,
    "start_time": "2022-01-14T01:06:03.851Z"
   },
   {
    "duration": 32,
    "start_time": "2022-01-14T01:06:03.874Z"
   },
   {
    "duration": 411,
    "start_time": "2022-01-14T01:06:03.909Z"
   },
   {
    "duration": 36,
    "start_time": "2022-01-14T01:06:04.323Z"
   },
   {
    "duration": 15,
    "start_time": "2022-01-14T01:06:04.361Z"
   },
   {
    "duration": 3,
    "start_time": "2022-01-14T01:06:04.378Z"
   },
   {
    "duration": 13,
    "start_time": "2022-01-14T01:06:04.384Z"
   },
   {
    "duration": 10,
    "start_time": "2022-01-14T01:06:04.399Z"
   },
   {
    "duration": 15,
    "start_time": "2022-01-14T01:06:04.411Z"
   },
   {
    "duration": 33,
    "start_time": "2022-01-14T01:06:04.428Z"
   },
   {
    "duration": 29,
    "start_time": "2022-01-14T01:06:04.463Z"
   },
   {
    "duration": 16,
    "start_time": "2022-01-14T01:06:04.495Z"
   },
   {
    "duration": 17,
    "start_time": "2022-01-14T01:06:04.514Z"
   },
   {
    "duration": 25,
    "start_time": "2022-01-14T01:06:04.534Z"
   },
   {
    "duration": 21,
    "start_time": "2022-01-14T01:06:04.561Z"
   },
   {
    "duration": 21,
    "start_time": "2022-01-14T01:06:04.584Z"
   },
   {
    "duration": 15,
    "start_time": "2022-01-14T01:06:04.608Z"
   },
   {
    "duration": 34,
    "start_time": "2022-01-14T01:06:04.625Z"
   },
   {
    "duration": 16,
    "start_time": "2022-01-14T01:06:04.663Z"
   },
   {
    "duration": 9,
    "start_time": "2022-01-14T01:06:04.684Z"
   },
   {
    "duration": 168,
    "start_time": "2022-01-14T01:06:04.696Z"
   },
   {
    "duration": 43,
    "start_time": "2022-01-14T01:06:04.866Z"
   },
   {
    "duration": 69,
    "start_time": "2022-01-14T01:06:04.911Z"
   },
   {
    "duration": 5,
    "start_time": "2022-01-14T01:06:04.982Z"
   },
   {
    "duration": 1660,
    "start_time": "2022-01-14T01:06:04.990Z"
   },
   {
    "duration": 1496,
    "start_time": "2022-01-14T01:06:06.653Z"
   },
   {
    "duration": 1473,
    "start_time": "2022-01-14T01:06:08.160Z"
   },
   {
    "duration": 828,
    "start_time": "2022-01-14T01:06:09.636Z"
   },
   {
    "duration": 476,
    "start_time": "2022-01-14T01:06:10.466Z"
   },
   {
    "duration": 451,
    "start_time": "2022-01-14T01:06:10.944Z"
   },
   {
    "duration": 454,
    "start_time": "2022-01-14T01:06:11.397Z"
   },
   {
    "duration": 9,
    "start_time": "2022-01-14T01:06:11.853Z"
   },
   {
    "duration": 55,
    "start_time": "2022-01-14T01:06:11.864Z"
   },
   {
    "duration": 1314,
    "start_time": "2022-01-14T01:06:11.922Z"
   },
   {
    "duration": 1201,
    "start_time": "2022-01-14T01:06:13.238Z"
   },
   {
    "duration": 1338,
    "start_time": "2022-01-14T01:06:14.442Z"
   },
   {
    "duration": 7,
    "start_time": "2022-01-14T01:06:15.782Z"
   },
   {
    "duration": 13,
    "start_time": "2022-01-14T01:06:15.791Z"
   },
   {
    "duration": 63,
    "start_time": "2022-01-14T01:06:15.806Z"
   },
   {
    "duration": 6,
    "start_time": "2022-01-14T01:06:15.872Z"
   },
   {
    "duration": 42,
    "start_time": "2022-01-14T01:06:15.881Z"
   },
   {
    "duration": 6,
    "start_time": "2022-01-14T01:06:15.925Z"
   },
   {
    "duration": 131,
    "start_time": "2022-01-14T01:06:15.960Z"
   },
   {
    "duration": -1274,
    "start_time": "2022-01-14T01:06:17.367Z"
   },
   {
    "duration": 23,
    "start_time": "2022-01-14T01:06:27.874Z"
   },
   {
    "duration": 45,
    "start_time": "2022-01-14T01:06:36.535Z"
   },
   {
    "duration": 495,
    "start_time": "2022-01-14T01:06:41.595Z"
   },
   {
    "duration": 509,
    "start_time": "2022-01-14T01:08:13.655Z"
   },
   {
    "duration": 442,
    "start_time": "2022-01-14T01:08:20.947Z"
   },
   {
    "duration": 39,
    "start_time": "2022-01-14T01:08:26.918Z"
   },
   {
    "duration": 17,
    "start_time": "2022-01-14T01:08:28.080Z"
   },
   {
    "duration": 44,
    "start_time": "2022-01-14T01:08:32.838Z"
   },
   {
    "duration": 442,
    "start_time": "2022-01-14T01:08:35.445Z"
   },
   {
    "duration": 9460,
    "start_time": "2022-01-14T01:08:42.781Z"
   },
   {
    "duration": 24,
    "start_time": "2022-01-14T01:09:11.678Z"
   },
   {
    "duration": 61,
    "start_time": "2022-01-14T01:09:15.736Z"
   },
   {
    "duration": 423,
    "start_time": "2022-01-14T01:09:18.601Z"
   },
   {
    "duration": 16,
    "start_time": "2022-01-14T01:09:34.447Z"
   },
   {
    "duration": 76,
    "start_time": "2022-01-14T01:09:49.883Z"
   },
   {
    "duration": 405,
    "start_time": "2022-01-14T01:09:51.975Z"
   },
   {
    "duration": 385,
    "start_time": "2022-01-14T01:12:56.115Z"
   },
   {
    "duration": 383,
    "start_time": "2022-01-14T01:13:07.838Z"
   },
   {
    "duration": 421,
    "start_time": "2022-01-14T01:13:58.393Z"
   },
   {
    "duration": 28,
    "start_time": "2022-01-14T01:14:02.631Z"
   },
   {
    "duration": 396,
    "start_time": "2022-01-14T01:14:09.171Z"
   },
   {
    "duration": 410,
    "start_time": "2022-01-14T01:14:14.908Z"
   },
   {
    "duration": 390,
    "start_time": "2022-01-14T01:15:35.916Z"
   },
   {
    "duration": 378,
    "start_time": "2022-01-14T01:15:39.180Z"
   },
   {
    "duration": 1577,
    "start_time": "2022-01-14T01:15:46.663Z"
   },
   {
    "duration": 1267,
    "start_time": "2022-01-14T01:15:48.242Z"
   },
   {
    "duration": 47,
    "start_time": "2022-01-14T01:15:49.512Z"
   },
   {
    "duration": 376,
    "start_time": "2022-01-14T01:15:49.562Z"
   },
   {
    "duration": 32,
    "start_time": "2022-01-14T01:15:49.941Z"
   },
   {
    "duration": 31,
    "start_time": "2022-01-14T01:15:49.976Z"
   },
   {
    "duration": 264,
    "start_time": "2022-01-14T01:15:50.010Z"
   },
   {
    "duration": 15,
    "start_time": "2022-01-14T01:15:50.278Z"
   },
   {
    "duration": 33,
    "start_time": "2022-01-14T01:15:50.296Z"
   },
   {
    "duration": 418,
    "start_time": "2022-01-14T01:15:50.331Z"
   },
   {
    "duration": 29,
    "start_time": "2022-01-14T01:15:50.752Z"
   },
   {
    "duration": 16,
    "start_time": "2022-01-14T01:15:50.783Z"
   },
   {
    "duration": 3,
    "start_time": "2022-01-14T01:15:50.801Z"
   },
   {
    "duration": 9,
    "start_time": "2022-01-14T01:15:50.807Z"
   },
   {
    "duration": 40,
    "start_time": "2022-01-14T01:15:50.819Z"
   },
   {
    "duration": 7,
    "start_time": "2022-01-14T01:15:50.861Z"
   },
   {
    "duration": 6,
    "start_time": "2022-01-14T01:15:50.870Z"
   },
   {
    "duration": 18,
    "start_time": "2022-01-14T01:15:50.879Z"
   },
   {
    "duration": 12,
    "start_time": "2022-01-14T01:15:50.900Z"
   },
   {
    "duration": 58,
    "start_time": "2022-01-14T01:15:50.914Z"
   },
   {
    "duration": 7,
    "start_time": "2022-01-14T01:15:50.975Z"
   },
   {
    "duration": 29,
    "start_time": "2022-01-14T01:15:50.985Z"
   },
   {
    "duration": 39,
    "start_time": "2022-01-14T01:15:51.023Z"
   },
   {
    "duration": 22,
    "start_time": "2022-01-14T01:15:51.067Z"
   },
   {
    "duration": 11,
    "start_time": "2022-01-14T01:15:51.093Z"
   },
   {
    "duration": 54,
    "start_time": "2022-01-14T01:15:51.107Z"
   },
   {
    "duration": 13,
    "start_time": "2022-01-14T01:15:51.164Z"
   },
   {
    "duration": 208,
    "start_time": "2022-01-14T01:15:51.180Z"
   },
   {
    "duration": 46,
    "start_time": "2022-01-14T01:15:51.391Z"
   },
   {
    "duration": 60,
    "start_time": "2022-01-14T01:15:51.440Z"
   },
   {
    "duration": 7,
    "start_time": "2022-01-14T01:15:51.502Z"
   },
   {
    "duration": 1669,
    "start_time": "2022-01-14T01:15:51.512Z"
   },
   {
    "duration": 2004,
    "start_time": "2022-01-14T01:15:53.185Z"
   },
   {
    "duration": 1822,
    "start_time": "2022-01-14T01:15:55.192Z"
   },
   {
    "duration": 851,
    "start_time": "2022-01-14T01:15:57.016Z"
   },
   {
    "duration": 484,
    "start_time": "2022-01-14T01:15:57.870Z"
   },
   {
    "duration": 551,
    "start_time": "2022-01-14T01:15:58.360Z"
   },
   {
    "duration": 452,
    "start_time": "2022-01-14T01:15:58.913Z"
   },
   {
    "duration": 6,
    "start_time": "2022-01-14T01:15:59.368Z"
   },
   {
    "duration": 50,
    "start_time": "2022-01-14T01:15:59.376Z"
   },
   {
    "duration": 1350,
    "start_time": "2022-01-14T01:15:59.429Z"
   },
   {
    "duration": 1563,
    "start_time": "2022-01-14T01:16:00.782Z"
   },
   {
    "duration": 1380,
    "start_time": "2022-01-14T01:16:02.347Z"
   },
   {
    "duration": 34,
    "start_time": "2022-01-14T01:16:03.729Z"
   },
   {
    "duration": 530,
    "start_time": "2022-01-14T01:16:03.765Z"
   },
   {
    "duration": -256,
    "start_time": "2022-01-14T01:16:04.553Z"
   },
   {
    "duration": -259,
    "start_time": "2022-01-14T01:16:04.558Z"
   },
   {
    "duration": -261,
    "start_time": "2022-01-14T01:16:04.561Z"
   },
   {
    "duration": -263,
    "start_time": "2022-01-14T01:16:04.565Z"
   },
   {
    "duration": -266,
    "start_time": "2022-01-14T01:16:04.569Z"
   },
   {
    "duration": -271,
    "start_time": "2022-01-14T01:16:04.575Z"
   },
   {
    "duration": -273,
    "start_time": "2022-01-14T01:16:04.579Z"
   },
   {
    "duration": -275,
    "start_time": "2022-01-14T01:16:04.582Z"
   },
   {
    "duration": -278,
    "start_time": "2022-01-14T01:16:04.586Z"
   },
   {
    "duration": 402,
    "start_time": "2022-01-14T01:16:46.201Z"
   },
   {
    "duration": 7,
    "start_time": "2022-01-14T01:17:39.565Z"
   },
   {
    "duration": 7,
    "start_time": "2022-01-14T01:17:41.577Z"
   },
   {
    "duration": 40,
    "start_time": "2022-01-14T01:17:43.443Z"
   },
   {
    "duration": 7,
    "start_time": "2022-01-14T01:17:48.473Z"
   },
   {
    "duration": 39,
    "start_time": "2022-01-14T01:17:50.202Z"
   },
   {
    "duration": 56,
    "start_time": "2022-01-14T01:18:41.036Z"
   },
   {
    "duration": 9,
    "start_time": "2022-01-14T01:18:46.581Z"
   },
   {
    "duration": 22,
    "start_time": "2022-01-14T01:18:50.105Z"
   },
   {
    "duration": 551,
    "start_time": "2022-01-14T01:19:04.620Z"
   },
   {
    "duration": 20,
    "start_time": "2022-01-14T01:19:26.982Z"
   },
   {
    "duration": 53,
    "start_time": "2022-01-14T01:19:28.800Z"
   },
   {
    "duration": 387,
    "start_time": "2022-01-14T01:19:30.458Z"
   },
   {
    "duration": 14,
    "start_time": "2022-01-14T01:19:44.722Z"
   },
   {
    "duration": 73,
    "start_time": "2022-01-14T01:19:47.671Z"
   },
   {
    "duration": 355,
    "start_time": "2022-01-14T01:19:49.488Z"
   },
   {
    "duration": 18,
    "start_time": "2022-01-14T01:21:45.539Z"
   },
   {
    "duration": 119,
    "start_time": "2022-01-14T01:22:00.163Z"
   },
   {
    "duration": 389,
    "start_time": "2022-01-14T01:22:02.737Z"
   },
   {
    "duration": 8963,
    "start_time": "2022-01-14T01:22:22.298Z"
   },
   {
    "duration": -744,
    "start_time": "2022-01-14T01:22:32.007Z"
   },
   {
    "duration": -747,
    "start_time": "2022-01-14T01:22:32.012Z"
   },
   {
    "duration": 14,
    "start_time": "2022-01-14T01:22:50.526Z"
   },
   {
    "duration": 121,
    "start_time": "2022-01-14T01:22:51.906Z"
   },
   {
    "duration": 419,
    "start_time": "2022-01-14T01:22:56.798Z"
   },
   {
    "duration": 9161,
    "start_time": "2022-01-14T01:23:26.576Z"
   },
   {
    "duration": 9406,
    "start_time": "2022-01-14T01:24:13.670Z"
   },
   {
    "duration": -465,
    "start_time": "2022-01-14T01:24:23.545Z"
   },
   {
    "duration": 1608,
    "start_time": "2022-01-14T01:25:53.001Z"
   },
   {
    "duration": 1293,
    "start_time": "2022-01-14T01:25:54.621Z"
   },
   {
    "duration": 44,
    "start_time": "2022-01-14T01:25:55.917Z"
   },
   {
    "duration": 9,
    "start_time": "2022-01-14T01:25:56.744Z"
   },
   {
    "duration": 361,
    "start_time": "2022-01-14T01:26:02.111Z"
   },
   {
    "duration": 25,
    "start_time": "2022-01-14T01:26:02.476Z"
   },
   {
    "duration": 31,
    "start_time": "2022-01-14T01:26:16.999Z"
   },
   {
    "duration": 206,
    "start_time": "2022-01-14T01:26:18.000Z"
   },
   {
    "duration": 17,
    "start_time": "2022-01-14T01:26:21.534Z"
   },
   {
    "duration": 33,
    "start_time": "2022-01-14T01:26:26.954Z"
   },
   {
    "duration": 388,
    "start_time": "2022-01-14T01:26:28.744Z"
   },
   {
    "duration": 29,
    "start_time": "2022-01-14T01:26:30.447Z"
   },
   {
    "duration": 15,
    "start_time": "2022-01-14T01:26:35.932Z"
   },
   {
    "duration": 7,
    "start_time": "2022-01-14T01:26:39.255Z"
   },
   {
    "duration": 8,
    "start_time": "2022-01-14T01:26:42.101Z"
   },
   {
    "duration": 6,
    "start_time": "2022-01-14T01:26:45.900Z"
   },
   {
    "duration": 7,
    "start_time": "2022-01-14T01:26:48.572Z"
   },
   {
    "duration": 15,
    "start_time": "2022-01-14T01:26:50.908Z"
   },
   {
    "duration": 12,
    "start_time": "2022-01-14T01:26:54.380Z"
   },
   {
    "duration": 14,
    "start_time": "2022-01-14T01:26:56.707Z"
   },
   {
    "duration": 7,
    "start_time": "2022-01-14T01:26:58.204Z"
   },
   {
    "duration": 70,
    "start_time": "2022-01-14T01:26:59.331Z"
   },
   {
    "duration": 10,
    "start_time": "2022-01-14T01:27:00.829Z"
   },
   {
    "duration": 14,
    "start_time": "2022-01-14T01:27:04.267Z"
   },
   {
    "duration": 10,
    "start_time": "2022-01-14T01:27:05.388Z"
   },
   {
    "duration": 13,
    "start_time": "2022-01-14T01:27:07.051Z"
   },
   {
    "duration": 12,
    "start_time": "2022-01-14T01:27:09.526Z"
   },
   {
    "duration": 181,
    "start_time": "2022-01-14T01:27:12.978Z"
   },
   {
    "duration": 64,
    "start_time": "2022-01-14T01:27:14.149Z"
   },
   {
    "duration": 45,
    "start_time": "2022-01-14T01:27:16.054Z"
   },
   {
    "duration": 8,
    "start_time": "2022-01-14T01:27:21.117Z"
   },
   {
    "duration": 6,
    "start_time": "2022-01-14T01:27:25.189Z"
   },
   {
    "duration": 1621,
    "start_time": "2022-01-14T01:27:25.198Z"
   },
   {
    "duration": 1508,
    "start_time": "2022-01-14T01:27:26.822Z"
   },
   {
    "duration": 1489,
    "start_time": "2022-01-14T01:27:28.333Z"
   },
   {
    "duration": 1348,
    "start_time": "2022-01-14T01:27:29.825Z"
   },
   {
    "duration": 779,
    "start_time": "2022-01-14T01:27:31.176Z"
   },
   {
    "duration": 692,
    "start_time": "2022-01-14T01:27:31.960Z"
   },
   {
    "duration": 723,
    "start_time": "2022-01-14T01:27:32.660Z"
   },
   {
    "duration": 7,
    "start_time": "2022-01-14T01:27:33.389Z"
   },
   {
    "duration": 74,
    "start_time": "2022-01-14T01:27:33.399Z"
   },
   {
    "duration": 1262,
    "start_time": "2022-01-14T01:27:33.476Z"
   },
   {
    "duration": 1385,
    "start_time": "2022-01-14T01:27:34.740Z"
   },
   {
    "duration": 1256,
    "start_time": "2022-01-14T01:27:36.128Z"
   },
   {
    "duration": 7,
    "start_time": "2022-01-14T01:27:37.386Z"
   },
   {
    "duration": 10,
    "start_time": "2022-01-14T01:27:37.396Z"
   },
   {
    "duration": 67,
    "start_time": "2022-01-14T01:27:37.409Z"
   },
   {
    "duration": 7,
    "start_time": "2022-01-14T01:27:37.478Z"
   },
   {
    "duration": 36,
    "start_time": "2022-01-14T01:27:37.488Z"
   },
   {
    "duration": 35,
    "start_time": "2022-01-14T01:27:37.527Z"
   },
   {
    "duration": 9435,
    "start_time": "2022-01-14T01:27:37.564Z"
   },
   {
    "duration": -515,
    "start_time": "2022-01-14T01:27:47.517Z"
   },
   {
    "duration": -536,
    "start_time": "2022-01-14T01:27:47.540Z"
   },
   {
    "duration": -544,
    "start_time": "2022-01-14T01:27:47.550Z"
   },
   {
    "duration": 20,
    "start_time": "2022-01-14T01:28:37.455Z"
   },
   {
    "duration": 553,
    "start_time": "2022-01-14T01:28:39.781Z"
   },
   {
    "duration": 648,
    "start_time": "2022-01-14T01:28:50.680Z"
   },
   {
    "duration": 373,
    "start_time": "2022-01-14T01:28:54.827Z"
   },
   {
    "duration": 393,
    "start_time": "2022-01-14T01:29:31.987Z"
   },
   {
    "duration": 1582,
    "start_time": "2022-01-14T01:29:37.875Z"
   },
   {
    "duration": 1511,
    "start_time": "2022-01-14T01:29:39.460Z"
   },
   {
    "duration": 56,
    "start_time": "2022-01-14T01:29:40.975Z"
   },
   {
    "duration": 603,
    "start_time": "2022-01-14T01:29:41.035Z"
   },
   {
    "duration": 37,
    "start_time": "2022-01-14T01:29:41.641Z"
   },
   {
    "duration": 29,
    "start_time": "2022-01-14T01:29:41.680Z"
   },
   {
    "duration": 315,
    "start_time": "2022-01-14T01:29:41.711Z"
   },
   {
    "duration": 39,
    "start_time": "2022-01-14T01:29:42.033Z"
   },
   {
    "duration": 47,
    "start_time": "2022-01-14T01:29:42.076Z"
   },
   {
    "duration": 415,
    "start_time": "2022-01-14T01:29:42.127Z"
   },
   {
    "duration": 29,
    "start_time": "2022-01-14T01:29:42.544Z"
   },
   {
    "duration": 16,
    "start_time": "2022-01-14T01:29:42.576Z"
   },
   {
    "duration": 4,
    "start_time": "2022-01-14T01:29:42.594Z"
   },
   {
    "duration": 8,
    "start_time": "2022-01-14T01:29:42.601Z"
   },
   {
    "duration": 51,
    "start_time": "2022-01-14T01:29:42.611Z"
   },
   {
    "duration": 8,
    "start_time": "2022-01-14T01:29:42.666Z"
   },
   {
    "duration": 7,
    "start_time": "2022-01-14T01:29:42.677Z"
   },
   {
    "duration": 19,
    "start_time": "2022-01-14T01:29:42.687Z"
   },
   {
    "duration": 52,
    "start_time": "2022-01-14T01:29:42.709Z"
   },
   {
    "duration": 14,
    "start_time": "2022-01-14T01:29:42.763Z"
   },
   {
    "duration": 6,
    "start_time": "2022-01-14T01:29:42.779Z"
   },
   {
    "duration": 20,
    "start_time": "2022-01-14T01:29:42.787Z"
   },
   {
    "duration": 9,
    "start_time": "2022-01-14T01:29:42.812Z"
   },
   {
    "duration": 14,
    "start_time": "2022-01-14T01:29:42.861Z"
   },
   {
    "duration": 7,
    "start_time": "2022-01-14T01:29:42.878Z"
   },
   {
    "duration": 12,
    "start_time": "2022-01-14T01:29:42.887Z"
   },
   {
    "duration": 8,
    "start_time": "2022-01-14T01:29:42.902Z"
   },
   {
    "duration": 179,
    "start_time": "2022-01-14T01:29:42.912Z"
   },
   {
    "duration": 44,
    "start_time": "2022-01-14T01:29:43.093Z"
   },
   {
    "duration": 57,
    "start_time": "2022-01-14T01:29:43.140Z"
   },
   {
    "duration": 5,
    "start_time": "2022-01-14T01:29:43.200Z"
   },
   {
    "duration": 1629,
    "start_time": "2022-01-14T01:29:43.208Z"
   },
   {
    "duration": 2667,
    "start_time": "2022-01-14T01:29:44.840Z"
   },
   {
    "duration": 1535,
    "start_time": "2022-01-14T01:29:47.510Z"
   },
   {
    "duration": 828,
    "start_time": "2022-01-14T01:29:49.048Z"
   },
   {
    "duration": 485,
    "start_time": "2022-01-14T01:29:49.879Z"
   },
   {
    "duration": 458,
    "start_time": "2022-01-14T01:29:50.367Z"
   },
   {
    "duration": 454,
    "start_time": "2022-01-14T01:29:50.828Z"
   },
   {
    "duration": 5,
    "start_time": "2022-01-14T01:29:51.284Z"
   },
   {
    "duration": 69,
    "start_time": "2022-01-14T01:29:51.292Z"
   },
   {
    "duration": 1239,
    "start_time": "2022-01-14T01:29:51.363Z"
   },
   {
    "duration": 1198,
    "start_time": "2022-01-14T01:29:52.605Z"
   },
   {
    "duration": 1341,
    "start_time": "2022-01-14T01:29:53.805Z"
   },
   {
    "duration": 12,
    "start_time": "2022-01-14T01:29:55.150Z"
   },
   {
    "duration": 10,
    "start_time": "2022-01-14T01:29:55.165Z"
   },
   {
    "duration": 37,
    "start_time": "2022-01-14T01:29:55.178Z"
   },
   {
    "duration": 41,
    "start_time": "2022-01-14T01:29:55.218Z"
   },
   {
    "duration": 34,
    "start_time": "2022-01-14T01:29:55.261Z"
   },
   {
    "duration": 6,
    "start_time": "2022-01-14T01:29:55.297Z"
   },
   {
    "duration": 19,
    "start_time": "2022-01-14T01:29:55.305Z"
   },
   {
    "duration": 713,
    "start_time": "2022-01-14T01:29:55.326Z"
   },
   {
    "duration": -772,
    "start_time": "2022-01-14T01:29:56.814Z"
   },
   {
    "duration": -787,
    "start_time": "2022-01-14T01:29:56.832Z"
   },
   {
    "duration": 20,
    "start_time": "2022-01-14T01:37:12.410Z"
   },
   {
    "duration": 49,
    "start_time": "2022-01-14T01:37:18.877Z"
   },
   {
    "duration": 484,
    "start_time": "2022-01-14T01:37:23.060Z"
   },
   {
    "duration": 15,
    "start_time": "2022-01-14T01:38:45.552Z"
   },
   {
    "duration": 361,
    "start_time": "2022-01-14T01:38:47.592Z"
   },
   {
    "duration": 375,
    "start_time": "2022-01-14T01:39:12.352Z"
   },
   {
    "duration": 522,
    "start_time": "2022-01-14T01:39:24.162Z"
   },
   {
    "duration": 1528,
    "start_time": "2022-01-14T01:39:41.884Z"
   },
   {
    "duration": 1739,
    "start_time": "2022-01-14T01:39:43.415Z"
   },
   {
    "duration": 56,
    "start_time": "2022-01-14T01:39:45.161Z"
   },
   {
    "duration": 486,
    "start_time": "2022-01-14T01:39:45.221Z"
   },
   {
    "duration": 25,
    "start_time": "2022-01-14T01:39:45.710Z"
   },
   {
    "duration": 52,
    "start_time": "2022-01-14T01:39:45.737Z"
   },
   {
    "duration": 221,
    "start_time": "2022-01-14T01:39:45.791Z"
   },
   {
    "duration": 16,
    "start_time": "2022-01-14T01:39:46.015Z"
   },
   {
    "duration": 47,
    "start_time": "2022-01-14T01:39:46.033Z"
   },
   {
    "duration": 404,
    "start_time": "2022-01-14T01:39:46.083Z"
   },
   {
    "duration": 25,
    "start_time": "2022-01-14T01:39:46.489Z"
   },
   {
    "duration": 15,
    "start_time": "2022-01-14T01:39:46.517Z"
   },
   {
    "duration": 3,
    "start_time": "2022-01-14T01:39:46.558Z"
   },
   {
    "duration": 8,
    "start_time": "2022-01-14T01:39:46.564Z"
   },
   {
    "duration": 7,
    "start_time": "2022-01-14T01:39:46.575Z"
   },
   {
    "duration": 6,
    "start_time": "2022-01-14T01:39:46.584Z"
   },
   {
    "duration": 7,
    "start_time": "2022-01-14T01:39:46.593Z"
   },
   {
    "duration": 64,
    "start_time": "2022-01-14T01:39:46.603Z"
   },
   {
    "duration": 10,
    "start_time": "2022-01-14T01:39:46.669Z"
   },
   {
    "duration": 14,
    "start_time": "2022-01-14T01:39:46.681Z"
   },
   {
    "duration": 8,
    "start_time": "2022-01-14T01:39:46.698Z"
   },
   {
    "duration": 62,
    "start_time": "2022-01-14T01:39:46.708Z"
   },
   {
    "duration": 15,
    "start_time": "2022-01-14T01:39:46.778Z"
   },
   {
    "duration": 17,
    "start_time": "2022-01-14T01:39:46.797Z"
   },
   {
    "duration": 50,
    "start_time": "2022-01-14T01:39:46.817Z"
   },
   {
    "duration": 14,
    "start_time": "2022-01-14T01:39:46.870Z"
   },
   {
    "duration": 11,
    "start_time": "2022-01-14T01:39:46.887Z"
   },
   {
    "duration": 169,
    "start_time": "2022-01-14T01:39:46.901Z"
   },
   {
    "duration": 43,
    "start_time": "2022-01-14T01:39:47.072Z"
   },
   {
    "duration": 62,
    "start_time": "2022-01-14T01:39:47.117Z"
   },
   {
    "duration": 6,
    "start_time": "2022-01-14T01:39:47.181Z"
   },
   {
    "duration": 1628,
    "start_time": "2022-01-14T01:39:47.189Z"
   },
   {
    "duration": 1455,
    "start_time": "2022-01-14T01:39:48.820Z"
   },
   {
    "duration": 1653,
    "start_time": "2022-01-14T01:39:50.278Z"
   },
   {
    "duration": 852,
    "start_time": "2022-01-14T01:39:51.933Z"
   },
   {
    "duration": 474,
    "start_time": "2022-01-14T01:39:52.787Z"
   },
   {
    "duration": 437,
    "start_time": "2022-01-14T01:39:53.264Z"
   },
   {
    "duration": 447,
    "start_time": "2022-01-14T01:39:53.703Z"
   },
   {
    "duration": 9,
    "start_time": "2022-01-14T01:39:54.153Z"
   },
   {
    "duration": 54,
    "start_time": "2022-01-14T01:39:54.164Z"
   },
   {
    "duration": 1227,
    "start_time": "2022-01-14T01:39:54.220Z"
   },
   {
    "duration": 1218,
    "start_time": "2022-01-14T01:39:55.449Z"
   },
   {
    "duration": 1323,
    "start_time": "2022-01-14T01:39:56.670Z"
   },
   {
    "duration": 6,
    "start_time": "2022-01-14T01:39:57.996Z"
   },
   {
    "duration": 14,
    "start_time": "2022-01-14T01:39:58.004Z"
   },
   {
    "duration": 64,
    "start_time": "2022-01-14T01:39:58.022Z"
   },
   {
    "duration": 7,
    "start_time": "2022-01-14T01:39:58.088Z"
   },
   {
    "duration": 33,
    "start_time": "2022-01-14T01:39:58.097Z"
   },
   {
    "duration": 26,
    "start_time": "2022-01-14T01:39:58.133Z"
   },
   {
    "duration": 681,
    "start_time": "2022-01-14T01:39:58.162Z"
   },
   {
    "duration": -300,
    "start_time": "2022-01-14T01:39:59.145Z"
   },
   {
    "duration": -315,
    "start_time": "2022-01-14T01:39:59.162Z"
   },
   {
    "duration": -322,
    "start_time": "2022-01-14T01:39:59.170Z"
   },
   {
    "duration": 10,
    "start_time": "2022-01-14T01:41:21.680Z"
   },
   {
    "duration": 10,
    "start_time": "2022-01-14T01:41:24.413Z"
   },
   {
    "duration": 11,
    "start_time": "2022-01-14T01:41:25.988Z"
   },
   {
    "duration": 7,
    "start_time": "2022-01-14T01:42:09.183Z"
   },
   {
    "duration": 5,
    "start_time": "2022-01-14T01:42:10.806Z"
   },
   {
    "duration": 418,
    "start_time": "2022-01-14T01:42:12.442Z"
   },
   {
    "duration": 1612,
    "start_time": "2022-01-14T01:42:29.429Z"
   },
   {
    "duration": 1250,
    "start_time": "2022-01-14T01:42:31.044Z"
   },
   {
    "duration": 37,
    "start_time": "2022-01-14T01:42:32.297Z"
   },
   {
    "duration": 382,
    "start_time": "2022-01-14T01:42:32.337Z"
   },
   {
    "duration": 39,
    "start_time": "2022-01-14T01:42:32.722Z"
   },
   {
    "duration": 30,
    "start_time": "2022-01-14T01:42:32.764Z"
   },
   {
    "duration": 228,
    "start_time": "2022-01-14T01:42:32.796Z"
   },
   {
    "duration": 15,
    "start_time": "2022-01-14T01:42:33.027Z"
   },
   {
    "duration": 30,
    "start_time": "2022-01-14T01:42:33.059Z"
   },
   {
    "duration": 398,
    "start_time": "2022-01-14T01:42:33.091Z"
   },
   {
    "duration": 25,
    "start_time": "2022-01-14T01:42:33.491Z"
   },
   {
    "duration": 14,
    "start_time": "2022-01-14T01:42:33.518Z"
   },
   {
    "duration": 3,
    "start_time": "2022-01-14T01:42:33.534Z"
   },
   {
    "duration": 9,
    "start_time": "2022-01-14T01:42:33.560Z"
   },
   {
    "duration": 7,
    "start_time": "2022-01-14T01:42:33.571Z"
   },
   {
    "duration": 8,
    "start_time": "2022-01-14T01:42:33.580Z"
   },
   {
    "duration": 7,
    "start_time": "2022-01-14T01:42:33.590Z"
   },
   {
    "duration": 62,
    "start_time": "2022-01-14T01:42:33.600Z"
   },
   {
    "duration": 12,
    "start_time": "2022-01-14T01:42:33.665Z"
   },
   {
    "duration": 11,
    "start_time": "2022-01-14T01:42:33.680Z"
   },
   {
    "duration": 6,
    "start_time": "2022-01-14T01:42:33.694Z"
   },
   {
    "duration": 499,
    "start_time": "2022-01-14T01:42:33.703Z"
   },
   {
    "duration": 364,
    "start_time": "2022-01-14T01:42:49.293Z"
   },
   {
    "duration": 367,
    "start_time": "2022-01-14T01:43:15.120Z"
   },
   {
    "duration": 361,
    "start_time": "2022-01-14T01:43:21.420Z"
   },
   {
    "duration": 1522,
    "start_time": "2022-01-14T02:42:39.804Z"
   },
   {
    "duration": 1273,
    "start_time": "2022-01-14T02:42:41.665Z"
   },
   {
    "duration": 38,
    "start_time": "2022-01-14T02:42:44.011Z"
   },
   {
    "duration": 365,
    "start_time": "2022-01-14T02:42:47.860Z"
   },
   {
    "duration": 24,
    "start_time": "2022-01-14T02:42:49.328Z"
   },
   {
    "duration": 30,
    "start_time": "2022-01-14T02:42:53.558Z"
   },
   {
    "duration": 208,
    "start_time": "2022-01-14T02:42:56.358Z"
   },
   {
    "duration": 16,
    "start_time": "2022-01-14T02:43:01.821Z"
   },
   {
    "duration": 31,
    "start_time": "2022-01-14T02:43:05.638Z"
   },
   {
    "duration": 382,
    "start_time": "2022-01-14T02:43:08.209Z"
   },
   {
    "duration": 24,
    "start_time": "2022-01-14T02:43:12.216Z"
   },
   {
    "duration": 16,
    "start_time": "2022-01-14T02:43:14.975Z"
   },
   {
    "duration": 3,
    "start_time": "2022-01-14T02:43:16.941Z"
   },
   {
    "duration": 7,
    "start_time": "2022-01-14T02:43:19.064Z"
   },
   {
    "duration": 7,
    "start_time": "2022-01-14T02:43:23.636Z"
   },
   {
    "duration": 6,
    "start_time": "2022-01-14T02:43:27.286Z"
   },
   {
    "duration": 5,
    "start_time": "2022-01-14T02:43:29.757Z"
   },
   {
    "duration": 14,
    "start_time": "2022-01-14T02:43:32.390Z"
   },
   {
    "duration": 9,
    "start_time": "2022-01-14T02:43:34.515Z"
   },
   {
    "duration": 10,
    "start_time": "2022-01-14T02:47:07.782Z"
   },
   {
    "duration": 6,
    "start_time": "2022-01-14T02:47:09.331Z"
   },
   {
    "duration": 21,
    "start_time": "2022-01-14T02:47:11.016Z"
   },
   {
    "duration": 11,
    "start_time": "2022-01-14T02:47:13.198Z"
   },
   {
    "duration": 10,
    "start_time": "2022-01-14T02:47:23.493Z"
   },
   {
    "duration": 15,
    "start_time": "2022-01-14T02:47:25.513Z"
   },
   {
    "duration": 8,
    "start_time": "2022-01-14T02:47:31.174Z"
   },
   {
    "duration": 14,
    "start_time": "2022-01-14T02:47:32.365Z"
   },
   {
    "duration": 9,
    "start_time": "2022-01-14T02:47:34.577Z"
   },
   {
    "duration": 133,
    "start_time": "2022-01-14T02:47:37.981Z"
   },
   {
    "duration": 44,
    "start_time": "2022-01-14T02:47:39.490Z"
   },
   {
    "duration": 42,
    "start_time": "2022-01-14T02:48:03.252Z"
   },
   {
    "duration": 6,
    "start_time": "2022-01-14T02:48:06.264Z"
   },
   {
    "duration": 1633,
    "start_time": "2022-01-14T02:48:07.584Z"
   },
   {
    "duration": 1481,
    "start_time": "2022-01-14T02:48:09.515Z"
   },
   {
    "duration": 1498,
    "start_time": "2022-01-14T02:48:11.272Z"
   },
   {
    "duration": 818,
    "start_time": "2022-01-14T02:48:13.477Z"
   },
   {
    "duration": 468,
    "start_time": "2022-01-14T02:48:15.331Z"
   },
   {
    "duration": 441,
    "start_time": "2022-01-14T02:48:16.963Z"
   },
   {
    "duration": 456,
    "start_time": "2022-01-14T02:48:18.051Z"
   },
   {
    "duration": 6,
    "start_time": "2022-01-14T02:48:21.184Z"
   },
   {
    "duration": 55,
    "start_time": "2022-01-14T02:48:23.872Z"
   },
   {
    "duration": 1298,
    "start_time": "2022-01-14T02:48:26.009Z"
   },
   {
    "duration": 1226,
    "start_time": "2022-01-14T02:48:27.310Z"
   },
   {
    "duration": 1332,
    "start_time": "2022-01-14T02:48:28.539Z"
   },
   {
    "duration": 7,
    "start_time": "2022-01-14T02:48:42.538Z"
   },
   {
    "duration": 6,
    "start_time": "2022-01-14T02:48:44.015Z"
   },
   {
    "duration": 36,
    "start_time": "2022-01-14T02:48:45.284Z"
   },
   {
    "duration": 7,
    "start_time": "2022-01-14T02:48:47.951Z"
   },
   {
    "duration": 34,
    "start_time": "2022-01-14T02:48:49.602Z"
   },
   {
    "duration": 6,
    "start_time": "2022-01-14T02:48:54.494Z"
   },
   {
    "duration": 690,
    "start_time": "2022-01-14T02:48:55.974Z"
   },
   {
    "duration": 14,
    "start_time": "2022-01-14T02:49:10.219Z"
   },
   {
    "duration": 525,
    "start_time": "2022-01-14T02:49:15.348Z"
   },
   {
    "duration": 86,
    "start_time": "2022-01-14T02:49:26.907Z"
   },
   {
    "duration": 369,
    "start_time": "2022-01-14T02:49:29.608Z"
   },
   {
    "duration": -476,
    "start_time": "2022-01-14T02:52:12.350Z"
   },
   {
    "duration": -463,
    "start_time": "2022-01-14T02:52:43.468Z"
   },
   {
    "duration": 4,
    "start_time": "2022-01-14T02:52:53.516Z"
   },
   {
    "duration": 9238,
    "start_time": "2022-01-14T02:52:54.893Z"
   },
   {
    "duration": 9317,
    "start_time": "2022-01-14T02:53:09.387Z"
   },
   {
    "duration": 1672,
    "start_time": "2022-01-14T02:53:21.950Z"
   },
   {
    "duration": 1251,
    "start_time": "2022-01-14T02:53:23.625Z"
   },
   {
    "duration": 36,
    "start_time": "2022-01-14T02:53:24.879Z"
   },
   {
    "duration": 384,
    "start_time": "2022-01-14T02:53:24.917Z"
   },
   {
    "duration": 23,
    "start_time": "2022-01-14T02:53:25.304Z"
   },
   {
    "duration": 47,
    "start_time": "2022-01-14T02:53:25.329Z"
   },
   {
    "duration": 222,
    "start_time": "2022-01-14T02:53:25.379Z"
   },
   {
    "duration": 16,
    "start_time": "2022-01-14T02:53:25.605Z"
   },
   {
    "duration": 47,
    "start_time": "2022-01-14T02:53:25.624Z"
   },
   {
    "duration": 403,
    "start_time": "2022-01-14T02:53:25.674Z"
   },
   {
    "duration": 26,
    "start_time": "2022-01-14T02:53:26.079Z"
   },
   {
    "duration": 15,
    "start_time": "2022-01-14T02:53:26.108Z"
   },
   {
    "duration": 3,
    "start_time": "2022-01-14T02:53:26.126Z"
   },
   {
    "duration": 34,
    "start_time": "2022-01-14T02:53:26.131Z"
   },
   {
    "duration": 9,
    "start_time": "2022-01-14T02:53:26.167Z"
   },
   {
    "duration": 7,
    "start_time": "2022-01-14T02:53:26.179Z"
   },
   {
    "duration": 7,
    "start_time": "2022-01-14T02:53:26.188Z"
   },
   {
    "duration": 18,
    "start_time": "2022-01-14T02:53:26.197Z"
   },
   {
    "duration": 11,
    "start_time": "2022-01-14T02:53:26.259Z"
   },
   {
    "duration": 8,
    "start_time": "2022-01-14T02:53:26.273Z"
   },
   {
    "duration": 5,
    "start_time": "2022-01-14T02:53:26.284Z"
   },
   {
    "duration": 21,
    "start_time": "2022-01-14T02:53:26.292Z"
   },
   {
    "duration": 48,
    "start_time": "2022-01-14T02:53:26.320Z"
   },
   {
    "duration": 15,
    "start_time": "2022-01-14T02:53:26.371Z"
   },
   {
    "duration": 7,
    "start_time": "2022-01-14T02:53:26.388Z"
   },
   {
    "duration": 12,
    "start_time": "2022-01-14T02:53:26.397Z"
   },
   {
    "duration": 52,
    "start_time": "2022-01-14T02:53:26.412Z"
   },
   {
    "duration": 139,
    "start_time": "2022-01-14T02:53:26.467Z"
   },
   {
    "duration": 52,
    "start_time": "2022-01-14T02:53:26.608Z"
   },
   {
    "duration": 3,
    "start_time": "2022-01-14T02:53:26.663Z"
   },
   {
    "duration": 5,
    "start_time": "2022-01-14T02:53:26.668Z"
   },
   {
    "duration": 45,
    "start_time": "2022-01-14T02:53:26.675Z"
   },
   {
    "duration": 5,
    "start_time": "2022-01-14T02:53:26.723Z"
   },
   {
    "duration": 1642,
    "start_time": "2022-01-14T02:53:26.759Z"
   },
   {
    "duration": 1500,
    "start_time": "2022-01-14T02:53:28.404Z"
   },
   {
    "duration": 1527,
    "start_time": "2022-01-14T02:53:29.907Z"
   },
   {
    "duration": 1101,
    "start_time": "2022-01-14T02:53:31.438Z"
   },
   {
    "duration": 487,
    "start_time": "2022-01-14T02:53:32.541Z"
   },
   {
    "duration": 453,
    "start_time": "2022-01-14T02:53:33.031Z"
   },
   {
    "duration": 496,
    "start_time": "2022-01-14T02:53:33.487Z"
   },
   {
    "duration": 6,
    "start_time": "2022-01-14T02:53:33.986Z"
   },
   {
    "duration": 78,
    "start_time": "2022-01-14T02:53:33.996Z"
   },
   {
    "duration": 1219,
    "start_time": "2022-01-14T02:53:34.077Z"
   },
   {
    "duration": 1230,
    "start_time": "2022-01-14T02:53:35.299Z"
   },
   {
    "duration": 1447,
    "start_time": "2022-01-14T02:53:36.532Z"
   },
   {
    "duration": 8,
    "start_time": "2022-01-14T02:53:37.982Z"
   },
   {
    "duration": 15,
    "start_time": "2022-01-14T02:53:37.993Z"
   },
   {
    "duration": 58,
    "start_time": "2022-01-14T02:53:38.010Z"
   },
   {
    "duration": 7,
    "start_time": "2022-01-14T02:53:38.070Z"
   },
   {
    "duration": 37,
    "start_time": "2022-01-14T02:53:38.079Z"
   },
   {
    "duration": 6,
    "start_time": "2022-01-14T02:53:38.118Z"
   },
   {
    "duration": 49,
    "start_time": "2022-01-14T02:53:38.126Z"
   },
   {
    "duration": 820,
    "start_time": "2022-01-14T02:53:38.177Z"
   },
   {
    "duration": -399,
    "start_time": "2022-01-14T02:53:39.400Z"
   },
   {
    "duration": -403,
    "start_time": "2022-01-14T02:53:39.406Z"
   },
   {
    "duration": 446,
    "start_time": "2022-01-14T05:06:06.778Z"
   },
   {
    "duration": 1700,
    "start_time": "2022-01-14T05:06:08.882Z"
   },
   {
    "duration": 1201,
    "start_time": "2022-01-14T05:06:11.861Z"
   },
   {
    "duration": 35,
    "start_time": "2022-01-14T05:06:13.213Z"
   },
   {
    "duration": 361,
    "start_time": "2022-01-14T05:06:14.436Z"
   },
   {
    "duration": 24,
    "start_time": "2022-01-14T05:06:17.201Z"
   },
   {
    "duration": 29,
    "start_time": "2022-01-14T05:06:21.311Z"
   },
   {
    "duration": 9,
    "start_time": "2022-01-14T05:06:28.451Z"
   },
   {
    "duration": 1731,
    "start_time": "2022-01-14T05:06:28.463Z"
   },
   {
    "duration": 45,
    "start_time": "2022-01-14T05:06:30.198Z"
   },
   {
    "duration": 542,
    "start_time": "2022-01-14T05:06:30.261Z"
   },
   {
    "duration": 36,
    "start_time": "2022-01-14T05:06:30.806Z"
   },
   {
    "duration": 45,
    "start_time": "2022-01-14T05:06:30.845Z"
   },
   {
    "duration": 232,
    "start_time": "2022-01-14T05:06:30.892Z"
   },
   {
    "duration": 16,
    "start_time": "2022-01-14T05:06:31.128Z"
   },
   {
    "duration": 30,
    "start_time": "2022-01-14T05:06:31.160Z"
   },
   {
    "duration": 405,
    "start_time": "2022-01-14T05:06:31.193Z"
   },
   {
    "duration": 26,
    "start_time": "2022-01-14T05:06:31.600Z"
   },
   {
    "duration": 16,
    "start_time": "2022-01-14T05:06:36.985Z"
   },
   {
    "duration": 7,
    "start_time": "2022-01-14T05:06:39.281Z"
   },
   {
    "duration": 7,
    "start_time": "2022-01-14T05:06:41.856Z"
   },
   {
    "duration": 6,
    "start_time": "2022-01-14T05:06:44.314Z"
   },
   {
    "duration": 5,
    "start_time": "2022-01-14T05:06:48.097Z"
   },
   {
    "duration": 14,
    "start_time": "2022-01-14T05:06:49.702Z"
   },
   {
    "duration": 10,
    "start_time": "2022-01-14T05:06:51.630Z"
   },
   {
    "duration": 10,
    "start_time": "2022-01-14T05:07:05.861Z"
   },
   {
    "duration": 6,
    "start_time": "2022-01-14T05:07:07.425Z"
   },
   {
    "duration": 22,
    "start_time": "2022-01-14T05:07:09.662Z"
   },
   {
    "duration": 10,
    "start_time": "2022-01-14T05:07:10.602Z"
   },
   {
    "duration": 38,
    "start_time": "2022-01-14T05:07:18.703Z"
   },
   {
    "duration": 8,
    "start_time": "2022-01-14T05:07:21.092Z"
   },
   {
    "duration": 134,
    "start_time": "2022-01-14T05:07:24.406Z"
   },
   {
    "duration": 41,
    "start_time": "2022-01-14T05:07:26.247Z"
   },
   {
    "duration": 5,
    "start_time": "2022-01-14T05:07:34.167Z"
   },
   {
    "duration": 50,
    "start_time": "2022-01-14T05:07:35.940Z"
   },
   {
    "duration": 8,
    "start_time": "2022-01-14T05:07:38.302Z"
   },
   {
    "duration": 1867,
    "start_time": "2022-01-14T05:07:39.621Z"
   },
   {
    "duration": 1485,
    "start_time": "2022-01-14T05:07:44.948Z"
   },
   {
    "duration": 1596,
    "start_time": "2022-01-14T05:07:46.436Z"
   },
   {
    "duration": 849,
    "start_time": "2022-01-14T05:07:50.302Z"
   },
   {
    "duration": 452,
    "start_time": "2022-01-14T05:07:53.818Z"
   },
   {
    "duration": 425,
    "start_time": "2022-01-14T05:07:55.030Z"
   },
   {
    "duration": 434,
    "start_time": "2022-01-14T05:07:57.529Z"
   },
   {
    "duration": 5,
    "start_time": "2022-01-14T05:07:59.999Z"
   },
   {
    "duration": 38,
    "start_time": "2022-01-14T05:08:03.084Z"
   },
   {
    "duration": 1187,
    "start_time": "2022-01-14T05:08:04.922Z"
   },
   {
    "duration": 1214,
    "start_time": "2022-01-14T05:08:06.112Z"
   },
   {
    "duration": 1462,
    "start_time": "2022-01-14T05:08:07.329Z"
   },
   {
    "duration": 8,
    "start_time": "2022-01-14T05:15:36.574Z"
   },
   {
    "duration": 7,
    "start_time": "2022-01-14T05:15:37.683Z"
   },
   {
    "duration": 36,
    "start_time": "2022-01-14T05:15:39.160Z"
   },
   {
    "duration": 7,
    "start_time": "2022-01-14T05:15:41.960Z"
   },
   {
    "duration": 34,
    "start_time": "2022-01-14T05:15:43.270Z"
   },
   {
    "duration": 5,
    "start_time": "2022-01-14T05:15:46.784Z"
   },
   {
    "duration": 16,
    "start_time": "2022-01-14T05:15:49.399Z"
   },
   {
    "duration": 593,
    "start_time": "2022-01-14T05:15:58.241Z"
   },
   {
    "duration": 18,
    "start_time": "2022-01-14T05:16:13.054Z"
   },
   {
    "duration": 34,
    "start_time": "2022-01-14T05:16:14.302Z"
   },
   {
    "duration": 379,
    "start_time": "2022-01-14T05:16:16.016Z"
   },
   {
    "duration": 395,
    "start_time": "2022-01-14T05:17:23.708Z"
   },
   {
    "duration": 8462,
    "start_time": "2022-01-14T05:17:39.436Z"
   },
   {
    "duration": 1562,
    "start_time": "2022-01-14T05:18:04.047Z"
   },
   {
    "duration": 1236,
    "start_time": "2022-01-14T05:18:05.612Z"
   },
   {
    "duration": 39,
    "start_time": "2022-01-14T05:18:06.851Z"
   },
   {
    "duration": 376,
    "start_time": "2022-01-14T05:18:06.893Z"
   },
   {
    "duration": 24,
    "start_time": "2022-01-14T05:18:07.272Z"
   },
   {
    "duration": 30,
    "start_time": "2022-01-14T05:18:07.299Z"
   },
   {
    "duration": 226,
    "start_time": "2022-01-14T05:18:07.360Z"
   },
   {
    "duration": 15,
    "start_time": "2022-01-14T05:18:07.588Z"
   },
   {
    "duration": 54,
    "start_time": "2022-01-14T05:18:07.607Z"
   },
   {
    "duration": 390,
    "start_time": "2022-01-14T05:18:07.664Z"
   },
   {
    "duration": 25,
    "start_time": "2022-01-14T05:18:08.059Z"
   },
   {
    "duration": 15,
    "start_time": "2022-01-14T05:18:08.086Z"
   },
   {
    "duration": 3,
    "start_time": "2022-01-14T05:18:08.103Z"
   },
   {
    "duration": 13,
    "start_time": "2022-01-14T05:18:08.108Z"
   },
   {
    "duration": 37,
    "start_time": "2022-01-14T05:18:08.124Z"
   },
   {
    "duration": 8,
    "start_time": "2022-01-14T05:18:08.163Z"
   },
   {
    "duration": 10,
    "start_time": "2022-01-14T05:18:08.173Z"
   },
   {
    "duration": 15,
    "start_time": "2022-01-14T05:18:08.185Z"
   },
   {
    "duration": 9,
    "start_time": "2022-01-14T05:18:08.202Z"
   },
   {
    "duration": 50,
    "start_time": "2022-01-14T05:18:08.213Z"
   },
   {
    "duration": 7,
    "start_time": "2022-01-14T05:18:08.265Z"
   },
   {
    "duration": 22,
    "start_time": "2022-01-14T05:18:08.275Z"
   },
   {
    "duration": 12,
    "start_time": "2022-01-14T05:18:08.299Z"
   },
   {
    "duration": 73,
    "start_time": "2022-01-14T05:18:08.313Z"
   },
   {
    "duration": 3,
    "start_time": "2022-01-14T05:18:08.388Z"
   },
   {
    "duration": 6,
    "start_time": "2022-01-14T05:18:08.393Z"
   },
   {
    "duration": 4,
    "start_time": "2022-01-14T05:18:08.404Z"
   },
   {
    "duration": 12,
    "start_time": "2022-01-14T05:18:08.410Z"
   },
   {
    "duration": 169,
    "start_time": "2022-01-14T05:18:08.424Z"
   },
   {
    "duration": 41,
    "start_time": "2022-01-14T05:18:08.595Z"
   },
   {
    "duration": 19,
    "start_time": "2022-01-14T05:18:38.564Z"
   },
   {
    "duration": 5,
    "start_time": "2022-01-14T05:18:44.352Z"
   },
   {
    "duration": 1690,
    "start_time": "2022-01-14T05:18:44.360Z"
   },
   {
    "duration": 1698,
    "start_time": "2022-01-14T05:18:46.061Z"
   },
   {
    "duration": 1616,
    "start_time": "2022-01-14T05:18:47.762Z"
   },
   {
    "duration": 816,
    "start_time": "2022-01-14T05:18:49.381Z"
   },
   {
    "duration": 463,
    "start_time": "2022-01-14T05:18:50.199Z"
   },
   {
    "duration": 432,
    "start_time": "2022-01-14T05:18:50.665Z"
   },
   {
    "duration": 456,
    "start_time": "2022-01-14T05:18:51.100Z"
   },
   {
    "duration": 5,
    "start_time": "2022-01-14T05:18:51.561Z"
   },
   {
    "duration": 35,
    "start_time": "2022-01-14T05:18:51.568Z"
   },
   {
    "duration": 1199,
    "start_time": "2022-01-14T05:18:51.606Z"
   },
   {
    "duration": 1164,
    "start_time": "2022-01-14T05:18:52.807Z"
   },
   {
    "duration": 1345,
    "start_time": "2022-01-14T05:18:53.974Z"
   },
   {
    "duration": 7,
    "start_time": "2022-01-14T05:18:55.323Z"
   },
   {
    "duration": 27,
    "start_time": "2022-01-14T05:18:55.333Z"
   },
   {
    "duration": 40,
    "start_time": "2022-01-14T05:18:55.363Z"
   },
   {
    "duration": 8,
    "start_time": "2022-01-14T05:18:55.406Z"
   },
   {
    "duration": 64,
    "start_time": "2022-01-14T05:18:55.417Z"
   },
   {
    "duration": 6,
    "start_time": "2022-01-14T05:18:55.484Z"
   },
   {
    "duration": 20,
    "start_time": "2022-01-14T05:18:55.492Z"
   },
   {
    "duration": 58,
    "start_time": "2022-01-14T05:18:55.515Z"
   },
   {
    "duration": 562,
    "start_time": "2022-01-14T05:18:55.576Z"
   },
   {
    "duration": -542,
    "start_time": "2022-01-14T05:18:56.683Z"
   },
   {
    "duration": 6,
    "start_time": "2022-01-14T05:19:06.763Z"
   },
   {
    "duration": 461,
    "start_time": "2022-01-14T05:19:20.520Z"
   },
   {
    "duration": 719,
    "start_time": "2022-01-14T05:19:39.927Z"
   },
   {
    "duration": 687,
    "start_time": "2022-01-14T05:19:54.420Z"
   },
   {
    "duration": 6,
    "start_time": "2022-01-14T05:20:14.273Z"
   },
   {
    "duration": 6,
    "start_time": "2022-01-14T05:20:23.873Z"
   },
   {
    "duration": 2848,
    "start_time": "2022-01-14T05:20:26.451Z"
   },
   {
    "duration": 27,
    "start_time": "2022-01-14T05:22:18.781Z"
   },
   {
    "duration": 7,
    "start_time": "2022-01-14T05:22:21.265Z"
   },
   {
    "duration": 1505,
    "start_time": "2022-01-14T05:23:09.608Z"
   },
   {
    "duration": 1248,
    "start_time": "2022-01-14T05:23:11.116Z"
   },
   {
    "duration": 36,
    "start_time": "2022-01-14T05:23:12.367Z"
   },
   {
    "duration": 376,
    "start_time": "2022-01-14T05:23:12.407Z"
   },
   {
    "duration": 24,
    "start_time": "2022-01-14T05:23:12.786Z"
   },
   {
    "duration": 50,
    "start_time": "2022-01-14T05:23:12.813Z"
   },
   {
    "duration": 219,
    "start_time": "2022-01-14T05:23:12.866Z"
   },
   {
    "duration": 16,
    "start_time": "2022-01-14T05:23:13.089Z"
   },
   {
    "duration": 51,
    "start_time": "2022-01-14T05:23:13.108Z"
   },
   {
    "duration": 385,
    "start_time": "2022-01-14T05:23:13.161Z"
   },
   {
    "duration": 28,
    "start_time": "2022-01-14T05:23:13.549Z"
   },
   {
    "duration": 16,
    "start_time": "2022-01-14T05:23:13.579Z"
   },
   {
    "duration": 3,
    "start_time": "2022-01-14T05:23:13.597Z"
   },
   {
    "duration": 8,
    "start_time": "2022-01-14T05:23:13.602Z"
   },
   {
    "duration": 7,
    "start_time": "2022-01-14T05:23:13.612Z"
   },
   {
    "duration": 7,
    "start_time": "2022-01-14T05:23:13.660Z"
   },
   {
    "duration": 5,
    "start_time": "2022-01-14T05:23:13.669Z"
   },
   {
    "duration": 14,
    "start_time": "2022-01-14T05:23:13.676Z"
   },
   {
    "duration": 10,
    "start_time": "2022-01-14T05:23:13.692Z"
   },
   {
    "duration": 54,
    "start_time": "2022-01-14T05:23:13.705Z"
   },
   {
    "duration": 5,
    "start_time": "2022-01-14T05:23:13.762Z"
   },
   {
    "duration": 23,
    "start_time": "2022-01-14T05:23:13.770Z"
   },
   {
    "duration": 11,
    "start_time": "2022-01-14T05:23:13.798Z"
   },
   {
    "duration": 71,
    "start_time": "2022-01-14T05:23:13.812Z"
   },
   {
    "duration": 2,
    "start_time": "2022-01-14T05:23:13.886Z"
   },
   {
    "duration": 6,
    "start_time": "2022-01-14T05:23:13.890Z"
   },
   {
    "duration": 5,
    "start_time": "2022-01-14T05:23:13.898Z"
   },
   {
    "duration": 9,
    "start_time": "2022-01-14T05:23:13.906Z"
   },
   {
    "duration": 169,
    "start_time": "2022-01-14T05:23:13.917Z"
   },
   {
    "duration": 42,
    "start_time": "2022-01-14T05:23:14.088Z"
   },
   {
    "duration": 35,
    "start_time": "2022-01-14T05:23:14.132Z"
   },
   {
    "duration": 6,
    "start_time": "2022-01-14T05:23:14.169Z"
   },
   {
    "duration": 1585,
    "start_time": "2022-01-14T05:23:14.177Z"
   },
   {
    "duration": 1465,
    "start_time": "2022-01-14T05:23:15.765Z"
   },
   {
    "duration": 1463,
    "start_time": "2022-01-14T05:23:17.233Z"
   },
   {
    "duration": 827,
    "start_time": "2022-01-14T05:23:18.699Z"
   },
   {
    "duration": 455,
    "start_time": "2022-01-14T05:23:19.528Z"
   },
   {
    "duration": 428,
    "start_time": "2022-01-14T05:23:19.985Z"
   },
   {
    "duration": 440,
    "start_time": "2022-01-14T05:23:20.415Z"
   },
   {
    "duration": 5,
    "start_time": "2022-01-14T05:23:20.857Z"
   },
   {
    "duration": 38,
    "start_time": "2022-01-14T05:23:20.864Z"
   },
   {
    "duration": 1166,
    "start_time": "2022-01-14T05:23:20.904Z"
   },
   {
    "duration": 1235,
    "start_time": "2022-01-14T05:23:22.073Z"
   },
   {
    "duration": 1329,
    "start_time": "2022-01-14T05:23:23.310Z"
   },
   {
    "duration": 19,
    "start_time": "2022-01-14T05:23:24.641Z"
   },
   {
    "duration": 8,
    "start_time": "2022-01-14T05:23:24.662Z"
   },
   {
    "duration": 36,
    "start_time": "2022-01-14T05:23:24.673Z"
   },
   {
    "duration": 6,
    "start_time": "2022-01-14T05:23:24.711Z"
   },
   {
    "duration": 65,
    "start_time": "2022-01-14T05:23:24.719Z"
   },
   {
    "duration": 6,
    "start_time": "2022-01-14T05:23:24.786Z"
   },
   {
    "duration": 16,
    "start_time": "2022-01-14T05:23:24.794Z"
   },
   {
    "duration": 647,
    "start_time": "2022-01-14T05:23:24.813Z"
   },
   {
    "duration": -136,
    "start_time": "2022-01-14T05:23:25.599Z"
   },
   {
    "duration": -138,
    "start_time": "2022-01-14T05:23:25.603Z"
   },
   {
    "duration": 35,
    "start_time": "2022-01-14T05:24:14.320Z"
   },
   {
    "duration": 2891,
    "start_time": "2022-01-14T05:24:21.847Z"
   },
   {
    "duration": 13,
    "start_time": "2022-01-14T05:25:50.417Z"
   },
   {
    "duration": 450,
    "start_time": "2022-01-14T05:25:51.693Z"
   },
   {
    "duration": 30,
    "start_time": "2022-01-14T05:25:54.233Z"
   },
   {
    "duration": 2888,
    "start_time": "2022-01-14T05:25:56.543Z"
   },
   {
    "duration": 7,
    "start_time": "2022-01-14T05:30:43.255Z"
   },
   {
    "duration": 1523,
    "start_time": "2022-01-14T05:31:07.568Z"
   },
   {
    "duration": 1198,
    "start_time": "2022-01-14T05:31:09.093Z"
   },
   {
    "duration": 36,
    "start_time": "2022-01-14T05:31:10.295Z"
   },
   {
    "duration": 375,
    "start_time": "2022-01-14T05:31:10.334Z"
   },
   {
    "duration": 25,
    "start_time": "2022-01-14T05:31:10.713Z"
   },
   {
    "duration": 48,
    "start_time": "2022-01-14T05:31:10.741Z"
   },
   {
    "duration": 234,
    "start_time": "2022-01-14T05:31:10.792Z"
   },
   {
    "duration": 16,
    "start_time": "2022-01-14T05:31:11.029Z"
   },
   {
    "duration": 31,
    "start_time": "2022-01-14T05:31:11.062Z"
   },
   {
    "duration": 403,
    "start_time": "2022-01-14T05:31:11.095Z"
   },
   {
    "duration": 25,
    "start_time": "2022-01-14T05:31:11.500Z"
   },
   {
    "duration": 32,
    "start_time": "2022-01-14T05:31:11.528Z"
   },
   {
    "duration": 3,
    "start_time": "2022-01-14T05:31:11.563Z"
   },
   {
    "duration": 9,
    "start_time": "2022-01-14T05:31:11.568Z"
   },
   {
    "duration": 7,
    "start_time": "2022-01-14T05:31:11.579Z"
   },
   {
    "duration": 7,
    "start_time": "2022-01-14T05:31:11.588Z"
   },
   {
    "duration": 6,
    "start_time": "2022-01-14T05:31:11.597Z"
   },
   {
    "duration": 56,
    "start_time": "2022-01-14T05:31:11.605Z"
   },
   {
    "duration": 10,
    "start_time": "2022-01-14T05:31:11.663Z"
   },
   {
    "duration": 8,
    "start_time": "2022-01-14T05:31:11.675Z"
   },
   {
    "duration": 5,
    "start_time": "2022-01-14T05:31:11.686Z"
   },
   {
    "duration": 22,
    "start_time": "2022-01-14T05:31:11.694Z"
   },
   {
    "duration": 10,
    "start_time": "2022-01-14T05:31:11.760Z"
   },
   {
    "duration": 40,
    "start_time": "2022-01-14T05:31:11.773Z"
   },
   {
    "duration": 4,
    "start_time": "2022-01-14T05:31:11.815Z"
   },
   {
    "duration": 38,
    "start_time": "2022-01-14T05:31:11.821Z"
   },
   {
    "duration": 8,
    "start_time": "2022-01-14T05:31:11.867Z"
   },
   {
    "duration": 9,
    "start_time": "2022-01-14T05:31:11.878Z"
   },
   {
    "duration": 154,
    "start_time": "2022-01-14T05:31:11.889Z"
   },
   {
    "duration": 48,
    "start_time": "2022-01-14T05:31:12.046Z"
   },
   {
    "duration": 18,
    "start_time": "2022-01-14T05:31:12.097Z"
   },
   {
    "duration": 7,
    "start_time": "2022-01-14T05:31:12.117Z"
   },
   {
    "duration": 1589,
    "start_time": "2022-01-14T05:31:12.127Z"
   },
   {
    "duration": 1430,
    "start_time": "2022-01-14T05:31:13.719Z"
   },
   {
    "duration": 1462,
    "start_time": "2022-01-14T05:31:15.159Z"
   },
   {
    "duration": 931,
    "start_time": "2022-01-14T05:31:16.623Z"
   },
   {
    "duration": 449,
    "start_time": "2022-01-14T05:31:17.557Z"
   },
   {
    "duration": 419,
    "start_time": "2022-01-14T05:31:18.008Z"
   },
   {
    "duration": 574,
    "start_time": "2022-01-14T05:31:18.429Z"
   },
   {
    "duration": 5,
    "start_time": "2022-01-14T05:31:19.006Z"
   },
   {
    "duration": 54,
    "start_time": "2022-01-14T05:31:19.013Z"
   },
   {
    "duration": 1154,
    "start_time": "2022-01-14T05:31:19.070Z"
   },
   {
    "duration": 1180,
    "start_time": "2022-01-14T05:31:20.227Z"
   },
   {
    "duration": 1314,
    "start_time": "2022-01-14T05:31:21.410Z"
   },
   {
    "duration": 7,
    "start_time": "2022-01-14T05:31:22.728Z"
   },
   {
    "duration": 7,
    "start_time": "2022-01-14T05:31:22.758Z"
   },
   {
    "duration": 36,
    "start_time": "2022-01-14T05:31:22.768Z"
   },
   {
    "duration": 7,
    "start_time": "2022-01-14T05:31:22.808Z"
   },
   {
    "duration": 70,
    "start_time": "2022-01-14T05:31:22.818Z"
   },
   {
    "duration": 6,
    "start_time": "2022-01-14T05:31:22.891Z"
   },
   {
    "duration": 18,
    "start_time": "2022-01-14T05:31:22.900Z"
   },
   {
    "duration": 648,
    "start_time": "2022-01-14T05:31:22.921Z"
   },
   {
    "duration": -144,
    "start_time": "2022-01-14T05:31:23.716Z"
   },
   {
    "duration": -149,
    "start_time": "2022-01-14T05:31:23.722Z"
   },
   {
    "duration": 481,
    "start_time": "2022-01-14T05:51:01.119Z"
   },
   {
    "duration": 616,
    "start_time": "2022-01-14T05:51:25.134Z"
   },
   {
    "duration": 19,
    "start_time": "2022-01-14T05:52:13.310Z"
   },
   {
    "duration": 37,
    "start_time": "2022-01-14T05:52:16.163Z"
   },
   {
    "duration": 3465,
    "start_time": "2022-01-14T05:52:19.925Z"
   },
   {
    "duration": 15,
    "start_time": "2022-01-14T05:54:35.463Z"
   },
   {
    "duration": 13,
    "start_time": "2022-01-14T05:54:37.762Z"
   },
   {
    "duration": 31,
    "start_time": "2022-01-14T05:54:45.248Z"
   },
   {
    "duration": 2930,
    "start_time": "2022-01-14T05:54:50.031Z"
   },
   {
    "duration": 1504,
    "start_time": "2022-01-14T05:55:16.507Z"
   },
   {
    "duration": 1224,
    "start_time": "2022-01-14T05:55:18.014Z"
   },
   {
    "duration": 38,
    "start_time": "2022-01-14T05:55:19.241Z"
   },
   {
    "duration": 374,
    "start_time": "2022-01-14T05:55:19.282Z"
   },
   {
    "duration": 24,
    "start_time": "2022-01-14T05:55:19.659Z"
   },
   {
    "duration": 30,
    "start_time": "2022-01-14T05:55:19.685Z"
   },
   {
    "duration": 233,
    "start_time": "2022-01-14T05:55:19.717Z"
   },
   {
    "duration": 15,
    "start_time": "2022-01-14T05:55:19.959Z"
   },
   {
    "duration": 31,
    "start_time": "2022-01-14T05:55:19.979Z"
   },
   {
    "duration": 410,
    "start_time": "2022-01-14T05:55:20.013Z"
   },
   {
    "duration": 34,
    "start_time": "2022-01-14T05:55:20.425Z"
   },
   {
    "duration": 16,
    "start_time": "2022-01-14T05:55:20.461Z"
   },
   {
    "duration": 4,
    "start_time": "2022-01-14T05:55:20.480Z"
   },
   {
    "duration": 8,
    "start_time": "2022-01-14T05:55:20.486Z"
   },
   {
    "duration": 8,
    "start_time": "2022-01-14T05:55:20.496Z"
   },
   {
    "duration": 8,
    "start_time": "2022-01-14T05:55:20.506Z"
   },
   {
    "duration": 45,
    "start_time": "2022-01-14T05:55:20.516Z"
   },
   {
    "duration": 16,
    "start_time": "2022-01-14T05:55:20.563Z"
   },
   {
    "duration": 9,
    "start_time": "2022-01-14T05:55:20.581Z"
   },
   {
    "duration": 8,
    "start_time": "2022-01-14T05:55:20.593Z"
   },
   {
    "duration": 5,
    "start_time": "2022-01-14T05:55:20.604Z"
   },
   {
    "duration": 63,
    "start_time": "2022-01-14T05:55:20.611Z"
   },
   {
    "duration": 10,
    "start_time": "2022-01-14T05:55:20.676Z"
   },
   {
    "duration": 40,
    "start_time": "2022-01-14T05:55:20.688Z"
   },
   {
    "duration": 3,
    "start_time": "2022-01-14T05:55:20.759Z"
   },
   {
    "duration": 8,
    "start_time": "2022-01-14T05:55:20.764Z"
   },
   {
    "duration": 4,
    "start_time": "2022-01-14T05:55:20.778Z"
   },
   {
    "duration": 11,
    "start_time": "2022-01-14T05:55:20.785Z"
   },
   {
    "duration": 160,
    "start_time": "2022-01-14T05:55:20.799Z"
   },
   {
    "duration": 41,
    "start_time": "2022-01-14T05:55:20.961Z"
   },
   {
    "duration": 18,
    "start_time": "2022-01-14T05:55:21.005Z"
   },
   {
    "duration": 5,
    "start_time": "2022-01-14T05:55:21.026Z"
   },
   {
    "duration": 1714,
    "start_time": "2022-01-14T05:55:21.033Z"
   },
   {
    "duration": 1418,
    "start_time": "2022-01-14T05:55:22.750Z"
   },
   {
    "duration": 1421,
    "start_time": "2022-01-14T05:55:24.170Z"
   },
   {
    "duration": 802,
    "start_time": "2022-01-14T05:55:25.593Z"
   },
   {
    "duration": 449,
    "start_time": "2022-01-14T05:55:26.398Z"
   },
   {
    "duration": 413,
    "start_time": "2022-01-14T05:55:26.850Z"
   },
   {
    "duration": 426,
    "start_time": "2022-01-14T05:55:27.266Z"
   },
   {
    "duration": 6,
    "start_time": "2022-01-14T05:55:27.694Z"
   },
   {
    "duration": 35,
    "start_time": "2022-01-14T05:55:27.703Z"
   },
   {
    "duration": 1149,
    "start_time": "2022-01-14T05:55:27.760Z"
   },
   {
    "duration": 1150,
    "start_time": "2022-01-14T05:55:28.912Z"
   },
   {
    "duration": 1442,
    "start_time": "2022-01-14T05:55:30.065Z"
   },
   {
    "duration": 8,
    "start_time": "2022-01-14T05:55:31.511Z"
   },
   {
    "duration": 9,
    "start_time": "2022-01-14T05:55:31.522Z"
   },
   {
    "duration": 61,
    "start_time": "2022-01-14T05:55:31.534Z"
   },
   {
    "duration": 7,
    "start_time": "2022-01-14T05:55:31.599Z"
   },
   {
    "duration": 71,
    "start_time": "2022-01-14T05:55:31.609Z"
   },
   {
    "duration": 6,
    "start_time": "2022-01-14T05:55:31.683Z"
   },
   {
    "duration": 18,
    "start_time": "2022-01-14T05:55:31.692Z"
   },
   {
    "duration": 642,
    "start_time": "2022-01-14T05:55:31.713Z"
   },
   {
    "duration": -676,
    "start_time": "2022-01-14T05:55:33.033Z"
   },
   {
    "duration": -684,
    "start_time": "2022-01-14T05:55:33.042Z"
   },
   {
    "duration": 412,
    "start_time": "2022-01-14T06:13:28.666Z"
   },
   {
    "duration": 40,
    "start_time": "2022-01-14T06:28:53.464Z"
   },
   {
    "duration": 44,
    "start_time": "2022-01-14T06:29:10.202Z"
   },
   {
    "duration": 21,
    "start_time": "2022-01-14T06:29:17.519Z"
   },
   {
    "duration": 20,
    "start_time": "2022-01-14T06:29:30.064Z"
   },
   {
    "duration": 19,
    "start_time": "2022-01-14T06:29:36.827Z"
   },
   {
    "duration": 44,
    "start_time": "2022-01-14T06:29:53.281Z"
   },
   {
    "duration": 31,
    "start_time": "2022-01-14T06:29:58.948Z"
   },
   {
    "duration": 13,
    "start_time": "2022-01-14T06:30:08.009Z"
   },
   {
    "duration": 419,
    "start_time": "2022-01-14T06:44:20.483Z"
   },
   {
    "duration": 963,
    "start_time": "2022-01-14T06:44:29.712Z"
   },
   {
    "duration": 23,
    "start_time": "2022-01-14T06:46:34.887Z"
   },
   {
    "duration": 363,
    "start_time": "2022-01-14T06:47:12.269Z"
   },
   {
    "duration": 401,
    "start_time": "2022-01-14T06:47:34.112Z"
   },
   {
    "duration": 34,
    "start_time": "2022-01-14T06:58:25.678Z"
   },
   {
    "duration": 2807,
    "start_time": "2022-01-14T06:58:30.501Z"
   },
   {
    "duration": 360,
    "start_time": "2022-01-14T06:58:36.753Z"
   },
   {
    "duration": 14,
    "start_time": "2022-01-14T06:59:58.762Z"
   },
   {
    "duration": 29,
    "start_time": "2022-01-14T07:00:01.301Z"
   },
   {
    "duration": 397,
    "start_time": "2022-01-14T07:00:06.272Z"
   },
   {
    "duration": 1656,
    "start_time": "2022-01-14T07:00:23.750Z"
   },
   {
    "duration": 1434,
    "start_time": "2022-01-14T07:00:25.408Z"
   },
   {
    "duration": 42,
    "start_time": "2022-01-14T07:00:26.845Z"
   },
   {
    "duration": 384,
    "start_time": "2022-01-14T07:00:26.890Z"
   },
   {
    "duration": 23,
    "start_time": "2022-01-14T07:00:27.276Z"
   },
   {
    "duration": 28,
    "start_time": "2022-01-14T07:00:27.302Z"
   },
   {
    "duration": 213,
    "start_time": "2022-01-14T07:00:27.359Z"
   },
   {
    "duration": 17,
    "start_time": "2022-01-14T07:00:27.576Z"
   },
   {
    "duration": 31,
    "start_time": "2022-01-14T07:00:27.596Z"
   },
   {
    "duration": 419,
    "start_time": "2022-01-14T07:00:27.629Z"
   },
   {
    "duration": 32,
    "start_time": "2022-01-14T07:00:28.050Z"
   },
   {
    "duration": 16,
    "start_time": "2022-01-14T07:00:28.086Z"
   },
   {
    "duration": 3,
    "start_time": "2022-01-14T07:00:28.105Z"
   },
   {
    "duration": 52,
    "start_time": "2022-01-14T07:00:28.111Z"
   },
   {
    "duration": 8,
    "start_time": "2022-01-14T07:00:28.166Z"
   },
   {
    "duration": 9,
    "start_time": "2022-01-14T07:00:28.177Z"
   },
   {
    "duration": 7,
    "start_time": "2022-01-14T07:00:28.189Z"
   },
   {
    "duration": 17,
    "start_time": "2022-01-14T07:00:28.198Z"
   },
   {
    "duration": 11,
    "start_time": "2022-01-14T07:00:28.259Z"
   },
   {
    "duration": 9,
    "start_time": "2022-01-14T07:00:28.273Z"
   },
   {
    "duration": 5,
    "start_time": "2022-01-14T07:00:28.285Z"
   },
   {
    "duration": 24,
    "start_time": "2022-01-14T07:00:28.293Z"
   },
   {
    "duration": 11,
    "start_time": "2022-01-14T07:00:28.359Z"
   },
   {
    "duration": 40,
    "start_time": "2022-01-14T07:00:28.373Z"
   },
   {
    "duration": 3,
    "start_time": "2022-01-14T07:00:28.416Z"
   },
   {
    "duration": 38,
    "start_time": "2022-01-14T07:00:28.421Z"
   },
   {
    "duration": 4,
    "start_time": "2022-01-14T07:00:28.462Z"
   },
   {
    "duration": 11,
    "start_time": "2022-01-14T07:00:28.469Z"
   },
   {
    "duration": 158,
    "start_time": "2022-01-14T07:00:28.482Z"
   },
   {
    "duration": 44,
    "start_time": "2022-01-14T07:00:28.643Z"
   },
   {
    "duration": 21,
    "start_time": "2022-01-14T07:00:28.690Z"
   },
   {
    "duration": 6,
    "start_time": "2022-01-14T07:00:28.714Z"
   },
   {
    "duration": 1681,
    "start_time": "2022-01-14T07:00:28.723Z"
   },
   {
    "duration": 1523,
    "start_time": "2022-01-14T07:00:30.407Z"
   },
   {
    "duration": 1645,
    "start_time": "2022-01-14T07:00:31.933Z"
   },
   {
    "duration": 864,
    "start_time": "2022-01-14T07:00:33.582Z"
   },
   {
    "duration": 472,
    "start_time": "2022-01-14T07:00:34.449Z"
   },
   {
    "duration": 439,
    "start_time": "2022-01-14T07:00:34.924Z"
   },
   {
    "duration": 451,
    "start_time": "2022-01-14T07:00:35.365Z"
   },
   {
    "duration": 5,
    "start_time": "2022-01-14T07:00:35.819Z"
   },
   {
    "duration": 56,
    "start_time": "2022-01-14T07:00:35.826Z"
   },
   {
    "duration": 1202,
    "start_time": "2022-01-14T07:00:35.885Z"
   },
   {
    "duration": 1190,
    "start_time": "2022-01-14T07:00:37.089Z"
   },
   {
    "duration": 1387,
    "start_time": "2022-01-14T07:00:38.282Z"
   },
   {
    "duration": 9,
    "start_time": "2022-01-14T07:00:39.672Z"
   },
   {
    "duration": 9,
    "start_time": "2022-01-14T07:00:39.683Z"
   },
   {
    "duration": 66,
    "start_time": "2022-01-14T07:00:39.694Z"
   },
   {
    "duration": 5,
    "start_time": "2022-01-14T07:00:39.763Z"
   },
   {
    "duration": 37,
    "start_time": "2022-01-14T07:00:39.771Z"
   },
   {
    "duration": 5,
    "start_time": "2022-01-14T07:00:39.810Z"
   },
   {
    "duration": 43,
    "start_time": "2022-01-14T07:00:39.817Z"
   },
   {
    "duration": 30,
    "start_time": "2022-01-14T07:00:39.863Z"
   },
   {
    "duration": 639,
    "start_time": "2022-01-14T07:00:39.895Z"
   },
   {
    "duration": -421,
    "start_time": "2022-01-14T07:00:40.957Z"
   },
   {
    "duration": 15,
    "start_time": "2022-01-14T07:05:24.403Z"
   },
   {
    "duration": 481,
    "start_time": "2022-01-14T07:05:26.591Z"
   },
   {
    "duration": 2770,
    "start_time": "2022-01-14T07:05:31.892Z"
   },
   {
    "duration": 1572,
    "start_time": "2022-01-14T18:25:23.459Z"
   },
   {
    "duration": 9,
    "start_time": "2022-01-14T18:25:52.381Z"
   },
   {
    "duration": 1225,
    "start_time": "2022-01-14T18:25:52.393Z"
   },
   {
    "duration": 45,
    "start_time": "2022-01-14T18:25:53.621Z"
   },
   {
    "duration": 364,
    "start_time": "2022-01-14T18:25:53.669Z"
   },
   {
    "duration": 35,
    "start_time": "2022-01-14T18:25:54.035Z"
   },
   {
    "duration": 30,
    "start_time": "2022-01-14T18:25:54.073Z"
   },
   {
    "duration": 225,
    "start_time": "2022-01-14T18:25:54.105Z"
   },
   {
    "duration": 36,
    "start_time": "2022-01-14T18:25:54.332Z"
   },
   {
    "duration": 30,
    "start_time": "2022-01-14T18:25:54.372Z"
   },
   {
    "duration": 408,
    "start_time": "2022-01-14T18:25:54.405Z"
   },
   {
    "duration": 26,
    "start_time": "2022-01-14T18:25:54.816Z"
   },
   {
    "duration": 15,
    "start_time": "2022-01-14T18:25:54.860Z"
   },
   {
    "duration": 2,
    "start_time": "2022-01-14T18:25:54.877Z"
   },
   {
    "duration": 9,
    "start_time": "2022-01-14T18:25:54.881Z"
   },
   {
    "duration": 6,
    "start_time": "2022-01-14T18:25:54.892Z"
   },
   {
    "duration": 6,
    "start_time": "2022-01-14T18:25:54.900Z"
   },
   {
    "duration": 6,
    "start_time": "2022-01-14T18:25:54.909Z"
   },
   {
    "duration": 13,
    "start_time": "2022-01-14T18:25:54.960Z"
   },
   {
    "duration": 9,
    "start_time": "2022-01-14T18:25:54.975Z"
   },
   {
    "duration": 9,
    "start_time": "2022-01-14T18:25:54.986Z"
   },
   {
    "duration": 5,
    "start_time": "2022-01-14T18:25:54.997Z"
   },
   {
    "duration": 61,
    "start_time": "2022-01-14T18:25:55.004Z"
   },
   {
    "duration": 10,
    "start_time": "2022-01-14T18:25:55.068Z"
   },
   {
    "duration": 41,
    "start_time": "2022-01-14T18:25:55.081Z"
   },
   {
    "duration": 2,
    "start_time": "2022-01-14T18:25:55.124Z"
   },
   {
    "duration": 31,
    "start_time": "2022-01-14T18:25:55.128Z"
   },
   {
    "duration": 3,
    "start_time": "2022-01-14T18:25:55.164Z"
   },
   {
    "duration": 10,
    "start_time": "2022-01-14T18:25:55.170Z"
   },
   {
    "duration": 168,
    "start_time": "2022-01-14T18:25:55.182Z"
   },
   {
    "duration": 47,
    "start_time": "2022-01-14T18:25:55.353Z"
   },
   {
    "duration": 20,
    "start_time": "2022-01-14T18:25:55.402Z"
   },
   {
    "duration": 8,
    "start_time": "2022-01-14T18:25:55.425Z"
   },
   {
    "duration": 1631,
    "start_time": "2022-01-14T18:25:55.459Z"
   },
   {
    "duration": 1467,
    "start_time": "2022-01-14T18:25:57.092Z"
   },
   {
    "duration": 1561,
    "start_time": "2022-01-14T18:25:58.561Z"
   },
   {
    "duration": 848,
    "start_time": "2022-01-14T18:26:00.124Z"
   },
   {
    "duration": 479,
    "start_time": "2022-01-14T18:26:00.974Z"
   },
   {
    "duration": 430,
    "start_time": "2022-01-14T18:26:01.455Z"
   },
   {
    "duration": 446,
    "start_time": "2022-01-14T18:26:01.887Z"
   },
   {
    "duration": 5,
    "start_time": "2022-01-14T18:26:02.335Z"
   },
   {
    "duration": 44,
    "start_time": "2022-01-14T18:26:02.343Z"
   },
   {
    "duration": 1176,
    "start_time": "2022-01-14T18:26:02.390Z"
   },
   {
    "duration": 1233,
    "start_time": "2022-01-14T18:26:03.569Z"
   },
   {
    "duration": 1751,
    "start_time": "2022-01-14T18:26:04.805Z"
   },
   {
    "duration": 1673,
    "start_time": "2022-01-14T18:29:16.244Z"
   },
   {
    "duration": 1268,
    "start_time": "2022-01-14T18:29:17.919Z"
   },
   {
    "duration": 36,
    "start_time": "2022-01-14T18:29:19.190Z"
   },
   {
    "duration": 387,
    "start_time": "2022-01-14T18:29:19.229Z"
   },
   {
    "duration": 40,
    "start_time": "2022-01-14T18:29:19.618Z"
   },
   {
    "duration": 31,
    "start_time": "2022-01-14T18:29:19.660Z"
   },
   {
    "duration": 218,
    "start_time": "2022-01-14T18:29:19.693Z"
   },
   {
    "duration": 16,
    "start_time": "2022-01-14T18:29:19.913Z"
   },
   {
    "duration": 46,
    "start_time": "2022-01-14T18:29:19.932Z"
   },
   {
    "duration": 417,
    "start_time": "2022-01-14T18:29:19.981Z"
   },
   {
    "duration": 24,
    "start_time": "2022-01-14T18:29:20.400Z"
   },
   {
    "duration": 32,
    "start_time": "2022-01-14T18:29:20.427Z"
   },
   {
    "duration": 3,
    "start_time": "2022-01-14T18:29:20.461Z"
   },
   {
    "duration": 8,
    "start_time": "2022-01-14T18:29:20.467Z"
   },
   {
    "duration": 7,
    "start_time": "2022-01-14T18:29:20.477Z"
   },
   {
    "duration": 7,
    "start_time": "2022-01-14T18:29:20.486Z"
   },
   {
    "duration": 6,
    "start_time": "2022-01-14T18:29:20.495Z"
   },
   {
    "duration": 63,
    "start_time": "2022-01-14T18:29:20.503Z"
   },
   {
    "duration": 9,
    "start_time": "2022-01-14T18:29:20.568Z"
   },
   {
    "duration": 9,
    "start_time": "2022-01-14T18:29:20.580Z"
   },
   {
    "duration": 5,
    "start_time": "2022-01-14T18:29:20.591Z"
   },
   {
    "duration": 22,
    "start_time": "2022-01-14T18:29:20.599Z"
   },
   {
    "duration": 43,
    "start_time": "2022-01-14T18:29:20.623Z"
   },
   {
    "duration": 40,
    "start_time": "2022-01-14T18:29:20.668Z"
   },
   {
    "duration": 3,
    "start_time": "2022-01-14T18:29:20.710Z"
   },
   {
    "duration": 4,
    "start_time": "2022-01-14T18:29:20.715Z"
   },
   {
    "duration": 3,
    "start_time": "2022-01-14T18:29:20.758Z"
   },
   {
    "duration": 11,
    "start_time": "2022-01-14T18:29:20.765Z"
   },
   {
    "duration": 162,
    "start_time": "2022-01-14T18:29:20.779Z"
   },
   {
    "duration": 49,
    "start_time": "2022-01-14T18:29:20.943Z"
   },
   {
    "duration": 19,
    "start_time": "2022-01-14T18:29:20.994Z"
   },
   {
    "duration": 5,
    "start_time": "2022-01-14T18:29:21.015Z"
   },
   {
    "duration": 1672,
    "start_time": "2022-01-14T18:29:21.023Z"
   },
   {
    "duration": 1537,
    "start_time": "2022-01-14T18:29:22.697Z"
   },
   {
    "duration": 1534,
    "start_time": "2022-01-14T18:29:24.237Z"
   },
   {
    "duration": 848,
    "start_time": "2022-01-14T18:29:25.774Z"
   },
   {
    "duration": 476,
    "start_time": "2022-01-14T18:29:26.625Z"
   },
   {
    "duration": 455,
    "start_time": "2022-01-14T18:29:27.104Z"
   },
   {
    "duration": 454,
    "start_time": "2022-01-14T18:29:27.561Z"
   },
   {
    "duration": 6,
    "start_time": "2022-01-14T18:29:28.017Z"
   },
   {
    "duration": 55,
    "start_time": "2022-01-14T18:29:28.025Z"
   },
   {
    "duration": 1408,
    "start_time": "2022-01-14T18:29:28.083Z"
   },
   {
    "duration": 1431,
    "start_time": "2022-01-14T18:29:29.493Z"
   },
   {
    "duration": 1512,
    "start_time": "2022-01-14T18:29:30.927Z"
   },
   {
    "duration": 7,
    "start_time": "2022-01-14T18:40:50.115Z"
   },
   {
    "duration": 7,
    "start_time": "2022-01-14T18:40:51.283Z"
   },
   {
    "duration": 36,
    "start_time": "2022-01-14T18:40:52.479Z"
   },
   {
    "duration": 6,
    "start_time": "2022-01-14T18:40:54.939Z"
   },
   {
    "duration": 34,
    "start_time": "2022-01-14T18:40:56.069Z"
   },
   {
    "duration": 7,
    "start_time": "2022-01-14T18:40:59.314Z"
   },
   {
    "duration": 13,
    "start_time": "2022-01-14T18:41:18.243Z"
   },
   {
    "duration": 30,
    "start_time": "2022-01-14T18:41:20.671Z"
   },
   {
    "duration": 2923,
    "start_time": "2022-01-14T18:41:23.321Z"
   },
   {
    "duration": 350,
    "start_time": "2022-01-14T18:41:49.808Z"
   },
   {
    "duration": 6,
    "start_time": "2022-01-14T18:41:54.419Z"
   },
   {
    "duration": 29,
    "start_time": "2022-01-14T18:42:30.495Z"
   },
   {
    "duration": 2464,
    "start_time": "2022-01-14T18:42:32.137Z"
   },
   {
    "duration": 1549,
    "start_time": "2022-01-14T18:42:52.287Z"
   },
   {
    "duration": 1295,
    "start_time": "2022-01-14T18:42:53.839Z"
   },
   {
    "duration": 42,
    "start_time": "2022-01-14T18:42:55.137Z"
   },
   {
    "duration": 371,
    "start_time": "2022-01-14T18:42:55.182Z"
   },
   {
    "duration": 23,
    "start_time": "2022-01-14T18:42:55.560Z"
   },
   {
    "duration": 30,
    "start_time": "2022-01-14T18:42:55.586Z"
   },
   {
    "duration": 233,
    "start_time": "2022-01-14T18:42:55.618Z"
   },
   {
    "duration": 541,
    "start_time": "2022-01-14T18:42:55.860Z"
   },
   {
    "duration": -136,
    "start_time": "2022-01-14T18:42:56.544Z"
   },
   {
    "duration": -139,
    "start_time": "2022-01-14T18:42:56.549Z"
   },
   {
    "duration": -154,
    "start_time": "2022-01-14T18:42:56.566Z"
   },
   {
    "duration": -161,
    "start_time": "2022-01-14T18:42:56.576Z"
   },
   {
    "duration": -200,
    "start_time": "2022-01-14T18:42:56.617Z"
   },
   {
    "duration": -206,
    "start_time": "2022-01-14T18:42:56.625Z"
   },
   {
    "duration": -223,
    "start_time": "2022-01-14T18:42:56.644Z"
   },
   {
    "duration": -228,
    "start_time": "2022-01-14T18:42:56.652Z"
   },
   {
    "duration": -400,
    "start_time": "2022-01-14T18:42:56.826Z"
   },
   {
    "duration": -614,
    "start_time": "2022-01-14T18:42:57.042Z"
   },
   {
    "duration": -617,
    "start_time": "2022-01-14T18:42:57.048Z"
   },
   {
    "duration": -619,
    "start_time": "2022-01-14T18:42:57.052Z"
   },
   {
    "duration": -621,
    "start_time": "2022-01-14T18:42:57.056Z"
   },
   {
    "duration": -624,
    "start_time": "2022-01-14T18:42:57.061Z"
   },
   {
    "duration": -629,
    "start_time": "2022-01-14T18:42:57.068Z"
   },
   {
    "duration": -631,
    "start_time": "2022-01-14T18:42:57.071Z"
   },
   {
    "duration": -637,
    "start_time": "2022-01-14T18:42:57.078Z"
   },
   {
    "duration": -643,
    "start_time": "2022-01-14T18:42:57.085Z"
   },
   {
    "duration": -628,
    "start_time": "2022-01-14T18:42:57.088Z"
   },
   {
    "duration": -632,
    "start_time": "2022-01-14T18:42:57.093Z"
   },
   {
    "duration": -636,
    "start_time": "2022-01-14T18:42:57.099Z"
   },
   {
    "duration": -639,
    "start_time": "2022-01-14T18:42:57.103Z"
   },
   {
    "duration": -642,
    "start_time": "2022-01-14T18:42:57.108Z"
   },
   {
    "duration": -645,
    "start_time": "2022-01-14T18:42:57.112Z"
   },
   {
    "duration": -648,
    "start_time": "2022-01-14T18:42:57.117Z"
   },
   {
    "duration": -652,
    "start_time": "2022-01-14T18:42:57.122Z"
   },
   {
    "duration": -660,
    "start_time": "2022-01-14T18:42:57.132Z"
   },
   {
    "duration": -663,
    "start_time": "2022-01-14T18:42:57.136Z"
   },
   {
    "duration": -666,
    "start_time": "2022-01-14T18:42:57.141Z"
   },
   {
    "duration": -671,
    "start_time": "2022-01-14T18:42:57.147Z"
   },
   {
    "duration": -674,
    "start_time": "2022-01-14T18:42:57.151Z"
   },
   {
    "duration": -677,
    "start_time": "2022-01-14T18:42:57.155Z"
   },
   {
    "duration": -678,
    "start_time": "2022-01-14T18:42:57.158Z"
   },
   {
    "duration": -682,
    "start_time": "2022-01-14T18:42:57.163Z"
   },
   {
    "duration": -684,
    "start_time": "2022-01-14T18:42:57.166Z"
   },
   {
    "duration": -688,
    "start_time": "2022-01-14T18:42:57.171Z"
   },
   {
    "duration": -690,
    "start_time": "2022-01-14T18:42:57.174Z"
   },
   {
    "duration": -695,
    "start_time": "2022-01-14T18:42:57.180Z"
   },
   {
    "duration": -698,
    "start_time": "2022-01-14T18:42:57.185Z"
   },
   {
    "duration": -701,
    "start_time": "2022-01-14T18:42:57.189Z"
   },
   {
    "duration": -703,
    "start_time": "2022-01-14T18:42:57.192Z"
   },
   {
    "duration": -708,
    "start_time": "2022-01-14T18:42:57.199Z"
   },
   {
    "duration": -711,
    "start_time": "2022-01-14T18:42:57.203Z"
   },
   {
    "duration": -712,
    "start_time": "2022-01-14T18:42:57.206Z"
   },
   {
    "duration": -715,
    "start_time": "2022-01-14T18:42:57.210Z"
   },
   {
    "duration": -722,
    "start_time": "2022-01-14T18:42:57.218Z"
   },
   {
    "duration": -724,
    "start_time": "2022-01-14T18:42:57.221Z"
   },
   {
    "duration": 9,
    "start_time": "2022-01-14T18:43:02.560Z"
   },
   {
    "duration": 1283,
    "start_time": "2022-01-14T18:43:02.572Z"
   },
   {
    "duration": 30,
    "start_time": "2022-01-14T18:43:03.860Z"
   },
   {
    "duration": 368,
    "start_time": "2022-01-14T18:43:03.893Z"
   },
   {
    "duration": 25,
    "start_time": "2022-01-14T18:43:04.264Z"
   },
   {
    "duration": 29,
    "start_time": "2022-01-14T18:43:04.292Z"
   },
   {
    "duration": 236,
    "start_time": "2022-01-14T18:43:04.323Z"
   },
   {
    "duration": 15,
    "start_time": "2022-01-14T18:43:04.562Z"
   },
   {
    "duration": 29,
    "start_time": "2022-01-14T18:43:04.580Z"
   },
   {
    "duration": 418,
    "start_time": "2022-01-14T18:43:04.612Z"
   },
   {
    "duration": 38,
    "start_time": "2022-01-14T18:43:05.032Z"
   },
   {
    "duration": 16,
    "start_time": "2022-01-14T18:43:05.072Z"
   },
   {
    "duration": 3,
    "start_time": "2022-01-14T18:43:05.090Z"
   },
   {
    "duration": 7,
    "start_time": "2022-01-14T18:43:05.096Z"
   },
   {
    "duration": 6,
    "start_time": "2022-01-14T18:43:05.106Z"
   },
   {
    "duration": 7,
    "start_time": "2022-01-14T18:43:05.114Z"
   },
   {
    "duration": 4,
    "start_time": "2022-01-14T18:43:05.160Z"
   },
   {
    "duration": 14,
    "start_time": "2022-01-14T18:43:05.166Z"
   },
   {
    "duration": 10,
    "start_time": "2022-01-14T18:43:05.182Z"
   },
   {
    "duration": 9,
    "start_time": "2022-01-14T18:43:05.195Z"
   },
   {
    "duration": 53,
    "start_time": "2022-01-14T18:43:05.206Z"
   },
   {
    "duration": 21,
    "start_time": "2022-01-14T18:43:05.261Z"
   },
   {
    "duration": 10,
    "start_time": "2022-01-14T18:43:05.287Z"
   },
   {
    "duration": 62,
    "start_time": "2022-01-14T18:43:05.301Z"
   },
   {
    "duration": 3,
    "start_time": "2022-01-14T18:43:05.365Z"
   },
   {
    "duration": 6,
    "start_time": "2022-01-14T18:43:05.370Z"
   },
   {
    "duration": 4,
    "start_time": "2022-01-14T18:43:05.378Z"
   },
   {
    "duration": 13,
    "start_time": "2022-01-14T18:43:05.384Z"
   },
   {
    "duration": 175,
    "start_time": "2022-01-14T18:43:05.400Z"
   },
   {
    "duration": 40,
    "start_time": "2022-01-14T18:43:05.578Z"
   },
   {
    "duration": 39,
    "start_time": "2022-01-14T18:43:05.621Z"
   },
   {
    "duration": 5,
    "start_time": "2022-01-14T18:43:05.662Z"
   },
   {
    "duration": 1653,
    "start_time": "2022-01-14T18:43:05.669Z"
   },
   {
    "duration": 1460,
    "start_time": "2022-01-14T18:43:07.325Z"
   },
   {
    "duration": 1538,
    "start_time": "2022-01-14T18:43:08.787Z"
   },
   {
    "duration": 936,
    "start_time": "2022-01-14T18:43:10.327Z"
   },
   {
    "duration": 462,
    "start_time": "2022-01-14T18:43:11.266Z"
   },
   {
    "duration": 436,
    "start_time": "2022-01-14T18:43:11.731Z"
   },
   {
    "duration": 448,
    "start_time": "2022-01-14T18:43:12.169Z"
   },
   {
    "duration": 5,
    "start_time": "2022-01-14T18:43:12.619Z"
   },
   {
    "duration": 51,
    "start_time": "2022-01-14T18:43:12.627Z"
   },
   {
    "duration": 1301,
    "start_time": "2022-01-14T18:43:12.681Z"
   },
   {
    "duration": 1278,
    "start_time": "2022-01-14T18:43:13.985Z"
   },
   {
    "duration": 1597,
    "start_time": "2022-01-14T18:43:15.265Z"
   },
   {
    "duration": 7,
    "start_time": "2022-01-14T18:43:16.865Z"
   },
   {
    "duration": 9,
    "start_time": "2022-01-14T18:43:16.874Z"
   },
   {
    "duration": 38,
    "start_time": "2022-01-14T18:43:16.885Z"
   },
   {
    "duration": 35,
    "start_time": "2022-01-14T18:43:16.926Z"
   },
   {
    "duration": 36,
    "start_time": "2022-01-14T18:43:16.963Z"
   },
   {
    "duration": 6,
    "start_time": "2022-01-14T18:43:26.558Z"
   },
   {
    "duration": 14,
    "start_time": "2022-01-14T18:43:32.984Z"
   },
   {
    "duration": 10,
    "start_time": "2022-01-14T18:43:42.099Z"
   },
   {
    "duration": 11,
    "start_time": "2022-01-14T18:43:48.057Z"
   },
   {
    "duration": 10,
    "start_time": "2022-01-14T18:43:55.637Z"
   },
   {
    "duration": 10,
    "start_time": "2022-01-14T18:44:00.247Z"
   },
   {
    "duration": 32,
    "start_time": "2022-01-14T18:44:09.354Z"
   },
   {
    "duration": 30,
    "start_time": "2022-01-14T18:44:21.627Z"
   },
   {
    "duration": 30,
    "start_time": "2022-01-14T18:44:35.924Z"
   },
   {
    "duration": 351,
    "start_time": "2022-01-14T18:44:38.215Z"
   },
   {
    "duration": 28,
    "start_time": "2022-01-14T18:44:44.630Z"
   },
   {
    "duration": 8,
    "start_time": "2022-01-14T18:44:46.693Z"
   },
   {
    "duration": 8,
    "start_time": "2022-01-14T18:44:57.575Z"
   },
   {
    "duration": 5,
    "start_time": "2022-01-14T18:45:07.455Z"
   },
   {
    "duration": 396,
    "start_time": "2022-01-14T18:45:22.043Z"
   },
   {
    "duration": 6,
    "start_time": "2022-01-14T18:45:31.123Z"
   },
   {
    "duration": 5,
    "start_time": "2022-01-14T18:46:06.106Z"
   },
   {
    "duration": 6,
    "start_time": "2022-01-14T18:46:27.330Z"
   },
   {
    "duration": 4,
    "start_time": "2022-01-14T18:46:29.758Z"
   },
   {
    "duration": 6,
    "start_time": "2022-01-14T18:46:39.408Z"
   },
   {
    "duration": 12,
    "start_time": "2022-01-14T18:58:37.031Z"
   },
   {
    "duration": 28,
    "start_time": "2022-01-14T18:58:43.263Z"
   },
   {
    "duration": 381,
    "start_time": "2022-01-14T18:58:45.962Z"
   },
   {
    "duration": 13,
    "start_time": "2022-01-14T18:58:49.489Z"
   },
   {
    "duration": 28,
    "start_time": "2022-01-14T18:58:53.161Z"
   },
   {
    "duration": 460,
    "start_time": "2022-01-14T18:58:54.597Z"
   },
   {
    "duration": 8,
    "start_time": "2022-01-14T18:58:57.252Z"
   },
   {
    "duration": 13,
    "start_time": "2022-01-14T18:59:14.781Z"
   },
   {
    "duration": 30,
    "start_time": "2022-01-14T18:59:18.025Z"
   },
   {
    "duration": 28,
    "start_time": "2022-01-14T18:59:22.356Z"
   },
   {
    "duration": 2846,
    "start_time": "2022-01-14T18:59:43.021Z"
   },
   {
    "duration": 7,
    "start_time": "2022-01-14T18:59:48.566Z"
   },
   {
    "duration": 3460,
    "start_time": "2022-01-14T18:59:50.537Z"
   },
   {
    "duration": 14,
    "start_time": "2022-01-14T19:00:00.229Z"
   },
   {
    "duration": 29,
    "start_time": "2022-01-14T19:00:02.006Z"
   },
   {
    "duration": 33,
    "start_time": "2022-01-14T19:00:03.950Z"
   },
   {
    "duration": 6,
    "start_time": "2022-01-14T19:00:08.109Z"
   },
   {
    "duration": 7,
    "start_time": "2022-01-14T19:00:11.345Z"
   },
   {
    "duration": 12,
    "start_time": "2022-01-14T19:00:18.390Z"
   },
   {
    "duration": 31,
    "start_time": "2022-01-14T19:00:20.912Z"
   },
   {
    "duration": 34,
    "start_time": "2022-01-14T19:00:22.657Z"
   },
   {
    "duration": 6,
    "start_time": "2022-01-14T19:00:24.655Z"
   },
   {
    "duration": 2908,
    "start_time": "2022-01-14T19:00:25.978Z"
   },
   {
    "duration": 6,
    "start_time": "2022-01-14T19:00:31.898Z"
   },
   {
    "duration": 2829,
    "start_time": "2022-01-14T19:00:35.009Z"
   },
   {
    "duration": 23,
    "start_time": "2022-01-14T19:00:45.898Z"
   },
   {
    "duration": 6,
    "start_time": "2022-01-14T19:00:50.540Z"
   },
   {
    "duration": 8,
    "start_time": "2022-01-14T19:00:53.471Z"
   },
   {
    "duration": 411,
    "start_time": "2022-01-14T19:01:05.199Z"
   },
   {
    "duration": 18,
    "start_time": "2022-01-14T19:01:16.281Z"
   },
   {
    "duration": 28,
    "start_time": "2022-01-14T19:01:17.034Z"
   },
   {
    "duration": 5,
    "start_time": "2022-01-14T19:01:20.505Z"
   },
   {
    "duration": 8,
    "start_time": "2022-01-14T19:01:21.572Z"
   },
   {
    "duration": 16,
    "start_time": "2022-01-14T19:06:01.963Z"
   },
   {
    "duration": 30,
    "start_time": "2022-01-14T19:06:06.009Z"
   },
   {
    "duration": 8,
    "start_time": "2022-01-14T19:06:10.709Z"
   },
   {
    "duration": 6,
    "start_time": "2022-01-14T19:06:27.709Z"
   },
   {
    "duration": 5,
    "start_time": "2022-01-14T19:06:33.863Z"
   },
   {
    "duration": 14,
    "start_time": "2022-01-14T19:06:41.191Z"
   },
   {
    "duration": 26,
    "start_time": "2022-01-14T19:06:50.088Z"
   },
   {
    "duration": 367,
    "start_time": "2022-01-14T19:06:54.360Z"
   },
   {
    "duration": 8,
    "start_time": "2022-01-14T19:06:57.383Z"
   },
   {
    "duration": 8,
    "start_time": "2022-01-14T19:06:59.517Z"
   },
   {
    "duration": 6,
    "start_time": "2022-01-14T19:07:04.367Z"
   },
   {
    "duration": 14,
    "start_time": "2022-01-14T19:07:06.138Z"
   },
   {
    "duration": 26,
    "start_time": "2022-01-14T19:07:07.684Z"
   },
   {
    "duration": 8,
    "start_time": "2022-01-14T19:07:10.403Z"
   },
   {
    "duration": 6,
    "start_time": "2022-01-14T19:07:18.364Z"
   },
   {
    "duration": 14,
    "start_time": "2022-01-14T19:07:19.957Z"
   },
   {
    "duration": 26,
    "start_time": "2022-01-14T19:07:22.621Z"
   },
   {
    "duration": 9,
    "start_time": "2022-01-14T19:07:26.122Z"
   },
   {
    "duration": 6,
    "start_time": "2022-01-14T19:07:36.383Z"
   },
   {
    "duration": 6,
    "start_time": "2022-01-14T19:07:41.401Z"
   },
   {
    "duration": 13,
    "start_time": "2022-01-14T19:07:43.867Z"
   },
   {
    "duration": 27,
    "start_time": "2022-01-14T19:07:44.871Z"
   },
   {
    "duration": 8,
    "start_time": "2022-01-14T19:07:47.258Z"
   },
   {
    "duration": 6,
    "start_time": "2022-01-14T19:07:55.656Z"
   },
   {
    "duration": 12,
    "start_time": "2022-01-14T19:07:58.502Z"
   },
   {
    "duration": 29,
    "start_time": "2022-01-14T19:08:00.072Z"
   },
   {
    "duration": 8,
    "start_time": "2022-01-14T19:08:02.505Z"
   },
   {
    "duration": 13,
    "start_time": "2022-01-14T19:08:36.532Z"
   },
   {
    "duration": 27,
    "start_time": "2022-01-14T19:08:37.586Z"
   },
   {
    "duration": 9,
    "start_time": "2022-01-14T19:08:41.631Z"
   },
   {
    "duration": 6,
    "start_time": "2022-01-14T19:08:44.657Z"
   },
   {
    "duration": 14,
    "start_time": "2022-01-14T19:08:47.121Z"
   },
   {
    "duration": 26,
    "start_time": "2022-01-14T19:08:49.447Z"
   },
   {
    "duration": 8,
    "start_time": "2022-01-14T19:08:54.830Z"
   },
   {
    "duration": 363,
    "start_time": "2022-01-14T19:08:59.333Z"
   },
   {
    "duration": 6,
    "start_time": "2022-01-14T19:09:03.359Z"
   },
   {
    "duration": 13,
    "start_time": "2022-01-14T19:09:04.405Z"
   },
   {
    "duration": 27,
    "start_time": "2022-01-14T19:09:06.693Z"
   },
   {
    "duration": 7,
    "start_time": "2022-01-14T19:09:10.057Z"
   },
   {
    "duration": 7,
    "start_time": "2022-01-14T19:09:16.005Z"
   },
   {
    "duration": 7,
    "start_time": "2022-01-14T19:09:22.492Z"
   },
   {
    "duration": 5,
    "start_time": "2022-01-14T19:09:46.948Z"
   },
   {
    "duration": 1286,
    "start_time": "2022-01-14T19:09:58.040Z"
   },
   {
    "duration": 1909,
    "start_time": "2022-01-14T19:10:15.445Z"
   },
   {
    "duration": 2154,
    "start_time": "2022-01-14T19:10:17.356Z"
   },
   {
    "duration": 48,
    "start_time": "2022-01-14T19:10:19.513Z"
   },
   {
    "duration": 374,
    "start_time": "2022-01-14T19:10:19.564Z"
   },
   {
    "duration": 32,
    "start_time": "2022-01-14T19:10:19.941Z"
   },
   {
    "duration": 30,
    "start_time": "2022-01-14T19:10:19.975Z"
   },
   {
    "duration": 238,
    "start_time": "2022-01-14T19:10:20.008Z"
   },
   {
    "duration": 24,
    "start_time": "2022-01-14T19:10:20.250Z"
   },
   {
    "duration": 31,
    "start_time": "2022-01-14T19:10:20.277Z"
   },
   {
    "duration": 614,
    "start_time": "2022-01-14T19:10:20.310Z"
   },
   {
    "duration": 55,
    "start_time": "2022-01-14T19:10:20.928Z"
   },
   {
    "duration": 20,
    "start_time": "2022-01-14T19:10:20.987Z"
   },
   {
    "duration": 3,
    "start_time": "2022-01-14T19:10:21.010Z"
   },
   {
    "duration": 10,
    "start_time": "2022-01-14T19:10:21.016Z"
   },
   {
    "duration": 9,
    "start_time": "2022-01-14T19:10:21.061Z"
   },
   {
    "duration": 8,
    "start_time": "2022-01-14T19:10:21.073Z"
   },
   {
    "duration": 7,
    "start_time": "2022-01-14T19:10:21.084Z"
   },
   {
    "duration": 67,
    "start_time": "2022-01-14T19:10:21.094Z"
   },
   {
    "duration": 14,
    "start_time": "2022-01-14T19:10:21.164Z"
   },
   {
    "duration": 13,
    "start_time": "2022-01-14T19:10:21.181Z"
   },
   {
    "duration": 14,
    "start_time": "2022-01-14T19:10:21.197Z"
   },
   {
    "duration": 68,
    "start_time": "2022-01-14T19:10:21.214Z"
   },
   {
    "duration": 15,
    "start_time": "2022-01-14T19:10:21.291Z"
   },
   {
    "duration": 81,
    "start_time": "2022-01-14T19:10:21.310Z"
   },
   {
    "duration": 4,
    "start_time": "2022-01-14T19:10:21.394Z"
   },
   {
    "duration": 4,
    "start_time": "2022-01-14T19:10:21.401Z"
   },
   {
    "duration": 8,
    "start_time": "2022-01-14T19:10:21.407Z"
   },
   {
    "duration": 10,
    "start_time": "2022-01-14T19:10:21.417Z"
   },
   {
    "duration": 173,
    "start_time": "2022-01-14T19:10:21.430Z"
   },
   {
    "duration": 43,
    "start_time": "2022-01-14T19:10:21.605Z"
   },
   {
    "duration": 35,
    "start_time": "2022-01-14T19:10:21.660Z"
   },
   {
    "duration": 7,
    "start_time": "2022-01-14T19:10:21.698Z"
   },
   {
    "duration": 2969,
    "start_time": "2022-01-14T19:10:21.708Z"
   },
   {
    "duration": 2349,
    "start_time": "2022-01-14T19:10:24.681Z"
   },
   {
    "duration": 1515,
    "start_time": "2022-01-14T19:10:27.033Z"
   },
   {
    "duration": 850,
    "start_time": "2022-01-14T19:10:28.550Z"
   },
   {
    "duration": 466,
    "start_time": "2022-01-14T19:10:29.402Z"
   },
   {
    "duration": 449,
    "start_time": "2022-01-14T19:10:29.871Z"
   },
   {
    "duration": 461,
    "start_time": "2022-01-14T19:10:30.322Z"
   },
   {
    "duration": 5,
    "start_time": "2022-01-14T19:10:30.785Z"
   },
   {
    "duration": 38,
    "start_time": "2022-01-14T19:10:30.793Z"
   },
   {
    "duration": 1242,
    "start_time": "2022-01-14T19:10:30.834Z"
   },
   {
    "duration": 1186,
    "start_time": "2022-01-14T19:10:32.078Z"
   },
   {
    "duration": 1442,
    "start_time": "2022-01-14T19:10:33.266Z"
   },
   {
    "duration": 7,
    "start_time": "2022-01-14T19:10:34.710Z"
   },
   {
    "duration": 8,
    "start_time": "2022-01-14T19:10:34.719Z"
   },
   {
    "duration": 63,
    "start_time": "2022-01-14T19:10:34.730Z"
   },
   {
    "duration": 6,
    "start_time": "2022-01-14T19:10:34.795Z"
   },
   {
    "duration": 69,
    "start_time": "2022-01-14T19:10:34.803Z"
   },
   {
    "duration": 5,
    "start_time": "2022-01-14T19:11:23.642Z"
   },
   {
    "duration": 12,
    "start_time": "2022-01-14T19:11:29.488Z"
   },
   {
    "duration": 30,
    "start_time": "2022-01-14T19:11:32.692Z"
   },
   {
    "duration": 501,
    "start_time": "2022-01-14T19:11:35.630Z"
   },
   {
    "duration": 1013,
    "start_time": "2022-01-14T19:11:54.512Z"
   },
   {
    "duration": 6,
    "start_time": "2022-01-14T19:12:21.991Z"
   },
   {
    "duration": 8,
    "start_time": "2022-01-14T19:12:24.626Z"
   },
   {
    "duration": 8,
    "start_time": "2022-01-14T19:12:26.461Z"
   },
   {
    "duration": 8,
    "start_time": "2022-01-14T19:12:36.492Z"
   },
   {
    "duration": 995,
    "start_time": "2022-01-14T19:12:39.868Z"
   },
   {
    "duration": 6,
    "start_time": "2022-01-14T19:12:46.414Z"
   },
   {
    "duration": 1023,
    "start_time": "2022-01-14T19:12:49.530Z"
   },
   {
    "duration": 6,
    "start_time": "2022-01-14T19:13:05.542Z"
   },
   {
    "duration": 12,
    "start_time": "2022-01-14T19:13:17.663Z"
   },
   {
    "duration": 27,
    "start_time": "2022-01-14T19:13:21.864Z"
   },
   {
    "duration": 362,
    "start_time": "2022-01-14T19:13:23.796Z"
   },
   {
    "duration": 1301,
    "start_time": "2022-01-14T19:13:26.240Z"
   },
   {
    "duration": 6,
    "start_time": "2022-01-14T19:14:19.670Z"
   },
   {
    "duration": 13,
    "start_time": "2022-01-14T19:14:44.589Z"
   },
   {
    "duration": 29,
    "start_time": "2022-01-14T19:14:50.339Z"
   },
   {
    "duration": 1037,
    "start_time": "2022-01-14T19:14:55.080Z"
   },
   {
    "duration": 5,
    "start_time": "2022-01-14T19:15:18.165Z"
   },
   {
    "duration": 6,
    "start_time": "2022-01-14T19:15:20.047Z"
   },
   {
    "duration": 378,
    "start_time": "2022-01-14T19:15:25.788Z"
   },
   {
    "duration": 415,
    "start_time": "2022-01-14T19:15:27.795Z"
   },
   {
    "duration": 8,
    "start_time": "2022-01-14T19:15:30.221Z"
   },
   {
    "duration": 7,
    "start_time": "2022-01-14T19:15:39.171Z"
   },
   {
    "duration": 1508,
    "start_time": "2022-01-14T19:15:55.990Z"
   },
   {
    "duration": 1189,
    "start_time": "2022-01-14T19:15:57.501Z"
   },
   {
    "duration": 36,
    "start_time": "2022-01-14T19:15:58.694Z"
   },
   {
    "duration": 396,
    "start_time": "2022-01-14T19:15:58.733Z"
   },
   {
    "duration": 36,
    "start_time": "2022-01-14T19:15:59.131Z"
   },
   {
    "duration": 29,
    "start_time": "2022-01-14T19:15:59.169Z"
   },
   {
    "duration": 225,
    "start_time": "2022-01-14T19:15:59.201Z"
   },
   {
    "duration": 17,
    "start_time": "2022-01-14T19:15:59.428Z"
   },
   {
    "duration": 31,
    "start_time": "2022-01-14T19:15:59.461Z"
   },
   {
    "duration": 424,
    "start_time": "2022-01-14T19:15:59.495Z"
   },
   {
    "duration": 40,
    "start_time": "2022-01-14T19:15:59.922Z"
   },
   {
    "duration": 15,
    "start_time": "2022-01-14T19:15:59.965Z"
   },
   {
    "duration": 3,
    "start_time": "2022-01-14T19:15:59.983Z"
   },
   {
    "duration": 12,
    "start_time": "2022-01-14T19:15:59.989Z"
   },
   {
    "duration": 14,
    "start_time": "2022-01-14T19:16:00.004Z"
   },
   {
    "duration": 41,
    "start_time": "2022-01-14T19:16:00.020Z"
   },
   {
    "duration": 7,
    "start_time": "2022-01-14T19:16:00.063Z"
   },
   {
    "duration": 19,
    "start_time": "2022-01-14T19:16:00.072Z"
   },
   {
    "duration": 12,
    "start_time": "2022-01-14T19:16:00.093Z"
   },
   {
    "duration": 53,
    "start_time": "2022-01-14T19:16:00.108Z"
   },
   {
    "duration": 6,
    "start_time": "2022-01-14T19:16:00.164Z"
   },
   {
    "duration": 22,
    "start_time": "2022-01-14T19:16:00.173Z"
   },
   {
    "duration": 10,
    "start_time": "2022-01-14T19:16:00.197Z"
   },
   {
    "duration": 70,
    "start_time": "2022-01-14T19:16:00.209Z"
   },
   {
    "duration": 3,
    "start_time": "2022-01-14T19:16:00.281Z"
   },
   {
    "duration": 7,
    "start_time": "2022-01-14T19:16:00.286Z"
   },
   {
    "duration": 3,
    "start_time": "2022-01-14T19:16:00.299Z"
   },
   {
    "duration": 11,
    "start_time": "2022-01-14T19:16:00.305Z"
   },
   {
    "duration": 170,
    "start_time": "2022-01-14T19:16:00.318Z"
   },
   {
    "duration": 40,
    "start_time": "2022-01-14T19:16:00.491Z"
   },
   {
    "duration": 38,
    "start_time": "2022-01-14T19:16:00.533Z"
   },
   {
    "duration": 7,
    "start_time": "2022-01-14T19:16:00.574Z"
   },
   {
    "duration": 1686,
    "start_time": "2022-01-14T19:16:00.584Z"
   },
   {
    "duration": 1619,
    "start_time": "2022-01-14T19:16:02.273Z"
   },
   {
    "duration": 1580,
    "start_time": "2022-01-14T19:16:03.895Z"
   },
   {
    "duration": 849,
    "start_time": "2022-01-14T19:16:05.477Z"
   },
   {
    "duration": 480,
    "start_time": "2022-01-14T19:16:06.329Z"
   },
   {
    "duration": 427,
    "start_time": "2022-01-14T19:16:06.813Z"
   },
   {
    "duration": 471,
    "start_time": "2022-01-14T19:16:07.243Z"
   },
   {
    "duration": 6,
    "start_time": "2022-01-14T19:16:07.717Z"
   },
   {
    "duration": 56,
    "start_time": "2022-01-14T19:16:07.726Z"
   },
   {
    "duration": 1202,
    "start_time": "2022-01-14T19:16:07.784Z"
   },
   {
    "duration": 1196,
    "start_time": "2022-01-14T19:16:08.989Z"
   },
   {
    "duration": 1501,
    "start_time": "2022-01-14T19:16:10.188Z"
   },
   {
    "duration": 7,
    "start_time": "2022-01-14T19:16:11.692Z"
   },
   {
    "duration": 9,
    "start_time": "2022-01-14T19:16:11.701Z"
   },
   {
    "duration": 69,
    "start_time": "2022-01-14T19:16:11.712Z"
   },
   {
    "duration": 6,
    "start_time": "2022-01-14T19:16:11.783Z"
   },
   {
    "duration": 34,
    "start_time": "2022-01-14T19:16:11.792Z"
   },
   {
    "duration": 6,
    "start_time": "2022-01-14T19:20:04.956Z"
   },
   {
    "duration": 16,
    "start_time": "2022-01-14T19:20:07.433Z"
   },
   {
    "duration": 30,
    "start_time": "2022-01-14T19:20:13.923Z"
   },
   {
    "duration": 1567,
    "start_time": "2022-01-14T19:20:17.905Z"
   },
   {
    "duration": 8,
    "start_time": "2022-01-14T19:20:30.864Z"
   },
   {
    "duration": 474,
    "start_time": "2022-01-14T19:33:55.203Z"
   },
   {
    "duration": 13,
    "start_time": "2022-01-14T19:33:58.804Z"
   },
   {
    "duration": 31,
    "start_time": "2022-01-14T19:34:00.390Z"
   },
   {
    "duration": 8,
    "start_time": "2022-01-14T19:34:02.453Z"
   },
   {
    "duration": 396,
    "start_time": "2022-01-14T19:34:05.619Z"
   },
   {
    "duration": 13,
    "start_time": "2022-01-14T19:34:08.389Z"
   },
   {
    "duration": 29,
    "start_time": "2022-01-14T19:34:09.517Z"
   },
   {
    "duration": 10,
    "start_time": "2022-01-14T19:34:11.014Z"
   },
   {
    "duration": 1678,
    "start_time": "2022-01-14T19:36:35.419Z"
   },
   {
    "duration": 1267,
    "start_time": "2022-01-14T19:36:37.100Z"
   },
   {
    "duration": 37,
    "start_time": "2022-01-14T19:36:38.371Z"
   },
   {
    "duration": 403,
    "start_time": "2022-01-14T19:36:38.412Z"
   },
   {
    "duration": 44,
    "start_time": "2022-01-14T19:36:38.818Z"
   },
   {
    "duration": 37,
    "start_time": "2022-01-14T19:36:38.865Z"
   },
   {
    "duration": 234,
    "start_time": "2022-01-14T19:36:38.904Z"
   },
   {
    "duration": 24,
    "start_time": "2022-01-14T19:36:39.142Z"
   },
   {
    "duration": 31,
    "start_time": "2022-01-14T19:36:39.169Z"
   },
   {
    "duration": 401,
    "start_time": "2022-01-14T19:36:39.202Z"
   },
   {
    "duration": 25,
    "start_time": "2022-01-14T19:36:39.606Z"
   },
   {
    "duration": 38,
    "start_time": "2022-01-14T19:36:39.634Z"
   },
   {
    "duration": 3,
    "start_time": "2022-01-14T19:36:39.674Z"
   },
   {
    "duration": 8,
    "start_time": "2022-01-14T19:36:39.679Z"
   },
   {
    "duration": 8,
    "start_time": "2022-01-14T19:36:39.690Z"
   },
   {
    "duration": 8,
    "start_time": "2022-01-14T19:36:39.701Z"
   },
   {
    "duration": 6,
    "start_time": "2022-01-14T19:36:39.712Z"
   },
   {
    "duration": 51,
    "start_time": "2022-01-14T19:36:39.720Z"
   },
   {
    "duration": 10,
    "start_time": "2022-01-14T19:36:39.773Z"
   },
   {
    "duration": 9,
    "start_time": "2022-01-14T19:36:39.785Z"
   },
   {
    "duration": 5,
    "start_time": "2022-01-14T19:36:39.796Z"
   },
   {
    "duration": 63,
    "start_time": "2022-01-14T19:36:39.804Z"
   },
   {
    "duration": 12,
    "start_time": "2022-01-14T19:36:39.873Z"
   },
   {
    "duration": 40,
    "start_time": "2022-01-14T19:36:39.888Z"
   },
   {
    "duration": 2,
    "start_time": "2022-01-14T19:36:39.931Z"
   },
   {
    "duration": 3,
    "start_time": "2022-01-14T19:36:39.960Z"
   },
   {
    "duration": 4,
    "start_time": "2022-01-14T19:36:39.966Z"
   },
   {
    "duration": 11,
    "start_time": "2022-01-14T19:36:39.972Z"
   },
   {
    "duration": 170,
    "start_time": "2022-01-14T19:36:39.986Z"
   },
   {
    "duration": 42,
    "start_time": "2022-01-14T19:36:40.159Z"
   },
   {
    "duration": 22,
    "start_time": "2022-01-14T19:36:40.203Z"
   },
   {
    "duration": 5,
    "start_time": "2022-01-14T19:36:40.227Z"
   },
   {
    "duration": 1714,
    "start_time": "2022-01-14T19:36:40.260Z"
   },
   {
    "duration": 2090,
    "start_time": "2022-01-14T19:36:41.977Z"
   },
   {
    "duration": -311,
    "start_time": "2022-01-14T19:36:44.381Z"
   },
   {
    "duration": -313,
    "start_time": "2022-01-14T19:36:44.385Z"
   },
   {
    "duration": -316,
    "start_time": "2022-01-14T19:36:44.389Z"
   },
   {
    "duration": -319,
    "start_time": "2022-01-14T19:36:44.394Z"
   },
   {
    "duration": -322,
    "start_time": "2022-01-14T19:36:44.398Z"
   },
   {
    "duration": -325,
    "start_time": "2022-01-14T19:36:44.402Z"
   },
   {
    "duration": -329,
    "start_time": "2022-01-14T19:36:44.407Z"
   },
   {
    "duration": -330,
    "start_time": "2022-01-14T19:36:44.410Z"
   },
   {
    "duration": -333,
    "start_time": "2022-01-14T19:36:44.414Z"
   },
   {
    "duration": -336,
    "start_time": "2022-01-14T19:36:44.418Z"
   },
   {
    "duration": -338,
    "start_time": "2022-01-14T19:36:44.422Z"
   },
   {
    "duration": -341,
    "start_time": "2022-01-14T19:36:44.426Z"
   },
   {
    "duration": -345,
    "start_time": "2022-01-14T19:36:44.431Z"
   },
   {
    "duration": -551,
    "start_time": "2022-01-14T19:36:44.639Z"
   },
   {
    "duration": -554,
    "start_time": "2022-01-14T19:36:44.643Z"
   },
   {
    "duration": -556,
    "start_time": "2022-01-14T19:36:44.647Z"
   },
   {
    "duration": -558,
    "start_time": "2022-01-14T19:36:44.650Z"
   },
   {
    "duration": -562,
    "start_time": "2022-01-14T19:36:44.655Z"
   },
   {
    "duration": -573,
    "start_time": "2022-01-14T19:36:44.668Z"
   },
   {
    "duration": -586,
    "start_time": "2022-01-14T19:36:44.682Z"
   },
   {
    "duration": -589,
    "start_time": "2022-01-14T19:36:44.686Z"
   },
   {
    "duration": -612,
    "start_time": "2022-01-14T19:36:44.711Z"
   },
   {
    "duration": -614,
    "start_time": "2022-01-14T19:36:44.714Z"
   },
   {
    "duration": 1590,
    "start_time": "2022-01-14T19:38:31.421Z"
   },
   {
    "duration": 1279,
    "start_time": "2022-01-14T19:38:33.014Z"
   },
   {
    "duration": 36,
    "start_time": "2022-01-14T19:38:34.295Z"
   },
   {
    "duration": 394,
    "start_time": "2022-01-14T19:38:34.334Z"
   },
   {
    "duration": 41,
    "start_time": "2022-01-14T19:38:34.731Z"
   },
   {
    "duration": 31,
    "start_time": "2022-01-14T19:38:34.776Z"
   },
   {
    "duration": 227,
    "start_time": "2022-01-14T19:38:34.809Z"
   },
   {
    "duration": 28,
    "start_time": "2022-01-14T19:38:35.039Z"
   },
   {
    "duration": 31,
    "start_time": "2022-01-14T19:38:35.071Z"
   },
   {
    "duration": 419,
    "start_time": "2022-01-14T19:38:35.105Z"
   },
   {
    "duration": 38,
    "start_time": "2022-01-14T19:38:35.526Z"
   },
   {
    "duration": 16,
    "start_time": "2022-01-14T19:38:35.566Z"
   },
   {
    "duration": 3,
    "start_time": "2022-01-14T19:38:35.584Z"
   },
   {
    "duration": 11,
    "start_time": "2022-01-14T19:38:35.589Z"
   },
   {
    "duration": 6,
    "start_time": "2022-01-14T19:38:35.602Z"
   },
   {
    "duration": 8,
    "start_time": "2022-01-14T19:38:35.610Z"
   },
   {
    "duration": 45,
    "start_time": "2022-01-14T19:38:35.620Z"
   },
   {
    "duration": 15,
    "start_time": "2022-01-14T19:38:35.668Z"
   },
   {
    "duration": 10,
    "start_time": "2022-01-14T19:38:35.685Z"
   },
   {
    "duration": 9,
    "start_time": "2022-01-14T19:38:35.697Z"
   },
   {
    "duration": 6,
    "start_time": "2022-01-14T19:38:35.709Z"
   },
   {
    "duration": 61,
    "start_time": "2022-01-14T19:38:35.717Z"
   },
   {
    "duration": 10,
    "start_time": "2022-01-14T19:38:35.783Z"
   },
   {
    "duration": 77,
    "start_time": "2022-01-14T19:38:35.797Z"
   },
   {
    "duration": 15,
    "start_time": "2022-01-14T19:38:35.877Z"
   },
   {
    "duration": 11,
    "start_time": "2022-01-14T19:38:35.895Z"
   },
   {
    "duration": 277,
    "start_time": "2022-01-14T19:38:35.908Z"
   },
   {
    "duration": 44,
    "start_time": "2022-01-14T19:38:36.188Z"
   },
   {
    "duration": 60,
    "start_time": "2022-01-14T19:38:36.235Z"
   },
   {
    "duration": 6,
    "start_time": "2022-01-14T19:38:36.297Z"
   },
   {
    "duration": 1829,
    "start_time": "2022-01-14T19:38:36.306Z"
   },
   {
    "duration": 1610,
    "start_time": "2022-01-14T19:38:38.138Z"
   },
   {
    "duration": 1578,
    "start_time": "2022-01-14T19:38:39.750Z"
   },
   {
    "duration": 860,
    "start_time": "2022-01-14T19:38:41.331Z"
   },
   {
    "duration": 485,
    "start_time": "2022-01-14T19:38:42.193Z"
   },
   {
    "duration": 439,
    "start_time": "2022-01-14T19:38:42.680Z"
   },
   {
    "duration": 459,
    "start_time": "2022-01-14T19:38:43.122Z"
   },
   {
    "duration": 4,
    "start_time": "2022-01-14T19:38:43.584Z"
   },
   {
    "duration": 47,
    "start_time": "2022-01-14T19:38:43.591Z"
   },
   {
    "duration": 1240,
    "start_time": "2022-01-14T19:38:43.641Z"
   },
   {
    "duration": 1221,
    "start_time": "2022-01-14T19:38:44.884Z"
   },
   {
    "duration": 1397,
    "start_time": "2022-01-14T19:38:46.108Z"
   },
   {
    "duration": 7,
    "start_time": "2022-01-14T19:39:10.478Z"
   },
   {
    "duration": 7,
    "start_time": "2022-01-14T19:39:11.585Z"
   },
   {
    "duration": 36,
    "start_time": "2022-01-14T19:39:12.833Z"
   },
   {
    "duration": 6,
    "start_time": "2022-01-14T19:39:14.677Z"
   },
   {
    "duration": 35,
    "start_time": "2022-01-14T19:39:16.452Z"
   },
   {
    "duration": 5,
    "start_time": "2022-01-14T19:42:08.958Z"
   },
   {
    "duration": 15,
    "start_time": "2022-01-14T19:42:12.621Z"
   },
   {
    "duration": 27,
    "start_time": "2022-01-14T19:42:18.864Z"
   },
   {
    "duration": 2601,
    "start_time": "2022-01-14T19:42:26.587Z"
   },
   {
    "duration": 5,
    "start_time": "2022-01-14T19:42:34.659Z"
   },
   {
    "duration": 8,
    "start_time": "2022-01-14T19:42:38.071Z"
   },
   {
    "duration": 7,
    "start_time": "2022-01-14T20:00:07.096Z"
   },
   {
    "duration": 7,
    "start_time": "2022-01-14T20:00:25.901Z"
   },
   {
    "duration": 1546,
    "start_time": "2022-01-15T00:34:16.752Z"
   },
   {
    "duration": 1234,
    "start_time": "2022-01-15T00:34:18.301Z"
   },
   {
    "duration": 44,
    "start_time": "2022-01-15T00:34:19.538Z"
   },
   {
    "duration": 370,
    "start_time": "2022-01-15T00:34:19.585Z"
   },
   {
    "duration": 25,
    "start_time": "2022-01-15T00:34:19.960Z"
   },
   {
    "duration": 30,
    "start_time": "2022-01-15T00:34:19.988Z"
   },
   {
    "duration": 239,
    "start_time": "2022-01-15T00:34:20.020Z"
   },
   {
    "duration": 15,
    "start_time": "2022-01-15T00:34:20.261Z"
   },
   {
    "duration": 29,
    "start_time": "2022-01-15T00:34:20.280Z"
   },
   {
    "duration": 413,
    "start_time": "2022-01-15T00:34:20.312Z"
   },
   {
    "duration": 37,
    "start_time": "2022-01-15T00:34:20.727Z"
   },
   {
    "duration": 17,
    "start_time": "2022-01-15T00:34:20.767Z"
   },
   {
    "duration": 4,
    "start_time": "2022-01-15T00:34:20.787Z"
   },
   {
    "duration": 17,
    "start_time": "2022-01-15T00:34:20.793Z"
   },
   {
    "duration": 16,
    "start_time": "2022-01-15T00:34:20.812Z"
   },
   {
    "duration": 28,
    "start_time": "2022-01-15T00:34:20.831Z"
   },
   {
    "duration": 16,
    "start_time": "2022-01-15T00:34:20.861Z"
   },
   {
    "duration": 25,
    "start_time": "2022-01-15T00:34:20.880Z"
   },
   {
    "duration": 9,
    "start_time": "2022-01-15T00:34:20.908Z"
   },
   {
    "duration": 9,
    "start_time": "2022-01-15T00:34:20.919Z"
   },
   {
    "duration": 28,
    "start_time": "2022-01-15T00:34:20.931Z"
   },
   {
    "duration": 21,
    "start_time": "2022-01-15T00:34:20.962Z"
   },
   {
    "duration": 16,
    "start_time": "2022-01-15T00:34:20.985Z"
   },
   {
    "duration": 66,
    "start_time": "2022-01-15T00:34:21.003Z"
   },
   {
    "duration": 13,
    "start_time": "2022-01-15T00:34:21.071Z"
   },
   {
    "duration": 9,
    "start_time": "2022-01-15T00:34:21.087Z"
   },
   {
    "duration": 167,
    "start_time": "2022-01-15T00:34:21.102Z"
   },
   {
    "duration": 39,
    "start_time": "2022-01-15T00:34:21.272Z"
   },
   {
    "duration": 61,
    "start_time": "2022-01-15T00:34:21.314Z"
   },
   {
    "duration": 6,
    "start_time": "2022-01-15T00:34:21.377Z"
   },
   {
    "duration": 1638,
    "start_time": "2022-01-15T00:34:21.385Z"
   },
   {
    "duration": 1466,
    "start_time": "2022-01-15T00:34:23.025Z"
   },
   {
    "duration": 1580,
    "start_time": "2022-01-15T00:34:24.493Z"
   },
   {
    "duration": 856,
    "start_time": "2022-01-15T00:34:26.075Z"
   },
   {
    "duration": 462,
    "start_time": "2022-01-15T00:34:26.934Z"
   },
   {
    "duration": 426,
    "start_time": "2022-01-15T00:34:27.398Z"
   },
   {
    "duration": 440,
    "start_time": "2022-01-15T00:34:27.827Z"
   },
   {
    "duration": 5,
    "start_time": "2022-01-15T00:34:28.270Z"
   },
   {
    "duration": 39,
    "start_time": "2022-01-15T00:34:28.277Z"
   },
   {
    "duration": 1271,
    "start_time": "2022-01-15T00:34:28.318Z"
   },
   {
    "duration": 1239,
    "start_time": "2022-01-15T00:34:29.591Z"
   },
   {
    "duration": 1710,
    "start_time": "2022-01-15T00:34:30.833Z"
   },
   {
    "duration": 14,
    "start_time": "2022-01-15T00:34:32.546Z"
   },
   {
    "duration": 9,
    "start_time": "2022-01-15T00:34:32.562Z"
   },
   {
    "duration": 37,
    "start_time": "2022-01-15T00:34:32.573Z"
   },
   {
    "duration": 6,
    "start_time": "2022-01-15T00:34:32.613Z"
   },
   {
    "duration": 73,
    "start_time": "2022-01-15T00:34:32.621Z"
   },
   {
    "duration": 6,
    "start_time": "2022-01-15T00:34:32.696Z"
   },
   {
    "duration": 17,
    "start_time": "2022-01-15T00:34:32.704Z"
   },
   {
    "duration": 61,
    "start_time": "2022-01-15T00:34:32.724Z"
   },
   {
    "duration": 6,
    "start_time": "2022-01-15T00:34:32.788Z"
   },
   {
    "duration": 9,
    "start_time": "2022-01-15T00:37:41.368Z"
   },
   {
    "duration": 9,
    "start_time": "2022-01-15T00:37:59.848Z"
   },
   {
    "duration": 159,
    "start_time": "2022-01-15T00:42:18.446Z"
   },
   {
    "duration": 136,
    "start_time": "2022-01-15T00:42:30.167Z"
   },
   {
    "duration": 506,
    "start_time": "2022-01-15T00:42:43.868Z"
   },
   {
    "duration": 412,
    "start_time": "2022-01-15T00:43:00.992Z"
   },
   {
    "duration": 389,
    "start_time": "2022-01-15T00:43:46.596Z"
   },
   {
    "duration": 357,
    "start_time": "2022-01-15T00:48:38.209Z"
   },
   {
    "duration": 629,
    "start_time": "2022-01-15T00:48:42.866Z"
   },
   {
    "duration": 622,
    "start_time": "2022-01-15T00:49:44.151Z"
   },
   {
    "duration": 1632,
    "start_time": "2022-01-15T00:50:00.435Z"
   },
   {
    "duration": 1681,
    "start_time": "2022-01-15T00:51:26.361Z"
   },
   {
    "duration": 14352,
    "start_time": "2022-01-15T00:51:55.311Z"
   },
   {
    "duration": 1678,
    "start_time": "2022-01-15T00:52:31.344Z"
   },
   {
    "duration": 383,
    "start_time": "2022-01-15T00:53:14.927Z"
   },
   {
    "duration": 8836,
    "start_time": "2022-01-15T00:53:30.653Z"
   },
   {
    "duration": 10,
    "start_time": "2022-01-15T00:54:18.645Z"
   },
   {
    "duration": 389,
    "start_time": "2022-01-15T00:54:24.230Z"
   },
   {
    "duration": 41238,
    "start_time": "2022-01-15T00:54:29.707Z"
   },
   {
    "duration": 418,
    "start_time": "2022-01-15T00:56:21.519Z"
   },
   {
    "duration": 438,
    "start_time": "2022-01-15T01:01:40.710Z"
   },
   {
    "duration": 117797,
    "start_time": "2022-01-15T01:07:34.887Z"
   },
   {
    "duration": 5,
    "start_time": "2022-01-15T01:13:38.816Z"
   },
   {
    "duration": 5,
    "start_time": "2022-01-15T01:14:06.318Z"
   },
   {
    "duration": 761,
    "start_time": "2022-01-15T01:14:07.838Z"
   },
   {
    "duration": 5,
    "start_time": "2022-01-15T01:14:14.407Z"
   },
   {
    "duration": 8,
    "start_time": "2022-01-15T01:14:15.727Z"
   },
   {
    "duration": 7,
    "start_time": "2022-01-15T01:15:16.605Z"
   },
   {
    "duration": 7,
    "start_time": "2022-01-15T01:15:18.997Z"
   },
   {
    "duration": 5,
    "start_time": "2022-01-15T01:15:41.383Z"
   },
   {
    "duration": 6,
    "start_time": "2022-01-15T01:16:13.686Z"
   },
   {
    "duration": 6,
    "start_time": "2022-01-15T01:16:23.254Z"
   },
   {
    "duration": 7,
    "start_time": "2022-01-15T01:16:26.553Z"
   },
   {
    "duration": 8,
    "start_time": "2022-01-15T01:16:30.500Z"
   },
   {
    "duration": 6,
    "start_time": "2022-01-15T01:16:44.339Z"
   },
   {
    "duration": 387,
    "start_time": "2022-01-15T01:16:48.376Z"
   },
   {
    "duration": 17,
    "start_time": "2022-01-15T01:17:50.416Z"
   },
   {
    "duration": 377,
    "start_time": "2022-01-15T01:17:54.551Z"
   },
   {
    "duration": 4,
    "start_time": "2022-01-15T01:18:15.106Z"
   },
   {
    "duration": 719,
    "start_time": "2022-01-15T01:18:17.286Z"
   },
   {
    "duration": 360,
    "start_time": "2022-01-15T01:19:42.745Z"
   },
   {
    "duration": 366,
    "start_time": "2022-01-15T01:20:44.411Z"
   },
   {
    "duration": 355,
    "start_time": "2022-01-15T01:20:51.422Z"
   },
   {
    "duration": 415,
    "start_time": "2022-01-15T01:20:57.979Z"
   },
   {
    "duration": 408,
    "start_time": "2022-01-15T01:21:05.319Z"
   },
   {
    "duration": 18836,
    "start_time": "2022-01-15T01:21:26.276Z"
   },
   {
    "duration": 363,
    "start_time": "2022-01-15T01:23:23.966Z"
   },
   {
    "duration": 359,
    "start_time": "2022-01-15T01:23:40.164Z"
   },
   {
    "duration": 412,
    "start_time": "2022-01-15T01:23:42.408Z"
   },
   {
    "duration": 2241,
    "start_time": "2022-01-15T01:23:53.152Z"
   },
   {
    "duration": 1502,
    "start_time": "2022-01-15T01:24:56.705Z"
   },
   {
    "duration": 1237,
    "start_time": "2022-01-15T01:24:58.210Z"
   },
   {
    "duration": 38,
    "start_time": "2022-01-15T01:24:59.450Z"
   },
   {
    "duration": 371,
    "start_time": "2022-01-15T01:24:59.491Z"
   },
   {
    "duration": 23,
    "start_time": "2022-01-15T01:24:59.865Z"
   },
   {
    "duration": 28,
    "start_time": "2022-01-15T01:24:59.891Z"
   },
   {
    "duration": 244,
    "start_time": "2022-01-15T01:24:59.921Z"
   },
   {
    "duration": 17,
    "start_time": "2022-01-15T01:25:00.167Z"
   },
   {
    "duration": 31,
    "start_time": "2022-01-15T01:25:00.188Z"
   },
   {
    "duration": 420,
    "start_time": "2022-01-15T01:25:00.222Z"
   },
   {
    "duration": 30,
    "start_time": "2022-01-15T01:25:00.644Z"
   },
   {
    "duration": 15,
    "start_time": "2022-01-15T01:25:00.677Z"
   },
   {
    "duration": 3,
    "start_time": "2022-01-15T01:25:00.695Z"
   },
   {
    "duration": 8,
    "start_time": "2022-01-15T01:25:00.700Z"
   },
   {
    "duration": 7,
    "start_time": "2022-01-15T01:25:00.711Z"
   },
   {
    "duration": 45,
    "start_time": "2022-01-15T01:25:00.720Z"
   },
   {
    "duration": 11,
    "start_time": "2022-01-15T01:25:00.767Z"
   },
   {
    "duration": 15,
    "start_time": "2022-01-15T01:25:00.780Z"
   },
   {
    "duration": 10,
    "start_time": "2022-01-15T01:25:00.798Z"
   },
   {
    "duration": 50,
    "start_time": "2022-01-15T01:25:00.811Z"
   },
   {
    "duration": 7,
    "start_time": "2022-01-15T01:25:00.863Z"
   },
   {
    "duration": 36,
    "start_time": "2022-01-15T01:25:00.873Z"
   },
   {
    "duration": 13,
    "start_time": "2022-01-15T01:25:00.911Z"
   },
   {
    "duration": 68,
    "start_time": "2022-01-15T01:25:00.927Z"
   },
   {
    "duration": 15,
    "start_time": "2022-01-15T01:25:00.997Z"
   },
   {
    "duration": 11,
    "start_time": "2022-01-15T01:25:01.015Z"
   },
   {
    "duration": 152,
    "start_time": "2022-01-15T01:25:01.063Z"
   },
   {
    "duration": 58,
    "start_time": "2022-01-15T01:25:01.218Z"
   },
   {
    "duration": 37,
    "start_time": "2022-01-15T01:25:01.278Z"
   },
   {
    "duration": 5,
    "start_time": "2022-01-15T01:25:01.317Z"
   },
   {
    "duration": 1716,
    "start_time": "2022-01-15T01:25:01.324Z"
   },
   {
    "duration": 1445,
    "start_time": "2022-01-15T01:25:03.042Z"
   },
   {
    "duration": 1589,
    "start_time": "2022-01-15T01:25:04.490Z"
   },
   {
    "duration": 829,
    "start_time": "2022-01-15T01:25:06.082Z"
   },
   {
    "duration": 454,
    "start_time": "2022-01-15T01:25:06.913Z"
   },
   {
    "duration": 417,
    "start_time": "2022-01-15T01:25:07.370Z"
   },
   {
    "duration": 449,
    "start_time": "2022-01-15T01:25:07.789Z"
   },
   {
    "duration": 5,
    "start_time": "2022-01-15T01:25:08.240Z"
   },
   {
    "duration": 38,
    "start_time": "2022-01-15T01:25:08.259Z"
   },
   {
    "duration": 1175,
    "start_time": "2022-01-15T01:25:08.299Z"
   },
   {
    "duration": 1186,
    "start_time": "2022-01-15T01:25:09.476Z"
   },
   {
    "duration": 1354,
    "start_time": "2022-01-15T01:25:10.664Z"
   },
   {
    "duration": 6,
    "start_time": "2022-01-15T01:25:12.021Z"
   },
   {
    "duration": 19,
    "start_time": "2022-01-15T01:25:12.029Z"
   },
   {
    "duration": 43,
    "start_time": "2022-01-15T01:25:12.050Z"
   },
   {
    "duration": 5,
    "start_time": "2022-01-15T01:25:12.095Z"
   },
   {
    "duration": 60,
    "start_time": "2022-01-15T01:25:12.103Z"
   },
   {
    "duration": 5,
    "start_time": "2022-01-15T01:25:12.165Z"
   },
   {
    "duration": 21,
    "start_time": "2022-01-15T01:25:12.172Z"
   },
   {
    "duration": 33,
    "start_time": "2022-01-15T01:25:12.195Z"
   },
   {
    "duration": 29,
    "start_time": "2022-01-15T01:25:12.230Z"
   },
   {
    "duration": 18632,
    "start_time": "2022-01-15T01:25:12.262Z"
   },
   {
    "duration": 2372,
    "start_time": "2022-01-15T01:25:30.897Z"
   },
   {
    "duration": 541,
    "start_time": "2022-01-15T01:32:29.385Z"
   },
   {
    "duration": 13,
    "start_time": "2022-01-15T01:33:12.624Z"
   },
   {
    "duration": 425,
    "start_time": "2022-01-15T01:33:16.016Z"
   },
   {
    "duration": 367,
    "start_time": "2022-01-15T01:33:18.888Z"
   },
   {
    "duration": 13,
    "start_time": "2022-01-15T01:33:23.542Z"
   },
   {
    "duration": 26,
    "start_time": "2022-01-15T01:33:29.893Z"
   },
   {
    "duration": 6,
    "start_time": "2022-01-15T01:33:32.078Z"
   },
   {
    "duration": 4,
    "start_time": "2022-01-15T01:33:59.178Z"
   },
   {
    "duration": 18697,
    "start_time": "2022-01-15T01:34:00.588Z"
   },
   {
    "duration": 2353,
    "start_time": "2022-01-15T01:34:36.585Z"
   },
   {
    "duration": 401,
    "start_time": "2022-01-15T01:34:43.554Z"
   },
   {
    "duration": 63263,
    "start_time": "2022-01-15T01:34:49.312Z"
   },
   {
    "duration": 379,
    "start_time": "2022-01-15T01:38:38.191Z"
   },
   {
    "duration": 6914,
    "start_time": "2022-01-15T01:39:42.505Z"
   },
   {
    "duration": 64027,
    "start_time": "2022-01-15T01:47:59.802Z"
   },
   {
    "duration": 6,
    "start_time": "2022-01-15T01:49:03.832Z"
   },
   {
    "duration": 7073,
    "start_time": "2022-01-15T01:50:00.608Z"
   },
   {
    "duration": 2260,
    "start_time": "2022-01-15T01:57:02.501Z"
   },
   {
    "duration": 2328,
    "start_time": "2022-01-15T01:58:27.535Z"
   },
   {
    "duration": 2140,
    "start_time": "2022-01-15T01:58:39.822Z"
   },
   {
    "duration": 2587,
    "start_time": "2022-01-15T01:59:15.346Z"
   },
   {
    "duration": 2264,
    "start_time": "2022-01-15T01:59:29.703Z"
   },
   {
    "duration": 6,
    "start_time": "2022-01-15T01:59:56.125Z"
   },
   {
    "duration": 5,
    "start_time": "2022-01-15T02:00:07.756Z"
   },
   {
    "duration": 6,
    "start_time": "2022-01-15T02:00:15.711Z"
   },
   {
    "duration": 6,
    "start_time": "2022-01-15T02:00:40.148Z"
   },
   {
    "duration": 8,
    "start_time": "2022-01-15T02:00:48.917Z"
   },
   {
    "duration": 8,
    "start_time": "2022-01-15T02:01:31.660Z"
   },
   {
    "duration": 7,
    "start_time": "2022-01-15T02:01:33.884Z"
   },
   {
    "duration": 5,
    "start_time": "2022-01-15T02:02:36.462Z"
   },
   {
    "duration": 7,
    "start_time": "2022-01-15T02:03:12.466Z"
   },
   {
    "duration": 7,
    "start_time": "2022-01-15T02:03:15.163Z"
   },
   {
    "duration": 6,
    "start_time": "2022-01-15T02:03:44.480Z"
   },
   {
    "duration": 13,
    "start_time": "2022-01-15T02:03:51.003Z"
   },
   {
    "duration": 8,
    "start_time": "2022-01-15T02:03:52.621Z"
   },
   {
    "duration": 6,
    "start_time": "2022-01-15T02:04:29.230Z"
   },
   {
    "duration": 13,
    "start_time": "2022-01-15T02:04:34.777Z"
   },
   {
    "duration": 25,
    "start_time": "2022-01-15T02:04:37.545Z"
   },
   {
    "duration": 8,
    "start_time": "2022-01-15T02:04:39.090Z"
   },
   {
    "duration": 6,
    "start_time": "2022-01-15T02:05:12.406Z"
   },
   {
    "duration": 5,
    "start_time": "2022-01-15T02:06:01.616Z"
   },
   {
    "duration": 7,
    "start_time": "2022-01-15T02:06:05.007Z"
   },
   {
    "duration": 21,
    "start_time": "2022-01-15T02:06:18.120Z"
   },
   {
    "duration": 25,
    "start_time": "2022-01-15T02:06:19.674Z"
   },
   {
    "duration": 8,
    "start_time": "2022-01-15T02:06:21.947Z"
   },
   {
    "duration": 4,
    "start_time": "2022-01-15T02:06:25.094Z"
   },
   {
    "duration": 18392,
    "start_time": "2022-01-15T02:06:26.272Z"
   },
   {
    "duration": 2246,
    "start_time": "2022-01-15T02:07:44.305Z"
   },
   {
    "duration": 2542,
    "start_time": "2022-01-15T02:08:24.020Z"
   },
   {
    "duration": 2426,
    "start_time": "2022-01-15T02:08:36.933Z"
   },
   {
    "duration": 374,
    "start_time": "2022-01-15T02:09:04.697Z"
   },
   {
    "duration": 371,
    "start_time": "2022-01-15T02:09:19.862Z"
   },
   {
    "duration": 363,
    "start_time": "2022-01-15T02:09:31.812Z"
   },
   {
    "duration": 2588,
    "start_time": "2022-01-15T02:26:06.570Z"
   },
   {
    "duration": 2387,
    "start_time": "2022-01-15T02:26:15.474Z"
   },
   {
    "duration": 3,
    "start_time": "2022-01-15T02:27:19.073Z"
   },
   {
    "duration": 14370,
    "start_time": "2022-01-15T02:28:03.054Z"
   },
   {
    "duration": 6831,
    "start_time": "2022-01-15T02:29:03.649Z"
   },
   {
    "duration": 6954,
    "start_time": "2022-01-15T02:34:38.071Z"
   },
   {
    "duration": 116,
    "start_time": "2022-01-15T02:34:59.203Z"
   },
   {
    "duration": 800,
    "start_time": "2022-01-15T02:35:06.039Z"
   },
   {
    "duration": 7103,
    "start_time": "2022-01-15T02:35:15.245Z"
   },
   {
    "duration": 541,
    "start_time": "2022-01-15T02:40:01.335Z"
   },
   {
    "duration": 1031,
    "start_time": "2022-01-15T02:40:10.234Z"
   },
   {
    "duration": 1001,
    "start_time": "2022-01-15T02:40:36.077Z"
   },
   {
    "duration": 1231,
    "start_time": "2022-01-15T02:40:45.694Z"
   },
   {
    "duration": 379,
    "start_time": "2022-01-15T02:42:35.207Z"
   },
   {
    "duration": 350,
    "start_time": "2022-01-15T02:42:43.200Z"
   },
   {
    "duration": 374,
    "start_time": "2022-01-15T02:42:58.393Z"
   },
   {
    "duration": 360,
    "start_time": "2022-01-15T02:43:06.990Z"
   },
   {
    "duration": 20,
    "start_time": "2022-01-15T02:43:11.609Z"
   },
   {
    "duration": 504,
    "start_time": "2022-01-15T02:43:15.916Z"
   },
   {
    "duration": 5731,
    "start_time": "2022-01-15T02:45:19.963Z"
   },
   {
    "duration": 7063,
    "start_time": "2022-01-15T02:45:31.763Z"
   },
   {
    "duration": 1519,
    "start_time": "2022-01-15T04:43:13.397Z"
   },
   {
    "duration": 10,
    "start_time": "2022-01-15T04:43:29.805Z"
   },
   {
    "duration": 1250,
    "start_time": "2022-01-15T04:43:29.818Z"
   },
   {
    "duration": 38,
    "start_time": "2022-01-15T04:43:31.071Z"
   },
   {
    "duration": 394,
    "start_time": "2022-01-15T04:43:31.112Z"
   },
   {
    "duration": 26,
    "start_time": "2022-01-15T04:43:31.508Z"
   },
   {
    "duration": 50,
    "start_time": "2022-01-15T04:43:31.537Z"
   },
   {
    "duration": 215,
    "start_time": "2022-01-15T04:43:31.590Z"
   },
   {
    "duration": 15,
    "start_time": "2022-01-15T04:43:31.809Z"
   },
   {
    "duration": 54,
    "start_time": "2022-01-15T04:43:31.827Z"
   },
   {
    "duration": 387,
    "start_time": "2022-01-15T04:43:31.883Z"
   },
   {
    "duration": 24,
    "start_time": "2022-01-15T04:43:32.273Z"
   },
   {
    "duration": 15,
    "start_time": "2022-01-15T04:43:32.300Z"
   },
   {
    "duration": 3,
    "start_time": "2022-01-15T04:43:32.317Z"
   },
   {
    "duration": 40,
    "start_time": "2022-01-15T04:43:32.322Z"
   },
   {
    "duration": 7,
    "start_time": "2022-01-15T04:43:32.364Z"
   },
   {
    "duration": 9,
    "start_time": "2022-01-15T04:43:32.374Z"
   },
   {
    "duration": 5,
    "start_time": "2022-01-15T04:43:43.409Z"
   },
   {
    "duration": 13,
    "start_time": "2022-01-15T04:43:46.670Z"
   },
   {
    "duration": 10,
    "start_time": "2022-01-15T04:43:49.321Z"
   },
   {
    "duration": 9,
    "start_time": "2022-01-15T04:43:58.210Z"
   },
   {
    "duration": 19,
    "start_time": "2022-01-15T04:44:21.665Z"
   },
   {
    "duration": 22,
    "start_time": "2022-01-15T04:44:26.857Z"
   },
   {
    "duration": 13,
    "start_time": "2022-01-15T04:44:29.419Z"
   },
   {
    "duration": 14,
    "start_time": "2022-01-15T04:44:45.970Z"
   },
   {
    "duration": 9,
    "start_time": "2022-01-15T04:44:48.555Z"
   },
   {
    "duration": 15,
    "start_time": "2022-01-15T04:44:57.273Z"
   },
   {
    "duration": 41,
    "start_time": "2022-01-15T04:45:13.539Z"
   },
   {
    "duration": 136,
    "start_time": "2022-01-15T04:45:15.490Z"
   },
   {
    "duration": 44,
    "start_time": "2022-01-15T04:45:16.907Z"
   },
   {
    "duration": 39,
    "start_time": "2022-01-15T04:45:20.531Z"
   },
   {
    "duration": 5,
    "start_time": "2022-01-15T04:45:22.567Z"
   },
   {
    "duration": 1570,
    "start_time": "2022-01-15T04:45:24.271Z"
   },
   {
    "duration": 1561,
    "start_time": "2022-01-15T04:45:25.843Z"
   },
   {
    "duration": 1454,
    "start_time": "2022-01-15T04:45:28.573Z"
   },
   {
    "duration": 817,
    "start_time": "2022-01-15T04:45:31.791Z"
   },
   {
    "duration": 587,
    "start_time": "2022-01-15T04:45:35.879Z"
   },
   {
    "duration": 438,
    "start_time": "2022-01-15T04:45:38.780Z"
   },
   {
    "duration": 444,
    "start_time": "2022-01-15T04:45:41.373Z"
   },
   {
    "duration": 5,
    "start_time": "2022-01-15T04:45:44.741Z"
   },
   {
    "duration": 56,
    "start_time": "2022-01-15T04:45:47.213Z"
   },
   {
    "duration": 1174,
    "start_time": "2022-01-15T04:45:48.922Z"
   },
   {
    "duration": 1316,
    "start_time": "2022-01-15T04:45:50.254Z"
   },
   {
    "duration": 1438,
    "start_time": "2022-01-15T04:45:55.850Z"
   },
   {
    "duration": 7,
    "start_time": "2022-01-15T04:45:59.747Z"
   },
   {
    "duration": 7,
    "start_time": "2022-01-15T04:46:01.410Z"
   },
   {
    "duration": 37,
    "start_time": "2022-01-15T04:46:03.443Z"
   },
   {
    "duration": 7,
    "start_time": "2022-01-15T04:46:06.051Z"
   },
   {
    "duration": 33,
    "start_time": "2022-01-15T04:46:07.510Z"
   },
   {
    "duration": 6,
    "start_time": "2022-01-15T04:46:50.050Z"
   },
   {
    "duration": 19,
    "start_time": "2022-01-15T04:46:53.551Z"
   },
   {
    "duration": 43,
    "start_time": "2022-01-15T04:46:56.112Z"
   },
   {
    "duration": 8,
    "start_time": "2022-01-15T04:47:02.736Z"
   },
   {
    "duration": 21978,
    "start_time": "2022-01-15T04:55:58.564Z"
   },
   {
    "duration": 2729,
    "start_time": "2022-01-15T04:56:57.231Z"
   },
   {
    "duration": 9,
    "start_time": "2022-01-15T04:58:32.009Z"
   },
   {
    "duration": 21438,
    "start_time": "2022-01-15T04:58:43.009Z"
   },
   {
    "duration": 14546,
    "start_time": "2022-01-15T04:59:57.900Z"
   },
   {
    "duration": 17679,
    "start_time": "2022-01-15T05:01:26.663Z"
   },
   {
    "duration": 525,
    "start_time": "2022-01-15T05:07:51.945Z"
   },
   {
    "duration": 417,
    "start_time": "2022-01-15T05:07:59.037Z"
   },
   {
    "duration": 494,
    "start_time": "2022-01-15T05:08:10.922Z"
   },
   {
    "duration": 388,
    "start_time": "2022-01-15T05:08:28.845Z"
   },
   {
    "duration": 32369,
    "start_time": "2022-01-15T05:11:55.063Z"
   },
   {
    "duration": 5,
    "start_time": "2022-01-15T05:40:03.548Z"
   },
   {
    "duration": 1704,
    "start_time": "2022-01-15T05:40:08.070Z"
   },
   {
    "duration": 5,
    "start_time": "2022-01-15T05:40:25.629Z"
   },
   {
    "duration": 1113,
    "start_time": "2022-01-15T05:40:27.683Z"
   },
   {
    "duration": 5,
    "start_time": "2022-01-15T05:43:04.835Z"
   },
   {
    "duration": 986,
    "start_time": "2022-01-15T05:43:06.236Z"
   },
   {
    "duration": 1045,
    "start_time": "2022-01-15T05:45:46.395Z"
   },
   {
    "duration": 148,
    "start_time": "2022-01-15T05:47:54.690Z"
   },
   {
    "duration": 126,
    "start_time": "2022-01-15T05:48:14.962Z"
   },
   {
    "duration": 1048,
    "start_time": "2022-01-15T05:48:24.186Z"
   },
   {
    "duration": 1028,
    "start_time": "2022-01-15T05:49:35.491Z"
   },
   {
    "duration": 5,
    "start_time": "2022-01-15T05:51:43.415Z"
   },
   {
    "duration": 1143,
    "start_time": "2022-01-15T05:51:51.469Z"
   },
   {
    "duration": 5,
    "start_time": "2022-01-15T05:52:04.341Z"
   },
   {
    "duration": 334,
    "start_time": "2022-01-15T05:52:05.748Z"
   },
   {
    "duration": 8452,
    "start_time": "2022-01-15T05:52:13.467Z"
   },
   {
    "duration": 5,
    "start_time": "2022-01-15T05:52:21.922Z"
   },
   {
    "duration": 348,
    "start_time": "2022-01-15T05:52:21.930Z"
   },
   {
    "duration": 1010,
    "start_time": "2022-01-15T06:15:22.330Z"
   },
   {
    "duration": 1011,
    "start_time": "2022-01-15T06:21:04.371Z"
   },
   {
    "duration": 7200,
    "start_time": "2022-01-15T06:28:38.554Z"
   },
   {
    "duration": 4,
    "start_time": "2022-01-15T06:28:49.252Z"
   },
   {
    "duration": 173,
    "start_time": "2022-01-15T06:28:53.176Z"
   },
   {
    "duration": 904,
    "start_time": "2022-01-15T06:30:08.100Z"
   },
   {
    "duration": 174,
    "start_time": "2022-01-15T06:31:47.075Z"
   },
   {
    "duration": 1341,
    "start_time": "2022-01-15T06:32:23.095Z"
   },
   {
    "duration": 1250,
    "start_time": "2022-01-15T06:33:05.922Z"
   },
   {
    "duration": 1093,
    "start_time": "2022-01-15T06:33:20.469Z"
   },
   {
    "duration": 1167,
    "start_time": "2022-01-15T06:33:24.635Z"
   },
   {
    "duration": 630,
    "start_time": "2022-01-15T06:33:57.129Z"
   },
   {
    "duration": 590,
    "start_time": "2022-01-15T06:44:25.916Z"
   },
   {
    "duration": 542,
    "start_time": "2022-01-15T06:50:02.165Z"
   },
   {
    "duration": 923,
    "start_time": "2022-01-15T06:50:10.532Z"
   },
   {
    "duration": 385,
    "start_time": "2022-01-15T06:53:03.433Z"
   },
   {
    "duration": 1053,
    "start_time": "2022-01-15T06:53:13.360Z"
   },
   {
    "duration": 1531,
    "start_time": "2022-01-15T06:53:32.700Z"
   },
   {
    "duration": 1237,
    "start_time": "2022-01-15T06:53:34.234Z"
   },
   {
    "duration": 34,
    "start_time": "2022-01-15T06:53:35.474Z"
   },
   {
    "duration": 384,
    "start_time": "2022-01-15T06:53:35.511Z"
   },
   {
    "duration": 25,
    "start_time": "2022-01-15T06:53:35.897Z"
   },
   {
    "duration": 49,
    "start_time": "2022-01-15T06:53:35.924Z"
   },
   {
    "duration": 224,
    "start_time": "2022-01-15T06:53:35.975Z"
   },
   {
    "duration": 17,
    "start_time": "2022-01-15T06:53:36.203Z"
   },
   {
    "duration": 51,
    "start_time": "2022-01-15T06:53:36.223Z"
   },
   {
    "duration": 393,
    "start_time": "2022-01-15T06:53:36.276Z"
   },
   {
    "duration": 25,
    "start_time": "2022-01-15T06:53:36.671Z"
   },
   {
    "duration": 15,
    "start_time": "2022-01-15T06:53:36.698Z"
   },
   {
    "duration": 3,
    "start_time": "2022-01-15T06:53:36.715Z"
   },
   {
    "duration": 41,
    "start_time": "2022-01-15T06:53:36.720Z"
   },
   {
    "duration": 8,
    "start_time": "2022-01-15T06:53:36.763Z"
   },
   {
    "duration": 8,
    "start_time": "2022-01-15T06:53:36.773Z"
   },
   {
    "duration": 5,
    "start_time": "2022-01-15T06:53:36.783Z"
   },
   {
    "duration": 14,
    "start_time": "2022-01-15T06:53:36.791Z"
   },
   {
    "duration": 55,
    "start_time": "2022-01-15T06:53:36.807Z"
   },
   {
    "duration": 19,
    "start_time": "2022-01-15T06:53:36.864Z"
   },
   {
    "duration": 22,
    "start_time": "2022-01-15T06:53:36.886Z"
   },
   {
    "duration": 12,
    "start_time": "2022-01-15T06:53:36.910Z"
   },
   {
    "duration": 44,
    "start_time": "2022-01-15T06:53:36.962Z"
   },
   {
    "duration": 14,
    "start_time": "2022-01-15T06:53:37.009Z"
   },
   {
    "duration": 36,
    "start_time": "2022-01-15T06:53:37.025Z"
   },
   {
    "duration": 164,
    "start_time": "2022-01-15T06:53:37.063Z"
   },
   {
    "duration": 51,
    "start_time": "2022-01-15T06:53:37.229Z"
   },
   {
    "duration": 36,
    "start_time": "2022-01-15T06:53:37.282Z"
   },
   {
    "duration": 6,
    "start_time": "2022-01-15T06:53:37.320Z"
   },
   {
    "duration": 1699,
    "start_time": "2022-01-15T06:53:37.329Z"
   },
   {
    "duration": 1838,
    "start_time": "2022-01-15T06:53:39.031Z"
   },
   {
    "duration": 1520,
    "start_time": "2022-01-15T06:53:40.871Z"
   },
   {
    "duration": 845,
    "start_time": "2022-01-15T06:53:42.394Z"
   },
   {
    "duration": 577,
    "start_time": "2022-01-15T06:53:43.242Z"
   },
   {
    "duration": 442,
    "start_time": "2022-01-15T06:53:43.821Z"
   },
   {
    "duration": 451,
    "start_time": "2022-01-15T06:53:44.266Z"
   },
   {
    "duration": 6,
    "start_time": "2022-01-15T06:53:44.719Z"
   },
   {
    "duration": 64,
    "start_time": "2022-01-15T06:53:44.727Z"
   },
   {
    "duration": 1202,
    "start_time": "2022-01-15T06:53:44.794Z"
   },
   {
    "duration": 1206,
    "start_time": "2022-01-15T06:53:45.999Z"
   },
   {
    "duration": 1347,
    "start_time": "2022-01-15T06:53:47.207Z"
   },
   {
    "duration": 7,
    "start_time": "2022-01-15T06:53:48.557Z"
   },
   {
    "duration": 8,
    "start_time": "2022-01-15T06:53:48.566Z"
   },
   {
    "duration": 38,
    "start_time": "2022-01-15T06:53:48.576Z"
   },
   {
    "duration": 6,
    "start_time": "2022-01-15T06:53:48.616Z"
   },
   {
    "duration": 46,
    "start_time": "2022-01-15T06:53:48.660Z"
   },
   {
    "duration": 6,
    "start_time": "2022-01-15T06:53:48.709Z"
   },
   {
    "duration": 84,
    "start_time": "2022-01-15T06:53:48.718Z"
   },
   {
    "duration": 8,
    "start_time": "2022-01-15T06:53:48.805Z"
   },
   {
    "duration": 2745,
    "start_time": "2022-01-15T06:53:48.816Z"
   },
   {
    "duration": 18099,
    "start_time": "2022-01-15T06:53:51.565Z"
   },
   {
    "duration": 530,
    "start_time": "2022-01-15T06:54:09.666Z"
   },
   {
    "duration": -324,
    "start_time": "2022-01-15T06:54:10.523Z"
   },
   {
    "duration": -447,
    "start_time": "2022-01-15T06:54:10.647Z"
   },
   {
    "duration": 7268,
    "start_time": "2022-01-15T07:01:44.068Z"
   },
   {
    "duration": 5,
    "start_time": "2022-01-15T07:01:51.339Z"
   },
   {
    "duration": 177,
    "start_time": "2022-01-15T07:02:00.604Z"
   },
   {
    "duration": 412,
    "start_time": "2022-01-15T07:02:39.016Z"
   },
   {
    "duration": 7731,
    "start_time": "2022-01-15T07:02:50.603Z"
   },
   {
    "duration": 254317,
    "start_time": "2022-01-15T07:13:00.675Z"
   },
   {
    "duration": -215,
    "start_time": "2022-01-15T07:17:16.426Z"
   },
   {
    "duration": 366,
    "start_time": "2022-01-15T07:17:19.269Z"
   },
   {
    "duration": 38021,
    "start_time": "2022-01-15T07:17:21.376Z"
   },
   {
    "duration": 1579,
    "start_time": "2022-01-15T07:19:02.244Z"
   },
   {
    "duration": 1242,
    "start_time": "2022-01-15T07:19:03.825Z"
   },
   {
    "duration": 35,
    "start_time": "2022-01-15T07:19:05.070Z"
   },
   {
    "duration": 371,
    "start_time": "2022-01-15T07:19:05.108Z"
   },
   {
    "duration": 23,
    "start_time": "2022-01-15T07:19:05.482Z"
   },
   {
    "duration": 54,
    "start_time": "2022-01-15T07:19:05.507Z"
   },
   {
    "duration": 209,
    "start_time": "2022-01-15T07:19:05.563Z"
   },
   {
    "duration": 15,
    "start_time": "2022-01-15T07:19:05.776Z"
   },
   {
    "duration": 30,
    "start_time": "2022-01-15T07:19:05.794Z"
   },
   {
    "duration": 413,
    "start_time": "2022-01-15T07:19:05.826Z"
   },
   {
    "duration": 33,
    "start_time": "2022-01-15T07:19:06.241Z"
   },
   {
    "duration": 16,
    "start_time": "2022-01-15T07:19:06.276Z"
   },
   {
    "duration": 3,
    "start_time": "2022-01-15T07:19:06.294Z"
   },
   {
    "duration": 6,
    "start_time": "2022-01-15T07:19:06.300Z"
   },
   {
    "duration": 7,
    "start_time": "2022-01-15T07:19:06.309Z"
   },
   {
    "duration": 8,
    "start_time": "2022-01-15T07:19:06.358Z"
   },
   {
    "duration": 6,
    "start_time": "2022-01-15T07:19:06.369Z"
   },
   {
    "duration": 14,
    "start_time": "2022-01-15T07:19:06.377Z"
   },
   {
    "duration": 10,
    "start_time": "2022-01-15T07:19:06.393Z"
   },
   {
    "duration": 64,
    "start_time": "2022-01-15T07:19:06.405Z"
   },
   {
    "duration": 21,
    "start_time": "2022-01-15T07:19:06.471Z"
   },
   {
    "duration": 10,
    "start_time": "2022-01-15T07:19:06.494Z"
   },
   {
    "duration": 74,
    "start_time": "2022-01-15T07:19:06.509Z"
   },
   {
    "duration": 13,
    "start_time": "2022-01-15T07:19:06.586Z"
   },
   {
    "duration": 9,
    "start_time": "2022-01-15T07:19:06.601Z"
   },
   {
    "duration": 167,
    "start_time": "2022-01-15T07:19:06.612Z"
   },
   {
    "duration": 43,
    "start_time": "2022-01-15T07:19:06.781Z"
   },
   {
    "duration": 59,
    "start_time": "2022-01-15T07:19:06.827Z"
   },
   {
    "duration": 5,
    "start_time": "2022-01-15T07:19:06.888Z"
   },
   {
    "duration": 1609,
    "start_time": "2022-01-15T07:19:06.895Z"
   },
   {
    "duration": 1480,
    "start_time": "2022-01-15T07:19:08.507Z"
   },
   {
    "duration": 1455,
    "start_time": "2022-01-15T07:19:09.989Z"
   },
   {
    "duration": 801,
    "start_time": "2022-01-15T07:19:11.446Z"
   },
   {
    "duration": 490,
    "start_time": "2022-01-15T07:19:12.250Z"
   },
   {
    "duration": 468,
    "start_time": "2022-01-15T07:19:12.743Z"
   },
   {
    "duration": 460,
    "start_time": "2022-01-15T07:19:13.214Z"
   },
   {
    "duration": 6,
    "start_time": "2022-01-15T07:19:13.678Z"
   },
   {
    "duration": 74,
    "start_time": "2022-01-15T07:19:13.687Z"
   },
   {
    "duration": 1186,
    "start_time": "2022-01-15T07:19:13.764Z"
   },
   {
    "duration": 1222,
    "start_time": "2022-01-15T07:19:14.960Z"
   },
   {
    "duration": 1364,
    "start_time": "2022-01-15T07:19:16.185Z"
   },
   {
    "duration": 10,
    "start_time": "2022-01-15T07:19:17.551Z"
   },
   {
    "duration": 14,
    "start_time": "2022-01-15T07:19:17.563Z"
   },
   {
    "duration": 46,
    "start_time": "2022-01-15T07:19:17.579Z"
   },
   {
    "duration": 5,
    "start_time": "2022-01-15T07:19:17.627Z"
   },
   {
    "duration": 58,
    "start_time": "2022-01-15T07:19:17.634Z"
   },
   {
    "duration": 6,
    "start_time": "2022-01-15T07:19:17.694Z"
   },
   {
    "duration": 72,
    "start_time": "2022-01-15T07:19:17.702Z"
   },
   {
    "duration": 7,
    "start_time": "2022-01-15T07:19:17.776Z"
   },
   {
    "duration": 543577,
    "start_time": "2022-01-15T07:19:17.786Z"
   },
   {
    "duration": 491,
    "start_time": "2022-01-15T07:28:21.366Z"
   },
   {
    "duration": -306,
    "start_time": "2022-01-15T07:28:22.167Z"
   },
   {
    "duration": -311,
    "start_time": "2022-01-15T07:28:22.174Z"
   },
   {
    "duration": -481,
    "start_time": "2022-01-15T07:28:22.347Z"
   },
   {
    "duration": -492,
    "start_time": "2022-01-15T07:28:22.360Z"
   },
   {
    "duration": -494,
    "start_time": "2022-01-15T07:28:22.364Z"
   },
   {
    "duration": -495,
    "start_time": "2022-01-15T07:28:22.368Z"
   },
   {
    "duration": -497,
    "start_time": "2022-01-15T07:28:22.372Z"
   },
   {
    "duration": -501,
    "start_time": "2022-01-15T07:28:22.378Z"
   },
   {
    "duration": 421,
    "start_time": "2022-01-15T07:29:06.519Z"
   },
   {
    "duration": 352,
    "start_time": "2022-01-15T07:30:29.382Z"
   },
   {
    "duration": 234104,
    "start_time": "2022-01-15T07:30:53.560Z"
   },
   {
    "duration": 5,
    "start_time": "2022-01-15T07:35:20.408Z"
   },
   {
    "duration": 4,
    "start_time": "2022-01-15T07:35:23.174Z"
   },
   {
    "duration": 13196,
    "start_time": "2022-01-15T07:37:38.634Z"
   },
   {
    "duration": 1157,
    "start_time": "2022-01-15T18:04:01.431Z"
   },
   {
    "duration": 1325,
    "start_time": "2022-01-15T18:04:02.590Z"
   },
   {
    "duration": 25,
    "start_time": "2022-01-15T18:04:03.917Z"
   },
   {
    "duration": 248,
    "start_time": "2022-01-15T18:04:03.944Z"
   },
   {
    "duration": 15,
    "start_time": "2022-01-15T18:04:04.194Z"
   },
   {
    "duration": 21,
    "start_time": "2022-01-15T18:04:04.211Z"
   },
   {
    "duration": 153,
    "start_time": "2022-01-15T18:04:04.234Z"
   },
   {
    "duration": 10,
    "start_time": "2022-01-15T18:04:04.390Z"
   },
   {
    "duration": 34,
    "start_time": "2022-01-15T18:04:04.402Z"
   },
   {
    "duration": 278,
    "start_time": "2022-01-15T18:04:04.438Z"
   },
   {
    "duration": 16,
    "start_time": "2022-01-15T18:04:04.719Z"
   },
   {
    "duration": 8,
    "start_time": "2022-01-15T18:04:04.736Z"
   },
   {
    "duration": 2,
    "start_time": "2022-01-15T18:04:04.745Z"
   },
   {
    "duration": 7,
    "start_time": "2022-01-15T18:04:04.749Z"
   },
   {
    "duration": 35,
    "start_time": "2022-01-15T18:04:04.757Z"
   },
   {
    "duration": 4,
    "start_time": "2022-01-15T18:04:04.794Z"
   },
   {
    "duration": 7,
    "start_time": "2022-01-15T18:04:04.799Z"
   },
   {
    "duration": 11,
    "start_time": "2022-01-15T18:04:04.807Z"
   },
   {
    "duration": 6,
    "start_time": "2022-01-15T18:04:04.820Z"
   },
   {
    "duration": 15,
    "start_time": "2022-01-15T18:04:04.827Z"
   },
   {
    "duration": 14,
    "start_time": "2022-01-15T18:04:04.843Z"
   },
   {
    "duration": 8,
    "start_time": "2022-01-15T18:04:04.891Z"
   },
   {
    "duration": 33,
    "start_time": "2022-01-15T18:04:04.902Z"
   },
   {
    "duration": 9,
    "start_time": "2022-01-15T18:04:04.937Z"
   },
   {
    "duration": 6,
    "start_time": "2022-01-15T18:04:04.948Z"
   },
   {
    "duration": 105,
    "start_time": "2022-01-15T18:04:04.955Z"
   },
   {
    "duration": 30,
    "start_time": "2022-01-15T18:04:05.062Z"
   },
   {
    "duration": 28,
    "start_time": "2022-01-15T18:04:05.093Z"
   },
   {
    "duration": 3,
    "start_time": "2022-01-15T18:04:05.123Z"
   },
   {
    "duration": 1090,
    "start_time": "2022-01-15T18:04:05.128Z"
   },
   {
    "duration": 943,
    "start_time": "2022-01-15T18:04:06.220Z"
   },
   {
    "duration": 965,
    "start_time": "2022-01-15T18:04:07.165Z"
   },
   {
    "duration": 561,
    "start_time": "2022-01-15T18:04:08.132Z"
   },
   {
    "duration": 315,
    "start_time": "2022-01-15T18:04:08.695Z"
   },
   {
    "duration": 293,
    "start_time": "2022-01-15T18:04:09.012Z"
   },
   {
    "duration": 304,
    "start_time": "2022-01-15T18:04:09.307Z"
   },
   {
    "duration": 3,
    "start_time": "2022-01-15T18:04:09.613Z"
   },
   {
    "duration": 47,
    "start_time": "2022-01-15T18:04:09.618Z"
   },
   {
    "duration": 835,
    "start_time": "2022-01-15T18:04:09.667Z"
   },
   {
    "duration": 787,
    "start_time": "2022-01-15T18:04:10.504Z"
   },
   {
    "duration": 916,
    "start_time": "2022-01-15T18:04:11.293Z"
   },
   {
    "duration": 7,
    "start_time": "2022-01-15T18:04:12.210Z"
   },
   {
    "duration": 13,
    "start_time": "2022-01-15T18:04:12.219Z"
   },
   {
    "duration": 25,
    "start_time": "2022-01-15T18:04:12.234Z"
   },
   {
    "duration": 5,
    "start_time": "2022-01-15T18:04:12.261Z"
   },
   {
    "duration": 40,
    "start_time": "2022-01-15T18:04:12.268Z"
   },
   {
    "duration": 5,
    "start_time": "2022-01-15T18:04:12.310Z"
   },
   {
    "duration": 43,
    "start_time": "2022-01-15T18:04:12.317Z"
   },
   {
    "duration": 33,
    "start_time": "2022-01-15T18:04:12.362Z"
   },
   {
    "duration": 1181,
    "start_time": "2022-01-15T18:08:13.883Z"
   },
   {
    "duration": 913,
    "start_time": "2022-01-15T18:08:15.066Z"
   },
   {
    "duration": 27,
    "start_time": "2022-01-15T18:08:15.981Z"
   },
   {
    "duration": 248,
    "start_time": "2022-01-15T18:08:16.010Z"
   },
   {
    "duration": 15,
    "start_time": "2022-01-15T18:08:16.260Z"
   },
   {
    "duration": 30,
    "start_time": "2022-01-15T18:08:16.277Z"
   },
   {
    "duration": 140,
    "start_time": "2022-01-15T18:08:16.308Z"
   },
   {
    "duration": 9,
    "start_time": "2022-01-15T18:08:16.450Z"
   },
   {
    "duration": 32,
    "start_time": "2022-01-15T18:08:16.461Z"
   },
   {
    "duration": 273,
    "start_time": "2022-01-15T18:08:16.495Z"
   },
   {
    "duration": 24,
    "start_time": "2022-01-15T18:08:16.769Z"
   },
   {
    "duration": 7,
    "start_time": "2022-01-15T18:08:16.795Z"
   },
   {
    "duration": 2,
    "start_time": "2022-01-15T18:08:16.804Z"
   },
   {
    "duration": 7,
    "start_time": "2022-01-15T18:08:16.808Z"
   },
   {
    "duration": 4,
    "start_time": "2022-01-15T18:08:16.816Z"
   },
   {
    "duration": 6,
    "start_time": "2022-01-15T18:08:16.822Z"
   },
   {
    "duration": 5,
    "start_time": "2022-01-15T18:08:16.830Z"
   },
   {
    "duration": 12,
    "start_time": "2022-01-15T18:08:16.837Z"
   },
   {
    "duration": 46,
    "start_time": "2022-01-15T18:08:16.850Z"
   },
   {
    "duration": 15,
    "start_time": "2022-01-15T18:08:16.897Z"
   },
   {
    "duration": 15,
    "start_time": "2022-01-15T18:08:16.914Z"
   },
   {
    "duration": 10,
    "start_time": "2022-01-15T18:08:16.930Z"
   },
   {
    "duration": 55,
    "start_time": "2022-01-15T18:08:16.941Z"
   },
   {
    "duration": 10,
    "start_time": "2022-01-15T18:08:16.998Z"
   },
   {
    "duration": 6,
    "start_time": "2022-01-15T18:08:17.009Z"
   },
   {
    "duration": 93,
    "start_time": "2022-01-15T18:08:17.017Z"
   },
   {
    "duration": 25,
    "start_time": "2022-01-15T18:08:17.114Z"
   },
   {
    "duration": 28,
    "start_time": "2022-01-15T18:08:17.141Z"
   },
   {
    "duration": 21,
    "start_time": "2022-01-15T18:08:17.171Z"
   },
   {
    "duration": 1093,
    "start_time": "2022-01-15T18:08:17.194Z"
   },
   {
    "duration": 945,
    "start_time": "2022-01-15T18:08:18.291Z"
   },
   {
    "duration": 970,
    "start_time": "2022-01-15T18:08:19.238Z"
   },
   {
    "duration": 563,
    "start_time": "2022-01-15T18:08:20.210Z"
   },
   {
    "duration": 324,
    "start_time": "2022-01-15T18:08:20.775Z"
   },
   {
    "duration": 306,
    "start_time": "2022-01-15T18:08:21.102Z"
   },
   {
    "duration": 303,
    "start_time": "2022-01-15T18:08:21.410Z"
   },
   {
    "duration": 5,
    "start_time": "2022-01-15T18:08:21.716Z"
   },
   {
    "duration": 41,
    "start_time": "2022-01-15T18:08:21.722Z"
   },
   {
    "duration": 796,
    "start_time": "2022-01-15T18:08:21.764Z"
   },
   {
    "duration": 757,
    "start_time": "2022-01-15T18:08:22.561Z"
   },
   {
    "duration": 889,
    "start_time": "2022-01-15T18:08:23.320Z"
   },
   {
    "duration": 5,
    "start_time": "2022-01-15T18:08:24.211Z"
   },
   {
    "duration": 7,
    "start_time": "2022-01-15T18:08:24.218Z"
   },
   {
    "duration": 26,
    "start_time": "2022-01-15T18:08:24.226Z"
   },
   {
    "duration": 6,
    "start_time": "2022-01-15T18:08:24.254Z"
   },
   {
    "duration": 23,
    "start_time": "2022-01-15T18:08:24.291Z"
   },
   {
    "duration": 5,
    "start_time": "2022-01-15T18:08:24.316Z"
   },
   {
    "duration": 69,
    "start_time": "2022-01-15T18:08:24.323Z"
   },
   {
    "duration": 6,
    "start_time": "2022-01-15T18:08:24.394Z"
   },
   {
    "duration": 215131,
    "start_time": "2022-01-15T18:08:24.402Z"
   },
   {
    "duration": 4,
    "start_time": "2022-01-15T18:13:34.862Z"
   },
   {
    "duration": 7,
    "start_time": "2022-01-15T18:13:34.868Z"
   },
   {
    "duration": 9660,
    "start_time": "2022-01-15T18:13:34.877Z"
   },
   {
    "duration": 2058,
    "start_time": "2022-01-15T18:13:44.539Z"
   },
   {
    "duration": 14367,
    "start_time": "2022-01-15T18:13:46.599Z"
   },
   {
    "duration": 5910,
    "start_time": "2022-01-15T18:14:00.969Z"
   },
   {
    "duration": 10,
    "start_time": "2022-01-15T18:14:06.881Z"
   },
   {
    "duration": 142,
    "start_time": "2022-01-15T18:14:06.892Z"
   },
   {
    "duration": 2,
    "start_time": "2022-01-15T18:14:07.036Z"
   },
   {
    "duration": 95219,
    "start_time": "2022-01-15T18:14:07.041Z"
   },
   {
    "duration": 3,
    "start_time": "2022-01-15T18:19:15.077Z"
   },
   {
    "duration": 32849,
    "start_time": "2022-01-15T18:21:22.376Z"
   },
   {
    "duration": 33512,
    "start_time": "2022-01-15T18:23:06.122Z"
   },
   {
    "duration": 32024,
    "start_time": "2022-01-15T18:24:04.923Z"
   },
   {
    "duration": 4,
    "start_time": "2022-01-15T18:30:20.500Z"
   },
   {
    "duration": 35,
    "start_time": "2022-01-15T18:30:22.378Z"
   },
   {
    "duration": 6,
    "start_time": "2022-01-15T18:30:24.631Z"
   },
   {
    "duration": 4,
    "start_time": "2022-01-15T18:32:36.952Z"
   },
   {
    "duration": 34,
    "start_time": "2022-01-15T18:32:38.944Z"
   },
   {
    "duration": 5,
    "start_time": "2022-01-15T18:32:40.125Z"
   },
   {
    "duration": 2037,
    "start_time": "2022-01-15T18:32:51.556Z"
   },
   {
    "duration": 2,
    "start_time": "2022-01-15T18:33:22.821Z"
   },
   {
    "duration": 31527,
    "start_time": "2022-01-15T18:33:32.017Z"
   },
   {
    "duration": 266,
    "start_time": "2022-01-15T18:37:23.083Z"
   },
   {
    "duration": 39270,
    "start_time": "2022-01-15T18:37:32.185Z"
   },
   {
    "duration": 33121,
    "start_time": "2022-01-15T18:38:21.039Z"
   },
   {
    "duration": 29266,
    "start_time": "2022-01-15T18:49:07.230Z"
   },
   {
    "duration": 26624,
    "start_time": "2022-01-15T18:49:47.201Z"
   },
   {
    "duration": 174,
    "start_time": "2022-01-15T18:50:52.316Z"
   },
   {
    "duration": 165,
    "start_time": "2022-01-15T18:51:09.304Z"
   },
   {
    "duration": 6,
    "start_time": "2022-01-15T18:51:18.874Z"
   },
   {
    "duration": 186,
    "start_time": "2022-01-15T18:51:28.402Z"
   },
   {
    "duration": 28792,
    "start_time": "2022-01-15T18:51:37.612Z"
   },
   {
    "duration": 28512,
    "start_time": "2022-01-15T18:52:21.438Z"
   },
   {
    "duration": 169,
    "start_time": "2022-01-15T18:52:54.363Z"
   },
   {
    "duration": 2624,
    "start_time": "2022-01-15T18:53:36.927Z"
   },
   {
    "duration": 2523,
    "start_time": "2022-01-15T18:53:49.371Z"
   },
   {
    "duration": 451,
    "start_time": "2022-01-15T18:54:15.869Z"
   },
   {
    "duration": 31276,
    "start_time": "2022-01-15T18:56:15.570Z"
   },
   {
    "duration": 2208,
    "start_time": "2022-01-15T18:57:14.490Z"
   },
   {
    "duration": 27460,
    "start_time": "2022-01-15T19:28:17.035Z"
   },
   {
    "duration": 3194,
    "start_time": "2022-01-15T19:28:52.238Z"
   },
   {
    "duration": 29419,
    "start_time": "2022-01-15T19:29:21.373Z"
   },
   {
    "duration": 3035,
    "start_time": "2022-01-15T19:30:32.970Z"
   },
   {
    "duration": 50876,
    "start_time": "2022-01-15T19:30:53.227Z"
   },
   {
    "duration": 3908,
    "start_time": "2022-01-15T19:32:32.188Z"
   },
   {
    "duration": 38031,
    "start_time": "2022-01-15T19:33:07.574Z"
   },
   {
    "duration": 14525,
    "start_time": "2022-01-15T19:36:28.997Z"
   },
   {
    "duration": 18681,
    "start_time": "2022-01-15T19:37:06.151Z"
   },
   {
    "duration": 28316,
    "start_time": "2022-01-15T19:38:30.481Z"
   },
   {
    "duration": 343,
    "start_time": "2022-01-16T18:08:47.218Z"
   },
   {
    "duration": 1566,
    "start_time": "2022-01-16T18:09:11.797Z"
   },
   {
    "duration": 14454,
    "start_time": "2022-01-16T18:09:13.366Z"
   },
   {
    "duration": 36,
    "start_time": "2022-01-16T18:09:27.823Z"
   },
   {
    "duration": 455,
    "start_time": "2022-01-16T18:09:27.862Z"
   },
   {
    "duration": 28,
    "start_time": "2022-01-16T18:09:28.324Z"
   },
   {
    "duration": 33,
    "start_time": "2022-01-16T18:09:28.355Z"
   },
   {
    "duration": 279,
    "start_time": "2022-01-16T18:09:28.392Z"
   },
   {
    "duration": 16,
    "start_time": "2022-01-16T18:09:28.675Z"
   },
   {
    "duration": 51,
    "start_time": "2022-01-16T18:09:28.694Z"
   },
   {
    "duration": 408,
    "start_time": "2022-01-16T18:09:28.748Z"
   },
   {
    "duration": 26,
    "start_time": "2022-01-16T18:09:29.158Z"
   },
   {
    "duration": 24,
    "start_time": "2022-01-16T18:09:29.187Z"
   },
   {
    "duration": 15,
    "start_time": "2022-01-16T18:09:29.213Z"
   },
   {
    "duration": 10,
    "start_time": "2022-01-16T18:09:29.230Z"
   },
   {
    "duration": 7,
    "start_time": "2022-01-16T18:09:29.243Z"
   },
   {
    "duration": 12,
    "start_time": "2022-01-16T18:09:29.252Z"
   },
   {
    "duration": 15,
    "start_time": "2022-01-16T18:09:29.266Z"
   },
   {
    "duration": 46,
    "start_time": "2022-01-16T18:09:29.284Z"
   },
   {
    "duration": 21,
    "start_time": "2022-01-16T18:09:29.332Z"
   },
   {
    "duration": 20,
    "start_time": "2022-01-16T18:09:29.355Z"
   },
   {
    "duration": 48,
    "start_time": "2022-01-16T18:09:29.377Z"
   },
   {
    "duration": 43,
    "start_time": "2022-01-16T18:09:29.427Z"
   },
   {
    "duration": 13,
    "start_time": "2022-01-16T18:09:29.476Z"
   },
   {
    "duration": 39,
    "start_time": "2022-01-16T18:09:29.492Z"
   },
   {
    "duration": 170,
    "start_time": "2022-01-16T18:09:29.533Z"
   },
   {
    "duration": 48,
    "start_time": "2022-01-16T18:09:29.706Z"
   },
   {
    "duration": 38,
    "start_time": "2022-01-16T18:09:29.757Z"
   },
   {
    "duration": 26,
    "start_time": "2022-01-16T18:09:29.797Z"
   },
   {
    "duration": 1655,
    "start_time": "2022-01-16T18:09:29.825Z"
   },
   {
    "duration": 1476,
    "start_time": "2022-01-16T18:09:31.483Z"
   },
   {
    "duration": 1616,
    "start_time": "2022-01-16T18:09:32.961Z"
   },
   {
    "duration": 815,
    "start_time": "2022-01-16T18:09:34.580Z"
   },
   {
    "duration": 471,
    "start_time": "2022-01-16T18:09:35.397Z"
   },
   {
    "duration": 453,
    "start_time": "2022-01-16T18:09:35.870Z"
   },
   {
    "duration": 452,
    "start_time": "2022-01-16T18:09:36.325Z"
   },
   {
    "duration": 5,
    "start_time": "2022-01-16T18:09:36.780Z"
   },
   {
    "duration": 72,
    "start_time": "2022-01-16T18:09:36.787Z"
   },
   {
    "duration": 1215,
    "start_time": "2022-01-16T18:09:36.862Z"
   },
   {
    "duration": 1188,
    "start_time": "2022-01-16T18:09:38.079Z"
   },
   {
    "duration": 1400,
    "start_time": "2022-01-16T18:09:39.269Z"
   },
   {
    "duration": 7,
    "start_time": "2022-01-16T18:09:40.671Z"
   },
   {
    "duration": 11,
    "start_time": "2022-01-16T18:09:40.681Z"
   },
   {
    "duration": 60,
    "start_time": "2022-01-16T18:09:40.694Z"
   },
   {
    "duration": 6,
    "start_time": "2022-01-16T18:09:40.756Z"
   },
   {
    "duration": 58,
    "start_time": "2022-01-16T18:09:40.765Z"
   },
   {
    "duration": 6,
    "start_time": "2022-01-16T18:09:40.825Z"
   },
   {
    "duration": 419,
    "start_time": "2022-01-16T18:09:40.833Z"
   },
   {
    "duration": -301,
    "start_time": "2022-01-16T18:09:41.556Z"
   },
   {
    "duration": -306,
    "start_time": "2022-01-16T18:09:41.562Z"
   },
   {
    "duration": -309,
    "start_time": "2022-01-16T18:09:41.566Z"
   },
   {
    "duration": -319,
    "start_time": "2022-01-16T18:09:41.578Z"
   },
   {
    "duration": -322,
    "start_time": "2022-01-16T18:09:41.582Z"
   },
   {
    "duration": -324,
    "start_time": "2022-01-16T18:09:41.586Z"
   },
   {
    "duration": -360,
    "start_time": "2022-01-16T18:09:41.623Z"
   },
   {
    "duration": -394,
    "start_time": "2022-01-16T18:09:41.659Z"
   },
   {
    "duration": -406,
    "start_time": "2022-01-16T18:09:41.672Z"
   },
   {
    "duration": 345,
    "start_time": "2022-01-16T18:10:08.191Z"
   },
   {
    "duration": 4,
    "start_time": "2022-01-16T18:11:21.819Z"
   },
   {
    "duration": 47,
    "start_time": "2022-01-16T18:11:25.491Z"
   },
   {
    "duration": 8,
    "start_time": "2022-01-16T18:11:29.561Z"
   },
   {
    "duration": 41422,
    "start_time": "2022-01-16T18:11:32.059Z"
   },
   {
    "duration": 2747,
    "start_time": "2022-01-16T18:12:13.484Z"
   },
   {
    "duration": 6,
    "start_time": "2022-01-16T18:15:08.448Z"
   },
   {
    "duration": 44,
    "start_time": "2022-01-16T18:15:13.448Z"
   },
   {
    "duration": 8,
    "start_time": "2022-01-16T18:15:19.133Z"
   },
   {
    "duration": 40754,
    "start_time": "2022-01-16T18:15:21.008Z"
   },
   {
    "duration": 2863,
    "start_time": "2022-01-16T18:16:01.765Z"
   },
   {
    "duration": 17871,
    "start_time": "2022-01-16T18:16:09.748Z"
   },
   {
    "duration": 7799,
    "start_time": "2022-01-16T18:16:27.624Z"
   },
   {
    "duration": 5,
    "start_time": "2022-01-16T18:16:35.426Z"
   },
   {
    "duration": 191,
    "start_time": "2022-01-16T18:16:35.434Z"
   },
   {
    "duration": 35247,
    "start_time": "2022-01-16T18:16:51.181Z"
   },
   {
    "duration": 6,
    "start_time": "2022-01-16T18:23:38.119Z"
   },
   {
    "duration": 6,
    "start_time": "2022-01-16T18:25:02.596Z"
   },
   {
    "duration": 8,
    "start_time": "2022-01-16T18:25:06.119Z"
   },
   {
    "duration": 7,
    "start_time": "2022-01-16T18:25:09.720Z"
   },
   {
    "duration": 42,
    "start_time": "2022-01-16T18:25:24.154Z"
   },
   {
    "duration": 7,
    "start_time": "2022-01-16T18:25:26.257Z"
   },
   {
    "duration": 40294,
    "start_time": "2022-01-16T18:25:27.668Z"
   },
   {
    "duration": 3165,
    "start_time": "2022-01-16T18:26:07.966Z"
   },
   {
    "duration": 19257,
    "start_time": "2022-01-16T18:26:11.225Z"
   },
   {
    "duration": 7694,
    "start_time": "2022-01-16T18:26:30.485Z"
   },
   {
    "duration": 5,
    "start_time": "2022-01-16T18:26:38.182Z"
   },
   {
    "duration": 205,
    "start_time": "2022-01-16T18:26:38.190Z"
   },
   {
    "duration": 41930,
    "start_time": "2022-01-16T18:26:38.397Z"
   },
   {
    "duration": 6,
    "start_time": "2022-01-16T18:34:00.234Z"
   },
   {
    "duration": 6,
    "start_time": "2022-01-16T18:34:05.366Z"
   },
   {
    "duration": 39,
    "start_time": "2022-01-16T18:34:10.872Z"
   },
   {
    "duration": 7,
    "start_time": "2022-01-16T18:34:12.737Z"
   },
   {
    "duration": 40424,
    "start_time": "2022-01-16T18:34:14.624Z"
   },
   {
    "duration": 3703,
    "start_time": "2022-01-16T18:34:57.927Z"
   },
   {
    "duration": 17595,
    "start_time": "2022-01-16T18:35:01.633Z"
   },
   {
    "duration": 7007,
    "start_time": "2022-01-16T18:35:19.231Z"
   },
   {
    "duration": 4,
    "start_time": "2022-01-16T18:35:26.241Z"
   },
   {
    "duration": 192,
    "start_time": "2022-01-16T18:35:26.248Z"
   },
   {
    "duration": 36186,
    "start_time": "2022-01-16T18:35:26.444Z"
   },
   {
    "duration": 10,
    "start_time": "2022-01-16T18:38:54.526Z"
   },
   {
    "duration": 8,
    "start_time": "2022-01-16T18:39:16.295Z"
   },
   {
    "duration": 6,
    "start_time": "2022-01-16T18:39:52.151Z"
   },
   {
    "duration": 7,
    "start_time": "2022-01-16T18:40:09.797Z"
   },
   {
    "duration": 46392,
    "start_time": "2022-01-16T18:41:01.807Z"
   },
   {
    "duration": 6,
    "start_time": "2022-01-16T18:43:12.040Z"
   },
   {
    "duration": 47,
    "start_time": "2022-01-16T18:43:15.486Z"
   },
   {
    "duration": 7,
    "start_time": "2022-01-16T18:43:17.752Z"
   },
   {
    "duration": 6,
    "start_time": "2022-01-16T18:43:31.166Z"
   },
   {
    "duration": 43,
    "start_time": "2022-01-16T18:43:34.465Z"
   },
   {
    "duration": 7,
    "start_time": "2022-01-16T18:43:37.356Z"
   },
   {
    "duration": 2984,
    "start_time": "2022-01-16T18:43:46.346Z"
   },
   {
    "duration": 44388,
    "start_time": "2022-01-16T18:44:05.489Z"
   },
   {
    "duration": 1508,
    "start_time": "2022-01-16T18:45:40.437Z"
   },
   {
    "duration": 1154,
    "start_time": "2022-01-16T18:45:41.947Z"
   },
   {
    "duration": 43,
    "start_time": "2022-01-16T18:45:43.104Z"
   },
   {
    "duration": 396,
    "start_time": "2022-01-16T18:45:43.150Z"
   },
   {
    "duration": 24,
    "start_time": "2022-01-16T18:45:43.549Z"
   },
   {
    "duration": 56,
    "start_time": "2022-01-16T18:45:43.575Z"
   },
   {
    "duration": 218,
    "start_time": "2022-01-16T18:45:43.634Z"
   },
   {
    "duration": 18,
    "start_time": "2022-01-16T18:45:43.854Z"
   },
   {
    "duration": 55,
    "start_time": "2022-01-16T18:45:43.877Z"
   },
   {
    "duration": 395,
    "start_time": "2022-01-16T18:45:43.935Z"
   },
   {
    "duration": 26,
    "start_time": "2022-01-16T18:45:44.332Z"
   },
   {
    "duration": 15,
    "start_time": "2022-01-16T18:45:44.360Z"
   },
   {
    "duration": 5,
    "start_time": "2022-01-16T18:45:44.378Z"
   },
   {
    "duration": 39,
    "start_time": "2022-01-16T18:45:44.386Z"
   },
   {
    "duration": 7,
    "start_time": "2022-01-16T18:45:44.428Z"
   },
   {
    "duration": 6,
    "start_time": "2022-01-16T18:45:44.437Z"
   },
   {
    "duration": 23,
    "start_time": "2022-01-16T18:45:44.445Z"
   },
   {
    "duration": 9,
    "start_time": "2022-01-16T18:45:44.471Z"
   },
   {
    "duration": 18,
    "start_time": "2022-01-16T18:45:44.524Z"
   },
   {
    "duration": 20,
    "start_time": "2022-01-16T18:45:44.545Z"
   },
   {
    "duration": 11,
    "start_time": "2022-01-16T18:45:44.568Z"
   },
   {
    "duration": 74,
    "start_time": "2022-01-16T18:45:44.582Z"
   },
   {
    "duration": 12,
    "start_time": "2022-01-16T18:45:44.658Z"
   },
   {
    "duration": 8,
    "start_time": "2022-01-16T18:45:44.672Z"
   },
   {
    "duration": 171,
    "start_time": "2022-01-16T18:45:44.682Z"
   },
   {
    "duration": 42,
    "start_time": "2022-01-16T18:45:44.856Z"
   },
   {
    "duration": 57,
    "start_time": "2022-01-16T18:45:44.903Z"
   },
   {
    "duration": 6,
    "start_time": "2022-01-16T18:45:44.963Z"
   },
   {
    "duration": 1610,
    "start_time": "2022-01-16T18:45:44.971Z"
   },
   {
    "duration": 1481,
    "start_time": "2022-01-16T18:45:46.584Z"
   },
   {
    "duration": 1493,
    "start_time": "2022-01-16T18:45:48.067Z"
   },
   {
    "duration": 815,
    "start_time": "2022-01-16T18:45:49.562Z"
   },
   {
    "duration": 469,
    "start_time": "2022-01-16T18:45:50.379Z"
   },
   {
    "duration": 447,
    "start_time": "2022-01-16T18:45:50.851Z"
   },
   {
    "duration": 444,
    "start_time": "2022-01-16T18:45:51.301Z"
   },
   {
    "duration": 5,
    "start_time": "2022-01-16T18:45:51.748Z"
   },
   {
    "duration": 68,
    "start_time": "2022-01-16T18:45:51.755Z"
   },
   {
    "duration": 1184,
    "start_time": "2022-01-16T18:45:51.825Z"
   },
   {
    "duration": 1225,
    "start_time": "2022-01-16T18:45:53.011Z"
   },
   {
    "duration": 1317,
    "start_time": "2022-01-16T18:45:54.238Z"
   },
   {
    "duration": 7,
    "start_time": "2022-01-16T18:45:55.557Z"
   },
   {
    "duration": 11,
    "start_time": "2022-01-16T18:45:55.566Z"
   },
   {
    "duration": 61,
    "start_time": "2022-01-16T18:45:55.580Z"
   },
   {
    "duration": 6,
    "start_time": "2022-01-16T18:45:55.643Z"
   },
   {
    "duration": 38,
    "start_time": "2022-01-16T18:45:55.651Z"
   },
   {
    "duration": 5,
    "start_time": "2022-01-16T18:45:55.691Z"
   },
   {
    "duration": 120,
    "start_time": "2022-01-16T18:45:55.698Z"
   },
   {
    "duration": -919,
    "start_time": "2022-01-16T18:45:56.740Z"
   },
   {
    "duration": -941,
    "start_time": "2022-01-16T18:45:56.763Z"
   },
   {
    "duration": -949,
    "start_time": "2022-01-16T18:45:56.772Z"
   },
   {
    "duration": -952,
    "start_time": "2022-01-16T18:45:56.777Z"
   },
   {
    "duration": -955,
    "start_time": "2022-01-16T18:45:56.781Z"
   },
   {
    "duration": -962,
    "start_time": "2022-01-16T18:45:56.790Z"
   },
   {
    "duration": -966,
    "start_time": "2022-01-16T18:45:56.795Z"
   },
   {
    "duration": -975,
    "start_time": "2022-01-16T18:45:56.806Z"
   },
   {
    "duration": -980,
    "start_time": "2022-01-16T18:45:56.812Z"
   },
   {
    "duration": 94,
    "start_time": "2022-01-16T18:46:10.956Z"
   },
   {
    "duration": -167,
    "start_time": "2022-01-16T18:46:11.221Z"
   },
   {
    "duration": -173,
    "start_time": "2022-01-16T18:46:11.228Z"
   },
   {
    "duration": -176,
    "start_time": "2022-01-16T18:46:11.233Z"
   },
   {
    "duration": -375,
    "start_time": "2022-01-16T18:46:11.433Z"
   },
   {
    "duration": -378,
    "start_time": "2022-01-16T18:46:11.438Z"
   },
   {
    "duration": -381,
    "start_time": "2022-01-16T18:46:11.442Z"
   },
   {
    "duration": -385,
    "start_time": "2022-01-16T18:46:11.447Z"
   },
   {
    "duration": -388,
    "start_time": "2022-01-16T18:46:11.451Z"
   },
   {
    "duration": -390,
    "start_time": "2022-01-16T18:46:11.455Z"
   },
   {
    "duration": 57,
    "start_time": "2022-01-16T18:47:25.291Z"
   },
   {
    "duration": 7,
    "start_time": "2022-01-16T18:47:27.534Z"
   },
   {
    "duration": 434,
    "start_time": "2022-01-16T18:47:29.406Z"
   },
   {
    "duration": 40289,
    "start_time": "2022-01-16T18:47:34.799Z"
   },
   {
    "duration": 3134,
    "start_time": "2022-01-16T18:48:15.091Z"
   },
   {
    "duration": 18775,
    "start_time": "2022-01-16T18:48:18.228Z"
   },
   {
    "duration": 7163,
    "start_time": "2022-01-16T18:48:37.006Z"
   },
   {
    "duration": 6,
    "start_time": "2022-01-16T18:48:44.172Z"
   },
   {
    "duration": 196,
    "start_time": "2022-01-16T18:48:44.181Z"
   },
   {
    "duration": 42245,
    "start_time": "2022-01-16T18:48:44.381Z"
   },
   {
    "duration": 1698,
    "start_time": "2022-01-16T18:53:59.793Z"
   },
   {
    "duration": 1989,
    "start_time": "2022-01-16T18:54:22.637Z"
   },
   {
    "duration": 1561,
    "start_time": "2022-01-16T18:54:30.689Z"
   },
   {
    "duration": 707,
    "start_time": "2022-01-16T18:55:28.891Z"
   },
   {
    "duration": 740,
    "start_time": "2022-01-16T18:55:50.040Z"
   },
   {
    "duration": 6,
    "start_time": "2022-01-16T18:59:08.420Z"
   },
   {
    "duration": 39,
    "start_time": "2022-01-16T18:59:16.854Z"
   },
   {
    "duration": 7,
    "start_time": "2022-01-16T18:59:18.430Z"
   },
   {
    "duration": 7,
    "start_time": "2022-01-16T18:59:30.625Z"
   },
   {
    "duration": 6,
    "start_time": "2022-01-16T18:59:32.078Z"
   },
   {
    "duration": 9,
    "start_time": "2022-01-16T18:59:33.088Z"
   },
   {
    "duration": 41,
    "start_time": "2022-01-16T18:59:34.917Z"
   },
   {
    "duration": 7,
    "start_time": "2022-01-16T18:59:39.191Z"
   },
   {
    "duration": 43355,
    "start_time": "2022-01-16T18:59:45.540Z"
   },
   {
    "duration": 44154,
    "start_time": "2022-01-16T19:00:58.026Z"
   },
   {
    "duration": 2845,
    "start_time": "2022-01-16T19:01:42.182Z"
   },
   {
    "duration": 18488,
    "start_time": "2022-01-16T19:01:58.719Z"
   },
   {
    "duration": 6866,
    "start_time": "2022-01-16T19:02:20.871Z"
   },
   {
    "duration": 5,
    "start_time": "2022-01-16T19:02:27.740Z"
   },
   {
    "duration": 8554,
    "start_time": "2022-01-16T19:02:31.264Z"
   },
   {
    "duration": 4,
    "start_time": "2022-01-16T19:02:39.824Z"
   },
   {
    "duration": 4,
    "start_time": "2022-01-16T19:02:42.032Z"
   },
   {
    "duration": 1825,
    "start_time": "2022-01-16T19:02:43.344Z"
   },
   {
    "duration": 36586,
    "start_time": "2022-01-16T19:03:18.945Z"
   },
   {
    "duration": 6,
    "start_time": "2022-01-16T19:05:11.102Z"
   },
   {
    "duration": 41,
    "start_time": "2022-01-16T19:05:18.880Z"
   },
   {
    "duration": 7,
    "start_time": "2022-01-16T19:05:20.662Z"
   },
   {
    "duration": 40149,
    "start_time": "2022-01-16T19:05:23.160Z"
   },
   {
    "duration": 2762,
    "start_time": "2022-01-16T19:06:10.469Z"
   },
   {
    "duration": 17951,
    "start_time": "2022-01-16T19:06:13.235Z"
   },
   {
    "duration": 7635,
    "start_time": "2022-01-16T19:06:31.189Z"
   },
   {
    "duration": 5,
    "start_time": "2022-01-16T19:06:38.827Z"
   },
   {
    "duration": 188,
    "start_time": "2022-01-16T19:06:38.835Z"
   },
   {
    "duration": 41606,
    "start_time": "2022-01-16T19:06:39.025Z"
   },
   {
    "duration": 43,
    "start_time": "2022-01-16T19:57:11.908Z"
   },
   {
    "duration": 10,
    "start_time": "2022-01-16T19:57:13.639Z"
   },
   {
    "duration": 42258,
    "start_time": "2022-01-16T19:57:22.650Z"
   },
   {
    "duration": 2721,
    "start_time": "2022-01-16T19:58:04.910Z"
   },
   {
    "duration": 17638,
    "start_time": "2022-01-16T19:58:07.725Z"
   },
   {
    "duration": 7291,
    "start_time": "2022-01-16T19:58:25.366Z"
   },
   {
    "duration": 4,
    "start_time": "2022-01-16T19:58:32.659Z"
   },
   {
    "duration": 193,
    "start_time": "2022-01-16T19:58:32.666Z"
   },
   {
    "duration": 45868,
    "start_time": "2022-01-16T19:58:32.861Z"
   },
   {
    "duration": 6,
    "start_time": "2022-01-16T20:00:25.939Z"
   },
   {
    "duration": 8,
    "start_time": "2022-01-16T20:00:30.038Z"
   },
   {
    "duration": 43997,
    "start_time": "2022-01-16T20:00:35.440Z"
   },
   {
    "duration": 2890,
    "start_time": "2022-01-16T20:01:19.440Z"
   },
   {
    "duration": 18014,
    "start_time": "2022-01-16T20:01:22.334Z"
   },
   {
    "duration": 8818,
    "start_time": "2022-01-16T20:01:40.351Z"
   },
   {
    "duration": 5,
    "start_time": "2022-01-16T20:01:49.172Z"
   },
   {
    "duration": 1758,
    "start_time": "2022-01-16T20:01:49.179Z"
   },
   {
    "duration": 34787,
    "start_time": "2022-01-16T20:01:50.939Z"
   },
   {
    "duration": 5,
    "start_time": "2022-01-16T20:03:09.132Z"
   },
   {
    "duration": 6,
    "start_time": "2022-01-16T20:03:14.407Z"
   },
   {
    "duration": 47,
    "start_time": "2022-01-16T20:03:14.416Z"
   },
   {
    "duration": 7,
    "start_time": "2022-01-16T20:03:14.466Z"
   },
   {
    "duration": 40390,
    "start_time": "2022-01-16T20:03:14.476Z"
   },
   {
    "duration": 3660,
    "start_time": "2022-01-16T20:03:54.869Z"
   },
   {
    "duration": 17680,
    "start_time": "2022-01-16T20:03:58.532Z"
   },
   {
    "duration": 7207,
    "start_time": "2022-01-16T20:04:16.216Z"
   },
   {
    "duration": 4,
    "start_time": "2022-01-16T20:04:23.426Z"
   },
   {
    "duration": 182,
    "start_time": "2022-01-16T20:04:23.432Z"
   },
   {
    "duration": 40606,
    "start_time": "2022-01-16T20:04:23.624Z"
   },
   {
    "duration": 6,
    "start_time": "2022-01-16T20:05:34.372Z"
   },
   {
    "duration": 48,
    "start_time": "2022-01-16T20:05:36.795Z"
   },
   {
    "duration": 7,
    "start_time": "2022-01-16T20:05:38.372Z"
   },
   {
    "duration": 1649,
    "start_time": "2022-01-16T20:06:02.982Z"
   },
   {
    "duration": 1442,
    "start_time": "2022-01-16T20:06:04.634Z"
   },
   {
    "duration": 48,
    "start_time": "2022-01-16T20:06:06.079Z"
   },
   {
    "duration": 398,
    "start_time": "2022-01-16T20:06:06.129Z"
   },
   {
    "duration": 26,
    "start_time": "2022-01-16T20:06:06.530Z"
   },
   {
    "duration": 36,
    "start_time": "2022-01-16T20:06:06.559Z"
   },
   {
    "duration": 214,
    "start_time": "2022-01-16T20:06:06.624Z"
   },
   {
    "duration": 17,
    "start_time": "2022-01-16T20:06:06.842Z"
   },
   {
    "duration": 32,
    "start_time": "2022-01-16T20:06:06.862Z"
   },
   {
    "duration": 388,
    "start_time": "2022-01-16T20:06:06.924Z"
   },
   {
    "duration": 28,
    "start_time": "2022-01-16T20:06:07.315Z"
   },
   {
    "duration": 15,
    "start_time": "2022-01-16T20:06:07.346Z"
   },
   {
    "duration": 6,
    "start_time": "2022-01-16T20:06:07.363Z"
   },
   {
    "duration": 14,
    "start_time": "2022-01-16T20:06:07.371Z"
   },
   {
    "duration": 37,
    "start_time": "2022-01-16T20:06:07.387Z"
   },
   {
    "duration": 6,
    "start_time": "2022-01-16T20:06:07.427Z"
   },
   {
    "duration": 16,
    "start_time": "2022-01-16T20:06:07.435Z"
   },
   {
    "duration": 9,
    "start_time": "2022-01-16T20:06:07.453Z"
   },
   {
    "duration": 59,
    "start_time": "2022-01-16T20:06:07.464Z"
   },
   {
    "duration": 20,
    "start_time": "2022-01-16T20:06:07.526Z"
   },
   {
    "duration": 9,
    "start_time": "2022-01-16T20:06:07.548Z"
   },
   {
    "duration": 67,
    "start_time": "2022-01-16T20:06:07.560Z"
   },
   {
    "duration": 13,
    "start_time": "2022-01-16T20:06:07.632Z"
   },
   {
    "duration": 10,
    "start_time": "2022-01-16T20:06:07.648Z"
   },
   {
    "duration": 173,
    "start_time": "2022-01-16T20:06:07.660Z"
   },
   {
    "duration": 44,
    "start_time": "2022-01-16T20:06:07.835Z"
   },
   {
    "duration": 58,
    "start_time": "2022-01-16T20:06:07.882Z"
   },
   {
    "duration": 5,
    "start_time": "2022-01-16T20:06:07.943Z"
   },
   {
    "duration": 1740,
    "start_time": "2022-01-16T20:06:07.950Z"
   },
   {
    "duration": 1584,
    "start_time": "2022-01-16T20:06:09.693Z"
   },
   {
    "duration": 1592,
    "start_time": "2022-01-16T20:06:11.280Z"
   },
   {
    "duration": 879,
    "start_time": "2022-01-16T20:06:12.875Z"
   },
   {
    "duration": 469,
    "start_time": "2022-01-16T20:06:13.756Z"
   },
   {
    "duration": 448,
    "start_time": "2022-01-16T20:06:14.227Z"
   },
   {
    "duration": 481,
    "start_time": "2022-01-16T20:06:14.677Z"
   },
   {
    "duration": 6,
    "start_time": "2022-01-16T20:06:15.160Z"
   },
   {
    "duration": 73,
    "start_time": "2022-01-16T20:06:15.168Z"
   },
   {
    "duration": 1209,
    "start_time": "2022-01-16T20:06:15.244Z"
   },
   {
    "duration": 1217,
    "start_time": "2022-01-16T20:06:16.455Z"
   },
   {
    "duration": 1375,
    "start_time": "2022-01-16T20:06:17.674Z"
   },
   {
    "duration": 7,
    "start_time": "2022-01-16T20:06:19.051Z"
   },
   {
    "duration": 10,
    "start_time": "2022-01-16T20:06:19.060Z"
   },
   {
    "duration": 65,
    "start_time": "2022-01-16T20:06:19.072Z"
   },
   {
    "duration": 6,
    "start_time": "2022-01-16T20:06:19.139Z"
   },
   {
    "duration": 34,
    "start_time": "2022-01-16T20:06:19.147Z"
   },
   {
    "duration": 6,
    "start_time": "2022-01-16T20:06:19.183Z"
   },
   {
    "duration": 78,
    "start_time": "2022-01-16T20:06:19.192Z"
   },
   {
    "duration": 7,
    "start_time": "2022-01-16T20:06:19.273Z"
   },
   {
    "duration": 44597,
    "start_time": "2022-01-16T20:06:19.283Z"
   },
   {
    "duration": 3757,
    "start_time": "2022-01-16T20:07:03.882Z"
   },
   {
    "duration": 20201,
    "start_time": "2022-01-16T20:07:07.642Z"
   },
   {
    "duration": 8033,
    "start_time": "2022-01-16T20:07:27.846Z"
   },
   {
    "duration": 5,
    "start_time": "2022-01-16T20:07:35.881Z"
   },
   {
    "duration": 200,
    "start_time": "2022-01-16T20:07:35.889Z"
   },
   {
    "duration": 36333,
    "start_time": "2022-01-16T20:07:36.092Z"
   },
   {
    "duration": 6,
    "start_time": "2022-01-16T20:08:12.431Z"
   },
   {
    "duration": 43,
    "start_time": "2022-01-16T20:08:14.287Z"
   },
   {
    "duration": 8,
    "start_time": "2022-01-16T20:08:15.702Z"
   },
   {
    "duration": 41060,
    "start_time": "2022-01-16T20:08:17.112Z"
   },
   {
    "duration": 3255,
    "start_time": "2022-01-16T20:08:58.175Z"
   },
   {
    "duration": 18299,
    "start_time": "2022-01-16T20:09:01.434Z"
   },
   {
    "duration": 7508,
    "start_time": "2022-01-16T20:09:19.735Z"
   },
   {
    "duration": 6,
    "start_time": "2022-01-16T20:09:27.246Z"
   },
   {
    "duration": 192,
    "start_time": "2022-01-16T20:09:27.254Z"
   },
   {
    "duration": 52576,
    "start_time": "2022-01-16T20:09:27.448Z"
   }
  ],
  "kernelspec": {
   "display_name": "Python 3",
   "language": "python",
   "name": "python3"
  },
  "language_info": {
   "codemirror_mode": {
    "name": "ipython",
    "version": 3
   },
   "file_extension": ".py",
   "mimetype": "text/x-python",
   "name": "python",
   "nbconvert_exporter": "python",
   "pygments_lexer": "ipython3",
   "version": "3.7.10"
  },
  "toc": {
   "base_numbering": 1,
   "nav_menu": {},
   "number_sections": true,
   "sideBar": true,
   "skip_h1_title": true,
   "title_cell": "Table of Contents",
   "title_sidebar": "Contents",
   "toc_cell": false,
   "toc_position": {},
   "toc_section_display": true,
   "toc_window_display": false
  }
 },
 "nbformat": 4,
 "nbformat_minor": 2
}
