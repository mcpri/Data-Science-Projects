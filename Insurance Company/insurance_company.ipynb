{
 "cells": [
  {
   "cell_type": "markdown",
   "metadata": {},
   "source": [
    "# Insurance Company"
   ]
  },
  {
   "cell_type": "markdown",
   "metadata": {},
   "source": [
    "## Statement"
   ]
  },
  {
   "cell_type": "markdown",
   "metadata": {},
   "source": [
    "The Sure Tomorrow insurance company wants to solve several tasks with the help of Machine Learning and you are asked to evaluate that possibility.\n",
    "\n",
    "- Task 1: Find customers who are similar to a given customer. This will help the company's agents with marketing.\n",
    "- Task 2: Predict whether a new customer is likely to receive an insurance benefit. Can a prediction model do better than a dummy model?\n",
    "- Task 3: Predict the number of insurance benefits a new customer is likely to receive using a linear regression model.\n",
    "- Task 4: Protect clients' personal data without breaking the model from the previous task. It's necessary to develop a data transformation algorithm that would make it hard to recover personal information if the data fell into the wrong hands. This is called data masking, or data obfuscation. But the data should be protected in such a way that the quality of machine learning models doesn't suffer. You don't need to pick the best model, just prove that the algorithm works correctly."
   ]
  },
  {
   "cell_type": "markdown",
   "metadata": {},
   "source": [
    "## Table of Conents\n",
    "* [Data Preprocessing & Exploration](#data_process)\n",
    "* [Task 1. Similar Customers](#task1)\n",
    "* [Task 2. Is Customer Likely to Receive Insurance Benefit?](#task2)\n",
    "* [Task 3. Regression (with Linear Regression)](#task3)\n",
    "* [Task 4. Obfuscating Data](#task4)\n",
    "* [Conclusion](#con)"
   ]
  },
  {
   "cell_type": "markdown",
   "metadata": {},
   "source": [
    "# Data Preprocessing & Exploration <a class=\"anchor\" id=\"data_process\"></a>\n",
    "\n",
    "## Initialization"
   ]
  },
  {
   "cell_type": "code",
   "execution_count": 1,
   "metadata": {},
   "outputs": [],
   "source": [
    "#pip install scikit-learn --upgrade"
   ]
  },
  {
   "cell_type": "code",
   "execution_count": 2,
   "metadata": {},
   "outputs": [],
   "source": [
    "import numpy as np\n",
    "import pandas as pd\n",
    "\n",
    "import seaborn as sns\n",
    "import matplotlib.pyplot as plt\n",
    "import math\n",
    "\n",
    "import sklearn.linear_model\n",
    "import sklearn.metrics\n",
    "import sklearn.neighbors\n",
    "import sklearn.preprocessing\n",
    "\n",
    "from sklearn.preprocessing import MaxAbsScaler\n",
    "from sklearn.preprocessing import StandardScaler\n",
    "from sklearn.dummy import DummyClassifier\n",
    "from sklearn.metrics import confusion_matrix\n",
    "\n",
    "from sklearn.model_selection import train_test_split\n",
    "from sklearn.neighbors import NearestNeighbors\n",
    "\n",
    "from IPython.display import display\n",
    "import warnings\n",
    "\n",
    "warnings.filterwarnings(\"ignore\")"
   ]
  },
  {
   "cell_type": "markdown",
   "metadata": {},
   "source": [
    "## Load Data"
   ]
  },
  {
   "cell_type": "markdown",
   "metadata": {},
   "source": [
    "Load data and conduct a basic check that it's free from obvious issues."
   ]
  },
  {
   "cell_type": "code",
   "execution_count": 3,
   "metadata": {},
   "outputs": [],
   "source": [
    "df = pd.read_csv('/datasets/insurance_us.csv')"
   ]
  },
  {
   "cell_type": "markdown",
   "metadata": {},
   "source": [
    "We rename the colums to make the code look more consistent with its style."
   ]
  },
  {
   "cell_type": "code",
   "execution_count": 4,
   "metadata": {},
   "outputs": [],
   "source": [
    "df = df.rename(columns={'Gender': 'gender', 'Age': 'age', 'Salary': 'income', 'Family members': 'family_members', 'Insurance benefits': 'insurance_benefits'})"
   ]
  },
  {
   "cell_type": "code",
   "execution_count": 5,
   "metadata": {},
   "outputs": [
    {
     "data": {
      "text/html": [
       "<div>\n",
       "<style scoped>\n",
       "    .dataframe tbody tr th:only-of-type {\n",
       "        vertical-align: middle;\n",
       "    }\n",
       "\n",
       "    .dataframe tbody tr th {\n",
       "        vertical-align: top;\n",
       "    }\n",
       "\n",
       "    .dataframe thead th {\n",
       "        text-align: right;\n",
       "    }\n",
       "</style>\n",
       "<table border=\"1\" class=\"dataframe\">\n",
       "  <thead>\n",
       "    <tr style=\"text-align: right;\">\n",
       "      <th></th>\n",
       "      <th>gender</th>\n",
       "      <th>age</th>\n",
       "      <th>income</th>\n",
       "      <th>family_members</th>\n",
       "      <th>insurance_benefits</th>\n",
       "    </tr>\n",
       "  </thead>\n",
       "  <tbody>\n",
       "    <tr>\n",
       "      <td>1240</td>\n",
       "      <td>1</td>\n",
       "      <td>32.0</td>\n",
       "      <td>24200.0</td>\n",
       "      <td>1</td>\n",
       "      <td>0</td>\n",
       "    </tr>\n",
       "    <tr>\n",
       "      <td>2230</td>\n",
       "      <td>1</td>\n",
       "      <td>31.0</td>\n",
       "      <td>35400.0</td>\n",
       "      <td>2</td>\n",
       "      <td>0</td>\n",
       "    </tr>\n",
       "    <tr>\n",
       "      <td>2510</td>\n",
       "      <td>1</td>\n",
       "      <td>33.0</td>\n",
       "      <td>23800.0</td>\n",
       "      <td>1</td>\n",
       "      <td>0</td>\n",
       "    </tr>\n",
       "    <tr>\n",
       "      <td>95</td>\n",
       "      <td>1</td>\n",
       "      <td>52.0</td>\n",
       "      <td>31100.0</td>\n",
       "      <td>0</td>\n",
       "      <td>2</td>\n",
       "    </tr>\n",
       "    <tr>\n",
       "      <td>3232</td>\n",
       "      <td>0</td>\n",
       "      <td>41.0</td>\n",
       "      <td>24100.0</td>\n",
       "      <td>5</td>\n",
       "      <td>0</td>\n",
       "    </tr>\n",
       "    <tr>\n",
       "      <td>4226</td>\n",
       "      <td>1</td>\n",
       "      <td>23.0</td>\n",
       "      <td>37700.0</td>\n",
       "      <td>2</td>\n",
       "      <td>0</td>\n",
       "    </tr>\n",
       "    <tr>\n",
       "      <td>3926</td>\n",
       "      <td>0</td>\n",
       "      <td>38.0</td>\n",
       "      <td>40400.0</td>\n",
       "      <td>0</td>\n",
       "      <td>0</td>\n",
       "    </tr>\n",
       "    <tr>\n",
       "      <td>3675</td>\n",
       "      <td>1</td>\n",
       "      <td>35.0</td>\n",
       "      <td>46200.0</td>\n",
       "      <td>1</td>\n",
       "      <td>0</td>\n",
       "    </tr>\n",
       "    <tr>\n",
       "      <td>4394</td>\n",
       "      <td>0</td>\n",
       "      <td>38.0</td>\n",
       "      <td>36800.0</td>\n",
       "      <td>1</td>\n",
       "      <td>0</td>\n",
       "    </tr>\n",
       "    <tr>\n",
       "      <td>1263</td>\n",
       "      <td>0</td>\n",
       "      <td>44.0</td>\n",
       "      <td>48100.0</td>\n",
       "      <td>0</td>\n",
       "      <td>1</td>\n",
       "    </tr>\n",
       "  </tbody>\n",
       "</table>\n",
       "</div>"
      ],
      "text/plain": [
       "      gender   age   income  family_members  insurance_benefits\n",
       "1240       1  32.0  24200.0               1                   0\n",
       "2230       1  31.0  35400.0               2                   0\n",
       "2510       1  33.0  23800.0               1                   0\n",
       "95         1  52.0  31100.0               0                   2\n",
       "3232       0  41.0  24100.0               5                   0\n",
       "4226       1  23.0  37700.0               2                   0\n",
       "3926       0  38.0  40400.0               0                   0\n",
       "3675       1  35.0  46200.0               1                   0\n",
       "4394       0  38.0  36800.0               1                   0\n",
       "1263       0  44.0  48100.0               0                   1"
      ]
     },
     "execution_count": 5,
     "metadata": {},
     "output_type": "execute_result"
    }
   ],
   "source": [
    "df.sample(10)"
   ]
  },
  {
   "cell_type": "code",
   "execution_count": 6,
   "metadata": {},
   "outputs": [
    {
     "name": "stdout",
     "output_type": "stream",
     "text": [
      "<class 'pandas.core.frame.DataFrame'>\n",
      "RangeIndex: 5000 entries, 0 to 4999\n",
      "Data columns (total 5 columns):\n",
      "gender                5000 non-null int64\n",
      "age                   5000 non-null float64\n",
      "income                5000 non-null float64\n",
      "family_members        5000 non-null int64\n",
      "insurance_benefits    5000 non-null int64\n",
      "dtypes: float64(2), int64(3)\n",
      "memory usage: 195.4 KB\n"
     ]
    }
   ],
   "source": [
    "df.info()"
   ]
  },
  {
   "cell_type": "code",
   "execution_count": 7,
   "metadata": {},
   "outputs": [],
   "source": [
    "# we may want to fix the age type (from float to int) though this is not critical\n",
    "# write your conversion here if you choose:\n",
    "\n",
    "df['age'] = df['age'].astype(int)"
   ]
  },
  {
   "cell_type": "code",
   "execution_count": 8,
   "metadata": {},
   "outputs": [
    {
     "name": "stdout",
     "output_type": "stream",
     "text": [
      "<class 'pandas.core.frame.DataFrame'>\n",
      "RangeIndex: 5000 entries, 0 to 4999\n",
      "Data columns (total 5 columns):\n",
      "gender                5000 non-null int64\n",
      "age                   5000 non-null int64\n",
      "income                5000 non-null float64\n",
      "family_members        5000 non-null int64\n",
      "insurance_benefits    5000 non-null int64\n",
      "dtypes: float64(1), int64(4)\n",
      "memory usage: 195.4 KB\n"
     ]
    }
   ],
   "source": [
    "# check to see that the conversion was successful\n",
    "df.info()"
   ]
  },
  {
   "cell_type": "code",
   "execution_count": 9,
   "metadata": {},
   "outputs": [
    {
     "data": {
      "text/html": [
       "<div>\n",
       "<style scoped>\n",
       "    .dataframe tbody tr th:only-of-type {\n",
       "        vertical-align: middle;\n",
       "    }\n",
       "\n",
       "    .dataframe tbody tr th {\n",
       "        vertical-align: top;\n",
       "    }\n",
       "\n",
       "    .dataframe thead th {\n",
       "        text-align: right;\n",
       "    }\n",
       "</style>\n",
       "<table border=\"1\" class=\"dataframe\">\n",
       "  <thead>\n",
       "    <tr style=\"text-align: right;\">\n",
       "      <th></th>\n",
       "      <th>gender</th>\n",
       "      <th>age</th>\n",
       "      <th>income</th>\n",
       "      <th>family_members</th>\n",
       "      <th>insurance_benefits</th>\n",
       "    </tr>\n",
       "  </thead>\n",
       "  <tbody>\n",
       "    <tr>\n",
       "      <td>count</td>\n",
       "      <td>5000.000000</td>\n",
       "      <td>5000.000000</td>\n",
       "      <td>5000.000000</td>\n",
       "      <td>5000.000000</td>\n",
       "      <td>5000.000000</td>\n",
       "    </tr>\n",
       "    <tr>\n",
       "      <td>mean</td>\n",
       "      <td>0.499000</td>\n",
       "      <td>30.952800</td>\n",
       "      <td>39916.360000</td>\n",
       "      <td>1.194200</td>\n",
       "      <td>0.148000</td>\n",
       "    </tr>\n",
       "    <tr>\n",
       "      <td>std</td>\n",
       "      <td>0.500049</td>\n",
       "      <td>8.440807</td>\n",
       "      <td>9900.083569</td>\n",
       "      <td>1.091387</td>\n",
       "      <td>0.463183</td>\n",
       "    </tr>\n",
       "    <tr>\n",
       "      <td>min</td>\n",
       "      <td>0.000000</td>\n",
       "      <td>18.000000</td>\n",
       "      <td>5300.000000</td>\n",
       "      <td>0.000000</td>\n",
       "      <td>0.000000</td>\n",
       "    </tr>\n",
       "    <tr>\n",
       "      <td>25%</td>\n",
       "      <td>0.000000</td>\n",
       "      <td>24.000000</td>\n",
       "      <td>33300.000000</td>\n",
       "      <td>0.000000</td>\n",
       "      <td>0.000000</td>\n",
       "    </tr>\n",
       "    <tr>\n",
       "      <td>50%</td>\n",
       "      <td>0.000000</td>\n",
       "      <td>30.000000</td>\n",
       "      <td>40200.000000</td>\n",
       "      <td>1.000000</td>\n",
       "      <td>0.000000</td>\n",
       "    </tr>\n",
       "    <tr>\n",
       "      <td>75%</td>\n",
       "      <td>1.000000</td>\n",
       "      <td>37.000000</td>\n",
       "      <td>46600.000000</td>\n",
       "      <td>2.000000</td>\n",
       "      <td>0.000000</td>\n",
       "    </tr>\n",
       "    <tr>\n",
       "      <td>max</td>\n",
       "      <td>1.000000</td>\n",
       "      <td>65.000000</td>\n",
       "      <td>79000.000000</td>\n",
       "      <td>6.000000</td>\n",
       "      <td>5.000000</td>\n",
       "    </tr>\n",
       "  </tbody>\n",
       "</table>\n",
       "</div>"
      ],
      "text/plain": [
       "            gender          age        income  family_members  \\\n",
       "count  5000.000000  5000.000000   5000.000000     5000.000000   \n",
       "mean      0.499000    30.952800  39916.360000        1.194200   \n",
       "std       0.500049     8.440807   9900.083569        1.091387   \n",
       "min       0.000000    18.000000   5300.000000        0.000000   \n",
       "25%       0.000000    24.000000  33300.000000        0.000000   \n",
       "50%       0.000000    30.000000  40200.000000        1.000000   \n",
       "75%       1.000000    37.000000  46600.000000        2.000000   \n",
       "max       1.000000    65.000000  79000.000000        6.000000   \n",
       "\n",
       "       insurance_benefits  \n",
       "count         5000.000000  \n",
       "mean             0.148000  \n",
       "std              0.463183  \n",
       "min              0.000000  \n",
       "25%              0.000000  \n",
       "50%              0.000000  \n",
       "75%              0.000000  \n",
       "max              5.000000  "
      ]
     },
     "execution_count": 9,
     "metadata": {},
     "output_type": "execute_result"
    }
   ],
   "source": [
    "# now have a look at the data's descriptive statistics. \n",
    "# Does everything look okay?\n",
    "df.describe()"
   ]
  },
  {
   "cell_type": "markdown",
   "metadata": {},
   "source": [
    "Eveything looks fine. We can see that median is greater theb the mean for all columns excpet for insurance_benefits which has higher mean then median."
   ]
  },
  {
   "cell_type": "code",
   "execution_count": 10,
   "metadata": {},
   "outputs": [
    {
     "data": {
      "text/plain": [
       "gender                0\n",
       "age                   0\n",
       "income                0\n",
       "family_members        0\n",
       "insurance_benefits    0\n",
       "dtype: int64"
      ]
     },
     "execution_count": 10,
     "metadata": {},
     "output_type": "execute_result"
    }
   ],
   "source": [
    "df.isnull().sum()"
   ]
  },
  {
   "cell_type": "code",
   "execution_count": 11,
   "metadata": {},
   "outputs": [
    {
     "data": {
      "text/plain": [
       "153"
      ]
     },
     "execution_count": 11,
     "metadata": {},
     "output_type": "execute_result"
    }
   ],
   "source": [
    "# checking for duplicates\n",
    "df.duplicated().sum()"
   ]
  },
  {
   "cell_type": "markdown",
   "metadata": {},
   "source": [
    "We do have duplicates present, but it is not nessary to remove them for this task. Everything else looks ok with the data set and there are no missing values and all the data type are correct. "
   ]
  },
  {
   "cell_type": "markdown",
   "metadata": {},
   "source": [
    "## EDA"
   ]
  },
  {
   "cell_type": "markdown",
   "metadata": {},
   "source": [
    "Let's quickly check whether there are certain groups of customers by looking at the pair plot."
   ]
  },
  {
   "cell_type": "code",
   "execution_count": 12,
   "metadata": {},
   "outputs": [
    {
     "data": {
      "image/png": "[encoded data removed]",
      "text/plain": [
       "<Figure size 864x864 with 30 Axes>"
      ]
     },
     "metadata": {
      "needs_background": "light"
     },
     "output_type": "display_data"
    }
   ],
   "source": [
    "g = sns.pairplot(df, kind='hist')\n",
    "g.fig.set_size_inches(12, 12)"
   ]
  },
  {
   "cell_type": "markdown",
   "metadata": {},
   "source": [
    "Ok, it is a bit difficult to spot obvious groups (clusters) as it is difficult to combine several variables simultaneously (to analyze multivariate distributions). That's where LA and ML can be quite handy."
   ]
  },
  {
   "cell_type": "markdown",
   "metadata": {},
   "source": [
    "# Task 1. Similar Customers<a class=\"anchor\" id=\"task1\"></a>"
   ]
  },
  {
   "cell_type": "markdown",
   "metadata": {},
   "source": [
    "In the language of ML, it is necessary to develop a procedure that returns k nearest neighbors (objects) for a given object based on the distance between the objects.\n",
    "\n",
    "You may want to review the following lessons (chapter -> lesson)\n",
    "- Distance Between Vectors -> Euclidean Distance\n",
    "- Distance Between Vectors -> Manhattan Distance\n",
    "\n",
    "To solve the task, we can try different distance metrics."
   ]
  },
  {
   "cell_type": "markdown",
   "metadata": {},
   "source": [
    "Write a function that returns k nearest neighbors for an $n^{th}$ object based on a specified distance metric. The number of received insurance benefits should not be taken into account for this task. \n",
    "\n",
    "You can use a ready implementation of the kNN algorithm from scikit-learn (check [the link](https://scikit-learn.org/stable/modules/generated/sklearn.neighbors.NearestNeighbors.html#sklearn.neighbors.NearestNeighbors)) or use your own.\n",
    "\n",
    "Test it for four combination of two cases\n",
    "- Scaling\n",
    "  - the data is not scaled\n",
    "  - the data is scaled with the [MaxAbsScaler](https://scikit-learn.org/stable/modules/generated/sklearn.preprocessing.MaxAbsScaler.html) scaler\n",
    "- Distance Metrics\n",
    "  - Euclidean\n",
    "  - Manhattan\n",
    "\n",
    "Answer these questions:\n",
    "- Does the data being not scaled affect the kNN algorithm? If so, how does that appear?\n",
    "- How similar are the results using the Manhattan distance metric (regardless of the scaling)?"
   ]
  },
  {
   "cell_type": "code",
   "execution_count": 13,
   "metadata": {},
   "outputs": [],
   "source": [
    "feature_names = ['gender', 'age', 'income', 'family_members']"
   ]
  },
  {
   "cell_type": "code",
   "execution_count": 14,
   "metadata": {},
   "outputs": [],
   "source": [
    "def get_knn(df, n, k, metric):\n",
    "    \n",
    "    \"\"\"\n",
    "    Returns k nearest neighbors\n",
    "\n",
    "    :param df: pandas DataFrame used to find similar objects within\n",
    "    :param n: object no for which the nearest neighbours are looked for\n",
    "    :param k: the number of the nearest neighbours to return\n",
    "    :param metric: name of distance metric\n",
    "    \"\"\"\n",
    "# <your code here> \n",
    "    nbrs = sklearn.neighbors.NearestNeighbors(n_neighbors=k, metric=metric) \n",
    "    nbrs.fit(df[feature_names].values)\n",
    "    nbrs_distances, nbrs_indices = nbrs.kneighbors(df.iloc[n][feature_names].values.reshape(1, -1), k, return_distance=True)\n",
    "\n",
    "    df_res = pd.concat([\n",
    "        df.iloc[nbrs_indices[0]], \n",
    "        pd.DataFrame(nbrs_distances.T, index=nbrs_indices[0], columns=['distance'])\n",
    "        ], axis=1)\n",
    "    \n",
    "    return df_res"
   ]
  },
  {
   "cell_type": "markdown",
   "metadata": {},
   "source": [
    "Scaling the data."
   ]
  },
  {
   "cell_type": "code",
   "execution_count": 15,
   "metadata": {},
   "outputs": [],
   "source": [
    "feature_names = ['gender', 'age', 'income', 'family_members']\n",
    "\n",
    "transformer_mas = sklearn.preprocessing.MaxAbsScaler().fit(df[feature_names].to_numpy())\n",
    "\n",
    "df_scaled = df.copy()\n",
    "df_scaled.loc[:, feature_names] = transformer_mas.transform(df[feature_names].to_numpy())"
   ]
  },
  {
   "cell_type": "code",
   "execution_count": 16,
   "metadata": {},
   "outputs": [
    {
     "data": {
      "text/html": [
       "<div>\n",
       "<style scoped>\n",
       "    .dataframe tbody tr th:only-of-type {\n",
       "        vertical-align: middle;\n",
       "    }\n",
       "\n",
       "    .dataframe tbody tr th {\n",
       "        vertical-align: top;\n",
       "    }\n",
       "\n",
       "    .dataframe thead th {\n",
       "        text-align: right;\n",
       "    }\n",
       "</style>\n",
       "<table border=\"1\" class=\"dataframe\">\n",
       "  <thead>\n",
       "    <tr style=\"text-align: right;\">\n",
       "      <th></th>\n",
       "      <th>gender</th>\n",
       "      <th>age</th>\n",
       "      <th>income</th>\n",
       "      <th>family_members</th>\n",
       "      <th>insurance_benefits</th>\n",
       "    </tr>\n",
       "  </thead>\n",
       "  <tbody>\n",
       "    <tr>\n",
       "      <td>315</td>\n",
       "      <td>0.0</td>\n",
       "      <td>0.523077</td>\n",
       "      <td>0.506329</td>\n",
       "      <td>0.166667</td>\n",
       "      <td>0</td>\n",
       "    </tr>\n",
       "    <tr>\n",
       "      <td>109</td>\n",
       "      <td>1.0</td>\n",
       "      <td>0.307692</td>\n",
       "      <td>0.564557</td>\n",
       "      <td>0.166667</td>\n",
       "      <td>0</td>\n",
       "    </tr>\n",
       "    <tr>\n",
       "      <td>4429</td>\n",
       "      <td>0.0</td>\n",
       "      <td>0.569231</td>\n",
       "      <td>0.613924</td>\n",
       "      <td>0.166667</td>\n",
       "      <td>0</td>\n",
       "    </tr>\n",
       "    <tr>\n",
       "      <td>3240</td>\n",
       "      <td>0.0</td>\n",
       "      <td>0.384615</td>\n",
       "      <td>0.400000</td>\n",
       "      <td>0.000000</td>\n",
       "      <td>0</td>\n",
       "    </tr>\n",
       "    <tr>\n",
       "      <td>3197</td>\n",
       "      <td>0.0</td>\n",
       "      <td>0.584615</td>\n",
       "      <td>0.355696</td>\n",
       "      <td>0.000000</td>\n",
       "      <td>0</td>\n",
       "    </tr>\n",
       "  </tbody>\n",
       "</table>\n",
       "</div>"
      ],
      "text/plain": [
       "      gender       age    income  family_members  insurance_benefits\n",
       "315      0.0  0.523077  0.506329        0.166667                   0\n",
       "109      1.0  0.307692  0.564557        0.166667                   0\n",
       "4429     0.0  0.569231  0.613924        0.166667                   0\n",
       "3240     0.0  0.384615  0.400000        0.000000                   0\n",
       "3197     0.0  0.584615  0.355696        0.000000                   0"
      ]
     },
     "execution_count": 16,
     "metadata": {},
     "output_type": "execute_result"
    }
   ],
   "source": [
    "df_scaled.sample(5)"
   ]
  },
  {
   "cell_type": "markdown",
   "metadata": {},
   "source": [
    "Now, let's get similar records for a given one for every combination"
   ]
  },
  {
   "cell_type": "code",
   "execution_count": 17,
   "metadata": {},
   "outputs": [
    {
     "data": {
      "text/html": [
       "<div>\n",
       "<style scoped>\n",
       "    .dataframe tbody tr th:only-of-type {\n",
       "        vertical-align: middle;\n",
       "    }\n",
       "\n",
       "    .dataframe tbody tr th {\n",
       "        vertical-align: top;\n",
       "    }\n",
       "\n",
       "    .dataframe thead th {\n",
       "        text-align: right;\n",
       "    }\n",
       "</style>\n",
       "<table border=\"1\" class=\"dataframe\">\n",
       "  <thead>\n",
       "    <tr style=\"text-align: right;\">\n",
       "      <th></th>\n",
       "      <th>gender</th>\n",
       "      <th>age</th>\n",
       "      <th>income</th>\n",
       "      <th>family_members</th>\n",
       "      <th>distance</th>\n",
       "    </tr>\n",
       "  </thead>\n",
       "  <tbody>\n",
       "    <tr>\n",
       "      <td>0</td>\n",
       "      <td>1</td>\n",
       "      <td>41</td>\n",
       "      <td>49600.0</td>\n",
       "      <td>1</td>\n",
       "      <td>0.000000</td>\n",
       "    </tr>\n",
       "    <tr>\n",
       "      <td>2022</td>\n",
       "      <td>1</td>\n",
       "      <td>41</td>\n",
       "      <td>49600.0</td>\n",
       "      <td>0</td>\n",
       "      <td>1.000000</td>\n",
       "    </tr>\n",
       "    <tr>\n",
       "      <td>1225</td>\n",
       "      <td>0</td>\n",
       "      <td>42</td>\n",
       "      <td>49600.0</td>\n",
       "      <td>0</td>\n",
       "      <td>1.732051</td>\n",
       "    </tr>\n",
       "    <tr>\n",
       "      <td>4031</td>\n",
       "      <td>1</td>\n",
       "      <td>44</td>\n",
       "      <td>49600.0</td>\n",
       "      <td>2</td>\n",
       "      <td>3.162278</td>\n",
       "    </tr>\n",
       "    <tr>\n",
       "      <td>3424</td>\n",
       "      <td>0</td>\n",
       "      <td>38</td>\n",
       "      <td>49600.0</td>\n",
       "      <td>0</td>\n",
       "      <td>3.316625</td>\n",
       "    </tr>\n",
       "  </tbody>\n",
       "</table>\n",
       "</div>"
      ],
      "text/plain": [
       "      gender  age   income  family_members  distance\n",
       "0          1   41  49600.0               1  0.000000\n",
       "2022       1   41  49600.0               0  1.000000\n",
       "1225       0   42  49600.0               0  1.732051\n",
       "4031       1   44  49600.0               2  3.162278\n",
       "3424       0   38  49600.0               0  3.316625"
      ]
     },
     "execution_count": 17,
     "metadata": {},
     "output_type": "execute_result"
    }
   ],
   "source": [
    "# euclidean distance with uscaled data\n",
    "get_knn(df[feature_names], 0, 5, 'euclidean')"
   ]
  },
  {
   "cell_type": "code",
   "execution_count": 18,
   "metadata": {},
   "outputs": [
    {
     "data": {
      "text/html": [
       "<div>\n",
       "<style scoped>\n",
       "    .dataframe tbody tr th:only-of-type {\n",
       "        vertical-align: middle;\n",
       "    }\n",
       "\n",
       "    .dataframe tbody tr th {\n",
       "        vertical-align: top;\n",
       "    }\n",
       "\n",
       "    .dataframe thead th {\n",
       "        text-align: right;\n",
       "    }\n",
       "</style>\n",
       "<table border=\"1\" class=\"dataframe\">\n",
       "  <thead>\n",
       "    <tr style=\"text-align: right;\">\n",
       "      <th></th>\n",
       "      <th>gender</th>\n",
       "      <th>age</th>\n",
       "      <th>income</th>\n",
       "      <th>family_members</th>\n",
       "      <th>distance</th>\n",
       "    </tr>\n",
       "  </thead>\n",
       "  <tbody>\n",
       "    <tr>\n",
       "      <td>0</td>\n",
       "      <td>1.0</td>\n",
       "      <td>0.630769</td>\n",
       "      <td>0.627848</td>\n",
       "      <td>0.166667</td>\n",
       "      <td>0.000000</td>\n",
       "    </tr>\n",
       "    <tr>\n",
       "      <td>2689</td>\n",
       "      <td>1.0</td>\n",
       "      <td>0.630769</td>\n",
       "      <td>0.634177</td>\n",
       "      <td>0.166667</td>\n",
       "      <td>0.006329</td>\n",
       "    </tr>\n",
       "    <tr>\n",
       "      <td>133</td>\n",
       "      <td>1.0</td>\n",
       "      <td>0.615385</td>\n",
       "      <td>0.636709</td>\n",
       "      <td>0.166667</td>\n",
       "      <td>0.017754</td>\n",
       "    </tr>\n",
       "    <tr>\n",
       "      <td>4869</td>\n",
       "      <td>1.0</td>\n",
       "      <td>0.646154</td>\n",
       "      <td>0.637975</td>\n",
       "      <td>0.166667</td>\n",
       "      <td>0.018418</td>\n",
       "    </tr>\n",
       "    <tr>\n",
       "      <td>3275</td>\n",
       "      <td>1.0</td>\n",
       "      <td>0.646154</td>\n",
       "      <td>0.651899</td>\n",
       "      <td>0.166667</td>\n",
       "      <td>0.028550</td>\n",
       "    </tr>\n",
       "  </tbody>\n",
       "</table>\n",
       "</div>"
      ],
      "text/plain": [
       "      gender       age    income  family_members  distance\n",
       "0        1.0  0.630769  0.627848        0.166667  0.000000\n",
       "2689     1.0  0.630769  0.634177        0.166667  0.006329\n",
       "133      1.0  0.615385  0.636709        0.166667  0.017754\n",
       "4869     1.0  0.646154  0.637975        0.166667  0.018418\n",
       "3275     1.0  0.646154  0.651899        0.166667  0.028550"
      ]
     },
     "execution_count": 18,
     "metadata": {},
     "output_type": "execute_result"
    }
   ],
   "source": [
    "# euclidean distance with scaled data\n",
    "#df.fillna(0)\n",
    "get_knn(df_scaled[feature_names], 0, 5, 'euclidean')"
   ]
  },
  {
   "cell_type": "code",
   "execution_count": 19,
   "metadata": {},
   "outputs": [
    {
     "data": {
      "text/html": [
       "<div>\n",
       "<style scoped>\n",
       "    .dataframe tbody tr th:only-of-type {\n",
       "        vertical-align: middle;\n",
       "    }\n",
       "\n",
       "    .dataframe tbody tr th {\n",
       "        vertical-align: top;\n",
       "    }\n",
       "\n",
       "    .dataframe thead th {\n",
       "        text-align: right;\n",
       "    }\n",
       "</style>\n",
       "<table border=\"1\" class=\"dataframe\">\n",
       "  <thead>\n",
       "    <tr style=\"text-align: right;\">\n",
       "      <th></th>\n",
       "      <th>gender</th>\n",
       "      <th>age</th>\n",
       "      <th>income</th>\n",
       "      <th>family_members</th>\n",
       "      <th>distance</th>\n",
       "    </tr>\n",
       "  </thead>\n",
       "  <tbody>\n",
       "    <tr>\n",
       "      <td>0</td>\n",
       "      <td>1</td>\n",
       "      <td>41</td>\n",
       "      <td>49600.0</td>\n",
       "      <td>1</td>\n",
       "      <td>0.0</td>\n",
       "    </tr>\n",
       "    <tr>\n",
       "      <td>2022</td>\n",
       "      <td>1</td>\n",
       "      <td>41</td>\n",
       "      <td>49600.0</td>\n",
       "      <td>0</td>\n",
       "      <td>1.0</td>\n",
       "    </tr>\n",
       "    <tr>\n",
       "      <td>1225</td>\n",
       "      <td>0</td>\n",
       "      <td>42</td>\n",
       "      <td>49600.0</td>\n",
       "      <td>0</td>\n",
       "      <td>3.0</td>\n",
       "    </tr>\n",
       "    <tr>\n",
       "      <td>4031</td>\n",
       "      <td>1</td>\n",
       "      <td>44</td>\n",
       "      <td>49600.0</td>\n",
       "      <td>2</td>\n",
       "      <td>4.0</td>\n",
       "    </tr>\n",
       "    <tr>\n",
       "      <td>3424</td>\n",
       "      <td>0</td>\n",
       "      <td>38</td>\n",
       "      <td>49600.0</td>\n",
       "      <td>0</td>\n",
       "      <td>5.0</td>\n",
       "    </tr>\n",
       "  </tbody>\n",
       "</table>\n",
       "</div>"
      ],
      "text/plain": [
       "      gender  age   income  family_members  distance\n",
       "0          1   41  49600.0               1       0.0\n",
       "2022       1   41  49600.0               0       1.0\n",
       "1225       0   42  49600.0               0       3.0\n",
       "4031       1   44  49600.0               2       4.0\n",
       "3424       0   38  49600.0               0       5.0"
      ]
     },
     "execution_count": 19,
     "metadata": {},
     "output_type": "execute_result"
    }
   ],
   "source": [
    "#manhattan distance with unscaled data\n",
    "get_knn(df[feature_names], 0, 5, 'manhattan')"
   ]
  },
  {
   "cell_type": "code",
   "execution_count": 20,
   "metadata": {},
   "outputs": [
    {
     "data": {
      "text/html": [
       "<div>\n",
       "<style scoped>\n",
       "    .dataframe tbody tr th:only-of-type {\n",
       "        vertical-align: middle;\n",
       "    }\n",
       "\n",
       "    .dataframe tbody tr th {\n",
       "        vertical-align: top;\n",
       "    }\n",
       "\n",
       "    .dataframe thead th {\n",
       "        text-align: right;\n",
       "    }\n",
       "</style>\n",
       "<table border=\"1\" class=\"dataframe\">\n",
       "  <thead>\n",
       "    <tr style=\"text-align: right;\">\n",
       "      <th></th>\n",
       "      <th>gender</th>\n",
       "      <th>age</th>\n",
       "      <th>income</th>\n",
       "      <th>family_members</th>\n",
       "      <th>distance</th>\n",
       "    </tr>\n",
       "  </thead>\n",
       "  <tbody>\n",
       "    <tr>\n",
       "      <td>0</td>\n",
       "      <td>1.0</td>\n",
       "      <td>0.630769</td>\n",
       "      <td>0.627848</td>\n",
       "      <td>0.166667</td>\n",
       "      <td>0.000000</td>\n",
       "    </tr>\n",
       "    <tr>\n",
       "      <td>2689</td>\n",
       "      <td>1.0</td>\n",
       "      <td>0.630769</td>\n",
       "      <td>0.634177</td>\n",
       "      <td>0.166667</td>\n",
       "      <td>0.006329</td>\n",
       "    </tr>\n",
       "    <tr>\n",
       "      <td>133</td>\n",
       "      <td>1.0</td>\n",
       "      <td>0.615385</td>\n",
       "      <td>0.636709</td>\n",
       "      <td>0.166667</td>\n",
       "      <td>0.024245</td>\n",
       "    </tr>\n",
       "    <tr>\n",
       "      <td>4869</td>\n",
       "      <td>1.0</td>\n",
       "      <td>0.646154</td>\n",
       "      <td>0.637975</td>\n",
       "      <td>0.166667</td>\n",
       "      <td>0.025511</td>\n",
       "    </tr>\n",
       "    <tr>\n",
       "      <td>3365</td>\n",
       "      <td>1.0</td>\n",
       "      <td>0.630769</td>\n",
       "      <td>0.596203</td>\n",
       "      <td>0.166667</td>\n",
       "      <td>0.031646</td>\n",
       "    </tr>\n",
       "  </tbody>\n",
       "</table>\n",
       "</div>"
      ],
      "text/plain": [
       "      gender       age    income  family_members  distance\n",
       "0        1.0  0.630769  0.627848        0.166667  0.000000\n",
       "2689     1.0  0.630769  0.634177        0.166667  0.006329\n",
       "133      1.0  0.615385  0.636709        0.166667  0.024245\n",
       "4869     1.0  0.646154  0.637975        0.166667  0.025511\n",
       "3365     1.0  0.630769  0.596203        0.166667  0.031646"
      ]
     },
     "execution_count": 20,
     "metadata": {},
     "output_type": "execute_result"
    }
   ],
   "source": [
    "# manhattan distance with scaled data\n",
    "get_knn(df_scaled[feature_names], 0, 5, 'manhattan')"
   ]
  },
  {
   "cell_type": "markdown",
   "metadata": {},
   "source": [
    "Answers to the questions"
   ]
  },
  {
   "cell_type": "markdown",
   "metadata": {},
   "source": [
    "**Does the data being not scaled affect the kNN algorithm? If so, how does that appear?** \n",
    "\n",
    "KNN data that is not scaled affect the kNN algorithm since the KNN is distance bassed algorithm which is imporves from rescalling the features. In addition, for this task we can see that the distance column for unscaled data had showed more importance to a bigger distance and has had larger values. While the sclaed data had a more smaller values interval. The reason why data is affected and this imbalance occures in the unscaled manhattan and euclidan distance alagorithm is because its affected by the magnitude. The algorithm should not be biased towards variables with higher magnitude. To overcome this problem, we can bring down all the variables to the same scale."
   ]
  },
  {
   "cell_type": "markdown",
   "metadata": {},
   "source": [
    "**How similar are the results using the Manhattan distance metric (regardless of the scaling)?** \n",
    "\n",
    "The results differ from each other and differ with scaling."
   ]
  },
  {
   "cell_type": "markdown",
   "metadata": {},
   "source": [
    "# Task 2. Is Customer Likely to Receive Insurance Benefit?<a class=\"anchor\" id=\"task2\"></a>"
   ]
  },
  {
   "cell_type": "markdown",
   "metadata": {},
   "source": [
    "In terms of machine learning we can look at this like a binary classification task."
   ]
  },
  {
   "cell_type": "markdown",
   "metadata": {},
   "source": [
    "With `insurance_benefits` being more than zero as the target, evaluate whether the kNN classification approach can do better than a dummy model.\n",
    "\n",
    "Instructions:\n",
    "- Build a KNN-based classifier and measure its quality with the F1 metric for k=1..10 for both the original data and the scaled one. That'd be interesting to see how k may influece the evaluation metric, and whether scaling the data makes any difference. You can use a ready implemention of the kNN classification algorithm from scikit-learn (check [the link](https://scikit-learn.org/stable/modules/generated/sklearn.neighbors.KNeighborsClassifier.html)) or use your own.\n",
    "- Build the dummy model which is just random for this case. It should return \"1\" with some probability. Let's test the model with four probability values: 0, the probability of paying any insurance benefit, 0.5, 1.\n",
    "\n",
    "The probability of paying any insurance benefit can be defined as\n",
    "\n",
    "$$\n",
    "P\\{\\text{insurance benefit received}\\}=\\frac{\\text{number of clients received any insurance benefit}}{\\text{total number of clients}}.\n",
    "$$\n",
    "\n",
    "Split the whole data in the 70:30 proportion for the training/testing parts."
   ]
  },
  {
   "cell_type": "code",
   "execution_count": 21,
   "metadata": {},
   "outputs": [],
   "source": [
    "# calculate the target\n",
    "df['insurance_benefits_received'] = (df['insurance_benefits'] > 0).astype(int)\n",
    "df_scaled['insurance_benefits_received'] = (df_scaled['insurance_benefits'] > 0).astype(int)#<your code here>"
   ]
  },
  {
   "cell_type": "code",
   "execution_count": 22,
   "metadata": {},
   "outputs": [
    {
     "data": {
      "text/plain": [
       "0    4436\n",
       "1     564\n",
       "Name: insurance_benefits_received, dtype: int64"
      ]
     },
     "execution_count": 22,
     "metadata": {},
     "output_type": "execute_result"
    }
   ],
   "source": [
    "# check for the class imbalance with value_counts()\n",
    "\n",
    "# <your code here>\n",
    "df['insurance_benefits_received'].value_counts()"
   ]
  },
  {
   "cell_type": "code",
   "execution_count": 23,
   "metadata": {},
   "outputs": [
    {
     "name": "stdout",
     "output_type": "stream",
     "text": [
      "(3500, 4) (3500,)\n",
      "(1500, 4) (1500,)\n"
     ]
    }
   ],
   "source": [
    "features = df.drop(['insurance_benefits_received', 'insurance_benefits'], axis=1)\n",
    "target = df['insurance_benefits_received']\n",
    "features_train, features_test, target_train, target_test = train_test_split(features, target, test_size = 0.3, random_state=12345)\n",
    "print(features_train.shape, target_train.shape)\n",
    "print(features_test.shape, target_test.shape)"
   ]
  },
  {
   "cell_type": "code",
   "execution_count": 24,
   "metadata": {},
   "outputs": [],
   "source": [
    "#Scaling data\n",
    "scaler = StandardScaler()\n",
    "scaler.fit(features_train)\n",
    "train_scaled = scaler.transform(features_train)\n",
    "test_scaled = scaler.transform(features_test)"
   ]
  },
  {
   "cell_type": "code",
   "execution_count": 25,
   "metadata": {},
   "outputs": [],
   "source": [
    "def eval_classifier(y_true, y_pred):\n",
    "    \n",
    "    f1_score = sklearn.metrics.f1_score(y_true, y_pred)\n",
    "    print(f'F1: {f1_score:.2f}')\n",
    "    \n",
    "# if you have an issue with the following line, restart the kernel and run the notebook again\n",
    "    cm = sklearn.metrics.confusion_matrix(y_true, y_pred) #, normalize='all'\n",
    "    print('Confusion Matrix')\n",
    "    print(cm)"
   ]
  },
  {
   "cell_type": "code",
   "execution_count": 26,
   "metadata": {},
   "outputs": [],
   "source": [
    "# generating output of a random model\n",
    "\n",
    "def rnd_model_predict(P, size, seed=42):\n",
    "\n",
    "    rng = np.random.default_rng(seed=seed)\n",
    "    return rng.binomial(n=1, p=P, size=size)"
   ]
  },
  {
   "cell_type": "code",
   "execution_count": 27,
   "metadata": {},
   "outputs": [
    {
     "name": "stdout",
     "output_type": "stream",
     "text": [
      "The probability: 0.00\n",
      "F1: 0.00\n",
      "Confusion Matrix\n",
      "[[4436    0]\n",
      " [ 564    0]]\n",
      "\n",
      "The probability: 0.11\n",
      "F1: 0.12\n",
      "Confusion Matrix\n",
      "[[3957  479]\n",
      " [ 497   67]]\n",
      "\n",
      "The probability: 0.50\n",
      "F1: 0.20\n",
      "Confusion Matrix\n",
      "[[2280 2156]\n",
      " [ 265  299]]\n",
      "\n",
      "The probability: 1.00\n",
      "F1: 0.20\n",
      "Confusion Matrix\n",
      "[[   0 4436]\n",
      " [   0  564]]\n",
      "\n"
     ]
    }
   ],
   "source": [
    "for P in [0, df['insurance_benefits_received'].sum() / len(df), 0.5, 1]:\n",
    "\n",
    "    print(f'The probability: {P:.2f}')\n",
    "    y_pred_rnd = rnd_model_predict(P, target.shape[0])# <your code here> \n",
    "        \n",
    "    eval_classifier(df['insurance_benefits_received'], y_pred_rnd)\n",
    "    \n",
    "    print()"
   ]
  },
  {
   "cell_type": "code",
   "execution_count": 28,
   "metadata": {},
   "outputs": [],
   "source": [
    "#dummy model\n",
    "\n",
    "class MyClassifier():\n",
    "    \n",
    "    def __init__(self, n_neighbors, metric , threshold):\n",
    "        self.n_neighbors = n_neighbors\n",
    "        self.metric = metric\n",
    "        self.threshold = threshold\n",
    "        self.model = NearestNeighbors(n_neighbors = n_neighbors, metric=metric)\n",
    "        \n",
    "        \n",
    "    def fit(self, X, y):\n",
    "        self.features = X\n",
    "        self.target = y\n",
    "\n",
    "        self.model.fit(self.features)\n",
    "    \n",
    "    def change_num_neighbors(self, new_n_neighbors):\n",
    "        self.model.set_params(n_neighbors = new_n_neighbors)\n",
    "    \n",
    "    def predict(self, X):\n",
    "        nbrs_distances, nbrs_indices = self.model.kneighbors(X, self.n_neighbors, return_distance=True)\n",
    "        probabilities = []\n",
    "        for elem in nbrs_indices:\n",
    "            probability = self.target.iloc[elem].mean()\n",
    "        probabilities.append(probability)\n",
    "        return (np.array(probability) >= self.threshold).astype(int)\n",
    "\n"
   ]
  },
  {
   "cell_type": "code",
   "execution_count": 29,
   "metadata": {},
   "outputs": [
    {
     "data": {
      "text/plain": [
       "0"
      ]
     },
     "execution_count": 29,
     "metadata": {},
     "output_type": "execute_result"
    }
   ],
   "source": [
    "classifier = MyClassifier(n_neighbors=5, metric='manhattan', threshold=0.5)\n",
    "classifier.fit(features_train, target_train)\n",
    "classifier.predict(features_test)"
   ]
  },
  {
   "cell_type": "code",
   "execution_count": 30,
   "metadata": {},
   "outputs": [
    {
     "name": "stdout",
     "output_type": "stream",
     "text": [
      "N_neighbors: 1, F1: 0.61\n",
      "N_neighbors: 2, F1: 0.41\n",
      "N_neighbors: 3, F1: 0.41\n",
      "N_neighbors: 4, F1: 0.28\n",
      "N_neighbors: 5, F1: 0.27\n",
      "N_neighbors: 6, F1: 0.11\n",
      "N_neighbors: 7, F1: 0.11\n",
      "N_neighbors: 8, F1: 0.07\n",
      "N_neighbors: 9, F1: 0.08\n",
      "N_neighbors: 10, F1: 0.00\n"
     ]
    }
   ],
   "source": [
    "# kNN classifier with unscaled data\n",
    "unscaled_f1 = []\n",
    "for k in range(1,11):\n",
    "    knnc = sklearn.neighbors.KNeighborsClassifier(n_neighbors=k)\n",
    "    knnc.fit(features_train, target_train)\n",
    "    knnc_pred = knnc.predict(features_test)\n",
    "    f1_score = sklearn.metrics.f1_score(target_test, knnc_pred)\n",
    "    unscaled_f1.append(f1_score)\n",
    "    print(f'N_neighbors: {k}, F1: {f1_score:.2f}')"
   ]
  },
  {
   "cell_type": "markdown",
   "metadata": {},
   "source": [
    "Best n_neighbors is 1 with a F1 score of 0.61."
   ]
  },
  {
   "cell_type": "code",
   "execution_count": 31,
   "metadata": {},
   "outputs": [
    {
     "name": "stdout",
     "output_type": "stream",
     "text": [
      "N_neighbors: 1, F1: 0.96\n",
      "N_neighbors: 2, F1: 0.93\n",
      "N_neighbors: 3, F1: 0.94\n",
      "N_neighbors: 4, F1: 0.90\n",
      "N_neighbors: 5, F1: 0.92\n",
      "N_neighbors: 6, F1: 0.91\n",
      "N_neighbors: 7, F1: 0.93\n",
      "N_neighbors: 8, F1: 0.91\n",
      "N_neighbors: 9, F1: 0.92\n",
      "N_neighbors: 10, F1: 0.89\n"
     ]
    }
   ],
   "source": [
    "# kNN classifier with scaled data\n",
    "scaled_f1 = []\n",
    "for k in range(1,11):\n",
    "    knnc = sklearn.neighbors.KNeighborsClassifier(n_neighbors=k)\n",
    "    knnc.fit(train_scaled, target_train)\n",
    "    knnc_pred = knnc.predict(test_scaled)\n",
    "    f1_score = sklearn.metrics.f1_score(target_test, knnc_pred)\n",
    "    scaled_f1.append(f1_score)\n",
    "    print(f'N_neighbors: {k}, F1: {f1_score:.2f}')"
   ]
  },
  {
   "cell_type": "markdown",
   "metadata": {},
   "source": [
    "The best N_neighbors is 1 with F1 score of 0.96."
   ]
  },
  {
   "cell_type": "code",
   "execution_count": 32,
   "metadata": {},
   "outputs": [
    {
     "data": {
      "image/png": "[encoded data removed]",
      "text/plain": [
       "<Figure size 864x432 with 1 Axes>"
      ]
     },
     "metadata": {
      "needs_background": "light"
     },
     "output_type": "display_data"
    }
   ],
   "source": [
    "# Plot the results \n",
    "plt.figure(figsize=(12,6))\n",
    "plt.plot(scaled_f1, label = \"Unscaled F1\")\n",
    "plt.plot(unscaled_f1, label = 'Scaled F1')\n",
    "plt.xlabel('# of Nearest Neighbors (k)')\n",
    "plt.ylabel('F1 Score (%)')\n",
    "plt.legend()\n",
    "plt.show()"
   ]
  },
  {
   "cell_type": "markdown",
   "metadata": {},
   "source": [
    "# Task 3. Regression (with Linear Regression)<a class=\"anchor\" id=\"task3\"></a>"
   ]
  },
  {
   "cell_type": "markdown",
   "metadata": {},
   "source": [
    "With `insurance_benefits` as the target, evaluate what RMSE would be for a Linear Regression model."
   ]
  },
  {
   "cell_type": "markdown",
   "metadata": {},
   "source": [
    "Build your own implementation of LR. For that, recall how the linear regression task's solution is formulated in terms of LA. Check RMSE for both the original data and the scaled one. Can you see any difference in RMSE between these two cases?\n",
    "\n",
    "Let's denote\n",
    "- $X$ — feature matrix, each row is a case, each column is a feature, the first column consists of unities\n",
    "- $y$ — target (a vector)\n",
    "- $\\hat{y}$ — estimated tagret (a vector)\n",
    "- $w$ — weight vector\n",
    "\n",
    "The task of linear regression in the language of matrices can be formulated as\n",
    "\n",
    "$$\n",
    "y = Xw\n",
    "$$\n",
    "\n",
    "The training objective then is to find such $w$ that it would minimize the L2-distance (MSE) between $Xw$ and $y$:\n",
    "\n",
    "$$\n",
    "\\min_w d_2(Xw, y) \\quad \\text{or} \\quad \\min_w \\text{MSE}(Xw, y)\n",
    "$$\n",
    "\n",
    "It appears that there is analytical solution for the above:\n",
    "\n",
    "$$\n",
    "w = (X^T X)^{-1} X^T y\n",
    "$$\n",
    "\n",
    "The formula above can be used to find the weights $w$ and the latter can be used to calculate predicted values\n",
    "\n",
    "$$\n",
    "\\hat{y} = X_{val}w\n",
    "$$"
   ]
  },
  {
   "cell_type": "markdown",
   "metadata": {},
   "source": [
    "Split the whole data in the 70:30 proportion for the training/validation parts. Use the RMSE metric for the model evaluation."
   ]
  },
  {
   "cell_type": "code",
   "execution_count": 33,
   "metadata": {},
   "outputs": [],
   "source": [
    "#Creating a class of LinearRegression.\n",
    "\n",
    "class MyLinearRegression:\n",
    "    \n",
    "    def __init__(self):\n",
    "        self.weights = None\n",
    "    \n",
    "    def fit(self, X, y):\n",
    "        # adding the unities\n",
    "        X2 = np.append(np.ones([len(X), 1]), X, axis=1)\n",
    "        weights = np.linalg.inv(X2.T.dot(X2)).dot(X2.T).dot(y)# <your code here>\n",
    "        self.weights = weights[1:]\n",
    "        self.bias = weights[0]\n",
    "\n",
    "    def predict(self, X):\n",
    "        # adding the unities\n",
    "        X2 = np.append(np.ones([len(X), 1]), X, axis=1)# <your code here>\n",
    "        y_pred = X.dot(self.weights) + self.bias# <your code here>\n",
    "        return y_pred\n"
   ]
  },
  {
   "cell_type": "code",
   "execution_count": 34,
   "metadata": {},
   "outputs": [],
   "source": [
    "def eval_regressor(y_true, y_pred):\n",
    "    \n",
    "    rmse = math.sqrt(sklearn.metrics.mean_squared_error(y_true, y_pred))\n",
    "    print(f'RMSE: {rmse:.2f}')\n",
    "    \n",
    "    r2_score = math.sqrt(sklearn.metrics.r2_score(y_true, y_pred))\n",
    "    print(f'R2: {r2_score:.2f}')    "
   ]
  },
  {
   "cell_type": "code",
   "execution_count": 35,
   "metadata": {},
   "outputs": [
    {
     "name": "stdout",
     "output_type": "stream",
     "text": [
      "[ 3.57495491e-02  1.64272726e-02 -2.60743659e-07 -1.16902127e-02]\n",
      "RMSE: 0.34\n",
      "R2: 0.66\n"
     ]
    }
   ],
   "source": [
    "X = df[['age', 'gender', 'income', 'family_members']].to_numpy()\n",
    "y = df['insurance_benefits'].to_numpy()\n",
    "\n",
    "X_train, X_test, y_train, y_test = train_test_split(X, y, test_size=0.3, random_state=12345)\n",
    "\n",
    "lr = MyLinearRegression()\n",
    "\n",
    "lr.fit(X_train, y_train)\n",
    "print(lr.weights)\n",
    "\n",
    "y_test_pred = lr.predict(X_test)\n",
    "eval_regressor(y_test, y_test_pred)"
   ]
  },
  {
   "cell_type": "code",
   "execution_count": 36,
   "metadata": {},
   "outputs": [
    {
     "name": "stdout",
     "output_type": "stream",
     "text": [
      "[ 2.32372069  0.01642727 -0.02059875 -0.07014128]\n",
      "RMSE: 0.34\n",
      "R2: 0.66\n"
     ]
    }
   ],
   "source": [
    "#scaled\n",
    "X_s = df_scaled[['age', 'gender', 'income', 'family_members']].to_numpy()\n",
    "y_s = df_scaled['insurance_benefits'].to_numpy()\n",
    "\n",
    "X_train_scal, X_test_scal, y_train_scal, y_test_scal = train_test_split(X_s, y_s, test_size=0.3, random_state=12345)\n",
    "\n",
    "lr = MyLinearRegression()\n",
    "\n",
    "lr.fit(X_train_scal, y_train_scal)\n",
    "print(lr.weights)\n",
    "\n",
    "y_test_pred = lr.predict(X_test_scal)\n",
    "eval_regressor(y_test_scal, y_test_pred)"
   ]
  },
  {
   "cell_type": "markdown",
   "metadata": {},
   "source": [
    "There is no difference in the matrix for scaled and unscaled data. We can see that for both scaled and unscaled data our RMSE and R2 scores are the same and the predictions of the models are the same. The only difference is the weight of the model and it is easier to interpret the scaled weights than unscaled weights."
   ]
  },
  {
   "cell_type": "markdown",
   "metadata": {},
   "source": [
    "# Task 4. Obfuscating Data<a class=\"anchor\" id=\"task4\"></a>"
   ]
  },
  {
   "cell_type": "markdown",
   "metadata": {},
   "source": [
    "It best to obfuscate data by multiplying the numerical features (remember, they can be seen as the matrix $X$) by an invertible matrix $P$. \n",
    "\n",
    "$$\n",
    "X' = X \\times P\n",
    "$$\n",
    "\n",
    "Try to do that and check how the features' values will look like after the transformation. By the way, the intertible property is important here so make sure that $P$ is indeed invertible.\n",
    "\n",
    "You may want to review the 'Matrices and Matrix Operations -> Matrix Multiplication' lesson to recall the rule of matrix multiplication and its implementation with NumPy."
   ]
  },
  {
   "cell_type": "code",
   "execution_count": 37,
   "metadata": {},
   "outputs": [],
   "source": [
    "personal_info_column_list = ['gender', 'age', 'income', 'family_members']\n",
    "df_pn = df[personal_info_column_list]"
   ]
  },
  {
   "cell_type": "code",
   "execution_count": 38,
   "metadata": {},
   "outputs": [],
   "source": [
    "X = df_pn.to_numpy()"
   ]
  },
  {
   "cell_type": "markdown",
   "metadata": {},
   "source": [
    "Generating a random matrix $P$."
   ]
  },
  {
   "cell_type": "code",
   "execution_count": 39,
   "metadata": {},
   "outputs": [],
   "source": [
    "rng = np.random.default_rng(seed=42)\n",
    "P = rng.random(size=(X.shape[1], X.shape[1]))"
   ]
  },
  {
   "cell_type": "markdown",
   "metadata": {},
   "source": [
    "Checking the matrix $P$ is invertible"
   ]
  },
  {
   "cell_type": "code",
   "execution_count": 41,
   "metadata": {},
   "outputs": [
    {
     "data": {
      "text/plain": [
       "array([[ 0.41467992, -1.43783972,  0.62798546,  1.14001268],\n",
       "       [-1.06101789,  0.44219337,  0.1329549 ,  1.18425933],\n",
       "       [ 1.42362442,  1.60461607, -2.0553823 , -1.53699695],\n",
       "       [-0.11128575, -0.65813802,  1.74995517, -0.11816316]])"
      ]
     },
     "execution_count": 41,
     "metadata": {},
     "output_type": "execute_result"
    }
   ],
   "source": [
    "np.linalg.inv(P)"
   ]
  },
  {
   "cell_type": "markdown",
   "metadata": {},
   "source": [
    "The inverse of P exists. "
   ]
  },
  {
   "cell_type": "markdown",
   "metadata": {},
   "source": [
    "Can you guess the customers' ages or income after the transformation?"
   ]
  },
  {
   "cell_type": "code",
   "execution_count": 46,
   "metadata": {},
   "outputs": [
    {
     "data": {
      "text/plain": [
       "array([[ 6359.71527314, 22380.40467609, 18424.09074184, 46000.69669016],\n",
       "       [ 4873.29406479, 17160.36702982, 14125.78076133, 35253.45577301],\n",
       "       [ 2693.11742928,  9486.397744  ,  7808.83156024, 19484.86063067],\n",
       "       ...,\n",
       "       [ 4346.2234249 , 15289.24126492, 12586.16264392, 31433.50888552],\n",
       "       [ 4194.09324155, 14751.9910242 , 12144.02930637, 30323.88763426],\n",
       "       [ 5205.46827354, 18314.24814446, 15077.01370762, 37649.59295455]])"
      ]
     },
     "execution_count": 46,
     "metadata": {},
     "output_type": "execute_result"
    }
   ],
   "source": [
    "# obfuscating data\n",
    "X1 = np.dot(X,P)\n",
    "X1"
   ]
  },
  {
   "cell_type": "markdown",
   "metadata": {},
   "source": [
    "Can you recover the original data from $X'$ if you know $P$? Try to check that with calculations by moving $P$ from the right side of the formula above to the left one. The rules of matrix multiplcation are really helpful here."
   ]
  },
  {
   "cell_type": "code",
   "execution_count": 47,
   "metadata": {},
   "outputs": [
    {
     "data": {
      "text/plain": [
       "array([[ 1.00000000e+00,  4.10000000e+01,  4.96000000e+04,\n",
       "         1.00000000e+00],\n",
       "       [ 1.67952800e-12,  4.60000000e+01,  3.80000000e+04,\n",
       "         1.00000000e+00],\n",
       "       [-6.23021448e-13,  2.90000000e+01,  2.10000000e+04,\n",
       "        -2.03032656e-13],\n",
       "       ...,\n",
       "       [ 1.57996161e-12,  2.00000000e+01,  3.39000000e+04,\n",
       "         2.00000000e+00],\n",
       "       [ 1.00000000e+00,  2.20000000e+01,  3.27000000e+04,\n",
       "         3.00000000e+00],\n",
       "       [ 1.00000000e+00,  2.80000000e+01,  4.06000000e+04,\n",
       "         1.00000000e+00]])"
      ]
     },
     "execution_count": 47,
     "metadata": {},
     "output_type": "execute_result"
    }
   ],
   "source": [
    "new_x1 = X1.dot(np.linalg.inv(P))\n",
    "new_x1"
   ]
  },
  {
   "cell_type": "markdown",
   "metadata": {},
   "source": [
    "Print all three cases for a few customers\n",
    "- The original data\n",
    "- The transformed one\n",
    "- The reversed (recovered) one"
   ]
  },
  {
   "cell_type": "code",
   "execution_count": 49,
   "metadata": {},
   "outputs": [
    {
     "name": "stdout",
     "output_type": "stream",
     "text": [
      "Original data\n",
      "[[1.00e+00 4.10e+01 4.96e+04 1.00e+00]\n",
      " [0.00e+00 4.60e+01 3.80e+04 1.00e+00]\n",
      " [0.00e+00 2.90e+01 2.10e+04 0.00e+00]\n",
      " [0.00e+00 2.10e+01 4.17e+04 2.00e+00]]\n",
      "\n",
      "Transformed data\n",
      "[[ 6359.71527314 22380.40467609 18424.09074184 46000.69669016]\n",
      " [ 4873.29406479 17160.36702982 14125.78076133 35253.45577301]\n",
      " [ 2693.11742928  9486.397744    7808.83156024 19484.86063067]\n",
      " [ 5345.60393712 18803.22720286 15479.14837264 38663.06186284]]\n",
      "\n",
      "Reversed (recovered) data\n",
      "[[ 1.00000000e+00  4.10000000e+01  4.96000000e+04  1.00000000e+00]\n",
      " [ 1.67952800e-12  4.60000000e+01  3.80000000e+04  1.00000000e+00]\n",
      " [-6.23021448e-13  2.90000000e+01  2.10000000e+04 -2.03032656e-13]\n",
      " [-1.08907770e-12  2.10000000e+01  4.17000000e+04  2.00000000e+00]]\n"
     ]
    }
   ],
   "source": [
    "print('Original data')\n",
    "print(X[:4])\n",
    "print()\n",
    "print('Transformed data')\n",
    "print(X1[:4])\n",
    "print()\n",
    "print('Reversed (recovered) data')\n",
    "print(new_x1[:4])"
   ]
  },
  {
   "cell_type": "markdown",
   "metadata": {},
   "source": [
    "You can probably see that some values are not exactly the same as they are in the original data. What might be the reason for that?"
   ]
  },
  {
   "cell_type": "markdown",
   "metadata": {},
   "source": [
    "The reason why some values are not exactly the same in the orginal data is because of the limitations of floating point arithmetic."
   ]
  },
  {
   "cell_type": "markdown",
   "metadata": {},
   "source": [
    "## Proof That Data Obfuscation Can Work with LR"
   ]
  },
  {
   "cell_type": "markdown",
   "metadata": {},
   "source": [
    "The regression task has been solved with linear regression in this project. Your next task is to prove _analytically_ that the given obfuscation method won't affect linear regression in terms of predicted values i.e. their values will remain the same. Can you believe that? Well, you don't have to, you should prove it!"
   ]
  },
  {
   "cell_type": "markdown",
   "metadata": {},
   "source": [
    "So, the data is obfuscated and there is $X \\times P$ instead of just $X$ now. Consequently, there are other weights $w_P$ as\n",
    "$$\n",
    "w = (X^T X)^{-1} X^T y \\quad \\Rightarrow \\quad w_P = [(XP)^T XP]^{-1} (XP)^T y\n",
    "$$\n",
    "\n",
    "How would $w$ and $w_P$ be linked if you simplify the formula for $w_P$ above? \n",
    "\n",
    "What would be predicted values with $w_P$? \n",
    "\n",
    "What does that mean for the quality of linear regression if you measure it with RMSE?\n",
    "\n",
    "Check Appendix B Properties of Matrices in the end of the notebook. There are useful formulas in there!\n",
    "\n",
    "No code is necessary in this section, only analytical explanation!"
   ]
  },
  {
   "cell_type": "markdown",
   "metadata": {},
   "source": [
    "**Answer**"
   ]
  },
  {
   "cell_type": "markdown",
   "metadata": {},
   "source": [
    "The predicted values of wP are going to be the same values of w multiplied for the matrice P. By doing so the quality of the Linear Regression will remain the same and return the same results RMSE. This means that the algorithm can perform the task with the same root squared error and reobtain the real data from obfuscated predictions."
   ]
  },
  {
   "cell_type": "markdown",
   "metadata": {},
   "source": [
    "**Analytical proof**"
   ]
  },
  {
   "cell_type": "markdown",
   "metadata": {},
   "source": [
    "Given $$ w_P = [(XP)^T XP]^{-1} (XP)^T y $$\n",
    "\n",
    " Use transpose property $$ 1: w_P = [X^TP^T XP]^{-1} X^TP^Ty $$\n",
    "\n",
    "Rearrage matrix $$  2: w_P = [P^T (X^TX) P]^{-1} X^TP^Ty $$\n",
    "\n",
    "Rearrage matrix by bringing inverse in $$  3: w_P = P^{-1} (X^TX) (P^T)^{-1} P^TX^Ty $$\n",
    "\n",
    "Apply identity matrix for $(P^T)^{-1} * P^T = I$ $$  4: w_P = P^-1 (X^TX) IX^Ty $$\n",
    "\n",
    "Multiplicative identity property $X^T * I = X^T$   $$  5: w_P = P^{-1} (X^TX) X^Ty $$\n",
    "Subsitution of w = $(X^TX)^{-1} X^Ty $    $$  6: w_P = P^{-1}w$$"
   ]
  },
  {
   "cell_type": "markdown",
   "metadata": {},
   "source": [
    "Prediction with $wp$:\n",
    "\n",
    "Given $y = Xw$ which is  similar to $ 1: y' = X'wp$\n",
    "\n",
    "So, $X' = XP$ and $ wp = P^{-1}w$\n",
    "\n",
    "$y' = XP * P^{-1}w = XIw$\n",
    "\n",
    "Therefore,\n",
    "$y' = Xw = y$\n"
   ]
  },
  {
   "cell_type": "markdown",
   "metadata": {},
   "source": [
    "Matrix Properties which were used in Linear Algebra"
   ]
  },
  {
   "cell_type": "markdown",
   "metadata": {},
   "source": [
    "<table>\n",
    "<tr>\n",
    "<td>Distributivity</td><td>$A(B+C)=AB+AC$</td>\n",
    "</tr>\n",
    "<tr>\n",
    "<td>Non-commutativity</td><td>$AB \\neq BA$</td>\n",
    "</tr>\n",
    "<tr>\n",
    "<td>Associative property of multiplication</td><td>$(AB)C = A(BC)$</td>\n",
    "</tr>\n",
    "<tr>\n",
    "<td>Multiplicative identity property</td><td>$IA = AI = A$</td>\n",
    "</tr>\n",
    "<tr>\n",
    "<td></td><td>$A^{-1}A = AA^{-1} = I$\n",
    "</td>\n",
    "</tr>    \n",
    "<tr>\n",
    "<td></td><td>$(AB)^{-1} = B^{-1}A^{-1}$</td>\n",
    "</tr>    \n",
    "<tr>\n",
    "<td>Reversivity of the transpose of a product of matrices,</td><td>$(AB)^T = B^TA^T$</td>\n",
    "</tr>    \n",
    "</table>"
   ]
  },
  {
   "cell_type": "markdown",
   "metadata": {},
   "source": [
    "## Test Linear Regression With Data Obfuscation"
   ]
  },
  {
   "cell_type": "markdown",
   "metadata": {},
   "source": [
    "Now, let's prove Linear Regression can work computationally with the chosen obfuscation transformation.\n",
    "\n",
    "Build a procedure or a class that runs Linear Regression optionally with the obfuscation. You can use either a ready implementation of Linear Regression from sciki-learn or your own.\n",
    "\n",
    "Run Linear Regression for the original data and the obfuscated one, compare the predicted values and the RMSE, $R^2$ metric values. Is there any difference?"
   ]
  },
  {
   "cell_type": "markdown",
   "metadata": {},
   "source": [
    "**Procedure**\n",
    "\n",
    "- Create a square matrix $P$ of random numbers.\n",
    "- Check that it is invertible. If not, repeat the first point until we get an invertible matrix.\n",
    "- <! your comment here !>\n",
    "- Use $XP$ as the new feature matrix"
   ]
  },
  {
   "cell_type": "code",
   "execution_count": 52,
   "metadata": {},
   "outputs": [
    {
     "data": {
      "text/plain": [
       "array([[0.77395605, 0.43887844, 0.85859792, 0.69736803],\n",
       "       [0.09417735, 0.97562235, 0.7611397 , 0.78606431],\n",
       "       [0.12811363, 0.45038594, 0.37079802, 0.92676499],\n",
       "       [0.64386512, 0.82276161, 0.4434142 , 0.22723872]])"
      ]
     },
     "execution_count": 52,
     "metadata": {},
     "output_type": "execute_result"
    }
   ],
   "source": [
    "# square matrix P of random numbers\n",
    "rng = np.random.default_rng(seed=42)\n",
    "P = rng.random(size=(X.shape[1], X.shape[1]))\n",
    "P"
   ]
  },
  {
   "cell_type": "code",
   "execution_count": 53,
   "metadata": {},
   "outputs": [
    {
     "data": {
      "text/plain": [
       "array([[ 0.41467992, -1.43783972,  0.62798546,  1.14001268],\n",
       "       [-1.06101789,  0.44219337,  0.1329549 ,  1.18425933],\n",
       "       [ 1.42362442,  1.60461607, -2.0553823 , -1.53699695],\n",
       "       [-0.11128575, -0.65813802,  1.74995517, -0.11816316]])"
      ]
     },
     "execution_count": 53,
     "metadata": {},
     "output_type": "execute_result"
    }
   ],
   "source": [
    "# P is invertible\n",
    "np.linalg.inv(P)"
   ]
  },
  {
   "cell_type": "code",
   "execution_count": 55,
   "metadata": {},
   "outputs": [
    {
     "name": "stdout",
     "output_type": "stream",
     "text": [
      "[ 1.64272726e-02  3.57495491e-02 -2.60743659e-07 -1.16902127e-02]\n",
      "RMSE: 0.34\n",
      "R2: 0.66\n"
     ]
    }
   ],
   "source": [
    "# linear regression on orginal data set\n",
    "personal_info_column_list = ['gender', 'age', 'income', 'family_members']\n",
    "df_pn = df[personal_info_column_list]\n",
    "# features\n",
    "X = df_pn.to_numpy()\n",
    "\n",
    "# target\n",
    "y = df[\"insurance_benefits\"].to_numpy()\n",
    "X_train, X_test, y_train, y_test = train_test_split(X, y, test_size=0.3, random_state=12345)\n",
    "\n",
    "lr = MyLinearRegression()\n",
    "lr.fit(X_train, y_train)\n",
    "print(lr.weights)\n",
    "test_pred = lr.predict(X_test)\n",
    "eval_regressor(y_test, test_pred)"
   ]
  },
  {
   "cell_type": "code",
   "execution_count": 57,
   "metadata": {},
   "outputs": [
    {
     "name": "stdout",
     "output_type": "stream",
     "text": [
      "[-0.05791721 -0.01546567  0.09871889 -0.02397536]\n",
      "RMSE: 0.34\n",
      "R2: 0.66\n"
     ]
    }
   ],
   "source": [
    "# linear regression with Obfuscation\n",
    "X1 = np.dot(X,P)\n",
    "\n",
    "X_train_obs, X_test_obs, y_train_obs, y_test_obs = train_test_split(X1, y, test_size=0.3, random_state=12345)\n",
    "\n",
    "lr = MyLinearRegression()\n",
    "lr.fit(X_train_obs, y_train_obs)\n",
    "print(lr.weights)\n",
    "y_test_pred = lr.predict(X_test_obs)\n",
    "eval_regressor(y_test_obs, y_test_pred)"
   ]
  },
  {
   "cell_type": "markdown",
   "metadata": {},
   "source": [
    "The RMSE and R2 are the same for Obfuscation and the original data set. It was shown mathematically that they should be the same."
   ]
  },
  {
   "cell_type": "markdown",
   "metadata": {},
   "source": [
    "# Conclusion<a class=\"anchor\" id=\"con\"></a>"
   ]
  },
  {
   "cell_type": "markdown",
   "metadata": {},
   "source": [
    "For this project, there have been 4 primary tasks done.\n",
    "\n",
    "In Task 1 we did data pre-processing and scaling our data. From the data cleaning, we found there were no missing values but there were duplicates found. In addition, we wrote a function that returns k nearest neighbors for an  𝑛𝑡ℎ object based on a specified distance metric. These specified metrics were euclidian and manhattan. From this function, we were able to see if scaling affects the kNN algorithm, and it does since the magnitude affects the metric and for these distance algorithms scaling is an important task that will help the data.\n",
    "\n",
    "In Task 2 we did some more evaluations on whether the kNN classification approach can do better than a dummy model. We implemented a dummy model and kNN classifier which measured its quality with the F1 metric for k=1 to 10 for both the original data and the scaled one. \n",
    "\n",
    "With Task 3 we used a linear regression model to evaluate 2 different metrics. The first is the Root mean squared error (RMSE) and R2 score, which perform predictions on scaled and unscaled data. By doing this we found that there is not any different and the RMSE for scaled and unscaled data. The results for both calculated was 0.34 and the R2 score was 66% for both.\n",
    "\n",
    "In Task 4 we implemented data masking, or data obfuscation by proving that the algorithm works correctly. The analytical proof was to see if the transformation does not affect RMSE. In addition, we implemented a test in Linear Regression with our Obfuscation data to compare the predicted values and the RMSE,  𝑅2  metric values. We found that there are no differences between the values since they are very close and the same."
   ]
  }
 ],
 "metadata": {
  "ExecuteTimeLog": [
   {
    "duration": 8101,
    "start_time": "2022-01-26T20:25:47.465Z"
   },
   {
    "duration": 1198,
    "start_time": "2022-01-26T20:25:58.923Z"
   },
   {
    "duration": 61,
    "start_time": "2022-01-26T20:26:04.024Z"
   },
   {
    "duration": 6,
    "start_time": "2022-01-26T20:26:07.595Z"
   },
   {
    "duration": 12,
    "start_time": "2022-01-26T20:26:10.828Z"
   },
   {
    "duration": 6,
    "start_time": "2022-01-26T20:26:31.105Z"
   },
   {
    "duration": 4,
    "start_time": "2022-01-26T22:33:07.579Z"
   },
   {
    "duration": 8,
    "start_time": "2022-01-26T22:33:22.986Z"
   },
   {
    "duration": 5,
    "start_time": "2022-01-26T23:32:07.222Z"
   },
   {
    "duration": 398,
    "start_time": "2022-01-26T23:34:43.765Z"
   },
   {
    "duration": 7,
    "start_time": "2022-01-26T23:34:47.147Z"
   },
   {
    "duration": 7,
    "start_time": "2022-01-26T23:34:56.489Z"
   },
   {
    "duration": 6,
    "start_time": "2022-01-26T23:34:58.006Z"
   },
   {
    "duration": 6,
    "start_time": "2022-01-26T23:35:04.952Z"
   },
   {
    "duration": 2,
    "start_time": "2022-01-26T23:36:53.191Z"
   },
   {
    "duration": 2,
    "start_time": "2022-01-26T23:36:54.010Z"
   },
   {
    "duration": 114,
    "start_time": "2022-01-26T23:38:24.649Z"
   },
   {
    "duration": 5,
    "start_time": "2022-01-26T23:38:31.205Z"
   },
   {
    "duration": 22,
    "start_time": "2022-01-26T23:39:14.637Z"
   },
   {
    "duration": 4546,
    "start_time": "2022-01-26T23:42:48.498Z"
   },
   {
    "duration": 4661,
    "start_time": "2022-01-26T23:43:16.874Z"
   },
   {
    "duration": 2516,
    "start_time": "2022-01-26T23:43:49.293Z"
   },
   {
    "duration": 1127,
    "start_time": "2022-01-26T23:43:51.811Z"
   },
   {
    "duration": 19,
    "start_time": "2022-01-26T23:43:53.572Z"
   },
   {
    "duration": 4,
    "start_time": "2022-01-26T23:43:55.189Z"
   },
   {
    "duration": 12,
    "start_time": "2022-01-26T23:43:56.700Z"
   },
   {
    "duration": 7,
    "start_time": "2022-01-26T23:43:59.152Z"
   },
   {
    "duration": 4,
    "start_time": "2022-01-26T23:44:01.179Z"
   },
   {
    "duration": 6,
    "start_time": "2022-01-26T23:44:02.982Z"
   },
   {
    "duration": 22,
    "start_time": "2022-01-26T23:44:06.317Z"
   },
   {
    "duration": 20,
    "start_time": "2022-01-26T23:44:16.427Z"
   },
   {
    "duration": 5,
    "start_time": "2022-01-26T23:44:19.449Z"
   },
   {
    "duration": 4833,
    "start_time": "2022-01-26T23:44:22.408Z"
   },
   {
    "duration": 5,
    "start_time": "2022-01-26T23:44:43.144Z"
   },
   {
    "duration": 6,
    "start_time": "2022-01-26T23:44:44.707Z"
   },
   {
    "duration": 4660,
    "start_time": "2022-01-26T23:44:47.366Z"
   },
   {
    "duration": 3,
    "start_time": "2022-01-26T23:48:20.243Z"
   },
   {
    "duration": 4,
    "start_time": "2022-01-27T00:25:24.263Z"
   },
   {
    "duration": 4,
    "start_time": "2022-01-27T01:47:47.529Z"
   },
   {
    "duration": 6,
    "start_time": "2022-01-27T01:47:51.898Z"
   },
   {
    "duration": 27,
    "start_time": "2022-01-27T01:47:54.072Z"
   },
   {
    "duration": 6,
    "start_time": "2022-01-27T01:47:56.340Z"
   },
   {
    "duration": 1188,
    "start_time": "2022-01-27T01:48:06.839Z"
   },
   {
    "duration": 19,
    "start_time": "2022-01-27T01:48:09.252Z"
   },
   {
    "duration": 4,
    "start_time": "2022-01-27T01:48:10.533Z"
   },
   {
    "duration": 18,
    "start_time": "2022-01-27T01:48:11.966Z"
   },
   {
    "duration": 7,
    "start_time": "2022-01-27T01:48:15.043Z"
   },
   {
    "duration": 4,
    "start_time": "2022-01-27T01:48:25.725Z"
   },
   {
    "duration": 8,
    "start_time": "2022-01-27T01:48:27.782Z"
   },
   {
    "duration": 24,
    "start_time": "2022-01-27T01:48:30.319Z"
   },
   {
    "duration": 6,
    "start_time": "2022-01-27T01:48:49.857Z"
   },
   {
    "duration": 7,
    "start_time": "2022-01-27T01:48:52.687Z"
   },
   {
    "duration": 4970,
    "start_time": "2022-01-27T01:49:01.391Z"
   },
   {
    "duration": 5,
    "start_time": "2022-01-27T01:49:11.253Z"
   },
   {
    "duration": 8,
    "start_time": "2022-01-27T01:49:12.381Z"
   },
   {
    "duration": 5129,
    "start_time": "2022-01-27T01:49:15.601Z"
   },
   {
    "duration": 5,
    "start_time": "2022-01-27T01:49:53.396Z"
   },
   {
    "duration": 12,
    "start_time": "2022-01-27T01:50:12.128Z"
   },
   {
    "duration": 10,
    "start_time": "2022-01-27T01:50:14.161Z"
   },
   {
    "duration": 7,
    "start_time": "2022-01-27T01:50:28.307Z"
   },
   {
    "duration": 7,
    "start_time": "2022-01-27T01:50:28.949Z"
   },
   {
    "duration": 11,
    "start_time": "2022-01-27T01:50:33.279Z"
   },
   {
    "duration": 710,
    "start_time": "2022-01-27T02:44:23.610Z"
   },
   {
    "duration": 4,
    "start_time": "2022-01-27T02:44:59.093Z"
   },
   {
    "duration": 10,
    "start_time": "2022-01-27T02:45:00.893Z"
   },
   {
    "duration": 16,
    "start_time": "2022-01-27T02:45:02.278Z"
   },
   {
    "duration": 602,
    "start_time": "2022-01-27T02:45:04.247Z"
   },
   {
    "duration": 5,
    "start_time": "2022-01-27T02:45:53.452Z"
   },
   {
    "duration": 11,
    "start_time": "2022-01-27T02:45:55.803Z"
   },
   {
    "duration": 10,
    "start_time": "2022-01-27T02:45:59.644Z"
   },
   {
    "duration": 610,
    "start_time": "2022-01-27T02:46:01.748Z"
   },
   {
    "duration": 4,
    "start_time": "2022-01-27T02:47:12.957Z"
   },
   {
    "duration": 10,
    "start_time": "2022-01-27T02:47:14.755Z"
   },
   {
    "duration": 9,
    "start_time": "2022-01-27T02:47:16.539Z"
   },
   {
    "duration": 21,
    "start_time": "2022-01-27T02:47:18.277Z"
   },
   {
    "duration": 4,
    "start_time": "2022-01-27T02:48:08.129Z"
   },
   {
    "duration": 10,
    "start_time": "2022-01-27T02:48:10.236Z"
   },
   {
    "duration": 9,
    "start_time": "2022-01-27T02:48:11.830Z"
   },
   {
    "duration": 629,
    "start_time": "2022-01-27T02:48:13.711Z"
   },
   {
    "duration": 6,
    "start_time": "2022-01-27T02:49:20.680Z"
   },
   {
    "duration": 10,
    "start_time": "2022-01-27T02:49:22.926Z"
   },
   {
    "duration": 12,
    "start_time": "2022-01-27T02:49:24.676Z"
   },
   {
    "duration": 15,
    "start_time": "2022-01-27T02:49:26.693Z"
   },
   {
    "duration": 8,
    "start_time": "2022-01-27T02:49:40.975Z"
   },
   {
    "duration": 317,
    "start_time": "2022-01-27T02:50:06.001Z"
   },
   {
    "duration": 7,
    "start_time": "2022-01-27T02:50:10.979Z"
   },
   {
    "duration": 627,
    "start_time": "2022-01-27T02:50:33.167Z"
   },
   {
    "duration": 18,
    "start_time": "2022-01-27T02:50:36.890Z"
   },
   {
    "duration": 7751,
    "start_time": "2022-01-27T02:51:19.116Z"
   },
   {
    "duration": 1136,
    "start_time": "2022-01-27T02:51:57.827Z"
   },
   {
    "duration": 19,
    "start_time": "2022-01-27T02:52:05.091Z"
   },
   {
    "duration": 5,
    "start_time": "2022-01-27T02:52:06.884Z"
   },
   {
    "duration": 19,
    "start_time": "2022-01-27T02:52:08.075Z"
   },
   {
    "duration": 7,
    "start_time": "2022-01-27T02:52:10.619Z"
   },
   {
    "duration": 3,
    "start_time": "2022-01-27T02:52:13.617Z"
   },
   {
    "duration": 8,
    "start_time": "2022-01-27T02:52:15.456Z"
   },
   {
    "duration": 26,
    "start_time": "2022-01-27T02:52:22.473Z"
   },
   {
    "duration": 25,
    "start_time": "2022-01-27T02:52:32.665Z"
   },
   {
    "duration": 6,
    "start_time": "2022-01-27T02:52:37.296Z"
   },
   {
    "duration": 5,
    "start_time": "2022-01-27T02:52:41.155Z"
   },
   {
    "duration": 6,
    "start_time": "2022-01-27T02:52:45.002Z"
   },
   {
    "duration": 4927,
    "start_time": "2022-01-27T02:52:46.530Z"
   },
   {
    "duration": 2,
    "start_time": "2022-01-27T02:52:58.426Z"
   },
   {
    "duration": 4,
    "start_time": "2022-01-27T02:53:00.432Z"
   },
   {
    "duration": 11,
    "start_time": "2022-01-27T02:53:05.703Z"
   },
   {
    "duration": 9,
    "start_time": "2022-01-27T02:53:07.601Z"
   },
   {
    "duration": 23,
    "start_time": "2022-01-27T02:53:09.968Z"
   },
   {
    "duration": 5,
    "start_time": "2022-01-27T02:53:29.947Z"
   },
   {
    "duration": 8,
    "start_time": "2022-01-27T02:53:31.277Z"
   },
   {
    "duration": 8,
    "start_time": "2022-01-27T02:53:33.490Z"
   },
   {
    "duration": 5096,
    "start_time": "2022-01-27T02:53:36.660Z"
   },
   {
    "duration": 3,
    "start_time": "2022-01-27T02:53:43.019Z"
   },
   {
    "duration": 4,
    "start_time": "2022-01-27T02:53:44.236Z"
   },
   {
    "duration": 10,
    "start_time": "2022-01-27T02:53:45.875Z"
   },
   {
    "duration": 9,
    "start_time": "2022-01-27T02:53:47.686Z"
   },
   {
    "duration": 19,
    "start_time": "2022-01-27T02:53:51.933Z"
   },
   {
    "duration": 6,
    "start_time": "2022-01-27T02:54:01.255Z"
   },
   {
    "duration": 393,
    "start_time": "2022-01-27T02:54:08.169Z"
   },
   {
    "duration": 6,
    "start_time": "2022-01-27T02:54:12.153Z"
   },
   {
    "duration": 5,
    "start_time": "2022-01-27T02:54:20.627Z"
   },
   {
    "duration": 7,
    "start_time": "2022-01-27T04:53:09.782Z"
   },
   {
    "duration": 6,
    "start_time": "2022-01-27T05:04:19.099Z"
   },
   {
    "duration": 6,
    "start_time": "2022-01-27T05:04:20.030Z"
   },
   {
    "duration": 4,
    "start_time": "2022-01-27T05:04:33.350Z"
   },
   {
    "duration": 8,
    "start_time": "2022-01-27T05:04:45.956Z"
   },
   {
    "duration": 9,
    "start_time": "2022-01-27T05:05:07.864Z"
   },
   {
    "duration": 1338,
    "start_time": "2022-01-27T23:29:15.401Z"
   },
   {
    "duration": 24,
    "start_time": "2022-01-27T23:29:17.498Z"
   },
   {
    "duration": 5,
    "start_time": "2022-01-27T23:29:18.904Z"
   },
   {
    "duration": 15,
    "start_time": "2022-01-27T23:29:20.258Z"
   },
   {
    "duration": 8,
    "start_time": "2022-01-27T23:29:23.497Z"
   },
   {
    "duration": 3,
    "start_time": "2022-01-27T23:29:25.575Z"
   },
   {
    "duration": 7,
    "start_time": "2022-01-27T23:29:26.975Z"
   },
   {
    "duration": 25,
    "start_time": "2022-01-27T23:29:30.155Z"
   },
   {
    "duration": 6,
    "start_time": "2022-01-27T23:29:32.543Z"
   },
   {
    "duration": 6,
    "start_time": "2022-01-27T23:29:34.711Z"
   },
   {
    "duration": 5,
    "start_time": "2022-01-27T23:29:56.521Z"
   },
   {
    "duration": 6,
    "start_time": "2022-01-27T23:29:58.753Z"
   },
   {
    "duration": 9,
    "start_time": "2022-01-27T23:30:01.483Z"
   },
   {
    "duration": 5884,
    "start_time": "2022-01-27T23:30:04.223Z"
   },
   {
    "duration": 3,
    "start_time": "2022-01-27T23:30:14.652Z"
   },
   {
    "duration": 5,
    "start_time": "2022-01-27T23:30:16.673Z"
   },
   {
    "duration": 13,
    "start_time": "2022-01-27T23:30:18.418Z"
   },
   {
    "duration": 12,
    "start_time": "2022-01-27T23:30:20.205Z"
   },
   {
    "duration": 22,
    "start_time": "2022-01-27T23:30:23.733Z"
   },
   {
    "duration": 4,
    "start_time": "2022-01-27T23:35:50.283Z"
   },
   {
    "duration": 14,
    "start_time": "2022-01-27T23:35:51.325Z"
   },
   {
    "duration": 19,
    "start_time": "2022-01-27T23:36:17.087Z"
   },
   {
    "duration": 4,
    "start_time": "2022-01-27T23:36:40.043Z"
   },
   {
    "duration": 10,
    "start_time": "2022-01-27T23:36:42.784Z"
   },
   {
    "duration": 5,
    "start_time": "2022-01-27T23:36:57.247Z"
   },
   {
    "duration": 18,
    "start_time": "2022-01-27T23:37:02.904Z"
   },
   {
    "duration": 5,
    "start_time": "2022-01-27T23:37:07.852Z"
   },
   {
    "duration": 10,
    "start_time": "2022-01-27T23:37:12.276Z"
   },
   {
    "duration": 20,
    "start_time": "2022-01-27T23:37:15.049Z"
   },
   {
    "duration": 4,
    "start_time": "2022-01-27T23:37:24.623Z"
   },
   {
    "duration": 21,
    "start_time": "2022-01-27T23:37:27.968Z"
   },
   {
    "duration": 345,
    "start_time": "2022-01-27T23:37:39.493Z"
   },
   {
    "duration": 244,
    "start_time": "2022-01-27T23:37:44.861Z"
   },
   {
    "duration": 239,
    "start_time": "2022-01-27T23:38:23.942Z"
   },
   {
    "duration": 19,
    "start_time": "2022-01-27T23:38:28.187Z"
   },
   {
    "duration": 7,
    "start_time": "2022-01-27T23:38:45.011Z"
   },
   {
    "duration": 19,
    "start_time": "2022-01-27T23:39:12.106Z"
   },
   {
    "duration": 4,
    "start_time": "2022-01-27T23:47:37.588Z"
   },
   {
    "duration": 1344,
    "start_time": "2022-01-27T23:47:37.594Z"
   },
   {
    "duration": 20,
    "start_time": "2022-01-27T23:47:38.941Z"
   },
   {
    "duration": 4,
    "start_time": "2022-01-27T23:47:38.964Z"
   },
   {
    "duration": 18,
    "start_time": "2022-01-27T23:47:38.970Z"
   },
   {
    "duration": 19,
    "start_time": "2022-01-27T23:47:38.990Z"
   },
   {
    "duration": 3,
    "start_time": "2022-01-27T23:47:39.011Z"
   },
   {
    "duration": 11,
    "start_time": "2022-01-27T23:47:39.016Z"
   },
   {
    "duration": 27,
    "start_time": "2022-01-27T23:47:39.030Z"
   },
   {
    "duration": 6,
    "start_time": "2022-01-27T23:47:39.059Z"
   },
   {
    "duration": 9,
    "start_time": "2022-01-27T23:47:39.067Z"
   },
   {
    "duration": 34,
    "start_time": "2022-01-27T23:47:39.078Z"
   },
   {
    "duration": 12,
    "start_time": "2022-01-27T23:47:39.114Z"
   },
   {
    "duration": 10,
    "start_time": "2022-01-27T23:47:39.128Z"
   },
   {
    "duration": 5551,
    "start_time": "2022-01-27T23:47:39.140Z"
   },
   {
    "duration": 3,
    "start_time": "2022-01-27T23:47:44.693Z"
   },
   {
    "duration": 13,
    "start_time": "2022-01-27T23:47:44.698Z"
   },
   {
    "duration": 350,
    "start_time": "2022-01-27T23:47:44.713Z"
   },
   {
    "duration": -430,
    "start_time": "2022-01-27T23:47:45.495Z"
   },
   {
    "duration": -434,
    "start_time": "2022-01-27T23:47:45.500Z"
   },
   {
    "duration": -441,
    "start_time": "2022-01-27T23:47:45.509Z"
   },
   {
    "duration": -444,
    "start_time": "2022-01-27T23:47:45.513Z"
   },
   {
    "duration": 13,
    "start_time": "2022-01-27T23:55:47.697Z"
   },
   {
    "duration": 11,
    "start_time": "2022-01-27T23:55:50.382Z"
   },
   {
    "duration": 19,
    "start_time": "2022-01-27T23:55:52.672Z"
   },
   {
    "duration": 11,
    "start_time": "2022-01-27T23:55:55.696Z"
   },
   {
    "duration": 18,
    "start_time": "2022-01-27T23:55:58.462Z"
   },
   {
    "duration": 3,
    "start_time": "2022-01-28T00:48:51.333Z"
   },
   {
    "duration": 1296,
    "start_time": "2022-01-28T00:48:51.338Z"
   },
   {
    "duration": 21,
    "start_time": "2022-01-28T00:48:52.636Z"
   },
   {
    "duration": 8,
    "start_time": "2022-01-28T00:48:52.659Z"
   },
   {
    "duration": 31,
    "start_time": "2022-01-28T00:48:52.669Z"
   },
   {
    "duration": 11,
    "start_time": "2022-01-28T00:48:52.702Z"
   },
   {
    "duration": 15,
    "start_time": "2022-01-28T00:48:52.716Z"
   },
   {
    "duration": 17,
    "start_time": "2022-01-28T00:48:52.733Z"
   },
   {
    "duration": 31,
    "start_time": "2022-01-28T00:48:52.752Z"
   },
   {
    "duration": 6,
    "start_time": "2022-01-28T00:48:52.785Z"
   },
   {
    "duration": 16,
    "start_time": "2022-01-28T00:48:52.793Z"
   },
   {
    "duration": 5755,
    "start_time": "2022-01-28T00:48:52.811Z"
   },
   {
    "duration": 3,
    "start_time": "2022-01-28T00:50:22.986Z"
   },
   {
    "duration": 5,
    "start_time": "2022-01-28T00:50:24.263Z"
   },
   {
    "duration": 14,
    "start_time": "2022-01-28T00:50:26.955Z"
   },
   {
    "duration": 12,
    "start_time": "2022-01-28T00:50:28.282Z"
   },
   {
    "duration": 17,
    "start_time": "2022-01-28T00:50:31.152Z"
   },
   {
    "duration": 26,
    "start_time": "2022-01-28T00:51:02.674Z"
   },
   {
    "duration": 16,
    "start_time": "2022-01-28T00:52:39.564Z"
   },
   {
    "duration": 25,
    "start_time": "2022-01-28T00:52:47.443Z"
   },
   {
    "duration": 11,
    "start_time": "2022-01-28T00:53:24.520Z"
   },
   {
    "duration": 7,
    "start_time": "2022-01-28T00:53:39.698Z"
   },
   {
    "duration": 7,
    "start_time": "2022-01-28T00:53:49.235Z"
   },
   {
    "duration": 7,
    "start_time": "2022-01-28T00:56:47.632Z"
   },
   {
    "duration": 9,
    "start_time": "2022-01-28T00:56:54.672Z"
   },
   {
    "duration": 3,
    "start_time": "2022-01-28T00:58:04.278Z"
   },
   {
    "duration": 1226,
    "start_time": "2022-01-28T00:58:04.283Z"
   },
   {
    "duration": 20,
    "start_time": "2022-01-28T00:58:05.511Z"
   },
   {
    "duration": 26,
    "start_time": "2022-01-28T00:58:05.534Z"
   },
   {
    "duration": 45,
    "start_time": "2022-01-28T00:58:05.562Z"
   },
   {
    "duration": 18,
    "start_time": "2022-01-28T00:58:05.609Z"
   },
   {
    "duration": 26,
    "start_time": "2022-01-28T00:58:05.629Z"
   },
   {
    "duration": 17,
    "start_time": "2022-01-28T00:58:05.658Z"
   },
   {
    "duration": 30,
    "start_time": "2022-01-28T00:58:05.677Z"
   },
   {
    "duration": 5,
    "start_time": "2022-01-28T00:58:05.709Z"
   },
   {
    "duration": 13,
    "start_time": "2022-01-28T00:58:05.716Z"
   },
   {
    "duration": 5177,
    "start_time": "2022-01-28T00:58:05.730Z"
   },
   {
    "duration": 2,
    "start_time": "2022-01-28T00:58:10.909Z"
   },
   {
    "duration": 22,
    "start_time": "2022-01-28T00:58:10.913Z"
   },
   {
    "duration": 16,
    "start_time": "2022-01-28T00:58:10.937Z"
   },
   {
    "duration": 10,
    "start_time": "2022-01-28T00:58:10.956Z"
   },
   {
    "duration": 19,
    "start_time": "2022-01-28T00:58:10.968Z"
   },
   {
    "duration": 38,
    "start_time": "2022-01-28T00:58:10.989Z"
   },
   {
    "duration": 17,
    "start_time": "2022-01-28T00:58:11.029Z"
   },
   {
    "duration": 23,
    "start_time": "2022-01-28T00:58:11.048Z"
   },
   {
    "duration": 39,
    "start_time": "2022-01-28T00:58:11.073Z"
   },
   {
    "duration": 8,
    "start_time": "2022-01-28T00:58:11.114Z"
   },
   {
    "duration": 251,
    "start_time": "2022-01-28T19:20:00.190Z"
   },
   {
    "duration": 2,
    "start_time": "2022-01-28T19:20:07.519Z"
   },
   {
    "duration": 1144,
    "start_time": "2022-01-28T19:20:07.523Z"
   },
   {
    "duration": 48,
    "start_time": "2022-01-28T19:20:08.669Z"
   },
   {
    "duration": 4,
    "start_time": "2022-01-28T19:20:08.719Z"
   },
   {
    "duration": 14,
    "start_time": "2022-01-28T19:20:08.724Z"
   },
   {
    "duration": 5,
    "start_time": "2022-01-28T19:20:08.740Z"
   },
   {
    "duration": 7,
    "start_time": "2022-01-28T19:20:08.747Z"
   },
   {
    "duration": 6,
    "start_time": "2022-01-28T19:20:08.756Z"
   },
   {
    "duration": 21,
    "start_time": "2022-01-28T19:20:08.764Z"
   },
   {
    "duration": 4,
    "start_time": "2022-01-28T19:20:08.787Z"
   },
   {
    "duration": 5,
    "start_time": "2022-01-28T19:20:08.813Z"
   },
   {
    "duration": 5377,
    "start_time": "2022-01-28T19:20:08.820Z"
   },
   {
    "duration": 3,
    "start_time": "2022-01-28T19:20:14.199Z"
   },
   {
    "duration": 9,
    "start_time": "2022-01-28T19:20:14.204Z"
   },
   {
    "duration": 12,
    "start_time": "2022-01-28T19:20:14.215Z"
   },
   {
    "duration": 9,
    "start_time": "2022-01-28T19:20:14.229Z"
   },
   {
    "duration": 13,
    "start_time": "2022-01-28T19:20:14.240Z"
   },
   {
    "duration": 20,
    "start_time": "2022-01-28T19:20:14.254Z"
   },
   {
    "duration": 45,
    "start_time": "2022-01-28T19:20:14.275Z"
   },
   {
    "duration": 20,
    "start_time": "2022-01-28T19:20:14.322Z"
   },
   {
    "duration": 5313,
    "start_time": "2022-01-28T19:20:25.651Z"
   },
   {
    "duration": 3,
    "start_time": "2022-01-28T19:39:27.977Z"
   },
   {
    "duration": 6,
    "start_time": "2022-01-28T19:39:47.766Z"
   },
   {
    "duration": 3,
    "start_time": "2022-01-28T19:40:07.939Z"
   },
   {
    "duration": 3,
    "start_time": "2022-01-28T19:40:14.780Z"
   },
   {
    "duration": 8,
    "start_time": "2022-01-28T21:03:02.388Z"
   },
   {
    "duration": 8,
    "start_time": "2022-01-28T21:05:20.236Z"
   },
   {
    "duration": 3,
    "start_time": "2022-01-28T21:06:48.794Z"
   },
   {
    "duration": 3,
    "start_time": "2022-01-28T21:06:50.513Z"
   },
   {
    "duration": 433,
    "start_time": "2022-01-28T21:58:40.993Z"
   },
   {
    "duration": 8,
    "start_time": "2022-01-28T22:00:43.235Z"
   },
   {
    "duration": 250,
    "start_time": "2022-01-28T22:01:07.851Z"
   },
   {
    "duration": 3,
    "start_time": "2022-01-28T22:03:25.918Z"
   },
   {
    "duration": 6,
    "start_time": "2022-01-28T22:03:30.619Z"
   },
   {
    "duration": 10,
    "start_time": "2022-01-28T22:05:19.814Z"
   },
   {
    "duration": 9,
    "start_time": "2022-01-28T22:05:23.444Z"
   },
   {
    "duration": 4,
    "start_time": "2022-01-28T22:06:10.274Z"
   },
   {
    "duration": 8,
    "start_time": "2022-01-28T22:06:45.407Z"
   },
   {
    "duration": 3,
    "start_time": "2022-01-28T22:18:31.431Z"
   },
   {
    "duration": 3,
    "start_time": "2022-01-28T22:18:36.546Z"
   },
   {
    "duration": 390,
    "start_time": "2022-01-28T22:18:51.141Z"
   },
   {
    "duration": 3,
    "start_time": "2022-01-28T22:19:43.283Z"
   },
   {
    "duration": 1171,
    "start_time": "2022-01-28T22:19:43.290Z"
   },
   {
    "duration": 15,
    "start_time": "2022-01-28T22:19:44.463Z"
   },
   {
    "duration": 3,
    "start_time": "2022-01-28T22:19:44.480Z"
   },
   {
    "duration": 12,
    "start_time": "2022-01-28T22:19:44.485Z"
   },
   {
    "duration": 7,
    "start_time": "2022-01-28T22:19:44.498Z"
   },
   {
    "duration": 3,
    "start_time": "2022-01-28T22:19:44.506Z"
   },
   {
    "duration": 6,
    "start_time": "2022-01-28T22:19:44.511Z"
   },
   {
    "duration": 20,
    "start_time": "2022-01-28T22:19:44.519Z"
   },
   {
    "duration": 5,
    "start_time": "2022-01-28T22:19:44.540Z"
   },
   {
    "duration": 6,
    "start_time": "2022-01-28T22:19:44.546Z"
   },
   {
    "duration": 5192,
    "start_time": "2022-01-28T22:19:44.554Z"
   },
   {
    "duration": 2,
    "start_time": "2022-01-28T22:19:49.748Z"
   },
   {
    "duration": 6,
    "start_time": "2022-01-28T22:19:49.752Z"
   },
   {
    "duration": 13,
    "start_time": "2022-01-28T22:19:49.759Z"
   },
   {
    "duration": 9,
    "start_time": "2022-01-28T22:19:49.773Z"
   },
   {
    "duration": 39,
    "start_time": "2022-01-28T22:19:49.784Z"
   },
   {
    "duration": 21,
    "start_time": "2022-01-28T22:19:49.825Z"
   },
   {
    "duration": 14,
    "start_time": "2022-01-28T22:19:49.847Z"
   },
   {
    "duration": 21,
    "start_time": "2022-01-28T22:19:49.862Z"
   },
   {
    "duration": 4,
    "start_time": "2022-01-28T22:19:49.913Z"
   },
   {
    "duration": 7,
    "start_time": "2022-01-28T22:19:49.919Z"
   },
   {
    "duration": 8,
    "start_time": "2022-01-28T22:19:59.433Z"
   },
   {
    "duration": 4,
    "start_time": "2022-01-28T22:20:03.099Z"
   },
   {
    "duration": 3,
    "start_time": "2022-01-28T22:20:05.546Z"
   },
   {
    "duration": 4,
    "start_time": "2022-01-28T22:31:52.167Z"
   },
   {
    "duration": 5,
    "start_time": "2022-01-28T22:49:36.923Z"
   },
   {
    "duration": 6,
    "start_time": "2022-01-28T22:49:51.766Z"
   },
   {
    "duration": 6,
    "start_time": "2022-01-28T22:49:58.441Z"
   },
   {
    "duration": 9,
    "start_time": "2022-01-28T22:50:28.590Z"
   },
   {
    "duration": 10,
    "start_time": "2022-01-28T22:50:29.275Z"
   },
   {
    "duration": 6,
    "start_time": "2022-01-28T22:51:45.226Z"
   },
   {
    "duration": 3,
    "start_time": "2022-01-28T22:51:47.912Z"
   },
   {
    "duration": 3,
    "start_time": "2022-01-28T22:51:50.070Z"
   },
   {
    "duration": 487,
    "start_time": "2022-01-28T22:53:52.611Z"
   },
   {
    "duration": 882,
    "start_time": "2022-01-28T22:54:18.847Z"
   },
   {
    "duration": 8,
    "start_time": "2022-01-28T22:55:13.328Z"
   },
   {
    "duration": 7,
    "start_time": "2022-01-28T22:55:30.343Z"
   },
   {
    "duration": 3,
    "start_time": "2022-01-28T22:56:39.425Z"
   },
   {
    "duration": 2,
    "start_time": "2022-01-28T22:56:47.275Z"
   },
   {
    "duration": 403,
    "start_time": "2022-01-28T22:56:59.315Z"
   },
   {
    "duration": 193,
    "start_time": "2022-01-28T22:57:38.540Z"
   },
   {
    "duration": 195,
    "start_time": "2022-01-28T22:57:47.903Z"
   },
   {
    "duration": 206,
    "start_time": "2022-01-28T22:57:51.217Z"
   },
   {
    "duration": 104864,
    "start_time": "2022-01-28T22:58:56.156Z"
   },
   {
    "duration": 1356,
    "start_time": "2022-01-28T23:04:51.187Z"
   },
   {
    "duration": -192,
    "start_time": "2022-01-28T23:04:52.737Z"
   },
   {
    "duration": -197,
    "start_time": "2022-01-28T23:04:52.742Z"
   },
   {
    "duration": 192,
    "start_time": "2022-01-28T23:04:55.811Z"
   },
   {
    "duration": 4,
    "start_time": "2022-01-28T23:05:42.014Z"
   },
   {
    "duration": 15,
    "start_time": "2022-01-28T23:05:44.037Z"
   },
   {
    "duration": 3,
    "start_time": "2022-01-28T23:06:01.217Z"
   },
   {
    "duration": 6,
    "start_time": "2022-01-28T23:06:01.221Z"
   },
   {
    "duration": 17,
    "start_time": "2022-01-28T23:06:01.229Z"
   },
   {
    "duration": 4,
    "start_time": "2022-01-28T23:06:01.247Z"
   },
   {
    "duration": 14,
    "start_time": "2022-01-28T23:06:01.253Z"
   },
   {
    "duration": 5,
    "start_time": "2022-01-28T23:06:01.269Z"
   },
   {
    "duration": 3,
    "start_time": "2022-01-28T23:06:01.276Z"
   },
   {
    "duration": 8,
    "start_time": "2022-01-28T23:06:01.281Z"
   },
   {
    "duration": 38,
    "start_time": "2022-01-28T23:06:01.290Z"
   },
   {
    "duration": 5,
    "start_time": "2022-01-28T23:06:01.329Z"
   },
   {
    "duration": 11,
    "start_time": "2022-01-28T23:06:01.336Z"
   },
   {
    "duration": 5047,
    "start_time": "2022-01-28T23:06:01.349Z"
   },
   {
    "duration": 2,
    "start_time": "2022-01-28T23:06:06.397Z"
   },
   {
    "duration": 13,
    "start_time": "2022-01-28T23:06:06.401Z"
   },
   {
    "duration": 13,
    "start_time": "2022-01-28T23:06:06.416Z"
   },
   {
    "duration": 9,
    "start_time": "2022-01-28T23:06:06.431Z"
   },
   {
    "duration": 13,
    "start_time": "2022-01-28T23:06:06.441Z"
   },
   {
    "duration": 20,
    "start_time": "2022-01-28T23:06:06.457Z"
   },
   {
    "duration": 44,
    "start_time": "2022-01-28T23:06:06.479Z"
   },
   {
    "duration": 20,
    "start_time": "2022-01-28T23:06:06.524Z"
   },
   {
    "duration": 6,
    "start_time": "2022-01-28T23:06:08.823Z"
   },
   {
    "duration": 4,
    "start_time": "2022-01-28T23:07:33.701Z"
   },
   {
    "duration": 5,
    "start_time": "2022-01-28T23:07:35.456Z"
   },
   {
    "duration": 8,
    "start_time": "2022-01-28T23:07:40.270Z"
   },
   {
    "duration": 6,
    "start_time": "2022-01-28T23:07:42.430Z"
   },
   {
    "duration": 3,
    "start_time": "2022-01-28T23:07:45.822Z"
   },
   {
    "duration": 2,
    "start_time": "2022-01-28T23:07:48.141Z"
   },
   {
    "duration": 391,
    "start_time": "2022-01-28T23:07:50.059Z"
   },
   {
    "duration": 4,
    "start_time": "2022-01-28T23:09:01.144Z"
   },
   {
    "duration": 3,
    "start_time": "2022-01-28T23:09:02.414Z"
   },
   {
    "duration": 31,
    "start_time": "2022-01-28T23:09:04.727Z"
   },
   {
    "duration": 29,
    "start_time": "2022-01-28T23:10:46.698Z"
   },
   {
    "duration": 203,
    "start_time": "2022-01-28T23:15:36.413Z"
   },
   {
    "duration": 399,
    "start_time": "2022-01-28T23:15:48.181Z"
   },
   {
    "duration": 407,
    "start_time": "2022-01-28T23:15:58.236Z"
   },
   {
    "duration": 6,
    "start_time": "2022-01-28T23:42:18.126Z"
   },
   {
    "duration": 3,
    "start_time": "2022-01-28T23:42:19.466Z"
   },
   {
    "duration": 3,
    "start_time": "2022-01-28T23:42:21.114Z"
   },
   {
    "duration": 31,
    "start_time": "2022-01-28T23:42:22.561Z"
   },
   {
    "duration": 405,
    "start_time": "2022-01-28T23:42:26.548Z"
   },
   {
    "duration": 451,
    "start_time": "2022-01-28T23:42:36.735Z"
   },
   {
    "duration": 4,
    "start_time": "2022-01-28T23:43:36.504Z"
   },
   {
    "duration": 385,
    "start_time": "2022-01-28T23:43:43.374Z"
   },
   {
    "duration": 450,
    "start_time": "2022-01-28T23:43:45.590Z"
   },
   {
    "duration": 457,
    "start_time": "2022-01-28T23:44:00.365Z"
   },
   {
    "duration": 419,
    "start_time": "2022-01-28T23:44:18.579Z"
   },
   {
    "duration": 32,
    "start_time": "2022-01-28T23:44:25.855Z"
   },
   {
    "duration": 191,
    "start_time": "2022-01-28T23:44:43.521Z"
   },
   {
    "duration": 4,
    "start_time": "2022-01-28T23:45:15.172Z"
   },
   {
    "duration": 206,
    "start_time": "2022-01-28T23:45:20.137Z"
   },
   {
    "duration": 4,
    "start_time": "2022-01-28T23:45:55.433Z"
   },
   {
    "duration": 4,
    "start_time": "2022-01-28T23:45:58.954Z"
   },
   {
    "duration": 220,
    "start_time": "2022-01-28T23:46:00.746Z"
   },
   {
    "duration": 8,
    "start_time": "2022-01-28T23:47:00.965Z"
   },
   {
    "duration": 6,
    "start_time": "2022-01-28T23:47:04.004Z"
   },
   {
    "duration": 3,
    "start_time": "2022-01-28T23:47:05.797Z"
   },
   {
    "duration": 3,
    "start_time": "2022-01-28T23:47:07.305Z"
   },
   {
    "duration": 3,
    "start_time": "2022-01-28T23:47:08.747Z"
   },
   {
    "duration": 33,
    "start_time": "2022-01-28T23:47:09.750Z"
   },
   {
    "duration": 414,
    "start_time": "2022-01-28T23:47:11.760Z"
   },
   {
    "duration": 424,
    "start_time": "2022-01-28T23:47:13.819Z"
   },
   {
    "duration": 220,
    "start_time": "2022-01-28T23:47:15.928Z"
   },
   {
    "duration": 5,
    "start_time": "2022-01-29T00:22:26.386Z"
   },
   {
    "duration": 5,
    "start_time": "2022-01-29T00:23:00.576Z"
   },
   {
    "duration": 4,
    "start_time": "2022-01-29T00:23:14.082Z"
   },
   {
    "duration": 290,
    "start_time": "2022-01-29T00:23:36.896Z"
   },
   {
    "duration": 204,
    "start_time": "2022-01-29T00:23:39.329Z"
   },
   {
    "duration": 5,
    "start_time": "2022-01-29T00:23:52.567Z"
   },
   {
    "duration": 370,
    "start_time": "2022-01-29T00:23:54.147Z"
   },
   {
    "duration": 5,
    "start_time": "2022-01-29T00:25:19.799Z"
   },
   {
    "duration": 5,
    "start_time": "2022-01-29T00:25:24.209Z"
   },
   {
    "duration": 251,
    "start_time": "2022-01-29T00:25:34.390Z"
   },
   {
    "duration": 252,
    "start_time": "2022-01-29T00:25:39.278Z"
   },
   {
    "duration": 244,
    "start_time": "2022-01-29T00:25:41.273Z"
   },
   {
    "duration": 195,
    "start_time": "2022-01-29T00:25:51.273Z"
   },
   {
    "duration": 198,
    "start_time": "2022-01-29T00:25:54.494Z"
   },
   {
    "duration": 216,
    "start_time": "2022-01-29T00:26:00.403Z"
   },
   {
    "duration": 5,
    "start_time": "2022-01-29T00:30:14.412Z"
   },
   {
    "duration": 5,
    "start_time": "2022-01-29T00:30:16.651Z"
   },
   {
    "duration": 7,
    "start_time": "2022-01-29T00:30:30.184Z"
   },
   {
    "duration": 4,
    "start_time": "2022-01-29T00:30:34.701Z"
   },
   {
    "duration": 211,
    "start_time": "2022-01-29T00:30:37.094Z"
   },
   {
    "duration": 39,
    "start_time": "2022-01-29T00:30:39.085Z"
   },
   {
    "duration": 4,
    "start_time": "2022-01-29T00:39:03.848Z"
   },
   {
    "duration": 232,
    "start_time": "2022-01-29T00:39:06.245Z"
   },
   {
    "duration": 5,
    "start_time": "2022-01-29T00:39:26.238Z"
   },
   {
    "duration": 6,
    "start_time": "2022-01-29T00:39:28.072Z"
   },
   {
    "duration": 7,
    "start_time": "2022-01-29T00:39:29.638Z"
   },
   {
    "duration": 5,
    "start_time": "2022-01-29T00:39:31.374Z"
   },
   {
    "duration": 227,
    "start_time": "2022-01-29T00:39:32.686Z"
   },
   {
    "duration": 7,
    "start_time": "2022-01-29T00:40:09.960Z"
   },
   {
    "duration": 7,
    "start_time": "2022-01-29T00:40:45.060Z"
   },
   {
    "duration": 7,
    "start_time": "2022-01-29T00:40:47.612Z"
   },
   {
    "duration": 4,
    "start_time": "2022-01-29T00:40:48.932Z"
   },
   {
    "duration": 224,
    "start_time": "2022-01-29T00:40:50.758Z"
   },
   {
    "duration": 39,
    "start_time": "2022-01-29T00:40:52.867Z"
   },
   {
    "duration": 344,
    "start_time": "2022-01-29T00:41:07.456Z"
   },
   {
    "duration": 268,
    "start_time": "2022-01-29T00:41:16.451Z"
   },
   {
    "duration": 275,
    "start_time": "2022-01-29T00:41:22.481Z"
   },
   {
    "duration": 3,
    "start_time": "2022-01-29T00:41:38.825Z"
   },
   {
    "duration": 1105,
    "start_time": "2022-01-29T00:41:38.829Z"
   },
   {
    "duration": 15,
    "start_time": "2022-01-29T00:41:39.935Z"
   },
   {
    "duration": 3,
    "start_time": "2022-01-29T00:41:39.952Z"
   },
   {
    "duration": 12,
    "start_time": "2022-01-29T00:41:39.957Z"
   },
   {
    "duration": 8,
    "start_time": "2022-01-29T00:41:39.970Z"
   },
   {
    "duration": 14,
    "start_time": "2022-01-29T00:41:39.979Z"
   },
   {
    "duration": 7,
    "start_time": "2022-01-29T00:41:39.995Z"
   },
   {
    "duration": 24,
    "start_time": "2022-01-29T00:41:40.005Z"
   },
   {
    "duration": 5,
    "start_time": "2022-01-29T00:41:40.031Z"
   },
   {
    "duration": 6,
    "start_time": "2022-01-29T00:41:40.037Z"
   },
   {
    "duration": 4884,
    "start_time": "2022-01-29T00:41:40.044Z"
   },
   {
    "duration": 2,
    "start_time": "2022-01-29T00:41:44.929Z"
   },
   {
    "duration": 5,
    "start_time": "2022-01-29T00:41:44.933Z"
   },
   {
    "duration": 13,
    "start_time": "2022-01-29T00:41:44.939Z"
   },
   {
    "duration": 9,
    "start_time": "2022-01-29T00:41:44.953Z"
   },
   {
    "duration": 12,
    "start_time": "2022-01-29T00:41:44.963Z"
   },
   {
    "duration": 48,
    "start_time": "2022-01-29T00:41:44.977Z"
   },
   {
    "duration": 13,
    "start_time": "2022-01-29T00:41:45.026Z"
   },
   {
    "duration": 20,
    "start_time": "2022-01-29T00:41:45.041Z"
   },
   {
    "duration": 5,
    "start_time": "2022-01-29T00:41:45.062Z"
   },
   {
    "duration": 6,
    "start_time": "2022-01-29T00:41:45.068Z"
   },
   {
    "duration": 38,
    "start_time": "2022-01-29T00:41:45.075Z"
   },
   {
    "duration": 6,
    "start_time": "2022-01-29T00:41:45.114Z"
   },
   {
    "duration": 3,
    "start_time": "2022-01-29T00:41:45.121Z"
   },
   {
    "duration": 5,
    "start_time": "2022-01-29T00:41:45.125Z"
   },
   {
    "duration": 29,
    "start_time": "2022-01-29T00:41:45.132Z"
   },
   {
    "duration": 6,
    "start_time": "2022-01-29T00:41:45.162Z"
   },
   {
    "duration": 11,
    "start_time": "2022-01-29T00:41:45.170Z"
   },
   {
    "duration": 32,
    "start_time": "2022-01-29T00:41:45.182Z"
   },
   {
    "duration": 215,
    "start_time": "2022-01-29T00:41:45.215Z"
   },
   {
    "duration": 37,
    "start_time": "2022-01-29T00:41:45.431Z"
   },
   {
    "duration": 5,
    "start_time": "2022-01-29T00:44:01.194Z"
   },
   {
    "duration": 8,
    "start_time": "2022-01-29T00:44:03.673Z"
   },
   {
    "duration": 5,
    "start_time": "2022-01-29T00:44:06.297Z"
   },
   {
    "duration": 227,
    "start_time": "2022-01-29T00:44:08.920Z"
   },
   {
    "duration": 39,
    "start_time": "2022-01-29T00:44:11.015Z"
   },
   {
    "duration": 251,
    "start_time": "2022-01-29T00:44:21.266Z"
   },
   {
    "duration": 2,
    "start_time": "2022-01-29T00:46:57.893Z"
   },
   {
    "duration": 14,
    "start_time": "2022-01-29T00:46:57.897Z"
   },
   {
    "duration": 31,
    "start_time": "2022-01-29T00:46:57.913Z"
   },
   {
    "duration": 4,
    "start_time": "2022-01-29T00:46:57.946Z"
   },
   {
    "duration": 19,
    "start_time": "2022-01-29T00:46:57.951Z"
   },
   {
    "duration": 20,
    "start_time": "2022-01-29T00:46:57.971Z"
   },
   {
    "duration": 6,
    "start_time": "2022-01-29T00:46:57.992Z"
   },
   {
    "duration": 11,
    "start_time": "2022-01-29T00:46:58.000Z"
   },
   {
    "duration": 23,
    "start_time": "2022-01-29T00:46:58.013Z"
   },
   {
    "duration": 5,
    "start_time": "2022-01-29T00:46:58.037Z"
   },
   {
    "duration": 10,
    "start_time": "2022-01-29T00:46:58.043Z"
   },
   {
    "duration": 5159,
    "start_time": "2022-01-29T00:46:58.055Z"
   },
   {
    "duration": 3,
    "start_time": "2022-01-29T00:47:03.215Z"
   },
   {
    "duration": 6,
    "start_time": "2022-01-29T00:47:03.219Z"
   },
   {
    "duration": 11,
    "start_time": "2022-01-29T00:47:03.226Z"
   },
   {
    "duration": 10,
    "start_time": "2022-01-29T00:47:03.238Z"
   },
   {
    "duration": 15,
    "start_time": "2022-01-29T00:47:03.249Z"
   },
   {
    "duration": 48,
    "start_time": "2022-01-29T00:47:03.266Z"
   },
   {
    "duration": 12,
    "start_time": "2022-01-29T00:47:03.315Z"
   },
   {
    "duration": 19,
    "start_time": "2022-01-29T00:47:03.329Z"
   },
   {
    "duration": 4,
    "start_time": "2022-01-29T00:47:03.349Z"
   },
   {
    "duration": 6,
    "start_time": "2022-01-29T00:47:03.355Z"
   },
   {
    "duration": 6,
    "start_time": "2022-01-29T00:47:03.364Z"
   },
   {
    "duration": 40,
    "start_time": "2022-01-29T00:47:03.372Z"
   },
   {
    "duration": 4,
    "start_time": "2022-01-29T00:47:03.413Z"
   },
   {
    "duration": 6,
    "start_time": "2022-01-29T00:47:03.418Z"
   },
   {
    "duration": 31,
    "start_time": "2022-01-29T00:47:03.426Z"
   },
   {
    "duration": 4,
    "start_time": "2022-01-29T00:47:03.459Z"
   },
   {
    "duration": 6,
    "start_time": "2022-01-29T01:07:03.241Z"
   },
   {
    "duration": 3,
    "start_time": "2022-01-29T01:07:15.937Z"
   },
   {
    "duration": 3,
    "start_time": "2022-01-29T01:07:27.899Z"
   },
   {
    "duration": 6,
    "start_time": "2022-01-29T01:07:42.815Z"
   },
   {
    "duration": 259,
    "start_time": "2022-01-29T01:08:09.548Z"
   },
   {
    "duration": 8,
    "start_time": "2022-01-29T01:08:15.695Z"
   },
   {
    "duration": 5,
    "start_time": "2022-01-29T01:08:34.901Z"
   },
   {
    "duration": 3,
    "start_time": "2022-01-29T01:08:37.616Z"
   },
   {
    "duration": 3,
    "start_time": "2022-01-29T01:08:38.990Z"
   },
   {
    "duration": 6,
    "start_time": "2022-01-29T01:08:40.258Z"
   },
   {
    "duration": 7,
    "start_time": "2022-01-29T01:08:42.155Z"
   },
   {
    "duration": 194,
    "start_time": "2022-01-29T01:08:43.805Z"
   },
   {
    "duration": 3,
    "start_time": "2022-01-29T01:08:48.451Z"
   },
   {
    "duration": 378,
    "start_time": "2022-01-29T01:09:25.808Z"
   },
   {
    "duration": 6,
    "start_time": "2022-01-29T01:09:37.269Z"
   },
   {
    "duration": 364,
    "start_time": "2022-01-29T01:09:48.347Z"
   },
   {
    "duration": 4,
    "start_time": "2022-01-29T01:10:01.193Z"
   },
   {
    "duration": 195,
    "start_time": "2022-01-29T01:10:12.471Z"
   },
   {
    "duration": 194,
    "start_time": "2022-01-29T01:10:25.034Z"
   },
   {
    "duration": 5,
    "start_time": "2022-01-29T01:10:52.682Z"
   },
   {
    "duration": 3,
    "start_time": "2022-01-29T01:10:54.958Z"
   },
   {
    "duration": 2,
    "start_time": "2022-01-29T01:10:56.384Z"
   },
   {
    "duration": 7,
    "start_time": "2022-01-29T01:10:57.881Z"
   },
   {
    "duration": 3,
    "start_time": "2022-01-29T01:11:03.255Z"
   },
   {
    "duration": 217,
    "start_time": "2022-01-29T01:11:45.761Z"
   },
   {
    "duration": 6,
    "start_time": "2022-01-29T01:23:30.094Z"
   },
   {
    "duration": 4,
    "start_time": "2022-01-29T01:23:32.600Z"
   },
   {
    "duration": 1040,
    "start_time": "2022-01-29T01:25:20.745Z"
   },
   {
    "duration": 4,
    "start_time": "2022-01-29T01:25:44.783Z"
   },
   {
    "duration": 5,
    "start_time": "2022-01-29T01:25:46.634Z"
   },
   {
    "duration": 3,
    "start_time": "2022-01-29T01:25:48.194Z"
   },
   {
    "duration": 437,
    "start_time": "2022-01-29T01:25:49.919Z"
   },
   {
    "duration": 5,
    "start_time": "2022-01-29T01:26:24.512Z"
   },
   {
    "duration": 3,
    "start_time": "2022-01-29T01:26:26.257Z"
   },
   {
    "duration": 435,
    "start_time": "2022-01-29T01:26:27.791Z"
   },
   {
    "duration": 4,
    "start_time": "2022-01-29T01:27:39.458Z"
   },
   {
    "duration": 3,
    "start_time": "2022-01-29T01:27:52.345Z"
   },
   {
    "duration": 1026,
    "start_time": "2022-01-29T01:27:52.349Z"
   },
   {
    "duration": 14,
    "start_time": "2022-01-29T01:27:53.377Z"
   },
   {
    "duration": 4,
    "start_time": "2022-01-29T01:27:53.393Z"
   },
   {
    "duration": 17,
    "start_time": "2022-01-29T01:27:53.398Z"
   },
   {
    "duration": 7,
    "start_time": "2022-01-29T01:27:53.417Z"
   },
   {
    "duration": 3,
    "start_time": "2022-01-29T01:27:53.426Z"
   },
   {
    "duration": 6,
    "start_time": "2022-01-29T01:27:53.431Z"
   },
   {
    "duration": 20,
    "start_time": "2022-01-29T01:27:53.438Z"
   },
   {
    "duration": 5,
    "start_time": "2022-01-29T01:27:53.459Z"
   },
   {
    "duration": 6,
    "start_time": "2022-01-29T01:27:53.465Z"
   },
   {
    "duration": 4943,
    "start_time": "2022-01-29T01:27:53.472Z"
   },
   {
    "duration": 2,
    "start_time": "2022-01-29T01:27:58.416Z"
   },
   {
    "duration": 6,
    "start_time": "2022-01-29T01:27:58.420Z"
   },
   {
    "duration": 12,
    "start_time": "2022-01-29T01:27:58.427Z"
   },
   {
    "duration": 8,
    "start_time": "2022-01-29T01:27:58.441Z"
   },
   {
    "duration": 15,
    "start_time": "2022-01-29T01:27:58.450Z"
   },
   {
    "duration": 46,
    "start_time": "2022-01-29T01:27:58.467Z"
   },
   {
    "duration": 13,
    "start_time": "2022-01-29T01:27:58.516Z"
   },
   {
    "duration": 21,
    "start_time": "2022-01-29T01:27:58.531Z"
   },
   {
    "duration": 6,
    "start_time": "2022-01-29T01:27:58.554Z"
   },
   {
    "duration": 6,
    "start_time": "2022-01-29T01:27:58.561Z"
   },
   {
    "duration": 8,
    "start_time": "2022-01-29T01:27:58.568Z"
   },
   {
    "duration": 38,
    "start_time": "2022-01-29T01:27:58.578Z"
   },
   {
    "duration": 3,
    "start_time": "2022-01-29T01:27:58.618Z"
   },
   {
    "duration": 4,
    "start_time": "2022-01-29T01:27:58.623Z"
   },
   {
    "duration": 34,
    "start_time": "2022-01-29T01:27:58.629Z"
   },
   {
    "duration": 5,
    "start_time": "2022-01-29T01:27:58.664Z"
   },
   {
    "duration": 244,
    "start_time": "2022-01-29T01:27:58.671Z"
   },
   {
    "duration": 390,
    "start_time": "2022-01-29T01:27:58.917Z"
   },
   {
    "duration": 423,
    "start_time": "2022-01-29T01:27:59.308Z"
   },
   {
    "duration": 223,
    "start_time": "2022-01-29T01:27:59.733Z"
   },
   {
    "duration": 5,
    "start_time": "2022-01-29T01:27:59.958Z"
   },
   {
    "duration": 5,
    "start_time": "2022-01-29T01:27:59.964Z"
   },
   {
    "duration": 553,
    "start_time": "2022-01-29T01:28:02.864Z"
   },
   {
    "duration": 7,
    "start_time": "2022-01-29T01:29:18.607Z"
   },
   {
    "duration": 4,
    "start_time": "2022-01-29T01:29:22.785Z"
   },
   {
    "duration": 457,
    "start_time": "2022-01-29T01:29:24.683Z"
   },
   {
    "duration": 4,
    "start_time": "2022-01-29T01:29:59.568Z"
   },
   {
    "duration": 7,
    "start_time": "2022-01-29T01:30:05.661Z"
   },
   {
    "duration": 10,
    "start_time": "2022-01-29T01:30:08.900Z"
   },
   {
    "duration": 217,
    "start_time": "2022-01-29T02:11:14.348Z"
   },
   {
    "duration": 10,
    "start_time": "2022-01-29T02:11:31.004Z"
   },
   {
    "duration": 4,
    "start_time": "2022-01-29T19:02:37.507Z"
   },
   {
    "duration": 1634,
    "start_time": "2022-01-29T19:02:37.513Z"
   },
   {
    "duration": 80,
    "start_time": "2022-01-29T19:02:39.150Z"
   },
   {
    "duration": 5,
    "start_time": "2022-01-29T19:02:39.233Z"
   },
   {
    "duration": 20,
    "start_time": "2022-01-29T19:02:39.241Z"
   },
   {
    "duration": 8,
    "start_time": "2022-01-29T19:02:39.263Z"
   },
   {
    "duration": 4,
    "start_time": "2022-01-29T19:02:39.275Z"
   },
   {
    "duration": 41,
    "start_time": "2022-01-29T19:02:39.282Z"
   },
   {
    "duration": 34,
    "start_time": "2022-01-29T19:02:39.326Z"
   },
   {
    "duration": 7,
    "start_time": "2022-01-29T19:02:39.362Z"
   },
   {
    "duration": 9,
    "start_time": "2022-01-29T19:02:39.372Z"
   },
   {
    "duration": 8423,
    "start_time": "2022-01-29T19:02:39.383Z"
   },
   {
    "duration": 16,
    "start_time": "2022-01-29T19:02:47.808Z"
   },
   {
    "duration": 6,
    "start_time": "2022-01-29T19:02:47.826Z"
   },
   {
    "duration": 17,
    "start_time": "2022-01-29T19:02:47.835Z"
   },
   {
    "duration": 14,
    "start_time": "2022-01-29T19:02:47.855Z"
   },
   {
    "duration": 53,
    "start_time": "2022-01-29T19:02:47.871Z"
   },
   {
    "duration": 34,
    "start_time": "2022-01-29T19:02:47.927Z"
   },
   {
    "duration": 20,
    "start_time": "2022-01-29T19:02:47.966Z"
   },
   {
    "duration": 65,
    "start_time": "2022-01-29T19:02:47.988Z"
   },
   {
    "duration": 8,
    "start_time": "2022-01-29T19:02:48.056Z"
   },
   {
    "duration": 10,
    "start_time": "2022-01-29T19:02:48.067Z"
   },
   {
    "duration": 44,
    "start_time": "2022-01-29T19:02:48.080Z"
   },
   {
    "duration": 10,
    "start_time": "2022-01-29T19:02:48.128Z"
   },
   {
    "duration": 5,
    "start_time": "2022-01-29T19:02:48.140Z"
   },
   {
    "duration": 6,
    "start_time": "2022-01-29T19:02:48.148Z"
   },
   {
    "duration": 97,
    "start_time": "2022-01-29T19:02:48.157Z"
   },
   {
    "duration": 9,
    "start_time": "2022-01-29T19:02:48.257Z"
   },
   {
    "duration": 589,
    "start_time": "2022-01-29T19:02:48.269Z"
   },
   {
    "duration": 721,
    "start_time": "2022-01-29T19:02:48.861Z"
   },
   {
    "duration": 738,
    "start_time": "2022-01-29T19:02:49.585Z"
   },
   {
    "duration": 366,
    "start_time": "2022-01-29T19:02:50.326Z"
   },
   {
    "duration": 6,
    "start_time": "2022-01-29T19:02:50.695Z"
   },
   {
    "duration": 6,
    "start_time": "2022-01-29T19:02:50.704Z"
   },
   {
    "duration": 25,
    "start_time": "2022-01-29T19:02:50.712Z"
   },
   {
    "duration": 92,
    "start_time": "2022-01-29T19:02:50.740Z"
   },
   {
    "duration": 5,
    "start_time": "2022-01-29T19:05:55.748Z"
   },
   {
    "duration": 4,
    "start_time": "2022-01-29T19:05:57.444Z"
   },
   {
    "duration": 4,
    "start_time": "2022-01-29T19:05:59.305Z"
   },
   {
    "duration": 7,
    "start_time": "2022-01-29T19:10:58.820Z"
   },
   {
    "duration": 9,
    "start_time": "2022-01-29T19:11:06.390Z"
   },
   {
    "duration": 6,
    "start_time": "2022-01-29T19:15:25.919Z"
   },
   {
    "duration": 4,
    "start_time": "2022-01-29T19:47:09.776Z"
   },
   {
    "duration": 6,
    "start_time": "2022-01-29T19:47:13.377Z"
   },
   {
    "duration": 4,
    "start_time": "2022-01-29T19:47:48.141Z"
   },
   {
    "duration": 6,
    "start_time": "2022-01-29T19:47:51.801Z"
   },
   {
    "duration": 10,
    "start_time": "2022-01-29T19:53:56.191Z"
   },
   {
    "duration": 11,
    "start_time": "2022-01-29T19:56:20.389Z"
   },
   {
    "duration": 9,
    "start_time": "2022-01-29T19:56:29.060Z"
   },
   {
    "duration": 128,
    "start_time": "2022-01-29T20:38:34.132Z"
   },
   {
    "duration": 7,
    "start_time": "2022-01-29T22:54:04.629Z"
   },
   {
    "duration": 7,
    "start_time": "2022-01-29T22:54:44.284Z"
   },
   {
    "duration": 14,
    "start_time": "2022-01-29T22:57:59.218Z"
   },
   {
    "duration": 13,
    "start_time": "2022-01-29T22:58:02.212Z"
   },
   {
    "duration": 11,
    "start_time": "2022-01-29T23:00:05.179Z"
   },
   {
    "duration": 13,
    "start_time": "2022-01-29T23:01:20.554Z"
   }
  ],
  "kernelspec": {
   "display_name": "Python 3",
   "language": "python",
   "name": "python3"
  },
  "language_info": {
   "codemirror_mode": {
    "name": "ipython",
    "version": 3
   },
   "file_extension": ".py",
   "mimetype": "text/x-python",
   "name": "python",
   "nbconvert_exporter": "python",
   "pygments_lexer": "ipython3",
   "version": "3.7.10"
  },
  "toc": {
   "base_numbering": 1,
   "nav_menu": {},
   "number_sections": true,
   "sideBar": true,
   "skip_h1_title": true,
   "title_cell": "Table of Contents",
   "title_sidebar": "Contents",
   "toc_cell": false,
   "toc_position": {},
   "toc_section_display": true,
   "toc_window_display": false
  }
 },
 "nbformat": 4,
 "nbformat_minor": 4
}
