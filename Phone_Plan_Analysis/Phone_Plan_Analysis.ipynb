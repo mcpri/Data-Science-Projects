{
 "cells": [
  {
   "cell_type": "markdown",
   "metadata": {},
   "source": [
    "# Statistcial Analysis of Telecom Plans"
   ]
  },
  {
   "cell_type": "markdown",
   "metadata": {},
   "source": [
    "# Table of contents\n",
    "* [Project description](#description) \n",
    "* [Goal](#goal)\n",
    "* [Hypothesis](#hypothesis)\n",
    "* [Description of the plans](#description_of_plans)\n",
    "* [Description of the data](#description_of_data)\n",
    "* [1 Gerneral information of Data](#description_of_data)\n",
    "    * [1.1 Conclusion](#con11)\n",
    "* [2 Data Processing](#data_processing)\n",
    "    * [2.1 Data conversion](#data_con)\n",
    "    * [2.2 Duplicates](#duplicates)\n",
    "    * [2.3 Converting Data](#data_conversion)\n",
    "* [3 Calculation](#calc)\n",
    "    * [3.1 Messages per month](#message_month)\n",
    "    * [3.2 Calls per month](#calls_month)\n",
    "    * [3.3 Internet](#internet_used)\n",
    "    * [3.4 Merging data](#merge_data)\n",
    "    * [3.5 Monthly Profit](#profit)\n",
    "    * [3.6 Conclusion](#conclusion)\n",
    "* [4 EDA](#eda)\n",
    "    * [4.1 messages](#message)\n",
    "    * [4.2 calls](#calls)\n",
    "    * [4.3 Minutes](#min)\n",
    "    * [4.4 Data](#data)\n",
    "    * [4.5 Outlier](#outlier)\n",
    "    * [4.6 Conclusion](#con11)\n",
    "* [5 Hypothesis Testing](#testing)\n",
    "    * [Test1](#test1)\n",
    "    * [Tes2](#tes2)\n",
    "* [6 Conclusion](#con_end)"
   ]
  },
  {
   "cell_type": "markdown",
   "metadata": {},
   "source": [
    "# Project description<a class=\"anchor\" id=\"description\"></a>\n",
    "\n",
    "\n",
    "You work as an analyst for the telecom operator Megaline. The company offers its clients two prepaid plans, Surf and Ultimate. The commercial department wants to know which of the plans brings in more revenue in order to adjust the advertising budget."
   ]
  },
  {
   "cell_type": "markdown",
   "metadata": {},
   "source": [
    "# Goal <a class=\"anchor\" id=\"goal\"></a>\n",
    "You are going to carry out a preliminary analysis of the plans based on a relatively small client selection. You'll have the data on 500 Megaline clients: who the clients are, where they're from, which plan they use, and the number of calls they made and text messages they sent in 2018. Your job is to analyze clients' behavior and determine which prepaid plan brings in more revenue."
   ]
  },
  {
   "cell_type": "markdown",
   "metadata": {},
   "source": [
    "# Hypothesis <a class=\"anchor\" id=\"hypothesis\"></a>\n",
    "\n",
    "1: The average revenue from users of Ultimate and Surf calling plans differs.\n",
    "\n",
    "2:  The average revenue from users in NY-NJ area is different from that of the users from other regions."
   ]
  },
  {
   "cell_type": "markdown",
   "metadata": {},
   "source": [
    "# Description of the plans<a class=\"anchor\" id=\"description_of_plans\"></a>\n",
    "Note: Megaline rounds seconds up to minutes, and megabytes to gigabytes. For calls, each individual call is rounded up: even if the call lasted just one second, it will be counted as one minute. For web traffic, individual web sessions are not rounded up. Instead, the total for the month is rounded up. If someone uses 1025 megabytes this month, they will be charged for 2 gigabytes.\n",
    "\n",
    "##### Surf\n",
    "1. Monthly charge: $20\n",
    "\n",
    "2. 500 monthly minutes, 50 texts, and 15 GB of data\n",
    "\n",
    "3. After exceeding the package limits:\n",
    "    * 1 minute: 3 cents\n",
    "    * 1 text message: 3 cents\n",
    "    * 1 GB of data: $10\n",
    "\n",
    "##### Ultimate\n",
    "1. Monthly charge: $70\n",
    "\n",
    "2. 3000 monthly minutes, 1000 text messages, and 30 GB of data\n",
    "\n",
    "3. After exceeding the package limits:\n",
    "    * 1 minute: 1 cent\n",
    "    * 1 text message: 1 cent\n",
    "    * 1 GB of data: $7"
   ]
  },
  {
   "cell_type": "markdown",
   "metadata": {},
   "source": [
    "# Description of the data<a class=\"anchor\" id=\"description_of_data\"></a>\n",
    "Remember! Megaline rounds seconds up to minutes, and megabytes to gigabytes. For calls, each individual call is rounded up: even if the call lasted just one second, it will be counted as one minute. For web traffic, individual web sessions are not rounded up. Instead, the total for the month is rounded up. If someone uses 1025 megabytes this month, they will be charged for 2 gigabytes.\n",
    "\n",
    "The users table (data on users):\n",
    "\n",
    "    * user_id — unique user identifier\n",
    "    * first_name — user's name\n",
    "    * last_name — user's last name\n",
    "    * age — user's age (years)\n",
    "    * reg_date — subscription date (dd, mm, yy)\n",
    "    * churn_date — the date the user stopped using the service (if the value is missing, \n",
    "      the calling plan was being used when this database was extracted)\n",
    "    * city — user's city of residence\n",
    "    * plan — calling plan name\n",
    "    \n",
    "The calls table (data on calls):\n",
    "\n",
    "    * id — unique call identifier\n",
    "    * call_date — call date\n",
    "    * duration — call duration (in minutes)\n",
    "    * user_id — the identifier of the user making the call\n",
    "    * The messages table (data on texts):\n",
    "    * id — unique text message identifier\n",
    "    * message_date — text message date\n",
    "    * user_id — the identifier of the user sending the text\n",
    "\n",
    "The internet table (data on web sessions):\n",
    "\n",
    "    * id — unique session identifier\n",
    "    * mb_used — the volume of data spent during the session (in megabytes)\n",
    "    * session_date — web session date\n",
    "    * user_id — user identifier\n",
    "\n",
    "The plans table (data on the plans):\n",
    " \n",
    "    * plan_name — calling plan name\n",
    "    * usd_monthly_fee — monthly charge in US dollars\n",
    "    * minutes_included — monthly minute allowance\n",
    "    * messages_included — monthly text allowance\n",
    "    * mb_per_month_included — data volume allowance (in megabytes)\n",
    "    * usd_per_minute — price per minute after exceeding the package limits (e.g., if the\n",
    "      package includes 100 minutes, the 101st minute will be charged)\n",
    "    * usd_per_message — price per text after exceeding the package limits\n",
    "    * usd_per_gb — price per extra gigabyte of data after exceeding the package limits \n",
    "      (1 GB = 1024 megabytes)\n"
   ]
  },
  {
   "cell_type": "markdown",
   "metadata": {},
   "source": [
    "### General Information of Data<a class=\"anchor\" id=\"general_info\"></a>"
   ]
  },
  {
   "cell_type": "code",
   "execution_count": 1,
   "metadata": {},
   "outputs": [],
   "source": [
    "# libraries\n",
    "import pandas as pd\n",
    "import numpy as np\n",
    "from scipy import stats as st\n",
    "import matplotlib.pyplot as plt\n",
    "%matplotlib inline\n",
    "import re\n",
    "import seaborn as sns\n",
    "# import stats from scipy\n",
    "from scipy import stats\n",
    "import warnings\n",
    "\n",
    "import warnings\n",
    "warnings.filterwarnings(action='ignore', category=np.VisibleDeprecationWarning) "
   ]
  },
  {
   "cell_type": "code",
   "execution_count": 2,
   "metadata": {},
   "outputs": [],
   "source": [
    "# reading the files\n",
    "try: \n",
    "    df_calls = pd.read_csv('megaline_calls.csv')\n",
    "    df_internet = pd.read_csv('megaline_internet.csv')\n",
    "    df_message = pd.read_csv('megaline_messages.csv')\n",
    "    df_plan = pd.read_csv('megaline_plans.csv')\n",
    "    df_user = pd.read_csv('megaline_users.csvv')\n",
    "except: \n",
    "    df_calls = pd.read_csv('/datasets/megaline_calls.csv')\n",
    "    df_internet = pd.read_csv('/datasets/megaline_internet.csv')\n",
    "    df_message = pd.read_csv('/datasets/megaline_messages.csv')\n",
    "    df_plan = pd.read_csv('/datasets/megaline_plans.csv')\n",
    "    df_user = pd.read_csv('/datasets/megaline_users.csv')"
   ]
  },
  {
   "cell_type": "code",
   "execution_count": 3,
   "metadata": {},
   "outputs": [
    {
     "data": {
      "text/html": [
       "<div>\n",
       "<style scoped>\n",
       "    .dataframe tbody tr th:only-of-type {\n",
       "        vertical-align: middle;\n",
       "    }\n",
       "\n",
       "    .dataframe tbody tr th {\n",
       "        vertical-align: top;\n",
       "    }\n",
       "\n",
       "    .dataframe thead th {\n",
       "        text-align: right;\n",
       "    }\n",
       "</style>\n",
       "<table border=\"1\" class=\"dataframe\">\n",
       "  <thead>\n",
       "    <tr style=\"text-align: right;\">\n",
       "      <th></th>\n",
       "      <th>user_id</th>\n",
       "      <th>first_name</th>\n",
       "      <th>last_name</th>\n",
       "      <th>age</th>\n",
       "      <th>city</th>\n",
       "      <th>reg_date</th>\n",
       "      <th>plan</th>\n",
       "      <th>churn_date</th>\n",
       "    </tr>\n",
       "  </thead>\n",
       "  <tbody>\n",
       "    <tr>\n",
       "      <td>0</td>\n",
       "      <td>1000</td>\n",
       "      <td>Anamaria</td>\n",
       "      <td>Bauer</td>\n",
       "      <td>45</td>\n",
       "      <td>Atlanta-Sandy Springs-Roswell, GA MSA</td>\n",
       "      <td>2018-12-24</td>\n",
       "      <td>ultimate</td>\n",
       "      <td>NaN</td>\n",
       "    </tr>\n",
       "    <tr>\n",
       "      <td>1</td>\n",
       "      <td>1001</td>\n",
       "      <td>Mickey</td>\n",
       "      <td>Wilkerson</td>\n",
       "      <td>28</td>\n",
       "      <td>Seattle-Tacoma-Bellevue, WA MSA</td>\n",
       "      <td>2018-08-13</td>\n",
       "      <td>surf</td>\n",
       "      <td>NaN</td>\n",
       "    </tr>\n",
       "    <tr>\n",
       "      <td>2</td>\n",
       "      <td>1002</td>\n",
       "      <td>Carlee</td>\n",
       "      <td>Hoffman</td>\n",
       "      <td>36</td>\n",
       "      <td>Las Vegas-Henderson-Paradise, NV MSA</td>\n",
       "      <td>2018-10-21</td>\n",
       "      <td>surf</td>\n",
       "      <td>NaN</td>\n",
       "    </tr>\n",
       "    <tr>\n",
       "      <td>3</td>\n",
       "      <td>1003</td>\n",
       "      <td>Reynaldo</td>\n",
       "      <td>Jenkins</td>\n",
       "      <td>52</td>\n",
       "      <td>Tulsa, OK MSA</td>\n",
       "      <td>2018-01-28</td>\n",
       "      <td>surf</td>\n",
       "      <td>NaN</td>\n",
       "    </tr>\n",
       "    <tr>\n",
       "      <td>4</td>\n",
       "      <td>1004</td>\n",
       "      <td>Leonila</td>\n",
       "      <td>Thompson</td>\n",
       "      <td>40</td>\n",
       "      <td>Seattle-Tacoma-Bellevue, WA MSA</td>\n",
       "      <td>2018-05-23</td>\n",
       "      <td>surf</td>\n",
       "      <td>NaN</td>\n",
       "    </tr>\n",
       "    <tr>\n",
       "      <td>5</td>\n",
       "      <td>1005</td>\n",
       "      <td>Livia</td>\n",
       "      <td>Shields</td>\n",
       "      <td>31</td>\n",
       "      <td>Dallas-Fort Worth-Arlington, TX MSA</td>\n",
       "      <td>2018-11-29</td>\n",
       "      <td>surf</td>\n",
       "      <td>NaN</td>\n",
       "    </tr>\n",
       "    <tr>\n",
       "      <td>6</td>\n",
       "      <td>1006</td>\n",
       "      <td>Jesusa</td>\n",
       "      <td>Bradford</td>\n",
       "      <td>73</td>\n",
       "      <td>San Francisco-Oakland-Berkeley, CA MSA</td>\n",
       "      <td>2018-11-27</td>\n",
       "      <td>ultimate</td>\n",
       "      <td>2018-12-18</td>\n",
       "    </tr>\n",
       "    <tr>\n",
       "      <td>7</td>\n",
       "      <td>1007</td>\n",
       "      <td>Eusebio</td>\n",
       "      <td>Welch</td>\n",
       "      <td>42</td>\n",
       "      <td>Grand Rapids-Kentwood, MI MSA</td>\n",
       "      <td>2018-07-11</td>\n",
       "      <td>surf</td>\n",
       "      <td>NaN</td>\n",
       "    </tr>\n",
       "    <tr>\n",
       "      <td>8</td>\n",
       "      <td>1008</td>\n",
       "      <td>Emely</td>\n",
       "      <td>Hoffman</td>\n",
       "      <td>53</td>\n",
       "      <td>Orlando-Kissimmee-Sanford, FL MSA</td>\n",
       "      <td>2018-08-03</td>\n",
       "      <td>ultimate</td>\n",
       "      <td>NaN</td>\n",
       "    </tr>\n",
       "    <tr>\n",
       "      <td>9</td>\n",
       "      <td>1009</td>\n",
       "      <td>Gerry</td>\n",
       "      <td>Little</td>\n",
       "      <td>19</td>\n",
       "      <td>San Jose-Sunnyvale-Santa Clara, CA MSA</td>\n",
       "      <td>2018-04-22</td>\n",
       "      <td>surf</td>\n",
       "      <td>NaN</td>\n",
       "    </tr>\n",
       "  </tbody>\n",
       "</table>\n",
       "</div>"
      ],
      "text/plain": [
       "   user_id first_name  last_name  age                                    city  \\\n",
       "0     1000   Anamaria      Bauer   45   Atlanta-Sandy Springs-Roswell, GA MSA   \n",
       "1     1001     Mickey  Wilkerson   28         Seattle-Tacoma-Bellevue, WA MSA   \n",
       "2     1002     Carlee    Hoffman   36    Las Vegas-Henderson-Paradise, NV MSA   \n",
       "3     1003   Reynaldo    Jenkins   52                           Tulsa, OK MSA   \n",
       "4     1004    Leonila   Thompson   40         Seattle-Tacoma-Bellevue, WA MSA   \n",
       "5     1005      Livia    Shields   31     Dallas-Fort Worth-Arlington, TX MSA   \n",
       "6     1006     Jesusa   Bradford   73  San Francisco-Oakland-Berkeley, CA MSA   \n",
       "7     1007    Eusebio      Welch   42           Grand Rapids-Kentwood, MI MSA   \n",
       "8     1008      Emely    Hoffman   53       Orlando-Kissimmee-Sanford, FL MSA   \n",
       "9     1009      Gerry     Little   19  San Jose-Sunnyvale-Santa Clara, CA MSA   \n",
       "\n",
       "     reg_date      plan  churn_date  \n",
       "0  2018-12-24  ultimate         NaN  \n",
       "1  2018-08-13      surf         NaN  \n",
       "2  2018-10-21      surf         NaN  \n",
       "3  2018-01-28      surf         NaN  \n",
       "4  2018-05-23      surf         NaN  \n",
       "5  2018-11-29      surf         NaN  \n",
       "6  2018-11-27  ultimate  2018-12-18  \n",
       "7  2018-07-11      surf         NaN  \n",
       "8  2018-08-03  ultimate         NaN  \n",
       "9  2018-04-22      surf         NaN  "
      ]
     },
     "execution_count": 3,
     "metadata": {},
     "output_type": "execute_result"
    }
   ],
   "source": [
    "# learning more about the user data\n",
    "df_user.head(10)"
   ]
  },
  {
   "cell_type": "code",
   "execution_count": 4,
   "metadata": {},
   "outputs": [
    {
     "name": "stdout",
     "output_type": "stream",
     "text": [
      "<class 'pandas.core.frame.DataFrame'>\n",
      "RangeIndex: 500 entries, 0 to 499\n",
      "Data columns (total 8 columns):\n",
      "user_id       500 non-null int64\n",
      "first_name    500 non-null object\n",
      "last_name     500 non-null object\n",
      "age           500 non-null int64\n",
      "city          500 non-null object\n",
      "reg_date      500 non-null object\n",
      "plan          500 non-null object\n",
      "churn_date    34 non-null object\n",
      "dtypes: int64(2), object(6)\n",
      "memory usage: 31.4+ KB\n"
     ]
    }
   ],
   "source": [
    "df_user.info()"
   ]
  },
  {
   "cell_type": "code",
   "execution_count": 5,
   "metadata": {},
   "outputs": [
    {
     "data": {
      "text/html": [
       "<div>\n",
       "<style scoped>\n",
       "    .dataframe tbody tr th:only-of-type {\n",
       "        vertical-align: middle;\n",
       "    }\n",
       "\n",
       "    .dataframe tbody tr th {\n",
       "        vertical-align: top;\n",
       "    }\n",
       "\n",
       "    .dataframe thead th {\n",
       "        text-align: right;\n",
       "    }\n",
       "</style>\n",
       "<table border=\"1\" class=\"dataframe\">\n",
       "  <thead>\n",
       "    <tr style=\"text-align: right;\">\n",
       "      <th></th>\n",
       "      <th>user_id</th>\n",
       "      <th>age</th>\n",
       "    </tr>\n",
       "  </thead>\n",
       "  <tbody>\n",
       "    <tr>\n",
       "      <td>count</td>\n",
       "      <td>500.000000</td>\n",
       "      <td>500.000000</td>\n",
       "    </tr>\n",
       "    <tr>\n",
       "      <td>mean</td>\n",
       "      <td>1249.500000</td>\n",
       "      <td>45.486000</td>\n",
       "    </tr>\n",
       "    <tr>\n",
       "      <td>std</td>\n",
       "      <td>144.481833</td>\n",
       "      <td>16.972269</td>\n",
       "    </tr>\n",
       "    <tr>\n",
       "      <td>min</td>\n",
       "      <td>1000.000000</td>\n",
       "      <td>18.000000</td>\n",
       "    </tr>\n",
       "    <tr>\n",
       "      <td>25%</td>\n",
       "      <td>1124.750000</td>\n",
       "      <td>30.000000</td>\n",
       "    </tr>\n",
       "    <tr>\n",
       "      <td>50%</td>\n",
       "      <td>1249.500000</td>\n",
       "      <td>46.000000</td>\n",
       "    </tr>\n",
       "    <tr>\n",
       "      <td>75%</td>\n",
       "      <td>1374.250000</td>\n",
       "      <td>61.000000</td>\n",
       "    </tr>\n",
       "    <tr>\n",
       "      <td>max</td>\n",
       "      <td>1499.000000</td>\n",
       "      <td>75.000000</td>\n",
       "    </tr>\n",
       "  </tbody>\n",
       "</table>\n",
       "</div>"
      ],
      "text/plain": [
       "           user_id         age\n",
       "count   500.000000  500.000000\n",
       "mean   1249.500000   45.486000\n",
       "std     144.481833   16.972269\n",
       "min    1000.000000   18.000000\n",
       "25%    1124.750000   30.000000\n",
       "50%    1249.500000   46.000000\n",
       "75%    1374.250000   61.000000\n",
       "max    1499.000000   75.000000"
      ]
     },
     "execution_count": 5,
     "metadata": {},
     "output_type": "execute_result"
    }
   ],
   "source": [
    "df_user.describe()"
   ]
  },
  {
   "cell_type": "markdown",
   "metadata": {},
   "source": [
    "The user data we can see how there is no missing data present  except for churn_date which is the only column with missing data. We also need to change the data type to datetime for churn_date."
   ]
  },
  {
   "cell_type": "code",
   "execution_count": 6,
   "metadata": {},
   "outputs": [
    {
     "data": {
      "text/html": [
       "<div>\n",
       "<style scoped>\n",
       "    .dataframe tbody tr th:only-of-type {\n",
       "        vertical-align: middle;\n",
       "    }\n",
       "\n",
       "    .dataframe tbody tr th {\n",
       "        vertical-align: top;\n",
       "    }\n",
       "\n",
       "    .dataframe thead th {\n",
       "        text-align: right;\n",
       "    }\n",
       "</style>\n",
       "<table border=\"1\" class=\"dataframe\">\n",
       "  <thead>\n",
       "    <tr style=\"text-align: right;\">\n",
       "      <th></th>\n",
       "      <th>id</th>\n",
       "      <th>user_id</th>\n",
       "      <th>call_date</th>\n",
       "      <th>duration</th>\n",
       "    </tr>\n",
       "  </thead>\n",
       "  <tbody>\n",
       "    <tr>\n",
       "      <td>0</td>\n",
       "      <td>1000_93</td>\n",
       "      <td>1000</td>\n",
       "      <td>2018-12-27</td>\n",
       "      <td>8.52</td>\n",
       "    </tr>\n",
       "    <tr>\n",
       "      <td>1</td>\n",
       "      <td>1000_145</td>\n",
       "      <td>1000</td>\n",
       "      <td>2018-12-27</td>\n",
       "      <td>13.66</td>\n",
       "    </tr>\n",
       "    <tr>\n",
       "      <td>2</td>\n",
       "      <td>1000_247</td>\n",
       "      <td>1000</td>\n",
       "      <td>2018-12-27</td>\n",
       "      <td>14.48</td>\n",
       "    </tr>\n",
       "    <tr>\n",
       "      <td>3</td>\n",
       "      <td>1000_309</td>\n",
       "      <td>1000</td>\n",
       "      <td>2018-12-28</td>\n",
       "      <td>5.76</td>\n",
       "    </tr>\n",
       "    <tr>\n",
       "      <td>4</td>\n",
       "      <td>1000_380</td>\n",
       "      <td>1000</td>\n",
       "      <td>2018-12-30</td>\n",
       "      <td>4.22</td>\n",
       "    </tr>\n",
       "  </tbody>\n",
       "</table>\n",
       "</div>"
      ],
      "text/plain": [
       "         id  user_id   call_date  duration\n",
       "0   1000_93     1000  2018-12-27      8.52\n",
       "1  1000_145     1000  2018-12-27     13.66\n",
       "2  1000_247     1000  2018-12-27     14.48\n",
       "3  1000_309     1000  2018-12-28      5.76\n",
       "4  1000_380     1000  2018-12-30      4.22"
      ]
     },
     "execution_count": 6,
     "metadata": {},
     "output_type": "execute_result"
    }
   ],
   "source": [
    "#learn about the calls\n",
    "df_calls.head()"
   ]
  },
  {
   "cell_type": "code",
   "execution_count": 7,
   "metadata": {},
   "outputs": [
    {
     "data": {
      "text/html": [
       "<div>\n",
       "<style scoped>\n",
       "    .dataframe tbody tr th:only-of-type {\n",
       "        vertical-align: middle;\n",
       "    }\n",
       "\n",
       "    .dataframe tbody tr th {\n",
       "        vertical-align: top;\n",
       "    }\n",
       "\n",
       "    .dataframe thead th {\n",
       "        text-align: right;\n",
       "    }\n",
       "</style>\n",
       "<table border=\"1\" class=\"dataframe\">\n",
       "  <thead>\n",
       "    <tr style=\"text-align: right;\">\n",
       "      <th></th>\n",
       "      <th>user_id</th>\n",
       "      <th>duration</th>\n",
       "    </tr>\n",
       "  </thead>\n",
       "  <tbody>\n",
       "    <tr>\n",
       "      <td>count</td>\n",
       "      <td>137735.000000</td>\n",
       "      <td>137735.000000</td>\n",
       "    </tr>\n",
       "    <tr>\n",
       "      <td>mean</td>\n",
       "      <td>1247.658046</td>\n",
       "      <td>6.745927</td>\n",
       "    </tr>\n",
       "    <tr>\n",
       "      <td>std</td>\n",
       "      <td>139.416268</td>\n",
       "      <td>5.839241</td>\n",
       "    </tr>\n",
       "    <tr>\n",
       "      <td>min</td>\n",
       "      <td>1000.000000</td>\n",
       "      <td>0.000000</td>\n",
       "    </tr>\n",
       "    <tr>\n",
       "      <td>25%</td>\n",
       "      <td>1128.000000</td>\n",
       "      <td>1.290000</td>\n",
       "    </tr>\n",
       "    <tr>\n",
       "      <td>50%</td>\n",
       "      <td>1247.000000</td>\n",
       "      <td>5.980000</td>\n",
       "    </tr>\n",
       "    <tr>\n",
       "      <td>75%</td>\n",
       "      <td>1365.000000</td>\n",
       "      <td>10.690000</td>\n",
       "    </tr>\n",
       "    <tr>\n",
       "      <td>max</td>\n",
       "      <td>1499.000000</td>\n",
       "      <td>37.600000</td>\n",
       "    </tr>\n",
       "  </tbody>\n",
       "</table>\n",
       "</div>"
      ],
      "text/plain": [
       "             user_id       duration\n",
       "count  137735.000000  137735.000000\n",
       "mean     1247.658046       6.745927\n",
       "std       139.416268       5.839241\n",
       "min      1000.000000       0.000000\n",
       "25%      1128.000000       1.290000\n",
       "50%      1247.000000       5.980000\n",
       "75%      1365.000000      10.690000\n",
       "max      1499.000000      37.600000"
      ]
     },
     "execution_count": 7,
     "metadata": {},
     "output_type": "execute_result"
    }
   ],
   "source": [
    "df_calls.describe()"
   ]
  },
  {
   "cell_type": "code",
   "execution_count": 8,
   "metadata": {},
   "outputs": [
    {
     "name": "stdout",
     "output_type": "stream",
     "text": [
      "<class 'pandas.core.frame.DataFrame'>\n",
      "RangeIndex: 137735 entries, 0 to 137734\n",
      "Data columns (total 4 columns):\n",
      "id           137735 non-null object\n",
      "user_id      137735 non-null int64\n",
      "call_date    137735 non-null object\n",
      "duration     137735 non-null float64\n",
      "dtypes: float64(1), int64(1), object(2)\n",
      "memory usage: 4.2+ MB\n"
     ]
    }
   ],
   "source": [
    "df_calls.info()"
   ]
  },
  {
   "cell_type": "markdown",
   "metadata": {},
   "source": [
    "No missing data, but data type needs to be changed from object to datetime."
   ]
  },
  {
   "cell_type": "code",
   "execution_count": 9,
   "metadata": {},
   "outputs": [
    {
     "data": {
      "text/html": [
       "<div>\n",
       "<style scoped>\n",
       "    .dataframe tbody tr th:only-of-type {\n",
       "        vertical-align: middle;\n",
       "    }\n",
       "\n",
       "    .dataframe tbody tr th {\n",
       "        vertical-align: top;\n",
       "    }\n",
       "\n",
       "    .dataframe thead th {\n",
       "        text-align: right;\n",
       "    }\n",
       "</style>\n",
       "<table border=\"1\" class=\"dataframe\">\n",
       "  <thead>\n",
       "    <tr style=\"text-align: right;\">\n",
       "      <th></th>\n",
       "      <th>id</th>\n",
       "      <th>user_id</th>\n",
       "      <th>message_date</th>\n",
       "    </tr>\n",
       "  </thead>\n",
       "  <tbody>\n",
       "    <tr>\n",
       "      <td>0</td>\n",
       "      <td>1000_125</td>\n",
       "      <td>1000</td>\n",
       "      <td>2018-12-27</td>\n",
       "    </tr>\n",
       "    <tr>\n",
       "      <td>1</td>\n",
       "      <td>1000_160</td>\n",
       "      <td>1000</td>\n",
       "      <td>2018-12-31</td>\n",
       "    </tr>\n",
       "    <tr>\n",
       "      <td>2</td>\n",
       "      <td>1000_223</td>\n",
       "      <td>1000</td>\n",
       "      <td>2018-12-31</td>\n",
       "    </tr>\n",
       "    <tr>\n",
       "      <td>3</td>\n",
       "      <td>1000_251</td>\n",
       "      <td>1000</td>\n",
       "      <td>2018-12-27</td>\n",
       "    </tr>\n",
       "    <tr>\n",
       "      <td>4</td>\n",
       "      <td>1000_255</td>\n",
       "      <td>1000</td>\n",
       "      <td>2018-12-26</td>\n",
       "    </tr>\n",
       "  </tbody>\n",
       "</table>\n",
       "</div>"
      ],
      "text/plain": [
       "         id  user_id message_date\n",
       "0  1000_125     1000   2018-12-27\n",
       "1  1000_160     1000   2018-12-31\n",
       "2  1000_223     1000   2018-12-31\n",
       "3  1000_251     1000   2018-12-27\n",
       "4  1000_255     1000   2018-12-26"
      ]
     },
     "execution_count": 9,
     "metadata": {},
     "output_type": "execute_result"
    }
   ],
   "source": [
    "# learn more about the messages\n",
    "df_message.head()"
   ]
  },
  {
   "cell_type": "code",
   "execution_count": 10,
   "metadata": {},
   "outputs": [
    {
     "data": {
      "text/html": [
       "<div>\n",
       "<style scoped>\n",
       "    .dataframe tbody tr th:only-of-type {\n",
       "        vertical-align: middle;\n",
       "    }\n",
       "\n",
       "    .dataframe tbody tr th {\n",
       "        vertical-align: top;\n",
       "    }\n",
       "\n",
       "    .dataframe thead th {\n",
       "        text-align: right;\n",
       "    }\n",
       "</style>\n",
       "<table border=\"1\" class=\"dataframe\">\n",
       "  <thead>\n",
       "    <tr style=\"text-align: right;\">\n",
       "      <th></th>\n",
       "      <th>user_id</th>\n",
       "    </tr>\n",
       "  </thead>\n",
       "  <tbody>\n",
       "    <tr>\n",
       "      <td>count</td>\n",
       "      <td>76051.000000</td>\n",
       "    </tr>\n",
       "    <tr>\n",
       "      <td>mean</td>\n",
       "      <td>1245.972768</td>\n",
       "    </tr>\n",
       "    <tr>\n",
       "      <td>std</td>\n",
       "      <td>139.843635</td>\n",
       "    </tr>\n",
       "    <tr>\n",
       "      <td>min</td>\n",
       "      <td>1000.000000</td>\n",
       "    </tr>\n",
       "    <tr>\n",
       "      <td>25%</td>\n",
       "      <td>1123.000000</td>\n",
       "    </tr>\n",
       "    <tr>\n",
       "      <td>50%</td>\n",
       "      <td>1251.000000</td>\n",
       "    </tr>\n",
       "    <tr>\n",
       "      <td>75%</td>\n",
       "      <td>1362.000000</td>\n",
       "    </tr>\n",
       "    <tr>\n",
       "      <td>max</td>\n",
       "      <td>1497.000000</td>\n",
       "    </tr>\n",
       "  </tbody>\n",
       "</table>\n",
       "</div>"
      ],
      "text/plain": [
       "            user_id\n",
       "count  76051.000000\n",
       "mean    1245.972768\n",
       "std      139.843635\n",
       "min     1000.000000\n",
       "25%     1123.000000\n",
       "50%     1251.000000\n",
       "75%     1362.000000\n",
       "max     1497.000000"
      ]
     },
     "execution_count": 10,
     "metadata": {},
     "output_type": "execute_result"
    }
   ],
   "source": [
    "df_message.describe()"
   ]
  },
  {
   "cell_type": "code",
   "execution_count": 11,
   "metadata": {},
   "outputs": [
    {
     "name": "stdout",
     "output_type": "stream",
     "text": [
      "<class 'pandas.core.frame.DataFrame'>\n",
      "RangeIndex: 76051 entries, 0 to 76050\n",
      "Data columns (total 3 columns):\n",
      "id              76051 non-null object\n",
      "user_id         76051 non-null int64\n",
      "message_date    76051 non-null object\n",
      "dtypes: int64(1), object(2)\n",
      "memory usage: 1.7+ MB\n"
     ]
    }
   ],
   "source": [
    "df_message.info()"
   ]
  },
  {
   "cell_type": "markdown",
   "metadata": {},
   "source": [
    "No missing values but datetype needs to change from object to datetime for message_date."
   ]
  },
  {
   "cell_type": "code",
   "execution_count": 12,
   "metadata": {},
   "outputs": [
    {
     "data": {
      "text/html": [
       "<div>\n",
       "<style scoped>\n",
       "    .dataframe tbody tr th:only-of-type {\n",
       "        vertical-align: middle;\n",
       "    }\n",
       "\n",
       "    .dataframe tbody tr th {\n",
       "        vertical-align: top;\n",
       "    }\n",
       "\n",
       "    .dataframe thead th {\n",
       "        text-align: right;\n",
       "    }\n",
       "</style>\n",
       "<table border=\"1\" class=\"dataframe\">\n",
       "  <thead>\n",
       "    <tr style=\"text-align: right;\">\n",
       "      <th></th>\n",
       "      <th>messages_included</th>\n",
       "      <th>mb_per_month_included</th>\n",
       "      <th>minutes_included</th>\n",
       "      <th>usd_monthly_pay</th>\n",
       "      <th>usd_per_gb</th>\n",
       "      <th>usd_per_message</th>\n",
       "      <th>usd_per_minute</th>\n",
       "      <th>plan_name</th>\n",
       "    </tr>\n",
       "  </thead>\n",
       "  <tbody>\n",
       "    <tr>\n",
       "      <td>0</td>\n",
       "      <td>50</td>\n",
       "      <td>15360</td>\n",
       "      <td>500</td>\n",
       "      <td>20</td>\n",
       "      <td>10</td>\n",
       "      <td>0.03</td>\n",
       "      <td>0.03</td>\n",
       "      <td>surf</td>\n",
       "    </tr>\n",
       "    <tr>\n",
       "      <td>1</td>\n",
       "      <td>1000</td>\n",
       "      <td>30720</td>\n",
       "      <td>3000</td>\n",
       "      <td>70</td>\n",
       "      <td>7</td>\n",
       "      <td>0.01</td>\n",
       "      <td>0.01</td>\n",
       "      <td>ultimate</td>\n",
       "    </tr>\n",
       "  </tbody>\n",
       "</table>\n",
       "</div>"
      ],
      "text/plain": [
       "   messages_included  mb_per_month_included  minutes_included  \\\n",
       "0                 50                  15360               500   \n",
       "1               1000                  30720              3000   \n",
       "\n",
       "   usd_monthly_pay  usd_per_gb  usd_per_message  usd_per_minute plan_name  \n",
       "0               20          10             0.03            0.03      surf  \n",
       "1               70           7             0.01            0.01  ultimate  "
      ]
     },
     "execution_count": 12,
     "metadata": {},
     "output_type": "execute_result"
    }
   ],
   "source": [
    "# plans \n",
    "df_plan.head()"
   ]
  },
  {
   "cell_type": "code",
   "execution_count": 13,
   "metadata": {},
   "outputs": [
    {
     "name": "stdout",
     "output_type": "stream",
     "text": [
      "<class 'pandas.core.frame.DataFrame'>\n",
      "RangeIndex: 2 entries, 0 to 1\n",
      "Data columns (total 8 columns):\n",
      "messages_included        2 non-null int64\n",
      "mb_per_month_included    2 non-null int64\n",
      "minutes_included         2 non-null int64\n",
      "usd_monthly_pay          2 non-null int64\n",
      "usd_per_gb               2 non-null int64\n",
      "usd_per_message          2 non-null float64\n",
      "usd_per_minute           2 non-null float64\n",
      "plan_name                2 non-null object\n",
      "dtypes: float64(2), int64(5), object(1)\n",
      "memory usage: 256.0+ bytes\n"
     ]
    }
   ],
   "source": [
    "df_plan.info()"
   ]
  },
  {
   "cell_type": "markdown",
   "metadata": {},
   "source": [
    "The data looks good, no missing values."
   ]
  },
  {
   "cell_type": "code",
   "execution_count": 14,
   "metadata": {},
   "outputs": [
    {
     "data": {
      "text/html": [
       "<div>\n",
       "<style scoped>\n",
       "    .dataframe tbody tr th:only-of-type {\n",
       "        vertical-align: middle;\n",
       "    }\n",
       "\n",
       "    .dataframe tbody tr th {\n",
       "        vertical-align: top;\n",
       "    }\n",
       "\n",
       "    .dataframe thead th {\n",
       "        text-align: right;\n",
       "    }\n",
       "</style>\n",
       "<table border=\"1\" class=\"dataframe\">\n",
       "  <thead>\n",
       "    <tr style=\"text-align: right;\">\n",
       "      <th></th>\n",
       "      <th>id</th>\n",
       "      <th>user_id</th>\n",
       "      <th>session_date</th>\n",
       "      <th>mb_used</th>\n",
       "    </tr>\n",
       "  </thead>\n",
       "  <tbody>\n",
       "    <tr>\n",
       "      <td>0</td>\n",
       "      <td>1000_13</td>\n",
       "      <td>1000</td>\n",
       "      <td>2018-12-29</td>\n",
       "      <td>89.86</td>\n",
       "    </tr>\n",
       "    <tr>\n",
       "      <td>1</td>\n",
       "      <td>1000_204</td>\n",
       "      <td>1000</td>\n",
       "      <td>2018-12-31</td>\n",
       "      <td>0.00</td>\n",
       "    </tr>\n",
       "    <tr>\n",
       "      <td>2</td>\n",
       "      <td>1000_379</td>\n",
       "      <td>1000</td>\n",
       "      <td>2018-12-28</td>\n",
       "      <td>660.40</td>\n",
       "    </tr>\n",
       "    <tr>\n",
       "      <td>3</td>\n",
       "      <td>1000_413</td>\n",
       "      <td>1000</td>\n",
       "      <td>2018-12-26</td>\n",
       "      <td>270.99</td>\n",
       "    </tr>\n",
       "    <tr>\n",
       "      <td>4</td>\n",
       "      <td>1000_442</td>\n",
       "      <td>1000</td>\n",
       "      <td>2018-12-27</td>\n",
       "      <td>880.22</td>\n",
       "    </tr>\n",
       "  </tbody>\n",
       "</table>\n",
       "</div>"
      ],
      "text/plain": [
       "         id  user_id session_date  mb_used\n",
       "0   1000_13     1000   2018-12-29    89.86\n",
       "1  1000_204     1000   2018-12-31     0.00\n",
       "2  1000_379     1000   2018-12-28   660.40\n",
       "3  1000_413     1000   2018-12-26   270.99\n",
       "4  1000_442     1000   2018-12-27   880.22"
      ]
     },
     "execution_count": 14,
     "metadata": {},
     "output_type": "execute_result"
    }
   ],
   "source": [
    "# the internet\n",
    "df_internet.head()"
   ]
  },
  {
   "cell_type": "code",
   "execution_count": 15,
   "metadata": {},
   "outputs": [
    {
     "name": "stdout",
     "output_type": "stream",
     "text": [
      "<class 'pandas.core.frame.DataFrame'>\n",
      "RangeIndex: 104825 entries, 0 to 104824\n",
      "Data columns (total 4 columns):\n",
      "id              104825 non-null object\n",
      "user_id         104825 non-null int64\n",
      "session_date    104825 non-null object\n",
      "mb_used         104825 non-null float64\n",
      "dtypes: float64(1), int64(1), object(2)\n",
      "memory usage: 3.2+ MB\n"
     ]
    }
   ],
   "source": [
    "df_internet.info()"
   ]
  },
  {
   "cell_type": "markdown",
   "metadata": {},
   "source": [
    "No missing values, but need to change session_date data type to datetime."
   ]
  },
  {
   "cell_type": "markdown",
   "metadata": {},
   "source": [
    "#### Conclusion:<a class=\"anchor\" id=\"con11\"></a>\n",
    "\n",
    "Overall, the data seems to be clean and there is no missing data excpet for one column in df_cells. In addition, there are data types that need to be changed to data time for the date columns."
   ]
  },
  {
   "cell_type": "markdown",
   "metadata": {},
   "source": [
    "### Data Prepocessing<a class=\"anchor\" id=\"data_processing\"></a>"
   ]
  },
  {
   "cell_type": "markdown",
   "metadata": {},
   "source": [
    "#### Date conversion<a class=\"anchor\" id=\"data_con\"></a>"
   ]
  },
  {
   "cell_type": "code",
   "execution_count": 16,
   "metadata": {},
   "outputs": [],
   "source": [
    " #converting data types to datetime\n",
    "\n",
    "df_user['reg_date'] = pd.to_datetime(df_user['reg_date'],format= \"%Y-%m-%d\")\n",
    "df_user['churn_date'] = pd.to_datetime(df_user['churn_date'],format= \"%Y-%m-%d\")\n",
    "df_internet['session_date'] = pd.to_datetime(df_internet['session_date'],format= \"%Y-%m-%d\")\n",
    "df_message['message_date'] = pd.to_datetime(df_message['message_date'],format= \"%Y-%m-%d\")\n",
    "df_calls['call_date'] = pd.to_datetime(df_calls['call_date'],format= \"%Y-%m-%d\")"
   ]
  },
  {
   "cell_type": "code",
   "execution_count": 17,
   "metadata": {},
   "outputs": [],
   "source": [
    "#rounding number of calls \n",
    "df_calls['total_min'] = np.ceil((df_calls['duration'].values))"
   ]
  },
  {
   "cell_type": "code",
   "execution_count": 18,
   "metadata": {},
   "outputs": [
    {
     "data": {
      "text/html": [
       "<div>\n",
       "<style scoped>\n",
       "    .dataframe tbody tr th:only-of-type {\n",
       "        vertical-align: middle;\n",
       "    }\n",
       "\n",
       "    .dataframe tbody tr th {\n",
       "        vertical-align: top;\n",
       "    }\n",
       "\n",
       "    .dataframe thead th {\n",
       "        text-align: right;\n",
       "    }\n",
       "</style>\n",
       "<table border=\"1\" class=\"dataframe\">\n",
       "  <thead>\n",
       "    <tr style=\"text-align: right;\">\n",
       "      <th></th>\n",
       "      <th>user_id</th>\n",
       "      <th>first_name</th>\n",
       "      <th>last_name</th>\n",
       "      <th>age</th>\n",
       "      <th>city</th>\n",
       "      <th>reg_date</th>\n",
       "      <th>plan</th>\n",
       "      <th>churn_date</th>\n",
       "    </tr>\n",
       "  </thead>\n",
       "  <tbody>\n",
       "    <tr>\n",
       "      <td>0</td>\n",
       "      <td>1000</td>\n",
       "      <td>Anamaria</td>\n",
       "      <td>Bauer</td>\n",
       "      <td>45</td>\n",
       "      <td>Atlanta-Sandy Springs-Roswell, GA MSA</td>\n",
       "      <td>2018-12-24</td>\n",
       "      <td>ultimate</td>\n",
       "      <td>NaT</td>\n",
       "    </tr>\n",
       "    <tr>\n",
       "      <td>1</td>\n",
       "      <td>1001</td>\n",
       "      <td>Mickey</td>\n",
       "      <td>Wilkerson</td>\n",
       "      <td>28</td>\n",
       "      <td>Seattle-Tacoma-Bellevue, WA MSA</td>\n",
       "      <td>2018-08-13</td>\n",
       "      <td>surf</td>\n",
       "      <td>NaT</td>\n",
       "    </tr>\n",
       "    <tr>\n",
       "      <td>2</td>\n",
       "      <td>1002</td>\n",
       "      <td>Carlee</td>\n",
       "      <td>Hoffman</td>\n",
       "      <td>36</td>\n",
       "      <td>Las Vegas-Henderson-Paradise, NV MSA</td>\n",
       "      <td>2018-10-21</td>\n",
       "      <td>surf</td>\n",
       "      <td>NaT</td>\n",
       "    </tr>\n",
       "    <tr>\n",
       "      <td>3</td>\n",
       "      <td>1003</td>\n",
       "      <td>Reynaldo</td>\n",
       "      <td>Jenkins</td>\n",
       "      <td>52</td>\n",
       "      <td>Tulsa, OK MSA</td>\n",
       "      <td>2018-01-28</td>\n",
       "      <td>surf</td>\n",
       "      <td>NaT</td>\n",
       "    </tr>\n",
       "    <tr>\n",
       "      <td>4</td>\n",
       "      <td>1004</td>\n",
       "      <td>Leonila</td>\n",
       "      <td>Thompson</td>\n",
       "      <td>40</td>\n",
       "      <td>Seattle-Tacoma-Bellevue, WA MSA</td>\n",
       "      <td>2018-05-23</td>\n",
       "      <td>surf</td>\n",
       "      <td>NaT</td>\n",
       "    </tr>\n",
       "  </tbody>\n",
       "</table>\n",
       "</div>"
      ],
      "text/plain": [
       "   user_id first_name  last_name  age                                   city  \\\n",
       "0     1000   Anamaria      Bauer   45  Atlanta-Sandy Springs-Roswell, GA MSA   \n",
       "1     1001     Mickey  Wilkerson   28        Seattle-Tacoma-Bellevue, WA MSA   \n",
       "2     1002     Carlee    Hoffman   36   Las Vegas-Henderson-Paradise, NV MSA   \n",
       "3     1003   Reynaldo    Jenkins   52                          Tulsa, OK MSA   \n",
       "4     1004    Leonila   Thompson   40        Seattle-Tacoma-Bellevue, WA MSA   \n",
       "\n",
       "    reg_date      plan churn_date  \n",
       "0 2018-12-24  ultimate        NaT  \n",
       "1 2018-08-13      surf        NaT  \n",
       "2 2018-10-21      surf        NaT  \n",
       "3 2018-01-28      surf        NaT  \n",
       "4 2018-05-23      surf        NaT  "
      ]
     },
     "execution_count": 18,
     "metadata": {},
     "output_type": "execute_result"
    }
   ],
   "source": [
    "df_user.head()"
   ]
  },
  {
   "cell_type": "markdown",
   "metadata": {},
   "source": [
    "#### Duplicates<a class=\"anchor\" id=\"duplicates\"></a>"
   ]
  },
  {
   "cell_type": "code",
   "execution_count": 19,
   "metadata": {},
   "outputs": [
    {
     "name": "stdout",
     "output_type": "stream",
     "text": [
      "None\n",
      "None\n",
      "None\n",
      "None\n",
      "None\n"
     ]
    }
   ],
   "source": [
    "#find duplicates\n",
    "store = []\n",
    "for dups in [df_user, df_message, df_calls, df_internet, df_plan]:\n",
    "    print(store.append(dups.duplicated().sum()))"
   ]
  },
  {
   "cell_type": "markdown",
   "metadata": {},
   "source": [
    "There are no duplictes present."
   ]
  },
  {
   "cell_type": "markdown",
   "metadata": {},
   "source": [
    "#### Converting Data <a class=\"anchor\" id=\"data_conversion\"></a>"
   ]
  },
  {
   "cell_type": "code",
   "execution_count": 20,
   "metadata": {},
   "outputs": [
    {
     "data": {
      "text/html": [
       "<div>\n",
       "<style scoped>\n",
       "    .dataframe tbody tr th:only-of-type {\n",
       "        vertical-align: middle;\n",
       "    }\n",
       "\n",
       "    .dataframe tbody tr th {\n",
       "        vertical-align: top;\n",
       "    }\n",
       "\n",
       "    .dataframe thead th {\n",
       "        text-align: right;\n",
       "    }\n",
       "</style>\n",
       "<table border=\"1\" class=\"dataframe\">\n",
       "  <thead>\n",
       "    <tr style=\"text-align: right;\">\n",
       "      <th></th>\n",
       "      <th>id</th>\n",
       "      <th>user_id</th>\n",
       "      <th>call_date</th>\n",
       "      <th>duration</th>\n",
       "      <th>total_min</th>\n",
       "    </tr>\n",
       "  </thead>\n",
       "  <tbody>\n",
       "    <tr>\n",
       "      <td>0</td>\n",
       "      <td>1000_93</td>\n",
       "      <td>1000</td>\n",
       "      <td>2018-12-27</td>\n",
       "      <td>8.52</td>\n",
       "      <td>9.0</td>\n",
       "    </tr>\n",
       "    <tr>\n",
       "      <td>1</td>\n",
       "      <td>1000_145</td>\n",
       "      <td>1000</td>\n",
       "      <td>2018-12-27</td>\n",
       "      <td>13.66</td>\n",
       "      <td>14.0</td>\n",
       "    </tr>\n",
       "    <tr>\n",
       "      <td>2</td>\n",
       "      <td>1000_247</td>\n",
       "      <td>1000</td>\n",
       "      <td>2018-12-27</td>\n",
       "      <td>14.48</td>\n",
       "      <td>15.0</td>\n",
       "    </tr>\n",
       "    <tr>\n",
       "      <td>3</td>\n",
       "      <td>1000_309</td>\n",
       "      <td>1000</td>\n",
       "      <td>2018-12-28</td>\n",
       "      <td>5.76</td>\n",
       "      <td>6.0</td>\n",
       "    </tr>\n",
       "    <tr>\n",
       "      <td>4</td>\n",
       "      <td>1000_380</td>\n",
       "      <td>1000</td>\n",
       "      <td>2018-12-30</td>\n",
       "      <td>4.22</td>\n",
       "      <td>5.0</td>\n",
       "    </tr>\n",
       "  </tbody>\n",
       "</table>\n",
       "</div>"
      ],
      "text/plain": [
       "         id  user_id  call_date  duration  total_min\n",
       "0   1000_93     1000 2018-12-27      8.52        9.0\n",
       "1  1000_145     1000 2018-12-27     13.66       14.0\n",
       "2  1000_247     1000 2018-12-27     14.48       15.0\n",
       "3  1000_309     1000 2018-12-28      5.76        6.0\n",
       "4  1000_380     1000 2018-12-30      4.22        5.0"
      ]
     },
     "execution_count": 20,
     "metadata": {},
     "output_type": "execute_result"
    }
   ],
   "source": [
    "df_calls.head()"
   ]
  },
  {
   "cell_type": "code",
   "execution_count": 21,
   "metadata": {},
   "outputs": [],
   "source": [
    "# create new columns for to add month \n",
    "df_calls['month'] = df_calls['call_date'].dt.month_name()\n",
    "df_user['month'] = df_user['reg_date'].dt.month_name()\n",
    "df_internet['month'] = df_internet['session_date'].dt.month_name()\n",
    "df_message['month'] = df_message['message_date'].dt.month_name()"
   ]
  },
  {
   "cell_type": "code",
   "execution_count": 22,
   "metadata": {},
   "outputs": [
    {
     "data": {
      "text/html": [
       "<div>\n",
       "<style scoped>\n",
       "    .dataframe tbody tr th:only-of-type {\n",
       "        vertical-align: middle;\n",
       "    }\n",
       "\n",
       "    .dataframe tbody tr th {\n",
       "        vertical-align: top;\n",
       "    }\n",
       "\n",
       "    .dataframe thead th {\n",
       "        text-align: right;\n",
       "    }\n",
       "</style>\n",
       "<table border=\"1\" class=\"dataframe\">\n",
       "  <thead>\n",
       "    <tr style=\"text-align: right;\">\n",
       "      <th></th>\n",
       "      <th>id</th>\n",
       "      <th>user_id</th>\n",
       "      <th>call_date</th>\n",
       "      <th>duration</th>\n",
       "      <th>total_min</th>\n",
       "      <th>month</th>\n",
       "    </tr>\n",
       "  </thead>\n",
       "  <tbody>\n",
       "    <tr>\n",
       "      <td>0</td>\n",
       "      <td>93</td>\n",
       "      <td>1000</td>\n",
       "      <td>2018-12-27</td>\n",
       "      <td>8.52</td>\n",
       "      <td>9.0</td>\n",
       "      <td>December</td>\n",
       "    </tr>\n",
       "    <tr>\n",
       "      <td>1</td>\n",
       "      <td>145</td>\n",
       "      <td>1000</td>\n",
       "      <td>2018-12-27</td>\n",
       "      <td>13.66</td>\n",
       "      <td>14.0</td>\n",
       "      <td>December</td>\n",
       "    </tr>\n",
       "    <tr>\n",
       "      <td>2</td>\n",
       "      <td>247</td>\n",
       "      <td>1000</td>\n",
       "      <td>2018-12-27</td>\n",
       "      <td>14.48</td>\n",
       "      <td>15.0</td>\n",
       "      <td>December</td>\n",
       "    </tr>\n",
       "    <tr>\n",
       "      <td>3</td>\n",
       "      <td>309</td>\n",
       "      <td>1000</td>\n",
       "      <td>2018-12-28</td>\n",
       "      <td>5.76</td>\n",
       "      <td>6.0</td>\n",
       "      <td>December</td>\n",
       "    </tr>\n",
       "    <tr>\n",
       "      <td>4</td>\n",
       "      <td>380</td>\n",
       "      <td>1000</td>\n",
       "      <td>2018-12-30</td>\n",
       "      <td>4.22</td>\n",
       "      <td>5.0</td>\n",
       "      <td>December</td>\n",
       "    </tr>\n",
       "  </tbody>\n",
       "</table>\n",
       "</div>"
      ],
      "text/plain": [
       "    id  user_id  call_date  duration  total_min     month\n",
       "0   93     1000 2018-12-27      8.52        9.0  December\n",
       "1  145     1000 2018-12-27     13.66       14.0  December\n",
       "2  247     1000 2018-12-27     14.48       15.0  December\n",
       "3  309     1000 2018-12-28      5.76        6.0  December\n",
       "4  380     1000 2018-12-30      4.22        5.0  December"
      ]
     },
     "execution_count": 22,
     "metadata": {},
     "output_type": "execute_result"
    }
   ],
   "source": [
    "#using regular expressions to make id more unique.\n",
    "new_id = np.vectorize(lambda x: re.sub('.*_',  '' ,   x))\n",
    "df_calls[\"id\"] = new_id(df_calls[\"id\"])\n",
    "df_message[\"id\"] = new_id(df_message[\"id\"])\n",
    "df_internet[\"id\"] = new_id(df_internet[\"id\"])\n",
    "df_calls.head()"
   ]
  },
  {
   "cell_type": "code",
   "execution_count": 23,
   "metadata": {},
   "outputs": [
    {
     "name": "stdout",
     "output_type": "stream",
     "text": [
      "<class 'pandas.core.frame.DataFrame'>\n",
      "RangeIndex: 137735 entries, 0 to 137734\n",
      "Data columns (total 6 columns):\n",
      "id           137735 non-null object\n",
      "user_id      137735 non-null int64\n",
      "call_date    137735 non-null datetime64[ns]\n",
      "duration     137735 non-null float64\n",
      "total_min    137735 non-null float64\n",
      "month        137735 non-null object\n",
      "dtypes: datetime64[ns](1), float64(2), int64(1), object(2)\n",
      "memory usage: 6.3+ MB\n"
     ]
    }
   ],
   "source": [
    "df_calls.info()"
   ]
  },
  {
   "cell_type": "code",
   "execution_count": 24,
   "metadata": {},
   "outputs": [],
   "source": [
    "#need to convert the id data type to ints from objects.\n",
    "df_calls['id'] = df_calls['id'].astype('int')\n",
    "df_message['id'] = df_message['id'].astype('int')\n",
    "df_internet['id'] = df_internet['id'].astype('int')"
   ]
  },
  {
   "cell_type": "markdown",
   "metadata": {},
   "source": [
    "### Calculation <a class=\"anchor\" id=\"calc\"></a>"
   ]
  },
  {
   "cell_type": "markdown",
   "metadata": {},
   "source": [
    "#### Messages per month <a class=\"anchor\" id=\"message_month\"></a>"
   ]
  },
  {
   "cell_type": "code",
   "execution_count": 25,
   "metadata": {},
   "outputs": [
    {
     "data": {
      "text/html": [
       "<div>\n",
       "<style scoped>\n",
       "    .dataframe tbody tr th:only-of-type {\n",
       "        vertical-align: middle;\n",
       "    }\n",
       "\n",
       "    .dataframe tbody tr th {\n",
       "        vertical-align: top;\n",
       "    }\n",
       "\n",
       "    .dataframe thead th {\n",
       "        text-align: right;\n",
       "    }\n",
       "</style>\n",
       "<table border=\"1\" class=\"dataframe\">\n",
       "  <thead>\n",
       "    <tr style=\"text-align: right;\">\n",
       "      <th></th>\n",
       "      <th>user_id</th>\n",
       "      <th>month</th>\n",
       "      <th>messages_per_month</th>\n",
       "    </tr>\n",
       "  </thead>\n",
       "  <tbody>\n",
       "    <tr>\n",
       "      <td>0</td>\n",
       "      <td>1000</td>\n",
       "      <td>December</td>\n",
       "      <td>11</td>\n",
       "    </tr>\n",
       "    <tr>\n",
       "      <td>1</td>\n",
       "      <td>1001</td>\n",
       "      <td>August</td>\n",
       "      <td>30</td>\n",
       "    </tr>\n",
       "    <tr>\n",
       "      <td>2</td>\n",
       "      <td>1001</td>\n",
       "      <td>December</td>\n",
       "      <td>44</td>\n",
       "    </tr>\n",
       "    <tr>\n",
       "      <td>3</td>\n",
       "      <td>1001</td>\n",
       "      <td>November</td>\n",
       "      <td>36</td>\n",
       "    </tr>\n",
       "    <tr>\n",
       "      <td>4</td>\n",
       "      <td>1001</td>\n",
       "      <td>October</td>\n",
       "      <td>53</td>\n",
       "    </tr>\n",
       "  </tbody>\n",
       "</table>\n",
       "</div>"
      ],
      "text/plain": [
       "   user_id     month  messages_per_month\n",
       "0     1000  December                  11\n",
       "1     1001    August                  30\n",
       "2     1001  December                  44\n",
       "3     1001  November                  36\n",
       "4     1001   October                  53"
      ]
     },
     "execution_count": 25,
     "metadata": {},
     "output_type": "execute_result"
    }
   ],
   "source": [
    "# number of messages per month\n",
    "\n",
    "#pivot table\n",
    "messages_month = df_message.pivot_table(\n",
    "    index = ['user_id', 'month'], values = 'id', aggfunc = 'count').reset_index()\n",
    "messages_month.columns = ['user_id','month','messages_per_month']\n",
    "messages_month.head()"
   ]
  },
  {
   "cell_type": "code",
   "execution_count": 26,
   "metadata": {},
   "outputs": [
    {
     "data": {
      "text/html": [
       "<div>\n",
       "<style scoped>\n",
       "    .dataframe tbody tr th:only-of-type {\n",
       "        vertical-align: middle;\n",
       "    }\n",
       "\n",
       "    .dataframe tbody tr th {\n",
       "        vertical-align: top;\n",
       "    }\n",
       "\n",
       "    .dataframe thead th {\n",
       "        text-align: right;\n",
       "    }\n",
       "</style>\n",
       "<table border=\"1\" class=\"dataframe\">\n",
       "  <thead>\n",
       "    <tr style=\"text-align: right;\">\n",
       "      <th></th>\n",
       "      <th>user_id</th>\n",
       "      <th>messages_per_month</th>\n",
       "    </tr>\n",
       "  </thead>\n",
       "  <tbody>\n",
       "    <tr>\n",
       "      <td>count</td>\n",
       "      <td>1806.000000</td>\n",
       "      <td>1806.000000</td>\n",
       "    </tr>\n",
       "    <tr>\n",
       "      <td>mean</td>\n",
       "      <td>1245.091916</td>\n",
       "      <td>42.110188</td>\n",
       "    </tr>\n",
       "    <tr>\n",
       "      <td>std</td>\n",
       "      <td>139.583315</td>\n",
       "      <td>33.122931</td>\n",
       "    </tr>\n",
       "    <tr>\n",
       "      <td>min</td>\n",
       "      <td>1000.000000</td>\n",
       "      <td>1.000000</td>\n",
       "    </tr>\n",
       "    <tr>\n",
       "      <td>25%</td>\n",
       "      <td>1126.250000</td>\n",
       "      <td>17.000000</td>\n",
       "    </tr>\n",
       "    <tr>\n",
       "      <td>50%</td>\n",
       "      <td>1245.000000</td>\n",
       "      <td>34.000000</td>\n",
       "    </tr>\n",
       "    <tr>\n",
       "      <td>75%</td>\n",
       "      <td>1362.000000</td>\n",
       "      <td>59.000000</td>\n",
       "    </tr>\n",
       "    <tr>\n",
       "      <td>max</td>\n",
       "      <td>1497.000000</td>\n",
       "      <td>266.000000</td>\n",
       "    </tr>\n",
       "  </tbody>\n",
       "</table>\n",
       "</div>"
      ],
      "text/plain": [
       "           user_id  messages_per_month\n",
       "count  1806.000000         1806.000000\n",
       "mean   1245.091916           42.110188\n",
       "std     139.583315           33.122931\n",
       "min    1000.000000            1.000000\n",
       "25%    1126.250000           17.000000\n",
       "50%    1245.000000           34.000000\n",
       "75%    1362.000000           59.000000\n",
       "max    1497.000000          266.000000"
      ]
     },
     "execution_count": 26,
     "metadata": {},
     "output_type": "execute_result"
    }
   ],
   "source": [
    "messages_month.describe()"
   ]
  },
  {
   "cell_type": "markdown",
   "metadata": {},
   "source": [
    "We can see that there are 1806 messages per month. The mean average of messages are 42, and the max number someone sent a messages in a month is 266, and the minimum is 1."
   ]
  },
  {
   "cell_type": "markdown",
   "metadata": {},
   "source": [
    "#### Calls per month<a class=\"anchor\" id=\"calls_month\"></a>"
   ]
  },
  {
   "cell_type": "code",
   "execution_count": 27,
   "metadata": {},
   "outputs": [
    {
     "data": {
      "text/html": [
       "<div>\n",
       "<style scoped>\n",
       "    .dataframe tbody tr th:only-of-type {\n",
       "        vertical-align: middle;\n",
       "    }\n",
       "\n",
       "    .dataframe tbody tr th {\n",
       "        vertical-align: top;\n",
       "    }\n",
       "\n",
       "    .dataframe thead th {\n",
       "        text-align: right;\n",
       "    }\n",
       "</style>\n",
       "<table border=\"1\" class=\"dataframe\">\n",
       "  <thead>\n",
       "    <tr style=\"text-align: right;\">\n",
       "      <th></th>\n",
       "      <th>id</th>\n",
       "      <th>user_id</th>\n",
       "      <th>call_date</th>\n",
       "      <th>duration</th>\n",
       "      <th>total_min</th>\n",
       "      <th>month</th>\n",
       "    </tr>\n",
       "  </thead>\n",
       "  <tbody>\n",
       "    <tr>\n",
       "      <td>0</td>\n",
       "      <td>93</td>\n",
       "      <td>1000</td>\n",
       "      <td>2018-12-27</td>\n",
       "      <td>8.52</td>\n",
       "      <td>9.0</td>\n",
       "      <td>December</td>\n",
       "    </tr>\n",
       "    <tr>\n",
       "      <td>1</td>\n",
       "      <td>145</td>\n",
       "      <td>1000</td>\n",
       "      <td>2018-12-27</td>\n",
       "      <td>13.66</td>\n",
       "      <td>14.0</td>\n",
       "      <td>December</td>\n",
       "    </tr>\n",
       "    <tr>\n",
       "      <td>2</td>\n",
       "      <td>247</td>\n",
       "      <td>1000</td>\n",
       "      <td>2018-12-27</td>\n",
       "      <td>14.48</td>\n",
       "      <td>15.0</td>\n",
       "      <td>December</td>\n",
       "    </tr>\n",
       "    <tr>\n",
       "      <td>3</td>\n",
       "      <td>309</td>\n",
       "      <td>1000</td>\n",
       "      <td>2018-12-28</td>\n",
       "      <td>5.76</td>\n",
       "      <td>6.0</td>\n",
       "      <td>December</td>\n",
       "    </tr>\n",
       "    <tr>\n",
       "      <td>4</td>\n",
       "      <td>380</td>\n",
       "      <td>1000</td>\n",
       "      <td>2018-12-30</td>\n",
       "      <td>4.22</td>\n",
       "      <td>5.0</td>\n",
       "      <td>December</td>\n",
       "    </tr>\n",
       "    <tr>\n",
       "      <td>...</td>\n",
       "      <td>...</td>\n",
       "      <td>...</td>\n",
       "      <td>...</td>\n",
       "      <td>...</td>\n",
       "      <td>...</td>\n",
       "      <td>...</td>\n",
       "    </tr>\n",
       "    <tr>\n",
       "      <td>137730</td>\n",
       "      <td>199</td>\n",
       "      <td>1499</td>\n",
       "      <td>2018-11-21</td>\n",
       "      <td>8.72</td>\n",
       "      <td>9.0</td>\n",
       "      <td>November</td>\n",
       "    </tr>\n",
       "    <tr>\n",
       "      <td>137731</td>\n",
       "      <td>200</td>\n",
       "      <td>1499</td>\n",
       "      <td>2018-10-20</td>\n",
       "      <td>10.89</td>\n",
       "      <td>11.0</td>\n",
       "      <td>October</td>\n",
       "    </tr>\n",
       "    <tr>\n",
       "      <td>137732</td>\n",
       "      <td>201</td>\n",
       "      <td>1499</td>\n",
       "      <td>2018-09-21</td>\n",
       "      <td>8.12</td>\n",
       "      <td>9.0</td>\n",
       "      <td>September</td>\n",
       "    </tr>\n",
       "    <tr>\n",
       "      <td>137733</td>\n",
       "      <td>202</td>\n",
       "      <td>1499</td>\n",
       "      <td>2018-10-10</td>\n",
       "      <td>0.37</td>\n",
       "      <td>1.0</td>\n",
       "      <td>October</td>\n",
       "    </tr>\n",
       "    <tr>\n",
       "      <td>137734</td>\n",
       "      <td>203</td>\n",
       "      <td>1499</td>\n",
       "      <td>2018-12-29</td>\n",
       "      <td>13.86</td>\n",
       "      <td>14.0</td>\n",
       "      <td>December</td>\n",
       "    </tr>\n",
       "  </tbody>\n",
       "</table>\n",
       "<p>137735 rows × 6 columns</p>\n",
       "</div>"
      ],
      "text/plain": [
       "         id  user_id  call_date  duration  total_min      month\n",
       "0        93     1000 2018-12-27      8.52        9.0   December\n",
       "1       145     1000 2018-12-27     13.66       14.0   December\n",
       "2       247     1000 2018-12-27     14.48       15.0   December\n",
       "3       309     1000 2018-12-28      5.76        6.0   December\n",
       "4       380     1000 2018-12-30      4.22        5.0   December\n",
       "...     ...      ...        ...       ...        ...        ...\n",
       "137730  199     1499 2018-11-21      8.72        9.0   November\n",
       "137731  200     1499 2018-10-20     10.89       11.0    October\n",
       "137732  201     1499 2018-09-21      8.12        9.0  September\n",
       "137733  202     1499 2018-10-10      0.37        1.0    October\n",
       "137734  203     1499 2018-12-29     13.86       14.0   December\n",
       "\n",
       "[137735 rows x 6 columns]"
      ]
     },
     "execution_count": 27,
     "metadata": {},
     "output_type": "execute_result"
    }
   ],
   "source": [
    "df_calls"
   ]
  },
  {
   "cell_type": "code",
   "execution_count": 28,
   "metadata": {},
   "outputs": [
    {
     "data": {
      "text/html": [
       "<div>\n",
       "<style scoped>\n",
       "    .dataframe tbody tr th:only-of-type {\n",
       "        vertical-align: middle;\n",
       "    }\n",
       "\n",
       "    .dataframe tbody tr th {\n",
       "        vertical-align: top;\n",
       "    }\n",
       "\n",
       "    .dataframe thead th {\n",
       "        text-align: right;\n",
       "    }\n",
       "</style>\n",
       "<table border=\"1\" class=\"dataframe\">\n",
       "  <thead>\n",
       "    <tr style=\"text-align: right;\">\n",
       "      <th></th>\n",
       "      <th>user_id</th>\n",
       "      <th>month</th>\n",
       "      <th>calls_made</th>\n",
       "      <th>minutes</th>\n",
       "    </tr>\n",
       "  </thead>\n",
       "  <tbody>\n",
       "    <tr>\n",
       "      <td>0</td>\n",
       "      <td>1000</td>\n",
       "      <td>December</td>\n",
       "      <td>16</td>\n",
       "      <td>116.83</td>\n",
       "    </tr>\n",
       "    <tr>\n",
       "      <td>1</td>\n",
       "      <td>1001</td>\n",
       "      <td>August</td>\n",
       "      <td>27</td>\n",
       "      <td>171.14</td>\n",
       "    </tr>\n",
       "    <tr>\n",
       "      <td>2</td>\n",
       "      <td>1001</td>\n",
       "      <td>December</td>\n",
       "      <td>56</td>\n",
       "      <td>392.93</td>\n",
       "    </tr>\n",
       "    <tr>\n",
       "      <td>3</td>\n",
       "      <td>1001</td>\n",
       "      <td>November</td>\n",
       "      <td>64</td>\n",
       "      <td>404.59</td>\n",
       "    </tr>\n",
       "    <tr>\n",
       "      <td>4</td>\n",
       "      <td>1001</td>\n",
       "      <td>October</td>\n",
       "      <td>65</td>\n",
       "      <td>374.11</td>\n",
       "    </tr>\n",
       "  </tbody>\n",
       "</table>\n",
       "</div>"
      ],
      "text/plain": [
       "   user_id     month  calls_made  minutes\n",
       "0     1000  December          16   116.83\n",
       "1     1001    August          27   171.14\n",
       "2     1001  December          56   392.93\n",
       "3     1001  November          64   404.59\n",
       "4     1001   October          65   374.11"
      ]
     },
     "execution_count": 28,
     "metadata": {},
     "output_type": "execute_result"
    }
   ],
   "source": [
    "# number of calls made per month and minutes counts\n",
    "calls_month = df_calls.pivot_table(index = ['user_id','month'],\n",
    "                                   values = 'duration', \n",
    "                                   aggfunc = ['count','sum']).reset_index()\n",
    "calls_month.columns =[\"user_id\",\"month\",\"calls_made\",\"minutes\"]\n",
    "calls_month.head()"
   ]
  },
  {
   "cell_type": "code",
   "execution_count": 29,
   "metadata": {},
   "outputs": [
    {
     "data": {
      "text/html": [
       "<div>\n",
       "<style scoped>\n",
       "    .dataframe tbody tr th:only-of-type {\n",
       "        vertical-align: middle;\n",
       "    }\n",
       "\n",
       "    .dataframe tbody tr th {\n",
       "        vertical-align: top;\n",
       "    }\n",
       "\n",
       "    .dataframe thead th {\n",
       "        text-align: right;\n",
       "    }\n",
       "</style>\n",
       "<table border=\"1\" class=\"dataframe\">\n",
       "  <thead>\n",
       "    <tr style=\"text-align: right;\">\n",
       "      <th></th>\n",
       "      <th>user_id</th>\n",
       "      <th>calls_made</th>\n",
       "      <th>minutes</th>\n",
       "    </tr>\n",
       "  </thead>\n",
       "  <tbody>\n",
       "    <tr>\n",
       "      <td>count</td>\n",
       "      <td>2258.000000</td>\n",
       "      <td>2258.000000</td>\n",
       "      <td>2258.000000</td>\n",
       "    </tr>\n",
       "    <tr>\n",
       "      <td>mean</td>\n",
       "      <td>1247.175819</td>\n",
       "      <td>60.998671</td>\n",
       "      <td>411.492586</td>\n",
       "    </tr>\n",
       "    <tr>\n",
       "      <td>std</td>\n",
       "      <td>143.344211</td>\n",
       "      <td>31.770869</td>\n",
       "      <td>219.290453</td>\n",
       "    </tr>\n",
       "    <tr>\n",
       "      <td>min</td>\n",
       "      <td>1000.000000</td>\n",
       "      <td>1.000000</td>\n",
       "      <td>0.000000</td>\n",
       "    </tr>\n",
       "    <tr>\n",
       "      <td>25%</td>\n",
       "      <td>1122.000000</td>\n",
       "      <td>39.000000</td>\n",
       "      <td>258.075000</td>\n",
       "    </tr>\n",
       "    <tr>\n",
       "      <td>50%</td>\n",
       "      <td>1246.000000</td>\n",
       "      <td>60.000000</td>\n",
       "      <td>404.270000</td>\n",
       "    </tr>\n",
       "    <tr>\n",
       "      <td>75%</td>\n",
       "      <td>1370.000000</td>\n",
       "      <td>80.000000</td>\n",
       "      <td>543.335000</td>\n",
       "    </tr>\n",
       "    <tr>\n",
       "      <td>max</td>\n",
       "      <td>1499.000000</td>\n",
       "      <td>205.000000</td>\n",
       "      <td>1431.220000</td>\n",
       "    </tr>\n",
       "  </tbody>\n",
       "</table>\n",
       "</div>"
      ],
      "text/plain": [
       "           user_id   calls_made      minutes\n",
       "count  2258.000000  2258.000000  2258.000000\n",
       "mean   1247.175819    60.998671   411.492586\n",
       "std     143.344211    31.770869   219.290453\n",
       "min    1000.000000     1.000000     0.000000\n",
       "25%    1122.000000    39.000000   258.075000\n",
       "50%    1246.000000    60.000000   404.270000\n",
       "75%    1370.000000    80.000000   543.335000\n",
       "max    1499.000000   205.000000  1431.220000"
      ]
     },
     "execution_count": 29,
     "metadata": {},
     "output_type": "execute_result"
    }
   ],
   "source": [
    "calls_month.describe()"
   ]
  },
  {
   "cell_type": "markdown",
   "metadata": {},
   "source": [
    "We have the number of calls made are 2258 and the avergae number of calls are 60. In addition, we can see that the minumum calls made are 1 made, and max calls are 205. "
   ]
  },
  {
   "cell_type": "markdown",
   "metadata": {},
   "source": [
    "#### Internet used<a class=\"anchor\" id=\"internet_used\"></a>"
   ]
  },
  {
   "cell_type": "code",
   "execution_count": 30,
   "metadata": {},
   "outputs": [
    {
     "data": {
      "text/html": [
       "<div>\n",
       "<style scoped>\n",
       "    .dataframe tbody tr th:only-of-type {\n",
       "        vertical-align: middle;\n",
       "    }\n",
       "\n",
       "    .dataframe tbody tr th {\n",
       "        vertical-align: top;\n",
       "    }\n",
       "\n",
       "    .dataframe thead th {\n",
       "        text-align: right;\n",
       "    }\n",
       "</style>\n",
       "<table border=\"1\" class=\"dataframe\">\n",
       "  <thead>\n",
       "    <tr style=\"text-align: right;\">\n",
       "      <th></th>\n",
       "      <th>user_id</th>\n",
       "      <th>month</th>\n",
       "      <th>data_used</th>\n",
       "    </tr>\n",
       "  </thead>\n",
       "  <tbody>\n",
       "    <tr>\n",
       "      <td>0</td>\n",
       "      <td>1000</td>\n",
       "      <td>December</td>\n",
       "      <td>1901.47</td>\n",
       "    </tr>\n",
       "    <tr>\n",
       "      <td>1</td>\n",
       "      <td>1001</td>\n",
       "      <td>August</td>\n",
       "      <td>6919.15</td>\n",
       "    </tr>\n",
       "    <tr>\n",
       "      <td>2</td>\n",
       "      <td>1001</td>\n",
       "      <td>December</td>\n",
       "      <td>19369.18</td>\n",
       "    </tr>\n",
       "    <tr>\n",
       "      <td>3</td>\n",
       "      <td>1001</td>\n",
       "      <td>November</td>\n",
       "      <td>18504.30</td>\n",
       "    </tr>\n",
       "    <tr>\n",
       "      <td>4</td>\n",
       "      <td>1001</td>\n",
       "      <td>October</td>\n",
       "      <td>22330.49</td>\n",
       "    </tr>\n",
       "  </tbody>\n",
       "</table>\n",
       "</div>"
      ],
      "text/plain": [
       "   user_id     month  data_used\n",
       "0     1000  December    1901.47\n",
       "1     1001    August    6919.15\n",
       "2     1001  December   19369.18\n",
       "3     1001  November   18504.30\n",
       "4     1001   October   22330.49"
      ]
     },
     "execution_count": 30,
     "metadata": {},
     "output_type": "execute_result"
    }
   ],
   "source": [
    "# total interent used\n",
    "internet_use = df_internet.pivot_table(\n",
    "    index=['user_id','month'],values='mb_used',aggfunc=['sum']).reset_index()\n",
    "internet_use.columns= ['user_id', 'month', \"data_used\"]\n",
    "internet_use.head()"
   ]
  },
  {
   "cell_type": "markdown",
   "metadata": {},
   "source": [
    "The total interent used is 2277 MB. The mean number of data used is 16882 MB. The min data used is 92MB, and max amount of data used is 70931 MB."
   ]
  },
  {
   "cell_type": "code",
   "execution_count": 31,
   "metadata": {},
   "outputs": [
    {
     "data": {
      "text/html": [
       "<div>\n",
       "<style scoped>\n",
       "    .dataframe tbody tr th:only-of-type {\n",
       "        vertical-align: middle;\n",
       "    }\n",
       "\n",
       "    .dataframe tbody tr th {\n",
       "        vertical-align: top;\n",
       "    }\n",
       "\n",
       "    .dataframe thead th {\n",
       "        text-align: right;\n",
       "    }\n",
       "</style>\n",
       "<table border=\"1\" class=\"dataframe\">\n",
       "  <thead>\n",
       "    <tr style=\"text-align: right;\">\n",
       "      <th></th>\n",
       "      <th>user_id</th>\n",
       "      <th>data_used</th>\n",
       "      <th>gb_month</th>\n",
       "    </tr>\n",
       "  </thead>\n",
       "  <tbody>\n",
       "    <tr>\n",
       "      <td>count</td>\n",
       "      <td>2277.000000</td>\n",
       "      <td>2277.000000</td>\n",
       "      <td>2277.000000</td>\n",
       "    </tr>\n",
       "    <tr>\n",
       "      <td>mean</td>\n",
       "      <td>1244.925780</td>\n",
       "      <td>16882.197501</td>\n",
       "      <td>16.989021</td>\n",
       "    </tr>\n",
       "    <tr>\n",
       "      <td>std</td>\n",
       "      <td>142.544823</td>\n",
       "      <td>7869.784848</td>\n",
       "      <td>7.693683</td>\n",
       "    </tr>\n",
       "    <tr>\n",
       "      <td>min</td>\n",
       "      <td>1000.000000</td>\n",
       "      <td>92.310000</td>\n",
       "      <td>1.000000</td>\n",
       "    </tr>\n",
       "    <tr>\n",
       "      <td>25%</td>\n",
       "      <td>1121.000000</td>\n",
       "      <td>12347.720000</td>\n",
       "      <td>13.000000</td>\n",
       "    </tr>\n",
       "    <tr>\n",
       "      <td>50%</td>\n",
       "      <td>1243.000000</td>\n",
       "      <td>16873.740000</td>\n",
       "      <td>17.000000</td>\n",
       "    </tr>\n",
       "    <tr>\n",
       "      <td>75%</td>\n",
       "      <td>1367.000000</td>\n",
       "      <td>21041.520000</td>\n",
       "      <td>21.000000</td>\n",
       "    </tr>\n",
       "    <tr>\n",
       "      <td>max</td>\n",
       "      <td>1499.000000</td>\n",
       "      <td>70931.590000</td>\n",
       "      <td>70.000000</td>\n",
       "    </tr>\n",
       "  </tbody>\n",
       "</table>\n",
       "</div>"
      ],
      "text/plain": [
       "           user_id     data_used     gb_month\n",
       "count  2277.000000   2277.000000  2277.000000\n",
       "mean   1244.925780  16882.197501    16.989021\n",
       "std     142.544823   7869.784848     7.693683\n",
       "min    1000.000000     92.310000     1.000000\n",
       "25%    1121.000000  12347.720000    13.000000\n",
       "50%    1243.000000  16873.740000    17.000000\n",
       "75%    1367.000000  21041.520000    21.000000\n",
       "max    1499.000000  70931.590000    70.000000"
      ]
     },
     "execution_count": 31,
     "metadata": {},
     "output_type": "execute_result"
    }
   ],
   "source": [
    "internet_use['gb_month'] = np.ceil((internet_use['data_used']) / 1024).astype(int)\n",
    "internet_use.describe()"
   ]
  },
  {
   "cell_type": "markdown",
   "metadata": {},
   "source": [
    "There seems to be mean average of 16882 MB used monthly, min of 92 MB, and max of 70931MB. In addition, there is 17 GB used monthly, min of 1GB used, and 71GB max used monthly."
   ]
  },
  {
   "cell_type": "markdown",
   "metadata": {},
   "source": [
    "#### Merging data<a class=\"anchor\" id=\"merge_data\"></a>"
   ]
  },
  {
   "cell_type": "code",
   "execution_count": 34,
   "metadata": {},
   "outputs": [],
   "source": [
    "# merging the user to data\n",
    "data = df_user[['user_id','plan','city']] # only getting the 3 columns we want\n",
    "data_user = data.merge(df_plan, left_on='plan', right_on='plan_name') #merging user with df_plans"
   ]
  },
  {
   "cell_type": "code",
   "execution_count": 35,
   "metadata": {},
   "outputs": [
    {
     "data": {
      "text/html": [
       "<div>\n",
       "<style scoped>\n",
       "    .dataframe tbody tr th:only-of-type {\n",
       "        vertical-align: middle;\n",
       "    }\n",
       "\n",
       "    .dataframe tbody tr th {\n",
       "        vertical-align: top;\n",
       "    }\n",
       "\n",
       "    .dataframe thead th {\n",
       "        text-align: right;\n",
       "    }\n",
       "</style>\n",
       "<table border=\"1\" class=\"dataframe\">\n",
       "  <thead>\n",
       "    <tr style=\"text-align: right;\">\n",
       "      <th></th>\n",
       "      <th>user_id</th>\n",
       "      <th>month</th>\n",
       "      <th>calls_made</th>\n",
       "      <th>minutes</th>\n",
       "      <th>messages_per_month</th>\n",
       "      <th>data_used</th>\n",
       "      <th>gb_month</th>\n",
       "      <th>plan</th>\n",
       "      <th>city</th>\n",
       "      <th>messages_included</th>\n",
       "      <th>mb_per_month_included</th>\n",
       "      <th>minutes_included</th>\n",
       "      <th>usd_monthly_pay</th>\n",
       "      <th>usd_per_gb</th>\n",
       "      <th>usd_per_message</th>\n",
       "      <th>usd_per_minute</th>\n",
       "      <th>plan_name</th>\n",
       "    </tr>\n",
       "  </thead>\n",
       "  <tbody>\n",
       "    <tr>\n",
       "      <td>0</td>\n",
       "      <td>1000</td>\n",
       "      <td>December</td>\n",
       "      <td>16.0</td>\n",
       "      <td>116.83</td>\n",
       "      <td>11.0</td>\n",
       "      <td>1901.47</td>\n",
       "      <td>2.0</td>\n",
       "      <td>ultimate</td>\n",
       "      <td>Atlanta-Sandy Springs-Roswell, GA MSA</td>\n",
       "      <td>1000</td>\n",
       "      <td>30720</td>\n",
       "      <td>3000</td>\n",
       "      <td>70</td>\n",
       "      <td>7</td>\n",
       "      <td>0.01</td>\n",
       "      <td>0.01</td>\n",
       "      <td>ultimate</td>\n",
       "    </tr>\n",
       "    <tr>\n",
       "      <td>1</td>\n",
       "      <td>1001</td>\n",
       "      <td>August</td>\n",
       "      <td>27.0</td>\n",
       "      <td>171.14</td>\n",
       "      <td>30.0</td>\n",
       "      <td>6919.15</td>\n",
       "      <td>7.0</td>\n",
       "      <td>surf</td>\n",
       "      <td>Seattle-Tacoma-Bellevue, WA MSA</td>\n",
       "      <td>50</td>\n",
       "      <td>15360</td>\n",
       "      <td>500</td>\n",
       "      <td>20</td>\n",
       "      <td>10</td>\n",
       "      <td>0.03</td>\n",
       "      <td>0.03</td>\n",
       "      <td>surf</td>\n",
       "    </tr>\n",
       "    <tr>\n",
       "      <td>2</td>\n",
       "      <td>1001</td>\n",
       "      <td>December</td>\n",
       "      <td>56.0</td>\n",
       "      <td>392.93</td>\n",
       "      <td>44.0</td>\n",
       "      <td>19369.18</td>\n",
       "      <td>19.0</td>\n",
       "      <td>surf</td>\n",
       "      <td>Seattle-Tacoma-Bellevue, WA MSA</td>\n",
       "      <td>50</td>\n",
       "      <td>15360</td>\n",
       "      <td>500</td>\n",
       "      <td>20</td>\n",
       "      <td>10</td>\n",
       "      <td>0.03</td>\n",
       "      <td>0.03</td>\n",
       "      <td>surf</td>\n",
       "    </tr>\n",
       "    <tr>\n",
       "      <td>3</td>\n",
       "      <td>1001</td>\n",
       "      <td>November</td>\n",
       "      <td>64.0</td>\n",
       "      <td>404.59</td>\n",
       "      <td>36.0</td>\n",
       "      <td>18504.30</td>\n",
       "      <td>19.0</td>\n",
       "      <td>surf</td>\n",
       "      <td>Seattle-Tacoma-Bellevue, WA MSA</td>\n",
       "      <td>50</td>\n",
       "      <td>15360</td>\n",
       "      <td>500</td>\n",
       "      <td>20</td>\n",
       "      <td>10</td>\n",
       "      <td>0.03</td>\n",
       "      <td>0.03</td>\n",
       "      <td>surf</td>\n",
       "    </tr>\n",
       "    <tr>\n",
       "      <td>4</td>\n",
       "      <td>1001</td>\n",
       "      <td>October</td>\n",
       "      <td>65.0</td>\n",
       "      <td>374.11</td>\n",
       "      <td>53.0</td>\n",
       "      <td>22330.49</td>\n",
       "      <td>22.0</td>\n",
       "      <td>surf</td>\n",
       "      <td>Seattle-Tacoma-Bellevue, WA MSA</td>\n",
       "      <td>50</td>\n",
       "      <td>15360</td>\n",
       "      <td>500</td>\n",
       "      <td>20</td>\n",
       "      <td>10</td>\n",
       "      <td>0.03</td>\n",
       "      <td>0.03</td>\n",
       "      <td>surf</td>\n",
       "    </tr>\n",
       "  </tbody>\n",
       "</table>\n",
       "</div>"
      ],
      "text/plain": [
       "   user_id     month  calls_made  minutes  messages_per_month  data_used  \\\n",
       "0     1000  December        16.0   116.83                11.0    1901.47   \n",
       "1     1001    August        27.0   171.14                30.0    6919.15   \n",
       "2     1001  December        56.0   392.93                44.0   19369.18   \n",
       "3     1001  November        64.0   404.59                36.0   18504.30   \n",
       "4     1001   October        65.0   374.11                53.0   22330.49   \n",
       "\n",
       "   gb_month      plan                                   city  \\\n",
       "0       2.0  ultimate  Atlanta-Sandy Springs-Roswell, GA MSA   \n",
       "1       7.0      surf        Seattle-Tacoma-Bellevue, WA MSA   \n",
       "2      19.0      surf        Seattle-Tacoma-Bellevue, WA MSA   \n",
       "3      19.0      surf        Seattle-Tacoma-Bellevue, WA MSA   \n",
       "4      22.0      surf        Seattle-Tacoma-Bellevue, WA MSA   \n",
       "\n",
       "   messages_included  mb_per_month_included  minutes_included  \\\n",
       "0               1000                  30720              3000   \n",
       "1                 50                  15360               500   \n",
       "2                 50                  15360               500   \n",
       "3                 50                  15360               500   \n",
       "4                 50                  15360               500   \n",
       "\n",
       "   usd_monthly_pay  usd_per_gb  usd_per_message  usd_per_minute plan_name  \n",
       "0               70           7             0.01            0.01  ultimate  \n",
       "1               20          10             0.03            0.03      surf  \n",
       "2               20          10             0.03            0.03      surf  \n",
       "3               20          10             0.03            0.03      surf  \n",
       "4               20          10             0.03            0.03      surf  "
      ]
     },
     "execution_count": 35,
     "metadata": {},
     "output_type": "execute_result"
    }
   ],
   "source": [
    "data = (calls_month\n",
    "              .merge(messages_month, how='outer', on=['user_id','month'])\n",
    "              .merge(internet_use, how='outer', on=['user_id','month'])\n",
    "              .merge(data_user, on='user_id')  \n",
    "             )\n",
    "data.head()"
   ]
  },
  {
   "cell_type": "code",
   "execution_count": 36,
   "metadata": {},
   "outputs": [
    {
     "data": {
      "text/plain": [
       "user_id                    0\n",
       "month                      0\n",
       "calls_made                35\n",
       "minutes                   35\n",
       "messages_per_month       487\n",
       "data_used                 16\n",
       "gb_month                  16\n",
       "plan                       0\n",
       "city                       0\n",
       "messages_included          0\n",
       "mb_per_month_included      0\n",
       "minutes_included           0\n",
       "usd_monthly_pay            0\n",
       "usd_per_gb                 0\n",
       "usd_per_message            0\n",
       "usd_per_minute             0\n",
       "plan_name                  0\n",
       "dtype: int64"
      ]
     },
     "execution_count": 36,
     "metadata": {},
     "output_type": "execute_result"
    }
   ],
   "source": [
    "# checking for missing data \n",
    "data.isna().sum()"
   ]
  },
  {
   "cell_type": "code",
   "execution_count": 37,
   "metadata": {},
   "outputs": [],
   "source": [
    "# filling in missing data\n",
    "data.fillna(0, inplace = True)"
   ]
  },
  {
   "cell_type": "markdown",
   "metadata": {},
   "source": [
    "From the data seem we will be filling in missing data with 0 since the missing data which could be present is probably 0 values for the call_count, minutes used, data_used, and messages_total."
   ]
  },
  {
   "cell_type": "markdown",
   "metadata": {},
   "source": [
    "#### The monthy profit<a class=\"anchor\" id=\"profit\"></a>"
   ]
  },
  {
   "cell_type": "code",
   "execution_count": 39,
   "metadata": {},
   "outputs": [],
   "source": [
    "#calculate the total profits \n",
    "def profit(money):\n",
    "    '''\n",
    "    #Surf\n",
    "    Monthly charge: $20\n",
    "    500 monthly minutes, 50 texts, and 15 GB of data\n",
    "    After exceeding the package limits:\n",
    "    1 minute: 3 cents\n",
    "    1 text message: 3 cents\n",
    "    1 GB of data: $10\n",
    "    \n",
    "    #Ultimate\n",
    "    Monthly charge: $70\n",
    "    3000 monthly minutes, 1000 text messages, and 30 GB of data\n",
    "    After exceeding the package limits:\n",
    "    1 minute: 1 cent\n",
    "    1 text message: 1 cent\n",
    "    1 GB of data: $7\n",
    "    '''\n",
    "    if money['plan_name'] == 'surf':\n",
    "        money['usd_monthly_pay'] = 20\n",
    "        if money['minutes'] > 500:\n",
    "            minute_charge = 0.03*(money['minutes'] - 500)\n",
    "        else:\n",
    "            minute_charge = 0\n",
    "        if money['messages_per_month'] > 50:\n",
    "            message_charge = 0.03*(money['messages_per_month'] - 50)\n",
    "        else:\n",
    "            message_charge = 0\n",
    "        if money['gb_month'] > 15:\n",
    "            gb_charge = 10 * (money['gb_month'] - 15)\n",
    "        else:\n",
    "            gb_charge = 0\n",
    "    elif money['plan_name'] == 'ultimate':\n",
    "        money['usd_monthly_pay'] = 70\n",
    "        if money['minutes'] > 3000:\n",
    "            minute_charge = 0.01*(money['minutes'] - 3000)\n",
    "        else:\n",
    "            minute_charge = 0\n",
    "        if money['messages_per_month'] > 1000:\n",
    "            message_charge = 0.01*(money['messages_per_month'] - 1000)\n",
    "        else:\n",
    "            message_charge = 0\n",
    "        if money['gb_month'] > 30:\n",
    "            gb_charge = 7 * (money['gb_month'] - 30)\n",
    "        else:\n",
    "            gb_charge = 0\n",
    "                \n",
    "    total_profit = money['usd_monthly_pay'] + minute_charge + message_charge + gb_charge\n",
    "    return total_profit\n",
    "           "
   ]
  },
  {
   "cell_type": "code",
   "execution_count": 40,
   "metadata": {},
   "outputs": [
    {
     "data": {
      "text/html": [
       "<div>\n",
       "<style scoped>\n",
       "    .dataframe tbody tr th:only-of-type {\n",
       "        vertical-align: middle;\n",
       "    }\n",
       "\n",
       "    .dataframe tbody tr th {\n",
       "        vertical-align: top;\n",
       "    }\n",
       "\n",
       "    .dataframe thead th {\n",
       "        text-align: right;\n",
       "    }\n",
       "</style>\n",
       "<table border=\"1\" class=\"dataframe\">\n",
       "  <thead>\n",
       "    <tr style=\"text-align: right;\">\n",
       "      <th></th>\n",
       "      <th>user_id</th>\n",
       "      <th>month</th>\n",
       "      <th>calls_made</th>\n",
       "      <th>minutes</th>\n",
       "      <th>messages_per_month</th>\n",
       "      <th>data_used</th>\n",
       "      <th>gb_month</th>\n",
       "      <th>plan</th>\n",
       "      <th>city</th>\n",
       "      <th>messages_included</th>\n",
       "      <th>mb_per_month_included</th>\n",
       "      <th>minutes_included</th>\n",
       "      <th>usd_monthly_pay</th>\n",
       "      <th>usd_per_gb</th>\n",
       "      <th>usd_per_message</th>\n",
       "      <th>usd_per_minute</th>\n",
       "      <th>plan_name</th>\n",
       "      <th>monthly_profit</th>\n",
       "    </tr>\n",
       "  </thead>\n",
       "  <tbody>\n",
       "    <tr>\n",
       "      <td>0</td>\n",
       "      <td>1000</td>\n",
       "      <td>December</td>\n",
       "      <td>16.0</td>\n",
       "      <td>116.83</td>\n",
       "      <td>11.0</td>\n",
       "      <td>1901.47</td>\n",
       "      <td>2.0</td>\n",
       "      <td>ultimate</td>\n",
       "      <td>Atlanta-Sandy Springs-Roswell, GA MSA</td>\n",
       "      <td>1000</td>\n",
       "      <td>30720</td>\n",
       "      <td>3000</td>\n",
       "      <td>70</td>\n",
       "      <td>7</td>\n",
       "      <td>0.01</td>\n",
       "      <td>0.01</td>\n",
       "      <td>ultimate</td>\n",
       "      <td>70.00</td>\n",
       "    </tr>\n",
       "    <tr>\n",
       "      <td>1</td>\n",
       "      <td>1001</td>\n",
       "      <td>August</td>\n",
       "      <td>27.0</td>\n",
       "      <td>171.14</td>\n",
       "      <td>30.0</td>\n",
       "      <td>6919.15</td>\n",
       "      <td>7.0</td>\n",
       "      <td>surf</td>\n",
       "      <td>Seattle-Tacoma-Bellevue, WA MSA</td>\n",
       "      <td>50</td>\n",
       "      <td>15360</td>\n",
       "      <td>500</td>\n",
       "      <td>20</td>\n",
       "      <td>10</td>\n",
       "      <td>0.03</td>\n",
       "      <td>0.03</td>\n",
       "      <td>surf</td>\n",
       "      <td>20.00</td>\n",
       "    </tr>\n",
       "    <tr>\n",
       "      <td>2</td>\n",
       "      <td>1001</td>\n",
       "      <td>December</td>\n",
       "      <td>56.0</td>\n",
       "      <td>392.93</td>\n",
       "      <td>44.0</td>\n",
       "      <td>19369.18</td>\n",
       "      <td>19.0</td>\n",
       "      <td>surf</td>\n",
       "      <td>Seattle-Tacoma-Bellevue, WA MSA</td>\n",
       "      <td>50</td>\n",
       "      <td>15360</td>\n",
       "      <td>500</td>\n",
       "      <td>20</td>\n",
       "      <td>10</td>\n",
       "      <td>0.03</td>\n",
       "      <td>0.03</td>\n",
       "      <td>surf</td>\n",
       "      <td>60.00</td>\n",
       "    </tr>\n",
       "    <tr>\n",
       "      <td>3</td>\n",
       "      <td>1001</td>\n",
       "      <td>November</td>\n",
       "      <td>64.0</td>\n",
       "      <td>404.59</td>\n",
       "      <td>36.0</td>\n",
       "      <td>18504.30</td>\n",
       "      <td>19.0</td>\n",
       "      <td>surf</td>\n",
       "      <td>Seattle-Tacoma-Bellevue, WA MSA</td>\n",
       "      <td>50</td>\n",
       "      <td>15360</td>\n",
       "      <td>500</td>\n",
       "      <td>20</td>\n",
       "      <td>10</td>\n",
       "      <td>0.03</td>\n",
       "      <td>0.03</td>\n",
       "      <td>surf</td>\n",
       "      <td>60.00</td>\n",
       "    </tr>\n",
       "    <tr>\n",
       "      <td>4</td>\n",
       "      <td>1001</td>\n",
       "      <td>October</td>\n",
       "      <td>65.0</td>\n",
       "      <td>374.11</td>\n",
       "      <td>53.0</td>\n",
       "      <td>22330.49</td>\n",
       "      <td>22.0</td>\n",
       "      <td>surf</td>\n",
       "      <td>Seattle-Tacoma-Bellevue, WA MSA</td>\n",
       "      <td>50</td>\n",
       "      <td>15360</td>\n",
       "      <td>500</td>\n",
       "      <td>20</td>\n",
       "      <td>10</td>\n",
       "      <td>0.03</td>\n",
       "      <td>0.03</td>\n",
       "      <td>surf</td>\n",
       "      <td>90.09</td>\n",
       "    </tr>\n",
       "  </tbody>\n",
       "</table>\n",
       "</div>"
      ],
      "text/plain": [
       "   user_id     month  calls_made  minutes  messages_per_month  data_used  \\\n",
       "0     1000  December        16.0   116.83                11.0    1901.47   \n",
       "1     1001    August        27.0   171.14                30.0    6919.15   \n",
       "2     1001  December        56.0   392.93                44.0   19369.18   \n",
       "3     1001  November        64.0   404.59                36.0   18504.30   \n",
       "4     1001   October        65.0   374.11                53.0   22330.49   \n",
       "\n",
       "   gb_month      plan                                   city  \\\n",
       "0       2.0  ultimate  Atlanta-Sandy Springs-Roswell, GA MSA   \n",
       "1       7.0      surf        Seattle-Tacoma-Bellevue, WA MSA   \n",
       "2      19.0      surf        Seattle-Tacoma-Bellevue, WA MSA   \n",
       "3      19.0      surf        Seattle-Tacoma-Bellevue, WA MSA   \n",
       "4      22.0      surf        Seattle-Tacoma-Bellevue, WA MSA   \n",
       "\n",
       "   messages_included  mb_per_month_included  minutes_included  \\\n",
       "0               1000                  30720              3000   \n",
       "1                 50                  15360               500   \n",
       "2                 50                  15360               500   \n",
       "3                 50                  15360               500   \n",
       "4                 50                  15360               500   \n",
       "\n",
       "   usd_monthly_pay  usd_per_gb  usd_per_message  usd_per_minute plan_name  \\\n",
       "0               70           7             0.01            0.01  ultimate   \n",
       "1               20          10             0.03            0.03      surf   \n",
       "2               20          10             0.03            0.03      surf   \n",
       "3               20          10             0.03            0.03      surf   \n",
       "4               20          10             0.03            0.03      surf   \n",
       "\n",
       "   monthly_profit  \n",
       "0           70.00  \n",
       "1           20.00  \n",
       "2           60.00  \n",
       "3           60.00  \n",
       "4           90.09  "
      ]
     },
     "execution_count": 40,
     "metadata": {},
     "output_type": "execute_result"
    }
   ],
   "source": [
    "#adding a new column called monthly_profit in dataframe and applying the profit function above\n",
    "data[\"monthly_profit\"] = data.apply(profit,axis=1)\n",
    "data.head()"
   ]
  },
  {
   "cell_type": "code",
   "execution_count": 43,
   "metadata": {},
   "outputs": [
    {
     "data": {
      "text/html": [
       "<div>\n",
       "<style scoped>\n",
       "    .dataframe tbody tr th:only-of-type {\n",
       "        vertical-align: middle;\n",
       "    }\n",
       "\n",
       "    .dataframe tbody tr th {\n",
       "        vertical-align: top;\n",
       "    }\n",
       "\n",
       "    .dataframe thead th {\n",
       "        text-align: right;\n",
       "    }\n",
       "</style>\n",
       "<table border=\"1\" class=\"dataframe\">\n",
       "  <thead>\n",
       "    <tr style=\"text-align: right;\">\n",
       "      <th></th>\n",
       "      <th>user_id</th>\n",
       "      <th>calls_made</th>\n",
       "      <th>minutes</th>\n",
       "      <th>messages_per_month</th>\n",
       "      <th>data_used</th>\n",
       "      <th>gb_month</th>\n",
       "      <th>messages_included</th>\n",
       "      <th>mb_per_month_included</th>\n",
       "      <th>minutes_included</th>\n",
       "      <th>usd_monthly_pay</th>\n",
       "      <th>usd_per_gb</th>\n",
       "      <th>usd_per_message</th>\n",
       "      <th>usd_per_minute</th>\n",
       "      <th>monthly_profit</th>\n",
       "    </tr>\n",
       "  </thead>\n",
       "  <tbody>\n",
       "    <tr>\n",
       "      <td>count</td>\n",
       "      <td>1573.000000</td>\n",
       "      <td>1573.000000</td>\n",
       "      <td>1573.000000</td>\n",
       "      <td>1573.000000</td>\n",
       "      <td>1573.000000</td>\n",
       "      <td>1573.000000</td>\n",
       "      <td>1573.0</td>\n",
       "      <td>1573.0</td>\n",
       "      <td>1573.0</td>\n",
       "      <td>1573.0</td>\n",
       "      <td>1573.0</td>\n",
       "      <td>1.573000e+03</td>\n",
       "      <td>1.573000e+03</td>\n",
       "      <td>1573.000000</td>\n",
       "    </tr>\n",
       "    <tr>\n",
       "      <td>mean</td>\n",
       "      <td>1242.755245</td>\n",
       "      <td>59.811825</td>\n",
       "      <td>404.762390</td>\n",
       "      <td>31.159568</td>\n",
       "      <td>16558.283490</td>\n",
       "      <td>16.670693</td>\n",
       "      <td>50.0</td>\n",
       "      <td>15360.0</td>\n",
       "      <td>500.0</td>\n",
       "      <td>20.0</td>\n",
       "      <td>10.0</td>\n",
       "      <td>3.000000e-02</td>\n",
       "      <td>3.000000e-02</td>\n",
       "      <td>60.327346</td>\n",
       "    </tr>\n",
       "    <tr>\n",
       "      <td>std</td>\n",
       "      <td>139.227939</td>\n",
       "      <td>32.017989</td>\n",
       "      <td>221.664397</td>\n",
       "      <td>33.566717</td>\n",
       "      <td>8013.513327</td>\n",
       "      <td>7.847522</td>\n",
       "      <td>0.0</td>\n",
       "      <td>0.0</td>\n",
       "      <td>0.0</td>\n",
       "      <td>0.0</td>\n",
       "      <td>0.0</td>\n",
       "      <td>1.041165e-17</td>\n",
       "      <td>1.041165e-17</td>\n",
       "      <td>55.262605</td>\n",
       "    </tr>\n",
       "    <tr>\n",
       "      <td>min</td>\n",
       "      <td>1001.000000</td>\n",
       "      <td>0.000000</td>\n",
       "      <td>0.000000</td>\n",
       "      <td>0.000000</td>\n",
       "      <td>0.000000</td>\n",
       "      <td>0.000000</td>\n",
       "      <td>50.0</td>\n",
       "      <td>15360.0</td>\n",
       "      <td>500.0</td>\n",
       "      <td>20.0</td>\n",
       "      <td>10.0</td>\n",
       "      <td>3.000000e-02</td>\n",
       "      <td>3.000000e-02</td>\n",
       "      <td>20.000000</td>\n",
       "    </tr>\n",
       "    <tr>\n",
       "      <td>25%</td>\n",
       "      <td>1120.000000</td>\n",
       "      <td>39.000000</td>\n",
       "      <td>255.470000</td>\n",
       "      <td>3.000000</td>\n",
       "      <td>11986.520000</td>\n",
       "      <td>12.000000</td>\n",
       "      <td>50.0</td>\n",
       "      <td>15360.0</td>\n",
       "      <td>500.0</td>\n",
       "      <td>20.0</td>\n",
       "      <td>10.0</td>\n",
       "      <td>3.000000e-02</td>\n",
       "      <td>3.000000e-02</td>\n",
       "      <td>20.000000</td>\n",
       "    </tr>\n",
       "    <tr>\n",
       "      <td>50%</td>\n",
       "      <td>1245.000000</td>\n",
       "      <td>60.000000</td>\n",
       "      <td>401.760000</td>\n",
       "      <td>24.000000</td>\n",
       "      <td>16829.310000</td>\n",
       "      <td>17.000000</td>\n",
       "      <td>50.0</td>\n",
       "      <td>15360.0</td>\n",
       "      <td>500.0</td>\n",
       "      <td>20.0</td>\n",
       "      <td>10.0</td>\n",
       "      <td>3.000000e-02</td>\n",
       "      <td>3.000000e-02</td>\n",
       "      <td>40.150000</td>\n",
       "    </tr>\n",
       "    <tr>\n",
       "      <td>75%</td>\n",
       "      <td>1358.000000</td>\n",
       "      <td>79.000000</td>\n",
       "      <td>543.680000</td>\n",
       "      <td>47.000000</td>\n",
       "      <td>20999.610000</td>\n",
       "      <td>21.000000</td>\n",
       "      <td>50.0</td>\n",
       "      <td>15360.0</td>\n",
       "      <td>500.0</td>\n",
       "      <td>20.0</td>\n",
       "      <td>10.0</td>\n",
       "      <td>3.000000e-02</td>\n",
       "      <td>3.000000e-02</td>\n",
       "      <td>80.000000</td>\n",
       "    </tr>\n",
       "    <tr>\n",
       "      <td>max</td>\n",
       "      <td>1499.000000</td>\n",
       "      <td>205.000000</td>\n",
       "      <td>1431.220000</td>\n",
       "      <td>266.000000</td>\n",
       "      <td>70931.590000</td>\n",
       "      <td>70.000000</td>\n",
       "      <td>50.0</td>\n",
       "      <td>15360.0</td>\n",
       "      <td>500.0</td>\n",
       "      <td>20.0</td>\n",
       "      <td>10.0</td>\n",
       "      <td>3.000000e-02</td>\n",
       "      <td>3.000000e-02</td>\n",
       "      <td>588.637200</td>\n",
       "    </tr>\n",
       "  </tbody>\n",
       "</table>\n",
       "</div>"
      ],
      "text/plain": [
       "           user_id   calls_made      minutes  messages_per_month  \\\n",
       "count  1573.000000  1573.000000  1573.000000         1573.000000   \n",
       "mean   1242.755245    59.811825   404.762390           31.159568   \n",
       "std     139.227939    32.017989   221.664397           33.566717   \n",
       "min    1001.000000     0.000000     0.000000            0.000000   \n",
       "25%    1120.000000    39.000000   255.470000            3.000000   \n",
       "50%    1245.000000    60.000000   401.760000           24.000000   \n",
       "75%    1358.000000    79.000000   543.680000           47.000000   \n",
       "max    1499.000000   205.000000  1431.220000          266.000000   \n",
       "\n",
       "          data_used     gb_month  messages_included  mb_per_month_included  \\\n",
       "count   1573.000000  1573.000000             1573.0                 1573.0   \n",
       "mean   16558.283490    16.670693               50.0                15360.0   \n",
       "std     8013.513327     7.847522                0.0                    0.0   \n",
       "min        0.000000     0.000000               50.0                15360.0   \n",
       "25%    11986.520000    12.000000               50.0                15360.0   \n",
       "50%    16829.310000    17.000000               50.0                15360.0   \n",
       "75%    20999.610000    21.000000               50.0                15360.0   \n",
       "max    70931.590000    70.000000               50.0                15360.0   \n",
       "\n",
       "       minutes_included  usd_monthly_pay  usd_per_gb  usd_per_message  \\\n",
       "count            1573.0           1573.0      1573.0     1.573000e+03   \n",
       "mean              500.0             20.0        10.0     3.000000e-02   \n",
       "std                 0.0              0.0         0.0     1.041165e-17   \n",
       "min               500.0             20.0        10.0     3.000000e-02   \n",
       "25%               500.0             20.0        10.0     3.000000e-02   \n",
       "50%               500.0             20.0        10.0     3.000000e-02   \n",
       "75%               500.0             20.0        10.0     3.000000e-02   \n",
       "max               500.0             20.0        10.0     3.000000e-02   \n",
       "\n",
       "       usd_per_minute  monthly_profit  \n",
       "count    1.573000e+03     1573.000000  \n",
       "mean     3.000000e-02       60.327346  \n",
       "std      1.041165e-17       55.262605  \n",
       "min      3.000000e-02       20.000000  \n",
       "25%      3.000000e-02       20.000000  \n",
       "50%      3.000000e-02       40.150000  \n",
       "75%      3.000000e-02       80.000000  \n",
       "max      3.000000e-02      588.637200  "
      ]
     },
     "execution_count": 43,
     "metadata": {},
     "output_type": "execute_result"
    }
   ],
   "source": [
    "data_surf = data.query(\"plan_name == 'surf'\")\n",
    "data_surf.describe()"
   ]
  },
  {
   "cell_type": "markdown",
   "metadata": {},
   "source": [
    "Surf Users:\n",
    "The surf users have made on average \n",
    "- 60 calls montly\n",
    "- spennt 404 minutes on the phone.\n",
    "- sent 31 messages per month\n",
    "- Used 16558 MB of data.\n",
    "- 16.6 GB a month\n",
    "- mean profit 60"
   ]
  },
  {
   "cell_type": "code",
   "execution_count": 44,
   "metadata": {},
   "outputs": [
    {
     "data": {
      "text/html": [
       "<div>\n",
       "<style scoped>\n",
       "    .dataframe tbody tr th:only-of-type {\n",
       "        vertical-align: middle;\n",
       "    }\n",
       "\n",
       "    .dataframe tbody tr th {\n",
       "        vertical-align: top;\n",
       "    }\n",
       "\n",
       "    .dataframe thead th {\n",
       "        text-align: right;\n",
       "    }\n",
       "</style>\n",
       "<table border=\"1\" class=\"dataframe\">\n",
       "  <thead>\n",
       "    <tr style=\"text-align: right;\">\n",
       "      <th></th>\n",
       "      <th>user_id</th>\n",
       "      <th>calls_made</th>\n",
       "      <th>minutes</th>\n",
       "      <th>messages_per_month</th>\n",
       "      <th>data_used</th>\n",
       "      <th>gb_month</th>\n",
       "      <th>messages_included</th>\n",
       "      <th>mb_per_month_included</th>\n",
       "      <th>minutes_included</th>\n",
       "      <th>usd_monthly_pay</th>\n",
       "      <th>usd_per_gb</th>\n",
       "      <th>usd_per_message</th>\n",
       "      <th>usd_per_minute</th>\n",
       "      <th>monthly_profit</th>\n",
       "    </tr>\n",
       "  </thead>\n",
       "  <tbody>\n",
       "    <tr>\n",
       "      <td>count</td>\n",
       "      <td>720.000000</td>\n",
       "      <td>720.000000</td>\n",
       "      <td>720.000000</td>\n",
       "      <td>720.000000</td>\n",
       "      <td>720.000000</td>\n",
       "      <td>720.000000</td>\n",
       "      <td>720.0</td>\n",
       "      <td>720.0</td>\n",
       "      <td>720.0</td>\n",
       "      <td>720.0</td>\n",
       "      <td>720.0</td>\n",
       "      <td>7.200000e+02</td>\n",
       "      <td>7.200000e+02</td>\n",
       "      <td>720.000000</td>\n",
       "    </tr>\n",
       "    <tr>\n",
       "      <td>mean</td>\n",
       "      <td>1253.330556</td>\n",
       "      <td>60.626389</td>\n",
       "      <td>406.193083</td>\n",
       "      <td>37.551389</td>\n",
       "      <td>17214.699694</td>\n",
       "      <td>17.306944</td>\n",
       "      <td>1000.0</td>\n",
       "      <td>30720.0</td>\n",
       "      <td>3000.0</td>\n",
       "      <td>70.0</td>\n",
       "      <td>7.0</td>\n",
       "      <td>1.000000e-02</td>\n",
       "      <td>1.000000e-02</td>\n",
       "      <td>72.313889</td>\n",
       "    </tr>\n",
       "    <tr>\n",
       "      <td>std</td>\n",
       "      <td>150.915644</td>\n",
       "      <td>33.242994</td>\n",
       "      <td>227.246499</td>\n",
       "      <td>34.767179</td>\n",
       "      <td>7851.897435</td>\n",
       "      <td>7.670108</td>\n",
       "      <td>0.0</td>\n",
       "      <td>0.0</td>\n",
       "      <td>0.0</td>\n",
       "      <td>0.0</td>\n",
       "      <td>0.0</td>\n",
       "      <td>1.735929e-18</td>\n",
       "      <td>1.735929e-18</td>\n",
       "      <td>11.395108</td>\n",
       "    </tr>\n",
       "    <tr>\n",
       "      <td>min</td>\n",
       "      <td>1000.000000</td>\n",
       "      <td>0.000000</td>\n",
       "      <td>0.000000</td>\n",
       "      <td>0.000000</td>\n",
       "      <td>0.000000</td>\n",
       "      <td>0.000000</td>\n",
       "      <td>1000.0</td>\n",
       "      <td>30720.0</td>\n",
       "      <td>3000.0</td>\n",
       "      <td>70.0</td>\n",
       "      <td>7.0</td>\n",
       "      <td>1.000000e-02</td>\n",
       "      <td>1.000000e-02</td>\n",
       "      <td>70.000000</td>\n",
       "    </tr>\n",
       "    <tr>\n",
       "      <td>25%</td>\n",
       "      <td>1126.000000</td>\n",
       "      <td>36.000000</td>\n",
       "      <td>246.290000</td>\n",
       "      <td>7.000000</td>\n",
       "      <td>12666.955000</td>\n",
       "      <td>13.000000</td>\n",
       "      <td>1000.0</td>\n",
       "      <td>30720.0</td>\n",
       "      <td>3000.0</td>\n",
       "      <td>70.0</td>\n",
       "      <td>7.0</td>\n",
       "      <td>1.000000e-02</td>\n",
       "      <td>1.000000e-02</td>\n",
       "      <td>70.000000</td>\n",
       "    </tr>\n",
       "    <tr>\n",
       "      <td>50%</td>\n",
       "      <td>1241.500000</td>\n",
       "      <td>61.000000</td>\n",
       "      <td>398.585000</td>\n",
       "      <td>30.000000</td>\n",
       "      <td>16858.340000</td>\n",
       "      <td>17.000000</td>\n",
       "      <td>1000.0</td>\n",
       "      <td>30720.0</td>\n",
       "      <td>3000.0</td>\n",
       "      <td>70.0</td>\n",
       "      <td>7.0</td>\n",
       "      <td>1.000000e-02</td>\n",
       "      <td>1.000000e-02</td>\n",
       "      <td>70.000000</td>\n",
       "    </tr>\n",
       "    <tr>\n",
       "      <td>75%</td>\n",
       "      <td>1401.000000</td>\n",
       "      <td>80.000000</td>\n",
       "      <td>532.227500</td>\n",
       "      <td>61.000000</td>\n",
       "      <td>21014.527500</td>\n",
       "      <td>21.000000</td>\n",
       "      <td>1000.0</td>\n",
       "      <td>30720.0</td>\n",
       "      <td>3000.0</td>\n",
       "      <td>70.0</td>\n",
       "      <td>7.0</td>\n",
       "      <td>1.000000e-02</td>\n",
       "      <td>1.000000e-02</td>\n",
       "      <td>70.000000</td>\n",
       "    </tr>\n",
       "    <tr>\n",
       "      <td>max</td>\n",
       "      <td>1497.000000</td>\n",
       "      <td>191.000000</td>\n",
       "      <td>1292.090000</td>\n",
       "      <td>166.000000</td>\n",
       "      <td>46595.330000</td>\n",
       "      <td>46.000000</td>\n",
       "      <td>1000.0</td>\n",
       "      <td>30720.0</td>\n",
       "      <td>3000.0</td>\n",
       "      <td>70.0</td>\n",
       "      <td>7.0</td>\n",
       "      <td>1.000000e-02</td>\n",
       "      <td>1.000000e-02</td>\n",
       "      <td>182.000000</td>\n",
       "    </tr>\n",
       "  </tbody>\n",
       "</table>\n",
       "</div>"
      ],
      "text/plain": [
       "           user_id  calls_made      minutes  messages_per_month     data_used  \\\n",
       "count   720.000000  720.000000   720.000000          720.000000    720.000000   \n",
       "mean   1253.330556   60.626389   406.193083           37.551389  17214.699694   \n",
       "std     150.915644   33.242994   227.246499           34.767179   7851.897435   \n",
       "min    1000.000000    0.000000     0.000000            0.000000      0.000000   \n",
       "25%    1126.000000   36.000000   246.290000            7.000000  12666.955000   \n",
       "50%    1241.500000   61.000000   398.585000           30.000000  16858.340000   \n",
       "75%    1401.000000   80.000000   532.227500           61.000000  21014.527500   \n",
       "max    1497.000000  191.000000  1292.090000          166.000000  46595.330000   \n",
       "\n",
       "         gb_month  messages_included  mb_per_month_included  minutes_included  \\\n",
       "count  720.000000              720.0                  720.0             720.0   \n",
       "mean    17.306944             1000.0                30720.0            3000.0   \n",
       "std      7.670108                0.0                    0.0               0.0   \n",
       "min      0.000000             1000.0                30720.0            3000.0   \n",
       "25%     13.000000             1000.0                30720.0            3000.0   \n",
       "50%     17.000000             1000.0                30720.0            3000.0   \n",
       "75%     21.000000             1000.0                30720.0            3000.0   \n",
       "max     46.000000             1000.0                30720.0            3000.0   \n",
       "\n",
       "       usd_monthly_pay  usd_per_gb  usd_per_message  usd_per_minute  \\\n",
       "count            720.0       720.0     7.200000e+02    7.200000e+02   \n",
       "mean              70.0         7.0     1.000000e-02    1.000000e-02   \n",
       "std                0.0         0.0     1.735929e-18    1.735929e-18   \n",
       "min               70.0         7.0     1.000000e-02    1.000000e-02   \n",
       "25%               70.0         7.0     1.000000e-02    1.000000e-02   \n",
       "50%               70.0         7.0     1.000000e-02    1.000000e-02   \n",
       "75%               70.0         7.0     1.000000e-02    1.000000e-02   \n",
       "max               70.0         7.0     1.000000e-02    1.000000e-02   \n",
       "\n",
       "       monthly_profit  \n",
       "count      720.000000  \n",
       "mean        72.313889  \n",
       "std         11.395108  \n",
       "min         70.000000  \n",
       "25%         70.000000  \n",
       "50%         70.000000  \n",
       "75%         70.000000  \n",
       "max        182.000000  "
      ]
     },
     "execution_count": 44,
     "metadata": {},
     "output_type": "execute_result"
    }
   ],
   "source": [
    "data_ultimate = data.query(\"plan_name == 'ultimate'\")\n",
    "data_ultimate.describe()"
   ]
  },
  {
   "cell_type": "markdown",
   "metadata": {},
   "source": [
    "Ultimate Users:\n",
    "\n",
    "The Ultimate users have made on average \n",
    "- 60 calls\n",
    "- spent 406 minutes.\n",
    "- made 37 messages per month\n",
    "- used 17214 MB of data.\n",
    "- 17.3 GB used a month\n",
    "- mean profit 72"
   ]
  },
  {
   "cell_type": "markdown",
   "metadata": {},
   "source": [
    "#### Conclusion<a class=\"anchor\" id=\"conclusion\"></a>"
   ]
  },
  {
   "cell_type": "markdown",
   "metadata": {},
   "source": [
    "Overall, the monthly profits for the surf plan seem to be very similar to the ultimate plan. Both plans mean calls, minutes spent, GB used, and messages sent a month are similar, but it is MB which is the one that is different from both plans and ultimate plan has higher MB use and ultimate has higher mean profit then surf."
   ]
  },
  {
   "cell_type": "markdown",
   "metadata": {},
   "source": [
    "### EDA<a class=\"anchor\" id=\"eda\"></a>"
   ]
  },
  {
   "cell_type": "code",
   "execution_count": 45,
   "metadata": {},
   "outputs": [
    {
     "data": {
      "image/png": "[encoded data removed]",
      "text/plain": [
       "<Figure size 1080x720 with 6 Axes>"
      ]
     },
     "metadata": {
      "needs_background": "light"
     },
     "output_type": "display_data"
    }
   ],
   "source": [
    "#histogram for data\n",
    "data[['calls_made', 'minutes', 'messages_per_month', 'data_used', 'gb_month']].hist(bins=30, figsize=(15, 10), color = 'g')\n",
    "plt.suptitle('Histograms');\n"
   ]
  },
  {
   "cell_type": "markdown",
   "metadata": {},
   "source": [
    "There is some outlier present and some of the trends seem to be right-skewed."
   ]
  },
  {
   "cell_type": "markdown",
   "metadata": {},
   "source": [
    "#### messages <a class=\"anchor\" id=\"messages\"></a>"
   ]
  },
  {
   "cell_type": "code",
   "execution_count": 46,
   "metadata": {},
   "outputs": [
    {
     "data": {
      "image/png": "[encoded data removed]",
      "text/plain": [
       "<Figure size 432x288 with 1 Axes>"
      ]
     },
     "metadata": {
      "needs_background": "light"
     },
     "output_type": "display_data"
    }
   ],
   "source": [
    "import matplotlib.pyplot as plt\n",
    "plt.hist([data_ultimate['messages_per_month'],data_surf['messages_per_month']],label= ['ultimate','surf'], density = True)\n",
    "plt.legend()\n",
    "plt.xlabel('Total_messages')\n",
    "plt.title('Monthly messages')\n",
    "plt.ylabel('frequency');"
   ]
  },
  {
   "cell_type": "markdown",
   "metadata": {},
   "source": [
    "Both the ultimate and surf plans seem to present the same kind of trend in the graph. We can see both surf and ultimate had a relativly large amount of people who dont send messages monthly, but it is surf plan that has as higher amount then ultimate for fewer of messages sent. "
   ]
  },
  {
   "cell_type": "code",
   "execution_count": 47,
   "metadata": {},
   "outputs": [
    {
     "data": {
      "image/png": "[encoded data removed]",
      "text/plain": [
       "<Figure size 576x432 with 1 Axes>"
      ]
     },
     "metadata": {
      "needs_background": "light"
     },
     "output_type": "display_data"
    }
   ],
   "source": [
    "fig, ax = plt.subplots()\n",
    "fig.set_size_inches(8,6)\n",
    "sns.boxplot(x=\"plan_name\", y=\"messages_per_month\", data = data, linewidth =2, ax=ax)\n",
    "plt.title(\"Boxplot of messages per month\", fontdict={\"size\":12})\n",
    "plt.ylabel(\"Total messages\", fontdict={\"size\":12})\n",
    "plt.xlabel(\"Plan\", fontdict={\"size\":12})\n",
    "plt.show()"
   ]
  },
  {
   "cell_type": "markdown",
   "metadata": {},
   "source": [
    "We can see that there are some outliers present for surf plan which is ranging from 120-280 range. As for the Ultimate outliers are present arounf 140-175 range. The Ultimate plan also has a higher mean and median then surf plan."
   ]
  },
  {
   "cell_type": "code",
   "execution_count": 48,
   "metadata": {},
   "outputs": [
    {
     "name": "stdout",
     "output_type": "stream",
     "text": [
      "The average number of messages monthly for surf plan 31.15956770502225\n",
      "The median number of messages monthly for surf plan is 24.0\n",
      "The std of messages monthly for surf plan is 33.566717473569064\n",
      "\n",
      "The average number of messages monthly for ultimate plan is 37.55138888888889\n",
      "The median number of messages monthly for ultimate plan is 30.0\n",
      "The std for messages monthly for ultimate plan is 34.76717911404574\n"
     ]
    }
   ],
   "source": [
    "#the number of messages for mean, median, std in a month for surf\n",
    "print('The average number of messages monthly for surf plan {}'.format(\n",
    "    data_surf['messages_per_month'].mean()))\n",
    "print('The median number of messages monthly for surf plan is {}'.format(\n",
    "    data_surf['messages_per_month'].median()))\n",
    "print('The std of messages monthly for surf plan is {}'.format(\n",
    "    data_surf['messages_per_month'].std()))\n",
    "\n",
    "print()\n",
    "#the number of messages for mean, median, std in a month for ultimate\n",
    "print('The average number of messages monthly for ultimate plan is {}'.format(\n",
    "    data_ultimate['messages_per_month'].mean()))\n",
    "print('The median number of messages monthly for ultimate plan is {}'.format(\n",
    "    data_ultimate['messages_per_month'].median()))\n",
    "print('The std for messages monthly for ultimate plan is {}'.format(\n",
    "    data_ultimate['messages_per_month'].std()))"
   ]
  },
  {
   "cell_type": "markdown",
   "metadata": {},
   "source": [
    "\n"
   ]
  },
  {
   "cell_type": "markdown",
   "metadata": {},
   "source": [
    "#### calls<a class=\"anchor\" id=\"calls\"></a>"
   ]
  },
  {
   "cell_type": "code",
   "execution_count": 49,
   "metadata": {},
   "outputs": [
    {
     "data": {
      "image/png": "[encoded data removed]",
      "text/plain": [
       "<Figure size 432x288 with 1 Axes>"
      ]
     },
     "metadata": {
      "needs_background": "light"
     },
     "output_type": "display_data"
    }
   ],
   "source": [
    "#histograph for ultimate and surf calls\n",
    "plt.hist([data_ultimate['calls_made'],data_surf['calls_made']],label= ['ultimate','surf'], density = True)\n",
    "plt.legend()\n",
    "plt.xlabel('Total_calls')\n",
    "plt.title('Monthly calls')\n",
    "plt.ylabel('frequency');"
   ]
  },
  {
   "cell_type": "markdown",
   "metadata": {},
   "source": [
    "We can see from the histogram that the data is skeweked to the right side. Both plans seem to have the same trend and make more sorter calls then longer ones, but it seems that ultimate users seem to make more shorter calls then surf plan. "
   ]
  },
  {
   "cell_type": "code",
   "execution_count": 50,
   "metadata": {},
   "outputs": [
    {
     "data": {
      "image/png": "[encoded data removed]",
      "text/plain": [
       "<Figure size 576x432 with 1 Axes>"
      ]
     },
     "metadata": {
      "needs_background": "light"
     },
     "output_type": "display_data"
    }
   ],
   "source": [
    "fig, ax = plt.subplots()\n",
    "fig.set_size_inches(8,6)\n",
    "sns.boxplot(x=\"plan_name\", y=\"calls_made\", data = data, linewidth =2, ax=ax)\n",
    "plt.title(\"Boxplot of calls made per month\", fontdict={\"size\":12})\n",
    "plt.ylabel(\"Total calls\", fontdict={\"size\":12})\n",
    "plt.xlabel(\"Plan\", fontdict={\"size\":12})\n",
    "plt.show()"
   ]
  },
  {
   "cell_type": "markdown",
   "metadata": {},
   "source": [
    "We can see that both plans have outliers present ranging from 140- 250 for total messages. Alos both messages have around the same mean."
   ]
  },
  {
   "cell_type": "code",
   "execution_count": 51,
   "metadata": {},
   "outputs": [
    {
     "name": "stdout",
     "output_type": "stream",
     "text": [
      "The average number of messages monthly for surf plan 59.811824539097266\n",
      "The median number of messages monthly for surf plan is 60.0\n",
      "The std of messages monthly for surf plan is 32.01798854349269\n",
      "\n",
      "The average number of messages monthly for ultimate plan is 60.62638888888889\n",
      "The median number of messages monthly for ultimate plan is 61.0\n",
      "The std for messages monthly for ultimate plan is 33.24299415063124\n"
     ]
    }
   ],
   "source": [
    "#the number of messages for mean, median, std in a month for surf\n",
    "print('The average number of messages monthly for surf plan {}'.format(\n",
    "    data_surf['calls_made'].mean()))\n",
    "print('The median number of messages monthly for surf plan is {}'.format(\n",
    "    data_surf['calls_made'].median()))\n",
    "print('The std of messages monthly for surf plan is {}'.format(\n",
    "    data_surf['calls_made'].std()))\n",
    "\n",
    "print()\n",
    "#the number of messages for mean, median, std in a month for ultimate\n",
    "print('The average number of messages monthly for ultimate plan is {}'.format(\n",
    "    data_ultimate['calls_made'].mean()))\n",
    "print('The median number of messages monthly for ultimate plan is {}'.format(\n",
    "    data_ultimate['calls_made'].median()))\n",
    "print('The std for messages monthly for ultimate plan is {}'.format(\n",
    "    data_ultimate['calls_made'].std()))"
   ]
  },
  {
   "cell_type": "markdown",
   "metadata": {},
   "source": [
    "#### Minutes<a class=\"anchor\" id=\"min\"></a>"
   ]
  },
  {
   "cell_type": "code",
   "execution_count": 52,
   "metadata": {},
   "outputs": [
    {
     "data": {
      "image/png": "[encoded data removed]",
      "text/plain": [
       "<Figure size 432x288 with 1 Axes>"
      ]
     },
     "metadata": {
      "needs_background": "light"
     },
     "output_type": "display_data"
    }
   ],
   "source": [
    "#histograph for ultimate and surf minutes\n",
    "plt.hist([data_ultimate['minutes'],data_surf['minutes']],label= ['ultimate','surf'], density = True)\n",
    "plt.legend()\n",
    "plt.xlabel('Total_minutes')\n",
    "plt.title('Monthly minutes')\n",
    "plt.ylabel('frequency');"
   ]
  },
  {
   "cell_type": "markdown",
   "metadata": {},
   "source": [
    "The histogram is skeweked to the right side. In addition, we can see that the trends for total_minutes spent seem to be very close for both surf and ultimate plan. We can see that utimate plan users semt to user more smaller amounts of minutes then surf plan. "
   ]
  },
  {
   "cell_type": "code",
   "execution_count": 53,
   "metadata": {},
   "outputs": [
    {
     "data": {
      "image/png": "[encoded data removed]",
      "text/plain": [
       "<Figure size 576x432 with 1 Axes>"
      ]
     },
     "metadata": {
      "needs_background": "light"
     },
     "output_type": "display_data"
    }
   ],
   "source": [
    "fig, ax = plt.subplots()\n",
    "fig.set_size_inches(8,6)\n",
    "sns.boxplot(x=\"plan_name\", y=\"minutes\", data = data, linewidth =2, ax=ax)\n",
    "plt.title(\"Boxplot of  minutes per month \", fontdict={\"size\":12})\n",
    "plt.ylabel(\"Total minutes\", fontdict={\"size\":12})\n",
    "plt.xlabel(\"Plan\", fontdict={\"size\":12})\n",
    "plt.show()"
   ]
  },
  {
   "cell_type": "markdown",
   "metadata": {},
   "source": [
    "We can see that both plans have outliers present. Surf plan seems to have more outlier present ranging from 1000 - 1400 range and a higher mean then ultimate. While Ultimate seems to start from 990- 1350. "
   ]
  },
  {
   "cell_type": "code",
   "execution_count": 54,
   "metadata": {},
   "outputs": [
    {
     "name": "stdout",
     "output_type": "stream",
     "text": [
      "The average number of messages monthly for surf plan 404.76239033693577\n",
      "The median number of messages monthly for surf plan is 401.75999999999993\n",
      "The std of messages monthly for surf plan is 221.6643969849924\n",
      "\n",
      "The average number of messages monthly for ultimate plan is 406.19308333333333\n",
      "The median number of messages monthly for ultimate plan is 398.58500000000004\n",
      "The std for messages monthly for ultimate plan is 227.24649920771657\n"
     ]
    }
   ],
   "source": [
    "#the number of messages for mean, median, std in a month for surf\n",
    "print('The average number of messages monthly for surf plan {}'.format(\n",
    "    data_surf['minutes'].mean()))\n",
    "print('The median number of messages monthly for surf plan is {}'.format(\n",
    "    data_surf['minutes'].median()))\n",
    "print('The std of messages monthly for surf plan is {}'.format(\n",
    "    data_surf['minutes'].std()))\n",
    "\n",
    "print()\n",
    "#the number of messages for mean, median, std in a month for ultimate\n",
    "print('The average number of messages monthly for ultimate plan is {}'.format(\n",
    "    data_ultimate['minutes'].mean()))\n",
    "print('The median number of messages monthly for ultimate plan is {}'.format(\n",
    "    data_ultimate['minutes'].median()))\n",
    "print('The std for messages monthly for ultimate plan is {}'.format(\n",
    "    data_ultimate['minutes'].std()))"
   ]
  },
  {
   "cell_type": "markdown",
   "metadata": {},
   "source": [
    "#### Data <a class=\"anchor\" id=\"data\"></a>"
   ]
  },
  {
   "cell_type": "code",
   "execution_count": 55,
   "metadata": {},
   "outputs": [
    {
     "data": {
      "image/png": "[encoded data removed]",
      "text/plain": [
       "<Figure size 432x288 with 1 Axes>"
      ]
     },
     "metadata": {
      "needs_background": "light"
     },
     "output_type": "display_data"
    }
   ],
   "source": [
    "#histograph for ultimate and surf MB used\n",
    "plt.hist([data_ultimate['data_used'],data_surf['data_used']],label= ['ultimate','surf'], density = True)\n",
    "plt.legend()\n",
    "plt.xlabel('Total_data used')\n",
    "plt.title('Monthly data used')\n",
    "plt.ylabel('frequency');"
   ]
  },
  {
   "cell_type": "markdown",
   "metadata": {},
   "source": [
    "The graph seems to look like a normal distribution with skewness to the right side. In addition, we can see that there sharp peak for both plans around 20000 MB for users of both plans. Also, fewer users are using more data after 25000MB and we can see outliers who do use the most data being surf plan users."
   ]
  },
  {
   "cell_type": "code",
   "execution_count": 56,
   "metadata": {},
   "outputs": [
    {
     "data": {
      "image/png": "[encoded data removed]",
      "text/plain": [
       "<Figure size 576x432 with 1 Axes>"
      ]
     },
     "metadata": {
      "needs_background": "light"
     },
     "output_type": "display_data"
    }
   ],
   "source": [
    "fig, ax = plt.subplots()\n",
    "fig.set_size_inches(8,6)\n",
    "sns.boxplot(x=\"plan_name\", y=\"data_used\", data = data, linewidth =2, ax=ax)\n",
    "plt.title(\"Boxplot of data per month \", fontdict={\"size\":12})\n",
    "plt.ylabel(\"Total data\", fontdict={\"size\":12})\n",
    "plt.xlabel(\"Plan\", fontdict={\"size\":12})\n",
    "plt.show()"
   ]
  },
  {
   "cell_type": "markdown",
   "metadata": {},
   "source": [
    "Both plans mean seem very close to each other. We can see that Surf plan seem to have more outliers than Ultimate. Surf plan oultiers range from 35000-70000, and Sultimate is from 33000-49000."
   ]
  },
  {
   "cell_type": "code",
   "execution_count": 57,
   "metadata": {},
   "outputs": [
    {
     "name": "stdout",
     "output_type": "stream",
     "text": [
      "The average number of data used monthly for surf plan 16558.283490146216\n",
      "The median number of data used monthly for surf plan is 16829.309999999998\n",
      "The std of messages data used for surf plan is 8013.513326751753\n",
      "\n",
      "The average number of data used monthly for ultimate plan is 17214.699694444447\n",
      "The median number of data used monthly for ultimate plan is 16858.34\n",
      "The std for data used monthly for ultimate plan is 7851.897434624215\n"
     ]
    }
   ],
   "source": [
    "#the number of messages for mean, median, std in a month for surf\n",
    "print('The average number of data used monthly for surf plan {}'.format(\n",
    "    data_surf['data_used'].mean()))\n",
    "print('The median number of data used monthly for surf plan is {}'.format(\n",
    "    data_surf['data_used'].median()))\n",
    "print('The std of messages data used for surf plan is {}'.format(\n",
    "    data_surf['data_used'].std()))\n",
    "\n",
    "print()\n",
    "#the number of messages for mean, median, std in a month for ultimate\n",
    "print('The average number of data used monthly for ultimate plan is {}'.format(\n",
    "    data_ultimate['data_used'].mean()))\n",
    "print('The median number of data used monthly for ultimate plan is {}'.format(\n",
    "    data_ultimate['data_used'].median()))\n",
    "print('The std for data used monthly for ultimate plan is {}'.format(\n",
    "    data_ultimate['data_used'].std()))"
   ]
  },
  {
   "cell_type": "markdown",
   "metadata": {},
   "source": [
    "#### Outliers<a class=\"anchor\" id=\"outlier\"></a>"
   ]
  },
  {
   "cell_type": "code",
   "execution_count": 75,
   "metadata": {},
   "outputs": [],
   "source": [
    "# Using IQR for outliers\n",
    "df = data[['calls_made', 'minutes', 'messages_per_month', 'data_used', 'monthly_profit']]\n",
    "iqr = df.quantile(0.75) - df.quantile(0.25)\n",
    "upper = df.quantile(0.75) + iqr*1.5\n",
    "lower = df.quantile(0.25) - iqr*1.5"
   ]
  },
  {
   "cell_type": "code",
   "execution_count": 78,
   "metadata": {},
   "outputs": [
    {
     "data": {
      "text/plain": [
       "calls_made              140.5000\n",
       "minutes                 977.4300\n",
       "messages_per_month      123.0000\n",
       "data_used             34145.9600\n",
       "monthly_profit          141.2677\n",
       "dtype: float64"
      ]
     },
     "execution_count": 78,
     "metadata": {},
     "output_type": "execute_result"
    }
   ],
   "source": [
    "#upper outlier cutoff\n",
    "upper.head()"
   ]
  },
  {
   "cell_type": "code",
   "execution_count": 79,
   "metadata": {},
   "outputs": [
    {
     "data": {
      "text/plain": [
       "calls_made            -23.5000\n",
       "minutes              -187.8500\n",
       "messages_per_month    -69.0000\n",
       "data_used            -910.3600\n",
       "monthly_profit        -48.7795\n",
       "dtype: float64"
      ]
     },
     "execution_count": 79,
     "metadata": {},
     "output_type": "execute_result"
    }
   ],
   "source": [
    "#lower outlier cutoff \n",
    "lower.head()"
   ]
  },
  {
   "cell_type": "code",
   "execution_count": 59,
   "metadata": {},
   "outputs": [
    {
     "data": {
      "text/html": [
       "<div>\n",
       "<style scoped>\n",
       "    .dataframe tbody tr th:only-of-type {\n",
       "        vertical-align: middle;\n",
       "    }\n",
       "\n",
       "    .dataframe tbody tr th {\n",
       "        vertical-align: top;\n",
       "    }\n",
       "\n",
       "    .dataframe thead th {\n",
       "        text-align: right;\n",
       "    }\n",
       "</style>\n",
       "<table border=\"1\" class=\"dataframe\">\n",
       "  <thead>\n",
       "    <tr style=\"text-align: right;\">\n",
       "      <th></th>\n",
       "      <th>calls_made</th>\n",
       "      <th>minutes</th>\n",
       "      <th>messages_per_month</th>\n",
       "      <th>data_used</th>\n",
       "      <th>monthly_profit</th>\n",
       "    </tr>\n",
       "  </thead>\n",
       "  <tbody>\n",
       "    <tr>\n",
       "      <td>0</td>\n",
       "      <td>16.0</td>\n",
       "      <td>116.83</td>\n",
       "      <td>11.0</td>\n",
       "      <td>1901.47</td>\n",
       "      <td>70.00</td>\n",
       "    </tr>\n",
       "    <tr>\n",
       "      <td>1</td>\n",
       "      <td>27.0</td>\n",
       "      <td>171.14</td>\n",
       "      <td>30.0</td>\n",
       "      <td>6919.15</td>\n",
       "      <td>20.00</td>\n",
       "    </tr>\n",
       "    <tr>\n",
       "      <td>2</td>\n",
       "      <td>56.0</td>\n",
       "      <td>392.93</td>\n",
       "      <td>44.0</td>\n",
       "      <td>19369.18</td>\n",
       "      <td>60.00</td>\n",
       "    </tr>\n",
       "    <tr>\n",
       "      <td>3</td>\n",
       "      <td>64.0</td>\n",
       "      <td>404.59</td>\n",
       "      <td>36.0</td>\n",
       "      <td>18504.30</td>\n",
       "      <td>60.00</td>\n",
       "    </tr>\n",
       "    <tr>\n",
       "      <td>4</td>\n",
       "      <td>65.0</td>\n",
       "      <td>374.11</td>\n",
       "      <td>53.0</td>\n",
       "      <td>22330.49</td>\n",
       "      <td>90.09</td>\n",
       "    </tr>\n",
       "    <tr>\n",
       "      <td>...</td>\n",
       "      <td>...</td>\n",
       "      <td>...</td>\n",
       "      <td>...</td>\n",
       "      <td>...</td>\n",
       "      <td>...</td>\n",
       "    </tr>\n",
       "    <tr>\n",
       "      <td>2186</td>\n",
       "      <td>0.0</td>\n",
       "      <td>0.00</td>\n",
       "      <td>42.0</td>\n",
       "      <td>21346.95</td>\n",
       "      <td>70.00</td>\n",
       "    </tr>\n",
       "    <tr>\n",
       "      <td>2187</td>\n",
       "      <td>0.0</td>\n",
       "      <td>0.00</td>\n",
       "      <td>61.0</td>\n",
       "      <td>13039.91</td>\n",
       "      <td>20.33</td>\n",
       "    </tr>\n",
       "    <tr>\n",
       "      <td>2188</td>\n",
       "      <td>0.0</td>\n",
       "      <td>0.00</td>\n",
       "      <td>72.0</td>\n",
       "      <td>17128.26</td>\n",
       "      <td>40.66</td>\n",
       "    </tr>\n",
       "    <tr>\n",
       "      <td>2189</td>\n",
       "      <td>0.0</td>\n",
       "      <td>0.00</td>\n",
       "      <td>76.0</td>\n",
       "      <td>13093.55</td>\n",
       "      <td>20.78</td>\n",
       "    </tr>\n",
       "    <tr>\n",
       "      <td>2190</td>\n",
       "      <td>0.0</td>\n",
       "      <td>0.00</td>\n",
       "      <td>0.0</td>\n",
       "      <td>233.17</td>\n",
       "      <td>70.00</td>\n",
       "    </tr>\n",
       "  </tbody>\n",
       "</table>\n",
       "<p>2191 rows × 5 columns</p>\n",
       "</div>"
      ],
      "text/plain": [
       "      calls_made  minutes  messages_per_month  data_used  monthly_profit\n",
       "0           16.0   116.83                11.0    1901.47           70.00\n",
       "1           27.0   171.14                30.0    6919.15           20.00\n",
       "2           56.0   392.93                44.0   19369.18           60.00\n",
       "3           64.0   404.59                36.0   18504.30           60.00\n",
       "4           65.0   374.11                53.0   22330.49           90.09\n",
       "...          ...      ...                 ...        ...             ...\n",
       "2186         0.0     0.00                42.0   21346.95           70.00\n",
       "2187         0.0     0.00                61.0   13039.91           20.33\n",
       "2188         0.0     0.00                72.0   17128.26           40.66\n",
       "2189         0.0     0.00                76.0   13093.55           20.78\n",
       "2190         0.0     0.00                 0.0     233.17           70.00\n",
       "\n",
       "[2191 rows x 5 columns]"
      ]
     },
     "execution_count": 59,
     "metadata": {},
     "output_type": "execute_result"
    }
   ],
   "source": [
    "# filtered dataset using z-score.\n",
    "df_clean = df[(np.abs(stats.zscore(df)) < 3).all(axis=1)]\n",
    "df_clean = df_clean.reset_index(drop=True, inplace=False)\n",
    "df_clean"
   ]
  },
  {
   "cell_type": "code",
   "execution_count": 64,
   "metadata": {},
   "outputs": [
    {
     "data": {
      "image/png": "[encoded data removed]",
      "text/plain": [
       "<Figure size 1080x720 with 6 Axes>"
      ]
     },
     "metadata": {
      "needs_background": "light"
     },
     "output_type": "display_data"
    }
   ],
   "source": [
    "# plot histogram of filtered data\n",
    "df_clean[['calls_made', 'minutes', 'messages_per_month', 'data_used', 'monthly_profit']].hist(bins=30, figsize=(15, 10), color = 'g')\n",
    "plt.suptitle('Histogram of filtered data', y=0.95);"
   ]
  },
  {
   "cell_type": "markdown",
   "metadata": {},
   "source": [
    "The data is cleaner and have a more normal distribution shape and are not as right skewed as before."
   ]
  },
  {
   "cell_type": "code",
   "execution_count": 66,
   "metadata": {},
   "outputs": [
    {
     "data": {
      "text/html": [
       "<div>\n",
       "<style scoped>\n",
       "    .dataframe tbody tr th:only-of-type {\n",
       "        vertical-align: middle;\n",
       "    }\n",
       "\n",
       "    .dataframe tbody tr th {\n",
       "        vertical-align: top;\n",
       "    }\n",
       "\n",
       "    .dataframe thead th {\n",
       "        text-align: right;\n",
       "    }\n",
       "</style>\n",
       "<table border=\"1\" class=\"dataframe\">\n",
       "  <thead>\n",
       "    <tr style=\"text-align: right;\">\n",
       "      <th></th>\n",
       "      <th>calls_made</th>\n",
       "      <th>minutes</th>\n",
       "      <th>messages_per_month</th>\n",
       "      <th>data_used</th>\n",
       "      <th>monthly_profit</th>\n",
       "    </tr>\n",
       "  </thead>\n",
       "  <tbody>\n",
       "    <tr>\n",
       "      <td>count</td>\n",
       "      <td>677.000000</td>\n",
       "      <td>677.000000</td>\n",
       "      <td>677.000000</td>\n",
       "      <td>677.000000</td>\n",
       "      <td>677.000000</td>\n",
       "    </tr>\n",
       "    <tr>\n",
       "      <td>mean</td>\n",
       "      <td>58.970458</td>\n",
       "      <td>394.634018</td>\n",
       "      <td>34.302806</td>\n",
       "      <td>16365.651566</td>\n",
       "      <td>70.568685</td>\n",
       "    </tr>\n",
       "    <tr>\n",
       "      <td>std</td>\n",
       "      <td>29.979860</td>\n",
       "      <td>204.853477</td>\n",
       "      <td>31.274291</td>\n",
       "      <td>6906.710640</td>\n",
       "      <td>3.677063</td>\n",
       "    </tr>\n",
       "    <tr>\n",
       "      <td>min</td>\n",
       "      <td>0.000000</td>\n",
       "      <td>0.000000</td>\n",
       "      <td>0.000000</td>\n",
       "      <td>0.000000</td>\n",
       "      <td>70.000000</td>\n",
       "    </tr>\n",
       "    <tr>\n",
       "      <td>25%</td>\n",
       "      <td>36.000000</td>\n",
       "      <td>247.030000</td>\n",
       "      <td>5.000000</td>\n",
       "      <td>12496.090000</td>\n",
       "      <td>70.000000</td>\n",
       "    </tr>\n",
       "    <tr>\n",
       "      <td>50%</td>\n",
       "      <td>60.000000</td>\n",
       "      <td>397.310000</td>\n",
       "      <td>28.000000</td>\n",
       "      <td>16438.420000</td>\n",
       "      <td>70.000000</td>\n",
       "    </tr>\n",
       "    <tr>\n",
       "      <td>75%</td>\n",
       "      <td>78.000000</td>\n",
       "      <td>516.250000</td>\n",
       "      <td>56.000000</td>\n",
       "      <td>20259.490000</td>\n",
       "      <td>70.000000</td>\n",
       "    </tr>\n",
       "    <tr>\n",
       "      <td>max</td>\n",
       "      <td>159.000000</td>\n",
       "      <td>1054.850000</td>\n",
       "      <td>139.000000</td>\n",
       "      <td>35206.680000</td>\n",
       "      <td>105.000000</td>\n",
       "    </tr>\n",
       "  </tbody>\n",
       "</table>\n",
       "</div>"
      ],
      "text/plain": [
       "       calls_made      minutes  messages_per_month     data_used  \\\n",
       "count  677.000000   677.000000          677.000000    677.000000   \n",
       "mean    58.970458   394.634018           34.302806  16365.651566   \n",
       "std     29.979860   204.853477           31.274291   6906.710640   \n",
       "min      0.000000     0.000000            0.000000      0.000000   \n",
       "25%     36.000000   247.030000            5.000000  12496.090000   \n",
       "50%     60.000000   397.310000           28.000000  16438.420000   \n",
       "75%     78.000000   516.250000           56.000000  20259.490000   \n",
       "max    159.000000  1054.850000          139.000000  35206.680000   \n",
       "\n",
       "       monthly_profit  \n",
       "count      677.000000  \n",
       "mean        70.568685  \n",
       "std          3.677063  \n",
       "min         70.000000  \n",
       "25%         70.000000  \n",
       "50%         70.000000  \n",
       "75%         70.000000  \n",
       "max        105.000000  "
      ]
     },
     "execution_count": 66,
     "metadata": {},
     "output_type": "execute_result"
    }
   ],
   "source": [
    "# extract filtered data for the surf plan using z-score\n",
    "ultimate_data = data.query(\"plan == 'ultimate'\")\n",
    "ultimate_plan = ultimate_data[['calls_made', 'minutes', 'messages_per_month', 'data_used', 'monthly_profit']]\n",
    "\n",
    "ultimate_plan1 = ultimate_plan[(np.abs(stats.zscore(ultimate_plan)) < 3).all(axis=1)]\n",
    "ultimate_plan1 = ultimate_plan1.reset_index(drop=True, inplace=False)\n",
    "ultimate_plan1.describe()"
   ]
  },
  {
   "cell_type": "markdown",
   "metadata": {},
   "source": [
    "For Ultimate plan on average make monthly:\n",
    "\n",
    "- 58 calls made\n",
    "- 394 minutes\n",
    "- 34 messages per month\n",
    "- 16365 data used\n",
    "- 70 dollars profit"
   ]
  },
  {
   "cell_type": "code",
   "execution_count": 62,
   "metadata": {},
   "outputs": [
    {
     "data": {
      "text/html": [
       "<div>\n",
       "<style scoped>\n",
       "    .dataframe tbody tr th:only-of-type {\n",
       "        vertical-align: middle;\n",
       "    }\n",
       "\n",
       "    .dataframe tbody tr th {\n",
       "        vertical-align: top;\n",
       "    }\n",
       "\n",
       "    .dataframe thead th {\n",
       "        text-align: right;\n",
       "    }\n",
       "</style>\n",
       "<table border=\"1\" class=\"dataframe\">\n",
       "  <thead>\n",
       "    <tr style=\"text-align: right;\">\n",
       "      <th></th>\n",
       "      <th>calls_made</th>\n",
       "      <th>minutes</th>\n",
       "      <th>messages_per_month</th>\n",
       "      <th>data_used</th>\n",
       "      <th>monthly_profit</th>\n",
       "    </tr>\n",
       "  </thead>\n",
       "  <tbody>\n",
       "    <tr>\n",
       "      <td>count</td>\n",
       "      <td>1508.000000</td>\n",
       "      <td>1508.000000</td>\n",
       "      <td>1508.000000</td>\n",
       "      <td>1508.000000</td>\n",
       "      <td>1508.000000</td>\n",
       "    </tr>\n",
       "    <tr>\n",
       "      <td>mean</td>\n",
       "      <td>58.357427</td>\n",
       "      <td>394.849204</td>\n",
       "      <td>28.301724</td>\n",
       "      <td>16039.802155</td>\n",
       "      <td>55.143632</td>\n",
       "    </tr>\n",
       "    <tr>\n",
       "      <td>std</td>\n",
       "      <td>30.313364</td>\n",
       "      <td>210.005175</td>\n",
       "      <td>28.408758</td>\n",
       "      <td>7071.134553</td>\n",
       "      <td>43.351986</td>\n",
       "    </tr>\n",
       "    <tr>\n",
       "      <td>min</td>\n",
       "      <td>0.000000</td>\n",
       "      <td>0.000000</td>\n",
       "      <td>0.000000</td>\n",
       "      <td>0.000000</td>\n",
       "      <td>20.000000</td>\n",
       "    </tr>\n",
       "    <tr>\n",
       "      <td>25%</td>\n",
       "      <td>38.000000</td>\n",
       "      <td>247.825000</td>\n",
       "      <td>2.000000</td>\n",
       "      <td>11928.992500</td>\n",
       "      <td>20.000000</td>\n",
       "    </tr>\n",
       "    <tr>\n",
       "      <td>50%</td>\n",
       "      <td>59.000000</td>\n",
       "      <td>393.975000</td>\n",
       "      <td>23.000000</td>\n",
       "      <td>16679.935000</td>\n",
       "      <td>40.000000</td>\n",
       "    </tr>\n",
       "    <tr>\n",
       "      <td>75%</td>\n",
       "      <td>78.000000</td>\n",
       "      <td>534.540000</td>\n",
       "      <td>44.000000</td>\n",
       "      <td>20620.942500</td>\n",
       "      <td>80.000000</td>\n",
       "    </tr>\n",
       "    <tr>\n",
       "      <td>max</td>\n",
       "      <td>155.000000</td>\n",
       "      <td>1066.080000</td>\n",
       "      <td>130.000000</td>\n",
       "      <td>35662.920000</td>\n",
       "      <td>223.123600</td>\n",
       "    </tr>\n",
       "  </tbody>\n",
       "</table>\n",
       "</div>"
      ],
      "text/plain": [
       "        calls_made      minutes  messages_per_month     data_used  \\\n",
       "count  1508.000000  1508.000000         1508.000000   1508.000000   \n",
       "mean     58.357427   394.849204           28.301724  16039.802155   \n",
       "std      30.313364   210.005175           28.408758   7071.134553   \n",
       "min       0.000000     0.000000            0.000000      0.000000   \n",
       "25%      38.000000   247.825000            2.000000  11928.992500   \n",
       "50%      59.000000   393.975000           23.000000  16679.935000   \n",
       "75%      78.000000   534.540000           44.000000  20620.942500   \n",
       "max     155.000000  1066.080000          130.000000  35662.920000   \n",
       "\n",
       "       monthly_profit  \n",
       "count     1508.000000  \n",
       "mean        55.143632  \n",
       "std         43.351986  \n",
       "min         20.000000  \n",
       "25%         20.000000  \n",
       "50%         40.000000  \n",
       "75%         80.000000  \n",
       "max        223.123600  "
      ]
     },
     "execution_count": 62,
     "metadata": {},
     "output_type": "execute_result"
    }
   ],
   "source": [
    "# extract filtered data for the surf plan using z score\n",
    "surf_data = data.query(\"plan == 'surf'\")\n",
    "surf_plan = surf_data[['calls_made', 'minutes', 'messages_per_month', 'data_used', 'monthly_profit']]\n",
    "\n",
    "surf_plan1 = surf_plan[(np.abs(stats.zscore(surf_plan)) < 3).all(axis=1)]\n",
    "surf_plan1 = surf_plan1.reset_index(drop=True, inplace=False)\n",
    "surf_plan1.describe()"
   ]
  },
  {
   "cell_type": "markdown",
   "metadata": {},
   "source": [
    "For surf plan on average make monthly:\n",
    "- 58 calls made\n",
    "- 394 minutes used\n",
    "- 28 messages\n",
    "- 16039 MB of data used\n",
    "- monthly profit of 55 dollars"
   ]
  },
  {
   "cell_type": "code",
   "execution_count": 67,
   "metadata": {},
   "outputs": [
    {
     "data": {
      "image/png": "[encoded data removed]",
      "text/plain": [
       "<Figure size 432x288 with 1 Axes>"
      ]
     },
     "metadata": {
      "needs_background": "light"
     },
     "output_type": "display_data"
    }
   ],
   "source": [
    "plt.hist([ultimate_plan1['messages_per_month'],surf_plan1['messages_per_month']],label= ['ultimate','surf'], density = True)\n",
    "plt.legend()\n",
    "plt.xlabel('Total_messages')\n",
    "plt.title('Monthly messages')\n",
    "plt.ylabel('frequency');"
   ]
  },
  {
   "cell_type": "markdown",
   "metadata": {},
   "source": [
    "Both surf and ultimate plan have a similar trend with each other. In addition, we can see that the surf plan tends to have a high amount of fewer messages than Ultimate. Also, as the message total increase, we can see that Ultimate plan has more total messages than surf but they seem to have fewer amount of more messages."
   ]
  },
  {
   "cell_type": "code",
   "execution_count": 68,
   "metadata": {},
   "outputs": [
    {
     "data": {
      "image/png": "[encoded data removed]",
      "text/plain": [
       "<Figure size 432x288 with 1 Axes>"
      ]
     },
     "metadata": {
      "needs_background": "light"
     },
     "output_type": "display_data"
    }
   ],
   "source": [
    "#histograph for ultimate and surf calls\n",
    "plt.hist([ultimate_plan1['calls_made'],surf_plan1['calls_made']],label= ['ultimate','surf'], density = True)\n",
    "plt.legend()\n",
    "plt.xlabel('Total_calls')\n",
    "plt.title('Monthly calls')\n",
    "plt.ylabel('frequency');"
   ]
  },
  {
   "cell_type": "markdown",
   "metadata": {},
   "source": [
    "The distribution looks more like a normal distribution with mean-centered around 60. There seems to be a lot of calls made from surf than ultimate. With ultimate have a relatively large amount of small calls than large."
   ]
  },
  {
   "cell_type": "code",
   "execution_count": 69,
   "metadata": {},
   "outputs": [
    {
     "data": {
      "image/png": "[encoded data removed]",
      "text/plain": [
       "<Figure size 432x288 with 1 Axes>"
      ]
     },
     "metadata": {
      "needs_background": "light"
     },
     "output_type": "display_data"
    }
   ],
   "source": [
    "#histograph for ultimate and surf minutes\n",
    "plt.hist([ultimate_plan1['calls_made'],surf_plan1['calls_made']],label= ['ultimate','surf'], density = True)\n",
    "plt.legend()\n",
    "plt.xlabel('Total_minutes')\n",
    "plt.title('Monthly minutes')\n",
    "plt.ylabel('frequency');"
   ]
  },
  {
   "cell_type": "markdown",
   "metadata": {},
   "source": [
    "Both surf and ultimate plan have fewer amounts of minutes used from the 0-80 range and less minutes from 100-160."
   ]
  },
  {
   "cell_type": "code",
   "execution_count": 70,
   "metadata": {},
   "outputs": [
    {
     "data": {
      "image/png": "[encoded data removed]",
      "text/plain": [
       "<Figure size 432x288 with 1 Axes>"
      ]
     },
     "metadata": {
      "needs_background": "light"
     },
     "output_type": "display_data"
    }
   ],
   "source": [
    "#histograph for ultimate and surf minutes\n",
    "plt.hist([ultimate_plan1['calls_made'],surf_plan1['calls_made']],label= ['ultimate','surf'], density = True)\n",
    "plt.legend()\n",
    "plt.xlabel('gb_month')\n",
    "plt.title('Monthly GB')\n",
    "plt.ylabel('frequency');"
   ]
  },
  {
   "cell_type": "markdown",
   "metadata": {},
   "source": [
    "Both surf and ultimate plans have a mean average around 17 GB used, There is a large abount of GB used for sufs around 20-25BG and Ultimate seems more GB used around the 25-35 GB range."
   ]
  },
  {
   "cell_type": "code",
   "execution_count": 71,
   "metadata": {},
   "outputs": [
    {
     "name": "stdout",
     "output_type": "stream",
     "text": [
      "The average revenue for ultimate plan is $70.57\n",
      "The average revenue for surf plan is $55.14\n",
      "The difference between ultimate plan revenue and surf plan revenue is 21.86%\n"
     ]
    }
   ],
   "source": [
    "# average revenue for users of ultimate and surf plan\n",
    "ultimate_avg = ultimate_plan1['monthly_profit'].sum() / len(ultimate_plan1['monthly_profit'])\n",
    "surf_avg = surf_plan1['monthly_profit'].sum() / len(surf_plan1['monthly_profit'])\n",
    "diff = (ultimate_avg - surf_avg) / ultimate_avg * 100\n",
    "print('The average revenue for ultimate plan is ${:.2f}'.format(ultimate_avg))\n",
    "print('The average revenue for surf plan is ${:.2f}'.format(surf_avg))\n",
    "print('The difference between ultimate plan revenue and surf plan revenue is {:.2f}%'.format(diff))"
   ]
  },
  {
   "cell_type": "markdown",
   "metadata": {},
   "source": [
    "#### Conclusion<a class=\"anchor\" id=\"con11\"></a>\n",
    "\n",
    "After cleaning our data and removing outliers we found the average revenue for the surf plan is smaller than the ultimate plan. We can see there is a 21.86% difference between both plans and Ultimate plans has a higher revenue of 70 dollars than surf who generates a revenue of 55.14 dollars a month."
   ]
  },
  {
   "cell_type": "markdown",
   "metadata": {},
   "source": [
    "### Hypothesis  Testing<a class=\"anchor\" id=\"Testing\"></a>"
   ]
  },
  {
   "cell_type": "markdown",
   "metadata": {},
   "source": [
    "There are 2 hyothesis we will be testing:\n",
    "\n",
    "1: The average revenue from users of Ultimate and Surf calling plans differs.\n",
    "\n",
    "2: The average revenue from users in NY-NJ area is different from that of the users from other regions."
   ]
  },
  {
   "cell_type": "markdown",
   "metadata": {},
   "source": [
    "#### Test 1<a class=\"anchor\" id=\"test1\"></a>\n",
    "    \n",
    "HO: The average revenue from users of Ultimate and Surf calling plans are the same. \n",
    "\n",
    "HA: The average revenue from users of Ultimate and Surf calling plans differs. \n",
    "\n",
    "We will be setting out $\\alpha$ = 0.05"
   ]
  },
  {
   "cell_type": "code",
   "execution_count": 73,
   "metadata": {},
   "outputs": [
    {
     "name": "stdout",
     "output_type": "stream",
     "text": [
      "The p-value is: 1.8545858602874146e-40\n",
      "We reject the null hypohesis\n"
     ]
    }
   ],
   "source": [
    "# hypothesis testing\n",
    "ultimate = ultimate_plan1['monthly_profit']\n",
    "surf = surf_plan1['monthly_profit']\n",
    "\n",
    "# set critical statistical significance level\n",
    "alpha = 0.05\n",
    "\n",
    "# test the hypothesis that the means of the two independent population are equal\n",
    "results = st.ttest_ind(ultimate, surf, equal_var = False)\n",
    "print('The p-value is: {}'.format(results.pvalue))\n",
    "\n",
    "# compare the p-value with the significance level\n",
    "if (results.pvalue < alpha):\n",
    "    print('We reject the null hypohesis')\n",
    "else:\n",
    "    print('We fail to reject the null hypothesis')"
   ]
  },
  {
   "cell_type": "markdown",
   "metadata": {},
   "source": [
    "With our p-value being smaller than our alpha at a significance level of 0.05 we can state that our p-value is statistically significant. In addition, we can state that we reject the null in favor of the alternative for the average revenue from users of Ultimate and Surf calling plans is different. "
   ]
  },
  {
   "cell_type": "markdown",
   "metadata": {},
   "source": [
    "#### Test 2<a class=\"anchor\" id=\"tes2\"></a>\n"
   ]
  },
  {
   "cell_type": "markdown",
   "metadata": {},
   "source": [
    "HO: The average revenue from users in NY-NJ area is same from that of the users from other regions.\n",
    "\n",
    "HA: The average revenue from users in NY-NJ area is different from that of the users from other regions.\n"
   ]
  },
  {
   "cell_type": "code",
   "execution_count": 74,
   "metadata": {},
   "outputs": [
    {
     "name": "stdout",
     "output_type": "stream",
     "text": [
      "The p-value is: 0.031214139070912725\n",
      "We reject the null hypohesis\n"
     ]
    }
   ],
   "source": [
    "# hypothesis testing\n",
    "NY_NJ = data.query('city == \"New York-Newark-Jersey City, NY-NJ-PA MSA\"')['monthly_profit'] # revenue of users in NY-NJ\n",
    "not_NY_NJ = data.query('city != \"New York-Newark-Jersey City, NY-NJ-PA MSA\"')['monthly_profit'] # revenue of users not in NY-NJ\n",
    "\n",
    "# set critical statistical significance level\n",
    "alpha = 0.05\n",
    "\n",
    "# test the hypothesis that the means of the two independent population are equal\n",
    "results1 = st.ttest_ind(NY_NJ, not_NY_NJ, equal_var = False)\n",
    "print('The p-value is: {}'.format(results1.pvalue))\n",
    "\n",
    "# compare the p-value with the significance level\n",
    "if (results1.pvalue < alpha):\n",
    "    print('We reject the null hypohesis')\n",
    "else:\n",
    "    print('We fail to reject the null hypothesis')"
   ]
  },
  {
   "cell_type": "markdown",
   "metadata": {},
   "source": [
    "With our p-value of 0.03 being less then our alpha level of 0.05 we can confidently starte that we reject the null hypothesis in favor of the alternative which is the average revenue from users in NY-NJ area is different from that of the users from other regions."
   ]
  },
  {
   "cell_type": "markdown",
   "metadata": {},
   "source": [
    "### Conclusion<a class=\"anchor\" id=\"con_final\"></a>"
   ]
  },
  {
   "cell_type": "markdown",
   "metadata": {},
   "source": [
    "First, we did some data pre-processing to clean format the data and convert data types to the appropriate categories such as data time form object. In addition, we rounded up each call and made and merged the data from each of the individual columns into one data frame which has the monthly profits which we can analyze. \n",
    "\n",
    "Further, after merging the data we were able to do EDA analysis on messages, calls, the internet, and data used to see any trends between the plans. From the analysis, there were outliers present that had taken care of that to make our data less skewed. \n",
    "\n",
    "From the analysis, we found that the Ultimate plan on average makes a better profit than the Surf plan. This is shown from the monthly profit that Ultime plan makes on average being 70.57 dollars and Surf being 55.14 dollars, which is a 21% difference.\n",
    "\n",
    "Hypothesis testing:\n",
    "\n",
    "1) The average profit from users of Ultimate and Surf plans differs;\n",
    "\n",
    "2) The average profit from users in NY-NJ area is different from that of the users from other regions.\n",
    "\n",
    "From hypothesis testing 1 we found the average revenue from users of Ultimate and Surf calling plans differs and therefore reject the null hypothesis.\n",
    "\n",
    "For testing the second hypothesis we found that the average revenue from users in the NY-NJ area is different from that of the users from other regions, and reject the null hypothesis.\n",
    "\n"
   ]
  }
 ],
 "metadata": {
  "ExecuteTimeLog": [
   {
    "duration": 104,
    "start_time": "2021-10-01T19:36:01.062Z"
   },
   {
    "duration": 885,
    "start_time": "2021-10-01T20:22:14.396Z"
   },
   {
    "duration": 305,
    "start_time": "2021-10-01T20:28:47.746Z"
   },
   {
    "duration": 319,
    "start_time": "2021-10-01T20:30:09.787Z"
   },
   {
    "duration": 20,
    "start_time": "2021-10-01T20:30:17.290Z"
   },
   {
    "duration": 434,
    "start_time": "2021-10-01T20:33:24.648Z"
   },
   {
    "duration": 4220,
    "start_time": "2021-10-01T20:38:06.787Z"
   },
   {
    "duration": 836,
    "start_time": "2021-10-01T20:38:44.919Z"
   },
   {
    "duration": 587,
    "start_time": "2021-10-01T20:38:46.217Z"
   },
   {
    "duration": 14,
    "start_time": "2021-10-01T20:38:52.649Z"
   },
   {
    "duration": 766,
    "start_time": "2021-10-01T20:39:01.047Z"
   },
   {
    "duration": 535,
    "start_time": "2021-10-01T20:39:03.632Z"
   },
   {
    "duration": 1265,
    "start_time": "2021-10-01T20:39:06.697Z"
   },
   {
    "duration": 21,
    "start_time": "2021-10-01T20:39:15.671Z"
   },
   {
    "duration": 12,
    "start_time": "2021-10-01T20:40:09.071Z"
   },
   {
    "duration": 11,
    "start_time": "2021-10-01T20:40:13.022Z"
   },
   {
    "duration": 17,
    "start_time": "2021-10-01T20:40:36.335Z"
   },
   {
    "duration": 13,
    "start_time": "2021-10-01T20:41:26.347Z"
   },
   {
    "duration": 12,
    "start_time": "2021-10-01T20:41:40.137Z"
   },
   {
    "duration": 266,
    "start_time": "2021-10-01T20:42:01.608Z"
   },
   {
    "duration": 11,
    "start_time": "2021-10-01T20:42:08.289Z"
   },
   {
    "duration": -104,
    "start_time": "2021-10-01T20:42:31.044Z"
   },
   {
    "duration": 247,
    "start_time": "2021-10-01T20:42:32.702Z"
   },
   {
    "duration": 228,
    "start_time": "2021-10-01T20:42:33.452Z"
   },
   {
    "duration": 13,
    "start_time": "2021-10-01T20:42:36.885Z"
   },
   {
    "duration": 12,
    "start_time": "2021-10-01T20:42:56.223Z"
   },
   {
    "duration": 12,
    "start_time": "2021-10-01T20:43:08.685Z"
   },
   {
    "duration": 651,
    "start_time": "2021-10-01T21:02:21.701Z"
   },
   {
    "duration": 15,
    "start_time": "2021-10-01T21:08:05.729Z"
   },
   {
    "duration": 11,
    "start_time": "2021-10-01T21:08:14.275Z"
   },
   {
    "duration": 10,
    "start_time": "2021-10-01T21:09:12.730Z"
   },
   {
    "duration": 279,
    "start_time": "2021-10-01T21:09:39.665Z"
   },
   {
    "duration": 9,
    "start_time": "2021-10-01T21:09:59.569Z"
   },
   {
    "duration": 20,
    "start_time": "2021-10-01T21:11:27.450Z"
   },
   {
    "duration": 12,
    "start_time": "2021-10-01T21:13:30.535Z"
   },
   {
    "duration": 23,
    "start_time": "2021-10-01T21:13:39.642Z"
   },
   {
    "duration": 22,
    "start_time": "2021-10-01T21:13:45.447Z"
   },
   {
    "duration": 12,
    "start_time": "2021-10-01T21:14:04.136Z"
   },
   {
    "duration": 10,
    "start_time": "2021-10-01T21:15:21.454Z"
   },
   {
    "duration": 17,
    "start_time": "2021-10-01T21:15:29.364Z"
   },
   {
    "duration": 13,
    "start_time": "2021-10-01T21:16:16.127Z"
   },
   {
    "duration": 9,
    "start_time": "2021-10-01T21:16:33.979Z"
   },
   {
    "duration": 21,
    "start_time": "2021-10-01T21:17:10.546Z"
   },
   {
    "duration": 17,
    "start_time": "2021-10-01T23:03:14.935Z"
   },
   {
    "duration": 12,
    "start_time": "2021-10-01T23:04:24.834Z"
   },
   {
    "duration": 12,
    "start_time": "2021-10-01T23:04:31.360Z"
   },
   {
    "duration": 283,
    "start_time": "2021-10-01T23:23:55.683Z"
   },
   {
    "duration": 244,
    "start_time": "2021-10-01T23:24:11.455Z"
   },
   {
    "duration": 5,
    "start_time": "2021-10-01T23:24:17.234Z"
   },
   {
    "duration": 5,
    "start_time": "2021-10-01T23:24:20.371Z"
   },
   {
    "duration": 15,
    "start_time": "2021-10-01T23:24:28.658Z"
   },
   {
    "duration": 15,
    "start_time": "2021-10-01T23:24:32.619Z"
   },
   {
    "duration": 255,
    "start_time": "2021-10-01T23:43:15.924Z"
   },
   {
    "duration": 13,
    "start_time": "2021-10-01T23:43:35.869Z"
   },
   {
    "duration": 64,
    "start_time": "2021-10-01T23:44:04.495Z"
   },
   {
    "duration": 73,
    "start_time": "2021-10-01T23:44:11.582Z"
   },
   {
    "duration": 272,
    "start_time": "2021-10-01T23:44:40.951Z"
   },
   {
    "duration": 8,
    "start_time": "2021-10-01T23:44:44.347Z"
   },
   {
    "duration": 7,
    "start_time": "2021-10-01T23:44:46.375Z"
   },
   {
    "duration": 33,
    "start_time": "2021-10-01T23:44:52.919Z"
   },
   {
    "duration": 36,
    "start_time": "2021-10-01T23:48:15.383Z"
   },
   {
    "duration": 283,
    "start_time": "2021-10-02T00:05:32.106Z"
   },
   {
    "duration": 242,
    "start_time": "2021-10-02T00:09:58.079Z"
   },
   {
    "duration": 290,
    "start_time": "2021-10-02T00:12:31.289Z"
   },
   {
    "duration": 310,
    "start_time": "2021-10-02T00:12:54.656Z"
   },
   {
    "duration": 286,
    "start_time": "2021-10-02T00:17:16.698Z"
   },
   {
    "duration": 251,
    "start_time": "2021-10-02T00:17:20.747Z"
   },
   {
    "duration": 279,
    "start_time": "2021-10-02T00:17:23.894Z"
   },
   {
    "duration": 275,
    "start_time": "2021-10-02T00:17:25.960Z"
   },
   {
    "duration": 156,
    "start_time": "2021-10-02T00:17:32.910Z"
   },
   {
    "duration": 158,
    "start_time": "2021-10-02T00:20:05.045Z"
   },
   {
    "duration": 142,
    "start_time": "2021-10-02T00:20:13.271Z"
   },
   {
    "duration": 150,
    "start_time": "2021-10-02T00:20:16.508Z"
   },
   {
    "duration": 155,
    "start_time": "2021-10-02T00:20:18.913Z"
   },
   {
    "duration": 4828,
    "start_time": "2021-10-02T00:34:49.031Z"
   },
   {
    "duration": 5953,
    "start_time": "2021-10-02T00:35:58.575Z"
   },
   {
    "duration": 5195,
    "start_time": "2021-10-02T00:36:19.183Z"
   },
   {
    "duration": 5438,
    "start_time": "2021-10-02T00:36:52.361Z"
   },
   {
    "duration": 276,
    "start_time": "2021-10-02T00:36:59.012Z"
   },
   {
    "duration": 283,
    "start_time": "2021-10-02T00:37:04.070Z"
   },
   {
    "duration": 251,
    "start_time": "2021-10-02T00:37:06.481Z"
   },
   {
    "duration": 4976,
    "start_time": "2021-10-02T00:37:12.914Z"
   },
   {
    "duration": 5536,
    "start_time": "2021-10-02T00:39:18.028Z"
   },
   {
    "duration": 1389,
    "start_time": "2021-10-02T00:39:32.955Z"
   },
   {
    "duration": 557,
    "start_time": "2021-10-02T00:39:34.347Z"
   },
   {
    "duration": 19,
    "start_time": "2021-10-02T00:39:34.907Z"
   },
   {
    "duration": 10,
    "start_time": "2021-10-02T00:39:34.929Z"
   },
   {
    "duration": 22,
    "start_time": "2021-10-02T00:39:34.941Z"
   },
   {
    "duration": 21,
    "start_time": "2021-10-02T00:39:34.965Z"
   },
   {
    "duration": 10,
    "start_time": "2021-10-02T00:39:34.988Z"
   },
   {
    "duration": 16,
    "start_time": "2021-10-02T00:39:35.002Z"
   },
   {
    "duration": 13,
    "start_time": "2021-10-02T00:39:35.062Z"
   },
   {
    "duration": 11,
    "start_time": "2021-10-02T00:39:35.077Z"
   },
   {
    "duration": 14,
    "start_time": "2021-10-02T00:39:35.090Z"
   },
   {
    "duration": 62,
    "start_time": "2021-10-02T00:39:35.107Z"
   },
   {
    "duration": 74,
    "start_time": "2021-10-02T00:39:35.171Z"
   },
   {
    "duration": 19,
    "start_time": "2021-10-02T00:39:35.247Z"
   },
   {
    "duration": 19,
    "start_time": "2021-10-02T00:39:35.268Z"
   },
   {
    "duration": 23,
    "start_time": "2021-10-02T00:39:35.290Z"
   },
   {
    "duration": 83,
    "start_time": "2021-10-02T00:39:35.316Z"
   },
   {
    "duration": 87,
    "start_time": "2021-10-02T00:39:35.402Z"
   },
   {
    "duration": 8,
    "start_time": "2021-10-02T00:39:35.492Z"
   },
   {
    "duration": 30,
    "start_time": "2021-10-02T00:39:35.502Z"
   },
   {
    "duration": 149,
    "start_time": "2021-10-02T00:39:35.562Z"
   },
   {
    "duration": 5150,
    "start_time": "2021-10-02T00:39:35.713Z"
   },
   {
    "duration": 5624,
    "start_time": "2021-10-02T00:40:12.033Z"
   },
   {
    "duration": 11,
    "start_time": "2021-10-02T00:40:27.944Z"
   },
   {
    "duration": 1376,
    "start_time": "2021-10-02T00:41:11.746Z"
   },
   {
    "duration": 579,
    "start_time": "2021-10-02T00:41:13.125Z"
   },
   {
    "duration": 20,
    "start_time": "2021-10-02T00:41:13.707Z"
   },
   {
    "duration": 13,
    "start_time": "2021-10-02T00:41:13.729Z"
   },
   {
    "duration": 21,
    "start_time": "2021-10-02T00:41:13.745Z"
   },
   {
    "duration": 39,
    "start_time": "2021-10-02T00:41:13.768Z"
   },
   {
    "duration": 11,
    "start_time": "2021-10-02T00:41:13.810Z"
   },
   {
    "duration": 38,
    "start_time": "2021-10-02T00:41:13.824Z"
   },
   {
    "duration": 12,
    "start_time": "2021-10-02T00:41:13.864Z"
   },
   {
    "duration": 14,
    "start_time": "2021-10-02T00:41:13.879Z"
   },
   {
    "duration": 16,
    "start_time": "2021-10-02T00:41:13.896Z"
   },
   {
    "duration": 57,
    "start_time": "2021-10-02T00:41:13.914Z"
   },
   {
    "duration": 68,
    "start_time": "2021-10-02T00:41:13.973Z"
   },
   {
    "duration": 9,
    "start_time": "2021-10-02T00:41:23.251Z"
   },
   {
    "duration": 6,
    "start_time": "2021-10-02T00:41:38.386Z"
   },
   {
    "duration": 16,
    "start_time": "2021-10-02T00:41:39.667Z"
   },
   {
    "duration": 10,
    "start_time": "2021-10-02T00:41:42.231Z"
   },
   {
    "duration": 20,
    "start_time": "2021-10-02T01:15:19.308Z"
   },
   {
    "duration": 9,
    "start_time": "2021-10-02T01:21:57.162Z"
   },
   {
    "duration": 22,
    "start_time": "2021-10-02T01:22:08.116Z"
   },
   {
    "duration": 16,
    "start_time": "2021-10-02T01:22:18.595Z"
   },
   {
    "duration": 14,
    "start_time": "2021-10-02T01:23:04.768Z"
   },
   {
    "duration": 33,
    "start_time": "2021-10-02T01:23:18.193Z"
   },
   {
    "duration": 11,
    "start_time": "2021-10-02T01:23:48.539Z"
   },
   {
    "duration": 19,
    "start_time": "2021-10-02T01:30:50.089Z"
   },
   {
    "duration": 358,
    "start_time": "2021-10-02T01:53:39.308Z"
   },
   {
    "duration": 12,
    "start_time": "2021-10-02T01:53:52.882Z"
   },
   {
    "duration": 17,
    "start_time": "2021-10-02T01:54:09.019Z"
   },
   {
    "duration": 16,
    "start_time": "2021-10-02T01:54:20.470Z"
   },
   {
    "duration": 9,
    "start_time": "2021-10-02T01:54:29.878Z"
   },
   {
    "duration": 13,
    "start_time": "2021-10-02T03:26:27.310Z"
   },
   {
    "duration": 240,
    "start_time": "2021-10-02T03:26:48.740Z"
   },
   {
    "duration": 18,
    "start_time": "2021-10-02T03:26:58.515Z"
   },
   {
    "duration": 5,
    "start_time": "2021-10-02T03:43:52.628Z"
   },
   {
    "duration": 15,
    "start_time": "2021-10-02T03:43:54.257Z"
   },
   {
    "duration": 1428,
    "start_time": "2021-10-02T03:44:02.925Z"
   },
   {
    "duration": 542,
    "start_time": "2021-10-02T03:44:04.356Z"
   },
   {
    "duration": 20,
    "start_time": "2021-10-02T03:44:04.901Z"
   },
   {
    "duration": 11,
    "start_time": "2021-10-02T03:44:04.924Z"
   },
   {
    "duration": 33,
    "start_time": "2021-10-02T03:44:04.938Z"
   },
   {
    "duration": 16,
    "start_time": "2021-10-02T03:44:04.973Z"
   },
   {
    "duration": 34,
    "start_time": "2021-10-02T03:44:04.992Z"
   },
   {
    "duration": 53,
    "start_time": "2021-10-02T03:44:05.028Z"
   },
   {
    "duration": 10,
    "start_time": "2021-10-02T03:44:05.085Z"
   },
   {
    "duration": 20,
    "start_time": "2021-10-02T03:44:05.098Z"
   },
   {
    "duration": 51,
    "start_time": "2021-10-02T03:44:05.120Z"
   },
   {
    "duration": 13,
    "start_time": "2021-10-02T03:44:05.174Z"
   },
   {
    "duration": 12,
    "start_time": "2021-10-02T03:44:05.190Z"
   },
   {
    "duration": 59,
    "start_time": "2021-10-02T03:44:05.204Z"
   },
   {
    "duration": 19,
    "start_time": "2021-10-02T03:44:05.266Z"
   },
   {
    "duration": 105,
    "start_time": "2021-10-02T03:44:05.288Z"
   },
   {
    "duration": 11,
    "start_time": "2021-10-02T03:44:05.396Z"
   },
   {
    "duration": 13,
    "start_time": "2021-10-02T03:44:05.409Z"
   },
   {
    "duration": 51,
    "start_time": "2021-10-02T03:44:05.425Z"
   },
   {
    "duration": 16,
    "start_time": "2021-10-02T03:44:05.478Z"
   },
   {
    "duration": 17,
    "start_time": "2021-10-02T03:44:05.496Z"
   },
   {
    "duration": 90,
    "start_time": "2021-10-02T03:44:05.516Z"
   },
   {
    "duration": 90,
    "start_time": "2021-10-02T03:44:05.608Z"
   },
   {
    "duration": 9,
    "start_time": "2021-10-02T03:44:05.700Z"
   },
   {
    "duration": 56,
    "start_time": "2021-10-02T03:44:05.712Z"
   },
   {
    "duration": 178,
    "start_time": "2021-10-02T03:44:05.770Z"
   },
   {
    "duration": 19,
    "start_time": "2021-10-02T03:44:05.952Z"
   },
   {
    "duration": 2893,
    "start_time": "2021-10-02T03:44:52.822Z"
   },
   {
    "duration": 4331,
    "start_time": "2021-10-02T03:45:00.028Z"
   },
   {
    "duration": 10,
    "start_time": "2021-10-02T03:45:07.061Z"
   },
   {
    "duration": 2541,
    "start_time": "2021-10-02T03:45:27.569Z"
   },
   {
    "duration": 3349,
    "start_time": "2021-10-02T04:18:15.577Z"
   },
   {
    "duration": 244,
    "start_time": "2021-10-02T04:20:27.576Z"
   },
   {
    "duration": 3908,
    "start_time": "2021-10-02T04:20:37.325Z"
   },
   {
    "duration": 2592,
    "start_time": "2021-10-02T04:21:06.683Z"
   },
   {
    "duration": 3,
    "start_time": "2021-10-02T04:22:58.370Z"
   },
   {
    "duration": 1380,
    "start_time": "2021-10-02T04:23:13.062Z"
   },
   {
    "duration": 1556,
    "start_time": "2021-10-02T04:23:14.444Z"
   },
   {
    "duration": 22,
    "start_time": "2021-10-02T04:23:16.004Z"
   },
   {
    "duration": 10,
    "start_time": "2021-10-02T04:23:16.030Z"
   },
   {
    "duration": 30,
    "start_time": "2021-10-02T04:23:16.043Z"
   },
   {
    "duration": 16,
    "start_time": "2021-10-02T04:23:16.075Z"
   },
   {
    "duration": 36,
    "start_time": "2021-10-02T04:23:16.093Z"
   },
   {
    "duration": 50,
    "start_time": "2021-10-02T04:23:16.132Z"
   },
   {
    "duration": 11,
    "start_time": "2021-10-02T04:23:16.185Z"
   },
   {
    "duration": 20,
    "start_time": "2021-10-02T04:23:16.199Z"
   },
   {
    "duration": 52,
    "start_time": "2021-10-02T04:23:16.221Z"
   },
   {
    "duration": 12,
    "start_time": "2021-10-02T04:23:16.276Z"
   },
   {
    "duration": 14,
    "start_time": "2021-10-02T04:23:16.290Z"
   },
   {
    "duration": 61,
    "start_time": "2021-10-02T04:23:16.306Z"
   },
   {
    "duration": 30,
    "start_time": "2021-10-02T04:23:16.369Z"
   },
   {
    "duration": 418,
    "start_time": "2021-10-02T04:23:16.402Z"
   },
   {
    "duration": -1627,
    "start_time": "2021-10-02T04:23:18.449Z"
   },
   {
    "duration": -1628,
    "start_time": "2021-10-02T04:23:18.452Z"
   },
   {
    "duration": -1630,
    "start_time": "2021-10-02T04:23:18.455Z"
   },
   {
    "duration": -1631,
    "start_time": "2021-10-02T04:23:18.457Z"
   },
   {
    "duration": -1631,
    "start_time": "2021-10-02T04:23:18.459Z"
   },
   {
    "duration": -1633,
    "start_time": "2021-10-02T04:23:18.462Z"
   },
   {
    "duration": -1635,
    "start_time": "2021-10-02T04:23:18.465Z"
   },
   {
    "duration": -1635,
    "start_time": "2021-10-02T04:23:18.467Z"
   },
   {
    "duration": -1636,
    "start_time": "2021-10-02T04:23:18.469Z"
   },
   {
    "duration": 7,
    "start_time": "2021-10-02T04:23:47.647Z"
   },
   {
    "duration": 5,
    "start_time": "2021-10-02T04:23:48.929Z"
   },
   {
    "duration": 2742,
    "start_time": "2021-10-02T04:23:51.018Z"
   },
   {
    "duration": 2480,
    "start_time": "2021-10-02T04:28:57.742Z"
   },
   {
    "duration": 1392,
    "start_time": "2021-10-02T04:29:06.954Z"
   },
   {
    "duration": 537,
    "start_time": "2021-10-02T04:29:08.349Z"
   },
   {
    "duration": 20,
    "start_time": "2021-10-02T04:29:08.889Z"
   },
   {
    "duration": 11,
    "start_time": "2021-10-02T04:29:08.912Z"
   },
   {
    "duration": 45,
    "start_time": "2021-10-02T04:29:08.925Z"
   },
   {
    "duration": 12,
    "start_time": "2021-10-02T04:29:08.972Z"
   },
   {
    "duration": 33,
    "start_time": "2021-10-02T04:29:08.987Z"
   },
   {
    "duration": 22,
    "start_time": "2021-10-02T04:29:09.061Z"
   },
   {
    "duration": 11,
    "start_time": "2021-10-02T04:29:09.087Z"
   },
   {
    "duration": 24,
    "start_time": "2021-10-02T04:29:09.100Z"
   },
   {
    "duration": 16,
    "start_time": "2021-10-02T04:29:09.163Z"
   },
   {
    "duration": 14,
    "start_time": "2021-10-02T04:29:09.181Z"
   },
   {
    "duration": 16,
    "start_time": "2021-10-02T04:29:09.197Z"
   },
   {
    "duration": 49,
    "start_time": "2021-10-02T04:29:09.216Z"
   },
   {
    "duration": 20,
    "start_time": "2021-10-02T04:29:09.267Z"
   },
   {
    "duration": 123,
    "start_time": "2021-10-02T04:29:09.290Z"
   },
   {
    "duration": 8,
    "start_time": "2021-10-02T04:29:09.416Z"
   },
   {
    "duration": 38,
    "start_time": "2021-10-02T04:29:09.427Z"
   },
   {
    "duration": 14,
    "start_time": "2021-10-02T04:29:09.469Z"
   },
   {
    "duration": 14,
    "start_time": "2021-10-02T04:29:09.486Z"
   },
   {
    "duration": 100,
    "start_time": "2021-10-02T04:29:09.502Z"
   },
   {
    "duration": 83,
    "start_time": "2021-10-02T04:29:09.604Z"
   },
   {
    "duration": 7,
    "start_time": "2021-10-02T04:29:09.692Z"
   },
   {
    "duration": 28,
    "start_time": "2021-10-02T04:29:09.702Z"
   },
   {
    "duration": 176,
    "start_time": "2021-10-02T04:29:09.733Z"
   },
   {
    "duration": 1423,
    "start_time": "2021-10-02T17:03:10.772Z"
   },
   {
    "duration": 700,
    "start_time": "2021-10-02T17:03:12.198Z"
   },
   {
    "duration": 19,
    "start_time": "2021-10-02T17:03:12.901Z"
   },
   {
    "duration": 14,
    "start_time": "2021-10-02T17:03:12.923Z"
   },
   {
    "duration": 30,
    "start_time": "2021-10-02T17:03:12.939Z"
   },
   {
    "duration": 19,
    "start_time": "2021-10-02T17:03:12.972Z"
   },
   {
    "duration": 33,
    "start_time": "2021-10-02T17:03:12.993Z"
   },
   {
    "duration": 64,
    "start_time": "2021-10-02T17:03:13.030Z"
   },
   {
    "duration": 11,
    "start_time": "2021-10-02T17:03:13.097Z"
   },
   {
    "duration": 20,
    "start_time": "2021-10-02T17:03:13.110Z"
   },
   {
    "duration": 43,
    "start_time": "2021-10-02T17:03:13.132Z"
   },
   {
    "duration": 14,
    "start_time": "2021-10-02T17:03:13.178Z"
   },
   {
    "duration": 10,
    "start_time": "2021-10-02T17:03:13.196Z"
   },
   {
    "duration": 48,
    "start_time": "2021-10-02T17:03:13.209Z"
   },
   {
    "duration": 27,
    "start_time": "2021-10-02T17:03:13.263Z"
   },
   {
    "duration": 93,
    "start_time": "2021-10-02T17:03:13.292Z"
   },
   {
    "duration": 518,
    "start_time": "2021-10-02T17:03:13.388Z"
   },
   {
    "duration": -368,
    "start_time": "2021-10-02T17:03:14.277Z"
   },
   {
    "duration": -371,
    "start_time": "2021-10-02T17:03:14.282Z"
   },
   {
    "duration": -378,
    "start_time": "2021-10-02T17:03:14.290Z"
   },
   {
    "duration": -379,
    "start_time": "2021-10-02T17:03:14.293Z"
   },
   {
    "duration": -384,
    "start_time": "2021-10-02T17:03:14.299Z"
   },
   {
    "duration": -388,
    "start_time": "2021-10-02T17:03:14.305Z"
   },
   {
    "duration": -389,
    "start_time": "2021-10-02T17:03:14.307Z"
   },
   {
    "duration": -392,
    "start_time": "2021-10-02T17:03:14.312Z"
   },
   {
    "duration": 7,
    "start_time": "2021-10-02T17:05:50.797Z"
   },
   {
    "duration": 21,
    "start_time": "2021-10-02T17:05:52.370Z"
   },
   {
    "duration": 15,
    "start_time": "2021-10-02T17:05:56.152Z"
   },
   {
    "duration": 71,
    "start_time": "2021-10-02T17:05:57.478Z"
   },
   {
    "duration": 203,
    "start_time": "2021-10-02T17:05:59.377Z"
   },
   {
    "duration": 385,
    "start_time": "2021-10-02T17:06:01.699Z"
   },
   {
    "duration": 54,
    "start_time": "2021-10-02T17:06:11.475Z"
   },
   {
    "duration": 55,
    "start_time": "2021-10-02T17:06:14.684Z"
   },
   {
    "duration": 24,
    "start_time": "2021-10-02T17:27:37.774Z"
   },
   {
    "duration": 490,
    "start_time": "2021-10-02T17:27:46.635Z"
   },
   {
    "duration": 12,
    "start_time": "2021-10-02T17:27:49.445Z"
   },
   {
    "duration": 1359,
    "start_time": "2021-10-02T18:21:38.177Z"
   },
   {
    "duration": 894,
    "start_time": "2021-10-02T18:21:39.538Z"
   },
   {
    "duration": 21,
    "start_time": "2021-10-02T18:21:40.434Z"
   },
   {
    "duration": 21,
    "start_time": "2021-10-02T18:21:40.457Z"
   },
   {
    "duration": 33,
    "start_time": "2021-10-02T18:21:40.480Z"
   },
   {
    "duration": 10,
    "start_time": "2021-10-02T18:21:40.516Z"
   },
   {
    "duration": 55,
    "start_time": "2021-10-02T18:21:40.528Z"
   },
   {
    "duration": 20,
    "start_time": "2021-10-02T18:21:40.587Z"
   },
   {
    "duration": 48,
    "start_time": "2021-10-02T18:21:40.610Z"
   },
   {
    "duration": 18,
    "start_time": "2021-10-02T18:21:40.660Z"
   },
   {
    "duration": 14,
    "start_time": "2021-10-02T18:21:40.680Z"
   },
   {
    "duration": 13,
    "start_time": "2021-10-02T18:21:40.697Z"
   },
   {
    "duration": 50,
    "start_time": "2021-10-02T18:21:40.712Z"
   },
   {
    "duration": 15,
    "start_time": "2021-10-02T18:21:40.764Z"
   },
   {
    "duration": 23,
    "start_time": "2021-10-02T18:21:40.781Z"
   },
   {
    "duration": 95,
    "start_time": "2021-10-02T18:21:40.806Z"
   },
   {
    "duration": 6,
    "start_time": "2021-10-02T18:21:40.903Z"
   },
   {
    "duration": 17,
    "start_time": "2021-10-02T18:21:40.911Z"
   },
   {
    "duration": 29,
    "start_time": "2021-10-02T18:21:40.931Z"
   },
   {
    "duration": 49,
    "start_time": "2021-10-02T18:21:40.962Z"
   },
   {
    "duration": 85,
    "start_time": "2021-10-02T18:21:41.013Z"
   },
   {
    "duration": 8,
    "start_time": "2021-10-02T18:21:41.100Z"
   },
   {
    "duration": 29,
    "start_time": "2021-10-02T18:21:41.112Z"
   },
   {
    "duration": 143,
    "start_time": "2021-10-02T18:21:41.158Z"
   },
   {
    "duration": 11,
    "start_time": "2021-10-02T18:21:41.303Z"
   },
   {
    "duration": 71,
    "start_time": "2021-10-02T18:21:41.316Z"
   },
   {
    "duration": 3,
    "start_time": "2021-10-02T18:21:41.389Z"
   },
   {
    "duration": 12,
    "start_time": "2021-10-02T18:22:03.655Z"
   },
   {
    "duration": 6,
    "start_time": "2021-10-02T19:09:16.653Z"
   },
   {
    "duration": 751,
    "start_time": "2021-10-02T19:11:45.662Z"
   },
   {
    "duration": 779,
    "start_time": "2021-10-02T19:15:04.955Z"
   },
   {
    "duration": 665,
    "start_time": "2021-10-02T19:15:15.236Z"
   },
   {
    "duration": 587,
    "start_time": "2021-10-02T19:23:24.757Z"
   },
   {
    "duration": 19,
    "start_time": "2021-10-02T19:23:35.830Z"
   },
   {
    "duration": 381,
    "start_time": "2021-10-02T19:24:09.231Z"
   },
   {
    "duration": 17,
    "start_time": "2021-10-02T19:24:12.183Z"
   },
   {
    "duration": 16,
    "start_time": "2021-10-02T19:24:16.552Z"
   },
   {
    "duration": 19,
    "start_time": "2021-10-02T19:31:36.210Z"
   },
   {
    "duration": 18,
    "start_time": "2021-10-02T19:31:47.364Z"
   },
   {
    "duration": 31,
    "start_time": "2021-10-02T19:33:14.531Z"
   },
   {
    "duration": 352,
    "start_time": "2021-10-02T19:33:50.291Z"
   },
   {
    "duration": 14,
    "start_time": "2021-10-02T19:34:00.035Z"
   },
   {
    "duration": 14,
    "start_time": "2021-10-02T19:58:17.335Z"
   },
   {
    "duration": 13,
    "start_time": "2021-10-02T20:10:12.042Z"
   },
   {
    "duration": 52,
    "start_time": "2021-10-02T20:24:31.260Z"
   },
   {
    "duration": 385,
    "start_time": "2021-10-02T20:29:52.626Z"
   },
   {
    "duration": 10015,
    "start_time": "2021-10-02T20:29:59.002Z"
   },
   {
    "duration": 41,
    "start_time": "2021-10-02T20:34:59.675Z"
   },
   {
    "duration": 398,
    "start_time": "2021-10-02T20:40:34.237Z"
   },
   {
    "duration": 20,
    "start_time": "2021-10-02T20:41:01.470Z"
   },
   {
    "duration": 34,
    "start_time": "2021-10-02T20:41:17.046Z"
   },
   {
    "duration": 27,
    "start_time": "2021-10-02T22:05:40.594Z"
   },
   {
    "duration": 36,
    "start_time": "2021-10-02T22:05:48.275Z"
   },
   {
    "duration": 30,
    "start_time": "2021-10-02T22:06:01.984Z"
   },
   {
    "duration": 1431,
    "start_time": "2021-10-02T22:06:27.432Z"
   },
   {
    "duration": 1426,
    "start_time": "2021-10-02T22:06:51.863Z"
   },
   {
    "duration": 29,
    "start_time": "2021-10-02T22:06:58.225Z"
   },
   {
    "duration": 43,
    "start_time": "2021-10-02T22:07:02.799Z"
   },
   {
    "duration": 405,
    "start_time": "2021-10-02T22:07:18.180Z"
   },
   {
    "duration": 76,
    "start_time": "2021-10-02T22:07:30.834Z"
   },
   {
    "duration": 1491,
    "start_time": "2021-10-02T22:07:42.422Z"
   },
   {
    "duration": 1473,
    "start_time": "2021-10-02T22:07:54.230Z"
   },
   {
    "duration": 57,
    "start_time": "2021-10-02T22:08:15.752Z"
   },
   {
    "duration": 74,
    "start_time": "2021-10-02T22:08:32.772Z"
   },
   {
    "duration": 1158,
    "start_time": "2021-10-04T17:05:22.651Z"
   },
   {
    "duration": 474,
    "start_time": "2021-10-04T17:05:23.811Z"
   },
   {
    "duration": 13,
    "start_time": "2021-10-04T17:05:24.287Z"
   },
   {
    "duration": 19,
    "start_time": "2021-10-04T17:05:24.302Z"
   },
   {
    "duration": 34,
    "start_time": "2021-10-04T17:05:24.323Z"
   },
   {
    "duration": 8,
    "start_time": "2021-10-04T17:05:24.359Z"
   },
   {
    "duration": 26,
    "start_time": "2021-10-04T17:05:24.368Z"
   },
   {
    "duration": 15,
    "start_time": "2021-10-04T17:05:24.397Z"
   },
   {
    "duration": 8,
    "start_time": "2021-10-04T17:05:24.414Z"
   },
   {
    "duration": 32,
    "start_time": "2021-10-04T17:05:24.423Z"
   },
   {
    "duration": 10,
    "start_time": "2021-10-04T17:05:24.457Z"
   },
   {
    "duration": 8,
    "start_time": "2021-10-04T17:05:24.469Z"
   },
   {
    "duration": 7,
    "start_time": "2021-10-04T17:05:24.479Z"
   },
   {
    "duration": 7,
    "start_time": "2021-10-04T17:05:24.488Z"
   },
   {
    "duration": 52,
    "start_time": "2021-10-04T17:05:24.497Z"
   },
   {
    "duration": 46,
    "start_time": "2021-10-04T17:05:24.551Z"
   },
   {
    "duration": 5,
    "start_time": "2021-10-04T17:05:24.599Z"
   },
   {
    "duration": 16,
    "start_time": "2021-10-04T17:05:24.606Z"
   },
   {
    "duration": 120,
    "start_time": "2021-10-04T17:05:24.624Z"
   },
   {
    "duration": 8,
    "start_time": "2021-10-04T17:05:24.746Z"
   },
   {
    "duration": 37,
    "start_time": "2021-10-04T17:05:24.756Z"
   },
   {
    "duration": 451,
    "start_time": "2021-10-04T17:05:24.794Z"
   },
   {
    "duration": 12,
    "start_time": "2021-10-04T17:05:25.248Z"
   },
   {
    "duration": 33,
    "start_time": "2021-10-04T17:05:25.262Z"
   },
   {
    "duration": 9,
    "start_time": "2021-10-04T17:05:25.297Z"
   },
   {
    "duration": 49,
    "start_time": "2021-10-04T17:05:25.308Z"
   },
   {
    "duration": 48,
    "start_time": "2021-10-04T17:05:25.359Z"
   },
   {
    "duration": 20,
    "start_time": "2021-10-04T17:23:05.757Z"
   },
   {
    "duration": 20,
    "start_time": "2021-10-04T17:23:13.366Z"
   },
   {
    "duration": 3,
    "start_time": "2021-10-04T17:23:29.366Z"
   },
   {
    "duration": 1039,
    "start_time": "2021-10-04T17:23:34.682Z"
   },
   {
    "duration": 474,
    "start_time": "2021-10-04T17:23:35.723Z"
   },
   {
    "duration": 13,
    "start_time": "2021-10-04T17:23:36.199Z"
   },
   {
    "duration": 6,
    "start_time": "2021-10-04T17:23:36.214Z"
   },
   {
    "duration": 19,
    "start_time": "2021-10-04T17:23:36.221Z"
   },
   {
    "duration": 20,
    "start_time": "2021-10-04T17:23:36.241Z"
   },
   {
    "duration": 32,
    "start_time": "2021-10-04T17:23:36.263Z"
   },
   {
    "duration": 15,
    "start_time": "2021-10-04T17:23:36.297Z"
   },
   {
    "duration": 7,
    "start_time": "2021-10-04T17:23:36.315Z"
   },
   {
    "duration": 16,
    "start_time": "2021-10-04T17:23:36.324Z"
   },
   {
    "duration": 10,
    "start_time": "2021-10-04T17:23:36.341Z"
   },
   {
    "duration": 13,
    "start_time": "2021-10-04T17:23:36.353Z"
   },
   {
    "duration": 15,
    "start_time": "2021-10-04T17:23:36.367Z"
   },
   {
    "duration": 17,
    "start_time": "2021-10-04T17:23:36.384Z"
   },
   {
    "duration": 17,
    "start_time": "2021-10-04T17:23:36.403Z"
   },
   {
    "duration": 58,
    "start_time": "2021-10-04T17:23:36.422Z"
   },
   {
    "duration": 3,
    "start_time": "2021-10-04T17:23:36.482Z"
   },
   {
    "duration": 16,
    "start_time": "2021-10-04T17:23:36.486Z"
   },
   {
    "duration": 116,
    "start_time": "2021-10-04T17:23:36.503Z"
   },
   {
    "duration": 8,
    "start_time": "2021-10-04T17:23:36.620Z"
   },
   {
    "duration": 50,
    "start_time": "2021-10-04T17:23:36.630Z"
   },
   {
    "duration": 475,
    "start_time": "2021-10-04T17:23:36.682Z"
   },
   {
    "duration": 14,
    "start_time": "2021-10-04T17:23:37.159Z"
   },
   {
    "duration": 33,
    "start_time": "2021-10-04T17:23:37.175Z"
   },
   {
    "duration": 10,
    "start_time": "2021-10-04T17:23:37.210Z"
   },
   {
    "duration": 26,
    "start_time": "2021-10-04T17:23:37.244Z"
   },
   {
    "duration": 50,
    "start_time": "2021-10-04T17:23:37.274Z"
   },
   {
    "duration": 105,
    "start_time": "2021-10-04T17:41:29.703Z"
   },
   {
    "duration": 576,
    "start_time": "2021-10-04T17:41:32.033Z"
   },
   {
    "duration": 1153,
    "start_time": "2021-10-04T17:41:41.246Z"
   },
   {
    "duration": 525,
    "start_time": "2021-10-04T17:41:42.401Z"
   },
   {
    "duration": 21,
    "start_time": "2021-10-04T17:41:42.929Z"
   },
   {
    "duration": 15,
    "start_time": "2021-10-04T17:41:42.953Z"
   },
   {
    "duration": 27,
    "start_time": "2021-10-04T17:41:42.970Z"
   },
   {
    "duration": 16,
    "start_time": "2021-10-04T17:41:43.000Z"
   },
   {
    "duration": 60,
    "start_time": "2021-10-04T17:41:43.018Z"
   },
   {
    "duration": 31,
    "start_time": "2021-10-04T17:41:43.081Z"
   },
   {
    "duration": 25,
    "start_time": "2021-10-04T17:41:43.116Z"
   },
   {
    "duration": 48,
    "start_time": "2021-10-04T17:41:43.144Z"
   },
   {
    "duration": 36,
    "start_time": "2021-10-04T17:41:43.194Z"
   },
   {
    "duration": 41,
    "start_time": "2021-10-04T17:41:43.232Z"
   },
   {
    "duration": 28,
    "start_time": "2021-10-04T17:41:43.275Z"
   },
   {
    "duration": 19,
    "start_time": "2021-10-04T17:41:43.305Z"
   },
   {
    "duration": 19,
    "start_time": "2021-10-04T17:41:43.326Z"
   },
   {
    "duration": 66,
    "start_time": "2021-10-04T17:41:43.347Z"
   },
   {
    "duration": 2,
    "start_time": "2021-10-04T17:41:43.415Z"
   },
   {
    "duration": 14,
    "start_time": "2021-10-04T17:41:43.419Z"
   },
   {
    "duration": 126,
    "start_time": "2021-10-04T17:41:43.445Z"
   },
   {
    "duration": 9,
    "start_time": "2021-10-04T17:41:43.573Z"
   },
   {
    "duration": 115,
    "start_time": "2021-10-04T17:41:43.584Z"
   },
   {
    "duration": 426,
    "start_time": "2021-10-04T17:41:43.700Z"
   },
   {
    "duration": 34,
    "start_time": "2021-10-04T17:41:44.127Z"
   },
   {
    "duration": 41,
    "start_time": "2021-10-04T17:41:44.163Z"
   },
   {
    "duration": 8,
    "start_time": "2021-10-04T17:41:44.206Z"
   },
   {
    "duration": 52,
    "start_time": "2021-10-04T17:41:44.217Z"
   },
   {
    "duration": 80,
    "start_time": "2021-10-04T17:41:44.271Z"
   },
   {
    "duration": 9,
    "start_time": "2021-10-04T17:55:33.948Z"
   },
   {
    "duration": 1079,
    "start_time": "2021-10-04T17:55:55.399Z"
   },
   {
    "duration": 29,
    "start_time": "2021-10-04T17:56:03.000Z"
   },
   {
    "duration": 25,
    "start_time": "2021-10-04T17:56:29.691Z"
   },
   {
    "duration": 15,
    "start_time": "2021-10-04T17:56:44.200Z"
   },
   {
    "duration": 15,
    "start_time": "2021-10-04T18:13:35.386Z"
   },
   {
    "duration": 73,
    "start_time": "2021-10-04T18:14:42.975Z"
   },
   {
    "duration": 13,
    "start_time": "2021-10-04T18:14:47.707Z"
   },
   {
    "duration": 280,
    "start_time": "2021-10-04T18:22:42.577Z"
   },
   {
    "duration": 19,
    "start_time": "2021-10-04T18:23:00.905Z"
   },
   {
    "duration": 8,
    "start_time": "2021-10-04T18:23:06.251Z"
   },
   {
    "duration": 50,
    "start_time": "2021-10-04T18:23:26.075Z"
   },
   {
    "duration": 1171,
    "start_time": "2021-10-04T18:23:42.595Z"
   },
   {
    "duration": 30,
    "start_time": "2021-10-04T18:24:25.165Z"
   },
   {
    "duration": 28,
    "start_time": "2021-10-04T18:25:21.034Z"
   },
   {
    "duration": 11,
    "start_time": "2021-10-04T18:26:17.877Z"
   },
   {
    "duration": 12,
    "start_time": "2021-10-04T18:26:19.977Z"
   },
   {
    "duration": 11,
    "start_time": "2021-10-04T18:59:45.830Z"
   },
   {
    "duration": 10,
    "start_time": "2021-10-04T18:59:48.086Z"
   },
   {
    "duration": 12,
    "start_time": "2021-10-04T19:00:36.544Z"
   },
   {
    "duration": 1107,
    "start_time": "2021-10-04T19:24:07.194Z"
   },
   {
    "duration": 270,
    "start_time": "2021-10-04T19:24:28.289Z"
   },
   {
    "duration": 430,
    "start_time": "2021-10-04T19:24:41.544Z"
   },
   {
    "duration": 21,
    "start_time": "2021-10-04T19:26:03.062Z"
   },
   {
    "duration": 14,
    "start_time": "2021-10-04T19:26:05.924Z"
   },
   {
    "duration": 14,
    "start_time": "2021-10-04T19:27:35.779Z"
   },
   {
    "duration": 499,
    "start_time": "2021-10-04T19:28:39.171Z"
   },
   {
    "duration": 20,
    "start_time": "2021-10-04T19:28:51.189Z"
   },
   {
    "duration": 28,
    "start_time": "2021-10-04T19:28:54.487Z"
   },
   {
    "duration": 18,
    "start_time": "2021-10-04T19:30:06.471Z"
   },
   {
    "duration": 12,
    "start_time": "2021-10-04T19:30:09.677Z"
   },
   {
    "duration": 14,
    "start_time": "2021-10-04T19:30:12.522Z"
   },
   {
    "duration": 19,
    "start_time": "2021-10-04T19:30:14.478Z"
   },
   {
    "duration": 16,
    "start_time": "2021-10-04T19:30:36.951Z"
   },
   {
    "duration": 20,
    "start_time": "2021-10-04T19:30:40.971Z"
   },
   {
    "duration": 21,
    "start_time": "2021-10-04T19:30:45.307Z"
   },
   {
    "duration": 14,
    "start_time": "2021-10-04T19:30:47.900Z"
   },
   {
    "duration": 20,
    "start_time": "2021-10-04T19:30:49.650Z"
   },
   {
    "duration": 17,
    "start_time": "2021-10-04T19:30:55.315Z"
   },
   {
    "duration": 14,
    "start_time": "2021-10-04T19:30:57.518Z"
   },
   {
    "duration": 16,
    "start_time": "2021-10-04T19:30:59.178Z"
   },
   {
    "duration": 1115,
    "start_time": "2021-10-04T19:31:58.604Z"
   },
   {
    "duration": 505,
    "start_time": "2021-10-04T19:31:59.721Z"
   },
   {
    "duration": 13,
    "start_time": "2021-10-04T19:32:00.227Z"
   },
   {
    "duration": 19,
    "start_time": "2021-10-04T19:32:00.241Z"
   },
   {
    "duration": 25,
    "start_time": "2021-10-04T19:32:00.262Z"
   },
   {
    "duration": 10,
    "start_time": "2021-10-04T19:32:00.289Z"
   },
   {
    "duration": 36,
    "start_time": "2021-10-04T19:32:00.301Z"
   },
   {
    "duration": 15,
    "start_time": "2021-10-04T19:32:00.339Z"
   },
   {
    "duration": 12,
    "start_time": "2021-10-04T19:32:00.356Z"
   },
   {
    "duration": 21,
    "start_time": "2021-10-04T19:32:00.370Z"
   },
   {
    "duration": 12,
    "start_time": "2021-10-04T19:32:00.392Z"
   },
   {
    "duration": 15,
    "start_time": "2021-10-04T19:32:00.406Z"
   },
   {
    "duration": 10,
    "start_time": "2021-10-04T19:32:00.422Z"
   },
   {
    "duration": 17,
    "start_time": "2021-10-04T19:32:00.433Z"
   },
   {
    "duration": 17,
    "start_time": "2021-10-04T19:32:00.451Z"
   },
   {
    "duration": 48,
    "start_time": "2021-10-04T19:32:00.470Z"
   },
   {
    "duration": 5,
    "start_time": "2021-10-04T19:32:00.520Z"
   },
   {
    "duration": 12,
    "start_time": "2021-10-04T19:32:00.545Z"
   },
   {
    "duration": 119,
    "start_time": "2021-10-04T19:32:00.559Z"
   },
   {
    "duration": 8,
    "start_time": "2021-10-04T19:32:00.680Z"
   },
   {
    "duration": 114,
    "start_time": "2021-10-04T19:32:00.690Z"
   },
   {
    "duration": 443,
    "start_time": "2021-10-04T19:32:00.806Z"
   },
   {
    "duration": 24,
    "start_time": "2021-10-04T19:32:01.252Z"
   },
   {
    "duration": 38,
    "start_time": "2021-10-04T19:32:01.278Z"
   },
   {
    "duration": 56,
    "start_time": "2021-10-04T19:32:01.318Z"
   },
   {
    "duration": 15,
    "start_time": "2021-10-04T19:32:01.376Z"
   },
   {
    "duration": 99,
    "start_time": "2021-10-04T19:32:01.393Z"
   },
   {
    "duration": 16,
    "start_time": "2021-10-04T19:32:01.495Z"
   },
   {
    "duration": 33,
    "start_time": "2021-10-04T19:32:01.513Z"
   },
   {
    "duration": 26,
    "start_time": "2021-10-04T19:32:01.548Z"
   },
   {
    "duration": 13,
    "start_time": "2021-10-04T19:32:01.576Z"
   },
   {
    "duration": 13,
    "start_time": "2021-10-04T19:32:01.591Z"
   },
   {
    "duration": 40,
    "start_time": "2021-10-04T19:32:01.605Z"
   },
   {
    "duration": 18,
    "start_time": "2021-10-04T19:32:01.647Z"
   },
   {
    "duration": 1023,
    "start_time": "2021-10-04T19:37:19.983Z"
   },
   {
    "duration": 483,
    "start_time": "2021-10-04T19:37:21.008Z"
   },
   {
    "duration": 13,
    "start_time": "2021-10-04T19:37:21.494Z"
   },
   {
    "duration": 29,
    "start_time": "2021-10-04T19:37:21.509Z"
   },
   {
    "duration": 25,
    "start_time": "2021-10-04T19:37:21.539Z"
   },
   {
    "duration": 17,
    "start_time": "2021-10-04T19:37:21.566Z"
   },
   {
    "duration": 34,
    "start_time": "2021-10-04T19:37:21.584Z"
   },
   {
    "duration": 15,
    "start_time": "2021-10-04T19:37:21.621Z"
   },
   {
    "duration": 19,
    "start_time": "2021-10-04T19:37:21.638Z"
   },
   {
    "duration": 23,
    "start_time": "2021-10-04T19:37:21.659Z"
   },
   {
    "duration": 14,
    "start_time": "2021-10-04T19:37:21.683Z"
   },
   {
    "duration": 15,
    "start_time": "2021-10-04T19:37:21.699Z"
   },
   {
    "duration": 20,
    "start_time": "2021-10-04T19:37:21.716Z"
   },
   {
    "duration": 16,
    "start_time": "2021-10-04T19:37:21.737Z"
   },
   {
    "duration": 24,
    "start_time": "2021-10-04T19:37:21.755Z"
   },
   {
    "duration": 48,
    "start_time": "2021-10-04T19:37:21.780Z"
   },
   {
    "duration": 2,
    "start_time": "2021-10-04T19:37:21.829Z"
   },
   {
    "duration": 21,
    "start_time": "2021-10-04T19:37:21.833Z"
   },
   {
    "duration": 115,
    "start_time": "2021-10-04T19:37:21.856Z"
   },
   {
    "duration": 8,
    "start_time": "2021-10-04T19:37:21.972Z"
   },
   {
    "duration": 109,
    "start_time": "2021-10-04T19:37:21.982Z"
   },
   {
    "duration": 444,
    "start_time": "2021-10-04T19:37:22.093Z"
   },
   {
    "duration": 24,
    "start_time": "2021-10-04T19:37:22.540Z"
   },
   {
    "duration": 35,
    "start_time": "2021-10-04T19:37:22.566Z"
   },
   {
    "duration": 52,
    "start_time": "2021-10-04T19:37:22.603Z"
   },
   {
    "duration": 15,
    "start_time": "2021-10-04T19:37:22.657Z"
   },
   {
    "duration": 96,
    "start_time": "2021-10-04T19:37:22.674Z"
   },
   {
    "duration": 13,
    "start_time": "2021-10-04T19:37:22.772Z"
   },
   {
    "duration": 8,
    "start_time": "2021-10-04T19:37:22.786Z"
   },
   {
    "duration": 23,
    "start_time": "2021-10-04T19:37:22.795Z"
   },
   {
    "duration": 30,
    "start_time": "2021-10-04T19:37:22.819Z"
   },
   {
    "duration": 13,
    "start_time": "2021-10-04T19:37:22.851Z"
   },
   {
    "duration": 16,
    "start_time": "2021-10-04T19:37:22.865Z"
   },
   {
    "duration": 14,
    "start_time": "2021-10-04T19:37:22.882Z"
   },
   {
    "duration": 18,
    "start_time": "2021-10-04T19:39:58.506Z"
   },
   {
    "duration": 15,
    "start_time": "2021-10-04T19:40:04.393Z"
   },
   {
    "duration": 26,
    "start_time": "2021-10-04T19:41:12.405Z"
   },
   {
    "duration": 304,
    "start_time": "2021-10-04T19:41:18.932Z"
   },
   {
    "duration": 11,
    "start_time": "2021-10-04T19:41:27.425Z"
   },
   {
    "duration": 1142,
    "start_time": "2021-10-04T19:41:36.765Z"
   },
   {
    "duration": 907,
    "start_time": "2021-10-04T19:41:40.026Z"
   },
   {
    "duration": 11,
    "start_time": "2021-10-04T19:41:47.029Z"
   },
   {
    "duration": 1090,
    "start_time": "2021-10-04T19:42:17.977Z"
   },
   {
    "duration": 925,
    "start_time": "2021-10-04T19:42:28.799Z"
   },
   {
    "duration": 1250,
    "start_time": "2021-10-04T19:42:52.859Z"
   },
   {
    "duration": 1555,
    "start_time": "2021-10-04T19:43:30.654Z"
   },
   {
    "duration": 26,
    "start_time": "2021-10-04T19:43:36.599Z"
   },
   {
    "duration": 238,
    "start_time": "2021-10-04T19:43:46.101Z"
   },
   {
    "duration": 33,
    "start_time": "2021-10-04T19:52:48.853Z"
   },
   {
    "duration": 900,
    "start_time": "2021-10-04T19:53:46.394Z"
   },
   {
    "duration": 928,
    "start_time": "2021-10-04T19:53:56.213Z"
   },
   {
    "duration": 11,
    "start_time": "2021-10-04T20:10:21.770Z"
   },
   {
    "duration": 13,
    "start_time": "2021-10-04T20:10:40.832Z"
   },
   {
    "duration": 11,
    "start_time": "2021-10-04T20:10:47.750Z"
   },
   {
    "duration": 21,
    "start_time": "2021-10-04T20:17:59.580Z"
   },
   {
    "duration": 16,
    "start_time": "2021-10-04T20:18:09.100Z"
   },
   {
    "duration": 24,
    "start_time": "2021-10-04T20:18:11.396Z"
   },
   {
    "duration": 17,
    "start_time": "2021-10-04T20:18:54.289Z"
   },
   {
    "duration": 11,
    "start_time": "2021-10-04T20:19:02.977Z"
   },
   {
    "duration": 26,
    "start_time": "2021-10-04T20:58:59.505Z"
   },
   {
    "duration": 11,
    "start_time": "2021-10-04T20:59:02.647Z"
   },
   {
    "duration": 19,
    "start_time": "2021-10-04T21:16:52.356Z"
   },
   {
    "duration": 14,
    "start_time": "2021-10-04T21:17:02.678Z"
   },
   {
    "duration": 12,
    "start_time": "2021-10-04T21:17:06.325Z"
   },
   {
    "duration": 11,
    "start_time": "2021-10-04T21:17:13.601Z"
   },
   {
    "duration": 11,
    "start_time": "2021-10-04T21:17:19.583Z"
   },
   {
    "duration": 16,
    "start_time": "2021-10-04T21:17:47.343Z"
   },
   {
    "duration": 18,
    "start_time": "2021-10-04T21:18:45.205Z"
   },
   {
    "duration": 25,
    "start_time": "2021-10-04T21:22:04.705Z"
   },
   {
    "duration": 68,
    "start_time": "2021-10-04T21:22:15.269Z"
   },
   {
    "duration": 25,
    "start_time": "2021-10-04T21:22:24.974Z"
   },
   {
    "duration": 15,
    "start_time": "2021-10-04T21:22:34.640Z"
   },
   {
    "duration": 14,
    "start_time": "2021-10-04T21:22:52.835Z"
   },
   {
    "duration": 17,
    "start_time": "2021-10-04T21:22:58.462Z"
   },
   {
    "duration": 65,
    "start_time": "2021-10-04T21:25:44.779Z"
   },
   {
    "duration": 20,
    "start_time": "2021-10-04T21:25:54.849Z"
   },
   {
    "duration": 20,
    "start_time": "2021-10-04T21:26:01.415Z"
   },
   {
    "duration": 13,
    "start_time": "2021-10-04T21:26:06.621Z"
   },
   {
    "duration": 18,
    "start_time": "2021-10-04T21:26:09.962Z"
   },
   {
    "duration": 26,
    "start_time": "2021-10-04T21:27:54.317Z"
   },
   {
    "duration": 13,
    "start_time": "2021-10-04T21:27:56.310Z"
   },
   {
    "duration": 13,
    "start_time": "2021-10-04T21:29:19.530Z"
   },
   {
    "duration": 19,
    "start_time": "2021-10-04T21:29:21.656Z"
   },
   {
    "duration": 11,
    "start_time": "2021-10-04T21:35:37.101Z"
   },
   {
    "duration": 211,
    "start_time": "2021-10-04T21:35:56.341Z"
   },
   {
    "duration": 256,
    "start_time": "2021-10-04T21:36:11.577Z"
   },
   {
    "duration": 214,
    "start_time": "2021-10-04T21:36:16.317Z"
   },
   {
    "duration": 235,
    "start_time": "2021-10-04T21:36:22.701Z"
   },
   {
    "duration": 11,
    "start_time": "2021-10-04T21:36:25.282Z"
   },
   {
    "duration": 1010,
    "start_time": "2021-10-04T21:36:35.549Z"
   },
   {
    "duration": 19,
    "start_time": "2021-10-04T21:36:43.907Z"
   },
   {
    "duration": 19,
    "start_time": "2021-10-04T21:37:22.244Z"
   },
   {
    "duration": 9,
    "start_time": "2021-10-04T21:37:25.988Z"
   },
   {
    "duration": 22,
    "start_time": "2021-10-04T21:37:30.502Z"
   },
   {
    "duration": 22,
    "start_time": "2021-10-04T21:37:37.767Z"
   },
   {
    "duration": 25,
    "start_time": "2021-10-04T21:37:41.868Z"
   },
   {
    "duration": 19,
    "start_time": "2021-10-04T21:37:43.873Z"
   },
   {
    "duration": 23,
    "start_time": "2021-10-04T21:37:50.199Z"
   },
   {
    "duration": 12,
    "start_time": "2021-10-04T21:37:55.439Z"
   },
   {
    "duration": 18,
    "start_time": "2021-10-04T21:37:57.578Z"
   },
   {
    "duration": 20,
    "start_time": "2021-10-04T21:37:59.592Z"
   },
   {
    "duration": 17,
    "start_time": "2021-10-04T21:38:28.956Z"
   },
   {
    "duration": 13,
    "start_time": "2021-10-04T21:38:34.093Z"
   },
   {
    "duration": 19,
    "start_time": "2021-10-04T21:38:36.116Z"
   },
   {
    "duration": 18,
    "start_time": "2021-10-04T21:38:39.157Z"
   },
   {
    "duration": 7,
    "start_time": "2021-10-04T21:38:45.617Z"
   },
   {
    "duration": 5,
    "start_time": "2021-10-04T21:38:47.814Z"
   },
   {
    "duration": 19,
    "start_time": "2021-10-04T21:42:46.190Z"
   },
   {
    "duration": 13,
    "start_time": "2021-10-04T21:42:56.234Z"
   },
   {
    "duration": 18,
    "start_time": "2021-10-04T21:42:58.384Z"
   },
   {
    "duration": 18,
    "start_time": "2021-10-04T21:43:02.049Z"
   },
   {
    "duration": 22,
    "start_time": "2021-10-04T21:43:05.663Z"
   },
   {
    "duration": 222,
    "start_time": "2021-10-04T21:46:44.731Z"
   },
   {
    "duration": 19,
    "start_time": "2021-10-04T21:46:52.584Z"
   },
   {
    "duration": 14,
    "start_time": "2021-10-04T21:47:01.275Z"
   },
   {
    "duration": 18,
    "start_time": "2021-10-04T21:47:03.597Z"
   },
   {
    "duration": 17,
    "start_time": "2021-10-04T21:47:08.569Z"
   },
   {
    "duration": 6,
    "start_time": "2021-10-04T21:47:13.591Z"
   },
   {
    "duration": 6,
    "start_time": "2021-10-04T21:47:27.878Z"
   },
   {
    "duration": 6,
    "start_time": "2021-10-04T21:47:31.747Z"
   },
   {
    "duration": 13,
    "start_time": "2021-10-04T21:49:44.092Z"
   },
   {
    "duration": 4,
    "start_time": "2021-10-04T21:50:17.169Z"
   },
   {
    "duration": 6,
    "start_time": "2021-10-04T21:50:30.169Z"
   },
   {
    "duration": 250,
    "start_time": "2021-10-04T22:06:42.102Z"
   },
   {
    "duration": 27,
    "start_time": "2021-10-04T22:06:48.493Z"
   },
   {
    "duration": 33,
    "start_time": "2021-10-04T22:06:53.339Z"
   },
   {
    "duration": 20,
    "start_time": "2021-10-04T22:06:58.675Z"
   },
   {
    "duration": 13,
    "start_time": "2021-10-04T22:07:00.500Z"
   },
   {
    "duration": 17,
    "start_time": "2021-10-04T22:07:02.234Z"
   },
   {
    "duration": 17,
    "start_time": "2021-10-04T22:07:04.712Z"
   },
   {
    "duration": 7,
    "start_time": "2021-10-04T22:07:07.127Z"
   },
   {
    "duration": 4,
    "start_time": "2021-10-04T22:07:10.368Z"
   },
   {
    "duration": 25,
    "start_time": "2021-10-04T22:07:12.683Z"
   },
   {
    "duration": 5,
    "start_time": "2021-10-04T22:09:12.958Z"
   },
   {
    "duration": 37,
    "start_time": "2021-10-04T22:09:31.312Z"
   },
   {
    "duration": 37,
    "start_time": "2021-10-04T22:09:51.296Z"
   },
   {
    "duration": 12,
    "start_time": "2021-10-04T22:48:40.573Z"
   },
   {
    "duration": 18,
    "start_time": "2021-10-04T22:48:42.546Z"
   },
   {
    "duration": 19,
    "start_time": "2021-10-04T22:48:45.437Z"
   },
   {
    "duration": 16,
    "start_time": "2021-10-04T22:48:48.452Z"
   },
   {
    "duration": 6,
    "start_time": "2021-10-04T22:48:50.716Z"
   },
   {
    "duration": 29,
    "start_time": "2021-10-04T22:48:55.653Z"
   },
   {
    "duration": 6,
    "start_time": "2021-10-04T22:49:11.153Z"
   },
   {
    "duration": 5,
    "start_time": "2021-10-04T22:49:12.786Z"
   },
   {
    "duration": 37,
    "start_time": "2021-10-04T22:49:15.529Z"
   },
   {
    "duration": 1056,
    "start_time": "2021-10-04T23:09:58.839Z"
   },
   {
    "duration": 458,
    "start_time": "2021-10-04T23:09:59.897Z"
   },
   {
    "duration": 14,
    "start_time": "2021-10-04T23:10:00.358Z"
   },
   {
    "duration": 14,
    "start_time": "2021-10-04T23:10:00.374Z"
   },
   {
    "duration": 23,
    "start_time": "2021-10-04T23:10:00.390Z"
   },
   {
    "duration": 17,
    "start_time": "2021-10-04T23:10:00.415Z"
   },
   {
    "duration": 33,
    "start_time": "2021-10-04T23:10:00.433Z"
   },
   {
    "duration": 16,
    "start_time": "2021-10-04T23:10:00.468Z"
   },
   {
    "duration": 7,
    "start_time": "2021-10-04T23:10:00.488Z"
   },
   {
    "duration": 26,
    "start_time": "2021-10-04T23:10:00.498Z"
   },
   {
    "duration": 24,
    "start_time": "2021-10-04T23:10:00.526Z"
   },
   {
    "duration": 13,
    "start_time": "2021-10-04T23:10:00.552Z"
   },
   {
    "duration": 19,
    "start_time": "2021-10-04T23:10:00.566Z"
   },
   {
    "duration": 18,
    "start_time": "2021-10-04T23:10:00.587Z"
   },
   {
    "duration": 47,
    "start_time": "2021-10-04T23:10:00.606Z"
   },
   {
    "duration": 61,
    "start_time": "2021-10-04T23:10:00.656Z"
   },
   {
    "duration": 2,
    "start_time": "2021-10-04T23:10:00.719Z"
   },
   {
    "duration": 32,
    "start_time": "2021-10-04T23:10:00.723Z"
   },
   {
    "duration": 112,
    "start_time": "2021-10-04T23:10:00.757Z"
   },
   {
    "duration": 9,
    "start_time": "2021-10-04T23:10:00.871Z"
   },
   {
    "duration": 114,
    "start_time": "2021-10-04T23:10:00.882Z"
   },
   {
    "duration": 435,
    "start_time": "2021-10-04T23:10:00.998Z"
   },
   {
    "duration": 28,
    "start_time": "2021-10-04T23:10:01.435Z"
   },
   {
    "duration": 37,
    "start_time": "2021-10-04T23:10:01.465Z"
   },
   {
    "duration": 50,
    "start_time": "2021-10-04T23:10:01.503Z"
   },
   {
    "duration": 10,
    "start_time": "2021-10-04T23:10:01.554Z"
   },
   {
    "duration": 17,
    "start_time": "2021-10-04T23:10:01.567Z"
   },
   {
    "duration": 18,
    "start_time": "2021-10-04T23:10:01.586Z"
   },
   {
    "duration": 40,
    "start_time": "2021-10-04T23:10:01.605Z"
   },
   {
    "duration": 12,
    "start_time": "2021-10-04T23:10:01.647Z"
   },
   {
    "duration": 20,
    "start_time": "2021-10-04T23:10:01.660Z"
   },
   {
    "duration": 10,
    "start_time": "2021-10-04T23:10:01.682Z"
   },
   {
    "duration": 30,
    "start_time": "2021-10-04T23:10:01.693Z"
   },
   {
    "duration": 24,
    "start_time": "2021-10-04T23:10:01.725Z"
   },
   {
    "duration": 39,
    "start_time": "2021-10-04T23:10:01.751Z"
   },
   {
    "duration": 9,
    "start_time": "2021-10-04T23:10:01.792Z"
   },
   {
    "duration": 50,
    "start_time": "2021-10-04T23:10:01.802Z"
   },
   {
    "duration": 11,
    "start_time": "2021-10-04T23:10:01.853Z"
   },
   {
    "duration": 7,
    "start_time": "2021-10-04T23:10:01.866Z"
   },
   {
    "duration": 20,
    "start_time": "2021-10-04T23:10:01.875Z"
   },
   {
    "duration": 48,
    "start_time": "2021-10-04T23:10:01.897Z"
   },
   {
    "duration": 15,
    "start_time": "2021-10-04T23:24:43.173Z"
   },
   {
    "duration": 26,
    "start_time": "2021-10-04T23:25:58.162Z"
   },
   {
    "duration": 15,
    "start_time": "2021-10-04T23:26:00.500Z"
   },
   {
    "duration": 31,
    "start_time": "2021-10-04T23:26:57.994Z"
   },
   {
    "duration": 12,
    "start_time": "2021-10-04T23:27:10.656Z"
   },
   {
    "duration": 12,
    "start_time": "2021-10-04T23:27:43.751Z"
   },
   {
    "duration": 1061,
    "start_time": "2021-10-04T23:28:14.248Z"
   },
   {
    "duration": 454,
    "start_time": "2021-10-04T23:28:15.311Z"
   },
   {
    "duration": 13,
    "start_time": "2021-10-04T23:28:15.767Z"
   },
   {
    "duration": 9,
    "start_time": "2021-10-04T23:28:15.781Z"
   },
   {
    "duration": 16,
    "start_time": "2021-10-04T23:28:15.792Z"
   },
   {
    "duration": 11,
    "start_time": "2021-10-04T23:28:15.810Z"
   },
   {
    "duration": 25,
    "start_time": "2021-10-04T23:28:15.823Z"
   },
   {
    "duration": 17,
    "start_time": "2021-10-04T23:28:15.850Z"
   },
   {
    "duration": 6,
    "start_time": "2021-10-04T23:28:15.871Z"
   },
   {
    "duration": 13,
    "start_time": "2021-10-04T23:28:15.880Z"
   },
   {
    "duration": 12,
    "start_time": "2021-10-04T23:28:15.895Z"
   },
   {
    "duration": 10,
    "start_time": "2021-10-04T23:28:15.945Z"
   },
   {
    "duration": 7,
    "start_time": "2021-10-04T23:28:15.957Z"
   },
   {
    "duration": 9,
    "start_time": "2021-10-04T23:28:15.965Z"
   },
   {
    "duration": 14,
    "start_time": "2021-10-04T23:28:15.976Z"
   },
   {
    "duration": 83,
    "start_time": "2021-10-04T23:28:15.992Z"
   },
   {
    "duration": 2,
    "start_time": "2021-10-04T23:28:16.077Z"
   },
   {
    "duration": 13,
    "start_time": "2021-10-04T23:28:16.081Z"
   },
   {
    "duration": 114,
    "start_time": "2021-10-04T23:28:16.096Z"
   },
   {
    "duration": 9,
    "start_time": "2021-10-04T23:28:16.212Z"
   },
   {
    "duration": 112,
    "start_time": "2021-10-04T23:28:16.222Z"
   },
   {
    "duration": 427,
    "start_time": "2021-10-04T23:28:16.336Z"
   },
   {
    "duration": 23,
    "start_time": "2021-10-04T23:28:16.765Z"
   },
   {
    "duration": 34,
    "start_time": "2021-10-04T23:28:24.827Z"
   },
   {
    "duration": 29,
    "start_time": "2021-10-04T23:28:26.442Z"
   },
   {
    "duration": 14,
    "start_time": "2021-10-04T23:28:29.358Z"
   },
   {
    "duration": 28,
    "start_time": "2021-10-04T23:28:33.223Z"
   },
   {
    "duration": 14,
    "start_time": "2021-10-04T23:28:35.369Z"
   },
   {
    "duration": 33,
    "start_time": "2021-10-04T23:28:38.525Z"
   },
   {
    "duration": 12,
    "start_time": "2021-10-04T23:28:44.472Z"
   },
   {
    "duration": 1014,
    "start_time": "2021-10-04T23:39:09.174Z"
   },
   {
    "duration": 33,
    "start_time": "2021-10-04T23:39:32.344Z"
   },
   {
    "duration": 15,
    "start_time": "2021-10-04T23:39:39.449Z"
   },
   {
    "duration": 228,
    "start_time": "2021-10-04T23:49:28.511Z"
   },
   {
    "duration": 9,
    "start_time": "2021-10-04T23:49:31.336Z"
   },
   {
    "duration": 21,
    "start_time": "2021-10-04T23:51:21.688Z"
   },
   {
    "duration": 18,
    "start_time": "2021-10-04T23:54:09.464Z"
   },
   {
    "duration": 234,
    "start_time": "2021-10-04T23:55:13.804Z"
   },
   {
    "duration": 209,
    "start_time": "2021-10-04T23:55:17.759Z"
   },
   {
    "duration": 7,
    "start_time": "2021-10-04T23:55:21.045Z"
   },
   {
    "duration": 1097,
    "start_time": "2021-10-04T23:56:57.002Z"
   },
   {
    "duration": 239,
    "start_time": "2021-10-04T23:57:24.551Z"
   },
   {
    "duration": 232,
    "start_time": "2021-10-04T23:57:55.257Z"
   },
   {
    "duration": 241,
    "start_time": "2021-10-04T23:58:01.037Z"
   },
   {
    "duration": 213,
    "start_time": "2021-10-04T23:58:49.313Z"
   },
   {
    "duration": 461,
    "start_time": "2021-10-04T23:58:54.052Z"
   },
   {
    "duration": 293,
    "start_time": "2021-10-05T00:01:35.234Z"
   },
   {
    "duration": 915,
    "start_time": "2021-10-05T00:04:49.747Z"
   },
   {
    "duration": 249,
    "start_time": "2021-10-05T00:04:59.218Z"
   },
   {
    "duration": 967,
    "start_time": "2021-10-05T00:05:18.644Z"
   },
   {
    "duration": 1080,
    "start_time": "2021-10-05T00:05:23.081Z"
   },
   {
    "duration": 1296,
    "start_time": "2021-10-05T00:05:36.511Z"
   },
   {
    "duration": 1011,
    "start_time": "2021-10-05T00:05:58.918Z"
   },
   {
    "duration": 979,
    "start_time": "2021-10-05T00:06:22.368Z"
   },
   {
    "duration": 43,
    "start_time": "2021-10-05T00:06:28.855Z"
   },
   {
    "duration": 39,
    "start_time": "2021-10-05T00:06:44.172Z"
   },
   {
    "duration": 40,
    "start_time": "2021-10-05T00:06:54.482Z"
   },
   {
    "duration": 15,
    "start_time": "2021-10-05T00:08:10.992Z"
   },
   {
    "duration": 912,
    "start_time": "2021-10-05T00:08:24.939Z"
   },
   {
    "duration": 43,
    "start_time": "2021-10-05T00:08:33.005Z"
   },
   {
    "duration": 41,
    "start_time": "2021-10-05T00:08:40.620Z"
   },
   {
    "duration": 14,
    "start_time": "2021-10-05T00:08:46.354Z"
   },
   {
    "duration": 32,
    "start_time": "2021-10-05T00:09:53.385Z"
   },
   {
    "duration": 16,
    "start_time": "2021-10-05T00:09:55.600Z"
   },
   {
    "duration": 7,
    "start_time": "2021-10-05T00:11:50.076Z"
   },
   {
    "duration": 226,
    "start_time": "2021-10-05T00:12:02.394Z"
   },
   {
    "duration": 17,
    "start_time": "2021-10-05T00:12:05.596Z"
   },
   {
    "duration": 35,
    "start_time": "2021-10-05T00:12:19.422Z"
   },
   {
    "duration": 281,
    "start_time": "2021-10-05T00:12:58.628Z"
   },
   {
    "duration": 7,
    "start_time": "2021-10-05T00:13:05.671Z"
   },
   {
    "duration": 5,
    "start_time": "2021-10-05T00:13:18.650Z"
   },
   {
    "duration": 34,
    "start_time": "2021-10-05T00:16:50.467Z"
   },
   {
    "duration": 8,
    "start_time": "2021-10-05T00:16:55.670Z"
   },
   {
    "duration": 5,
    "start_time": "2021-10-05T00:17:00.097Z"
   },
   {
    "duration": 83,
    "start_time": "2021-10-05T00:30:02.032Z"
   },
   {
    "duration": 299,
    "start_time": "2021-10-05T00:30:06.200Z"
   },
   {
    "duration": 5813,
    "start_time": "2021-10-05T00:30:12.116Z"
   },
   {
    "duration": 10,
    "start_time": "2021-10-05T00:32:14.454Z"
   },
   {
    "duration": 7,
    "start_time": "2021-10-05T00:37:24.780Z"
   },
   {
    "duration": 229,
    "start_time": "2021-10-05T00:37:45.013Z"
   },
   {
    "duration": 409,
    "start_time": "2021-10-05T00:38:34.841Z"
   },
   {
    "duration": 219,
    "start_time": "2021-10-05T00:48:23.507Z"
   },
   {
    "duration": 528,
    "start_time": "2021-10-05T00:49:47.202Z"
   },
   {
    "duration": 449,
    "start_time": "2021-10-05T00:50:10.619Z"
   },
   {
    "duration": 426,
    "start_time": "2021-10-05T00:50:15.818Z"
   },
   {
    "duration": 449,
    "start_time": "2021-10-05T00:50:21.950Z"
   },
   {
    "duration": 521,
    "start_time": "2021-10-05T00:50:30.445Z"
   },
   {
    "duration": 416,
    "start_time": "2021-10-05T00:51:23.361Z"
   },
   {
    "duration": 426,
    "start_time": "2021-10-05T01:01:18.060Z"
   },
   {
    "duration": 449,
    "start_time": "2021-10-05T01:01:32.135Z"
   },
   {
    "duration": 207,
    "start_time": "2021-10-05T01:01:41.555Z"
   },
   {
    "duration": 209,
    "start_time": "2021-10-05T01:01:47.885Z"
   },
   {
    "duration": 240,
    "start_time": "2021-10-05T01:02:00.670Z"
   },
   {
    "duration": 209,
    "start_time": "2021-10-05T01:02:18.003Z"
   },
   {
    "duration": 212,
    "start_time": "2021-10-05T01:02:26.866Z"
   },
   {
    "duration": 209,
    "start_time": "2021-10-05T01:02:31.899Z"
   },
   {
    "duration": 6,
    "start_time": "2021-10-05T01:03:45.680Z"
   },
   {
    "duration": 33,
    "start_time": "2021-10-05T01:04:04.580Z"
   },
   {
    "duration": 542,
    "start_time": "2021-10-05T01:04:20.002Z"
   },
   {
    "duration": 4,
    "start_time": "2021-10-05T01:04:27.210Z"
   },
   {
    "duration": 16,
    "start_time": "2021-10-05T01:04:30.868Z"
   },
   {
    "duration": 34,
    "start_time": "2021-10-05T01:05:27.639Z"
   },
   {
    "duration": 221,
    "start_time": "2021-10-05T01:05:36.748Z"
   },
   {
    "duration": 834,
    "start_time": "2021-10-05T01:06:46.594Z"
   },
   {
    "duration": 1468,
    "start_time": "2021-10-05T01:06:59.894Z"
   },
   {
    "duration": 893,
    "start_time": "2021-10-05T01:07:10.763Z"
   },
   {
    "duration": 936,
    "start_time": "2021-10-05T01:07:14.233Z"
   },
   {
    "duration": 35,
    "start_time": "2021-10-05T01:07:29.277Z"
   },
   {
    "duration": 5,
    "start_time": "2021-10-05T01:07:31.632Z"
   },
   {
    "duration": 16,
    "start_time": "2021-10-05T01:07:33.517Z"
   },
   {
    "duration": 103,
    "start_time": "2021-10-05T01:07:38.468Z"
   },
   {
    "duration": 72,
    "start_time": "2021-10-05T01:07:44.852Z"
   },
   {
    "duration": 84,
    "start_time": "2021-10-05T01:07:47.111Z"
   },
   {
    "duration": 72,
    "start_time": "2021-10-05T01:08:05.307Z"
   },
   {
    "duration": 74,
    "start_time": "2021-10-05T01:08:08.305Z"
   },
   {
    "duration": 70,
    "start_time": "2021-10-05T01:08:11.308Z"
   },
   {
    "duration": 69,
    "start_time": "2021-10-05T01:08:13.915Z"
   },
   {
    "duration": 77,
    "start_time": "2021-10-05T01:08:24.850Z"
   },
   {
    "duration": 74,
    "start_time": "2021-10-05T01:08:41.983Z"
   },
   {
    "duration": 217,
    "start_time": "2021-10-05T01:09:10.164Z"
   },
   {
    "duration": 5911,
    "start_time": "2021-10-05T01:09:21.045Z"
   },
   {
    "duration": 36,
    "start_time": "2021-10-05T01:10:47.780Z"
   },
   {
    "duration": 1261,
    "start_time": "2021-10-05T01:13:44.469Z"
   },
   {
    "duration": 34,
    "start_time": "2021-10-05T01:13:48.168Z"
   },
   {
    "duration": 8225,
    "start_time": "2021-10-05T01:13:50.329Z"
   },
   {
    "duration": -298,
    "start_time": "2021-10-05T01:13:58.855Z"
   },
   {
    "duration": -303,
    "start_time": "2021-10-05T01:13:58.861Z"
   },
   {
    "duration": -306,
    "start_time": "2021-10-05T01:13:58.864Z"
   },
   {
    "duration": 6610,
    "start_time": "2021-10-05T01:14:02.491Z"
   },
   {
    "duration": 15,
    "start_time": "2021-10-05T01:14:09.667Z"
   },
   {
    "duration": 4,
    "start_time": "2021-10-05T01:14:19.982Z"
   },
   {
    "duration": 8,
    "start_time": "2021-10-05T01:14:28.452Z"
   },
   {
    "duration": 34,
    "start_time": "2021-10-05T01:14:30.951Z"
   },
   {
    "duration": 7,
    "start_time": "2021-10-05T01:14:36.070Z"
   },
   {
    "duration": 4,
    "start_time": "2021-10-05T01:14:38.575Z"
   },
   {
    "duration": 235,
    "start_time": "2021-10-05T01:14:41.469Z"
   },
   {
    "duration": 6,
    "start_time": "2021-10-05T01:15:14.159Z"
   },
   {
    "duration": 7,
    "start_time": "2021-10-05T01:15:16.504Z"
   },
   {
    "duration": 214,
    "start_time": "2021-10-05T01:15:18.876Z"
   },
   {
    "duration": 223,
    "start_time": "2021-10-05T01:15:22.352Z"
   },
   {
    "duration": 16,
    "start_time": "2021-10-05T01:25:32.265Z"
   },
   {
    "duration": 3,
    "start_time": "2021-10-05T01:26:12.073Z"
   },
   {
    "duration": 34,
    "start_time": "2021-10-05T01:26:25.438Z"
   },
   {
    "duration": 4,
    "start_time": "2021-10-05T01:27:12.915Z"
   },
   {
    "duration": 7,
    "start_time": "2021-10-05T01:27:16.180Z"
   },
   {
    "duration": 34,
    "start_time": "2021-10-05T01:27:24.990Z"
   },
   {
    "duration": 7,
    "start_time": "2021-10-05T01:27:36.079Z"
   },
   {
    "duration": 5,
    "start_time": "2021-10-05T01:27:40.319Z"
   },
   {
    "duration": 80,
    "start_time": "2021-10-05T01:27:56.480Z"
   },
   {
    "duration": 7,
    "start_time": "2021-10-05T01:28:48.482Z"
   },
   {
    "duration": 217,
    "start_time": "2021-10-05T01:28:51.168Z"
   },
   {
    "duration": 210,
    "start_time": "2021-10-05T01:28:55.484Z"
   },
   {
    "duration": 1519,
    "start_time": "2021-10-05T01:29:33.260Z"
   },
   {
    "duration": 432,
    "start_time": "2021-10-05T01:29:34.780Z"
   },
   {
    "duration": 13,
    "start_time": "2021-10-05T01:29:35.214Z"
   },
   {
    "duration": 10,
    "start_time": "2021-10-05T01:29:35.229Z"
   },
   {
    "duration": 17,
    "start_time": "2021-10-05T01:29:35.240Z"
   },
   {
    "duration": 8,
    "start_time": "2021-10-05T01:29:35.259Z"
   },
   {
    "duration": 22,
    "start_time": "2021-10-05T01:29:35.268Z"
   },
   {
    "duration": 14,
    "start_time": "2021-10-05T01:29:35.292Z"
   },
   {
    "duration": 12,
    "start_time": "2021-10-05T01:29:35.308Z"
   },
   {
    "duration": 29,
    "start_time": "2021-10-05T01:29:35.322Z"
   },
   {
    "duration": 10,
    "start_time": "2021-10-05T01:29:35.353Z"
   },
   {
    "duration": 8,
    "start_time": "2021-10-05T01:29:35.364Z"
   },
   {
    "duration": 16,
    "start_time": "2021-10-05T01:29:35.374Z"
   },
   {
    "duration": 9,
    "start_time": "2021-10-05T01:29:35.392Z"
   },
   {
    "duration": 16,
    "start_time": "2021-10-05T01:29:35.403Z"
   },
   {
    "duration": 46,
    "start_time": "2021-10-05T01:29:35.444Z"
   },
   {
    "duration": 2,
    "start_time": "2021-10-05T01:29:35.491Z"
   },
   {
    "duration": 12,
    "start_time": "2021-10-05T01:29:35.495Z"
   },
   {
    "duration": 106,
    "start_time": "2021-10-05T01:29:35.509Z"
   },
   {
    "duration": 8,
    "start_time": "2021-10-05T01:29:35.617Z"
   },
   {
    "duration": 118,
    "start_time": "2021-10-05T01:29:35.627Z"
   },
   {
    "duration": 438,
    "start_time": "2021-10-05T01:29:35.747Z"
   },
   {
    "duration": 23,
    "start_time": "2021-10-05T01:29:36.186Z"
   },
   {
    "duration": 45,
    "start_time": "2021-10-05T01:29:36.211Z"
   },
   {
    "duration": 29,
    "start_time": "2021-10-05T01:29:36.258Z"
   },
   {
    "duration": 13,
    "start_time": "2021-10-05T01:29:36.288Z"
   },
   {
    "duration": 61,
    "start_time": "2021-10-05T01:29:36.304Z"
   },
   {
    "duration": 12,
    "start_time": "2021-10-05T01:29:36.367Z"
   },
   {
    "duration": 31,
    "start_time": "2021-10-05T01:29:36.380Z"
   },
   {
    "duration": 3,
    "start_time": "2021-10-05T01:29:36.412Z"
   },
   {
    "duration": 38,
    "start_time": "2021-10-05T01:29:36.417Z"
   },
   {
    "duration": 6,
    "start_time": "2021-10-05T01:29:36.457Z"
   },
   {
    "duration": 35,
    "start_time": "2021-10-05T01:29:36.464Z"
   },
   {
    "duration": 5,
    "start_time": "2021-10-05T01:29:36.501Z"
   },
   {
    "duration": 4,
    "start_time": "2021-10-05T01:29:36.508Z"
   },
   {
    "duration": 32,
    "start_time": "2021-10-05T01:29:36.513Z"
   },
   {
    "duration": 8,
    "start_time": "2021-10-05T01:29:36.546Z"
   },
   {
    "duration": 230,
    "start_time": "2021-10-05T01:29:36.556Z"
   },
   {
    "duration": 217,
    "start_time": "2021-10-05T01:29:36.787Z"
   },
   {
    "duration": 76,
    "start_time": "2021-10-05T01:29:37.005Z"
   },
   {
    "duration": -2228,
    "start_time": "2021-10-05T01:29:39.311Z"
   },
   {
    "duration": -2232,
    "start_time": "2021-10-05T01:29:39.316Z"
   },
   {
    "duration": -2236,
    "start_time": "2021-10-05T01:29:39.321Z"
   },
   {
    "duration": -2241,
    "start_time": "2021-10-05T01:29:39.327Z"
   },
   {
    "duration": -2244,
    "start_time": "2021-10-05T01:29:39.331Z"
   },
   {
    "duration": 215,
    "start_time": "2021-10-05T04:10:25.188Z"
   },
   {
    "duration": 8,
    "start_time": "2021-10-05T04:10:40.369Z"
   },
   {
    "duration": 211,
    "start_time": "2021-10-05T04:13:47.737Z"
   },
   {
    "duration": 7,
    "start_time": "2021-10-05T04:15:00.983Z"
   },
   {
    "duration": 7,
    "start_time": "2021-10-05T04:15:34.857Z"
   },
   {
    "duration": 23,
    "start_time": "2021-10-05T04:15:46.336Z"
   },
   {
    "duration": 302,
    "start_time": "2021-10-05T04:17:31.208Z"
   },
   {
    "duration": 240,
    "start_time": "2021-10-05T04:18:32.121Z"
   },
   {
    "duration": 206,
    "start_time": "2021-10-05T04:18:37.123Z"
   },
   {
    "duration": 7,
    "start_time": "2021-10-05T04:18:57.060Z"
   },
   {
    "duration": 34,
    "start_time": "2021-10-05T04:19:08.622Z"
   },
   {
    "duration": 6,
    "start_time": "2021-10-05T04:19:45.804Z"
   },
   {
    "duration": 72,
    "start_time": "2021-10-05T04:20:16.158Z"
   },
   {
    "duration": 206,
    "start_time": "2021-10-05T04:20:23.540Z"
   },
   {
    "duration": 4,
    "start_time": "2021-10-05T04:45:39.860Z"
   },
   {
    "duration": 5,
    "start_time": "2021-10-05T04:46:52.902Z"
   },
   {
    "duration": 6,
    "start_time": "2021-10-05T04:46:59.003Z"
   },
   {
    "duration": 5,
    "start_time": "2021-10-05T04:47:45.156Z"
   },
   {
    "duration": 238,
    "start_time": "2021-10-05T04:54:05.956Z"
   },
   {
    "duration": 16,
    "start_time": "2021-10-05T04:55:35.736Z"
   },
   {
    "duration": 428,
    "start_time": "2021-10-05T04:55:59.453Z"
   },
   {
    "duration": 24,
    "start_time": "2021-10-05T05:15:33.875Z"
   },
   {
    "duration": 15,
    "start_time": "2021-10-05T05:15:38.013Z"
   },
   {
    "duration": 37,
    "start_time": "2021-10-05T05:15:43.329Z"
   },
   {
    "duration": 71,
    "start_time": "2021-10-05T05:16:11.762Z"
   },
   {
    "duration": 18,
    "start_time": "2021-10-05T05:16:16.337Z"
   },
   {
    "duration": 34,
    "start_time": "2021-10-05T05:17:06.974Z"
   },
   {
    "duration": 3,
    "start_time": "2021-10-05T05:19:26.859Z"
   },
   {
    "duration": 7276,
    "start_time": "2021-10-05T05:19:59.710Z"
   },
   {
    "duration": 6047,
    "start_time": "2021-10-05T05:20:22.948Z"
   },
   {
    "duration": 77,
    "start_time": "2021-10-05T05:21:30.822Z"
   },
   {
    "duration": 1148,
    "start_time": "2021-10-05T05:34:01.070Z"
   },
   {
    "duration": 27,
    "start_time": "2021-10-05T05:34:19.103Z"
   },
   {
    "duration": 32,
    "start_time": "2021-10-05T05:34:23.040Z"
   },
   {
    "duration": 42,
    "start_time": "2021-10-05T05:34:36.650Z"
   },
   {
    "duration": 8,
    "start_time": "2021-10-05T05:36:11.397Z"
   },
   {
    "duration": 37,
    "start_time": "2021-10-05T05:36:12.596Z"
   },
   {
    "duration": 6,
    "start_time": "2021-10-05T05:36:16.290Z"
   },
   {
    "duration": 277,
    "start_time": "2021-10-05T05:36:24.943Z"
   },
   {
    "duration": 251,
    "start_time": "2021-10-05T05:36:51.953Z"
   },
   {
    "duration": -436,
    "start_time": "2021-10-05T05:37:24.365Z"
   },
   {
    "duration": 6489,
    "start_time": "2021-10-05T05:37:26.072Z"
   },
   {
    "duration": 264,
    "start_time": "2021-10-05T05:37:40.004Z"
   },
   {
    "duration": 247,
    "start_time": "2021-10-05T05:43:14.182Z"
   },
   {
    "duration": 250,
    "start_time": "2021-10-05T05:43:45.133Z"
   },
   {
    "duration": 269,
    "start_time": "2021-10-05T05:44:10.457Z"
   },
   {
    "duration": 8,
    "start_time": "2021-10-05T05:54:21.354Z"
   },
   {
    "duration": 5,
    "start_time": "2021-10-05T05:54:48.605Z"
   },
   {
    "duration": 296,
    "start_time": "2021-10-05T05:55:17.679Z"
   },
   {
    "duration": 5,
    "start_time": "2021-10-05T05:55:21.808Z"
   },
   {
    "duration": 5,
    "start_time": "2021-10-05T05:55:28.066Z"
   },
   {
    "duration": 5,
    "start_time": "2021-10-05T05:55:29.988Z"
   },
   {
    "duration": 5,
    "start_time": "2021-10-05T05:55:31.492Z"
   },
   {
    "duration": 7,
    "start_time": "2021-10-05T05:55:53.789Z"
   },
   {
    "duration": 9,
    "start_time": "2021-10-05T05:56:23.022Z"
   },
   {
    "duration": 9,
    "start_time": "2021-10-05T05:57:16.729Z"
   },
   {
    "duration": 8,
    "start_time": "2021-10-05T05:57:26.302Z"
   },
   {
    "duration": 7,
    "start_time": "2021-10-05T05:57:59.668Z"
   },
   {
    "duration": 7380,
    "start_time": "2021-10-05T06:01:16.597Z"
   },
   {
    "duration": 5771,
    "start_time": "2021-10-05T06:01:38.429Z"
   },
   {
    "duration": 243,
    "start_time": "2021-10-05T06:01:48.851Z"
   },
   {
    "duration": 42,
    "start_time": "2021-10-05T06:05:18.224Z"
   },
   {
    "duration": 49,
    "start_time": "2021-10-05T06:05:24.312Z"
   },
   {
    "duration": 8,
    "start_time": "2021-10-05T06:05:28.011Z"
   },
   {
    "duration": 49,
    "start_time": "2021-10-05T06:05:29.210Z"
   },
   {
    "duration": 1089,
    "start_time": "2021-10-05T06:05:49.137Z"
   },
   {
    "duration": 455,
    "start_time": "2021-10-05T06:05:50.228Z"
   },
   {
    "duration": 14,
    "start_time": "2021-10-05T06:05:50.685Z"
   },
   {
    "duration": 6,
    "start_time": "2021-10-05T06:05:50.701Z"
   },
   {
    "duration": 21,
    "start_time": "2021-10-05T06:05:50.709Z"
   },
   {
    "duration": 8,
    "start_time": "2021-10-05T06:05:50.732Z"
   },
   {
    "duration": 36,
    "start_time": "2021-10-05T06:05:50.741Z"
   },
   {
    "duration": 15,
    "start_time": "2021-10-05T06:05:50.779Z"
   },
   {
    "duration": 7,
    "start_time": "2021-10-05T06:05:50.796Z"
   },
   {
    "duration": 22,
    "start_time": "2021-10-05T06:05:50.805Z"
   },
   {
    "duration": 17,
    "start_time": "2021-10-05T06:05:50.829Z"
   },
   {
    "duration": 12,
    "start_time": "2021-10-05T06:05:50.850Z"
   },
   {
    "duration": 8,
    "start_time": "2021-10-05T06:05:50.863Z"
   },
   {
    "duration": 15,
    "start_time": "2021-10-05T06:05:50.872Z"
   },
   {
    "duration": 25,
    "start_time": "2021-10-05T06:05:50.888Z"
   },
   {
    "duration": 75,
    "start_time": "2021-10-05T06:05:50.915Z"
   },
   {
    "duration": 3,
    "start_time": "2021-10-05T06:05:50.992Z"
   },
   {
    "duration": 16,
    "start_time": "2021-10-05T06:05:50.997Z"
   },
   {
    "duration": 134,
    "start_time": "2021-10-05T06:05:51.015Z"
   },
   {
    "duration": 10,
    "start_time": "2021-10-05T06:05:51.153Z"
   },
   {
    "duration": 120,
    "start_time": "2021-10-05T06:05:51.165Z"
   },
   {
    "duration": 589,
    "start_time": "2021-10-05T06:05:51.287Z"
   },
   {
    "duration": 26,
    "start_time": "2021-10-05T06:05:51.880Z"
   },
   {
    "duration": 55,
    "start_time": "2021-10-05T06:05:51.908Z"
   },
   {
    "duration": 30,
    "start_time": "2021-10-05T06:05:51.965Z"
   },
   {
    "duration": 15,
    "start_time": "2021-10-05T06:05:51.996Z"
   },
   {
    "duration": 102,
    "start_time": "2021-10-05T06:05:52.013Z"
   },
   {
    "duration": 32,
    "start_time": "2021-10-05T06:05:52.116Z"
   },
   {
    "duration": 35,
    "start_time": "2021-10-05T06:05:52.151Z"
   },
   {
    "duration": 4,
    "start_time": "2021-10-05T06:05:52.188Z"
   },
   {
    "duration": 21,
    "start_time": "2021-10-05T06:05:52.193Z"
   },
   {
    "duration": 34,
    "start_time": "2021-10-05T06:05:52.215Z"
   },
   {
    "duration": 46,
    "start_time": "2021-10-05T06:05:52.253Z"
   },
   {
    "duration": 6,
    "start_time": "2021-10-05T06:05:52.300Z"
   },
   {
    "duration": 7,
    "start_time": "2021-10-05T06:05:52.307Z"
   },
   {
    "duration": 13,
    "start_time": "2021-10-05T06:05:52.316Z"
   },
   {
    "duration": 9,
    "start_time": "2021-10-05T06:05:52.344Z"
   },
   {
    "duration": 6,
    "start_time": "2021-10-05T06:05:52.355Z"
   },
   {
    "duration": 297,
    "start_time": "2021-10-05T06:05:52.363Z"
   },
   {
    "duration": 5,
    "start_time": "2021-10-05T06:05:52.662Z"
   },
   {
    "duration": 287,
    "start_time": "2021-10-05T06:05:52.669Z"
   },
   {
    "duration": 8,
    "start_time": "2021-10-05T06:05:52.959Z"
   },
   {
    "duration": 8274,
    "start_time": "2021-10-05T06:05:52.968Z"
   },
   {
    "duration": -321,
    "start_time": "2021-10-05T06:06:01.565Z"
   },
   {
    "duration": -323,
    "start_time": "2021-10-05T06:06:01.569Z"
   },
   {
    "duration": -343,
    "start_time": "2021-10-05T06:06:01.591Z"
   },
   {
    "duration": -354,
    "start_time": "2021-10-05T06:06:01.604Z"
   },
   {
    "duration": -358,
    "start_time": "2021-10-05T06:06:01.610Z"
   },
   {
    "duration": -361,
    "start_time": "2021-10-05T06:06:01.615Z"
   },
   {
    "duration": -364,
    "start_time": "2021-10-05T06:06:01.620Z"
   },
   {
    "duration": 36,
    "start_time": "2021-10-05T06:06:54.890Z"
   },
   {
    "duration": 37,
    "start_time": "2021-10-05T06:07:01.992Z"
   },
   {
    "duration": 7,
    "start_time": "2021-10-05T06:07:06.509Z"
   },
   {
    "duration": 5,
    "start_time": "2021-10-05T06:07:12.526Z"
   },
   {
    "duration": 7,
    "start_time": "2021-10-05T06:07:26.426Z"
   },
   {
    "duration": 8,
    "start_time": "2021-10-05T06:07:33.756Z"
   },
   {
    "duration": 254,
    "start_time": "2021-10-05T06:07:39.977Z"
   },
   {
    "duration": 5946,
    "start_time": "2021-10-05T06:09:02.481Z"
   },
   {
    "duration": 6,
    "start_time": "2021-10-05T06:09:36.663Z"
   },
   {
    "duration": 8,
    "start_time": "2021-10-05T06:09:37.893Z"
   },
   {
    "duration": 6,
    "start_time": "2021-10-05T06:09:39.408Z"
   },
   {
    "duration": 246,
    "start_time": "2021-10-05T06:09:41.410Z"
   },
   {
    "duration": 6,
    "start_time": "2021-10-05T06:09:44.792Z"
   },
   {
    "duration": 265,
    "start_time": "2021-10-05T06:09:46.731Z"
   },
   {
    "duration": 8,
    "start_time": "2021-10-05T06:09:48.489Z"
   },
   {
    "duration": 262,
    "start_time": "2021-10-05T06:09:51.376Z"
   },
   {
    "duration": 7,
    "start_time": "2021-10-05T06:10:56.988Z"
   },
   {
    "duration": 1437,
    "start_time": "2021-10-05T17:21:52.401Z"
   },
   {
    "duration": 716,
    "start_time": "2021-10-05T17:21:53.841Z"
   },
   {
    "duration": 19,
    "start_time": "2021-10-05T17:21:54.559Z"
   },
   {
    "duration": 11,
    "start_time": "2021-10-05T17:21:54.581Z"
   },
   {
    "duration": 21,
    "start_time": "2021-10-05T17:21:54.594Z"
   },
   {
    "duration": 10,
    "start_time": "2021-10-05T17:21:54.617Z"
   },
   {
    "duration": 63,
    "start_time": "2021-10-05T17:21:54.630Z"
   },
   {
    "duration": 20,
    "start_time": "2021-10-05T17:21:54.697Z"
   },
   {
    "duration": 10,
    "start_time": "2021-10-05T17:21:54.720Z"
   },
   {
    "duration": 51,
    "start_time": "2021-10-05T17:21:54.733Z"
   },
   {
    "duration": 15,
    "start_time": "2021-10-05T17:21:54.786Z"
   },
   {
    "duration": 11,
    "start_time": "2021-10-05T17:21:54.804Z"
   },
   {
    "duration": 10,
    "start_time": "2021-10-05T17:21:54.817Z"
   },
   {
    "duration": 12,
    "start_time": "2021-10-05T17:21:54.829Z"
   },
   {
    "duration": 18,
    "start_time": "2021-10-05T17:21:54.883Z"
   },
   {
    "duration": 84,
    "start_time": "2021-10-05T17:21:54.903Z"
   },
   {
    "duration": 3,
    "start_time": "2021-10-05T17:21:54.989Z"
   },
   {
    "duration": 20,
    "start_time": "2021-10-05T17:21:54.994Z"
   },
   {
    "duration": 170,
    "start_time": "2021-10-05T17:21:55.016Z"
   },
   {
    "duration": 12,
    "start_time": "2021-10-05T17:21:55.188Z"
   },
   {
    "duration": 164,
    "start_time": "2021-10-05T17:21:55.203Z"
   },
   {
    "duration": 674,
    "start_time": "2021-10-05T17:21:55.370Z"
   },
   {
    "duration": 48,
    "start_time": "2021-10-05T17:21:56.051Z"
   },
   {
    "duration": 49,
    "start_time": "2021-10-05T17:21:56.103Z"
   },
   {
    "duration": 62,
    "start_time": "2021-10-05T17:21:56.155Z"
   },
   {
    "duration": 22,
    "start_time": "2021-10-05T17:21:56.220Z"
   },
   {
    "duration": 122,
    "start_time": "2021-10-05T17:21:56.244Z"
   },
   {
    "duration": 33,
    "start_time": "2021-10-05T17:21:56.368Z"
   },
   {
    "duration": 46,
    "start_time": "2021-10-05T17:21:56.404Z"
   },
   {
    "duration": 5,
    "start_time": "2021-10-05T17:21:56.452Z"
   },
   {
    "duration": 27,
    "start_time": "2021-10-05T17:21:56.483Z"
   },
   {
    "duration": 10,
    "start_time": "2021-10-05T17:21:56.512Z"
   },
   {
    "duration": 90,
    "start_time": "2021-10-05T17:21:56.525Z"
   },
   {
    "duration": 10,
    "start_time": "2021-10-05T17:21:56.617Z"
   },
   {
    "duration": 6,
    "start_time": "2021-10-05T17:21:56.629Z"
   },
   {
    "duration": 19,
    "start_time": "2021-10-05T17:21:56.637Z"
   },
   {
    "duration": 32,
    "start_time": "2021-10-05T17:21:56.658Z"
   },
   {
    "duration": 7,
    "start_time": "2021-10-05T17:21:56.692Z"
   },
   {
    "duration": 423,
    "start_time": "2021-10-05T17:21:56.701Z"
   },
   {
    "duration": 8,
    "start_time": "2021-10-05T17:21:57.127Z"
   },
   {
    "duration": 404,
    "start_time": "2021-10-05T17:21:57.137Z"
   },
   {
    "duration": 13,
    "start_time": "2021-10-05T17:21:57.544Z"
   },
   {
    "duration": 526,
    "start_time": "2021-10-05T17:21:57.559Z"
   },
   {
    "duration": 11,
    "start_time": "2021-10-05T17:21:58.087Z"
   },
   {
    "duration": 107,
    "start_time": "2021-10-05T17:21:58.100Z"
   },
   {
    "duration": -442,
    "start_time": "2021-10-05T17:21:58.651Z"
   },
   {
    "duration": -444,
    "start_time": "2021-10-05T17:21:58.655Z"
   },
   {
    "duration": -447,
    "start_time": "2021-10-05T17:21:58.659Z"
   },
   {
    "duration": -449,
    "start_time": "2021-10-05T17:21:58.663Z"
   },
   {
    "duration": -451,
    "start_time": "2021-10-05T17:21:58.667Z"
   },
   {
    "duration": 11,
    "start_time": "2021-10-05T17:30:12.779Z"
   },
   {
    "duration": 11,
    "start_time": "2021-10-05T17:30:26.150Z"
   },
   {
    "duration": 7958,
    "start_time": "2021-10-05T17:38:33.024Z"
   },
   {
    "duration": 396,
    "start_time": "2021-10-05T17:39:25.450Z"
   },
   {
    "duration": 392,
    "start_time": "2021-10-05T18:06:56.494Z"
   },
   {
    "duration": 11,
    "start_time": "2021-10-05T18:07:28.291Z"
   },
   {
    "duration": 412,
    "start_time": "2021-10-05T18:10:00.199Z"
   },
   {
    "duration": 396,
    "start_time": "2021-10-05T18:10:25.866Z"
   },
   {
    "duration": 15,
    "start_time": "2021-10-05T18:10:54.152Z"
   },
   {
    "duration": 18,
    "start_time": "2021-10-05T18:11:11.513Z"
   },
   {
    "duration": 9584,
    "start_time": "2021-10-05T18:12:09.071Z"
   },
   {
    "duration": 11,
    "start_time": "2021-10-05T18:18:35.262Z"
   },
   {
    "duration": 11,
    "start_time": "2021-10-05T18:27:19.623Z"
   },
   {
    "duration": 153,
    "start_time": "2021-10-05T18:31:30.820Z"
   },
   {
    "duration": 72,
    "start_time": "2021-10-05T18:31:53.028Z"
   },
   {
    "duration": 71,
    "start_time": "2021-10-05T18:32:02.848Z"
   },
   {
    "duration": 18,
    "start_time": "2021-10-05T18:33:59.760Z"
   },
   {
    "duration": 9,
    "start_time": "2021-10-05T18:34:13.661Z"
   },
   {
    "duration": 69,
    "start_time": "2021-10-05T18:47:58.874Z"
   },
   {
    "duration": 18,
    "start_time": "2021-10-05T18:59:11.463Z"
   },
   {
    "duration": 406,
    "start_time": "2021-10-05T18:59:31.476Z"
   },
   {
    "duration": 373,
    "start_time": "2021-10-05T18:59:35.692Z"
   },
   {
    "duration": 316,
    "start_time": "2021-10-05T18:59:43.423Z"
   },
   {
    "duration": 374,
    "start_time": "2021-10-05T18:59:49.130Z"
   },
   {
    "duration": 705,
    "start_time": "2021-10-05T19:00:12.110Z"
   },
   {
    "duration": 367,
    "start_time": "2021-10-05T19:00:27.271Z"
   },
   {
    "duration": 471,
    "start_time": "2021-10-05T19:01:07.096Z"
   },
   {
    "duration": 512,
    "start_time": "2021-10-05T19:01:24.891Z"
   },
   {
    "duration": 330,
    "start_time": "2021-10-05T19:04:22.530Z"
   },
   {
    "duration": 8188,
    "start_time": "2021-10-05T19:04:34.082Z"
   },
   {
    "duration": 9444,
    "start_time": "2021-10-05T19:05:20.018Z"
   },
   {
    "duration": 17,
    "start_time": "2021-10-05T19:05:49.755Z"
   },
   {
    "duration": 9,
    "start_time": "2021-10-05T19:06:13.208Z"
   },
   {
    "duration": 17,
    "start_time": "2021-10-05T19:06:14.670Z"
   },
   {
    "duration": 18,
    "start_time": "2021-10-05T19:06:16.735Z"
   },
   {
    "duration": 9,
    "start_time": "2021-10-05T19:06:21.675Z"
   },
   {
    "duration": 43,
    "start_time": "2021-10-05T19:07:57.458Z"
   },
   {
    "duration": 42,
    "start_time": "2021-10-05T19:08:22.516Z"
   },
   {
    "duration": 5,
    "start_time": "2021-10-05T19:08:46.202Z"
   },
   {
    "duration": 5,
    "start_time": "2021-10-05T19:11:53.708Z"
   },
   {
    "duration": 15,
    "start_time": "2021-10-05T19:14:04.421Z"
   },
   {
    "duration": 14,
    "start_time": "2021-10-05T19:14:06.436Z"
   },
   {
    "duration": 8,
    "start_time": "2021-10-05T19:14:13.771Z"
   },
   {
    "duration": 7,
    "start_time": "2021-10-05T19:14:20.907Z"
   },
   {
    "duration": 6,
    "start_time": "2021-10-05T19:14:24.170Z"
   },
   {
    "duration": 7,
    "start_time": "2021-10-05T19:14:31.820Z"
   },
   {
    "duration": 8,
    "start_time": "2021-10-05T19:14:37.611Z"
   },
   {
    "duration": 7,
    "start_time": "2021-10-05T19:14:43.433Z"
   },
   {
    "duration": 7,
    "start_time": "2021-10-05T19:14:48.390Z"
   },
   {
    "duration": 6,
    "start_time": "2021-10-05T19:14:49.440Z"
   },
   {
    "duration": 8,
    "start_time": "2021-10-05T19:15:07.839Z"
   },
   {
    "duration": 7,
    "start_time": "2021-10-05T19:15:10.591Z"
   },
   {
    "duration": 6,
    "start_time": "2021-10-05T19:15:29.446Z"
   },
   {
    "duration": 31,
    "start_time": "2021-10-05T19:19:25.007Z"
   },
   {
    "duration": 46,
    "start_time": "2021-10-05T19:22:22.548Z"
   },
   {
    "duration": 12,
    "start_time": "2021-10-05T19:23:45.367Z"
   },
   {
    "duration": 337,
    "start_time": "2021-10-05T19:24:16.132Z"
   },
   {
    "duration": 234,
    "start_time": "2021-10-05T19:24:19.666Z"
   },
   {
    "duration": 239,
    "start_time": "2021-10-05T19:24:53.557Z"
   },
   {
    "duration": 349,
    "start_time": "2021-10-05T19:26:39.523Z"
   },
   {
    "duration": 12,
    "start_time": "2021-10-05T19:26:44.538Z"
   },
   {
    "duration": 5,
    "start_time": "2021-10-05T19:27:44.760Z"
   },
   {
    "duration": 248,
    "start_time": "2021-10-05T19:28:04.057Z"
   },
   {
    "duration": 261,
    "start_time": "2021-10-05T19:28:25.786Z"
   },
   {
    "duration": 350,
    "start_time": "2021-10-05T19:28:30.658Z"
   },
   {
    "duration": 640,
    "start_time": "2021-10-05T19:28:48.727Z"
   },
   {
    "duration": 307,
    "start_time": "2021-10-05T19:28:52.594Z"
   },
   {
    "duration": 230,
    "start_time": "2021-10-05T19:30:34.818Z"
   },
   {
    "duration": 229,
    "start_time": "2021-10-05T19:30:36.204Z"
   },
   {
    "duration": 208,
    "start_time": "2021-10-05T19:30:44.740Z"
   },
   {
    "duration": 10,
    "start_time": "2021-10-05T19:31:29.564Z"
   },
   {
    "duration": 16,
    "start_time": "2021-10-05T19:31:48.631Z"
   },
   {
    "duration": 645,
    "start_time": "2021-10-05T19:33:13.928Z"
   },
   {
    "duration": 117,
    "start_time": "2021-10-05T19:33:37.204Z"
   },
   {
    "duration": 2116,
    "start_time": "2021-10-05T19:33:43.771Z"
   },
   {
    "duration": 1986,
    "start_time": "2021-10-05T19:33:53.665Z"
   },
   {
    "duration": 1657,
    "start_time": "2021-10-05T19:34:12.333Z"
   },
   {
    "duration": 1108,
    "start_time": "2021-10-05T19:34:24.333Z"
   },
   {
    "duration": 12,
    "start_time": "2021-10-05T19:35:08.060Z"
   },
   {
    "duration": 1015,
    "start_time": "2021-10-05T19:35:29.447Z"
   },
   {
    "duration": 630,
    "start_time": "2021-10-05T19:38:44.812Z"
   },
   {
    "duration": 328,
    "start_time": "2021-10-05T19:38:52.396Z"
   },
   {
    "duration": 2770,
    "start_time": "2021-10-05T19:39:04.790Z"
   },
   {
    "duration": 321,
    "start_time": "2021-10-05T19:40:53.004Z"
   },
   {
    "duration": 4028,
    "start_time": "2021-10-05T19:41:02.879Z"
   },
   {
    "duration": 11,
    "start_time": "2021-10-05T19:46:52.759Z"
   },
   {
    "duration": 472,
    "start_time": "2021-10-05T19:51:33.600Z"
   },
   {
    "duration": 277,
    "start_time": "2021-10-05T19:54:45.875Z"
   },
   {
    "duration": 367,
    "start_time": "2021-10-05T19:55:01.091Z"
   },
   {
    "duration": 337,
    "start_time": "2021-10-05T19:55:52.670Z"
   },
   {
    "duration": 549,
    "start_time": "2021-10-05T19:57:28.618Z"
   },
   {
    "duration": 376,
    "start_time": "2021-10-05T19:58:01.001Z"
   },
   {
    "duration": 338,
    "start_time": "2021-10-05T19:58:11.765Z"
   },
   {
    "duration": 329,
    "start_time": "2021-10-05T19:58:15.249Z"
   },
   {
    "duration": 862,
    "start_time": "2021-10-05T20:01:14.765Z"
   },
   {
    "duration": 637,
    "start_time": "2021-10-05T20:01:24.234Z"
   },
   {
    "duration": 1528,
    "start_time": "2021-10-05T20:01:36.240Z"
   },
   {
    "duration": 593,
    "start_time": "2021-10-05T20:01:37.770Z"
   },
   {
    "duration": 22,
    "start_time": "2021-10-05T20:01:38.366Z"
   },
   {
    "duration": 23,
    "start_time": "2021-10-05T20:01:38.392Z"
   },
   {
    "duration": 31,
    "start_time": "2021-10-05T20:01:38.419Z"
   },
   {
    "duration": 31,
    "start_time": "2021-10-05T20:01:38.453Z"
   },
   {
    "duration": 33,
    "start_time": "2021-10-05T20:01:38.487Z"
   },
   {
    "duration": 21,
    "start_time": "2021-10-05T20:01:38.524Z"
   },
   {
    "duration": 37,
    "start_time": "2021-10-05T20:01:38.548Z"
   },
   {
    "duration": 35,
    "start_time": "2021-10-05T20:01:38.588Z"
   },
   {
    "duration": 26,
    "start_time": "2021-10-05T20:01:38.625Z"
   },
   {
    "duration": 17,
    "start_time": "2021-10-05T20:01:38.653Z"
   },
   {
    "duration": 8,
    "start_time": "2021-10-05T20:01:38.683Z"
   },
   {
    "duration": 21,
    "start_time": "2021-10-05T20:01:38.694Z"
   },
   {
    "duration": 32,
    "start_time": "2021-10-05T20:01:38.717Z"
   },
   {
    "duration": 91,
    "start_time": "2021-10-05T20:01:38.751Z"
   },
   {
    "duration": 3,
    "start_time": "2021-10-05T20:01:38.844Z"
   },
   {
    "duration": 34,
    "start_time": "2021-10-05T20:01:38.849Z"
   },
   {
    "duration": 160,
    "start_time": "2021-10-05T20:01:38.886Z"
   },
   {
    "duration": 12,
    "start_time": "2021-10-05T20:01:39.048Z"
   },
   {
    "duration": 154,
    "start_time": "2021-10-05T20:01:39.062Z"
   },
   {
    "duration": 690,
    "start_time": "2021-10-05T20:01:39.218Z"
   },
   {
    "duration": 34,
    "start_time": "2021-10-05T20:01:39.914Z"
   },
   {
    "duration": 83,
    "start_time": "2021-10-05T20:01:39.952Z"
   },
   {
    "duration": 55,
    "start_time": "2021-10-05T20:01:40.038Z"
   },
   {
    "duration": 23,
    "start_time": "2021-10-05T20:01:40.096Z"
   },
   {
    "duration": 125,
    "start_time": "2021-10-05T20:01:40.122Z"
   },
   {
    "duration": 39,
    "start_time": "2021-10-05T20:01:40.250Z"
   },
   {
    "duration": 46,
    "start_time": "2021-10-05T20:01:40.292Z"
   },
   {
    "duration": 4,
    "start_time": "2021-10-05T20:01:40.341Z"
   },
   {
    "duration": 57,
    "start_time": "2021-10-05T20:01:40.347Z"
   },
   {
    "duration": 13,
    "start_time": "2021-10-05T20:01:40.406Z"
   },
   {
    "duration": 66,
    "start_time": "2021-10-05T20:01:40.422Z"
   },
   {
    "duration": 9,
    "start_time": "2021-10-05T20:01:40.490Z"
   },
   {
    "duration": 13,
    "start_time": "2021-10-05T20:01:40.502Z"
   },
   {
    "duration": 39,
    "start_time": "2021-10-05T20:01:40.517Z"
   },
   {
    "duration": 6,
    "start_time": "2021-10-05T20:01:40.558Z"
   },
   {
    "duration": 30,
    "start_time": "2021-10-05T20:01:40.566Z"
   },
   {
    "duration": 9,
    "start_time": "2021-10-05T20:01:40.598Z"
   },
   {
    "duration": 19,
    "start_time": "2021-10-05T20:01:40.610Z"
   },
   {
    "duration": 19,
    "start_time": "2021-10-05T20:01:40.632Z"
   },
   {
    "duration": 18,
    "start_time": "2021-10-05T20:01:40.654Z"
   },
   {
    "duration": 79,
    "start_time": "2021-10-05T20:01:40.683Z"
   },
   {
    "duration": 94,
    "start_time": "2021-10-05T20:01:40.765Z"
   },
   {
    "duration": 1851,
    "start_time": "2021-10-05T20:01:40.861Z"
   },
   {
    "duration": 513,
    "start_time": "2021-10-05T20:01:42.715Z"
   },
   {
    "duration": 12,
    "start_time": "2021-10-05T20:01:43.231Z"
   },
   {
    "duration": 430,
    "start_time": "2021-10-05T20:01:43.246Z"
   },
   {
    "duration": 12,
    "start_time": "2021-10-05T20:01:43.683Z"
   },
   {
    "duration": 526,
    "start_time": "2021-10-05T20:01:43.697Z"
   },
   {
    "duration": 11,
    "start_time": "2021-10-05T20:01:44.226Z"
   },
   {
    "duration": 451,
    "start_time": "2021-10-05T20:01:44.239Z"
   },
   {
    "duration": 12,
    "start_time": "2021-10-05T20:01:44.692Z"
   },
   {
    "duration": 15,
    "start_time": "2021-10-05T20:04:44.225Z"
   },
   {
    "duration": 14,
    "start_time": "2021-10-05T20:05:11.093Z"
   },
   {
    "duration": 14,
    "start_time": "2021-10-05T20:05:20.777Z"
   },
   {
    "duration": 35,
    "start_time": "2021-10-05T20:05:34.921Z"
   },
   {
    "duration": 16,
    "start_time": "2021-10-05T20:05:41.485Z"
   },
   {
    "duration": 16,
    "start_time": "2021-10-05T20:05:59.969Z"
   },
   {
    "duration": 422,
    "start_time": "2021-10-05T20:06:08.319Z"
   },
   {
    "duration": 10,
    "start_time": "2021-10-05T20:06:11.760Z"
   },
   {
    "duration": 7,
    "start_time": "2021-10-05T20:06:28.657Z"
   },
   {
    "duration": 8,
    "start_time": "2021-10-05T20:06:45.180Z"
   },
   {
    "duration": 8,
    "start_time": "2021-10-05T20:06:50.098Z"
   },
   {
    "duration": 6,
    "start_time": "2021-10-05T20:07:17.454Z"
   },
   {
    "duration": 8,
    "start_time": "2021-10-05T20:08:37.943Z"
   },
   {
    "duration": 7,
    "start_time": "2021-10-05T20:08:55.103Z"
   },
   {
    "duration": 130,
    "start_time": "2021-10-05T20:09:10.366Z"
   },
   {
    "duration": 12,
    "start_time": "2021-10-05T20:09:20.584Z"
   },
   {
    "duration": 6,
    "start_time": "2021-10-05T20:11:41.805Z"
   },
   {
    "duration": 436,
    "start_time": "2021-10-05T20:12:29.432Z"
   },
   {
    "duration": 19,
    "start_time": "2021-10-05T20:12:33.056Z"
   },
   {
    "duration": 19,
    "start_time": "2021-10-05T20:12:49.407Z"
   },
   {
    "duration": 10578,
    "start_time": "2021-10-05T20:34:22.520Z"
   },
   {
    "duration": 305,
    "start_time": "2021-10-05T21:38:11.484Z"
   },
   {
    "duration": 292,
    "start_time": "2021-10-05T21:38:31.130Z"
   },
   {
    "duration": 310,
    "start_time": "2021-10-05T21:40:06.838Z"
   },
   {
    "duration": 295,
    "start_time": "2021-10-05T21:40:23.204Z"
   },
   {
    "duration": 376,
    "start_time": "2021-10-05T21:40:31.502Z"
   },
   {
    "duration": 7457,
    "start_time": "2021-10-05T21:40:42.456Z"
   },
   {
    "duration": 43,
    "start_time": "2021-10-05T21:41:14.376Z"
   },
   {
    "duration": 48,
    "start_time": "2021-10-05T21:49:54.091Z"
   },
   {
    "duration": 678,
    "start_time": "2021-10-05T22:07:08.748Z"
   },
   {
    "duration": 241,
    "start_time": "2021-10-05T22:07:20.821Z"
   },
   {
    "duration": 300,
    "start_time": "2021-10-05T22:08:03.986Z"
   },
   {
    "duration": 331,
    "start_time": "2021-10-05T22:08:11.478Z"
   },
   {
    "duration": 362,
    "start_time": "2021-10-05T22:09:04.065Z"
   },
   {
    "duration": 12,
    "start_time": "2021-10-05T22:09:17.315Z"
   },
   {
    "duration": 14,
    "start_time": "2021-10-05T22:10:58.370Z"
   },
   {
    "duration": 39,
    "start_time": "2021-10-05T22:14:50.602Z"
   },
   {
    "duration": 149,
    "start_time": "2021-10-05T22:21:11.003Z"
   },
   {
    "duration": 13,
    "start_time": "2021-10-05T22:23:00.991Z"
   },
   {
    "duration": 501,
    "start_time": "2021-10-05T22:23:36.147Z"
   },
   {
    "duration": 12250,
    "start_time": "2021-10-05T22:35:21.392Z"
   },
   {
    "duration": 7,
    "start_time": "2021-10-05T22:35:41.027Z"
   },
   {
    "duration": 8,
    "start_time": "2021-10-05T22:39:34.737Z"
   },
   {
    "duration": 8,
    "start_time": "2021-10-05T22:39:37.532Z"
   },
   {
    "duration": 7,
    "start_time": "2021-10-05T22:39:41.620Z"
   },
   {
    "duration": 325,
    "start_time": "2021-10-05T22:43:06.796Z"
   },
   {
    "duration": 12,
    "start_time": "2021-10-05T22:43:28.618Z"
   },
   {
    "duration": 7,
    "start_time": "2021-10-05T22:43:54.683Z"
   },
   {
    "duration": 8,
    "start_time": "2021-10-05T22:44:00.335Z"
   },
   {
    "duration": 7,
    "start_time": "2021-10-05T22:44:10.356Z"
   },
   {
    "duration": 305,
    "start_time": "2021-10-05T22:47:40.413Z"
   },
   {
    "duration": 135,
    "start_time": "2021-10-05T22:47:46.921Z"
   },
   {
    "duration": 21,
    "start_time": "2021-10-05T22:48:10.194Z"
   },
   {
    "duration": 34,
    "start_time": "2021-10-05T22:49:19.200Z"
   },
   {
    "duration": 391,
    "start_time": "2021-10-05T22:50:23.000Z"
   },
   {
    "duration": 33,
    "start_time": "2021-10-05T22:51:12.688Z"
   },
   {
    "duration": 11041,
    "start_time": "2021-10-05T22:51:42.148Z"
   },
   {
    "duration": 40,
    "start_time": "2021-10-05T22:54:24.538Z"
   },
   {
    "duration": 41,
    "start_time": "2021-10-05T22:54:42.120Z"
   },
   {
    "duration": 42,
    "start_time": "2021-10-05T22:55:48.745Z"
   },
   {
    "duration": 98,
    "start_time": "2021-10-05T22:57:22.353Z"
   },
   {
    "duration": 98,
    "start_time": "2021-10-05T22:57:27.680Z"
   },
   {
    "duration": 12352,
    "start_time": "2021-10-05T22:57:34.474Z"
   },
   {
    "duration": 421,
    "start_time": "2021-10-05T22:57:57.789Z"
   },
   {
    "duration": 8,
    "start_time": "2021-10-05T23:04:13.073Z"
   },
   {
    "duration": 8,
    "start_time": "2021-10-05T23:12:55.676Z"
   },
   {
    "duration": 8,
    "start_time": "2021-10-05T23:12:59.519Z"
   },
   {
    "duration": 312,
    "start_time": "2021-10-05T23:17:56.922Z"
   },
   {
    "duration": 14,
    "start_time": "2021-10-05T23:18:03.296Z"
   },
   {
    "duration": 6,
    "start_time": "2021-10-05T23:18:05.662Z"
   },
   {
    "duration": 7,
    "start_time": "2021-10-05T23:18:08.651Z"
   },
   {
    "duration": 6,
    "start_time": "2021-10-05T23:18:12.959Z"
   },
   {
    "duration": 342,
    "start_time": "2021-10-05T23:18:15.873Z"
   },
   {
    "duration": 36,
    "start_time": "2021-10-05T23:19:31.522Z"
   },
   {
    "duration": 369,
    "start_time": "2021-10-05T23:20:32.321Z"
   },
   {
    "duration": 321,
    "start_time": "2021-10-05T23:21:06.013Z"
   },
   {
    "duration": 365,
    "start_time": "2021-10-05T23:21:26.545Z"
   },
   {
    "duration": 519,
    "start_time": "2021-10-05T23:21:51.027Z"
   },
   {
    "duration": 400,
    "start_time": "2021-10-05T23:26:02.206Z"
   },
   {
    "duration": 7,
    "start_time": "2021-10-05T23:26:46.931Z"
   },
   {
    "duration": 11,
    "start_time": "2021-10-05T23:27:03.464Z"
   },
   {
    "duration": 7,
    "start_time": "2021-10-05T23:27:05.556Z"
   },
   {
    "duration": 25,
    "start_time": "2021-10-05T23:27:17.284Z"
   },
   {
    "duration": 7,
    "start_time": "2021-10-05T23:27:27.571Z"
   },
   {
    "duration": 8,
    "start_time": "2021-10-05T23:27:39.769Z"
   },
   {
    "duration": 324,
    "start_time": "2021-10-05T23:28:28.453Z"
   },
   {
    "duration": 40,
    "start_time": "2021-10-05T23:28:42.064Z"
   },
   {
    "duration": 7,
    "start_time": "2021-10-05T23:30:55.127Z"
   },
   {
    "duration": 1454,
    "start_time": "2021-10-05T23:31:41.298Z"
   },
   {
    "duration": 546,
    "start_time": "2021-10-05T23:31:42.755Z"
   },
   {
    "duration": 20,
    "start_time": "2021-10-05T23:31:43.304Z"
   },
   {
    "duration": 21,
    "start_time": "2021-10-05T23:31:43.326Z"
   },
   {
    "duration": 30,
    "start_time": "2021-10-05T23:31:43.350Z"
   },
   {
    "duration": 15,
    "start_time": "2021-10-05T23:31:43.382Z"
   },
   {
    "duration": 42,
    "start_time": "2021-10-05T23:31:43.399Z"
   },
   {
    "duration": 19,
    "start_time": "2021-10-05T23:31:43.445Z"
   },
   {
    "duration": 22,
    "start_time": "2021-10-05T23:31:43.467Z"
   },
   {
    "duration": 29,
    "start_time": "2021-10-05T23:31:43.492Z"
   },
   {
    "duration": 17,
    "start_time": "2021-10-05T23:31:43.524Z"
   },
   {
    "duration": 39,
    "start_time": "2021-10-05T23:31:43.543Z"
   },
   {
    "duration": 9,
    "start_time": "2021-10-05T23:31:43.585Z"
   },
   {
    "duration": 20,
    "start_time": "2021-10-05T23:31:43.597Z"
   },
   {
    "duration": 31,
    "start_time": "2021-10-05T23:31:43.619Z"
   },
   {
    "duration": 91,
    "start_time": "2021-10-05T23:31:43.652Z"
   },
   {
    "duration": 3,
    "start_time": "2021-10-05T23:31:43.745Z"
   },
   {
    "duration": 31,
    "start_time": "2021-10-05T23:31:43.750Z"
   },
   {
    "duration": 147,
    "start_time": "2021-10-05T23:31:43.783Z"
   },
   {
    "duration": 13,
    "start_time": "2021-10-05T23:31:43.932Z"
   },
   {
    "duration": 153,
    "start_time": "2021-10-05T23:31:43.948Z"
   },
   {
    "duration": 705,
    "start_time": "2021-10-05T23:31:44.104Z"
   },
   {
    "duration": 32,
    "start_time": "2021-10-05T23:31:44.815Z"
   },
   {
    "duration": 71,
    "start_time": "2021-10-05T23:31:44.853Z"
   },
   {
    "duration": 56,
    "start_time": "2021-10-05T23:31:44.926Z"
   },
   {
    "duration": 23,
    "start_time": "2021-10-05T23:31:44.985Z"
   },
   {
    "duration": 118,
    "start_time": "2021-10-05T23:31:45.011Z"
   },
   {
    "duration": 26,
    "start_time": "2021-10-05T23:31:45.132Z"
   },
   {
    "duration": 44,
    "start_time": "2021-10-05T23:31:45.181Z"
   },
   {
    "duration": 5,
    "start_time": "2021-10-05T23:31:45.228Z"
   },
   {
    "duration": 55,
    "start_time": "2021-10-05T23:31:45.236Z"
   },
   {
    "duration": 10,
    "start_time": "2021-10-05T23:31:45.293Z"
   },
   {
    "duration": 55,
    "start_time": "2021-10-05T23:31:45.305Z"
   },
   {
    "duration": 27,
    "start_time": "2021-10-05T23:31:45.362Z"
   },
   {
    "duration": 16,
    "start_time": "2021-10-05T23:31:45.391Z"
   },
   {
    "duration": 39,
    "start_time": "2021-10-05T23:31:45.410Z"
   },
   {
    "duration": 6,
    "start_time": "2021-10-05T23:31:45.451Z"
   },
   {
    "duration": 35,
    "start_time": "2021-10-05T23:31:45.459Z"
   },
   {
    "duration": 22,
    "start_time": "2021-10-05T23:31:45.497Z"
   },
   {
    "duration": 12,
    "start_time": "2021-10-05T23:31:45.521Z"
   },
   {
    "duration": 15,
    "start_time": "2021-10-05T23:31:45.535Z"
   },
   {
    "duration": 12,
    "start_time": "2021-10-05T23:31:45.552Z"
   },
   {
    "duration": 85,
    "start_time": "2021-10-05T23:31:45.566Z"
   },
   {
    "duration": 89,
    "start_time": "2021-10-05T23:31:45.654Z"
   },
   {
    "duration": 1773,
    "start_time": "2021-10-05T23:31:45.746Z"
   },
   {
    "duration": 504,
    "start_time": "2021-10-05T23:31:47.522Z"
   },
   {
    "duration": 12,
    "start_time": "2021-10-05T23:31:48.029Z"
   },
   {
    "duration": 407,
    "start_time": "2021-10-05T23:31:48.043Z"
   },
   {
    "duration": 11,
    "start_time": "2021-10-05T23:31:48.453Z"
   },
   {
    "duration": 412,
    "start_time": "2021-10-05T23:31:48.466Z"
   },
   {
    "duration": 10,
    "start_time": "2021-10-05T23:31:48.883Z"
   },
   {
    "duration": 414,
    "start_time": "2021-10-05T23:31:48.895Z"
   },
   {
    "duration": 11,
    "start_time": "2021-10-05T23:31:49.312Z"
   },
   {
    "duration": 21,
    "start_time": "2021-10-05T23:31:49.325Z"
   },
   {
    "duration": 17,
    "start_time": "2021-10-05T23:31:49.349Z"
   },
   {
    "duration": 15,
    "start_time": "2021-10-05T23:31:49.382Z"
   },
   {
    "duration": 32,
    "start_time": "2021-10-05T23:31:49.399Z"
   },
   {
    "duration": 641,
    "start_time": "2021-10-05T23:31:49.434Z"
   },
   {
    "duration": -709,
    "start_time": "2021-10-05T23:31:50.787Z"
   },
   {
    "duration": -714,
    "start_time": "2021-10-05T23:31:50.794Z"
   },
   {
    "duration": -718,
    "start_time": "2021-10-05T23:31:50.799Z"
   },
   {
    "duration": -726,
    "start_time": "2021-10-05T23:31:50.808Z"
   },
   {
    "duration": -729,
    "start_time": "2021-10-05T23:31:50.813Z"
   },
   {
    "duration": -733,
    "start_time": "2021-10-05T23:31:50.818Z"
   },
   {
    "duration": -736,
    "start_time": "2021-10-05T23:31:50.823Z"
   },
   {
    "duration": -740,
    "start_time": "2021-10-05T23:31:50.828Z"
   },
   {
    "duration": -744,
    "start_time": "2021-10-05T23:31:50.833Z"
   },
   {
    "duration": -748,
    "start_time": "2021-10-05T23:31:50.838Z"
   },
   {
    "duration": -751,
    "start_time": "2021-10-05T23:31:50.843Z"
   },
   {
    "duration": -756,
    "start_time": "2021-10-05T23:31:50.849Z"
   },
   {
    "duration": -760,
    "start_time": "2021-10-05T23:31:50.854Z"
   },
   {
    "duration": 828,
    "start_time": "2021-10-05T23:32:47.523Z"
   },
   {
    "duration": 7,
    "start_time": "2021-10-05T23:33:50.513Z"
   },
   {
    "duration": 302,
    "start_time": "2021-10-05T23:34:17.531Z"
   },
   {
    "duration": 309,
    "start_time": "2021-10-05T23:34:38.708Z"
   },
   {
    "duration": 329,
    "start_time": "2021-10-05T23:34:57.641Z"
   },
   {
    "duration": 43,
    "start_time": "2021-10-05T23:35:04.951Z"
   },
   {
    "duration": 15,
    "start_time": "2021-10-05T23:35:08.536Z"
   },
   {
    "duration": 14,
    "start_time": "2021-10-05T23:35:10.118Z"
   },
   {
    "duration": 384,
    "start_time": "2021-10-05T23:35:11.998Z"
   },
   {
    "duration": 8,
    "start_time": "2021-10-05T23:35:15.389Z"
   },
   {
    "duration": 41,
    "start_time": "2021-10-05T23:35:47.635Z"
   },
   {
    "duration": 40,
    "start_time": "2021-10-05T23:36:23.563Z"
   },
   {
    "duration": 8,
    "start_time": "2021-10-05T23:37:01.686Z"
   },
   {
    "duration": 8,
    "start_time": "2021-10-05T23:37:14.779Z"
   },
   {
    "duration": 8,
    "start_time": "2021-10-05T23:37:21.313Z"
   },
   {
    "duration": 12,
    "start_time": "2021-10-05T23:37:40.281Z"
   },
   {
    "duration": 339,
    "start_time": "2021-10-05T23:39:20.927Z"
   },
   {
    "duration": 34,
    "start_time": "2021-10-05T23:40:14.813Z"
   },
   {
    "duration": 12,
    "start_time": "2021-10-05T23:41:16.187Z"
   },
   {
    "duration": 372,
    "start_time": "2021-10-05T23:41:25.990Z"
   },
   {
    "duration": 1429,
    "start_time": "2021-10-05T23:43:03.625Z"
   },
   {
    "duration": 564,
    "start_time": "2021-10-05T23:43:05.057Z"
   },
   {
    "duration": 19,
    "start_time": "2021-10-05T23:43:05.624Z"
   },
   {
    "duration": 17,
    "start_time": "2021-10-05T23:43:05.646Z"
   },
   {
    "duration": 23,
    "start_time": "2021-10-05T23:43:05.665Z"
   },
   {
    "duration": 10,
    "start_time": "2021-10-05T23:43:05.691Z"
   },
   {
    "duration": 41,
    "start_time": "2021-10-05T23:43:05.703Z"
   },
   {
    "duration": 40,
    "start_time": "2021-10-05T23:43:05.747Z"
   },
   {
    "duration": 9,
    "start_time": "2021-10-05T23:43:05.790Z"
   },
   {
    "duration": 28,
    "start_time": "2021-10-05T23:43:05.801Z"
   },
   {
    "duration": 14,
    "start_time": "2021-10-05T23:43:05.832Z"
   },
   {
    "duration": 40,
    "start_time": "2021-10-05T23:43:05.849Z"
   },
   {
    "duration": 13,
    "start_time": "2021-10-05T23:43:05.891Z"
   },
   {
    "duration": 23,
    "start_time": "2021-10-05T23:43:05.906Z"
   },
   {
    "duration": 21,
    "start_time": "2021-10-05T23:43:05.931Z"
   },
   {
    "duration": 84,
    "start_time": "2021-10-05T23:43:05.954Z"
   },
   {
    "duration": 4,
    "start_time": "2021-10-05T23:43:06.040Z"
   },
   {
    "duration": 38,
    "start_time": "2021-10-05T23:43:06.046Z"
   },
   {
    "duration": 141,
    "start_time": "2021-10-05T23:43:06.086Z"
   },
   {
    "duration": 11,
    "start_time": "2021-10-05T23:43:06.230Z"
   },
   {
    "duration": 153,
    "start_time": "2021-10-05T23:43:06.243Z"
   },
   {
    "duration": 679,
    "start_time": "2021-10-05T23:43:06.398Z"
   },
   {
    "duration": 33,
    "start_time": "2021-10-05T23:43:07.086Z"
   },
   {
    "duration": 67,
    "start_time": "2021-10-05T23:43:07.122Z"
   },
   {
    "duration": 38,
    "start_time": "2021-10-05T23:43:07.192Z"
   },
   {
    "duration": 21,
    "start_time": "2021-10-05T23:43:07.232Z"
   },
   {
    "duration": 129,
    "start_time": "2021-10-05T23:43:07.255Z"
   },
   {
    "duration": 26,
    "start_time": "2021-10-05T23:43:07.386Z"
   },
   {
    "duration": 68,
    "start_time": "2021-10-05T23:43:07.414Z"
   },
   {
    "duration": 6,
    "start_time": "2021-10-05T23:43:07.484Z"
   },
   {
    "duration": 30,
    "start_time": "2021-10-05T23:43:07.492Z"
   },
   {
    "duration": 10,
    "start_time": "2021-10-05T23:43:07.524Z"
   },
   {
    "duration": 77,
    "start_time": "2021-10-05T23:43:07.537Z"
   },
   {
    "duration": 10,
    "start_time": "2021-10-05T23:43:07.616Z"
   },
   {
    "duration": 6,
    "start_time": "2021-10-05T23:43:07.628Z"
   },
   {
    "duration": 64,
    "start_time": "2021-10-05T23:43:07.637Z"
   },
   {
    "duration": 5,
    "start_time": "2021-10-05T23:43:07.703Z"
   },
   {
    "duration": 21,
    "start_time": "2021-10-05T23:43:07.711Z"
   },
   {
    "duration": 6,
    "start_time": "2021-10-05T23:43:07.735Z"
   },
   {
    "duration": 9,
    "start_time": "2021-10-05T23:43:07.743Z"
   },
   {
    "duration": 7,
    "start_time": "2021-10-05T23:43:07.783Z"
   },
   {
    "duration": 11,
    "start_time": "2021-10-05T23:43:07.792Z"
   },
   {
    "duration": 113,
    "start_time": "2021-10-05T23:43:07.806Z"
   },
   {
    "duration": 90,
    "start_time": "2021-10-05T23:43:07.921Z"
   },
   {
    "duration": 1720,
    "start_time": "2021-10-05T23:43:08.014Z"
   },
   {
    "duration": 501,
    "start_time": "2021-10-05T23:43:09.736Z"
   },
   {
    "duration": 10,
    "start_time": "2021-10-05T23:43:10.240Z"
   },
   {
    "duration": 408,
    "start_time": "2021-10-05T23:43:10.252Z"
   },
   {
    "duration": 20,
    "start_time": "2021-10-05T23:43:10.662Z"
   },
   {
    "duration": 410,
    "start_time": "2021-10-05T23:43:10.685Z"
   },
   {
    "duration": 13,
    "start_time": "2021-10-05T23:43:11.098Z"
   },
   {
    "duration": 429,
    "start_time": "2021-10-05T23:43:11.114Z"
   },
   {
    "duration": 14,
    "start_time": "2021-10-05T23:43:11.546Z"
   },
   {
    "duration": 59,
    "start_time": "2021-10-05T23:43:11.563Z"
   },
   {
    "duration": 13,
    "start_time": "2021-10-05T23:43:11.625Z"
   },
   {
    "duration": 44,
    "start_time": "2021-10-05T23:43:11.640Z"
   },
   {
    "duration": 406,
    "start_time": "2021-10-05T23:43:11.686Z"
   },
   {
    "duration": 38,
    "start_time": "2021-10-05T23:43:12.095Z"
   },
   {
    "duration": 68,
    "start_time": "2021-10-05T23:43:12.135Z"
   },
   {
    "duration": 7,
    "start_time": "2021-10-05T23:43:12.205Z"
   },
   {
    "duration": 14,
    "start_time": "2021-10-05T23:43:12.214Z"
   },
   {
    "duration": 7,
    "start_time": "2021-10-05T23:44:30.333Z"
   },
   {
    "duration": 6,
    "start_time": "2021-10-05T23:44:46.394Z"
   },
   {
    "duration": 7,
    "start_time": "2021-10-05T23:45:04.463Z"
   },
   {
    "duration": 41,
    "start_time": "2021-10-05T23:45:31.363Z"
   },
   {
    "duration": 37,
    "start_time": "2021-10-05T23:45:34.833Z"
   },
   {
    "duration": 7,
    "start_time": "2021-10-05T23:45:36.601Z"
   },
   {
    "duration": 7,
    "start_time": "2021-10-05T23:46:06.019Z"
   },
   {
    "duration": 8,
    "start_time": "2021-10-05T23:46:22.099Z"
   },
   {
    "duration": 6,
    "start_time": "2021-10-05T23:46:32.012Z"
   },
   {
    "duration": 7,
    "start_time": "2021-10-05T23:46:44.906Z"
   },
   {
    "duration": 7,
    "start_time": "2021-10-05T23:51:15.341Z"
   },
   {
    "duration": 14,
    "start_time": "2021-10-05T23:55:59.683Z"
   },
   {
    "duration": 14,
    "start_time": "2021-10-05T23:56:15.726Z"
   },
   {
    "duration": 14,
    "start_time": "2021-10-05T23:56:18.485Z"
   },
   {
    "duration": 14,
    "start_time": "2021-10-05T23:56:24.869Z"
   },
   {
    "duration": 13,
    "start_time": "2021-10-05T23:56:39.273Z"
   },
   {
    "duration": 14,
    "start_time": "2021-10-05T23:56:46.282Z"
   },
   {
    "duration": 1405,
    "start_time": "2021-10-05T23:59:56.958Z"
   },
   {
    "duration": 6,
    "start_time": "2021-10-06T00:00:06.159Z"
   },
   {
    "duration": 558,
    "start_time": "2021-10-06T00:00:07.879Z"
   },
   {
    "duration": 20,
    "start_time": "2021-10-06T00:00:09.956Z"
   },
   {
    "duration": 9,
    "start_time": "2021-10-06T00:00:12.352Z"
   },
   {
    "duration": 23,
    "start_time": "2021-10-06T00:00:14.579Z"
   },
   {
    "duration": 11,
    "start_time": "2021-10-06T00:00:17.002Z"
   },
   {
    "duration": 34,
    "start_time": "2021-10-06T00:00:20.268Z"
   },
   {
    "duration": 20,
    "start_time": "2021-10-06T00:00:23.175Z"
   },
   {
    "duration": 11,
    "start_time": "2021-10-06T00:00:25.522Z"
   },
   {
    "duration": 20,
    "start_time": "2021-10-06T00:00:27.731Z"
   },
   {
    "duration": 15,
    "start_time": "2021-10-06T00:00:30.145Z"
   },
   {
    "duration": 12,
    "start_time": "2021-10-06T00:00:32.774Z"
   },
   {
    "duration": 9,
    "start_time": "2021-10-06T00:00:35.787Z"
   },
   {
    "duration": 11,
    "start_time": "2021-10-06T00:00:55.544Z"
   },
   {
    "duration": 18,
    "start_time": "2021-10-06T00:01:02.450Z"
   },
   {
    "duration": 66,
    "start_time": "2021-10-06T00:01:15.760Z"
   },
   {
    "duration": 7,
    "start_time": "2021-10-06T00:01:47.688Z"
   },
   {
    "duration": 16,
    "start_time": "2021-10-06T00:01:49.272Z"
   },
   {
    "duration": 122,
    "start_time": "2021-10-06T00:01:55.894Z"
   },
   {
    "duration": 128,
    "start_time": "2021-10-06T00:02:07.436Z"
   },
   {
    "duration": 11,
    "start_time": "2021-10-06T00:02:51.752Z"
   },
   {
    "duration": 140,
    "start_time": "2021-10-06T00:02:53.831Z"
   },
   {
    "duration": 646,
    "start_time": "2021-10-06T00:02:56.428Z"
   },
   {
    "duration": 31,
    "start_time": "2021-10-06T00:03:01.349Z"
   },
   {
    "duration": 49,
    "start_time": "2021-10-06T00:03:03.850Z"
   },
   {
    "duration": 35,
    "start_time": "2021-10-06T00:08:58.359Z"
   },
   {
    "duration": 21,
    "start_time": "2021-10-06T00:09:07.111Z"
   },
   {
    "duration": 18,
    "start_time": "2021-10-06T00:09:48.790Z"
   },
   {
    "duration": 92,
    "start_time": "2021-10-06T00:10:10.101Z"
   },
   {
    "duration": 17,
    "start_time": "2021-10-06T00:12:38.928Z"
   },
   {
    "duration": 4625,
    "start_time": "2021-10-06T00:13:32.969Z"
   },
   {
    "duration": 1468,
    "start_time": "2021-10-06T00:13:49.865Z"
   },
   {
    "duration": 562,
    "start_time": "2021-10-06T00:13:51.336Z"
   },
   {
    "duration": 19,
    "start_time": "2021-10-06T00:13:51.901Z"
   },
   {
    "duration": 16,
    "start_time": "2021-10-06T00:13:51.922Z"
   },
   {
    "duration": 23,
    "start_time": "2021-10-06T00:13:51.941Z"
   },
   {
    "duration": 21,
    "start_time": "2021-10-06T00:13:51.966Z"
   },
   {
    "duration": 41,
    "start_time": "2021-10-06T00:13:51.990Z"
   },
   {
    "duration": 20,
    "start_time": "2021-10-06T00:13:52.033Z"
   },
   {
    "duration": 34,
    "start_time": "2021-10-06T00:13:52.057Z"
   },
   {
    "duration": 20,
    "start_time": "2021-10-06T00:13:52.094Z"
   },
   {
    "duration": 14,
    "start_time": "2021-10-06T00:13:52.117Z"
   },
   {
    "duration": 15,
    "start_time": "2021-10-06T00:13:52.133Z"
   },
   {
    "duration": 10,
    "start_time": "2021-10-06T00:13:52.183Z"
   },
   {
    "duration": 16,
    "start_time": "2021-10-06T00:13:52.195Z"
   },
   {
    "duration": 21,
    "start_time": "2021-10-06T00:13:52.213Z"
   },
   {
    "duration": 67,
    "start_time": "2021-10-06T00:14:01.576Z"
   },
   {
    "duration": 6,
    "start_time": "2021-10-06T00:14:28.616Z"
   },
   {
    "duration": 7,
    "start_time": "2021-10-06T00:14:33.166Z"
   },
   {
    "duration": 15,
    "start_time": "2021-10-06T00:14:34.842Z"
   },
   {
    "duration": 145,
    "start_time": "2021-10-06T00:14:38.071Z"
   },
   {
    "duration": 13,
    "start_time": "2021-10-06T00:14:40.897Z"
   },
   {
    "duration": 129,
    "start_time": "2021-10-06T00:14:46.142Z"
   },
   {
    "duration": 660,
    "start_time": "2021-10-06T00:14:51.138Z"
   },
   {
    "duration": 36,
    "start_time": "2021-10-06T00:14:53.825Z"
   },
   {
    "duration": 48,
    "start_time": "2021-10-06T00:14:57.136Z"
   },
   {
    "duration": 7,
    "start_time": "2021-10-06T00:14:58.502Z"
   },
   {
    "duration": 38,
    "start_time": "2021-10-06T00:15:04.455Z"
   },
   {
    "duration": 23,
    "start_time": "2021-10-06T00:15:06.981Z"
   },
   {
    "duration": 20,
    "start_time": "2021-10-06T00:15:11.716Z"
   },
   {
    "duration": 5,
    "start_time": "2021-10-06T00:15:33.487Z"
   },
   {
    "duration": 8,
    "start_time": "2021-10-06T00:15:38.237Z"
   },
   {
    "duration": 35,
    "start_time": "2021-10-06T00:15:40.182Z"
   },
   {
    "duration": 23,
    "start_time": "2021-10-06T00:15:44.271Z"
   },
   {
    "duration": 1397,
    "start_time": "2021-10-06T00:16:11.228Z"
   },
   {
    "duration": 571,
    "start_time": "2021-10-06T00:16:12.628Z"
   },
   {
    "duration": 19,
    "start_time": "2021-10-06T00:16:13.202Z"
   },
   {
    "duration": 12,
    "start_time": "2021-10-06T00:16:13.224Z"
   },
   {
    "duration": 38,
    "start_time": "2021-10-06T00:16:13.238Z"
   },
   {
    "duration": 10,
    "start_time": "2021-10-06T00:16:13.278Z"
   },
   {
    "duration": 34,
    "start_time": "2021-10-06T00:16:13.291Z"
   },
   {
    "duration": 23,
    "start_time": "2021-10-06T00:16:13.328Z"
   },
   {
    "duration": 11,
    "start_time": "2021-10-06T00:16:13.385Z"
   },
   {
    "duration": 17,
    "start_time": "2021-10-06T00:16:13.399Z"
   },
   {
    "duration": 14,
    "start_time": "2021-10-06T00:16:13.419Z"
   },
   {
    "duration": 49,
    "start_time": "2021-10-06T00:16:13.436Z"
   },
   {
    "duration": 9,
    "start_time": "2021-10-06T00:16:13.487Z"
   },
   {
    "duration": 24,
    "start_time": "2021-10-06T00:16:13.499Z"
   },
   {
    "duration": 35,
    "start_time": "2021-10-06T00:16:13.526Z"
   },
   {
    "duration": 65,
    "start_time": "2021-10-06T00:16:13.564Z"
   },
   {
    "duration": 4,
    "start_time": "2021-10-06T00:16:13.632Z"
   },
   {
    "duration": 26,
    "start_time": "2021-10-06T00:16:13.639Z"
   },
   {
    "duration": 25,
    "start_time": "2021-10-06T00:16:13.667Z"
   },
   {
    "duration": 140,
    "start_time": "2021-10-06T00:16:13.695Z"
   },
   {
    "duration": 11,
    "start_time": "2021-10-06T00:16:13.837Z"
   },
   {
    "duration": 149,
    "start_time": "2021-10-06T00:16:13.850Z"
   },
   {
    "duration": 651,
    "start_time": "2021-10-06T00:16:14.001Z"
   },
   {
    "duration": 43,
    "start_time": "2021-10-06T00:16:14.654Z"
   },
   {
    "duration": 46,
    "start_time": "2021-10-06T00:16:14.699Z"
   },
   {
    "duration": 58,
    "start_time": "2021-10-06T00:16:14.747Z"
   },
   {
    "duration": 21,
    "start_time": "2021-10-06T00:16:14.809Z"
   },
   {
    "duration": 19,
    "start_time": "2021-10-06T00:16:26.571Z"
   },
   {
    "duration": 96,
    "start_time": "2021-10-06T00:16:40.777Z"
   },
   {
    "duration": 27,
    "start_time": "2021-10-06T00:16:45.586Z"
   },
   {
    "duration": 47,
    "start_time": "2021-10-06T00:20:53.101Z"
   },
   {
    "duration": 6,
    "start_time": "2021-10-06T00:21:03.460Z"
   },
   {
    "duration": 27,
    "start_time": "2021-10-06T00:21:05.511Z"
   },
   {
    "duration": 26,
    "start_time": "2021-10-06T00:23:01.180Z"
   },
   {
    "duration": 11,
    "start_time": "2021-10-06T00:23:09.932Z"
   },
   {
    "duration": 11,
    "start_time": "2021-10-06T00:23:51.081Z"
   },
   {
    "duration": 44,
    "start_time": "2021-10-06T00:23:55.186Z"
   },
   {
    "duration": 9,
    "start_time": "2021-10-06T00:24:10.303Z"
   },
   {
    "duration": 7,
    "start_time": "2021-10-06T00:24:13.491Z"
   },
   {
    "duration": 39,
    "start_time": "2021-10-06T00:24:39.620Z"
   },
   {
    "duration": 442,
    "start_time": "2021-10-06T00:24:44.558Z"
   },
   {
    "duration": 12,
    "start_time": "2021-10-06T00:25:21.960Z"
   },
   {
    "duration": 355,
    "start_time": "2021-10-06T00:25:35.967Z"
   },
   {
    "duration": 359,
    "start_time": "2021-10-06T00:25:48.382Z"
   },
   {
    "duration": 7723,
    "start_time": "2021-10-06T00:28:10.824Z"
   },
   {
    "duration": 18,
    "start_time": "2021-10-06T00:31:13.044Z"
   },
   {
    "duration": 7370,
    "start_time": "2021-10-06T00:32:04.647Z"
   },
   {
    "duration": 5,
    "start_time": "2021-10-06T00:33:52.363Z"
   },
   {
    "duration": 23,
    "start_time": "2021-10-06T00:34:00.630Z"
   },
   {
    "duration": 91,
    "start_time": "2021-10-06T00:34:04.083Z"
   },
   {
    "duration": 44,
    "start_time": "2021-10-06T00:34:10.128Z"
   },
   {
    "duration": 6,
    "start_time": "2021-10-06T00:34:12.675Z"
   },
   {
    "duration": 9,
    "start_time": "2021-10-06T00:34:18.008Z"
   },
   {
    "duration": 44,
    "start_time": "2021-10-06T00:34:19.528Z"
   },
   {
    "duration": 9,
    "start_time": "2021-10-06T00:34:27.299Z"
   },
   {
    "duration": 8232,
    "start_time": "2021-10-06T00:34:39.764Z"
   },
   {
    "duration": 8429,
    "start_time": "2021-10-06T00:34:52.906Z"
   },
   {
    "duration": 31,
    "start_time": "2021-10-06T00:35:11.945Z"
   },
   {
    "duration": 10,
    "start_time": "2021-10-06T00:35:52.643Z"
   },
   {
    "duration": 339,
    "start_time": "2021-10-06T00:35:54.611Z"
   },
   {
    "duration": 344,
    "start_time": "2021-10-06T00:35:58.027Z"
   },
   {
    "duration": 7,
    "start_time": "2021-10-06T00:36:32.851Z"
   },
   {
    "duration": 17,
    "start_time": "2021-10-06T00:36:35.060Z"
   },
   {
    "duration": 6,
    "start_time": "2021-10-06T00:36:38.984Z"
   },
   {
    "duration": 6,
    "start_time": "2021-10-06T00:36:41.067Z"
   },
   {
    "duration": 7,
    "start_time": "2021-10-06T00:36:45.994Z"
   },
   {
    "duration": 11,
    "start_time": "2021-10-06T00:36:54.992Z"
   },
   {
    "duration": 99,
    "start_time": "2021-10-06T00:36:55.006Z"
   },
   {
    "duration": 97,
    "start_time": "2021-10-06T00:36:55.109Z"
   },
   {
    "duration": 1849,
    "start_time": "2021-10-06T00:36:55.210Z"
   },
   {
    "duration": 406,
    "start_time": "2021-10-06T00:36:57.062Z"
   },
   {
    "duration": 20,
    "start_time": "2021-10-06T00:36:57.471Z"
   },
   {
    "duration": 415,
    "start_time": "2021-10-06T00:36:57.493Z"
   },
   {
    "duration": 14,
    "start_time": "2021-10-06T00:36:57.912Z"
   },
   {
    "duration": 444,
    "start_time": "2021-10-06T00:36:57.929Z"
   },
   {
    "duration": 17,
    "start_time": "2021-10-06T00:36:58.376Z"
   },
   {
    "duration": 403,
    "start_time": "2021-10-06T00:36:58.395Z"
   },
   {
    "duration": 11,
    "start_time": "2021-10-06T00:36:58.801Z"
   },
   {
    "duration": 341,
    "start_time": "2021-10-06T00:36:58.815Z"
   },
   {
    "duration": -328,
    "start_time": "2021-10-06T00:36:59.487Z"
   },
   {
    "duration": -385,
    "start_time": "2021-10-06T00:36:59.545Z"
   },
   {
    "duration": -388,
    "start_time": "2021-10-06T00:36:59.550Z"
   },
   {
    "duration": -408,
    "start_time": "2021-10-06T00:36:59.572Z"
   },
   {
    "duration": -441,
    "start_time": "2021-10-06T00:36:59.606Z"
   },
   {
    "duration": -556,
    "start_time": "2021-10-06T00:36:59.723Z"
   },
   {
    "duration": -566,
    "start_time": "2021-10-06T00:36:59.735Z"
   },
   {
    "duration": -577,
    "start_time": "2021-10-06T00:36:59.747Z"
   },
   {
    "duration": 6,
    "start_time": "2021-10-06T00:40:10.360Z"
   },
   {
    "duration": 91,
    "start_time": "2021-10-06T00:41:02.474Z"
   },
   {
    "duration": 77,
    "start_time": "2021-10-06T00:42:02.868Z"
   },
   {
    "duration": 340,
    "start_time": "2021-10-06T00:49:53.572Z"
   },
   {
    "duration": 9,
    "start_time": "2021-10-06T00:50:09.814Z"
   },
   {
    "duration": 1475,
    "start_time": "2021-10-06T00:50:33.880Z"
   },
   {
    "duration": 545,
    "start_time": "2021-10-06T00:50:35.357Z"
   },
   {
    "duration": 20,
    "start_time": "2021-10-06T00:50:35.905Z"
   },
   {
    "duration": 18,
    "start_time": "2021-10-06T00:50:35.927Z"
   },
   {
    "duration": 33,
    "start_time": "2021-10-06T00:50:35.948Z"
   },
   {
    "duration": 13,
    "start_time": "2021-10-06T00:50:35.983Z"
   },
   {
    "duration": 44,
    "start_time": "2021-10-06T00:50:35.998Z"
   },
   {
    "duration": 21,
    "start_time": "2021-10-06T00:50:36.044Z"
   },
   {
    "duration": 34,
    "start_time": "2021-10-06T00:50:36.068Z"
   },
   {
    "duration": 32,
    "start_time": "2021-10-06T00:50:36.105Z"
   },
   {
    "duration": 26,
    "start_time": "2021-10-06T00:50:36.140Z"
   },
   {
    "duration": 20,
    "start_time": "2021-10-06T00:50:36.168Z"
   },
   {
    "duration": 25,
    "start_time": "2021-10-06T00:50:36.190Z"
   },
   {
    "duration": 28,
    "start_time": "2021-10-06T00:50:36.217Z"
   },
   {
    "duration": 29,
    "start_time": "2021-10-06T00:50:36.247Z"
   },
   {
    "duration": 68,
    "start_time": "2021-10-06T00:50:36.278Z"
   },
   {
    "duration": 5,
    "start_time": "2021-10-06T00:50:36.348Z"
   },
   {
    "duration": 16,
    "start_time": "2021-10-06T00:50:36.355Z"
   },
   {
    "duration": 34,
    "start_time": "2021-10-06T00:50:36.372Z"
   },
   {
    "duration": 138,
    "start_time": "2021-10-06T00:50:36.409Z"
   },
   {
    "duration": 13,
    "start_time": "2021-10-06T00:50:36.550Z"
   },
   {
    "duration": 157,
    "start_time": "2021-10-06T00:50:36.565Z"
   },
   {
    "duration": 654,
    "start_time": "2021-10-06T00:50:36.724Z"
   },
   {
    "duration": 36,
    "start_time": "2021-10-06T00:50:37.383Z"
   },
   {
    "duration": 69,
    "start_time": "2021-10-06T00:50:37.421Z"
   },
   {
    "duration": 38,
    "start_time": "2021-10-06T00:50:37.492Z"
   },
   {
    "duration": 47,
    "start_time": "2021-10-06T00:50:37.536Z"
   },
   {
    "duration": 18,
    "start_time": "2021-10-06T00:50:37.586Z"
   },
   {
    "duration": 134,
    "start_time": "2021-10-06T00:50:37.607Z"
   },
   {
    "duration": 48,
    "start_time": "2021-10-06T00:50:37.744Z"
   },
   {
    "duration": 63,
    "start_time": "2021-10-06T00:50:37.795Z"
   },
   {
    "duration": 23,
    "start_time": "2021-10-06T00:50:37.862Z"
   },
   {
    "duration": 42,
    "start_time": "2021-10-06T00:50:37.888Z"
   },
   {
    "duration": 10,
    "start_time": "2021-10-06T00:50:37.933Z"
   },
   {
    "duration": 64,
    "start_time": "2021-10-06T00:50:37.945Z"
   },
   {
    "duration": 9,
    "start_time": "2021-10-06T00:50:38.012Z"
   },
   {
    "duration": 13,
    "start_time": "2021-10-06T00:50:38.023Z"
   },
   {
    "duration": 46,
    "start_time": "2021-10-06T00:50:38.038Z"
   },
   {
    "duration": 36,
    "start_time": "2021-10-06T00:50:38.087Z"
   },
   {
    "duration": 15,
    "start_time": "2021-10-06T00:50:38.125Z"
   },
   {
    "duration": 22,
    "start_time": "2021-10-06T00:50:38.143Z"
   },
   {
    "duration": 19,
    "start_time": "2021-10-06T00:50:38.168Z"
   },
   {
    "duration": 17,
    "start_time": "2021-10-06T00:50:38.189Z"
   },
   {
    "duration": 29,
    "start_time": "2021-10-06T00:50:38.208Z"
   },
   {
    "duration": 91,
    "start_time": "2021-10-06T00:50:38.239Z"
   },
   {
    "duration": 94,
    "start_time": "2021-10-06T00:50:38.332Z"
   },
   {
    "duration": 1758,
    "start_time": "2021-10-06T00:50:38.430Z"
   },
   {
    "duration": 487,
    "start_time": "2021-10-06T00:50:40.190Z"
   },
   {
    "duration": 10,
    "start_time": "2021-10-06T00:50:40.679Z"
   },
   {
    "duration": 398,
    "start_time": "2021-10-06T00:50:40.691Z"
   },
   {
    "duration": 10,
    "start_time": "2021-10-06T00:50:41.091Z"
   },
   {
    "duration": 408,
    "start_time": "2021-10-06T00:50:41.103Z"
   },
   {
    "duration": 11,
    "start_time": "2021-10-06T00:50:41.513Z"
   },
   {
    "duration": 407,
    "start_time": "2021-10-06T00:50:41.526Z"
   },
   {
    "duration": 10,
    "start_time": "2021-10-06T00:50:41.936Z"
   },
   {
    "duration": 66,
    "start_time": "2021-10-06T00:50:41.948Z"
   },
   {
    "duration": 13,
    "start_time": "2021-10-06T00:50:42.016Z"
   },
   {
    "duration": 12,
    "start_time": "2021-10-06T00:50:42.031Z"
   },
   {
    "duration": 428,
    "start_time": "2021-10-06T00:50:42.046Z"
   },
   {
    "duration": 38,
    "start_time": "2021-10-06T00:50:42.476Z"
   },
   {
    "duration": 37,
    "start_time": "2021-10-06T00:50:42.516Z"
   },
   {
    "duration": 8,
    "start_time": "2021-10-06T00:50:42.583Z"
   },
   {
    "duration": 8,
    "start_time": "2021-10-06T00:50:42.593Z"
   },
   {
    "duration": 18,
    "start_time": "2021-10-06T00:50:42.604Z"
   },
   {
    "duration": 397,
    "start_time": "2021-10-06T00:51:33.704Z"
   },
   {
    "duration": 400,
    "start_time": "2021-10-06T00:54:14.969Z"
   },
   {
    "duration": 576,
    "start_time": "2021-10-06T00:54:55.193Z"
   },
   {
    "duration": 7,
    "start_time": "2021-10-06T00:55:17.182Z"
   },
   {
    "duration": 1847,
    "start_time": "2021-10-06T00:55:34.063Z"
   },
   {
    "duration": 100,
    "start_time": "2021-10-06T00:56:09.660Z"
   },
   {
    "duration": 393,
    "start_time": "2021-10-06T00:56:19.552Z"
   },
   {
    "duration": 40,
    "start_time": "2021-10-06T00:56:27.552Z"
   },
   {
    "duration": 381,
    "start_time": "2021-10-06T00:57:39.626Z"
   },
   {
    "duration": 377,
    "start_time": "2021-10-06T00:57:44.639Z"
   },
   {
    "duration": 366,
    "start_time": "2021-10-06T01:00:30.619Z"
   },
   {
    "duration": 9268,
    "start_time": "2021-10-06T01:03:39.454Z"
   },
   {
    "duration": 458,
    "start_time": "2021-10-06T01:03:55.379Z"
   },
   {
    "duration": 438,
    "start_time": "2021-10-06T01:04:51.419Z"
   },
   {
    "duration": 433,
    "start_time": "2021-10-06T01:05:35.319Z"
   },
   {
    "duration": 98,
    "start_time": "2021-10-06T01:15:01.743Z"
   },
   {
    "duration": 14,
    "start_time": "2021-10-06T01:41:27.146Z"
   },
   {
    "duration": 1507,
    "start_time": "2021-10-06T18:24:24.630Z"
   },
   {
    "duration": 542,
    "start_time": "2021-10-06T18:24:26.139Z"
   },
   {
    "duration": 21,
    "start_time": "2021-10-06T18:24:26.684Z"
   },
   {
    "duration": 20,
    "start_time": "2021-10-06T18:24:26.708Z"
   },
   {
    "duration": 34,
    "start_time": "2021-10-06T18:24:26.730Z"
   },
   {
    "duration": 13,
    "start_time": "2021-10-06T18:24:26.767Z"
   },
   {
    "duration": 47,
    "start_time": "2021-10-06T18:24:26.782Z"
   },
   {
    "duration": 20,
    "start_time": "2021-10-06T18:24:26.832Z"
   },
   {
    "duration": 22,
    "start_time": "2021-10-06T18:24:26.856Z"
   },
   {
    "duration": 33,
    "start_time": "2021-10-06T18:24:26.882Z"
   },
   {
    "duration": 14,
    "start_time": "2021-10-06T18:24:26.923Z"
   },
   {
    "duration": 26,
    "start_time": "2021-10-06T18:24:26.940Z"
   },
   {
    "duration": 24,
    "start_time": "2021-10-06T18:24:26.968Z"
   },
   {
    "duration": 27,
    "start_time": "2021-10-06T18:24:26.994Z"
   },
   {
    "duration": 34,
    "start_time": "2021-10-06T18:24:27.023Z"
   },
   {
    "duration": 66,
    "start_time": "2021-10-06T18:24:27.059Z"
   },
   {
    "duration": 5,
    "start_time": "2021-10-06T18:24:27.127Z"
   },
   {
    "duration": 25,
    "start_time": "2021-10-06T18:24:27.135Z"
   },
   {
    "duration": 34,
    "start_time": "2021-10-06T18:24:27.162Z"
   },
   {
    "duration": 181,
    "start_time": "2021-10-06T18:24:27.199Z"
   },
   {
    "duration": 12,
    "start_time": "2021-10-06T18:24:27.383Z"
   },
   {
    "duration": 153,
    "start_time": "2021-10-06T18:24:27.397Z"
   },
   {
    "duration": 708,
    "start_time": "2021-10-06T18:24:27.552Z"
   },
   {
    "duration": 37,
    "start_time": "2021-10-06T18:24:28.262Z"
   },
   {
    "duration": 64,
    "start_time": "2021-10-06T18:24:28.301Z"
   },
   {
    "duration": 56,
    "start_time": "2021-10-06T18:24:28.367Z"
   },
   {
    "duration": 20,
    "start_time": "2021-10-06T18:24:28.429Z"
   },
   {
    "duration": 22,
    "start_time": "2021-10-06T18:24:28.452Z"
   },
   {
    "duration": 116,
    "start_time": "2021-10-06T18:24:28.476Z"
   },
   {
    "duration": 36,
    "start_time": "2021-10-06T18:24:28.594Z"
   },
   {
    "duration": 43,
    "start_time": "2021-10-06T18:24:28.633Z"
   },
   {
    "duration": 5,
    "start_time": "2021-10-06T18:24:28.678Z"
   },
   {
    "duration": 51,
    "start_time": "2021-10-06T18:24:28.685Z"
   },
   {
    "duration": 9,
    "start_time": "2021-10-06T18:24:28.738Z"
   },
   {
    "duration": 72,
    "start_time": "2021-10-06T18:24:28.749Z"
   },
   {
    "duration": 9,
    "start_time": "2021-10-06T18:24:28.823Z"
   },
   {
    "duration": 18,
    "start_time": "2021-10-06T18:24:28.834Z"
   },
   {
    "duration": 34,
    "start_time": "2021-10-06T18:24:28.855Z"
   },
   {
    "duration": 50,
    "start_time": "2021-10-06T18:24:28.891Z"
   },
   {
    "duration": 14,
    "start_time": "2021-10-06T18:24:28.944Z"
   },
   {
    "duration": 13,
    "start_time": "2021-10-06T18:24:28.960Z"
   },
   {
    "duration": 21,
    "start_time": "2021-10-06T18:24:28.976Z"
   },
   {
    "duration": 34,
    "start_time": "2021-10-06T18:24:28.999Z"
   },
   {
    "duration": 32,
    "start_time": "2021-10-06T18:24:29.036Z"
   },
   {
    "duration": 94,
    "start_time": "2021-10-06T18:24:29.070Z"
   },
   {
    "duration": 90,
    "start_time": "2021-10-06T18:24:29.167Z"
   },
   {
    "duration": 1844,
    "start_time": "2021-10-06T18:24:29.260Z"
   },
   {
    "duration": 505,
    "start_time": "2021-10-06T18:24:31.108Z"
   },
   {
    "duration": 17,
    "start_time": "2021-10-06T18:24:31.616Z"
   },
   {
    "duration": 438,
    "start_time": "2021-10-06T18:24:31.636Z"
   },
   {
    "duration": 13,
    "start_time": "2021-10-06T18:24:32.077Z"
   },
   {
    "duration": 432,
    "start_time": "2021-10-06T18:24:32.093Z"
   },
   {
    "duration": 13,
    "start_time": "2021-10-06T18:24:32.528Z"
   },
   {
    "duration": 434,
    "start_time": "2021-10-06T18:24:32.543Z"
   },
   {
    "duration": 12,
    "start_time": "2021-10-06T18:24:32.979Z"
   },
   {
    "duration": 69,
    "start_time": "2021-10-06T18:24:32.993Z"
   },
   {
    "duration": 14,
    "start_time": "2021-10-06T18:24:33.065Z"
   },
   {
    "duration": 16,
    "start_time": "2021-10-06T18:24:33.081Z"
   },
   {
    "duration": 435,
    "start_time": "2021-10-06T18:24:33.100Z"
   },
   {
    "duration": 412,
    "start_time": "2021-10-06T18:24:33.538Z"
   },
   {
    "duration": 394,
    "start_time": "2021-10-06T18:24:33.952Z"
   },
   {
    "duration": 446,
    "start_time": "2021-10-06T18:24:34.348Z"
   },
   {
    "duration": 52,
    "start_time": "2021-10-06T18:24:34.796Z"
   },
   {
    "duration": 41,
    "start_time": "2021-10-06T18:24:34.851Z"
   },
   {
    "duration": 32,
    "start_time": "2021-10-06T18:24:34.895Z"
   },
   {
    "duration": 12,
    "start_time": "2021-10-06T18:24:34.929Z"
   },
   {
    "duration": 20,
    "start_time": "2021-10-06T18:24:34.944Z"
   },
   {
    "duration": 1552,
    "start_time": "2021-10-07T17:24:11.519Z"
   },
   {
    "duration": 611,
    "start_time": "2021-10-07T17:24:13.074Z"
   },
   {
    "duration": 20,
    "start_time": "2021-10-07T17:24:13.689Z"
   },
   {
    "duration": 9,
    "start_time": "2021-10-07T17:24:13.713Z"
   },
   {
    "duration": 22,
    "start_time": "2021-10-07T17:24:13.725Z"
   },
   {
    "duration": 25,
    "start_time": "2021-10-07T17:24:13.749Z"
   },
   {
    "duration": 34,
    "start_time": "2021-10-07T17:24:13.777Z"
   },
   {
    "duration": 52,
    "start_time": "2021-10-07T17:24:13.814Z"
   },
   {
    "duration": 11,
    "start_time": "2021-10-07T17:24:13.869Z"
   },
   {
    "duration": 20,
    "start_time": "2021-10-07T17:24:13.883Z"
   },
   {
    "duration": 15,
    "start_time": "2021-10-07T17:24:13.905Z"
   },
   {
    "duration": 49,
    "start_time": "2021-10-07T17:24:13.922Z"
   },
   {
    "duration": 11,
    "start_time": "2021-10-07T17:24:13.974Z"
   },
   {
    "duration": 14,
    "start_time": "2021-10-07T17:24:13.987Z"
   },
   {
    "duration": 59,
    "start_time": "2021-10-07T17:24:14.004Z"
   },
   {
    "duration": 73,
    "start_time": "2021-10-07T17:24:14.066Z"
   },
   {
    "duration": 20,
    "start_time": "2021-10-07T17:24:14.142Z"
   },
   {
    "duration": 28,
    "start_time": "2021-10-07T17:24:14.165Z"
   },
   {
    "duration": 26,
    "start_time": "2021-10-07T17:24:14.196Z"
   },
   {
    "duration": 158,
    "start_time": "2021-10-07T17:24:14.224Z"
   },
   {
    "duration": 14,
    "start_time": "2021-10-07T17:24:14.384Z"
   },
   {
    "duration": 158,
    "start_time": "2021-10-07T17:24:14.400Z"
   },
   {
    "duration": 724,
    "start_time": "2021-10-07T17:24:14.563Z"
   },
   {
    "duration": 36,
    "start_time": "2021-10-07T17:24:15.290Z"
   },
   {
    "duration": 70,
    "start_time": "2021-10-07T17:24:15.328Z"
   },
   {
    "duration": 38,
    "start_time": "2021-10-07T17:24:15.400Z"
   },
   {
    "duration": 39,
    "start_time": "2021-10-07T17:24:15.440Z"
   },
   {
    "duration": 22,
    "start_time": "2021-10-07T17:24:15.481Z"
   },
   {
    "duration": 129,
    "start_time": "2021-10-07T17:24:15.506Z"
   },
   {
    "duration": 49,
    "start_time": "2021-10-07T17:24:15.637Z"
   },
   {
    "duration": 45,
    "start_time": "2021-10-07T17:24:15.690Z"
   },
   {
    "duration": 4,
    "start_time": "2021-10-07T17:24:15.737Z"
   },
   {
    "duration": 34,
    "start_time": "2021-10-07T17:24:15.763Z"
   },
   {
    "duration": 10,
    "start_time": "2021-10-07T17:24:15.799Z"
   },
   {
    "duration": 88,
    "start_time": "2021-10-07T17:24:15.811Z"
   },
   {
    "duration": 8,
    "start_time": "2021-10-07T17:24:15.902Z"
   },
   {
    "duration": 7,
    "start_time": "2021-10-07T17:24:24.629Z"
   },
   {
    "duration": 33,
    "start_time": "2021-10-07T17:28:13.467Z"
   },
   {
    "duration": 30,
    "start_time": "2021-10-07T17:28:38.666Z"
   },
   {
    "duration": 29,
    "start_time": "2021-10-07T17:28:50.273Z"
   },
   {
    "duration": 20,
    "start_time": "2021-10-07T17:28:57.091Z"
   },
   {
    "duration": 29,
    "start_time": "2021-10-07T17:29:10.338Z"
   },
   {
    "duration": 33,
    "start_time": "2021-10-07T17:29:43.676Z"
   },
   {
    "duration": 29,
    "start_time": "2021-10-07T17:32:03.073Z"
   },
   {
    "duration": 31,
    "start_time": "2021-10-07T17:32:08.698Z"
   },
   {
    "duration": 29,
    "start_time": "2021-10-07T17:33:02.603Z"
   },
   {
    "duration": 34,
    "start_time": "2021-10-07T17:35:44.338Z"
   },
   {
    "duration": 794,
    "start_time": "2021-10-07T17:35:56.243Z"
   },
   {
    "duration": 1093,
    "start_time": "2021-10-07T17:36:07.111Z"
   },
   {
    "duration": 28,
    "start_time": "2021-10-07T17:36:16.132Z"
   },
   {
    "duration": 31,
    "start_time": "2021-10-07T17:36:46.682Z"
   },
   {
    "duration": 601,
    "start_time": "2021-10-07T17:46:49.108Z"
   },
   {
    "duration": 479,
    "start_time": "2021-10-07T17:47:41.036Z"
   },
   {
    "duration": 8907,
    "start_time": "2021-10-07T17:48:00.365Z"
   },
   {
    "duration": 318,
    "start_time": "2021-10-07T17:49:13.255Z"
   },
   {
    "duration": 5,
    "start_time": "2021-10-07T17:56:33.745Z"
   },
   {
    "duration": 39,
    "start_time": "2021-10-07T17:56:37.117Z"
   },
   {
    "duration": 1545,
    "start_time": "2021-10-07T17:57:03.098Z"
   },
   {
    "duration": 619,
    "start_time": "2021-10-07T17:57:04.646Z"
   },
   {
    "duration": 22,
    "start_time": "2021-10-07T17:57:05.268Z"
   },
   {
    "duration": 10,
    "start_time": "2021-10-07T17:57:05.293Z"
   },
   {
    "duration": 55,
    "start_time": "2021-10-07T17:57:05.306Z"
   },
   {
    "duration": 12,
    "start_time": "2021-10-07T17:57:05.364Z"
   },
   {
    "duration": 36,
    "start_time": "2021-10-07T17:57:05.378Z"
   },
   {
    "duration": 51,
    "start_time": "2021-10-07T17:57:05.418Z"
   },
   {
    "duration": 10,
    "start_time": "2021-10-07T17:57:05.473Z"
   },
   {
    "duration": 20,
    "start_time": "2021-10-07T17:57:05.485Z"
   },
   {
    "duration": 16,
    "start_time": "2021-10-07T17:57:05.507Z"
   },
   {
    "duration": 51,
    "start_time": "2021-10-07T17:57:05.525Z"
   },
   {
    "duration": 13,
    "start_time": "2021-10-07T17:57:05.579Z"
   },
   {
    "duration": 19,
    "start_time": "2021-10-07T17:57:05.595Z"
   },
   {
    "duration": 63,
    "start_time": "2021-10-07T17:57:05.617Z"
   },
   {
    "duration": 106,
    "start_time": "2021-10-07T17:57:05.683Z"
   },
   {
    "duration": 7,
    "start_time": "2021-10-07T17:57:05.792Z"
   },
   {
    "duration": 6,
    "start_time": "2021-10-07T17:57:05.802Z"
   },
   {
    "duration": 29,
    "start_time": "2021-10-07T17:57:05.811Z"
   },
   {
    "duration": 187,
    "start_time": "2021-10-07T17:57:05.863Z"
   },
   {
    "duration": 21,
    "start_time": "2021-10-07T17:57:06.052Z"
   },
   {
    "duration": 153,
    "start_time": "2021-10-07T17:57:06.076Z"
   },
   {
    "duration": 716,
    "start_time": "2021-10-07T17:57:06.234Z"
   },
   {
    "duration": 42,
    "start_time": "2021-10-07T17:57:06.953Z"
   },
   {
    "duration": 65,
    "start_time": "2021-10-07T17:57:06.998Z"
   },
   {
    "duration": 39,
    "start_time": "2021-10-07T17:57:07.065Z"
   },
   {
    "duration": 23,
    "start_time": "2021-10-07T17:57:07.106Z"
   },
   {
    "duration": 47,
    "start_time": "2021-10-07T17:57:07.131Z"
   },
   {
    "duration": 117,
    "start_time": "2021-10-07T17:57:07.180Z"
   },
   {
    "duration": 26,
    "start_time": "2021-10-07T17:57:07.299Z"
   },
   {
    "duration": 68,
    "start_time": "2021-10-07T17:57:07.328Z"
   },
   {
    "duration": 5,
    "start_time": "2021-10-07T17:57:07.399Z"
   },
   {
    "duration": 32,
    "start_time": "2021-10-07T17:57:07.406Z"
   },
   {
    "duration": 31,
    "start_time": "2021-10-07T17:57:07.440Z"
   },
   {
    "duration": 46,
    "start_time": "2021-10-07T17:57:07.474Z"
   },
   {
    "duration": 8,
    "start_time": "2021-10-07T17:57:07.523Z"
   },
   {
    "duration": 31,
    "start_time": "2021-10-07T17:57:07.533Z"
   },
   {
    "duration": 36,
    "start_time": "2021-10-07T18:06:05.209Z"
   },
   {
    "duration": 29,
    "start_time": "2021-10-07T18:06:15.230Z"
   },
   {
    "duration": 31,
    "start_time": "2021-10-07T18:06:21.560Z"
   },
   {
    "duration": 18,
    "start_time": "2021-10-07T18:06:45.668Z"
   },
   {
    "duration": 6,
    "start_time": "2021-10-07T18:06:48.369Z"
   },
   {
    "duration": 7,
    "start_time": "2021-10-07T18:06:50.012Z"
   },
   {
    "duration": 6,
    "start_time": "2021-10-07T18:06:51.454Z"
   },
   {
    "duration": 10,
    "start_time": "2021-10-07T18:07:16.550Z"
   },
   {
    "duration": 353,
    "start_time": "2021-10-07T18:07:45.084Z"
   },
   {
    "duration": 1537,
    "start_time": "2021-10-07T18:08:54.399Z"
   },
   {
    "duration": 730,
    "start_time": "2021-10-07T18:08:55.939Z"
   },
   {
    "duration": 23,
    "start_time": "2021-10-07T18:08:56.672Z"
   },
   {
    "duration": 11,
    "start_time": "2021-10-07T18:08:56.698Z"
   },
   {
    "duration": 51,
    "start_time": "2021-10-07T18:08:56.713Z"
   },
   {
    "duration": 13,
    "start_time": "2021-10-07T18:08:56.766Z"
   },
   {
    "duration": 39,
    "start_time": "2021-10-07T18:08:56.781Z"
   },
   {
    "duration": 46,
    "start_time": "2021-10-07T18:08:56.823Z"
   },
   {
    "duration": 13,
    "start_time": "2021-10-07T18:08:56.873Z"
   },
   {
    "duration": 22,
    "start_time": "2021-10-07T18:08:56.888Z"
   },
   {
    "duration": 16,
    "start_time": "2021-10-07T18:08:56.912Z"
   },
   {
    "duration": 16,
    "start_time": "2021-10-07T18:08:56.964Z"
   },
   {
    "duration": 9,
    "start_time": "2021-10-07T18:08:56.984Z"
   },
   {
    "duration": 14,
    "start_time": "2021-10-07T18:08:56.996Z"
   },
   {
    "duration": 57,
    "start_time": "2021-10-07T18:08:57.012Z"
   },
   {
    "duration": 69,
    "start_time": "2021-10-07T18:08:57.072Z"
   },
   {
    "duration": 25,
    "start_time": "2021-10-07T18:08:57.143Z"
   },
   {
    "duration": 4,
    "start_time": "2021-10-07T18:08:57.171Z"
   },
   {
    "duration": 20,
    "start_time": "2021-10-07T18:08:57.177Z"
   },
   {
    "duration": 187,
    "start_time": "2021-10-07T18:08:57.200Z"
   },
   {
    "duration": 15,
    "start_time": "2021-10-07T18:08:57.389Z"
   },
   {
    "duration": 176,
    "start_time": "2021-10-07T18:08:57.406Z"
   },
   {
    "duration": 739,
    "start_time": "2021-10-07T18:08:57.588Z"
   },
   {
    "duration": 59,
    "start_time": "2021-10-07T18:08:58.330Z"
   },
   {
    "duration": 51,
    "start_time": "2021-10-07T18:08:58.391Z"
   },
   {
    "duration": 51,
    "start_time": "2021-10-07T18:08:58.444Z"
   },
   {
    "duration": 23,
    "start_time": "2021-10-07T18:08:58.498Z"
   },
   {
    "duration": 59,
    "start_time": "2021-10-07T18:08:58.524Z"
   },
   {
    "duration": 115,
    "start_time": "2021-10-07T18:08:58.586Z"
   },
   {
    "duration": 32,
    "start_time": "2021-10-07T18:08:58.703Z"
   },
   {
    "duration": 67,
    "start_time": "2021-10-07T18:08:58.737Z"
   },
   {
    "duration": 5,
    "start_time": "2021-10-07T18:08:58.807Z"
   },
   {
    "duration": 54,
    "start_time": "2021-10-07T18:08:58.814Z"
   },
   {
    "duration": 13,
    "start_time": "2021-10-07T18:08:58.871Z"
   },
   {
    "duration": 46,
    "start_time": "2021-10-07T18:08:58.887Z"
   },
   {
    "duration": 29,
    "start_time": "2021-10-07T18:08:58.935Z"
   },
   {
    "duration": 20,
    "start_time": "2021-10-07T18:08:58.967Z"
   },
   {
    "duration": 343,
    "start_time": "2021-10-07T18:09:14.970Z"
   },
   {
    "duration": 15,
    "start_time": "2021-10-07T18:09:38.457Z"
   },
   {
    "duration": 18,
    "start_time": "2021-10-07T18:10:22.567Z"
   },
   {
    "duration": 8,
    "start_time": "2021-10-07T18:10:26.103Z"
   },
   {
    "duration": 7,
    "start_time": "2021-10-07T18:10:28.151Z"
   },
   {
    "duration": 6,
    "start_time": "2021-10-07T18:10:30.329Z"
   },
   {
    "duration": 9,
    "start_time": "2021-10-07T18:10:48.974Z"
   },
   {
    "duration": 102,
    "start_time": "2021-10-07T18:10:51.129Z"
   },
   {
    "duration": 98,
    "start_time": "2021-10-07T18:11:35.038Z"
   },
   {
    "duration": 10,
    "start_time": "2021-10-07T18:11:53.180Z"
   },
   {
    "duration": 99,
    "start_time": "2021-10-07T18:12:27.918Z"
   },
   {
    "duration": 1991,
    "start_time": "2021-10-07T18:12:52.347Z"
   },
   {
    "duration": 540,
    "start_time": "2021-10-07T18:12:58.739Z"
   },
   {
    "duration": 13,
    "start_time": "2021-10-07T18:13:04.746Z"
   },
   {
    "duration": 669,
    "start_time": "2021-10-07T18:13:12.602Z"
   },
   {
    "duration": 11,
    "start_time": "2021-10-07T18:13:16.036Z"
   },
   {
    "duration": 494,
    "start_time": "2021-10-07T18:13:19.139Z"
   },
   {
    "duration": 14,
    "start_time": "2021-10-07T18:13:44.345Z"
   },
   {
    "duration": 476,
    "start_time": "2021-10-07T18:13:44.363Z"
   },
   {
    "duration": 23,
    "start_time": "2021-10-07T18:13:44.842Z"
   },
   {
    "duration": 479,
    "start_time": "2021-10-07T18:13:44.869Z"
   },
   {
    "duration": 17,
    "start_time": "2021-10-07T18:13:45.351Z"
   },
   {
    "duration": 463,
    "start_time": "2021-10-07T18:13:45.371Z"
   },
   {
    "duration": 26,
    "start_time": "2021-10-07T18:13:45.837Z"
   },
   {
    "duration": 47,
    "start_time": "2021-10-07T18:13:45.867Z"
   },
   {
    "duration": 56,
    "start_time": "2021-10-07T18:13:45.917Z"
   },
   {
    "duration": 16,
    "start_time": "2021-10-07T18:13:45.976Z"
   },
   {
    "duration": 477,
    "start_time": "2021-10-07T18:13:45.995Z"
   },
   {
    "duration": 439,
    "start_time": "2021-10-07T18:13:46.475Z"
   },
   {
    "duration": 450,
    "start_time": "2021-10-07T18:13:46.916Z"
   },
   {
    "duration": 513,
    "start_time": "2021-10-07T18:13:47.368Z"
   },
   {
    "duration": 42,
    "start_time": "2021-10-07T18:13:47.884Z"
   },
   {
    "duration": 74,
    "start_time": "2021-10-07T18:13:47.928Z"
   },
   {
    "duration": 8,
    "start_time": "2021-10-07T18:13:48.005Z"
   },
   {
    "duration": 8,
    "start_time": "2021-10-07T18:13:48.017Z"
   },
   {
    "duration": 52,
    "start_time": "2021-10-07T18:13:48.029Z"
   },
   {
    "duration": 1594,
    "start_time": "2021-10-07T18:14:46.692Z"
   },
   {
    "duration": 595,
    "start_time": "2021-10-07T18:14:48.289Z"
   },
   {
    "duration": 21,
    "start_time": "2021-10-07T18:14:48.887Z"
   },
   {
    "duration": 14,
    "start_time": "2021-10-07T18:14:48.912Z"
   },
   {
    "duration": 43,
    "start_time": "2021-10-07T18:14:48.930Z"
   },
   {
    "duration": 17,
    "start_time": "2021-10-07T18:14:48.976Z"
   },
   {
    "duration": 35,
    "start_time": "2021-10-07T18:14:48.995Z"
   },
   {
    "duration": 36,
    "start_time": "2021-10-07T18:14:49.062Z"
   },
   {
    "duration": 15,
    "start_time": "2021-10-07T18:14:49.102Z"
   },
   {
    "duration": 56,
    "start_time": "2021-10-07T18:14:49.120Z"
   },
   {
    "duration": 25,
    "start_time": "2021-10-07T18:14:49.180Z"
   },
   {
    "duration": 19,
    "start_time": "2021-10-07T18:14:49.208Z"
   },
   {
    "duration": 42,
    "start_time": "2021-10-07T18:14:49.231Z"
   },
   {
    "duration": 13,
    "start_time": "2021-10-07T18:14:49.276Z"
   },
   {
    "duration": 20,
    "start_time": "2021-10-07T18:14:49.292Z"
   },
   {
    "duration": 109,
    "start_time": "2021-10-07T18:14:49.315Z"
   },
   {
    "duration": 5,
    "start_time": "2021-10-07T18:14:49.427Z"
   },
   {
    "duration": 5,
    "start_time": "2021-10-07T18:14:49.434Z"
   },
   {
    "duration": 20,
    "start_time": "2021-10-07T18:14:49.463Z"
   },
   {
    "duration": 178,
    "start_time": "2021-10-07T18:14:49.486Z"
   },
   {
    "duration": 16,
    "start_time": "2021-10-07T18:14:49.667Z"
   },
   {
    "duration": 153,
    "start_time": "2021-10-07T18:14:49.686Z"
   },
   {
    "duration": 728,
    "start_time": "2021-10-07T18:14:49.846Z"
   },
   {
    "duration": 37,
    "start_time": "2021-10-07T18:14:50.578Z"
   },
   {
    "duration": 94,
    "start_time": "2021-10-07T18:14:50.619Z"
   },
   {
    "duration": 48,
    "start_time": "2021-10-07T18:14:50.715Z"
   },
   {
    "duration": 26,
    "start_time": "2021-10-07T18:14:50.766Z"
   },
   {
    "duration": 35,
    "start_time": "2021-10-07T18:14:50.794Z"
   },
   {
    "duration": 116,
    "start_time": "2021-10-07T18:14:50.831Z"
   },
   {
    "duration": 32,
    "start_time": "2021-10-07T18:14:50.950Z"
   },
   {
    "duration": 48,
    "start_time": "2021-10-07T18:14:50.985Z"
   },
   {
    "duration": 32,
    "start_time": "2021-10-07T18:14:51.035Z"
   },
   {
    "duration": 52,
    "start_time": "2021-10-07T18:14:51.070Z"
   },
   {
    "duration": 10,
    "start_time": "2021-10-07T18:14:51.124Z"
   },
   {
    "duration": 75,
    "start_time": "2021-10-07T18:14:51.137Z"
   },
   {
    "duration": 14,
    "start_time": "2021-10-07T18:14:51.214Z"
   },
   {
    "duration": 32,
    "start_time": "2021-10-07T18:14:51.232Z"
   },
   {
    "duration": 43,
    "start_time": "2021-10-07T18:14:51.267Z"
   },
   {
    "duration": 7,
    "start_time": "2021-10-07T18:14:51.313Z"
   },
   {
    "duration": 45,
    "start_time": "2021-10-07T18:14:51.322Z"
   },
   {
    "duration": 29,
    "start_time": "2021-10-07T18:14:51.370Z"
   },
   {
    "duration": 19,
    "start_time": "2021-10-07T18:14:51.401Z"
   },
   {
    "duration": 19,
    "start_time": "2021-10-07T18:14:51.423Z"
   },
   {
    "duration": 14,
    "start_time": "2021-10-07T18:14:51.445Z"
   },
   {
    "duration": 92,
    "start_time": "2021-10-07T18:14:51.462Z"
   },
   {
    "duration": 89,
    "start_time": "2021-10-07T18:14:51.556Z"
   },
   {
    "duration": 2100,
    "start_time": "2021-10-07T18:14:51.662Z"
   },
   {
    "duration": 519,
    "start_time": "2021-10-07T18:14:53.765Z"
   },
   {
    "duration": 10,
    "start_time": "2021-10-07T18:14:54.287Z"
   },
   {
    "duration": 459,
    "start_time": "2021-10-07T18:14:54.299Z"
   },
   {
    "duration": 12,
    "start_time": "2021-10-07T18:14:54.763Z"
   },
   {
    "duration": 504,
    "start_time": "2021-10-07T18:14:54.779Z"
   },
   {
    "duration": 13,
    "start_time": "2021-10-07T18:14:55.285Z"
   },
   {
    "duration": 477,
    "start_time": "2021-10-07T18:14:55.300Z"
   },
   {
    "duration": 12,
    "start_time": "2021-10-07T18:14:55.780Z"
   },
   {
    "duration": 79,
    "start_time": "2021-10-07T18:14:55.795Z"
   },
   {
    "duration": 17,
    "start_time": "2021-10-07T18:14:55.876Z"
   },
   {
    "duration": 15,
    "start_time": "2021-10-07T18:14:55.896Z"
   },
   {
    "duration": 496,
    "start_time": "2021-10-07T18:14:55.913Z"
   },
   {
    "duration": 475,
    "start_time": "2021-10-07T18:14:56.411Z"
   },
   {
    "duration": 438,
    "start_time": "2021-10-07T18:14:56.889Z"
   },
   {
    "duration": 510,
    "start_time": "2021-10-07T18:14:57.331Z"
   },
   {
    "duration": 55,
    "start_time": "2021-10-07T18:14:57.844Z"
   },
   {
    "duration": 63,
    "start_time": "2021-10-07T18:14:57.901Z"
   },
   {
    "duration": 9,
    "start_time": "2021-10-07T18:14:57.967Z"
   },
   {
    "duration": 11,
    "start_time": "2021-10-07T18:14:57.979Z"
   },
   {
    "duration": 17,
    "start_time": "2021-10-07T18:14:57.992Z"
   },
   {
    "duration": 4,
    "start_time": "2021-10-07T18:20:24.006Z"
   },
   {
    "duration": 28,
    "start_time": "2021-10-07T18:20:26.203Z"
   },
   {
    "duration": 5,
    "start_time": "2021-10-07T18:20:35.180Z"
   },
   {
    "duration": 30,
    "start_time": "2021-10-07T18:20:37.541Z"
   },
   {
    "duration": 514,
    "start_time": "2021-10-07T18:22:11.456Z"
   },
   {
    "duration": 104,
    "start_time": "2021-10-07T18:22:19.710Z"
   },
   {
    "duration": 771,
    "start_time": "2021-10-07T18:22:40.351Z"
   },
   {
    "duration": 938,
    "start_time": "2021-10-07T18:22:54.348Z"
   },
   {
    "duration": 33,
    "start_time": "2021-10-07T18:23:04.810Z"
   },
   {
    "duration": 463,
    "start_time": "2021-10-07T18:26:56.828Z"
   },
   {
    "duration": 1500,
    "start_time": "2021-10-07T18:27:09.146Z"
   },
   {
    "duration": 553,
    "start_time": "2021-10-07T18:27:10.649Z"
   },
   {
    "duration": 20,
    "start_time": "2021-10-07T18:27:11.205Z"
   },
   {
    "duration": 15,
    "start_time": "2021-10-07T18:27:11.228Z"
   },
   {
    "duration": 27,
    "start_time": "2021-10-07T18:27:11.246Z"
   },
   {
    "duration": 12,
    "start_time": "2021-10-07T18:27:11.276Z"
   },
   {
    "duration": 43,
    "start_time": "2021-10-07T18:27:11.290Z"
   },
   {
    "duration": 33,
    "start_time": "2021-10-07T18:27:11.337Z"
   },
   {
    "duration": 10,
    "start_time": "2021-10-07T18:27:11.373Z"
   },
   {
    "duration": 25,
    "start_time": "2021-10-07T18:27:11.386Z"
   },
   {
    "duration": 48,
    "start_time": "2021-10-07T18:27:11.413Z"
   },
   {
    "duration": 13,
    "start_time": "2021-10-07T18:27:11.464Z"
   },
   {
    "duration": 9,
    "start_time": "2021-10-07T18:27:11.481Z"
   },
   {
    "duration": 16,
    "start_time": "2021-10-07T18:27:11.493Z"
   },
   {
    "duration": 56,
    "start_time": "2021-10-07T18:27:11.512Z"
   },
   {
    "duration": 72,
    "start_time": "2021-10-07T18:27:11.571Z"
   },
   {
    "duration": 19,
    "start_time": "2021-10-07T18:27:11.645Z"
   },
   {
    "duration": 5,
    "start_time": "2021-10-07T18:27:11.667Z"
   },
   {
    "duration": 20,
    "start_time": "2021-10-07T18:27:11.674Z"
   },
   {
    "duration": 173,
    "start_time": "2021-10-07T18:27:11.696Z"
   },
   {
    "duration": 13,
    "start_time": "2021-10-07T18:27:11.872Z"
   },
   {
    "duration": 156,
    "start_time": "2021-10-07T18:27:11.887Z"
   },
   {
    "duration": 698,
    "start_time": "2021-10-07T18:27:12.047Z"
   },
   {
    "duration": 43,
    "start_time": "2021-10-07T18:27:12.748Z"
   },
   {
    "duration": 47,
    "start_time": "2021-10-07T18:27:12.794Z"
   },
   {
    "duration": 55,
    "start_time": "2021-10-07T18:27:12.843Z"
   },
   {
    "duration": 22,
    "start_time": "2021-10-07T18:27:12.901Z"
   },
   {
    "duration": 50,
    "start_time": "2021-10-07T18:27:12.926Z"
   },
   {
    "duration": 106,
    "start_time": "2021-10-07T18:27:12.978Z"
   },
   {
    "duration": 27,
    "start_time": "2021-10-07T18:27:13.086Z"
   },
   {
    "duration": 69,
    "start_time": "2021-10-07T18:27:13.115Z"
   },
   {
    "duration": 5,
    "start_time": "2021-10-07T18:27:13.186Z"
   },
   {
    "duration": 41,
    "start_time": "2021-10-07T18:27:13.194Z"
   },
   {
    "duration": 35,
    "start_time": "2021-10-07T18:27:13.238Z"
   },
   {
    "duration": 87,
    "start_time": "2021-10-07T18:27:13.276Z"
   },
   {
    "duration": 8,
    "start_time": "2021-10-07T18:27:13.366Z"
   },
   {
    "duration": 6,
    "start_time": "2021-10-07T18:27:13.377Z"
   },
   {
    "duration": 37,
    "start_time": "2021-10-07T18:27:13.385Z"
   },
   {
    "duration": 31,
    "start_time": "2021-10-07T18:39:24.850Z"
   },
   {
    "duration": 9,
    "start_time": "2021-10-07T18:39:37.793Z"
   },
   {
    "duration": 15,
    "start_time": "2021-10-07T18:43:39.232Z"
   },
   {
    "duration": 6,
    "start_time": "2021-10-07T18:43:45.700Z"
   },
   {
    "duration": 11,
    "start_time": "2021-10-07T18:43:45.709Z"
   },
   {
    "duration": 12,
    "start_time": "2021-10-07T18:43:45.723Z"
   },
   {
    "duration": 90,
    "start_time": "2021-10-07T18:43:45.737Z"
   },
   {
    "duration": 96,
    "start_time": "2021-10-07T18:43:45.829Z"
   },
   {
    "duration": 1966,
    "start_time": "2021-10-07T18:43:45.928Z"
   },
   {
    "duration": 465,
    "start_time": "2021-10-07T18:43:47.897Z"
   },
   {
    "duration": 15,
    "start_time": "2021-10-07T18:43:48.365Z"
   },
   {
    "duration": 521,
    "start_time": "2021-10-07T18:43:48.383Z"
   },
   {
    "duration": 12,
    "start_time": "2021-10-07T18:43:48.907Z"
   },
   {
    "duration": 440,
    "start_time": "2021-10-07T18:43:48.922Z"
   },
   {
    "duration": 12,
    "start_time": "2021-10-07T18:43:49.364Z"
   },
   {
    "duration": 442,
    "start_time": "2021-10-07T18:43:49.379Z"
   },
   {
    "duration": 12,
    "start_time": "2021-10-07T18:43:49.823Z"
   },
   {
    "duration": 42,
    "start_time": "2021-10-07T18:43:49.862Z"
   },
   {
    "duration": 13,
    "start_time": "2021-10-07T18:43:49.906Z"
   },
   {
    "duration": 46,
    "start_time": "2021-10-07T18:43:49.921Z"
   },
   {
    "duration": 431,
    "start_time": "2021-10-07T18:43:49.970Z"
   },
   {
    "duration": 423,
    "start_time": "2021-10-07T18:43:50.405Z"
   },
   {
    "duration": 407,
    "start_time": "2021-10-07T18:43:50.832Z"
   },
   {
    "duration": 518,
    "start_time": "2021-10-07T18:43:51.243Z"
   },
   {
    "duration": 42,
    "start_time": "2021-10-07T18:43:51.764Z"
   },
   {
    "duration": 65,
    "start_time": "2021-10-07T18:43:51.808Z"
   },
   {
    "duration": 6,
    "start_time": "2021-10-07T18:43:51.876Z"
   },
   {
    "duration": 15,
    "start_time": "2021-10-07T18:43:51.885Z"
   },
   {
    "duration": 15,
    "start_time": "2021-10-07T18:43:51.902Z"
   },
   {
    "duration": 14,
    "start_time": "2021-10-07T18:50:57.902Z"
   },
   {
    "duration": 14,
    "start_time": "2021-10-07T18:50:59.952Z"
   },
   {
    "duration": 405,
    "start_time": "2021-10-07T18:51:04.169Z"
   },
   {
    "duration": 438,
    "start_time": "2021-10-07T18:51:07.330Z"
   },
   {
    "duration": 422,
    "start_time": "2021-10-07T18:51:10.812Z"
   },
   {
    "duration": 487,
    "start_time": "2021-10-07T18:51:14.842Z"
   },
   {
    "duration": 574,
    "start_time": "2021-10-07T18:51:19.055Z"
   },
   {
    "duration": 41,
    "start_time": "2021-10-07T18:51:21.889Z"
   },
   {
    "duration": 41,
    "start_time": "2021-10-07T18:51:24.210Z"
   },
   {
    "duration": 7,
    "start_time": "2021-10-07T18:51:31.528Z"
   },
   {
    "duration": 7,
    "start_time": "2021-10-07T18:51:49.748Z"
   },
   {
    "duration": 7,
    "start_time": "2021-10-07T18:52:24.677Z"
   },
   {
    "duration": 15,
    "start_time": "2021-10-07T18:52:32.561Z"
   },
   {
    "duration": 325,
    "start_time": "2021-10-07T18:52:55.962Z"
   },
   {
    "duration": 1480,
    "start_time": "2021-10-07T18:54:02.695Z"
   },
   {
    "duration": 647,
    "start_time": "2021-10-07T18:54:04.177Z"
   },
   {
    "duration": 21,
    "start_time": "2021-10-07T18:54:04.828Z"
   },
   {
    "duration": 13,
    "start_time": "2021-10-07T18:54:04.851Z"
   },
   {
    "duration": 24,
    "start_time": "2021-10-07T18:54:04.866Z"
   },
   {
    "duration": 11,
    "start_time": "2021-10-07T18:54:04.893Z"
   },
   {
    "duration": 63,
    "start_time": "2021-10-07T18:54:04.906Z"
   },
   {
    "duration": 22,
    "start_time": "2021-10-07T18:54:04.973Z"
   },
   {
    "duration": 11,
    "start_time": "2021-10-07T18:54:04.998Z"
   },
   {
    "duration": 52,
    "start_time": "2021-10-07T18:54:05.011Z"
   },
   {
    "duration": 15,
    "start_time": "2021-10-07T18:54:05.066Z"
   },
   {
    "duration": 15,
    "start_time": "2021-10-07T18:54:05.084Z"
   },
   {
    "duration": 28,
    "start_time": "2021-10-07T18:54:05.101Z"
   },
   {
    "duration": 33,
    "start_time": "2021-10-07T18:54:05.131Z"
   },
   {
    "duration": 35,
    "start_time": "2021-10-07T18:54:05.166Z"
   },
   {
    "duration": 77,
    "start_time": "2021-10-07T18:54:05.203Z"
   },
   {
    "duration": 5,
    "start_time": "2021-10-07T18:54:05.283Z"
   },
   {
    "duration": 14,
    "start_time": "2021-10-07T18:54:05.290Z"
   },
   {
    "duration": 29,
    "start_time": "2021-10-07T18:54:05.306Z"
   },
   {
    "duration": 174,
    "start_time": "2021-10-07T18:54:05.337Z"
   },
   {
    "duration": 14,
    "start_time": "2021-10-07T18:54:05.514Z"
   },
   {
    "duration": 160,
    "start_time": "2021-10-07T18:54:05.531Z"
   },
   {
    "duration": 699,
    "start_time": "2021-10-07T18:54:05.697Z"
   },
   {
    "duration": 65,
    "start_time": "2021-10-07T18:54:06.400Z"
   },
   {
    "duration": 56,
    "start_time": "2021-10-07T18:54:06.468Z"
   },
   {
    "duration": 63,
    "start_time": "2021-10-07T18:54:06.527Z"
   },
   {
    "duration": 25,
    "start_time": "2021-10-07T18:54:06.593Z"
   },
   {
    "duration": 50,
    "start_time": "2021-10-07T18:54:06.620Z"
   },
   {
    "duration": 109,
    "start_time": "2021-10-07T18:54:06.673Z"
   },
   {
    "duration": 28,
    "start_time": "2021-10-07T18:54:06.785Z"
   },
   {
    "duration": 76,
    "start_time": "2021-10-07T18:54:06.816Z"
   },
   {
    "duration": 5,
    "start_time": "2021-10-07T18:54:06.894Z"
   },
   {
    "duration": 27,
    "start_time": "2021-10-07T18:54:06.901Z"
   },
   {
    "duration": 33,
    "start_time": "2021-10-07T18:54:06.930Z"
   },
   {
    "duration": 63,
    "start_time": "2021-10-07T18:54:06.965Z"
   },
   {
    "duration": 9,
    "start_time": "2021-10-07T18:54:07.030Z"
   },
   {
    "duration": 24,
    "start_time": "2021-10-07T18:54:07.041Z"
   },
   {
    "duration": 6,
    "start_time": "2021-10-07T18:54:07.068Z"
   },
   {
    "duration": 11,
    "start_time": "2021-10-07T18:54:07.076Z"
   },
   {
    "duration": 379,
    "start_time": "2021-10-07T18:54:07.089Z"
   },
   {
    "duration": 11,
    "start_time": "2021-10-07T18:54:07.470Z"
   },
   {
    "duration": 19,
    "start_time": "2021-10-07T18:54:07.484Z"
   },
   {
    "duration": 6,
    "start_time": "2021-10-07T18:54:07.505Z"
   },
   {
    "duration": 7,
    "start_time": "2021-10-07T18:54:07.514Z"
   },
   {
    "duration": 9,
    "start_time": "2021-10-07T18:54:07.562Z"
   },
   {
    "duration": 115,
    "start_time": "2021-10-07T18:54:07.573Z"
   },
   {
    "duration": 111,
    "start_time": "2021-10-07T18:54:07.691Z"
   },
   {
    "duration": 1904,
    "start_time": "2021-10-07T18:54:07.804Z"
   },
   {
    "duration": 527,
    "start_time": "2021-10-07T18:54:09.711Z"
   },
   {
    "duration": 27,
    "start_time": "2021-10-07T18:54:10.241Z"
   },
   {
    "duration": 434,
    "start_time": "2021-10-07T18:54:10.271Z"
   },
   {
    "duration": 13,
    "start_time": "2021-10-07T18:54:10.708Z"
   },
   {
    "duration": 446,
    "start_time": "2021-10-07T18:54:10.724Z"
   },
   {
    "duration": 13,
    "start_time": "2021-10-07T18:54:11.173Z"
   },
   {
    "duration": 463,
    "start_time": "2021-10-07T18:54:11.189Z"
   },
   {
    "duration": 13,
    "start_time": "2021-10-07T18:54:11.663Z"
   },
   {
    "duration": 47,
    "start_time": "2021-10-07T18:54:11.679Z"
   },
   {
    "duration": 42,
    "start_time": "2021-10-07T18:54:11.729Z"
   },
   {
    "duration": 13,
    "start_time": "2021-10-07T18:54:11.773Z"
   },
   {
    "duration": 450,
    "start_time": "2021-10-07T18:54:11.789Z"
   },
   {
    "duration": 474,
    "start_time": "2021-10-07T18:54:12.241Z"
   },
   {
    "duration": 403,
    "start_time": "2021-10-07T18:54:12.718Z"
   },
   {
    "duration": 480,
    "start_time": "2021-10-07T18:54:13.123Z"
   },
   {
    "duration": 59,
    "start_time": "2021-10-07T18:54:13.605Z"
   },
   {
    "duration": 42,
    "start_time": "2021-10-07T18:54:13.667Z"
   },
   {
    "duration": 8,
    "start_time": "2021-10-07T18:54:13.711Z"
   },
   {
    "duration": 41,
    "start_time": "2021-10-07T18:54:13.722Z"
   },
   {
    "duration": 16,
    "start_time": "2021-10-07T18:54:13.772Z"
   },
   {
    "duration": 9,
    "start_time": "2021-10-07T18:56:22.684Z"
   },
   {
    "duration": 55,
    "start_time": "2021-10-07T18:56:34.934Z"
   },
   {
    "duration": 330,
    "start_time": "2021-10-07T18:58:44.813Z"
   },
   {
    "duration": 10,
    "start_time": "2021-10-07T18:58:59.198Z"
   },
   {
    "duration": 56,
    "start_time": "2021-10-07T18:59:04.100Z"
   },
   {
    "duration": 13,
    "start_time": "2021-10-07T18:59:19.253Z"
   },
   {
    "duration": 14,
    "start_time": "2021-10-07T18:59:22.401Z"
   },
   {
    "duration": 6,
    "start_time": "2021-10-07T18:59:22.417Z"
   },
   {
    "duration": 7,
    "start_time": "2021-10-07T18:59:22.426Z"
   },
   {
    "duration": 10,
    "start_time": "2021-10-07T18:59:22.436Z"
   },
   {
    "duration": 114,
    "start_time": "2021-10-07T18:59:22.449Z"
   },
   {
    "duration": 125,
    "start_time": "2021-10-07T18:59:22.566Z"
   },
   {
    "duration": 2061,
    "start_time": "2021-10-07T18:59:22.694Z"
   },
   {
    "duration": 460,
    "start_time": "2021-10-07T18:59:24.759Z"
   },
   {
    "duration": 14,
    "start_time": "2021-10-07T18:59:25.222Z"
   },
   {
    "duration": 483,
    "start_time": "2021-10-07T18:59:25.239Z"
   },
   {
    "duration": 11,
    "start_time": "2021-10-07T18:59:25.726Z"
   },
   {
    "duration": 452,
    "start_time": "2021-10-07T18:59:25.739Z"
   },
   {
    "duration": 14,
    "start_time": "2021-10-07T18:59:26.194Z"
   },
   {
    "duration": 468,
    "start_time": "2021-10-07T18:59:26.211Z"
   },
   {
    "duration": 12,
    "start_time": "2021-10-07T18:59:26.682Z"
   },
   {
    "duration": 67,
    "start_time": "2021-10-07T18:59:26.696Z"
   },
   {
    "duration": 13,
    "start_time": "2021-10-07T18:59:26.766Z"
   },
   {
    "duration": 13,
    "start_time": "2021-10-07T18:59:26.782Z"
   },
   {
    "duration": 448,
    "start_time": "2021-10-07T18:59:26.798Z"
   },
   {
    "duration": 447,
    "start_time": "2021-10-07T18:59:27.249Z"
   },
   {
    "duration": 423,
    "start_time": "2021-10-07T18:59:27.698Z"
   },
   {
    "duration": 701,
    "start_time": "2021-10-07T18:59:28.125Z"
   },
   {
    "duration": 54,
    "start_time": "2021-10-07T18:59:28.829Z"
   },
   {
    "duration": 42,
    "start_time": "2021-10-07T18:59:28.886Z"
   },
   {
    "duration": 31,
    "start_time": "2021-10-07T18:59:28.931Z"
   },
   {
    "duration": 9,
    "start_time": "2021-10-07T18:59:28.964Z"
   },
   {
    "duration": 15,
    "start_time": "2021-10-07T18:59:28.976Z"
   },
   {
    "duration": 5,
    "start_time": "2021-10-07T19:06:46.609Z"
   },
   {
    "duration": 45,
    "start_time": "2021-10-07T19:06:53.610Z"
   },
   {
    "duration": 43,
    "start_time": "2021-10-07T19:07:06.944Z"
   },
   {
    "duration": 41,
    "start_time": "2021-10-07T19:07:57.121Z"
   },
   {
    "duration": 9,
    "start_time": "2021-10-07T19:08:00.933Z"
   },
   {
    "duration": 8,
    "start_time": "2021-10-07T19:08:02.867Z"
   },
   {
    "duration": 7,
    "start_time": "2021-10-07T19:30:43.947Z"
   },
   {
    "duration": 36,
    "start_time": "2021-10-07T19:31:03.117Z"
   },
   {
    "duration": 15,
    "start_time": "2021-10-07T19:31:11.976Z"
   },
   {
    "duration": 6,
    "start_time": "2021-10-07T19:31:13.691Z"
   },
   {
    "duration": 6,
    "start_time": "2021-10-07T19:31:15.265Z"
   },
   {
    "duration": 8,
    "start_time": "2021-10-07T19:31:17.584Z"
   },
   {
    "duration": 97,
    "start_time": "2021-10-07T19:31:19.311Z"
   },
   {
    "duration": 1532,
    "start_time": "2021-10-07T19:31:36.623Z"
   },
   {
    "duration": 585,
    "start_time": "2021-10-07T19:31:38.158Z"
   },
   {
    "duration": 20,
    "start_time": "2021-10-07T19:31:38.746Z"
   },
   {
    "duration": 10,
    "start_time": "2021-10-07T19:31:38.768Z"
   },
   {
    "duration": 26,
    "start_time": "2021-10-07T19:31:38.780Z"
   },
   {
    "duration": 10,
    "start_time": "2021-10-07T19:31:38.809Z"
   },
   {
    "duration": 68,
    "start_time": "2021-10-07T19:31:38.821Z"
   },
   {
    "duration": 20,
    "start_time": "2021-10-07T19:31:38.893Z"
   },
   {
    "duration": 9,
    "start_time": "2021-10-07T19:31:38.917Z"
   },
   {
    "duration": 47,
    "start_time": "2021-10-07T19:31:38.928Z"
   },
   {
    "duration": 16,
    "start_time": "2021-10-07T19:31:38.977Z"
   },
   {
    "duration": 14,
    "start_time": "2021-10-07T19:31:38.995Z"
   },
   {
    "duration": 13,
    "start_time": "2021-10-07T19:31:39.011Z"
   },
   {
    "duration": 12,
    "start_time": "2021-10-07T19:31:39.061Z"
   },
   {
    "duration": 19,
    "start_time": "2021-10-07T19:31:39.076Z"
   },
   {
    "duration": 97,
    "start_time": "2021-10-07T19:31:39.098Z"
   },
   {
    "duration": 6,
    "start_time": "2021-10-07T19:31:39.197Z"
   },
   {
    "duration": 4,
    "start_time": "2021-10-07T19:31:39.205Z"
   },
   {
    "duration": 18,
    "start_time": "2021-10-07T19:31:39.211Z"
   },
   {
    "duration": 171,
    "start_time": "2021-10-07T19:31:39.231Z"
   },
   {
    "duration": 13,
    "start_time": "2021-10-07T19:31:39.405Z"
   },
   {
    "duration": 160,
    "start_time": "2021-10-07T19:31:39.421Z"
   },
   {
    "duration": 716,
    "start_time": "2021-10-07T19:31:39.587Z"
   },
   {
    "duration": 38,
    "start_time": "2021-10-07T19:31:40.308Z"
   },
   {
    "duration": 51,
    "start_time": "2021-10-07T19:31:40.361Z"
   },
   {
    "duration": 55,
    "start_time": "2021-10-07T19:31:40.414Z"
   },
   {
    "duration": 22,
    "start_time": "2021-10-07T19:31:40.472Z"
   },
   {
    "duration": 21,
    "start_time": "2021-10-07T19:31:40.496Z"
   },
   {
    "duration": 130,
    "start_time": "2021-10-07T19:31:40.519Z"
   },
   {
    "duration": 30,
    "start_time": "2021-10-07T19:31:40.652Z"
   },
   {
    "duration": 50,
    "start_time": "2021-10-07T19:31:40.685Z"
   },
   {
    "duration": 28,
    "start_time": "2021-10-07T19:31:40.737Z"
   },
   {
    "duration": 40,
    "start_time": "2021-10-07T19:31:40.769Z"
   },
   {
    "duration": 11,
    "start_time": "2021-10-07T19:31:40.812Z"
   },
   {
    "duration": 84,
    "start_time": "2021-10-07T19:31:40.826Z"
   },
   {
    "duration": 11,
    "start_time": "2021-10-07T19:31:40.914Z"
   },
   {
    "duration": 36,
    "start_time": "2021-10-07T19:31:40.928Z"
   },
   {
    "duration": 37,
    "start_time": "2021-10-07T19:31:40.967Z"
   },
   {
    "duration": 8,
    "start_time": "2021-10-07T19:31:41.007Z"
   },
   {
    "duration": 45,
    "start_time": "2021-10-07T19:31:41.018Z"
   },
   {
    "duration": 5,
    "start_time": "2021-10-07T19:31:41.066Z"
   },
   {
    "duration": 4,
    "start_time": "2021-10-07T19:31:41.074Z"
   },
   {
    "duration": 7,
    "start_time": "2021-10-07T19:31:41.081Z"
   },
   {
    "duration": 31,
    "start_time": "2021-10-07T19:31:41.091Z"
   },
   {
    "duration": 41,
    "start_time": "2021-10-07T19:31:41.124Z"
   },
   {
    "duration": 6,
    "start_time": "2021-10-07T19:31:41.167Z"
   },
   {
    "duration": 19,
    "start_time": "2021-10-07T19:31:41.175Z"
   },
   {
    "duration": 10,
    "start_time": "2021-10-07T19:31:41.197Z"
   },
   {
    "duration": 114,
    "start_time": "2021-10-07T19:31:41.209Z"
   },
   {
    "duration": 95,
    "start_time": "2021-10-07T19:31:41.325Z"
   },
   {
    "duration": 1872,
    "start_time": "2021-10-07T19:31:41.422Z"
   },
   {
    "duration": 501,
    "start_time": "2021-10-07T19:31:43.296Z"
   },
   {
    "duration": 11,
    "start_time": "2021-10-07T19:31:43.799Z"
   },
   {
    "duration": 441,
    "start_time": "2021-10-07T19:31:43.812Z"
   },
   {
    "duration": 13,
    "start_time": "2021-10-07T19:31:44.256Z"
   },
   {
    "duration": 464,
    "start_time": "2021-10-07T19:31:44.272Z"
   },
   {
    "duration": 22,
    "start_time": "2021-10-07T19:31:44.739Z"
   },
   {
    "duration": 452,
    "start_time": "2021-10-07T19:31:44.764Z"
   },
   {
    "duration": 10,
    "start_time": "2021-10-07T19:31:45.219Z"
   },
   {
    "duration": 67,
    "start_time": "2021-10-07T19:31:45.232Z"
   },
   {
    "duration": 15,
    "start_time": "2021-10-07T19:31:45.303Z"
   },
   {
    "duration": 44,
    "start_time": "2021-10-07T19:31:45.320Z"
   },
   {
    "duration": 439,
    "start_time": "2021-10-07T19:31:45.366Z"
   },
   {
    "duration": 435,
    "start_time": "2021-10-07T19:31:45.807Z"
   },
   {
    "duration": 434,
    "start_time": "2021-10-07T19:31:46.244Z"
   },
   {
    "duration": 482,
    "start_time": "2021-10-07T19:31:46.681Z"
   },
   {
    "duration": 40,
    "start_time": "2021-10-07T19:31:47.165Z"
   },
   {
    "duration": 71,
    "start_time": "2021-10-07T19:31:47.212Z"
   },
   {
    "duration": 7,
    "start_time": "2021-10-07T19:31:47.285Z"
   },
   {
    "duration": 10,
    "start_time": "2021-10-07T19:31:47.294Z"
   },
   {
    "duration": 16,
    "start_time": "2021-10-07T19:31:47.306Z"
   },
   {
    "duration": 1224,
    "start_time": "2021-10-08T00:08:20.947Z"
   },
   {
    "duration": 466,
    "start_time": "2021-10-08T00:08:22.173Z"
   },
   {
    "duration": 21,
    "start_time": "2021-10-08T00:08:22.641Z"
   },
   {
    "duration": 22,
    "start_time": "2021-10-08T00:08:22.664Z"
   },
   {
    "duration": 26,
    "start_time": "2021-10-08T00:08:22.688Z"
   },
   {
    "duration": 27,
    "start_time": "2021-10-08T00:08:22.716Z"
   },
   {
    "duration": 45,
    "start_time": "2021-10-08T00:08:22.745Z"
   },
   {
    "duration": 16,
    "start_time": "2021-10-08T00:08:22.793Z"
   },
   {
    "duration": 19,
    "start_time": "2021-10-08T00:08:22.811Z"
   },
   {
    "duration": 36,
    "start_time": "2021-10-08T00:08:22.831Z"
   },
   {
    "duration": 14,
    "start_time": "2021-10-08T00:08:22.869Z"
   },
   {
    "duration": 23,
    "start_time": "2021-10-08T00:08:22.885Z"
   },
   {
    "duration": 13,
    "start_time": "2021-10-08T00:08:22.910Z"
   },
   {
    "duration": 20,
    "start_time": "2021-10-08T00:08:22.925Z"
   },
   {
    "duration": 42,
    "start_time": "2021-10-08T00:08:22.947Z"
   },
   {
    "duration": 64,
    "start_time": "2021-10-08T00:08:22.991Z"
   },
   {
    "duration": 7,
    "start_time": "2021-10-08T00:08:23.058Z"
   },
   {
    "duration": 11,
    "start_time": "2021-10-08T00:08:23.066Z"
   },
   {
    "duration": 36,
    "start_time": "2021-10-08T00:08:23.079Z"
   },
   {
    "duration": 143,
    "start_time": "2021-10-08T00:08:23.117Z"
   },
   {
    "duration": 11,
    "start_time": "2021-10-08T00:08:23.263Z"
   },
   {
    "duration": 133,
    "start_time": "2021-10-08T00:08:23.276Z"
   },
   {
    "duration": 484,
    "start_time": "2021-10-08T00:08:23.412Z"
   },
   {
    "duration": 29,
    "start_time": "2021-10-08T00:08:23.898Z"
   },
   {
    "duration": 59,
    "start_time": "2021-10-08T00:08:23.929Z"
   },
   {
    "duration": 30,
    "start_time": "2021-10-08T00:08:23.990Z"
   },
   {
    "duration": 39,
    "start_time": "2021-10-08T00:08:24.021Z"
   },
   {
    "duration": 14,
    "start_time": "2021-10-08T00:08:24.066Z"
   },
   {
    "duration": 100,
    "start_time": "2021-10-08T00:08:24.081Z"
   },
   {
    "duration": 17,
    "start_time": "2021-10-08T00:08:24.183Z"
   },
   {
    "duration": 55,
    "start_time": "2021-10-08T00:08:24.202Z"
   },
   {
    "duration": 6,
    "start_time": "2021-10-08T00:08:24.260Z"
   },
   {
    "duration": 19,
    "start_time": "2021-10-08T00:08:24.268Z"
   },
   {
    "duration": 7,
    "start_time": "2021-10-08T00:08:24.289Z"
   },
   {
    "duration": 62,
    "start_time": "2021-10-08T00:08:24.298Z"
   },
   {
    "duration": 7,
    "start_time": "2021-10-08T00:08:33.876Z"
   },
   {
    "duration": 5,
    "start_time": "2021-10-08T00:08:36.767Z"
   },
   {
    "duration": 27,
    "start_time": "2021-10-08T00:08:41.737Z"
   },
   {
    "duration": 7,
    "start_time": "2021-10-08T00:08:47.930Z"
   },
   {
    "duration": 5487,
    "start_time": "2021-10-08T00:09:12.710Z"
   },
   {
    "duration": 20,
    "start_time": "2021-10-08T00:09:22.878Z"
   },
   {
    "duration": 12,
    "start_time": "2021-10-08T00:09:29.453Z"
   },
   {
    "duration": 1193,
    "start_time": "2021-10-08T00:09:39.540Z"
   },
   {
    "duration": 462,
    "start_time": "2021-10-08T00:09:40.735Z"
   },
   {
    "duration": 13,
    "start_time": "2021-10-08T00:09:41.199Z"
   },
   {
    "duration": 7,
    "start_time": "2021-10-08T00:09:41.214Z"
   },
   {
    "duration": 16,
    "start_time": "2021-10-08T00:09:41.222Z"
   },
   {
    "duration": 8,
    "start_time": "2021-10-08T00:09:41.239Z"
   },
   {
    "duration": 39,
    "start_time": "2021-10-08T00:09:41.250Z"
   },
   {
    "duration": 17,
    "start_time": "2021-10-08T00:09:41.290Z"
   },
   {
    "duration": 13,
    "start_time": "2021-10-08T00:09:41.311Z"
   },
   {
    "duration": 25,
    "start_time": "2021-10-08T00:09:41.327Z"
   },
   {
    "duration": 18,
    "start_time": "2021-10-08T00:09:41.355Z"
   },
   {
    "duration": 9,
    "start_time": "2021-10-08T00:09:41.374Z"
   },
   {
    "duration": 9,
    "start_time": "2021-10-08T00:09:41.385Z"
   },
   {
    "duration": 10,
    "start_time": "2021-10-08T00:09:41.395Z"
   },
   {
    "duration": 46,
    "start_time": "2021-10-08T00:09:41.407Z"
   },
   {
    "duration": 54,
    "start_time": "2021-10-08T00:09:41.456Z"
   },
   {
    "duration": 5,
    "start_time": "2021-10-08T00:09:41.512Z"
   },
   {
    "duration": 10,
    "start_time": "2021-10-08T00:09:41.519Z"
   },
   {
    "duration": 31,
    "start_time": "2021-10-08T00:09:41.531Z"
   },
   {
    "duration": 148,
    "start_time": "2021-10-08T00:09:41.564Z"
   },
   {
    "duration": 10,
    "start_time": "2021-10-08T00:09:41.714Z"
   },
   {
    "duration": 130,
    "start_time": "2021-10-08T00:09:41.726Z"
   },
   {
    "duration": 482,
    "start_time": "2021-10-08T00:09:41.858Z"
   },
   {
    "duration": 38,
    "start_time": "2021-10-08T00:09:42.342Z"
   },
   {
    "duration": 36,
    "start_time": "2021-10-08T00:09:42.381Z"
   },
   {
    "duration": 55,
    "start_time": "2021-10-08T00:09:42.419Z"
   },
   {
    "duration": 14,
    "start_time": "2021-10-08T00:09:42.477Z"
   },
   {
    "duration": 14,
    "start_time": "2021-10-08T00:09:42.493Z"
   },
   {
    "duration": 106,
    "start_time": "2021-10-08T00:09:42.508Z"
   },
   {
    "duration": 16,
    "start_time": "2021-10-08T00:09:42.615Z"
   },
   {
    "duration": 52,
    "start_time": "2021-10-08T00:09:42.632Z"
   },
   {
    "duration": 4,
    "start_time": "2021-10-08T00:09:42.686Z"
   },
   {
    "duration": 20,
    "start_time": "2021-10-08T00:09:42.691Z"
   },
   {
    "duration": 7,
    "start_time": "2021-10-08T00:09:42.712Z"
   },
   {
    "duration": 54,
    "start_time": "2021-10-08T00:09:42.721Z"
   },
   {
    "duration": 5,
    "start_time": "2021-10-08T00:09:42.777Z"
   },
   {
    "duration": 5,
    "start_time": "2021-10-08T00:09:42.784Z"
   },
   {
    "duration": 25,
    "start_time": "2021-10-08T00:09:42.790Z"
   },
   {
    "duration": 7,
    "start_time": "2021-10-08T00:09:48.733Z"
   },
   {
    "duration": 24,
    "start_time": "2021-10-08T00:16:08.362Z"
   },
   {
    "duration": 7,
    "start_time": "2021-10-08T00:16:10.464Z"
   },
   {
    "duration": 16,
    "start_time": "2021-10-08T00:16:17.399Z"
   },
   {
    "duration": 11,
    "start_time": "2021-10-08T00:16:21.502Z"
   },
   {
    "duration": 5,
    "start_time": "2021-10-08T00:16:22.983Z"
   },
   {
    "duration": 4,
    "start_time": "2021-10-08T00:16:24.414Z"
   },
   {
    "duration": 8,
    "start_time": "2021-10-08T00:16:26.066Z"
   },
   {
    "duration": 51,
    "start_time": "2021-10-08T00:16:32.562Z"
   },
   {
    "duration": 7,
    "start_time": "2021-10-08T00:17:05.019Z"
   },
   {
    "duration": 5,
    "start_time": "2021-10-08T00:17:32.610Z"
   },
   {
    "duration": 1150,
    "start_time": "2021-10-08T00:17:35.621Z"
   },
   {
    "duration": 9,
    "start_time": "2021-10-08T00:17:43.930Z"
   },
   {
    "duration": 47,
    "start_time": "2021-10-08T00:17:52.886Z"
   },
   {
    "duration": 53,
    "start_time": "2021-10-08T00:17:55.752Z"
   },
   {
    "duration": 5,
    "start_time": "2021-10-08T00:17:57.991Z"
   },
   {
    "duration": 48,
    "start_time": "2021-10-08T00:17:59.897Z"
   },
   {
    "duration": 49,
    "start_time": "2021-10-08T00:18:10.276Z"
   },
   {
    "duration": 7,
    "start_time": "2021-10-08T00:18:22.378Z"
   },
   {
    "duration": 1263,
    "start_time": "2021-10-08T00:18:25.225Z"
   },
   {
    "duration": 267,
    "start_time": "2021-10-08T00:18:27.500Z"
   },
   {
    "duration": 8,
    "start_time": "2021-10-08T00:18:30.689Z"
   },
   {
    "duration": 264,
    "start_time": "2021-10-08T00:18:33.365Z"
   },
   {
    "duration": 8,
    "start_time": "2021-10-08T00:18:36.179Z"
   },
   {
    "duration": 258,
    "start_time": "2021-10-08T00:18:38.095Z"
   },
   {
    "duration": 8,
    "start_time": "2021-10-08T00:18:41.523Z"
   },
   {
    "duration": 1255,
    "start_time": "2021-10-08T00:19:09.275Z"
   },
   {
    "duration": 456,
    "start_time": "2021-10-08T00:19:10.532Z"
   },
   {
    "duration": 30,
    "start_time": "2021-10-08T00:19:10.990Z"
   },
   {
    "duration": 6,
    "start_time": "2021-10-08T00:19:11.022Z"
   },
   {
    "duration": 16,
    "start_time": "2021-10-08T00:19:11.030Z"
   },
   {
    "duration": 14,
    "start_time": "2021-10-08T00:19:11.047Z"
   },
   {
    "duration": 32,
    "start_time": "2021-10-08T00:19:11.063Z"
   },
   {
    "duration": 17,
    "start_time": "2021-10-08T00:19:11.098Z"
   },
   {
    "duration": 7,
    "start_time": "2021-10-08T00:19:11.117Z"
   },
   {
    "duration": 46,
    "start_time": "2021-10-08T00:19:11.126Z"
   },
   {
    "duration": 10,
    "start_time": "2021-10-08T00:19:11.174Z"
   },
   {
    "duration": 9,
    "start_time": "2021-10-08T00:19:11.186Z"
   },
   {
    "duration": 8,
    "start_time": "2021-10-08T00:19:11.196Z"
   },
   {
    "duration": 9,
    "start_time": "2021-10-08T00:19:11.205Z"
   },
   {
    "duration": 41,
    "start_time": "2021-10-08T00:19:11.215Z"
   },
   {
    "duration": 48,
    "start_time": "2021-10-08T00:19:11.258Z"
   },
   {
    "duration": 6,
    "start_time": "2021-10-08T00:19:11.308Z"
   },
   {
    "duration": 4,
    "start_time": "2021-10-08T00:19:11.316Z"
   },
   {
    "duration": 35,
    "start_time": "2021-10-08T00:19:11.321Z"
   },
   {
    "duration": 134,
    "start_time": "2021-10-08T00:19:11.358Z"
   },
   {
    "duration": 10,
    "start_time": "2021-10-08T00:19:11.494Z"
   },
   {
    "duration": 119,
    "start_time": "2021-10-08T00:19:11.505Z"
   },
   {
    "duration": 465,
    "start_time": "2021-10-08T00:19:11.627Z"
   },
   {
    "duration": 32,
    "start_time": "2021-10-08T00:19:12.094Z"
   },
   {
    "duration": 58,
    "start_time": "2021-10-08T00:19:12.127Z"
   },
   {
    "duration": 29,
    "start_time": "2021-10-08T00:19:12.187Z"
   },
   {
    "duration": 39,
    "start_time": "2021-10-08T00:19:12.218Z"
   },
   {
    "duration": 14,
    "start_time": "2021-10-08T00:19:12.259Z"
   },
   {
    "duration": 99,
    "start_time": "2021-10-08T00:19:12.275Z"
   },
   {
    "duration": 17,
    "start_time": "2021-10-08T00:19:12.376Z"
   },
   {
    "duration": 42,
    "start_time": "2021-10-08T00:19:12.395Z"
   },
   {
    "duration": 13,
    "start_time": "2021-10-08T00:19:12.438Z"
   },
   {
    "duration": 22,
    "start_time": "2021-10-08T00:19:12.453Z"
   },
   {
    "duration": 8,
    "start_time": "2021-10-08T00:19:12.477Z"
   },
   {
    "duration": 41,
    "start_time": "2021-10-08T00:19:12.487Z"
   },
   {
    "duration": 27,
    "start_time": "2021-10-08T00:19:12.529Z"
   },
   {
    "duration": 16,
    "start_time": "2021-10-08T00:19:12.558Z"
   },
   {
    "duration": 30,
    "start_time": "2021-10-08T00:19:33.838Z"
   },
   {
    "duration": 6,
    "start_time": "2021-10-08T00:19:38.975Z"
   },
   {
    "duration": 7,
    "start_time": "2021-10-08T00:19:58.556Z"
   },
   {
    "duration": 57,
    "start_time": "2021-10-08T00:20:00.749Z"
   },
   {
    "duration": 53,
    "start_time": "2021-10-08T00:20:11.044Z"
   },
   {
    "duration": 7,
    "start_time": "2021-10-08T00:20:23.300Z"
   },
   {
    "duration": 56,
    "start_time": "2021-10-08T00:20:35.225Z"
   },
   {
    "duration": 1067,
    "start_time": "2021-10-08T00:21:16.049Z"
   },
   {
    "duration": 256,
    "start_time": "2021-10-08T00:21:17.118Z"
   },
   {
    "duration": 8,
    "start_time": "2021-10-08T00:21:17.376Z"
   },
   {
    "duration": 350,
    "start_time": "2021-10-08T00:21:17.386Z"
   },
   {
    "duration": 14,
    "start_time": "2021-10-08T00:21:17.738Z"
   },
   {
    "duration": 261,
    "start_time": "2021-10-08T00:21:17.754Z"
   },
   {
    "duration": 8,
    "start_time": "2021-10-08T00:21:18.016Z"
   },
   {
    "duration": 375,
    "start_time": "2021-10-08T00:21:18.026Z"
   },
   {
    "duration": 8,
    "start_time": "2021-10-08T00:21:18.403Z"
   },
   {
    "duration": 38,
    "start_time": "2021-10-08T00:21:18.414Z"
   },
   {
    "duration": 9,
    "start_time": "2021-10-08T00:21:18.454Z"
   },
   {
    "duration": 9,
    "start_time": "2021-10-08T00:21:18.465Z"
   },
   {
    "duration": 257,
    "start_time": "2021-10-08T00:21:18.476Z"
   },
   {
    "duration": 260,
    "start_time": "2021-10-08T00:21:18.735Z"
   },
   {
    "duration": 383,
    "start_time": "2021-10-08T00:21:18.997Z"
   },
   {
    "duration": 297,
    "start_time": "2021-10-08T00:21:19.382Z"
   },
   {
    "duration": 25,
    "start_time": "2021-10-08T00:21:19.681Z"
   },
   {
    "duration": 46,
    "start_time": "2021-10-08T00:21:19.708Z"
   },
   {
    "duration": 6,
    "start_time": "2021-10-08T00:21:19.755Z"
   },
   {
    "duration": 10,
    "start_time": "2021-10-08T00:21:19.762Z"
   },
   {
    "duration": 10,
    "start_time": "2021-10-08T00:21:19.774Z"
   },
   {
    "duration": 10,
    "start_time": "2021-10-08T00:23:12.885Z"
   },
   {
    "duration": 9,
    "start_time": "2021-10-08T00:23:14.612Z"
   },
   {
    "duration": 240,
    "start_time": "2021-10-08T00:23:16.661Z"
   },
   {
    "duration": 254,
    "start_time": "2021-10-08T00:23:20.223Z"
   },
   {
    "duration": 263,
    "start_time": "2021-10-08T00:23:23.973Z"
   },
   {
    "duration": 240,
    "start_time": "2021-10-08T00:23:24.238Z"
   },
   {
    "duration": 384,
    "start_time": "2021-10-08T00:23:24.480Z"
   },
   {
    "duration": 27,
    "start_time": "2021-10-08T00:23:24.866Z"
   },
   {
    "duration": 26,
    "start_time": "2021-10-08T00:23:24.895Z"
   },
   {
    "duration": 30,
    "start_time": "2021-10-08T00:23:24.923Z"
   },
   {
    "duration": 9,
    "start_time": "2021-10-08T00:23:24.955Z"
   },
   {
    "duration": 10,
    "start_time": "2021-10-08T00:23:24.965Z"
   },
   {
    "duration": 1102,
    "start_time": "2021-10-08T00:23:44.690Z"
   },
   {
    "duration": 787,
    "start_time": "2021-10-08T00:23:45.794Z"
   },
   {
    "duration": 14,
    "start_time": "2021-10-08T00:23:46.583Z"
   },
   {
    "duration": 11,
    "start_time": "2021-10-08T00:23:46.599Z"
   },
   {
    "duration": 16,
    "start_time": "2021-10-08T00:23:46.611Z"
   },
   {
    "duration": 7,
    "start_time": "2021-10-08T00:23:46.629Z"
   },
   {
    "duration": 28,
    "start_time": "2021-10-08T00:23:46.638Z"
   },
   {
    "duration": 16,
    "start_time": "2021-10-08T00:23:46.667Z"
   },
   {
    "duration": 7,
    "start_time": "2021-10-08T00:23:46.686Z"
   },
   {
    "duration": 14,
    "start_time": "2021-10-08T00:23:46.694Z"
   },
   {
    "duration": 11,
    "start_time": "2021-10-08T00:23:46.709Z"
   },
   {
    "duration": 35,
    "start_time": "2021-10-08T00:23:46.721Z"
   },
   {
    "duration": 8,
    "start_time": "2021-10-08T00:23:46.758Z"
   },
   {
    "duration": 13,
    "start_time": "2021-10-08T00:23:46.768Z"
   },
   {
    "duration": 23,
    "start_time": "2021-10-08T00:23:46.783Z"
   },
   {
    "duration": 65,
    "start_time": "2021-10-08T00:23:46.808Z"
   },
   {
    "duration": 5,
    "start_time": "2021-10-08T00:23:46.874Z"
   },
   {
    "duration": 4,
    "start_time": "2021-10-08T00:23:46.880Z"
   },
   {
    "duration": 14,
    "start_time": "2021-10-08T00:23:46.885Z"
   },
   {
    "duration": 132,
    "start_time": "2021-10-08T00:23:46.900Z"
   },
   {
    "duration": 20,
    "start_time": "2021-10-08T00:23:47.034Z"
   },
   {
    "duration": 109,
    "start_time": "2021-10-08T00:23:47.056Z"
   },
   {
    "duration": 429,
    "start_time": "2021-10-08T00:23:47.166Z"
   },
   {
    "duration": 30,
    "start_time": "2021-10-08T00:23:47.597Z"
   },
   {
    "duration": 54,
    "start_time": "2021-10-08T00:23:47.628Z"
   },
   {
    "duration": 28,
    "start_time": "2021-10-08T00:23:47.684Z"
   },
   {
    "duration": 15,
    "start_time": "2021-10-08T00:23:47.716Z"
   },
   {
    "duration": 14,
    "start_time": "2021-10-08T00:23:47.750Z"
   },
   {
    "duration": 92,
    "start_time": "2021-10-08T00:23:47.766Z"
   },
   {
    "duration": 18,
    "start_time": "2021-10-08T00:23:47.860Z"
   },
   {
    "duration": 35,
    "start_time": "2021-10-08T00:23:47.879Z"
   },
   {
    "duration": 3,
    "start_time": "2021-10-08T00:23:47.916Z"
   },
   {
    "duration": 43,
    "start_time": "2021-10-08T00:23:47.921Z"
   },
   {
    "duration": 6,
    "start_time": "2021-10-08T00:23:47.966Z"
   },
   {
    "duration": 30,
    "start_time": "2021-10-08T00:23:47.974Z"
   },
   {
    "duration": 6,
    "start_time": "2021-10-08T00:23:48.006Z"
   },
   {
    "duration": 5,
    "start_time": "2021-10-08T00:23:48.013Z"
   },
   {
    "duration": 49,
    "start_time": "2021-10-08T00:23:48.020Z"
   },
   {
    "duration": 7,
    "start_time": "2021-10-08T00:23:48.070Z"
   },
   {
    "duration": 4,
    "start_time": "2021-10-08T00:23:48.078Z"
   },
   {
    "duration": 8,
    "start_time": "2021-10-08T00:23:48.084Z"
   },
   {
    "duration": 6,
    "start_time": "2021-10-08T00:23:48.093Z"
   },
   {
    "duration": 9,
    "start_time": "2021-10-08T00:23:48.101Z"
   },
   {
    "duration": 21,
    "start_time": "2021-10-08T00:23:48.111Z"
   },
   {
    "duration": 23,
    "start_time": "2021-10-08T00:23:48.134Z"
   },
   {
    "duration": 12,
    "start_time": "2021-10-08T00:23:48.159Z"
   },
   {
    "duration": 9,
    "start_time": "2021-10-08T00:23:48.172Z"
   },
   {
    "duration": 9,
    "start_time": "2021-10-08T00:23:48.183Z"
   },
   {
    "duration": 64,
    "start_time": "2021-10-08T00:23:48.194Z"
   },
   {
    "duration": 49,
    "start_time": "2021-10-08T00:23:48.260Z"
   },
   {
    "duration": 1190,
    "start_time": "2021-10-08T00:23:48.311Z"
   },
   {
    "duration": 328,
    "start_time": "2021-10-08T00:23:49.503Z"
   },
   {
    "duration": 19,
    "start_time": "2021-10-08T00:23:49.832Z"
   },
   {
    "duration": 248,
    "start_time": "2021-10-08T00:23:49.852Z"
   },
   {
    "duration": 9,
    "start_time": "2021-10-08T00:23:50.102Z"
   },
   {
    "duration": 264,
    "start_time": "2021-10-08T00:23:50.113Z"
   },
   {
    "duration": 8,
    "start_time": "2021-10-08T00:23:50.379Z"
   },
   {
    "duration": 256,
    "start_time": "2021-10-08T00:23:50.389Z"
   },
   {
    "duration": 8,
    "start_time": "2021-10-08T00:23:50.647Z"
   },
   {
    "duration": 32,
    "start_time": "2021-10-08T00:23:50.657Z"
   },
   {
    "duration": 10,
    "start_time": "2021-10-08T00:23:50.691Z"
   },
   {
    "duration": 9,
    "start_time": "2021-10-08T00:23:50.703Z"
   },
   {
    "duration": 278,
    "start_time": "2021-10-08T00:23:50.714Z"
   },
   {
    "duration": 257,
    "start_time": "2021-10-08T00:23:50.994Z"
   },
   {
    "duration": 231,
    "start_time": "2021-10-08T00:23:51.253Z"
   },
   {
    "duration": 267,
    "start_time": "2021-10-08T00:23:51.486Z"
   },
   {
    "duration": 25,
    "start_time": "2021-10-08T00:23:51.755Z"
   },
   {
    "duration": 26,
    "start_time": "2021-10-08T00:23:51.782Z"
   },
   {
    "duration": 5,
    "start_time": "2021-10-08T00:23:51.810Z"
   },
   {
    "duration": 35,
    "start_time": "2021-10-08T00:23:51.816Z"
   },
   {
    "duration": 12,
    "start_time": "2021-10-08T00:23:51.853Z"
   },
   {
    "duration": 20,
    "start_time": "2021-10-08T00:24:54.635Z"
   },
   {
    "duration": 1121,
    "start_time": "2021-10-08T00:25:12.182Z"
   },
   {
    "duration": 466,
    "start_time": "2021-10-08T00:25:13.305Z"
   },
   {
    "duration": 13,
    "start_time": "2021-10-08T00:25:13.774Z"
   },
   {
    "duration": 9,
    "start_time": "2021-10-08T00:25:13.789Z"
   },
   {
    "duration": 17,
    "start_time": "2021-10-08T00:25:13.800Z"
   },
   {
    "duration": 8,
    "start_time": "2021-10-08T00:25:13.818Z"
   },
   {
    "duration": 27,
    "start_time": "2021-10-08T00:25:13.827Z"
   },
   {
    "duration": 14,
    "start_time": "2021-10-08T00:25:13.857Z"
   },
   {
    "duration": 8,
    "start_time": "2021-10-08T00:25:13.873Z"
   },
   {
    "duration": 24,
    "start_time": "2021-10-08T00:25:13.882Z"
   },
   {
    "duration": 10,
    "start_time": "2021-10-08T00:25:13.908Z"
   },
   {
    "duration": 30,
    "start_time": "2021-10-08T00:25:13.920Z"
   },
   {
    "duration": 7,
    "start_time": "2021-10-08T00:25:13.952Z"
   },
   {
    "duration": 9,
    "start_time": "2021-10-08T00:25:13.961Z"
   },
   {
    "duration": 22,
    "start_time": "2021-10-08T00:25:13.972Z"
   },
   {
    "duration": 67,
    "start_time": "2021-10-08T00:25:13.996Z"
   },
   {
    "duration": 5,
    "start_time": "2021-10-08T00:25:14.065Z"
   },
   {
    "duration": 3,
    "start_time": "2021-10-08T00:25:14.072Z"
   },
   {
    "duration": 13,
    "start_time": "2021-10-08T00:25:14.077Z"
   },
   {
    "duration": 135,
    "start_time": "2021-10-08T00:25:14.092Z"
   },
   {
    "duration": 21,
    "start_time": "2021-10-08T00:25:14.229Z"
   },
   {
    "duration": 113,
    "start_time": "2021-10-08T00:25:14.252Z"
   },
   {
    "duration": 442,
    "start_time": "2021-10-08T00:25:14.368Z"
   },
   {
    "duration": 43,
    "start_time": "2021-10-08T00:25:14.812Z"
   },
   {
    "duration": 37,
    "start_time": "2021-10-08T00:25:14.857Z"
   },
   {
    "duration": 30,
    "start_time": "2021-10-08T00:25:14.896Z"
   },
   {
    "duration": 33,
    "start_time": "2021-10-08T00:25:14.928Z"
   },
   {
    "duration": 14,
    "start_time": "2021-10-08T00:25:14.963Z"
   },
   {
    "duration": 103,
    "start_time": "2021-10-08T00:25:14.979Z"
   },
   {
    "duration": 18,
    "start_time": "2021-10-08T00:25:15.084Z"
   },
   {
    "duration": 53,
    "start_time": "2021-10-08T00:25:15.104Z"
   },
   {
    "duration": 3,
    "start_time": "2021-10-08T00:25:15.159Z"
   },
   {
    "duration": 22,
    "start_time": "2021-10-08T00:25:15.164Z"
   },
   {
    "duration": 8,
    "start_time": "2021-10-08T00:25:15.187Z"
   },
   {
    "duration": 31,
    "start_time": "2021-10-08T00:25:15.196Z"
   },
   {
    "duration": 6,
    "start_time": "2021-10-08T00:25:15.249Z"
   },
   {
    "duration": 5,
    "start_time": "2021-10-08T00:25:15.257Z"
   },
   {
    "duration": 20,
    "start_time": "2021-10-08T00:25:20.920Z"
   },
   {
    "duration": 6,
    "start_time": "2021-10-08T00:25:25.476Z"
   },
   {
    "duration": 6,
    "start_time": "2021-10-08T00:25:41.289Z"
   },
   {
    "duration": 44,
    "start_time": "2021-10-08T00:25:45.094Z"
   },
   {
    "duration": 42,
    "start_time": "2021-10-08T00:25:54.676Z"
   },
   {
    "duration": 1076,
    "start_time": "2021-10-08T00:26:05.466Z"
   },
   {
    "duration": 249,
    "start_time": "2021-10-08T00:26:08.002Z"
   },
   {
    "duration": 8,
    "start_time": "2021-10-08T00:26:10.880Z"
   },
   {
    "duration": 335,
    "start_time": "2021-10-08T00:26:13.506Z"
   },
   {
    "duration": 9,
    "start_time": "2021-10-08T00:26:16.045Z"
   },
   {
    "duration": 8,
    "start_time": "2021-10-08T00:26:18.304Z"
   },
   {
    "duration": 250,
    "start_time": "2021-10-08T00:26:20.357Z"
   },
   {
    "duration": 13,
    "start_time": "2021-10-08T00:26:22.846Z"
   },
   {
    "duration": 259,
    "start_time": "2021-10-08T00:26:25.216Z"
   },
   {
    "duration": 10,
    "start_time": "2021-10-08T00:26:27.762Z"
   },
   {
    "duration": 31,
    "start_time": "2021-10-08T00:26:30.009Z"
   },
   {
    "duration": 14,
    "start_time": "2021-10-08T00:26:59.958Z"
   },
   {
    "duration": 17,
    "start_time": "2021-10-08T00:27:01.450Z"
   },
   {
    "duration": 261,
    "start_time": "2021-10-08T00:27:03.388Z"
   },
   {
    "duration": 262,
    "start_time": "2021-10-08T00:27:05.891Z"
   },
   {
    "duration": 248,
    "start_time": "2021-10-08T00:27:08.483Z"
   },
   {
    "duration": 295,
    "start_time": "2021-10-08T00:27:11.923Z"
   },
   {
    "duration": 33,
    "start_time": "2021-10-08T00:27:16.467Z"
   },
   {
    "duration": 28,
    "start_time": "2021-10-08T00:27:19.827Z"
   },
   {
    "duration": 5,
    "start_time": "2021-10-08T00:27:22.265Z"
   },
   {
    "duration": 7,
    "start_time": "2021-10-08T00:27:39.661Z"
   },
   {
    "duration": 8,
    "start_time": "2021-10-08T00:27:42.853Z"
   },
   {
    "duration": 13,
    "start_time": "2021-10-08T00:27:45.063Z"
   },
   {
    "duration": 4,
    "start_time": "2021-10-08T00:40:02.490Z"
   },
   {
    "duration": 74,
    "start_time": "2021-10-08T00:40:10.139Z"
   },
   {
    "duration": 14,
    "start_time": "2021-10-08T00:40:13.274Z"
   },
   {
    "duration": 1130,
    "start_time": "2021-10-08T00:40:28.296Z"
   },
   {
    "duration": 466,
    "start_time": "2021-10-08T00:40:29.428Z"
   },
   {
    "duration": 13,
    "start_time": "2021-10-08T00:40:29.896Z"
   },
   {
    "duration": 10,
    "start_time": "2021-10-08T00:40:29.911Z"
   },
   {
    "duration": 16,
    "start_time": "2021-10-08T00:40:29.923Z"
   },
   {
    "duration": 14,
    "start_time": "2021-10-08T00:40:29.941Z"
   },
   {
    "duration": 27,
    "start_time": "2021-10-08T00:40:29.958Z"
   },
   {
    "duration": 16,
    "start_time": "2021-10-08T00:40:29.987Z"
   },
   {
    "duration": 9,
    "start_time": "2021-10-08T00:40:30.006Z"
   },
   {
    "duration": 41,
    "start_time": "2021-10-08T00:40:30.017Z"
   },
   {
    "duration": 17,
    "start_time": "2021-10-08T00:40:30.060Z"
   },
   {
    "duration": 10,
    "start_time": "2021-10-08T00:40:30.079Z"
   },
   {
    "duration": 12,
    "start_time": "2021-10-08T00:40:30.090Z"
   },
   {
    "duration": 11,
    "start_time": "2021-10-08T00:40:30.104Z"
   },
   {
    "duration": 36,
    "start_time": "2021-10-08T00:40:30.117Z"
   },
   {
    "duration": 52,
    "start_time": "2021-10-08T00:40:30.155Z"
   },
   {
    "duration": 4,
    "start_time": "2021-10-08T00:40:30.209Z"
   },
   {
    "duration": 6,
    "start_time": "2021-10-08T00:40:30.215Z"
   },
   {
    "duration": 36,
    "start_time": "2021-10-08T00:40:30.222Z"
   },
   {
    "duration": 147,
    "start_time": "2021-10-08T00:40:30.266Z"
   },
   {
    "duration": 10,
    "start_time": "2021-10-08T00:40:30.414Z"
   },
   {
    "duration": 128,
    "start_time": "2021-10-08T00:40:30.426Z"
   },
   {
    "duration": 526,
    "start_time": "2021-10-08T00:40:30.557Z"
   },
   {
    "duration": 30,
    "start_time": "2021-10-08T00:40:31.085Z"
   },
   {
    "duration": 61,
    "start_time": "2021-10-08T00:40:31.117Z"
   },
   {
    "duration": 29,
    "start_time": "2021-10-08T00:40:31.179Z"
   },
   {
    "duration": 15,
    "start_time": "2021-10-08T00:40:31.211Z"
   },
   {
    "duration": 40,
    "start_time": "2021-10-08T00:40:31.228Z"
   },
   {
    "duration": 94,
    "start_time": "2021-10-08T00:40:31.269Z"
   },
   {
    "duration": 25,
    "start_time": "2021-10-08T00:40:31.366Z"
   },
   {
    "duration": 55,
    "start_time": "2021-10-08T00:40:31.394Z"
   },
   {
    "duration": 7,
    "start_time": "2021-10-08T00:40:31.451Z"
   },
   {
    "duration": 28,
    "start_time": "2021-10-08T00:40:31.460Z"
   },
   {
    "duration": 9,
    "start_time": "2021-10-08T00:40:31.490Z"
   },
   {
    "duration": 50,
    "start_time": "2021-10-08T00:40:31.501Z"
   },
   {
    "duration": 9,
    "start_time": "2021-10-08T00:40:31.554Z"
   },
   {
    "duration": 9,
    "start_time": "2021-10-08T00:40:31.565Z"
   },
   {
    "duration": 12,
    "start_time": "2021-10-08T00:40:31.576Z"
   },
   {
    "duration": 27,
    "start_time": "2021-10-08T00:40:31.589Z"
   },
   {
    "duration": 5,
    "start_time": "2021-10-08T00:40:31.618Z"
   },
   {
    "duration": 65,
    "start_time": "2021-10-08T00:41:28.375Z"
   },
   {
    "duration": 23,
    "start_time": "2021-10-08T00:41:32.136Z"
   },
   {
    "duration": 197,
    "start_time": "2021-10-08T00:41:47.899Z"
   },
   {
    "duration": 21,
    "start_time": "2021-10-08T00:42:02.527Z"
   },
   {
    "duration": 13,
    "start_time": "2021-10-08T00:42:15.855Z"
   },
   {
    "duration": 7,
    "start_time": "2021-10-08T00:42:22.437Z"
   },
   {
    "duration": 61,
    "start_time": "2021-10-08T00:42:24.136Z"
   },
   {
    "duration": 54,
    "start_time": "2021-10-08T00:42:29.728Z"
   },
   {
    "duration": 1155,
    "start_time": "2021-10-08T00:42:38.364Z"
   },
   {
    "duration": 10,
    "start_time": "2021-10-08T00:42:45.782Z"
   },
   {
    "duration": 362,
    "start_time": "2021-10-08T00:42:45.794Z"
   },
   {
    "duration": 10,
    "start_time": "2021-10-08T00:42:46.160Z"
   },
   {
    "duration": 279,
    "start_time": "2021-10-08T00:42:46.173Z"
   },
   {
    "duration": 11,
    "start_time": "2021-10-08T00:42:46.454Z"
   },
   {
    "duration": 289,
    "start_time": "2021-10-08T00:42:46.467Z"
   },
   {
    "duration": 10,
    "start_time": "2021-10-08T00:42:46.759Z"
   },
   {
    "duration": 35,
    "start_time": "2021-10-08T00:42:46.771Z"
   },
   {
    "duration": 9,
    "start_time": "2021-10-08T00:42:46.808Z"
   },
   {
    "duration": 39,
    "start_time": "2021-10-08T00:42:46.819Z"
   },
   {
    "duration": 273,
    "start_time": "2021-10-08T00:42:46.860Z"
   },
   {
    "duration": 274,
    "start_time": "2021-10-08T00:42:47.135Z"
   },
   {
    "duration": 242,
    "start_time": "2021-10-08T00:42:47.411Z"
   },
   {
    "duration": 312,
    "start_time": "2021-10-08T00:42:47.656Z"
   },
   {
    "duration": 28,
    "start_time": "2021-10-08T00:42:47.970Z"
   },
   {
    "duration": 26,
    "start_time": "2021-10-08T00:42:48.000Z"
   },
   {
    "duration": 8,
    "start_time": "2021-10-08T00:42:48.054Z"
   },
   {
    "duration": 13,
    "start_time": "2021-10-08T00:42:48.064Z"
   },
   {
    "duration": 21,
    "start_time": "2021-10-08T00:42:48.078Z"
   },
   {
    "duration": 12,
    "start_time": "2021-10-08T00:43:28.359Z"
   },
   {
    "duration": 10,
    "start_time": "2021-10-08T00:43:32.211Z"
   },
   {
    "duration": 256,
    "start_time": "2021-10-08T00:43:34.270Z"
   },
   {
    "duration": 17,
    "start_time": "2021-10-08T00:43:43.203Z"
   },
   {
    "duration": 9,
    "start_time": "2021-10-08T00:43:43.222Z"
   },
   {
    "duration": 264,
    "start_time": "2021-10-08T00:43:43.233Z"
   },
   {
    "duration": 280,
    "start_time": "2021-10-08T00:43:43.499Z"
   },
   {
    "duration": 278,
    "start_time": "2021-10-08T00:43:43.782Z"
   },
   {
    "duration": 414,
    "start_time": "2021-10-08T00:43:44.063Z"
   },
   {
    "duration": 27,
    "start_time": "2021-10-08T00:43:44.479Z"
   },
   {
    "duration": 49,
    "start_time": "2021-10-08T00:43:44.508Z"
   },
   {
    "duration": 10,
    "start_time": "2021-10-08T00:43:44.559Z"
   },
   {
    "duration": 6,
    "start_time": "2021-10-08T00:43:44.571Z"
   },
   {
    "duration": 11,
    "start_time": "2021-10-08T00:43:44.579Z"
   },
   {
    "duration": 1140,
    "start_time": "2021-10-08T00:44:21.182Z"
   },
   {
    "duration": 462,
    "start_time": "2021-10-08T00:44:22.324Z"
   },
   {
    "duration": 14,
    "start_time": "2021-10-08T00:44:22.788Z"
   },
   {
    "duration": 11,
    "start_time": "2021-10-08T00:44:22.804Z"
   },
   {
    "duration": 17,
    "start_time": "2021-10-08T00:44:22.816Z"
   },
   {
    "duration": 7,
    "start_time": "2021-10-08T00:44:22.835Z"
   },
   {
    "duration": 34,
    "start_time": "2021-10-08T00:44:22.844Z"
   },
   {
    "duration": 17,
    "start_time": "2021-10-08T00:44:22.882Z"
   },
   {
    "duration": 7,
    "start_time": "2021-10-08T00:44:22.902Z"
   },
   {
    "duration": 13,
    "start_time": "2021-10-08T00:44:22.911Z"
   },
   {
    "duration": 20,
    "start_time": "2021-10-08T00:44:22.949Z"
   },
   {
    "duration": 9,
    "start_time": "2021-10-08T00:44:22.971Z"
   },
   {
    "duration": 9,
    "start_time": "2021-10-08T00:44:22.981Z"
   },
   {
    "duration": 11,
    "start_time": "2021-10-08T00:44:22.992Z"
   },
   {
    "duration": 49,
    "start_time": "2021-10-08T00:44:23.004Z"
   },
   {
    "duration": 53,
    "start_time": "2021-10-08T00:44:23.055Z"
   },
   {
    "duration": 4,
    "start_time": "2021-10-08T00:44:23.110Z"
   },
   {
    "duration": 4,
    "start_time": "2021-10-08T00:44:23.116Z"
   },
   {
    "duration": 39,
    "start_time": "2021-10-08T00:44:23.121Z"
   },
   {
    "duration": 143,
    "start_time": "2021-10-08T00:44:23.163Z"
   },
   {
    "duration": 9,
    "start_time": "2021-10-08T00:44:23.308Z"
   },
   {
    "duration": 119,
    "start_time": "2021-10-08T00:44:23.318Z"
   },
   {
    "duration": 476,
    "start_time": "2021-10-08T00:44:23.441Z"
   },
   {
    "duration": 50,
    "start_time": "2021-10-08T00:44:23.920Z"
   },
   {
    "duration": 37,
    "start_time": "2021-10-08T00:44:23.972Z"
   },
   {
    "duration": 50,
    "start_time": "2021-10-08T00:44:24.011Z"
   },
   {
    "duration": 16,
    "start_time": "2021-10-08T00:44:24.064Z"
   },
   {
    "duration": 13,
    "start_time": "2021-10-08T00:44:24.081Z"
   },
   {
    "duration": 107,
    "start_time": "2021-10-08T00:44:24.096Z"
   },
   {
    "duration": 16,
    "start_time": "2021-10-08T00:44:24.205Z"
   },
   {
    "duration": 53,
    "start_time": "2021-10-08T00:44:24.222Z"
   },
   {
    "duration": 4,
    "start_time": "2021-10-08T00:44:24.277Z"
   },
   {
    "duration": 19,
    "start_time": "2021-10-08T00:44:24.283Z"
   },
   {
    "duration": 7,
    "start_time": "2021-10-08T00:44:24.304Z"
   },
   {
    "duration": 63,
    "start_time": "2021-10-08T00:44:24.313Z"
   },
   {
    "duration": 7,
    "start_time": "2021-10-08T00:44:24.378Z"
   },
   {
    "duration": 5,
    "start_time": "2021-10-08T00:44:24.387Z"
   },
   {
    "duration": 4,
    "start_time": "2021-10-08T00:44:24.394Z"
   },
   {
    "duration": 7,
    "start_time": "2021-10-08T00:44:24.400Z"
   },
   {
    "duration": 2,
    "start_time": "2021-10-08T00:44:24.409Z"
   },
   {
    "duration": 202,
    "start_time": "2021-10-08T00:44:24.449Z"
   },
   {
    "duration": 3,
    "start_time": "2021-10-08T00:44:24.653Z"
   },
   {
    "duration": 8,
    "start_time": "2021-10-08T00:44:24.658Z"
   },
   {
    "duration": 21,
    "start_time": "2021-10-08T00:44:24.668Z"
   },
   {
    "duration": 6,
    "start_time": "2021-10-08T00:44:24.691Z"
   },
   {
    "duration": 16,
    "start_time": "2021-10-08T00:44:24.698Z"
   },
   {
    "duration": 4,
    "start_time": "2021-10-08T00:44:24.715Z"
   },
   {
    "duration": 34,
    "start_time": "2021-10-08T00:44:24.721Z"
   },
   {
    "duration": 10,
    "start_time": "2021-10-08T00:44:24.757Z"
   },
   {
    "duration": 55,
    "start_time": "2021-10-08T00:44:24.769Z"
   },
   {
    "duration": 87,
    "start_time": "2021-10-08T00:44:24.825Z"
   },
   {
    "duration": 1161,
    "start_time": "2021-10-08T00:44:24.913Z"
   },
   {
    "duration": 375,
    "start_time": "2021-10-08T00:44:26.077Z"
   },
   {
    "duration": 13,
    "start_time": "2021-10-08T00:44:26.455Z"
   },
   {
    "duration": 272,
    "start_time": "2021-10-08T00:44:26.470Z"
   },
   {
    "duration": 13,
    "start_time": "2021-10-08T00:44:26.744Z"
   },
   {
    "duration": 288,
    "start_time": "2021-10-08T00:44:26.761Z"
   },
   {
    "duration": 9,
    "start_time": "2021-10-08T00:44:27.053Z"
   },
   {
    "duration": 273,
    "start_time": "2021-10-08T00:44:27.063Z"
   },
   {
    "duration": 21,
    "start_time": "2021-10-08T00:44:27.337Z"
   },
   {
    "duration": 34,
    "start_time": "2021-10-08T00:44:27.360Z"
   },
   {
    "duration": 9,
    "start_time": "2021-10-08T00:44:27.396Z"
   },
   {
    "duration": 9,
    "start_time": "2021-10-08T00:44:27.407Z"
   },
   {
    "duration": 271,
    "start_time": "2021-10-08T00:44:27.450Z"
   },
   {
    "duration": 294,
    "start_time": "2021-10-08T00:44:27.722Z"
   },
   {
    "duration": 294,
    "start_time": "2021-10-08T00:44:28.018Z"
   },
   {
    "duration": 290,
    "start_time": "2021-10-08T00:44:28.314Z"
   },
   {
    "duration": 25,
    "start_time": "2021-10-08T00:44:28.609Z"
   },
   {
    "duration": 42,
    "start_time": "2021-10-08T00:44:28.636Z"
   },
   {
    "duration": 6,
    "start_time": "2021-10-08T00:44:28.680Z"
   },
   {
    "duration": 8,
    "start_time": "2021-10-08T00:44:28.688Z"
   },
   {
    "duration": 15,
    "start_time": "2021-10-08T00:44:28.697Z"
   },
   {
    "duration": 1193,
    "start_time": "2021-10-08T00:54:18.224Z"
   },
   {
    "duration": 458,
    "start_time": "2021-10-08T00:54:19.419Z"
   },
   {
    "duration": 14,
    "start_time": "2021-10-08T00:54:19.879Z"
   },
   {
    "duration": 7,
    "start_time": "2021-10-08T00:54:19.895Z"
   },
   {
    "duration": 14,
    "start_time": "2021-10-08T00:54:19.904Z"
   },
   {
    "duration": 9,
    "start_time": "2021-10-08T00:54:19.920Z"
   },
   {
    "duration": 26,
    "start_time": "2021-10-08T00:54:19.931Z"
   },
   {
    "duration": 23,
    "start_time": "2021-10-08T00:54:19.959Z"
   },
   {
    "duration": 6,
    "start_time": "2021-10-08T00:54:19.985Z"
   },
   {
    "duration": 13,
    "start_time": "2021-10-08T00:54:19.994Z"
   },
   {
    "duration": 41,
    "start_time": "2021-10-08T00:54:20.009Z"
   },
   {
    "duration": 15,
    "start_time": "2021-10-08T00:54:20.053Z"
   },
   {
    "duration": 12,
    "start_time": "2021-10-08T00:54:20.070Z"
   },
   {
    "duration": 14,
    "start_time": "2021-10-08T00:54:20.084Z"
   },
   {
    "duration": 17,
    "start_time": "2021-10-08T00:54:20.100Z"
   },
   {
    "duration": 77,
    "start_time": "2021-10-08T00:54:20.118Z"
   },
   {
    "duration": 5,
    "start_time": "2021-10-08T00:54:20.196Z"
   },
   {
    "duration": 11,
    "start_time": "2021-10-08T00:54:20.202Z"
   },
   {
    "duration": 13,
    "start_time": "2021-10-08T00:54:20.215Z"
   },
   {
    "duration": 135,
    "start_time": "2021-10-08T00:54:20.229Z"
   },
   {
    "duration": 12,
    "start_time": "2021-10-08T00:54:20.367Z"
   },
   {
    "duration": 115,
    "start_time": "2021-10-08T00:54:20.381Z"
   },
   {
    "duration": 486,
    "start_time": "2021-10-08T00:54:20.497Z"
   },
   {
    "duration": 31,
    "start_time": "2021-10-08T00:54:20.985Z"
   },
   {
    "duration": 61,
    "start_time": "2021-10-08T00:54:21.018Z"
   },
   {
    "duration": 29,
    "start_time": "2021-10-08T00:54:21.081Z"
   },
   {
    "duration": 14,
    "start_time": "2021-10-08T00:54:21.113Z"
   },
   {
    "duration": 35,
    "start_time": "2021-10-08T00:54:21.129Z"
   },
   {
    "duration": 93,
    "start_time": "2021-10-08T00:54:21.166Z"
   },
   {
    "duration": 22,
    "start_time": "2021-10-08T00:54:21.263Z"
   },
   {
    "duration": 35,
    "start_time": "2021-10-08T00:54:21.287Z"
   },
   {
    "duration": 9,
    "start_time": "2021-10-08T00:54:21.349Z"
   },
   {
    "duration": 21,
    "start_time": "2021-10-08T00:54:21.361Z"
   },
   {
    "duration": 7,
    "start_time": "2021-10-08T00:54:21.384Z"
   },
   {
    "duration": 28,
    "start_time": "2021-10-08T00:54:21.392Z"
   },
   {
    "duration": 35,
    "start_time": "2021-10-08T00:54:21.422Z"
   },
   {
    "duration": 8,
    "start_time": "2021-10-08T00:54:21.460Z"
   },
   {
    "duration": 5,
    "start_time": "2021-10-08T00:54:21.470Z"
   },
   {
    "duration": 9,
    "start_time": "2021-10-08T00:54:21.476Z"
   },
   {
    "duration": 3,
    "start_time": "2021-10-08T00:54:21.486Z"
   },
   {
    "duration": 234,
    "start_time": "2021-10-08T00:54:21.490Z"
   },
   {
    "duration": 2,
    "start_time": "2021-10-08T00:54:21.726Z"
   },
   {
    "duration": 5,
    "start_time": "2021-10-08T00:54:21.730Z"
   },
   {
    "duration": 40,
    "start_time": "2021-10-08T00:54:21.737Z"
   },
   {
    "duration": 11,
    "start_time": "2021-10-08T00:54:31.558Z"
   },
   {
    "duration": 58,
    "start_time": "2021-10-08T00:54:32.841Z"
   },
   {
    "duration": 57,
    "start_time": "2021-10-08T00:54:45.245Z"
   },
   {
    "duration": 1164,
    "start_time": "2021-10-08T00:55:00.922Z"
   },
   {
    "duration": 346,
    "start_time": "2021-10-08T00:55:02.505Z"
   },
   {
    "duration": 266,
    "start_time": "2021-10-08T00:55:05.483Z"
   },
   {
    "duration": 7,
    "start_time": "2021-10-08T00:55:11.622Z"
   },
   {
    "duration": 269,
    "start_time": "2021-10-08T00:55:14.328Z"
   },
   {
    "duration": 9,
    "start_time": "2021-10-08T00:55:16.811Z"
   },
   {
    "duration": 276,
    "start_time": "2021-10-08T00:55:20.317Z"
   },
   {
    "duration": 12,
    "start_time": "2021-10-08T00:55:20.755Z"
   },
   {
    "duration": 262,
    "start_time": "2021-10-08T00:55:22.375Z"
   },
   {
    "duration": 8,
    "start_time": "2021-10-08T00:55:23.831Z"
   },
   {
    "duration": 28,
    "start_time": "2021-10-08T00:55:25.819Z"
   },
   {
    "duration": 11,
    "start_time": "2021-10-08T00:55:35.799Z"
   },
   {
    "duration": 10,
    "start_time": "2021-10-08T00:56:15.968Z"
   },
   {
    "duration": 277,
    "start_time": "2021-10-08T00:56:18.663Z"
   },
   {
    "duration": 256,
    "start_time": "2021-10-08T00:56:22.863Z"
   },
   {
    "duration": 278,
    "start_time": "2021-10-08T00:56:25.385Z"
   },
   {
    "duration": 285,
    "start_time": "2021-10-08T00:56:43.930Z"
   },
   {
    "duration": 8,
    "start_time": "2021-10-08T01:12:45.563Z"
   },
   {
    "duration": 772,
    "start_time": "2021-10-08T01:12:45.573Z"
   },
   {
    "duration": 16,
    "start_time": "2021-10-08T01:12:46.347Z"
   },
   {
    "duration": 8,
    "start_time": "2021-10-08T01:12:46.367Z"
   },
   {
    "duration": 17,
    "start_time": "2021-10-08T01:12:46.377Z"
   },
   {
    "duration": 8,
    "start_time": "2021-10-08T01:12:46.396Z"
   },
   {
    "duration": 55,
    "start_time": "2021-10-08T01:12:46.406Z"
   },
   {
    "duration": 18,
    "start_time": "2021-10-08T01:12:46.464Z"
   },
   {
    "duration": 9,
    "start_time": "2021-10-08T01:12:46.484Z"
   },
   {
    "duration": 12,
    "start_time": "2021-10-08T01:12:46.495Z"
   },
   {
    "duration": 12,
    "start_time": "2021-10-08T01:12:46.509Z"
   },
   {
    "duration": 16,
    "start_time": "2021-10-08T01:12:46.554Z"
   },
   {
    "duration": 7,
    "start_time": "2021-10-08T01:12:46.572Z"
   },
   {
    "duration": 13,
    "start_time": "2021-10-08T01:12:46.581Z"
   },
   {
    "duration": 15,
    "start_time": "2021-10-08T01:12:46.596Z"
   },
   {
    "duration": 81,
    "start_time": "2021-10-08T01:12:46.613Z"
   },
   {
    "duration": 4,
    "start_time": "2021-10-08T01:12:46.696Z"
   },
   {
    "duration": 4,
    "start_time": "2021-10-08T01:12:46.702Z"
   },
   {
    "duration": 15,
    "start_time": "2021-10-08T01:12:46.707Z"
   },
   {
    "duration": 158,
    "start_time": "2021-10-08T01:12:46.724Z"
   },
   {
    "duration": 9,
    "start_time": "2021-10-08T01:12:46.884Z"
   },
   {
    "duration": 121,
    "start_time": "2021-10-08T01:12:46.895Z"
   },
   {
    "duration": 474,
    "start_time": "2021-10-08T01:12:47.018Z"
   },
   {
    "duration": 28,
    "start_time": "2021-10-08T01:12:47.494Z"
   },
   {
    "duration": 56,
    "start_time": "2021-10-08T01:12:47.524Z"
   },
   {
    "duration": 28,
    "start_time": "2021-10-08T01:12:47.582Z"
   },
   {
    "duration": 15,
    "start_time": "2021-10-08T01:12:47.613Z"
   },
   {
    "duration": 18,
    "start_time": "2021-10-08T01:12:47.655Z"
   },
   {
    "duration": 91,
    "start_time": "2021-10-08T01:12:47.675Z"
   },
   {
    "duration": 24,
    "start_time": "2021-10-08T01:12:47.769Z"
   },
   {
    "duration": 61,
    "start_time": "2021-10-08T01:12:47.794Z"
   },
   {
    "duration": 5,
    "start_time": "2021-10-08T01:12:47.857Z"
   },
   {
    "duration": 23,
    "start_time": "2021-10-08T01:12:47.864Z"
   },
   {
    "duration": 7,
    "start_time": "2021-10-08T01:12:47.889Z"
   },
   {
    "duration": 30,
    "start_time": "2021-10-08T01:12:47.898Z"
   },
   {
    "duration": 28,
    "start_time": "2021-10-08T01:12:47.930Z"
   },
   {
    "duration": 9,
    "start_time": "2021-10-08T01:12:47.961Z"
   },
   {
    "duration": 20,
    "start_time": "2021-10-08T01:13:07.895Z"
   },
   {
    "duration": 19,
    "start_time": "2021-10-08T01:13:26.673Z"
   },
   {
    "duration": 21,
    "start_time": "2021-10-08T01:13:31.587Z"
   },
   {
    "duration": 8,
    "start_time": "2021-10-08T01:13:37.369Z"
   },
   {
    "duration": 7,
    "start_time": "2021-10-08T01:14:19.895Z"
   },
   {
    "duration": 44,
    "start_time": "2021-10-08T01:14:21.468Z"
   },
   {
    "duration": 1157,
    "start_time": "2021-10-08T01:15:57.073Z"
   },
   {
    "duration": 466,
    "start_time": "2021-10-08T01:15:58.232Z"
   },
   {
    "duration": 15,
    "start_time": "2021-10-08T01:15:58.700Z"
   },
   {
    "duration": 9,
    "start_time": "2021-10-08T01:15:58.717Z"
   },
   {
    "duration": 17,
    "start_time": "2021-10-08T01:15:58.728Z"
   },
   {
    "duration": 11,
    "start_time": "2021-10-08T01:15:58.747Z"
   },
   {
    "duration": 36,
    "start_time": "2021-10-08T01:15:58.760Z"
   },
   {
    "duration": 16,
    "start_time": "2021-10-08T01:15:58.798Z"
   },
   {
    "duration": 17,
    "start_time": "2021-10-08T01:15:58.816Z"
   },
   {
    "duration": 30,
    "start_time": "2021-10-08T01:15:58.834Z"
   },
   {
    "duration": 12,
    "start_time": "2021-10-08T01:15:58.869Z"
   },
   {
    "duration": 17,
    "start_time": "2021-10-08T01:15:58.883Z"
   },
   {
    "duration": 8,
    "start_time": "2021-10-08T01:15:58.902Z"
   },
   {
    "duration": 20,
    "start_time": "2021-10-08T01:15:58.912Z"
   },
   {
    "duration": 38,
    "start_time": "2021-10-08T01:15:58.933Z"
   },
   {
    "duration": 52,
    "start_time": "2021-10-08T01:15:58.973Z"
   },
   {
    "duration": 4,
    "start_time": "2021-10-08T01:15:59.027Z"
   },
   {
    "duration": 16,
    "start_time": "2021-10-08T01:15:59.033Z"
   },
   {
    "duration": 15,
    "start_time": "2021-10-08T01:15:59.051Z"
   },
   {
    "duration": 144,
    "start_time": "2021-10-08T01:15:59.078Z"
   },
   {
    "duration": 9,
    "start_time": "2021-10-08T01:15:59.224Z"
   },
   {
    "duration": 113,
    "start_time": "2021-10-08T01:15:59.235Z"
   },
   {
    "duration": 564,
    "start_time": "2021-10-08T01:15:59.354Z"
   },
   {
    "duration": 51,
    "start_time": "2021-10-08T01:15:59.921Z"
   },
   {
    "duration": 42,
    "start_time": "2021-10-08T01:15:59.974Z"
   },
   {
    "duration": 49,
    "start_time": "2021-10-08T01:16:00.018Z"
   },
   {
    "duration": 14,
    "start_time": "2021-10-08T01:16:00.069Z"
   },
   {
    "duration": 12,
    "start_time": "2021-10-08T01:16:00.085Z"
   },
   {
    "duration": 110,
    "start_time": "2021-10-08T01:16:00.098Z"
   },
   {
    "duration": 16,
    "start_time": "2021-10-08T01:16:00.210Z"
   },
   {
    "duration": 58,
    "start_time": "2021-10-08T01:16:00.228Z"
   },
   {
    "duration": 4,
    "start_time": "2021-10-08T01:16:00.287Z"
   },
   {
    "duration": 21,
    "start_time": "2021-10-08T01:16:00.293Z"
   },
   {
    "duration": 17,
    "start_time": "2021-10-08T01:16:00.316Z"
   },
   {
    "duration": 52,
    "start_time": "2021-10-08T01:16:00.335Z"
   },
   {
    "duration": 8,
    "start_time": "2021-10-08T01:16:00.388Z"
   },
   {
    "duration": 17,
    "start_time": "2021-10-08T01:16:00.397Z"
   },
   {
    "duration": 29,
    "start_time": "2021-10-08T01:16:00.416Z"
   },
   {
    "duration": 2,
    "start_time": "2021-10-08T01:16:00.447Z"
   },
   {
    "duration": 18,
    "start_time": "2021-10-08T01:16:00.453Z"
   },
   {
    "duration": 10,
    "start_time": "2021-10-08T01:16:00.473Z"
   },
   {
    "duration": 12,
    "start_time": "2021-10-08T01:16:00.485Z"
   },
   {
    "duration": 24,
    "start_time": "2021-10-08T01:16:00.498Z"
   },
   {
    "duration": 8,
    "start_time": "2021-10-08T01:16:00.523Z"
   },
   {
    "duration": 6,
    "start_time": "2021-10-08T01:16:16.185Z"
   },
   {
    "duration": 43,
    "start_time": "2021-10-08T01:16:17.713Z"
   },
   {
    "duration": 53,
    "start_time": "2021-10-08T01:16:20.024Z"
   },
   {
    "duration": 1165,
    "start_time": "2021-10-08T01:16:28.549Z"
   },
   {
    "duration": 265,
    "start_time": "2021-10-08T01:16:30.264Z"
   },
   {
    "duration": 12,
    "start_time": "2021-10-08T01:16:31.854Z"
   },
   {
    "duration": 356,
    "start_time": "2021-10-08T01:16:33.758Z"
   },
   {
    "duration": 8,
    "start_time": "2021-10-08T01:16:36.474Z"
   },
   {
    "duration": 278,
    "start_time": "2021-10-08T01:16:39.228Z"
   },
   {
    "duration": 8,
    "start_time": "2021-10-08T01:16:42.017Z"
   },
   {
    "duration": 265,
    "start_time": "2021-10-08T01:16:44.084Z"
   },
   {
    "duration": 8,
    "start_time": "2021-10-08T01:16:46.795Z"
   },
   {
    "duration": -463,
    "start_time": "2021-10-08T01:17:12.482Z"
   },
   {
    "duration": 37,
    "start_time": "2021-10-08T01:17:21.038Z"
   },
   {
    "duration": 14,
    "start_time": "2021-10-08T01:19:44.446Z"
   },
   {
    "duration": 9,
    "start_time": "2021-10-08T01:19:45.921Z"
   },
   {
    "duration": 263,
    "start_time": "2021-10-08T01:19:50.172Z"
   },
   {
    "duration": 263,
    "start_time": "2021-10-08T01:19:52.870Z"
   },
   {
    "duration": 246,
    "start_time": "2021-10-08T01:20:10.252Z"
   },
   {
    "duration": 284,
    "start_time": "2021-10-08T01:20:14.019Z"
   },
   {
    "duration": 298,
    "start_time": "2021-10-08T01:20:43.333Z"
   },
   {
    "duration": 312,
    "start_time": "2021-10-08T01:21:06.217Z"
   },
   {
    "duration": 36,
    "start_time": "2021-10-08T01:21:21.841Z"
   },
   {
    "duration": 33,
    "start_time": "2021-10-08T01:21:24.435Z"
   },
   {
    "duration": 5,
    "start_time": "2021-10-08T01:21:26.288Z"
   },
   {
    "duration": 6,
    "start_time": "2021-10-08T01:21:38.139Z"
   },
   {
    "duration": 13,
    "start_time": "2021-10-08T01:21:48.539Z"
   },
   {
    "duration": 241,
    "start_time": "2021-10-08T01:22:43.417Z"
   },
   {
    "duration": 245,
    "start_time": "2021-10-08T01:23:26.010Z"
   },
   {
    "duration": 3,
    "start_time": "2021-10-08T01:24:14.461Z"
   },
   {
    "duration": 2,
    "start_time": "2021-10-08T01:24:16.135Z"
   },
   {
    "duration": 3,
    "start_time": "2021-10-08T01:24:19.096Z"
   },
   {
    "duration": -540,
    "start_time": "2021-10-08T01:48:44.848Z"
   },
   {
    "duration": -335,
    "start_time": "2021-10-08T01:48:52.092Z"
   },
   {
    "duration": 148,
    "start_time": "2021-10-08T01:48:54.069Z"
   },
   {
    "duration": 12,
    "start_time": "2021-10-08T01:49:35.777Z"
   },
   {
    "duration": 9,
    "start_time": "2021-10-08T01:50:24.195Z"
   },
   {
    "duration": 16,
    "start_time": "2021-10-08T01:50:25.698Z"
   },
   {
    "duration": 17,
    "start_time": "2021-10-08T01:50:28.065Z"
   },
   {
    "duration": 1164,
    "start_time": "2021-10-08T01:50:42.358Z"
   },
   {
    "duration": 466,
    "start_time": "2021-10-08T01:50:43.524Z"
   },
   {
    "duration": 14,
    "start_time": "2021-10-08T01:50:43.993Z"
   },
   {
    "duration": 6,
    "start_time": "2021-10-08T01:50:44.009Z"
   },
   {
    "duration": 16,
    "start_time": "2021-10-08T01:50:44.017Z"
   },
   {
    "duration": 6,
    "start_time": "2021-10-08T01:50:44.035Z"
   },
   {
    "duration": 36,
    "start_time": "2021-10-08T01:50:44.043Z"
   },
   {
    "duration": 16,
    "start_time": "2021-10-08T01:50:44.082Z"
   },
   {
    "duration": 9,
    "start_time": "2021-10-08T01:50:44.100Z"
   },
   {
    "duration": 14,
    "start_time": "2021-10-08T01:50:44.110Z"
   },
   {
    "duration": 31,
    "start_time": "2021-10-08T01:50:44.126Z"
   },
   {
    "duration": 13,
    "start_time": "2021-10-08T01:50:44.160Z"
   },
   {
    "duration": 8,
    "start_time": "2021-10-08T01:50:44.174Z"
   },
   {
    "duration": 13,
    "start_time": "2021-10-08T01:50:44.184Z"
   },
   {
    "duration": 20,
    "start_time": "2021-10-08T01:50:44.199Z"
   },
   {
    "duration": 83,
    "start_time": "2021-10-08T01:50:44.221Z"
   },
   {
    "duration": 6,
    "start_time": "2021-10-08T01:50:44.306Z"
   },
   {
    "duration": 2,
    "start_time": "2021-10-08T01:50:44.314Z"
   },
   {
    "duration": 42,
    "start_time": "2021-10-08T01:50:44.318Z"
   },
   {
    "duration": 128,
    "start_time": "2021-10-08T01:50:44.363Z"
   },
   {
    "duration": 9,
    "start_time": "2021-10-08T01:50:44.493Z"
   },
   {
    "duration": 114,
    "start_time": "2021-10-08T01:50:44.503Z"
   },
   {
    "duration": 467,
    "start_time": "2021-10-08T01:50:44.621Z"
   },
   {
    "duration": 29,
    "start_time": "2021-10-08T01:50:45.090Z"
   },
   {
    "duration": 56,
    "start_time": "2021-10-08T01:50:45.121Z"
   },
   {
    "duration": 27,
    "start_time": "2021-10-08T01:50:45.179Z"
   },
   {
    "duration": 12,
    "start_time": "2021-10-08T01:50:45.208Z"
   },
   {
    "duration": 42,
    "start_time": "2021-10-08T01:50:45.221Z"
   },
   {
    "duration": 85,
    "start_time": "2021-10-08T01:50:45.266Z"
   },
   {
    "duration": 23,
    "start_time": "2021-10-08T01:50:45.354Z"
   },
   {
    "duration": 35,
    "start_time": "2021-10-08T01:50:45.380Z"
   },
   {
    "duration": 33,
    "start_time": "2021-10-08T01:50:45.417Z"
   },
   {
    "duration": 22,
    "start_time": "2021-10-08T01:50:45.453Z"
   },
   {
    "duration": 7,
    "start_time": "2021-10-08T01:50:45.476Z"
   },
   {
    "duration": 29,
    "start_time": "2021-10-08T01:50:45.485Z"
   },
   {
    "duration": 5,
    "start_time": "2021-10-08T01:50:45.516Z"
   },
   {
    "duration": 7,
    "start_time": "2021-10-08T01:50:45.554Z"
   },
   {
    "duration": 39,
    "start_time": "2021-10-08T01:50:45.563Z"
   },
   {
    "duration": 7,
    "start_time": "2021-10-08T01:50:45.605Z"
   },
   {
    "duration": 70,
    "start_time": "2021-10-08T01:50:45.613Z"
   },
   {
    "duration": 43,
    "start_time": "2021-10-08T01:50:45.685Z"
   },
   {
    "duration": 1184,
    "start_time": "2021-10-08T01:50:45.731Z"
   },
   {
    "duration": 271,
    "start_time": "2021-10-08T01:50:46.918Z"
   },
   {
    "duration": 8,
    "start_time": "2021-10-08T01:50:47.192Z"
   },
   {
    "duration": 377,
    "start_time": "2021-10-08T01:50:47.202Z"
   },
   {
    "duration": 9,
    "start_time": "2021-10-08T01:50:47.581Z"
   },
   {
    "duration": 287,
    "start_time": "2021-10-08T01:50:47.592Z"
   },
   {
    "duration": 8,
    "start_time": "2021-10-08T01:50:47.880Z"
   },
   {
    "duration": 283,
    "start_time": "2021-10-08T01:50:47.889Z"
   },
   {
    "duration": 8,
    "start_time": "2021-10-08T01:50:48.174Z"
   },
   {
    "duration": 33,
    "start_time": "2021-10-08T01:50:48.183Z"
   },
   {
    "duration": 39,
    "start_time": "2021-10-08T01:50:48.218Z"
   },
   {
    "duration": 20,
    "start_time": "2021-10-08T01:50:48.260Z"
   },
   {
    "duration": 337,
    "start_time": "2021-10-08T01:50:48.282Z"
   },
   {
    "duration": 258,
    "start_time": "2021-10-08T01:50:48.621Z"
   },
   {
    "duration": 286,
    "start_time": "2021-10-08T01:50:48.881Z"
   },
   {
    "duration": 276,
    "start_time": "2021-10-08T01:50:49.169Z"
   },
   {
    "duration": 34,
    "start_time": "2021-10-08T01:50:49.446Z"
   },
   {
    "duration": 27,
    "start_time": "2021-10-08T01:50:49.482Z"
   },
   {
    "duration": 5,
    "start_time": "2021-10-08T01:50:49.511Z"
   },
   {
    "duration": 36,
    "start_time": "2021-10-08T01:50:49.518Z"
   },
   {
    "duration": 16,
    "start_time": "2021-10-08T01:50:49.557Z"
   },
   {
    "duration": 11,
    "start_time": "2021-10-08T01:51:39.239Z"
   },
   {
    "duration": 10,
    "start_time": "2021-10-08T01:51:40.766Z"
   },
   {
    "duration": 1189,
    "start_time": "2021-10-08T01:51:49.431Z"
   },
   {
    "duration": 490,
    "start_time": "2021-10-08T01:51:50.622Z"
   },
   {
    "duration": 17,
    "start_time": "2021-10-08T01:51:51.114Z"
   },
   {
    "duration": 9,
    "start_time": "2021-10-08T01:51:51.133Z"
   },
   {
    "duration": 31,
    "start_time": "2021-10-08T01:51:51.144Z"
   },
   {
    "duration": 7,
    "start_time": "2021-10-08T01:51:51.177Z"
   },
   {
    "duration": 34,
    "start_time": "2021-10-08T01:51:51.186Z"
   },
   {
    "duration": 15,
    "start_time": "2021-10-08T01:51:51.223Z"
   },
   {
    "duration": 17,
    "start_time": "2021-10-08T01:51:51.248Z"
   },
   {
    "duration": 20,
    "start_time": "2021-10-08T01:51:51.267Z"
   },
   {
    "duration": 12,
    "start_time": "2021-10-08T01:51:51.288Z"
   },
   {
    "duration": 11,
    "start_time": "2021-10-08T01:51:51.302Z"
   },
   {
    "duration": 10,
    "start_time": "2021-10-08T01:51:51.315Z"
   },
   {
    "duration": 35,
    "start_time": "2021-10-08T01:51:51.327Z"
   },
   {
    "duration": 20,
    "start_time": "2021-10-08T01:51:51.365Z"
   },
   {
    "duration": 69,
    "start_time": "2021-10-08T01:51:51.388Z"
   },
   {
    "duration": 6,
    "start_time": "2021-10-08T01:51:51.463Z"
   },
   {
    "duration": 3,
    "start_time": "2021-10-08T01:51:51.471Z"
   },
   {
    "duration": 14,
    "start_time": "2021-10-08T01:51:51.476Z"
   },
   {
    "duration": 125,
    "start_time": "2021-10-08T01:51:51.491Z"
   },
   {
    "duration": 9,
    "start_time": "2021-10-08T01:51:51.618Z"
   },
   {
    "duration": 110,
    "start_time": "2021-10-08T01:51:51.629Z"
   },
   {
    "duration": 463,
    "start_time": "2021-10-08T01:51:51.743Z"
   },
   {
    "duration": 43,
    "start_time": "2021-10-08T01:51:52.209Z"
   },
   {
    "duration": 41,
    "start_time": "2021-10-08T01:51:52.255Z"
   },
   {
    "duration": 27,
    "start_time": "2021-10-08T01:51:52.298Z"
   },
   {
    "duration": 34,
    "start_time": "2021-10-08T01:51:52.326Z"
   },
   {
    "duration": 19,
    "start_time": "2021-10-08T01:51:52.362Z"
   },
   {
    "duration": 100,
    "start_time": "2021-10-08T01:51:52.382Z"
   },
   {
    "duration": 15,
    "start_time": "2021-10-08T01:51:52.484Z"
   },
   {
    "duration": 49,
    "start_time": "2021-10-08T01:51:52.501Z"
   },
   {
    "duration": 5,
    "start_time": "2021-10-08T01:51:52.553Z"
   },
   {
    "duration": 23,
    "start_time": "2021-10-08T01:51:52.560Z"
   },
   {
    "duration": 6,
    "start_time": "2021-10-08T01:51:52.585Z"
   },
   {
    "duration": 28,
    "start_time": "2021-10-08T01:51:52.593Z"
   },
   {
    "duration": 35,
    "start_time": "2021-10-08T01:51:52.622Z"
   },
   {
    "duration": 10,
    "start_time": "2021-10-08T01:51:52.659Z"
   },
   {
    "duration": 23,
    "start_time": "2021-10-08T01:51:52.670Z"
   },
   {
    "duration": 5,
    "start_time": "2021-10-08T01:51:52.695Z"
   },
   {
    "duration": 80,
    "start_time": "2021-10-08T01:51:52.701Z"
   },
   {
    "duration": 40,
    "start_time": "2021-10-08T01:51:52.783Z"
   },
   {
    "duration": 1157,
    "start_time": "2021-10-08T01:51:52.825Z"
   },
   {
    "duration": 353,
    "start_time": "2021-10-08T01:51:53.984Z"
   },
   {
    "duration": 12,
    "start_time": "2021-10-08T01:51:54.339Z"
   },
   {
    "duration": 274,
    "start_time": "2021-10-08T01:51:54.353Z"
   },
   {
    "duration": 8,
    "start_time": "2021-10-08T01:51:54.628Z"
   },
   {
    "duration": 289,
    "start_time": "2021-10-08T01:51:54.650Z"
   },
   {
    "duration": 14,
    "start_time": "2021-10-08T01:51:54.941Z"
   },
   {
    "duration": 288,
    "start_time": "2021-10-08T01:51:54.957Z"
   },
   {
    "duration": 13,
    "start_time": "2021-10-08T01:51:55.254Z"
   },
   {
    "duration": 36,
    "start_time": "2021-10-08T01:51:55.273Z"
   },
   {
    "duration": 11,
    "start_time": "2021-10-08T01:51:55.311Z"
   },
   {
    "duration": 17,
    "start_time": "2021-10-08T01:51:55.351Z"
   },
   {
    "duration": 281,
    "start_time": "2021-10-08T01:51:55.372Z"
   },
   {
    "duration": 269,
    "start_time": "2021-10-08T01:51:55.655Z"
   },
   {
    "duration": 270,
    "start_time": "2021-10-08T01:51:55.926Z"
   },
   {
    "duration": 275,
    "start_time": "2021-10-08T01:51:56.197Z"
   },
   {
    "duration": 25,
    "start_time": "2021-10-08T01:51:56.474Z"
   },
   {
    "duration": 26,
    "start_time": "2021-10-08T01:51:56.501Z"
   },
   {
    "duration": 13,
    "start_time": "2021-10-08T01:51:56.550Z"
   },
   {
    "duration": 15,
    "start_time": "2021-10-08T01:51:56.565Z"
   },
   {
    "duration": 16,
    "start_time": "2021-10-08T01:51:56.582Z"
   },
   {
    "duration": 26,
    "start_time": "2021-10-08T01:52:16.683Z"
   },
   {
    "duration": 26,
    "start_time": "2021-10-08T01:53:07.217Z"
   },
   {
    "duration": 6,
    "start_time": "2021-10-08T01:56:33.738Z"
   },
   {
    "duration": 8,
    "start_time": "2021-10-08T02:02:25.481Z"
   },
   {
    "duration": 8,
    "start_time": "2021-10-08T02:02:27.159Z"
   },
   {
    "duration": 9,
    "start_time": "2021-10-08T02:02:38.957Z"
   },
   {
    "duration": 30,
    "start_time": "2021-10-08T03:30:22.512Z"
   },
   {
    "duration": 346,
    "start_time": "2021-10-08T17:32:27.591Z"
   },
   {
    "duration": 1163,
    "start_time": "2021-10-08T17:32:38.237Z"
   },
   {
    "duration": 441,
    "start_time": "2021-10-08T17:32:39.402Z"
   },
   {
    "duration": 14,
    "start_time": "2021-10-08T17:32:39.845Z"
   },
   {
    "duration": 15,
    "start_time": "2021-10-08T17:32:39.861Z"
   },
   {
    "duration": 26,
    "start_time": "2021-10-08T17:32:39.878Z"
   },
   {
    "duration": 10,
    "start_time": "2021-10-08T17:32:39.906Z"
   },
   {
    "duration": 49,
    "start_time": "2021-10-08T17:32:39.918Z"
   },
   {
    "duration": 15,
    "start_time": "2021-10-08T17:32:39.969Z"
   },
   {
    "duration": 22,
    "start_time": "2021-10-08T17:32:39.986Z"
   },
   {
    "duration": 26,
    "start_time": "2021-10-08T17:32:40.011Z"
   },
   {
    "duration": 19,
    "start_time": "2021-10-08T17:32:40.039Z"
   },
   {
    "duration": 19,
    "start_time": "2021-10-08T17:32:40.060Z"
   },
   {
    "duration": 16,
    "start_time": "2021-10-08T17:32:40.081Z"
   },
   {
    "duration": 24,
    "start_time": "2021-10-08T17:32:40.099Z"
   },
   {
    "duration": 31,
    "start_time": "2021-10-08T17:32:40.125Z"
   },
   {
    "duration": 51,
    "start_time": "2021-10-08T17:32:40.158Z"
   },
   {
    "duration": 5,
    "start_time": "2021-10-08T17:32:40.210Z"
   },
   {
    "duration": 12,
    "start_time": "2021-10-08T17:32:40.217Z"
   },
   {
    "duration": 136,
    "start_time": "2021-10-08T17:32:40.230Z"
   },
   {
    "duration": 10,
    "start_time": "2021-10-08T17:32:40.367Z"
   },
   {
    "duration": 110,
    "start_time": "2021-10-08T17:32:40.378Z"
   },
   {
    "duration": 431,
    "start_time": "2021-10-08T17:32:40.489Z"
   },
   {
    "duration": 38,
    "start_time": "2021-10-08T17:32:40.922Z"
   },
   {
    "duration": 37,
    "start_time": "2021-10-08T17:32:40.961Z"
   },
   {
    "duration": 29,
    "start_time": "2021-10-08T17:32:41.000Z"
   },
   {
    "duration": 30,
    "start_time": "2021-10-08T17:32:41.031Z"
   },
   {
    "duration": 13,
    "start_time": "2021-10-08T17:32:41.064Z"
   },
   {
    "duration": 95,
    "start_time": "2021-10-08T17:32:41.079Z"
   },
   {
    "duration": 17,
    "start_time": "2021-10-08T17:32:41.175Z"
   },
   {
    "duration": 33,
    "start_time": "2021-10-08T17:32:41.194Z"
   },
   {
    "duration": 5,
    "start_time": "2021-10-08T17:32:41.249Z"
   },
   {
    "duration": 18,
    "start_time": "2021-10-08T17:32:41.256Z"
   },
   {
    "duration": 8,
    "start_time": "2021-10-08T17:32:41.276Z"
   },
   {
    "duration": 34,
    "start_time": "2021-10-08T17:32:41.286Z"
   },
   {
    "duration": 29,
    "start_time": "2021-10-08T17:32:41.322Z"
   },
   {
    "duration": 5,
    "start_time": "2021-10-08T17:32:41.353Z"
   },
   {
    "duration": 80,
    "start_time": "2021-10-08T17:33:27.770Z"
   },
   {
    "duration": 23,
    "start_time": "2021-10-08T17:34:24.555Z"
   },
   {
    "duration": 19,
    "start_time": "2021-10-08T17:34:34.176Z"
   },
   {
    "duration": 21,
    "start_time": "2021-10-08T17:34:41.546Z"
   },
   {
    "duration": 6408,
    "start_time": "2021-10-08T17:44:20.083Z"
   },
   {
    "duration": 194,
    "start_time": "2021-10-08T17:44:39.093Z"
   },
   {
    "duration": 1190,
    "start_time": "2021-10-08T17:45:31.118Z"
   },
   {
    "duration": 456,
    "start_time": "2021-10-08T17:45:32.310Z"
   },
   {
    "duration": 15,
    "start_time": "2021-10-08T17:45:32.768Z"
   },
   {
    "duration": 10,
    "start_time": "2021-10-08T17:45:32.785Z"
   },
   {
    "duration": 32,
    "start_time": "2021-10-08T17:45:32.797Z"
   },
   {
    "duration": 7,
    "start_time": "2021-10-08T17:45:32.831Z"
   },
   {
    "duration": 42,
    "start_time": "2021-10-08T17:45:32.840Z"
   },
   {
    "duration": 16,
    "start_time": "2021-10-08T17:45:32.884Z"
   },
   {
    "duration": 7,
    "start_time": "2021-10-08T17:45:32.903Z"
   },
   {
    "duration": 36,
    "start_time": "2021-10-08T17:45:32.912Z"
   },
   {
    "duration": 24,
    "start_time": "2021-10-08T17:45:32.950Z"
   },
   {
    "duration": 19,
    "start_time": "2021-10-08T17:45:32.976Z"
   },
   {
    "duration": 15,
    "start_time": "2021-10-08T17:45:32.997Z"
   },
   {
    "duration": 10,
    "start_time": "2021-10-08T17:45:33.014Z"
   },
   {
    "duration": 24,
    "start_time": "2021-10-08T17:45:33.026Z"
   },
   {
    "duration": 48,
    "start_time": "2021-10-08T17:45:33.052Z"
   },
   {
    "duration": 4,
    "start_time": "2021-10-08T17:45:33.101Z"
   },
   {
    "duration": 29,
    "start_time": "2021-10-08T17:45:33.107Z"
   },
   {
    "duration": 122,
    "start_time": "2021-10-08T17:45:33.138Z"
   },
   {
    "duration": 9,
    "start_time": "2021-10-08T17:45:33.262Z"
   },
   {
    "duration": 116,
    "start_time": "2021-10-08T17:45:33.273Z"
   },
   {
    "duration": 446,
    "start_time": "2021-10-08T17:45:33.390Z"
   },
   {
    "duration": 35,
    "start_time": "2021-10-08T17:45:33.838Z"
   },
   {
    "duration": 36,
    "start_time": "2021-10-08T17:45:33.875Z"
   },
   {
    "duration": 47,
    "start_time": "2021-10-08T17:45:33.912Z"
   },
   {
    "duration": 15,
    "start_time": "2021-10-08T17:45:33.961Z"
   },
   {
    "duration": 14,
    "start_time": "2021-10-08T17:45:33.981Z"
   },
   {
    "duration": 100,
    "start_time": "2021-10-08T17:45:33.998Z"
   },
   {
    "duration": 18,
    "start_time": "2021-10-08T17:45:34.100Z"
   },
   {
    "duration": 55,
    "start_time": "2021-10-08T17:45:34.120Z"
   },
   {
    "duration": 3,
    "start_time": "2021-10-08T17:45:34.177Z"
   },
   {
    "duration": 25,
    "start_time": "2021-10-08T17:45:34.182Z"
   },
   {
    "duration": 27,
    "start_time": "2021-10-08T17:45:34.209Z"
   },
   {
    "duration": 43,
    "start_time": "2021-10-08T17:45:34.238Z"
   },
   {
    "duration": 8,
    "start_time": "2021-10-08T17:45:34.283Z"
   },
   {
    "duration": 9,
    "start_time": "2021-10-08T17:45:34.293Z"
   },
   {
    "duration": 31,
    "start_time": "2021-10-08T17:45:34.304Z"
   },
   {
    "duration": 4,
    "start_time": "2021-10-08T17:45:34.338Z"
   },
   {
    "duration": 187,
    "start_time": "2021-10-08T17:45:34.348Z"
   },
   {
    "duration": 12,
    "start_time": "2021-10-08T17:45:34.537Z"
   },
   {
    "duration": 64,
    "start_time": "2021-10-08T17:45:34.550Z"
   },
   {
    "duration": 55,
    "start_time": "2021-10-08T17:45:34.616Z"
   },
   {
    "duration": 1078,
    "start_time": "2021-10-08T17:45:34.673Z"
   },
   {
    "duration": 347,
    "start_time": "2021-10-08T17:45:35.753Z"
   },
   {
    "duration": 8,
    "start_time": "2021-10-08T17:45:36.101Z"
   },
   {
    "duration": 261,
    "start_time": "2021-10-08T17:45:36.110Z"
   },
   {
    "duration": 8,
    "start_time": "2021-10-08T17:45:36.372Z"
   },
   {
    "duration": 261,
    "start_time": "2021-10-08T17:45:36.382Z"
   },
   {
    "duration": 8,
    "start_time": "2021-10-08T17:45:36.645Z"
   },
   {
    "duration": 259,
    "start_time": "2021-10-08T17:45:36.654Z"
   },
   {
    "duration": 7,
    "start_time": "2021-10-08T17:45:36.915Z"
   },
   {
    "duration": 48,
    "start_time": "2021-10-08T17:45:36.924Z"
   },
   {
    "duration": 9,
    "start_time": "2021-10-08T17:45:36.974Z"
   },
   {
    "duration": 10,
    "start_time": "2021-10-08T17:45:36.985Z"
   },
   {
    "duration": 270,
    "start_time": "2021-10-08T17:45:36.996Z"
   },
   {
    "duration": 257,
    "start_time": "2021-10-08T17:45:37.268Z"
   },
   {
    "duration": 236,
    "start_time": "2021-10-08T17:45:37.527Z"
   },
   {
    "duration": 251,
    "start_time": "2021-10-08T17:45:37.765Z"
   },
   {
    "duration": 34,
    "start_time": "2021-10-08T17:45:38.018Z"
   },
   {
    "duration": 26,
    "start_time": "2021-10-08T17:45:38.053Z"
   },
   {
    "duration": 4,
    "start_time": "2021-10-08T17:45:38.081Z"
   },
   {
    "duration": 34,
    "start_time": "2021-10-08T17:45:38.087Z"
   },
   {
    "duration": 27,
    "start_time": "2021-10-08T17:45:38.123Z"
   },
   {
    "duration": 1214,
    "start_time": "2021-10-08T17:53:00.062Z"
   },
   {
    "duration": 453,
    "start_time": "2021-10-08T17:53:01.278Z"
   },
   {
    "duration": 16,
    "start_time": "2021-10-08T17:53:01.733Z"
   },
   {
    "duration": 8,
    "start_time": "2021-10-08T17:53:01.752Z"
   },
   {
    "duration": 28,
    "start_time": "2021-10-08T17:53:01.762Z"
   },
   {
    "duration": 27,
    "start_time": "2021-10-08T17:53:01.792Z"
   },
   {
    "duration": 46,
    "start_time": "2021-10-08T17:53:01.821Z"
   },
   {
    "duration": 17,
    "start_time": "2021-10-08T17:53:01.869Z"
   },
   {
    "duration": 30,
    "start_time": "2021-10-08T17:53:01.889Z"
   },
   {
    "duration": 40,
    "start_time": "2021-10-08T17:53:01.921Z"
   },
   {
    "duration": 18,
    "start_time": "2021-10-08T17:53:01.963Z"
   },
   {
    "duration": 16,
    "start_time": "2021-10-08T17:53:01.983Z"
   },
   {
    "duration": 14,
    "start_time": "2021-10-08T17:53:02.002Z"
   },
   {
    "duration": 28,
    "start_time": "2021-10-08T17:53:02.018Z"
   },
   {
    "duration": 25,
    "start_time": "2021-10-08T17:53:02.047Z"
   },
   {
    "duration": 62,
    "start_time": "2021-10-08T17:53:02.073Z"
   },
   {
    "duration": 4,
    "start_time": "2021-10-08T17:53:02.137Z"
   },
   {
    "duration": 20,
    "start_time": "2021-10-08T17:53:02.142Z"
   },
   {
    "duration": 121,
    "start_time": "2021-10-08T17:53:02.164Z"
   },
   {
    "duration": 9,
    "start_time": "2021-10-08T17:53:02.287Z"
   },
   {
    "duration": 120,
    "start_time": "2021-10-08T17:53:02.298Z"
   },
   {
    "duration": 450,
    "start_time": "2021-10-08T17:53:02.420Z"
   },
   {
    "duration": 29,
    "start_time": "2021-10-08T17:53:02.872Z"
   },
   {
    "duration": 52,
    "start_time": "2021-10-08T17:53:02.903Z"
   },
   {
    "duration": 28,
    "start_time": "2021-10-08T17:53:02.957Z"
   },
   {
    "duration": 14,
    "start_time": "2021-10-08T17:53:02.986Z"
   },
   {
    "duration": 14,
    "start_time": "2021-10-08T17:53:03.004Z"
   },
   {
    "duration": 98,
    "start_time": "2021-10-08T17:53:03.020Z"
   },
   {
    "duration": 16,
    "start_time": "2021-10-08T17:53:03.119Z"
   },
   {
    "duration": 43,
    "start_time": "2021-10-08T17:53:03.137Z"
   },
   {
    "duration": 3,
    "start_time": "2021-10-08T17:53:03.182Z"
   },
   {
    "duration": 19,
    "start_time": "2021-10-08T17:53:03.186Z"
   },
   {
    "duration": 8,
    "start_time": "2021-10-08T17:53:03.207Z"
   },
   {
    "duration": 55,
    "start_time": "2021-10-08T17:53:03.217Z"
   },
   {
    "duration": 8,
    "start_time": "2021-10-08T17:53:03.274Z"
   },
   {
    "duration": 6,
    "start_time": "2021-10-08T17:53:03.284Z"
   },
   {
    "duration": 8,
    "start_time": "2021-10-08T17:53:03.291Z"
   },
   {
    "duration": 11,
    "start_time": "2021-10-08T17:53:03.300Z"
   },
   {
    "duration": 220,
    "start_time": "2021-10-08T17:53:03.313Z"
   },
   {
    "duration": 5,
    "start_time": "2021-10-08T17:53:03.535Z"
   },
   {
    "duration": 57,
    "start_time": "2021-10-08T17:53:03.542Z"
   },
   {
    "duration": 61,
    "start_time": "2021-10-08T17:53:03.601Z"
   },
   {
    "duration": 1098,
    "start_time": "2021-10-08T17:53:03.663Z"
   },
   {
    "duration": 331,
    "start_time": "2021-10-08T17:53:04.762Z"
   },
   {
    "duration": 7,
    "start_time": "2021-10-08T17:53:05.095Z"
   },
   {
    "duration": 264,
    "start_time": "2021-10-08T17:53:05.104Z"
   },
   {
    "duration": 7,
    "start_time": "2021-10-08T17:53:05.370Z"
   },
   {
    "duration": 265,
    "start_time": "2021-10-08T17:53:05.378Z"
   },
   {
    "duration": 9,
    "start_time": "2021-10-08T17:53:05.644Z"
   },
   {
    "duration": 257,
    "start_time": "2021-10-08T17:53:05.655Z"
   },
   {
    "duration": 8,
    "start_time": "2021-10-08T17:53:05.914Z"
   },
   {
    "duration": 5231,
    "start_time": "2021-10-08T17:53:05.923Z"
   },
   {
    "duration": -305,
    "start_time": "2021-10-08T17:53:11.461Z"
   },
   {
    "duration": -315,
    "start_time": "2021-10-08T17:53:11.473Z"
   },
   {
    "duration": -322,
    "start_time": "2021-10-08T17:53:11.480Z"
   },
   {
    "duration": -326,
    "start_time": "2021-10-08T17:53:11.485Z"
   },
   {
    "duration": -331,
    "start_time": "2021-10-08T17:53:11.491Z"
   },
   {
    "duration": -334,
    "start_time": "2021-10-08T17:53:11.495Z"
   },
   {
    "duration": -340,
    "start_time": "2021-10-08T17:53:11.502Z"
   },
   {
    "duration": -345,
    "start_time": "2021-10-08T17:53:11.508Z"
   },
   {
    "duration": -350,
    "start_time": "2021-10-08T17:53:11.513Z"
   },
   {
    "duration": -353,
    "start_time": "2021-10-08T17:53:11.518Z"
   },
   {
    "duration": -357,
    "start_time": "2021-10-08T17:53:11.523Z"
   },
   {
    "duration": 5915,
    "start_time": "2021-10-08T17:56:58.643Z"
   },
   {
    "duration": 6031,
    "start_time": "2021-10-08T17:57:12.417Z"
   },
   {
    "duration": 5070,
    "start_time": "2021-10-08T17:57:24.640Z"
   },
   {
    "duration": 5783,
    "start_time": "2021-10-08T17:57:36.010Z"
   },
   {
    "duration": 182,
    "start_time": "2021-10-08T17:58:12.196Z"
   },
   {
    "duration": 5057,
    "start_time": "2021-10-08T17:58:33.441Z"
   },
   {
    "duration": 1122,
    "start_time": "2021-10-08T17:58:49.673Z"
   },
   {
    "duration": 446,
    "start_time": "2021-10-08T17:58:50.797Z"
   },
   {
    "duration": 15,
    "start_time": "2021-10-08T17:58:51.246Z"
   },
   {
    "duration": 7,
    "start_time": "2021-10-08T17:58:51.264Z"
   },
   {
    "duration": 19,
    "start_time": "2021-10-08T17:58:51.273Z"
   },
   {
    "duration": 9,
    "start_time": "2021-10-08T17:58:51.294Z"
   },
   {
    "duration": 57,
    "start_time": "2021-10-08T17:58:51.305Z"
   },
   {
    "duration": 16,
    "start_time": "2021-10-08T17:58:51.365Z"
   },
   {
    "duration": 7,
    "start_time": "2021-10-08T17:58:51.383Z"
   },
   {
    "duration": 15,
    "start_time": "2021-10-08T17:58:51.392Z"
   },
   {
    "duration": 11,
    "start_time": "2021-10-08T17:58:51.408Z"
   },
   {
    "duration": 36,
    "start_time": "2021-10-08T17:58:51.421Z"
   },
   {
    "duration": 7,
    "start_time": "2021-10-08T17:58:51.458Z"
   },
   {
    "duration": 9,
    "start_time": "2021-10-08T17:58:51.467Z"
   },
   {
    "duration": 18,
    "start_time": "2021-10-08T17:58:51.478Z"
   },
   {
    "duration": 73,
    "start_time": "2021-10-08T17:58:51.498Z"
   },
   {
    "duration": 4,
    "start_time": "2021-10-08T17:58:51.573Z"
   },
   {
    "duration": 12,
    "start_time": "2021-10-08T17:58:51.579Z"
   },
   {
    "duration": 126,
    "start_time": "2021-10-08T17:58:51.592Z"
   },
   {
    "duration": 8,
    "start_time": "2021-10-08T17:58:51.720Z"
   },
   {
    "duration": 110,
    "start_time": "2021-10-08T17:58:51.730Z"
   },
   {
    "duration": 438,
    "start_time": "2021-10-08T17:58:51.842Z"
   },
   {
    "duration": 30,
    "start_time": "2021-10-08T17:58:52.283Z"
   },
   {
    "duration": 52,
    "start_time": "2021-10-08T17:58:52.316Z"
   },
   {
    "duration": 28,
    "start_time": "2021-10-08T17:58:52.370Z"
   },
   {
    "duration": 14,
    "start_time": "2021-10-08T17:58:52.399Z"
   },
   {
    "duration": 13,
    "start_time": "2021-10-08T17:58:52.414Z"
   },
   {
    "duration": 76,
    "start_time": "2021-10-08T17:58:52.449Z"
   },
   {
    "duration": 33,
    "start_time": "2021-10-08T17:58:52.527Z"
   },
   {
    "duration": 34,
    "start_time": "2021-10-08T17:58:52.562Z"
   },
   {
    "duration": 3,
    "start_time": "2021-10-08T17:58:52.597Z"
   },
   {
    "duration": 25,
    "start_time": "2021-10-08T17:58:52.602Z"
   },
   {
    "duration": 23,
    "start_time": "2021-10-08T17:58:52.629Z"
   },
   {
    "duration": 30,
    "start_time": "2021-10-08T17:58:52.653Z"
   },
   {
    "duration": 6,
    "start_time": "2021-10-08T17:58:52.685Z"
   },
   {
    "duration": 16,
    "start_time": "2021-10-08T17:58:52.693Z"
   },
   {
    "duration": 9,
    "start_time": "2021-10-08T17:58:52.711Z"
   },
   {
    "duration": 9,
    "start_time": "2021-10-08T17:58:52.722Z"
   },
   {
    "duration": 204,
    "start_time": "2021-10-08T17:58:52.733Z"
   },
   {
    "duration": 5,
    "start_time": "2021-10-08T17:58:52.939Z"
   },
   {
    "duration": 55,
    "start_time": "2021-10-08T17:58:52.948Z"
   },
   {
    "duration": 69,
    "start_time": "2021-10-08T17:58:53.005Z"
   },
   {
    "duration": 1137,
    "start_time": "2021-10-08T17:58:53.076Z"
   },
   {
    "duration": 344,
    "start_time": "2021-10-08T17:58:54.214Z"
   },
   {
    "duration": 7,
    "start_time": "2021-10-08T17:58:54.559Z"
   },
   {
    "duration": 257,
    "start_time": "2021-10-08T17:58:54.567Z"
   },
   {
    "duration": 7,
    "start_time": "2021-10-08T17:58:54.826Z"
   },
   {
    "duration": 270,
    "start_time": "2021-10-08T17:58:54.835Z"
   },
   {
    "duration": 9,
    "start_time": "2021-10-08T17:58:55.107Z"
   },
   {
    "duration": 260,
    "start_time": "2021-10-08T17:58:55.118Z"
   },
   {
    "duration": 10,
    "start_time": "2021-10-08T17:58:55.380Z"
   },
   {
    "duration": 32,
    "start_time": "2021-10-08T17:58:55.391Z"
   },
   {
    "duration": 10,
    "start_time": "2021-10-08T17:58:55.449Z"
   },
   {
    "duration": 10,
    "start_time": "2021-10-08T17:58:55.461Z"
   },
   {
    "duration": 267,
    "start_time": "2021-10-08T17:58:55.473Z"
   },
   {
    "duration": 251,
    "start_time": "2021-10-08T17:58:55.743Z"
   },
   {
    "duration": 239,
    "start_time": "2021-10-08T17:58:55.996Z"
   },
   {
    "duration": 257,
    "start_time": "2021-10-08T17:58:56.237Z"
   },
   {
    "duration": 26,
    "start_time": "2021-10-08T17:58:56.496Z"
   },
   {
    "duration": 42,
    "start_time": "2021-10-08T17:58:56.523Z"
   },
   {
    "duration": 5,
    "start_time": "2021-10-08T17:58:56.566Z"
   },
   {
    "duration": 9,
    "start_time": "2021-10-08T17:58:56.572Z"
   },
   {
    "duration": 11,
    "start_time": "2021-10-08T17:58:56.583Z"
   },
   {
    "duration": 10,
    "start_time": "2021-10-08T18:08:33.436Z"
   },
   {
    "duration": 10,
    "start_time": "2021-10-08T18:08:35.150Z"
   },
   {
    "duration": 1271,
    "start_time": "2021-10-08T18:09:06.428Z"
   },
   {
    "duration": 460,
    "start_time": "2021-10-08T18:09:07.701Z"
   },
   {
    "duration": 15,
    "start_time": "2021-10-08T18:09:08.163Z"
   },
   {
    "duration": 10,
    "start_time": "2021-10-08T18:09:08.180Z"
   },
   {
    "duration": 25,
    "start_time": "2021-10-08T18:09:08.191Z"
   },
   {
    "duration": 12,
    "start_time": "2021-10-08T18:09:08.218Z"
   },
   {
    "duration": 37,
    "start_time": "2021-10-08T18:09:08.232Z"
   },
   {
    "duration": 16,
    "start_time": "2021-10-08T18:09:08.270Z"
   },
   {
    "duration": 7,
    "start_time": "2021-10-08T18:09:08.289Z"
   },
   {
    "duration": 15,
    "start_time": "2021-10-08T18:09:08.298Z"
   },
   {
    "duration": 34,
    "start_time": "2021-10-08T18:09:08.315Z"
   },
   {
    "duration": 9,
    "start_time": "2021-10-08T18:09:08.351Z"
   },
   {
    "duration": 15,
    "start_time": "2021-10-08T18:09:08.362Z"
   },
   {
    "duration": 14,
    "start_time": "2021-10-08T18:09:08.379Z"
   },
   {
    "duration": 18,
    "start_time": "2021-10-08T18:09:08.395Z"
   },
   {
    "duration": 71,
    "start_time": "2021-10-08T18:09:08.415Z"
   },
   {
    "duration": 4,
    "start_time": "2021-10-08T18:09:08.488Z"
   },
   {
    "duration": 12,
    "start_time": "2021-10-08T18:09:08.494Z"
   },
   {
    "duration": 131,
    "start_time": "2021-10-08T18:09:08.508Z"
   },
   {
    "duration": 10,
    "start_time": "2021-10-08T18:09:08.649Z"
   },
   {
    "duration": 146,
    "start_time": "2021-10-08T18:09:08.660Z"
   },
   {
    "duration": 478,
    "start_time": "2021-10-08T18:09:08.808Z"
   },
   {
    "duration": 32,
    "start_time": "2021-10-08T18:09:09.288Z"
   },
   {
    "duration": 56,
    "start_time": "2021-10-08T18:09:09.323Z"
   },
   {
    "duration": 30,
    "start_time": "2021-10-08T18:09:09.381Z"
   },
   {
    "duration": 41,
    "start_time": "2021-10-08T18:09:09.413Z"
   },
   {
    "duration": 13,
    "start_time": "2021-10-08T18:09:09.458Z"
   },
   {
    "duration": 94,
    "start_time": "2021-10-08T18:09:09.474Z"
   },
   {
    "duration": 18,
    "start_time": "2021-10-08T18:09:09.570Z"
   },
   {
    "duration": 35,
    "start_time": "2021-10-08T18:09:09.590Z"
   },
   {
    "duration": 6,
    "start_time": "2021-10-08T18:09:09.648Z"
   },
   {
    "duration": 19,
    "start_time": "2021-10-08T18:09:09.656Z"
   },
   {
    "duration": 6,
    "start_time": "2021-10-08T18:09:09.677Z"
   },
   {
    "duration": 28,
    "start_time": "2021-10-08T18:09:09.684Z"
   },
   {
    "duration": 6,
    "start_time": "2021-10-08T18:09:09.714Z"
   },
   {
    "duration": 5,
    "start_time": "2021-10-08T18:09:09.749Z"
   },
   {
    "duration": 6,
    "start_time": "2021-10-08T18:09:09.755Z"
   },
   {
    "duration": 10,
    "start_time": "2021-10-08T18:09:09.762Z"
   },
   {
    "duration": 201,
    "start_time": "2021-10-08T18:09:09.773Z"
   },
   {
    "duration": 6,
    "start_time": "2021-10-08T18:09:09.976Z"
   },
   {
    "duration": 52,
    "start_time": "2021-10-08T18:09:09.984Z"
   },
   {
    "duration": 61,
    "start_time": "2021-10-08T18:09:10.037Z"
   },
   {
    "duration": 1123,
    "start_time": "2021-10-08T18:09:10.099Z"
   },
   {
    "duration": 336,
    "start_time": "2021-10-08T18:09:11.223Z"
   },
   {
    "duration": 8,
    "start_time": "2021-10-08T18:09:11.560Z"
   },
   {
    "duration": 258,
    "start_time": "2021-10-08T18:09:11.569Z"
   },
   {
    "duration": 7,
    "start_time": "2021-10-08T18:09:11.829Z"
   },
   {
    "duration": 268,
    "start_time": "2021-10-08T18:09:11.837Z"
   },
   {
    "duration": 7,
    "start_time": "2021-10-08T18:09:12.106Z"
   },
   {
    "duration": 261,
    "start_time": "2021-10-08T18:09:12.114Z"
   },
   {
    "duration": 8,
    "start_time": "2021-10-08T18:09:12.377Z"
   },
   {
    "duration": 36,
    "start_time": "2021-10-08T18:09:12.386Z"
   },
   {
    "duration": 27,
    "start_time": "2021-10-08T18:09:12.424Z"
   },
   {
    "duration": 10,
    "start_time": "2021-10-08T18:09:12.453Z"
   },
   {
    "duration": 266,
    "start_time": "2021-10-08T18:09:12.464Z"
   },
   {
    "duration": 263,
    "start_time": "2021-10-08T18:09:12.732Z"
   },
   {
    "duration": 292,
    "start_time": "2021-10-08T18:09:12.996Z"
   },
   {
    "duration": 251,
    "start_time": "2021-10-08T18:09:13.289Z"
   },
   {
    "duration": 30,
    "start_time": "2021-10-08T18:09:13.542Z"
   },
   {
    "duration": 26,
    "start_time": "2021-10-08T18:09:13.574Z"
   },
   {
    "duration": 5,
    "start_time": "2021-10-08T18:09:13.601Z"
   },
   {
    "duration": 20,
    "start_time": "2021-10-08T18:09:13.608Z"
   },
   {
    "duration": 11,
    "start_time": "2021-10-08T18:09:13.649Z"
   },
   {
    "duration": 25,
    "start_time": "2021-10-08T18:25:35.511Z"
   },
   {
    "duration": 4,
    "start_time": "2021-10-08T18:25:53.466Z"
   },
   {
    "duration": 1178,
    "start_time": "2021-10-08T18:26:00.976Z"
   },
   {
    "duration": 444,
    "start_time": "2021-10-08T18:26:02.156Z"
   },
   {
    "duration": 15,
    "start_time": "2021-10-08T18:26:02.603Z"
   },
   {
    "duration": 12,
    "start_time": "2021-10-08T18:26:02.620Z"
   },
   {
    "duration": 20,
    "start_time": "2021-10-08T18:26:02.633Z"
   },
   {
    "duration": 12,
    "start_time": "2021-10-08T18:26:02.655Z"
   },
   {
    "duration": 31,
    "start_time": "2021-10-08T18:26:02.668Z"
   },
   {
    "duration": 16,
    "start_time": "2021-10-08T18:26:02.701Z"
   },
   {
    "duration": 9,
    "start_time": "2021-10-08T18:26:02.719Z"
   },
   {
    "duration": 27,
    "start_time": "2021-10-08T18:26:02.731Z"
   },
   {
    "duration": 12,
    "start_time": "2021-10-08T18:26:02.760Z"
   },
   {
    "duration": 9,
    "start_time": "2021-10-08T18:26:02.773Z"
   },
   {
    "duration": 7,
    "start_time": "2021-10-08T18:26:02.784Z"
   },
   {
    "duration": 11,
    "start_time": "2021-10-08T18:26:02.793Z"
   },
   {
    "duration": 16,
    "start_time": "2021-10-08T18:26:02.806Z"
   },
   {
    "duration": 48,
    "start_time": "2021-10-08T18:26:02.849Z"
   },
   {
    "duration": 4,
    "start_time": "2021-10-08T18:26:02.899Z"
   },
   {
    "duration": 19,
    "start_time": "2021-10-08T18:26:02.905Z"
   },
   {
    "duration": 145,
    "start_time": "2021-10-08T18:26:02.926Z"
   },
   {
    "duration": 9,
    "start_time": "2021-10-08T18:26:03.073Z"
   },
   {
    "duration": 109,
    "start_time": "2021-10-08T18:26:03.084Z"
   },
   {
    "duration": 435,
    "start_time": "2021-10-08T18:26:03.194Z"
   },
   {
    "duration": 38,
    "start_time": "2021-10-08T18:26:03.631Z"
   },
   {
    "duration": 35,
    "start_time": "2021-10-08T18:26:03.671Z"
   },
   {
    "duration": 42,
    "start_time": "2021-10-08T18:26:03.708Z"
   },
   {
    "duration": 14,
    "start_time": "2021-10-08T18:26:03.752Z"
   },
   {
    "duration": 13,
    "start_time": "2021-10-08T18:26:03.770Z"
   },
   {
    "duration": 99,
    "start_time": "2021-10-08T18:26:03.786Z"
   },
   {
    "duration": 16,
    "start_time": "2021-10-08T18:26:03.887Z"
   },
   {
    "duration": 45,
    "start_time": "2021-10-08T18:26:03.905Z"
   },
   {
    "duration": 4,
    "start_time": "2021-10-08T18:26:03.952Z"
   },
   {
    "duration": 20,
    "start_time": "2021-10-08T18:26:03.957Z"
   },
   {
    "duration": 13,
    "start_time": "2021-10-08T18:26:03.978Z"
   },
   {
    "duration": 55,
    "start_time": "2021-10-08T18:26:03.993Z"
   },
   {
    "duration": 6,
    "start_time": "2021-10-08T18:26:04.050Z"
   },
   {
    "duration": 16,
    "start_time": "2021-10-08T18:26:04.057Z"
   },
   {
    "duration": 32,
    "start_time": "2021-10-08T18:26:04.075Z"
   },
   {
    "duration": 4,
    "start_time": "2021-10-08T18:26:04.109Z"
   },
   {
    "duration": 11,
    "start_time": "2021-10-08T18:26:04.114Z"
   },
   {
    "duration": 9,
    "start_time": "2021-10-08T18:26:04.127Z"
   },
   {
    "duration": 50,
    "start_time": "2021-10-08T18:26:04.138Z"
   },
   {
    "duration": 43,
    "start_time": "2021-10-08T18:26:04.190Z"
   },
   {
    "duration": 1086,
    "start_time": "2021-10-08T18:26:04.234Z"
   },
   {
    "duration": 337,
    "start_time": "2021-10-08T18:26:05.322Z"
   },
   {
    "duration": 8,
    "start_time": "2021-10-08T18:26:05.661Z"
   },
   {
    "duration": 262,
    "start_time": "2021-10-08T18:26:05.671Z"
   },
   {
    "duration": 16,
    "start_time": "2021-10-08T18:26:05.936Z"
   },
   {
    "duration": 264,
    "start_time": "2021-10-08T18:26:05.954Z"
   },
   {
    "duration": 10,
    "start_time": "2021-10-08T18:26:06.221Z"
   },
   {
    "duration": 266,
    "start_time": "2021-10-08T18:26:06.248Z"
   },
   {
    "duration": 9,
    "start_time": "2021-10-08T18:26:06.516Z"
   },
   {
    "duration": 42,
    "start_time": "2021-10-08T18:26:06.527Z"
   },
   {
    "duration": 9,
    "start_time": "2021-10-08T18:26:06.570Z"
   },
   {
    "duration": 9,
    "start_time": "2021-10-08T18:26:06.581Z"
   },
   {
    "duration": 276,
    "start_time": "2021-10-08T18:26:06.592Z"
   },
   {
    "duration": 244,
    "start_time": "2021-10-08T18:26:06.870Z"
   },
   {
    "duration": 258,
    "start_time": "2021-10-08T18:26:07.115Z"
   },
   {
    "duration": 242,
    "start_time": "2021-10-08T18:26:07.375Z"
   },
   {
    "duration": 37,
    "start_time": "2021-10-08T18:26:07.619Z"
   },
   {
    "duration": 25,
    "start_time": "2021-10-08T18:26:07.658Z"
   },
   {
    "duration": 5,
    "start_time": "2021-10-08T18:26:07.685Z"
   },
   {
    "duration": 20,
    "start_time": "2021-10-08T18:26:07.691Z"
   },
   {
    "duration": 10,
    "start_time": "2021-10-08T18:26:07.713Z"
   },
   {
    "duration": 70,
    "start_time": "2021-10-08T18:27:17.279Z"
   },
   {
    "duration": 19,
    "start_time": "2021-10-08T18:27:21.345Z"
   },
   {
    "duration": 19,
    "start_time": "2021-10-08T18:29:46.050Z"
   },
   {
    "duration": 6,
    "start_time": "2021-10-08T18:29:55.139Z"
   },
   {
    "duration": 437,
    "start_time": "2021-10-08T18:29:55.147Z"
   },
   {
    "duration": 11,
    "start_time": "2021-10-08T18:29:55.586Z"
   },
   {
    "duration": 12,
    "start_time": "2021-10-08T18:29:55.599Z"
   },
   {
    "duration": 24,
    "start_time": "2021-10-08T18:29:55.614Z"
   },
   {
    "duration": 19,
    "start_time": "2021-10-08T18:29:55.641Z"
   },
   {
    "duration": 24,
    "start_time": "2021-10-08T18:29:55.662Z"
   },
   {
    "duration": 17,
    "start_time": "2021-10-08T18:29:55.688Z"
   },
   {
    "duration": 16,
    "start_time": "2021-10-08T18:29:55.708Z"
   },
   {
    "duration": 27,
    "start_time": "2021-10-08T18:29:55.727Z"
   },
   {
    "duration": 12,
    "start_time": "2021-10-08T18:29:55.756Z"
   },
   {
    "duration": 21,
    "start_time": "2021-10-08T18:29:55.769Z"
   },
   {
    "duration": 16,
    "start_time": "2021-10-08T18:29:55.792Z"
   },
   {
    "duration": 36,
    "start_time": "2021-10-08T18:29:55.810Z"
   },
   {
    "duration": 33,
    "start_time": "2021-10-08T18:29:55.847Z"
   },
   {
    "duration": 61,
    "start_time": "2021-10-08T18:29:55.882Z"
   },
   {
    "duration": 4,
    "start_time": "2021-10-08T18:29:55.945Z"
   },
   {
    "duration": 36,
    "start_time": "2021-10-08T18:29:55.951Z"
   },
   {
    "duration": 124,
    "start_time": "2021-10-08T18:29:55.989Z"
   },
   {
    "duration": 9,
    "start_time": "2021-10-08T18:29:56.115Z"
   },
   {
    "duration": 111,
    "start_time": "2021-10-08T18:29:56.126Z"
   },
   {
    "duration": 449,
    "start_time": "2021-10-08T18:29:56.239Z"
   },
   {
    "duration": 28,
    "start_time": "2021-10-08T18:29:56.690Z"
   },
   {
    "duration": 53,
    "start_time": "2021-10-08T18:29:56.720Z"
   },
   {
    "duration": 29,
    "start_time": "2021-10-08T18:29:56.775Z"
   },
   {
    "duration": 14,
    "start_time": "2021-10-08T18:29:56.806Z"
   },
   {
    "duration": 34,
    "start_time": "2021-10-08T18:29:56.823Z"
   },
   {
    "duration": 95,
    "start_time": "2021-10-08T18:29:56.859Z"
   },
   {
    "duration": 16,
    "start_time": "2021-10-08T18:29:56.956Z"
   },
   {
    "duration": 40,
    "start_time": "2021-10-08T18:29:56.973Z"
   },
   {
    "duration": 3,
    "start_time": "2021-10-08T18:29:57.015Z"
   },
   {
    "duration": 43,
    "start_time": "2021-10-08T18:29:57.020Z"
   },
   {
    "duration": 15,
    "start_time": "2021-10-08T18:29:57.064Z"
   },
   {
    "duration": 45,
    "start_time": "2021-10-08T18:29:57.081Z"
   },
   {
    "duration": 6,
    "start_time": "2021-10-08T18:29:57.128Z"
   },
   {
    "duration": 17,
    "start_time": "2021-10-08T18:29:57.136Z"
   },
   {
    "duration": 29,
    "start_time": "2021-10-08T18:29:57.155Z"
   },
   {
    "duration": 1100,
    "start_time": "2021-10-08T18:30:14.402Z"
   },
   {
    "duration": 450,
    "start_time": "2021-10-08T18:30:15.504Z"
   },
   {
    "duration": 13,
    "start_time": "2021-10-08T18:30:15.956Z"
   },
   {
    "duration": 6,
    "start_time": "2021-10-08T18:30:15.970Z"
   },
   {
    "duration": 16,
    "start_time": "2021-10-08T18:30:15.978Z"
   },
   {
    "duration": 10,
    "start_time": "2021-10-08T18:30:15.996Z"
   },
   {
    "duration": 47,
    "start_time": "2021-10-08T18:30:16.007Z"
   },
   {
    "duration": 18,
    "start_time": "2021-10-08T18:30:16.057Z"
   },
   {
    "duration": 7,
    "start_time": "2021-10-08T18:30:16.077Z"
   },
   {
    "duration": 15,
    "start_time": "2021-10-08T18:30:16.086Z"
   },
   {
    "duration": 12,
    "start_time": "2021-10-08T18:30:16.103Z"
   },
   {
    "duration": 9,
    "start_time": "2021-10-08T18:30:16.150Z"
   },
   {
    "duration": 7,
    "start_time": "2021-10-08T18:30:16.161Z"
   },
   {
    "duration": 10,
    "start_time": "2021-10-08T18:30:16.170Z"
   },
   {
    "duration": 14,
    "start_time": "2021-10-08T18:30:16.182Z"
   },
   {
    "duration": 76,
    "start_time": "2021-10-08T18:30:16.198Z"
   },
   {
    "duration": 4,
    "start_time": "2021-10-08T18:30:16.276Z"
   },
   {
    "duration": 11,
    "start_time": "2021-10-08T18:30:16.282Z"
   },
   {
    "duration": 139,
    "start_time": "2021-10-08T18:30:16.295Z"
   },
   {
    "duration": 18,
    "start_time": "2021-10-08T18:30:16.435Z"
   },
   {
    "duration": 105,
    "start_time": "2021-10-08T18:30:16.454Z"
   },
   {
    "duration": 434,
    "start_time": "2021-10-08T18:30:16.561Z"
   },
   {
    "duration": 30,
    "start_time": "2021-10-08T18:30:16.999Z"
   },
   {
    "duration": 48,
    "start_time": "2021-10-08T18:30:17.031Z"
   },
   {
    "duration": 28,
    "start_time": "2021-10-08T18:30:17.081Z"
   },
   {
    "duration": 13,
    "start_time": "2021-10-08T18:30:17.111Z"
   },
   {
    "duration": 37,
    "start_time": "2021-10-08T18:30:17.126Z"
   },
   {
    "duration": 94,
    "start_time": "2021-10-08T18:30:17.165Z"
   },
   {
    "duration": 18,
    "start_time": "2021-10-08T18:30:17.262Z"
   },
   {
    "duration": 36,
    "start_time": "2021-10-08T18:30:17.282Z"
   },
   {
    "duration": 31,
    "start_time": "2021-10-08T18:30:17.320Z"
   },
   {
    "duration": 18,
    "start_time": "2021-10-08T18:30:17.354Z"
   },
   {
    "duration": 7,
    "start_time": "2021-10-08T18:30:17.374Z"
   },
   {
    "duration": 35,
    "start_time": "2021-10-08T18:30:17.383Z"
   },
   {
    "duration": 6,
    "start_time": "2021-10-08T18:30:17.420Z"
   },
   {
    "duration": 5,
    "start_time": "2021-10-08T18:30:17.450Z"
   },
   {
    "duration": 7,
    "start_time": "2021-10-08T18:30:17.456Z"
   },
   {
    "duration": 25,
    "start_time": "2021-10-08T18:30:17.465Z"
   },
   {
    "duration": 4,
    "start_time": "2021-10-08T18:30:17.491Z"
   },
   {
    "duration": 8,
    "start_time": "2021-10-08T18:30:17.497Z"
   },
   {
    "duration": 72,
    "start_time": "2021-10-08T18:30:17.507Z"
   },
   {
    "duration": 44,
    "start_time": "2021-10-08T18:30:17.582Z"
   },
   {
    "duration": 1156,
    "start_time": "2021-10-08T18:30:17.628Z"
   },
   {
    "duration": 263,
    "start_time": "2021-10-08T18:30:18.786Z"
   },
   {
    "duration": 8,
    "start_time": "2021-10-08T18:30:19.051Z"
   },
   {
    "duration": 348,
    "start_time": "2021-10-08T18:30:19.061Z"
   },
   {
    "duration": 8,
    "start_time": "2021-10-08T18:30:19.411Z"
   },
   {
    "duration": 256,
    "start_time": "2021-10-08T18:30:19.421Z"
   },
   {
    "duration": 8,
    "start_time": "2021-10-08T18:30:19.679Z"
   },
   {
    "duration": 262,
    "start_time": "2021-10-08T18:30:19.690Z"
   },
   {
    "duration": 8,
    "start_time": "2021-10-08T18:30:19.954Z"
   },
   {
    "duration": 29,
    "start_time": "2021-10-08T18:30:19.963Z"
   },
   {
    "duration": 10,
    "start_time": "2021-10-08T18:30:19.994Z"
   },
   {
    "duration": 15,
    "start_time": "2021-10-08T18:30:20.005Z"
   },
   {
    "duration": 250,
    "start_time": "2021-10-08T18:30:20.050Z"
   },
   {
    "duration": 258,
    "start_time": "2021-10-08T18:30:20.302Z"
   },
   {
    "duration": 248,
    "start_time": "2021-10-08T18:30:20.561Z"
   },
   {
    "duration": 227,
    "start_time": "2021-10-08T18:30:20.816Z"
   },
   {
    "duration": 27,
    "start_time": "2021-10-08T18:30:21.048Z"
   },
   {
    "duration": 23,
    "start_time": "2021-10-08T18:30:21.076Z"
   },
   {
    "duration": 8,
    "start_time": "2021-10-08T18:30:21.100Z"
   },
   {
    "duration": 8,
    "start_time": "2021-10-08T18:30:21.110Z"
   },
   {
    "duration": 36,
    "start_time": "2021-10-08T18:30:21.120Z"
   },
   {
    "duration": 26,
    "start_time": "2021-10-08T18:33:09.205Z"
   },
   {
    "duration": 8,
    "start_time": "2021-10-08T18:33:09.233Z"
   },
   {
    "duration": 9,
    "start_time": "2021-10-08T18:33:09.243Z"
   },
   {
    "duration": 258,
    "start_time": "2021-10-08T18:33:09.254Z"
   },
   {
    "duration": 258,
    "start_time": "2021-10-08T18:33:09.514Z"
   },
   {
    "duration": 242,
    "start_time": "2021-10-08T18:33:09.774Z"
   },
   {
    "duration": 257,
    "start_time": "2021-10-08T18:33:10.018Z"
   },
   {
    "duration": 24,
    "start_time": "2021-10-08T18:33:10.278Z"
   },
   {
    "duration": 146,
    "start_time": "2021-10-08T18:33:10.304Z"
   },
   {
    "duration": 4,
    "start_time": "2021-10-08T18:33:10.452Z"
   },
   {
    "duration": 13,
    "start_time": "2021-10-08T18:33:10.458Z"
   },
   {
    "duration": 12,
    "start_time": "2021-10-08T18:33:10.472Z"
   },
   {
    "duration": 6045,
    "start_time": "2021-10-09T03:29:25.683Z"
   },
   {
    "duration": 20,
    "start_time": "2021-10-09T03:29:42.172Z"
   },
   {
    "duration": 19,
    "start_time": "2021-10-09T03:40:12.720Z"
   },
   {
    "duration": 20,
    "start_time": "2021-10-09T03:44:56.889Z"
   },
   {
    "duration": 19,
    "start_time": "2021-10-09T03:46:45.215Z"
   },
   {
    "duration": 20,
    "start_time": "2021-10-09T03:49:06.685Z"
   },
   {
    "duration": 20,
    "start_time": "2021-10-09T03:52:57.117Z"
   },
   {
    "duration": 1117,
    "start_time": "2021-10-09T04:23:52.298Z"
   },
   {
    "duration": 453,
    "start_time": "2021-10-09T04:23:53.417Z"
   },
   {
    "duration": 14,
    "start_time": "2021-10-09T04:23:53.872Z"
   },
   {
    "duration": 8,
    "start_time": "2021-10-09T04:23:53.888Z"
   },
   {
    "duration": 26,
    "start_time": "2021-10-09T04:23:53.897Z"
   },
   {
    "duration": 9,
    "start_time": "2021-10-09T04:23:53.925Z"
   },
   {
    "duration": 28,
    "start_time": "2021-10-09T04:23:53.936Z"
   },
   {
    "duration": 16,
    "start_time": "2021-10-09T04:23:53.967Z"
   },
   {
    "duration": 7,
    "start_time": "2021-10-09T04:23:53.985Z"
   },
   {
    "duration": 16,
    "start_time": "2021-10-09T04:23:53.994Z"
   },
   {
    "duration": 12,
    "start_time": "2021-10-09T04:23:54.011Z"
   },
   {
    "duration": 9,
    "start_time": "2021-10-09T04:23:54.049Z"
   },
   {
    "duration": 11,
    "start_time": "2021-10-09T04:23:54.060Z"
   },
   {
    "duration": 18,
    "start_time": "2021-10-09T04:23:54.072Z"
   },
   {
    "duration": 16,
    "start_time": "2021-10-09T04:23:54.092Z"
   },
   {
    "duration": 68,
    "start_time": "2021-10-09T04:23:54.109Z"
   },
   {
    "duration": 5,
    "start_time": "2021-10-09T04:23:54.178Z"
   },
   {
    "duration": 13,
    "start_time": "2021-10-09T04:23:54.184Z"
   },
   {
    "duration": 141,
    "start_time": "2021-10-09T04:23:54.199Z"
   },
   {
    "duration": 10,
    "start_time": "2021-10-09T04:23:54.350Z"
   },
   {
    "duration": 113,
    "start_time": "2021-10-09T04:23:54.362Z"
   },
   {
    "duration": 429,
    "start_time": "2021-10-09T04:23:54.477Z"
   },
   {
    "duration": 39,
    "start_time": "2021-10-09T04:23:54.911Z"
   },
   {
    "duration": 37,
    "start_time": "2021-10-09T04:23:54.953Z"
   },
   {
    "duration": 29,
    "start_time": "2021-10-09T04:23:54.992Z"
   },
   {
    "duration": 41,
    "start_time": "2021-10-09T04:23:55.023Z"
   },
   {
    "duration": 14,
    "start_time": "2021-10-09T04:23:55.065Z"
   },
   {
    "duration": 94,
    "start_time": "2021-10-09T04:23:55.080Z"
   },
   {
    "duration": 17,
    "start_time": "2021-10-09T04:23:55.176Z"
   },
   {
    "duration": 55,
    "start_time": "2021-10-09T04:23:55.195Z"
   },
   {
    "duration": 4,
    "start_time": "2021-10-09T04:23:55.252Z"
   },
   {
    "duration": 22,
    "start_time": "2021-10-09T04:23:55.257Z"
   },
   {
    "duration": 7,
    "start_time": "2021-10-09T04:23:55.281Z"
   },
   {
    "duration": 30,
    "start_time": "2021-10-09T04:23:55.290Z"
   },
   {
    "duration": 32,
    "start_time": "2021-10-09T04:23:55.322Z"
   },
   {
    "duration": 5,
    "start_time": "2021-10-09T04:23:55.356Z"
   },
   {
    "duration": 5,
    "start_time": "2021-10-09T04:23:55.363Z"
   },
   {
    "duration": 5,
    "start_time": "2021-10-09T04:23:55.370Z"
   },
   {
    "duration": 4,
    "start_time": "2021-10-09T04:23:55.377Z"
   },
   {
    "duration": 11,
    "start_time": "2021-10-09T04:23:55.383Z"
   },
   {
    "duration": 74,
    "start_time": "2021-10-09T04:23:55.396Z"
   },
   {
    "duration": 42,
    "start_time": "2021-10-09T04:23:55.472Z"
   },
   {
    "duration": 1116,
    "start_time": "2021-10-09T04:23:55.516Z"
   },
   {
    "duration": 264,
    "start_time": "2021-10-09T04:23:56.634Z"
   },
   {
    "duration": 8,
    "start_time": "2021-10-09T04:23:56.900Z"
   },
   {
    "duration": 353,
    "start_time": "2021-10-09T04:23:56.910Z"
   },
   {
    "duration": 9,
    "start_time": "2021-10-09T04:23:57.265Z"
   },
   {
    "duration": 263,
    "start_time": "2021-10-09T04:23:57.276Z"
   },
   {
    "duration": 12,
    "start_time": "2021-10-09T04:23:57.541Z"
   },
   {
    "duration": 261,
    "start_time": "2021-10-09T04:23:57.555Z"
   },
   {
    "duration": 9,
    "start_time": "2021-10-09T04:23:57.818Z"
   },
   {
    "duration": 1192,
    "start_time": "2021-10-09T04:24:13.822Z"
   },
   {
    "duration": 720,
    "start_time": "2021-10-09T04:24:15.016Z"
   },
   {
    "duration": 15,
    "start_time": "2021-10-09T04:24:15.738Z"
   },
   {
    "duration": 11,
    "start_time": "2021-10-09T04:24:15.755Z"
   },
   {
    "duration": 16,
    "start_time": "2021-10-09T04:24:15.768Z"
   },
   {
    "duration": 7,
    "start_time": "2021-10-09T04:24:15.786Z"
   },
   {
    "duration": 32,
    "start_time": "2021-10-09T04:24:15.794Z"
   },
   {
    "duration": 38,
    "start_time": "2021-10-09T04:24:15.827Z"
   },
   {
    "duration": 7,
    "start_time": "2021-10-09T04:24:15.868Z"
   },
   {
    "duration": 15,
    "start_time": "2021-10-09T04:24:15.877Z"
   },
   {
    "duration": 12,
    "start_time": "2021-10-09T04:24:15.893Z"
   },
   {
    "duration": 9,
    "start_time": "2021-10-09T04:24:15.906Z"
   },
   {
    "duration": 38,
    "start_time": "2021-10-09T04:24:15.916Z"
   },
   {
    "duration": 9,
    "start_time": "2021-10-09T04:24:15.956Z"
   },
   {
    "duration": 14,
    "start_time": "2021-10-09T04:24:15.967Z"
   },
   {
    "duration": 69,
    "start_time": "2021-10-09T04:24:15.983Z"
   },
   {
    "duration": 5,
    "start_time": "2021-10-09T04:24:16.054Z"
   },
   {
    "duration": 15,
    "start_time": "2021-10-09T04:24:16.060Z"
   },
   {
    "duration": 145,
    "start_time": "2021-10-09T04:24:16.077Z"
   },
   {
    "duration": 9,
    "start_time": "2021-10-09T04:24:16.224Z"
   },
   {
    "duration": 114,
    "start_time": "2021-10-09T04:24:16.235Z"
   },
   {
    "duration": 437,
    "start_time": "2021-10-09T04:24:16.351Z"
   },
   {
    "duration": 31,
    "start_time": "2021-10-09T04:24:16.790Z"
   },
   {
    "duration": 52,
    "start_time": "2021-10-09T04:24:16.823Z"
   },
   {
    "duration": 31,
    "start_time": "2021-10-09T04:24:16.876Z"
   },
   {
    "duration": 16,
    "start_time": "2021-10-09T04:24:16.908Z"
   },
   {
    "duration": 15,
    "start_time": "2021-10-09T04:24:16.949Z"
   },
   {
    "duration": 93,
    "start_time": "2021-10-09T04:24:16.966Z"
   },
   {
    "duration": 18,
    "start_time": "2021-10-09T04:24:17.061Z"
   },
   {
    "duration": 36,
    "start_time": "2021-10-09T04:24:17.081Z"
   },
   {
    "duration": 4,
    "start_time": "2021-10-09T04:24:17.119Z"
   },
   {
    "duration": 40,
    "start_time": "2021-10-09T04:24:17.125Z"
   },
   {
    "duration": 7,
    "start_time": "2021-10-09T04:24:17.167Z"
   },
   {
    "duration": 39,
    "start_time": "2021-10-09T04:24:17.175Z"
   },
   {
    "duration": 6,
    "start_time": "2021-10-09T04:24:17.216Z"
   },
   {
    "duration": 27,
    "start_time": "2021-10-09T04:24:17.224Z"
   },
   {
    "duration": 14,
    "start_time": "2021-10-09T04:24:17.252Z"
   },
   {
    "duration": 14,
    "start_time": "2021-10-09T04:24:17.268Z"
   },
   {
    "duration": 193,
    "start_time": "2021-10-09T04:24:17.284Z"
   },
   {
    "duration": 7,
    "start_time": "2021-10-09T04:24:17.480Z"
   },
   {
    "duration": 61,
    "start_time": "2021-10-09T04:24:17.489Z"
   },
   {
    "duration": 50,
    "start_time": "2021-10-09T04:24:17.552Z"
   },
   {
    "duration": 1152,
    "start_time": "2021-10-09T04:24:17.603Z"
   },
   {
    "duration": 358,
    "start_time": "2021-10-09T04:24:18.757Z"
   },
   {
    "duration": 10,
    "start_time": "2021-10-09T04:24:19.117Z"
   },
   {
    "duration": 273,
    "start_time": "2021-10-09T04:24:19.129Z"
   },
   {
    "duration": 9,
    "start_time": "2021-10-09T04:24:19.405Z"
   },
   {
    "duration": 366,
    "start_time": "2021-10-09T04:24:19.416Z"
   },
   {
    "duration": 9,
    "start_time": "2021-10-09T04:24:19.784Z"
   },
   {
    "duration": 280,
    "start_time": "2021-10-09T04:24:19.795Z"
   },
   {
    "duration": 9,
    "start_time": "2021-10-09T04:24:20.078Z"
   },
   {
    "duration": 36,
    "start_time": "2021-10-09T04:24:20.088Z"
   },
   {
    "duration": 27,
    "start_time": "2021-10-09T04:24:20.126Z"
   },
   {
    "duration": 14,
    "start_time": "2021-10-09T04:24:20.155Z"
   },
   {
    "duration": 269,
    "start_time": "2021-10-09T04:24:20.170Z"
   },
   {
    "duration": 260,
    "start_time": "2021-10-09T04:24:20.440Z"
   },
   {
    "duration": 248,
    "start_time": "2021-10-09T04:24:20.701Z"
   },
   {
    "duration": 262,
    "start_time": "2021-10-09T04:24:20.951Z"
   },
   {
    "duration": 42,
    "start_time": "2021-10-09T04:24:21.215Z"
   },
   {
    "duration": 27,
    "start_time": "2021-10-09T04:24:21.258Z"
   },
   {
    "duration": 5,
    "start_time": "2021-10-09T04:24:21.287Z"
   },
   {
    "duration": 27,
    "start_time": "2021-10-09T04:24:21.293Z"
   },
   {
    "duration": 17,
    "start_time": "2021-10-09T04:24:21.321Z"
   },
   {
    "duration": 4,
    "start_time": "2021-10-09T04:28:24.783Z"
   },
   {
    "duration": 17,
    "start_time": "2021-10-09T04:28:26.409Z"
   },
   {
    "duration": 1114,
    "start_time": "2021-10-09T04:28:41.392Z"
   },
   {
    "duration": 454,
    "start_time": "2021-10-09T04:28:42.508Z"
   },
   {
    "duration": 15,
    "start_time": "2021-10-09T04:28:42.964Z"
   },
   {
    "duration": 7,
    "start_time": "2021-10-09T04:28:42.981Z"
   },
   {
    "duration": 17,
    "start_time": "2021-10-09T04:28:42.990Z"
   },
   {
    "duration": 10,
    "start_time": "2021-10-09T04:28:43.009Z"
   },
   {
    "duration": 43,
    "start_time": "2021-10-09T04:28:43.021Z"
   },
   {
    "duration": 18,
    "start_time": "2021-10-09T04:28:43.067Z"
   },
   {
    "duration": 10,
    "start_time": "2021-10-09T04:28:43.088Z"
   },
   {
    "duration": 20,
    "start_time": "2021-10-09T04:28:43.100Z"
   },
   {
    "duration": 12,
    "start_time": "2021-10-09T04:28:43.151Z"
   },
   {
    "duration": 9,
    "start_time": "2021-10-09T04:28:43.165Z"
   },
   {
    "duration": 8,
    "start_time": "2021-10-09T04:28:43.176Z"
   },
   {
    "duration": 12,
    "start_time": "2021-10-09T04:28:43.185Z"
   },
   {
    "duration": 22,
    "start_time": "2021-10-09T04:28:43.198Z"
   },
   {
    "duration": 71,
    "start_time": "2021-10-09T04:28:43.222Z"
   },
   {
    "duration": 4,
    "start_time": "2021-10-09T04:28:43.295Z"
   },
   {
    "duration": 12,
    "start_time": "2021-10-09T04:28:43.301Z"
   },
   {
    "duration": 150,
    "start_time": "2021-10-09T04:28:43.315Z"
   },
   {
    "duration": 9,
    "start_time": "2021-10-09T04:28:43.467Z"
   },
   {
    "duration": 113,
    "start_time": "2021-10-09T04:28:43.478Z"
   },
   {
    "duration": 580,
    "start_time": "2021-10-09T04:28:43.593Z"
   },
   {
    "duration": 32,
    "start_time": "2021-10-09T04:28:44.177Z"
   },
   {
    "duration": 55,
    "start_time": "2021-10-09T04:28:44.211Z"
   },
   {
    "duration": 30,
    "start_time": "2021-10-09T04:28:44.268Z"
   },
   {
    "duration": 15,
    "start_time": "2021-10-09T04:28:44.300Z"
   },
   {
    "duration": 37,
    "start_time": "2021-10-09T04:28:44.317Z"
   },
   {
    "duration": 79,
    "start_time": "2021-10-09T04:28:44.355Z"
   },
   {
    "duration": 27,
    "start_time": "2021-10-09T04:28:44.436Z"
   },
   {
    "duration": 35,
    "start_time": "2021-10-09T04:28:44.465Z"
   },
   {
    "duration": 8,
    "start_time": "2021-10-09T04:28:44.502Z"
   },
   {
    "duration": 46,
    "start_time": "2021-10-09T04:28:44.512Z"
   },
   {
    "duration": 7,
    "start_time": "2021-10-09T04:28:44.560Z"
   },
   {
    "duration": 35,
    "start_time": "2021-10-09T04:28:44.569Z"
   },
   {
    "duration": 7,
    "start_time": "2021-10-09T04:28:44.606Z"
   },
   {
    "duration": 5,
    "start_time": "2021-10-09T04:28:44.614Z"
   },
   {
    "duration": 30,
    "start_time": "2021-10-09T04:28:44.620Z"
   },
   {
    "duration": 4,
    "start_time": "2021-10-09T04:28:44.652Z"
   },
   {
    "duration": 197,
    "start_time": "2021-10-09T04:28:44.658Z"
   },
   {
    "duration": 7,
    "start_time": "2021-10-09T04:28:44.857Z"
   },
   {
    "duration": 53,
    "start_time": "2021-10-09T04:28:44.866Z"
   },
   {
    "duration": 73,
    "start_time": "2021-10-09T04:28:44.921Z"
   },
   {
    "duration": 1169,
    "start_time": "2021-10-09T04:28:44.997Z"
   },
   {
    "duration": 350,
    "start_time": "2021-10-09T04:28:46.167Z"
   },
   {
    "duration": 8,
    "start_time": "2021-10-09T04:28:46.519Z"
   },
   {
    "duration": 271,
    "start_time": "2021-10-09T04:28:46.529Z"
   },
   {
    "duration": 8,
    "start_time": "2021-10-09T04:28:46.802Z"
   },
   {
    "duration": 279,
    "start_time": "2021-10-09T04:28:46.812Z"
   },
   {
    "duration": 8,
    "start_time": "2021-10-09T04:28:47.093Z"
   },
   {
    "duration": 285,
    "start_time": "2021-10-09T04:28:47.103Z"
   },
   {
    "duration": 8,
    "start_time": "2021-10-09T04:28:47.390Z"
   },
   {
    "duration": 50,
    "start_time": "2021-10-09T04:28:47.400Z"
   },
   {
    "duration": 11,
    "start_time": "2021-10-09T04:28:47.451Z"
   },
   {
    "duration": 11,
    "start_time": "2021-10-09T04:28:47.464Z"
   },
   {
    "duration": 270,
    "start_time": "2021-10-09T04:28:47.477Z"
   },
   {
    "duration": 258,
    "start_time": "2021-10-09T04:28:47.749Z"
   },
   {
    "duration": 246,
    "start_time": "2021-10-09T04:28:48.009Z"
   },
   {
    "duration": 258,
    "start_time": "2021-10-09T04:28:48.257Z"
   },
   {
    "duration": 45,
    "start_time": "2021-10-09T04:28:48.517Z"
   },
   {
    "duration": 28,
    "start_time": "2021-10-09T04:28:48.564Z"
   },
   {
    "duration": 5,
    "start_time": "2021-10-09T04:28:48.594Z"
   },
   {
    "duration": 8,
    "start_time": "2021-10-09T04:28:48.601Z"
   },
   {
    "duration": 11,
    "start_time": "2021-10-09T04:28:48.611Z"
   },
   {
    "duration": 5,
    "start_time": "2021-10-09T04:31:37.964Z"
   },
   {
    "duration": 4,
    "start_time": "2021-10-09T04:31:46.004Z"
   },
   {
    "duration": 20,
    "start_time": "2021-10-09T04:35:21.992Z"
   },
   {
    "duration": 1192,
    "start_time": "2021-10-09T04:35:48.706Z"
   },
   {
    "duration": 458,
    "start_time": "2021-10-09T04:35:49.900Z"
   },
   {
    "duration": 15,
    "start_time": "2021-10-09T04:35:50.360Z"
   },
   {
    "duration": 19,
    "start_time": "2021-10-09T04:35:50.377Z"
   },
   {
    "duration": 20,
    "start_time": "2021-10-09T04:35:50.398Z"
   },
   {
    "duration": 10,
    "start_time": "2021-10-09T04:35:50.420Z"
   },
   {
    "duration": 32,
    "start_time": "2021-10-09T04:35:50.431Z"
   },
   {
    "duration": 16,
    "start_time": "2021-10-09T04:35:50.466Z"
   },
   {
    "duration": 7,
    "start_time": "2021-10-09T04:35:50.484Z"
   },
   {
    "duration": 22,
    "start_time": "2021-10-09T04:35:50.492Z"
   },
   {
    "duration": 33,
    "start_time": "2021-10-09T04:35:50.516Z"
   },
   {
    "duration": 9,
    "start_time": "2021-10-09T04:35:50.551Z"
   },
   {
    "duration": 20,
    "start_time": "2021-10-09T04:35:50.561Z"
   },
   {
    "duration": 22,
    "start_time": "2021-10-09T04:35:50.583Z"
   },
   {
    "duration": 22,
    "start_time": "2021-10-09T04:35:50.607Z"
   },
   {
    "duration": 73,
    "start_time": "2021-10-09T04:35:50.631Z"
   },
   {
    "duration": 5,
    "start_time": "2021-10-09T04:35:50.706Z"
   },
   {
    "duration": 14,
    "start_time": "2021-10-09T04:35:50.712Z"
   },
   {
    "duration": 139,
    "start_time": "2021-10-09T04:35:50.728Z"
   },
   {
    "duration": 10,
    "start_time": "2021-10-09T04:35:50.868Z"
   },
   {
    "duration": 117,
    "start_time": "2021-10-09T04:35:50.880Z"
   },
   {
    "duration": 451,
    "start_time": "2021-10-09T04:35:50.999Z"
   },
   {
    "duration": 32,
    "start_time": "2021-10-09T04:35:51.453Z"
   },
   {
    "duration": 37,
    "start_time": "2021-10-09T04:35:51.487Z"
   },
   {
    "duration": 51,
    "start_time": "2021-10-09T04:35:51.526Z"
   },
   {
    "duration": 14,
    "start_time": "2021-10-09T04:35:51.578Z"
   },
   {
    "duration": 13,
    "start_time": "2021-10-09T04:35:51.593Z"
   },
   {
    "duration": 109,
    "start_time": "2021-10-09T04:35:51.607Z"
   },
   {
    "duration": 16,
    "start_time": "2021-10-09T04:35:51.718Z"
   },
   {
    "duration": 44,
    "start_time": "2021-10-09T04:35:51.735Z"
   },
   {
    "duration": 2,
    "start_time": "2021-10-09T04:35:51.781Z"
   },
   {
    "duration": 27,
    "start_time": "2021-10-09T04:35:51.784Z"
   },
   {
    "duration": 287,
    "start_time": "2021-10-09T04:35:51.813Z"
   },
   {
    "duration": -767,
    "start_time": "2021-10-09T04:35:52.869Z"
   },
   {
    "duration": -774,
    "start_time": "2021-10-09T04:35:52.877Z"
   },
   {
    "duration": -780,
    "start_time": "2021-10-09T04:35:52.884Z"
   },
   {
    "duration": -788,
    "start_time": "2021-10-09T04:35:52.893Z"
   },
   {
    "duration": -792,
    "start_time": "2021-10-09T04:35:52.898Z"
   },
   {
    "duration": -797,
    "start_time": "2021-10-09T04:35:52.904Z"
   },
   {
    "duration": -805,
    "start_time": "2021-10-09T04:35:52.913Z"
   },
   {
    "duration": -810,
    "start_time": "2021-10-09T04:35:52.919Z"
   },
   {
    "duration": -813,
    "start_time": "2021-10-09T04:35:52.923Z"
   },
   {
    "duration": -818,
    "start_time": "2021-10-09T04:35:52.929Z"
   },
   {
    "duration": -821,
    "start_time": "2021-10-09T04:35:52.933Z"
   },
   {
    "duration": -825,
    "start_time": "2021-10-09T04:35:52.938Z"
   },
   {
    "duration": -829,
    "start_time": "2021-10-09T04:35:52.943Z"
   },
   {
    "duration": -834,
    "start_time": "2021-10-09T04:35:52.949Z"
   },
   {
    "duration": -838,
    "start_time": "2021-10-09T04:35:52.954Z"
   },
   {
    "duration": -864,
    "start_time": "2021-10-09T04:35:52.981Z"
   },
   {
    "duration": -869,
    "start_time": "2021-10-09T04:35:52.987Z"
   },
   {
    "duration": -873,
    "start_time": "2021-10-09T04:35:52.993Z"
   },
   {
    "duration": -877,
    "start_time": "2021-10-09T04:35:52.998Z"
   },
   {
    "duration": -887,
    "start_time": "2021-10-09T04:35:53.009Z"
   },
   {
    "duration": -890,
    "start_time": "2021-10-09T04:35:53.013Z"
   },
   {
    "duration": -895,
    "start_time": "2021-10-09T04:35:53.019Z"
   },
   {
    "duration": -899,
    "start_time": "2021-10-09T04:35:53.024Z"
   },
   {
    "duration": -904,
    "start_time": "2021-10-09T04:35:53.030Z"
   },
   {
    "duration": -908,
    "start_time": "2021-10-09T04:35:53.035Z"
   },
   {
    "duration": -913,
    "start_time": "2021-10-09T04:35:53.041Z"
   },
   {
    "duration": -916,
    "start_time": "2021-10-09T04:35:53.045Z"
   },
   {
    "duration": -921,
    "start_time": "2021-10-09T04:35:53.051Z"
   },
   {
    "duration": -963,
    "start_time": "2021-10-09T04:35:53.095Z"
   },
   {
    "duration": -974,
    "start_time": "2021-10-09T04:35:53.106Z"
   },
   {
    "duration": -981,
    "start_time": "2021-10-09T04:35:53.115Z"
   },
   {
    "duration": 2,
    "start_time": "2021-10-09T04:36:11.973Z"
   },
   {
    "duration": 3,
    "start_time": "2021-10-09T04:36:42.523Z"
   },
   {
    "duration": 5,
    "start_time": "2021-10-09T04:36:42.528Z"
   },
   {
    "duration": 10,
    "start_time": "2021-10-09T04:36:42.535Z"
   },
   {
    "duration": 31,
    "start_time": "2021-10-09T04:36:42.547Z"
   },
   {
    "duration": 7,
    "start_time": "2021-10-09T04:36:42.580Z"
   },
   {
    "duration": 7,
    "start_time": "2021-10-09T04:36:42.589Z"
   },
   {
    "duration": 5,
    "start_time": "2021-10-09T04:36:42.597Z"
   },
   {
    "duration": 5,
    "start_time": "2021-10-09T04:36:42.604Z"
   },
   {
    "duration": 232,
    "start_time": "2021-10-09T04:36:42.611Z"
   },
   {
    "duration": 6,
    "start_time": "2021-10-09T04:36:42.846Z"
   },
   {
    "duration": 58,
    "start_time": "2021-10-09T04:36:42.854Z"
   },
   {
    "duration": 69,
    "start_time": "2021-10-09T04:36:42.913Z"
   },
   {
    "duration": 1143,
    "start_time": "2021-10-09T04:36:42.983Z"
   },
   {
    "duration": 349,
    "start_time": "2021-10-09T04:36:44.128Z"
   },
   {
    "duration": 7,
    "start_time": "2021-10-09T04:36:44.479Z"
   },
   {
    "duration": 264,
    "start_time": "2021-10-09T04:36:44.488Z"
   },
   {
    "duration": 8,
    "start_time": "2021-10-09T04:36:44.753Z"
   },
   {
    "duration": 266,
    "start_time": "2021-10-09T04:36:44.762Z"
   },
   {
    "duration": 9,
    "start_time": "2021-10-09T04:36:45.030Z"
   },
   {
    "duration": 267,
    "start_time": "2021-10-09T04:36:45.050Z"
   },
   {
    "duration": 8,
    "start_time": "2021-10-09T04:36:45.319Z"
   },
   {
    "duration": 44,
    "start_time": "2021-10-09T04:36:45.329Z"
   },
   {
    "duration": 9,
    "start_time": "2021-10-09T04:36:45.375Z"
   },
   {
    "duration": 10,
    "start_time": "2021-10-09T04:36:45.386Z"
   },
   {
    "duration": 280,
    "start_time": "2021-10-09T04:36:45.399Z"
   },
   {
    "duration": 270,
    "start_time": "2021-10-09T04:36:45.681Z"
   },
   {
    "duration": 244,
    "start_time": "2021-10-09T04:36:45.953Z"
   },
   {
    "duration": 258,
    "start_time": "2021-10-09T04:36:46.199Z"
   },
   {
    "duration": 27,
    "start_time": "2021-10-09T04:36:46.459Z"
   },
   {
    "duration": 26,
    "start_time": "2021-10-09T04:36:46.488Z"
   },
   {
    "duration": 5,
    "start_time": "2021-10-09T04:36:46.516Z"
   },
   {
    "duration": 30,
    "start_time": "2021-10-09T04:36:46.522Z"
   },
   {
    "duration": 11,
    "start_time": "2021-10-09T04:36:46.554Z"
   },
   {
    "duration": 19,
    "start_time": "2021-10-09T04:37:58.866Z"
   },
   {
    "duration": 10,
    "start_time": "2021-10-09T04:41:21.246Z"
   },
   {
    "duration": 9,
    "start_time": "2021-10-09T04:41:23.083Z"
   },
   {
    "duration": 1207,
    "start_time": "2021-10-09T04:49:51.927Z"
   },
   {
    "duration": 455,
    "start_time": "2021-10-09T04:49:53.136Z"
   },
   {
    "duration": 15,
    "start_time": "2021-10-09T04:49:53.593Z"
   },
   {
    "duration": 20,
    "start_time": "2021-10-09T04:49:53.610Z"
   },
   {
    "duration": 19,
    "start_time": "2021-10-09T04:49:53.632Z"
   },
   {
    "duration": 8,
    "start_time": "2021-10-09T04:49:53.652Z"
   },
   {
    "duration": 28,
    "start_time": "2021-10-09T04:49:53.662Z"
   },
   {
    "duration": 17,
    "start_time": "2021-10-09T04:49:53.693Z"
   },
   {
    "duration": 7,
    "start_time": "2021-10-09T04:49:53.712Z"
   },
   {
    "duration": 37,
    "start_time": "2021-10-09T04:49:53.721Z"
   },
   {
    "duration": 12,
    "start_time": "2021-10-09T04:49:53.759Z"
   },
   {
    "duration": 26,
    "start_time": "2021-10-09T04:49:53.772Z"
   },
   {
    "duration": 10,
    "start_time": "2021-10-09T04:49:53.800Z"
   },
   {
    "duration": 16,
    "start_time": "2021-10-09T04:49:53.812Z"
   },
   {
    "duration": 25,
    "start_time": "2021-10-09T04:49:53.830Z"
   },
   {
    "duration": 52,
    "start_time": "2021-10-09T04:49:53.858Z"
   },
   {
    "duration": 6,
    "start_time": "2021-10-09T04:49:53.911Z"
   },
   {
    "duration": 33,
    "start_time": "2021-10-09T04:49:53.919Z"
   },
   {
    "duration": 150,
    "start_time": "2021-10-09T04:49:53.954Z"
   },
   {
    "duration": 12,
    "start_time": "2021-10-09T04:49:54.107Z"
   },
   {
    "duration": 123,
    "start_time": "2021-10-09T04:49:54.121Z"
   },
   {
    "duration": 471,
    "start_time": "2021-10-09T04:49:54.246Z"
   },
   {
    "duration": 46,
    "start_time": "2021-10-09T04:49:54.722Z"
   },
   {
    "duration": 40,
    "start_time": "2021-10-09T04:49:54.771Z"
   },
   {
    "duration": 52,
    "start_time": "2021-10-09T04:49:54.813Z"
   },
   {
    "duration": 16,
    "start_time": "2021-10-09T04:49:54.868Z"
   },
   {
    "duration": 15,
    "start_time": "2021-10-09T04:49:54.886Z"
   },
   {
    "duration": 111,
    "start_time": "2021-10-09T04:49:54.903Z"
   },
   {
    "duration": 34,
    "start_time": "2021-10-09T04:49:55.017Z"
   },
   {
    "duration": 39,
    "start_time": "2021-10-09T04:49:55.053Z"
   },
   {
    "duration": 24,
    "start_time": "2021-10-09T04:49:55.095Z"
   },
   {
    "duration": 2,
    "start_time": "2021-10-09T04:49:55.122Z"
   },
   {
    "duration": 3,
    "start_time": "2021-10-09T04:49:55.149Z"
   },
   {
    "duration": 11,
    "start_time": "2021-10-09T04:49:55.155Z"
   },
   {
    "duration": 34,
    "start_time": "2021-10-09T04:49:55.168Z"
   },
   {
    "duration": 9,
    "start_time": "2021-10-09T04:49:55.204Z"
   },
   {
    "duration": 38,
    "start_time": "2021-10-09T04:49:55.215Z"
   },
   {
    "duration": 6,
    "start_time": "2021-10-09T04:49:55.255Z"
   },
   {
    "duration": 6,
    "start_time": "2021-10-09T04:49:55.263Z"
   },
   {
    "duration": 216,
    "start_time": "2021-10-09T04:49:55.270Z"
   },
   {
    "duration": 8,
    "start_time": "2021-10-09T04:49:55.489Z"
   },
   {
    "duration": 68,
    "start_time": "2021-10-09T04:49:55.499Z"
   },
   {
    "duration": 54,
    "start_time": "2021-10-09T04:49:55.569Z"
   },
   {
    "duration": 1145,
    "start_time": "2021-10-09T04:49:55.625Z"
   },
   {
    "duration": 349,
    "start_time": "2021-10-09T04:49:56.772Z"
   },
   {
    "duration": 8,
    "start_time": "2021-10-09T04:49:57.123Z"
   },
   {
    "duration": 266,
    "start_time": "2021-10-09T04:49:57.132Z"
   },
   {
    "duration": 8,
    "start_time": "2021-10-09T04:49:57.400Z"
   },
   {
    "duration": 272,
    "start_time": "2021-10-09T04:49:57.409Z"
   },
   {
    "duration": 9,
    "start_time": "2021-10-09T04:49:57.683Z"
   },
   {
    "duration": 296,
    "start_time": "2021-10-09T04:49:57.694Z"
   },
   {
    "duration": 8,
    "start_time": "2021-10-09T04:49:57.992Z"
   },
   {
    "duration": 47,
    "start_time": "2021-10-09T04:49:58.002Z"
   },
   {
    "duration": 2,
    "start_time": "2021-10-09T04:49:58.051Z"
   },
   {
    "duration": 6,
    "start_time": "2021-10-09T04:49:58.055Z"
   },
   {
    "duration": 307,
    "start_time": "2021-10-09T04:49:58.062Z"
   },
   {
    "duration": -198,
    "start_time": "2021-10-09T04:49:58.569Z"
   },
   {
    "duration": -202,
    "start_time": "2021-10-09T04:49:58.574Z"
   },
   {
    "duration": -208,
    "start_time": "2021-10-09T04:49:58.580Z"
   },
   {
    "duration": -212,
    "start_time": "2021-10-09T04:49:58.585Z"
   },
   {
    "duration": -219,
    "start_time": "2021-10-09T04:49:58.593Z"
   },
   {
    "duration": -224,
    "start_time": "2021-10-09T04:49:58.599Z"
   },
   {
    "duration": -228,
    "start_time": "2021-10-09T04:49:58.604Z"
   },
   {
    "duration": -231,
    "start_time": "2021-10-09T04:49:58.608Z"
   },
   {
    "duration": 194,
    "start_time": "2021-10-09T04:51:54.719Z"
   },
   {
    "duration": 53,
    "start_time": "2021-10-09T04:52:04.996Z"
   },
   {
    "duration": 155,
    "start_time": "2021-10-09T05:00:43.682Z"
   },
   {
    "duration": 177,
    "start_time": "2021-10-09T05:02:42.474Z"
   },
   {
    "duration": 187,
    "start_time": "2021-10-09T05:03:09.090Z"
   },
   {
    "duration": 858,
    "start_time": "2021-10-09T05:09:10.054Z"
   },
   {
    "duration": 27,
    "start_time": "2021-10-09T05:10:00.532Z"
   },
   {
    "duration": 30,
    "start_time": "2021-10-09T05:10:19.145Z"
   },
   {
    "duration": 6,
    "start_time": "2021-10-09T05:10:23.809Z"
   },
   {
    "duration": 6,
    "start_time": "2021-10-09T05:10:30.055Z"
   },
   {
    "duration": 11,
    "start_time": "2021-10-09T05:10:33.324Z"
   },
   {
    "duration": 183,
    "start_time": "2021-10-09T05:16:48.506Z"
   },
   {
    "duration": 177,
    "start_time": "2021-10-09T05:16:50.936Z"
   },
   {
    "duration": 168,
    "start_time": "2021-10-09T05:17:07.886Z"
   },
   {
    "duration": 165,
    "start_time": "2021-10-09T05:17:22.672Z"
   },
   {
    "duration": 273,
    "start_time": "2021-10-09T05:17:32.957Z"
   },
   {
    "duration": 165,
    "start_time": "2021-10-09T05:21:04.742Z"
   },
   {
    "duration": 174,
    "start_time": "2021-10-09T05:21:14.569Z"
   },
   {
    "duration": 174,
    "start_time": "2021-10-09T05:21:20.162Z"
   },
   {
    "duration": 763,
    "start_time": "2021-10-09T05:27:32.815Z"
   },
   {
    "duration": 185,
    "start_time": "2021-10-09T05:27:43.208Z"
   },
   {
    "duration": 173,
    "start_time": "2021-10-09T05:27:46.419Z"
   },
   {
    "duration": 5,
    "start_time": "2021-10-09T06:09:54.942Z"
   },
   {
    "duration": 6,
    "start_time": "2021-10-09T06:10:15.756Z"
   },
   {
    "duration": 72,
    "start_time": "2021-10-09T06:10:26.531Z"
   },
   {
    "duration": 73,
    "start_time": "2021-10-09T06:10:36.907Z"
   },
   {
    "duration": 67,
    "start_time": "2021-10-09T06:10:41.667Z"
   },
   {
    "duration": 5,
    "start_time": "2021-10-09T06:10:44.026Z"
   },
   {
    "duration": 71,
    "start_time": "2021-10-09T06:11:09.337Z"
   },
   {
    "duration": 76,
    "start_time": "2021-10-09T06:11:18.431Z"
   },
   {
    "duration": 72,
    "start_time": "2021-10-09T06:11:53.914Z"
   },
   {
    "duration": 71,
    "start_time": "2021-10-09T06:12:29.694Z"
   },
   {
    "duration": 4,
    "start_time": "2021-10-09T06:12:32.628Z"
   },
   {
    "duration": 75,
    "start_time": "2021-10-09T06:14:51.120Z"
   },
   {
    "duration": 6,
    "start_time": "2021-10-09T06:15:09.113Z"
   },
   {
    "duration": -771,
    "start_time": "2021-10-09T06:18:33.806Z"
   },
   {
    "duration": 6634,
    "start_time": "2021-10-09T06:18:46.629Z"
   },
   {
    "duration": 6,
    "start_time": "2021-10-09T06:19:32.389Z"
   },
   {
    "duration": 6038,
    "start_time": "2021-10-09T06:19:36.853Z"
   },
   {
    "duration": 1127,
    "start_time": "2021-10-09T06:19:51.881Z"
   },
   {
    "duration": 452,
    "start_time": "2021-10-09T06:19:53.010Z"
   },
   {
    "duration": 14,
    "start_time": "2021-10-09T06:19:53.464Z"
   },
   {
    "duration": 7,
    "start_time": "2021-10-09T06:19:53.480Z"
   },
   {
    "duration": 18,
    "start_time": "2021-10-09T06:19:53.489Z"
   },
   {
    "duration": 10,
    "start_time": "2021-10-09T06:19:53.508Z"
   },
   {
    "duration": 36,
    "start_time": "2021-10-09T06:19:53.520Z"
   },
   {
    "duration": 16,
    "start_time": "2021-10-09T06:19:53.559Z"
   },
   {
    "duration": 7,
    "start_time": "2021-10-09T06:19:53.578Z"
   },
   {
    "duration": 14,
    "start_time": "2021-10-09T06:19:53.587Z"
   },
   {
    "duration": 47,
    "start_time": "2021-10-09T06:19:53.603Z"
   },
   {
    "duration": 9,
    "start_time": "2021-10-09T06:19:53.652Z"
   },
   {
    "duration": 11,
    "start_time": "2021-10-09T06:19:53.662Z"
   },
   {
    "duration": 9,
    "start_time": "2021-10-09T06:19:53.675Z"
   },
   {
    "duration": 16,
    "start_time": "2021-10-09T06:19:53.686Z"
   },
   {
    "duration": 74,
    "start_time": "2021-10-09T06:19:53.704Z"
   },
   {
    "duration": 4,
    "start_time": "2021-10-09T06:19:53.780Z"
   },
   {
    "duration": 12,
    "start_time": "2021-10-09T06:19:53.785Z"
   },
   {
    "duration": 133,
    "start_time": "2021-10-09T06:19:53.799Z"
   },
   {
    "duration": 23,
    "start_time": "2021-10-09T06:19:53.934Z"
   },
   {
    "duration": 108,
    "start_time": "2021-10-09T06:19:53.959Z"
   },
   {
    "duration": 459,
    "start_time": "2021-10-09T06:19:54.069Z"
   },
   {
    "duration": 40,
    "start_time": "2021-10-09T06:19:54.531Z"
   },
   {
    "duration": 36,
    "start_time": "2021-10-09T06:19:54.573Z"
   },
   {
    "duration": 48,
    "start_time": "2021-10-09T06:19:54.611Z"
   },
   {
    "duration": 16,
    "start_time": "2021-10-09T06:19:54.660Z"
   },
   {
    "duration": 14,
    "start_time": "2021-10-09T06:19:54.677Z"
   },
   {
    "duration": 101,
    "start_time": "2021-10-09T06:19:54.693Z"
   },
   {
    "duration": 17,
    "start_time": "2021-10-09T06:19:54.796Z"
   },
   {
    "duration": 51,
    "start_time": "2021-10-09T06:19:54.815Z"
   },
   {
    "duration": 21,
    "start_time": "2021-10-09T06:19:54.868Z"
   },
   {
    "duration": 2,
    "start_time": "2021-10-09T06:19:54.891Z"
   },
   {
    "duration": 9,
    "start_time": "2021-10-09T06:19:54.894Z"
   },
   {
    "duration": 12,
    "start_time": "2021-10-09T06:19:54.905Z"
   },
   {
    "duration": 43,
    "start_time": "2021-10-09T06:19:54.919Z"
   },
   {
    "duration": 6,
    "start_time": "2021-10-09T06:19:54.964Z"
   },
   {
    "duration": 4,
    "start_time": "2021-10-09T06:19:54.972Z"
   },
   {
    "duration": 7,
    "start_time": "2021-10-09T06:19:54.978Z"
   },
   {
    "duration": 8,
    "start_time": "2021-10-09T06:19:54.987Z"
   },
   {
    "duration": 6,
    "start_time": "2021-10-09T06:20:20.944Z"
   },
   {
    "duration": 6609,
    "start_time": "2021-10-09T06:20:25.780Z"
   },
   {
    "duration": 8,
    "start_time": "2021-10-09T06:21:07.971Z"
   },
   {
    "duration": 5,
    "start_time": "2021-10-09T06:21:13.531Z"
   },
   {
    "duration": 6081,
    "start_time": "2021-10-09T06:21:15.893Z"
   },
   {
    "duration": 6,
    "start_time": "2021-10-09T06:21:38.462Z"
   },
   {
    "duration": 154,
    "start_time": "2021-10-09T06:21:41.505Z"
   },
   {
    "duration": 6,
    "start_time": "2021-10-09T06:23:11.304Z"
   },
   {
    "duration": 214,
    "start_time": "2021-10-09T06:23:54.617Z"
   },
   {
    "duration": 89,
    "start_time": "2021-10-09T06:24:12.868Z"
   },
   {
    "duration": 6,
    "start_time": "2021-10-09T06:32:24.011Z"
   },
   {
    "duration": 498,
    "start_time": "2021-10-09T06:32:27.028Z"
   },
   {
    "duration": 6,
    "start_time": "2021-10-09T06:32:40.889Z"
   },
   {
    "duration": 510,
    "start_time": "2021-10-09T06:32:47.623Z"
   },
   {
    "duration": 6,
    "start_time": "2021-10-09T06:33:12.333Z"
   },
   {
    "duration": 504,
    "start_time": "2021-10-09T06:33:19.294Z"
   },
   {
    "duration": 6,
    "start_time": "2021-10-09T06:33:35.434Z"
   },
   {
    "duration": 1406,
    "start_time": "2021-10-09T06:33:39.188Z"
   },
   {
    "duration": 8,
    "start_time": "2021-10-09T06:38:40.737Z"
   },
   {
    "duration": 46,
    "start_time": "2021-10-09T06:38:53.487Z"
   },
   {
    "duration": 47,
    "start_time": "2021-10-09T06:38:55.972Z"
   },
   {
    "duration": 45,
    "start_time": "2021-10-09T06:39:02.974Z"
   },
   {
    "duration": 1170,
    "start_time": "2021-10-09T06:39:06.070Z"
   },
   {
    "duration": 260,
    "start_time": "2021-10-09T06:39:08.164Z"
   },
   {
    "duration": 186,
    "start_time": "2021-10-09T06:39:10.654Z"
   },
   {
    "duration": 9,
    "start_time": "2021-10-09T06:39:13.454Z"
   },
   {
    "duration": 8,
    "start_time": "2021-10-09T06:39:22.009Z"
   },
   {
    "duration": 274,
    "start_time": "2021-10-09T06:39:22.019Z"
   },
   {
    "duration": 180,
    "start_time": "2021-10-09T06:39:22.295Z"
   },
   {
    "duration": 7,
    "start_time": "2021-10-09T06:39:22.477Z"
   },
   {
    "duration": 273,
    "start_time": "2021-10-09T06:39:22.486Z"
   },
   {
    "duration": 190,
    "start_time": "2021-10-09T06:39:22.762Z"
   },
   {
    "duration": 8,
    "start_time": "2021-10-09T06:39:22.954Z"
   },
   {
    "duration": 277,
    "start_time": "2021-10-09T06:39:22.964Z"
   },
   {
    "duration": 192,
    "start_time": "2021-10-09T06:39:23.243Z"
   },
   {
    "duration": 16,
    "start_time": "2021-10-09T06:39:23.437Z"
   },
   {
    "duration": 251,
    "start_time": "2021-10-09T06:39:23.454Z"
   },
   {
    "duration": -423,
    "start_time": "2021-10-09T06:39:24.130Z"
   },
   {
    "duration": -507,
    "start_time": "2021-10-09T06:39:24.215Z"
   },
   {
    "duration": -519,
    "start_time": "2021-10-09T06:39:24.228Z"
   },
   {
    "duration": -525,
    "start_time": "2021-10-09T06:39:24.235Z"
   },
   {
    "duration": -562,
    "start_time": "2021-10-09T06:39:24.273Z"
   },
   {
    "duration": -569,
    "start_time": "2021-10-09T06:39:24.281Z"
   },
   {
    "duration": -601,
    "start_time": "2021-10-09T06:39:24.314Z"
   },
   {
    "duration": -609,
    "start_time": "2021-10-09T06:39:24.323Z"
   },
   {
    "duration": -613,
    "start_time": "2021-10-09T06:39:24.328Z"
   },
   {
    "duration": -623,
    "start_time": "2021-10-09T06:39:24.340Z"
   },
   {
    "duration": -629,
    "start_time": "2021-10-09T06:39:24.347Z"
   },
   {
    "duration": -660,
    "start_time": "2021-10-09T06:39:24.379Z"
   },
   {
    "duration": 30,
    "start_time": "2021-10-09T06:40:03.924Z"
   },
   {
    "duration": 11,
    "start_time": "2021-10-09T06:40:40.707Z"
   },
   {
    "duration": 258,
    "start_time": "2021-10-09T06:40:43.306Z"
   },
   {
    "duration": 263,
    "start_time": "2021-10-09T06:42:11.915Z"
   },
   {
    "duration": 433,
    "start_time": "2021-10-09T06:43:13.892Z"
   },
   {
    "duration": 11,
    "start_time": "2021-10-09T06:43:48.513Z"
   },
   {
    "duration": 10,
    "start_time": "2021-10-09T06:44:08.713Z"
   },
   {
    "duration": 251,
    "start_time": "2021-10-09T06:44:15.335Z"
   },
   {
    "duration": 380,
    "start_time": "2021-10-09T06:44:19.699Z"
   },
   {
    "duration": 27,
    "start_time": "2021-10-09T06:50:40.531Z"
   },
   {
    "duration": 206,
    "start_time": "2021-10-09T06:50:46.714Z"
   },
   {
    "duration": 26,
    "start_time": "2021-10-09T06:50:51.316Z"
   },
   {
    "duration": 5,
    "start_time": "2021-10-09T06:50:55.263Z"
   },
   {
    "duration": 7,
    "start_time": "2021-10-09T06:51:04.129Z"
   },
   {
    "duration": 1465,
    "start_time": "2021-10-10T03:55:30.793Z"
   },
   {
    "duration": 635,
    "start_time": "2021-10-10T03:55:32.261Z"
   },
   {
    "duration": 20,
    "start_time": "2021-10-10T03:55:32.899Z"
   },
   {
    "duration": 11,
    "start_time": "2021-10-10T03:55:32.921Z"
   },
   {
    "duration": 20,
    "start_time": "2021-10-10T03:55:32.935Z"
   },
   {
    "duration": 33,
    "start_time": "2021-10-10T03:55:32.957Z"
   },
   {
    "duration": 31,
    "start_time": "2021-10-10T03:55:32.993Z"
   },
   {
    "duration": 19,
    "start_time": "2021-10-10T03:55:33.028Z"
   },
   {
    "duration": 34,
    "start_time": "2021-10-10T03:55:33.050Z"
   },
   {
    "duration": 16,
    "start_time": "2021-10-10T03:55:33.086Z"
   },
   {
    "duration": 14,
    "start_time": "2021-10-10T03:55:33.104Z"
   },
   {
    "duration": 12,
    "start_time": "2021-10-10T03:55:33.121Z"
   },
   {
    "duration": 50,
    "start_time": "2021-10-10T03:55:33.135Z"
   },
   {
    "duration": 15,
    "start_time": "2021-10-10T03:55:33.188Z"
   },
   {
    "duration": 24,
    "start_time": "2021-10-10T03:55:33.205Z"
   },
   {
    "duration": 86,
    "start_time": "2021-10-10T03:55:33.232Z"
   },
   {
    "duration": 5,
    "start_time": "2021-10-10T03:55:33.321Z"
   },
   {
    "duration": 19,
    "start_time": "2021-10-10T03:55:33.328Z"
   },
   {
    "duration": 178,
    "start_time": "2021-10-10T03:55:33.349Z"
   },
   {
    "duration": 14,
    "start_time": "2021-10-10T03:55:33.529Z"
   },
   {
    "duration": 151,
    "start_time": "2021-10-10T03:55:33.545Z"
   },
   {
    "duration": 651,
    "start_time": "2021-10-10T03:55:33.698Z"
   },
   {
    "duration": 48,
    "start_time": "2021-10-10T03:55:34.354Z"
   },
   {
    "duration": 48,
    "start_time": "2021-10-10T03:55:34.406Z"
   },
   {
    "duration": 53,
    "start_time": "2021-10-10T03:55:34.456Z"
   },
   {
    "duration": 23,
    "start_time": "2021-10-10T03:55:34.512Z"
   },
   {
    "duration": 47,
    "start_time": "2021-10-10T03:55:34.537Z"
   },
   {
    "duration": 106,
    "start_time": "2021-10-10T03:55:34.586Z"
   },
   {
    "duration": 25,
    "start_time": "2021-10-10T03:55:34.694Z"
   },
   {
    "duration": 66,
    "start_time": "2021-10-10T03:55:34.721Z"
   },
   {
    "duration": 34,
    "start_time": "2021-10-10T03:55:34.789Z"
   },
   {
    "duration": 2,
    "start_time": "2021-10-10T03:55:34.826Z"
   },
   {
    "duration": 9,
    "start_time": "2021-10-10T03:55:34.830Z"
   },
   {
    "duration": 12,
    "start_time": "2021-10-10T03:55:34.841Z"
   },
   {
    "duration": 67,
    "start_time": "2021-10-10T03:55:34.856Z"
   },
   {
    "duration": 8,
    "start_time": "2021-10-10T03:55:34.926Z"
   },
   {
    "duration": 6,
    "start_time": "2021-10-10T03:55:34.936Z"
   },
   {
    "duration": 11,
    "start_time": "2021-10-10T03:55:34.944Z"
   },
   {
    "duration": 30,
    "start_time": "2021-10-10T03:55:34.957Z"
   },
   {
    "duration": 8,
    "start_time": "2021-10-10T03:55:34.989Z"
   },
   {
    "duration": 9986,
    "start_time": "2021-10-10T03:55:35.000Z"
   },
   {
    "duration": -388,
    "start_time": "2021-10-10T03:55:45.376Z"
   },
   {
    "duration": -397,
    "start_time": "2021-10-10T03:55:45.387Z"
   },
   {
    "duration": -404,
    "start_time": "2021-10-10T03:55:45.395Z"
   },
   {
    "duration": -410,
    "start_time": "2021-10-10T03:55:45.402Z"
   },
   {
    "duration": -418,
    "start_time": "2021-10-10T03:55:45.412Z"
   },
   {
    "duration": -477,
    "start_time": "2021-10-10T03:55:45.472Z"
   },
   {
    "duration": -486,
    "start_time": "2021-10-10T03:55:45.482Z"
   },
   {
    "duration": -585,
    "start_time": "2021-10-10T03:55:45.583Z"
   },
   {
    "duration": -705,
    "start_time": "2021-10-10T03:55:45.704Z"
   },
   {
    "duration": -711,
    "start_time": "2021-10-10T03:55:45.712Z"
   },
   {
    "duration": -714,
    "start_time": "2021-10-10T03:55:45.717Z"
   },
   {
    "duration": -719,
    "start_time": "2021-10-10T03:55:45.724Z"
   },
   {
    "duration": -723,
    "start_time": "2021-10-10T03:55:45.730Z"
   },
   {
    "duration": -728,
    "start_time": "2021-10-10T03:55:45.737Z"
   },
   {
    "duration": -733,
    "start_time": "2021-10-10T03:55:45.744Z"
   },
   {
    "duration": -737,
    "start_time": "2021-10-10T03:55:45.750Z"
   },
   {
    "duration": -741,
    "start_time": "2021-10-10T03:55:45.755Z"
   },
   {
    "duration": -745,
    "start_time": "2021-10-10T03:55:45.761Z"
   },
   {
    "duration": -749,
    "start_time": "2021-10-10T03:55:45.766Z"
   },
   {
    "duration": -755,
    "start_time": "2021-10-10T03:55:45.773Z"
   },
   {
    "duration": -759,
    "start_time": "2021-10-10T03:55:45.778Z"
   },
   {
    "duration": -764,
    "start_time": "2021-10-10T03:55:45.784Z"
   },
   {
    "duration": -768,
    "start_time": "2021-10-10T03:55:45.790Z"
   },
   {
    "duration": -773,
    "start_time": "2021-10-10T03:55:45.796Z"
   },
   {
    "duration": -777,
    "start_time": "2021-10-10T03:55:45.801Z"
   },
   {
    "duration": -791,
    "start_time": "2021-10-10T03:55:45.817Z"
   },
   {
    "duration": -795,
    "start_time": "2021-10-10T03:55:45.822Z"
   },
   {
    "duration": -800,
    "start_time": "2021-10-10T03:55:45.828Z"
   },
   {
    "duration": 11996,
    "start_time": "2021-10-10T03:55:59.524Z"
   },
   {
    "duration": 9560,
    "start_time": "2021-10-10T03:58:19.622Z"
   },
   {
    "duration": 8,
    "start_time": "2021-10-10T03:58:36.001Z"
   },
   {
    "duration": 10690,
    "start_time": "2021-10-10T03:58:47.333Z"
   },
   {
    "duration": 6,
    "start_time": "2021-10-10T03:59:12.666Z"
   },
   {
    "duration": 333,
    "start_time": "2021-10-10T04:00:12.238Z"
   },
   {
    "duration": 144,
    "start_time": "2021-10-10T04:00:37.875Z"
   },
   {
    "duration": 9956,
    "start_time": "2021-10-10T04:03:14.450Z"
   },
   {
    "duration": 9,
    "start_time": "2021-10-10T04:04:25.902Z"
   },
   {
    "duration": 8,
    "start_time": "2021-10-10T04:04:27.580Z"
   },
   {
    "duration": 9,
    "start_time": "2021-10-10T04:06:29.929Z"
   },
   {
    "duration": 191,
    "start_time": "2021-10-10T04:06:31.744Z"
   },
   {
    "duration": 139,
    "start_time": "2021-10-10T04:06:50.885Z"
   },
   {
    "duration": 129,
    "start_time": "2021-10-10T04:08:05.754Z"
   },
   {
    "duration": 1449,
    "start_time": "2021-10-10T04:08:22.529Z"
   },
   {
    "duration": 539,
    "start_time": "2021-10-10T04:08:23.982Z"
   },
   {
    "duration": 20,
    "start_time": "2021-10-10T04:08:24.524Z"
   },
   {
    "duration": 13,
    "start_time": "2021-10-10T04:08:24.547Z"
   },
   {
    "duration": 23,
    "start_time": "2021-10-10T04:08:24.562Z"
   },
   {
    "duration": 11,
    "start_time": "2021-10-10T04:08:24.588Z"
   },
   {
    "duration": 32,
    "start_time": "2021-10-10T04:08:24.601Z"
   },
   {
    "duration": 20,
    "start_time": "2021-10-10T04:08:24.636Z"
   },
   {
    "duration": 10,
    "start_time": "2021-10-10T04:08:24.683Z"
   },
   {
    "duration": 19,
    "start_time": "2021-10-10T04:08:24.695Z"
   },
   {
    "duration": 14,
    "start_time": "2021-10-10T04:08:24.716Z"
   },
   {
    "duration": 52,
    "start_time": "2021-10-10T04:08:24.732Z"
   },
   {
    "duration": 12,
    "start_time": "2021-10-10T04:08:24.787Z"
   },
   {
    "duration": 13,
    "start_time": "2021-10-10T04:08:24.802Z"
   },
   {
    "duration": 17,
    "start_time": "2021-10-10T04:08:24.818Z"
   },
   {
    "duration": 98,
    "start_time": "2021-10-10T04:08:24.838Z"
   },
   {
    "duration": 6,
    "start_time": "2021-10-10T04:08:24.938Z"
   },
   {
    "duration": 38,
    "start_time": "2021-10-10T04:08:24.947Z"
   },
   {
    "duration": 163,
    "start_time": "2021-10-10T04:08:24.988Z"
   },
   {
    "duration": 13,
    "start_time": "2021-10-10T04:08:25.153Z"
   },
   {
    "duration": 134,
    "start_time": "2021-10-10T04:08:25.182Z"
   },
   {
    "duration": 673,
    "start_time": "2021-10-10T04:08:25.318Z"
   },
   {
    "duration": 35,
    "start_time": "2021-10-10T04:08:25.998Z"
   },
   {
    "duration": 68,
    "start_time": "2021-10-10T04:08:26.037Z"
   },
   {
    "duration": 37,
    "start_time": "2021-10-10T04:08:26.107Z"
   },
   {
    "duration": 37,
    "start_time": "2021-10-10T04:08:26.146Z"
   },
   {
    "duration": 18,
    "start_time": "2021-10-10T04:08:26.186Z"
   },
   {
    "duration": 118,
    "start_time": "2021-10-10T04:08:26.206Z"
   },
   {
    "duration": 27,
    "start_time": "2021-10-10T04:08:26.326Z"
   },
   {
    "duration": 67,
    "start_time": "2021-10-10T04:08:26.356Z"
   },
   {
    "duration": 31,
    "start_time": "2021-10-10T04:08:26.426Z"
   },
   {
    "duration": 23,
    "start_time": "2021-10-10T04:08:26.460Z"
   },
   {
    "duration": 9,
    "start_time": "2021-10-10T04:08:26.486Z"
   },
   {
    "duration": 13,
    "start_time": "2021-10-10T04:08:26.497Z"
   },
   {
    "duration": 71,
    "start_time": "2021-10-10T04:08:26.512Z"
   },
   {
    "duration": 8,
    "start_time": "2021-10-10T04:08:26.586Z"
   },
   {
    "duration": 5,
    "start_time": "2021-10-10T04:08:26.597Z"
   },
   {
    "duration": 6,
    "start_time": "2021-10-10T04:08:26.605Z"
   },
   {
    "duration": 7,
    "start_time": "2021-10-10T04:08:26.614Z"
   },
   {
    "duration": 93,
    "start_time": "2021-10-10T04:08:26.624Z"
   },
   {
    "duration": -1457,
    "start_time": "2021-10-10T04:08:28.178Z"
   },
   {
    "duration": -1465,
    "start_time": "2021-10-10T04:08:28.188Z"
   },
   {
    "duration": -1474,
    "start_time": "2021-10-10T04:08:28.199Z"
   },
   {
    "duration": -1556,
    "start_time": "2021-10-10T04:08:28.283Z"
   },
   {
    "duration": -1563,
    "start_time": "2021-10-10T04:08:28.292Z"
   },
   {
    "duration": -1572,
    "start_time": "2021-10-10T04:08:28.303Z"
   },
   {
    "duration": -1584,
    "start_time": "2021-10-10T04:08:28.317Z"
   },
   {
    "duration": -1596,
    "start_time": "2021-10-10T04:08:28.331Z"
   },
   {
    "duration": -1609,
    "start_time": "2021-10-10T04:08:28.346Z"
   },
   {
    "duration": -1617,
    "start_time": "2021-10-10T04:08:28.356Z"
   },
   {
    "duration": -1660,
    "start_time": "2021-10-10T04:08:28.401Z"
   },
   {
    "duration": -1666,
    "start_time": "2021-10-10T04:08:28.410Z"
   },
   {
    "duration": -1671,
    "start_time": "2021-10-10T04:08:28.417Z"
   },
   {
    "duration": -1685,
    "start_time": "2021-10-10T04:08:28.433Z"
   },
   {
    "duration": -1693,
    "start_time": "2021-10-10T04:08:28.444Z"
   },
   {
    "duration": -1699,
    "start_time": "2021-10-10T04:08:28.452Z"
   },
   {
    "duration": -1706,
    "start_time": "2021-10-10T04:08:28.461Z"
   },
   {
    "duration": -1712,
    "start_time": "2021-10-10T04:08:28.469Z"
   },
   {
    "duration": -1694,
    "start_time": "2021-10-10T04:08:28.476Z"
   },
   {
    "duration": -1700,
    "start_time": "2021-10-10T04:08:28.484Z"
   },
   {
    "duration": -1706,
    "start_time": "2021-10-10T04:08:28.493Z"
   },
   {
    "duration": -1713,
    "start_time": "2021-10-10T04:08:28.502Z"
   },
   {
    "duration": -1717,
    "start_time": "2021-10-10T04:08:28.508Z"
   },
   {
    "duration": -1723,
    "start_time": "2021-10-10T04:08:28.516Z"
   },
   {
    "duration": -1729,
    "start_time": "2021-10-10T04:08:28.525Z"
   },
   {
    "duration": -1735,
    "start_time": "2021-10-10T04:08:28.533Z"
   },
   {
    "duration": -1738,
    "start_time": "2021-10-10T04:08:28.538Z"
   },
   {
    "duration": -1743,
    "start_time": "2021-10-10T04:08:28.545Z"
   },
   {
    "duration": -1749,
    "start_time": "2021-10-10T04:08:28.553Z"
   },
   {
    "duration": -1756,
    "start_time": "2021-10-10T04:08:28.562Z"
   },
   {
    "duration": -1761,
    "start_time": "2021-10-10T04:08:28.569Z"
   },
   {
    "duration": 8,
    "start_time": "2021-10-10T04:08:41.864Z"
   },
   {
    "duration": 198,
    "start_time": "2021-10-10T04:08:44.047Z"
   },
   {
    "duration": 8,
    "start_time": "2021-10-10T04:10:32.255Z"
   },
   {
    "duration": 72,
    "start_time": "2021-10-10T04:10:34.218Z"
   },
   {
    "duration": 68,
    "start_time": "2021-10-10T04:11:02.859Z"
   },
   {
    "duration": 1765,
    "start_time": "2021-10-10T04:11:15.869Z"
   },
   {
    "duration": 477,
    "start_time": "2021-10-10T04:11:21.217Z"
   },
   {
    "duration": 267,
    "start_time": "2021-10-10T04:11:24.175Z"
   },
   {
    "duration": 10,
    "start_time": "2021-10-10T04:11:39.520Z"
   },
   {
    "duration": 394,
    "start_time": "2021-10-10T04:11:42.884Z"
   },
   {
    "duration": 260,
    "start_time": "2021-10-10T04:11:45.897Z"
   },
   {
    "duration": 11,
    "start_time": "2021-10-10T04:11:49.181Z"
   },
   {
    "duration": 394,
    "start_time": "2021-10-10T04:11:51.392Z"
   },
   {
    "duration": 277,
    "start_time": "2021-10-10T04:11:54.608Z"
   },
   {
    "duration": 11,
    "start_time": "2021-10-10T04:11:59.342Z"
   },
   {
    "duration": 402,
    "start_time": "2021-10-10T04:12:01.269Z"
   },
   {
    "duration": 279,
    "start_time": "2021-10-10T04:12:04.254Z"
   },
   {
    "duration": 11,
    "start_time": "2021-10-10T04:12:07.547Z"
   },
   {
    "duration": 41,
    "start_time": "2021-10-10T04:12:16.926Z"
   },
   {
    "duration": 14,
    "start_time": "2021-10-10T04:12:21.014Z"
   },
   {
    "duration": 14,
    "start_time": "2021-10-10T04:12:30.962Z"
   },
   {
    "duration": 14,
    "start_time": "2021-10-10T04:12:33.239Z"
   },
   {
    "duration": 409,
    "start_time": "2021-10-10T04:12:44.078Z"
   },
   {
    "duration": 42,
    "start_time": "2021-10-10T04:12:54.226Z"
   },
   {
    "duration": 42,
    "start_time": "2021-10-10T04:13:28.569Z"
   },
   {
    "duration": 7,
    "start_time": "2021-10-10T04:13:54.729Z"
   },
   {
    "duration": 1435,
    "start_time": "2021-10-10T04:16:15.612Z"
   },
   {
    "duration": 541,
    "start_time": "2021-10-10T04:16:17.050Z"
   },
   {
    "duration": 19,
    "start_time": "2021-10-10T04:16:17.594Z"
   },
   {
    "duration": 17,
    "start_time": "2021-10-10T04:16:17.616Z"
   },
   {
    "duration": 27,
    "start_time": "2021-10-10T04:16:17.635Z"
   },
   {
    "duration": 24,
    "start_time": "2021-10-10T04:16:17.665Z"
   },
   {
    "duration": 42,
    "start_time": "2021-10-10T04:16:17.691Z"
   },
   {
    "duration": 47,
    "start_time": "2021-10-10T04:16:17.735Z"
   },
   {
    "duration": 11,
    "start_time": "2021-10-10T04:16:17.786Z"
   },
   {
    "duration": 33,
    "start_time": "2021-10-10T04:16:17.801Z"
   },
   {
    "duration": 23,
    "start_time": "2021-10-10T04:16:17.837Z"
   },
   {
    "duration": 24,
    "start_time": "2021-10-10T04:16:17.863Z"
   },
   {
    "duration": 18,
    "start_time": "2021-10-10T04:16:17.890Z"
   },
   {
    "duration": 23,
    "start_time": "2021-10-10T04:16:17.910Z"
   },
   {
    "duration": 33,
    "start_time": "2021-10-10T04:16:17.936Z"
   },
   {
    "duration": 79,
    "start_time": "2021-10-10T04:16:17.983Z"
   },
   {
    "duration": 18,
    "start_time": "2021-10-10T04:16:18.064Z"
   },
   {
    "duration": 17,
    "start_time": "2021-10-10T04:16:18.085Z"
   },
   {
    "duration": 165,
    "start_time": "2021-10-10T04:16:18.104Z"
   },
   {
    "duration": 21,
    "start_time": "2021-10-10T04:16:18.271Z"
   },
   {
    "duration": 180,
    "start_time": "2021-10-10T04:16:18.295Z"
   },
   {
    "duration": 706,
    "start_time": "2021-10-10T04:16:18.478Z"
   },
   {
    "duration": 35,
    "start_time": "2021-10-10T04:16:19.186Z"
   },
   {
    "duration": 73,
    "start_time": "2021-10-10T04:16:19.224Z"
   },
   {
    "duration": 37,
    "start_time": "2021-10-10T04:16:19.299Z"
   },
   {
    "duration": 21,
    "start_time": "2021-10-10T04:16:19.339Z"
   },
   {
    "duration": 22,
    "start_time": "2021-10-10T04:16:19.387Z"
   },
   {
    "duration": 113,
    "start_time": "2021-10-10T04:16:19.413Z"
   },
   {
    "duration": 27,
    "start_time": "2021-10-10T04:16:19.529Z"
   },
   {
    "duration": 67,
    "start_time": "2021-10-10T04:16:19.559Z"
   },
   {
    "duration": 32,
    "start_time": "2021-10-10T04:16:19.629Z"
   },
   {
    "duration": 4,
    "start_time": "2021-10-10T04:16:19.683Z"
   },
   {
    "duration": 19,
    "start_time": "2021-10-10T04:16:19.689Z"
   },
   {
    "duration": 13,
    "start_time": "2021-10-10T04:16:19.710Z"
   },
   {
    "duration": 65,
    "start_time": "2021-10-10T04:16:19.726Z"
   },
   {
    "duration": 11,
    "start_time": "2021-10-10T04:16:19.795Z"
   },
   {
    "duration": 7,
    "start_time": "2021-10-10T04:16:19.809Z"
   },
   {
    "duration": 439,
    "start_time": "2021-10-10T04:16:19.819Z"
   },
   {
    "duration": -337,
    "start_time": "2021-10-10T04:16:20.598Z"
   },
   {
    "duration": -341,
    "start_time": "2021-10-10T04:16:20.605Z"
   },
   {
    "duration": -342,
    "start_time": "2021-10-10T04:16:20.610Z"
   },
   {
    "duration": -345,
    "start_time": "2021-10-10T04:16:20.615Z"
   },
   {
    "duration": -350,
    "start_time": "2021-10-10T04:16:20.622Z"
   },
   {
    "duration": -456,
    "start_time": "2021-10-10T04:16:20.730Z"
   },
   {
    "duration": -462,
    "start_time": "2021-10-10T04:16:20.738Z"
   },
   {
    "duration": -465,
    "start_time": "2021-10-10T04:16:20.743Z"
   },
   {
    "duration": -469,
    "start_time": "2021-10-10T04:16:20.749Z"
   },
   {
    "duration": -471,
    "start_time": "2021-10-10T04:16:20.754Z"
   },
   {
    "duration": -475,
    "start_time": "2021-10-10T04:16:20.760Z"
   },
   {
    "duration": -478,
    "start_time": "2021-10-10T04:16:20.765Z"
   },
   {
    "duration": -481,
    "start_time": "2021-10-10T04:16:20.772Z"
   },
   {
    "duration": -483,
    "start_time": "2021-10-10T04:16:20.776Z"
   },
   {
    "duration": -487,
    "start_time": "2021-10-10T04:16:20.782Z"
   },
   {
    "duration": -493,
    "start_time": "2021-10-10T04:16:20.790Z"
   },
   {
    "duration": -505,
    "start_time": "2021-10-10T04:16:20.804Z"
   },
   {
    "duration": -508,
    "start_time": "2021-10-10T04:16:20.810Z"
   },
   {
    "duration": -513,
    "start_time": "2021-10-10T04:16:20.817Z"
   },
   {
    "duration": -516,
    "start_time": "2021-10-10T04:16:20.822Z"
   },
   {
    "duration": -519,
    "start_time": "2021-10-10T04:16:20.828Z"
   },
   {
    "duration": -588,
    "start_time": "2021-10-10T04:16:20.899Z"
   },
   {
    "duration": -599,
    "start_time": "2021-10-10T04:16:20.912Z"
   },
   {
    "duration": -603,
    "start_time": "2021-10-10T04:16:20.918Z"
   },
   {
    "duration": -607,
    "start_time": "2021-10-10T04:16:20.924Z"
   },
   {
    "duration": -609,
    "start_time": "2021-10-10T04:16:20.929Z"
   },
   {
    "duration": -613,
    "start_time": "2021-10-10T04:16:20.935Z"
   },
   {
    "duration": -616,
    "start_time": "2021-10-10T04:16:20.940Z"
   },
   {
    "duration": -620,
    "start_time": "2021-10-10T04:16:20.945Z"
   },
   {
    "duration": -569,
    "start_time": "2021-10-10T04:16:20.951Z"
   },
   {
    "duration": -574,
    "start_time": "2021-10-10T04:16:20.958Z"
   },
   {
    "duration": 335,
    "start_time": "2021-10-10T04:17:45.094Z"
   },
   {
    "duration": 28,
    "start_time": "2021-10-10T04:18:07.619Z"
   },
   {
    "duration": 7,
    "start_time": "2021-10-10T04:18:43.346Z"
   },
   {
    "duration": 68,
    "start_time": "2021-10-10T04:18:44.985Z"
   },
   {
    "duration": 69,
    "start_time": "2021-10-10T04:23:47.030Z"
   },
   {
    "duration": 70,
    "start_time": "2021-10-10T04:24:06.939Z"
   },
   {
    "duration": 25,
    "start_time": "2021-10-10T04:25:42.771Z"
   },
   {
    "duration": 10,
    "start_time": "2021-10-10T04:26:21.199Z"
   },
   {
    "duration": 198,
    "start_time": "2021-10-10T04:26:22.857Z"
   },
   {
    "duration": 26,
    "start_time": "2021-10-10T04:26:28.468Z"
   },
   {
    "duration": 82,
    "start_time": "2021-10-10T04:26:37.202Z"
   },
   {
    "duration": 1473,
    "start_time": "2021-10-10T04:26:52.500Z"
   },
   {
    "duration": 600,
    "start_time": "2021-10-10T04:26:53.976Z"
   },
   {
    "duration": 20,
    "start_time": "2021-10-10T04:26:54.578Z"
   },
   {
    "duration": 12,
    "start_time": "2021-10-10T04:26:54.601Z"
   },
   {
    "duration": 23,
    "start_time": "2021-10-10T04:26:54.616Z"
   },
   {
    "duration": 47,
    "start_time": "2021-10-10T04:26:54.642Z"
   },
   {
    "duration": 40,
    "start_time": "2021-10-10T04:26:54.692Z"
   },
   {
    "duration": 22,
    "start_time": "2021-10-10T04:26:54.735Z"
   },
   {
    "duration": 10,
    "start_time": "2021-10-10T04:26:54.785Z"
   },
   {
    "duration": 24,
    "start_time": "2021-10-10T04:26:54.797Z"
   },
   {
    "duration": 17,
    "start_time": "2021-10-10T04:26:54.823Z"
   },
   {
    "duration": 50,
    "start_time": "2021-10-10T04:26:54.842Z"
   },
   {
    "duration": 11,
    "start_time": "2021-10-10T04:26:54.895Z"
   },
   {
    "duration": 14,
    "start_time": "2021-10-10T04:26:54.909Z"
   },
   {
    "duration": 31,
    "start_time": "2021-10-10T04:26:54.926Z"
   },
   {
    "duration": 96,
    "start_time": "2021-10-10T04:26:54.960Z"
   },
   {
    "duration": 24,
    "start_time": "2021-10-10T04:26:55.058Z"
   },
   {
    "duration": 20,
    "start_time": "2021-10-10T04:26:55.085Z"
   },
   {
    "duration": 183,
    "start_time": "2021-10-10T04:26:55.108Z"
   },
   {
    "duration": 17,
    "start_time": "2021-10-10T04:26:55.294Z"
   },
   {
    "duration": 187,
    "start_time": "2021-10-10T04:26:55.313Z"
   },
   {
    "duration": 700,
    "start_time": "2021-10-10T04:26:55.502Z"
   },
   {
    "duration": 35,
    "start_time": "2021-10-10T04:26:56.208Z"
   },
   {
    "duration": 63,
    "start_time": "2021-10-10T04:26:56.247Z"
   },
   {
    "duration": 38,
    "start_time": "2021-10-10T04:26:56.313Z"
   },
   {
    "duration": 44,
    "start_time": "2021-10-10T04:26:56.353Z"
   },
   {
    "duration": 27,
    "start_time": "2021-10-10T04:26:56.400Z"
   },
   {
    "duration": 109,
    "start_time": "2021-10-10T04:26:56.430Z"
   },
   {
    "duration": 25,
    "start_time": "2021-10-10T04:26:56.541Z"
   },
   {
    "duration": 44,
    "start_time": "2021-10-10T04:26:56.582Z"
   },
   {
    "duration": 31,
    "start_time": "2021-10-10T04:26:56.629Z"
   },
   {
    "duration": 20,
    "start_time": "2021-10-10T04:26:56.662Z"
   },
   {
    "duration": 2,
    "start_time": "2021-10-10T04:26:56.685Z"
   },
   {
    "duration": 13,
    "start_time": "2021-10-10T04:26:56.690Z"
   },
   {
    "duration": 45,
    "start_time": "2021-10-10T04:26:56.705Z"
   },
   {
    "duration": 36,
    "start_time": "2021-10-10T04:26:56.753Z"
   },
   {
    "duration": 6,
    "start_time": "2021-10-10T04:26:56.792Z"
   },
   {
    "duration": 11,
    "start_time": "2021-10-10T04:26:56.800Z"
   },
   {
    "duration": 9,
    "start_time": "2021-10-10T04:26:56.813Z"
   },
   {
    "duration": 219,
    "start_time": "2021-10-10T04:26:56.824Z"
   },
   {
    "duration": 3,
    "start_time": "2021-10-10T04:26:57.045Z"
   },
   {
    "duration": 9,
    "start_time": "2021-10-10T04:26:57.051Z"
   },
   {
    "duration": 42,
    "start_time": "2021-10-10T04:26:57.062Z"
   },
   {
    "duration": 481,
    "start_time": "2021-10-10T04:26:57.106Z"
   },
   {
    "duration": -1592,
    "start_time": "2021-10-10T04:26:59.182Z"
   },
   {
    "duration": -1683,
    "start_time": "2021-10-10T04:26:59.274Z"
   },
   {
    "duration": -1741,
    "start_time": "2021-10-10T04:26:59.334Z"
   },
   {
    "duration": -1756,
    "start_time": "2021-10-10T04:26:59.350Z"
   },
   {
    "duration": -1789,
    "start_time": "2021-10-10T04:26:59.385Z"
   },
   {
    "duration": -1801,
    "start_time": "2021-10-10T04:26:59.398Z"
   },
   {
    "duration": -1835,
    "start_time": "2021-10-10T04:26:59.433Z"
   },
   {
    "duration": -1847,
    "start_time": "2021-10-10T04:26:59.447Z"
   },
   {
    "duration": -1856,
    "start_time": "2021-10-10T04:26:59.457Z"
   },
   {
    "duration": -1862,
    "start_time": "2021-10-10T04:26:59.465Z"
   },
   {
    "duration": -1867,
    "start_time": "2021-10-10T04:26:59.471Z"
   },
   {
    "duration": -1877,
    "start_time": "2021-10-10T04:26:59.482Z"
   },
   {
    "duration": -1910,
    "start_time": "2021-10-10T04:26:59.517Z"
   },
   {
    "duration": -1918,
    "start_time": "2021-10-10T04:26:59.526Z"
   },
   {
    "duration": -1943,
    "start_time": "2021-10-10T04:26:59.553Z"
   },
   {
    "duration": -1973,
    "start_time": "2021-10-10T04:26:59.584Z"
   },
   {
    "duration": -1984,
    "start_time": "2021-10-10T04:26:59.596Z"
   },
   {
    "duration": -2015,
    "start_time": "2021-10-10T04:26:59.629Z"
   },
   {
    "duration": -2022,
    "start_time": "2021-10-10T04:26:59.637Z"
   },
   {
    "duration": -2056,
    "start_time": "2021-10-10T04:26:59.673Z"
   },
   {
    "duration": -2063,
    "start_time": "2021-10-10T04:26:59.681Z"
   },
   {
    "duration": -2071,
    "start_time": "2021-10-10T04:26:59.690Z"
   },
   {
    "duration": -2076,
    "start_time": "2021-10-10T04:26:59.696Z"
   },
   {
    "duration": -2079,
    "start_time": "2021-10-10T04:26:59.701Z"
   },
   {
    "duration": -2090,
    "start_time": "2021-10-10T04:26:59.713Z"
   },
   {
    "duration": 73,
    "start_time": "2021-10-10T04:27:27.701Z"
   },
   {
    "duration": 75,
    "start_time": "2021-10-10T04:27:41.628Z"
   },
   {
    "duration": 1764,
    "start_time": "2021-10-10T04:28:40.734Z"
   },
   {
    "duration": 513,
    "start_time": "2021-10-10T04:28:46.024Z"
   },
   {
    "duration": 280,
    "start_time": "2021-10-10T04:28:49.160Z"
   },
   {
    "duration": 10,
    "start_time": "2021-10-10T04:28:52.107Z"
   },
   {
    "duration": 407,
    "start_time": "2021-10-10T04:28:57.063Z"
   },
   {
    "duration": 264,
    "start_time": "2021-10-10T04:28:59.395Z"
   },
   {
    "duration": 12,
    "start_time": "2021-10-10T04:29:01.622Z"
   },
   {
    "duration": 436,
    "start_time": "2021-10-10T04:29:03.889Z"
   },
   {
    "duration": 282,
    "start_time": "2021-10-10T04:29:06.567Z"
   },
   {
    "duration": 12,
    "start_time": "2021-10-10T04:29:09.553Z"
   },
   {
    "duration": 391,
    "start_time": "2021-10-10T04:29:11.460Z"
   },
   {
    "duration": 284,
    "start_time": "2021-10-10T04:29:14.437Z"
   },
   {
    "duration": 11,
    "start_time": "2021-10-10T04:29:16.670Z"
   },
   {
    "duration": 44,
    "start_time": "2021-10-10T04:29:20.473Z"
   },
   {
    "duration": 28,
    "start_time": "2021-10-10T04:32:24.614Z"
   },
   {
    "duration": 6,
    "start_time": "2021-10-10T04:32:41.058Z"
   },
   {
    "duration": 5,
    "start_time": "2021-10-10T04:32:51.153Z"
   },
   {
    "duration": 5,
    "start_time": "2021-10-10T04:33:01.586Z"
   },
   {
    "duration": 314,
    "start_time": "2021-10-10T04:34:21.450Z"
   },
   {
    "duration": 28,
    "start_time": "2021-10-10T04:34:30.266Z"
   },
   {
    "duration": 19,
    "start_time": "2021-10-10T04:34:53.486Z"
   },
   {
    "duration": 19,
    "start_time": "2021-10-10T04:35:05.422Z"
   },
   {
    "duration": 18,
    "start_time": "2021-10-10T04:35:07.998Z"
   },
   {
    "duration": 299,
    "start_time": "2021-10-10T04:35:13.737Z"
   },
   {
    "duration": 7,
    "start_time": "2021-10-10T04:35:22.805Z"
   },
   {
    "duration": 1437,
    "start_time": "2021-10-10T04:35:50.126Z"
   },
   {
    "duration": 555,
    "start_time": "2021-10-10T04:35:51.566Z"
   },
   {
    "duration": 22,
    "start_time": "2021-10-10T04:35:52.123Z"
   },
   {
    "duration": 9,
    "start_time": "2021-10-10T04:35:52.147Z"
   },
   {
    "duration": 29,
    "start_time": "2021-10-10T04:35:52.159Z"
   },
   {
    "duration": 11,
    "start_time": "2021-10-10T04:35:52.191Z"
   },
   {
    "duration": 35,
    "start_time": "2021-10-10T04:35:52.205Z"
   },
   {
    "duration": 45,
    "start_time": "2021-10-10T04:35:52.244Z"
   },
   {
    "duration": 10,
    "start_time": "2021-10-10T04:35:52.293Z"
   },
   {
    "duration": 18,
    "start_time": "2021-10-10T04:35:52.306Z"
   },
   {
    "duration": 14,
    "start_time": "2021-10-10T04:35:52.327Z"
   },
   {
    "duration": 13,
    "start_time": "2021-10-10T04:35:52.382Z"
   },
   {
    "duration": 12,
    "start_time": "2021-10-10T04:35:52.398Z"
   },
   {
    "duration": 16,
    "start_time": "2021-10-10T04:35:52.413Z"
   },
   {
    "duration": 22,
    "start_time": "2021-10-10T04:35:52.431Z"
   },
   {
    "duration": 67,
    "start_time": "2021-10-10T04:35:52.483Z"
   },
   {
    "duration": 7,
    "start_time": "2021-10-10T04:35:52.553Z"
   },
   {
    "duration": 19,
    "start_time": "2021-10-10T04:35:52.583Z"
   },
   {
    "duration": 177,
    "start_time": "2021-10-10T04:35:52.605Z"
   },
   {
    "duration": 14,
    "start_time": "2021-10-10T04:35:52.785Z"
   },
   {
    "duration": 164,
    "start_time": "2021-10-10T04:35:52.802Z"
   },
   {
    "duration": 701,
    "start_time": "2021-10-10T04:35:52.968Z"
   },
   {
    "duration": 35,
    "start_time": "2021-10-10T04:35:53.683Z"
   },
   {
    "duration": 64,
    "start_time": "2021-10-10T04:35:53.722Z"
   },
   {
    "duration": 38,
    "start_time": "2021-10-10T04:35:53.788Z"
   },
   {
    "duration": 21,
    "start_time": "2021-10-10T04:35:53.828Z"
   },
   {
    "duration": 43,
    "start_time": "2021-10-10T04:35:53.851Z"
   },
   {
    "duration": 109,
    "start_time": "2021-10-10T04:35:53.896Z"
   },
   {
    "duration": 25,
    "start_time": "2021-10-10T04:35:54.007Z"
   },
   {
    "duration": 66,
    "start_time": "2021-10-10T04:35:54.034Z"
   },
   {
    "duration": 31,
    "start_time": "2021-10-10T04:35:54.102Z"
   },
   {
    "duration": 2,
    "start_time": "2021-10-10T04:35:54.136Z"
   },
   {
    "duration": 8,
    "start_time": "2021-10-10T04:35:54.140Z"
   },
   {
    "duration": 37,
    "start_time": "2021-10-10T04:35:54.150Z"
   },
   {
    "duration": 45,
    "start_time": "2021-10-10T04:35:54.189Z"
   },
   {
    "duration": 8,
    "start_time": "2021-10-10T04:35:54.236Z"
   },
   {
    "duration": 7,
    "start_time": "2021-10-10T04:35:54.247Z"
   },
   {
    "duration": 29,
    "start_time": "2021-10-10T04:35:54.256Z"
   },
   {
    "duration": 16,
    "start_time": "2021-10-10T04:35:54.288Z"
   },
   {
    "duration": 204,
    "start_time": "2021-10-10T04:35:54.306Z"
   },
   {
    "duration": 3,
    "start_time": "2021-10-10T04:35:54.512Z"
   },
   {
    "duration": 14,
    "start_time": "2021-10-10T04:35:54.518Z"
   },
   {
    "duration": 87,
    "start_time": "2021-10-10T04:35:54.534Z"
   },
   {
    "duration": 84,
    "start_time": "2021-10-10T04:35:54.624Z"
   },
   {
    "duration": 1810,
    "start_time": "2021-10-10T04:35:54.710Z"
   },
   {
    "duration": 488,
    "start_time": "2021-10-10T04:35:56.523Z"
   },
   {
    "duration": 295,
    "start_time": "2021-10-10T04:35:57.014Z"
   },
   {
    "duration": 10,
    "start_time": "2021-10-10T04:35:57.311Z"
   },
   {
    "duration": 420,
    "start_time": "2021-10-10T04:35:57.323Z"
   },
   {
    "duration": 292,
    "start_time": "2021-10-10T04:35:57.746Z"
   },
   {
    "duration": 13,
    "start_time": "2021-10-10T04:35:58.041Z"
   },
   {
    "duration": 432,
    "start_time": "2021-10-10T04:35:58.056Z"
   },
   {
    "duration": 297,
    "start_time": "2021-10-10T04:35:58.490Z"
   },
   {
    "duration": 10,
    "start_time": "2021-10-10T04:35:58.789Z"
   },
   {
    "duration": 432,
    "start_time": "2021-10-10T04:35:58.801Z"
   },
   {
    "duration": 297,
    "start_time": "2021-10-10T04:35:59.235Z"
   },
   {
    "duration": 11,
    "start_time": "2021-10-10T04:35:59.535Z"
   },
   {
    "duration": 418,
    "start_time": "2021-10-10T04:35:59.548Z"
   },
   {
    "duration": -2969,
    "start_time": "2021-10-10T04:36:02.937Z"
   },
   {
    "duration": -2976,
    "start_time": "2021-10-10T04:36:02.946Z"
   },
   {
    "duration": -2983,
    "start_time": "2021-10-10T04:36:02.954Z"
   },
   {
    "duration": -2992,
    "start_time": "2021-10-10T04:36:02.964Z"
   },
   {
    "duration": -2996,
    "start_time": "2021-10-10T04:36:02.970Z"
   },
   {
    "duration": -3004,
    "start_time": "2021-10-10T04:36:02.979Z"
   },
   {
    "duration": -3009,
    "start_time": "2021-10-10T04:36:02.986Z"
   },
   {
    "duration": -3229,
    "start_time": "2021-10-10T04:36:03.207Z"
   },
   {
    "duration": -3237,
    "start_time": "2021-10-10T04:36:03.216Z"
   },
   {
    "duration": -3241,
    "start_time": "2021-10-10T04:36:03.222Z"
   },
   {
    "duration": -3245,
    "start_time": "2021-10-10T04:36:03.227Z"
   },
   {
    "duration": -3268,
    "start_time": "2021-10-10T04:36:03.252Z"
   },
   {
    "duration": -3300,
    "start_time": "2021-10-10T04:36:03.285Z"
   },
   {
    "duration": 29,
    "start_time": "2021-10-10T04:36:12.439Z"
   },
   {
    "duration": 20,
    "start_time": "2021-10-10T04:36:16.535Z"
   },
   {
    "duration": 9,
    "start_time": "2021-10-10T04:36:41.466Z"
   },
   {
    "duration": 349,
    "start_time": "2021-10-10T04:37:17.054Z"
   },
   {
    "duration": 12,
    "start_time": "2021-10-10T04:43:01.069Z"
   },
   {
    "duration": 341,
    "start_time": "2021-10-10T04:43:42.562Z"
   },
   {
    "duration": 325,
    "start_time": "2021-10-10T04:43:44.381Z"
   },
   {
    "duration": 19,
    "start_time": "2021-10-10T04:43:49.411Z"
   },
   {
    "duration": 2068,
    "start_time": "2021-10-10T04:45:02.060Z"
   },
   {
    "duration": 39,
    "start_time": "2021-10-10T04:51:14.165Z"
   },
   {
    "duration": 41,
    "start_time": "2021-10-10T04:52:05.677Z"
   },
   {
    "duration": 1808,
    "start_time": "2021-10-10T04:52:25.041Z"
   },
   {
    "duration": 40,
    "start_time": "2021-10-10T04:57:41.296Z"
   },
   {
    "duration": 1467,
    "start_time": "2021-10-10T04:58:55.576Z"
   },
   {
    "duration": 558,
    "start_time": "2021-10-10T04:58:57.046Z"
   },
   {
    "duration": 19,
    "start_time": "2021-10-10T04:58:57.607Z"
   },
   {
    "duration": 18,
    "start_time": "2021-10-10T04:58:57.629Z"
   },
   {
    "duration": 28,
    "start_time": "2021-10-10T04:58:57.650Z"
   },
   {
    "duration": 12,
    "start_time": "2021-10-10T04:58:57.680Z"
   },
   {
    "duration": 41,
    "start_time": "2021-10-10T04:58:57.695Z"
   },
   {
    "duration": 44,
    "start_time": "2021-10-10T04:58:57.739Z"
   },
   {
    "duration": 10,
    "start_time": "2021-10-10T04:58:57.786Z"
   },
   {
    "duration": 25,
    "start_time": "2021-10-10T04:58:57.799Z"
   },
   {
    "duration": 17,
    "start_time": "2021-10-10T04:58:57.826Z"
   },
   {
    "duration": 48,
    "start_time": "2021-10-10T04:58:57.846Z"
   },
   {
    "duration": 10,
    "start_time": "2021-10-10T04:58:57.897Z"
   },
   {
    "duration": 16,
    "start_time": "2021-10-10T04:58:57.909Z"
   },
   {
    "duration": 23,
    "start_time": "2021-10-10T04:58:57.927Z"
   },
   {
    "duration": 69,
    "start_time": "2021-10-10T04:58:57.982Z"
   },
   {
    "duration": 30,
    "start_time": "2021-10-10T04:58:58.053Z"
   },
   {
    "duration": 16,
    "start_time": "2021-10-10T04:58:58.085Z"
   },
   {
    "duration": 161,
    "start_time": "2021-10-10T04:58:58.104Z"
   },
   {
    "duration": 18,
    "start_time": "2021-10-10T04:58:58.268Z"
   },
   {
    "duration": 146,
    "start_time": "2021-10-10T04:58:58.288Z"
   },
   {
    "duration": 703,
    "start_time": "2021-10-10T04:58:58.437Z"
   },
   {
    "duration": 49,
    "start_time": "2021-10-10T04:58:59.147Z"
   },
   {
    "duration": 47,
    "start_time": "2021-10-10T04:58:59.201Z"
   },
   {
    "duration": 57,
    "start_time": "2021-10-10T04:58:59.251Z"
   },
   {
    "duration": 20,
    "start_time": "2021-10-10T04:58:59.311Z"
   },
   {
    "duration": 18,
    "start_time": "2021-10-10T04:58:59.333Z"
   },
   {
    "duration": 113,
    "start_time": "2021-10-10T04:58:59.354Z"
   },
   {
    "duration": 25,
    "start_time": "2021-10-10T04:58:59.482Z"
   },
   {
    "duration": 43,
    "start_time": "2021-10-10T04:58:59.509Z"
   },
   {
    "duration": 55,
    "start_time": "2021-10-10T04:58:59.555Z"
   },
   {
    "duration": 3,
    "start_time": "2021-10-10T04:58:59.612Z"
   },
   {
    "duration": 9,
    "start_time": "2021-10-10T04:58:59.618Z"
   },
   {
    "duration": 17,
    "start_time": "2021-10-10T04:58:59.629Z"
   },
   {
    "duration": 62,
    "start_time": "2021-10-10T04:58:59.648Z"
   },
   {
    "duration": 7,
    "start_time": "2021-10-10T04:58:59.713Z"
   },
   {
    "duration": 5,
    "start_time": "2021-10-10T04:58:59.723Z"
   },
   {
    "duration": 11,
    "start_time": "2021-10-10T04:58:59.730Z"
   },
   {
    "duration": 8,
    "start_time": "2021-10-10T04:58:59.743Z"
   },
   {
    "duration": 230,
    "start_time": "2021-10-10T04:58:59.754Z"
   },
   {
    "duration": 3,
    "start_time": "2021-10-10T04:58:59.986Z"
   },
   {
    "duration": 7,
    "start_time": "2021-10-10T04:58:59.992Z"
   },
   {
    "duration": 96,
    "start_time": "2021-10-10T04:59:00.003Z"
   },
   {
    "duration": 94,
    "start_time": "2021-10-10T04:59:00.101Z"
   },
   {
    "duration": 1805,
    "start_time": "2021-10-10T04:59:00.197Z"
   },
   {
    "duration": 484,
    "start_time": "2021-10-10T04:59:02.005Z"
   },
   {
    "duration": 348,
    "start_time": "2021-10-10T04:59:02.491Z"
   },
   {
    "duration": 13,
    "start_time": "2021-10-10T04:59:02.842Z"
   },
   {
    "duration": 417,
    "start_time": "2021-10-10T04:59:02.858Z"
   },
   {
    "duration": 299,
    "start_time": "2021-10-10T04:59:03.277Z"
   },
   {
    "duration": 10,
    "start_time": "2021-10-10T04:59:03.582Z"
   },
   {
    "duration": 415,
    "start_time": "2021-10-10T04:59:03.595Z"
   },
   {
    "duration": 301,
    "start_time": "2021-10-10T04:59:04.013Z"
   },
   {
    "duration": 11,
    "start_time": "2021-10-10T04:59:04.316Z"
   },
   {
    "duration": 421,
    "start_time": "2021-10-10T04:59:04.330Z"
   },
   {
    "duration": 300,
    "start_time": "2021-10-10T04:59:04.753Z"
   },
   {
    "duration": 27,
    "start_time": "2021-10-10T04:59:05.055Z"
   },
   {
    "duration": 13,
    "start_time": "2021-10-10T04:59:05.085Z"
   },
   {
    "duration": 24,
    "start_time": "2021-10-10T04:59:05.100Z"
   },
   {
    "duration": 1927,
    "start_time": "2021-10-10T04:59:05.126Z"
   },
   {
    "duration": 50,
    "start_time": "2021-10-10T04:59:07.056Z"
   },
   {
    "duration": 39,
    "start_time": "2021-10-10T04:59:07.108Z"
   },
   {
    "duration": 452,
    "start_time": "2021-10-10T04:59:07.150Z"
   },
   {
    "duration": -297,
    "start_time": "2021-10-10T04:59:07.901Z"
   },
   {
    "duration": -301,
    "start_time": "2021-10-10T04:59:07.907Z"
   },
   {
    "duration": -306,
    "start_time": "2021-10-10T04:59:07.913Z"
   },
   {
    "duration": -311,
    "start_time": "2021-10-10T04:59:07.920Z"
   },
   {
    "duration": -315,
    "start_time": "2021-10-10T04:59:07.926Z"
   },
   {
    "duration": -320,
    "start_time": "2021-10-10T04:59:07.932Z"
   },
   {
    "duration": -325,
    "start_time": "2021-10-10T04:59:07.938Z"
   },
   {
    "duration": -328,
    "start_time": "2021-10-10T04:59:07.943Z"
   },
   {
    "duration": -333,
    "start_time": "2021-10-10T04:59:07.949Z"
   },
   {
    "duration": -337,
    "start_time": "2021-10-10T04:59:07.954Z"
   },
   {
    "duration": -342,
    "start_time": "2021-10-10T04:59:07.961Z"
   },
   {
    "duration": -346,
    "start_time": "2021-10-10T04:59:07.967Z"
   },
   {
    "duration": 1882,
    "start_time": "2021-10-10T04:59:21.500Z"
   },
   {
    "duration": 42,
    "start_time": "2021-10-10T04:59:37.703Z"
   },
   {
    "duration": 41,
    "start_time": "2021-10-10T04:59:41.862Z"
   },
   {
    "duration": 402,
    "start_time": "2021-10-10T05:01:41.658Z"
   },
   {
    "duration": 399,
    "start_time": "2021-10-10T05:01:53.936Z"
   },
   {
    "duration": 398,
    "start_time": "2021-10-10T05:05:25.291Z"
   },
   {
    "duration": 389,
    "start_time": "2021-10-10T05:07:06.549Z"
   },
   {
    "duration": 19,
    "start_time": "2021-10-10T05:08:19.357Z"
   },
   {
    "duration": 324,
    "start_time": "2021-10-10T05:09:09.075Z"
   },
   {
    "duration": 7,
    "start_time": "2021-10-10T05:09:21.441Z"
   },
   {
    "duration": 14,
    "start_time": "2021-10-10T05:09:31.962Z"
   },
   {
    "duration": 14,
    "start_time": "2021-10-10T05:16:58.902Z"
   },
   {
    "duration": 7,
    "start_time": "2021-10-10T05:17:03.695Z"
   },
   {
    "duration": 8,
    "start_time": "2021-10-10T05:17:10.053Z"
   },
   {
    "duration": 7,
    "start_time": "2021-10-10T05:17:16.380Z"
   },
   {
    "duration": 7,
    "start_time": "2021-10-10T05:17:22.981Z"
   }
  ],
  "kernelspec": {
   "display_name": "Python 3",
   "language": "python",
   "name": "python3"
  },
  "language_info": {
   "codemirror_mode": {
    "name": "ipython",
    "version": 3
   },
   "file_extension": ".py",
   "mimetype": "text/x-python",
   "name": "python",
   "nbconvert_exporter": "python",
   "pygments_lexer": "ipython3",
   "version": "3.7.10"
  },
  "toc": {
   "base_numbering": 1,
   "nav_menu": {},
   "number_sections": true,
   "sideBar": true,
   "skip_h1_title": true,
   "title_cell": "Table of Contents",
   "title_sidebar": "Contents",
   "toc_cell": false,
   "toc_position": {
    "height": "calc(100% - 180px)",
    "left": "10px",
    "top": "150px",
    "width": "238.391px"
   },
   "toc_section_display": true,
   "toc_window_display": false
  }
 },
 "nbformat": 4,
 "nbformat_minor": 2
}
