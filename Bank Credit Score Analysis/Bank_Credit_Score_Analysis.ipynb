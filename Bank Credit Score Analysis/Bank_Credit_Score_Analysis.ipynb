{
 "cells": [
  {
   "cell_type": "markdown",
   "metadata": {},
   "source": [
    "# Analyzing borrowers’ risk of defaulting\n",
    "\n",
    "Your project is to prepare a report for a bank’s loan division. You’ll need to find out if a customer’s marital status and number of children has an impact on whether they will default on a loan. The bank already has some data on customers’ credit worthiness.\n",
    "\n",
    "Your report will be considered when building a **credit scoring** of a potential customer. A ** credit scoring ** is used to evaluate the ability of a potential borrower to repay their loan."
   ]
  },
  {
   "cell_type": "markdown",
   "metadata": {},
   "source": [
    "# Introduction\n",
    "\n",
    "Data Preprocessing is a very crucial part of a data analyst job. With 10 folds of data being produced every second in the world means it's very important for a data analyst to take that data and make sense of it. This pre-processing stage of formating the data so is important since without doing so would make it hard for companies to make an informative decision, and create productivity in a business. In addition, with this credit score dataset, we want to explore the data and clean it so it can create a piece of more reliable information when creating a credit score. This way banks can know why they want to give loans in the future and whom to decline based on creditworthines"
   ]
  },
  {
   "cell_type": "markdown",
   "metadata": {},
   "source": [
    "### Table of Contents\n",
    "\n",
    "* [Previewing Data](#chapter1)\n",
    "    * [1 Open the data file and have a look at the general information.](#section_1)\n",
    "    * [1.1 Dataset Description](#section_1_1)\n",
    "        * [1.2  Conclusion](#section_1_2)\n",
    "* [2 Data preprocessing](#section_2)\n",
    "    * [2.1  Processing missing values](#section_2_1)\n",
    "    * [2.2  Looking into the data columns and there unique vlaues and total counts](#section_2_2)\n",
    "        * [2.3  Conclusion](#section_2_3)\n",
    "    * [2.4  Data type replacement](#section_2_4)\n",
    "        * [2.5  replacing incorrect outputs](#section_2_5)\n",
    "            * [2.6  Conclusion](#section_2_6)\n",
    "    * [2.7  Processing duplicates](#section_2_7)\n",
    "        * [2.8  Conclusion](#section_2_8)\n",
    "* [3  Categorizing Data](#section_3)\n",
    "    * [3.1  Lemmatization](#section_3_1)\n",
    "        * [3.2  Conclusion](#section_3_2)\n",
    "* [4  Answer these questions](#section_4)\n",
    "    * [4.1  Conclusion](#section_4_1)\n",
    "    * [4.2  Conclusion](#section_4_2)\n",
    "    * [4.3  Conclusion](#section_4_3)\n",
    "    * [4.4  Conclusion](#section_4_4)\n",
    "* [5  General conclusion](#section_5)"
   ]
  },
  {
   "cell_type": "markdown",
   "metadata": {},
   "source": [
    "# Previewing Data  <a class=\"anchor\" id=\"chapter1\"></a>"
   ]
  },
  {
   "cell_type": "markdown",
   "metadata": {},
   "source": [
    "## Open the data file and have a look at the general information. <a class=\"anchor\" id=\"section_1\"></a>"
   ]
  },
  {
   "cell_type": "code",
   "execution_count": 1,
   "metadata": {},
   "outputs": [],
   "source": [
    "# libries\n",
    "%matplotlib inline\n",
    "import matplotlib.pyplot as plt # importing the required module\n",
    "import numpy as np\n",
    "import pandas as pd\n",
    "from scipy import stats\n",
    "import nltk\n",
    "from nltk.stem import WordNetLemmatizer"
   ]
  },
  {
   "cell_type": "code",
   "execution_count": 2,
   "metadata": {},
   "outputs": [],
   "source": [
    "try:\n",
    "    df = pd.read_csv('credit_scoring_eng.csv')\n",
    "except:\n",
    "    df = pd.read_csv('/datasets/credit_scoring_eng.csv') "
   ]
  },
  {
   "cell_type": "code",
   "execution_count": 3,
   "metadata": {},
   "outputs": [
    {
     "data": {
      "text/html": [
       "<div>\n",
       "<style scoped>\n",
       "    .dataframe tbody tr th:only-of-type {\n",
       "        vertical-align: middle;\n",
       "    }\n",
       "\n",
       "    .dataframe tbody tr th {\n",
       "        vertical-align: top;\n",
       "    }\n",
       "\n",
       "    .dataframe thead th {\n",
       "        text-align: right;\n",
       "    }\n",
       "</style>\n",
       "<table border=\"1\" class=\"dataframe\">\n",
       "  <thead>\n",
       "    <tr style=\"text-align: right;\">\n",
       "      <th></th>\n",
       "      <th>children</th>\n",
       "      <th>days_employed</th>\n",
       "      <th>dob_years</th>\n",
       "      <th>education</th>\n",
       "      <th>education_id</th>\n",
       "      <th>family_status</th>\n",
       "      <th>family_status_id</th>\n",
       "      <th>gender</th>\n",
       "      <th>income_type</th>\n",
       "      <th>debt</th>\n",
       "      <th>total_income</th>\n",
       "      <th>purpose</th>\n",
       "    </tr>\n",
       "  </thead>\n",
       "  <tbody>\n",
       "    <tr>\n",
       "      <td>0</td>\n",
       "      <td>1</td>\n",
       "      <td>-8437.673028</td>\n",
       "      <td>42</td>\n",
       "      <td>bachelor's degree</td>\n",
       "      <td>0</td>\n",
       "      <td>married</td>\n",
       "      <td>0</td>\n",
       "      <td>F</td>\n",
       "      <td>employee</td>\n",
       "      <td>0</td>\n",
       "      <td>40620.102</td>\n",
       "      <td>purchase of the house</td>\n",
       "    </tr>\n",
       "    <tr>\n",
       "      <td>1</td>\n",
       "      <td>1</td>\n",
       "      <td>-4024.803754</td>\n",
       "      <td>36</td>\n",
       "      <td>secondary education</td>\n",
       "      <td>1</td>\n",
       "      <td>married</td>\n",
       "      <td>0</td>\n",
       "      <td>F</td>\n",
       "      <td>employee</td>\n",
       "      <td>0</td>\n",
       "      <td>17932.802</td>\n",
       "      <td>car purchase</td>\n",
       "    </tr>\n",
       "    <tr>\n",
       "      <td>2</td>\n",
       "      <td>0</td>\n",
       "      <td>-5623.422610</td>\n",
       "      <td>33</td>\n",
       "      <td>Secondary Education</td>\n",
       "      <td>1</td>\n",
       "      <td>married</td>\n",
       "      <td>0</td>\n",
       "      <td>M</td>\n",
       "      <td>employee</td>\n",
       "      <td>0</td>\n",
       "      <td>23341.752</td>\n",
       "      <td>purchase of the house</td>\n",
       "    </tr>\n",
       "    <tr>\n",
       "      <td>3</td>\n",
       "      <td>3</td>\n",
       "      <td>-4124.747207</td>\n",
       "      <td>32</td>\n",
       "      <td>secondary education</td>\n",
       "      <td>1</td>\n",
       "      <td>married</td>\n",
       "      <td>0</td>\n",
       "      <td>M</td>\n",
       "      <td>employee</td>\n",
       "      <td>0</td>\n",
       "      <td>42820.568</td>\n",
       "      <td>supplementary education</td>\n",
       "    </tr>\n",
       "    <tr>\n",
       "      <td>4</td>\n",
       "      <td>0</td>\n",
       "      <td>340266.072047</td>\n",
       "      <td>53</td>\n",
       "      <td>secondary education</td>\n",
       "      <td>1</td>\n",
       "      <td>civil partnership</td>\n",
       "      <td>1</td>\n",
       "      <td>F</td>\n",
       "      <td>retiree</td>\n",
       "      <td>0</td>\n",
       "      <td>25378.572</td>\n",
       "      <td>to have a wedding</td>\n",
       "    </tr>\n",
       "    <tr>\n",
       "      <td>5</td>\n",
       "      <td>0</td>\n",
       "      <td>-926.185831</td>\n",
       "      <td>27</td>\n",
       "      <td>bachelor's degree</td>\n",
       "      <td>0</td>\n",
       "      <td>civil partnership</td>\n",
       "      <td>1</td>\n",
       "      <td>M</td>\n",
       "      <td>business</td>\n",
       "      <td>0</td>\n",
       "      <td>40922.170</td>\n",
       "      <td>purchase of the house</td>\n",
       "    </tr>\n",
       "    <tr>\n",
       "      <td>6</td>\n",
       "      <td>0</td>\n",
       "      <td>-2879.202052</td>\n",
       "      <td>43</td>\n",
       "      <td>bachelor's degree</td>\n",
       "      <td>0</td>\n",
       "      <td>married</td>\n",
       "      <td>0</td>\n",
       "      <td>F</td>\n",
       "      <td>business</td>\n",
       "      <td>0</td>\n",
       "      <td>38484.156</td>\n",
       "      <td>housing transactions</td>\n",
       "    </tr>\n",
       "    <tr>\n",
       "      <td>7</td>\n",
       "      <td>0</td>\n",
       "      <td>-152.779569</td>\n",
       "      <td>50</td>\n",
       "      <td>SECONDARY EDUCATION</td>\n",
       "      <td>1</td>\n",
       "      <td>married</td>\n",
       "      <td>0</td>\n",
       "      <td>M</td>\n",
       "      <td>employee</td>\n",
       "      <td>0</td>\n",
       "      <td>21731.829</td>\n",
       "      <td>education</td>\n",
       "    </tr>\n",
       "    <tr>\n",
       "      <td>8</td>\n",
       "      <td>2</td>\n",
       "      <td>-6929.865299</td>\n",
       "      <td>35</td>\n",
       "      <td>BACHELOR'S DEGREE</td>\n",
       "      <td>0</td>\n",
       "      <td>civil partnership</td>\n",
       "      <td>1</td>\n",
       "      <td>F</td>\n",
       "      <td>employee</td>\n",
       "      <td>0</td>\n",
       "      <td>15337.093</td>\n",
       "      <td>having a wedding</td>\n",
       "    </tr>\n",
       "    <tr>\n",
       "      <td>9</td>\n",
       "      <td>0</td>\n",
       "      <td>-2188.756445</td>\n",
       "      <td>41</td>\n",
       "      <td>secondary education</td>\n",
       "      <td>1</td>\n",
       "      <td>married</td>\n",
       "      <td>0</td>\n",
       "      <td>M</td>\n",
       "      <td>employee</td>\n",
       "      <td>0</td>\n",
       "      <td>23108.150</td>\n",
       "      <td>purchase of the house for my family</td>\n",
       "    </tr>\n",
       "    <tr>\n",
       "      <td>10</td>\n",
       "      <td>2</td>\n",
       "      <td>-4171.483647</td>\n",
       "      <td>36</td>\n",
       "      <td>bachelor's degree</td>\n",
       "      <td>0</td>\n",
       "      <td>married</td>\n",
       "      <td>0</td>\n",
       "      <td>M</td>\n",
       "      <td>business</td>\n",
       "      <td>0</td>\n",
       "      <td>18230.959</td>\n",
       "      <td>buy real estate</td>\n",
       "    </tr>\n",
       "    <tr>\n",
       "      <td>11</td>\n",
       "      <td>0</td>\n",
       "      <td>-792.701887</td>\n",
       "      <td>40</td>\n",
       "      <td>secondary education</td>\n",
       "      <td>1</td>\n",
       "      <td>married</td>\n",
       "      <td>0</td>\n",
       "      <td>F</td>\n",
       "      <td>employee</td>\n",
       "      <td>0</td>\n",
       "      <td>12331.077</td>\n",
       "      <td>buy commercial real estate</td>\n",
       "    </tr>\n",
       "    <tr>\n",
       "      <td>12</td>\n",
       "      <td>0</td>\n",
       "      <td>NaN</td>\n",
       "      <td>65</td>\n",
       "      <td>secondary education</td>\n",
       "      <td>1</td>\n",
       "      <td>civil partnership</td>\n",
       "      <td>1</td>\n",
       "      <td>M</td>\n",
       "      <td>retiree</td>\n",
       "      <td>0</td>\n",
       "      <td>NaN</td>\n",
       "      <td>to have a wedding</td>\n",
       "    </tr>\n",
       "    <tr>\n",
       "      <td>13</td>\n",
       "      <td>0</td>\n",
       "      <td>-1846.641941</td>\n",
       "      <td>54</td>\n",
       "      <td>some college</td>\n",
       "      <td>2</td>\n",
       "      <td>married</td>\n",
       "      <td>0</td>\n",
       "      <td>F</td>\n",
       "      <td>employee</td>\n",
       "      <td>0</td>\n",
       "      <td>20873.317</td>\n",
       "      <td>car purchase</td>\n",
       "    </tr>\n",
       "    <tr>\n",
       "      <td>14</td>\n",
       "      <td>0</td>\n",
       "      <td>-1844.956182</td>\n",
       "      <td>56</td>\n",
       "      <td>bachelor's degree</td>\n",
       "      <td>0</td>\n",
       "      <td>civil partnership</td>\n",
       "      <td>1</td>\n",
       "      <td>F</td>\n",
       "      <td>business</td>\n",
       "      <td>1</td>\n",
       "      <td>26420.466</td>\n",
       "      <td>buy residential real estate</td>\n",
       "    </tr>\n",
       "  </tbody>\n",
       "</table>\n",
       "</div>"
      ],
      "text/plain": [
       "    children  days_employed  dob_years            education  education_id  \\\n",
       "0          1   -8437.673028         42    bachelor's degree             0   \n",
       "1          1   -4024.803754         36  secondary education             1   \n",
       "2          0   -5623.422610         33  Secondary Education             1   \n",
       "3          3   -4124.747207         32  secondary education             1   \n",
       "4          0  340266.072047         53  secondary education             1   \n",
       "5          0    -926.185831         27    bachelor's degree             0   \n",
       "6          0   -2879.202052         43    bachelor's degree             0   \n",
       "7          0    -152.779569         50  SECONDARY EDUCATION             1   \n",
       "8          2   -6929.865299         35    BACHELOR'S DEGREE             0   \n",
       "9          0   -2188.756445         41  secondary education             1   \n",
       "10         2   -4171.483647         36    bachelor's degree             0   \n",
       "11         0    -792.701887         40  secondary education             1   \n",
       "12         0            NaN         65  secondary education             1   \n",
       "13         0   -1846.641941         54         some college             2   \n",
       "14         0   -1844.956182         56    bachelor's degree             0   \n",
       "\n",
       "        family_status  family_status_id gender income_type  debt  \\\n",
       "0             married                 0      F    employee     0   \n",
       "1             married                 0      F    employee     0   \n",
       "2             married                 0      M    employee     0   \n",
       "3             married                 0      M    employee     0   \n",
       "4   civil partnership                 1      F     retiree     0   \n",
       "5   civil partnership                 1      M    business     0   \n",
       "6             married                 0      F    business     0   \n",
       "7             married                 0      M    employee     0   \n",
       "8   civil partnership                 1      F    employee     0   \n",
       "9             married                 0      M    employee     0   \n",
       "10            married                 0      M    business     0   \n",
       "11            married                 0      F    employee     0   \n",
       "12  civil partnership                 1      M     retiree     0   \n",
       "13            married                 0      F    employee     0   \n",
       "14  civil partnership                 1      F    business     1   \n",
       "\n",
       "    total_income                              purpose  \n",
       "0      40620.102                purchase of the house  \n",
       "1      17932.802                         car purchase  \n",
       "2      23341.752                purchase of the house  \n",
       "3      42820.568              supplementary education  \n",
       "4      25378.572                    to have a wedding  \n",
       "5      40922.170                purchase of the house  \n",
       "6      38484.156                 housing transactions  \n",
       "7      21731.829                            education  \n",
       "8      15337.093                     having a wedding  \n",
       "9      23108.150  purchase of the house for my family  \n",
       "10     18230.959                      buy real estate  \n",
       "11     12331.077           buy commercial real estate  \n",
       "12           NaN                    to have a wedding  \n",
       "13     20873.317                         car purchase  \n",
       "14     26420.466          buy residential real estate  "
      ]
     },
     "execution_count": 3,
     "metadata": {},
     "output_type": "execute_result"
    }
   ],
   "source": [
    "''' Examining the Data'''\n",
    "df.head(15)"
   ]
  },
  {
   "cell_type": "code",
   "execution_count": 4,
   "metadata": {},
   "outputs": [
    {
     "name": "stdout",
     "output_type": "stream",
     "text": [
      "<class 'pandas.core.frame.DataFrame'>\n",
      "RangeIndex: 21525 entries, 0 to 21524\n",
      "Data columns (total 12 columns):\n",
      "children            21525 non-null int64\n",
      "days_employed       19351 non-null float64\n",
      "dob_years           21525 non-null int64\n",
      "education           21525 non-null object\n",
      "education_id        21525 non-null int64\n",
      "family_status       21525 non-null object\n",
      "family_status_id    21525 non-null int64\n",
      "gender              21525 non-null object\n",
      "income_type         21525 non-null object\n",
      "debt                21525 non-null int64\n",
      "total_income        19351 non-null float64\n",
      "purpose             21525 non-null object\n",
      "dtypes: float64(2), int64(5), object(5)\n",
      "memory usage: 2.0+ MB\n"
     ]
    }
   ],
   "source": [
    "''' Examining the Data'''\n",
    "df.info()"
   ]
  },
  {
   "cell_type": "code",
   "execution_count": 5,
   "metadata": {
    "scrolled": true
   },
   "outputs": [
    {
     "data": {
      "text/html": [
       "<div>\n",
       "<style scoped>\n",
       "    .dataframe tbody tr th:only-of-type {\n",
       "        vertical-align: middle;\n",
       "    }\n",
       "\n",
       "    .dataframe tbody tr th {\n",
       "        vertical-align: top;\n",
       "    }\n",
       "\n",
       "    .dataframe thead th {\n",
       "        text-align: right;\n",
       "    }\n",
       "</style>\n",
       "<table border=\"1\" class=\"dataframe\">\n",
       "  <thead>\n",
       "    <tr style=\"text-align: right;\">\n",
       "      <th></th>\n",
       "      <th>children</th>\n",
       "      <th>days_employed</th>\n",
       "      <th>dob_years</th>\n",
       "      <th>education</th>\n",
       "      <th>education_id</th>\n",
       "      <th>family_status</th>\n",
       "      <th>family_status_id</th>\n",
       "      <th>gender</th>\n",
       "      <th>income_type</th>\n",
       "      <th>debt</th>\n",
       "      <th>total_income</th>\n",
       "      <th>purpose</th>\n",
       "    </tr>\n",
       "  </thead>\n",
       "  <tbody>\n",
       "    <tr>\n",
       "      <td>count</td>\n",
       "      <td>21525.000000</td>\n",
       "      <td>19351.000000</td>\n",
       "      <td>21525.000000</td>\n",
       "      <td>21525</td>\n",
       "      <td>21525.000000</td>\n",
       "      <td>21525</td>\n",
       "      <td>21525.000000</td>\n",
       "      <td>21525</td>\n",
       "      <td>21525</td>\n",
       "      <td>21525.000000</td>\n",
       "      <td>19351.000000</td>\n",
       "      <td>21525</td>\n",
       "    </tr>\n",
       "    <tr>\n",
       "      <td>unique</td>\n",
       "      <td>NaN</td>\n",
       "      <td>NaN</td>\n",
       "      <td>NaN</td>\n",
       "      <td>15</td>\n",
       "      <td>NaN</td>\n",
       "      <td>5</td>\n",
       "      <td>NaN</td>\n",
       "      <td>3</td>\n",
       "      <td>8</td>\n",
       "      <td>NaN</td>\n",
       "      <td>NaN</td>\n",
       "      <td>38</td>\n",
       "    </tr>\n",
       "    <tr>\n",
       "      <td>top</td>\n",
       "      <td>NaN</td>\n",
       "      <td>NaN</td>\n",
       "      <td>NaN</td>\n",
       "      <td>secondary education</td>\n",
       "      <td>NaN</td>\n",
       "      <td>married</td>\n",
       "      <td>NaN</td>\n",
       "      <td>F</td>\n",
       "      <td>employee</td>\n",
       "      <td>NaN</td>\n",
       "      <td>NaN</td>\n",
       "      <td>wedding ceremony</td>\n",
       "    </tr>\n",
       "    <tr>\n",
       "      <td>freq</td>\n",
       "      <td>NaN</td>\n",
       "      <td>NaN</td>\n",
       "      <td>NaN</td>\n",
       "      <td>13750</td>\n",
       "      <td>NaN</td>\n",
       "      <td>12380</td>\n",
       "      <td>NaN</td>\n",
       "      <td>14236</td>\n",
       "      <td>11119</td>\n",
       "      <td>NaN</td>\n",
       "      <td>NaN</td>\n",
       "      <td>797</td>\n",
       "    </tr>\n",
       "    <tr>\n",
       "      <td>mean</td>\n",
       "      <td>0.538908</td>\n",
       "      <td>63046.497661</td>\n",
       "      <td>43.293380</td>\n",
       "      <td>NaN</td>\n",
       "      <td>0.817236</td>\n",
       "      <td>NaN</td>\n",
       "      <td>0.972544</td>\n",
       "      <td>NaN</td>\n",
       "      <td>NaN</td>\n",
       "      <td>0.080883</td>\n",
       "      <td>26787.568355</td>\n",
       "      <td>NaN</td>\n",
       "    </tr>\n",
       "    <tr>\n",
       "      <td>std</td>\n",
       "      <td>1.381587</td>\n",
       "      <td>140827.311974</td>\n",
       "      <td>12.574584</td>\n",
       "      <td>NaN</td>\n",
       "      <td>0.548138</td>\n",
       "      <td>NaN</td>\n",
       "      <td>1.420324</td>\n",
       "      <td>NaN</td>\n",
       "      <td>NaN</td>\n",
       "      <td>0.272661</td>\n",
       "      <td>16475.450632</td>\n",
       "      <td>NaN</td>\n",
       "    </tr>\n",
       "    <tr>\n",
       "      <td>min</td>\n",
       "      <td>-1.000000</td>\n",
       "      <td>-18388.949901</td>\n",
       "      <td>0.000000</td>\n",
       "      <td>NaN</td>\n",
       "      <td>0.000000</td>\n",
       "      <td>NaN</td>\n",
       "      <td>0.000000</td>\n",
       "      <td>NaN</td>\n",
       "      <td>NaN</td>\n",
       "      <td>0.000000</td>\n",
       "      <td>3306.762000</td>\n",
       "      <td>NaN</td>\n",
       "    </tr>\n",
       "    <tr>\n",
       "      <td>25%</td>\n",
       "      <td>0.000000</td>\n",
       "      <td>-2747.423625</td>\n",
       "      <td>33.000000</td>\n",
       "      <td>NaN</td>\n",
       "      <td>1.000000</td>\n",
       "      <td>NaN</td>\n",
       "      <td>0.000000</td>\n",
       "      <td>NaN</td>\n",
       "      <td>NaN</td>\n",
       "      <td>0.000000</td>\n",
       "      <td>16488.504500</td>\n",
       "      <td>NaN</td>\n",
       "    </tr>\n",
       "    <tr>\n",
       "      <td>50%</td>\n",
       "      <td>0.000000</td>\n",
       "      <td>-1203.369529</td>\n",
       "      <td>42.000000</td>\n",
       "      <td>NaN</td>\n",
       "      <td>1.000000</td>\n",
       "      <td>NaN</td>\n",
       "      <td>0.000000</td>\n",
       "      <td>NaN</td>\n",
       "      <td>NaN</td>\n",
       "      <td>0.000000</td>\n",
       "      <td>23202.870000</td>\n",
       "      <td>NaN</td>\n",
       "    </tr>\n",
       "    <tr>\n",
       "      <td>75%</td>\n",
       "      <td>1.000000</td>\n",
       "      <td>-291.095954</td>\n",
       "      <td>53.000000</td>\n",
       "      <td>NaN</td>\n",
       "      <td>1.000000</td>\n",
       "      <td>NaN</td>\n",
       "      <td>1.000000</td>\n",
       "      <td>NaN</td>\n",
       "      <td>NaN</td>\n",
       "      <td>0.000000</td>\n",
       "      <td>32549.611000</td>\n",
       "      <td>NaN</td>\n",
       "    </tr>\n",
       "    <tr>\n",
       "      <td>max</td>\n",
       "      <td>20.000000</td>\n",
       "      <td>401755.400475</td>\n",
       "      <td>75.000000</td>\n",
       "      <td>NaN</td>\n",
       "      <td>4.000000</td>\n",
       "      <td>NaN</td>\n",
       "      <td>4.000000</td>\n",
       "      <td>NaN</td>\n",
       "      <td>NaN</td>\n",
       "      <td>1.000000</td>\n",
       "      <td>362496.645000</td>\n",
       "      <td>NaN</td>\n",
       "    </tr>\n",
       "  </tbody>\n",
       "</table>\n",
       "</div>"
      ],
      "text/plain": [
       "            children  days_employed     dob_years            education  \\\n",
       "count   21525.000000   19351.000000  21525.000000                21525   \n",
       "unique           NaN            NaN           NaN                   15   \n",
       "top              NaN            NaN           NaN  secondary education   \n",
       "freq             NaN            NaN           NaN                13750   \n",
       "mean        0.538908   63046.497661     43.293380                  NaN   \n",
       "std         1.381587  140827.311974     12.574584                  NaN   \n",
       "min        -1.000000  -18388.949901      0.000000                  NaN   \n",
       "25%         0.000000   -2747.423625     33.000000                  NaN   \n",
       "50%         0.000000   -1203.369529     42.000000                  NaN   \n",
       "75%         1.000000    -291.095954     53.000000                  NaN   \n",
       "max        20.000000  401755.400475     75.000000                  NaN   \n",
       "\n",
       "        education_id family_status  family_status_id gender income_type  \\\n",
       "count   21525.000000         21525      21525.000000  21525       21525   \n",
       "unique           NaN             5               NaN      3           8   \n",
       "top              NaN       married               NaN      F    employee   \n",
       "freq             NaN         12380               NaN  14236       11119   \n",
       "mean        0.817236           NaN          0.972544    NaN         NaN   \n",
       "std         0.548138           NaN          1.420324    NaN         NaN   \n",
       "min         0.000000           NaN          0.000000    NaN         NaN   \n",
       "25%         1.000000           NaN          0.000000    NaN         NaN   \n",
       "50%         1.000000           NaN          0.000000    NaN         NaN   \n",
       "75%         1.000000           NaN          1.000000    NaN         NaN   \n",
       "max         4.000000           NaN          4.000000    NaN         NaN   \n",
       "\n",
       "                debt   total_income           purpose  \n",
       "count   21525.000000   19351.000000             21525  \n",
       "unique           NaN            NaN                38  \n",
       "top              NaN            NaN  wedding ceremony  \n",
       "freq             NaN            NaN               797  \n",
       "mean        0.080883   26787.568355               NaN  \n",
       "std         0.272661   16475.450632               NaN  \n",
       "min         0.000000    3306.762000               NaN  \n",
       "25%         0.000000   16488.504500               NaN  \n",
       "50%         0.000000   23202.870000               NaN  \n",
       "75%         0.000000   32549.611000               NaN  \n",
       "max         1.000000  362496.645000               NaN  "
      ]
     },
     "execution_count": 5,
     "metadata": {},
     "output_type": "execute_result"
    }
   ],
   "source": [
    "df.describe(include = 'all')"
   ]
  },
  {
   "cell_type": "code",
   "execution_count": 6,
   "metadata": {},
   "outputs": [
    {
     "data": {
      "text/plain": [
       "(21525, 12)"
      ]
     },
     "execution_count": 6,
     "metadata": {},
     "output_type": "execute_result"
    }
   ],
   "source": [
    "df.shape"
   ]
  },
  {
   "cell_type": "markdown",
   "metadata": {},
   "source": [
    "### Dataset Description <a class=\"anchor\" id=\"section_1_1\"></a>"
   ]
  },
  {
   "cell_type": "markdown",
   "metadata": {},
   "source": [
    "Description of the data\n",
    "\n",
    "- children: the number of children in the family\n",
    "- days_employed: how long the customer has been working\n",
    "- dob_years: the customer’s age\n",
    "- education: the customer’s education level\n",
    "- education_id: identifier for the customer’s education\n",
    "- family_status: the customer’s marital status\n",
    "- family_status_id: identifier for the customer’s marital status\n",
    "- gender: the customer’s gender\n",
    "- income_type: the customer’s income type\n",
    "- debt: whether the customer has ever defaulted on a loan\n",
    "- total_income: monthly income\n",
    "- purpose: reason for taking out a loan"
   ]
  },
  {
   "cell_type": "markdown",
   "metadata": {},
   "source": [
    "### Conclusion<a class=\"anchor\" id=\"section_1_2\"></a>"
   ]
  },
  {
   "cell_type": "markdown",
   "metadata": {},
   "source": [
    "From previewing the data we can see that there are missing values present in days_employed, and total_income. In addition, we can see that there might be some input error since days_employed has negative values when they should be positive. Also, the data seems to have duplicates in the education columns. "
   ]
  },
  {
   "cell_type": "markdown",
   "metadata": {},
   "source": [
    "## Data preprocessing<a class=\"anchor\" id=\"section_2\"></a>"
   ]
  },
  {
   "cell_type": "markdown",
   "metadata": {},
   "source": [
    "### Processing missing values<a class=\"anchor\" id=\"section_2_1\"></a>"
   ]
  },
  {
   "cell_type": "code",
   "execution_count": 7,
   "metadata": {},
   "outputs": [
    {
     "data": {
      "text/plain": [
       "children               0\n",
       "days_employed       2174\n",
       "dob_years              0\n",
       "education              0\n",
       "education_id           0\n",
       "family_status          0\n",
       "family_status_id       0\n",
       "gender                 0\n",
       "income_type            0\n",
       "debt                   0\n",
       "total_income        2174\n",
       "purpose                0\n",
       "dtype: int64"
      ]
     },
     "execution_count": 7,
     "metadata": {},
     "output_type": "execute_result"
    }
   ],
   "source": [
    "#checking for sum of missing values\n",
    "df.isna().sum()"
   ]
  },
  {
   "cell_type": "code",
   "execution_count": 8,
   "metadata": {},
   "outputs": [
    {
     "name": "stdout",
     "output_type": "stream",
     "text": [
      "total_income        0.100999\n",
      "days_employed       0.100999\n",
      "purpose             0.000000\n",
      "debt                0.000000\n",
      "income_type         0.000000\n",
      "gender              0.000000\n",
      "family_status_id    0.000000\n",
      "family_status       0.000000\n",
      "education_id        0.000000\n",
      "education           0.000000\n",
      "dob_years           0.000000\n",
      "children            0.000000\n",
      "dtype: float64\n"
     ]
    }
   ],
   "source": [
    "#percentage of missing values\n",
    "percent = (df.isnull().sum()/df.isnull().count()).sort_values(ascending=False)\n",
    "print(percent)"
   ]
  },
  {
   "cell_type": "code",
   "execution_count": 9,
   "metadata": {},
   "outputs": [],
   "source": [
    "df.fillna(df.median(),inplace=True)"
   ]
  },
  {
   "cell_type": "markdown",
   "metadata": {},
   "source": [
    "There are multiple different approaches to filling missing values and each has there own pros and cons for doing so. I took care of missing values in this dataset by filling in the Na's with the median value. I took this approch since just dropping the rows form out dataset can cause a skewness, and using the mean to fill the NA might not be best since outliers which is why I am using the median over the mean. "
   ]
  },
  {
   "cell_type": "code",
   "execution_count": 10,
   "metadata": {},
   "outputs": [
    {
     "data": {
      "text/plain": [
       "children            0\n",
       "days_employed       0\n",
       "dob_years           0\n",
       "education           0\n",
       "education_id        0\n",
       "family_status       0\n",
       "family_status_id    0\n",
       "gender              0\n",
       "income_type         0\n",
       "debt                0\n",
       "total_income        0\n",
       "purpose             0\n",
       "dtype: int64"
      ]
     },
     "execution_count": 10,
     "metadata": {},
     "output_type": "execute_result"
    }
   ],
   "source": [
    "df.isna().sum()"
   ]
  },
  {
   "cell_type": "markdown",
   "metadata": {},
   "source": [
    "### Looking into the data columns and there unique vlaues and total counts"
   ]
  },
  {
   "cell_type": "code",
   "execution_count": 11,
   "metadata": {},
   "outputs": [
    {
     "data": {
      "text/plain": [
       " 0     14149\n",
       " 1      4818\n",
       " 2      2055\n",
       " 3       330\n",
       " 20       76\n",
       "-1        47\n",
       " 4        41\n",
       " 5         9\n",
       "Name: children, dtype: int64"
      ]
     },
     "execution_count": 11,
     "metadata": {},
     "output_type": "execute_result"
    }
   ],
   "source": [
    "# look for total counts of unique entry in the 'children' column\n",
    "df['children'].value_counts()"
   ]
  },
  {
   "cell_type": "code",
   "execution_count": 12,
   "metadata": {},
   "outputs": [
    {
     "data": {
      "text/plain": [
       "-1203.369529    2175\n",
       "-986.927316        1\n",
       "-1893.222792       1\n",
       "-4236.274243       1\n",
       "-6620.396473       1\n",
       "                ... \n",
       "-2849.351119       1\n",
       "-5619.328204       1\n",
       "-448.829898        1\n",
       "-1687.038672       1\n",
       "-582.538413        1\n",
       "Name: days_employed, Length: 19351, dtype: int64"
      ]
     },
     "execution_count": 12,
     "metadata": {},
     "output_type": "execute_result"
    }
   ],
   "source": [
    "# look for total value of entry in the 'days_employed' column\n",
    "df['days_employed'].value_counts()"
   ]
  },
  {
   "cell_type": "code",
   "execution_count": 13,
   "metadata": {},
   "outputs": [
    {
     "data": {
      "text/plain": [
       "array(['purchase of the house', 'car purchase', 'supplementary education',\n",
       "       'to have a wedding', 'housing transactions', 'education',\n",
       "       'having a wedding', 'purchase of the house for my family',\n",
       "       'buy real estate', 'buy commercial real estate',\n",
       "       'buy residential real estate', 'construction of own property',\n",
       "       'property', 'building a property', 'buying a second-hand car',\n",
       "       'buying my own car', 'transactions with commercial real estate',\n",
       "       'building a real estate', 'housing',\n",
       "       'transactions with my real estate', 'cars', 'to become educated',\n",
       "       'second-hand car purchase', 'getting an education', 'car',\n",
       "       'wedding ceremony', 'to get a supplementary education',\n",
       "       'purchase of my own house', 'real estate transactions',\n",
       "       'getting higher education', 'to own a car', 'purchase of a car',\n",
       "       'profile education', 'university education',\n",
       "       'buying property for renting out', 'to buy a car',\n",
       "       'housing renovation', 'going to university'], dtype=object)"
      ]
     },
     "execution_count": 13,
     "metadata": {},
     "output_type": "execute_result"
    }
   ],
   "source": [
    "# look for the total counts of unique entry in the 'purpose' column\n",
    "df['purpose'].unique()"
   ]
  },
  {
   "cell_type": "code",
   "execution_count": 14,
   "metadata": {
    "scrolled": true
   },
   "outputs": [
    {
     "data": {
      "text/plain": [
       "35    617\n",
       "40    609\n",
       "41    607\n",
       "34    603\n",
       "38    598\n",
       "42    597\n",
       "33    581\n",
       "39    573\n",
       "31    560\n",
       "36    555\n",
       "44    547\n",
       "29    545\n",
       "30    540\n",
       "48    538\n",
       "37    537\n",
       "50    514\n",
       "43    513\n",
       "32    510\n",
       "49    508\n",
       "28    503\n",
       "45    497\n",
       "27    493\n",
       "56    487\n",
       "52    484\n",
       "47    480\n",
       "54    479\n",
       "46    475\n",
       "58    461\n",
       "57    460\n",
       "53    459\n",
       "51    448\n",
       "59    444\n",
       "55    443\n",
       "26    408\n",
       "60    377\n",
       "25    357\n",
       "61    355\n",
       "62    352\n",
       "63    269\n",
       "64    265\n",
       "24    264\n",
       "23    254\n",
       "65    194\n",
       "66    183\n",
       "22    183\n",
       "67    167\n",
       "21    111\n",
       "0     101\n",
       "68     99\n",
       "69     85\n",
       "70     65\n",
       "71     58\n",
       "20     51\n",
       "72     33\n",
       "19     14\n",
       "73      8\n",
       "74      6\n",
       "75      1\n",
       "Name: dob_years, dtype: int64"
      ]
     },
     "execution_count": 14,
     "metadata": {},
     "output_type": "execute_result"
    }
   ],
   "source": [
    "# look for total values counts in the 'dob_years' column\n",
    "df['dob_years'].value_counts()"
   ]
  },
  {
   "cell_type": "code",
   "execution_count": 15,
   "metadata": {},
   "outputs": [
    {
     "data": {
      "text/plain": [
       "array([\"bachelor's degree\", 'secondary education', 'Secondary Education',\n",
       "       'SECONDARY EDUCATION', \"BACHELOR'S DEGREE\", 'some college',\n",
       "       'primary education', \"Bachelor's Degree\", 'SOME COLLEGE',\n",
       "       'Some College', 'PRIMARY EDUCATION', 'Primary Education',\n",
       "       'Graduate Degree', 'GRADUATE DEGREE', 'graduate degree'],\n",
       "      dtype=object)"
      ]
     },
     "execution_count": 15,
     "metadata": {},
     "output_type": "execute_result"
    }
   ],
   "source": [
    "# look for total counts for unique entry in the 'education' column\n",
    "df['education'].unique()"
   ]
  },
  {
   "cell_type": "code",
   "execution_count": 16,
   "metadata": {
    "scrolled": true
   },
   "outputs": [
    {
     "data": {
      "text/plain": [
       "1    15233\n",
       "0     5260\n",
       "2      744\n",
       "3      282\n",
       "4        6\n",
       "Name: education_id, dtype: int64"
      ]
     },
     "execution_count": 16,
     "metadata": {},
     "output_type": "execute_result"
    }
   ],
   "source": [
    "# look for total values counts in the 'education_id' column\n",
    "df['education_id'].value_counts()"
   ]
  },
  {
   "cell_type": "code",
   "execution_count": 17,
   "metadata": {},
   "outputs": [
    {
     "data": {
      "text/plain": [
       "array(['married', 'civil partnership', 'widow / widower', 'divorced',\n",
       "       'unmarried'], dtype=object)"
      ]
     },
     "execution_count": 17,
     "metadata": {},
     "output_type": "execute_result"
    }
   ],
   "source": [
    "# look for unique entry in the 'family_status' column\n",
    "df['family_status'].unique()"
   ]
  },
  {
   "cell_type": "code",
   "execution_count": 18,
   "metadata": {},
   "outputs": [
    {
     "data": {
      "text/plain": [
       "0    12380\n",
       "1     4177\n",
       "4     2813\n",
       "3     1195\n",
       "2      960\n",
       "Name: family_status_id, dtype: int64"
      ]
     },
     "execution_count": 18,
     "metadata": {},
     "output_type": "execute_result"
    }
   ],
   "source": [
    "# look for unique entry in the 'family_status_id' column\n",
    "df['family_status_id'].value_counts()"
   ]
  },
  {
   "cell_type": "code",
   "execution_count": 19,
   "metadata": {},
   "outputs": [
    {
     "data": {
      "text/plain": [
       "array(['F', 'M', 'XNA'], dtype=object)"
      ]
     },
     "execution_count": 19,
     "metadata": {},
     "output_type": "execute_result"
    }
   ],
   "source": [
    "# look for total counts of unique entry in the 'gender' column\n",
    "df['gender'].unique()"
   ]
  },
  {
   "cell_type": "code",
   "execution_count": 20,
   "metadata": {},
   "outputs": [
    {
     "data": {
      "text/plain": [
       "array(['employee', 'retiree', 'business', 'civil servant', 'unemployed',\n",
       "       'entrepreneur', 'student', 'paternity / maternity leave'],\n",
       "      dtype=object)"
      ]
     },
     "execution_count": 20,
     "metadata": {},
     "output_type": "execute_result"
    }
   ],
   "source": [
    "# look for unique entry in the 'income_type' column\n",
    "df['income_type'].unique()"
   ]
  },
  {
   "cell_type": "code",
   "execution_count": 21,
   "metadata": {},
   "outputs": [
    {
     "data": {
      "text/plain": [
       "0    19784\n",
       "1     1741\n",
       "Name: debt, dtype: int64"
      ]
     },
     "execution_count": 21,
     "metadata": {},
     "output_type": "execute_result"
    }
   ],
   "source": [
    "# look for unique entry in the 'debt' column\n",
    "df['debt'].value_counts()"
   ]
  },
  {
   "cell_type": "code",
   "execution_count": 22,
   "metadata": {},
   "outputs": [
    {
     "data": {
      "text/plain": [
       "23202.870    2175\n",
       "17312.717       2\n",
       "42413.096       2\n",
       "31791.384       2\n",
       "15830.634       1\n",
       "             ... \n",
       "48796.341       1\n",
       "34774.610       1\n",
       "15710.698       1\n",
       "19232.334       1\n",
       "9591.824        1\n",
       "Name: total_income, Length: 19348, dtype: int64"
      ]
     },
     "execution_count": 22,
     "metadata": {},
     "output_type": "execute_result"
    }
   ],
   "source": [
    "# look for unique entry in the 'total_income' column\n",
    "df['total_income'].value_counts()"
   ]
  },
  {
   "cell_type": "markdown",
   "metadata": {},
   "source": [
    "### Conclusion<a class=\"anchor\" id=\"section_2_3\"></a>"
   ]
  },
  {
   "cell_type": "markdown",
   "metadata": {},
   "source": [
    "There are 2174 missing values detected in our dataset for both days_employed and total_income.  The reason for having missing values can be human error fault. Since the same amount of data is missing for those two columns it might be that people did not want to give away their personal information of total income and hours worked. The negative values present for 'days_employed' are believed to be the result of technical error for our dataset which could have happened when formating the data. \n",
    "\n",
    "In this dataset, 10 percent of data is missing for total_income and days_employed. Also, with the data having a big standard deviation difference we can say our dataset is skewed and outliers are present. For this dataset I delt with the missing values by setting all the 'NaN' values with the median value since outliers are present. \n",
    "\n",
    "Further, I did some expploration of the data to see unqique values and total values counts so I can see what type of data is present and what type of changes need to be made in the next stage.\n"
   ]
  },
  {
   "cell_type": "markdown",
   "metadata": {},
   "source": [
    "### Data type replacement<a class=\"anchor\" id=\"section_2_4\"></a>"
   ]
  },
  {
   "cell_type": "code",
   "execution_count": 23,
   "metadata": {},
   "outputs": [],
   "source": [
    "#replaced the real data type with an integer!\n",
    "df['days_employed'] = df['days_employed'].astype('int')\n",
    "df['total_income'] = df['total_income'].astype('int')"
   ]
  },
  {
   "cell_type": "code",
   "execution_count": 24,
   "metadata": {},
   "outputs": [
    {
     "name": "stdout",
     "output_type": "stream",
     "text": [
      "<class 'pandas.core.frame.DataFrame'>\n",
      "RangeIndex: 21525 entries, 0 to 21524\n",
      "Data columns (total 12 columns):\n",
      "children            21525 non-null int64\n",
      "days_employed       21525 non-null int64\n",
      "dob_years           21525 non-null int64\n",
      "education           21525 non-null object\n",
      "education_id        21525 non-null int64\n",
      "family_status       21525 non-null object\n",
      "family_status_id    21525 non-null int64\n",
      "gender              21525 non-null object\n",
      "income_type         21525 non-null object\n",
      "debt                21525 non-null int64\n",
      "total_income        21525 non-null int64\n",
      "purpose             21525 non-null object\n",
      "dtypes: int64(7), object(5)\n",
      "memory usage: 2.0+ MB\n"
     ]
    }
   ],
   "source": [
    "df.info()"
   ]
  },
  {
   "cell_type": "code",
   "execution_count": 28,
   "metadata": {},
   "outputs": [],
   "source": [
    "#converting float to int for days_employed\n",
    "df['days_employed'] = df['days_employed'].astype('int')"
   ]
  },
  {
   "cell_type": "code",
   "execution_count": 29,
   "metadata": {},
   "outputs": [
    {
     "data": {
      "text/plain": [
       "0     -8437\n",
       "1     -4024\n",
       "2     -5623\n",
       "3     -4124\n",
       "4    340266\n",
       "Name: days_employed, dtype: int64"
      ]
     },
     "execution_count": 29,
     "metadata": {},
     "output_type": "execute_result"
    }
   ],
   "source": [
    "df['days_employed'].head()"
   ]
  },
  {
   "cell_type": "code",
   "execution_count": 30,
   "metadata": {
    "scrolled": true
   },
   "outputs": [
    {
     "data": {
      "text/html": [
       "<div>\n",
       "<style scoped>\n",
       "    .dataframe tbody tr th:only-of-type {\n",
       "        vertical-align: middle;\n",
       "    }\n",
       "\n",
       "    .dataframe tbody tr th {\n",
       "        vertical-align: top;\n",
       "    }\n",
       "\n",
       "    .dataframe thead th {\n",
       "        text-align: right;\n",
       "    }\n",
       "</style>\n",
       "<table border=\"1\" class=\"dataframe\">\n",
       "  <thead>\n",
       "    <tr style=\"text-align: right;\">\n",
       "      <th></th>\n",
       "      <th>children</th>\n",
       "      <th>days_employed</th>\n",
       "      <th>dob_years</th>\n",
       "      <th>education</th>\n",
       "      <th>education_id</th>\n",
       "      <th>family_status</th>\n",
       "      <th>family_status_id</th>\n",
       "      <th>gender</th>\n",
       "      <th>income_type</th>\n",
       "      <th>debt</th>\n",
       "      <th>total_income</th>\n",
       "      <th>purpose</th>\n",
       "    </tr>\n",
       "  </thead>\n",
       "  <tbody>\n",
       "    <tr>\n",
       "      <td>0</td>\n",
       "      <td>1</td>\n",
       "      <td>-8437</td>\n",
       "      <td>42</td>\n",
       "      <td>bachelor's degree</td>\n",
       "      <td>0</td>\n",
       "      <td>married</td>\n",
       "      <td>0</td>\n",
       "      <td>F</td>\n",
       "      <td>employee</td>\n",
       "      <td>0</td>\n",
       "      <td>40620</td>\n",
       "      <td>purchase of the house</td>\n",
       "    </tr>\n",
       "    <tr>\n",
       "      <td>1</td>\n",
       "      <td>1</td>\n",
       "      <td>-4024</td>\n",
       "      <td>36</td>\n",
       "      <td>secondary education</td>\n",
       "      <td>1</td>\n",
       "      <td>married</td>\n",
       "      <td>0</td>\n",
       "      <td>F</td>\n",
       "      <td>employee</td>\n",
       "      <td>0</td>\n",
       "      <td>17932</td>\n",
       "      <td>car purchase</td>\n",
       "    </tr>\n",
       "    <tr>\n",
       "      <td>2</td>\n",
       "      <td>0</td>\n",
       "      <td>-5623</td>\n",
       "      <td>33</td>\n",
       "      <td>Secondary Education</td>\n",
       "      <td>1</td>\n",
       "      <td>married</td>\n",
       "      <td>0</td>\n",
       "      <td>M</td>\n",
       "      <td>employee</td>\n",
       "      <td>0</td>\n",
       "      <td>23341</td>\n",
       "      <td>purchase of the house</td>\n",
       "    </tr>\n",
       "    <tr>\n",
       "      <td>3</td>\n",
       "      <td>3</td>\n",
       "      <td>-4124</td>\n",
       "      <td>32</td>\n",
       "      <td>secondary education</td>\n",
       "      <td>1</td>\n",
       "      <td>married</td>\n",
       "      <td>0</td>\n",
       "      <td>M</td>\n",
       "      <td>employee</td>\n",
       "      <td>0</td>\n",
       "      <td>42820</td>\n",
       "      <td>supplementary education</td>\n",
       "    </tr>\n",
       "    <tr>\n",
       "      <td>4</td>\n",
       "      <td>0</td>\n",
       "      <td>340266</td>\n",
       "      <td>53</td>\n",
       "      <td>secondary education</td>\n",
       "      <td>1</td>\n",
       "      <td>civil partnership</td>\n",
       "      <td>1</td>\n",
       "      <td>F</td>\n",
       "      <td>retiree</td>\n",
       "      <td>0</td>\n",
       "      <td>25378</td>\n",
       "      <td>to have a wedding</td>\n",
       "    </tr>\n",
       "  </tbody>\n",
       "</table>\n",
       "</div>"
      ],
      "text/plain": [
       "   children  days_employed  dob_years            education  education_id  \\\n",
       "0         1          -8437         42    bachelor's degree             0   \n",
       "1         1          -4024         36  secondary education             1   \n",
       "2         0          -5623         33  Secondary Education             1   \n",
       "3         3          -4124         32  secondary education             1   \n",
       "4         0         340266         53  secondary education             1   \n",
       "\n",
       "       family_status  family_status_id gender income_type  debt  total_income  \\\n",
       "0            married                 0      F    employee     0         40620   \n",
       "1            married                 0      F    employee     0         17932   \n",
       "2            married                 0      M    employee     0         23341   \n",
       "3            married                 0      M    employee     0         42820   \n",
       "4  civil partnership                 1      F     retiree     0         25378   \n",
       "\n",
       "                   purpose  \n",
       "0    purchase of the house  \n",
       "1             car purchase  \n",
       "2    purchase of the house  \n",
       "3  supplementary education  \n",
       "4        to have a wedding  "
      ]
     },
     "execution_count": 30,
     "metadata": {},
     "output_type": "execute_result"
    }
   ],
   "source": [
    "df.head()"
   ]
  },
  {
   "cell_type": "code",
   "execution_count": 31,
   "metadata": {
    "scrolled": true
   },
   "outputs": [
    {
     "data": {
      "text/plain": [
       "20444    328728\n",
       "9328     328734\n",
       "17782    328771\n",
       "14783    328795\n",
       "7229     328827\n",
       "          ...  \n",
       "7794     401663\n",
       "2156     401674\n",
       "7664     401675\n",
       "10006    401715\n",
       "6954     401755\n",
       "Name: days_employed, Length: 3445, dtype: int64"
      ]
     },
     "execution_count": 31,
     "metadata": {},
     "output_type": "execute_result"
    }
   ],
   "source": [
    "df[df['days_employed'] > 0]['days_employed'].sort_values()"
   ]
  },
  {
   "cell_type": "markdown",
   "metadata": {},
   "source": [
    "### replacing incorrect outputs <a class=\"anchor\" id=\"section_2_4\"></a>\n",
    "- Replace/ get rid of the xna form gender column\n",
    "- Replace the columns children negative value."
   ]
  },
  {
   "cell_type": "code",
   "execution_count": 32,
   "metadata": {},
   "outputs": [],
   "source": [
    "#getting the abs value for days employed!\n",
    "df['children'] = df['children'].abs()"
   ]
  },
  {
   "cell_type": "code",
   "execution_count": 33,
   "metadata": {},
   "outputs": [],
   "source": [
    "# Git rid of the value 20\n",
    "df = df[df.children != 20]"
   ]
  },
  {
   "cell_type": "code",
   "execution_count": 34,
   "metadata": {
    "scrolled": true
   },
   "outputs": [
    {
     "data": {
      "text/plain": [
       "0    14149\n",
       "1     4865\n",
       "2     2055\n",
       "3      330\n",
       "4       41\n",
       "5        9\n",
       "Name: children, dtype: int64"
      ]
     },
     "execution_count": 34,
     "metadata": {},
     "output_type": "execute_result"
    }
   ],
   "source": [
    "df['children'].value_counts()"
   ]
  },
  {
   "cell_type": "code",
   "execution_count": 35,
   "metadata": {},
   "outputs": [],
   "source": [
    "#gets rid of the XNA row in gender\n",
    "df = df[~df['gender'].isin(['XNA'])]"
   ]
  },
  {
   "cell_type": "markdown",
   "metadata": {},
   "source": [
    "### Conclusion<a class=\"anchor\" id=\"section_2_6\"></a>"
   ]
  },
  {
   "cell_type": "markdown",
   "metadata": {},
   "source": [
    "Looking at this dataset we can see there were floating-point values in our data for days_employed and total_income variables. We changed them to make them whole numbers with integers by using astype('int'). With astype('int') we are using the panda's library to implement this and what it does is cast one or more of the DataFrame’s columns to column-specific types. This was done for 'days_employed' and 'total_income' since both were floating-point numbers and we want them to be integers which are whole numbers. \n",
    "\n",
    "I also went ahead and made changes to the children column and got rid of the 20 children since it was an outliers and realistically 76 people won't have 20 children. In the missing data stage, I went ahead and looked into the total counts for 'days_employed' column and noticed that there is a negative value which could have been an input mistake. The negative results could have been the result of a formatting issue when putting the inputs in from excel. In addition, the days_employed column had extreammly larg values which was then looked at. These values turned out to be part of the hours and not days.\n",
    "\n",
    "Furthermore, for the gender column, I noticed that it had an invalid input since gender should be specified to 'M' = Male and 'F' = female. Since there was an additional input called 'XNA' which is an invalid input I got rid of that row. "
   ]
  },
  {
   "cell_type": "markdown",
   "metadata": {},
   "source": [
    "### Processing duplicates<a class=\"anchor\" id=\"section_2_7\"></a>"
   ]
  },
  {
   "cell_type": "code",
   "execution_count": 36,
   "metadata": {},
   "outputs": [
    {
     "data": {
      "text/plain": [
       "54"
      ]
     },
     "execution_count": 36,
     "metadata": {},
     "output_type": "execute_result"
    }
   ],
   "source": [
    "#counting total number of duplicates\n",
    "df.duplicated().sum()"
   ]
  },
  {
   "cell_type": "code",
   "execution_count": 37,
   "metadata": {},
   "outputs": [
    {
     "name": "stdout",
     "output_type": "stream",
     "text": [
      "secondary education    13698\n",
      "bachelor's degree       4706\n",
      "SECONDARY EDUCATION      770\n",
      "Secondary Education      705\n",
      "some college             665\n",
      "BACHELOR'S DEGREE        272\n",
      "Bachelor's Degree        268\n",
      "primary education        250\n",
      "Some College              47\n",
      "SOME COLLEGE              29\n",
      "PRIMARY EDUCATION         17\n",
      "Primary Education         15\n",
      "graduate degree            4\n",
      "Graduate Degree            1\n",
      "GRADUATE DEGREE            1\n",
      "Name: education, dtype: int64\n"
     ]
    }
   ],
   "source": [
    "# checking the education value count to see if duplicates exist\n",
    "print(df['education'].value_counts())"
   ]
  },
  {
   "cell_type": "code",
   "execution_count": 38,
   "metadata": {},
   "outputs": [
    {
     "data": {
      "text/plain": [
       "secondary education    15173\n",
       "bachelor's degree       5246\n",
       "some college             741\n",
       "primary education        282\n",
       "graduate degree            6\n",
       "Name: education, dtype: int64"
      ]
     },
     "execution_count": 38,
     "metadata": {},
     "output_type": "execute_result"
    }
   ],
   "source": [
    "# converting education to lower case to get rid of duplicates \n",
    "df['education'] = df['education'].str.lower()\n",
    "df['education'].value_counts()"
   ]
  },
  {
   "cell_type": "code",
   "execution_count": 39,
   "metadata": {},
   "outputs": [
    {
     "data": {
      "text/plain": [
       "0"
      ]
     },
     "execution_count": 39,
     "metadata": {},
     "output_type": "execute_result"
    }
   ],
   "source": [
    "#droping duplicates and resetting the index\n",
    "df = df.drop_duplicates().reset_index(drop=True)\n",
    "# checking the sum of duplicates\n",
    "df.duplicated().sum()"
   ]
  },
  {
   "cell_type": "markdown",
   "metadata": {},
   "source": [
    "### Conclusion<a class=\"anchor\" id=\"section_2_8\"></a>"
   ]
  },
  {
   "cell_type": "markdown",
   "metadata": {},
   "source": [
    "- There are 54 missing values in our dataset. \n",
    "- Duplicates are present in the 'education' column. \n",
    "\n",
    "I then knew from the data processing stage when I first viewed the total values count for the columns in the dataset that we have duplicates in the 'education' column. The data in that column was in a case sensitive form and are between capital and lowercase text.\n",
    "\n",
    "I proceeded to convert the 'education' column to lower case and by doing so I can have all the data being the same type. This would make it easier to eliminate the duplicates and have unique rows of data and not duplicates.\n",
    "\n",
    "The overall reason duplicates can be in the data frame is because there could be data entry errors, customer input errors, importing and exporting errors. All these different types of ways we export, import, and collect data could cause duplications. "
   ]
  },
  {
   "cell_type": "markdown",
   "metadata": {},
   "source": [
    "## Categorizing Data<a class=\"anchor\" id=\"section_3\"></a>"
   ]
  },
  {
   "cell_type": "code",
   "execution_count": 40,
   "metadata": {},
   "outputs": [],
   "source": [
    "def category(total_income):\n",
    "    if total_income < 75000:\n",
    "        return 'low'\n",
    "    elif 75000 <= total_income < 125000:\n",
    "        return 'medium'\n",
    "    elif 125000 <= total_income < 170000:\n",
    "        return 'medium'\n",
    "    elif 170000 <= total_income < 250000: # No need do specify this range since the numbers from it are going to \n",
    "                                          # satisfy 'else' condition\n",
    "        return 'high'\n",
    "    else:\n",
    "        return 'high'"
   ]
  },
  {
   "cell_type": "code",
   "execution_count": 41,
   "metadata": {},
   "outputs": [],
   "source": [
    "df['total_income'] = df['total_income'].apply(category)"
   ]
  },
  {
   "cell_type": "code",
   "execution_count": 42,
   "metadata": {
    "scrolled": true
   },
   "outputs": [
    {
     "data": {
      "text/html": [
       "<div>\n",
       "<style scoped>\n",
       "    .dataframe tbody tr th:only-of-type {\n",
       "        vertical-align: middle;\n",
       "    }\n",
       "\n",
       "    .dataframe tbody tr th {\n",
       "        vertical-align: top;\n",
       "    }\n",
       "\n",
       "    .dataframe thead th {\n",
       "        text-align: right;\n",
       "    }\n",
       "</style>\n",
       "<table border=\"1\" class=\"dataframe\">\n",
       "  <thead>\n",
       "    <tr style=\"text-align: right;\">\n",
       "      <th></th>\n",
       "      <th>children</th>\n",
       "      <th>days_employed</th>\n",
       "      <th>dob_years</th>\n",
       "      <th>education</th>\n",
       "      <th>education_id</th>\n",
       "      <th>family_status</th>\n",
       "      <th>family_status_id</th>\n",
       "      <th>gender</th>\n",
       "      <th>income_type</th>\n",
       "      <th>debt</th>\n",
       "      <th>total_income</th>\n",
       "      <th>purpose</th>\n",
       "    </tr>\n",
       "  </thead>\n",
       "  <tbody>\n",
       "    <tr>\n",
       "      <td>0</td>\n",
       "      <td>1</td>\n",
       "      <td>-8437</td>\n",
       "      <td>42</td>\n",
       "      <td>bachelor's degree</td>\n",
       "      <td>0</td>\n",
       "      <td>married</td>\n",
       "      <td>0</td>\n",
       "      <td>F</td>\n",
       "      <td>employee</td>\n",
       "      <td>0</td>\n",
       "      <td>low</td>\n",
       "      <td>purchase of the house</td>\n",
       "    </tr>\n",
       "    <tr>\n",
       "      <td>1</td>\n",
       "      <td>1</td>\n",
       "      <td>-4024</td>\n",
       "      <td>36</td>\n",
       "      <td>secondary education</td>\n",
       "      <td>1</td>\n",
       "      <td>married</td>\n",
       "      <td>0</td>\n",
       "      <td>F</td>\n",
       "      <td>employee</td>\n",
       "      <td>0</td>\n",
       "      <td>low</td>\n",
       "      <td>car purchase</td>\n",
       "    </tr>\n",
       "    <tr>\n",
       "      <td>2</td>\n",
       "      <td>0</td>\n",
       "      <td>-5623</td>\n",
       "      <td>33</td>\n",
       "      <td>secondary education</td>\n",
       "      <td>1</td>\n",
       "      <td>married</td>\n",
       "      <td>0</td>\n",
       "      <td>M</td>\n",
       "      <td>employee</td>\n",
       "      <td>0</td>\n",
       "      <td>low</td>\n",
       "      <td>purchase of the house</td>\n",
       "    </tr>\n",
       "    <tr>\n",
       "      <td>3</td>\n",
       "      <td>3</td>\n",
       "      <td>-4124</td>\n",
       "      <td>32</td>\n",
       "      <td>secondary education</td>\n",
       "      <td>1</td>\n",
       "      <td>married</td>\n",
       "      <td>0</td>\n",
       "      <td>M</td>\n",
       "      <td>employee</td>\n",
       "      <td>0</td>\n",
       "      <td>low</td>\n",
       "      <td>supplementary education</td>\n",
       "    </tr>\n",
       "    <tr>\n",
       "      <td>4</td>\n",
       "      <td>0</td>\n",
       "      <td>340266</td>\n",
       "      <td>53</td>\n",
       "      <td>secondary education</td>\n",
       "      <td>1</td>\n",
       "      <td>civil partnership</td>\n",
       "      <td>1</td>\n",
       "      <td>F</td>\n",
       "      <td>retiree</td>\n",
       "      <td>0</td>\n",
       "      <td>low</td>\n",
       "      <td>to have a wedding</td>\n",
       "    </tr>\n",
       "  </tbody>\n",
       "</table>\n",
       "</div>"
      ],
      "text/plain": [
       "   children  days_employed  dob_years            education  education_id  \\\n",
       "0         1          -8437         42    bachelor's degree             0   \n",
       "1         1          -4024         36  secondary education             1   \n",
       "2         0          -5623         33  secondary education             1   \n",
       "3         3          -4124         32  secondary education             1   \n",
       "4         0         340266         53  secondary education             1   \n",
       "\n",
       "       family_status  family_status_id gender income_type  debt total_income  \\\n",
       "0            married                 0      F    employee     0          low   \n",
       "1            married                 0      F    employee     0          low   \n",
       "2            married                 0      M    employee     0          low   \n",
       "3            married                 0      M    employee     0          low   \n",
       "4  civil partnership                 1      F     retiree     0          low   \n",
       "\n",
       "                   purpose  \n",
       "0    purchase of the house  \n",
       "1             car purchase  \n",
       "2    purchase of the house  \n",
       "3  supplementary education  \n",
       "4        to have a wedding  "
      ]
     },
     "execution_count": 42,
     "metadata": {},
     "output_type": "execute_result"
    }
   ],
   "source": [
    "df.head()"
   ]
  },
  {
   "cell_type": "markdown",
   "metadata": {},
   "source": [
    "### Lemmatization <a class=\"anchor\" id=\"section_3_1\"></a>"
   ]
  },
  {
   "cell_type": "code",
   "execution_count": 43,
   "metadata": {},
   "outputs": [
    {
     "data": {
      "text/plain": [
       "wedding ceremony                            790\n",
       "having a wedding                            764\n",
       "to have a wedding                           761\n",
       "real estate transactions                    674\n",
       "buy commercial real estate                  658\n",
       "buying property for renting out             650\n",
       "housing transactions                        648\n",
       "transactions with commercial real estate    646\n",
       "purchase of the house                       643\n",
       "housing                                     642\n",
       "purchase of the house for my family         637\n",
       "property                                    632\n",
       "construction of own property                629\n",
       "transactions with my real estate            626\n",
       "building a real estate                      623\n",
       "purchase of my own house                    620\n",
       "building a property                         619\n",
       "buy real estate                             618\n",
       "housing renovation                          605\n",
       "buy residential real estate                 604\n",
       "buying my own car                           505\n",
       "going to university                         496\n",
       "car                                         493\n",
       "second-hand car purchase                    482\n",
       "cars                                        477\n",
       "to own a car                                475\n",
       "buying a second-hand car                    472\n",
       "to buy a car                                470\n",
       "car purchase                                461\n",
       "supplementary education                     457\n",
       "purchase of a car                           455\n",
       "university education                        447\n",
       "to get a supplementary education            445\n",
       "education                                   445\n",
       "getting an education                        441\n",
       "profile education                           434\n",
       "getting higher education                    425\n",
       "to become educated                          408\n",
       "Name: purpose, dtype: int64"
      ]
     },
     "execution_count": 43,
     "metadata": {},
     "output_type": "execute_result"
    }
   ],
   "source": [
    "#checking purpose column counts\n",
    "df['purpose'].value_counts()"
   ]
  },
  {
   "cell_type": "code",
   "execution_count": 44,
   "metadata": {},
   "outputs": [],
   "source": [
    "#doing Lemmatization for purpose column\n",
    "\n",
    "wordnet_lemmma = WordNetLemmatizer()\n",
    "\n",
    "for word in df['purpose']:\n",
    "    words = nltk.word_tokenize(word)\n",
    "    if 'wedding' in words:\n",
    "        df['purpose'].replace(word,'wedding',inplace=True)\n",
    "        \n",
    "    if 'car' in words or 'cars' in words:\n",
    "        df['purpose'].replace(word,'car',inplace=True)\n",
    "        \n",
    "    if 'housing' in words or 'estate' in words or 'house' in words or 'property' in words:\n",
    "        df['purpose'].replace(word,'real estate',inplace=True)\n",
    "        \n",
    "    if 'university' in words or 'education' in words or 'educated' in words:\n",
    "        df['purpose'].replace(word, 'education',inplace=True)\n"
   ]
  },
  {
   "cell_type": "code",
   "execution_count": 45,
   "metadata": {
    "scrolled": true
   },
   "outputs": [
    {
     "data": {
      "text/plain": [
       "real estate    10774\n",
       "car             4290\n",
       "education       3998\n",
       "wedding         2315\n",
       "Name: purpose, dtype: int64"
      ]
     },
     "execution_count": 45,
     "metadata": {},
     "output_type": "execute_result"
    }
   ],
   "source": [
    "#checking total count after lemmatization\n",
    "df['purpose'].value_counts()"
   ]
  },
  {
   "cell_type": "markdown",
   "metadata": {},
   "source": [
    "### Conclusion<a class=\"anchor\" id=\"section_3_2\"></a>"
   ]
  },
  {
   "cell_type": "markdown",
   "metadata": {},
   "source": [
    "With the data processing step, I noticed there were multiple types of categorical data in the 'purpose' column. To make sure there was a small amount of unique categorical categories and not full texts. I used Lemmatization to organize the categorical data. Lemmatization is a Natural Language Processor(NLP), which is used to grouping together different changes of forms of a word so that they can be analyzed as a single item and not multiple ones.\n",
    "\n",
    "When implementing lemmatization in for our 'purpose' column, which is meant to ask the user for bank loan what their purpose of a loan is. There were many variations of full text indicating that in that people took out a loan for buying cars, having a wedding, going to get an education, and buying real estate. I shortened these full text to a car, wedding, real estate, and wedding. By doing so I was able to eliminate multiple lines of code and organizing data by relevant categories.\n",
    "\n",
    "Also, I made the 'total_income' into 3 categories which will be easier to interpret and these 3 categories are high income, medium income, and low income. "
   ]
  },
  {
   "cell_type": "markdown",
   "metadata": {},
   "source": [
    "## Answer these questions<a class=\"anchor\" id=\"section_4\"></a>"
   ]
  },
  {
   "cell_type": "markdown",
   "metadata": {},
   "source": [
    "- Is there a relation between having kids and repaying a loan on time?"
   ]
  },
  {
   "cell_type": "code",
   "execution_count": 46,
   "metadata": {
    "scrolled": true
   },
   "outputs": [
    {
     "data": {
      "text/html": [
       "<div>\n",
       "<style scoped>\n",
       "    .dataframe tbody tr th:only-of-type {\n",
       "        vertical-align: middle;\n",
       "    }\n",
       "\n",
       "    .dataframe tbody tr th {\n",
       "        vertical-align: top;\n",
       "    }\n",
       "\n",
       "    .dataframe thead th {\n",
       "        text-align: right;\n",
       "    }\n",
       "</style>\n",
       "<table border=\"1\" class=\"dataframe\">\n",
       "  <thead>\n",
       "    <tr style=\"text-align: right;\">\n",
       "      <th></th>\n",
       "      <th>debt</th>\n",
       "    </tr>\n",
       "    <tr>\n",
       "      <th>children</th>\n",
       "      <th></th>\n",
       "    </tr>\n",
       "  </thead>\n",
       "  <tbody>\n",
       "    <tr>\n",
       "      <td>0</td>\n",
       "      <td>0.075444</td>\n",
       "    </tr>\n",
       "    <tr>\n",
       "      <td>1</td>\n",
       "      <td>0.091658</td>\n",
       "    </tr>\n",
       "    <tr>\n",
       "      <td>2</td>\n",
       "      <td>0.094542</td>\n",
       "    </tr>\n",
       "    <tr>\n",
       "      <td>3</td>\n",
       "      <td>0.081818</td>\n",
       "    </tr>\n",
       "    <tr>\n",
       "      <td>4</td>\n",
       "      <td>0.097561</td>\n",
       "    </tr>\n",
       "    <tr>\n",
       "      <td>5</td>\n",
       "      <td>0.000000</td>\n",
       "    </tr>\n",
       "  </tbody>\n",
       "</table>\n",
       "</div>"
      ],
      "text/plain": [
       "              debt\n",
       "children          \n",
       "0         0.075444\n",
       "1         0.091658\n",
       "2         0.094542\n",
       "3         0.081818\n",
       "4         0.097561\n",
       "5         0.000000"
      ]
     },
     "execution_count": 46,
     "metadata": {},
     "output_type": "execute_result"
    }
   ],
   "source": [
    "#pivot table\n",
    "pd.pivot_table(df,index = 'children',values=[\"debt\"], aggfunc = 'mean')"
   ]
  },
  {
   "cell_type": "code",
   "execution_count": 47,
   "metadata": {},
   "outputs": [
    {
     "data": {
      "text/plain": [
       "Text(0.5, 1.0, 'Children Vs. Debt')"
      ]
     },
     "execution_count": 47,
     "metadata": {},
     "output_type": "execute_result"
    },
    {
     "data": {
      "image/png": "[encoded data removed]",
      "text/plain": [
       "<Figure size 432x288 with 1 Axes>"
      ]
     },
     "metadata": {
      "needs_background": "light"
     },
     "output_type": "display_data"
    }
   ],
   "source": [
    "pd.pivot_table(df,index = 'children',values=[\"debt\"], aggfunc = 'mean').plot(kind= 'bar')\n",
    "plt.xlabel('children') \n",
    "plt.ylabel('debt') \n",
    "  \n",
    "# displaying the title\n",
    "plt.title(\"Children Vs. Debt\")"
   ]
  },
  {
   "cell_type": "code",
   "execution_count": 48,
   "metadata": {},
   "outputs": [
    {
     "data": {
      "text/html": [
       "<div>\n",
       "<style scoped>\n",
       "    .dataframe tbody tr th:only-of-type {\n",
       "        vertical-align: middle;\n",
       "    }\n",
       "\n",
       "    .dataframe tbody tr th {\n",
       "        vertical-align: top;\n",
       "    }\n",
       "\n",
       "    .dataframe thead th {\n",
       "        text-align: right;\n",
       "    }\n",
       "</style>\n",
       "<table border=\"1\" class=\"dataframe\">\n",
       "  <thead>\n",
       "    <tr style=\"text-align: right;\">\n",
       "      <th></th>\n",
       "      <th>children</th>\n",
       "      <th>debt</th>\n",
       "    </tr>\n",
       "  </thead>\n",
       "  <tbody>\n",
       "    <tr>\n",
       "      <td>children</td>\n",
       "      <td>1.000000</td>\n",
       "      <td>0.028099</td>\n",
       "    </tr>\n",
       "    <tr>\n",
       "      <td>debt</td>\n",
       "      <td>0.028099</td>\n",
       "      <td>1.000000</td>\n",
       "    </tr>\n",
       "  </tbody>\n",
       "</table>\n",
       "</div>"
      ],
      "text/plain": [
       "          children      debt\n",
       "children  1.000000  0.028099\n",
       "debt      0.028099  1.000000"
      ]
     },
     "execution_count": 48,
     "metadata": {},
     "output_type": "execute_result"
    }
   ],
   "source": [
    "#checking the corrlation matrix  \n",
    "#df['children'].corr(df['debt']) # another way to do so\n",
    "df[['children', 'debt']].corr(method='spearman')"
   ]
  },
  {
   "cell_type": "markdown",
   "metadata": {},
   "source": [
    "### Conclusion<a class=\"anchor\" id=\"section_4_\"></a>"
   ]
  },
  {
   "cell_type": "markdown",
   "metadata": {},
   "source": [
    "People with children and without children seem to both show a relatively large amount of debt. It is shown that people with children such and 1 and 2 kids have a bit more debt overall compared to people with 0 and 3 children. In addition, people with 4 children seem to show have the most debt and are more likely not able to pay their loan back. More generally speaking children cost a lot of money and they will cause you to spend which will result in debt. It is also shown that people with 5 children don't seem to show any debt at all, and this may be because most people dont have 5 kids and if they do its a very small amount. These small amounts are between the average of 1-2 and max 4.\n",
    "\n",
    "In addition, the correlation matrix table showcase how there is only a 2 percent chance there is a positive correlation between having kids and repaying loans on time. "
   ]
  },
  {
   "cell_type": "markdown",
   "metadata": {},
   "source": [
    "- Is there a relation between marital status and repaying a loan on time?"
   ]
  },
  {
   "cell_type": "code",
   "execution_count": 49,
   "metadata": {
    "scrolled": true
   },
   "outputs": [
    {
     "data": {
      "text/html": [
       "<div>\n",
       "<style scoped>\n",
       "    .dataframe tbody tr th:only-of-type {\n",
       "        vertical-align: middle;\n",
       "    }\n",
       "\n",
       "    .dataframe tbody tr th {\n",
       "        vertical-align: top;\n",
       "    }\n",
       "\n",
       "    .dataframe thead th {\n",
       "        text-align: right;\n",
       "    }\n",
       "</style>\n",
       "<table border=\"1\" class=\"dataframe\">\n",
       "  <thead>\n",
       "    <tr style=\"text-align: right;\">\n",
       "      <th></th>\n",
       "      <th>debt</th>\n",
       "    </tr>\n",
       "    <tr>\n",
       "      <th>family_status</th>\n",
       "      <th></th>\n",
       "    </tr>\n",
       "  </thead>\n",
       "  <tbody>\n",
       "    <tr>\n",
       "      <td>civil partnership</td>\n",
       "      <td>0.093040</td>\n",
       "    </tr>\n",
       "    <tr>\n",
       "      <td>divorced</td>\n",
       "      <td>0.070411</td>\n",
       "    </tr>\n",
       "    <tr>\n",
       "      <td>married</td>\n",
       "      <td>0.075509</td>\n",
       "    </tr>\n",
       "    <tr>\n",
       "      <td>unmarried</td>\n",
       "      <td>0.097465</td>\n",
       "    </tr>\n",
       "    <tr>\n",
       "      <td>widow / widower</td>\n",
       "      <td>0.065969</td>\n",
       "    </tr>\n",
       "  </tbody>\n",
       "</table>\n",
       "</div>"
      ],
      "text/plain": [
       "                       debt\n",
       "family_status              \n",
       "civil partnership  0.093040\n",
       "divorced           0.070411\n",
       "married            0.075509\n",
       "unmarried          0.097465\n",
       "widow / widower    0.065969"
      ]
     },
     "execution_count": 49,
     "metadata": {},
     "output_type": "execute_result"
    }
   ],
   "source": [
    "#pivot table\n",
    "pd.pivot_table(df,index = 'family_status',values=[\"debt\"],aggfunc = 'mean')"
   ]
  },
  {
   "cell_type": "code",
   "execution_count": 50,
   "metadata": {},
   "outputs": [
    {
     "data": {
      "text/plain": [
       "Text(0.5, 1.0, 'Family status Vs. Debt')"
      ]
     },
     "execution_count": 50,
     "metadata": {},
     "output_type": "execute_result"
    },
    {
     "data": {
      "image/png": "[encoded data removed]",
      "text/plain": [
       "<Figure size 432x288 with 1 Axes>"
      ]
     },
     "metadata": {
      "needs_background": "light"
     },
     "output_type": "display_data"
    }
   ],
   "source": [
    "pd.pivot_table(df,index = 'family_status',values=[\"debt\"], aggfunc = 'mean').plot(kind= 'bar')\n",
    "plt.xlabel('family status') \n",
    "plt.ylabel('debt') \n",
    "  \n",
    "# displaying the title\n",
    "plt.title(\"Family status Vs. Debt\")"
   ]
  },
  {
   "cell_type": "markdown",
   "metadata": {},
   "source": [
    "### Conclusion<a class=\"anchor\" id=\"section_4_2\"></a>"
   ]
  },
  {
   "cell_type": "markdown",
   "metadata": {},
   "source": [
    "The relationship between the different marital status and repaying the loan on time shows that all four marriage categories all have loans debts in a relatively high range. But it is the 'unmarried' column which showcases the most debt compared to the other categories followed by 'civil partnership', 'married', ''divorced and 'widowed'. People who are widowers show they are most likely to pay their loans back compared to all other categories. \n",
    "\n",
    "The correlation matrix shows there is a 2 percent chance of a positive relationship between family status and debt. "
   ]
  },
  {
   "cell_type": "markdown",
   "metadata": {},
   "source": [
    "- Is there a relation between income level and repaying a loan on time?"
   ]
  },
  {
   "cell_type": "code",
   "execution_count": 51,
   "metadata": {},
   "outputs": [
    {
     "data": {
      "text/html": [
       "<div>\n",
       "<style scoped>\n",
       "    .dataframe tbody tr th:only-of-type {\n",
       "        vertical-align: middle;\n",
       "    }\n",
       "\n",
       "    .dataframe tbody tr th {\n",
       "        vertical-align: top;\n",
       "    }\n",
       "\n",
       "    .dataframe thead th {\n",
       "        text-align: right;\n",
       "    }\n",
       "</style>\n",
       "<table border=\"1\" class=\"dataframe\">\n",
       "  <thead>\n",
       "    <tr style=\"text-align: right;\">\n",
       "      <th></th>\n",
       "      <th>debt</th>\n",
       "    </tr>\n",
       "    <tr>\n",
       "      <th>total_income</th>\n",
       "      <th></th>\n",
       "    </tr>\n",
       "  </thead>\n",
       "  <tbody>\n",
       "    <tr>\n",
       "      <td>high</td>\n",
       "      <td>0.050000</td>\n",
       "    </tr>\n",
       "    <tr>\n",
       "      <td>low</td>\n",
       "      <td>0.081417</td>\n",
       "    </tr>\n",
       "    <tr>\n",
       "      <td>medium</td>\n",
       "      <td>0.055970</td>\n",
       "    </tr>\n",
       "  </tbody>\n",
       "</table>\n",
       "</div>"
      ],
      "text/plain": [
       "                  debt\n",
       "total_income          \n",
       "high          0.050000\n",
       "low           0.081417\n",
       "medium        0.055970"
      ]
     },
     "execution_count": 51,
     "metadata": {},
     "output_type": "execute_result"
    }
   ],
   "source": [
    "#pivot table\n",
    "pd.pivot_table(df,index = 'total_income',values=[\"debt\"], aggfunc = 'mean')"
   ]
  },
  {
   "cell_type": "code",
   "execution_count": 52,
   "metadata": {},
   "outputs": [
    {
     "data": {
      "text/plain": [
       "Text(0.5, 1.0, 'total income Vs. Debt')"
      ]
     },
     "execution_count": 52,
     "metadata": {},
     "output_type": "execute_result"
    },
    {
     "data": {
      "image/png": "[encoded data removed]",
      "text/plain": [
       "<Figure size 432x288 with 1 Axes>"
      ]
     },
     "metadata": {
      "needs_background": "light"
     },
     "output_type": "display_data"
    }
   ],
   "source": [
    "#pivot table\n",
    "pd.pivot_table(df,index = 'total_income',values=[\"debt\"]).plot(kind= 'bar')\n",
    "# scatter plot\n",
    "#df.plot.scatter(x = 'total_income', y = 'debt')\n",
    "plt.title (\"total income Vs. Debt\")"
   ]
  },
  {
   "cell_type": "markdown",
   "metadata": {},
   "source": [
    "### Conclusion<a class=\"anchor\" id=\"section_4_3\"></a>"
   ]
  },
  {
   "cell_type": "markdown",
   "metadata": {},
   "source": [
    "Low income seems to be the one that has the most debt, which is followed by medium income and high income last. People with higher income are more likely to pay there loans back."
   ]
  },
  {
   "cell_type": "markdown",
   "metadata": {},
   "source": [
    "- How do different loan purposes affect on-time repayment of the loan?"
   ]
  },
  {
   "cell_type": "code",
   "execution_count": 53,
   "metadata": {
    "scrolled": true
   },
   "outputs": [
    {
     "data": {
      "text/html": [
       "<div>\n",
       "<style scoped>\n",
       "    .dataframe tbody tr th:only-of-type {\n",
       "        vertical-align: middle;\n",
       "    }\n",
       "\n",
       "    .dataframe tbody tr th {\n",
       "        vertical-align: top;\n",
       "    }\n",
       "\n",
       "    .dataframe thead th {\n",
       "        text-align: right;\n",
       "    }\n",
       "</style>\n",
       "<table border=\"1\" class=\"dataframe\">\n",
       "  <thead>\n",
       "    <tr style=\"text-align: right;\">\n",
       "      <th></th>\n",
       "      <th>debt</th>\n",
       "    </tr>\n",
       "    <tr>\n",
       "      <th>purpose</th>\n",
       "      <th></th>\n",
       "    </tr>\n",
       "  </thead>\n",
       "  <tbody>\n",
       "    <tr>\n",
       "      <td>car</td>\n",
       "      <td>0.093473</td>\n",
       "    </tr>\n",
       "    <tr>\n",
       "      <td>education</td>\n",
       "      <td>0.092296</td>\n",
       "    </tr>\n",
       "    <tr>\n",
       "      <td>real estate</td>\n",
       "      <td>0.072397</td>\n",
       "    </tr>\n",
       "    <tr>\n",
       "      <td>wedding</td>\n",
       "      <td>0.079050</td>\n",
       "    </tr>\n",
       "  </tbody>\n",
       "</table>\n",
       "</div>"
      ],
      "text/plain": [
       "                 debt\n",
       "purpose              \n",
       "car          0.093473\n",
       "education    0.092296\n",
       "real estate  0.072397\n",
       "wedding      0.079050"
      ]
     },
     "execution_count": 53,
     "metadata": {},
     "output_type": "execute_result"
    }
   ],
   "source": [
    "#pivot table\n",
    "pd.pivot_table(df,index = 'purpose',values=[\"debt\"])"
   ]
  },
  {
   "cell_type": "code",
   "execution_count": 54,
   "metadata": {},
   "outputs": [
    {
     "data": {
      "text/plain": [
       "<matplotlib.axes._subplots.AxesSubplot at 0x7f84c380ae10>"
      ]
     },
     "execution_count": 54,
     "metadata": {},
     "output_type": "execute_result"
    },
    {
     "data": {
      "image/png": "[encoded data removed]",
      "text/plain": [
       "<Figure size 432x288 with 1 Axes>"
      ]
     },
     "metadata": {
      "needs_background": "light"
     },
     "output_type": "display_data"
    }
   ],
   "source": [
    "pd.pivot_table(df,index = 'purpose',values=[\"debt\"]).plot(kind= 'bar')"
   ]
  },
  {
   "cell_type": "markdown",
   "metadata": {},
   "source": [
    "### Conclusion<a class=\"anchor\" id=\"section_4_4\"></a>"
   ]
  },
  {
   "cell_type": "markdown",
   "metadata": {},
   "source": [
    "People with a purpose of having a car, education which is followed closely by weddings seem to be more debt than buying real estate. Education and car being the main factors for people not repaying their loan on time, and people who take out a loan for real estate will more likely repay their loan on time compared to the other categories. "
   ]
  },
  {
   "cell_type": "markdown",
   "metadata": {},
   "source": [
    "## General conclusion<a class=\"anchor\" id=\"section_5\"></a>"
   ]
  },
  {
   "cell_type": "markdown",
   "metadata": {},
   "source": [
    "For this dataset, we have been able to preprocess the data and clean it for the client, removed duplicates, and categorized the data for them. In addition, there were analysis made for the client based on the column 'purpose', 'total_income', 'children', and 'family_status' against 'debt'. From that analysis, we were able to help the client learn how debt affected this column and if there was a relationship between them.\n",
    "\n",
    "From the analysis:\n",
    "- People with more children seem to have more debt and are more likely to not repay their loans. This being people with even 1,2, 4 children will have a hard time paying back there loans then people with 0.\n",
    "- People who are low income are most likely not going to pay there loan back on time compared to people with high incoem and middle income. \n",
    "- For marriage status and loan repayment. People who are unmarried and have civil partnerships are more likely to not pay back and default their loan and people who are in a civil partnership exceeds most loans compared to widowed, and divorced. The widows being more likely to pay back there loans.\n",
    "- The purpose column shows how people who buy a car and want a loan for education will have more debt and are more likely to default on loan repayment then compared to people who have a real restate which will repay there loan on time."
   ]
  },
  {
   "cell_type": "markdown",
   "metadata": {},
   "source": [
    "# Project Readiness Checklist\n",
    "\n",
    "Put 'x' in the completed points. Then press Shift + Enter."
   ]
  },
  {
   "cell_type": "markdown",
   "metadata": {},
   "source": [
    "- [x]  file open;\n",
    "- [x]  file examined;\n",
    "- [x]  missing values defined;\n",
    "- [x]  missing values are filled;\n",
    "- [x]  an explanation of which missing value types were detected;\n",
    "- [x]  explanation for the possible causes of missing values;\n",
    "- [x]  an explanation of how the blanks are filled;\n",
    "- [x]  replaced the real data type with an integer;\n",
    "- [x]  an explanation of which method is used to change the data type and why;\n",
    "- [x]  duplicates deleted;\n",
    "- [x]  an explanation of which method is used to find and remove duplicates;\n",
    "- [x]  description of the possible reasons for the appearance of duplicates in the data;\n",
    "- [x]  data is categorized;\n",
    "- [x]  an explanation of the principle of data categorization;\n",
    "- [x]  an answer to the question \"Is there a relation between having kids and repaying a loan on time?\";\n",
    "- [x]  an answer to the question \" Is there a relation between marital status and repaying a loan on time?\";\n",
    "- [x]   an answer to the question \" Is there a relation between income level and repaying a loan on time?\";\n",
    "- [x]  an answer to the question \" How do different loan purposes affect on-time repayment of the loan?\"\n",
    "- [x]  conclusions are present on each stage;\n",
    "- [x]  a general conclusion is made."
   ]
  }
 ],
 "metadata": {
  "ExecuteTimeLog": [
   {
    "duration": 803,
    "start_time": "2021-09-10T01:58:56.973Z"
   },
   {
    "duration": 60,
    "start_time": "2021-09-10T01:59:00.355Z"
   },
   {
    "duration": 28,
    "start_time": "2021-09-10T02:00:08.490Z"
   },
   {
    "duration": 17,
    "start_time": "2021-09-10T02:00:17.053Z"
   },
   {
    "duration": 17,
    "start_time": "2021-09-10T03:12:14.222Z"
   },
   {
    "duration": 14,
    "start_time": "2021-09-10T03:12:29.404Z"
   },
   {
    "duration": 19,
    "start_time": "2021-09-10T03:30:25.207Z"
   },
   {
    "duration": 17,
    "start_time": "2021-09-10T03:30:33.257Z"
   },
   {
    "duration": 14,
    "start_time": "2021-09-10T03:42:33.274Z"
   },
   {
    "duration": 460,
    "start_time": "2021-09-10T03:43:43.613Z"
   },
   {
    "duration": 12,
    "start_time": "2021-09-10T03:44:02.177Z"
   },
   {
    "duration": 393,
    "start_time": "2021-09-10T04:14:47.845Z"
   },
   {
    "duration": 74,
    "start_time": "2021-09-10T04:14:58.508Z"
   },
   {
    "duration": 4711,
    "start_time": "2021-09-10T04:15:15.623Z"
   },
   {
    "duration": 382,
    "start_time": "2021-09-10T04:18:49.487Z"
   },
   {
    "duration": 47,
    "start_time": "2021-09-10T04:22:42.307Z"
   },
   {
    "duration": 69,
    "start_time": "2021-09-10T04:23:49.165Z"
   },
   {
    "duration": 46,
    "start_time": "2021-09-10T04:25:30.824Z"
   },
   {
    "duration": 421,
    "start_time": "2021-09-10T04:43:32.934Z"
   },
   {
    "duration": 5,
    "start_time": "2021-09-10T04:43:56.605Z"
   },
   {
    "duration": 393,
    "start_time": "2021-09-10T04:44:02.462Z"
   },
   {
    "duration": 390,
    "start_time": "2021-09-10T04:44:09.230Z"
   },
   {
    "duration": 396,
    "start_time": "2021-09-10T04:44:35.037Z"
   },
   {
    "duration": 382,
    "start_time": "2021-09-10T04:46:01.473Z"
   },
   {
    "duration": 404,
    "start_time": "2021-09-10T04:46:05.642Z"
   },
   {
    "duration": 402,
    "start_time": "2021-09-10T04:46:13.223Z"
   },
   {
    "duration": 401,
    "start_time": "2021-09-10T04:46:48.354Z"
   },
   {
    "duration": 384,
    "start_time": "2021-09-10T04:53:58.538Z"
   },
   {
    "duration": 381,
    "start_time": "2021-09-10T04:58:02.266Z"
   },
   {
    "duration": 355,
    "start_time": "2021-09-10T04:58:07.694Z"
   },
   {
    "duration": 3,
    "start_time": "2021-09-10T04:58:12.331Z"
   },
   {
    "duration": 57,
    "start_time": "2021-09-10T04:58:13.849Z"
   },
   {
    "duration": 14,
    "start_time": "2021-09-10T04:58:16.906Z"
   },
   {
    "duration": 13,
    "start_time": "2021-09-10T04:58:19.371Z"
   },
   {
    "duration": 67,
    "start_time": "2021-09-10T04:58:21.381Z"
   },
   {
    "duration": 4587,
    "start_time": "2021-09-10T04:58:23.820Z"
   },
   {
    "duration": 48,
    "start_time": "2021-09-10T04:58:28.410Z"
   },
   {
    "duration": 6,
    "start_time": "2021-09-10T04:58:31.577Z"
   },
   {
    "duration": 17,
    "start_time": "2021-09-10T04:58:44.543Z"
   },
   {
    "duration": 12,
    "start_time": "2021-09-10T04:58:51.768Z"
   },
   {
    "duration": 17,
    "start_time": "2021-09-10T04:59:09.993Z"
   },
   {
    "duration": 34,
    "start_time": "2021-09-10T04:59:31.190Z"
   },
   {
    "duration": 831,
    "start_time": "2021-09-10T04:59:45.267Z"
   },
   {
    "duration": 60,
    "start_time": "2021-09-10T04:59:48.025Z"
   },
   {
    "duration": 29,
    "start_time": "2021-09-10T04:59:49.709Z"
   },
   {
    "duration": 16,
    "start_time": "2021-09-10T05:00:03.377Z"
   },
   {
    "duration": 13,
    "start_time": "2021-09-10T05:00:11.916Z"
   },
   {
    "duration": 70,
    "start_time": "2021-09-10T05:00:20.843Z"
   },
   {
    "duration": 4783,
    "start_time": "2021-09-10T05:00:23.685Z"
   },
   {
    "duration": 60,
    "start_time": "2021-09-10T05:00:28.470Z"
   },
   {
    "duration": 32,
    "start_time": "2021-09-10T05:00:32.030Z"
   },
   {
    "duration": 8,
    "start_time": "2021-09-10T05:00:53.005Z"
   },
   {
    "duration": 17,
    "start_time": "2021-09-10T05:00:55.461Z"
   },
   {
    "duration": 470,
    "start_time": "2021-09-10T05:01:36.879Z"
   },
   {
    "duration": 376,
    "start_time": "2021-09-10T05:01:43.514Z"
   },
   {
    "duration": 7,
    "start_time": "2021-09-10T05:01:49.424Z"
   },
   {
    "duration": 9,
    "start_time": "2021-09-10T05:01:53.490Z"
   },
   {
    "duration": 395,
    "start_time": "2021-09-10T05:02:01.524Z"
   },
   {
    "duration": 415,
    "start_time": "2021-09-10T05:02:05.408Z"
   },
   {
    "duration": 9,
    "start_time": "2021-09-10T05:02:24.843Z"
   },
   {
    "duration": 14,
    "start_time": "2021-09-10T05:03:14.801Z"
   },
   {
    "duration": 9,
    "start_time": "2021-09-10T05:03:22.922Z"
   },
   {
    "duration": 10,
    "start_time": "2021-09-10T05:03:34.546Z"
   },
   {
    "duration": 997,
    "start_time": "2021-09-10T05:36:05.443Z"
   },
   {
    "duration": 25,
    "start_time": "2021-09-10T05:36:26.688Z"
   },
   {
    "duration": 402,
    "start_time": "2021-09-10T05:54:16.622Z"
   },
   {
    "duration": 420,
    "start_time": "2021-09-10T05:54:30.047Z"
   },
   {
    "duration": 6,
    "start_time": "2021-09-10T05:54:33.032Z"
   },
   {
    "duration": 14,
    "start_time": "2021-09-10T05:56:32.585Z"
   },
   {
    "duration": 14,
    "start_time": "2021-09-10T05:56:40.882Z"
   },
   {
    "duration": 15,
    "start_time": "2021-09-10T05:56:43.914Z"
   },
   {
    "duration": 13,
    "start_time": "2021-09-10T05:56:49.760Z"
   },
   {
    "duration": 11,
    "start_time": "2021-09-10T05:57:05.812Z"
   },
   {
    "duration": 469,
    "start_time": "2021-09-10T05:57:12.091Z"
   },
   {
    "duration": 750,
    "start_time": "2021-09-10T05:57:20.348Z"
   },
   {
    "duration": 60,
    "start_time": "2021-09-10T05:57:21.100Z"
   },
   {
    "duration": 27,
    "start_time": "2021-09-10T05:57:21.163Z"
   },
   {
    "duration": 35,
    "start_time": "2021-09-10T05:57:21.193Z"
   },
   {
    "duration": 12,
    "start_time": "2021-09-10T05:57:21.231Z"
   },
   {
    "duration": 26,
    "start_time": "2021-09-10T05:57:21.245Z"
   },
   {
    "duration": 96,
    "start_time": "2021-09-10T05:57:21.274Z"
   },
   {
    "duration": 4617,
    "start_time": "2021-09-10T05:57:21.374Z"
   },
   {
    "duration": 57,
    "start_time": "2021-09-10T05:57:25.994Z"
   },
   {
    "duration": 7,
    "start_time": "2021-09-10T05:57:26.054Z"
   },
   {
    "duration": 16,
    "start_time": "2021-09-10T05:57:26.063Z"
   },
   {
    "duration": 39,
    "start_time": "2021-09-10T05:57:26.082Z"
   },
   {
    "duration": 13,
    "start_time": "2021-09-10T05:57:26.124Z"
   },
   {
    "duration": 478,
    "start_time": "2021-09-10T05:57:26.140Z"
   },
   {
    "duration": -111,
    "start_time": "2021-09-10T05:57:26.731Z"
   },
   {
    "duration": 18,
    "start_time": "2021-09-10T05:57:37.546Z"
   },
   {
    "duration": 16,
    "start_time": "2021-09-10T05:57:48.601Z"
   },
   {
    "duration": 17,
    "start_time": "2021-09-10T05:57:51.082Z"
   },
   {
    "duration": 9,
    "start_time": "2021-09-10T06:02:06.641Z"
   },
   {
    "duration": 6,
    "start_time": "2021-09-10T06:02:24.008Z"
   },
   {
    "duration": 18,
    "start_time": "2021-09-10T06:02:28.374Z"
   },
   {
    "duration": 694,
    "start_time": "2021-09-10T17:50:09.963Z"
   },
   {
    "duration": 56,
    "start_time": "2021-09-10T17:50:12.562Z"
   },
   {
    "duration": 27,
    "start_time": "2021-09-10T17:50:14.073Z"
   },
   {
    "duration": 15,
    "start_time": "2021-09-10T17:50:17.534Z"
   },
   {
    "duration": 13,
    "start_time": "2021-09-10T17:50:20.366Z"
   },
   {
    "duration": 23,
    "start_time": "2021-09-10T17:50:22.556Z"
   },
   {
    "duration": 47,
    "start_time": "2021-09-10T17:50:30.247Z"
   },
   {
    "duration": 7,
    "start_time": "2021-09-10T17:50:38.689Z"
   },
   {
    "duration": 5,
    "start_time": "2021-09-10T17:50:41.757Z"
   },
   {
    "duration": 16,
    "start_time": "2021-09-10T17:50:47.708Z"
   },
   {
    "duration": 14,
    "start_time": "2021-09-10T17:51:04.420Z"
   },
   {
    "duration": 40,
    "start_time": "2021-09-10T17:54:45.975Z"
   },
   {
    "duration": 20,
    "start_time": "2021-09-10T17:57:39.685Z"
   },
   {
    "duration": 26,
    "start_time": "2021-09-10T17:57:53.403Z"
   },
   {
    "duration": 708,
    "start_time": "2021-09-10T17:59:09.285Z"
   },
   {
    "duration": 56,
    "start_time": "2021-09-10T17:59:12.007Z"
   },
   {
    "duration": 30,
    "start_time": "2021-09-10T17:59:14.774Z"
   },
   {
    "duration": 21,
    "start_time": "2021-09-10T17:59:23.432Z"
   },
   {
    "duration": 15,
    "start_time": "2021-09-10T17:59:30.407Z"
   },
   {
    "duration": 13,
    "start_time": "2021-09-10T17:59:36.283Z"
   },
   {
    "duration": 21,
    "start_time": "2021-09-10T17:59:38.655Z"
   },
   {
    "duration": 46,
    "start_time": "2021-09-10T17:59:43.394Z"
   },
   {
    "duration": 40,
    "start_time": "2021-09-10T17:59:47.238Z"
   },
   {
    "duration": 13,
    "start_time": "2021-09-10T18:00:07.355Z"
   },
   {
    "duration": 13,
    "start_time": "2021-09-10T18:00:50.267Z"
   },
   {
    "duration": 28,
    "start_time": "2021-09-10T18:01:14.549Z"
   },
   {
    "duration": 31,
    "start_time": "2021-09-10T18:01:43.649Z"
   },
   {
    "duration": 14,
    "start_time": "2021-09-10T18:01:58.343Z"
   },
   {
    "duration": 8,
    "start_time": "2021-09-10T18:02:15.290Z"
   },
   {
    "duration": 8,
    "start_time": "2021-09-10T18:02:28.781Z"
   },
   {
    "duration": 14,
    "start_time": "2021-09-10T18:02:34.939Z"
   },
   {
    "duration": 10,
    "start_time": "2021-09-10T18:02:40.179Z"
   },
   {
    "duration": 9,
    "start_time": "2021-09-10T18:03:08.897Z"
   },
   {
    "duration": 16,
    "start_time": "2021-09-10T18:03:11.202Z"
   },
   {
    "duration": 18,
    "start_time": "2021-09-10T18:03:12.677Z"
   },
   {
    "duration": 9,
    "start_time": "2021-09-10T18:03:15.238Z"
   },
   {
    "duration": 6,
    "start_time": "2021-09-10T18:03:22.027Z"
   },
   {
    "duration": 15,
    "start_time": "2021-09-10T18:03:24.798Z"
   },
   {
    "duration": 17,
    "start_time": "2021-09-10T18:03:28.519Z"
   },
   {
    "duration": 8,
    "start_time": "2021-09-10T18:03:31.796Z"
   },
   {
    "duration": 686,
    "start_time": "2021-09-10T18:03:45.413Z"
   },
   {
    "duration": 54,
    "start_time": "2021-09-10T18:03:47.224Z"
   },
   {
    "duration": 32,
    "start_time": "2021-09-10T18:03:49.364Z"
   },
   {
    "duration": 15,
    "start_time": "2021-09-10T18:03:52.692Z"
   },
   {
    "duration": 13,
    "start_time": "2021-09-10T18:03:55.188Z"
   },
   {
    "duration": 23,
    "start_time": "2021-09-10T18:03:57.797Z"
   },
   {
    "duration": 7,
    "start_time": "2021-09-10T18:18:47.212Z"
   },
   {
    "duration": 15,
    "start_time": "2021-09-10T18:18:50.722Z"
   },
   {
    "duration": 9,
    "start_time": "2021-09-10T18:18:55.398Z"
   },
   {
    "duration": 29,
    "start_time": "2021-09-10T18:18:58.707Z"
   },
   {
    "duration": 39,
    "start_time": "2021-09-10T18:19:02.766Z"
   },
   {
    "duration": 30,
    "start_time": "2021-09-10T18:19:05.957Z"
   },
   {
    "duration": 7,
    "start_time": "2021-09-10T18:19:08.118Z"
   },
   {
    "duration": 15,
    "start_time": "2021-09-10T18:19:09.744Z"
   },
   {
    "duration": 24,
    "start_time": "2021-09-10T18:19:11.849Z"
   },
   {
    "duration": 14,
    "start_time": "2021-09-10T18:19:14.180Z"
   },
   {
    "duration": 17,
    "start_time": "2021-09-10T18:19:16.552Z"
   },
   {
    "duration": 17,
    "start_time": "2021-09-10T18:19:18.122Z"
   },
   {
    "duration": 16,
    "start_time": "2021-09-10T18:20:15.373Z"
   },
   {
    "duration": 12,
    "start_time": "2021-09-10T18:20:17.531Z"
   },
   {
    "duration": 760,
    "start_time": "2021-09-10T18:20:35.549Z"
   },
   {
    "duration": 58,
    "start_time": "2021-09-10T18:20:36.984Z"
   },
   {
    "duration": 39,
    "start_time": "2021-09-10T18:20:40.259Z"
   },
   {
    "duration": 15,
    "start_time": "2021-09-10T18:20:43.439Z"
   },
   {
    "duration": 18,
    "start_time": "2021-09-10T18:20:46.693Z"
   },
   {
    "duration": 36,
    "start_time": "2021-09-10T18:20:48.659Z"
   },
   {
    "duration": 19,
    "start_time": "2021-09-10T18:21:40.255Z"
   },
   {
    "duration": 16,
    "start_time": "2021-09-10T18:21:43.851Z"
   },
   {
    "duration": 55,
    "start_time": "2021-09-10T18:25:52.440Z"
   },
   {
    "duration": 46,
    "start_time": "2021-09-10T18:26:16.391Z"
   },
   {
    "duration": 765,
    "start_time": "2021-09-10T18:27:47.363Z"
   },
   {
    "duration": 63,
    "start_time": "2021-09-10T18:27:48.130Z"
   },
   {
    "duration": 33,
    "start_time": "2021-09-10T18:27:48.195Z"
   },
   {
    "duration": 42,
    "start_time": "2021-09-10T18:27:48.231Z"
   },
   {
    "duration": 49,
    "start_time": "2021-09-10T18:27:48.276Z"
   },
   {
    "duration": 38,
    "start_time": "2021-09-10T18:27:48.328Z"
   },
   {
    "duration": 33,
    "start_time": "2021-09-10T18:27:48.369Z"
   },
   {
    "duration": 14,
    "start_time": "2021-09-10T18:27:48.405Z"
   },
   {
    "duration": 10,
    "start_time": "2021-09-10T18:27:48.422Z"
   },
   {
    "duration": 378,
    "start_time": "2021-09-10T18:27:48.435Z"
   },
   {
    "duration": 7,
    "start_time": "2021-09-10T18:39:12.396Z"
   },
   {
    "duration": 7,
    "start_time": "2021-09-10T18:39:29.786Z"
   },
   {
    "duration": 4,
    "start_time": "2021-09-10T18:40:24.760Z"
   },
   {
    "duration": 6,
    "start_time": "2021-09-10T18:40:26.238Z"
   },
   {
    "duration": 5,
    "start_time": "2021-09-10T18:40:29.437Z"
   },
   {
    "duration": 5,
    "start_time": "2021-09-10T18:40:32.912Z"
   },
   {
    "duration": 17,
    "start_time": "2021-09-10T18:41:54.739Z"
   },
   {
    "duration": 15,
    "start_time": "2021-09-10T19:06:10.199Z"
   },
   {
    "duration": 17,
    "start_time": "2021-09-10T19:06:18.966Z"
   },
   {
    "duration": 18,
    "start_time": "2021-09-10T19:07:23.671Z"
   },
   {
    "duration": 6,
    "start_time": "2021-09-10T19:08:27.395Z"
   },
   {
    "duration": 16,
    "start_time": "2021-09-10T19:08:32.585Z"
   },
   {
    "duration": 20,
    "start_time": "2021-09-10T19:15:31.945Z"
   },
   {
    "duration": 19,
    "start_time": "2021-09-10T19:30:57.235Z"
   },
   {
    "duration": 20,
    "start_time": "2021-09-10T19:31:11.802Z"
   },
   {
    "duration": 9,
    "start_time": "2021-09-10T19:31:28.381Z"
   },
   {
    "duration": 7,
    "start_time": "2021-09-10T19:31:46.834Z"
   },
   {
    "duration": 3348,
    "start_time": "2021-09-10T19:34:32.980Z"
   },
   {
    "duration": 2274,
    "start_time": "2021-09-10T19:34:44.092Z"
   },
   {
    "duration": 7,
    "start_time": "2021-09-10T19:34:55.913Z"
   },
   {
    "duration": 9,
    "start_time": "2021-09-10T19:35:20.806Z"
   },
   {
    "duration": 3,
    "start_time": "2021-09-10T19:40:02.647Z"
   },
   {
    "duration": 21,
    "start_time": "2021-09-10T19:40:06.437Z"
   },
   {
    "duration": 4,
    "start_time": "2021-09-10T19:45:57.580Z"
   },
   {
    "duration": 212,
    "start_time": "2021-09-10T19:45:59.994Z"
   },
   {
    "duration": 748,
    "start_time": "2021-09-10T19:47:20.522Z"
   },
   {
    "duration": 229,
    "start_time": "2021-09-10T19:47:21.273Z"
   },
   {
    "duration": 31,
    "start_time": "2021-09-10T19:47:21.504Z"
   },
   {
    "duration": 32,
    "start_time": "2021-09-10T19:47:21.538Z"
   },
   {
    "duration": 46,
    "start_time": "2021-09-10T19:47:21.572Z"
   },
   {
    "duration": 342,
    "start_time": "2021-09-10T19:47:21.621Z"
   },
   {
    "duration": -186,
    "start_time": "2021-09-10T19:47:22.152Z"
   },
   {
    "duration": -190,
    "start_time": "2021-09-10T19:47:22.158Z"
   },
   {
    "duration": -194,
    "start_time": "2021-09-10T19:47:22.163Z"
   },
   {
    "duration": -197,
    "start_time": "2021-09-10T19:47:22.168Z"
   },
   {
    "duration": -224,
    "start_time": "2021-09-10T19:47:22.196Z"
   },
   {
    "duration": -256,
    "start_time": "2021-09-10T19:47:22.230Z"
   },
   {
    "duration": -270,
    "start_time": "2021-09-10T19:47:22.245Z"
   },
   {
    "duration": -274,
    "start_time": "2021-09-10T19:47:22.251Z"
   },
   {
    "duration": -299,
    "start_time": "2021-09-10T19:47:22.277Z"
   },
   {
    "duration": -310,
    "start_time": "2021-09-10T19:47:22.289Z"
   },
   {
    "duration": -311,
    "start_time": "2021-09-10T19:47:22.292Z"
   },
   {
    "duration": -312,
    "start_time": "2021-09-10T19:47:22.294Z"
   },
   {
    "duration": -313,
    "start_time": "2021-09-10T19:47:22.297Z"
   },
   {
    "duration": -333,
    "start_time": "2021-09-10T19:47:22.318Z"
   },
   {
    "duration": 5,
    "start_time": "2021-09-10T19:55:53.252Z"
   },
   {
    "duration": 14,
    "start_time": "2021-09-10T19:55:58.520Z"
   },
   {
    "duration": 25,
    "start_time": "2021-09-10T19:56:48.604Z"
   },
   {
    "duration": 15,
    "start_time": "2021-09-10T19:56:51.956Z"
   },
   {
    "duration": 12,
    "start_time": "2021-09-10T19:58:03.583Z"
   },
   {
    "duration": 7,
    "start_time": "2021-09-10T20:29:29.367Z"
   },
   {
    "duration": 18,
    "start_time": "2021-09-10T20:29:31.002Z"
   },
   {
    "duration": 16,
    "start_time": "2021-09-10T20:29:33.413Z"
   },
   {
    "duration": 5,
    "start_time": "2021-09-10T20:29:35.979Z"
   },
   {
    "duration": 274,
    "start_time": "2021-09-10T20:29:38.477Z"
   },
   {
    "duration": 17,
    "start_time": "2021-09-10T20:29:41.803Z"
   },
   {
    "duration": 21,
    "start_time": "2021-09-10T20:29:48.505Z"
   },
   {
    "duration": 14,
    "start_time": "2021-09-10T20:30:45.746Z"
   },
   {
    "duration": 12,
    "start_time": "2021-09-10T20:30:48.153Z"
   },
   {
    "duration": 252,
    "start_time": "2021-09-10T20:30:55.301Z"
   },
   {
    "duration": 14,
    "start_time": "2021-09-10T20:30:59.354Z"
   },
   {
    "duration": 255,
    "start_time": "2021-09-10T20:31:00.907Z"
   },
   {
    "duration": 13,
    "start_time": "2021-09-10T20:31:05.307Z"
   },
   {
    "duration": 263,
    "start_time": "2021-09-10T20:31:06.496Z"
   },
   {
    "duration": 13,
    "start_time": "2021-09-10T20:31:21.749Z"
   },
   {
    "duration": 11,
    "start_time": "2021-09-10T20:31:24.353Z"
   },
   {
    "duration": 5,
    "start_time": "2021-09-10T20:31:27.574Z"
   },
   {
    "duration": 13,
    "start_time": "2021-09-10T20:31:28.672Z"
   },
   {
    "duration": 17,
    "start_time": "2021-09-10T20:34:24.580Z"
   },
   {
    "duration": 13,
    "start_time": "2021-09-10T20:34:37.139Z"
   },
   {
    "duration": 13,
    "start_time": "2021-09-10T20:35:04.977Z"
   },
   {
    "duration": 14,
    "start_time": "2021-09-10T20:35:14.289Z"
   },
   {
    "duration": 13,
    "start_time": "2021-09-10T22:02:49.561Z"
   },
   {
    "duration": 691,
    "start_time": "2021-09-10T22:02:59.883Z"
   },
   {
    "duration": 219,
    "start_time": "2021-09-10T22:03:00.577Z"
   },
   {
    "duration": 30,
    "start_time": "2021-09-10T22:03:00.799Z"
   },
   {
    "duration": 36,
    "start_time": "2021-09-10T22:03:00.832Z"
   },
   {
    "duration": 54,
    "start_time": "2021-09-10T22:03:00.871Z"
   },
   {
    "duration": 5,
    "start_time": "2021-09-10T22:03:00.928Z"
   },
   {
    "duration": 36,
    "start_time": "2021-09-10T22:03:00.936Z"
   },
   {
    "duration": 33,
    "start_time": "2021-09-10T22:03:00.977Z"
   },
   {
    "duration": 14,
    "start_time": "2021-09-10T22:03:01.013Z"
   },
   {
    "duration": 31,
    "start_time": "2021-09-10T22:03:01.030Z"
   },
   {
    "duration": 18,
    "start_time": "2021-09-10T22:03:01.064Z"
   },
   {
    "duration": 24,
    "start_time": "2021-09-10T22:03:01.085Z"
   },
   {
    "duration": 33,
    "start_time": "2021-09-10T22:03:01.112Z"
   },
   {
    "duration": 26,
    "start_time": "2021-09-10T22:03:01.147Z"
   },
   {
    "duration": 19,
    "start_time": "2021-09-10T22:03:01.176Z"
   },
   {
    "duration": 33,
    "start_time": "2021-09-10T22:03:01.197Z"
   },
   {
    "duration": 43,
    "start_time": "2021-09-10T22:03:01.233Z"
   },
   {
    "duration": 13,
    "start_time": "2021-09-10T22:03:01.278Z"
   },
   {
    "duration": 27,
    "start_time": "2021-09-10T22:03:01.293Z"
   },
   {
    "duration": 50,
    "start_time": "2021-09-10T22:03:01.322Z"
   },
   {
    "duration": 722,
    "start_time": "2021-09-10T22:03:28.164Z"
   },
   {
    "duration": 217,
    "start_time": "2021-09-10T22:03:28.889Z"
   },
   {
    "duration": 32,
    "start_time": "2021-09-10T22:03:29.109Z"
   },
   {
    "duration": 29,
    "start_time": "2021-09-10T22:03:29.143Z"
   },
   {
    "duration": 45,
    "start_time": "2021-09-10T22:03:29.174Z"
   },
   {
    "duration": 5,
    "start_time": "2021-09-10T22:03:29.221Z"
   },
   {
    "duration": 39,
    "start_time": "2021-09-10T22:03:29.228Z"
   },
   {
    "duration": 24,
    "start_time": "2021-09-10T22:03:29.269Z"
   },
   {
    "duration": 13,
    "start_time": "2021-09-10T22:03:29.297Z"
   },
   {
    "duration": 13,
    "start_time": "2021-09-10T22:03:29.313Z"
   },
   {
    "duration": 47,
    "start_time": "2021-09-10T22:03:29.329Z"
   },
   {
    "duration": 5,
    "start_time": "2021-09-10T22:03:29.379Z"
   },
   {
    "duration": 16,
    "start_time": "2021-09-10T22:03:29.387Z"
   },
   {
    "duration": 18,
    "start_time": "2021-09-10T22:03:29.405Z"
   },
   {
    "duration": 39,
    "start_time": "2021-09-10T22:03:29.426Z"
   },
   {
    "duration": 20,
    "start_time": "2021-09-10T22:03:29.468Z"
   },
   {
    "duration": 21,
    "start_time": "2021-09-10T22:03:29.491Z"
   },
   {
    "duration": 48,
    "start_time": "2021-09-10T22:03:29.515Z"
   },
   {
    "duration": 7,
    "start_time": "2021-09-10T22:03:29.567Z"
   },
   {
    "duration": 6,
    "start_time": "2021-09-10T22:03:29.576Z"
   },
   {
    "duration": 12,
    "start_time": "2021-09-10T22:05:51.976Z"
   },
   {
    "duration": 11,
    "start_time": "2021-09-10T22:05:57.475Z"
   },
   {
    "duration": 691,
    "start_time": "2021-09-10T22:06:09.283Z"
   },
   {
    "duration": 220,
    "start_time": "2021-09-10T22:06:10.701Z"
   },
   {
    "duration": 32,
    "start_time": "2021-09-10T22:06:12.671Z"
   },
   {
    "duration": 16,
    "start_time": "2021-09-10T22:06:16.249Z"
   },
   {
    "duration": 48,
    "start_time": "2021-09-10T22:06:18.539Z"
   },
   {
    "duration": 6,
    "start_time": "2021-09-10T22:06:21.404Z"
   },
   {
    "duration": 13,
    "start_time": "2021-09-10T22:06:23.887Z"
   },
   {
    "duration": 25,
    "start_time": "2021-09-10T22:06:25.674Z"
   },
   {
    "duration": 14,
    "start_time": "2021-09-10T22:06:28.098Z"
   },
   {
    "duration": 14,
    "start_time": "2021-09-10T22:06:30.350Z"
   },
   {
    "duration": 15,
    "start_time": "2021-09-10T22:08:49.275Z"
   },
   {
    "duration": 13,
    "start_time": "2021-09-10T22:08:52.405Z"
   },
   {
    "duration": 15,
    "start_time": "2021-09-10T22:08:55.386Z"
   },
   {
    "duration": 15,
    "start_time": "2021-09-10T22:09:14.959Z"
   },
   {
    "duration": 331,
    "start_time": "2021-09-10T22:09:17.816Z"
   },
   {
    "duration": 14,
    "start_time": "2021-09-10T22:09:23.388Z"
   },
   {
    "duration": 18,
    "start_time": "2021-09-10T22:09:29.176Z"
   },
   {
    "duration": 235,
    "start_time": "2021-09-10T22:09:32.382Z"
   },
   {
    "duration": 31,
    "start_time": "2021-09-10T22:09:48.970Z"
   },
   {
    "duration": 24,
    "start_time": "2021-09-10T22:09:53.439Z"
   },
   {
    "duration": 17,
    "start_time": "2021-09-10T22:09:55.719Z"
   },
   {
    "duration": 6,
    "start_time": "2021-09-10T22:10:21.702Z"
   },
   {
    "duration": 14,
    "start_time": "2021-09-10T22:10:25.563Z"
   },
   {
    "duration": 16,
    "start_time": "2021-09-10T22:10:29.616Z"
   },
   {
    "duration": 5,
    "start_time": "2021-09-10T22:10:38.015Z"
   },
   {
    "duration": 16,
    "start_time": "2021-09-10T22:10:43.555Z"
   },
   {
    "duration": 16,
    "start_time": "2021-09-10T22:11:32.801Z"
   },
   {
    "duration": 10,
    "start_time": "2021-09-10T22:11:41.765Z"
   },
   {
    "duration": 8,
    "start_time": "2021-09-10T22:11:51.303Z"
   },
   {
    "duration": 10,
    "start_time": "2021-09-10T22:12:18.406Z"
   },
   {
    "duration": 12,
    "start_time": "2021-09-10T22:12:32.496Z"
   },
   {
    "duration": 10,
    "start_time": "2021-09-10T22:13:11.772Z"
   },
   {
    "duration": 11,
    "start_time": "2021-09-10T22:13:26.837Z"
   },
   {
    "duration": 10,
    "start_time": "2021-09-10T22:13:39.281Z"
   },
   {
    "duration": 10,
    "start_time": "2021-09-10T22:13:41.866Z"
   },
   {
    "duration": 8,
    "start_time": "2021-09-10T22:13:43.952Z"
   },
   {
    "duration": 10,
    "start_time": "2021-09-10T22:13:46.903Z"
   },
   {
    "duration": 9,
    "start_time": "2021-09-10T22:13:49.029Z"
   },
   {
    "duration": 10,
    "start_time": "2021-09-10T22:13:55.817Z"
   },
   {
    "duration": 9,
    "start_time": "2021-09-10T22:14:11.637Z"
   },
   {
    "duration": 8,
    "start_time": "2021-09-10T22:20:12.321Z"
   },
   {
    "duration": 15,
    "start_time": "2021-09-10T22:20:46.477Z"
   },
   {
    "duration": 12,
    "start_time": "2021-09-10T22:20:47.926Z"
   },
   {
    "duration": 7,
    "start_time": "2021-09-10T22:22:38.844Z"
   },
   {
    "duration": 18,
    "start_time": "2021-09-10T22:22:39.536Z"
   },
   {
    "duration": 17,
    "start_time": "2021-09-10T22:22:41.622Z"
   },
   {
    "duration": 5,
    "start_time": "2021-09-10T22:22:44.471Z"
   },
   {
    "duration": 17,
    "start_time": "2021-09-10T22:22:49.779Z"
   },
   {
    "duration": 8,
    "start_time": "2021-09-10T22:24:32.525Z"
   },
   {
    "duration": 14,
    "start_time": "2021-09-10T22:25:12.437Z"
   },
   {
    "duration": 10,
    "start_time": "2021-09-10T22:25:27.882Z"
   },
   {
    "duration": 21,
    "start_time": "2021-09-10T22:28:31.611Z"
   },
   {
    "duration": 20,
    "start_time": "2021-09-10T22:28:36.714Z"
   },
   {
    "duration": 8,
    "start_time": "2021-09-10T22:29:32.068Z"
   },
   {
    "duration": 9,
    "start_time": "2021-09-10T22:30:20.027Z"
   },
   {
    "duration": 21,
    "start_time": "2021-09-10T22:30:24.529Z"
   },
   {
    "duration": 7,
    "start_time": "2021-09-10T22:30:37.505Z"
   },
   {
    "duration": 10,
    "start_time": "2021-09-10T22:30:43.408Z"
   },
   {
    "duration": 685,
    "start_time": "2021-09-10T22:36:27.601Z"
   },
   {
    "duration": 204,
    "start_time": "2021-09-10T22:36:28.288Z"
   },
   {
    "duration": 30,
    "start_time": "2021-09-10T22:36:28.496Z"
   },
   {
    "duration": 34,
    "start_time": "2021-09-10T22:36:28.529Z"
   },
   {
    "duration": 44,
    "start_time": "2021-09-10T22:36:28.565Z"
   },
   {
    "duration": 5,
    "start_time": "2021-09-10T22:36:28.612Z"
   },
   {
    "duration": 42,
    "start_time": "2021-09-10T22:36:28.620Z"
   },
   {
    "duration": 25,
    "start_time": "2021-09-10T22:36:28.666Z"
   },
   {
    "duration": 14,
    "start_time": "2021-09-10T22:36:28.694Z"
   },
   {
    "duration": 11,
    "start_time": "2021-09-10T22:36:28.711Z"
   },
   {
    "duration": 44,
    "start_time": "2021-09-10T22:36:28.724Z"
   },
   {
    "duration": 25,
    "start_time": "2021-09-10T22:36:28.771Z"
   },
   {
    "duration": 12,
    "start_time": "2021-09-10T22:36:28.799Z"
   },
   {
    "duration": 14,
    "start_time": "2021-09-10T22:36:28.814Z"
   },
   {
    "duration": 40,
    "start_time": "2021-09-10T22:36:28.831Z"
   },
   {
    "duration": 16,
    "start_time": "2021-09-10T22:36:28.873Z"
   },
   {
    "duration": 14,
    "start_time": "2021-09-10T22:36:28.892Z"
   },
   {
    "duration": 18,
    "start_time": "2021-09-10T22:36:28.908Z"
   },
   {
    "duration": 47,
    "start_time": "2021-09-10T22:36:28.929Z"
   },
   {
    "duration": 9,
    "start_time": "2021-09-10T22:36:28.979Z"
   },
   {
    "duration": 10,
    "start_time": "2021-09-10T22:36:28.991Z"
   },
   {
    "duration": 14,
    "start_time": "2021-09-10T22:36:29.004Z"
   },
   {
    "duration": 13,
    "start_time": "2021-09-10T22:36:29.022Z"
   },
   {
    "duration": 22,
    "start_time": "2021-09-10T22:36:40.996Z"
   },
   {
    "duration": 7,
    "start_time": "2021-09-10T22:40:02.979Z"
   },
   {
    "duration": 7,
    "start_time": "2021-09-10T22:40:06.280Z"
   },
   {
    "duration": 8,
    "start_time": "2021-09-10T22:40:31.663Z"
   },
   {
    "duration": 7,
    "start_time": "2021-09-10T22:41:06.295Z"
   },
   {
    "duration": 5,
    "start_time": "2021-09-10T22:41:35.949Z"
   },
   {
    "duration": 6,
    "start_time": "2021-09-10T22:41:50.297Z"
   },
   {
    "duration": 6,
    "start_time": "2021-09-10T22:42:30.084Z"
   },
   {
    "duration": 7,
    "start_time": "2021-09-10T22:42:48.180Z"
   },
   {
    "duration": 6,
    "start_time": "2021-09-10T22:43:18.783Z"
   },
   {
    "duration": 6,
    "start_time": "2021-09-10T22:43:26.295Z"
   },
   {
    "duration": 6,
    "start_time": "2021-09-10T22:43:49.116Z"
   },
   {
    "duration": 7,
    "start_time": "2021-09-10T22:44:10.060Z"
   },
   {
    "duration": 6,
    "start_time": "2021-09-10T22:44:47.693Z"
   },
   {
    "duration": 17,
    "start_time": "2021-09-10T22:45:24.155Z"
   },
   {
    "duration": 7,
    "start_time": "2021-09-10T22:45:38.266Z"
   },
   {
    "duration": 6,
    "start_time": "2021-09-10T22:49:21.543Z"
   },
   {
    "duration": 21,
    "start_time": "2021-09-10T23:00:44.275Z"
   },
   {
    "duration": 1249,
    "start_time": "2021-09-11T03:42:40.369Z"
   },
   {
    "duration": 377,
    "start_time": "2021-09-11T03:55:35.121Z"
   },
   {
    "duration": 1211,
    "start_time": "2021-09-11T03:55:47.262Z"
   },
   {
    "duration": 214,
    "start_time": "2021-09-11T03:55:48.475Z"
   },
   {
    "duration": 23,
    "start_time": "2021-09-11T03:55:48.692Z"
   },
   {
    "duration": 14,
    "start_time": "2021-09-11T03:55:48.717Z"
   },
   {
    "duration": 34,
    "start_time": "2021-09-11T03:55:48.733Z"
   },
   {
    "duration": 5,
    "start_time": "2021-09-11T03:55:48.769Z"
   },
   {
    "duration": 14,
    "start_time": "2021-09-11T03:55:48.776Z"
   },
   {
    "duration": 18,
    "start_time": "2021-09-11T03:55:48.792Z"
   },
   {
    "duration": 13,
    "start_time": "2021-09-11T03:55:48.842Z"
   },
   {
    "duration": 8,
    "start_time": "2021-09-11T03:55:48.858Z"
   },
   {
    "duration": 8,
    "start_time": "2021-09-11T03:55:48.868Z"
   },
   {
    "duration": 17,
    "start_time": "2021-09-11T03:55:48.878Z"
   },
   {
    "duration": 45,
    "start_time": "2021-09-11T03:55:48.897Z"
   },
   {
    "duration": 6,
    "start_time": "2021-09-11T03:55:48.944Z"
   },
   {
    "duration": 7,
    "start_time": "2021-09-11T03:55:48.952Z"
   },
   {
    "duration": 5,
    "start_time": "2021-09-11T03:55:48.961Z"
   },
   {
    "duration": 7,
    "start_time": "2021-09-11T03:55:48.968Z"
   },
   {
    "duration": 7,
    "start_time": "2021-09-11T03:55:48.977Z"
   },
   {
    "duration": 5,
    "start_time": "2021-09-11T03:55:48.986Z"
   },
   {
    "duration": 50,
    "start_time": "2021-09-11T03:55:48.992Z"
   },
   {
    "duration": 5,
    "start_time": "2021-09-11T03:55:49.044Z"
   },
   {
    "duration": 7,
    "start_time": "2021-09-11T03:55:49.052Z"
   },
   {
    "duration": 12,
    "start_time": "2021-09-11T03:55:49.061Z"
   },
   {
    "duration": 8,
    "start_time": "2021-09-11T03:55:49.075Z"
   },
   {
    "duration": 7,
    "start_time": "2021-09-11T03:55:49.085Z"
   },
   {
    "duration": 12,
    "start_time": "2021-09-11T03:55:49.094Z"
   },
   {
    "duration": 5,
    "start_time": "2021-09-11T03:55:49.140Z"
   },
   {
    "duration": 14,
    "start_time": "2021-09-11T03:55:49.147Z"
   },
   {
    "duration": 12,
    "start_time": "2021-09-11T03:55:49.163Z"
   },
   {
    "duration": 4,
    "start_time": "2021-09-11T03:55:49.177Z"
   },
   {
    "duration": 13,
    "start_time": "2021-09-11T03:55:49.183Z"
   },
   {
    "duration": 53,
    "start_time": "2021-09-11T03:55:49.198Z"
   },
   {
    "duration": 7,
    "start_time": "2021-09-11T03:55:49.253Z"
   },
   {
    "duration": 3,
    "start_time": "2021-09-11T03:55:49.262Z"
   },
   {
    "duration": 4,
    "start_time": "2021-09-11T03:55:49.267Z"
   },
   {
    "duration": 11,
    "start_time": "2021-09-11T03:55:49.273Z"
   },
   {
    "duration": 14,
    "start_time": "2021-09-11T03:56:08.242Z"
   },
   {
    "duration": 14,
    "start_time": "2021-09-11T03:56:11.579Z"
   },
   {
    "duration": 1222,
    "start_time": "2021-09-11T04:02:12.280Z"
   },
   {
    "duration": 228,
    "start_time": "2021-09-11T04:02:13.978Z"
   },
   {
    "duration": 21,
    "start_time": "2021-09-11T04:02:15.703Z"
   },
   {
    "duration": 13,
    "start_time": "2021-09-11T04:02:20.884Z"
   },
   {
    "duration": 34,
    "start_time": "2021-09-11T04:02:27.280Z"
   },
   {
    "duration": 4,
    "start_time": "2021-09-11T04:02:31.722Z"
   },
   {
    "duration": 11,
    "start_time": "2021-09-11T04:02:47.637Z"
   },
   {
    "duration": 22,
    "start_time": "2021-09-11T04:02:51.100Z"
   },
   {
    "duration": 12,
    "start_time": "2021-09-11T04:02:57.322Z"
   },
   {
    "duration": 7,
    "start_time": "2021-09-11T04:02:59.747Z"
   },
   {
    "duration": 7,
    "start_time": "2021-09-11T04:03:02.732Z"
   },
   {
    "duration": 12,
    "start_time": "2021-09-11T04:04:12.588Z"
   },
   {
    "duration": 14,
    "start_time": "2021-09-11T04:04:23.846Z"
   },
   {
    "duration": 10,
    "start_time": "2021-09-11T04:04:27.445Z"
   },
   {
    "duration": 5,
    "start_time": "2021-09-11T04:05:05.947Z"
   },
   {
    "duration": 5,
    "start_time": "2021-09-11T04:05:07.776Z"
   },
   {
    "duration": 6,
    "start_time": "2021-09-11T04:05:10.638Z"
   },
   {
    "duration": 5,
    "start_time": "2021-09-11T04:05:17.084Z"
   },
   {
    "duration": 5,
    "start_time": "2021-09-11T04:05:18.912Z"
   },
   {
    "duration": 5,
    "start_time": "2021-09-11T04:05:20.848Z"
   },
   {
    "duration": 6,
    "start_time": "2021-09-11T04:05:24.340Z"
   },
   {
    "duration": 5,
    "start_time": "2021-09-11T04:05:26.310Z"
   },
   {
    "duration": 5,
    "start_time": "2021-09-11T04:05:28.281Z"
   },
   {
    "duration": 5,
    "start_time": "2021-09-11T04:05:29.972Z"
   },
   {
    "duration": 5,
    "start_time": "2021-09-11T04:05:31.659Z"
   },
   {
    "duration": 5,
    "start_time": "2021-09-11T04:05:33.301Z"
   },
   {
    "duration": 6,
    "start_time": "2021-09-11T04:05:35.203Z"
   },
   {
    "duration": 8,
    "start_time": "2021-09-11T04:07:20.202Z"
   },
   {
    "duration": 8,
    "start_time": "2021-09-11T04:07:57.551Z"
   },
   {
    "duration": 6,
    "start_time": "2021-09-11T04:08:51.401Z"
   },
   {
    "duration": 8,
    "start_time": "2021-09-11T04:10:13.505Z"
   },
   {
    "duration": 9,
    "start_time": "2021-09-11T04:10:28.772Z"
   },
   {
    "duration": 6,
    "start_time": "2021-09-11T04:12:19.646Z"
   },
   {
    "duration": 5,
    "start_time": "2021-09-11T04:12:32.253Z"
   },
   {
    "duration": 7,
    "start_time": "2021-09-11T04:12:41.655Z"
   },
   {
    "duration": 5,
    "start_time": "2021-09-11T04:15:49.284Z"
   },
   {
    "duration": 8,
    "start_time": "2021-09-11T04:16:48.835Z"
   },
   {
    "duration": 7,
    "start_time": "2021-09-11T04:17:11.669Z"
   },
   {
    "duration": 7,
    "start_time": "2021-09-11T04:22:47.728Z"
   },
   {
    "duration": 5,
    "start_time": "2021-09-11T04:22:58.340Z"
   },
   {
    "duration": 372,
    "start_time": "2021-09-11T04:24:31.244Z"
   },
   {
    "duration": 4,
    "start_time": "2021-09-11T04:24:37.664Z"
   },
   {
    "duration": 13,
    "start_time": "2021-09-11T04:26:01.718Z"
   },
   {
    "duration": 11,
    "start_time": "2021-09-11T04:26:03.238Z"
   },
   {
    "duration": 6,
    "start_time": "2021-09-11T04:26:05.971Z"
   },
   {
    "duration": 5,
    "start_time": "2021-09-11T04:28:56.554Z"
   },
   {
    "duration": 5,
    "start_time": "2021-09-11T04:29:03.514Z"
   },
   {
    "duration": 6,
    "start_time": "2021-09-11T04:29:13.314Z"
   },
   {
    "duration": 9,
    "start_time": "2021-09-11T04:44:55.703Z"
   },
   {
    "duration": 275,
    "start_time": "2021-09-11T04:46:06.395Z"
   },
   {
    "duration": 6,
    "start_time": "2021-09-11T04:46:17.124Z"
   },
   {
    "duration": 279,
    "start_time": "2021-09-11T04:46:55.332Z"
   },
   {
    "duration": 13,
    "start_time": "2021-09-11T04:46:59.110Z"
   },
   {
    "duration": 273,
    "start_time": "2021-09-11T04:47:04.620Z"
   },
   {
    "duration": 12,
    "start_time": "2021-09-11T04:47:08.634Z"
   },
   {
    "duration": 13,
    "start_time": "2021-09-11T04:47:46.791Z"
   },
   {
    "duration": 10,
    "start_time": "2021-09-11T04:47:49.476Z"
   },
   {
    "duration": 6,
    "start_time": "2021-09-11T04:47:54.265Z"
   },
   {
    "duration": 5,
    "start_time": "2021-09-11T04:47:56.932Z"
   },
   {
    "duration": 1241,
    "start_time": "2021-09-11T04:48:04.602Z"
   },
   {
    "duration": 226,
    "start_time": "2021-09-11T04:48:05.845Z"
   },
   {
    "duration": 22,
    "start_time": "2021-09-11T04:48:06.073Z"
   },
   {
    "duration": 21,
    "start_time": "2021-09-11T04:48:06.097Z"
   },
   {
    "duration": 35,
    "start_time": "2021-09-11T04:48:06.120Z"
   },
   {
    "duration": 4,
    "start_time": "2021-09-11T04:48:06.157Z"
   },
   {
    "duration": 20,
    "start_time": "2021-09-11T04:48:06.162Z"
   },
   {
    "duration": 23,
    "start_time": "2021-09-11T04:48:06.185Z"
   },
   {
    "duration": 12,
    "start_time": "2021-09-11T04:48:06.210Z"
   },
   {
    "duration": 22,
    "start_time": "2021-09-11T04:48:06.223Z"
   },
   {
    "duration": 7,
    "start_time": "2021-09-11T04:48:06.246Z"
   },
   {
    "duration": 12,
    "start_time": "2021-09-11T04:48:06.255Z"
   },
   {
    "duration": 4,
    "start_time": "2021-09-11T04:48:06.268Z"
   },
   {
    "duration": 15,
    "start_time": "2021-09-11T04:48:06.274Z"
   },
   {
    "duration": 10,
    "start_time": "2021-09-11T04:48:06.291Z"
   },
   {
    "duration": 7,
    "start_time": "2021-09-11T04:48:06.341Z"
   },
   {
    "duration": 7,
    "start_time": "2021-09-11T04:48:06.349Z"
   },
   {
    "duration": 6,
    "start_time": "2021-09-11T04:48:06.357Z"
   },
   {
    "duration": 5,
    "start_time": "2021-09-11T04:48:06.365Z"
   },
   {
    "duration": 11,
    "start_time": "2021-09-11T04:48:06.371Z"
   },
   {
    "duration": 6,
    "start_time": "2021-09-11T04:48:06.384Z"
   },
   {
    "duration": 12,
    "start_time": "2021-09-11T04:48:06.391Z"
   },
   {
    "duration": 37,
    "start_time": "2021-09-11T04:48:06.407Z"
   },
   {
    "duration": 6,
    "start_time": "2021-09-11T04:48:06.446Z"
   },
   {
    "duration": 7,
    "start_time": "2021-09-11T04:48:06.453Z"
   },
   {
    "duration": 4,
    "start_time": "2021-09-11T04:48:06.462Z"
   },
   {
    "duration": 6,
    "start_time": "2021-09-11T04:48:06.467Z"
   },
   {
    "duration": 7,
    "start_time": "2021-09-11T04:48:06.475Z"
   },
   {
    "duration": 7,
    "start_time": "2021-09-11T04:48:06.484Z"
   },
   {
    "duration": 49,
    "start_time": "2021-09-11T04:48:06.492Z"
   },
   {
    "duration": 363,
    "start_time": "2021-09-11T04:48:06.543Z"
   },
   {
    "duration": -1321,
    "start_time": "2021-09-11T04:48:08.229Z"
   },
   {
    "duration": -1327,
    "start_time": "2021-09-11T04:48:08.236Z"
   },
   {
    "duration": -1333,
    "start_time": "2021-09-11T04:48:08.243Z"
   },
   {
    "duration": -1348,
    "start_time": "2021-09-11T04:48:08.259Z"
   },
   {
    "duration": -1353,
    "start_time": "2021-09-11T04:48:08.266Z"
   },
   {
    "duration": -1361,
    "start_time": "2021-09-11T04:48:08.275Z"
   },
   {
    "duration": 6,
    "start_time": "2021-09-11T04:48:19.557Z"
   },
   {
    "duration": 13,
    "start_time": "2021-09-11T04:48:20.978Z"
   },
   {
    "duration": 10,
    "start_time": "2021-09-11T05:04:01.708Z"
   },
   {
    "duration": 7,
    "start_time": "2021-09-11T05:04:06.774Z"
   },
   {
    "duration": 5,
    "start_time": "2021-09-11T05:04:17.771Z"
   },
   {
    "duration": 11,
    "start_time": "2021-09-11T05:04:19.068Z"
   },
   {
    "duration": 11,
    "start_time": "2021-09-11T05:04:43.505Z"
   },
   {
    "duration": 16,
    "start_time": "2021-09-11T05:05:23.442Z"
   },
   {
    "duration": 14,
    "start_time": "2021-09-11T05:05:39.582Z"
   },
   {
    "duration": 300,
    "start_time": "2021-09-11T05:06:18.662Z"
   },
   {
    "duration": 4,
    "start_time": "2021-09-11T05:08:32.162Z"
   },
   {
    "duration": 5,
    "start_time": "2021-09-11T05:08:35.737Z"
   },
   {
    "duration": 11,
    "start_time": "2021-09-11T05:08:38.003Z"
   },
   {
    "duration": 5,
    "start_time": "2021-09-11T05:08:47.462Z"
   },
   {
    "duration": 11,
    "start_time": "2021-09-11T05:08:48.967Z"
   },
   {
    "duration": 18,
    "start_time": "2021-09-11T05:12:54.398Z"
   },
   {
    "duration": 14,
    "start_time": "2021-09-11T05:13:03.583Z"
   },
   {
    "duration": 16,
    "start_time": "2021-09-11T05:13:11.123Z"
   },
   {
    "duration": 10,
    "start_time": "2021-09-11T05:14:57.105Z"
   },
   {
    "duration": 1315,
    "start_time": "2021-09-11T05:15:06.433Z"
   },
   {
    "duration": 221,
    "start_time": "2021-09-11T05:15:08.511Z"
   },
   {
    "duration": 22,
    "start_time": "2021-09-11T05:15:09.780Z"
   },
   {
    "duration": 12,
    "start_time": "2021-09-11T05:15:12.684Z"
   },
   {
    "duration": 34,
    "start_time": "2021-09-11T05:15:15.028Z"
   },
   {
    "duration": 4,
    "start_time": "2021-09-11T05:15:17.519Z"
   },
   {
    "duration": 10,
    "start_time": "2021-09-11T05:15:21.033Z"
   },
   {
    "duration": 21,
    "start_time": "2021-09-11T05:15:23.153Z"
   },
   {
    "duration": 11,
    "start_time": "2021-09-11T05:15:34.033Z"
   },
   {
    "duration": 7,
    "start_time": "2021-09-11T05:15:40.025Z"
   },
   {
    "duration": 7,
    "start_time": "2021-09-11T05:15:48.299Z"
   },
   {
    "duration": 4,
    "start_time": "2021-09-11T05:23:40.219Z"
   },
   {
    "duration": 3,
    "start_time": "2021-09-11T05:23:42.019Z"
   },
   {
    "duration": 14,
    "start_time": "2021-09-11T05:23:44.468Z"
   },
   {
    "duration": 10,
    "start_time": "2021-09-11T05:23:46.249Z"
   },
   {
    "duration": 6,
    "start_time": "2021-09-11T05:23:48.461Z"
   },
   {
    "duration": 5,
    "start_time": "2021-09-11T05:23:50.503Z"
   },
   {
    "duration": 5,
    "start_time": "2021-09-11T05:23:52.657Z"
   },
   {
    "duration": 4,
    "start_time": "2021-09-11T05:23:55.357Z"
   },
   {
    "duration": 8,
    "start_time": "2021-09-11T05:23:57.135Z"
   },
   {
    "duration": 5,
    "start_time": "2021-09-11T05:23:59.939Z"
   },
   {
    "duration": 4,
    "start_time": "2021-09-11T05:24:19.324Z"
   },
   {
    "duration": 5,
    "start_time": "2021-09-11T05:24:20.776Z"
   },
   {
    "duration": 5,
    "start_time": "2021-09-11T05:24:22.262Z"
   },
   {
    "duration": 7,
    "start_time": "2021-09-11T05:24:23.849Z"
   },
   {
    "duration": 6,
    "start_time": "2021-09-11T05:24:25.915Z"
   },
   {
    "duration": 4,
    "start_time": "2021-09-11T05:24:27.630Z"
   },
   {
    "duration": 8,
    "start_time": "2021-09-11T05:36:06.250Z"
   },
   {
    "duration": 7,
    "start_time": "2021-09-11T05:36:15.929Z"
   },
   {
    "duration": 7,
    "start_time": "2021-09-11T05:36:23.526Z"
   },
   {
    "duration": 6,
    "start_time": "2021-09-11T05:36:25.793Z"
   },
   {
    "duration": 8,
    "start_time": "2021-09-11T05:36:29.808Z"
   },
   {
    "duration": 8,
    "start_time": "2021-09-11T05:36:32.406Z"
   },
   {
    "duration": 5,
    "start_time": "2021-09-11T05:37:00.807Z"
   },
   {
    "duration": 13,
    "start_time": "2021-09-11T05:37:03.410Z"
   },
   {
    "duration": 14,
    "start_time": "2021-09-11T05:37:07.996Z"
   },
   {
    "duration": 7,
    "start_time": "2021-09-11T06:01:42.051Z"
   },
   {
    "duration": 6,
    "start_time": "2021-09-11T06:01:44.680Z"
   },
   {
    "duration": 7,
    "start_time": "2021-09-11T06:02:17.669Z"
   },
   {
    "duration": 7,
    "start_time": "2021-09-11T06:03:11.267Z"
   },
   {
    "duration": 7,
    "start_time": "2021-09-11T06:03:13.712Z"
   },
   {
    "duration": 8,
    "start_time": "2021-09-11T06:03:31.765Z"
   },
   {
    "duration": 7,
    "start_time": "2021-09-11T06:03:38.093Z"
   },
   {
    "duration": 8,
    "start_time": "2021-09-11T06:03:39.601Z"
   },
   {
    "duration": 6,
    "start_time": "2021-09-11T06:03:47.585Z"
   },
   {
    "duration": 6,
    "start_time": "2021-09-11T06:03:57.476Z"
   },
   {
    "duration": 13,
    "start_time": "2021-09-11T06:07:36.889Z"
   },
   {
    "duration": 7,
    "start_time": "2021-09-11T06:07:46.399Z"
   },
   {
    "duration": 6,
    "start_time": "2021-09-11T06:09:17.948Z"
   },
   {
    "duration": 374,
    "start_time": "2021-09-11T06:12:22.764Z"
   },
   {
    "duration": 5,
    "start_time": "2021-09-11T06:12:39.187Z"
   },
   {
    "duration": 7271,
    "start_time": "2021-09-11T06:13:02.531Z"
   },
   {
    "duration": 1276,
    "start_time": "2021-09-11T06:13:26.160Z"
   },
   {
    "duration": 251,
    "start_time": "2021-09-11T06:13:27.438Z"
   },
   {
    "duration": 22,
    "start_time": "2021-09-11T06:13:27.692Z"
   },
   {
    "duration": 16,
    "start_time": "2021-09-11T06:13:27.716Z"
   },
   {
    "duration": 34,
    "start_time": "2021-09-11T06:13:27.734Z"
   },
   {
    "duration": 4,
    "start_time": "2021-09-11T06:13:27.769Z"
   },
   {
    "duration": 12,
    "start_time": "2021-09-11T06:13:27.775Z"
   },
   {
    "duration": 17,
    "start_time": "2021-09-11T06:13:27.791Z"
   },
   {
    "duration": 40,
    "start_time": "2021-09-11T06:13:27.810Z"
   },
   {
    "duration": 8,
    "start_time": "2021-09-11T06:13:27.852Z"
   },
   {
    "duration": 9,
    "start_time": "2021-09-11T06:13:27.861Z"
   },
   {
    "duration": 4,
    "start_time": "2021-09-11T06:13:27.873Z"
   },
   {
    "duration": 5,
    "start_time": "2021-09-11T06:13:27.879Z"
   },
   {
    "duration": 17,
    "start_time": "2021-09-11T06:13:27.886Z"
   },
   {
    "duration": 43,
    "start_time": "2021-09-11T06:13:27.905Z"
   },
   {
    "duration": 6,
    "start_time": "2021-09-11T06:13:27.950Z"
   },
   {
    "duration": 7,
    "start_time": "2021-09-11T06:13:27.958Z"
   },
   {
    "duration": 6,
    "start_time": "2021-09-11T06:13:27.967Z"
   },
   {
    "duration": 6,
    "start_time": "2021-09-11T06:13:27.975Z"
   },
   {
    "duration": 11,
    "start_time": "2021-09-11T06:13:27.982Z"
   },
   {
    "duration": 8,
    "start_time": "2021-09-11T06:13:27.995Z"
   },
   {
    "duration": 5,
    "start_time": "2021-09-11T06:13:28.042Z"
   },
   {
    "duration": 5,
    "start_time": "2021-09-11T06:13:28.051Z"
   },
   {
    "duration": 9,
    "start_time": "2021-09-11T06:13:28.058Z"
   },
   {
    "duration": 8,
    "start_time": "2021-09-11T06:13:28.069Z"
   },
   {
    "duration": 10,
    "start_time": "2021-09-11T06:13:28.078Z"
   },
   {
    "duration": 6,
    "start_time": "2021-09-11T06:13:28.090Z"
   },
   {
    "duration": 6,
    "start_time": "2021-09-11T06:13:28.097Z"
   },
   {
    "duration": 8,
    "start_time": "2021-09-11T06:13:28.141Z"
   },
   {
    "duration": 19,
    "start_time": "2021-09-11T06:13:28.151Z"
   },
   {
    "duration": 21,
    "start_time": "2021-09-11T06:13:28.171Z"
   },
   {
    "duration": 16,
    "start_time": "2021-09-11T06:13:28.194Z"
   },
   {
    "duration": 26,
    "start_time": "2021-09-11T06:13:28.212Z"
   },
   {
    "duration": 11,
    "start_time": "2021-09-11T06:13:28.240Z"
   },
   {
    "duration": 8,
    "start_time": "2021-09-11T06:13:28.253Z"
   },
   {
    "duration": 6,
    "start_time": "2021-09-11T06:13:28.262Z"
   },
   {
    "duration": 7249,
    "start_time": "2021-09-11T06:13:28.270Z"
   },
   {
    "duration": -336,
    "start_time": "2021-09-11T06:13:35.857Z"
   },
   {
    "duration": -340,
    "start_time": "2021-09-11T06:13:35.862Z"
   },
   {
    "duration": -686,
    "start_time": "2021-09-11T06:13:36.209Z"
   },
   {
    "duration": -688,
    "start_time": "2021-09-11T06:13:36.212Z"
   },
   {
    "duration": -691,
    "start_time": "2021-09-11T06:13:36.216Z"
   },
   {
    "duration": 292,
    "start_time": "2021-09-11T06:13:53.043Z"
   },
   {
    "duration": 1246,
    "start_time": "2021-09-11T06:14:02.984Z"
   },
   {
    "duration": 232,
    "start_time": "2021-09-11T06:14:04.232Z"
   },
   {
    "duration": 23,
    "start_time": "2021-09-11T06:14:04.467Z"
   },
   {
    "duration": 14,
    "start_time": "2021-09-11T06:14:04.492Z"
   },
   {
    "duration": 58,
    "start_time": "2021-09-11T06:14:04.508Z"
   },
   {
    "duration": 4,
    "start_time": "2021-09-11T06:14:04.567Z"
   },
   {
    "duration": 13,
    "start_time": "2021-09-11T06:14:04.573Z"
   },
   {
    "duration": 20,
    "start_time": "2021-09-11T06:14:04.589Z"
   },
   {
    "duration": 31,
    "start_time": "2021-09-11T06:14:04.611Z"
   },
   {
    "duration": 7,
    "start_time": "2021-09-11T06:14:04.644Z"
   },
   {
    "duration": 7,
    "start_time": "2021-09-11T06:14:04.653Z"
   },
   {
    "duration": 11,
    "start_time": "2021-09-11T06:14:04.661Z"
   },
   {
    "duration": 10,
    "start_time": "2021-09-11T06:14:04.674Z"
   },
   {
    "duration": 16,
    "start_time": "2021-09-11T06:14:04.686Z"
   },
   {
    "duration": 10,
    "start_time": "2021-09-11T06:14:04.704Z"
   },
   {
    "duration": 7,
    "start_time": "2021-09-11T06:14:04.740Z"
   },
   {
    "duration": 7,
    "start_time": "2021-09-11T06:14:04.749Z"
   },
   {
    "duration": 7,
    "start_time": "2021-09-11T06:14:04.758Z"
   },
   {
    "duration": 4,
    "start_time": "2021-09-11T06:14:04.767Z"
   },
   {
    "duration": 9,
    "start_time": "2021-09-11T06:14:04.773Z"
   },
   {
    "duration": 13,
    "start_time": "2021-09-11T06:14:04.783Z"
   },
   {
    "duration": 13,
    "start_time": "2021-09-11T06:14:04.797Z"
   },
   {
    "duration": 6,
    "start_time": "2021-09-11T06:14:04.840Z"
   },
   {
    "duration": 9,
    "start_time": "2021-09-11T06:14:04.849Z"
   },
   {
    "duration": 8,
    "start_time": "2021-09-11T06:14:04.860Z"
   },
   {
    "duration": 7,
    "start_time": "2021-09-11T06:14:04.870Z"
   },
   {
    "duration": 7,
    "start_time": "2021-09-11T06:14:04.879Z"
   },
   {
    "duration": 6,
    "start_time": "2021-09-11T06:14:04.889Z"
   },
   {
    "duration": 9,
    "start_time": "2021-09-11T06:14:04.942Z"
   },
   {
    "duration": 10,
    "start_time": "2021-09-11T06:14:04.953Z"
   },
   {
    "duration": 5,
    "start_time": "2021-09-11T06:14:04.965Z"
   },
   {
    "duration": 12,
    "start_time": "2021-09-11T06:14:04.971Z"
   },
   {
    "duration": 19,
    "start_time": "2021-09-11T06:14:04.985Z"
   },
   {
    "duration": 36,
    "start_time": "2021-09-11T06:14:05.006Z"
   },
   {
    "duration": 20,
    "start_time": "2021-09-11T06:14:05.044Z"
   },
   {
    "duration": 375,
    "start_time": "2021-09-11T06:14:05.066Z"
   },
   {
    "duration": -836,
    "start_time": "2021-09-11T06:14:06.279Z"
   },
   {
    "duration": -839,
    "start_time": "2021-09-11T06:14:06.283Z"
   },
   {
    "duration": -883,
    "start_time": "2021-09-11T06:14:06.328Z"
   },
   {
    "duration": -891,
    "start_time": "2021-09-11T06:14:06.337Z"
   },
   {
    "duration": -895,
    "start_time": "2021-09-11T06:14:06.342Z"
   },
   {
    "duration": -898,
    "start_time": "2021-09-11T06:14:06.347Z"
   },
   {
    "duration": 8,
    "start_time": "2021-09-11T06:14:23.632Z"
   },
   {
    "duration": 299,
    "start_time": "2021-09-11T06:17:00.827Z"
   },
   {
    "duration": 6,
    "start_time": "2021-09-11T06:17:13.214Z"
   },
   {
    "duration": 8,
    "start_time": "2021-09-11T06:17:16.528Z"
   },
   {
    "duration": 439,
    "start_time": "2021-09-11T19:48:51.754Z"
   },
   {
    "duration": 351,
    "start_time": "2021-09-11T19:49:04.964Z"
   },
   {
    "duration": 1528,
    "start_time": "2021-09-11T19:49:14.808Z"
   },
   {
    "duration": 277,
    "start_time": "2021-09-11T19:49:16.338Z"
   },
   {
    "duration": 19,
    "start_time": "2021-09-11T19:49:16.617Z"
   },
   {
    "duration": 24,
    "start_time": "2021-09-11T19:49:16.638Z"
   },
   {
    "duration": 30,
    "start_time": "2021-09-11T19:49:16.664Z"
   },
   {
    "duration": 4,
    "start_time": "2021-09-11T19:49:16.696Z"
   },
   {
    "duration": 23,
    "start_time": "2021-09-11T19:49:16.701Z"
   },
   {
    "duration": 16,
    "start_time": "2021-09-11T19:49:16.727Z"
   },
   {
    "duration": 11,
    "start_time": "2021-09-11T19:49:16.745Z"
   },
   {
    "duration": 19,
    "start_time": "2021-09-11T19:49:16.757Z"
   },
   {
    "duration": 6,
    "start_time": "2021-09-11T19:49:16.778Z"
   },
   {
    "duration": 9,
    "start_time": "2021-09-11T19:49:16.786Z"
   },
   {
    "duration": 8,
    "start_time": "2021-09-11T19:49:16.796Z"
   },
   {
    "duration": 38,
    "start_time": "2021-09-11T19:49:16.805Z"
   },
   {
    "duration": 22,
    "start_time": "2021-09-11T19:49:16.845Z"
   },
   {
    "duration": 13,
    "start_time": "2021-09-11T19:49:16.869Z"
   },
   {
    "duration": 24,
    "start_time": "2021-09-11T19:49:16.883Z"
   },
   {
    "duration": 14,
    "start_time": "2021-09-11T19:49:16.908Z"
   },
   {
    "duration": 18,
    "start_time": "2021-09-11T19:49:16.923Z"
   },
   {
    "duration": 43,
    "start_time": "2021-09-11T19:49:16.943Z"
   },
   {
    "duration": 23,
    "start_time": "2021-09-11T19:49:16.987Z"
   },
   {
    "duration": 23,
    "start_time": "2021-09-11T19:49:17.012Z"
   },
   {
    "duration": 9,
    "start_time": "2021-09-11T19:49:17.038Z"
   },
   {
    "duration": 21,
    "start_time": "2021-09-11T19:49:17.049Z"
   },
   {
    "duration": 30,
    "start_time": "2021-09-11T19:49:17.072Z"
   },
   {
    "duration": 9,
    "start_time": "2021-09-11T19:49:17.103Z"
   },
   {
    "duration": 27,
    "start_time": "2021-09-11T19:49:17.113Z"
   },
   {
    "duration": 11,
    "start_time": "2021-09-11T19:49:17.141Z"
   },
   {
    "duration": 17,
    "start_time": "2021-09-11T19:49:17.153Z"
   },
   {
    "duration": 16,
    "start_time": "2021-09-11T19:49:17.172Z"
   },
   {
    "duration": 19,
    "start_time": "2021-09-11T19:49:17.189Z"
   },
   {
    "duration": 23,
    "start_time": "2021-09-11T19:49:17.209Z"
   },
   {
    "duration": 19,
    "start_time": "2021-09-11T19:49:17.234Z"
   },
   {
    "duration": 13,
    "start_time": "2021-09-11T19:49:17.255Z"
   },
   {
    "duration": 30,
    "start_time": "2021-09-11T19:49:17.270Z"
   },
   {
    "duration": 823,
    "start_time": "2021-09-11T19:49:17.301Z"
   },
   {
    "duration": -147,
    "start_time": "2021-09-11T19:49:18.273Z"
   },
   {
    "duration": -153,
    "start_time": "2021-09-11T19:49:18.279Z"
   },
   {
    "duration": -156,
    "start_time": "2021-09-11T19:49:18.283Z"
   },
   {
    "duration": -166,
    "start_time": "2021-09-11T19:49:18.294Z"
   },
   {
    "duration": -168,
    "start_time": "2021-09-11T19:49:18.297Z"
   },
   {
    "duration": -171,
    "start_time": "2021-09-11T19:49:18.301Z"
   },
   {
    "duration": -175,
    "start_time": "2021-09-11T19:49:18.305Z"
   },
   {
    "duration": 5,
    "start_time": "2021-09-11T19:49:49.023Z"
   },
   {
    "duration": 6,
    "start_time": "2021-09-11T19:49:51.636Z"
   },
   {
    "duration": 5,
    "start_time": "2021-09-11T19:49:57.876Z"
   },
   {
    "duration": 7,
    "start_time": "2021-09-11T19:49:59.313Z"
   },
   {
    "duration": 6,
    "start_time": "2021-09-11T19:50:08.917Z"
   },
   {
    "duration": 14,
    "start_time": "2021-09-11T19:50:27.370Z"
   },
   {
    "duration": 16,
    "start_time": "2021-09-11T19:54:03.069Z"
   },
   {
    "duration": 17,
    "start_time": "2021-09-11T19:54:09.488Z"
   },
   {
    "duration": 16,
    "start_time": "2021-09-11T19:54:10.971Z"
   },
   {
    "duration": 14,
    "start_time": "2021-09-11T19:54:20.766Z"
   },
   {
    "duration": 4,
    "start_time": "2021-09-11T20:10:51.685Z"
   },
   {
    "duration": 4,
    "start_time": "2021-09-11T20:15:12.946Z"
   },
   {
    "duration": 3,
    "start_time": "2021-09-11T20:15:18.104Z"
   },
   {
    "duration": 7,
    "start_time": "2021-09-11T20:38:39.216Z"
   },
   {
    "duration": 349,
    "start_time": "2021-09-11T21:13:24.714Z"
   },
   {
    "duration": 7,
    "start_time": "2021-09-11T21:13:33.709Z"
   },
   {
    "duration": 729,
    "start_time": "2021-09-11T21:13:36.169Z"
   },
   {
    "duration": 1252,
    "start_time": "2021-09-11T21:14:01.666Z"
   },
   {
    "duration": 267,
    "start_time": "2021-09-11T21:14:02.920Z"
   },
   {
    "duration": 20,
    "start_time": "2021-09-11T21:14:03.190Z"
   },
   {
    "duration": 12,
    "start_time": "2021-09-11T21:14:03.213Z"
   },
   {
    "duration": 38,
    "start_time": "2021-09-11T21:14:03.226Z"
   },
   {
    "duration": 11,
    "start_time": "2021-09-11T21:14:03.266Z"
   },
   {
    "duration": 28,
    "start_time": "2021-09-11T21:14:03.279Z"
   },
   {
    "duration": 17,
    "start_time": "2021-09-11T21:14:03.310Z"
   },
   {
    "duration": 19,
    "start_time": "2021-09-11T21:14:03.329Z"
   },
   {
    "duration": 27,
    "start_time": "2021-09-11T21:14:03.349Z"
   },
   {
    "duration": 10,
    "start_time": "2021-09-11T21:14:03.378Z"
   },
   {
    "duration": 10,
    "start_time": "2021-09-11T21:14:03.390Z"
   },
   {
    "duration": 10,
    "start_time": "2021-09-11T21:14:03.402Z"
   },
   {
    "duration": 13,
    "start_time": "2021-09-11T21:14:03.414Z"
   },
   {
    "duration": 10,
    "start_time": "2021-09-11T21:14:03.429Z"
   },
   {
    "duration": 5,
    "start_time": "2021-09-11T21:14:03.441Z"
   },
   {
    "duration": 6,
    "start_time": "2021-09-11T21:14:03.448Z"
   },
   {
    "duration": 5,
    "start_time": "2021-09-11T21:14:03.477Z"
   },
   {
    "duration": 8,
    "start_time": "2021-09-11T21:14:03.484Z"
   },
   {
    "duration": 10,
    "start_time": "2021-09-11T21:14:03.493Z"
   },
   {
    "duration": 10,
    "start_time": "2021-09-11T21:14:03.504Z"
   },
   {
    "duration": 14,
    "start_time": "2021-09-11T21:14:03.516Z"
   },
   {
    "duration": 8,
    "start_time": "2021-09-11T21:14:03.533Z"
   },
   {
    "duration": 10,
    "start_time": "2021-09-11T21:14:03.543Z"
   },
   {
    "duration": 24,
    "start_time": "2021-09-11T21:14:03.554Z"
   },
   {
    "duration": 13,
    "start_time": "2021-09-11T21:14:03.579Z"
   },
   {
    "duration": 10,
    "start_time": "2021-09-11T21:14:03.593Z"
   },
   {
    "duration": 16,
    "start_time": "2021-09-11T21:14:03.605Z"
   },
   {
    "duration": 9,
    "start_time": "2021-09-11T21:14:03.623Z"
   },
   {
    "duration": 9,
    "start_time": "2021-09-11T21:14:03.634Z"
   },
   {
    "duration": 12,
    "start_time": "2021-09-11T21:14:03.645Z"
   },
   {
    "duration": 10,
    "start_time": "2021-09-11T21:14:03.658Z"
   },
   {
    "duration": 14,
    "start_time": "2021-09-11T21:14:03.670Z"
   },
   {
    "duration": 11,
    "start_time": "2021-09-11T21:14:03.685Z"
   },
   {
    "duration": 13,
    "start_time": "2021-09-11T21:14:03.697Z"
   },
   {
    "duration": 11,
    "start_time": "2021-09-11T21:14:03.711Z"
   },
   {
    "duration": 10,
    "start_time": "2021-09-11T21:14:03.723Z"
   },
   {
    "duration": 9,
    "start_time": "2021-09-11T21:14:03.735Z"
   },
   {
    "duration": 32,
    "start_time": "2021-09-11T21:14:03.745Z"
   },
   {
    "duration": 16,
    "start_time": "2021-09-11T21:14:03.779Z"
   },
   {
    "duration": 14,
    "start_time": "2021-09-11T21:14:03.797Z"
   },
   {
    "duration": 7,
    "start_time": "2021-09-11T21:14:03.813Z"
   },
   {
    "duration": 472,
    "start_time": "2021-09-11T21:14:03.821Z"
   },
   {
    "duration": 371,
    "start_time": "2021-09-11T21:15:26.203Z"
   },
   {
    "duration": 346,
    "start_time": "2021-09-11T21:15:51.828Z"
   },
   {
    "duration": 20828,
    "start_time": "2021-09-11T21:17:35.607Z"
   },
   {
    "duration": 18946,
    "start_time": "2021-09-11T21:17:57.837Z"
   },
   {
    "duration": 7,
    "start_time": "2021-09-11T21:18:37.633Z"
   },
   {
    "duration": 513,
    "start_time": "2021-09-11T21:22:58.677Z"
   },
   {
    "duration": 10,
    "start_time": "2021-09-11T21:46:05.391Z"
   },
   {
    "duration": 7,
    "start_time": "2021-09-11T21:51:20.481Z"
   },
   {
    "duration": 5,
    "start_time": "2021-09-11T21:51:40.793Z"
   },
   {
    "duration": 6,
    "start_time": "2021-09-11T21:51:49.887Z"
   },
   {
    "duration": 15,
    "start_time": "2021-09-11T21:51:56.438Z"
   },
   {
    "duration": 17,
    "start_time": "2021-09-11T21:51:58.507Z"
   },
   {
    "duration": 16,
    "start_time": "2021-09-11T21:52:00.438Z"
   },
   {
    "duration": 12,
    "start_time": "2021-09-11T21:52:02.433Z"
   },
   {
    "duration": 7,
    "start_time": "2021-09-11T21:52:04.044Z"
   },
   {
    "duration": 6,
    "start_time": "2021-09-11T21:52:05.600Z"
   },
   {
    "duration": 1275,
    "start_time": "2021-09-11T21:52:16.217Z"
   },
   {
    "duration": 273,
    "start_time": "2021-09-11T21:52:17.494Z"
   },
   {
    "duration": 19,
    "start_time": "2021-09-11T21:52:17.769Z"
   },
   {
    "duration": 14,
    "start_time": "2021-09-11T21:52:17.790Z"
   },
   {
    "duration": 34,
    "start_time": "2021-09-11T21:52:17.806Z"
   },
   {
    "duration": 3,
    "start_time": "2021-09-11T21:52:17.842Z"
   },
   {
    "duration": 10,
    "start_time": "2021-09-11T21:52:17.847Z"
   },
   {
    "duration": 34,
    "start_time": "2021-09-11T21:52:17.859Z"
   },
   {
    "duration": 10,
    "start_time": "2021-09-11T21:52:17.897Z"
   },
   {
    "duration": 20,
    "start_time": "2021-09-11T21:52:17.910Z"
   },
   {
    "duration": 22,
    "start_time": "2021-09-11T21:52:17.932Z"
   },
   {
    "duration": 18,
    "start_time": "2021-09-11T21:52:17.956Z"
   },
   {
    "duration": 5,
    "start_time": "2021-09-11T21:52:17.977Z"
   },
   {
    "duration": 25,
    "start_time": "2021-09-11T21:52:17.984Z"
   },
   {
    "duration": 10,
    "start_time": "2021-09-11T21:52:18.011Z"
   },
   {
    "duration": 5,
    "start_time": "2021-09-11T21:52:18.023Z"
   },
   {
    "duration": 5,
    "start_time": "2021-09-11T21:52:18.030Z"
   },
   {
    "duration": 7,
    "start_time": "2021-09-11T21:52:18.037Z"
   },
   {
    "duration": 4,
    "start_time": "2021-09-11T21:52:18.045Z"
   },
   {
    "duration": 7,
    "start_time": "2021-09-11T21:52:18.077Z"
   },
   {
    "duration": 6,
    "start_time": "2021-09-11T21:52:18.086Z"
   },
   {
    "duration": 8,
    "start_time": "2021-09-11T21:52:18.093Z"
   },
   {
    "duration": 7,
    "start_time": "2021-09-11T21:52:18.103Z"
   },
   {
    "duration": 10,
    "start_time": "2021-09-11T21:52:18.111Z"
   },
   {
    "duration": 5,
    "start_time": "2021-09-11T21:52:18.122Z"
   },
   {
    "duration": 5,
    "start_time": "2021-09-11T21:52:18.129Z"
   },
   {
    "duration": 4,
    "start_time": "2021-09-11T21:52:18.137Z"
   },
   {
    "duration": 37,
    "start_time": "2021-09-11T21:52:18.143Z"
   },
   {
    "duration": 7,
    "start_time": "2021-09-11T21:52:18.182Z"
   },
   {
    "duration": 10,
    "start_time": "2021-09-11T21:52:18.191Z"
   },
   {
    "duration": 6,
    "start_time": "2021-09-11T21:52:18.202Z"
   },
   {
    "duration": 6,
    "start_time": "2021-09-11T21:52:18.209Z"
   },
   {
    "duration": 11,
    "start_time": "2021-09-11T21:52:18.217Z"
   },
   {
    "duration": 10,
    "start_time": "2021-09-11T21:52:18.230Z"
   },
   {
    "duration": 35,
    "start_time": "2021-09-11T21:52:18.242Z"
   },
   {
    "duration": 6,
    "start_time": "2021-09-11T21:52:18.279Z"
   },
   {
    "duration": 7,
    "start_time": "2021-09-11T21:52:18.286Z"
   },
   {
    "duration": 9,
    "start_time": "2021-09-11T21:52:18.294Z"
   },
   {
    "duration": 16,
    "start_time": "2021-09-11T21:52:18.304Z"
   },
   {
    "duration": 15,
    "start_time": "2021-09-11T21:52:18.321Z"
   },
   {
    "duration": 46,
    "start_time": "2021-09-11T21:52:18.338Z"
   },
   {
    "duration": 9,
    "start_time": "2021-09-11T21:52:18.386Z"
   },
   {
    "duration": 10,
    "start_time": "2021-09-11T21:52:18.397Z"
   },
   {
    "duration": 7,
    "start_time": "2021-09-11T21:52:18.409Z"
   },
   {
    "duration": 7,
    "start_time": "2021-09-11T21:52:18.418Z"
   },
   {
    "duration": 436,
    "start_time": "2021-09-11T21:52:18.427Z"
   },
   {
    "duration": -5174,
    "start_time": "2021-09-11T21:52:24.038Z"
   },
   {
    "duration": 355,
    "start_time": "2021-09-11T21:55:52.030Z"
   },
   {
    "duration": 397,
    "start_time": "2021-09-11T21:56:16.452Z"
   },
   {
    "duration": 16,
    "start_time": "2021-09-11T21:56:21.395Z"
   },
   {
    "duration": 1259,
    "start_time": "2021-09-11T21:57:07.099Z"
   },
   {
    "duration": 250,
    "start_time": "2021-09-11T21:57:08.360Z"
   },
   {
    "duration": 19,
    "start_time": "2021-09-11T21:57:08.612Z"
   },
   {
    "duration": 12,
    "start_time": "2021-09-11T21:57:08.633Z"
   },
   {
    "duration": 45,
    "start_time": "2021-09-11T21:57:08.647Z"
   },
   {
    "duration": 4,
    "start_time": "2021-09-11T21:57:08.693Z"
   },
   {
    "duration": 11,
    "start_time": "2021-09-11T21:57:08.699Z"
   },
   {
    "duration": 19,
    "start_time": "2021-09-11T21:57:08.713Z"
   },
   {
    "duration": 10,
    "start_time": "2021-09-11T21:57:08.735Z"
   },
   {
    "duration": 31,
    "start_time": "2021-09-11T21:57:08.747Z"
   },
   {
    "duration": 6,
    "start_time": "2021-09-11T21:57:08.780Z"
   },
   {
    "duration": 4,
    "start_time": "2021-09-11T21:57:08.788Z"
   },
   {
    "duration": 9,
    "start_time": "2021-09-11T21:57:08.794Z"
   },
   {
    "duration": 17,
    "start_time": "2021-09-11T21:57:08.805Z"
   },
   {
    "duration": 10,
    "start_time": "2021-09-11T21:57:08.823Z"
   },
   {
    "duration": 5,
    "start_time": "2021-09-11T21:57:08.835Z"
   },
   {
    "duration": 36,
    "start_time": "2021-09-11T21:57:08.842Z"
   },
   {
    "duration": 5,
    "start_time": "2021-09-11T21:57:08.880Z"
   },
   {
    "duration": 5,
    "start_time": "2021-09-11T21:57:08.886Z"
   },
   {
    "duration": 13,
    "start_time": "2021-09-11T21:57:08.892Z"
   },
   {
    "duration": 7,
    "start_time": "2021-09-11T21:57:08.907Z"
   },
   {
    "duration": 5,
    "start_time": "2021-09-11T21:57:08.915Z"
   },
   {
    "duration": 7,
    "start_time": "2021-09-11T21:57:08.924Z"
   },
   {
    "duration": 45,
    "start_time": "2021-09-11T21:57:08.933Z"
   },
   {
    "duration": 13,
    "start_time": "2021-09-11T21:57:08.979Z"
   },
   {
    "duration": 10,
    "start_time": "2021-09-11T21:57:08.994Z"
   },
   {
    "duration": 7,
    "start_time": "2021-09-11T21:57:09.006Z"
   },
   {
    "duration": 12,
    "start_time": "2021-09-11T21:57:09.015Z"
   },
   {
    "duration": 12,
    "start_time": "2021-09-11T21:57:09.028Z"
   },
   {
    "duration": 16,
    "start_time": "2021-09-11T21:57:09.041Z"
   },
   {
    "duration": 11,
    "start_time": "2021-09-11T21:57:09.059Z"
   },
   {
    "duration": 5,
    "start_time": "2021-09-11T21:57:09.077Z"
   },
   {
    "duration": 22,
    "start_time": "2021-09-11T21:57:09.083Z"
   },
   {
    "duration": 10,
    "start_time": "2021-09-11T21:57:09.106Z"
   },
   {
    "duration": 25,
    "start_time": "2021-09-11T21:57:09.118Z"
   },
   {
    "duration": 12,
    "start_time": "2021-09-11T21:57:09.144Z"
   },
   {
    "duration": 12,
    "start_time": "2021-09-11T21:57:09.157Z"
   },
   {
    "duration": 12,
    "start_time": "2021-09-11T21:57:09.171Z"
   },
   {
    "duration": 22,
    "start_time": "2021-09-11T21:57:09.185Z"
   },
   {
    "duration": 15,
    "start_time": "2021-09-11T21:57:09.209Z"
   },
   {
    "duration": 14,
    "start_time": "2021-09-11T21:57:09.226Z"
   },
   {
    "duration": 10,
    "start_time": "2021-09-11T21:57:09.241Z"
   },
   {
    "duration": 27,
    "start_time": "2021-09-11T21:57:09.253Z"
   },
   {
    "duration": 5,
    "start_time": "2021-09-11T21:57:09.282Z"
   },
   {
    "duration": 23,
    "start_time": "2021-09-11T21:57:09.288Z"
   },
   {
    "duration": 13,
    "start_time": "2021-09-11T21:57:09.313Z"
   },
   {
    "duration": 452,
    "start_time": "2021-09-11T21:57:09.327Z"
   },
   {
    "duration": -717,
    "start_time": "2021-09-11T21:57:10.498Z"
   },
   {
    "duration": 15,
    "start_time": "2021-09-11T21:57:39.392Z"
   },
   {
    "duration": 15,
    "start_time": "2021-09-11T21:57:44.931Z"
   },
   {
    "duration": 1226,
    "start_time": "2021-09-11T21:58:00.130Z"
   },
   {
    "duration": 265,
    "start_time": "2021-09-11T21:58:01.359Z"
   },
   {
    "duration": 20,
    "start_time": "2021-09-11T21:58:01.626Z"
   },
   {
    "duration": 17,
    "start_time": "2021-09-11T21:58:01.648Z"
   },
   {
    "duration": 35,
    "start_time": "2021-09-11T21:58:01.667Z"
   },
   {
    "duration": 4,
    "start_time": "2021-09-11T21:58:01.703Z"
   },
   {
    "duration": 22,
    "start_time": "2021-09-11T21:58:01.708Z"
   },
   {
    "duration": 29,
    "start_time": "2021-09-11T21:58:01.732Z"
   },
   {
    "duration": 15,
    "start_time": "2021-09-11T21:58:01.763Z"
   },
   {
    "duration": 14,
    "start_time": "2021-09-11T21:58:01.780Z"
   },
   {
    "duration": 20,
    "start_time": "2021-09-11T21:58:01.795Z"
   },
   {
    "duration": 14,
    "start_time": "2021-09-11T21:58:01.817Z"
   },
   {
    "duration": 24,
    "start_time": "2021-09-11T21:58:01.833Z"
   },
   {
    "duration": 21,
    "start_time": "2021-09-11T21:58:01.859Z"
   },
   {
    "duration": 13,
    "start_time": "2021-09-11T21:58:01.882Z"
   },
   {
    "duration": 9,
    "start_time": "2021-09-11T21:58:01.897Z"
   },
   {
    "duration": 23,
    "start_time": "2021-09-11T21:58:01.908Z"
   },
   {
    "duration": 24,
    "start_time": "2021-09-11T21:58:01.933Z"
   },
   {
    "duration": 20,
    "start_time": "2021-09-11T21:58:01.959Z"
   },
   {
    "duration": 32,
    "start_time": "2021-09-11T21:58:01.981Z"
   },
   {
    "duration": 32,
    "start_time": "2021-09-11T21:58:02.014Z"
   },
   {
    "duration": 18,
    "start_time": "2021-09-11T21:58:02.048Z"
   },
   {
    "duration": 17,
    "start_time": "2021-09-11T21:58:02.069Z"
   },
   {
    "duration": 20,
    "start_time": "2021-09-11T21:58:02.088Z"
   },
   {
    "duration": 24,
    "start_time": "2021-09-11T21:58:02.110Z"
   },
   {
    "duration": 16,
    "start_time": "2021-09-11T21:58:02.135Z"
   },
   {
    "duration": 12,
    "start_time": "2021-09-11T21:58:02.153Z"
   },
   {
    "duration": 18,
    "start_time": "2021-09-11T21:58:02.166Z"
   },
   {
    "duration": 12,
    "start_time": "2021-09-11T21:58:02.186Z"
   },
   {
    "duration": 13,
    "start_time": "2021-09-11T21:58:02.200Z"
   },
   {
    "duration": 7,
    "start_time": "2021-09-11T21:58:02.215Z"
   },
   {
    "duration": 28,
    "start_time": "2021-09-11T21:58:02.224Z"
   },
   {
    "duration": 18,
    "start_time": "2021-09-11T21:58:02.253Z"
   },
   {
    "duration": 10,
    "start_time": "2021-09-11T21:58:02.272Z"
   },
   {
    "duration": 9,
    "start_time": "2021-09-11T21:58:02.284Z"
   },
   {
    "duration": 18,
    "start_time": "2021-09-11T21:58:02.295Z"
   },
   {
    "duration": 7,
    "start_time": "2021-09-11T21:58:02.315Z"
   },
   {
    "duration": 7,
    "start_time": "2021-09-11T21:58:02.323Z"
   },
   {
    "duration": 18,
    "start_time": "2021-09-11T21:58:02.332Z"
   },
   {
    "duration": 2,
    "start_time": "2021-09-11T21:58:02.352Z"
   },
   {
    "duration": 27,
    "start_time": "2021-09-11T21:58:02.355Z"
   },
   {
    "duration": 10,
    "start_time": "2021-09-11T21:58:02.383Z"
   },
   {
    "duration": 12,
    "start_time": "2021-09-11T21:58:02.395Z"
   },
   {
    "duration": 9,
    "start_time": "2021-09-11T21:58:02.408Z"
   },
   {
    "duration": 23,
    "start_time": "2021-09-11T21:58:02.419Z"
   },
   {
    "duration": 129,
    "start_time": "2021-09-11T21:58:02.444Z"
   },
   {
    "duration": -1592,
    "start_time": "2021-09-11T21:58:04.167Z"
   },
   {
    "duration": -1597,
    "start_time": "2021-09-11T21:58:04.172Z"
   },
   {
    "duration": -1600,
    "start_time": "2021-09-11T21:58:04.176Z"
   },
   {
    "duration": 16,
    "start_time": "2021-09-11T21:58:22.238Z"
   },
   {
    "duration": 17,
    "start_time": "2021-09-11T21:58:37.195Z"
   },
   {
    "duration": 15,
    "start_time": "2021-09-11T21:58:39.267Z"
   },
   {
    "duration": 15,
    "start_time": "2021-09-11T21:58:39.971Z"
   },
   {
    "duration": 15,
    "start_time": "2021-09-11T21:58:52.115Z"
   },
   {
    "duration": 438,
    "start_time": "2021-09-11T21:59:13.759Z"
   },
   {
    "duration": 8,
    "start_time": "2021-09-11T21:59:19.783Z"
   },
   {
    "duration": 1242,
    "start_time": "2021-09-11T21:59:37.109Z"
   },
   {
    "duration": 276,
    "start_time": "2021-09-11T21:59:38.524Z"
   },
   {
    "duration": 21,
    "start_time": "2021-09-11T21:59:40.292Z"
   },
   {
    "duration": 11,
    "start_time": "2021-09-11T21:59:42.919Z"
   },
   {
    "duration": 31,
    "start_time": "2021-09-11T21:59:45.712Z"
   },
   {
    "duration": 4,
    "start_time": "2021-09-11T21:59:47.840Z"
   },
   {
    "duration": 9,
    "start_time": "2021-09-11T21:59:55.326Z"
   },
   {
    "duration": 19,
    "start_time": "2021-09-11T21:59:57.766Z"
   },
   {
    "duration": 10,
    "start_time": "2021-09-11T21:59:59.870Z"
   },
   {
    "duration": 8,
    "start_time": "2021-09-11T22:00:02.057Z"
   },
   {
    "duration": 7,
    "start_time": "2021-09-11T22:00:03.965Z"
   },
   {
    "duration": 5,
    "start_time": "2021-09-11T22:00:07.428Z"
   },
   {
    "duration": 3,
    "start_time": "2021-09-11T22:00:09.549Z"
   },
   {
    "duration": 13,
    "start_time": "2021-09-11T22:00:14.292Z"
   },
   {
    "duration": 9,
    "start_time": "2021-09-11T22:00:18.510Z"
   },
   {
    "duration": 6,
    "start_time": "2021-09-11T22:00:21.748Z"
   },
   {
    "duration": 5,
    "start_time": "2021-09-11T22:00:23.911Z"
   },
   {
    "duration": 5,
    "start_time": "2021-09-11T22:00:26.131Z"
   },
   {
    "duration": 4,
    "start_time": "2021-09-11T22:00:28.410Z"
   },
   {
    "duration": 8,
    "start_time": "2021-09-11T22:00:31.181Z"
   },
   {
    "duration": 4,
    "start_time": "2021-09-11T22:00:33.479Z"
   },
   {
    "duration": 5,
    "start_time": "2021-09-11T22:00:35.295Z"
   },
   {
    "duration": 4,
    "start_time": "2021-09-11T22:00:37.017Z"
   },
   {
    "duration": 7,
    "start_time": "2021-09-11T22:00:38.580Z"
   },
   {
    "duration": 4,
    "start_time": "2021-09-11T22:00:40.266Z"
   },
   {
    "duration": 4,
    "start_time": "2021-09-11T22:00:42.248Z"
   },
   {
    "duration": 5,
    "start_time": "2021-09-11T22:00:44.091Z"
   },
   {
    "duration": 5,
    "start_time": "2021-09-11T22:00:45.717Z"
   },
   {
    "duration": 9,
    "start_time": "2021-09-11T22:00:48.187Z"
   },
   {
    "duration": 5,
    "start_time": "2021-09-11T22:01:24.268Z"
   },
   {
    "duration": 13,
    "start_time": "2021-09-11T22:01:26.403Z"
   },
   {
    "duration": 10,
    "start_time": "2021-09-11T22:01:29.124Z"
   },
   {
    "duration": 8,
    "start_time": "2021-09-11T22:01:33.945Z"
   },
   {
    "duration": 8,
    "start_time": "2021-09-11T22:01:35.300Z"
   },
   {
    "duration": 6,
    "start_time": "2021-09-11T22:01:37.061Z"
   },
   {
    "duration": 8,
    "start_time": "2021-09-11T22:01:39.143Z"
   },
   {
    "duration": 16,
    "start_time": "2021-09-11T22:01:43.064Z"
   },
   {
    "duration": 15,
    "start_time": "2021-09-11T22:01:47.575Z"
   },
   {
    "duration": 6,
    "start_time": "2021-09-11T22:01:50.920Z"
   },
   {
    "duration": 5,
    "start_time": "2021-09-11T22:02:12.208Z"
   },
   {
    "duration": 10,
    "start_time": "2021-09-11T22:02:43.751Z"
   },
   {
    "duration": 11,
    "start_time": "2021-09-11T22:02:45.356Z"
   },
   {
    "duration": 8,
    "start_time": "2021-09-11T22:02:51.605Z"
   },
   {
    "duration": 7,
    "start_time": "2021-09-11T22:03:18.275Z"
   },
   {
    "duration": 8945,
    "start_time": "2021-09-11T22:05:49.846Z"
   },
   {
    "duration": 11491,
    "start_time": "2021-09-11T22:07:22.991Z"
   },
   {
    "duration": 7,
    "start_time": "2021-09-11T22:08:40.981Z"
   },
   {
    "duration": 18,
    "start_time": "2021-09-11T22:09:39.551Z"
   },
   {
    "duration": 27,
    "start_time": "2021-09-11T22:09:50.535Z"
   },
   {
    "duration": 17,
    "start_time": "2021-09-11T22:09:55.767Z"
   },
   {
    "duration": 364,
    "start_time": "2021-09-11T22:11:19.860Z"
   },
   {
    "duration": 11,
    "start_time": "2021-09-11T22:11:24.692Z"
   },
   {
    "duration": 7,
    "start_time": "2021-09-11T22:11:42.901Z"
   },
   {
    "duration": 6,
    "start_time": "2021-09-11T22:12:01.307Z"
   },
   {
    "duration": 4,
    "start_time": "2021-09-11T22:12:27.749Z"
   },
   {
    "duration": 6,
    "start_time": "2021-09-11T22:12:29.722Z"
   },
   {
    "duration": 6,
    "start_time": "2021-09-11T22:13:12.190Z"
   },
   {
    "duration": 7,
    "start_time": "2021-09-11T22:14:10.524Z"
   },
   {
    "duration": 6,
    "start_time": "2021-09-11T22:14:20.120Z"
   },
   {
    "duration": 5,
    "start_time": "2021-09-11T22:14:33.982Z"
   },
   {
    "duration": 4,
    "start_time": "2021-09-11T22:15:26.354Z"
   },
   {
    "duration": 6,
    "start_time": "2021-09-11T22:15:54.109Z"
   },
   {
    "duration": 5,
    "start_time": "2021-09-11T22:16:04.541Z"
   },
   {
    "duration": 6,
    "start_time": "2021-09-11T22:16:38.495Z"
   },
   {
    "duration": 5,
    "start_time": "2021-09-11T22:16:53.769Z"
   },
   {
    "duration": 11,
    "start_time": "2021-09-11T22:17:01.551Z"
   },
   {
    "duration": 2,
    "start_time": "2021-09-11T22:17:19.288Z"
   },
   {
    "duration": 2,
    "start_time": "2021-09-11T22:17:21.753Z"
   },
   {
    "duration": 3,
    "start_time": "2021-09-11T22:17:24.161Z"
   },
   {
    "duration": 2,
    "start_time": "2021-09-11T22:17:26.224Z"
   },
   {
    "duration": 5,
    "start_time": "2021-09-11T22:17:57.888Z"
   },
   {
    "duration": 5,
    "start_time": "2021-09-11T22:18:01.603Z"
   },
   {
    "duration": 1210,
    "start_time": "2021-09-11T22:18:11.527Z"
   },
   {
    "duration": 454,
    "start_time": "2021-09-11T22:18:12.739Z"
   },
   {
    "duration": 20,
    "start_time": "2021-09-11T22:18:13.195Z"
   },
   {
    "duration": 11,
    "start_time": "2021-09-11T22:18:13.217Z"
   },
   {
    "duration": 47,
    "start_time": "2021-09-11T22:18:13.230Z"
   },
   {
    "duration": 3,
    "start_time": "2021-09-11T22:18:13.280Z"
   },
   {
    "duration": 14,
    "start_time": "2021-09-11T22:18:13.285Z"
   },
   {
    "duration": 16,
    "start_time": "2021-09-11T22:18:13.301Z"
   },
   {
    "duration": 10,
    "start_time": "2021-09-11T22:18:13.320Z"
   },
   {
    "duration": 6,
    "start_time": "2021-09-11T22:18:13.332Z"
   },
   {
    "duration": 40,
    "start_time": "2021-09-11T22:18:13.340Z"
   },
   {
    "duration": 4,
    "start_time": "2021-09-11T22:18:13.382Z"
   },
   {
    "duration": 6,
    "start_time": "2021-09-11T22:18:13.388Z"
   },
   {
    "duration": 16,
    "start_time": "2021-09-11T22:18:13.396Z"
   },
   {
    "duration": 47,
    "start_time": "2021-09-11T22:18:13.414Z"
   },
   {
    "duration": 5,
    "start_time": "2021-09-11T22:18:13.463Z"
   },
   {
    "duration": 6,
    "start_time": "2021-09-11T22:18:13.470Z"
   },
   {
    "duration": 9,
    "start_time": "2021-09-11T22:18:13.477Z"
   },
   {
    "duration": 6,
    "start_time": "2021-09-11T22:18:13.487Z"
   },
   {
    "duration": 9,
    "start_time": "2021-09-11T22:18:13.494Z"
   },
   {
    "duration": 6,
    "start_time": "2021-09-11T22:18:13.504Z"
   },
   {
    "duration": 6,
    "start_time": "2021-09-11T22:18:13.511Z"
   },
   {
    "duration": 4,
    "start_time": "2021-09-11T22:18:13.519Z"
   },
   {
    "duration": 8,
    "start_time": "2021-09-11T22:18:13.524Z"
   },
   {
    "duration": 10,
    "start_time": "2021-09-11T22:18:13.533Z"
   },
   {
    "duration": 34,
    "start_time": "2021-09-11T22:18:13.544Z"
   },
   {
    "duration": 4,
    "start_time": "2021-09-11T22:18:13.582Z"
   },
   {
    "duration": 38,
    "start_time": "2021-09-11T22:18:13.588Z"
   },
   {
    "duration": 34,
    "start_time": "2021-09-11T22:18:13.628Z"
   },
   {
    "duration": 6,
    "start_time": "2021-09-11T22:18:13.664Z"
   },
   {
    "duration": 15,
    "start_time": "2021-09-11T22:18:13.672Z"
   },
   {
    "duration": 10,
    "start_time": "2021-09-11T22:18:13.689Z"
   },
   {
    "duration": 7,
    "start_time": "2021-09-11T22:18:13.701Z"
   },
   {
    "duration": 6,
    "start_time": "2021-09-11T22:18:13.710Z"
   },
   {
    "duration": 6,
    "start_time": "2021-09-11T22:18:13.717Z"
   },
   {
    "duration": 16,
    "start_time": "2021-09-11T22:18:13.724Z"
   },
   {
    "duration": 4,
    "start_time": "2021-09-11T22:18:13.742Z"
   },
   {
    "duration": 33,
    "start_time": "2021-09-11T22:18:13.748Z"
   },
   {
    "duration": 14,
    "start_time": "2021-09-11T22:18:13.783Z"
   },
   {
    "duration": 9,
    "start_time": "2021-09-11T22:18:13.799Z"
   },
   {
    "duration": 12,
    "start_time": "2021-09-11T22:18:13.810Z"
   },
   {
    "duration": 4,
    "start_time": "2021-09-11T22:18:13.824Z"
   },
   {
    "duration": 7,
    "start_time": "2021-09-11T22:18:13.830Z"
   },
   {
    "duration": 38,
    "start_time": "2021-09-11T22:18:13.839Z"
   },
   {
    "duration": 3,
    "start_time": "2021-09-11T22:18:13.878Z"
   },
   {
    "duration": 4,
    "start_time": "2021-09-11T22:18:13.883Z"
   },
   {
    "duration": 5,
    "start_time": "2021-09-11T22:18:13.889Z"
   },
   {
    "duration": 5,
    "start_time": "2021-09-11T22:18:13.896Z"
   },
   {
    "duration": 4,
    "start_time": "2021-09-11T22:18:13.903Z"
   },
   {
    "duration": 5,
    "start_time": "2021-09-11T22:18:13.908Z"
   },
   {
    "duration": 7,
    "start_time": "2021-09-11T22:18:13.914Z"
   },
   {
    "duration": 6,
    "start_time": "2021-09-11T22:18:13.923Z"
   },
   {
    "duration": 3,
    "start_time": "2021-09-11T22:18:13.931Z"
   },
   {
    "duration": 6,
    "start_time": "2021-09-11T22:18:13.937Z"
   },
   {
    "duration": 33,
    "start_time": "2021-09-11T22:18:13.944Z"
   },
   {
    "duration": 5,
    "start_time": "2021-09-11T22:18:13.979Z"
   },
   {
    "duration": 519,
    "start_time": "2021-09-11T22:18:13.986Z"
   },
   {
    "duration": -2154,
    "start_time": "2021-09-11T22:18:16.661Z"
   },
   {
    "duration": 6,
    "start_time": "2021-09-11T22:18:49.748Z"
   },
   {
    "duration": 6,
    "start_time": "2021-09-11T22:18:53.944Z"
   },
   {
    "duration": 6,
    "start_time": "2021-09-11T22:18:56.108Z"
   },
   {
    "duration": 5,
    "start_time": "2021-09-11T22:19:00.388Z"
   },
   {
    "duration": 5,
    "start_time": "2021-09-11T22:19:30.653Z"
   },
   {
    "duration": 5,
    "start_time": "2021-09-11T22:19:43.723Z"
   },
   {
    "duration": 5,
    "start_time": "2021-09-11T22:20:43.028Z"
   },
   {
    "duration": 8,
    "start_time": "2021-09-11T22:20:44.738Z"
   },
   {
    "duration": 5,
    "start_time": "2021-09-11T22:20:46.192Z"
   },
   {
    "duration": 1206,
    "start_time": "2021-09-11T22:20:56.441Z"
   },
   {
    "duration": 268,
    "start_time": "2021-09-11T22:20:58.558Z"
   },
   {
    "duration": 21,
    "start_time": "2021-09-11T22:21:00.590Z"
   },
   {
    "duration": 11,
    "start_time": "2021-09-11T22:21:11.620Z"
   },
   {
    "duration": 32,
    "start_time": "2021-09-11T22:21:14.394Z"
   },
   {
    "duration": 4,
    "start_time": "2021-09-11T22:21:17.142Z"
   },
   {
    "duration": 4,
    "start_time": "2021-09-11T22:21:19.632Z"
   },
   {
    "duration": 9,
    "start_time": "2021-09-11T22:21:26.221Z"
   },
   {
    "duration": 9,
    "start_time": "2021-09-11T22:21:27.715Z"
   },
   {
    "duration": 9,
    "start_time": "2021-09-11T22:21:28.568Z"
   },
   {
    "duration": 11,
    "start_time": "2021-09-11T22:21:30.772Z"
   },
   {
    "duration": 11,
    "start_time": "2021-09-11T22:21:31.936Z"
   },
   {
    "duration": 9,
    "start_time": "2021-09-11T22:21:34.572Z"
   },
   {
    "duration": 20,
    "start_time": "2021-09-11T22:21:36.609Z"
   },
   {
    "duration": 10,
    "start_time": "2021-09-11T22:21:38.754Z"
   },
   {
    "duration": 6,
    "start_time": "2021-09-11T22:21:40.839Z"
   },
   {
    "duration": 7,
    "start_time": "2021-09-11T22:21:47.987Z"
   },
   {
    "duration": 4,
    "start_time": "2021-09-11T22:21:54.091Z"
   },
   {
    "duration": 3,
    "start_time": "2021-09-11T22:21:56.606Z"
   },
   {
    "duration": 13,
    "start_time": "2021-09-11T22:22:28.413Z"
   },
   {
    "duration": 10,
    "start_time": "2021-09-11T22:22:30.619Z"
   },
   {
    "duration": 6,
    "start_time": "2021-09-11T22:22:33.545Z"
   },
   {
    "duration": 5,
    "start_time": "2021-09-11T22:22:35.999Z"
   },
   {
    "duration": 5,
    "start_time": "2021-09-11T22:22:37.985Z"
   },
   {
    "duration": 4,
    "start_time": "2021-09-11T22:22:41.799Z"
   },
   {
    "duration": 7,
    "start_time": "2021-09-11T22:22:44.391Z"
   },
   {
    "duration": 4,
    "start_time": "2021-09-11T22:22:46.433Z"
   },
   {
    "duration": 4,
    "start_time": "2021-09-11T22:22:48.287Z"
   },
   {
    "duration": 4,
    "start_time": "2021-09-11T22:22:50.032Z"
   },
   {
    "duration": 7,
    "start_time": "2021-09-11T22:22:52.111Z"
   },
   {
    "duration": 5,
    "start_time": "2021-09-11T22:22:53.993Z"
   },
   {
    "duration": 4,
    "start_time": "2021-09-11T22:22:56.494Z"
   },
   {
    "duration": 6,
    "start_time": "2021-09-11T22:22:58.705Z"
   },
   {
    "duration": 8,
    "start_time": "2021-09-11T22:23:00.786Z"
   },
   {
    "duration": 5,
    "start_time": "2021-09-11T22:23:15.152Z"
   },
   {
    "duration": 12,
    "start_time": "2021-09-11T22:23:17.698Z"
   },
   {
    "duration": 10,
    "start_time": "2021-09-11T22:23:19.758Z"
   },
   {
    "duration": 6,
    "start_time": "2021-09-11T22:23:22.825Z"
   },
   {
    "duration": 6,
    "start_time": "2021-09-11T22:23:24.375Z"
   },
   {
    "duration": 6,
    "start_time": "2021-09-11T22:23:26.564Z"
   },
   {
    "duration": 15,
    "start_time": "2021-09-11T22:23:29.856Z"
   },
   {
    "duration": 5,
    "start_time": "2021-09-11T22:23:31.675Z"
   },
   {
    "duration": 440,
    "start_time": "2021-09-11T22:23:51.220Z"
   },
   {
    "duration": 5,
    "start_time": "2021-09-11T22:23:57.460Z"
   },
   {
    "duration": 8,
    "start_time": "2021-09-11T22:24:02.772Z"
   },
   {
    "duration": 10,
    "start_time": "2021-09-11T22:24:05.139Z"
   },
   {
    "duration": 8,
    "start_time": "2021-09-11T22:24:07.990Z"
   },
   {
    "duration": 6,
    "start_time": "2021-09-11T22:24:10.028Z"
   },
   {
    "duration": 6,
    "start_time": "2021-09-11T22:24:19.143Z"
   },
   {
    "duration": 5,
    "start_time": "2021-09-11T22:24:35.778Z"
   },
   {
    "duration": 6,
    "start_time": "2021-09-11T22:24:40.006Z"
   },
   {
    "duration": 13,
    "start_time": "2021-09-11T22:25:07.752Z"
   },
   {
    "duration": 5,
    "start_time": "2021-09-11T22:25:25.257Z"
   },
   {
    "duration": 7,
    "start_time": "2021-09-11T22:25:30.448Z"
   },
   {
    "duration": 7,
    "start_time": "2021-09-11T22:25:32.549Z"
   },
   {
    "duration": 18,
    "start_time": "2021-09-11T22:25:35.371Z"
   },
   {
    "duration": 6,
    "start_time": "2021-09-11T22:25:38.916Z"
   },
   {
    "duration": 15,
    "start_time": "2021-09-11T22:25:50.109Z"
   },
   {
    "duration": 1299,
    "start_time": "2021-09-11T22:26:11.054Z"
   },
   {
    "duration": 273,
    "start_time": "2021-09-11T22:26:12.355Z"
   },
   {
    "duration": 21,
    "start_time": "2021-09-11T22:26:12.630Z"
   },
   {
    "duration": 13,
    "start_time": "2021-09-11T22:26:12.653Z"
   },
   {
    "duration": 33,
    "start_time": "2021-09-11T22:26:12.667Z"
   },
   {
    "duration": 4,
    "start_time": "2021-09-11T22:26:12.702Z"
   },
   {
    "duration": 12,
    "start_time": "2021-09-11T22:26:12.707Z"
   },
   {
    "duration": 16,
    "start_time": "2021-09-11T22:26:12.721Z"
   },
   {
    "duration": 40,
    "start_time": "2021-09-11T22:26:12.739Z"
   },
   {
    "duration": 7,
    "start_time": "2021-09-11T22:26:12.781Z"
   },
   {
    "duration": 8,
    "start_time": "2021-09-11T22:26:12.789Z"
   },
   {
    "duration": 4,
    "start_time": "2021-09-11T22:26:12.798Z"
   },
   {
    "duration": 8,
    "start_time": "2021-09-11T22:26:12.804Z"
   },
   {
    "duration": 15,
    "start_time": "2021-09-11T22:26:12.813Z"
   },
   {
    "duration": 9,
    "start_time": "2021-09-11T22:26:12.830Z"
   },
   {
    "duration": 38,
    "start_time": "2021-09-11T22:26:12.840Z"
   },
   {
    "duration": 5,
    "start_time": "2021-09-11T22:26:12.879Z"
   },
   {
    "duration": 5,
    "start_time": "2021-09-11T22:26:12.886Z"
   },
   {
    "duration": 5,
    "start_time": "2021-09-11T22:26:12.892Z"
   },
   {
    "duration": 9,
    "start_time": "2021-09-11T22:26:12.898Z"
   },
   {
    "duration": 5,
    "start_time": "2021-09-11T22:26:12.909Z"
   },
   {
    "duration": 7,
    "start_time": "2021-09-11T22:26:12.916Z"
   },
   {
    "duration": 4,
    "start_time": "2021-09-11T22:26:12.927Z"
   },
   {
    "duration": 46,
    "start_time": "2021-09-11T22:26:12.933Z"
   },
   {
    "duration": 9,
    "start_time": "2021-09-11T22:26:12.980Z"
   },
   {
    "duration": 3,
    "start_time": "2021-09-11T22:26:12.991Z"
   },
   {
    "duration": 6,
    "start_time": "2021-09-11T22:26:12.996Z"
   },
   {
    "duration": 2,
    "start_time": "2021-09-11T22:26:13.004Z"
   },
   {
    "duration": 6,
    "start_time": "2021-09-11T22:26:13.007Z"
   },
   {
    "duration": 12,
    "start_time": "2021-09-11T22:26:13.015Z"
   },
   {
    "duration": 10,
    "start_time": "2021-09-11T22:26:13.029Z"
   },
   {
    "duration": 6,
    "start_time": "2021-09-11T22:26:13.077Z"
   },
   {
    "duration": 6,
    "start_time": "2021-09-11T22:26:13.085Z"
   },
   {
    "duration": 7,
    "start_time": "2021-09-11T22:26:13.092Z"
   },
   {
    "duration": 16,
    "start_time": "2021-09-11T22:26:13.101Z"
   },
   {
    "duration": 4,
    "start_time": "2021-09-11T22:26:13.119Z"
   },
   {
    "duration": 6,
    "start_time": "2021-09-11T22:26:13.124Z"
   },
   {
    "duration": 8,
    "start_time": "2021-09-11T22:26:13.132Z"
   },
   {
    "duration": 10,
    "start_time": "2021-09-11T22:26:13.177Z"
   },
   {
    "duration": 11,
    "start_time": "2021-09-11T22:26:13.188Z"
   },
   {
    "duration": 9,
    "start_time": "2021-09-11T22:26:13.200Z"
   },
   {
    "duration": 8,
    "start_time": "2021-09-11T22:26:13.211Z"
   },
   {
    "duration": 6,
    "start_time": "2021-09-11T22:26:13.221Z"
   },
   {
    "duration": 5,
    "start_time": "2021-09-11T22:26:13.229Z"
   },
   {
    "duration": 4,
    "start_time": "2021-09-11T22:26:13.235Z"
   },
   {
    "duration": 4,
    "start_time": "2021-09-11T22:26:13.241Z"
   },
   {
    "duration": 6,
    "start_time": "2021-09-11T22:26:13.247Z"
   },
   {
    "duration": 23,
    "start_time": "2021-09-11T22:26:13.254Z"
   },
   {
    "duration": 8,
    "start_time": "2021-09-11T22:26:13.279Z"
   },
   {
    "duration": 8,
    "start_time": "2021-09-11T22:26:13.288Z"
   },
   {
    "duration": 11,
    "start_time": "2021-09-11T22:26:13.298Z"
   },
   {
    "duration": 6,
    "start_time": "2021-09-11T22:26:13.311Z"
   },
   {
    "duration": 6,
    "start_time": "2021-09-11T22:26:13.319Z"
   },
   {
    "duration": 6,
    "start_time": "2021-09-11T22:26:13.327Z"
   },
   {
    "duration": 6,
    "start_time": "2021-09-11T22:26:13.335Z"
   },
   {
    "duration": 5,
    "start_time": "2021-09-11T22:26:13.343Z"
   },
   {
    "duration": 10,
    "start_time": "2021-09-11T22:26:13.350Z"
   },
   {
    "duration": 19,
    "start_time": "2021-09-11T22:26:13.362Z"
   },
   {
    "duration": 9,
    "start_time": "2021-09-11T22:26:13.383Z"
   },
   {
    "duration": 447,
    "start_time": "2021-09-11T22:26:13.394Z"
   },
   {
    "duration": -1869,
    "start_time": "2021-09-11T22:26:15.711Z"
   },
   {
    "duration": 15,
    "start_time": "2021-09-11T22:27:25.602Z"
   },
   {
    "duration": 17,
    "start_time": "2021-09-11T22:27:28.253Z"
   },
   {
    "duration": 1241,
    "start_time": "2021-09-11T22:27:39.904Z"
   },
   {
    "duration": 260,
    "start_time": "2021-09-11T22:27:41.146Z"
   },
   {
    "duration": 19,
    "start_time": "2021-09-11T22:27:41.409Z"
   },
   {
    "duration": 13,
    "start_time": "2021-09-11T22:27:41.430Z"
   },
   {
    "duration": 42,
    "start_time": "2021-09-11T22:27:41.445Z"
   },
   {
    "duration": 3,
    "start_time": "2021-09-11T22:27:41.489Z"
   },
   {
    "duration": 12,
    "start_time": "2021-09-11T22:27:41.493Z"
   },
   {
    "duration": 15,
    "start_time": "2021-09-11T22:27:41.507Z"
   },
   {
    "duration": 9,
    "start_time": "2021-09-11T22:27:41.524Z"
   },
   {
    "duration": 5,
    "start_time": "2021-09-11T22:27:41.535Z"
   },
   {
    "duration": 35,
    "start_time": "2021-09-11T22:27:41.542Z"
   },
   {
    "duration": 4,
    "start_time": "2021-09-11T22:27:41.578Z"
   },
   {
    "duration": 6,
    "start_time": "2021-09-11T22:27:41.584Z"
   },
   {
    "duration": 13,
    "start_time": "2021-09-11T22:27:41.592Z"
   },
   {
    "duration": 12,
    "start_time": "2021-09-11T22:27:41.607Z"
   },
   {
    "duration": 6,
    "start_time": "2021-09-11T22:27:41.621Z"
   },
   {
    "duration": 5,
    "start_time": "2021-09-11T22:27:41.629Z"
   },
   {
    "duration": 41,
    "start_time": "2021-09-11T22:27:41.636Z"
   },
   {
    "duration": 4,
    "start_time": "2021-09-11T22:27:41.679Z"
   },
   {
    "duration": 9,
    "start_time": "2021-09-11T22:27:41.684Z"
   },
   {
    "duration": 5,
    "start_time": "2021-09-11T22:27:41.694Z"
   },
   {
    "duration": 9,
    "start_time": "2021-09-11T22:27:41.701Z"
   },
   {
    "duration": 4,
    "start_time": "2021-09-11T22:27:41.713Z"
   },
   {
    "duration": 9,
    "start_time": "2021-09-11T22:27:41.719Z"
   },
   {
    "duration": 6,
    "start_time": "2021-09-11T22:27:41.729Z"
   },
   {
    "duration": 6,
    "start_time": "2021-09-11T22:27:41.777Z"
   },
   {
    "duration": 11,
    "start_time": "2021-09-11T22:27:41.784Z"
   },
   {
    "duration": 5,
    "start_time": "2021-09-11T22:27:41.797Z"
   },
   {
    "duration": 8,
    "start_time": "2021-09-11T22:27:41.804Z"
   },
   {
    "duration": 15,
    "start_time": "2021-09-11T22:27:41.813Z"
   },
   {
    "duration": 11,
    "start_time": "2021-09-11T22:27:41.830Z"
   },
   {
    "duration": 7,
    "start_time": "2021-09-11T22:27:41.843Z"
   },
   {
    "duration": 5,
    "start_time": "2021-09-11T22:27:41.877Z"
   },
   {
    "duration": 5,
    "start_time": "2021-09-11T22:27:41.884Z"
   },
   {
    "duration": 16,
    "start_time": "2021-09-11T22:27:41.891Z"
   },
   {
    "duration": 12,
    "start_time": "2021-09-11T22:27:41.908Z"
   },
   {
    "duration": 5,
    "start_time": "2021-09-11T22:27:41.922Z"
   },
   {
    "duration": 9,
    "start_time": "2021-09-11T22:27:41.929Z"
   },
   {
    "duration": 42,
    "start_time": "2021-09-11T22:27:41.939Z"
   },
   {
    "duration": 13,
    "start_time": "2021-09-11T22:27:41.983Z"
   },
   {
    "duration": 10,
    "start_time": "2021-09-11T22:27:41.998Z"
   },
   {
    "duration": 7,
    "start_time": "2021-09-11T22:27:42.010Z"
   },
   {
    "duration": 9,
    "start_time": "2021-09-11T22:27:42.018Z"
   },
   {
    "duration": 7,
    "start_time": "2021-09-11T22:27:42.028Z"
   },
   {
    "duration": 3,
    "start_time": "2021-09-11T22:27:42.037Z"
   },
   {
    "duration": 4,
    "start_time": "2021-09-11T22:27:42.042Z"
   },
   {
    "duration": 5,
    "start_time": "2021-09-11T22:27:42.047Z"
   },
   {
    "duration": 2,
    "start_time": "2021-09-11T22:27:42.077Z"
   },
   {
    "duration": 5,
    "start_time": "2021-09-11T22:27:42.081Z"
   },
   {
    "duration": 4,
    "start_time": "2021-09-11T22:27:42.087Z"
   },
   {
    "duration": 4,
    "start_time": "2021-09-11T22:27:42.092Z"
   },
   {
    "duration": 5,
    "start_time": "2021-09-11T22:27:42.097Z"
   },
   {
    "duration": 4,
    "start_time": "2021-09-11T22:27:42.104Z"
   },
   {
    "duration": 4,
    "start_time": "2021-09-11T22:27:42.109Z"
   },
   {
    "duration": 5,
    "start_time": "2021-09-11T22:27:42.114Z"
   },
   {
    "duration": 11,
    "start_time": "2021-09-11T22:27:42.120Z"
   },
   {
    "duration": 6,
    "start_time": "2021-09-11T22:27:42.133Z"
   },
   {
    "duration": 37,
    "start_time": "2021-09-11T22:27:42.141Z"
   },
   {
    "duration": 6,
    "start_time": "2021-09-11T22:27:42.180Z"
   },
   {
    "duration": 12,
    "start_time": "2021-09-11T22:27:42.188Z"
   },
   {
    "duration": 435,
    "start_time": "2021-09-11T22:27:42.202Z"
   },
   {
    "duration": -2079,
    "start_time": "2021-09-11T22:27:44.718Z"
   },
   {
    "duration": 16,
    "start_time": "2021-09-11T22:28:20.955Z"
   },
   {
    "duration": 7,
    "start_time": "2021-09-11T22:29:48.701Z"
   },
   {
    "duration": 5,
    "start_time": "2021-09-11T22:30:08.734Z"
   },
   {
    "duration": 19,
    "start_time": "2021-09-11T22:30:57.477Z"
   },
   {
    "duration": 5,
    "start_time": "2021-09-11T22:31:00.038Z"
   },
   {
    "duration": 5,
    "start_time": "2021-09-11T22:31:03.439Z"
   },
   {
    "duration": 5,
    "start_time": "2021-09-11T22:31:06.007Z"
   },
   {
    "duration": 6,
    "start_time": "2021-09-11T22:31:07.192Z"
   },
   {
    "duration": 1192,
    "start_time": "2021-09-11T22:31:46.898Z"
   },
   {
    "duration": 281,
    "start_time": "2021-09-11T22:31:48.091Z"
   },
   {
    "duration": 20,
    "start_time": "2021-09-11T22:31:48.373Z"
   },
   {
    "duration": 14,
    "start_time": "2021-09-11T22:31:48.394Z"
   },
   {
    "duration": 30,
    "start_time": "2021-09-11T22:31:48.409Z"
   },
   {
    "duration": 3,
    "start_time": "2021-09-11T22:31:48.441Z"
   },
   {
    "duration": 36,
    "start_time": "2021-09-11T22:31:48.445Z"
   },
   {
    "duration": 16,
    "start_time": "2021-09-11T22:31:48.483Z"
   },
   {
    "duration": 9,
    "start_time": "2021-09-11T22:31:48.501Z"
   },
   {
    "duration": 6,
    "start_time": "2021-09-11T22:31:48.512Z"
   },
   {
    "duration": 9,
    "start_time": "2021-09-11T22:31:48.519Z"
   },
   {
    "duration": 4,
    "start_time": "2021-09-11T22:31:48.530Z"
   },
   {
    "duration": 5,
    "start_time": "2021-09-11T22:31:48.535Z"
   },
   {
    "duration": 42,
    "start_time": "2021-09-11T22:31:48.542Z"
   },
   {
    "duration": 9,
    "start_time": "2021-09-11T22:31:48.586Z"
   },
   {
    "duration": 5,
    "start_time": "2021-09-11T22:31:48.597Z"
   },
   {
    "duration": 7,
    "start_time": "2021-09-11T22:31:48.603Z"
   },
   {
    "duration": 6,
    "start_time": "2021-09-11T22:31:48.611Z"
   },
   {
    "duration": 5,
    "start_time": "2021-09-11T22:31:48.618Z"
   },
   {
    "duration": 8,
    "start_time": "2021-09-11T22:31:48.624Z"
   },
   {
    "duration": 45,
    "start_time": "2021-09-11T22:31:48.633Z"
   },
   {
    "duration": 6,
    "start_time": "2021-09-11T22:31:48.680Z"
   },
   {
    "duration": 5,
    "start_time": "2021-09-11T22:31:48.690Z"
   },
   {
    "duration": 10,
    "start_time": "2021-09-11T22:31:48.697Z"
   },
   {
    "duration": 9,
    "start_time": "2021-09-11T22:31:48.709Z"
   },
   {
    "duration": 4,
    "start_time": "2021-09-11T22:31:48.720Z"
   },
   {
    "duration": 6,
    "start_time": "2021-09-11T22:31:48.726Z"
   },
   {
    "duration": 2,
    "start_time": "2021-09-11T22:31:48.734Z"
   },
   {
    "duration": 40,
    "start_time": "2021-09-11T22:31:48.737Z"
   },
   {
    "duration": 14,
    "start_time": "2021-09-11T22:31:48.779Z"
   },
   {
    "duration": 9,
    "start_time": "2021-09-11T22:31:48.795Z"
   },
   {
    "duration": 7,
    "start_time": "2021-09-11T22:31:48.806Z"
   },
   {
    "duration": 6,
    "start_time": "2021-09-11T22:31:48.814Z"
   },
   {
    "duration": 8,
    "start_time": "2021-09-11T22:31:48.821Z"
   },
   {
    "duration": 46,
    "start_time": "2021-09-11T22:31:48.831Z"
   },
   {
    "duration": 2,
    "start_time": "2021-09-11T22:31:48.879Z"
   },
   {
    "duration": 5,
    "start_time": "2021-09-11T22:31:48.883Z"
   },
   {
    "duration": 4,
    "start_time": "2021-09-11T22:31:48.889Z"
   },
   {
    "duration": 4,
    "start_time": "2021-09-11T22:31:48.895Z"
   },
   {
    "duration": 5,
    "start_time": "2021-09-11T22:31:48.900Z"
   },
   {
    "duration": 6,
    "start_time": "2021-09-11T22:31:48.906Z"
   },
   {
    "duration": 10,
    "start_time": "2021-09-11T22:31:48.913Z"
   },
   {
    "duration": 4,
    "start_time": "2021-09-11T22:31:48.925Z"
   },
   {
    "duration": 4,
    "start_time": "2021-09-11T22:31:48.930Z"
   },
   {
    "duration": 4,
    "start_time": "2021-09-11T22:31:48.936Z"
   },
   {
    "duration": 4,
    "start_time": "2021-09-11T22:31:48.942Z"
   },
   {
    "duration": 29,
    "start_time": "2021-09-11T22:31:48.948Z"
   },
   {
    "duration": 6,
    "start_time": "2021-09-11T22:31:48.979Z"
   },
   {
    "duration": 6,
    "start_time": "2021-09-11T22:31:48.987Z"
   },
   {
    "duration": 5,
    "start_time": "2021-09-11T22:31:48.995Z"
   },
   {
    "duration": 4,
    "start_time": "2021-09-11T22:31:49.001Z"
   },
   {
    "duration": 6,
    "start_time": "2021-09-11T22:31:49.007Z"
   },
   {
    "duration": 6,
    "start_time": "2021-09-11T22:31:49.014Z"
   },
   {
    "duration": 6,
    "start_time": "2021-09-11T22:31:49.021Z"
   },
   {
    "duration": 7,
    "start_time": "2021-09-11T22:31:49.028Z"
   },
   {
    "duration": 5,
    "start_time": "2021-09-11T22:31:49.037Z"
   },
   {
    "duration": 4,
    "start_time": "2021-09-11T22:31:49.043Z"
   },
   {
    "duration": 4,
    "start_time": "2021-09-11T22:31:49.049Z"
   },
   {
    "duration": 5,
    "start_time": "2021-09-11T22:31:49.054Z"
   },
   {
    "duration": 2,
    "start_time": "2021-09-11T22:31:49.076Z"
   },
   {
    "duration": 8,
    "start_time": "2021-09-11T22:31:49.080Z"
   },
   {
    "duration": 11,
    "start_time": "2021-09-11T22:31:49.090Z"
   },
   {
    "duration": 716,
    "start_time": "2021-09-11T22:31:49.102Z"
   },
   {
    "duration": -1440,
    "start_time": "2021-09-11T22:31:51.260Z"
   },
   {
    "duration": 17,
    "start_time": "2021-09-11T22:32:14.852Z"
   },
   {
    "duration": 5,
    "start_time": "2021-09-11T22:32:18.008Z"
   },
   {
    "duration": 5,
    "start_time": "2021-09-11T22:32:32.496Z"
   },
   {
    "duration": 5,
    "start_time": "2021-09-11T22:33:14.835Z"
   },
   {
    "duration": 15,
    "start_time": "2021-09-11T22:33:16.300Z"
   },
   {
    "duration": 16,
    "start_time": "2021-09-11T22:33:26.167Z"
   },
   {
    "duration": 18,
    "start_time": "2021-09-11T22:33:27.828Z"
   },
   {
    "duration": 15,
    "start_time": "2021-09-11T22:33:29.235Z"
   },
   {
    "duration": 413,
    "start_time": "2021-09-11T22:34:09.970Z"
   },
   {
    "duration": 11,
    "start_time": "2021-09-11T22:34:19.087Z"
   },
   {
    "duration": 15,
    "start_time": "2021-09-11T22:34:26.404Z"
   },
   {
    "duration": 652,
    "start_time": "2021-09-11T22:34:33.467Z"
   },
   {
    "duration": 697,
    "start_time": "2021-09-11T22:35:07.110Z"
   },
   {
    "duration": 7,
    "start_time": "2021-09-11T22:35:19.004Z"
   },
   {
    "duration": 10,
    "start_time": "2021-09-11T22:35:27.201Z"
   },
   {
    "duration": 7,
    "start_time": "2021-09-11T22:35:38.966Z"
   },
   {
    "duration": 7,
    "start_time": "2021-09-11T22:35:40.582Z"
   },
   {
    "duration": 6,
    "start_time": "2021-09-11T22:36:38.355Z"
   },
   {
    "duration": 3187,
    "start_time": "2021-09-11T22:36:46.665Z"
   },
   {
    "duration": 275,
    "start_time": "2021-09-11T22:36:49.854Z"
   },
   {
    "duration": 20,
    "start_time": "2021-09-11T22:36:50.131Z"
   },
   {
    "duration": 16,
    "start_time": "2021-09-11T22:36:50.153Z"
   },
   {
    "duration": 32,
    "start_time": "2021-09-11T22:36:50.171Z"
   },
   {
    "duration": 4,
    "start_time": "2021-09-11T22:36:50.204Z"
   },
   {
    "duration": 18,
    "start_time": "2021-09-11T22:36:50.210Z"
   },
   {
    "duration": 15,
    "start_time": "2021-09-11T22:36:50.230Z"
   },
   {
    "duration": 37,
    "start_time": "2021-09-11T22:36:50.247Z"
   },
   {
    "duration": 6,
    "start_time": "2021-09-11T22:36:50.286Z"
   },
   {
    "duration": 6,
    "start_time": "2021-09-11T22:36:50.293Z"
   },
   {
    "duration": 5,
    "start_time": "2021-09-11T22:36:50.301Z"
   },
   {
    "duration": 4,
    "start_time": "2021-09-11T22:36:50.307Z"
   },
   {
    "duration": 15,
    "start_time": "2021-09-11T22:36:50.313Z"
   },
   {
    "duration": 50,
    "start_time": "2021-09-11T22:36:50.330Z"
   },
   {
    "duration": 8,
    "start_time": "2021-09-11T22:36:50.381Z"
   },
   {
    "duration": 7,
    "start_time": "2021-09-11T22:36:50.391Z"
   },
   {
    "duration": 6,
    "start_time": "2021-09-11T22:36:50.400Z"
   },
   {
    "duration": 4,
    "start_time": "2021-09-11T22:36:50.408Z"
   },
   {
    "duration": 7,
    "start_time": "2021-09-11T22:36:50.414Z"
   },
   {
    "duration": 6,
    "start_time": "2021-09-11T22:36:50.423Z"
   },
   {
    "duration": 46,
    "start_time": "2021-09-11T22:36:50.430Z"
   },
   {
    "duration": 5,
    "start_time": "2021-09-11T22:36:50.480Z"
   },
   {
    "duration": 10,
    "start_time": "2021-09-11T22:36:50.488Z"
   },
   {
    "duration": 12,
    "start_time": "2021-09-11T22:36:50.500Z"
   },
   {
    "duration": 7,
    "start_time": "2021-09-11T22:36:50.514Z"
   },
   {
    "duration": 7,
    "start_time": "2021-09-11T22:36:50.522Z"
   },
   {
    "duration": 4,
    "start_time": "2021-09-11T22:36:50.531Z"
   },
   {
    "duration": 9,
    "start_time": "2021-09-11T22:36:50.536Z"
   },
   {
    "duration": 36,
    "start_time": "2021-09-11T22:36:50.548Z"
   },
   {
    "duration": 10,
    "start_time": "2021-09-11T22:36:50.586Z"
   },
   {
    "duration": 8,
    "start_time": "2021-09-11T22:36:50.598Z"
   },
   {
    "duration": 8,
    "start_time": "2021-09-11T22:36:50.608Z"
   },
   {
    "duration": 7,
    "start_time": "2021-09-11T22:36:50.617Z"
   },
   {
    "duration": 16,
    "start_time": "2021-09-11T22:36:50.626Z"
   },
   {
    "duration": 45,
    "start_time": "2021-09-11T22:36:50.643Z"
   },
   {
    "duration": 14,
    "start_time": "2021-09-11T22:36:50.690Z"
   },
   {
    "duration": 4,
    "start_time": "2021-09-11T22:36:50.706Z"
   },
   {
    "duration": 9,
    "start_time": "2021-09-11T22:36:50.712Z"
   },
   {
    "duration": 14,
    "start_time": "2021-09-11T22:36:50.723Z"
   },
   {
    "duration": 2,
    "start_time": "2021-09-11T22:36:50.739Z"
   },
   {
    "duration": 34,
    "start_time": "2021-09-11T22:36:50.743Z"
   },
   {
    "duration": 14,
    "start_time": "2021-09-11T22:36:50.779Z"
   },
   {
    "duration": 18,
    "start_time": "2021-09-11T22:36:50.795Z"
   },
   {
    "duration": 8,
    "start_time": "2021-09-11T22:36:50.815Z"
   },
   {
    "duration": 4,
    "start_time": "2021-09-11T22:36:50.825Z"
   },
   {
    "duration": 5,
    "start_time": "2021-09-11T22:36:50.830Z"
   },
   {
    "duration": 6,
    "start_time": "2021-09-11T22:36:50.837Z"
   },
   {
    "duration": 8,
    "start_time": "2021-09-11T22:36:50.845Z"
   },
   {
    "duration": 5,
    "start_time": "2021-09-11T22:36:50.855Z"
   },
   {
    "duration": 2,
    "start_time": "2021-09-11T22:36:50.878Z"
   },
   {
    "duration": 4,
    "start_time": "2021-09-11T22:36:50.883Z"
   },
   {
    "duration": 6,
    "start_time": "2021-09-11T22:36:50.889Z"
   },
   {
    "duration": 8,
    "start_time": "2021-09-11T22:36:50.897Z"
   },
   {
    "duration": 6,
    "start_time": "2021-09-11T22:36:50.907Z"
   },
   {
    "duration": 10,
    "start_time": "2021-09-11T22:36:50.914Z"
   },
   {
    "duration": 5,
    "start_time": "2021-09-11T22:36:50.925Z"
   },
   {
    "duration": 4,
    "start_time": "2021-09-11T22:36:50.932Z"
   },
   {
    "duration": 10,
    "start_time": "2021-09-11T22:36:50.938Z"
   },
   {
    "duration": 11,
    "start_time": "2021-09-11T22:36:50.950Z"
   },
   {
    "duration": 13,
    "start_time": "2021-09-11T22:36:50.963Z"
   },
   {
    "duration": 5,
    "start_time": "2021-09-11T22:36:50.978Z"
   },
   {
    "duration": 6,
    "start_time": "2021-09-11T22:36:50.985Z"
   },
   {
    "duration": 6,
    "start_time": "2021-09-11T22:36:50.993Z"
   },
   {
    "duration": 8,
    "start_time": "2021-09-11T22:36:51.000Z"
   },
   {
    "duration": 13,
    "start_time": "2021-09-11T22:36:51.010Z"
   },
   {
    "duration": 451,
    "start_time": "2021-09-11T22:36:51.025Z"
   },
   {
    "duration": -1342,
    "start_time": "2021-09-11T22:36:52.820Z"
   },
   {
    "duration": 6,
    "start_time": "2021-09-11T22:37:26.960Z"
   },
   {
    "duration": 6,
    "start_time": "2021-09-11T22:37:42.541Z"
   },
   {
    "duration": 9,
    "start_time": "2021-09-11T22:38:37.230Z"
   },
   {
    "duration": 7,
    "start_time": "2021-09-11T22:38:39.460Z"
   },
   {
    "duration": 5,
    "start_time": "2021-09-11T22:38:41.501Z"
   },
   {
    "duration": 1210,
    "start_time": "2021-09-11T22:38:49.234Z"
   },
   {
    "duration": 272,
    "start_time": "2021-09-11T22:38:50.445Z"
   },
   {
    "duration": 20,
    "start_time": "2021-09-11T22:38:50.720Z"
   },
   {
    "duration": 12,
    "start_time": "2021-09-11T22:38:50.743Z"
   },
   {
    "duration": 40,
    "start_time": "2021-09-11T22:38:50.757Z"
   },
   {
    "duration": 3,
    "start_time": "2021-09-11T22:38:50.799Z"
   },
   {
    "duration": 11,
    "start_time": "2021-09-11T22:38:50.804Z"
   },
   {
    "duration": 18,
    "start_time": "2021-09-11T22:38:50.816Z"
   },
   {
    "duration": 44,
    "start_time": "2021-09-11T22:38:50.837Z"
   },
   {
    "duration": 6,
    "start_time": "2021-09-11T22:38:50.884Z"
   },
   {
    "duration": 7,
    "start_time": "2021-09-11T22:38:50.892Z"
   },
   {
    "duration": 5,
    "start_time": "2021-09-11T22:38:50.901Z"
   },
   {
    "duration": 6,
    "start_time": "2021-09-11T22:38:50.908Z"
   },
   {
    "duration": 17,
    "start_time": "2021-09-11T22:38:50.916Z"
   },
   {
    "duration": 43,
    "start_time": "2021-09-11T22:38:50.935Z"
   },
   {
    "duration": 5,
    "start_time": "2021-09-11T22:38:50.980Z"
   },
   {
    "duration": 7,
    "start_time": "2021-09-11T22:38:50.987Z"
   },
   {
    "duration": 7,
    "start_time": "2021-09-11T22:38:50.995Z"
   },
   {
    "duration": 4,
    "start_time": "2021-09-11T22:38:51.004Z"
   },
   {
    "duration": 8,
    "start_time": "2021-09-11T22:38:51.009Z"
   },
   {
    "duration": 11,
    "start_time": "2021-09-11T22:38:51.019Z"
   },
   {
    "duration": 46,
    "start_time": "2021-09-11T22:38:51.032Z"
   },
   {
    "duration": 61,
    "start_time": "2021-09-11T22:38:51.079Z"
   },
   {
    "duration": 175,
    "start_time": "2021-09-11T22:38:51.142Z"
   },
   {
    "duration": 167,
    "start_time": "2021-09-11T22:38:51.318Z"
   },
   {
    "duration": 153,
    "start_time": "2021-09-11T22:38:51.487Z"
   },
   {
    "duration": 162,
    "start_time": "2021-09-11T22:38:51.644Z"
   },
   {
    "duration": 180,
    "start_time": "2021-09-11T22:38:51.809Z"
   },
   {
    "duration": 43,
    "start_time": "2021-09-11T22:38:51.991Z"
   },
   {
    "duration": 33,
    "start_time": "2021-09-11T22:38:52.036Z"
   },
   {
    "duration": 11,
    "start_time": "2021-09-11T22:38:52.071Z"
   },
   {
    "duration": 30,
    "start_time": "2021-09-11T22:38:52.083Z"
   },
   {
    "duration": 21,
    "start_time": "2021-09-11T22:38:52.115Z"
   },
   {
    "duration": 27,
    "start_time": "2021-09-11T22:38:52.137Z"
   },
   {
    "duration": 29,
    "start_time": "2021-09-11T22:38:52.166Z"
   },
   {
    "duration": 13,
    "start_time": "2021-09-11T22:38:52.197Z"
   },
   {
    "duration": 23,
    "start_time": "2021-09-11T22:38:52.212Z"
   },
   {
    "duration": 5,
    "start_time": "2021-09-11T22:38:52.236Z"
   },
   {
    "duration": 17,
    "start_time": "2021-09-11T22:38:52.243Z"
   },
   {
    "duration": 23,
    "start_time": "2021-09-11T22:38:52.262Z"
   },
   {
    "duration": 8,
    "start_time": "2021-09-11T22:38:52.288Z"
   },
   {
    "duration": 24,
    "start_time": "2021-09-11T22:38:52.298Z"
   },
   {
    "duration": 31,
    "start_time": "2021-09-11T22:38:52.324Z"
   },
   {
    "duration": 37,
    "start_time": "2021-09-11T22:38:52.356Z"
   },
   {
    "duration": 25,
    "start_time": "2021-09-11T22:38:52.395Z"
   },
   {
    "duration": 25,
    "start_time": "2021-09-11T22:38:52.421Z"
   },
   {
    "duration": 20,
    "start_time": "2021-09-11T22:38:52.448Z"
   },
   {
    "duration": 12,
    "start_time": "2021-09-11T22:38:52.471Z"
   },
   {
    "duration": 20,
    "start_time": "2021-09-11T22:38:52.485Z"
   },
   {
    "duration": 14,
    "start_time": "2021-09-11T22:38:52.507Z"
   },
   {
    "duration": 24,
    "start_time": "2021-09-11T22:38:52.523Z"
   },
   {
    "duration": 29,
    "start_time": "2021-09-11T22:38:52.549Z"
   },
   {
    "duration": 32,
    "start_time": "2021-09-11T22:38:52.580Z"
   },
   {
    "duration": 26,
    "start_time": "2021-09-11T22:38:52.613Z"
   },
   {
    "duration": 18,
    "start_time": "2021-09-11T22:38:52.641Z"
   },
   {
    "duration": 34,
    "start_time": "2021-09-11T22:38:52.661Z"
   },
   {
    "duration": 35,
    "start_time": "2021-09-11T22:38:52.696Z"
   },
   {
    "duration": 45,
    "start_time": "2021-09-11T22:38:52.733Z"
   },
   {
    "duration": 39,
    "start_time": "2021-09-11T22:38:52.779Z"
   },
   {
    "duration": 41,
    "start_time": "2021-09-11T22:38:52.820Z"
   },
   {
    "duration": 22,
    "start_time": "2021-09-11T22:38:52.863Z"
   },
   {
    "duration": 23,
    "start_time": "2021-09-11T22:38:52.887Z"
   },
   {
    "duration": 10,
    "start_time": "2021-09-11T22:38:52.912Z"
   },
   {
    "duration": 18,
    "start_time": "2021-09-11T22:38:52.924Z"
   },
   {
    "duration": 34,
    "start_time": "2021-09-11T22:38:52.943Z"
   },
   {
    "duration": 25,
    "start_time": "2021-09-11T22:38:52.978Z"
   },
   {
    "duration": 23,
    "start_time": "2021-09-11T22:38:53.005Z"
   },
   {
    "duration": 455,
    "start_time": "2021-09-11T22:38:53.030Z"
   },
   {
    "duration": -399,
    "start_time": "2021-09-11T22:38:53.886Z"
   },
   {
    "duration": 15,
    "start_time": "2021-09-11T22:39:43.152Z"
   },
   {
    "duration": 15,
    "start_time": "2021-09-11T22:39:44.137Z"
   },
   {
    "duration": 1185,
    "start_time": "2021-09-11T22:39:55.282Z"
   },
   {
    "duration": 701,
    "start_time": "2021-09-11T22:39:56.469Z"
   },
   {
    "duration": 24,
    "start_time": "2021-09-11T22:39:57.172Z"
   },
   {
    "duration": 18,
    "start_time": "2021-09-11T22:39:57.199Z"
   },
   {
    "duration": 43,
    "start_time": "2021-09-11T22:39:57.220Z"
   },
   {
    "duration": 4,
    "start_time": "2021-09-11T22:39:57.276Z"
   },
   {
    "duration": 11,
    "start_time": "2021-09-11T22:39:57.281Z"
   },
   {
    "duration": 23,
    "start_time": "2021-09-11T22:39:57.294Z"
   },
   {
    "duration": 10,
    "start_time": "2021-09-11T22:39:57.319Z"
   },
   {
    "duration": 6,
    "start_time": "2021-09-11T22:39:57.330Z"
   },
   {
    "duration": 7,
    "start_time": "2021-09-11T22:39:57.376Z"
   },
   {
    "duration": 4,
    "start_time": "2021-09-11T22:39:57.385Z"
   },
   {
    "duration": 6,
    "start_time": "2021-09-11T22:39:57.391Z"
   },
   {
    "duration": 16,
    "start_time": "2021-09-11T22:39:57.399Z"
   },
   {
    "duration": 11,
    "start_time": "2021-09-11T22:39:57.417Z"
   },
   {
    "duration": 7,
    "start_time": "2021-09-11T22:39:57.431Z"
   },
   {
    "duration": 40,
    "start_time": "2021-09-11T22:39:57.440Z"
   },
   {
    "duration": 7,
    "start_time": "2021-09-11T22:39:57.483Z"
   },
   {
    "duration": 5,
    "start_time": "2021-09-11T22:39:57.492Z"
   },
   {
    "duration": 10,
    "start_time": "2021-09-11T22:39:57.499Z"
   },
   {
    "duration": 8,
    "start_time": "2021-09-11T22:39:57.511Z"
   },
   {
    "duration": 6,
    "start_time": "2021-09-11T22:39:57.521Z"
   },
   {
    "duration": 4,
    "start_time": "2021-09-11T22:39:57.533Z"
   },
   {
    "duration": 10,
    "start_time": "2021-09-11T22:39:57.579Z"
   },
   {
    "duration": 8,
    "start_time": "2021-09-11T22:39:57.591Z"
   },
   {
    "duration": 5,
    "start_time": "2021-09-11T22:39:57.601Z"
   },
   {
    "duration": 6,
    "start_time": "2021-09-11T22:39:57.608Z"
   },
   {
    "duration": 2,
    "start_time": "2021-09-11T22:39:57.615Z"
   },
   {
    "duration": 6,
    "start_time": "2021-09-11T22:39:57.619Z"
   },
   {
    "duration": 51,
    "start_time": "2021-09-11T22:39:57.626Z"
   },
   {
    "duration": 10,
    "start_time": "2021-09-11T22:39:57.679Z"
   },
   {
    "duration": 6,
    "start_time": "2021-09-11T22:39:57.691Z"
   },
   {
    "duration": 5,
    "start_time": "2021-09-11T22:39:57.699Z"
   },
   {
    "duration": 5,
    "start_time": "2021-09-11T22:39:57.706Z"
   },
   {
    "duration": 14,
    "start_time": "2021-09-11T22:39:57.713Z"
   },
   {
    "duration": 59,
    "start_time": "2021-09-11T22:39:57.729Z"
   },
   {
    "duration": 14,
    "start_time": "2021-09-11T22:39:57.790Z"
   },
   {
    "duration": 5,
    "start_time": "2021-09-11T22:39:57.806Z"
   },
   {
    "duration": 8,
    "start_time": "2021-09-11T22:39:57.812Z"
   },
   {
    "duration": 15,
    "start_time": "2021-09-11T22:39:57.822Z"
   },
   {
    "duration": 3,
    "start_time": "2021-09-11T22:39:57.838Z"
   },
   {
    "duration": 35,
    "start_time": "2021-09-11T22:39:57.842Z"
   },
   {
    "duration": 7,
    "start_time": "2021-09-11T22:39:57.878Z"
   },
   {
    "duration": 14,
    "start_time": "2021-09-11T22:39:57.887Z"
   },
   {
    "duration": 6,
    "start_time": "2021-09-11T22:39:57.903Z"
   },
   {
    "duration": 9,
    "start_time": "2021-09-11T22:39:57.911Z"
   },
   {
    "duration": 7,
    "start_time": "2021-09-11T22:39:57.921Z"
   },
   {
    "duration": 4,
    "start_time": "2021-09-11T22:39:57.929Z"
   },
   {
    "duration": 3,
    "start_time": "2021-09-11T22:39:57.935Z"
   },
   {
    "duration": 7,
    "start_time": "2021-09-11T22:39:57.940Z"
   },
   {
    "duration": 2,
    "start_time": "2021-09-11T22:39:57.976Z"
   },
   {
    "duration": 9,
    "start_time": "2021-09-11T22:39:57.980Z"
   },
   {
    "duration": 15,
    "start_time": "2021-09-11T22:39:57.991Z"
   },
   {
    "duration": 11,
    "start_time": "2021-09-11T22:39:58.007Z"
   },
   {
    "duration": 19,
    "start_time": "2021-09-11T22:39:58.020Z"
   },
   {
    "duration": 9,
    "start_time": "2021-09-11T22:39:58.041Z"
   },
   {
    "duration": 10,
    "start_time": "2021-09-11T22:39:58.052Z"
   },
   {
    "duration": 11,
    "start_time": "2021-09-11T22:39:58.064Z"
   },
   {
    "duration": 12,
    "start_time": "2021-09-11T22:39:58.076Z"
   },
   {
    "duration": 19,
    "start_time": "2021-09-11T22:39:58.089Z"
   },
   {
    "duration": 27,
    "start_time": "2021-09-11T22:39:58.109Z"
   },
   {
    "duration": 15,
    "start_time": "2021-09-11T22:39:58.138Z"
   },
   {
    "duration": 9,
    "start_time": "2021-09-11T22:39:58.154Z"
   },
   {
    "duration": 9,
    "start_time": "2021-09-11T22:39:58.165Z"
   },
   {
    "duration": 17,
    "start_time": "2021-09-11T22:39:58.176Z"
   },
   {
    "duration": 15,
    "start_time": "2021-09-11T22:39:58.195Z"
   },
   {
    "duration": 12,
    "start_time": "2021-09-11T22:39:58.212Z"
   },
   {
    "duration": 467,
    "start_time": "2021-09-11T22:39:58.228Z"
   },
   {
    "duration": -661,
    "start_time": "2021-09-11T22:39:59.359Z"
   },
   {
    "duration": 18,
    "start_time": "2021-09-11T22:40:28.075Z"
   },
   {
    "duration": 16,
    "start_time": "2021-09-11T22:40:30.216Z"
   },
   {
    "duration": 5,
    "start_time": "2021-09-11T22:40:32.431Z"
   },
   {
    "duration": 5,
    "start_time": "2021-09-11T22:40:35.310Z"
   },
   {
    "duration": 14,
    "start_time": "2021-09-11T22:40:37.071Z"
   },
   {
    "duration": 5,
    "start_time": "2021-09-11T22:40:53.797Z"
   },
   {
    "duration": 6,
    "start_time": "2021-09-11T22:43:23.473Z"
   },
   {
    "duration": 6,
    "start_time": "2021-09-11T22:43:27.157Z"
   },
   {
    "duration": 1240,
    "start_time": "2021-09-11T22:43:57.680Z"
   },
   {
    "duration": 288,
    "start_time": "2021-09-11T22:43:58.922Z"
   },
   {
    "duration": 22,
    "start_time": "2021-09-11T22:43:59.212Z"
   },
   {
    "duration": 13,
    "start_time": "2021-09-11T22:43:59.236Z"
   },
   {
    "duration": 49,
    "start_time": "2021-09-11T22:43:59.251Z"
   },
   {
    "duration": 3,
    "start_time": "2021-09-11T22:43:59.301Z"
   },
   {
    "duration": 12,
    "start_time": "2021-09-11T22:43:59.306Z"
   },
   {
    "duration": 15,
    "start_time": "2021-09-11T22:43:59.320Z"
   },
   {
    "duration": 10,
    "start_time": "2021-09-11T22:43:59.338Z"
   },
   {
    "duration": 31,
    "start_time": "2021-09-11T22:43:59.350Z"
   },
   {
    "duration": 6,
    "start_time": "2021-09-11T22:43:59.383Z"
   },
   {
    "duration": 4,
    "start_time": "2021-09-11T22:43:59.391Z"
   },
   {
    "duration": 14,
    "start_time": "2021-09-11T22:43:59.397Z"
   },
   {
    "duration": 21,
    "start_time": "2021-09-11T22:43:59.413Z"
   },
   {
    "duration": 9,
    "start_time": "2021-09-11T22:43:59.436Z"
   },
   {
    "duration": 5,
    "start_time": "2021-09-11T22:43:59.446Z"
   },
   {
    "duration": 5,
    "start_time": "2021-09-11T22:43:59.477Z"
   },
   {
    "duration": 9,
    "start_time": "2021-09-11T22:43:59.483Z"
   },
   {
    "duration": 5,
    "start_time": "2021-09-11T22:43:59.494Z"
   },
   {
    "duration": 8,
    "start_time": "2021-09-11T22:43:59.501Z"
   },
   {
    "duration": 8,
    "start_time": "2021-09-11T22:43:59.510Z"
   },
   {
    "duration": 6,
    "start_time": "2021-09-11T22:43:59.519Z"
   },
   {
    "duration": 6,
    "start_time": "2021-09-11T22:43:59.526Z"
   },
   {
    "duration": 8,
    "start_time": "2021-09-11T22:43:59.533Z"
   },
   {
    "duration": 4,
    "start_time": "2021-09-11T22:43:59.577Z"
   },
   {
    "duration": 6,
    "start_time": "2021-09-11T22:43:59.583Z"
   },
   {
    "duration": 5,
    "start_time": "2021-09-11T22:43:59.592Z"
   },
   {
    "duration": 3,
    "start_time": "2021-09-11T22:43:59.599Z"
   },
   {
    "duration": 9,
    "start_time": "2021-09-11T22:43:59.603Z"
   },
   {
    "duration": 17,
    "start_time": "2021-09-11T22:43:59.613Z"
   },
   {
    "duration": 11,
    "start_time": "2021-09-11T22:43:59.632Z"
   },
   {
    "duration": 31,
    "start_time": "2021-09-11T22:43:59.645Z"
   },
   {
    "duration": 5,
    "start_time": "2021-09-11T22:43:59.678Z"
   },
   {
    "duration": 15,
    "start_time": "2021-09-11T22:43:59.685Z"
   },
   {
    "duration": 23,
    "start_time": "2021-09-11T22:43:59.701Z"
   },
   {
    "duration": 14,
    "start_time": "2021-09-11T22:43:59.726Z"
   },
   {
    "duration": 16,
    "start_time": "2021-09-11T22:43:59.741Z"
   },
   {
    "duration": 4,
    "start_time": "2021-09-11T22:43:59.758Z"
   },
   {
    "duration": 19,
    "start_time": "2021-09-11T22:43:59.764Z"
   },
   {
    "duration": 16,
    "start_time": "2021-09-11T22:43:59.784Z"
   },
   {
    "duration": 16,
    "start_time": "2021-09-11T22:43:59.802Z"
   },
   {
    "duration": 2,
    "start_time": "2021-09-11T22:43:59.820Z"
   },
   {
    "duration": 8,
    "start_time": "2021-09-11T22:43:59.823Z"
   },
   {
    "duration": 14,
    "start_time": "2021-09-11T22:43:59.833Z"
   },
   {
    "duration": 8,
    "start_time": "2021-09-11T22:43:59.849Z"
   },
   {
    "duration": 2,
    "start_time": "2021-09-11T22:43:59.876Z"
   },
   {
    "duration": 8,
    "start_time": "2021-09-11T22:43:59.880Z"
   },
   {
    "duration": 4,
    "start_time": "2021-09-11T22:43:59.890Z"
   },
   {
    "duration": 6,
    "start_time": "2021-09-11T22:43:59.895Z"
   },
   {
    "duration": 8,
    "start_time": "2021-09-11T22:43:59.902Z"
   },
   {
    "duration": 10,
    "start_time": "2021-09-11T22:43:59.911Z"
   },
   {
    "duration": 880,
    "start_time": "2021-09-11T22:43:59.922Z"
   },
   {
    "duration": -1069,
    "start_time": "2021-09-11T22:44:01.873Z"
   },
   {
    "duration": 16,
    "start_time": "2021-09-11T22:44:10.550Z"
   },
   {
    "duration": 14,
    "start_time": "2021-09-11T22:44:12.494Z"
   },
   {
    "duration": 5,
    "start_time": "2021-09-11T22:44:15.390Z"
   },
   {
    "duration": 8,
    "start_time": "2021-09-11T22:44:17.136Z"
   },
   {
    "duration": 9,
    "start_time": "2021-09-11T22:45:06.428Z"
   },
   {
    "duration": 5,
    "start_time": "2021-09-11T22:45:40.826Z"
   },
   {
    "duration": 5,
    "start_time": "2021-09-11T22:45:48.207Z"
   },
   {
    "duration": 5,
    "start_time": "2021-09-11T22:51:08.326Z"
   },
   {
    "duration": 6,
    "start_time": "2021-09-11T22:51:39.658Z"
   },
   {
    "duration": 6,
    "start_time": "2021-09-11T22:51:49.862Z"
   },
   {
    "duration": 5,
    "start_time": "2021-09-11T22:52:18.124Z"
   },
   {
    "duration": 7,
    "start_time": "2021-09-11T22:53:15.392Z"
   },
   {
    "duration": 8,
    "start_time": "2021-09-11T22:53:17.981Z"
   },
   {
    "duration": 1165,
    "start_time": "2021-09-11T22:53:25.925Z"
   },
   {
    "duration": 283,
    "start_time": "2021-09-11T22:53:27.093Z"
   },
   {
    "duration": 21,
    "start_time": "2021-09-11T22:53:27.378Z"
   },
   {
    "duration": 11,
    "start_time": "2021-09-11T22:53:27.401Z"
   },
   {
    "duration": 32,
    "start_time": "2021-09-11T22:53:27.413Z"
   },
   {
    "duration": 3,
    "start_time": "2021-09-11T22:53:27.447Z"
   },
   {
    "duration": 34,
    "start_time": "2021-09-11T22:53:27.452Z"
   },
   {
    "duration": 21,
    "start_time": "2021-09-11T22:53:27.488Z"
   },
   {
    "duration": 10,
    "start_time": "2021-09-11T22:53:27.511Z"
   },
   {
    "duration": 12,
    "start_time": "2021-09-11T22:53:27.522Z"
   },
   {
    "duration": 7,
    "start_time": "2021-09-11T22:53:27.536Z"
   },
   {
    "duration": 33,
    "start_time": "2021-09-11T22:53:27.544Z"
   },
   {
    "duration": 6,
    "start_time": "2021-09-11T22:53:27.578Z"
   },
   {
    "duration": 17,
    "start_time": "2021-09-11T22:53:27.585Z"
   },
   {
    "duration": 11,
    "start_time": "2021-09-11T22:53:27.603Z"
   },
   {
    "duration": 10,
    "start_time": "2021-09-11T22:53:27.615Z"
   },
   {
    "duration": 15,
    "start_time": "2021-09-11T22:53:27.626Z"
   },
   {
    "duration": 16,
    "start_time": "2021-09-11T22:53:27.643Z"
   },
   {
    "duration": 8,
    "start_time": "2021-09-11T22:53:27.661Z"
   },
   {
    "duration": 12,
    "start_time": "2021-09-11T22:53:27.670Z"
   },
   {
    "duration": 8,
    "start_time": "2021-09-11T22:53:27.684Z"
   },
   {
    "duration": 6,
    "start_time": "2021-09-11T22:53:27.694Z"
   },
   {
    "duration": 6,
    "start_time": "2021-09-11T22:53:27.702Z"
   },
   {
    "duration": 14,
    "start_time": "2021-09-11T22:53:27.709Z"
   },
   {
    "duration": 7,
    "start_time": "2021-09-11T22:53:27.725Z"
   },
   {
    "duration": 6,
    "start_time": "2021-09-11T22:53:27.734Z"
   },
   {
    "duration": 6,
    "start_time": "2021-09-11T22:53:27.742Z"
   },
   {
    "duration": 28,
    "start_time": "2021-09-11T22:53:27.749Z"
   },
   {
    "duration": 13,
    "start_time": "2021-09-11T22:53:27.779Z"
   },
   {
    "duration": 22,
    "start_time": "2021-09-11T22:53:27.794Z"
   },
   {
    "duration": 12,
    "start_time": "2021-09-11T22:53:27.818Z"
   },
   {
    "duration": 13,
    "start_time": "2021-09-11T22:53:27.832Z"
   },
   {
    "duration": 12,
    "start_time": "2021-09-11T22:53:27.846Z"
   },
   {
    "duration": 8,
    "start_time": "2021-09-11T22:53:27.860Z"
   },
   {
    "duration": 21,
    "start_time": "2021-09-11T22:53:27.870Z"
   },
   {
    "duration": 14,
    "start_time": "2021-09-11T22:53:27.894Z"
   },
   {
    "duration": 15,
    "start_time": "2021-09-11T22:53:27.910Z"
   },
   {
    "duration": 5,
    "start_time": "2021-09-11T22:53:27.927Z"
   },
   {
    "duration": 43,
    "start_time": "2021-09-11T22:53:27.934Z"
   },
   {
    "duration": 6,
    "start_time": "2021-09-11T22:53:27.979Z"
   },
   {
    "duration": 11,
    "start_time": "2021-09-11T22:53:27.987Z"
   },
   {
    "duration": 8,
    "start_time": "2021-09-11T22:53:28.000Z"
   },
   {
    "duration": 19,
    "start_time": "2021-09-11T22:53:28.010Z"
   },
   {
    "duration": 12,
    "start_time": "2021-09-11T22:53:28.031Z"
   },
   {
    "duration": 6,
    "start_time": "2021-09-11T22:53:28.077Z"
   },
   {
    "duration": 459,
    "start_time": "2021-09-11T22:53:28.085Z"
   },
   {
    "duration": -389,
    "start_time": "2021-09-11T22:53:28.935Z"
   },
   {
    "duration": 349,
    "start_time": "2021-09-11T22:54:08.486Z"
   },
   {
    "duration": 6,
    "start_time": "2021-09-11T22:54:17.687Z"
   },
   {
    "duration": 6,
    "start_time": "2021-09-11T22:54:41.971Z"
   },
   {
    "duration": 7,
    "start_time": "2021-09-11T22:55:13.198Z"
   },
   {
    "duration": 1295,
    "start_time": "2021-09-11T22:55:26.920Z"
   },
   {
    "duration": 272,
    "start_time": "2021-09-11T22:55:28.217Z"
   },
   {
    "duration": 20,
    "start_time": "2021-09-11T22:55:28.491Z"
   },
   {
    "duration": 11,
    "start_time": "2021-09-11T22:55:28.513Z"
   },
   {
    "duration": 31,
    "start_time": "2021-09-11T22:55:28.525Z"
   },
   {
    "duration": 20,
    "start_time": "2021-09-11T22:55:28.558Z"
   },
   {
    "duration": 10,
    "start_time": "2021-09-11T22:55:28.580Z"
   },
   {
    "duration": 15,
    "start_time": "2021-09-11T22:55:28.593Z"
   },
   {
    "duration": 10,
    "start_time": "2021-09-11T22:55:28.610Z"
   },
   {
    "duration": 7,
    "start_time": "2021-09-11T22:55:28.621Z"
   },
   {
    "duration": 8,
    "start_time": "2021-09-11T22:55:28.629Z"
   },
   {
    "duration": 41,
    "start_time": "2021-09-11T22:55:28.638Z"
   },
   {
    "duration": 5,
    "start_time": "2021-09-11T22:55:28.681Z"
   },
   {
    "duration": 17,
    "start_time": "2021-09-11T22:55:28.687Z"
   },
   {
    "duration": 9,
    "start_time": "2021-09-11T22:55:28.706Z"
   },
   {
    "duration": 6,
    "start_time": "2021-09-11T22:55:28.717Z"
   },
   {
    "duration": 7,
    "start_time": "2021-09-11T22:55:28.725Z"
   },
   {
    "duration": 6,
    "start_time": "2021-09-11T22:55:28.733Z"
   },
   {
    "duration": 38,
    "start_time": "2021-09-11T22:55:28.740Z"
   },
   {
    "duration": 7,
    "start_time": "2021-09-11T22:55:28.780Z"
   },
   {
    "duration": 7,
    "start_time": "2021-09-11T22:55:28.788Z"
   },
   {
    "duration": 6,
    "start_time": "2021-09-11T22:55:28.797Z"
   },
   {
    "duration": 4,
    "start_time": "2021-09-11T22:55:28.806Z"
   },
   {
    "duration": 9,
    "start_time": "2021-09-11T22:55:28.812Z"
   },
   {
    "duration": 6,
    "start_time": "2021-09-11T22:55:28.822Z"
   },
   {
    "duration": 47,
    "start_time": "2021-09-11T22:55:28.830Z"
   },
   {
    "duration": 5,
    "start_time": "2021-09-11T22:55:28.878Z"
   },
   {
    "duration": 5,
    "start_time": "2021-09-11T22:55:28.885Z"
   },
   {
    "duration": 5,
    "start_time": "2021-09-11T22:55:28.892Z"
   },
   {
    "duration": 14,
    "start_time": "2021-09-11T22:55:28.899Z"
   },
   {
    "duration": 10,
    "start_time": "2021-09-11T22:55:28.915Z"
   },
   {
    "duration": 7,
    "start_time": "2021-09-11T22:55:28.926Z"
   },
   {
    "duration": 8,
    "start_time": "2021-09-11T22:55:28.935Z"
   },
   {
    "duration": 35,
    "start_time": "2021-09-11T22:55:28.944Z"
   },
   {
    "duration": 16,
    "start_time": "2021-09-11T22:55:28.980Z"
   },
   {
    "duration": 12,
    "start_time": "2021-09-11T22:55:28.998Z"
   },
   {
    "duration": 13,
    "start_time": "2021-09-11T22:55:29.012Z"
   },
   {
    "duration": 4,
    "start_time": "2021-09-11T22:55:29.027Z"
   },
   {
    "duration": 12,
    "start_time": "2021-09-11T22:55:29.032Z"
   },
   {
    "duration": 33,
    "start_time": "2021-09-11T22:55:29.046Z"
   },
   {
    "duration": 10,
    "start_time": "2021-09-11T22:55:29.081Z"
   },
   {
    "duration": 5,
    "start_time": "2021-09-11T22:55:29.093Z"
   },
   {
    "duration": 19,
    "start_time": "2021-09-11T22:55:29.100Z"
   },
   {
    "duration": 2,
    "start_time": "2021-09-11T22:55:29.121Z"
   },
   {
    "duration": 10,
    "start_time": "2021-09-11T22:55:29.124Z"
   },
   {
    "duration": 441,
    "start_time": "2021-09-11T22:55:29.136Z"
   },
   {
    "duration": -523,
    "start_time": "2021-09-11T22:55:30.102Z"
   },
   {
    "duration": 349,
    "start_time": "2021-09-11T22:55:47.671Z"
   },
   {
    "duration": 8,
    "start_time": "2021-09-11T22:56:09.583Z"
   },
   {
    "duration": 351,
    "start_time": "2021-09-11T22:56:12.627Z"
   },
   {
    "duration": 9,
    "start_time": "2021-09-11T22:56:17.333Z"
   },
   {
    "duration": 6,
    "start_time": "2021-09-11T22:56:20.009Z"
   },
   {
    "duration": 1275,
    "start_time": "2021-09-11T22:56:39.781Z"
   },
   {
    "duration": 944,
    "start_time": "2021-09-11T22:56:41.058Z"
   },
   {
    "duration": 20,
    "start_time": "2021-09-11T22:56:42.004Z"
   },
   {
    "duration": 21,
    "start_time": "2021-09-11T22:56:42.026Z"
   },
   {
    "duration": 42,
    "start_time": "2021-09-11T22:56:42.049Z"
   },
   {
    "duration": 4,
    "start_time": "2021-09-11T22:56:42.093Z"
   },
   {
    "duration": 36,
    "start_time": "2021-09-11T22:56:42.098Z"
   },
   {
    "duration": 51,
    "start_time": "2021-09-11T22:56:42.136Z"
   },
   {
    "duration": 12,
    "start_time": "2021-09-11T22:56:42.191Z"
   },
   {
    "duration": 25,
    "start_time": "2021-09-11T22:56:42.205Z"
   },
   {
    "duration": 29,
    "start_time": "2021-09-11T22:56:42.232Z"
   },
   {
    "duration": 22,
    "start_time": "2021-09-11T22:56:42.263Z"
   },
   {
    "duration": 17,
    "start_time": "2021-09-11T22:56:42.287Z"
   },
   {
    "duration": 38,
    "start_time": "2021-09-11T22:56:42.306Z"
   },
   {
    "duration": 25,
    "start_time": "2021-09-11T22:56:42.345Z"
   },
   {
    "duration": 97,
    "start_time": "2021-09-11T22:56:42.372Z"
   },
   {
    "duration": 33,
    "start_time": "2021-09-11T22:56:42.471Z"
   },
   {
    "duration": 19,
    "start_time": "2021-09-11T22:56:42.505Z"
   },
   {
    "duration": 15,
    "start_time": "2021-09-11T22:56:42.526Z"
   },
   {
    "duration": 33,
    "start_time": "2021-09-11T22:56:42.543Z"
   },
   {
    "duration": 25,
    "start_time": "2021-09-11T22:56:42.578Z"
   },
   {
    "duration": 29,
    "start_time": "2021-09-11T22:56:42.605Z"
   },
   {
    "duration": 15,
    "start_time": "2021-09-11T22:56:42.636Z"
   },
   {
    "duration": 24,
    "start_time": "2021-09-11T22:56:42.653Z"
   },
   {
    "duration": 39,
    "start_time": "2021-09-11T22:56:42.679Z"
   },
   {
    "duration": 11,
    "start_time": "2021-09-11T22:56:42.720Z"
   },
   {
    "duration": 26,
    "start_time": "2021-09-11T22:56:42.735Z"
   },
   {
    "duration": 40,
    "start_time": "2021-09-11T22:56:42.763Z"
   },
   {
    "duration": 23,
    "start_time": "2021-09-11T22:56:42.805Z"
   },
   {
    "duration": 25,
    "start_time": "2021-09-11T22:56:42.830Z"
   },
   {
    "duration": 27,
    "start_time": "2021-09-11T22:56:42.857Z"
   },
   {
    "duration": 10,
    "start_time": "2021-09-11T22:56:42.886Z"
   },
   {
    "duration": 26,
    "start_time": "2021-09-11T22:56:42.898Z"
   },
   {
    "duration": 8,
    "start_time": "2021-09-11T22:56:42.926Z"
   },
   {
    "duration": 36,
    "start_time": "2021-09-11T22:56:42.935Z"
   },
   {
    "duration": 41,
    "start_time": "2021-09-11T22:56:42.973Z"
   },
   {
    "duration": 15,
    "start_time": "2021-09-11T22:56:43.016Z"
   },
   {
    "duration": 23,
    "start_time": "2021-09-11T22:56:43.033Z"
   },
   {
    "duration": 22,
    "start_time": "2021-09-11T22:56:43.058Z"
   },
   {
    "duration": 23,
    "start_time": "2021-09-11T22:56:43.082Z"
   },
   {
    "duration": 29,
    "start_time": "2021-09-11T22:56:43.107Z"
   },
   {
    "duration": 17,
    "start_time": "2021-09-11T22:56:43.138Z"
   },
   {
    "duration": 39,
    "start_time": "2021-09-11T22:56:43.156Z"
   },
   {
    "duration": 19,
    "start_time": "2021-09-11T22:56:43.196Z"
   },
   {
    "duration": 13,
    "start_time": "2021-09-11T22:56:43.217Z"
   },
   {
    "duration": 1094,
    "start_time": "2021-09-11T22:56:43.231Z"
   },
   {
    "duration": -327,
    "start_time": "2021-09-11T22:56:44.654Z"
   },
   {
    "duration": 8452,
    "start_time": "2021-09-11T22:56:48.269Z"
   },
   {
    "duration": 349,
    "start_time": "2021-09-11T22:56:59.513Z"
   },
   {
    "duration": 53148,
    "start_time": "2021-09-11T22:57:22.624Z"
   },
   {
    "duration": 8,
    "start_time": "2021-09-11T22:58:15.773Z"
   },
   {
    "duration": 342,
    "start_time": "2021-09-11T22:58:30.068Z"
   },
   {
    "duration": 348,
    "start_time": "2021-09-11T22:58:52.180Z"
   },
   {
    "duration": 20865,
    "start_time": "2021-09-11T22:59:11.921Z"
   },
   {
    "duration": 19305,
    "start_time": "2021-09-11T22:59:55.673Z"
   },
   {
    "duration": 1318,
    "start_time": "2021-09-11T23:01:00.581Z"
   },
   {
    "duration": 402,
    "start_time": "2021-09-11T23:01:01.901Z"
   },
   {
    "duration": 20,
    "start_time": "2021-09-11T23:01:02.305Z"
   },
   {
    "duration": 10,
    "start_time": "2021-09-11T23:01:02.327Z"
   },
   {
    "duration": 38,
    "start_time": "2021-09-11T23:01:02.339Z"
   },
   {
    "duration": 4,
    "start_time": "2021-09-11T23:01:02.379Z"
   },
   {
    "duration": 16,
    "start_time": "2021-09-11T23:01:02.384Z"
   },
   {
    "duration": 17,
    "start_time": "2021-09-11T23:01:02.403Z"
   },
   {
    "duration": 11,
    "start_time": "2021-09-11T23:01:02.422Z"
   },
   {
    "duration": 6,
    "start_time": "2021-09-11T23:01:02.435Z"
   },
   {
    "duration": 17,
    "start_time": "2021-09-11T23:01:02.443Z"
   },
   {
    "duration": 9,
    "start_time": "2021-09-11T23:01:02.461Z"
   },
   {
    "duration": 25,
    "start_time": "2021-09-11T23:01:02.472Z"
   },
   {
    "duration": 14,
    "start_time": "2021-09-11T23:01:02.499Z"
   },
   {
    "duration": 9,
    "start_time": "2021-09-11T23:01:02.515Z"
   },
   {
    "duration": 5,
    "start_time": "2021-09-11T23:01:02.526Z"
   },
   {
    "duration": 10,
    "start_time": "2021-09-11T23:01:02.533Z"
   },
   {
    "duration": 17,
    "start_time": "2021-09-11T23:01:02.545Z"
   },
   {
    "duration": 5,
    "start_time": "2021-09-11T23:01:02.564Z"
   },
   {
    "duration": 14,
    "start_time": "2021-09-11T23:01:02.570Z"
   },
   {
    "duration": 5,
    "start_time": "2021-09-11T23:01:02.586Z"
   },
   {
    "duration": 12,
    "start_time": "2021-09-11T23:01:02.592Z"
   },
   {
    "duration": 7,
    "start_time": "2021-09-11T23:01:02.607Z"
   },
   {
    "duration": 9,
    "start_time": "2021-09-11T23:01:02.616Z"
   },
   {
    "duration": 12,
    "start_time": "2021-09-11T23:01:02.627Z"
   },
   {
    "duration": 7,
    "start_time": "2021-09-11T23:01:02.640Z"
   },
   {
    "duration": 10,
    "start_time": "2021-09-11T23:01:02.648Z"
   },
   {
    "duration": 4,
    "start_time": "2021-09-11T23:01:02.659Z"
   },
   {
    "duration": 16,
    "start_time": "2021-09-11T23:01:02.664Z"
   },
   {
    "duration": 14,
    "start_time": "2021-09-11T23:01:02.682Z"
   },
   {
    "duration": 10,
    "start_time": "2021-09-11T23:01:02.698Z"
   },
   {
    "duration": 7,
    "start_time": "2021-09-11T23:01:02.709Z"
   },
   {
    "duration": 10,
    "start_time": "2021-09-11T23:01:02.718Z"
   },
   {
    "duration": 16,
    "start_time": "2021-09-11T23:01:02.729Z"
   },
   {
    "duration": 19,
    "start_time": "2021-09-11T23:01:02.747Z"
   },
   {
    "duration": 14,
    "start_time": "2021-09-11T23:01:02.767Z"
   },
   {
    "duration": 14,
    "start_time": "2021-09-11T23:01:02.782Z"
   },
   {
    "duration": 4,
    "start_time": "2021-09-11T23:01:02.798Z"
   },
   {
    "duration": 11,
    "start_time": "2021-09-11T23:01:02.803Z"
   },
   {
    "duration": 6,
    "start_time": "2021-09-11T23:01:02.815Z"
   },
   {
    "duration": 9,
    "start_time": "2021-09-11T23:01:02.823Z"
   },
   {
    "duration": 6,
    "start_time": "2021-09-11T23:01:02.834Z"
   },
   {
    "duration": 19,
    "start_time": "2021-09-11T23:01:02.841Z"
   },
   {
    "duration": 2,
    "start_time": "2021-09-11T23:01:02.862Z"
   },
   {
    "duration": 14,
    "start_time": "2021-09-11T23:01:02.865Z"
   },
   {
    "duration": 52925,
    "start_time": "2021-09-11T23:01:02.880Z"
   },
   {
    "duration": 7,
    "start_time": "2021-09-11T23:01:55.807Z"
   },
   {
    "duration": 54615,
    "start_time": "2021-09-11T23:02:29.097Z"
   },
   {
    "duration": 8,
    "start_time": "2021-09-11T23:03:29.762Z"
   },
   {
    "duration": 114,
    "start_time": "2021-09-11T23:03:47.444Z"
   },
   {
    "duration": 530,
    "start_time": "2021-09-11T23:03:53.933Z"
   },
   {
    "duration": 595,
    "start_time": "2021-09-11T23:04:09.971Z"
   },
   {
    "duration": 20970,
    "start_time": "2021-09-11T23:04:40.471Z"
   },
   {
    "duration": 7,
    "start_time": "2021-09-11T23:05:01.443Z"
   },
   {
    "duration": 1235,
    "start_time": "2021-09-11T23:05:58.349Z"
   },
   {
    "duration": 267,
    "start_time": "2021-09-11T23:05:59.586Z"
   },
   {
    "duration": 20,
    "start_time": "2021-09-11T23:05:59.855Z"
   },
   {
    "duration": 11,
    "start_time": "2021-09-11T23:05:59.877Z"
   },
   {
    "duration": 29,
    "start_time": "2021-09-11T23:05:59.890Z"
   },
   {
    "duration": 3,
    "start_time": "2021-09-11T23:05:59.921Z"
   },
   {
    "duration": 13,
    "start_time": "2021-09-11T23:05:59.926Z"
   },
   {
    "duration": 41,
    "start_time": "2021-09-11T23:05:59.941Z"
   },
   {
    "duration": 10,
    "start_time": "2021-09-11T23:05:59.984Z"
   },
   {
    "duration": 7,
    "start_time": "2021-09-11T23:05:59.995Z"
   },
   {
    "duration": 9,
    "start_time": "2021-09-11T23:06:00.003Z"
   },
   {
    "duration": 8,
    "start_time": "2021-09-11T23:06:00.014Z"
   },
   {
    "duration": 7,
    "start_time": "2021-09-11T23:06:00.024Z"
   },
   {
    "duration": 19,
    "start_time": "2021-09-11T23:06:00.033Z"
   },
   {
    "duration": 11,
    "start_time": "2021-09-11T23:06:00.076Z"
   },
   {
    "duration": 7,
    "start_time": "2021-09-11T23:06:00.089Z"
   },
   {
    "duration": 5,
    "start_time": "2021-09-11T23:06:00.097Z"
   },
   {
    "duration": 6,
    "start_time": "2021-09-11T23:06:00.103Z"
   },
   {
    "duration": 5,
    "start_time": "2021-09-11T23:06:00.111Z"
   },
   {
    "duration": 8,
    "start_time": "2021-09-11T23:06:00.117Z"
   },
   {
    "duration": 8,
    "start_time": "2021-09-11T23:06:00.127Z"
   },
   {
    "duration": 42,
    "start_time": "2021-09-11T23:06:00.136Z"
   },
   {
    "duration": 4,
    "start_time": "2021-09-11T23:06:00.181Z"
   },
   {
    "duration": 19,
    "start_time": "2021-09-11T23:06:00.187Z"
   },
   {
    "duration": 11,
    "start_time": "2021-09-11T23:06:00.207Z"
   },
   {
    "duration": 5,
    "start_time": "2021-09-11T23:06:00.219Z"
   },
   {
    "duration": 7,
    "start_time": "2021-09-11T23:06:00.226Z"
   },
   {
    "duration": 3,
    "start_time": "2021-09-11T23:06:00.235Z"
   },
   {
    "duration": 12,
    "start_time": "2021-09-11T23:06:00.239Z"
   },
   {
    "duration": 29,
    "start_time": "2021-09-11T23:06:00.253Z"
   },
   {
    "duration": 10,
    "start_time": "2021-09-11T23:06:00.284Z"
   },
   {
    "duration": 8,
    "start_time": "2021-09-11T23:06:00.295Z"
   },
   {
    "duration": 7,
    "start_time": "2021-09-11T23:06:00.304Z"
   },
   {
    "duration": 11,
    "start_time": "2021-09-11T23:06:00.312Z"
   },
   {
    "duration": 18,
    "start_time": "2021-09-11T23:06:00.324Z"
   },
   {
    "duration": 46,
    "start_time": "2021-09-11T23:06:00.343Z"
   },
   {
    "duration": 14,
    "start_time": "2021-09-11T23:06:00.390Z"
   },
   {
    "duration": 4,
    "start_time": "2021-09-11T23:06:00.406Z"
   },
   {
    "duration": 14,
    "start_time": "2021-09-11T23:06:00.412Z"
   },
   {
    "duration": 8,
    "start_time": "2021-09-11T23:06:00.427Z"
   },
   {
    "duration": 45,
    "start_time": "2021-09-11T23:06:00.437Z"
   },
   {
    "duration": 6,
    "start_time": "2021-09-11T23:06:00.484Z"
   },
   {
    "duration": 20,
    "start_time": "2021-09-11T23:06:00.492Z"
   },
   {
    "duration": 2,
    "start_time": "2021-09-11T23:06:00.514Z"
   },
   {
    "duration": 16,
    "start_time": "2021-09-11T23:06:00.517Z"
   },
   {
    "duration": 21828,
    "start_time": "2021-09-11T23:06:00.535Z"
   },
   {
    "duration": 6,
    "start_time": "2021-09-11T23:06:22.365Z"
   },
   {
    "duration": 1146,
    "start_time": "2021-09-11T23:06:37.894Z"
   },
   {
    "duration": 274,
    "start_time": "2021-09-11T23:06:39.042Z"
   },
   {
    "duration": 20,
    "start_time": "2021-09-11T23:06:39.318Z"
   },
   {
    "duration": 12,
    "start_time": "2021-09-11T23:06:39.340Z"
   },
   {
    "duration": 39,
    "start_time": "2021-09-11T23:06:39.354Z"
   },
   {
    "duration": 4,
    "start_time": "2021-09-11T23:06:39.394Z"
   },
   {
    "duration": 19,
    "start_time": "2021-09-11T23:06:39.399Z"
   },
   {
    "duration": 20,
    "start_time": "2021-09-11T23:06:39.421Z"
   },
   {
    "duration": 9,
    "start_time": "2021-09-11T23:06:39.443Z"
   },
   {
    "duration": 14,
    "start_time": "2021-09-11T23:06:39.454Z"
   },
   {
    "duration": 5,
    "start_time": "2021-09-11T23:06:39.477Z"
   },
   {
    "duration": 6,
    "start_time": "2021-09-11T23:06:39.484Z"
   },
   {
    "duration": 10,
    "start_time": "2021-09-11T23:06:39.492Z"
   },
   {
    "duration": 19,
    "start_time": "2021-09-11T23:06:39.504Z"
   },
   {
    "duration": 11,
    "start_time": "2021-09-11T23:06:39.525Z"
   },
   {
    "duration": 15,
    "start_time": "2021-09-11T23:06:39.537Z"
   },
   {
    "duration": 24,
    "start_time": "2021-09-11T23:06:39.554Z"
   },
   {
    "duration": 6,
    "start_time": "2021-09-11T23:06:39.579Z"
   },
   {
    "duration": 8,
    "start_time": "2021-09-11T23:06:39.586Z"
   },
   {
    "duration": 11,
    "start_time": "2021-09-11T23:06:39.595Z"
   },
   {
    "duration": 8,
    "start_time": "2021-09-11T23:06:39.607Z"
   },
   {
    "duration": 7,
    "start_time": "2021-09-11T23:06:39.617Z"
   },
   {
    "duration": 4,
    "start_time": "2021-09-11T23:06:39.627Z"
   },
   {
    "duration": 7,
    "start_time": "2021-09-11T23:06:39.633Z"
   },
   {
    "duration": 36,
    "start_time": "2021-09-11T23:06:39.642Z"
   },
   {
    "duration": 5,
    "start_time": "2021-09-11T23:06:39.679Z"
   },
   {
    "duration": 6,
    "start_time": "2021-09-11T23:06:39.685Z"
   },
   {
    "duration": 3,
    "start_time": "2021-09-11T23:06:39.693Z"
   },
   {
    "duration": 6,
    "start_time": "2021-09-11T23:06:39.697Z"
   },
   {
    "duration": 14,
    "start_time": "2021-09-11T23:06:39.705Z"
   },
   {
    "duration": 11,
    "start_time": "2021-09-11T23:06:39.720Z"
   },
   {
    "duration": 9,
    "start_time": "2021-09-11T23:06:39.732Z"
   },
   {
    "duration": 36,
    "start_time": "2021-09-11T23:06:39.743Z"
   },
   {
    "duration": 5,
    "start_time": "2021-09-11T23:06:39.780Z"
   },
   {
    "duration": 16,
    "start_time": "2021-09-11T23:06:39.787Z"
   },
   {
    "duration": 13,
    "start_time": "2021-09-11T23:06:39.805Z"
   },
   {
    "duration": 15,
    "start_time": "2021-09-11T23:06:39.819Z"
   },
   {
    "duration": 5,
    "start_time": "2021-09-11T23:06:39.835Z"
   },
   {
    "duration": 42,
    "start_time": "2021-09-11T23:06:39.841Z"
   },
   {
    "duration": 4,
    "start_time": "2021-09-11T23:06:39.885Z"
   },
   {
    "duration": 10,
    "start_time": "2021-09-11T23:06:39.890Z"
   },
   {
    "duration": 6,
    "start_time": "2021-09-11T23:06:39.902Z"
   },
   {
    "duration": 18,
    "start_time": "2021-09-11T23:06:39.909Z"
   },
   {
    "duration": 2,
    "start_time": "2021-09-11T23:06:39.929Z"
   },
   {
    "duration": 45,
    "start_time": "2021-09-11T23:06:39.933Z"
   },
   {
    "duration": 22101,
    "start_time": "2021-09-11T23:06:39.980Z"
   },
   {
    "duration": 7,
    "start_time": "2021-09-11T23:07:02.083Z"
   },
   {
    "duration": 21945,
    "start_time": "2021-09-11T23:09:07.216Z"
   },
   {
    "duration": 21820,
    "start_time": "2021-09-11T23:09:47.086Z"
   },
   {
    "duration": 7,
    "start_time": "2021-09-11T23:10:08.908Z"
   },
   {
    "duration": 1554,
    "start_time": "2021-09-11T23:10:17.586Z"
   },
   {
    "duration": 267,
    "start_time": "2021-09-11T23:10:19.141Z"
   },
   {
    "duration": 19,
    "start_time": "2021-09-11T23:10:19.410Z"
   },
   {
    "duration": 12,
    "start_time": "2021-09-11T23:10:19.431Z"
   },
   {
    "duration": 48,
    "start_time": "2021-09-11T23:10:19.444Z"
   },
   {
    "duration": 4,
    "start_time": "2021-09-11T23:10:19.493Z"
   },
   {
    "duration": 11,
    "start_time": "2021-09-11T23:10:19.498Z"
   },
   {
    "duration": 15,
    "start_time": "2021-09-11T23:10:19.511Z"
   },
   {
    "duration": 10,
    "start_time": "2021-09-11T23:10:19.528Z"
   },
   {
    "duration": 36,
    "start_time": "2021-09-11T23:10:19.540Z"
   },
   {
    "duration": 7,
    "start_time": "2021-09-11T23:10:19.578Z"
   },
   {
    "duration": 4,
    "start_time": "2021-09-11T23:10:19.587Z"
   },
   {
    "duration": 4,
    "start_time": "2021-09-11T23:10:19.592Z"
   },
   {
    "duration": 13,
    "start_time": "2021-09-11T23:10:19.598Z"
   },
   {
    "duration": 12,
    "start_time": "2021-09-11T23:10:19.613Z"
   },
   {
    "duration": 6,
    "start_time": "2021-09-11T23:10:19.627Z"
   },
   {
    "duration": 46,
    "start_time": "2021-09-11T23:10:19.636Z"
   },
   {
    "duration": 6,
    "start_time": "2021-09-11T23:10:19.684Z"
   },
   {
    "duration": 5,
    "start_time": "2021-09-11T23:10:19.692Z"
   },
   {
    "duration": 9,
    "start_time": "2021-09-11T23:10:19.699Z"
   },
   {
    "duration": 5,
    "start_time": "2021-09-11T23:10:19.710Z"
   },
   {
    "duration": 5,
    "start_time": "2021-09-11T23:10:19.717Z"
   },
   {
    "duration": 53,
    "start_time": "2021-09-11T23:10:19.724Z"
   },
   {
    "duration": 9,
    "start_time": "2021-09-11T23:10:19.778Z"
   },
   {
    "duration": 8,
    "start_time": "2021-09-11T23:10:19.789Z"
   },
   {
    "duration": 5,
    "start_time": "2021-09-11T23:10:19.799Z"
   },
   {
    "duration": 6,
    "start_time": "2021-09-11T23:10:19.808Z"
   },
   {
    "duration": 4,
    "start_time": "2021-09-11T23:10:19.816Z"
   },
   {
    "duration": 8,
    "start_time": "2021-09-11T23:10:19.821Z"
   },
   {
    "duration": 49,
    "start_time": "2021-09-11T23:10:19.830Z"
   },
   {
    "duration": 11,
    "start_time": "2021-09-11T23:10:19.881Z"
   },
   {
    "duration": 7,
    "start_time": "2021-09-11T23:10:19.894Z"
   },
   {
    "duration": 7,
    "start_time": "2021-09-11T23:10:19.903Z"
   },
   {
    "duration": 6,
    "start_time": "2021-09-11T23:10:19.911Z"
   },
   {
    "duration": 16,
    "start_time": "2021-09-11T23:10:19.919Z"
   },
   {
    "duration": 48,
    "start_time": "2021-09-11T23:10:19.937Z"
   },
   {
    "duration": 15,
    "start_time": "2021-09-11T23:10:19.987Z"
   },
   {
    "duration": 5,
    "start_time": "2021-09-11T23:10:20.004Z"
   },
   {
    "duration": 10,
    "start_time": "2021-09-11T23:10:20.011Z"
   },
   {
    "duration": 6,
    "start_time": "2021-09-11T23:10:20.023Z"
   },
   {
    "duration": 54,
    "start_time": "2021-09-11T23:10:20.031Z"
   },
   {
    "duration": 7,
    "start_time": "2021-09-11T23:10:20.087Z"
   },
   {
    "duration": 20,
    "start_time": "2021-09-11T23:10:20.096Z"
   },
   {
    "duration": 3,
    "start_time": "2021-09-11T23:10:20.118Z"
   },
   {
    "duration": 8,
    "start_time": "2021-09-11T23:10:20.123Z"
   },
   {
    "duration": 21488,
    "start_time": "2021-09-11T23:10:20.133Z"
   },
   {
    "duration": 7,
    "start_time": "2021-09-11T23:10:41.622Z"
   },
   {
    "duration": 1308,
    "start_time": "2021-09-11T23:12:14.312Z"
   },
   {
    "duration": 264,
    "start_time": "2021-09-11T23:12:15.622Z"
   },
   {
    "duration": 20,
    "start_time": "2021-09-11T23:12:15.888Z"
   },
   {
    "duration": 11,
    "start_time": "2021-09-11T23:12:15.909Z"
   },
   {
    "duration": 31,
    "start_time": "2021-09-11T23:12:15.921Z"
   },
   {
    "duration": 25,
    "start_time": "2021-09-11T23:12:15.953Z"
   },
   {
    "duration": 13,
    "start_time": "2021-09-11T23:12:15.980Z"
   },
   {
    "duration": 16,
    "start_time": "2021-09-11T23:12:15.995Z"
   },
   {
    "duration": 10,
    "start_time": "2021-09-11T23:12:16.013Z"
   },
   {
    "duration": 5,
    "start_time": "2021-09-11T23:12:16.025Z"
   },
   {
    "duration": 6,
    "start_time": "2021-09-11T23:12:16.031Z"
   },
   {
    "duration": 3,
    "start_time": "2021-09-11T23:12:16.039Z"
   },
   {
    "duration": 4,
    "start_time": "2021-09-11T23:12:16.076Z"
   },
   {
    "duration": 18,
    "start_time": "2021-09-11T23:12:16.081Z"
   },
   {
    "duration": 9,
    "start_time": "2021-09-11T23:12:16.101Z"
   },
   {
    "duration": 5,
    "start_time": "2021-09-11T23:12:16.111Z"
   },
   {
    "duration": 6,
    "start_time": "2021-09-11T23:12:16.118Z"
   },
   {
    "duration": 5,
    "start_time": "2021-09-11T23:12:16.126Z"
   },
   {
    "duration": 4,
    "start_time": "2021-09-11T23:12:16.133Z"
   },
   {
    "duration": 41,
    "start_time": "2021-09-11T23:12:16.138Z"
   },
   {
    "duration": 4,
    "start_time": "2021-09-11T23:12:16.181Z"
   },
   {
    "duration": 7,
    "start_time": "2021-09-11T23:12:16.186Z"
   },
   {
    "duration": 7,
    "start_time": "2021-09-11T23:12:16.196Z"
   },
   {
    "duration": 8,
    "start_time": "2021-09-11T23:12:16.205Z"
   },
   {
    "duration": 7,
    "start_time": "2021-09-11T23:12:16.214Z"
   },
   {
    "duration": 7,
    "start_time": "2021-09-11T23:12:16.222Z"
   },
   {
    "duration": 10,
    "start_time": "2021-09-11T23:12:16.230Z"
   },
   {
    "duration": 4,
    "start_time": "2021-09-11T23:12:16.242Z"
   },
   {
    "duration": 4,
    "start_time": "2021-09-11T23:12:16.277Z"
   },
   {
    "duration": 13,
    "start_time": "2021-09-11T23:12:16.283Z"
   },
   {
    "duration": 9,
    "start_time": "2021-09-11T23:12:16.298Z"
   },
   {
    "duration": 8,
    "start_time": "2021-09-11T23:12:16.309Z"
   },
   {
    "duration": 5,
    "start_time": "2021-09-11T23:12:16.319Z"
   },
   {
    "duration": 7,
    "start_time": "2021-09-11T23:12:16.325Z"
   },
   {
    "duration": 44,
    "start_time": "2021-09-11T23:12:16.334Z"
   },
   {
    "duration": 14,
    "start_time": "2021-09-11T23:12:16.379Z"
   },
   {
    "duration": 14,
    "start_time": "2021-09-11T23:12:16.394Z"
   },
   {
    "duration": 4,
    "start_time": "2021-09-11T23:12:16.410Z"
   },
   {
    "duration": 12,
    "start_time": "2021-09-11T23:12:16.416Z"
   },
   {
    "duration": 6,
    "start_time": "2021-09-11T23:12:16.429Z"
   },
   {
    "duration": 41,
    "start_time": "2021-09-11T23:12:16.437Z"
   },
   {
    "duration": 6,
    "start_time": "2021-09-11T23:12:16.479Z"
   },
   {
    "duration": 20,
    "start_time": "2021-09-11T23:12:16.487Z"
   },
   {
    "duration": 2,
    "start_time": "2021-09-11T23:12:16.509Z"
   },
   {
    "duration": 12,
    "start_time": "2021-09-11T23:12:16.513Z"
   },
   {
    "duration": 20790,
    "start_time": "2021-09-11T23:12:16.527Z"
   },
   {
    "duration": 7,
    "start_time": "2021-09-11T23:12:37.319Z"
   },
   {
    "duration": 20829,
    "start_time": "2021-09-11T23:15:56.963Z"
   },
   {
    "duration": 7,
    "start_time": "2021-09-11T23:16:17.793Z"
   },
   {
    "duration": 7,
    "start_time": "2021-09-11T23:17:01.772Z"
   },
   {
    "duration": 4,
    "start_time": "2021-09-11T23:17:09.467Z"
   },
   {
    "duration": 5,
    "start_time": "2021-09-11T23:17:24.238Z"
   },
   {
    "duration": 439,
    "start_time": "2021-09-11T23:17:30.390Z"
   },
   {
    "duration": 5,
    "start_time": "2021-09-11T23:17:36.901Z"
   },
   {
    "duration": 19,
    "start_time": "2021-09-11T23:18:54.222Z"
   },
   {
    "duration": 4,
    "start_time": "2021-09-11T23:19:24.797Z"
   },
   {
    "duration": 7,
    "start_time": "2021-09-11T23:19:53.586Z"
   },
   {
    "duration": 5,
    "start_time": "2021-09-11T23:20:21.784Z"
   },
   {
    "duration": 5,
    "start_time": "2021-09-11T23:20:24.465Z"
   },
   {
    "duration": 16,
    "start_time": "2021-09-11T23:20:51.733Z"
   },
   {
    "duration": 11,
    "start_time": "2021-09-11T23:21:05.204Z"
   },
   {
    "duration": 332,
    "start_time": "2021-09-11T23:21:23.199Z"
   },
   {
    "duration": 5,
    "start_time": "2021-09-11T23:21:36.824Z"
   },
   {
    "duration": 5,
    "start_time": "2021-09-11T23:21:44.074Z"
   },
   {
    "duration": 11,
    "start_time": "2021-09-11T23:22:01.237Z"
   },
   {
    "duration": 9,
    "start_time": "2021-09-11T23:22:06.868Z"
   },
   {
    "duration": 5,
    "start_time": "2021-09-11T23:22:08.777Z"
   },
   {
    "duration": 5,
    "start_time": "2021-09-11T23:22:10.928Z"
   },
   {
    "duration": 365,
    "start_time": "2021-09-11T23:22:22.261Z"
   },
   {
    "duration": 292,
    "start_time": "2021-09-12T01:16:29.291Z"
   },
   {
    "duration": 1479,
    "start_time": "2021-09-12T01:16:40.502Z"
   },
   {
    "duration": 215,
    "start_time": "2021-09-12T01:16:41.983Z"
   },
   {
    "duration": 31,
    "start_time": "2021-09-12T01:16:42.201Z"
   },
   {
    "duration": 34,
    "start_time": "2021-09-12T01:16:42.235Z"
   },
   {
    "duration": 45,
    "start_time": "2021-09-12T01:16:42.271Z"
   },
   {
    "duration": 5,
    "start_time": "2021-09-12T01:16:42.319Z"
   },
   {
    "duration": 42,
    "start_time": "2021-09-12T01:16:42.326Z"
   },
   {
    "duration": 20,
    "start_time": "2021-09-12T01:16:42.372Z"
   },
   {
    "duration": 14,
    "start_time": "2021-09-12T01:16:42.395Z"
   },
   {
    "duration": 12,
    "start_time": "2021-09-12T01:16:42.411Z"
   },
   {
    "duration": 45,
    "start_time": "2021-09-12T01:16:42.426Z"
   },
   {
    "duration": 6,
    "start_time": "2021-09-12T01:16:42.475Z"
   },
   {
    "duration": 5,
    "start_time": "2021-09-12T01:16:42.484Z"
   },
   {
    "duration": 26,
    "start_time": "2021-09-12T01:16:42.493Z"
   },
   {
    "duration": 45,
    "start_time": "2021-09-12T01:16:42.522Z"
   },
   {
    "duration": 11,
    "start_time": "2021-09-12T01:16:42.569Z"
   },
   {
    "duration": 7,
    "start_time": "2021-09-12T01:16:42.582Z"
   },
   {
    "duration": 8,
    "start_time": "2021-09-12T01:16:42.591Z"
   },
   {
    "duration": 6,
    "start_time": "2021-09-12T01:16:42.601Z"
   },
   {
    "duration": 56,
    "start_time": "2021-09-12T01:16:42.609Z"
   },
   {
    "duration": 7,
    "start_time": "2021-09-12T01:16:42.667Z"
   },
   {
    "duration": 11,
    "start_time": "2021-09-12T01:16:42.676Z"
   },
   {
    "duration": 6,
    "start_time": "2021-09-12T01:16:42.693Z"
   },
   {
    "duration": 10,
    "start_time": "2021-09-12T01:16:42.702Z"
   },
   {
    "duration": 49,
    "start_time": "2021-09-12T01:16:42.715Z"
   },
   {
    "duration": 5,
    "start_time": "2021-09-12T01:16:42.767Z"
   },
   {
    "duration": 9,
    "start_time": "2021-09-12T01:16:42.775Z"
   },
   {
    "duration": 3,
    "start_time": "2021-09-12T01:16:42.786Z"
   },
   {
    "duration": 9,
    "start_time": "2021-09-12T01:16:42.791Z"
   },
   {
    "duration": 17,
    "start_time": "2021-09-12T01:16:42.802Z"
   },
   {
    "duration": 55,
    "start_time": "2021-09-12T01:16:42.821Z"
   },
   {
    "duration": 9,
    "start_time": "2021-09-12T01:16:42.879Z"
   },
   {
    "duration": 8,
    "start_time": "2021-09-12T01:16:42.890Z"
   },
   {
    "duration": 7,
    "start_time": "2021-09-12T01:16:42.901Z"
   },
   {
    "duration": 66,
    "start_time": "2021-09-12T01:16:42.910Z"
   },
   {
    "duration": 20,
    "start_time": "2021-09-12T01:16:42.978Z"
   },
   {
    "duration": 20,
    "start_time": "2021-09-12T01:16:43.000Z"
   },
   {
    "duration": 7,
    "start_time": "2021-09-12T01:16:43.022Z"
   },
   {
    "duration": 43,
    "start_time": "2021-09-12T01:16:43.032Z"
   },
   {
    "duration": 10,
    "start_time": "2021-09-12T01:16:43.078Z"
   },
   {
    "duration": 15,
    "start_time": "2021-09-12T01:16:43.091Z"
   },
   {
    "duration": 9,
    "start_time": "2021-09-12T01:16:43.109Z"
   },
   {
    "duration": 27,
    "start_time": "2021-09-12T01:16:43.162Z"
   },
   {
    "duration": 10,
    "start_time": "2021-09-12T01:16:43.191Z"
   },
   {
    "duration": 29922,
    "start_time": "2021-09-12T01:16:43.204Z"
   },
   {
    "duration": 10,
    "start_time": "2021-09-12T01:17:13.128Z"
   },
   {
    "duration": 40,
    "start_time": "2021-09-12T01:17:13.141Z"
   },
   {
    "duration": 7,
    "start_time": "2021-09-12T01:17:13.183Z"
   },
   {
    "duration": 29,
    "start_time": "2021-09-12T01:17:13.192Z"
   },
   {
    "duration": 40,
    "start_time": "2021-09-12T01:17:13.223Z"
   },
   {
    "duration": 386,
    "start_time": "2021-09-12T01:17:13.266Z"
   },
   {
    "duration": -146,
    "start_time": "2021-09-12T01:17:13.801Z"
   },
   {
    "duration": 245,
    "start_time": "2021-09-12T01:20:07.677Z"
   },
   {
    "duration": 1511,
    "start_time": "2021-09-12T01:22:50.344Z"
   },
   {
    "duration": 203,
    "start_time": "2021-09-12T01:22:51.858Z"
   },
   {
    "duration": 29,
    "start_time": "2021-09-12T01:22:52.064Z"
   },
   {
    "duration": 20,
    "start_time": "2021-09-12T01:22:52.096Z"
   },
   {
    "duration": 70,
    "start_time": "2021-09-12T01:22:52.119Z"
   },
   {
    "duration": 5,
    "start_time": "2021-09-12T01:22:52.192Z"
   },
   {
    "duration": 19,
    "start_time": "2021-09-12T01:22:52.199Z"
   },
   {
    "duration": 44,
    "start_time": "2021-09-12T01:22:52.220Z"
   },
   {
    "duration": 14,
    "start_time": "2021-09-12T01:22:52.268Z"
   },
   {
    "duration": 21,
    "start_time": "2021-09-12T01:22:52.286Z"
   },
   {
    "duration": 12,
    "start_time": "2021-09-12T01:22:52.310Z"
   },
   {
    "duration": 8,
    "start_time": "2021-09-12T01:22:52.325Z"
   },
   {
    "duration": 27,
    "start_time": "2021-09-12T01:22:52.335Z"
   },
   {
    "duration": 21,
    "start_time": "2021-09-12T01:22:52.364Z"
   },
   {
    "duration": 12,
    "start_time": "2021-09-12T01:22:52.387Z"
   },
   {
    "duration": 8,
    "start_time": "2021-09-12T01:22:52.401Z"
   },
   {
    "duration": 7,
    "start_time": "2021-09-12T01:22:52.411Z"
   },
   {
    "duration": 44,
    "start_time": "2021-09-12T01:22:52.420Z"
   },
   {
    "duration": 8,
    "start_time": "2021-09-12T01:22:52.466Z"
   },
   {
    "duration": 13,
    "start_time": "2021-09-12T01:22:52.476Z"
   },
   {
    "duration": 7,
    "start_time": "2021-09-12T01:22:52.491Z"
   },
   {
    "duration": 8,
    "start_time": "2021-09-12T01:22:52.500Z"
   },
   {
    "duration": 6,
    "start_time": "2021-09-12T01:22:52.510Z"
   },
   {
    "duration": 52,
    "start_time": "2021-09-12T01:22:52.518Z"
   },
   {
    "duration": 8,
    "start_time": "2021-09-12T01:22:52.572Z"
   },
   {
    "duration": 7,
    "start_time": "2021-09-12T01:22:52.583Z"
   },
   {
    "duration": 9,
    "start_time": "2021-09-12T01:22:52.595Z"
   },
   {
    "duration": 2,
    "start_time": "2021-09-12T01:22:52.607Z"
   },
   {
    "duration": 51,
    "start_time": "2021-09-12T01:22:52.611Z"
   },
   {
    "duration": 16,
    "start_time": "2021-09-12T01:22:52.664Z"
   },
   {
    "duration": 16,
    "start_time": "2021-09-12T01:22:52.682Z"
   },
   {
    "duration": 9,
    "start_time": "2021-09-12T01:22:52.700Z"
   },
   {
    "duration": 7,
    "start_time": "2021-09-12T01:22:52.712Z"
   },
   {
    "duration": 44,
    "start_time": "2021-09-12T01:22:52.722Z"
   },
   {
    "duration": 22,
    "start_time": "2021-09-12T01:22:52.768Z"
   },
   {
    "duration": 20,
    "start_time": "2021-09-12T01:22:52.792Z"
   },
   {
    "duration": 49,
    "start_time": "2021-09-12T01:22:52.814Z"
   },
   {
    "duration": 7,
    "start_time": "2021-09-12T01:22:52.865Z"
   },
   {
    "duration": 16,
    "start_time": "2021-09-12T01:22:52.874Z"
   },
   {
    "duration": 6,
    "start_time": "2021-09-12T01:22:52.893Z"
   },
   {
    "duration": 23,
    "start_time": "2021-09-12T01:22:52.901Z"
   },
   {
    "duration": 39,
    "start_time": "2021-09-12T01:22:52.926Z"
   },
   {
    "duration": 31,
    "start_time": "2021-09-12T01:22:52.968Z"
   },
   {
    "duration": 9,
    "start_time": "2021-09-12T01:22:53.002Z"
   },
   {
    "duration": 28659,
    "start_time": "2021-09-12T01:22:53.014Z"
   },
   {
    "duration": 9,
    "start_time": "2021-09-12T01:23:21.675Z"
   },
   {
    "duration": 6,
    "start_time": "2021-09-12T01:23:21.687Z"
   },
   {
    "duration": 9,
    "start_time": "2021-09-12T01:23:21.695Z"
   },
   {
    "duration": 7,
    "start_time": "2021-09-12T01:23:21.706Z"
   },
   {
    "duration": 8,
    "start_time": "2021-09-12T01:23:21.715Z"
   },
   {
    "duration": 7,
    "start_time": "2021-09-12T01:23:21.725Z"
   },
   {
    "duration": 9,
    "start_time": "2021-09-12T01:26:55.197Z"
   },
   {
    "duration": 76,
    "start_time": "2021-09-12T01:36:13.079Z"
   },
   {
    "duration": 27,
    "start_time": "2021-09-12T01:36:22.759Z"
   },
   {
    "duration": 13,
    "start_time": "2021-09-12T01:36:59.521Z"
   },
   {
    "duration": 16,
    "start_time": "2021-09-12T01:37:05.559Z"
   },
   {
    "duration": 10,
    "start_time": "2021-09-12T01:37:11.992Z"
   },
   {
    "duration": 1477,
    "start_time": "2021-09-12T01:37:27.194Z"
   },
   {
    "duration": 508,
    "start_time": "2021-09-12T01:37:28.673Z"
   },
   {
    "duration": 31,
    "start_time": "2021-09-12T01:37:29.185Z"
   },
   {
    "duration": 19,
    "start_time": "2021-09-12T01:37:29.219Z"
   },
   {
    "duration": 62,
    "start_time": "2021-09-12T01:37:29.241Z"
   },
   {
    "duration": 5,
    "start_time": "2021-09-12T01:37:29.305Z"
   },
   {
    "duration": 13,
    "start_time": "2021-09-12T01:37:29.313Z"
   },
   {
    "duration": 52,
    "start_time": "2021-09-12T01:37:29.330Z"
   },
   {
    "duration": 14,
    "start_time": "2021-09-12T01:37:29.386Z"
   },
   {
    "duration": 9,
    "start_time": "2021-09-12T01:37:29.402Z"
   },
   {
    "duration": 8,
    "start_time": "2021-09-12T01:37:29.413Z"
   },
   {
    "duration": 6,
    "start_time": "2021-09-12T01:37:29.461Z"
   },
   {
    "duration": 7,
    "start_time": "2021-09-12T01:37:29.470Z"
   },
   {
    "duration": 17,
    "start_time": "2021-09-12T01:37:29.480Z"
   },
   {
    "duration": 12,
    "start_time": "2021-09-12T01:37:29.500Z"
   },
   {
    "duration": 48,
    "start_time": "2021-09-12T01:37:29.514Z"
   },
   {
    "duration": 9,
    "start_time": "2021-09-12T01:37:29.564Z"
   },
   {
    "duration": 7,
    "start_time": "2021-09-12T01:37:29.576Z"
   },
   {
    "duration": 5,
    "start_time": "2021-09-12T01:37:29.585Z"
   },
   {
    "duration": 10,
    "start_time": "2021-09-12T01:37:29.592Z"
   },
   {
    "duration": 23,
    "start_time": "2021-09-12T01:37:29.604Z"
   },
   {
    "duration": 34,
    "start_time": "2021-09-12T01:37:29.629Z"
   },
   {
    "duration": 6,
    "start_time": "2021-09-12T01:37:29.668Z"
   },
   {
    "duration": 14,
    "start_time": "2021-09-12T01:37:29.676Z"
   },
   {
    "duration": 9,
    "start_time": "2021-09-12T01:37:29.692Z"
   },
   {
    "duration": 8,
    "start_time": "2021-09-12T01:37:29.703Z"
   },
   {
    "duration": 8,
    "start_time": "2021-09-12T01:37:29.713Z"
   },
   {
    "duration": 41,
    "start_time": "2021-09-12T01:37:29.723Z"
   },
   {
    "duration": 10,
    "start_time": "2021-09-12T01:37:29.766Z"
   },
   {
    "duration": 18,
    "start_time": "2021-09-12T01:37:29.778Z"
   },
   {
    "duration": 14,
    "start_time": "2021-09-12T01:37:29.798Z"
   },
   {
    "duration": 11,
    "start_time": "2021-09-12T01:37:29.815Z"
   },
   {
    "duration": 39,
    "start_time": "2021-09-12T01:37:29.828Z"
   },
   {
    "duration": 8,
    "start_time": "2021-09-12T01:37:29.870Z"
   },
   {
    "duration": 26,
    "start_time": "2021-09-12T01:37:29.880Z"
   },
   {
    "duration": 20,
    "start_time": "2021-09-12T01:37:29.908Z"
   },
   {
    "duration": 20,
    "start_time": "2021-09-12T01:37:29.962Z"
   },
   {
    "duration": 6,
    "start_time": "2021-09-12T01:37:29.985Z"
   },
   {
    "duration": 24,
    "start_time": "2021-09-12T01:37:29.993Z"
   },
   {
    "duration": 11,
    "start_time": "2021-09-12T01:37:30.019Z"
   },
   {
    "duration": 38,
    "start_time": "2021-09-12T01:37:30.032Z"
   },
   {
    "duration": 13,
    "start_time": "2021-09-12T01:37:30.072Z"
   },
   {
    "duration": 35,
    "start_time": "2021-09-12T01:37:30.088Z"
   },
   {
    "duration": 10,
    "start_time": "2021-09-12T01:37:30.126Z"
   },
   {
    "duration": 28640,
    "start_time": "2021-09-12T01:37:30.162Z"
   },
   {
    "duration": 9,
    "start_time": "2021-09-12T01:37:58.804Z"
   },
   {
    "duration": 14,
    "start_time": "2021-09-12T01:37:58.816Z"
   },
   {
    "duration": 3,
    "start_time": "2021-09-12T01:37:58.832Z"
   },
   {
    "duration": 24,
    "start_time": "2021-09-12T01:37:58.838Z"
   },
   {
    "duration": 5,
    "start_time": "2021-09-12T01:37:58.865Z"
   },
   {
    "duration": 6,
    "start_time": "2021-09-12T01:37:58.873Z"
   },
   {
    "duration": 32,
    "start_time": "2021-09-12T01:37:58.881Z"
   },
   {
    "duration": 15,
    "start_time": "2021-09-12T01:38:10.421Z"
   },
   {
    "duration": 15,
    "start_time": "2021-09-12T01:38:18.490Z"
   },
   {
    "duration": 15,
    "start_time": "2021-09-12T01:38:39.903Z"
   },
   {
    "duration": 1498,
    "start_time": "2021-09-12T01:38:47.457Z"
   },
   {
    "duration": 213,
    "start_time": "2021-09-12T01:38:48.957Z"
   },
   {
    "duration": 30,
    "start_time": "2021-09-12T01:38:49.173Z"
   },
   {
    "duration": 15,
    "start_time": "2021-09-12T01:38:49.206Z"
   },
   {
    "duration": 67,
    "start_time": "2021-09-12T01:38:49.224Z"
   },
   {
    "duration": 5,
    "start_time": "2021-09-12T01:38:49.294Z"
   },
   {
    "duration": 12,
    "start_time": "2021-09-12T01:38:49.302Z"
   },
   {
    "duration": 54,
    "start_time": "2021-09-12T01:38:49.318Z"
   },
   {
    "duration": 14,
    "start_time": "2021-09-12T01:38:49.375Z"
   },
   {
    "duration": 8,
    "start_time": "2021-09-12T01:38:49.391Z"
   },
   {
    "duration": 17,
    "start_time": "2021-09-12T01:38:49.401Z"
   },
   {
    "duration": 6,
    "start_time": "2021-09-12T01:38:49.421Z"
   },
   {
    "duration": 33,
    "start_time": "2021-09-12T01:38:49.429Z"
   },
   {
    "duration": 30,
    "start_time": "2021-09-12T01:38:49.465Z"
   },
   {
    "duration": 12,
    "start_time": "2021-09-12T01:38:49.498Z"
   },
   {
    "duration": 18,
    "start_time": "2021-09-12T01:38:49.512Z"
   },
   {
    "duration": 12,
    "start_time": "2021-09-12T01:38:49.533Z"
   },
   {
    "duration": 19,
    "start_time": "2021-09-12T01:38:49.548Z"
   },
   {
    "duration": 9,
    "start_time": "2021-09-12T01:38:49.569Z"
   },
   {
    "duration": 17,
    "start_time": "2021-09-12T01:38:49.580Z"
   },
   {
    "duration": 14,
    "start_time": "2021-09-12T01:38:49.599Z"
   },
   {
    "duration": 21,
    "start_time": "2021-09-12T01:38:49.615Z"
   },
   {
    "duration": 22,
    "start_time": "2021-09-12T01:38:49.641Z"
   },
   {
    "duration": 10,
    "start_time": "2021-09-12T01:38:49.667Z"
   },
   {
    "duration": 13,
    "start_time": "2021-09-12T01:38:49.679Z"
   },
   {
    "duration": 7,
    "start_time": "2021-09-12T01:38:49.694Z"
   },
   {
    "duration": 17,
    "start_time": "2021-09-12T01:38:49.703Z"
   },
   {
    "duration": 5,
    "start_time": "2021-09-12T01:38:49.723Z"
   },
   {
    "duration": 37,
    "start_time": "2021-09-12T01:38:49.730Z"
   },
   {
    "duration": 26,
    "start_time": "2021-09-12T01:38:49.770Z"
   },
   {
    "duration": 17,
    "start_time": "2021-09-12T01:38:49.798Z"
   },
   {
    "duration": 18,
    "start_time": "2021-09-12T01:38:49.817Z"
   },
   {
    "duration": 23,
    "start_time": "2021-09-12T01:38:49.837Z"
   },
   {
    "duration": 15,
    "start_time": "2021-09-12T01:38:49.863Z"
   },
   {
    "duration": 32,
    "start_time": "2021-09-12T01:38:49.880Z"
   },
   {
    "duration": 19,
    "start_time": "2021-09-12T01:38:49.914Z"
   },
   {
    "duration": 32,
    "start_time": "2021-09-12T01:38:49.935Z"
   },
   {
    "duration": 6,
    "start_time": "2021-09-12T01:38:49.969Z"
   },
   {
    "duration": 24,
    "start_time": "2021-09-12T01:38:49.978Z"
   },
   {
    "duration": 14,
    "start_time": "2021-09-12T01:38:50.005Z"
   },
   {
    "duration": 22,
    "start_time": "2021-09-12T01:38:50.021Z"
   },
   {
    "duration": 21,
    "start_time": "2021-09-12T01:38:50.045Z"
   },
   {
    "duration": 41,
    "start_time": "2021-09-12T01:38:50.068Z"
   },
   {
    "duration": 9,
    "start_time": "2021-09-12T01:38:50.111Z"
   },
   {
    "duration": 28821,
    "start_time": "2021-09-12T01:38:50.122Z"
   },
   {
    "duration": 18,
    "start_time": "2021-09-12T01:39:18.945Z"
   },
   {
    "duration": 3,
    "start_time": "2021-09-12T01:39:18.965Z"
   },
   {
    "duration": 6,
    "start_time": "2021-09-12T01:39:18.971Z"
   },
   {
    "duration": 10,
    "start_time": "2021-09-12T01:39:18.979Z"
   },
   {
    "duration": 6,
    "start_time": "2021-09-12T01:39:18.992Z"
   },
   {
    "duration": 7,
    "start_time": "2021-09-12T01:39:19.000Z"
   },
   {
    "duration": 13,
    "start_time": "2021-09-12T01:39:19.010Z"
   },
   {
    "duration": 53,
    "start_time": "2021-09-12T01:39:19.026Z"
   },
   {
    "duration": 44,
    "start_time": "2021-09-12T01:39:19.083Z"
   },
   {
    "duration": 1455,
    "start_time": "2021-09-12T01:40:44.255Z"
   },
   {
    "duration": 221,
    "start_time": "2021-09-12T01:40:45.712Z"
   },
   {
    "duration": 29,
    "start_time": "2021-09-12T01:40:45.936Z"
   },
   {
    "duration": 36,
    "start_time": "2021-09-12T01:40:45.968Z"
   },
   {
    "duration": 55,
    "start_time": "2021-09-12T01:40:46.006Z"
   },
   {
    "duration": 4,
    "start_time": "2021-09-12T01:40:46.064Z"
   },
   {
    "duration": 40,
    "start_time": "2021-09-12T01:40:46.070Z"
   },
   {
    "duration": 29,
    "start_time": "2021-09-12T01:40:46.114Z"
   },
   {
    "duration": 30,
    "start_time": "2021-09-12T01:40:46.146Z"
   },
   {
    "duration": 27,
    "start_time": "2021-09-12T01:40:46.178Z"
   },
   {
    "duration": 24,
    "start_time": "2021-09-12T01:40:46.208Z"
   },
   {
    "duration": 36,
    "start_time": "2021-09-12T01:40:46.234Z"
   },
   {
    "duration": 25,
    "start_time": "2021-09-12T01:40:46.273Z"
   },
   {
    "duration": 35,
    "start_time": "2021-09-12T01:40:46.300Z"
   },
   {
    "duration": 16,
    "start_time": "2021-09-12T01:40:46.338Z"
   },
   {
    "duration": 27,
    "start_time": "2021-09-12T01:40:46.356Z"
   },
   {
    "duration": 15,
    "start_time": "2021-09-12T01:40:46.386Z"
   },
   {
    "duration": 17,
    "start_time": "2021-09-12T01:40:46.403Z"
   },
   {
    "duration": 29,
    "start_time": "2021-09-12T01:40:46.422Z"
   },
   {
    "duration": 31,
    "start_time": "2021-09-12T01:40:46.453Z"
   },
   {
    "duration": 17,
    "start_time": "2021-09-12T01:40:46.487Z"
   },
   {
    "duration": 30,
    "start_time": "2021-09-12T01:40:46.507Z"
   },
   {
    "duration": 17,
    "start_time": "2021-09-12T01:40:46.542Z"
   },
   {
    "duration": 45,
    "start_time": "2021-09-12T01:40:46.562Z"
   },
   {
    "duration": 26,
    "start_time": "2021-09-12T01:40:46.609Z"
   },
   {
    "duration": 35,
    "start_time": "2021-09-12T01:40:46.638Z"
   },
   {
    "duration": 24,
    "start_time": "2021-09-12T01:40:46.675Z"
   },
   {
    "duration": 25,
    "start_time": "2021-09-12T01:40:46.702Z"
   },
   {
    "duration": 18,
    "start_time": "2021-09-12T01:40:46.730Z"
   },
   {
    "duration": 31,
    "start_time": "2021-09-12T01:40:46.751Z"
   },
   {
    "duration": 18,
    "start_time": "2021-09-12T01:40:46.784Z"
   },
   {
    "duration": 18,
    "start_time": "2021-09-12T01:40:46.805Z"
   },
   {
    "duration": 22,
    "start_time": "2021-09-12T01:40:46.825Z"
   },
   {
    "duration": 22,
    "start_time": "2021-09-12T01:40:46.850Z"
   },
   {
    "duration": 32,
    "start_time": "2021-09-12T01:40:46.875Z"
   },
   {
    "duration": 19,
    "start_time": "2021-09-12T01:40:46.909Z"
   },
   {
    "duration": 19,
    "start_time": "2021-09-12T01:40:46.930Z"
   },
   {
    "duration": 14,
    "start_time": "2021-09-12T01:40:46.952Z"
   },
   {
    "duration": 16,
    "start_time": "2021-09-12T01:40:46.969Z"
   },
   {
    "duration": 22,
    "start_time": "2021-09-12T01:40:46.987Z"
   },
   {
    "duration": 10,
    "start_time": "2021-09-12T01:40:47.011Z"
   },
   {
    "duration": 20,
    "start_time": "2021-09-12T01:40:47.023Z"
   },
   {
    "duration": 38,
    "start_time": "2021-09-12T01:40:47.046Z"
   },
   {
    "duration": 13,
    "start_time": "2021-09-12T01:40:47.086Z"
   },
   {
    "duration": 28561,
    "start_time": "2021-09-12T01:40:47.101Z"
   },
   {
    "duration": 9,
    "start_time": "2021-09-12T01:41:15.664Z"
   },
   {
    "duration": 7,
    "start_time": "2021-09-12T01:41:15.675Z"
   },
   {
    "duration": 7,
    "start_time": "2021-09-12T01:41:15.684Z"
   },
   {
    "duration": 11,
    "start_time": "2021-09-12T01:41:15.693Z"
   },
   {
    "duration": 7,
    "start_time": "2021-09-12T01:41:15.707Z"
   },
   {
    "duration": 13,
    "start_time": "2021-09-12T01:41:15.716Z"
   },
   {
    "duration": 31,
    "start_time": "2021-09-12T01:41:15.731Z"
   },
   {
    "duration": -721,
    "start_time": "2021-09-12T01:41:16.822Z"
   },
   {
    "duration": -725,
    "start_time": "2021-09-12T01:41:16.827Z"
   },
   {
    "duration": 16,
    "start_time": "2021-09-12T01:41:19.613Z"
   },
   {
    "duration": 21,
    "start_time": "2021-09-12T01:42:56.514Z"
   },
   {
    "duration": 24,
    "start_time": "2021-09-12T01:43:08.815Z"
   },
   {
    "duration": 1466,
    "start_time": "2021-09-12T01:44:29.255Z"
   },
   {
    "duration": 227,
    "start_time": "2021-09-12T01:44:30.724Z"
   },
   {
    "duration": 31,
    "start_time": "2021-09-12T01:44:30.954Z"
   },
   {
    "duration": 28,
    "start_time": "2021-09-12T01:44:30.988Z"
   },
   {
    "duration": 58,
    "start_time": "2021-09-12T01:44:31.018Z"
   },
   {
    "duration": 5,
    "start_time": "2021-09-12T01:44:31.078Z"
   },
   {
    "duration": 28,
    "start_time": "2021-09-12T01:44:31.086Z"
   },
   {
    "duration": 37,
    "start_time": "2021-09-12T01:44:31.117Z"
   },
   {
    "duration": 15,
    "start_time": "2021-09-12T01:44:31.159Z"
   },
   {
    "duration": 15,
    "start_time": "2021-09-12T01:44:31.177Z"
   },
   {
    "duration": 21,
    "start_time": "2021-09-12T01:44:31.195Z"
   },
   {
    "duration": 22,
    "start_time": "2021-09-12T01:44:31.219Z"
   },
   {
    "duration": 22,
    "start_time": "2021-09-12T01:44:31.243Z"
   },
   {
    "duration": 36,
    "start_time": "2021-09-12T01:44:31.268Z"
   },
   {
    "duration": 13,
    "start_time": "2021-09-12T01:44:31.307Z"
   },
   {
    "duration": 18,
    "start_time": "2021-09-12T01:44:31.323Z"
   },
   {
    "duration": 25,
    "start_time": "2021-09-12T01:44:31.343Z"
   },
   {
    "duration": 16,
    "start_time": "2021-09-12T01:44:31.371Z"
   },
   {
    "duration": 15,
    "start_time": "2021-09-12T01:44:31.390Z"
   },
   {
    "duration": 18,
    "start_time": "2021-09-12T01:44:31.407Z"
   },
   {
    "duration": 15,
    "start_time": "2021-09-12T01:44:31.427Z"
   },
   {
    "duration": 23,
    "start_time": "2021-09-12T01:44:31.444Z"
   },
   {
    "duration": 15,
    "start_time": "2021-09-12T01:44:31.470Z"
   },
   {
    "duration": 23,
    "start_time": "2021-09-12T01:44:31.487Z"
   },
   {
    "duration": 23,
    "start_time": "2021-09-12T01:44:31.513Z"
   },
   {
    "duration": 31,
    "start_time": "2021-09-12T01:44:31.539Z"
   },
   {
    "duration": 33,
    "start_time": "2021-09-12T01:44:31.576Z"
   },
   {
    "duration": 21,
    "start_time": "2021-09-12T01:44:31.612Z"
   },
   {
    "duration": 17,
    "start_time": "2021-09-12T01:44:31.636Z"
   },
   {
    "duration": 29,
    "start_time": "2021-09-12T01:44:31.656Z"
   },
   {
    "duration": 23,
    "start_time": "2021-09-12T01:44:31.688Z"
   },
   {
    "duration": 20,
    "start_time": "2021-09-12T01:44:31.714Z"
   },
   {
    "duration": 16,
    "start_time": "2021-09-12T01:44:31.736Z"
   },
   {
    "duration": 16,
    "start_time": "2021-09-12T01:44:31.755Z"
   },
   {
    "duration": 31,
    "start_time": "2021-09-12T01:44:31.773Z"
   },
   {
    "duration": 6,
    "start_time": "2021-09-12T01:44:31.807Z"
   },
   {
    "duration": 14,
    "start_time": "2021-09-12T01:44:31.816Z"
   },
   {
    "duration": 34,
    "start_time": "2021-09-12T01:44:31.833Z"
   },
   {
    "duration": 22,
    "start_time": "2021-09-12T01:44:31.869Z"
   },
   {
    "duration": 20,
    "start_time": "2021-09-12T01:44:31.893Z"
   },
   {
    "duration": 54,
    "start_time": "2021-09-12T01:44:31.915Z"
   },
   {
    "duration": 10,
    "start_time": "2021-09-12T01:44:31.971Z"
   },
   {
    "duration": 28366,
    "start_time": "2021-09-12T01:44:31.983Z"
   },
   {
    "duration": 14,
    "start_time": "2021-09-12T01:45:00.351Z"
   },
   {
    "duration": 9,
    "start_time": "2021-09-12T01:45:00.368Z"
   },
   {
    "duration": 12,
    "start_time": "2021-09-12T01:45:00.379Z"
   },
   {
    "duration": 12,
    "start_time": "2021-09-12T01:45:00.393Z"
   },
   {
    "duration": 14,
    "start_time": "2021-09-12T01:45:00.407Z"
   },
   {
    "duration": 13,
    "start_time": "2021-09-12T01:45:00.424Z"
   },
   {
    "duration": 16,
    "start_time": "2021-09-12T01:45:00.439Z"
   },
   {
    "duration": 16,
    "start_time": "2021-09-12T01:45:00.458Z"
   },
   {
    "duration": 53,
    "start_time": "2021-09-12T01:45:00.477Z"
   },
   {
    "duration": 26,
    "start_time": "2021-09-12T01:57:56.264Z"
   },
   {
    "duration": 26,
    "start_time": "2021-09-12T01:58:06.877Z"
   },
   {
    "duration": 17,
    "start_time": "2021-09-12T01:58:12.089Z"
   },
   {
    "duration": 16,
    "start_time": "2021-09-12T02:24:32.869Z"
   },
   {
    "duration": 15,
    "start_time": "2021-09-12T02:36:42.518Z"
   },
   {
    "duration": 1323,
    "start_time": "2021-09-12T02:37:56.892Z"
   },
   {
    "duration": 111,
    "start_time": "2021-09-12T02:38:04.587Z"
   },
   {
    "duration": 1892,
    "start_time": "2021-09-12T02:38:29.088Z"
   },
   {
    "duration": 763,
    "start_time": "2021-09-12T02:38:34.972Z"
   },
   {
    "duration": 713,
    "start_time": "2021-09-12T02:38:42.090Z"
   },
   {
    "duration": 13,
    "start_time": "2021-09-12T02:42:51.805Z"
   },
   {
    "duration": 658,
    "start_time": "2021-09-12T02:47:52.380Z"
   },
   {
    "duration": 641,
    "start_time": "2021-09-12T02:48:03.798Z"
   },
   {
    "duration": 703,
    "start_time": "2021-09-12T02:48:10.781Z"
   },
   {
    "duration": 666,
    "start_time": "2021-09-12T02:48:33.782Z"
   },
   {
    "duration": 654,
    "start_time": "2021-09-12T02:49:17.689Z"
   },
   {
    "duration": 676,
    "start_time": "2021-09-12T02:49:34.381Z"
   },
   {
    "duration": 675,
    "start_time": "2021-09-12T02:50:03.395Z"
   },
   {
    "duration": 677,
    "start_time": "2021-09-12T03:02:42.065Z"
   },
   {
    "duration": 7,
    "start_time": "2021-09-12T03:02:55.487Z"
   },
   {
    "duration": 7,
    "start_time": "2021-09-12T03:03:07.712Z"
   },
   {
    "duration": 6,
    "start_time": "2021-09-12T03:03:15.129Z"
   },
   {
    "duration": 1811,
    "start_time": "2021-09-12T03:15:34.851Z"
   },
   {
    "duration": 7,
    "start_time": "2021-09-12T03:15:51.366Z"
   },
   {
    "duration": 10,
    "start_time": "2021-09-12T03:16:00.807Z"
   },
   {
    "duration": 16,
    "start_time": "2021-09-12T03:42:03.613Z"
   },
   {
    "duration": 362,
    "start_time": "2021-09-12T03:42:32.263Z"
   },
   {
    "duration": 17,
    "start_time": "2021-09-12T03:43:04.615Z"
   },
   {
    "duration": 17,
    "start_time": "2021-09-12T03:43:40.833Z"
   },
   {
    "duration": 247,
    "start_time": "2021-09-12T03:43:56.286Z"
   },
   {
    "duration": 858,
    "start_time": "2021-09-12T03:44:48.440Z"
   },
   {
    "duration": 21,
    "start_time": "2021-09-12T03:52:48.360Z"
   },
   {
    "duration": 12,
    "start_time": "2021-09-12T03:52:58.752Z"
   },
   {
    "duration": 11,
    "start_time": "2021-09-12T03:53:00.941Z"
   },
   {
    "duration": 20,
    "start_time": "2021-09-12T03:53:07.484Z"
   },
   {
    "duration": 13,
    "start_time": "2021-09-12T03:53:15.867Z"
   },
   {
    "duration": 21,
    "start_time": "2021-09-12T03:53:18.749Z"
   },
   {
    "duration": 20,
    "start_time": "2021-09-12T03:54:18.244Z"
   },
   {
    "duration": 260,
    "start_time": "2021-09-12T04:02:25.625Z"
   },
   {
    "duration": 16,
    "start_time": "2021-09-12T04:02:28.927Z"
   },
   {
    "duration": 15,
    "start_time": "2021-09-12T04:02:39.621Z"
   },
   {
    "duration": 14,
    "start_time": "2021-09-12T04:02:59.385Z"
   },
   {
    "duration": 14,
    "start_time": "2021-09-12T04:03:07.262Z"
   },
   {
    "duration": 14,
    "start_time": "2021-09-12T04:03:21.816Z"
   },
   {
    "duration": 14,
    "start_time": "2021-09-12T04:03:27.353Z"
   },
   {
    "duration": 20,
    "start_time": "2021-09-12T04:05:04.859Z"
   },
   {
    "duration": 23,
    "start_time": "2021-09-12T04:05:06.643Z"
   },
   {
    "duration": 260,
    "start_time": "2021-09-12T04:08:46.678Z"
   },
   {
    "duration": 20,
    "start_time": "2021-09-12T04:09:11.826Z"
   },
   {
    "duration": 231,
    "start_time": "2021-09-12T04:10:15.551Z"
   },
   {
    "duration": 253,
    "start_time": "2021-09-12T04:10:19.748Z"
   },
   {
    "duration": 21,
    "start_time": "2021-09-12T04:15:10.863Z"
   },
   {
    "duration": 20,
    "start_time": "2021-09-12T04:16:10.840Z"
   },
   {
    "duration": 19,
    "start_time": "2021-09-12T04:16:31.495Z"
   },
   {
    "duration": 20,
    "start_time": "2021-09-12T04:17:39.255Z"
   },
   {
    "duration": 20,
    "start_time": "2021-09-12T04:17:50.210Z"
   },
   {
    "duration": 18,
    "start_time": "2021-09-12T04:29:25.107Z"
   },
   {
    "duration": 21,
    "start_time": "2021-09-12T04:29:37.017Z"
   },
   {
    "duration": 19,
    "start_time": "2021-09-12T04:31:00.373Z"
   },
   {
    "duration": 17,
    "start_time": "2021-09-12T04:31:11.798Z"
   },
   {
    "duration": 20,
    "start_time": "2021-09-12T04:31:19.285Z"
   },
   {
    "duration": 18,
    "start_time": "2021-09-12T04:32:32.312Z"
   },
   {
    "duration": 624,
    "start_time": "2021-09-12T04:32:46.723Z"
   },
   {
    "duration": 17,
    "start_time": "2021-09-12T04:33:00.856Z"
   },
   {
    "duration": 91,
    "start_time": "2021-09-12T04:39:03.175Z"
   },
   {
    "duration": 271,
    "start_time": "2021-09-12T04:39:07.038Z"
   },
   {
    "duration": 253,
    "start_time": "2021-09-12T04:39:14.938Z"
   },
   {
    "duration": 354,
    "start_time": "2021-09-12T04:40:14.450Z"
   },
   {
    "duration": 262,
    "start_time": "2021-09-12T04:40:47.743Z"
   },
   {
    "duration": 258,
    "start_time": "2021-09-12T04:40:58.950Z"
   },
   {
    "duration": 23,
    "start_time": "2021-09-12T04:43:02.783Z"
   },
   {
    "duration": 22,
    "start_time": "2021-09-12T04:43:04.248Z"
   },
   {
    "duration": 266,
    "start_time": "2021-09-12T04:43:27.731Z"
   },
   {
    "duration": 20,
    "start_time": "2021-09-12T04:43:35.773Z"
   },
   {
    "duration": 263,
    "start_time": "2021-09-12T04:43:49.745Z"
   },
   {
    "duration": 252,
    "start_time": "2021-09-12T04:43:58.516Z"
   },
   {
    "duration": 262,
    "start_time": "2021-09-12T04:44:20.169Z"
   },
   {
    "duration": 259,
    "start_time": "2021-09-12T04:45:02.253Z"
   },
   {
    "duration": 21,
    "start_time": "2021-09-12T04:46:26.021Z"
   },
   {
    "duration": 19,
    "start_time": "2021-09-12T04:47:05.035Z"
   },
   {
    "duration": 273,
    "start_time": "2021-09-12T04:47:25.917Z"
   },
   {
    "duration": 299,
    "start_time": "2021-09-12T04:48:07.140Z"
   },
   {
    "duration": 293,
    "start_time": "2021-09-12T04:48:19.927Z"
   },
   {
    "duration": 278,
    "start_time": "2021-09-12T04:48:34.679Z"
   },
   {
    "duration": 21,
    "start_time": "2021-09-12T04:48:56.789Z"
   },
   {
    "duration": 281,
    "start_time": "2021-09-12T04:49:56.973Z"
   },
   {
    "duration": 25,
    "start_time": "2021-09-12T04:50:16.317Z"
   },
   {
    "duration": 27,
    "start_time": "2021-09-12T04:52:48.814Z"
   },
   {
    "duration": 222830,
    "start_time": "2021-09-12T04:53:04.279Z"
   },
   {
    "duration": 18,
    "start_time": "2021-09-12T04:56:47.112Z"
   },
   {
    "duration": 38,
    "start_time": "2021-09-12T04:56:47.133Z"
   },
   {
    "duration": 239,
    "start_time": "2021-09-12T04:56:57.817Z"
   },
   {
    "duration": 1477,
    "start_time": "2021-09-12T05:08:09.187Z"
   },
   {
    "duration": 186,
    "start_time": "2021-09-12T05:08:13.728Z"
   },
   {
    "duration": 26,
    "start_time": "2021-09-12T05:08:15.799Z"
   },
   {
    "duration": 21,
    "start_time": "2021-09-12T05:08:18.458Z"
   },
   {
    "duration": 20,
    "start_time": "2021-09-12T05:08:38.495Z"
   },
   {
    "duration": 20,
    "start_time": "2021-09-12T05:08:50.892Z"
   },
   {
    "duration": 17,
    "start_time": "2021-09-12T05:09:21.608Z"
   },
   {
    "duration": 14,
    "start_time": "2021-09-12T05:09:53.819Z"
   },
   {
    "duration": 47,
    "start_time": "2021-09-12T05:09:57.488Z"
   },
   {
    "duration": 74,
    "start_time": "2021-09-12T05:10:06.626Z"
   },
   {
    "duration": 5,
    "start_time": "2021-09-12T05:10:26.404Z"
   },
   {
    "duration": 415,
    "start_time": "2021-09-12T05:11:38.059Z"
   },
   {
    "duration": 708,
    "start_time": "2021-09-12T05:12:03.745Z"
   },
   {
    "duration": 39,
    "start_time": "2021-09-12T05:26:23.508Z"
   },
   {
    "duration": 322,
    "start_time": "2021-09-12T05:26:31.286Z"
   },
   {
    "duration": 35,
    "start_time": "2021-09-12T05:26:43.035Z"
   },
   {
    "duration": 14,
    "start_time": "2021-09-12T05:27:37.134Z"
   },
   {
    "duration": 26,
    "start_time": "2021-09-12T05:27:41.603Z"
   },
   {
    "duration": 6,
    "start_time": "2021-09-12T05:30:26.118Z"
   },
   {
    "duration": 7,
    "start_time": "2021-09-12T05:30:34.566Z"
   },
   {
    "duration": 5,
    "start_time": "2021-09-12T05:30:38.466Z"
   },
   {
    "duration": 6,
    "start_time": "2021-09-12T05:30:53.977Z"
   },
   {
    "duration": 7,
    "start_time": "2021-09-12T05:31:07.809Z"
   },
   {
    "duration": 5,
    "start_time": "2021-09-12T05:31:14.497Z"
   },
   {
    "duration": 7,
    "start_time": "2021-09-12T05:31:25.678Z"
   },
   {
    "duration": 6,
    "start_time": "2021-09-12T05:31:30.943Z"
   },
   {
    "duration": 5,
    "start_time": "2021-09-12T05:32:35.980Z"
   },
   {
    "duration": 7,
    "start_time": "2021-09-12T05:36:16.555Z"
   },
   {
    "duration": 17,
    "start_time": "2021-09-12T05:36:47.070Z"
   },
   {
    "duration": 15,
    "start_time": "2021-09-12T05:37:01.819Z"
   },
   {
    "duration": 10,
    "start_time": "2021-09-12T05:37:23.603Z"
   },
   {
    "duration": 7,
    "start_time": "2021-09-12T05:37:26.823Z"
   },
   {
    "duration": 7,
    "start_time": "2021-09-12T05:37:34.221Z"
   },
   {
    "duration": 8,
    "start_time": "2021-09-12T05:37:34.231Z"
   },
   {
    "duration": 11,
    "start_time": "2021-09-12T05:37:36.984Z"
   },
   {
    "duration": 6,
    "start_time": "2021-09-12T05:37:39.511Z"
   },
   {
    "duration": 7,
    "start_time": "2021-09-12T05:37:41.936Z"
   },
   {
    "duration": 7,
    "start_time": "2021-09-12T05:37:45.057Z"
   },
   {
    "duration": 10,
    "start_time": "2021-09-12T05:37:49.262Z"
   },
   {
    "duration": 7,
    "start_time": "2021-09-12T05:37:51.908Z"
   },
   {
    "duration": 6,
    "start_time": "2021-09-12T05:37:54.600Z"
   },
   {
    "duration": 7,
    "start_time": "2021-09-12T05:37:56.490Z"
   },
   {
    "duration": 6,
    "start_time": "2021-09-12T06:29:39.932Z"
   },
   {
    "duration": 15,
    "start_time": "2021-09-12T06:29:43.434Z"
   },
   {
    "duration": 5,
    "start_time": "2021-09-12T06:29:49.018Z"
   },
   {
    "duration": 17,
    "start_time": "2021-09-12T06:29:51.810Z"
   },
   {
    "duration": 8,
    "start_time": "2021-09-12T06:30:04.533Z"
   },
   {
    "duration": 8,
    "start_time": "2021-09-12T06:30:06.734Z"
   },
   {
    "duration": 9,
    "start_time": "2021-09-12T06:30:11.043Z"
   },
   {
    "duration": 14,
    "start_time": "2021-09-12T06:49:20.727Z"
   },
   {
    "duration": 14,
    "start_time": "2021-09-12T06:49:22.597Z"
   },
   {
    "duration": 8,
    "start_time": "2021-09-12T06:49:28.578Z"
   },
   {
    "duration": 39,
    "start_time": "2021-09-12T06:50:18.167Z"
   },
   {
    "duration": 40,
    "start_time": "2021-09-12T06:50:28.281Z"
   },
   {
    "duration": 8,
    "start_time": "2021-09-12T06:50:43.634Z"
   },
   {
    "duration": 19,
    "start_time": "2021-09-12T06:51:16.619Z"
   },
   {
    "duration": 21,
    "start_time": "2021-09-12T06:51:41.515Z"
   },
   {
    "duration": 10,
    "start_time": "2021-09-12T06:51:43.488Z"
   },
   {
    "duration": 21,
    "start_time": "2021-09-12T06:51:45.807Z"
   },
   {
    "duration": 22,
    "start_time": "2021-09-12T06:51:48.214Z"
   },
   {
    "duration": 21,
    "start_time": "2021-09-12T06:51:50.370Z"
   },
   {
    "duration": 225,
    "start_time": "2021-09-12T06:51:53.646Z"
   },
   {
    "duration": 24,
    "start_time": "2021-09-12T06:51:59.796Z"
   },
   {
    "duration": 22,
    "start_time": "2021-09-12T06:53:41.614Z"
   },
   {
    "duration": 11,
    "start_time": "2021-09-12T06:53:43.365Z"
   },
   {
    "duration": 1614,
    "start_time": "2021-09-12T06:53:59.863Z"
   },
   {
    "duration": 238,
    "start_time": "2021-09-12T06:54:01.479Z"
   },
   {
    "duration": 24,
    "start_time": "2021-09-12T06:54:01.720Z"
   },
   {
    "duration": 21,
    "start_time": "2021-09-12T06:54:01.747Z"
   },
   {
    "duration": 73,
    "start_time": "2021-09-12T06:54:01.771Z"
   },
   {
    "duration": 5,
    "start_time": "2021-09-12T06:54:01.862Z"
   },
   {
    "duration": 29,
    "start_time": "2021-09-12T06:54:01.869Z"
   },
   {
    "duration": 24,
    "start_time": "2021-09-12T06:54:01.900Z"
   },
   {
    "duration": 18,
    "start_time": "2021-09-12T06:54:01.928Z"
   },
   {
    "duration": 32,
    "start_time": "2021-09-12T06:54:01.950Z"
   },
   {
    "duration": 16,
    "start_time": "2021-09-12T06:54:01.984Z"
   },
   {
    "duration": 15,
    "start_time": "2021-09-12T06:54:02.003Z"
   },
   {
    "duration": 8,
    "start_time": "2021-09-12T06:54:02.020Z"
   },
   {
    "duration": 7,
    "start_time": "2021-09-12T06:54:02.030Z"
   },
   {
    "duration": 24,
    "start_time": "2021-09-12T06:54:02.039Z"
   },
   {
    "duration": 38,
    "start_time": "2021-09-12T06:54:02.066Z"
   },
   {
    "duration": 18,
    "start_time": "2021-09-12T06:54:02.106Z"
   },
   {
    "duration": 32,
    "start_time": "2021-09-12T06:54:02.126Z"
   },
   {
    "duration": 19,
    "start_time": "2021-09-12T06:54:02.161Z"
   },
   {
    "duration": 38,
    "start_time": "2021-09-12T06:54:02.183Z"
   },
   {
    "duration": 35,
    "start_time": "2021-09-12T06:54:02.223Z"
   },
   {
    "duration": 62,
    "start_time": "2021-09-12T06:54:02.260Z"
   },
   {
    "duration": 53,
    "start_time": "2021-09-12T06:54:02.325Z"
   },
   {
    "duration": 7,
    "start_time": "2021-09-12T06:54:02.381Z"
   },
   {
    "duration": 17,
    "start_time": "2021-09-12T06:54:02.390Z"
   },
   {
    "duration": 4,
    "start_time": "2021-09-12T06:54:02.410Z"
   },
   {
    "duration": 17,
    "start_time": "2021-09-12T06:54:02.419Z"
   },
   {
    "duration": 25,
    "start_time": "2021-09-12T06:54:02.439Z"
   },
   {
    "duration": 8,
    "start_time": "2021-09-12T06:54:02.466Z"
   },
   {
    "duration": 13,
    "start_time": "2021-09-12T06:54:02.475Z"
   },
   {
    "duration": 28,
    "start_time": "2021-09-12T06:54:02.490Z"
   },
   {
    "duration": 43,
    "start_time": "2021-09-12T06:54:02.520Z"
   },
   {
    "duration": 93,
    "start_time": "2021-09-12T06:54:02.566Z"
   },
   {
    "duration": -434,
    "start_time": "2021-09-12T06:54:03.096Z"
   },
   {
    "duration": -498,
    "start_time": "2021-09-12T06:54:03.161Z"
   },
   {
    "duration": -508,
    "start_time": "2021-09-12T06:54:03.172Z"
   },
   {
    "duration": -517,
    "start_time": "2021-09-12T06:54:03.183Z"
   },
   {
    "duration": -544,
    "start_time": "2021-09-12T06:54:03.211Z"
   },
   {
    "duration": -549,
    "start_time": "2021-09-12T06:54:03.217Z"
   },
   {
    "duration": -554,
    "start_time": "2021-09-12T06:54:03.224Z"
   },
   {
    "duration": -585,
    "start_time": "2021-09-12T06:54:03.256Z"
   },
   {
    "duration": -594,
    "start_time": "2021-09-12T06:54:03.267Z"
   },
   {
    "duration": -611,
    "start_time": "2021-09-12T06:54:03.285Z"
   },
   {
    "duration": -616,
    "start_time": "2021-09-12T06:54:03.291Z"
   },
   {
    "duration": -619,
    "start_time": "2021-09-12T06:54:03.296Z"
   },
   {
    "duration": -625,
    "start_time": "2021-09-12T06:54:03.303Z"
   },
   {
    "duration": -657,
    "start_time": "2021-09-12T06:54:03.336Z"
   },
   {
    "duration": -662,
    "start_time": "2021-09-12T06:54:03.343Z"
   },
   {
    "duration": -675,
    "start_time": "2021-09-12T06:54:03.357Z"
   },
   {
    "duration": -701,
    "start_time": "2021-09-12T06:54:03.384Z"
   },
   {
    "duration": -771,
    "start_time": "2021-09-12T06:54:03.456Z"
   },
   {
    "duration": -777,
    "start_time": "2021-09-12T06:54:03.463Z"
   },
   {
    "duration": -791,
    "start_time": "2021-09-12T06:54:03.478Z"
   },
   {
    "duration": 22,
    "start_time": "2021-09-12T06:54:12.846Z"
   },
   {
    "duration": 9,
    "start_time": "2021-09-12T06:54:15.407Z"
   },
   {
    "duration": 22,
    "start_time": "2021-09-12T06:54:19.116Z"
   },
   {
    "duration": 41,
    "start_time": "2021-09-12T06:54:31.518Z"
   },
   {
    "duration": 1649,
    "start_time": "2021-09-12T06:55:19.541Z"
   },
   {
    "duration": 204,
    "start_time": "2021-09-12T06:55:21.193Z"
   },
   {
    "duration": 26,
    "start_time": "2021-09-12T06:55:21.400Z"
   },
   {
    "duration": 17,
    "start_time": "2021-09-12T06:55:21.429Z"
   },
   {
    "duration": 72,
    "start_time": "2021-09-12T06:55:21.463Z"
   },
   {
    "duration": 5,
    "start_time": "2021-09-12T06:55:21.538Z"
   },
   {
    "duration": 30,
    "start_time": "2021-09-12T06:55:21.545Z"
   },
   {
    "duration": 20,
    "start_time": "2021-09-12T06:55:21.579Z"
   },
   {
    "duration": 5,
    "start_time": "2021-09-12T06:55:21.602Z"
   },
   {
    "duration": 54,
    "start_time": "2021-09-12T06:55:21.609Z"
   },
   {
    "duration": 12,
    "start_time": "2021-09-12T06:55:21.666Z"
   },
   {
    "duration": 13,
    "start_time": "2021-09-12T06:55:21.680Z"
   },
   {
    "duration": 14,
    "start_time": "2021-09-12T06:55:21.695Z"
   },
   {
    "duration": 9,
    "start_time": "2021-09-12T06:55:21.711Z"
   },
   {
    "duration": 41,
    "start_time": "2021-09-12T06:55:21.722Z"
   },
   {
    "duration": 9,
    "start_time": "2021-09-12T06:55:21.766Z"
   },
   {
    "duration": 7,
    "start_time": "2021-09-12T06:55:21.777Z"
   },
   {
    "duration": 9,
    "start_time": "2021-09-12T06:55:21.787Z"
   },
   {
    "duration": 14,
    "start_time": "2021-09-12T06:55:21.799Z"
   },
   {
    "duration": 48,
    "start_time": "2021-09-12T06:55:21.816Z"
   },
   {
    "duration": 7,
    "start_time": "2021-09-12T06:55:21.866Z"
   },
   {
    "duration": 15,
    "start_time": "2021-09-12T06:55:21.875Z"
   },
   {
    "duration": 11,
    "start_time": "2021-09-12T06:55:21.895Z"
   },
   {
    "duration": 5,
    "start_time": "2021-09-12T06:55:21.910Z"
   },
   {
    "duration": 47,
    "start_time": "2021-09-12T06:55:21.917Z"
   },
   {
    "duration": 5,
    "start_time": "2021-09-12T06:55:21.966Z"
   },
   {
    "duration": 22,
    "start_time": "2021-09-12T06:55:21.973Z"
   },
   {
    "duration": 9,
    "start_time": "2021-09-12T06:55:21.997Z"
   },
   {
    "duration": 8,
    "start_time": "2021-09-12T06:55:22.008Z"
   },
   {
    "duration": 44,
    "start_time": "2021-09-12T06:55:22.018Z"
   },
   {
    "duration": 17,
    "start_time": "2021-09-12T06:55:22.065Z"
   },
   {
    "duration": 20,
    "start_time": "2021-09-12T06:55:22.085Z"
   },
   {
    "duration": 3,
    "start_time": "2021-09-12T06:55:22.107Z"
   },
   {
    "duration": 12,
    "start_time": "2021-09-12T06:55:22.112Z"
   },
   {
    "duration": 53,
    "start_time": "2021-09-12T06:55:22.126Z"
   },
   {
    "duration": 71,
    "start_time": "2021-09-12T06:55:22.182Z"
   },
   {
    "duration": -667,
    "start_time": "2021-09-12T06:55:22.922Z"
   },
   {
    "duration": -674,
    "start_time": "2021-09-12T06:55:22.930Z"
   },
   {
    "duration": -677,
    "start_time": "2021-09-12T06:55:22.935Z"
   },
   {
    "duration": -681,
    "start_time": "2021-09-12T06:55:22.940Z"
   },
   {
    "duration": -684,
    "start_time": "2021-09-12T06:55:22.945Z"
   },
   {
    "duration": -699,
    "start_time": "2021-09-12T06:55:22.961Z"
   },
   {
    "duration": -705,
    "start_time": "2021-09-12T06:55:22.969Z"
   },
   {
    "duration": -713,
    "start_time": "2021-09-12T06:55:22.978Z"
   },
   {
    "duration": -716,
    "start_time": "2021-09-12T06:55:22.983Z"
   },
   {
    "duration": -719,
    "start_time": "2021-09-12T06:55:22.987Z"
   },
   {
    "duration": -721,
    "start_time": "2021-09-12T06:55:22.990Z"
   },
   {
    "duration": -724,
    "start_time": "2021-09-12T06:55:22.995Z"
   },
   {
    "duration": -734,
    "start_time": "2021-09-12T06:55:23.006Z"
   },
   {
    "duration": -740,
    "start_time": "2021-09-12T06:55:23.013Z"
   },
   {
    "duration": -762,
    "start_time": "2021-09-12T06:55:23.037Z"
   },
   {
    "duration": -765,
    "start_time": "2021-09-12T06:55:23.041Z"
   },
   {
    "duration": 22,
    "start_time": "2021-09-12T06:56:16.598Z"
   },
   {
    "duration": 9,
    "start_time": "2021-09-12T06:56:18.325Z"
   },
   {
    "duration": 1605,
    "start_time": "2021-09-12T06:56:31.068Z"
   },
   {
    "duration": 217,
    "start_time": "2021-09-12T06:56:32.675Z"
   },
   {
    "duration": 24,
    "start_time": "2021-09-12T06:56:32.895Z"
   },
   {
    "duration": 24,
    "start_time": "2021-09-12T06:56:32.922Z"
   },
   {
    "duration": 82,
    "start_time": "2021-09-12T06:56:32.948Z"
   },
   {
    "duration": 4,
    "start_time": "2021-09-12T06:56:33.033Z"
   },
   {
    "duration": 28,
    "start_time": "2021-09-12T06:56:33.040Z"
   },
   {
    "duration": 19,
    "start_time": "2021-09-12T06:56:33.072Z"
   },
   {
    "duration": 5,
    "start_time": "2021-09-12T06:56:33.094Z"
   },
   {
    "duration": 22,
    "start_time": "2021-09-12T06:56:33.102Z"
   },
   {
    "duration": 45,
    "start_time": "2021-09-12T06:56:33.126Z"
   },
   {
    "duration": 8,
    "start_time": "2021-09-12T06:56:33.173Z"
   },
   {
    "duration": 13,
    "start_time": "2021-09-12T06:56:33.183Z"
   },
   {
    "duration": 8,
    "start_time": "2021-09-12T06:56:33.198Z"
   },
   {
    "duration": 6,
    "start_time": "2021-09-12T06:56:33.208Z"
   },
   {
    "duration": 47,
    "start_time": "2021-09-12T06:56:33.216Z"
   },
   {
    "duration": 6,
    "start_time": "2021-09-12T06:56:33.265Z"
   },
   {
    "duration": 8,
    "start_time": "2021-09-12T06:56:33.273Z"
   },
   {
    "duration": 6,
    "start_time": "2021-09-12T06:56:33.283Z"
   },
   {
    "duration": 22,
    "start_time": "2021-09-12T06:56:33.291Z"
   },
   {
    "duration": 16,
    "start_time": "2021-09-12T06:56:33.316Z"
   },
   {
    "duration": 29,
    "start_time": "2021-09-12T06:56:33.334Z"
   },
   {
    "duration": 7,
    "start_time": "2021-09-12T06:56:33.368Z"
   },
   {
    "duration": 15,
    "start_time": "2021-09-12T06:56:33.378Z"
   },
   {
    "duration": 20,
    "start_time": "2021-09-12T06:56:33.395Z"
   },
   {
    "duration": 4,
    "start_time": "2021-09-12T06:56:33.417Z"
   },
   {
    "duration": 49,
    "start_time": "2021-09-12T06:56:33.423Z"
   },
   {
    "duration": 8,
    "start_time": "2021-09-12T06:56:33.474Z"
   },
   {
    "duration": 10,
    "start_time": "2021-09-12T06:56:33.484Z"
   },
   {
    "duration": 10,
    "start_time": "2021-09-12T06:56:33.496Z"
   },
   {
    "duration": 17,
    "start_time": "2021-09-12T06:56:33.508Z"
   },
   {
    "duration": 49,
    "start_time": "2021-09-12T06:56:33.527Z"
   },
   {
    "duration": 20,
    "start_time": "2021-09-12T06:56:33.578Z"
   },
   {
    "duration": 8,
    "start_time": "2021-09-12T06:56:33.600Z"
   },
   {
    "duration": 84,
    "start_time": "2021-09-12T06:56:33.610Z"
   },
   {
    "duration": -526,
    "start_time": "2021-09-12T06:56:34.222Z"
   },
   {
    "duration": -593,
    "start_time": "2021-09-12T06:56:34.291Z"
   },
   {
    "duration": -599,
    "start_time": "2021-09-12T06:56:34.298Z"
   },
   {
    "duration": -605,
    "start_time": "2021-09-12T06:56:34.305Z"
   },
   {
    "duration": -832,
    "start_time": "2021-09-12T06:56:34.533Z"
   },
   {
    "duration": -875,
    "start_time": "2021-09-12T06:56:34.578Z"
   },
   {
    "duration": -886,
    "start_time": "2021-09-12T06:56:34.590Z"
   },
   {
    "duration": -889,
    "start_time": "2021-09-12T06:56:34.594Z"
   },
   {
    "duration": -899,
    "start_time": "2021-09-12T06:56:34.605Z"
   },
   {
    "duration": -901,
    "start_time": "2021-09-12T06:56:34.609Z"
   },
   {
    "duration": -904,
    "start_time": "2021-09-12T06:56:34.613Z"
   },
   {
    "duration": -915,
    "start_time": "2021-09-12T06:56:34.625Z"
   },
   {
    "duration": -916,
    "start_time": "2021-09-12T06:56:34.628Z"
   },
   {
    "duration": -928,
    "start_time": "2021-09-12T06:56:34.641Z"
   },
   {
    "duration": -931,
    "start_time": "2021-09-12T06:56:34.645Z"
   },
   {
    "duration": -940,
    "start_time": "2021-09-12T06:56:34.655Z"
   },
   {
    "duration": -943,
    "start_time": "2021-09-12T06:56:34.660Z"
   },
   {
    "duration": 23,
    "start_time": "2021-09-12T06:56:42.497Z"
   },
   {
    "duration": 39,
    "start_time": "2021-09-12T06:57:02.763Z"
   },
   {
    "duration": 22,
    "start_time": "2021-09-12T06:59:56.047Z"
   },
   {
    "duration": 1640,
    "start_time": "2021-09-12T07:00:05.127Z"
   },
   {
    "duration": 201,
    "start_time": "2021-09-12T07:00:06.770Z"
   },
   {
    "duration": 26,
    "start_time": "2021-09-12T07:00:06.974Z"
   },
   {
    "duration": 18,
    "start_time": "2021-09-12T07:00:07.003Z"
   },
   {
    "duration": 104,
    "start_time": "2021-09-12T07:00:07.023Z"
   },
   {
    "duration": 4,
    "start_time": "2021-09-12T07:00:07.129Z"
   },
   {
    "duration": 31,
    "start_time": "2021-09-12T07:00:07.136Z"
   },
   {
    "duration": 23,
    "start_time": "2021-09-12T07:00:07.169Z"
   },
   {
    "duration": 10,
    "start_time": "2021-09-12T07:00:07.196Z"
   },
   {
    "duration": 29,
    "start_time": "2021-09-12T07:00:07.209Z"
   },
   {
    "duration": 24,
    "start_time": "2021-09-12T07:00:07.240Z"
   },
   {
    "duration": 7,
    "start_time": "2021-09-12T07:00:07.266Z"
   },
   {
    "duration": 10,
    "start_time": "2021-09-12T07:00:07.276Z"
   },
   {
    "duration": 8,
    "start_time": "2021-09-12T07:00:07.288Z"
   },
   {
    "duration": 7,
    "start_time": "2021-09-12T07:00:07.298Z"
   },
   {
    "duration": 56,
    "start_time": "2021-09-12T07:00:07.307Z"
   },
   {
    "duration": 5,
    "start_time": "2021-09-12T07:00:07.366Z"
   },
   {
    "duration": 13,
    "start_time": "2021-09-12T07:00:07.373Z"
   },
   {
    "duration": 7,
    "start_time": "2021-09-12T07:00:07.389Z"
   },
   {
    "duration": 15,
    "start_time": "2021-09-12T07:00:07.399Z"
   },
   {
    "duration": 11,
    "start_time": "2021-09-12T07:00:07.416Z"
   },
   {
    "duration": 37,
    "start_time": "2021-09-12T07:00:07.429Z"
   },
   {
    "duration": 15,
    "start_time": "2021-09-12T07:00:07.468Z"
   },
   {
    "duration": 8,
    "start_time": "2021-09-12T07:00:07.486Z"
   },
   {
    "duration": 22,
    "start_time": "2021-09-12T07:00:07.497Z"
   },
   {
    "duration": 3,
    "start_time": "2021-09-12T07:00:07.522Z"
   },
   {
    "duration": 49,
    "start_time": "2021-09-12T07:00:07.530Z"
   },
   {
    "duration": 11,
    "start_time": "2021-09-12T07:00:07.581Z"
   },
   {
    "duration": 20,
    "start_time": "2021-09-12T07:00:07.595Z"
   },
   {
    "duration": 7,
    "start_time": "2021-09-12T07:00:07.617Z"
   },
   {
    "duration": 40,
    "start_time": "2021-09-12T07:00:07.627Z"
   },
   {
    "duration": 21,
    "start_time": "2021-09-12T07:00:07.670Z"
   },
   {
    "duration": 19,
    "start_time": "2021-09-12T07:00:07.694Z"
   },
   {
    "duration": 48,
    "start_time": "2021-09-12T07:00:07.716Z"
   },
   {
    "duration": 411,
    "start_time": "2021-09-12T07:00:07.766Z"
   },
   {
    "duration": -726,
    "start_time": "2021-09-12T07:00:08.907Z"
   },
   {
    "duration": -729,
    "start_time": "2021-09-12T07:00:08.912Z"
   },
   {
    "duration": -733,
    "start_time": "2021-09-12T07:00:08.919Z"
   },
   {
    "duration": -737,
    "start_time": "2021-09-12T07:00:08.924Z"
   },
   {
    "duration": -741,
    "start_time": "2021-09-12T07:00:08.930Z"
   },
   {
    "duration": -743,
    "start_time": "2021-09-12T07:00:08.934Z"
   },
   {
    "duration": -745,
    "start_time": "2021-09-12T07:00:08.938Z"
   },
   {
    "duration": -748,
    "start_time": "2021-09-12T07:00:08.942Z"
   },
   {
    "duration": -750,
    "start_time": "2021-09-12T07:00:08.946Z"
   },
   {
    "duration": -752,
    "start_time": "2021-09-12T07:00:08.950Z"
   },
   {
    "duration": -754,
    "start_time": "2021-09-12T07:00:08.954Z"
   },
   {
    "duration": -757,
    "start_time": "2021-09-12T07:00:08.958Z"
   },
   {
    "duration": -759,
    "start_time": "2021-09-12T07:00:08.962Z"
   },
   {
    "duration": -821,
    "start_time": "2021-09-12T07:00:09.026Z"
   },
   {
    "duration": -833,
    "start_time": "2021-09-12T07:00:09.039Z"
   },
   {
    "duration": -841,
    "start_time": "2021-09-12T07:00:09.048Z"
   },
   {
    "duration": -844,
    "start_time": "2021-09-12T07:00:09.053Z"
   },
   {
    "duration": 9,
    "start_time": "2021-09-12T07:00:22.836Z"
   },
   {
    "duration": 22,
    "start_time": "2021-09-12T07:00:24.906Z"
   },
   {
    "duration": 41,
    "start_time": "2021-09-12T07:00:30.763Z"
   },
   {
    "duration": 1257,
    "start_time": "2021-09-12T16:52:51.987Z"
   },
   {
    "duration": 442,
    "start_time": "2021-09-12T16:52:54.709Z"
   },
   {
    "duration": 19,
    "start_time": "2021-09-12T16:52:56.575Z"
   },
   {
    "duration": 12,
    "start_time": "2021-09-12T16:53:07.257Z"
   },
   {
    "duration": 53,
    "start_time": "2021-09-12T16:53:10.510Z"
   },
   {
    "duration": 4,
    "start_time": "2021-09-12T16:53:13.815Z"
   },
   {
    "duration": 10,
    "start_time": "2021-09-12T16:53:24.540Z"
   },
   {
    "duration": 21,
    "start_time": "2021-09-12T16:53:26.730Z"
   },
   {
    "duration": 4,
    "start_time": "2021-09-12T16:53:28.482Z"
   },
   {
    "duration": 14,
    "start_time": "2021-09-12T16:53:32.902Z"
   },
   {
    "duration": 10,
    "start_time": "2021-09-12T16:53:34.903Z"
   },
   {
    "duration": 6,
    "start_time": "2021-09-12T16:53:37.084Z"
   },
   {
    "duration": 5,
    "start_time": "2021-09-12T16:53:39.652Z"
   },
   {
    "duration": 5,
    "start_time": "2021-09-12T16:53:41.469Z"
   },
   {
    "duration": 5,
    "start_time": "2021-09-12T16:53:45.330Z"
   },
   {
    "duration": 9,
    "start_time": "2021-09-12T16:53:45.476Z"
   },
   {
    "duration": 4,
    "start_time": "2021-09-12T16:53:49.574Z"
   },
   {
    "duration": 4,
    "start_time": "2021-09-12T16:53:51.775Z"
   },
   {
    "duration": 4,
    "start_time": "2021-09-12T16:53:53.766Z"
   },
   {
    "duration": 7,
    "start_time": "2021-09-12T16:53:55.084Z"
   },
   {
    "duration": 4,
    "start_time": "2021-09-12T16:53:56.840Z"
   },
   {
    "duration": 5,
    "start_time": "2021-09-12T16:53:58.985Z"
   },
   {
    "duration": 5,
    "start_time": "2021-09-12T16:54:00.613Z"
   },
   {
    "duration": 1311,
    "start_time": "2021-09-12T16:58:05.760Z"
   },
   {
    "duration": 273,
    "start_time": "2021-09-12T16:58:07.073Z"
   },
   {
    "duration": 20,
    "start_time": "2021-09-12T16:58:07.348Z"
   },
   {
    "duration": 12,
    "start_time": "2021-09-12T16:58:07.369Z"
   },
   {
    "duration": 55,
    "start_time": "2021-09-12T16:58:07.383Z"
   },
   {
    "duration": 3,
    "start_time": "2021-09-12T16:58:07.440Z"
   },
   {
    "duration": 36,
    "start_time": "2021-09-12T16:58:07.445Z"
   },
   {
    "duration": 16,
    "start_time": "2021-09-12T16:58:07.483Z"
   },
   {
    "duration": 4,
    "start_time": "2021-09-12T16:58:07.502Z"
   },
   {
    "duration": 15,
    "start_time": "2021-09-12T16:58:07.508Z"
   },
   {
    "duration": 10,
    "start_time": "2021-09-12T16:58:07.525Z"
   },
   {
    "duration": 44,
    "start_time": "2021-09-12T16:58:07.536Z"
   },
   {
    "duration": 4,
    "start_time": "2021-09-12T16:58:07.582Z"
   },
   {
    "duration": 4,
    "start_time": "2021-09-12T16:58:07.588Z"
   },
   {
    "duration": 4,
    "start_time": "2021-09-12T16:58:07.594Z"
   },
   {
    "duration": 8,
    "start_time": "2021-09-12T16:58:07.599Z"
   },
   {
    "duration": 4,
    "start_time": "2021-09-12T16:58:07.609Z"
   },
   {
    "duration": 5,
    "start_time": "2021-09-12T16:58:07.614Z"
   },
   {
    "duration": 58,
    "start_time": "2021-09-12T16:58:07.621Z"
   },
   {
    "duration": 7,
    "start_time": "2021-09-12T16:58:07.681Z"
   },
   {
    "duration": 16,
    "start_time": "2021-09-12T16:58:07.690Z"
   },
   {
    "duration": 4,
    "start_time": "2021-09-12T16:58:07.708Z"
   },
   {
    "duration": 8,
    "start_time": "2021-09-12T16:58:07.714Z"
   },
   {
    "duration": 4,
    "start_time": "2021-09-12T16:58:07.724Z"
   },
   {
    "duration": 47,
    "start_time": "2021-09-12T16:58:07.730Z"
   },
   {
    "duration": 4,
    "start_time": "2021-09-12T16:58:07.778Z"
   },
   {
    "duration": 12,
    "start_time": "2021-09-12T16:58:07.785Z"
   },
   {
    "duration": 6,
    "start_time": "2021-09-12T16:58:07.799Z"
   },
   {
    "duration": 5,
    "start_time": "2021-09-12T16:58:07.807Z"
   },
   {
    "duration": 9,
    "start_time": "2021-09-12T16:58:07.814Z"
   },
   {
    "duration": 13,
    "start_time": "2021-09-12T16:58:07.825Z"
   },
   {
    "duration": 49,
    "start_time": "2021-09-12T16:58:07.840Z"
   },
   {
    "duration": 14,
    "start_time": "2021-09-12T16:58:07.891Z"
   },
   {
    "duration": 15,
    "start_time": "2021-09-12T16:58:07.907Z"
   },
   {
    "duration": 7,
    "start_time": "2021-09-12T16:58:07.923Z"
   },
   {
    "duration": 54,
    "start_time": "2021-09-12T16:58:07.931Z"
   },
   {
    "duration": 117,
    "start_time": "2021-09-12T16:58:07.987Z"
   },
   {
    "duration": -18224,
    "start_time": "2021-09-12T16:58:26.330Z"
   },
   {
    "duration": -18257,
    "start_time": "2021-09-12T16:58:26.364Z"
   },
   {
    "duration": -18261,
    "start_time": "2021-09-12T16:58:26.369Z"
   },
   {
    "duration": -18374,
    "start_time": "2021-09-12T16:58:26.483Z"
   },
   {
    "duration": -18377,
    "start_time": "2021-09-12T16:58:26.487Z"
   },
   {
    "duration": -18379,
    "start_time": "2021-09-12T16:58:26.490Z"
   },
   {
    "duration": -18386,
    "start_time": "2021-09-12T16:58:26.497Z"
   },
   {
    "duration": -18389,
    "start_time": "2021-09-12T16:58:26.501Z"
   },
   {
    "duration": -18392,
    "start_time": "2021-09-12T16:58:26.505Z"
   },
   {
    "duration": -18436,
    "start_time": "2021-09-12T16:58:26.550Z"
   },
   {
    "duration": -18439,
    "start_time": "2021-09-12T16:58:26.554Z"
   },
   {
    "duration": -18441,
    "start_time": "2021-09-12T16:58:26.557Z"
   },
   {
    "duration": -18448,
    "start_time": "2021-09-12T16:58:26.565Z"
   },
   {
    "duration": -18451,
    "start_time": "2021-09-12T16:58:26.568Z"
   },
   {
    "duration": -18454,
    "start_time": "2021-09-12T16:58:26.572Z"
   },
   {
    "duration": 27,
    "start_time": "2021-09-12T16:59:07.859Z"
   },
   {
    "duration": 7,
    "start_time": "2021-09-12T17:19:04.524Z"
   },
   {
    "duration": 21617,
    "start_time": "2021-09-12T17:19:41.412Z"
   },
   {
    "duration": 7,
    "start_time": "2021-09-12T17:34:26.665Z"
   },
   {
    "duration": 15,
    "start_time": "2021-09-12T17:36:44.049Z"
   },
   {
    "duration": 187,
    "start_time": "2021-09-12T17:37:52.787Z"
   },
   {
    "duration": 178,
    "start_time": "2021-09-12T17:38:07.232Z"
   },
   {
    "duration": 580,
    "start_time": "2021-09-12T17:38:18.645Z"
   },
   {
    "duration": 135,
    "start_time": "2021-09-12T17:38:34.926Z"
   },
   {
    "duration": 647,
    "start_time": "2021-09-12T17:38:38.617Z"
   },
   {
    "duration": 519,
    "start_time": "2021-09-12T17:38:44.066Z"
   },
   {
    "duration": 181,
    "start_time": "2021-09-12T17:38:59.463Z"
   },
   {
    "duration": 12,
    "start_time": "2021-09-12T17:39:03.875Z"
   },
   {
    "duration": 15,
    "start_time": "2021-09-12T17:39:23.223Z"
   },
   {
    "duration": 12,
    "start_time": "2021-09-12T17:45:05.401Z"
   },
   {
    "duration": 180,
    "start_time": "2021-09-12T17:45:07.847Z"
   },
   {
    "duration": 180,
    "start_time": "2021-09-12T17:46:11.308Z"
   },
   {
    "duration": 15,
    "start_time": "2021-09-12T17:47:45.682Z"
   },
   {
    "duration": 183,
    "start_time": "2021-09-12T17:48:16.847Z"
   },
   {
    "duration": 183,
    "start_time": "2021-09-12T17:48:44.935Z"
   },
   {
    "duration": 20,
    "start_time": "2021-09-12T17:56:46.635Z"
   },
   {
    "duration": 193300,
    "start_time": "2021-09-12T17:57:10.790Z"
   },
   {
    "duration": 525,
    "start_time": "2021-09-12T18:01:39.342Z"
   },
   {
    "duration": 8971,
    "start_time": "2021-09-12T18:01:55.618Z"
   },
   {
    "duration": -530,
    "start_time": "2021-09-12T18:02:16.715Z"
   },
   {
    "duration": 536,
    "start_time": "2021-09-12T18:02:19.044Z"
   },
   {
    "duration": 507,
    "start_time": "2021-09-12T18:02:50.966Z"
   },
   {
    "duration": 17,
    "start_time": "2021-09-12T18:02:55.228Z"
   },
   {
    "duration": 511,
    "start_time": "2021-09-12T18:04:03.867Z"
   },
   {
    "duration": 520,
    "start_time": "2021-09-12T18:05:46.508Z"
   },
   {
    "duration": 506,
    "start_time": "2021-09-12T18:05:48.058Z"
   },
   {
    "duration": 15,
    "start_time": "2021-09-12T18:13:04.540Z"
   },
   {
    "duration": 173,
    "start_time": "2021-09-12T18:13:06.552Z"
   },
   {
    "duration": 10,
    "start_time": "2021-09-12T18:19:49.994Z"
   },
   {
    "duration": 533,
    "start_time": "2021-09-12T18:20:26.550Z"
   },
   {
    "duration": 168,
    "start_time": "2021-09-12T18:20:38.285Z"
   },
   {
    "duration": 10,
    "start_time": "2021-09-12T18:20:46.164Z"
   },
   {
    "duration": 165,
    "start_time": "2021-09-12T18:20:53.588Z"
   },
   {
    "duration": 10,
    "start_time": "2021-09-12T18:23:57.336Z"
   },
   {
    "duration": 10,
    "start_time": "2021-09-12T18:24:02.657Z"
   },
   {
    "duration": 3,
    "start_time": "2021-09-12T18:26:22.522Z"
   },
   {
    "duration": 363,
    "start_time": "2021-09-13T11:24:45.166Z"
   },
   {
    "duration": 1620,
    "start_time": "2021-09-13T11:24:52.149Z"
   },
   {
    "duration": 262,
    "start_time": "2021-09-13T11:24:53.773Z"
   },
   {
    "duration": 27,
    "start_time": "2021-09-13T11:24:54.037Z"
   },
   {
    "duration": 66,
    "start_time": "2021-09-13T11:24:54.067Z"
   },
   {
    "duration": 123,
    "start_time": "2021-09-13T11:24:54.136Z"
   },
   {
    "duration": 7,
    "start_time": "2021-09-13T11:24:54.262Z"
   },
   {
    "duration": 47,
    "start_time": "2021-09-13T11:24:54.272Z"
   },
   {
    "duration": 62,
    "start_time": "2021-09-13T11:24:54.323Z"
   },
   {
    "duration": 6,
    "start_time": "2021-09-13T11:24:54.389Z"
   },
   {
    "duration": 25,
    "start_time": "2021-09-13T11:24:54.398Z"
   },
   {
    "duration": 12,
    "start_time": "2021-09-13T11:24:54.426Z"
   },
   {
    "duration": 9,
    "start_time": "2021-09-13T11:24:54.455Z"
   },
   {
    "duration": 23,
    "start_time": "2021-09-13T11:24:54.466Z"
   },
   {
    "duration": 12,
    "start_time": "2021-09-13T11:24:54.492Z"
   },
   {
    "duration": 24,
    "start_time": "2021-09-13T11:24:54.506Z"
   },
   {
    "duration": 28,
    "start_time": "2021-09-13T11:24:54.532Z"
   },
   {
    "duration": 18,
    "start_time": "2021-09-13T11:24:54.563Z"
   },
   {
    "duration": 20,
    "start_time": "2021-09-13T11:24:54.583Z"
   },
   {
    "duration": 26,
    "start_time": "2021-09-13T11:24:54.605Z"
   },
   {
    "duration": 26,
    "start_time": "2021-09-13T11:24:54.633Z"
   },
   {
    "duration": 35,
    "start_time": "2021-09-13T11:24:54.662Z"
   },
   {
    "duration": 26,
    "start_time": "2021-09-13T11:24:54.699Z"
   },
   {
    "duration": 30,
    "start_time": "2021-09-13T11:24:54.731Z"
   },
   {
    "duration": 20,
    "start_time": "2021-09-13T11:24:54.764Z"
   },
   {
    "duration": 39,
    "start_time": "2021-09-13T11:24:54.786Z"
   },
   {
    "duration": 5,
    "start_time": "2021-09-13T11:24:54.828Z"
   },
   {
    "duration": 24,
    "start_time": "2021-09-13T11:24:54.837Z"
   },
   {
    "duration": 16,
    "start_time": "2021-09-13T11:24:54.864Z"
   },
   {
    "duration": 14,
    "start_time": "2021-09-13T11:24:54.883Z"
   },
   {
    "duration": 18,
    "start_time": "2021-09-13T11:24:54.899Z"
   },
   {
    "duration": 41,
    "start_time": "2021-09-13T11:24:54.920Z"
   },
   {
    "duration": 24,
    "start_time": "2021-09-13T11:24:54.963Z"
   },
   {
    "duration": 22,
    "start_time": "2021-09-13T11:24:54.990Z"
   },
   {
    "duration": 60,
    "start_time": "2021-09-13T11:24:55.014Z"
   },
   {
    "duration": 9,
    "start_time": "2021-09-13T11:24:55.076Z"
   },
   {
    "duration": 73,
    "start_time": "2021-09-13T11:24:55.088Z"
   },
   {
    "duration": 67,
    "start_time": "2021-09-13T11:24:55.164Z"
   },
   {
    "duration": 12,
    "start_time": "2021-09-13T11:24:55.234Z"
   },
   {
    "duration": 31570,
    "start_time": "2021-09-13T11:24:55.254Z"
   },
   {
    "duration": 29,
    "start_time": "2021-09-13T11:25:26.826Z"
   },
   {
    "duration": 18,
    "start_time": "2021-09-13T11:25:26.857Z"
   },
   {
    "duration": 38,
    "start_time": "2021-09-13T11:25:26.877Z"
   },
   {
    "duration": 308,
    "start_time": "2021-09-13T11:25:26.918Z"
   },
   {
    "duration": 27,
    "start_time": "2021-09-13T11:25:27.229Z"
   },
   {
    "duration": 18,
    "start_time": "2021-09-13T11:25:27.258Z"
   },
   {
    "duration": 329,
    "start_time": "2021-09-13T11:25:27.278Z"
   },
   {
    "duration": 20,
    "start_time": "2021-09-13T11:25:27.610Z"
   },
   {
    "duration": 44,
    "start_time": "2021-09-13T11:25:27.632Z"
   },
   {
    "duration": 840,
    "start_time": "2021-09-13T11:25:27.678Z"
   },
   {
    "duration": 41,
    "start_time": "2021-09-13T11:25:28.520Z"
   },
   {
    "duration": 19,
    "start_time": "2021-09-13T11:25:28.563Z"
   },
   {
    "duration": 311,
    "start_time": "2021-09-13T11:25:28.585Z"
   },
   {
    "duration": 1606,
    "start_time": "2021-09-13T16:30:25.777Z"
   },
   {
    "duration": 238,
    "start_time": "2021-09-13T16:30:27.386Z"
   },
   {
    "duration": 26,
    "start_time": "2021-09-13T16:30:27.627Z"
   },
   {
    "duration": 23,
    "start_time": "2021-09-13T16:30:27.656Z"
   },
   {
    "duration": 94,
    "start_time": "2021-09-13T16:30:27.682Z"
   },
   {
    "duration": 5,
    "start_time": "2021-09-13T16:30:27.779Z"
   },
   {
    "duration": 26,
    "start_time": "2021-09-13T16:30:27.786Z"
   },
   {
    "duration": 45,
    "start_time": "2021-09-13T16:30:27.816Z"
   },
   {
    "duration": 8,
    "start_time": "2021-09-13T16:30:27.864Z"
   },
   {
    "duration": 45,
    "start_time": "2021-09-13T16:30:27.875Z"
   },
   {
    "duration": 13,
    "start_time": "2021-09-13T16:30:27.922Z"
   },
   {
    "duration": 20,
    "start_time": "2021-09-13T16:30:27.938Z"
   },
   {
    "duration": 18,
    "start_time": "2021-09-13T16:30:27.961Z"
   },
   {
    "duration": 25,
    "start_time": "2021-09-13T16:30:27.982Z"
   },
   {
    "duration": 21,
    "start_time": "2021-09-13T16:30:28.009Z"
   },
   {
    "duration": 30,
    "start_time": "2021-09-13T16:30:28.032Z"
   },
   {
    "duration": 25,
    "start_time": "2021-09-13T16:30:28.065Z"
   },
   {
    "duration": 21,
    "start_time": "2021-09-13T16:30:28.092Z"
   },
   {
    "duration": 24,
    "start_time": "2021-09-13T16:30:28.115Z"
   },
   {
    "duration": 30,
    "start_time": "2021-09-13T16:30:28.142Z"
   },
   {
    "duration": 15,
    "start_time": "2021-09-13T16:30:28.175Z"
   },
   {
    "duration": 33,
    "start_time": "2021-09-13T16:30:28.193Z"
   },
   {
    "duration": 9,
    "start_time": "2021-09-13T16:30:28.232Z"
   },
   {
    "duration": 30,
    "start_time": "2021-09-13T16:30:28.244Z"
   },
   {
    "duration": 21,
    "start_time": "2021-09-13T16:30:28.277Z"
   },
   {
    "duration": 11,
    "start_time": "2021-09-13T16:30:28.301Z"
   },
   {
    "duration": 43,
    "start_time": "2021-09-13T16:30:28.315Z"
   },
   {
    "duration": 40,
    "start_time": "2021-09-13T16:30:28.361Z"
   },
   {
    "duration": 18,
    "start_time": "2021-09-13T16:30:28.403Z"
   },
   {
    "duration": 25,
    "start_time": "2021-09-13T16:30:28.423Z"
   },
   {
    "duration": 41,
    "start_time": "2021-09-13T16:30:28.451Z"
   },
   {
    "duration": 25,
    "start_time": "2021-09-13T16:30:28.495Z"
   },
   {
    "duration": 31,
    "start_time": "2021-09-13T16:30:28.522Z"
   },
   {
    "duration": 23,
    "start_time": "2021-09-13T16:30:28.555Z"
   },
   {
    "duration": 10,
    "start_time": "2021-09-13T16:30:28.580Z"
   },
   {
    "duration": 31,
    "start_time": "2021-09-13T16:30:28.592Z"
   },
   {
    "duration": 41,
    "start_time": "2021-09-13T16:30:28.654Z"
   },
   {
    "duration": 11,
    "start_time": "2021-09-13T16:30:28.698Z"
   },
   {
    "duration": 1547,
    "start_time": "2021-09-13T16:31:02.212Z"
   },
   {
    "duration": 238,
    "start_time": "2021-09-13T16:31:03.761Z"
   },
   {
    "duration": 27,
    "start_time": "2021-09-13T16:31:04.002Z"
   },
   {
    "duration": 34,
    "start_time": "2021-09-13T16:31:04.032Z"
   },
   {
    "duration": 92,
    "start_time": "2021-09-13T16:31:04.069Z"
   },
   {
    "duration": 5,
    "start_time": "2021-09-13T16:31:04.164Z"
   },
   {
    "duration": 19,
    "start_time": "2021-09-13T16:31:04.172Z"
   },
   {
    "duration": 24,
    "start_time": "2021-09-13T16:31:04.195Z"
   },
   {
    "duration": 35,
    "start_time": "2021-09-13T16:31:04.224Z"
   },
   {
    "duration": 25,
    "start_time": "2021-09-13T16:31:04.261Z"
   },
   {
    "duration": 13,
    "start_time": "2021-09-13T16:31:04.288Z"
   },
   {
    "duration": 25,
    "start_time": "2021-09-13T16:31:04.303Z"
   },
   {
    "duration": 29,
    "start_time": "2021-09-13T16:31:04.330Z"
   },
   {
    "duration": 29,
    "start_time": "2021-09-13T16:31:04.362Z"
   },
   {
    "duration": 11,
    "start_time": "2021-09-13T16:31:04.393Z"
   },
   {
    "duration": 29,
    "start_time": "2021-09-13T16:31:04.407Z"
   },
   {
    "duration": 33,
    "start_time": "2021-09-13T16:31:04.439Z"
   },
   {
    "duration": 30,
    "start_time": "2021-09-13T16:31:04.475Z"
   },
   {
    "duration": 33,
    "start_time": "2021-09-13T16:31:04.507Z"
   },
   {
    "duration": 26,
    "start_time": "2021-09-13T16:31:04.542Z"
   },
   {
    "duration": 31,
    "start_time": "2021-09-13T16:31:04.570Z"
   },
   {
    "duration": 14,
    "start_time": "2021-09-13T16:31:04.604Z"
   },
   {
    "duration": 23,
    "start_time": "2021-09-13T16:31:04.624Z"
   },
   {
    "duration": 20,
    "start_time": "2021-09-13T16:31:04.650Z"
   },
   {
    "duration": 36,
    "start_time": "2021-09-13T16:31:04.673Z"
   },
   {
    "duration": 4,
    "start_time": "2021-09-13T16:31:04.712Z"
   },
   {
    "duration": 30,
    "start_time": "2021-09-13T16:31:04.718Z"
   },
   {
    "duration": 17,
    "start_time": "2021-09-13T16:31:04.751Z"
   },
   {
    "duration": 17,
    "start_time": "2021-09-13T16:31:04.771Z"
   },
   {
    "duration": 17,
    "start_time": "2021-09-13T16:31:04.791Z"
   },
   {
    "duration": 23,
    "start_time": "2021-09-13T16:31:04.810Z"
   },
   {
    "duration": 25,
    "start_time": "2021-09-13T16:31:04.835Z"
   },
   {
    "duration": 20,
    "start_time": "2021-09-13T16:31:04.862Z"
   },
   {
    "duration": 21,
    "start_time": "2021-09-13T16:31:04.884Z"
   },
   {
    "duration": 52,
    "start_time": "2021-09-13T16:31:04.907Z"
   },
   {
    "duration": 26,
    "start_time": "2021-09-13T16:31:04.962Z"
   },
   {
    "duration": 66,
    "start_time": "2021-09-13T16:31:04.991Z"
   },
   {
    "duration": 10,
    "start_time": "2021-09-13T16:31:05.059Z"
   },
   {
    "duration": 30055,
    "start_time": "2021-09-13T16:31:05.071Z"
   },
   {
    "duration": 19,
    "start_time": "2021-09-13T16:31:35.513Z"
   },
   {
    "duration": 34,
    "start_time": "2021-09-13T16:31:35.534Z"
   },
   {
    "duration": 302,
    "start_time": "2021-09-13T16:31:35.570Z"
   },
   {
    "duration": 20,
    "start_time": "2021-09-13T16:31:35.875Z"
   },
   {
    "duration": 59,
    "start_time": "2021-09-13T16:31:35.898Z"
   },
   {
    "duration": 780,
    "start_time": "2021-09-13T16:31:35.959Z"
   },
   {
    "duration": 28,
    "start_time": "2021-09-13T16:31:36.741Z"
   },
   {
    "duration": 20,
    "start_time": "2021-09-13T16:31:36.772Z"
   },
   {
    "duration": 289,
    "start_time": "2021-09-13T16:31:36.794Z"
   },
   {
    "duration": 10,
    "start_time": "2021-09-13T16:31:37.087Z"
   },
   {
    "duration": 54,
    "start_time": "2021-09-13T16:31:37.100Z"
   },
   {
    "duration": 299,
    "start_time": "2021-09-13T16:31:37.157Z"
   },
   {
    "duration": 100,
    "start_time": "2021-09-13T16:32:42.174Z"
   },
   {
    "duration": 93,
    "start_time": "2021-09-13T16:33:44.221Z"
   },
   {
    "duration": 116,
    "start_time": "2021-09-13T16:33:50.926Z"
   },
   {
    "duration": 104,
    "start_time": "2021-09-13T16:42:19.727Z"
   },
   {
    "duration": 97,
    "start_time": "2021-09-13T16:45:50.402Z"
   },
   {
    "duration": 113,
    "start_time": "2021-09-13T16:48:30.217Z"
   },
   {
    "duration": 1654,
    "start_time": "2021-09-13T16:56:13.629Z"
   },
   {
    "duration": 606,
    "start_time": "2021-09-13T16:56:15.285Z"
   },
   {
    "duration": 29,
    "start_time": "2021-09-13T16:56:15.894Z"
   },
   {
    "duration": 41,
    "start_time": "2021-09-13T16:56:15.926Z"
   },
   {
    "duration": 109,
    "start_time": "2021-09-13T16:56:15.970Z"
   },
   {
    "duration": 6,
    "start_time": "2021-09-13T16:56:16.082Z"
   },
   {
    "duration": 24,
    "start_time": "2021-09-13T16:56:16.092Z"
   },
   {
    "duration": 56,
    "start_time": "2021-09-13T16:56:16.122Z"
   },
   {
    "duration": 4,
    "start_time": "2021-09-13T16:56:16.183Z"
   },
   {
    "duration": 27,
    "start_time": "2021-09-13T16:56:16.190Z"
   },
   {
    "duration": 45,
    "start_time": "2021-09-13T16:56:16.220Z"
   },
   {
    "duration": 12,
    "start_time": "2021-09-13T16:56:16.268Z"
   },
   {
    "duration": 7,
    "start_time": "2021-09-13T16:56:16.283Z"
   },
   {
    "duration": 12,
    "start_time": "2021-09-13T16:56:16.292Z"
   },
   {
    "duration": 59,
    "start_time": "2021-09-13T16:56:16.307Z"
   },
   {
    "duration": 12,
    "start_time": "2021-09-13T16:56:16.369Z"
   },
   {
    "duration": 12,
    "start_time": "2021-09-13T16:56:16.384Z"
   },
   {
    "duration": 7,
    "start_time": "2021-09-13T16:56:16.398Z"
   },
   {
    "duration": 50,
    "start_time": "2021-09-13T16:56:16.407Z"
   },
   {
    "duration": 17,
    "start_time": "2021-09-13T16:56:16.459Z"
   },
   {
    "duration": 10,
    "start_time": "2021-09-13T16:56:16.479Z"
   },
   {
    "duration": 8,
    "start_time": "2021-09-13T16:56:16.492Z"
   },
   {
    "duration": 49,
    "start_time": "2021-09-13T16:56:16.511Z"
   },
   {
    "duration": 16,
    "start_time": "2021-09-13T16:56:16.565Z"
   },
   {
    "duration": 19,
    "start_time": "2021-09-13T16:56:16.584Z"
   },
   {
    "duration": 6,
    "start_time": "2021-09-13T16:56:16.606Z"
   },
   {
    "duration": 54,
    "start_time": "2021-09-13T16:56:16.614Z"
   },
   {
    "duration": 11,
    "start_time": "2021-09-13T16:56:16.671Z"
   },
   {
    "duration": 20,
    "start_time": "2021-09-13T16:56:16.684Z"
   },
   {
    "duration": 18,
    "start_time": "2021-09-13T16:56:16.707Z"
   },
   {
    "duration": 21,
    "start_time": "2021-09-13T16:56:16.754Z"
   },
   {
    "duration": 25,
    "start_time": "2021-09-13T16:56:16.777Z"
   },
   {
    "duration": 65,
    "start_time": "2021-09-13T16:56:16.805Z"
   },
   {
    "duration": 24,
    "start_time": "2021-09-13T16:56:16.873Z"
   },
   {
    "duration": 12,
    "start_time": "2021-09-13T16:56:16.900Z"
   },
   {
    "duration": 23,
    "start_time": "2021-09-13T16:56:16.954Z"
   },
   {
    "duration": 65,
    "start_time": "2021-09-13T16:56:16.980Z"
   },
   {
    "duration": 9,
    "start_time": "2021-09-13T16:56:17.055Z"
   },
   {
    "duration": 30672,
    "start_time": "2021-09-13T16:56:17.067Z"
   },
   {
    "duration": 18,
    "start_time": "2021-09-13T16:56:47.741Z"
   },
   {
    "duration": 20,
    "start_time": "2021-09-13T16:56:47.761Z"
   },
   {
    "duration": 313,
    "start_time": "2021-09-13T16:56:47.783Z"
   },
   {
    "duration": 20,
    "start_time": "2021-09-13T16:56:48.099Z"
   },
   {
    "duration": 42,
    "start_time": "2021-09-13T16:56:48.121Z"
   },
   {
    "duration": 297,
    "start_time": "2021-09-13T16:56:48.166Z"
   },
   {
    "duration": 20,
    "start_time": "2021-09-13T16:56:48.465Z"
   },
   {
    "duration": 32,
    "start_time": "2021-09-13T16:56:48.487Z"
   },
   {
    "duration": 802,
    "start_time": "2021-09-13T16:56:48.521Z"
   },
   {
    "duration": 36,
    "start_time": "2021-09-13T16:56:49.326Z"
   },
   {
    "duration": 18,
    "start_time": "2021-09-13T16:56:49.365Z"
   },
   {
    "duration": 302,
    "start_time": "2021-09-13T16:56:49.386Z"
   },
   {
    "duration": 1584,
    "start_time": "2021-09-13T17:07:50.171Z"
   },
   {
    "duration": 242,
    "start_time": "2021-09-13T17:07:51.757Z"
   },
   {
    "duration": 27,
    "start_time": "2021-09-13T17:07:52.002Z"
   },
   {
    "duration": 29,
    "start_time": "2021-09-13T17:07:52.033Z"
   },
   {
    "duration": 93,
    "start_time": "2021-09-13T17:07:52.065Z"
   },
   {
    "duration": 5,
    "start_time": "2021-09-13T17:07:52.161Z"
   },
   {
    "duration": 19,
    "start_time": "2021-09-13T17:07:52.168Z"
   },
   {
    "duration": 19,
    "start_time": "2021-09-13T17:07:52.192Z"
   },
   {
    "duration": 42,
    "start_time": "2021-09-13T17:07:52.214Z"
   },
   {
    "duration": 37,
    "start_time": "2021-09-13T17:07:52.259Z"
   },
   {
    "duration": 13,
    "start_time": "2021-09-13T17:07:52.298Z"
   },
   {
    "duration": 8,
    "start_time": "2021-09-13T17:07:52.313Z"
   },
   {
    "duration": 40,
    "start_time": "2021-09-13T17:07:52.323Z"
   },
   {
    "duration": 8,
    "start_time": "2021-09-13T17:07:52.365Z"
   },
   {
    "duration": 7,
    "start_time": "2021-09-13T17:07:52.375Z"
   },
   {
    "duration": 16,
    "start_time": "2021-09-13T17:07:52.384Z"
   },
   {
    "duration": 54,
    "start_time": "2021-09-13T17:07:52.402Z"
   },
   {
    "duration": 9,
    "start_time": "2021-09-13T17:07:52.459Z"
   },
   {
    "duration": 7,
    "start_time": "2021-09-13T17:07:52.470Z"
   },
   {
    "duration": 11,
    "start_time": "2021-09-13T17:07:52.480Z"
   },
   {
    "duration": 64,
    "start_time": "2021-09-13T17:07:52.494Z"
   },
   {
    "duration": 9,
    "start_time": "2021-09-13T17:07:52.560Z"
   },
   {
    "duration": 7,
    "start_time": "2021-09-13T17:07:52.576Z"
   },
   {
    "duration": 6,
    "start_time": "2021-09-13T17:07:52.586Z"
   },
   {
    "duration": 65,
    "start_time": "2021-09-13T17:07:52.595Z"
   },
   {
    "duration": 5,
    "start_time": "2021-09-13T17:07:52.662Z"
   },
   {
    "duration": 19,
    "start_time": "2021-09-13T17:07:52.670Z"
   },
   {
    "duration": 8,
    "start_time": "2021-09-13T17:07:52.692Z"
   },
   {
    "duration": 55,
    "start_time": "2021-09-13T17:07:52.703Z"
   },
   {
    "duration": 8,
    "start_time": "2021-09-13T17:07:52.761Z"
   },
   {
    "duration": 17,
    "start_time": "2021-09-13T17:07:52.772Z"
   },
   {
    "duration": 21,
    "start_time": "2021-09-13T17:07:52.792Z"
   },
   {
    "duration": 53,
    "start_time": "2021-09-13T17:07:52.816Z"
   },
   {
    "duration": 20,
    "start_time": "2021-09-13T17:07:52.871Z"
   },
   {
    "duration": 8,
    "start_time": "2021-09-13T17:07:52.893Z"
   },
   {
    "duration": 64,
    "start_time": "2021-09-13T17:07:52.903Z"
   },
   {
    "duration": 40,
    "start_time": "2021-09-13T17:07:52.970Z"
   },
   {
    "duration": 42,
    "start_time": "2021-09-13T17:07:53.012Z"
   },
   {
    "duration": 30514,
    "start_time": "2021-09-13T17:07:53.057Z"
   },
   {
    "duration": 8,
    "start_time": "2021-09-13T17:08:23.574Z"
   },
   {
    "duration": 40,
    "start_time": "2021-09-13T17:08:23.584Z"
   },
   {
    "duration": 308,
    "start_time": "2021-09-13T17:08:23.626Z"
   },
   {
    "duration": 29,
    "start_time": "2021-09-13T17:08:23.937Z"
   },
   {
    "duration": 18,
    "start_time": "2021-09-13T17:08:23.968Z"
   },
   {
    "duration": 359,
    "start_time": "2021-09-13T17:08:23.988Z"
   },
   {
    "duration": 22,
    "start_time": "2021-09-13T17:08:24.349Z"
   },
   {
    "duration": 26,
    "start_time": "2021-09-13T17:08:24.373Z"
   },
   {
    "duration": 831,
    "start_time": "2021-09-13T17:08:24.402Z"
   },
   {
    "duration": 33,
    "start_time": "2021-09-13T17:08:25.235Z"
   },
   {
    "duration": 19,
    "start_time": "2021-09-13T17:08:25.270Z"
   },
   {
    "duration": 306,
    "start_time": "2021-09-13T17:08:25.292Z"
   },
   {
    "duration": 140,
    "start_time": "2021-09-13T17:36:26.553Z"
   },
   {
    "duration": 276,
    "start_time": "2021-09-13T17:39:27.275Z"
   },
   {
    "duration": 135,
    "start_time": "2021-09-13T17:39:51.225Z"
   },
   {
    "duration": 5,
    "start_time": "2021-09-13T17:43:10.488Z"
   },
   {
    "duration": 3,
    "start_time": "2021-09-13T17:43:14.585Z"
   },
   {
    "duration": 122,
    "start_time": "2021-09-13T17:46:03.396Z"
   },
   {
    "duration": 3,
    "start_time": "2021-09-13T18:13:36.937Z"
   },
   {
    "duration": 134,
    "start_time": "2021-09-13T20:24:06.546Z"
   },
   {
    "duration": 433,
    "start_time": "2021-09-13T20:26:27.138Z"
   },
   {
    "duration": 1987,
    "start_time": "2021-09-13T20:26:33.301Z"
   },
   {
    "duration": 1816,
    "start_time": "2021-09-13T20:26:54.411Z"
   },
   {
    "duration": 338,
    "start_time": "2021-09-13T20:26:56.229Z"
   },
   {
    "duration": 26,
    "start_time": "2021-09-13T20:26:56.570Z"
   },
   {
    "duration": 23,
    "start_time": "2021-09-13T20:26:56.598Z"
   },
   {
    "duration": 75,
    "start_time": "2021-09-13T20:26:56.623Z"
   },
   {
    "duration": 5,
    "start_time": "2021-09-13T20:26:56.716Z"
   },
   {
    "duration": 16,
    "start_time": "2021-09-13T20:26:56.723Z"
   },
   {
    "duration": 20,
    "start_time": "2021-09-13T20:26:56.743Z"
   },
   {
    "duration": 5,
    "start_time": "2021-09-13T20:26:56.767Z"
   },
   {
    "duration": 53,
    "start_time": "2021-09-13T20:26:56.774Z"
   },
   {
    "duration": 15,
    "start_time": "2021-09-13T20:26:56.830Z"
   },
   {
    "duration": 15,
    "start_time": "2021-09-13T20:26:56.848Z"
   },
   {
    "duration": 124,
    "start_time": "2021-09-13T20:26:56.865Z"
   },
   {
    "duration": -375,
    "start_time": "2021-09-13T20:26:57.367Z"
   },
   {
    "duration": -386,
    "start_time": "2021-09-13T20:26:57.380Z"
   },
   {
    "duration": -395,
    "start_time": "2021-09-13T20:26:57.390Z"
   },
   {
    "duration": -402,
    "start_time": "2021-09-13T20:26:57.398Z"
   },
   {
    "duration": -408,
    "start_time": "2021-09-13T20:26:57.406Z"
   },
   {
    "duration": -413,
    "start_time": "2021-09-13T20:26:57.413Z"
   },
   {
    "duration": -416,
    "start_time": "2021-09-13T20:26:57.417Z"
   },
   {
    "duration": -420,
    "start_time": "2021-09-13T20:26:57.422Z"
   },
   {
    "duration": -422,
    "start_time": "2021-09-13T20:26:57.426Z"
   },
   {
    "duration": -426,
    "start_time": "2021-09-13T20:26:57.431Z"
   },
   {
    "duration": -428,
    "start_time": "2021-09-13T20:26:57.435Z"
   },
   {
    "duration": -432,
    "start_time": "2021-09-13T20:26:57.440Z"
   },
   {
    "duration": -435,
    "start_time": "2021-09-13T20:26:57.444Z"
   },
   {
    "duration": -438,
    "start_time": "2021-09-13T20:26:57.449Z"
   },
   {
    "duration": -441,
    "start_time": "2021-09-13T20:26:57.453Z"
   },
   {
    "duration": -445,
    "start_time": "2021-09-13T20:26:57.458Z"
   },
   {
    "duration": -447,
    "start_time": "2021-09-13T20:26:57.462Z"
   },
   {
    "duration": -451,
    "start_time": "2021-09-13T20:26:57.468Z"
   },
   {
    "duration": -453,
    "start_time": "2021-09-13T20:26:57.472Z"
   },
   {
    "duration": -456,
    "start_time": "2021-09-13T20:26:57.477Z"
   },
   {
    "duration": -461,
    "start_time": "2021-09-13T20:26:57.483Z"
   },
   {
    "duration": -471,
    "start_time": "2021-09-13T20:26:57.495Z"
   },
   {
    "duration": -475,
    "start_time": "2021-09-13T20:26:57.500Z"
   },
   {
    "duration": -485,
    "start_time": "2021-09-13T20:26:57.511Z"
   },
   {
    "duration": -489,
    "start_time": "2021-09-13T20:26:57.517Z"
   },
   {
    "duration": -492,
    "start_time": "2021-09-13T20:26:57.521Z"
   },
   {
    "duration": -495,
    "start_time": "2021-09-13T20:26:57.526Z"
   },
   {
    "duration": -500,
    "start_time": "2021-09-13T20:26:57.532Z"
   },
   {
    "duration": -508,
    "start_time": "2021-09-13T20:26:57.542Z"
   },
   {
    "duration": -515,
    "start_time": "2021-09-13T20:26:57.550Z"
   },
   {
    "duration": -532,
    "start_time": "2021-09-13T20:26:57.569Z"
   },
   {
    "duration": -551,
    "start_time": "2021-09-13T20:26:57.589Z"
   },
   {
    "duration": -558,
    "start_time": "2021-09-13T20:26:57.598Z"
   },
   {
    "duration": -575,
    "start_time": "2021-09-13T20:26:57.616Z"
   },
   {
    "duration": -589,
    "start_time": "2021-09-13T20:26:57.631Z"
   },
   {
    "duration": -596,
    "start_time": "2021-09-13T20:26:57.640Z"
   },
   {
    "duration": -604,
    "start_time": "2021-09-13T20:26:57.649Z"
   },
   {
    "duration": -615,
    "start_time": "2021-09-13T20:26:57.662Z"
   },
   {
    "duration": 12,
    "start_time": "2021-09-13T20:27:06.638Z"
   },
   {
    "duration": 11,
    "start_time": "2021-09-13T20:27:29.518Z"
   },
   {
    "duration": 9,
    "start_time": "2021-09-13T20:27:35.417Z"
   },
   {
    "duration": 6,
    "start_time": "2021-09-13T20:27:40.016Z"
   },
   {
    "duration": 9,
    "start_time": "2021-09-13T20:27:47.461Z"
   },
   {
    "duration": 10,
    "start_time": "2021-09-13T20:28:00.942Z"
   },
   {
    "duration": 10,
    "start_time": "2021-09-13T20:31:10.718Z"
   },
   {
    "duration": 6,
    "start_time": "2021-09-13T20:31:25.595Z"
   },
   {
    "duration": 10,
    "start_time": "2021-09-13T20:31:36.873Z"
   },
   {
    "duration": 6,
    "start_time": "2021-09-13T20:36:49.409Z"
   },
   {
    "duration": 8,
    "start_time": "2021-09-13T20:37:06.050Z"
   },
   {
    "duration": 6,
    "start_time": "2021-09-13T20:37:09.484Z"
   },
   {
    "duration": 6,
    "start_time": "2021-09-13T20:37:13.133Z"
   },
   {
    "duration": 8,
    "start_time": "2021-09-13T20:37:20.215Z"
   },
   {
    "duration": 12,
    "start_time": "2021-09-13T20:37:24.510Z"
   },
   {
    "duration": 7,
    "start_time": "2021-09-13T20:37:28.124Z"
   },
   {
    "duration": 6,
    "start_time": "2021-09-13T20:37:30.435Z"
   },
   {
    "duration": 8,
    "start_time": "2021-09-13T20:37:37.679Z"
   },
   {
    "duration": 9,
    "start_time": "2021-09-13T20:37:42.663Z"
   },
   {
    "duration": 11,
    "start_time": "2021-09-13T20:37:55.803Z"
   },
   {
    "duration": 7,
    "start_time": "2021-09-13T20:38:32.219Z"
   },
   {
    "duration": 6,
    "start_time": "2021-09-13T20:53:32.271Z"
   },
   {
    "duration": 6,
    "start_time": "2021-09-13T21:08:02.538Z"
   },
   {
    "duration": 1750,
    "start_time": "2021-09-13T21:09:28.039Z"
   },
   {
    "duration": 7,
    "start_time": "2021-09-13T21:09:38.322Z"
   },
   {
    "duration": 17,
    "start_time": "2021-09-13T21:09:40.466Z"
   },
   {
    "duration": 7,
    "start_time": "2021-09-13T21:09:52.469Z"
   },
   {
    "duration": 1773,
    "start_time": "2021-09-13T21:09:54.339Z"
   },
   {
    "duration": 1468,
    "start_time": "2021-09-13T21:34:34.705Z"
   },
   {
    "duration": 7,
    "start_time": "2021-09-13T21:34:43.129Z"
   },
   {
    "duration": 1498,
    "start_time": "2021-09-13T21:46:22.219Z"
   },
   {
    "duration": 363,
    "start_time": "2021-09-13T21:46:34.876Z"
   },
   {
    "duration": 362,
    "start_time": "2021-09-13T21:46:53.746Z"
   },
   {
    "duration": 15,
    "start_time": "2021-09-13T21:52:34.338Z"
   },
   {
    "duration": 13,
    "start_time": "2021-09-13T21:52:58.684Z"
   },
   {
    "duration": 1799,
    "start_time": "2021-09-13T21:54:54.911Z"
   },
   {
    "duration": 381,
    "start_time": "2021-09-13T21:55:23.179Z"
   },
   {
    "duration": 1865,
    "start_time": "2021-09-13T21:55:28.802Z"
   },
   {
    "duration": 12,
    "start_time": "2021-09-13T21:56:29.494Z"
   },
   {
    "duration": 12,
    "start_time": "2021-09-13T21:56:49.912Z"
   },
   {
    "duration": 17,
    "start_time": "2021-09-13T21:57:31.381Z"
   },
   {
    "duration": 13,
    "start_time": "2021-09-13T21:57:48.073Z"
   },
   {
    "duration": 12,
    "start_time": "2021-09-13T21:58:30.309Z"
   },
   {
    "duration": 17,
    "start_time": "2021-09-13T21:58:39.539Z"
   },
   {
    "duration": 8,
    "start_time": "2021-09-13T21:58:41.742Z"
   },
   {
    "duration": 8,
    "start_time": "2021-09-13T21:59:11.540Z"
   },
   {
    "duration": 8,
    "start_time": "2021-09-13T21:59:14.501Z"
   },
   {
    "duration": 13,
    "start_time": "2021-09-13T21:59:20.591Z"
   },
   {
    "duration": 5,
    "start_time": "2021-09-13T22:00:00.693Z"
   },
   {
    "duration": 8,
    "start_time": "2021-09-13T22:00:03.171Z"
   },
   {
    "duration": 8,
    "start_time": "2021-09-13T22:00:08.672Z"
   },
   {
    "duration": 13,
    "start_time": "2021-09-13T22:00:23.110Z"
   },
   {
    "duration": 15,
    "start_time": "2021-09-13T22:00:26.297Z"
   },
   {
    "duration": 211,
    "start_time": "2021-09-13T22:03:14.990Z"
   },
   {
    "duration": 426,
    "start_time": "2021-09-13T22:05:25.202Z"
   },
   {
    "duration": 9040,
    "start_time": "2021-09-13T22:24:36.070Z"
   },
   {
    "duration": 9,
    "start_time": "2021-09-13T22:24:51.864Z"
   },
   {
    "duration": 9,
    "start_time": "2021-09-13T22:26:43.410Z"
   },
   {
    "duration": 1716,
    "start_time": "2021-09-13T22:29:44.633Z"
   },
   {
    "duration": 302,
    "start_time": "2021-09-13T22:29:46.351Z"
   },
   {
    "duration": 26,
    "start_time": "2021-09-13T22:29:46.657Z"
   },
   {
    "duration": 32,
    "start_time": "2021-09-13T22:29:46.686Z"
   },
   {
    "duration": 95,
    "start_time": "2021-09-13T22:29:46.721Z"
   },
   {
    "duration": 6,
    "start_time": "2021-09-13T22:29:46.819Z"
   },
   {
    "duration": 14,
    "start_time": "2021-09-13T22:29:46.828Z"
   },
   {
    "duration": 22,
    "start_time": "2021-09-13T22:29:46.845Z"
   },
   {
    "duration": 47,
    "start_time": "2021-09-13T22:29:46.873Z"
   },
   {
    "duration": 29,
    "start_time": "2021-09-13T22:29:46.924Z"
   },
   {
    "duration": 18,
    "start_time": "2021-09-13T22:29:46.956Z"
   },
   {
    "duration": 20,
    "start_time": "2021-09-13T22:29:46.976Z"
   },
   {
    "duration": 21,
    "start_time": "2021-09-13T22:29:46.998Z"
   },
   {
    "duration": 10,
    "start_time": "2021-09-13T22:29:47.021Z"
   },
   {
    "duration": 13,
    "start_time": "2021-09-13T22:29:47.033Z"
   },
   {
    "duration": 14,
    "start_time": "2021-09-13T22:29:47.048Z"
   },
   {
    "duration": 13,
    "start_time": "2021-09-13T22:29:47.065Z"
   },
   {
    "duration": 16,
    "start_time": "2021-09-13T22:29:47.080Z"
   },
   {
    "duration": 23,
    "start_time": "2021-09-13T22:29:47.099Z"
   },
   {
    "duration": 15,
    "start_time": "2021-09-13T22:29:47.124Z"
   },
   {
    "duration": 14,
    "start_time": "2021-09-13T22:29:47.141Z"
   },
   {
    "duration": 16,
    "start_time": "2021-09-13T22:29:47.157Z"
   },
   {
    "duration": 23,
    "start_time": "2021-09-13T22:29:47.175Z"
   },
   {
    "duration": 16,
    "start_time": "2021-09-13T22:29:47.200Z"
   },
   {
    "duration": 141,
    "start_time": "2021-09-13T22:29:47.218Z"
   },
   {
    "duration": -335,
    "start_time": "2021-09-13T22:29:47.698Z"
   },
   {
    "duration": -339,
    "start_time": "2021-09-13T22:29:47.704Z"
   },
   {
    "duration": -343,
    "start_time": "2021-09-13T22:29:47.709Z"
   },
   {
    "duration": -345,
    "start_time": "2021-09-13T22:29:47.712Z"
   },
   {
    "duration": -350,
    "start_time": "2021-09-13T22:29:47.719Z"
   },
   {
    "duration": -464,
    "start_time": "2021-09-13T22:29:47.834Z"
   },
   {
    "duration": -571,
    "start_time": "2021-09-13T22:29:47.942Z"
   },
   {
    "duration": -573,
    "start_time": "2021-09-13T22:29:47.946Z"
   },
   {
    "duration": -577,
    "start_time": "2021-09-13T22:29:47.951Z"
   },
   {
    "duration": -579,
    "start_time": "2021-09-13T22:29:47.955Z"
   },
   {
    "duration": -582,
    "start_time": "2021-09-13T22:29:47.959Z"
   },
   {
    "duration": -585,
    "start_time": "2021-09-13T22:29:47.963Z"
   },
   {
    "duration": -588,
    "start_time": "2021-09-13T22:29:47.968Z"
   },
   {
    "duration": -591,
    "start_time": "2021-09-13T22:29:47.972Z"
   },
   {
    "duration": -594,
    "start_time": "2021-09-13T22:29:47.976Z"
   },
   {
    "duration": -603,
    "start_time": "2021-09-13T22:29:47.986Z"
   },
   {
    "duration": -607,
    "start_time": "2021-09-13T22:29:47.991Z"
   },
   {
    "duration": -610,
    "start_time": "2021-09-13T22:29:47.996Z"
   },
   {
    "duration": -613,
    "start_time": "2021-09-13T22:29:48.000Z"
   },
   {
    "duration": -616,
    "start_time": "2021-09-13T22:29:48.005Z"
   },
   {
    "duration": -619,
    "start_time": "2021-09-13T22:29:48.009Z"
   },
   {
    "duration": -622,
    "start_time": "2021-09-13T22:29:48.013Z"
   },
   {
    "duration": -625,
    "start_time": "2021-09-13T22:29:48.018Z"
   },
   {
    "duration": -628,
    "start_time": "2021-09-13T22:29:48.022Z"
   },
   {
    "duration": -630,
    "start_time": "2021-09-13T22:29:48.026Z"
   },
   {
    "duration": -633,
    "start_time": "2021-09-13T22:29:48.030Z"
   },
   {
    "duration": -637,
    "start_time": "2021-09-13T22:29:48.035Z"
   },
   {
    "duration": -639,
    "start_time": "2021-09-13T22:29:48.039Z"
   },
   {
    "duration": -624,
    "start_time": "2021-09-13T22:29:48.043Z"
   },
   {
    "duration": -627,
    "start_time": "2021-09-13T22:29:48.047Z"
   },
   {
    "duration": -630,
    "start_time": "2021-09-13T22:29:48.052Z"
   },
   {
    "duration": -633,
    "start_time": "2021-09-13T22:29:48.056Z"
   },
   {
    "duration": -637,
    "start_time": "2021-09-13T22:29:48.061Z"
   },
   {
    "duration": 16,
    "start_time": "2021-09-13T22:29:57.877Z"
   },
   {
    "duration": 5,
    "start_time": "2021-09-13T22:30:11.623Z"
   },
   {
    "duration": 5,
    "start_time": "2021-09-13T22:31:35.858Z"
   },
   {
    "duration": 8,
    "start_time": "2021-09-13T22:31:38.597Z"
   },
   {
    "duration": 9,
    "start_time": "2021-09-13T22:31:46.022Z"
   },
   {
    "duration": 14,
    "start_time": "2021-09-13T22:31:48.379Z"
   },
   {
    "duration": 14,
    "start_time": "2021-09-13T22:33:10.678Z"
   },
   {
    "duration": 206,
    "start_time": "2021-09-13T22:34:06.121Z"
   },
   {
    "duration": 436,
    "start_time": "2021-09-13T22:34:16.789Z"
   },
   {
    "duration": 10,
    "start_time": "2021-09-13T22:34:26.365Z"
   },
   {
    "duration": 9,
    "start_time": "2021-09-13T22:34:48.942Z"
   },
   {
    "duration": 17,
    "start_time": "2021-09-13T22:43:48.008Z"
   },
   {
    "duration": 78,
    "start_time": "2021-09-13T22:44:05.902Z"
   },
   {
    "duration": 24,
    "start_time": "2021-09-13T23:07:10.847Z"
   },
   {
    "duration": 27,
    "start_time": "2021-09-13T23:07:32.490Z"
   },
   {
    "duration": 5,
    "start_time": "2021-09-13T23:08:03.960Z"
   },
   {
    "duration": 5,
    "start_time": "2021-09-13T23:08:34.959Z"
   },
   {
    "duration": 6,
    "start_time": "2021-09-13T23:08:40.289Z"
   },
   {
    "duration": 894,
    "start_time": "2021-09-13T23:08:40.298Z"
   },
   {
    "duration": 20,
    "start_time": "2021-09-13T23:08:41.195Z"
   },
   {
    "duration": 24,
    "start_time": "2021-09-13T23:08:41.218Z"
   },
   {
    "duration": 152,
    "start_time": "2021-09-13T23:08:41.245Z"
   },
   {
    "duration": 5,
    "start_time": "2021-09-13T23:08:41.399Z"
   },
   {
    "duration": 11,
    "start_time": "2021-09-13T23:08:41.417Z"
   },
   {
    "duration": 27,
    "start_time": "2021-09-13T23:08:41.431Z"
   },
   {
    "duration": 5,
    "start_time": "2021-09-13T23:08:41.462Z"
   },
   {
    "duration": 47,
    "start_time": "2021-09-13T23:08:41.470Z"
   },
   {
    "duration": 14,
    "start_time": "2021-09-13T23:08:41.519Z"
   },
   {
    "duration": 9,
    "start_time": "2021-09-13T23:08:41.536Z"
   },
   {
    "duration": 15,
    "start_time": "2021-09-13T23:08:41.547Z"
   },
   {
    "duration": 7,
    "start_time": "2021-09-13T23:08:41.565Z"
   },
   {
    "duration": 47,
    "start_time": "2021-09-13T23:08:41.574Z"
   },
   {
    "duration": 6,
    "start_time": "2021-09-13T23:08:41.624Z"
   },
   {
    "duration": 11,
    "start_time": "2021-09-13T23:08:41.633Z"
   },
   {
    "duration": 11,
    "start_time": "2021-09-13T23:08:41.646Z"
   },
   {
    "duration": 7,
    "start_time": "2021-09-13T23:08:41.660Z"
   },
   {
    "duration": 52,
    "start_time": "2021-09-13T23:08:41.670Z"
   },
   {
    "duration": 18,
    "start_time": "2021-09-13T23:08:41.725Z"
   },
   {
    "duration": 15,
    "start_time": "2021-09-13T23:08:41.746Z"
   },
   {
    "duration": 22,
    "start_time": "2021-09-13T23:08:41.764Z"
   },
   {
    "duration": 8,
    "start_time": "2021-09-13T23:08:41.789Z"
   },
   {
    "duration": 19,
    "start_time": "2021-09-13T23:08:41.817Z"
   },
   {
    "duration": 5,
    "start_time": "2021-09-13T23:08:41.839Z"
   },
   {
    "duration": 110,
    "start_time": "2021-09-13T23:08:41.851Z"
   },
   {
    "duration": 17,
    "start_time": "2021-09-13T23:08:41.965Z"
   },
   {
    "duration": 11,
    "start_time": "2021-09-13T23:08:41.984Z"
   },
   {
    "duration": 23,
    "start_time": "2021-09-13T23:08:41.997Z"
   },
   {
    "duration": 7,
    "start_time": "2021-09-13T23:08:42.023Z"
   },
   {
    "duration": 17,
    "start_time": "2021-09-13T23:08:42.032Z"
   },
   {
    "duration": 15,
    "start_time": "2021-09-13T23:08:42.051Z"
   },
   {
    "duration": 1600,
    "start_time": "2021-09-13T23:08:48.755Z"
   },
   {
    "duration": 323,
    "start_time": "2021-09-13T23:08:50.358Z"
   },
   {
    "duration": 27,
    "start_time": "2021-09-13T23:08:50.685Z"
   },
   {
    "duration": 18,
    "start_time": "2021-09-13T23:08:50.716Z"
   },
   {
    "duration": 94,
    "start_time": "2021-09-13T23:08:50.737Z"
   },
   {
    "duration": 6,
    "start_time": "2021-09-13T23:08:50.834Z"
   },
   {
    "duration": 20,
    "start_time": "2021-09-13T23:08:50.843Z"
   },
   {
    "duration": 50,
    "start_time": "2021-09-13T23:08:50.869Z"
   },
   {
    "duration": 6,
    "start_time": "2021-09-13T23:08:50.923Z"
   },
   {
    "duration": 20,
    "start_time": "2021-09-13T23:08:50.932Z"
   },
   {
    "duration": 14,
    "start_time": "2021-09-13T23:08:50.955Z"
   },
   {
    "duration": 48,
    "start_time": "2021-09-13T23:08:50.971Z"
   },
   {
    "duration": 12,
    "start_time": "2021-09-13T23:08:51.022Z"
   },
   {
    "duration": 9,
    "start_time": "2021-09-13T23:08:51.037Z"
   },
   {
    "duration": 8,
    "start_time": "2021-09-13T23:08:51.048Z"
   },
   {
    "duration": 6,
    "start_time": "2021-09-13T23:08:51.058Z"
   },
   {
    "duration": 55,
    "start_time": "2021-09-13T23:08:51.066Z"
   },
   {
    "duration": 6,
    "start_time": "2021-09-13T23:08:51.124Z"
   },
   {
    "duration": 8,
    "start_time": "2021-09-13T23:08:51.132Z"
   },
   {
    "duration": 6,
    "start_time": "2021-09-13T23:08:51.143Z"
   },
   {
    "duration": 7,
    "start_time": "2021-09-13T23:08:51.151Z"
   },
   {
    "duration": 59,
    "start_time": "2021-09-13T23:08:51.160Z"
   },
   {
    "duration": 10,
    "start_time": "2021-09-13T23:08:51.225Z"
   },
   {
    "duration": 6,
    "start_time": "2021-09-13T23:08:51.238Z"
   },
   {
    "duration": 28,
    "start_time": "2021-09-13T23:08:51.247Z"
   },
   {
    "duration": 3,
    "start_time": "2021-09-13T23:08:51.278Z"
   },
   {
    "duration": 99,
    "start_time": "2021-09-13T23:08:51.283Z"
   },
   {
    "duration": 16,
    "start_time": "2021-09-13T23:08:51.384Z"
   },
   {
    "duration": 16,
    "start_time": "2021-09-13T23:08:51.402Z"
   },
   {
    "duration": 15,
    "start_time": "2021-09-13T23:08:51.420Z"
   },
   {
    "duration": 11,
    "start_time": "2021-09-13T23:08:51.437Z"
   },
   {
    "duration": 16,
    "start_time": "2021-09-13T23:08:51.450Z"
   },
   {
    "duration": 12,
    "start_time": "2021-09-13T23:08:51.469Z"
   },
   {
    "duration": 567,
    "start_time": "2021-09-13T23:08:51.517Z"
   },
   {
    "duration": -3033,
    "start_time": "2021-09-13T23:08:55.119Z"
   },
   {
    "duration": -3039,
    "start_time": "2021-09-13T23:08:55.126Z"
   },
   {
    "duration": -3052,
    "start_time": "2021-09-13T23:08:55.141Z"
   },
   {
    "duration": -3064,
    "start_time": "2021-09-13T23:08:55.154Z"
   },
   {
    "duration": -3075,
    "start_time": "2021-09-13T23:08:55.167Z"
   },
   {
    "duration": -3079,
    "start_time": "2021-09-13T23:08:55.172Z"
   },
   {
    "duration": -3221,
    "start_time": "2021-09-13T23:08:55.316Z"
   },
   {
    "duration": -3402,
    "start_time": "2021-09-13T23:08:55.498Z"
   },
   {
    "duration": -3425,
    "start_time": "2021-09-13T23:08:55.523Z"
   },
   {
    "duration": -3438,
    "start_time": "2021-09-13T23:08:55.537Z"
   },
   {
    "duration": -3477,
    "start_time": "2021-09-13T23:08:55.578Z"
   },
   {
    "duration": -3486,
    "start_time": "2021-09-13T23:08:55.588Z"
   },
   {
    "duration": -3502,
    "start_time": "2021-09-13T23:08:55.605Z"
   },
   {
    "duration": -3508,
    "start_time": "2021-09-13T23:08:55.613Z"
   },
   {
    "duration": -3519,
    "start_time": "2021-09-13T23:08:55.625Z"
   },
   {
    "duration": -3548,
    "start_time": "2021-09-13T23:08:55.656Z"
   },
   {
    "duration": -3733,
    "start_time": "2021-09-13T23:08:55.842Z"
   },
   {
    "duration": -3797,
    "start_time": "2021-09-13T23:08:55.907Z"
   },
   {
    "duration": -3819,
    "start_time": "2021-09-13T23:08:55.931Z"
   },
   {
    "duration": -3834,
    "start_time": "2021-09-13T23:08:55.947Z"
   },
   {
    "duration": -3840,
    "start_time": "2021-09-13T23:08:55.955Z"
   },
   {
    "duration": -3846,
    "start_time": "2021-09-13T23:08:55.962Z"
   },
   {
    "duration": -3949,
    "start_time": "2021-09-13T23:08:56.066Z"
   },
   {
    "duration": -3978,
    "start_time": "2021-09-13T23:08:56.097Z"
   },
   {
    "duration": -4043,
    "start_time": "2021-09-13T23:08:56.163Z"
   },
   {
    "duration": -4073,
    "start_time": "2021-09-13T23:08:56.194Z"
   },
   {
    "duration": -4080,
    "start_time": "2021-09-13T23:08:56.203Z"
   },
   {
    "duration": -4084,
    "start_time": "2021-09-13T23:08:56.208Z"
   },
   {
    "duration": 353,
    "start_time": "2021-09-13T23:08:58.686Z"
   },
   {
    "duration": 5,
    "start_time": "2021-09-13T23:09:02.589Z"
   },
   {
    "duration": 204,
    "start_time": "2021-09-13T23:09:20.880Z"
   },
   {
    "duration": 434,
    "start_time": "2021-09-13T23:09:23.641Z"
   },
   {
    "duration": 11,
    "start_time": "2021-09-13T23:09:26.725Z"
   },
   {
    "duration": 8,
    "start_time": "2021-09-13T23:09:29.396Z"
   },
   {
    "duration": 5,
    "start_time": "2021-09-13T23:09:31.393Z"
   },
   {
    "duration": 26,
    "start_time": "2021-09-13T23:10:00.760Z"
   },
   {
    "duration": 5,
    "start_time": "2021-09-13T23:10:02.520Z"
   },
   {
    "duration": 17,
    "start_time": "2021-09-13T23:10:08.731Z"
   },
   {
    "duration": 5,
    "start_time": "2021-09-13T23:10:10.803Z"
   },
   {
    "duration": 16,
    "start_time": "2021-09-13T23:10:15.019Z"
   },
   {
    "duration": 6,
    "start_time": "2021-09-13T23:10:17.947Z"
   },
   {
    "duration": 28,
    "start_time": "2021-09-13T23:10:22.228Z"
   },
   {
    "duration": 646,
    "start_time": "2021-09-13T23:15:09.061Z"
   },
   {
    "duration": 14,
    "start_time": "2021-09-13T23:15:14.207Z"
   },
   {
    "duration": 1647,
    "start_time": "2021-09-13T23:15:50.635Z"
   },
   {
    "duration": 293,
    "start_time": "2021-09-13T23:15:52.285Z"
   },
   {
    "duration": 26,
    "start_time": "2021-09-13T23:15:52.581Z"
   },
   {
    "duration": 18,
    "start_time": "2021-09-13T23:15:52.610Z"
   },
   {
    "duration": 89,
    "start_time": "2021-09-13T23:15:52.631Z"
   },
   {
    "duration": 6,
    "start_time": "2021-09-13T23:15:52.722Z"
   },
   {
    "duration": 15,
    "start_time": "2021-09-13T23:15:52.730Z"
   },
   {
    "duration": 21,
    "start_time": "2021-09-13T23:15:52.749Z"
   },
   {
    "duration": 42,
    "start_time": "2021-09-13T23:15:52.774Z"
   },
   {
    "duration": 20,
    "start_time": "2021-09-13T23:15:52.819Z"
   },
   {
    "duration": 19,
    "start_time": "2021-09-13T23:15:52.841Z"
   },
   {
    "duration": 10,
    "start_time": "2021-09-13T23:15:52.863Z"
   },
   {
    "duration": 44,
    "start_time": "2021-09-13T23:15:52.875Z"
   },
   {
    "duration": 8,
    "start_time": "2021-09-13T23:15:52.921Z"
   },
   {
    "duration": 16,
    "start_time": "2021-09-13T23:15:52.931Z"
   },
   {
    "duration": 11,
    "start_time": "2021-09-13T23:15:52.950Z"
   },
   {
    "duration": 9,
    "start_time": "2021-09-13T23:15:52.964Z"
   },
   {
    "duration": 45,
    "start_time": "2021-09-13T23:15:52.976Z"
   },
   {
    "duration": 11,
    "start_time": "2021-09-13T23:15:53.024Z"
   },
   {
    "duration": 6,
    "start_time": "2021-09-13T23:15:53.037Z"
   },
   {
    "duration": 8,
    "start_time": "2021-09-13T23:15:53.045Z"
   },
   {
    "duration": 9,
    "start_time": "2021-09-13T23:15:53.056Z"
   },
   {
    "duration": 54,
    "start_time": "2021-09-13T23:15:53.071Z"
   },
   {
    "duration": 6,
    "start_time": "2021-09-13T23:15:53.129Z"
   },
   {
    "duration": 23,
    "start_time": "2021-09-13T23:15:53.138Z"
   },
   {
    "duration": 4,
    "start_time": "2021-09-13T23:15:53.164Z"
   },
   {
    "duration": 107,
    "start_time": "2021-09-13T23:15:53.170Z"
   },
   {
    "duration": 17,
    "start_time": "2021-09-13T23:15:53.280Z"
   },
   {
    "duration": 21,
    "start_time": "2021-09-13T23:15:53.301Z"
   },
   {
    "duration": 13,
    "start_time": "2021-09-13T23:15:53.325Z"
   },
   {
    "duration": 10,
    "start_time": "2021-09-13T23:15:53.341Z"
   },
   {
    "duration": 17,
    "start_time": "2021-09-13T23:15:53.354Z"
   },
   {
    "duration": 53,
    "start_time": "2021-09-13T23:15:53.375Z"
   },
   {
    "duration": 5,
    "start_time": "2021-09-13T23:15:53.432Z"
   },
   {
    "duration": 242,
    "start_time": "2021-09-13T23:15:53.440Z"
   },
   {
    "duration": 481,
    "start_time": "2021-09-13T23:15:53.686Z"
   },
   {
    "duration": 3,
    "start_time": "2021-09-13T23:15:54.171Z"
   },
   {
    "duration": 11,
    "start_time": "2021-09-13T23:15:54.177Z"
   },
   {
    "duration": 26,
    "start_time": "2021-09-13T23:15:54.190Z"
   },
   {
    "duration": 3,
    "start_time": "2021-09-13T23:15:54.219Z"
   },
   {
    "duration": 579,
    "start_time": "2021-09-13T23:15:54.226Z"
   },
   {
    "duration": -1108,
    "start_time": "2021-09-13T23:15:55.917Z"
   },
   {
    "duration": -1111,
    "start_time": "2021-09-13T23:15:55.923Z"
   },
   {
    "duration": -1117,
    "start_time": "2021-09-13T23:15:55.931Z"
   },
   {
    "duration": -1119,
    "start_time": "2021-09-13T23:15:55.936Z"
   },
   {
    "duration": -1125,
    "start_time": "2021-09-13T23:15:55.944Z"
   },
   {
    "duration": -1128,
    "start_time": "2021-09-13T23:15:55.950Z"
   },
   {
    "duration": -1131,
    "start_time": "2021-09-13T23:15:55.955Z"
   },
   {
    "duration": -1176,
    "start_time": "2021-09-13T23:15:56.002Z"
   },
   {
    "duration": -1184,
    "start_time": "2021-09-13T23:15:56.013Z"
   },
   {
    "duration": -1188,
    "start_time": "2021-09-13T23:15:56.019Z"
   },
   {
    "duration": -1189,
    "start_time": "2021-09-13T23:15:56.023Z"
   },
   {
    "duration": -1204,
    "start_time": "2021-09-13T23:15:56.040Z"
   },
   {
    "duration": -1208,
    "start_time": "2021-09-13T23:15:56.046Z"
   },
   {
    "duration": -1210,
    "start_time": "2021-09-13T23:15:56.051Z"
   },
   {
    "duration": -1212,
    "start_time": "2021-09-13T23:15:56.055Z"
   },
   {
    "duration": -1217,
    "start_time": "2021-09-13T23:15:56.063Z"
   },
   {
    "duration": -1223,
    "start_time": "2021-09-13T23:15:56.071Z"
   },
   {
    "duration": -1226,
    "start_time": "2021-09-13T23:15:56.076Z"
   },
   {
    "duration": -1228,
    "start_time": "2021-09-13T23:15:56.080Z"
   },
   {
    "duration": -1231,
    "start_time": "2021-09-13T23:15:56.086Z"
   },
   {
    "duration": -1234,
    "start_time": "2021-09-13T23:15:56.090Z"
   },
   {
    "duration": -1246,
    "start_time": "2021-09-13T23:15:56.103Z"
   },
   {
    "duration": -1250,
    "start_time": "2021-09-13T23:15:56.108Z"
   },
   {
    "duration": 4,
    "start_time": "2021-09-13T23:16:10.717Z"
   },
   {
    "duration": 381,
    "start_time": "2021-09-13T23:16:13.909Z"
   },
   {
    "duration": 1640,
    "start_time": "2021-09-13T23:20:15.997Z"
   },
   {
    "duration": 1542,
    "start_time": "2021-09-13T23:20:27.134Z"
   },
   {
    "duration": 1555,
    "start_time": "2021-09-13T23:29:26.737Z"
   },
   {
    "duration": 437,
    "start_time": "2021-09-13T23:29:39.248Z"
   },
   {
    "duration": 15,
    "start_time": "2021-09-13T23:29:48.110Z"
   },
   {
    "duration": 28,
    "start_time": "2021-09-13T23:29:58.423Z"
   },
   {
    "duration": 3,
    "start_time": "2021-09-13T23:30:09.629Z"
   },
   {
    "duration": 5,
    "start_time": "2021-09-13T23:30:12.096Z"
   },
   {
    "duration": 30,
    "start_time": "2021-09-13T23:30:13.918Z"
   },
   {
    "duration": 1440,
    "start_time": "2021-09-13T23:30:19.953Z"
   },
   {
    "duration": 30,
    "start_time": "2021-09-13T23:30:26.549Z"
   },
   {
    "duration": 13,
    "start_time": "2021-09-13T23:30:40.036Z"
   },
   {
    "duration": 13,
    "start_time": "2021-09-13T23:31:06.249Z"
   },
   {
    "duration": 357,
    "start_time": "2021-09-13T23:33:27.658Z"
   },
   {
    "duration": 2229,
    "start_time": "2021-09-13T23:33:30.386Z"
   },
   {
    "duration": 97,
    "start_time": "2021-09-13T23:33:40.132Z"
   },
   {
    "duration": 6,
    "start_time": "2021-09-13T23:33:50.969Z"
   },
   {
    "duration": 6,
    "start_time": "2021-09-13T23:34:03.236Z"
   },
   {
    "duration": 6,
    "start_time": "2021-09-13T23:34:05.332Z"
   },
   {
    "duration": 5,
    "start_time": "2021-09-13T23:34:09.277Z"
   },
   {
    "duration": 368,
    "start_time": "2021-09-13T23:34:50.350Z"
   },
   {
    "duration": 13,
    "start_time": "2021-09-13T23:35:02.046Z"
   },
   {
    "duration": 1981,
    "start_time": "2021-09-13T23:35:23.613Z"
   },
   {
    "duration": 369,
    "start_time": "2021-09-13T23:35:56.152Z"
   },
   {
    "duration": 8,
    "start_time": "2021-09-13T23:38:38.047Z"
   },
   {
    "duration": 1779,
    "start_time": "2021-09-13T23:39:31.191Z"
   },
   {
    "duration": 289,
    "start_time": "2021-09-13T23:39:32.972Z"
   },
   {
    "duration": 27,
    "start_time": "2021-09-13T23:39:33.264Z"
   },
   {
    "duration": 34,
    "start_time": "2021-09-13T23:39:33.294Z"
   },
   {
    "duration": 87,
    "start_time": "2021-09-13T23:39:33.330Z"
   },
   {
    "duration": 6,
    "start_time": "2021-09-13T23:39:33.420Z"
   },
   {
    "duration": 15,
    "start_time": "2021-09-13T23:39:33.428Z"
   },
   {
    "duration": 20,
    "start_time": "2021-09-13T23:39:33.446Z"
   },
   {
    "duration": 5,
    "start_time": "2021-09-13T23:39:33.470Z"
   },
   {
    "duration": 18,
    "start_time": "2021-09-13T23:39:33.518Z"
   },
   {
    "duration": 12,
    "start_time": "2021-09-13T23:39:33.538Z"
   },
   {
    "duration": 11,
    "start_time": "2021-09-13T23:39:33.552Z"
   },
   {
    "duration": 11,
    "start_time": "2021-09-13T23:39:33.565Z"
   },
   {
    "duration": 39,
    "start_time": "2021-09-13T23:39:33.578Z"
   },
   {
    "duration": 12,
    "start_time": "2021-09-13T23:39:33.620Z"
   },
   {
    "duration": 7,
    "start_time": "2021-09-13T23:39:33.634Z"
   },
   {
    "duration": 7,
    "start_time": "2021-09-13T23:39:33.643Z"
   },
   {
    "duration": 6,
    "start_time": "2021-09-13T23:39:33.652Z"
   },
   {
    "duration": 57,
    "start_time": "2021-09-13T23:39:33.660Z"
   },
   {
    "duration": 6,
    "start_time": "2021-09-13T23:39:33.719Z"
   },
   {
    "duration": 7,
    "start_time": "2021-09-13T23:39:33.727Z"
   },
   {
    "duration": 9,
    "start_time": "2021-09-13T23:39:33.736Z"
   },
   {
    "duration": 10,
    "start_time": "2021-09-13T23:39:33.747Z"
   },
   {
    "duration": 5,
    "start_time": "2021-09-13T23:39:33.760Z"
   },
   {
    "duration": 17,
    "start_time": "2021-09-13T23:39:33.815Z"
   },
   {
    "duration": 4,
    "start_time": "2021-09-13T23:39:33.835Z"
   },
   {
    "duration": 100,
    "start_time": "2021-09-13T23:39:33.846Z"
   },
   {
    "duration": 16,
    "start_time": "2021-09-13T23:39:33.949Z"
   },
   {
    "duration": 7,
    "start_time": "2021-09-13T23:39:33.968Z"
   },
   {
    "duration": 8,
    "start_time": "2021-09-13T23:39:33.978Z"
   },
   {
    "duration": 32,
    "start_time": "2021-09-13T23:39:33.989Z"
   },
   {
    "duration": 15,
    "start_time": "2021-09-13T23:39:34.024Z"
   },
   {
    "duration": 13,
    "start_time": "2021-09-13T23:39:34.041Z"
   },
   {
    "duration": 5,
    "start_time": "2021-09-13T23:39:34.056Z"
   },
   {
    "duration": 252,
    "start_time": "2021-09-13T23:39:34.064Z"
   },
   {
    "duration": 467,
    "start_time": "2021-09-13T23:39:34.319Z"
   },
   {
    "duration": 29,
    "start_time": "2021-09-13T23:39:34.788Z"
   },
   {
    "duration": 3,
    "start_time": "2021-09-13T23:39:34.819Z"
   },
   {
    "duration": 10,
    "start_time": "2021-09-13T23:39:34.825Z"
   },
   {
    "duration": 6,
    "start_time": "2021-09-13T23:39:34.837Z"
   },
   {
    "duration": 7,
    "start_time": "2021-09-13T23:39:34.845Z"
   },
   {
    "duration": 13,
    "start_time": "2021-09-13T23:39:34.855Z"
   },
   {
    "duration": 7,
    "start_time": "2021-09-13T23:39:34.871Z"
   },
   {
    "duration": 11,
    "start_time": "2021-09-13T23:39:34.881Z"
   },
   {
    "duration": 3,
    "start_time": "2021-09-13T23:39:34.917Z"
   },
   {
    "duration": 8,
    "start_time": "2021-09-13T23:39:34.922Z"
   },
   {
    "duration": 8,
    "start_time": "2021-09-13T23:39:34.932Z"
   },
   {
    "duration": 17,
    "start_time": "2021-09-13T23:39:34.943Z"
   },
   {
    "duration": 510,
    "start_time": "2021-09-13T23:39:34.962Z"
   },
   {
    "duration": -2134,
    "start_time": "2021-09-13T23:39:37.609Z"
   },
   {
    "duration": -2137,
    "start_time": "2021-09-13T23:39:37.614Z"
   },
   {
    "duration": -2149,
    "start_time": "2021-09-13T23:39:37.627Z"
   },
   {
    "duration": -2211,
    "start_time": "2021-09-13T23:39:37.691Z"
   },
   {
    "duration": -2222,
    "start_time": "2021-09-13T23:39:37.703Z"
   },
   {
    "duration": -2230,
    "start_time": "2021-09-13T23:39:37.713Z"
   },
   {
    "duration": -2240,
    "start_time": "2021-09-13T23:39:37.724Z"
   },
   {
    "duration": -2245,
    "start_time": "2021-09-13T23:39:37.731Z"
   },
   {
    "duration": -2273,
    "start_time": "2021-09-13T23:39:37.760Z"
   },
   {
    "duration": -2286,
    "start_time": "2021-09-13T23:39:37.774Z"
   },
   {
    "duration": -2290,
    "start_time": "2021-09-13T23:39:37.780Z"
   },
   {
    "duration": -2332,
    "start_time": "2021-09-13T23:39:37.823Z"
   },
   {
    "duration": -2386,
    "start_time": "2021-09-13T23:39:37.879Z"
   },
   {
    "duration": -2393,
    "start_time": "2021-09-13T23:39:37.887Z"
   },
   {
    "duration": -2397,
    "start_time": "2021-09-13T23:39:37.893Z"
   },
   {
    "duration": -2407,
    "start_time": "2021-09-13T23:39:37.904Z"
   },
   {
    "duration": -2449,
    "start_time": "2021-09-13T23:39:37.948Z"
   },
   {
    "duration": -2474,
    "start_time": "2021-09-13T23:39:37.974Z"
   },
   {
    "duration": -2480,
    "start_time": "2021-09-13T23:39:37.981Z"
   },
   {
    "duration": -2490,
    "start_time": "2021-09-13T23:39:37.992Z"
   },
   {
    "duration": -2495,
    "start_time": "2021-09-13T23:39:37.999Z"
   },
   {
    "duration": -2514,
    "start_time": "2021-09-13T23:39:38.019Z"
   },
   {
    "duration": -2520,
    "start_time": "2021-09-13T23:39:38.026Z"
   },
   {
    "duration": 9,
    "start_time": "2021-09-13T23:40:38.565Z"
   },
   {
    "duration": 8,
    "start_time": "2021-09-13T23:42:10.071Z"
   },
   {
    "duration": 9,
    "start_time": "2021-09-13T23:42:17.395Z"
   },
   {
    "duration": 5,
    "start_time": "2021-09-13T23:42:21.834Z"
   },
   {
    "duration": 34,
    "start_time": "2021-09-13T23:44:11.963Z"
   },
   {
    "duration": 1626,
    "start_time": "2021-09-13T23:44:28.103Z"
   },
   {
    "duration": 575,
    "start_time": "2021-09-13T23:44:44.622Z"
   },
   {
    "duration": 44,
    "start_time": "2021-09-13T23:45:00.214Z"
   },
   {
    "duration": 376,
    "start_time": "2021-09-13T23:45:15.120Z"
   },
   {
    "duration": 41,
    "start_time": "2021-09-13T23:45:20.693Z"
   },
   {
    "duration": 5,
    "start_time": "2021-09-13T23:45:30.043Z"
   },
   {
    "duration": 12,
    "start_time": "2021-09-13T23:46:20.951Z"
   },
   {
    "duration": 5,
    "start_time": "2021-09-13T23:46:26.721Z"
   },
   {
    "duration": 15,
    "start_time": "2021-09-13T23:46:47.398Z"
   },
   {
    "duration": 14,
    "start_time": "2021-09-13T23:47:23.829Z"
   },
   {
    "duration": 13,
    "start_time": "2021-09-13T23:47:26.452Z"
   },
   {
    "duration": 1450,
    "start_time": "2021-09-13T23:48:39.041Z"
   },
   {
    "duration": 383,
    "start_time": "2021-09-13T23:48:52.066Z"
   },
   {
    "duration": 51,
    "start_time": "2021-09-14T00:04:41.562Z"
   },
   {
    "duration": 9,
    "start_time": "2021-09-14T00:05:08.269Z"
   },
   {
    "duration": 53,
    "start_time": "2021-09-14T00:05:24.274Z"
   },
   {
    "duration": 6,
    "start_time": "2021-09-14T00:05:35.223Z"
   },
   {
    "duration": 10,
    "start_time": "2021-09-14T00:09:18.250Z"
   },
   {
    "duration": 50,
    "start_time": "2021-09-14T00:09:39.474Z"
   },
   {
    "duration": 198,
    "start_time": "2021-09-14T00:11:43.787Z"
   },
   {
    "duration": 19,
    "start_time": "2021-09-14T00:12:16.472Z"
   },
   {
    "duration": 19,
    "start_time": "2021-09-14T00:12:36.471Z"
   },
   {
    "duration": 431,
    "start_time": "2021-09-14T00:12:41.707Z"
   },
   {
    "duration": 5,
    "start_time": "2021-09-14T00:12:44.290Z"
   },
   {
    "duration": 19,
    "start_time": "2021-09-14T00:12:52.663Z"
   },
   {
    "duration": 258,
    "start_time": "2021-09-14T00:13:14.098Z"
   },
   {
    "duration": 20,
    "start_time": "2021-09-14T00:13:50.738Z"
   },
   {
    "duration": 202,
    "start_time": "2021-09-14T00:14:05.433Z"
   },
   {
    "duration": 23,
    "start_time": "2021-09-14T00:15:08.116Z"
   },
   {
    "duration": 6,
    "start_time": "2021-09-14T00:15:12.211Z"
   },
   {
    "duration": 14,
    "start_time": "2021-09-14T00:15:31.685Z"
   },
   {
    "duration": -543,
    "start_time": "2021-09-14T00:36:26.368Z"
   },
   {
    "duration": 10,
    "start_time": "2021-09-14T00:36:29.630Z"
   },
   {
    "duration": 9,
    "start_time": "2021-09-14T00:36:31.739Z"
   },
   {
    "duration": 1657,
    "start_time": "2021-09-14T00:36:44.404Z"
   },
   {
    "duration": 481,
    "start_time": "2021-09-14T00:36:46.064Z"
   },
   {
    "duration": 27,
    "start_time": "2021-09-14T00:36:46.548Z"
   },
   {
    "duration": 31,
    "start_time": "2021-09-14T00:36:46.577Z"
   },
   {
    "duration": 77,
    "start_time": "2021-09-14T00:36:46.610Z"
   },
   {
    "duration": 5,
    "start_time": "2021-09-14T00:36:46.689Z"
   },
   {
    "duration": 31,
    "start_time": "2021-09-14T00:36:46.696Z"
   },
   {
    "duration": 40,
    "start_time": "2021-09-14T00:36:46.729Z"
   },
   {
    "duration": 7,
    "start_time": "2021-09-14T00:36:46.773Z"
   },
   {
    "duration": 31,
    "start_time": "2021-09-14T00:36:46.783Z"
   },
   {
    "duration": 21,
    "start_time": "2021-09-14T00:36:46.817Z"
   },
   {
    "duration": 28,
    "start_time": "2021-09-14T00:36:46.841Z"
   },
   {
    "duration": 24,
    "start_time": "2021-09-14T00:36:46.871Z"
   },
   {
    "duration": 24,
    "start_time": "2021-09-14T00:36:46.897Z"
   },
   {
    "duration": 19,
    "start_time": "2021-09-14T00:36:46.923Z"
   },
   {
    "duration": 25,
    "start_time": "2021-09-14T00:36:46.944Z"
   },
   {
    "duration": 27,
    "start_time": "2021-09-14T00:36:46.971Z"
   },
   {
    "duration": 27,
    "start_time": "2021-09-14T00:36:47.000Z"
   },
   {
    "duration": 33,
    "start_time": "2021-09-14T00:36:47.029Z"
   },
   {
    "duration": 27,
    "start_time": "2021-09-14T00:36:47.065Z"
   },
   {
    "duration": 19,
    "start_time": "2021-09-14T00:36:47.094Z"
   },
   {
    "duration": 29,
    "start_time": "2021-09-14T00:36:47.115Z"
   },
   {
    "duration": 35,
    "start_time": "2021-09-14T00:36:47.146Z"
   },
   {
    "duration": 24,
    "start_time": "2021-09-14T00:36:47.183Z"
   },
   {
    "duration": 29,
    "start_time": "2021-09-14T00:36:47.209Z"
   },
   {
    "duration": 5,
    "start_time": "2021-09-14T00:36:47.240Z"
   },
   {
    "duration": 84,
    "start_time": "2021-09-14T00:36:47.251Z"
   },
   {
    "duration": 16,
    "start_time": "2021-09-14T00:36:47.338Z"
   },
   {
    "duration": 25,
    "start_time": "2021-09-14T00:36:47.356Z"
   },
   {
    "duration": 135,
    "start_time": "2021-09-14T00:36:47.383Z"
   },
   {
    "duration": -803,
    "start_time": "2021-09-14T00:36:48.324Z"
   },
   {
    "duration": -852,
    "start_time": "2021-09-14T00:36:48.374Z"
   },
   {
    "duration": -871,
    "start_time": "2021-09-14T00:36:48.395Z"
   },
   {
    "duration": -877,
    "start_time": "2021-09-14T00:36:48.402Z"
   },
   {
    "duration": -882,
    "start_time": "2021-09-14T00:36:48.408Z"
   },
   {
    "duration": -886,
    "start_time": "2021-09-14T00:36:48.414Z"
   },
   {
    "duration": -941,
    "start_time": "2021-09-14T00:36:48.470Z"
   },
   {
    "duration": -950,
    "start_time": "2021-09-14T00:36:48.480Z"
   },
   {
    "duration": -958,
    "start_time": "2021-09-14T00:36:48.489Z"
   },
   {
    "duration": -962,
    "start_time": "2021-09-14T00:36:48.495Z"
   },
   {
    "duration": -1372,
    "start_time": "2021-09-14T00:36:48.906Z"
   },
   {
    "duration": -1376,
    "start_time": "2021-09-14T00:36:48.911Z"
   },
   {
    "duration": -1410,
    "start_time": "2021-09-14T00:36:48.947Z"
   },
   {
    "duration": -1416,
    "start_time": "2021-09-14T00:36:48.954Z"
   },
   {
    "duration": -1442,
    "start_time": "2021-09-14T00:36:48.981Z"
   },
   {
    "duration": -1447,
    "start_time": "2021-09-14T00:36:48.988Z"
   },
   {
    "duration": -1454,
    "start_time": "2021-09-14T00:36:48.996Z"
   },
   {
    "duration": -1488,
    "start_time": "2021-09-14T00:36:49.032Z"
   },
   {
    "duration": -1495,
    "start_time": "2021-09-14T00:36:49.040Z"
   },
   {
    "duration": -1529,
    "start_time": "2021-09-14T00:36:49.075Z"
   },
   {
    "duration": -1533,
    "start_time": "2021-09-14T00:36:49.081Z"
   },
   {
    "duration": -1569,
    "start_time": "2021-09-14T00:36:49.118Z"
   },
   {
    "duration": -1586,
    "start_time": "2021-09-14T00:36:49.137Z"
   },
   {
    "duration": -1594,
    "start_time": "2021-09-14T00:36:49.146Z"
   },
   {
    "duration": -1612,
    "start_time": "2021-09-14T00:36:49.165Z"
   },
   {
    "duration": -1626,
    "start_time": "2021-09-14T00:36:49.181Z"
   },
   {
    "duration": -1634,
    "start_time": "2021-09-14T00:36:49.190Z"
   },
   {
    "duration": -1655,
    "start_time": "2021-09-14T00:36:49.212Z"
   },
   {
    "duration": -1668,
    "start_time": "2021-09-14T00:36:49.227Z"
   },
   {
    "duration": -1673,
    "start_time": "2021-09-14T00:36:49.233Z"
   },
   {
    "duration": -1680,
    "start_time": "2021-09-14T00:36:49.241Z"
   },
   {
    "duration": 9,
    "start_time": "2021-09-14T00:36:57.011Z"
   },
   {
    "duration": 9,
    "start_time": "2021-09-14T00:37:00.785Z"
   },
   {
    "duration": 14,
    "start_time": "2021-09-14T00:37:04.512Z"
   },
   {
    "duration": 12,
    "start_time": "2021-09-14T00:37:07.778Z"
   },
   {
    "duration": 13,
    "start_time": "2021-09-14T00:37:10.414Z"
   },
   {
    "duration": 6,
    "start_time": "2021-09-14T00:37:12.180Z"
   },
   {
    "duration": 210,
    "start_time": "2021-09-14T00:37:15.561Z"
   },
   {
    "duration": 465,
    "start_time": "2021-09-14T00:37:18.129Z"
   },
   {
    "duration": 10,
    "start_time": "2021-09-14T00:37:21.377Z"
   },
   {
    "duration": 161,
    "start_time": "2021-09-14T00:37:26.025Z"
   },
   {
    "duration": 10,
    "start_time": "2021-09-14T00:37:29.795Z"
   },
   {
    "duration": 5,
    "start_time": "2021-09-14T00:37:54.732Z"
   },
   {
    "duration": 10,
    "start_time": "2021-09-14T00:38:00.591Z"
   },
   {
    "duration": 10,
    "start_time": "2021-09-14T00:38:48.525Z"
   },
   {
    "duration": 10,
    "start_time": "2021-09-14T00:39:53.741Z"
   },
   {
    "duration": 10,
    "start_time": "2021-09-14T00:40:11.983Z"
   },
   {
    "duration": 10,
    "start_time": "2021-09-14T00:40:33.443Z"
   },
   {
    "duration": 9,
    "start_time": "2021-09-14T00:41:01.407Z"
   },
   {
    "duration": 8,
    "start_time": "2021-09-14T00:41:29.032Z"
   },
   {
    "duration": 9,
    "start_time": "2021-09-14T00:42:06.397Z"
   },
   {
    "duration": 19,
    "start_time": "2021-09-14T00:42:36.893Z"
   },
   {
    "duration": 6,
    "start_time": "2021-09-14T00:42:39.965Z"
   },
   {
    "duration": 190,
    "start_time": "2021-09-14T00:42:58.996Z"
   },
   {
    "duration": 278,
    "start_time": "2021-09-14T00:43:20.228Z"
   },
   {
    "duration": 180,
    "start_time": "2021-09-14T00:44:12.874Z"
   },
   {
    "duration": 203,
    "start_time": "2021-09-14T00:44:19.081Z"
   },
   {
    "duration": 193,
    "start_time": "2021-09-14T00:44:56.738Z"
   },
   {
    "duration": 212,
    "start_time": "2021-09-14T00:45:06.634Z"
   },
   {
    "duration": 15,
    "start_time": "2021-09-14T00:47:40.314Z"
   },
   {
    "duration": 8,
    "start_time": "2021-09-14T00:49:18.171Z"
   },
   {
    "duration": 18,
    "start_time": "2021-09-14T00:51:05.172Z"
   },
   {
    "duration": 5,
    "start_time": "2021-09-14T00:51:06.465Z"
   },
   {
    "duration": 6,
    "start_time": "2021-09-14T00:51:13.707Z"
   },
   {
    "duration": 18,
    "start_time": "2021-09-14T00:51:19.473Z"
   },
   {
    "duration": 21,
    "start_time": "2021-09-14T00:51:24.537Z"
   },
   {
    "duration": 5,
    "start_time": "2021-09-14T00:51:26.066Z"
   },
   {
    "duration": 14,
    "start_time": "2021-09-14T00:51:27.273Z"
   },
   {
    "duration": 13,
    "start_time": "2021-09-14T00:54:30.221Z"
   },
   {
    "duration": 6,
    "start_time": "2021-09-14T00:54:37.531Z"
   },
   {
    "duration": 73,
    "start_time": "2021-09-14T00:54:41.225Z"
   },
   {
    "duration": 1600,
    "start_time": "2021-09-14T00:55:06.581Z"
   },
   {
    "duration": 288,
    "start_time": "2021-09-14T00:55:08.183Z"
   },
   {
    "duration": 1668,
    "start_time": "2021-09-14T00:55:24.171Z"
   },
   {
    "duration": 284,
    "start_time": "2021-09-14T00:55:25.842Z"
   },
   {
    "duration": 28,
    "start_time": "2021-09-14T00:55:26.129Z"
   },
   {
    "duration": 15,
    "start_time": "2021-09-14T00:55:26.160Z"
   },
   {
    "duration": 94,
    "start_time": "2021-09-14T00:55:26.177Z"
   },
   {
    "duration": 5,
    "start_time": "2021-09-14T00:55:26.274Z"
   },
   {
    "duration": 16,
    "start_time": "2021-09-14T00:55:26.281Z"
   },
   {
    "duration": 22,
    "start_time": "2021-09-14T00:55:26.316Z"
   },
   {
    "duration": 6,
    "start_time": "2021-09-14T00:55:26.342Z"
   },
   {
    "duration": 19,
    "start_time": "2021-09-14T00:55:26.351Z"
   },
   {
    "duration": 11,
    "start_time": "2021-09-14T00:55:26.372Z"
   },
   {
    "duration": 7,
    "start_time": "2021-09-14T00:55:26.417Z"
   },
   {
    "duration": 11,
    "start_time": "2021-09-14T00:55:26.427Z"
   },
   {
    "duration": 6,
    "start_time": "2021-09-14T00:55:26.440Z"
   },
   {
    "duration": 9,
    "start_time": "2021-09-14T00:55:26.448Z"
   },
   {
    "duration": 6,
    "start_time": "2021-09-14T00:55:26.459Z"
   },
   {
    "duration": 54,
    "start_time": "2021-09-14T00:55:26.468Z"
   },
   {
    "duration": 7,
    "start_time": "2021-09-14T00:55:26.524Z"
   },
   {
    "duration": 7,
    "start_time": "2021-09-14T00:55:26.534Z"
   },
   {
    "duration": 7,
    "start_time": "2021-09-14T00:55:26.544Z"
   },
   {
    "duration": 9,
    "start_time": "2021-09-14T00:55:26.553Z"
   },
   {
    "duration": 56,
    "start_time": "2021-09-14T00:55:26.564Z"
   },
   {
    "duration": 10,
    "start_time": "2021-09-14T00:55:26.622Z"
   },
   {
    "duration": 5,
    "start_time": "2021-09-14T00:55:26.635Z"
   },
   {
    "duration": 126,
    "start_time": "2021-09-14T00:55:26.642Z"
   },
   {
    "duration": -979,
    "start_time": "2021-09-14T00:55:27.751Z"
   },
   {
    "duration": -984,
    "start_time": "2021-09-14T00:55:27.757Z"
   },
   {
    "duration": -1006,
    "start_time": "2021-09-14T00:55:27.781Z"
   },
   {
    "duration": -1017,
    "start_time": "2021-09-14T00:55:27.793Z"
   },
   {
    "duration": -1031,
    "start_time": "2021-09-14T00:55:27.808Z"
   },
   {
    "duration": -1036,
    "start_time": "2021-09-14T00:55:27.814Z"
   },
   {
    "duration": -1047,
    "start_time": "2021-09-14T00:55:27.827Z"
   },
   {
    "duration": -1061,
    "start_time": "2021-09-14T00:55:27.842Z"
   },
   {
    "duration": -1069,
    "start_time": "2021-09-14T00:55:27.851Z"
   },
   {
    "duration": -1231,
    "start_time": "2021-09-14T00:55:28.014Z"
   },
   {
    "duration": -1239,
    "start_time": "2021-09-14T00:55:28.023Z"
   },
   {
    "duration": -1251,
    "start_time": "2021-09-14T00:55:28.037Z"
   },
   {
    "duration": -1266,
    "start_time": "2021-09-14T00:55:28.053Z"
   },
   {
    "duration": -1275,
    "start_time": "2021-09-14T00:55:28.063Z"
   },
   {
    "duration": -1287,
    "start_time": "2021-09-14T00:55:28.077Z"
   },
   {
    "duration": -1295,
    "start_time": "2021-09-14T00:55:28.086Z"
   },
   {
    "duration": -1301,
    "start_time": "2021-09-14T00:55:28.093Z"
   },
   {
    "duration": -1313,
    "start_time": "2021-09-14T00:55:28.106Z"
   },
   {
    "duration": -1323,
    "start_time": "2021-09-14T00:55:28.117Z"
   },
   {
    "duration": -1329,
    "start_time": "2021-09-14T00:55:28.124Z"
   },
   {
    "duration": -1334,
    "start_time": "2021-09-14T00:55:28.131Z"
   },
   {
    "duration": -1336,
    "start_time": "2021-09-14T00:55:28.137Z"
   },
   {
    "duration": -1349,
    "start_time": "2021-09-14T00:55:28.151Z"
   },
   {
    "duration": -1356,
    "start_time": "2021-09-14T00:55:28.159Z"
   },
   {
    "duration": -1363,
    "start_time": "2021-09-14T00:55:28.167Z"
   },
   {
    "duration": -1369,
    "start_time": "2021-09-14T00:55:28.175Z"
   },
   {
    "duration": -1381,
    "start_time": "2021-09-14T00:55:28.188Z"
   },
   {
    "duration": -1387,
    "start_time": "2021-09-14T00:55:28.195Z"
   },
   {
    "duration": -1475,
    "start_time": "2021-09-14T00:55:28.291Z"
   },
   {
    "duration": -1488,
    "start_time": "2021-09-14T00:55:28.306Z"
   },
   {
    "duration": -1523,
    "start_time": "2021-09-14T00:55:28.342Z"
   },
   {
    "duration": -1528,
    "start_time": "2021-09-14T00:55:28.349Z"
   },
   {
    "duration": -1543,
    "start_time": "2021-09-14T00:55:28.365Z"
   },
   {
    "duration": -1548,
    "start_time": "2021-09-14T00:55:28.372Z"
   },
   {
    "duration": -1551,
    "start_time": "2021-09-14T00:55:28.377Z"
   },
   {
    "duration": -1557,
    "start_time": "2021-09-14T00:55:28.384Z"
   },
   {
    "duration": -1561,
    "start_time": "2021-09-14T00:55:28.390Z"
   },
   {
    "duration": -1566,
    "start_time": "2021-09-14T00:55:28.396Z"
   },
   {
    "duration": -1571,
    "start_time": "2021-09-14T00:55:28.402Z"
   },
   {
    "duration": -1577,
    "start_time": "2021-09-14T00:55:28.410Z"
   },
   {
    "duration": -1603,
    "start_time": "2021-09-14T00:55:28.437Z"
   },
   {
    "duration": -1703,
    "start_time": "2021-09-14T00:55:28.539Z"
   },
   {
    "duration": -1711,
    "start_time": "2021-09-14T00:55:28.548Z"
   },
   {
    "duration": -1717,
    "start_time": "2021-09-14T00:55:28.556Z"
   },
   {
    "duration": -1722,
    "start_time": "2021-09-14T00:55:28.562Z"
   },
   {
    "duration": -1734,
    "start_time": "2021-09-14T00:55:28.575Z"
   },
   {
    "duration": -1778,
    "start_time": "2021-09-14T00:55:28.621Z"
   },
   {
    "duration": -1785,
    "start_time": "2021-09-14T00:55:28.630Z"
   },
   {
    "duration": -1813,
    "start_time": "2021-09-14T00:55:28.659Z"
   },
   {
    "duration": -1823,
    "start_time": "2021-09-14T00:55:28.671Z"
   },
   {
    "duration": 16,
    "start_time": "2021-09-14T00:55:43.207Z"
   },
   {
    "duration": 5,
    "start_time": "2021-09-14T00:55:46.513Z"
   },
   {
    "duration": 13,
    "start_time": "2021-09-14T00:55:59.893Z"
   },
   {
    "duration": 6,
    "start_time": "2021-09-14T00:56:02.844Z"
   },
   {
    "duration": 73,
    "start_time": "2021-09-14T00:56:04.815Z"
   },
   {
    "duration": 12,
    "start_time": "2021-09-14T00:56:44.498Z"
   },
   {
    "duration": 17,
    "start_time": "2021-09-14T00:56:51.069Z"
   },
   {
    "duration": 16,
    "start_time": "2021-09-14T00:57:04.015Z"
   },
   {
    "duration": 13,
    "start_time": "2021-09-14T01:01:32.741Z"
   },
   {
    "duration": 503,
    "start_time": "2021-09-14T01:05:47.258Z"
   },
   {
    "duration": 369,
    "start_time": "2021-09-14T01:05:56.742Z"
   },
   {
    "duration": 367,
    "start_time": "2021-09-14T01:06:01.878Z"
   },
   {
    "duration": 18,
    "start_time": "2021-09-14T01:07:24.050Z"
   },
   {
    "duration": 8,
    "start_time": "2021-09-14T01:07:33.714Z"
   },
   {
    "duration": 8,
    "start_time": "2021-09-14T01:07:41.693Z"
   },
   {
    "duration": 14,
    "start_time": "2021-09-14T01:08:03.513Z"
   },
   {
    "duration": 12,
    "start_time": "2021-09-14T01:08:47.839Z"
   },
   {
    "duration": 5,
    "start_time": "2021-09-14T01:09:01.897Z"
   },
   {
    "duration": 18,
    "start_time": "2021-09-14T01:09:06.247Z"
   },
   {
    "duration": 9,
    "start_time": "2021-09-14T01:12:46.388Z"
   },
   {
    "duration": 7,
    "start_time": "2021-09-14T01:12:51.257Z"
   },
   {
    "duration": 17,
    "start_time": "2021-09-14T01:12:56.936Z"
   },
   {
    "duration": 5,
    "start_time": "2021-09-14T01:15:17.013Z"
   },
   {
    "duration": 9,
    "start_time": "2021-09-14T01:15:19.733Z"
   },
   {
    "duration": 8,
    "start_time": "2021-09-14T01:15:37.006Z"
   },
   {
    "duration": 8,
    "start_time": "2021-09-14T01:15:38.835Z"
   },
   {
    "duration": 8,
    "start_time": "2021-09-14T01:16:04.995Z"
   },
   {
    "duration": 10,
    "start_time": "2021-09-14T01:16:08.707Z"
   },
   {
    "duration": 7,
    "start_time": "2021-09-14T01:16:16.184Z"
   },
   {
    "duration": 14,
    "start_time": "2021-09-14T01:16:23.047Z"
   },
   {
    "duration": 1717,
    "start_time": "2021-09-14T01:16:46.729Z"
   },
   {
    "duration": 282,
    "start_time": "2021-09-14T01:16:48.449Z"
   },
   {
    "duration": 30,
    "start_time": "2021-09-14T01:16:48.735Z"
   },
   {
    "duration": 17,
    "start_time": "2021-09-14T01:16:48.769Z"
   },
   {
    "duration": 79,
    "start_time": "2021-09-14T01:16:48.818Z"
   },
   {
    "duration": 19,
    "start_time": "2021-09-14T01:16:48.900Z"
   },
   {
    "duration": 17,
    "start_time": "2021-09-14T01:16:48.922Z"
   },
   {
    "duration": 20,
    "start_time": "2021-09-14T01:16:48.944Z"
   },
   {
    "duration": 49,
    "start_time": "2021-09-14T01:16:48.967Z"
   },
   {
    "duration": 20,
    "start_time": "2021-09-14T01:16:49.019Z"
   },
   {
    "duration": 11,
    "start_time": "2021-09-14T01:16:49.041Z"
   },
   {
    "duration": 7,
    "start_time": "2021-09-14T01:16:49.055Z"
   },
   {
    "duration": 10,
    "start_time": "2021-09-14T01:16:49.065Z"
   },
   {
    "duration": 39,
    "start_time": "2021-09-14T01:16:49.078Z"
   },
   {
    "duration": 8,
    "start_time": "2021-09-14T01:16:49.120Z"
   },
   {
    "duration": 13,
    "start_time": "2021-09-14T01:16:49.130Z"
   },
   {
    "duration": 12,
    "start_time": "2021-09-14T01:16:49.146Z"
   },
   {
    "duration": 9,
    "start_time": "2021-09-14T01:16:49.160Z"
   },
   {
    "duration": 49,
    "start_time": "2021-09-14T01:16:49.171Z"
   },
   {
    "duration": 6,
    "start_time": "2021-09-14T01:16:49.222Z"
   },
   {
    "duration": 11,
    "start_time": "2021-09-14T01:16:49.230Z"
   },
   {
    "duration": 11,
    "start_time": "2021-09-14T01:16:49.244Z"
   },
   {
    "duration": 11,
    "start_time": "2021-09-14T01:16:49.261Z"
   },
   {
    "duration": 42,
    "start_time": "2021-09-14T01:16:49.276Z"
   },
   {
    "duration": 22,
    "start_time": "2021-09-14T01:16:49.320Z"
   },
   {
    "duration": 120,
    "start_time": "2021-09-14T01:16:49.345Z"
   },
   {
    "duration": -1646,
    "start_time": "2021-09-14T01:16:51.115Z"
   },
   {
    "duration": -1654,
    "start_time": "2021-09-14T01:16:51.125Z"
   },
   {
    "duration": -1678,
    "start_time": "2021-09-14T01:16:51.151Z"
   },
   {
    "duration": -1686,
    "start_time": "2021-09-14T01:16:51.162Z"
   },
   {
    "duration": -1690,
    "start_time": "2021-09-14T01:16:51.168Z"
   },
   {
    "duration": -1721,
    "start_time": "2021-09-14T01:16:51.202Z"
   },
   {
    "duration": -1724,
    "start_time": "2021-09-14T01:16:51.207Z"
   },
   {
    "duration": -1751,
    "start_time": "2021-09-14T01:16:51.236Z"
   },
   {
    "duration": -1754,
    "start_time": "2021-09-14T01:16:51.242Z"
   },
   {
    "duration": -1783,
    "start_time": "2021-09-14T01:16:51.273Z"
   },
   {
    "duration": -1789,
    "start_time": "2021-09-14T01:16:51.281Z"
   },
   {
    "duration": -1794,
    "start_time": "2021-09-14T01:16:51.288Z"
   },
   {
    "duration": -1819,
    "start_time": "2021-09-14T01:16:51.316Z"
   },
   {
    "duration": -1823,
    "start_time": "2021-09-14T01:16:51.322Z"
   },
   {
    "duration": -1842,
    "start_time": "2021-09-14T01:16:51.343Z"
   },
   {
    "duration": -1847,
    "start_time": "2021-09-14T01:16:51.351Z"
   },
   {
    "duration": -2477,
    "start_time": "2021-09-14T01:16:51.992Z"
   },
   {
    "duration": -2490,
    "start_time": "2021-09-14T01:16:52.007Z"
   },
   {
    "duration": -2508,
    "start_time": "2021-09-14T01:16:52.028Z"
   },
   {
    "duration": -2512,
    "start_time": "2021-09-14T01:16:52.034Z"
   },
   {
    "duration": -2518,
    "start_time": "2021-09-14T01:16:52.042Z"
   },
   {
    "duration": -2530,
    "start_time": "2021-09-14T01:16:52.057Z"
   },
   {
    "duration": -2533,
    "start_time": "2021-09-14T01:16:52.062Z"
   },
   {
    "duration": -2540,
    "start_time": "2021-09-14T01:16:52.071Z"
   },
   {
    "duration": -2555,
    "start_time": "2021-09-14T01:16:52.088Z"
   },
   {
    "duration": -2560,
    "start_time": "2021-09-14T01:16:52.096Z"
   },
   {
    "duration": -2568,
    "start_time": "2021-09-14T01:16:52.106Z"
   },
   {
    "duration": -2574,
    "start_time": "2021-09-14T01:16:52.115Z"
   },
   {
    "duration": -2588,
    "start_time": "2021-09-14T01:16:52.131Z"
   },
   {
    "duration": -2593,
    "start_time": "2021-09-14T01:16:52.138Z"
   },
   {
    "duration": -2598,
    "start_time": "2021-09-14T01:16:52.146Z"
   },
   {
    "duration": -2611,
    "start_time": "2021-09-14T01:16:52.161Z"
   },
   {
    "duration": -2664,
    "start_time": "2021-09-14T01:16:52.216Z"
   },
   {
    "duration": -2673,
    "start_time": "2021-09-14T01:16:52.226Z"
   },
   {
    "duration": -2631,
    "start_time": "2021-09-14T01:16:52.247Z"
   },
   {
    "duration": -2646,
    "start_time": "2021-09-14T01:16:52.264Z"
   },
   {
    "duration": -2682,
    "start_time": "2021-09-14T01:16:52.303Z"
   },
   {
    "duration": -2687,
    "start_time": "2021-09-14T01:16:52.310Z"
   },
   {
    "duration": -2698,
    "start_time": "2021-09-14T01:16:52.323Z"
   },
   {
    "duration": -2703,
    "start_time": "2021-09-14T01:16:52.330Z"
   },
   {
    "duration": -2707,
    "start_time": "2021-09-14T01:16:52.337Z"
   },
   {
    "duration": -2711,
    "start_time": "2021-09-14T01:16:52.343Z"
   },
   {
    "duration": -2714,
    "start_time": "2021-09-14T01:16:52.348Z"
   },
   {
    "duration": -2718,
    "start_time": "2021-09-14T01:16:52.354Z"
   },
   {
    "duration": -2721,
    "start_time": "2021-09-14T01:16:52.360Z"
   },
   {
    "duration": -2729,
    "start_time": "2021-09-14T01:16:52.370Z"
   },
   {
    "duration": -2733,
    "start_time": "2021-09-14T01:16:52.376Z"
   },
   {
    "duration": -2764,
    "start_time": "2021-09-14T01:16:52.409Z"
   },
   {
    "duration": -2772,
    "start_time": "2021-09-14T01:16:52.419Z"
   },
   {
    "duration": 4,
    "start_time": "2021-09-14T01:16:55.773Z"
   },
   {
    "duration": 6,
    "start_time": "2021-09-14T01:16:59.902Z"
   },
   {
    "duration": 16,
    "start_time": "2021-09-14T01:17:01.509Z"
   },
   {
    "duration": 5,
    "start_time": "2021-09-14T01:17:07.142Z"
   },
   {
    "duration": 8,
    "start_time": "2021-09-14T01:17:09.058Z"
   },
   {
    "duration": 8,
    "start_time": "2021-09-14T01:17:10.388Z"
   },
   {
    "duration": 8,
    "start_time": "2021-09-14T01:17:12.158Z"
   },
   {
    "duration": 14,
    "start_time": "2021-09-14T01:17:14.780Z"
   },
   {
    "duration": 8,
    "start_time": "2021-09-14T01:17:19.518Z"
   },
   {
    "duration": 7,
    "start_time": "2021-09-14T01:17:35.989Z"
   },
   {
    "duration": 8,
    "start_time": "2021-09-14T01:17:39.871Z"
   },
   {
    "duration": 5,
    "start_time": "2021-09-14T01:17:42.249Z"
   },
   {
    "duration": 17,
    "start_time": "2021-09-14T01:17:45.537Z"
   },
   {
    "duration": 5,
    "start_time": "2021-09-14T01:17:50.586Z"
   },
   {
    "duration": 8,
    "start_time": "2021-09-14T01:17:53.849Z"
   },
   {
    "duration": 9,
    "start_time": "2021-09-14T01:17:55.393Z"
   },
   {
    "duration": 14,
    "start_time": "2021-09-14T01:17:59.302Z"
   },
   {
    "duration": 195,
    "start_time": "2021-09-14T01:18:35.867Z"
   },
   {
    "duration": 8,
    "start_time": "2021-09-14T01:19:07.952Z"
   },
   {
    "duration": 7,
    "start_time": "2021-09-14T01:19:12.403Z"
   },
   {
    "duration": 13,
    "start_time": "2021-09-14T01:19:48.103Z"
   },
   {
    "duration": 13,
    "start_time": "2021-09-14T01:19:49.755Z"
   },
   {
    "duration": 6,
    "start_time": "2021-09-14T01:19:51.942Z"
   },
   {
    "duration": 198,
    "start_time": "2021-09-14T01:19:53.825Z"
   },
   {
    "duration": 417,
    "start_time": "2021-09-14T01:19:57.842Z"
   },
   {
    "duration": 10,
    "start_time": "2021-09-14T01:20:02.488Z"
   },
   {
    "duration": 8,
    "start_time": "2021-09-14T01:20:05.904Z"
   },
   {
    "duration": 9,
    "start_time": "2021-09-14T01:20:09.658Z"
   },
   {
    "duration": 10,
    "start_time": "2021-09-14T01:20:11.165Z"
   },
   {
    "duration": 10,
    "start_time": "2021-09-14T01:20:12.649Z"
   },
   {
    "duration": 10,
    "start_time": "2021-09-14T01:20:14.282Z"
   },
   {
    "duration": 8,
    "start_time": "2021-09-14T01:20:16.251Z"
   },
   {
    "duration": 9,
    "start_time": "2021-09-14T01:20:17.982Z"
   },
   {
    "duration": 9,
    "start_time": "2021-09-14T01:20:19.902Z"
   },
   {
    "duration": 9,
    "start_time": "2021-09-14T01:20:22.185Z"
   },
   {
    "duration": 255,
    "start_time": "2021-09-14T01:20:27.746Z"
   },
   {
    "duration": 1802,
    "start_time": "2021-09-14T01:21:56.134Z"
   },
   {
    "duration": 289,
    "start_time": "2021-09-14T01:21:57.939Z"
   },
   {
    "duration": 25,
    "start_time": "2021-09-14T01:21:58.231Z"
   },
   {
    "duration": 16,
    "start_time": "2021-09-14T01:21:58.259Z"
   },
   {
    "duration": 98,
    "start_time": "2021-09-14T01:21:58.278Z"
   },
   {
    "duration": 5,
    "start_time": "2021-09-14T01:21:58.379Z"
   },
   {
    "duration": 31,
    "start_time": "2021-09-14T01:21:58.387Z"
   },
   {
    "duration": 20,
    "start_time": "2021-09-14T01:21:58.421Z"
   },
   {
    "duration": 6,
    "start_time": "2021-09-14T01:21:58.444Z"
   },
   {
    "duration": 18,
    "start_time": "2021-09-14T01:21:58.452Z"
   },
   {
    "duration": 45,
    "start_time": "2021-09-14T01:21:58.473Z"
   },
   {
    "duration": 8,
    "start_time": "2021-09-14T01:21:58.521Z"
   },
   {
    "duration": 12,
    "start_time": "2021-09-14T01:21:58.532Z"
   },
   {
    "duration": 6,
    "start_time": "2021-09-14T01:21:58.547Z"
   },
   {
    "duration": 7,
    "start_time": "2021-09-14T01:21:58.556Z"
   },
   {
    "duration": 52,
    "start_time": "2021-09-14T01:21:58.566Z"
   },
   {
    "duration": 8,
    "start_time": "2021-09-14T01:21:58.620Z"
   },
   {
    "duration": 8,
    "start_time": "2021-09-14T01:21:58.630Z"
   },
   {
    "duration": 7,
    "start_time": "2021-09-14T01:21:58.640Z"
   },
   {
    "duration": 5,
    "start_time": "2021-09-14T01:21:58.650Z"
   },
   {
    "duration": 8,
    "start_time": "2021-09-14T01:21:58.658Z"
   },
   {
    "duration": 54,
    "start_time": "2021-09-14T01:21:58.669Z"
   },
   {
    "duration": 11,
    "start_time": "2021-09-14T01:21:58.729Z"
   },
   {
    "duration": 5,
    "start_time": "2021-09-14T01:21:58.744Z"
   },
   {
    "duration": 17,
    "start_time": "2021-09-14T01:21:58.752Z"
   },
   {
    "duration": 4,
    "start_time": "2021-09-14T01:21:58.771Z"
   },
   {
    "duration": 7,
    "start_time": "2021-09-14T01:21:58.817Z"
   },
   {
    "duration": 8,
    "start_time": "2021-09-14T01:21:58.827Z"
   },
   {
    "duration": 8,
    "start_time": "2021-09-14T01:21:58.837Z"
   },
   {
    "duration": 20,
    "start_time": "2021-09-14T01:21:58.848Z"
   },
   {
    "duration": 48,
    "start_time": "2021-09-14T01:21:58.871Z"
   },
   {
    "duration": 13,
    "start_time": "2021-09-14T01:21:58.921Z"
   },
   {
    "duration": 10,
    "start_time": "2021-09-14T01:21:58.936Z"
   },
   {
    "duration": 8,
    "start_time": "2021-09-14T01:21:58.948Z"
   },
   {
    "duration": 13,
    "start_time": "2021-09-14T01:21:58.958Z"
   },
   {
    "duration": 43,
    "start_time": "2021-09-14T01:21:58.974Z"
   },
   {
    "duration": 11,
    "start_time": "2021-09-14T01:21:59.020Z"
   },
   {
    "duration": 4,
    "start_time": "2021-09-14T01:21:59.034Z"
   },
   {
    "duration": 238,
    "start_time": "2021-09-14T01:21:59.040Z"
   },
   {
    "duration": 435,
    "start_time": "2021-09-14T01:21:59.281Z"
   },
   {
    "duration": 9,
    "start_time": "2021-09-14T01:21:59.719Z"
   },
   {
    "duration": 9,
    "start_time": "2021-09-14T01:21:59.731Z"
   },
   {
    "duration": 9,
    "start_time": "2021-09-14T01:21:59.742Z"
   },
   {
    "duration": 9,
    "start_time": "2021-09-14T01:21:59.753Z"
   },
   {
    "duration": 58,
    "start_time": "2021-09-14T01:21:59.764Z"
   },
   {
    "duration": 8,
    "start_time": "2021-09-14T01:21:59.825Z"
   },
   {
    "duration": 9,
    "start_time": "2021-09-14T01:21:59.835Z"
   },
   {
    "duration": 106,
    "start_time": "2021-09-14T01:21:59.846Z"
   },
   {
    "duration": 9,
    "start_time": "2021-09-14T01:21:59.955Z"
   },
   {
    "duration": 7,
    "start_time": "2021-09-14T01:21:59.967Z"
   },
   {
    "duration": 271,
    "start_time": "2021-09-14T01:21:59.977Z"
   },
   {
    "duration": 17,
    "start_time": "2021-09-14T01:22:00.250Z"
   },
   {
    "duration": 239,
    "start_time": "2021-09-14T01:22:00.270Z"
   },
   {
    "duration": 17,
    "start_time": "2021-09-14T01:22:00.516Z"
   },
   {
    "duration": 9,
    "start_time": "2021-09-14T01:22:00.536Z"
   },
   {
    "duration": 27,
    "start_time": "2021-09-14T01:22:00.548Z"
   },
   {
    "duration": 42,
    "start_time": "2021-09-14T01:22:00.577Z"
   },
   {
    "duration": 22,
    "start_time": "2021-09-14T01:22:00.621Z"
   },
   {
    "duration": 23,
    "start_time": "2021-09-14T01:22:00.645Z"
   },
   {
    "duration": 19,
    "start_time": "2021-09-14T01:22:00.670Z"
   },
   {
    "duration": 42,
    "start_time": "2021-09-14T01:22:00.692Z"
   },
   {
    "duration": 47,
    "start_time": "2021-09-14T01:22:00.736Z"
   },
   {
    "duration": 32,
    "start_time": "2021-09-14T01:22:00.786Z"
   },
   {
    "duration": 31679,
    "start_time": "2021-09-14T01:22:00.821Z"
   },
   {
    "duration": 16,
    "start_time": "2021-09-14T01:22:32.502Z"
   },
   {
    "duration": 646,
    "start_time": "2021-09-14T01:22:32.520Z"
   },
   {
    "duration": -351,
    "start_time": "2021-09-14T01:22:33.521Z"
   },
   {
    "duration": -355,
    "start_time": "2021-09-14T01:22:33.526Z"
   },
   {
    "duration": -359,
    "start_time": "2021-09-14T01:22:33.531Z"
   },
   {
    "duration": -365,
    "start_time": "2021-09-14T01:22:33.539Z"
   },
   {
    "duration": -369,
    "start_time": "2021-09-14T01:22:33.544Z"
   },
   {
    "duration": -373,
    "start_time": "2021-09-14T01:22:33.549Z"
   },
   {
    "duration": -376,
    "start_time": "2021-09-14T01:22:33.554Z"
   },
   {
    "duration": -379,
    "start_time": "2021-09-14T01:22:33.559Z"
   },
   {
    "duration": -525,
    "start_time": "2021-09-14T01:22:33.707Z"
   },
   {
    "duration": -535,
    "start_time": "2021-09-14T01:22:33.718Z"
   },
   {
    "duration": 19,
    "start_time": "2021-09-14T01:25:33.129Z"
   },
   {
    "duration": 270,
    "start_time": "2021-09-14T01:26:43.217Z"
   },
   {
    "duration": 260,
    "start_time": "2021-09-14T01:27:00.289Z"
   },
   {
    "duration": 261,
    "start_time": "2021-09-14T01:27:23.254Z"
   },
   {
    "duration": 266,
    "start_time": "2021-09-14T01:27:40.694Z"
   },
   {
    "duration": 23,
    "start_time": "2021-09-14T01:27:57.976Z"
   },
   {
    "duration": 20,
    "start_time": "2021-09-14T03:09:14.332Z"
   },
   {
    "duration": 19,
    "start_time": "2021-09-14T03:09:20.171Z"
   },
   {
    "duration": 20,
    "start_time": "2021-09-14T03:09:22.219Z"
   },
   {
    "duration": 113,
    "start_time": "2021-09-14T03:09:24.721Z"
   },
   {
    "duration": 20,
    "start_time": "2021-09-14T03:09:26.907Z"
   },
   {
    "duration": 304,
    "start_time": "2021-09-14T03:09:41.612Z"
   },
   {
    "duration": 28,
    "start_time": "2021-09-14T03:18:26.733Z"
   },
   {
    "duration": 753,
    "start_time": "2021-09-14T03:18:38.445Z"
   },
   {
    "duration": 11,
    "start_time": "2021-09-14T03:42:51.719Z"
   },
   {
    "duration": 6,
    "start_time": "2021-09-14T03:43:32.664Z"
   },
   {
    "duration": 7,
    "start_time": "2021-09-14T03:55:05.129Z"
   },
   {
    "duration": 7,
    "start_time": "2021-09-14T03:55:18.299Z"
   },
   {
    "duration": 6,
    "start_time": "2021-09-14T03:55:27.982Z"
   },
   {
    "duration": 5,
    "start_time": "2021-09-14T03:55:32.073Z"
   },
   {
    "duration": 5,
    "start_time": "2021-09-14T03:55:36.218Z"
   },
   {
    "duration": 11,
    "start_time": "2021-09-14T03:59:33.103Z"
   },
   {
    "duration": 12,
    "start_time": "2021-09-14T03:59:53.267Z"
   },
   {
    "duration": 11,
    "start_time": "2021-09-14T04:00:24.919Z"
   },
   {
    "duration": 134,
    "start_time": "2021-09-14T04:03:56.562Z"
   },
   {
    "duration": 1853,
    "start_time": "2021-09-14T04:04:00.157Z"
   },
   {
    "duration": 373,
    "start_time": "2021-09-14T04:17:12.946Z"
   },
   {
    "duration": 28,
    "start_time": "2021-09-14T04:17:19.116Z"
   },
   {
    "duration": 374,
    "start_time": "2021-09-14T04:17:39.639Z"
   },
   {
    "duration": 3,
    "start_time": "2021-09-14T04:28:06.294Z"
   },
   {
    "duration": 49665,
    "start_time": "2021-09-14T04:30:51.365Z"
   },
   {
    "duration": -948,
    "start_time": "2021-09-14T04:31:41.981Z"
   },
   {
    "duration": 19,
    "start_time": "2021-09-14T04:31:44.934Z"
   },
   {
    "duration": 19,
    "start_time": "2021-09-14T04:41:59.316Z"
   },
   {
    "duration": 35,
    "start_time": "2021-09-14T04:43:25.452Z"
   },
   {
    "duration": 647,
    "start_time": "2021-09-14T04:43:49.544Z"
   },
   {
    "duration": 708,
    "start_time": "2021-09-14T04:43:52.169Z"
   },
   {
    "duration": 594,
    "start_time": "2021-09-14T04:43:58.914Z"
   },
   {
    "duration": 594,
    "start_time": "2021-09-14T04:44:07.905Z"
   },
   {
    "duration": 624,
    "start_time": "2021-09-14T04:44:53.887Z"
   },
   {
    "duration": 980,
    "start_time": "2021-09-14T04:45:33.774Z"
   },
   {
    "duration": 754,
    "start_time": "2021-09-14T04:45:40.767Z"
   },
   {
    "duration": 614,
    "start_time": "2021-09-14T04:45:58.997Z"
   },
   {
    "duration": 601,
    "start_time": "2021-09-14T04:46:08.028Z"
   },
   {
    "duration": 732,
    "start_time": "2021-09-14T04:46:10.728Z"
   },
   {
    "duration": 9129,
    "start_time": "2021-09-14T04:46:42.533Z"
   },
   {
    "duration": 656,
    "start_time": "2021-09-14T04:47:39.145Z"
   },
   {
    "duration": 20,
    "start_time": "2021-09-14T04:47:45.140Z"
   },
   {
    "duration": 20,
    "start_time": "2021-09-14T04:47:49.073Z"
   },
   {
    "duration": 624,
    "start_time": "2021-09-14T04:48:05.225Z"
   },
   {
    "duration": 625,
    "start_time": "2021-09-14T04:48:14.151Z"
   },
   {
    "duration": 761,
    "start_time": "2021-09-14T04:48:35.007Z"
   },
   {
    "duration": 20,
    "start_time": "2021-09-14T04:48:43.536Z"
   },
   {
    "duration": 1637,
    "start_time": "2021-09-14T04:51:36.026Z"
   },
   {
    "duration": 296,
    "start_time": "2021-09-14T04:51:37.665Z"
   },
   {
    "duration": 27,
    "start_time": "2021-09-14T04:51:37.964Z"
   },
   {
    "duration": 29,
    "start_time": "2021-09-14T04:51:37.994Z"
   },
   {
    "duration": 90,
    "start_time": "2021-09-14T04:51:38.026Z"
   },
   {
    "duration": 5,
    "start_time": "2021-09-14T04:51:38.119Z"
   },
   {
    "duration": 16,
    "start_time": "2021-09-14T04:51:38.127Z"
   },
   {
    "duration": 22,
    "start_time": "2021-09-14T04:51:38.146Z"
   },
   {
    "duration": 6,
    "start_time": "2021-09-14T04:51:38.172Z"
   },
   {
    "duration": 18,
    "start_time": "2021-09-14T04:51:38.218Z"
   },
   {
    "duration": 13,
    "start_time": "2021-09-14T04:51:38.239Z"
   },
   {
    "duration": 8,
    "start_time": "2021-09-14T04:51:38.254Z"
   },
   {
    "duration": 10,
    "start_time": "2021-09-14T04:51:38.265Z"
   },
   {
    "duration": 7,
    "start_time": "2021-09-14T04:51:38.317Z"
   },
   {
    "duration": 12,
    "start_time": "2021-09-14T04:51:38.326Z"
   },
   {
    "duration": 7,
    "start_time": "2021-09-14T04:51:38.340Z"
   },
   {
    "duration": 10,
    "start_time": "2021-09-14T04:51:38.349Z"
   },
   {
    "duration": 7,
    "start_time": "2021-09-14T04:51:38.361Z"
   },
   {
    "duration": 53,
    "start_time": "2021-09-14T04:51:38.371Z"
   },
   {
    "duration": 7,
    "start_time": "2021-09-14T04:51:38.427Z"
   },
   {
    "duration": 7,
    "start_time": "2021-09-14T04:51:38.436Z"
   },
   {
    "duration": 9,
    "start_time": "2021-09-14T04:51:38.446Z"
   },
   {
    "duration": 11,
    "start_time": "2021-09-14T04:51:38.457Z"
   },
   {
    "duration": 7,
    "start_time": "2021-09-14T04:51:38.517Z"
   },
   {
    "duration": 18,
    "start_time": "2021-09-14T04:51:38.526Z"
   },
   {
    "duration": 4,
    "start_time": "2021-09-14T04:51:38.546Z"
   },
   {
    "duration": 8,
    "start_time": "2021-09-14T04:51:38.557Z"
   },
   {
    "duration": 47,
    "start_time": "2021-09-14T04:51:38.569Z"
   },
   {
    "duration": 12,
    "start_time": "2021-09-14T04:51:38.619Z"
   },
   {
    "duration": 13,
    "start_time": "2021-09-14T04:51:38.633Z"
   },
   {
    "duration": 16,
    "start_time": "2021-09-14T04:51:38.649Z"
   },
   {
    "duration": 6,
    "start_time": "2021-09-14T04:51:38.667Z"
   },
   {
    "duration": 46,
    "start_time": "2021-09-14T04:51:38.675Z"
   },
   {
    "duration": 8,
    "start_time": "2021-09-14T04:51:38.724Z"
   },
   {
    "duration": 8,
    "start_time": "2021-09-14T04:51:38.735Z"
   },
   {
    "duration": 15,
    "start_time": "2021-09-14T04:51:38.745Z"
   },
   {
    "duration": 12,
    "start_time": "2021-09-14T04:51:38.763Z"
   },
   {
    "duration": 13,
    "start_time": "2021-09-14T04:51:38.817Z"
   },
   {
    "duration": 5,
    "start_time": "2021-09-14T04:51:38.832Z"
   },
   {
    "duration": 238,
    "start_time": "2021-09-14T04:51:38.839Z"
   },
   {
    "duration": 419,
    "start_time": "2021-09-14T04:51:39.080Z"
   },
   {
    "duration": 17,
    "start_time": "2021-09-14T04:51:39.501Z"
   },
   {
    "duration": 9,
    "start_time": "2021-09-14T04:51:39.521Z"
   },
   {
    "duration": 13,
    "start_time": "2021-09-14T04:51:39.532Z"
   },
   {
    "duration": 10,
    "start_time": "2021-09-14T04:51:39.548Z"
   },
   {
    "duration": 9,
    "start_time": "2021-09-14T04:51:39.560Z"
   },
   {
    "duration": 10,
    "start_time": "2021-09-14T04:51:39.617Z"
   },
   {
    "duration": 9,
    "start_time": "2021-09-14T04:51:39.630Z"
   },
   {
    "duration": 104,
    "start_time": "2021-09-14T04:51:39.642Z"
   },
   {
    "duration": 16,
    "start_time": "2021-09-14T04:51:39.748Z"
   },
   {
    "duration": 11,
    "start_time": "2021-09-14T04:51:39.767Z"
   },
   {
    "duration": 244,
    "start_time": "2021-09-14T04:51:39.781Z"
   },
   {
    "duration": 16,
    "start_time": "2021-09-14T04:51:40.028Z"
   },
   {
    "duration": 231,
    "start_time": "2021-09-14T04:51:40.046Z"
   },
   {
    "duration": 18,
    "start_time": "2021-09-14T04:51:40.280Z"
   },
   {
    "duration": 18,
    "start_time": "2021-09-14T04:51:40.300Z"
   },
   {
    "duration": 17,
    "start_time": "2021-09-14T04:51:40.320Z"
   },
   {
    "duration": 20,
    "start_time": "2021-09-14T04:51:40.339Z"
   },
   {
    "duration": 21,
    "start_time": "2021-09-14T04:51:40.361Z"
   },
   {
    "duration": 51,
    "start_time": "2021-09-14T04:51:40.384Z"
   },
   {
    "duration": 8,
    "start_time": "2021-09-14T04:51:40.438Z"
   },
   {
    "duration": 25,
    "start_time": "2021-09-14T04:51:40.448Z"
   },
   {
    "duration": 78,
    "start_time": "2021-09-14T04:51:40.475Z"
   },
   {
    "duration": 11,
    "start_time": "2021-09-14T04:51:40.555Z"
   },
   {
    "duration": 50,
    "start_time": "2021-09-14T04:51:40.568Z"
   },
   {
    "duration": 19,
    "start_time": "2021-09-14T04:51:40.620Z"
   },
   {
    "duration": 18,
    "start_time": "2021-09-14T04:51:40.641Z"
   },
   {
    "duration": 30159,
    "start_time": "2021-09-14T04:51:40.662Z"
   },
   {
    "duration": 9,
    "start_time": "2021-09-14T04:52:10.824Z"
   },
   {
    "duration": 22,
    "start_time": "2021-09-14T04:52:10.835Z"
   },
   {
    "duration": 293,
    "start_time": "2021-09-14T04:52:10.859Z"
   },
   {
    "duration": 20,
    "start_time": "2021-09-14T04:52:11.154Z"
   },
   {
    "duration": 42,
    "start_time": "2021-09-14T04:52:11.177Z"
   },
   {
    "duration": 306,
    "start_time": "2021-09-14T04:52:11.221Z"
   },
   {
    "duration": 18,
    "start_time": "2021-09-14T04:52:11.529Z"
   },
   {
    "duration": 22,
    "start_time": "2021-09-14T04:52:11.549Z"
   },
   {
    "duration": 514,
    "start_time": "2021-09-14T04:52:11.574Z"
   },
   {
    "duration": -519,
    "start_time": "2021-09-14T04:52:12.610Z"
   },
   {
    "duration": -527,
    "start_time": "2021-09-14T04:52:12.619Z"
   },
   {
    "duration": -532,
    "start_time": "2021-09-14T04:52:12.625Z"
   },
   {
    "duration": -534,
    "start_time": "2021-09-14T04:52:12.629Z"
   },
   {
    "duration": 611,
    "start_time": "2021-09-14T04:52:14.711Z"
   },
   {
    "duration": 1645,
    "start_time": "2021-09-14T04:52:27.204Z"
   },
   {
    "duration": 311,
    "start_time": "2021-09-14T04:52:28.852Z"
   },
   {
    "duration": 26,
    "start_time": "2021-09-14T04:52:29.166Z"
   },
   {
    "duration": 27,
    "start_time": "2021-09-14T04:52:29.195Z"
   },
   {
    "duration": 76,
    "start_time": "2021-09-14T04:52:29.225Z"
   },
   {
    "duration": 5,
    "start_time": "2021-09-14T04:52:29.316Z"
   },
   {
    "duration": 16,
    "start_time": "2021-09-14T04:52:29.324Z"
   },
   {
    "duration": 20,
    "start_time": "2021-09-14T04:52:29.343Z"
   },
   {
    "duration": 6,
    "start_time": "2021-09-14T04:52:29.368Z"
   },
   {
    "duration": 54,
    "start_time": "2021-09-14T04:52:29.377Z"
   },
   {
    "duration": 12,
    "start_time": "2021-09-14T04:52:29.434Z"
   },
   {
    "duration": 20,
    "start_time": "2021-09-14T04:52:29.449Z"
   },
   {
    "duration": 12,
    "start_time": "2021-09-14T04:52:29.472Z"
   },
   {
    "duration": 35,
    "start_time": "2021-09-14T04:52:29.486Z"
   },
   {
    "duration": 9,
    "start_time": "2021-09-14T04:52:29.524Z"
   },
   {
    "duration": 12,
    "start_time": "2021-09-14T04:52:29.536Z"
   },
   {
    "duration": 10,
    "start_time": "2021-09-14T04:52:29.551Z"
   },
   {
    "duration": 53,
    "start_time": "2021-09-14T04:52:29.565Z"
   },
   {
    "duration": 16,
    "start_time": "2021-09-14T04:52:29.620Z"
   },
   {
    "duration": 9,
    "start_time": "2021-09-14T04:52:29.639Z"
   },
   {
    "duration": 10,
    "start_time": "2021-09-14T04:52:29.651Z"
   },
   {
    "duration": 10,
    "start_time": "2021-09-14T04:52:29.664Z"
   },
   {
    "duration": 48,
    "start_time": "2021-09-14T04:52:29.677Z"
   },
   {
    "duration": 6,
    "start_time": "2021-09-14T04:52:29.728Z"
   },
   {
    "duration": 20,
    "start_time": "2021-09-14T04:52:29.737Z"
   },
   {
    "duration": 4,
    "start_time": "2021-09-14T04:52:29.760Z"
   },
   {
    "duration": 47,
    "start_time": "2021-09-14T04:52:29.771Z"
   },
   {
    "duration": 8,
    "start_time": "2021-09-14T04:52:29.823Z"
   },
   {
    "duration": 6,
    "start_time": "2021-09-14T04:52:29.833Z"
   },
   {
    "duration": 19,
    "start_time": "2021-09-14T04:52:29.842Z"
   },
   {
    "duration": 18,
    "start_time": "2021-09-14T04:52:29.864Z"
   },
   {
    "duration": 5,
    "start_time": "2021-09-14T04:52:29.917Z"
   },
   {
    "duration": 13,
    "start_time": "2021-09-14T04:52:29.924Z"
   },
   {
    "duration": 8,
    "start_time": "2021-09-14T04:52:29.940Z"
   },
   {
    "duration": 9,
    "start_time": "2021-09-14T04:52:29.951Z"
   },
   {
    "duration": 15,
    "start_time": "2021-09-14T04:52:29.962Z"
   },
   {
    "duration": 13,
    "start_time": "2021-09-14T04:52:30.018Z"
   },
   {
    "duration": 26,
    "start_time": "2021-09-14T04:52:30.034Z"
   },
   {
    "duration": 10,
    "start_time": "2021-09-14T04:52:30.063Z"
   },
   {
    "duration": 245,
    "start_time": "2021-09-14T04:52:30.076Z"
   },
   {
    "duration": 448,
    "start_time": "2021-09-14T04:52:30.324Z"
   },
   {
    "duration": 8,
    "start_time": "2021-09-14T04:52:30.775Z"
   },
   {
    "duration": 30,
    "start_time": "2021-09-14T04:52:30.786Z"
   },
   {
    "duration": 9,
    "start_time": "2021-09-14T04:52:30.819Z"
   },
   {
    "duration": 23,
    "start_time": "2021-09-14T04:52:30.830Z"
   },
   {
    "duration": 23,
    "start_time": "2021-09-14T04:52:30.856Z"
   },
   {
    "duration": 22,
    "start_time": "2021-09-14T04:52:30.881Z"
   },
   {
    "duration": 13,
    "start_time": "2021-09-14T04:52:30.905Z"
   },
   {
    "duration": 21,
    "start_time": "2021-09-14T04:52:30.921Z"
   },
   {
    "duration": 104,
    "start_time": "2021-09-14T04:52:30.945Z"
   },
   {
    "duration": 19,
    "start_time": "2021-09-14T04:52:31.052Z"
   },
   {
    "duration": 216,
    "start_time": "2021-09-14T04:52:31.073Z"
   },
   {
    "duration": 28,
    "start_time": "2021-09-14T04:52:31.291Z"
   },
   {
    "duration": 220,
    "start_time": "2021-09-14T04:52:31.321Z"
   },
   {
    "duration": 18,
    "start_time": "2021-09-14T04:52:31.543Z"
   },
   {
    "duration": 7,
    "start_time": "2021-09-14T04:52:31.564Z"
   },
   {
    "duration": 20,
    "start_time": "2021-09-14T04:52:31.573Z"
   },
   {
    "duration": 21,
    "start_time": "2021-09-14T04:52:31.617Z"
   },
   {
    "duration": 21,
    "start_time": "2021-09-14T04:52:31.640Z"
   },
   {
    "duration": 53,
    "start_time": "2021-09-14T04:52:31.664Z"
   },
   {
    "duration": 8,
    "start_time": "2021-09-14T04:52:31.720Z"
   },
   {
    "duration": 32,
    "start_time": "2021-09-14T04:52:31.731Z"
   },
   {
    "duration": 65,
    "start_time": "2021-09-14T04:52:31.765Z"
   },
   {
    "duration": 11,
    "start_time": "2021-09-14T04:52:31.832Z"
   },
   {
    "duration": 30,
    "start_time": "2021-09-14T04:52:31.846Z"
   },
   {
    "duration": 49,
    "start_time": "2021-09-14T04:52:31.878Z"
   },
   {
    "duration": 14,
    "start_time": "2021-09-14T04:52:31.930Z"
   },
   {
    "duration": 31080,
    "start_time": "2021-09-14T04:52:31.946Z"
   },
   {
    "duration": 9,
    "start_time": "2021-09-14T04:53:03.028Z"
   },
   {
    "duration": 34,
    "start_time": "2021-09-14T04:53:03.039Z"
   },
   {
    "duration": 276,
    "start_time": "2021-09-14T04:53:03.075Z"
   },
   {
    "duration": 21,
    "start_time": "2021-09-14T04:53:03.353Z"
   },
   {
    "duration": 41,
    "start_time": "2021-09-14T04:53:03.376Z"
   },
   {
    "duration": 300,
    "start_time": "2021-09-14T04:53:03.420Z"
   },
   {
    "duration": 18,
    "start_time": "2021-09-14T04:53:03.722Z"
   },
   {
    "duration": 19,
    "start_time": "2021-09-14T04:53:03.742Z"
   },
   {
    "duration": 561,
    "start_time": "2021-09-14T04:53:03.764Z"
   },
   {
    "duration": -703,
    "start_time": "2021-09-14T04:53:05.030Z"
   },
   {
    "duration": -733,
    "start_time": "2021-09-14T04:53:05.062Z"
   },
   {
    "duration": -757,
    "start_time": "2021-09-14T04:53:05.087Z"
   },
   {
    "duration": 15,
    "start_time": "2021-09-14T04:54:22.741Z"
   },
   {
    "duration": 467,
    "start_time": "2021-09-14T04:54:35.063Z"
   },
   {
    "duration": 428,
    "start_time": "2021-09-14T04:54:48.208Z"
   },
   {
    "duration": 283,
    "start_time": "2021-09-14T04:55:03.106Z"
   },
   {
    "duration": 608,
    "start_time": "2021-09-14T04:55:40.052Z"
   },
   {
    "duration": 1676,
    "start_time": "2021-09-14T04:55:46.785Z"
   },
   {
    "duration": 275,
    "start_time": "2021-09-14T04:55:48.463Z"
   },
   {
    "duration": 26,
    "start_time": "2021-09-14T04:55:48.742Z"
   },
   {
    "duration": 15,
    "start_time": "2021-09-14T04:55:48.771Z"
   },
   {
    "duration": 99,
    "start_time": "2021-09-14T04:55:48.789Z"
   },
   {
    "duration": 5,
    "start_time": "2021-09-14T04:55:48.891Z"
   },
   {
    "duration": 13,
    "start_time": "2021-09-14T04:55:48.917Z"
   },
   {
    "duration": 20,
    "start_time": "2021-09-14T04:55:48.934Z"
   },
   {
    "duration": 5,
    "start_time": "2021-09-14T04:55:48.956Z"
   },
   {
    "duration": 53,
    "start_time": "2021-09-14T04:55:48.963Z"
   },
   {
    "duration": 12,
    "start_time": "2021-09-14T04:55:49.019Z"
   },
   {
    "duration": 11,
    "start_time": "2021-09-14T04:55:49.033Z"
   },
   {
    "duration": 17,
    "start_time": "2021-09-14T04:55:49.046Z"
   },
   {
    "duration": 8,
    "start_time": "2021-09-14T04:55:49.065Z"
   },
   {
    "duration": 45,
    "start_time": "2021-09-14T04:55:49.075Z"
   },
   {
    "duration": 6,
    "start_time": "2021-09-14T04:55:49.123Z"
   },
   {
    "duration": 11,
    "start_time": "2021-09-14T04:55:49.131Z"
   },
   {
    "duration": 8,
    "start_time": "2021-09-14T04:55:49.144Z"
   },
   {
    "duration": 13,
    "start_time": "2021-09-14T04:55:49.155Z"
   },
   {
    "duration": 46,
    "start_time": "2021-09-14T04:55:49.170Z"
   },
   {
    "duration": 9,
    "start_time": "2021-09-14T04:55:49.219Z"
   },
   {
    "duration": 10,
    "start_time": "2021-09-14T04:55:49.231Z"
   },
   {
    "duration": 15,
    "start_time": "2021-09-14T04:55:49.250Z"
   },
   {
    "duration": 49,
    "start_time": "2021-09-14T04:55:49.270Z"
   },
   {
    "duration": 27,
    "start_time": "2021-09-14T04:55:49.322Z"
   },
   {
    "duration": 5,
    "start_time": "2021-09-14T04:55:49.352Z"
   },
   {
    "duration": 13,
    "start_time": "2021-09-14T04:55:49.360Z"
   },
   {
    "duration": 40,
    "start_time": "2021-09-14T04:55:49.377Z"
   },
   {
    "duration": 9,
    "start_time": "2021-09-14T04:55:49.420Z"
   },
   {
    "duration": 15,
    "start_time": "2021-09-14T04:55:49.432Z"
   },
   {
    "duration": 15,
    "start_time": "2021-09-14T04:55:49.450Z"
   },
   {
    "duration": 6,
    "start_time": "2021-09-14T04:55:49.468Z"
   },
   {
    "duration": 40,
    "start_time": "2021-09-14T04:55:49.477Z"
   },
   {
    "duration": 14,
    "start_time": "2021-09-14T04:55:49.520Z"
   },
   {
    "duration": 11,
    "start_time": "2021-09-14T04:55:49.536Z"
   },
   {
    "duration": 24,
    "start_time": "2021-09-14T04:55:49.550Z"
   },
   {
    "duration": 41,
    "start_time": "2021-09-14T04:55:49.577Z"
   },
   {
    "duration": 15,
    "start_time": "2021-09-14T04:55:49.622Z"
   },
   {
    "duration": 12,
    "start_time": "2021-09-14T04:55:49.641Z"
   },
   {
    "duration": 246,
    "start_time": "2021-09-14T04:55:49.656Z"
   },
   {
    "duration": 456,
    "start_time": "2021-09-14T04:55:49.905Z"
   },
   {
    "duration": 9,
    "start_time": "2021-09-14T04:55:50.364Z"
   },
   {
    "duration": 12,
    "start_time": "2021-09-14T04:55:50.375Z"
   },
   {
    "duration": 30,
    "start_time": "2021-09-14T04:55:50.390Z"
   },
   {
    "duration": 10,
    "start_time": "2021-09-14T04:55:50.422Z"
   },
   {
    "duration": 9,
    "start_time": "2021-09-14T04:55:50.435Z"
   },
   {
    "duration": 8,
    "start_time": "2021-09-14T04:55:50.446Z"
   },
   {
    "duration": 12,
    "start_time": "2021-09-14T04:55:50.457Z"
   },
   {
    "duration": 126,
    "start_time": "2021-09-14T04:55:50.471Z"
   },
   {
    "duration": 22,
    "start_time": "2021-09-14T04:55:50.599Z"
   },
   {
    "duration": 10,
    "start_time": "2021-09-14T04:55:50.623Z"
   },
   {
    "duration": 226,
    "start_time": "2021-09-14T04:55:50.636Z"
   },
   {
    "duration": 15,
    "start_time": "2021-09-14T04:55:50.864Z"
   },
   {
    "duration": 225,
    "start_time": "2021-09-14T04:55:50.882Z"
   },
   {
    "duration": 18,
    "start_time": "2021-09-14T04:55:51.117Z"
   },
   {
    "duration": 6,
    "start_time": "2021-09-14T04:55:51.137Z"
   },
   {
    "duration": 24,
    "start_time": "2021-09-14T04:55:51.145Z"
   },
   {
    "duration": 44,
    "start_time": "2021-09-14T04:55:51.172Z"
   },
   {
    "duration": 22,
    "start_time": "2021-09-14T04:55:51.218Z"
   },
   {
    "duration": 22,
    "start_time": "2021-09-14T04:55:51.243Z"
   },
   {
    "duration": 8,
    "start_time": "2021-09-14T04:55:51.267Z"
   },
   {
    "duration": 56,
    "start_time": "2021-09-14T04:55:51.277Z"
   },
   {
    "duration": 40,
    "start_time": "2021-09-14T04:55:51.336Z"
   },
   {
    "duration": 10,
    "start_time": "2021-09-14T04:55:51.379Z"
   },
   {
    "duration": 52,
    "start_time": "2021-09-14T04:55:51.391Z"
   },
   {
    "duration": 19,
    "start_time": "2021-09-14T04:55:51.445Z"
   },
   {
    "duration": 14,
    "start_time": "2021-09-14T04:55:51.467Z"
   },
   {
    "duration": 31090,
    "start_time": "2021-09-14T04:55:51.517Z"
   },
   {
    "duration": 14,
    "start_time": "2021-09-14T04:56:22.610Z"
   },
   {
    "duration": 22,
    "start_time": "2021-09-14T04:56:22.626Z"
   },
   {
    "duration": 286,
    "start_time": "2021-09-14T04:56:22.650Z"
   },
   {
    "duration": 20,
    "start_time": "2021-09-14T04:56:22.938Z"
   },
   {
    "duration": 20,
    "start_time": "2021-09-14T04:56:22.960Z"
   },
   {
    "duration": 320,
    "start_time": "2021-09-14T04:56:22.982Z"
   },
   {
    "duration": 18,
    "start_time": "2021-09-14T04:56:23.305Z"
   },
   {
    "duration": 21,
    "start_time": "2021-09-14T04:56:23.325Z"
   },
   {
    "duration": 307,
    "start_time": "2021-09-14T04:56:23.348Z"
   },
   {
    "duration": 14,
    "start_time": "2021-09-14T04:56:23.658Z"
   },
   {
    "duration": 46,
    "start_time": "2021-09-14T04:56:23.674Z"
   },
   {
    "duration": 285,
    "start_time": "2021-09-14T04:56:23.723Z"
   },
   {
    "duration": 1094,
    "start_time": "2021-09-14T05:03:37.988Z"
   },
   {
    "duration": 308,
    "start_time": "2021-09-14T05:13:52.156Z"
   },
   {
    "duration": 15,
    "start_time": "2021-09-14T05:14:06.441Z"
   },
   {
    "duration": 4,
    "start_time": "2021-09-14T05:33:31.338Z"
   },
   {
    "duration": 14,
    "start_time": "2021-09-14T06:05:39.002Z"
   },
   {
    "duration": 346,
    "start_time": "2021-09-14T17:45:40.231Z"
   },
   {
    "duration": 1752,
    "start_time": "2021-09-14T17:46:03.698Z"
   },
   {
    "duration": 210,
    "start_time": "2021-09-14T17:46:05.453Z"
   },
   {
    "duration": 27,
    "start_time": "2021-09-14T17:46:05.666Z"
   },
   {
    "duration": 15,
    "start_time": "2021-09-14T17:46:05.696Z"
   },
   {
    "duration": 108,
    "start_time": "2021-09-14T17:46:05.714Z"
   },
   {
    "duration": 5,
    "start_time": "2021-09-14T17:46:05.825Z"
   },
   {
    "duration": 31,
    "start_time": "2021-09-14T17:46:05.832Z"
   },
   {
    "duration": 24,
    "start_time": "2021-09-14T17:46:05.867Z"
   },
   {
    "duration": 5,
    "start_time": "2021-09-14T17:46:05.894Z"
   },
   {
    "duration": 31,
    "start_time": "2021-09-14T17:46:05.901Z"
   },
   {
    "duration": 29,
    "start_time": "2021-09-14T17:46:05.934Z"
   },
   {
    "duration": 7,
    "start_time": "2021-09-14T17:46:05.965Z"
   },
   {
    "duration": 20,
    "start_time": "2021-09-14T17:46:05.974Z"
   },
   {
    "duration": 6,
    "start_time": "2021-09-14T17:46:05.997Z"
   },
   {
    "duration": 11,
    "start_time": "2021-09-14T17:46:06.005Z"
   },
   {
    "duration": 45,
    "start_time": "2021-09-14T17:46:06.018Z"
   },
   {
    "duration": 13,
    "start_time": "2021-09-14T17:46:06.066Z"
   },
   {
    "duration": 14,
    "start_time": "2021-09-14T17:46:06.081Z"
   },
   {
    "duration": 11,
    "start_time": "2021-09-14T17:46:06.097Z"
   },
   {
    "duration": 12,
    "start_time": "2021-09-14T17:46:06.111Z"
   },
   {
    "duration": 44,
    "start_time": "2021-09-14T17:46:06.126Z"
   },
   {
    "duration": 19,
    "start_time": "2021-09-14T17:46:06.173Z"
   },
   {
    "duration": 15,
    "start_time": "2021-09-14T17:46:06.203Z"
   },
   {
    "duration": 39,
    "start_time": "2021-09-14T17:46:06.223Z"
   },
   {
    "duration": 25,
    "start_time": "2021-09-14T17:46:06.265Z"
   },
   {
    "duration": 76,
    "start_time": "2021-09-14T17:46:06.294Z"
   },
   {
    "duration": -1969,
    "start_time": "2021-09-14T17:46:08.342Z"
   },
   {
    "duration": -1977,
    "start_time": "2021-09-14T17:46:08.352Z"
   },
   {
    "duration": -1981,
    "start_time": "2021-09-14T17:46:08.357Z"
   },
   {
    "duration": -1985,
    "start_time": "2021-09-14T17:46:08.362Z"
   },
   {
    "duration": -1989,
    "start_time": "2021-09-14T17:46:08.368Z"
   },
   {
    "duration": -1993,
    "start_time": "2021-09-14T17:46:08.373Z"
   },
   {
    "duration": -2465,
    "start_time": "2021-09-14T17:46:08.847Z"
   },
   {
    "duration": -2561,
    "start_time": "2021-09-14T17:46:08.944Z"
   },
   {
    "duration": -2565,
    "start_time": "2021-09-14T17:46:08.949Z"
   },
   {
    "duration": -2569,
    "start_time": "2021-09-14T17:46:08.954Z"
   },
   {
    "duration": -2578,
    "start_time": "2021-09-14T17:46:08.965Z"
   },
   {
    "duration": -2584,
    "start_time": "2021-09-14T17:46:08.972Z"
   },
   {
    "duration": -2588,
    "start_time": "2021-09-14T17:46:08.977Z"
   },
   {
    "duration": -2593,
    "start_time": "2021-09-14T17:46:08.983Z"
   },
   {
    "duration": -2595,
    "start_time": "2021-09-14T17:46:08.987Z"
   },
   {
    "duration": -2600,
    "start_time": "2021-09-14T17:46:08.993Z"
   },
   {
    "duration": -2603,
    "start_time": "2021-09-14T17:46:08.997Z"
   },
   {
    "duration": -2607,
    "start_time": "2021-09-14T17:46:09.003Z"
   },
   {
    "duration": -2610,
    "start_time": "2021-09-14T17:46:09.007Z"
   },
   {
    "duration": -2614,
    "start_time": "2021-09-14T17:46:09.012Z"
   },
   {
    "duration": -2617,
    "start_time": "2021-09-14T17:46:09.017Z"
   },
   {
    "duration": -2621,
    "start_time": "2021-09-14T17:46:09.022Z"
   },
   {
    "duration": -2625,
    "start_time": "2021-09-14T17:46:09.027Z"
   },
   {
    "duration": -2629,
    "start_time": "2021-09-14T17:46:09.032Z"
   },
   {
    "duration": -2632,
    "start_time": "2021-09-14T17:46:09.037Z"
   },
   {
    "duration": -2636,
    "start_time": "2021-09-14T17:46:09.042Z"
   },
   {
    "duration": -2639,
    "start_time": "2021-09-14T17:46:09.046Z"
   },
   {
    "duration": -2644,
    "start_time": "2021-09-14T17:46:09.052Z"
   },
   {
    "duration": -2647,
    "start_time": "2021-09-14T17:46:09.056Z"
   },
   {
    "duration": -2685,
    "start_time": "2021-09-14T17:46:09.147Z"
   },
   {
    "duration": -2689,
    "start_time": "2021-09-14T17:46:09.152Z"
   },
   {
    "duration": -2929,
    "start_time": "2021-09-14T17:46:09.393Z"
   },
   {
    "duration": -3123,
    "start_time": "2021-09-14T17:46:09.589Z"
   },
   {
    "duration": -3127,
    "start_time": "2021-09-14T17:46:09.594Z"
   },
   {
    "duration": -3131,
    "start_time": "2021-09-14T17:46:09.599Z"
   },
   {
    "duration": -3135,
    "start_time": "2021-09-14T17:46:09.604Z"
   },
   {
    "duration": -3137,
    "start_time": "2021-09-14T17:46:09.608Z"
   },
   {
    "duration": -3142,
    "start_time": "2021-09-14T17:46:09.614Z"
   },
   {
    "duration": -3145,
    "start_time": "2021-09-14T17:46:09.618Z"
   },
   {
    "duration": -3156,
    "start_time": "2021-09-14T17:46:09.632Z"
   },
   {
    "duration": -3220,
    "start_time": "2021-09-14T17:46:09.699Z"
   },
   {
    "duration": -3223,
    "start_time": "2021-09-14T17:46:09.704Z"
   },
   {
    "duration": -3225,
    "start_time": "2021-09-14T17:46:09.708Z"
   },
   {
    "duration": -3228,
    "start_time": "2021-09-14T17:46:09.713Z"
   },
   {
    "duration": -3231,
    "start_time": "2021-09-14T17:46:09.718Z"
   },
   {
    "duration": -3234,
    "start_time": "2021-09-14T17:46:09.723Z"
   },
   {
    "duration": -3237,
    "start_time": "2021-09-14T17:46:09.728Z"
   },
   {
    "duration": -3246,
    "start_time": "2021-09-14T17:46:09.739Z"
   },
   {
    "duration": -3250,
    "start_time": "2021-09-14T17:46:09.745Z"
   },
   {
    "duration": -3253,
    "start_time": "2021-09-14T17:46:09.750Z"
   },
   {
    "duration": -3256,
    "start_time": "2021-09-14T17:46:09.755Z"
   },
   {
    "duration": -3199,
    "start_time": "2021-09-14T17:46:09.760Z"
   },
   {
    "duration": -3201,
    "start_time": "2021-09-14T17:46:09.764Z"
   },
   {
    "duration": -3204,
    "start_time": "2021-09-14T17:46:09.769Z"
   },
   {
    "duration": -3209,
    "start_time": "2021-09-14T17:46:09.777Z"
   },
   {
    "duration": -3213,
    "start_time": "2021-09-14T17:46:09.782Z"
   },
   {
    "duration": 4,
    "start_time": "2021-09-14T17:48:34.403Z"
   },
   {
    "duration": 9,
    "start_time": "2021-09-14T17:49:04.267Z"
   },
   {
    "duration": 7,
    "start_time": "2021-09-14T17:55:28.900Z"
   },
   {
    "duration": 7,
    "start_time": "2021-09-14T17:55:42.798Z"
   },
   {
    "duration": 467,
    "start_time": "2021-09-14T18:09:51.418Z"
   },
   {
    "duration": 259,
    "start_time": "2021-09-14T18:09:54.666Z"
   },
   {
    "duration": 13,
    "start_time": "2021-09-14T18:10:08.251Z"
   },
   {
    "duration": 11,
    "start_time": "2021-09-14T18:10:18.834Z"
   },
   {
    "duration": 11,
    "start_time": "2021-09-14T18:10:28.718Z"
   },
   {
    "duration": 1620,
    "start_time": "2021-09-15T23:02:36.695Z"
   },
   {
    "duration": 257,
    "start_time": "2021-09-15T23:02:38.317Z"
   },
   {
    "duration": 27,
    "start_time": "2021-09-15T23:02:38.578Z"
   },
   {
    "duration": 21,
    "start_time": "2021-09-15T23:02:38.609Z"
   },
   {
    "duration": 91,
    "start_time": "2021-09-15T23:02:38.633Z"
   },
   {
    "duration": 6,
    "start_time": "2021-09-15T23:02:38.727Z"
   },
   {
    "duration": 15,
    "start_time": "2021-09-15T23:02:38.736Z"
   },
   {
    "duration": 48,
    "start_time": "2021-09-15T23:02:38.760Z"
   },
   {
    "duration": 6,
    "start_time": "2021-09-15T23:02:38.812Z"
   },
   {
    "duration": 21,
    "start_time": "2021-09-15T23:02:38.820Z"
   },
   {
    "duration": 47,
    "start_time": "2021-09-15T23:02:38.843Z"
   },
   {
    "duration": 9,
    "start_time": "2021-09-15T23:02:38.893Z"
   },
   {
    "duration": 10,
    "start_time": "2021-09-15T23:02:38.905Z"
   },
   {
    "duration": 7,
    "start_time": "2021-09-15T23:02:38.918Z"
   },
   {
    "duration": 57,
    "start_time": "2021-09-15T23:02:38.927Z"
   },
   {
    "duration": 6,
    "start_time": "2021-09-15T23:02:38.986Z"
   },
   {
    "duration": 8,
    "start_time": "2021-09-15T23:02:38.994Z"
   },
   {
    "duration": 6,
    "start_time": "2021-09-15T23:02:39.004Z"
   },
   {
    "duration": 11,
    "start_time": "2021-09-15T23:02:39.012Z"
   },
   {
    "duration": 8,
    "start_time": "2021-09-15T23:02:39.025Z"
   },
   {
    "duration": 48,
    "start_time": "2021-09-15T23:02:39.035Z"
   },
   {
    "duration": 7,
    "start_time": "2021-09-15T23:02:39.086Z"
   },
   {
    "duration": 15,
    "start_time": "2021-09-15T23:02:39.099Z"
   },
   {
    "duration": 8,
    "start_time": "2021-09-15T23:02:39.117Z"
   },
   {
    "duration": 33,
    "start_time": "2021-09-15T23:02:39.127Z"
   },
   {
    "duration": 23,
    "start_time": "2021-09-15T23:02:39.163Z"
   },
   {
    "duration": 7,
    "start_time": "2021-09-15T23:02:39.189Z"
   },
   {
    "duration": 2304,
    "start_time": "2021-09-15T23:02:39.198Z"
   },
   {
    "duration": -2161,
    "start_time": "2021-09-15T23:02:43.667Z"
   },
   {
    "duration": -2166,
    "start_time": "2021-09-15T23:02:43.673Z"
   },
   {
    "duration": -2170,
    "start_time": "2021-09-15T23:02:43.678Z"
   },
   {
    "duration": -2176,
    "start_time": "2021-09-15T23:02:43.686Z"
   },
   {
    "duration": -2181,
    "start_time": "2021-09-15T23:02:43.692Z"
   },
   {
    "duration": -2186,
    "start_time": "2021-09-15T23:02:43.699Z"
   },
   {
    "duration": -2192,
    "start_time": "2021-09-15T23:02:43.706Z"
   },
   {
    "duration": -2197,
    "start_time": "2021-09-15T23:02:43.713Z"
   },
   {
    "duration": -2201,
    "start_time": "2021-09-15T23:02:43.718Z"
   },
   {
    "duration": -2207,
    "start_time": "2021-09-15T23:02:43.726Z"
   },
   {
    "duration": -2213,
    "start_time": "2021-09-15T23:02:43.733Z"
   },
   {
    "duration": -2218,
    "start_time": "2021-09-15T23:02:43.739Z"
   },
   {
    "duration": -2223,
    "start_time": "2021-09-15T23:02:43.746Z"
   },
   {
    "duration": -2229,
    "start_time": "2021-09-15T23:02:43.753Z"
   },
   {
    "duration": -2248,
    "start_time": "2021-09-15T23:02:43.773Z"
   },
   {
    "duration": -2255,
    "start_time": "2021-09-15T23:02:43.782Z"
   },
   {
    "duration": -2264,
    "start_time": "2021-09-15T23:02:43.792Z"
   },
   {
    "duration": -2276,
    "start_time": "2021-09-15T23:02:43.805Z"
   },
   {
    "duration": -2279,
    "start_time": "2021-09-15T23:02:43.810Z"
   },
   {
    "duration": -2285,
    "start_time": "2021-09-15T23:02:43.817Z"
   },
   {
    "duration": -2300,
    "start_time": "2021-09-15T23:02:43.833Z"
   },
   {
    "duration": -2307,
    "start_time": "2021-09-15T23:02:43.842Z"
   },
   {
    "duration": -2313,
    "start_time": "2021-09-15T23:02:43.849Z"
   },
   {
    "duration": -2318,
    "start_time": "2021-09-15T23:02:43.856Z"
   },
   {
    "duration": -2330,
    "start_time": "2021-09-15T23:02:43.869Z"
   },
   {
    "duration": -2356,
    "start_time": "2021-09-15T23:02:43.896Z"
   },
   {
    "duration": -2371,
    "start_time": "2021-09-15T23:02:43.913Z"
   },
   {
    "duration": -2381,
    "start_time": "2021-09-15T23:02:43.924Z"
   },
   {
    "duration": -2394,
    "start_time": "2021-09-15T23:02:43.938Z"
   },
   {
    "duration": -2401,
    "start_time": "2021-09-15T23:02:43.946Z"
   },
   {
    "duration": -2371,
    "start_time": "2021-09-15T23:02:43.953Z"
   },
   {
    "duration": -2379,
    "start_time": "2021-09-15T23:02:43.963Z"
   },
   {
    "duration": -2385,
    "start_time": "2021-09-15T23:02:43.970Z"
   },
   {
    "duration": -2390,
    "start_time": "2021-09-15T23:02:43.976Z"
   },
   {
    "duration": -2409,
    "start_time": "2021-09-15T23:02:43.997Z"
   },
   {
    "duration": -2416,
    "start_time": "2021-09-15T23:02:44.005Z"
   },
   {
    "duration": -2426,
    "start_time": "2021-09-15T23:02:44.016Z"
   },
   {
    "duration": -2439,
    "start_time": "2021-09-15T23:02:44.030Z"
   },
   {
    "duration": -2448,
    "start_time": "2021-09-15T23:02:44.041Z"
   },
   {
    "duration": -2457,
    "start_time": "2021-09-15T23:02:44.051Z"
   },
   {
    "duration": -2463,
    "start_time": "2021-09-15T23:02:44.058Z"
   },
   {
    "duration": -2483,
    "start_time": "2021-09-15T23:02:44.079Z"
   },
   {
    "duration": -2490,
    "start_time": "2021-09-15T23:02:44.088Z"
   },
   {
    "duration": -2510,
    "start_time": "2021-09-15T23:02:44.109Z"
   },
   {
    "duration": -2515,
    "start_time": "2021-09-15T23:02:44.115Z"
   },
   {
    "duration": -2534,
    "start_time": "2021-09-15T23:02:44.135Z"
   },
   {
    "duration": -2538,
    "start_time": "2021-09-15T23:02:44.141Z"
   },
   {
    "duration": -2546,
    "start_time": "2021-09-15T23:02:44.150Z"
   },
   {
    "duration": -2552,
    "start_time": "2021-09-15T23:02:44.157Z"
   },
   {
    "duration": -2558,
    "start_time": "2021-09-15T23:02:44.164Z"
   },
   {
    "duration": -2562,
    "start_time": "2021-09-15T23:02:44.170Z"
   },
   {
    "duration": -2570,
    "start_time": "2021-09-15T23:02:44.179Z"
   },
   {
    "duration": -2578,
    "start_time": "2021-09-15T23:02:44.188Z"
   },
   {
    "duration": -2587,
    "start_time": "2021-09-15T23:02:44.198Z"
   },
   {
    "duration": -2604,
    "start_time": "2021-09-15T23:02:44.217Z"
   },
   {
    "duration": -2625,
    "start_time": "2021-09-15T23:02:44.239Z"
   },
   {
    "duration": 2172,
    "start_time": "2021-09-15T23:03:03.730Z"
   },
   {
    "duration": 192,
    "start_time": "2021-09-15T23:03:05.905Z"
   },
   {
    "duration": 25,
    "start_time": "2021-09-15T23:03:06.100Z"
   },
   {
    "duration": 16,
    "start_time": "2021-09-15T23:03:06.128Z"
   },
   {
    "duration": 109,
    "start_time": "2021-09-15T23:03:06.147Z"
   },
   {
    "duration": 5,
    "start_time": "2021-09-15T23:03:06.259Z"
   },
   {
    "duration": 24,
    "start_time": "2021-09-15T23:03:06.267Z"
   },
   {
    "duration": 20,
    "start_time": "2021-09-15T23:03:06.294Z"
   },
   {
    "duration": 5,
    "start_time": "2021-09-15T23:03:06.317Z"
   },
   {
    "duration": 19,
    "start_time": "2021-09-15T23:03:06.324Z"
   },
   {
    "duration": 44,
    "start_time": "2021-09-15T23:03:06.346Z"
   },
   {
    "duration": 13,
    "start_time": "2021-09-15T23:03:06.392Z"
   },
   {
    "duration": 9,
    "start_time": "2021-09-15T23:03:06.408Z"
   },
   {
    "duration": 6,
    "start_time": "2021-09-15T23:03:06.420Z"
   },
   {
    "duration": 8,
    "start_time": "2021-09-15T23:03:06.428Z"
   },
   {
    "duration": 47,
    "start_time": "2021-09-15T23:03:06.438Z"
   },
   {
    "duration": 9,
    "start_time": "2021-09-15T23:03:06.488Z"
   },
   {
    "duration": 9,
    "start_time": "2021-09-15T23:03:06.500Z"
   },
   {
    "duration": 10,
    "start_time": "2021-09-15T23:03:06.511Z"
   },
   {
    "duration": 62,
    "start_time": "2021-09-15T23:03:06.524Z"
   },
   {
    "duration": 9,
    "start_time": "2021-09-15T23:03:06.589Z"
   },
   {
    "duration": 9,
    "start_time": "2021-09-15T23:03:06.601Z"
   },
   {
    "duration": 16,
    "start_time": "2021-09-15T23:03:06.619Z"
   },
   {
    "duration": 10,
    "start_time": "2021-09-15T23:03:06.687Z"
   },
   {
    "duration": 20,
    "start_time": "2021-09-15T23:03:06.700Z"
   },
   {
    "duration": 5,
    "start_time": "2021-09-15T23:03:06.723Z"
   },
   {
    "duration": 34,
    "start_time": "2021-09-15T23:03:06.731Z"
   },
   {
    "duration": 79,
    "start_time": "2021-09-15T23:03:06.767Z"
   },
   {
    "duration": 11,
    "start_time": "2021-09-15T23:03:06.849Z"
   },
   {
    "duration": 7,
    "start_time": "2021-09-15T23:03:06.863Z"
   },
   {
    "duration": 25,
    "start_time": "2021-09-15T23:03:06.872Z"
   },
   {
    "duration": 12,
    "start_time": "2021-09-15T23:03:06.900Z"
   },
   {
    "duration": 7,
    "start_time": "2021-09-15T23:03:06.914Z"
   },
   {
    "duration": 617,
    "start_time": "2021-09-15T23:03:06.923Z"
   },
   {
    "duration": -2581,
    "start_time": "2021-09-15T23:03:10.124Z"
   },
   {
    "duration": -2586,
    "start_time": "2021-09-15T23:03:10.131Z"
   },
   {
    "duration": -2661,
    "start_time": "2021-09-15T23:03:10.207Z"
   },
   {
    "duration": -2687,
    "start_time": "2021-09-15T23:03:10.235Z"
   },
   {
    "duration": -2715,
    "start_time": "2021-09-15T23:03:10.265Z"
   },
   {
    "duration": -2721,
    "start_time": "2021-09-15T23:03:10.272Z"
   },
   {
    "duration": -2747,
    "start_time": "2021-09-15T23:03:10.299Z"
   },
   {
    "duration": -2757,
    "start_time": "2021-09-15T23:03:10.310Z"
   },
   {
    "duration": -2882,
    "start_time": "2021-09-15T23:03:10.437Z"
   },
   {
    "duration": -2906,
    "start_time": "2021-09-15T23:03:10.462Z"
   },
   {
    "duration": -2917,
    "start_time": "2021-09-15T23:03:10.474Z"
   },
   {
    "duration": -2924,
    "start_time": "2021-09-15T23:03:10.483Z"
   },
   {
    "duration": -3005,
    "start_time": "2021-09-15T23:03:10.565Z"
   },
   {
    "duration": -3038,
    "start_time": "2021-09-15T23:03:10.599Z"
   },
   {
    "duration": -3054,
    "start_time": "2021-09-15T23:03:10.616Z"
   },
   {
    "duration": -3062,
    "start_time": "2021-09-15T23:03:10.626Z"
   },
   {
    "duration": -3069,
    "start_time": "2021-09-15T23:03:10.634Z"
   },
   {
    "duration": -3102,
    "start_time": "2021-09-15T23:03:10.668Z"
   },
   {
    "duration": -3134,
    "start_time": "2021-09-15T23:03:10.702Z"
   },
   {
    "duration": -3144,
    "start_time": "2021-09-15T23:03:10.713Z"
   },
   {
    "duration": -3170,
    "start_time": "2021-09-15T23:03:10.741Z"
   },
   {
    "duration": -3179,
    "start_time": "2021-09-15T23:03:10.751Z"
   },
   {
    "duration": -3200,
    "start_time": "2021-09-15T23:03:10.773Z"
   },
   {
    "duration": -3215,
    "start_time": "2021-09-15T23:03:10.790Z"
   },
   {
    "duration": -3320,
    "start_time": "2021-09-15T23:03:10.896Z"
   },
   {
    "duration": -3342,
    "start_time": "2021-09-15T23:03:10.919Z"
   },
   {
    "duration": -3355,
    "start_time": "2021-09-15T23:03:10.934Z"
   },
   {
    "duration": -3367,
    "start_time": "2021-09-15T23:03:10.947Z"
   },
   {
    "duration": -3377,
    "start_time": "2021-09-15T23:03:10.958Z"
   },
   {
    "duration": -3385,
    "start_time": "2021-09-15T23:03:10.968Z"
   },
   {
    "duration": -3394,
    "start_time": "2021-09-15T23:03:10.978Z"
   },
   {
    "duration": -3432,
    "start_time": "2021-09-15T23:03:11.018Z"
   },
   {
    "duration": -3442,
    "start_time": "2021-09-15T23:03:11.029Z"
   },
   {
    "duration": -3449,
    "start_time": "2021-09-15T23:03:11.037Z"
   },
   {
    "duration": -3457,
    "start_time": "2021-09-15T23:03:11.047Z"
   },
   {
    "duration": -3470,
    "start_time": "2021-09-15T23:03:11.061Z"
   },
   {
    "duration": -3478,
    "start_time": "2021-09-15T23:03:11.070Z"
   },
   {
    "duration": -3483,
    "start_time": "2021-09-15T23:03:11.077Z"
   },
   {
    "duration": -3496,
    "start_time": "2021-09-15T23:03:11.091Z"
   },
   {
    "duration": -3501,
    "start_time": "2021-09-15T23:03:11.097Z"
   },
   {
    "duration": -3508,
    "start_time": "2021-09-15T23:03:11.105Z"
   },
   {
    "duration": -3512,
    "start_time": "2021-09-15T23:03:11.111Z"
   },
   {
    "duration": -3535,
    "start_time": "2021-09-15T23:03:11.135Z"
   },
   {
    "duration": -3556,
    "start_time": "2021-09-15T23:03:11.157Z"
   },
   {
    "duration": -3572,
    "start_time": "2021-09-15T23:03:11.175Z"
   },
   {
    "duration": -3596,
    "start_time": "2021-09-15T23:03:11.200Z"
   },
   {
    "duration": -3606,
    "start_time": "2021-09-15T23:03:11.211Z"
   },
   {
    "duration": -3663,
    "start_time": "2021-09-15T23:03:11.270Z"
   },
   {
    "duration": -3742,
    "start_time": "2021-09-15T23:03:11.350Z"
   },
   {
    "duration": -3763,
    "start_time": "2021-09-15T23:03:11.372Z"
   },
   {
    "duration": 15,
    "start_time": "2021-09-15T23:03:16.578Z"
   },
   {
    "duration": 19,
    "start_time": "2021-09-15T23:03:19.023Z"
   },
   {
    "duration": 5,
    "start_time": "2021-09-15T23:03:21.707Z"
   },
   {
    "duration": 8,
    "start_time": "2021-09-15T23:03:23.678Z"
   },
   {
    "duration": 9,
    "start_time": "2021-09-15T23:03:25.318Z"
   },
   {
    "duration": 9,
    "start_time": "2021-09-15T23:03:27.286Z"
   },
   {
    "duration": 15,
    "start_time": "2021-09-15T23:03:30.298Z"
   },
   {
    "duration": 14,
    "start_time": "2021-09-15T23:03:31.869Z"
   },
   {
    "duration": 14,
    "start_time": "2021-09-15T23:03:33.851Z"
   },
   {
    "duration": 5,
    "start_time": "2021-09-15T23:03:36.017Z"
   },
   {
    "duration": 215,
    "start_time": "2021-09-15T23:03:37.817Z"
   },
   {
    "duration": 439,
    "start_time": "2021-09-15T23:03:40.108Z"
   },
   {
    "duration": 9,
    "start_time": "2021-09-15T23:03:43.537Z"
   },
   {
    "duration": 9,
    "start_time": "2021-09-15T23:03:45.519Z"
   },
   {
    "duration": 10,
    "start_time": "2021-09-15T23:04:01.665Z"
   },
   {
    "duration": 9,
    "start_time": "2021-09-15T23:04:02.946Z"
   },
   {
    "duration": 9,
    "start_time": "2021-09-15T23:04:04.523Z"
   },
   {
    "duration": 9,
    "start_time": "2021-09-15T23:04:05.816Z"
   },
   {
    "duration": 9,
    "start_time": "2021-09-15T23:04:07.396Z"
   },
   {
    "duration": 8,
    "start_time": "2021-09-15T23:04:08.945Z"
   },
   {
    "duration": 8,
    "start_time": "2021-09-15T23:04:10.228Z"
   },
   {
    "duration": 9,
    "start_time": "2021-09-15T23:04:11.843Z"
   },
   {
    "duration": 280,
    "start_time": "2021-09-15T23:04:13.372Z"
   },
   {
    "duration": 17,
    "start_time": "2021-09-15T23:04:15.400Z"
   },
   {
    "duration": 216,
    "start_time": "2021-09-15T23:04:19.724Z"
   },
   {
    "duration": 211,
    "start_time": "2021-09-15T23:04:26.079Z"
   },
   {
    "duration": 312,
    "start_time": "2021-09-15T23:04:28.320Z"
   },
   {
    "duration": 19,
    "start_time": "2021-09-15T23:04:31.451Z"
   },
   {
    "duration": 6,
    "start_time": "2021-09-15T23:04:34.073Z"
   },
   {
    "duration": 15,
    "start_time": "2021-09-15T23:04:35.482Z"
   },
   {
    "duration": 5,
    "start_time": "2021-09-15T23:13:40.086Z"
   },
   {
    "duration": 15,
    "start_time": "2021-09-15T23:13:46.944Z"
   },
   {
    "duration": 6,
    "start_time": "2021-09-15T23:14:11.071Z"
   },
   {
    "duration": 17,
    "start_time": "2021-09-15T23:14:26.097Z"
   },
   {
    "duration": 7,
    "start_time": "2021-09-15T23:14:50.368Z"
   },
   {
    "duration": 7,
    "start_time": "2021-09-15T23:15:01.474Z"
   },
   {
    "duration": 8,
    "start_time": "2021-09-15T23:15:10.239Z"
   },
   {
    "duration": 9,
    "start_time": "2021-09-15T23:16:28.360Z"
   },
   {
    "duration": 53,
    "start_time": "2021-09-15T23:17:51.533Z"
   },
   {
    "duration": 52,
    "start_time": "2021-09-15T23:17:52.860Z"
   },
   {
    "duration": 34,
    "start_time": "2021-09-15T23:17:58.477Z"
   },
   {
    "duration": 8,
    "start_time": "2021-09-15T23:18:45.062Z"
   },
   {
    "duration": 15,
    "start_time": "2021-09-15T23:18:55.891Z"
   },
   {
    "duration": 29,
    "start_time": "2021-09-15T23:19:04.583Z"
   },
   {
    "duration": 14,
    "start_time": "2021-09-15T23:19:11.188Z"
   },
   {
    "duration": 1649,
    "start_time": "2021-09-15T23:42:03.788Z"
   },
   {
    "duration": 194,
    "start_time": "2021-09-15T23:42:05.980Z"
   },
   {
    "duration": 26,
    "start_time": "2021-09-15T23:42:07.576Z"
   },
   {
    "duration": 15,
    "start_time": "2021-09-15T23:42:11.272Z"
   },
   {
    "duration": 75,
    "start_time": "2021-09-15T23:42:13.512Z"
   },
   {
    "duration": 5,
    "start_time": "2021-09-15T23:42:17.521Z"
   },
   {
    "duration": 13,
    "start_time": "2021-09-15T23:43:14.586Z"
   },
   {
    "duration": 24,
    "start_time": "2021-09-15T23:43:56.052Z"
   },
   {
    "duration": 6,
    "start_time": "2021-09-15T23:43:58.167Z"
   },
   {
    "duration": 4497,
    "start_time": "2021-09-15T23:47:27.299Z"
   },
   {
    "duration": 4533,
    "start_time": "2021-09-15T23:48:00.127Z"
   },
   {
    "duration": 84,
    "start_time": "2021-09-15T23:48:04.663Z"
   },
   {
    "duration": 18,
    "start_time": "2021-09-15T23:49:52.260Z"
   },
   {
    "duration": 13,
    "start_time": "2021-09-15T23:49:56.166Z"
   },
   {
    "duration": 1618,
    "start_time": "2021-09-15T23:50:18.797Z"
   },
   {
    "duration": 214,
    "start_time": "2021-09-15T23:50:20.417Z"
   },
   {
    "duration": 25,
    "start_time": "2021-09-15T23:50:20.635Z"
   },
   {
    "duration": 26,
    "start_time": "2021-09-15T23:50:20.663Z"
   },
   {
    "duration": 78,
    "start_time": "2021-09-15T23:50:20.692Z"
   },
   {
    "duration": 6,
    "start_time": "2021-09-15T23:50:20.782Z"
   },
   {
    "duration": 25,
    "start_time": "2021-09-15T23:50:20.790Z"
   },
   {
    "duration": 28,
    "start_time": "2021-09-15T23:50:20.818Z"
   },
   {
    "duration": 4,
    "start_time": "2021-09-15T23:50:20.850Z"
   },
   {
    "duration": 4639,
    "start_time": "2021-09-15T23:50:20.857Z"
   },
   {
    "duration": 17,
    "start_time": "2021-09-15T23:50:25.498Z"
   },
   {
    "duration": 11,
    "start_time": "2021-09-15T23:50:25.518Z"
   },
   {
    "duration": 11,
    "start_time": "2021-09-15T23:50:25.531Z"
   },
   {
    "duration": 45,
    "start_time": "2021-09-15T23:50:25.545Z"
   },
   {
    "duration": 6,
    "start_time": "2021-09-15T23:50:25.593Z"
   },
   {
    "duration": 11,
    "start_time": "2021-09-15T23:50:25.601Z"
   },
   {
    "duration": 9,
    "start_time": "2021-09-15T23:50:25.614Z"
   },
   {
    "duration": 8,
    "start_time": "2021-09-15T23:50:25.625Z"
   },
   {
    "duration": 7,
    "start_time": "2021-09-15T23:50:25.635Z"
   },
   {
    "duration": 8,
    "start_time": "2021-09-15T23:50:25.683Z"
   },
   {
    "duration": 14,
    "start_time": "2021-09-15T23:50:25.693Z"
   },
   {
    "duration": 13,
    "start_time": "2021-09-15T23:50:25.710Z"
   },
   {
    "duration": 12,
    "start_time": "2021-09-15T23:50:25.725Z"
   },
   {
    "duration": 15,
    "start_time": "2021-09-15T23:50:25.739Z"
   },
   {
    "duration": 31,
    "start_time": "2021-09-15T23:50:25.757Z"
   },
   {
    "duration": 20,
    "start_time": "2021-09-15T23:50:25.790Z"
   },
   {
    "duration": 4,
    "start_time": "2021-09-15T23:50:25.817Z"
   },
   {
    "duration": 22,
    "start_time": "2021-09-15T23:50:25.826Z"
   },
   {
    "duration": 31,
    "start_time": "2021-09-15T23:50:25.851Z"
   },
   {
    "duration": 3,
    "start_time": "2021-09-15T23:50:25.885Z"
   },
   {
    "duration": 19,
    "start_time": "2021-09-15T23:50:25.891Z"
   },
   {
    "duration": 9,
    "start_time": "2021-09-15T23:50:25.913Z"
   },
   {
    "duration": 17,
    "start_time": "2021-09-15T23:50:25.924Z"
   },
   {
    "duration": 12,
    "start_time": "2021-09-15T23:50:25.943Z"
   },
   {
    "duration": 32,
    "start_time": "2021-09-15T23:50:25.958Z"
   },
   {
    "duration": 12,
    "start_time": "2021-09-15T23:50:25.992Z"
   },
   {
    "duration": 10,
    "start_time": "2021-09-15T23:50:26.007Z"
   },
   {
    "duration": 70,
    "start_time": "2021-09-15T23:50:26.019Z"
   },
   {
    "duration": 8,
    "start_time": "2021-09-15T23:50:26.092Z"
   },
   {
    "duration": 31,
    "start_time": "2021-09-15T23:50:26.102Z"
   },
   {
    "duration": 4,
    "start_time": "2021-09-15T23:50:26.136Z"
   },
   {
    "duration": 15,
    "start_time": "2021-09-15T23:50:26.142Z"
   },
   {
    "duration": 35,
    "start_time": "2021-09-15T23:50:26.159Z"
   },
   {
    "duration": 11,
    "start_time": "2021-09-15T23:50:26.197Z"
   },
   {
    "duration": 14,
    "start_time": "2021-09-15T23:50:26.210Z"
   },
   {
    "duration": 20,
    "start_time": "2021-09-15T23:50:26.226Z"
   },
   {
    "duration": 19,
    "start_time": "2021-09-15T23:50:26.248Z"
   },
   {
    "duration": 22,
    "start_time": "2021-09-15T23:50:26.270Z"
   },
   {
    "duration": 14,
    "start_time": "2021-09-15T23:50:26.294Z"
   },
   {
    "duration": 16,
    "start_time": "2021-09-15T23:50:26.310Z"
   },
   {
    "duration": 4,
    "start_time": "2021-09-15T23:50:26.329Z"
   },
   {
    "duration": 254,
    "start_time": "2021-09-15T23:50:26.336Z"
   },
   {
    "duration": 424,
    "start_time": "2021-09-15T23:50:26.592Z"
   },
   {
    "duration": 9,
    "start_time": "2021-09-15T23:50:27.019Z"
   },
   {
    "duration": 10,
    "start_time": "2021-09-15T23:50:27.030Z"
   },
   {
    "duration": 28,
    "start_time": "2021-09-15T23:50:27.043Z"
   },
   {
    "duration": 15,
    "start_time": "2021-09-15T23:50:27.074Z"
   },
   {
    "duration": 9,
    "start_time": "2021-09-15T23:50:27.091Z"
   },
   {
    "duration": 11,
    "start_time": "2021-09-15T23:50:27.102Z"
   },
   {
    "duration": 10,
    "start_time": "2021-09-15T23:50:27.115Z"
   },
   {
    "duration": 116,
    "start_time": "2021-09-15T23:50:27.128Z"
   },
   {
    "duration": 10,
    "start_time": "2021-09-15T23:50:27.246Z"
   },
   {
    "duration": 26,
    "start_time": "2021-09-15T23:50:27.259Z"
   },
   {
    "duration": 238,
    "start_time": "2021-09-15T23:50:27.287Z"
   },
   {
    "duration": 16,
    "start_time": "2021-09-15T23:50:27.528Z"
   },
   {
    "duration": 286,
    "start_time": "2021-09-15T23:50:27.547Z"
   },
   {
    "duration": 425,
    "start_time": "2021-09-15T23:50:27.836Z"
   },
   {
    "duration": 22,
    "start_time": "2021-09-15T23:50:28.264Z"
   },
   {
    "duration": 5,
    "start_time": "2021-09-15T23:50:28.289Z"
   },
   {
    "duration": 17,
    "start_time": "2021-09-15T23:50:28.297Z"
   },
   {
    "duration": 20,
    "start_time": "2021-09-15T23:50:28.316Z"
   },
   {
    "duration": 56,
    "start_time": "2021-09-15T23:50:28.338Z"
   },
   {
    "duration": 19,
    "start_time": "2021-09-15T23:50:28.396Z"
   },
   {
    "duration": 8,
    "start_time": "2021-09-15T23:50:28.418Z"
   },
   {
    "duration": 24,
    "start_time": "2021-09-15T23:50:28.428Z"
   },
   {
    "duration": 38,
    "start_time": "2021-09-15T23:50:28.483Z"
   },
   {
    "duration": 11,
    "start_time": "2021-09-15T23:50:28.523Z"
   },
   {
    "duration": 56,
    "start_time": "2021-09-15T23:50:28.536Z"
   },
   {
    "duration": 21,
    "start_time": "2021-09-15T23:50:28.595Z"
   },
   {
    "duration": 14,
    "start_time": "2021-09-15T23:50:28.619Z"
   },
   {
    "duration": 25514,
    "start_time": "2021-09-15T23:50:28.643Z"
   },
   {
    "duration": 9,
    "start_time": "2021-09-15T23:50:54.160Z"
   },
   {
    "duration": 18,
    "start_time": "2021-09-15T23:50:54.182Z"
   },
   {
    "duration": 277,
    "start_time": "2021-09-15T23:50:54.203Z"
   },
   {
    "duration": 19,
    "start_time": "2021-09-15T23:50:54.483Z"
   },
   {
    "duration": 19,
    "start_time": "2021-09-15T23:50:54.505Z"
   },
   {
    "duration": 325,
    "start_time": "2021-09-15T23:50:54.527Z"
   },
   {
    "duration": 3,
    "start_time": "2021-09-15T23:50:54.854Z"
   },
   {
    "duration": 37,
    "start_time": "2021-09-15T23:50:54.859Z"
   },
   {
    "duration": 288,
    "start_time": "2021-09-15T23:50:54.898Z"
   },
   {
    "duration": 20,
    "start_time": "2021-09-15T23:50:55.189Z"
   },
   {
    "duration": 288,
    "start_time": "2021-09-15T23:50:55.212Z"
   },
   {
    "duration": 1579,
    "start_time": "2021-09-15T23:51:04.437Z"
   },
   {
    "duration": 207,
    "start_time": "2021-09-15T23:51:06.019Z"
   },
   {
    "duration": 26,
    "start_time": "2021-09-15T23:51:06.229Z"
   },
   {
    "duration": 25,
    "start_time": "2021-09-15T23:51:06.257Z"
   },
   {
    "duration": 73,
    "start_time": "2021-09-15T23:51:06.285Z"
   },
   {
    "duration": 23,
    "start_time": "2021-09-15T23:51:06.360Z"
   },
   {
    "duration": 12,
    "start_time": "2021-09-15T23:51:06.385Z"
   },
   {
    "duration": 20,
    "start_time": "2021-09-15T23:51:06.399Z"
   },
   {
    "duration": 2,
    "start_time": "2021-09-15T23:51:06.423Z"
   },
   {
    "duration": 4596,
    "start_time": "2021-09-15T23:51:06.429Z"
   },
   {
    "duration": 85,
    "start_time": "2021-09-15T23:51:11.027Z"
   },
   {
    "duration": -378,
    "start_time": "2021-09-15T23:51:11.496Z"
   },
   {
    "duration": -384,
    "start_time": "2021-09-15T23:51:11.503Z"
   },
   {
    "duration": -412,
    "start_time": "2021-09-15T23:51:11.532Z"
   },
   {
    "duration": -420,
    "start_time": "2021-09-15T23:51:11.542Z"
   },
   {
    "duration": -438,
    "start_time": "2021-09-15T23:51:11.561Z"
   },
   {
    "duration": -451,
    "start_time": "2021-09-15T23:51:11.575Z"
   },
   {
    "duration": -463,
    "start_time": "2021-09-15T23:51:11.588Z"
   },
   {
    "duration": -471,
    "start_time": "2021-09-15T23:51:11.597Z"
   },
   {
    "duration": -474,
    "start_time": "2021-09-15T23:51:11.602Z"
   },
   {
    "duration": -479,
    "start_time": "2021-09-15T23:51:11.608Z"
   },
   {
    "duration": -490,
    "start_time": "2021-09-15T23:51:11.620Z"
   },
   {
    "duration": -498,
    "start_time": "2021-09-15T23:51:11.629Z"
   },
   {
    "duration": -508,
    "start_time": "2021-09-15T23:51:11.640Z"
   },
   {
    "duration": -516,
    "start_time": "2021-09-15T23:51:11.649Z"
   },
   {
    "duration": -523,
    "start_time": "2021-09-15T23:51:11.658Z"
   },
   {
    "duration": -533,
    "start_time": "2021-09-15T23:51:11.669Z"
   },
   {
    "duration": -540,
    "start_time": "2021-09-15T23:51:11.677Z"
   },
   {
    "duration": -550,
    "start_time": "2021-09-15T23:51:11.688Z"
   },
   {
    "duration": -554,
    "start_time": "2021-09-15T23:51:11.694Z"
   },
   {
    "duration": -565,
    "start_time": "2021-09-15T23:51:11.706Z"
   },
   {
    "duration": -569,
    "start_time": "2021-09-15T23:51:11.711Z"
   },
   {
    "duration": -579,
    "start_time": "2021-09-15T23:51:11.722Z"
   },
   {
    "duration": -583,
    "start_time": "2021-09-15T23:51:11.727Z"
   },
   {
    "duration": -591,
    "start_time": "2021-09-15T23:51:11.737Z"
   },
   {
    "duration": -599,
    "start_time": "2021-09-15T23:51:11.746Z"
   },
   {
    "duration": -603,
    "start_time": "2021-09-15T23:51:11.751Z"
   },
   {
    "duration": -606,
    "start_time": "2021-09-15T23:51:11.755Z"
   },
   {
    "duration": -610,
    "start_time": "2021-09-15T23:51:11.761Z"
   },
   {
    "duration": -614,
    "start_time": "2021-09-15T23:51:11.766Z"
   },
   {
    "duration": -617,
    "start_time": "2021-09-15T23:51:11.771Z"
   },
   {
    "duration": -589,
    "start_time": "2021-09-15T23:51:11.776Z"
   },
   {
    "duration": -593,
    "start_time": "2021-09-15T23:51:11.782Z"
   },
   {
    "duration": -596,
    "start_time": "2021-09-15T23:51:11.786Z"
   },
   {
    "duration": -602,
    "start_time": "2021-09-15T23:51:11.793Z"
   },
   {
    "duration": -604,
    "start_time": "2021-09-15T23:51:11.797Z"
   },
   {
    "duration": -609,
    "start_time": "2021-09-15T23:51:11.803Z"
   },
   {
    "duration": -612,
    "start_time": "2021-09-15T23:51:11.807Z"
   },
   {
    "duration": -616,
    "start_time": "2021-09-15T23:51:11.813Z"
   },
   {
    "duration": -637,
    "start_time": "2021-09-15T23:51:11.835Z"
   },
   {
    "duration": -3096,
    "start_time": "2021-09-15T23:51:14.295Z"
   },
   {
    "duration": -3102,
    "start_time": "2021-09-15T23:51:14.302Z"
   },
   {
    "duration": -3107,
    "start_time": "2021-09-15T23:51:14.309Z"
   },
   {
    "duration": -3131,
    "start_time": "2021-09-15T23:51:14.334Z"
   },
   {
    "duration": -3140,
    "start_time": "2021-09-15T23:51:14.344Z"
   },
   {
    "duration": -3148,
    "start_time": "2021-09-15T23:51:14.353Z"
   },
   {
    "duration": -3156,
    "start_time": "2021-09-15T23:51:14.363Z"
   },
   {
    "duration": -3171,
    "start_time": "2021-09-15T23:51:14.379Z"
   },
   {
    "duration": -3187,
    "start_time": "2021-09-15T23:51:14.396Z"
   },
   {
    "duration": -3194,
    "start_time": "2021-09-15T23:51:14.404Z"
   },
   {
    "duration": -3201,
    "start_time": "2021-09-15T23:51:14.412Z"
   },
   {
    "duration": -3206,
    "start_time": "2021-09-15T23:51:14.419Z"
   },
   {
    "duration": -3212,
    "start_time": "2021-09-15T23:51:14.426Z"
   },
   {
    "duration": -3242,
    "start_time": "2021-09-15T23:51:14.457Z"
   },
   {
    "duration": -3250,
    "start_time": "2021-09-15T23:51:14.466Z"
   },
   {
    "duration": -3255,
    "start_time": "2021-09-15T23:51:14.472Z"
   },
   {
    "duration": -3259,
    "start_time": "2021-09-15T23:51:14.478Z"
   },
   {
    "duration": -3265,
    "start_time": "2021-09-15T23:51:14.485Z"
   },
   {
    "duration": -3214,
    "start_time": "2021-09-15T23:51:14.496Z"
   },
   {
    "duration": -3217,
    "start_time": "2021-09-15T23:51:14.501Z"
   },
   {
    "duration": -3223,
    "start_time": "2021-09-15T23:51:14.508Z"
   },
   {
    "duration": -3229,
    "start_time": "2021-09-15T23:51:14.515Z"
   },
   {
    "duration": -3235,
    "start_time": "2021-09-15T23:51:14.522Z"
   },
   {
    "duration": -3240,
    "start_time": "2021-09-15T23:51:14.529Z"
   },
   {
    "duration": -3245,
    "start_time": "2021-09-15T23:51:14.535Z"
   },
   {
    "duration": -3251,
    "start_time": "2021-09-15T23:51:14.542Z"
   },
   {
    "duration": -3256,
    "start_time": "2021-09-15T23:51:14.549Z"
   },
   {
    "duration": -3274,
    "start_time": "2021-09-15T23:51:14.568Z"
   },
   {
    "duration": -3281,
    "start_time": "2021-09-15T23:51:14.576Z"
   },
   {
    "duration": -3289,
    "start_time": "2021-09-15T23:51:14.585Z"
   },
   {
    "duration": -3293,
    "start_time": "2021-09-15T23:51:14.591Z"
   },
   {
    "duration": -3303,
    "start_time": "2021-09-15T23:51:14.602Z"
   },
   {
    "duration": -3311,
    "start_time": "2021-09-15T23:51:14.612Z"
   },
   {
    "duration": -3319,
    "start_time": "2021-09-15T23:51:14.621Z"
   },
   {
    "duration": -3326,
    "start_time": "2021-09-15T23:51:14.629Z"
   },
   {
    "duration": -3336,
    "start_time": "2021-09-15T23:51:14.640Z"
   },
   {
    "duration": -3344,
    "start_time": "2021-09-15T23:51:14.650Z"
   },
   {
    "duration": -3349,
    "start_time": "2021-09-15T23:51:14.656Z"
   },
   {
    "duration": -3355,
    "start_time": "2021-09-15T23:51:14.663Z"
   },
   {
    "duration": -3377,
    "start_time": "2021-09-15T23:51:14.687Z"
   },
   {
    "duration": -3384,
    "start_time": "2021-09-15T23:51:14.695Z"
   },
   {
    "duration": -3390,
    "start_time": "2021-09-15T23:51:14.702Z"
   },
   {
    "duration": -3394,
    "start_time": "2021-09-15T23:51:14.708Z"
   },
   {
    "duration": 13,
    "start_time": "2021-09-15T23:57:51.206Z"
   },
   {
    "duration": 4584,
    "start_time": "2021-09-15T23:58:19.833Z"
   },
   {
    "duration": 12,
    "start_time": "2021-09-15T23:58:26.784Z"
   },
   {
    "duration": 4559,
    "start_time": "2021-09-15T23:59:20.595Z"
   },
   {
    "duration": 13,
    "start_time": "2021-09-15T23:59:27.636Z"
   },
   {
    "duration": 13,
    "start_time": "2021-09-15T23:59:33.871Z"
   },
   {
    "duration": 69,
    "start_time": "2021-09-16T00:18:00.100Z"
   },
   {
    "duration": 13,
    "start_time": "2021-09-16T00:18:01.860Z"
   },
   {
    "duration": 18,
    "start_time": "2021-09-16T00:18:05.998Z"
   },
   {
    "duration": 13,
    "start_time": "2021-09-16T00:18:34.511Z"
   },
   {
    "duration": 9,
    "start_time": "2021-09-16T00:34:20.351Z"
   },
   {
    "duration": 10,
    "start_time": "2021-09-16T00:34:22.802Z"
   },
   {
    "duration": 7,
    "start_time": "2021-09-16T00:34:26.337Z"
   },
   {
    "duration": 8,
    "start_time": "2021-09-16T00:34:28.358Z"
   },
   {
    "duration": 20,
    "start_time": "2021-09-16T00:34:31.289Z"
   },
   {
    "duration": 9,
    "start_time": "2021-09-16T00:34:32.889Z"
   },
   {
    "duration": 6,
    "start_time": "2021-09-16T00:34:34.413Z"
   },
   {
    "duration": 8,
    "start_time": "2021-09-16T00:34:37.304Z"
   },
   {
    "duration": 6,
    "start_time": "2021-09-16T00:34:40.069Z"
   },
   {
    "duration": 6,
    "start_time": "2021-09-16T00:34:42.064Z"
   },
   {
    "duration": 8,
    "start_time": "2021-09-16T00:34:44.140Z"
   },
   {
    "duration": 11,
    "start_time": "2021-09-16T00:34:46.190Z"
   },
   {
    "duration": 6,
    "start_time": "2021-09-16T00:41:25.930Z"
   },
   {
    "duration": 17,
    "start_time": "2021-09-16T00:41:27.893Z"
   },
   {
    "duration": 4,
    "start_time": "2021-09-16T00:41:32.821Z"
   },
   {
    "duration": 15,
    "start_time": "2021-09-16T00:41:37.202Z"
   },
   {
    "duration": 17,
    "start_time": "2021-09-16T00:42:22.684Z"
   },
   {
    "duration": 9,
    "start_time": "2021-09-16T00:43:23.574Z"
   },
   {
    "duration": 2014,
    "start_time": "2021-09-16T00:49:07.249Z"
   },
   {
    "duration": 1649,
    "start_time": "2021-09-16T00:49:10.260Z"
   },
   {
    "duration": 1808,
    "start_time": "2021-09-16T00:51:03.486Z"
   },
   {
    "duration": 1649,
    "start_time": "2021-09-16T00:51:17.135Z"
   },
   {
    "duration": 2282,
    "start_time": "2021-09-16T00:52:02.524Z"
   },
   {
    "duration": 5,
    "start_time": "2021-09-16T00:52:05.178Z"
   },
   {
    "duration": 7,
    "start_time": "2021-09-16T00:52:09.732Z"
   },
   {
    "duration": 7,
    "start_time": "2021-09-16T00:52:23.811Z"
   },
   {
    "duration": 7,
    "start_time": "2021-09-16T00:52:43.482Z"
   },
   {
    "duration": 7,
    "start_time": "2021-09-16T00:52:52.750Z"
   },
   {
    "duration": 2320,
    "start_time": "2021-09-16T01:00:46.004Z"
   },
   {
    "duration": 9,
    "start_time": "2021-09-16T01:00:52.746Z"
   },
   {
    "duration": 8,
    "start_time": "2021-09-16T01:00:55.561Z"
   },
   {
    "duration": 8,
    "start_time": "2021-09-16T01:00:57.674Z"
   },
   {
    "duration": 1891,
    "start_time": "2021-09-16T01:01:19.017Z"
   },
   {
    "duration": 737,
    "start_time": "2021-09-16T01:01:20.910Z"
   },
   {
    "duration": 27,
    "start_time": "2021-09-16T01:01:21.650Z"
   },
   {
    "duration": 21,
    "start_time": "2021-09-16T01:01:21.680Z"
   },
   {
    "duration": 87,
    "start_time": "2021-09-16T01:01:21.704Z"
   },
   {
    "duration": 5,
    "start_time": "2021-09-16T01:01:21.794Z"
   },
   {
    "duration": 14,
    "start_time": "2021-09-16T01:01:21.801Z"
   },
   {
    "duration": 26,
    "start_time": "2021-09-16T01:01:21.817Z"
   },
   {
    "duration": 3,
    "start_time": "2021-09-16T01:01:21.846Z"
   },
   {
    "duration": 76,
    "start_time": "2021-09-16T01:01:21.885Z"
   },
   {
    "duration": 30,
    "start_time": "2021-09-16T01:01:21.964Z"
   },
   {
    "duration": 11,
    "start_time": "2021-09-16T01:01:21.997Z"
   },
   {
    "duration": 17,
    "start_time": "2021-09-16T01:01:22.011Z"
   },
   {
    "duration": 10,
    "start_time": "2021-09-16T01:01:22.030Z"
   },
   {
    "duration": 40,
    "start_time": "2021-09-16T01:01:22.042Z"
   },
   {
    "duration": 6,
    "start_time": "2021-09-16T01:01:22.085Z"
   },
   {
    "duration": 22,
    "start_time": "2021-09-16T01:01:22.094Z"
   },
   {
    "duration": 18,
    "start_time": "2021-09-16T01:01:22.119Z"
   },
   {
    "duration": 11,
    "start_time": "2021-09-16T01:01:22.140Z"
   },
   {
    "duration": 31,
    "start_time": "2021-09-16T01:01:22.153Z"
   },
   {
    "duration": 6,
    "start_time": "2021-09-16T01:01:22.186Z"
   },
   {
    "duration": 10,
    "start_time": "2021-09-16T01:01:22.194Z"
   },
   {
    "duration": 15,
    "start_time": "2021-09-16T01:01:22.206Z"
   },
   {
    "duration": 6,
    "start_time": "2021-09-16T01:01:22.223Z"
   },
   {
    "duration": 24,
    "start_time": "2021-09-16T01:01:22.231Z"
   },
   {
    "duration": 26,
    "start_time": "2021-09-16T01:01:22.258Z"
   },
   {
    "duration": 90,
    "start_time": "2021-09-16T01:01:22.293Z"
   },
   {
    "duration": -2146,
    "start_time": "2021-09-16T01:01:24.534Z"
   },
   {
    "duration": -2152,
    "start_time": "2021-09-16T01:01:24.541Z"
   },
   {
    "duration": -2163,
    "start_time": "2021-09-16T01:01:24.555Z"
   },
   {
    "duration": -2166,
    "start_time": "2021-09-16T01:01:24.560Z"
   },
   {
    "duration": -2170,
    "start_time": "2021-09-16T01:01:24.566Z"
   },
   {
    "duration": -2174,
    "start_time": "2021-09-16T01:01:24.572Z"
   },
   {
    "duration": -2179,
    "start_time": "2021-09-16T01:01:24.579Z"
   },
   {
    "duration": -2183,
    "start_time": "2021-09-16T01:01:24.585Z"
   },
   {
    "duration": -2187,
    "start_time": "2021-09-16T01:01:24.591Z"
   },
   {
    "duration": -2200,
    "start_time": "2021-09-16T01:01:24.606Z"
   },
   {
    "duration": -2205,
    "start_time": "2021-09-16T01:01:24.613Z"
   },
   {
    "duration": -2311,
    "start_time": "2021-09-16T01:01:24.721Z"
   },
   {
    "duration": -2345,
    "start_time": "2021-09-16T01:01:24.757Z"
   },
   {
    "duration": -2350,
    "start_time": "2021-09-16T01:01:24.764Z"
   },
   {
    "duration": -2359,
    "start_time": "2021-09-16T01:01:24.775Z"
   },
   {
    "duration": -2365,
    "start_time": "2021-09-16T01:01:24.783Z"
   },
   {
    "duration": -2369,
    "start_time": "2021-09-16T01:01:24.789Z"
   },
   {
    "duration": -2372,
    "start_time": "2021-09-16T01:01:24.794Z"
   },
   {
    "duration": -2377,
    "start_time": "2021-09-16T01:01:24.801Z"
   },
   {
    "duration": -2381,
    "start_time": "2021-09-16T01:01:24.807Z"
   },
   {
    "duration": -2398,
    "start_time": "2021-09-16T01:01:24.825Z"
   },
   {
    "duration": -2414,
    "start_time": "2021-09-16T01:01:24.842Z"
   },
   {
    "duration": -2418,
    "start_time": "2021-09-16T01:01:24.848Z"
   },
   {
    "duration": -2425,
    "start_time": "2021-09-16T01:01:24.856Z"
   },
   {
    "duration": -2445,
    "start_time": "2021-09-16T01:01:24.877Z"
   },
   {
    "duration": -2484,
    "start_time": "2021-09-16T01:01:24.917Z"
   },
   {
    "duration": -2443,
    "start_time": "2021-09-16T01:01:24.925Z"
   },
   {
    "duration": -2489,
    "start_time": "2021-09-16T01:01:24.974Z"
   },
   {
    "duration": -2519,
    "start_time": "2021-09-16T01:01:25.006Z"
   },
   {
    "duration": -2530,
    "start_time": "2021-09-16T01:01:25.019Z"
   },
   {
    "duration": -2534,
    "start_time": "2021-09-16T01:01:25.025Z"
   },
   {
    "duration": -2536,
    "start_time": "2021-09-16T01:01:25.030Z"
   },
   {
    "duration": -2540,
    "start_time": "2021-09-16T01:01:25.036Z"
   },
   {
    "duration": -2544,
    "start_time": "2021-09-16T01:01:25.042Z"
   },
   {
    "duration": -2548,
    "start_time": "2021-09-16T01:01:25.048Z"
   },
   {
    "duration": -2551,
    "start_time": "2021-09-16T01:01:25.054Z"
   },
   {
    "duration": -2567,
    "start_time": "2021-09-16T01:01:25.072Z"
   },
   {
    "duration": -2578,
    "start_time": "2021-09-16T01:01:25.085Z"
   },
   {
    "duration": -2589,
    "start_time": "2021-09-16T01:01:25.098Z"
   },
   {
    "duration": -2602,
    "start_time": "2021-09-16T01:01:25.114Z"
   },
   {
    "duration": -2636,
    "start_time": "2021-09-16T01:01:25.150Z"
   },
   {
    "duration": -2640,
    "start_time": "2021-09-16T01:01:25.156Z"
   },
   {
    "duration": -2644,
    "start_time": "2021-09-16T01:01:25.162Z"
   },
   {
    "duration": -2683,
    "start_time": "2021-09-16T01:01:25.266Z"
   },
   {
    "duration": -2742,
    "start_time": "2021-09-16T01:01:25.328Z"
   },
   {
    "duration": -2745,
    "start_time": "2021-09-16T01:01:25.333Z"
   },
   {
    "duration": -2749,
    "start_time": "2021-09-16T01:01:25.339Z"
   },
   {
    "duration": -2753,
    "start_time": "2021-09-16T01:01:25.345Z"
   },
   {
    "duration": -2757,
    "start_time": "2021-09-16T01:01:25.351Z"
   },
   {
    "duration": -2763,
    "start_time": "2021-09-16T01:01:25.359Z"
   },
   {
    "duration": -2766,
    "start_time": "2021-09-16T01:01:25.364Z"
   },
   {
    "duration": -2770,
    "start_time": "2021-09-16T01:01:25.370Z"
   },
   {
    "duration": -2774,
    "start_time": "2021-09-16T01:01:25.376Z"
   },
   {
    "duration": -2881,
    "start_time": "2021-09-16T01:01:25.485Z"
   },
   {
    "duration": -2891,
    "start_time": "2021-09-16T01:01:25.497Z"
   },
   {
    "duration": -2896,
    "start_time": "2021-09-16T01:01:25.504Z"
   },
   {
    "duration": -2904,
    "start_time": "2021-09-16T01:01:25.515Z"
   },
   {
    "duration": -2923,
    "start_time": "2021-09-16T01:01:25.536Z"
   },
   {
    "duration": -2933,
    "start_time": "2021-09-16T01:01:25.547Z"
   },
   {
    "duration": -2940,
    "start_time": "2021-09-16T01:01:25.556Z"
   },
   {
    "duration": -2949,
    "start_time": "2021-09-16T01:01:25.567Z"
   },
   {
    "duration": -2954,
    "start_time": "2021-09-16T01:01:25.573Z"
   },
   {
    "duration": -2906,
    "start_time": "2021-09-16T01:01:25.589Z"
   },
   {
    "duration": -2918,
    "start_time": "2021-09-16T01:01:25.603Z"
   },
   {
    "duration": 6,
    "start_time": "2021-09-16T01:02:18.924Z"
   },
   {
    "duration": 1968,
    "start_time": "2021-09-16T01:02:33.348Z"
   },
   {
    "duration": 2009,
    "start_time": "2021-09-16T01:02:40.112Z"
   },
   {
    "duration": 101,
    "start_time": "2021-09-16T01:02:53.738Z"
   },
   {
    "duration": 91,
    "start_time": "2021-09-16T01:03:03.483Z"
   },
   {
    "duration": 2062,
    "start_time": "2021-09-16T01:03:10.585Z"
   },
   {
    "duration": 266,
    "start_time": "2021-09-16T01:03:19.854Z"
   },
   {
    "duration": 275,
    "start_time": "2021-09-16T01:03:22.750Z"
   },
   {
    "duration": 6,
    "start_time": "2021-09-16T01:04:57.322Z"
   },
   {
    "duration": 8,
    "start_time": "2021-09-16T01:05:04.937Z"
   },
   {
    "duration": 6,
    "start_time": "2021-09-16T01:05:59.424Z"
   },
   {
    "duration": 256,
    "start_time": "2021-09-16T01:06:34.708Z"
   },
   {
    "duration": 7,
    "start_time": "2021-09-16T01:06:42.652Z"
   },
   {
    "duration": 2061,
    "start_time": "2021-09-16T01:08:30.750Z"
   },
   {
    "duration": 10,
    "start_time": "2021-09-16T01:09:48.148Z"
   },
   {
    "duration": 1867,
    "start_time": "2021-09-16T01:09:51.485Z"
   },
   {
    "duration": 9,
    "start_time": "2021-09-16T01:13:55.025Z"
   },
   {
    "duration": 6,
    "start_time": "2021-09-16T01:17:15.928Z"
   },
   {
    "duration": 7,
    "start_time": "2021-09-16T01:17:27.370Z"
   },
   {
    "duration": 7,
    "start_time": "2021-09-16T01:18:22.560Z"
   },
   {
    "duration": 14,
    "start_time": "2021-09-16T01:20:32.449Z"
   },
   {
    "duration": 13,
    "start_time": "2021-09-16T01:21:10.391Z"
   },
   {
    "duration": 6,
    "start_time": "2021-09-16T01:21:21.907Z"
   },
   {
    "duration": 12,
    "start_time": "2021-09-16T01:21:38.185Z"
   },
   {
    "duration": 16,
    "start_time": "2021-09-16T01:21:42.280Z"
   },
   {
    "duration": 9,
    "start_time": "2021-09-16T01:31:08.216Z"
   },
   {
    "duration": 9,
    "start_time": "2021-09-16T01:31:12.461Z"
   },
   {
    "duration": 6,
    "start_time": "2021-09-16T01:31:30.521Z"
   },
   {
    "duration": 10,
    "start_time": "2021-09-16T01:31:35.783Z"
   },
   {
    "duration": 11,
    "start_time": "2021-09-16T01:31:37.647Z"
   },
   {
    "duration": 257,
    "start_time": "2021-09-16T01:32:12.862Z"
   },
   {
    "duration": 6,
    "start_time": "2021-09-16T01:32:17.523Z"
   },
   {
    "duration": 9,
    "start_time": "2021-09-16T01:33:22.823Z"
   },
   {
    "duration": 14,
    "start_time": "2021-09-16T01:33:25.900Z"
   },
   {
    "duration": 8,
    "start_time": "2021-09-16T01:34:09.694Z"
   },
   {
    "duration": 8,
    "start_time": "2021-09-16T01:34:11.260Z"
   },
   {
    "duration": 8,
    "start_time": "2021-09-16T01:34:18.051Z"
   },
   {
    "duration": 8,
    "start_time": "2021-09-16T01:34:18.813Z"
   },
   {
    "duration": 1636,
    "start_time": "2021-09-16T01:34:36.662Z"
   },
   {
    "duration": 232,
    "start_time": "2021-09-16T01:34:38.300Z"
   },
   {
    "duration": 25,
    "start_time": "2021-09-16T01:34:38.536Z"
   },
   {
    "duration": 21,
    "start_time": "2021-09-16T01:34:38.564Z"
   },
   {
    "duration": 79,
    "start_time": "2021-09-16T01:34:38.587Z"
   },
   {
    "duration": 5,
    "start_time": "2021-09-16T01:34:38.682Z"
   },
   {
    "duration": 98,
    "start_time": "2021-09-16T01:34:38.689Z"
   },
   {
    "duration": 87,
    "start_time": "2021-09-16T01:34:38.790Z"
   },
   {
    "duration": 3,
    "start_time": "2021-09-16T01:34:38.881Z"
   },
   {
    "duration": 77,
    "start_time": "2021-09-16T01:34:38.887Z"
   },
   {
    "duration": 19,
    "start_time": "2021-09-16T01:34:38.967Z"
   },
   {
    "duration": 15,
    "start_time": "2021-09-16T01:34:38.989Z"
   },
   {
    "duration": 19,
    "start_time": "2021-09-16T01:34:39.006Z"
   },
   {
    "duration": 7,
    "start_time": "2021-09-16T01:34:39.027Z"
   },
   {
    "duration": 18,
    "start_time": "2021-09-16T01:34:39.037Z"
   },
   {
    "duration": 28,
    "start_time": "2021-09-16T01:34:39.057Z"
   },
   {
    "duration": 7,
    "start_time": "2021-09-16T01:34:39.087Z"
   },
   {
    "duration": 14,
    "start_time": "2021-09-16T01:34:39.096Z"
   },
   {
    "duration": 11,
    "start_time": "2021-09-16T01:34:39.112Z"
   },
   {
    "duration": 10,
    "start_time": "2021-09-16T01:34:39.124Z"
   },
   {
    "duration": 15,
    "start_time": "2021-09-16T01:34:39.136Z"
   },
   {
    "duration": 32,
    "start_time": "2021-09-16T01:34:39.154Z"
   },
   {
    "duration": 15,
    "start_time": "2021-09-16T01:34:39.189Z"
   },
   {
    "duration": 12,
    "start_time": "2021-09-16T01:34:39.207Z"
   },
   {
    "duration": 18,
    "start_time": "2021-09-16T01:34:39.221Z"
   },
   {
    "duration": 4,
    "start_time": "2021-09-16T01:34:39.242Z"
   },
   {
    "duration": 38,
    "start_time": "2021-09-16T01:34:39.252Z"
   },
   {
    "duration": 5,
    "start_time": "2021-09-16T01:34:39.294Z"
   },
   {
    "duration": 18,
    "start_time": "2021-09-16T01:34:39.302Z"
   },
   {
    "duration": 15,
    "start_time": "2021-09-16T01:34:39.323Z"
   },
   {
    "duration": 55,
    "start_time": "2021-09-16T01:34:39.341Z"
   },
   {
    "duration": 7,
    "start_time": "2021-09-16T01:34:39.398Z"
   },
   {
    "duration": 98,
    "start_time": "2021-09-16T01:34:39.408Z"
   },
   {
    "duration": -3403,
    "start_time": "2021-09-16T01:34:42.912Z"
   },
   {
    "duration": -3406,
    "start_time": "2021-09-16T01:34:42.916Z"
   },
   {
    "duration": -3409,
    "start_time": "2021-09-16T01:34:42.921Z"
   },
   {
    "duration": -3412,
    "start_time": "2021-09-16T01:34:42.925Z"
   },
   {
    "duration": -3415,
    "start_time": "2021-09-16T01:34:42.929Z"
   },
   {
    "duration": -3418,
    "start_time": "2021-09-16T01:34:42.934Z"
   },
   {
    "duration": -3421,
    "start_time": "2021-09-16T01:34:42.938Z"
   },
   {
    "duration": -3425,
    "start_time": "2021-09-16T01:34:42.943Z"
   },
   {
    "duration": -3427,
    "start_time": "2021-09-16T01:34:42.947Z"
   },
   {
    "duration": -3432,
    "start_time": "2021-09-16T01:34:42.953Z"
   },
   {
    "duration": -3435,
    "start_time": "2021-09-16T01:34:42.957Z"
   },
   {
    "duration": -3439,
    "start_time": "2021-09-16T01:34:42.962Z"
   },
   {
    "duration": -3441,
    "start_time": "2021-09-16T01:34:42.966Z"
   },
   {
    "duration": -3481,
    "start_time": "2021-09-16T01:34:43.007Z"
   },
   {
    "duration": -3488,
    "start_time": "2021-09-16T01:34:43.015Z"
   },
   {
    "duration": -3491,
    "start_time": "2021-09-16T01:34:43.019Z"
   },
   {
    "duration": -3494,
    "start_time": "2021-09-16T01:34:43.024Z"
   },
   {
    "duration": -3497,
    "start_time": "2021-09-16T01:34:43.028Z"
   },
   {
    "duration": -3506,
    "start_time": "2021-09-16T01:34:43.038Z"
   },
   {
    "duration": -3509,
    "start_time": "2021-09-16T01:34:43.043Z"
   },
   {
    "duration": -3536,
    "start_time": "2021-09-16T01:34:43.071Z"
   },
   {
    "duration": -3539,
    "start_time": "2021-09-16T01:34:43.076Z"
   },
   {
    "duration": -3541,
    "start_time": "2021-09-16T01:34:43.079Z"
   },
   {
    "duration": -3544,
    "start_time": "2021-09-16T01:34:43.084Z"
   },
   {
    "duration": 10,
    "start_time": "2021-09-16T01:35:15.252Z"
   },
   {
    "duration": 8,
    "start_time": "2021-09-16T01:35:17.836Z"
   },
   {
    "duration": 9,
    "start_time": "2021-09-16T01:35:19.143Z"
   },
   {
    "duration": 10,
    "start_time": "2021-09-16T01:35:31.766Z"
   },
   {
    "duration": 8,
    "start_time": "2021-09-16T01:35:33.599Z"
   },
   {
    "duration": 8,
    "start_time": "2021-09-16T01:35:52.082Z"
   },
   {
    "duration": 8,
    "start_time": "2021-09-16T01:36:03.893Z"
   },
   {
    "duration": 8,
    "start_time": "2021-09-16T01:36:05.763Z"
   },
   {
    "duration": 9,
    "start_time": "2021-09-16T01:36:09.102Z"
   },
   {
    "duration": 21,
    "start_time": "2021-09-16T01:41:25.306Z"
   },
   {
    "duration": 12,
    "start_time": "2021-09-16T01:41:53.456Z"
   },
   {
    "duration": 9,
    "start_time": "2021-09-16T01:42:21.543Z"
   },
   {
    "duration": 22,
    "start_time": "2021-09-16T01:42:24.239Z"
   },
   {
    "duration": 41,
    "start_time": "2021-09-16T01:42:38.803Z"
   },
   {
    "duration": 12,
    "start_time": "2021-09-16T01:48:46.839Z"
   },
   {
    "duration": 410,
    "start_time": "2021-09-16T01:48:56.359Z"
   },
   {
    "duration": 12,
    "start_time": "2021-09-16T01:49:04.522Z"
   },
   {
    "duration": 30,
    "start_time": "2021-09-16T01:49:50.148Z"
   },
   {
    "duration": 432,
    "start_time": "2021-09-16T01:50:12.535Z"
   },
   {
    "duration": 867,
    "start_time": "2021-09-16T01:50:15.003Z"
   },
   {
    "duration": 425,
    "start_time": "2021-09-16T01:50:22.214Z"
   },
   {
    "duration": 1765,
    "start_time": "2021-09-16T01:50:40.839Z"
   },
   {
    "duration": 231,
    "start_time": "2021-09-16T01:50:42.606Z"
   },
   {
    "duration": 27,
    "start_time": "2021-09-16T01:50:42.840Z"
   },
   {
    "duration": 23,
    "start_time": "2021-09-16T01:50:42.869Z"
   },
   {
    "duration": 74,
    "start_time": "2021-09-16T01:50:42.895Z"
   },
   {
    "duration": 6,
    "start_time": "2021-09-16T01:50:42.983Z"
   },
   {
    "duration": 19,
    "start_time": "2021-09-16T01:50:42.991Z"
   },
   {
    "duration": 28,
    "start_time": "2021-09-16T01:50:43.013Z"
   },
   {
    "duration": 4,
    "start_time": "2021-09-16T01:50:43.044Z"
   },
   {
    "duration": 99,
    "start_time": "2021-09-16T01:50:43.050Z"
   },
   {
    "duration": 12,
    "start_time": "2021-09-16T01:50:43.151Z"
   },
   {
    "duration": 22,
    "start_time": "2021-09-16T01:50:43.166Z"
   },
   {
    "duration": 10,
    "start_time": "2021-09-16T01:50:43.191Z"
   },
   {
    "duration": 7,
    "start_time": "2021-09-16T01:50:43.203Z"
   },
   {
    "duration": 8,
    "start_time": "2021-09-16T01:50:43.213Z"
   },
   {
    "duration": 7,
    "start_time": "2021-09-16T01:50:43.223Z"
   },
   {
    "duration": 8,
    "start_time": "2021-09-16T01:50:43.283Z"
   },
   {
    "duration": 13,
    "start_time": "2021-09-16T01:50:43.294Z"
   },
   {
    "duration": 8,
    "start_time": "2021-09-16T01:50:43.309Z"
   },
   {
    "duration": 7,
    "start_time": "2021-09-16T01:50:43.319Z"
   },
   {
    "duration": 55,
    "start_time": "2021-09-16T01:50:43.329Z"
   },
   {
    "duration": 11,
    "start_time": "2021-09-16T01:50:43.386Z"
   },
   {
    "duration": 11,
    "start_time": "2021-09-16T01:50:43.404Z"
   },
   {
    "duration": 6,
    "start_time": "2021-09-16T01:50:43.419Z"
   },
   {
    "duration": 59,
    "start_time": "2021-09-16T01:50:43.428Z"
   },
   {
    "duration": 5,
    "start_time": "2021-09-16T01:50:43.490Z"
   },
   {
    "duration": 14,
    "start_time": "2021-09-16T01:50:43.498Z"
   },
   {
    "duration": 5,
    "start_time": "2021-09-16T01:50:43.514Z"
   },
   {
    "duration": 16,
    "start_time": "2021-09-16T01:50:43.521Z"
   },
   {
    "duration": 47,
    "start_time": "2021-09-16T01:50:43.539Z"
   },
   {
    "duration": 16,
    "start_time": "2021-09-16T01:50:43.588Z"
   },
   {
    "duration": 10,
    "start_time": "2021-09-16T01:50:43.606Z"
   },
   {
    "duration": 10,
    "start_time": "2021-09-16T01:50:43.618Z"
   },
   {
    "duration": 15,
    "start_time": "2021-09-16T01:50:43.630Z"
   },
   {
    "duration": 35,
    "start_time": "2021-09-16T01:50:43.647Z"
   },
   {
    "duration": 20,
    "start_time": "2021-09-16T01:50:43.685Z"
   },
   {
    "duration": 7,
    "start_time": "2021-09-16T01:50:43.708Z"
   },
   {
    "duration": 24,
    "start_time": "2021-09-16T01:50:43.718Z"
   },
   {
    "duration": 70,
    "start_time": "2021-09-16T01:50:43.744Z"
   },
   {
    "duration": 8,
    "start_time": "2021-09-16T01:50:43.817Z"
   },
   {
    "duration": 84,
    "start_time": "2021-09-16T01:50:43.827Z"
   },
   {
    "duration": -839,
    "start_time": "2021-09-16T01:50:44.753Z"
   },
   {
    "duration": -872,
    "start_time": "2021-09-16T01:50:44.787Z"
   },
   {
    "duration": -877,
    "start_time": "2021-09-16T01:50:44.793Z"
   },
   {
    "duration": -880,
    "start_time": "2021-09-16T01:50:44.798Z"
   },
   {
    "duration": -899,
    "start_time": "2021-09-16T01:50:44.818Z"
   },
   {
    "duration": -911,
    "start_time": "2021-09-16T01:50:44.831Z"
   },
   {
    "duration": -915,
    "start_time": "2021-09-16T01:50:44.837Z"
   },
   {
    "duration": -927,
    "start_time": "2021-09-16T01:50:44.850Z"
   },
   {
    "duration": -938,
    "start_time": "2021-09-16T01:50:44.862Z"
   },
   {
    "duration": -944,
    "start_time": "2021-09-16T01:50:44.870Z"
   },
   {
    "duration": -955,
    "start_time": "2021-09-16T01:50:44.882Z"
   },
   {
    "duration": -963,
    "start_time": "2021-09-16T01:50:44.891Z"
   },
   {
    "duration": -971,
    "start_time": "2021-09-16T01:50:44.900Z"
   },
   {
    "duration": -981,
    "start_time": "2021-09-16T01:50:44.911Z"
   },
   {
    "duration": 16,
    "start_time": "2021-09-16T01:50:50.458Z"
   },
   {
    "duration": 19,
    "start_time": "2021-09-16T01:50:52.722Z"
   },
   {
    "duration": 11,
    "start_time": "2021-09-16T01:50:59.949Z"
   },
   {
    "duration": 12,
    "start_time": "2021-09-16T01:51:17.308Z"
   },
   {
    "duration": 29534,
    "start_time": "2021-09-16T01:51:22.726Z"
   },
   {
    "duration": 9,
    "start_time": "2021-09-16T01:51:52.263Z"
   },
   {
    "duration": 445,
    "start_time": "2021-09-16T01:53:04.767Z"
   },
   {
    "duration": 1642,
    "start_time": "2021-09-16T01:54:53.052Z"
   },
   {
    "duration": 223,
    "start_time": "2021-09-16T01:54:54.697Z"
   },
   {
    "duration": 25,
    "start_time": "2021-09-16T01:54:54.923Z"
   },
   {
    "duration": 32,
    "start_time": "2021-09-16T01:54:54.951Z"
   },
   {
    "duration": 73,
    "start_time": "2021-09-16T01:54:54.986Z"
   },
   {
    "duration": 23,
    "start_time": "2021-09-16T01:54:55.061Z"
   },
   {
    "duration": 12,
    "start_time": "2021-09-16T01:54:55.086Z"
   },
   {
    "duration": 24,
    "start_time": "2021-09-16T01:54:55.100Z"
   },
   {
    "duration": 2,
    "start_time": "2021-09-16T01:54:55.128Z"
   },
   {
    "duration": 105,
    "start_time": "2021-09-16T01:54:55.135Z"
   },
   {
    "duration": 14,
    "start_time": "2021-09-16T01:54:55.243Z"
   },
   {
    "duration": 24,
    "start_time": "2021-09-16T01:54:55.260Z"
   },
   {
    "duration": 11,
    "start_time": "2021-09-16T01:54:55.287Z"
   },
   {
    "duration": 14,
    "start_time": "2021-09-16T01:54:55.300Z"
   },
   {
    "duration": 8,
    "start_time": "2021-09-16T01:54:55.316Z"
   },
   {
    "duration": 5,
    "start_time": "2021-09-16T01:54:55.327Z"
   },
   {
    "duration": 50,
    "start_time": "2021-09-16T01:54:55.334Z"
   },
   {
    "duration": 6,
    "start_time": "2021-09-16T01:54:55.386Z"
   },
   {
    "duration": 8,
    "start_time": "2021-09-16T01:54:55.394Z"
   },
   {
    "duration": 6,
    "start_time": "2021-09-16T01:54:55.404Z"
   },
   {
    "duration": 9,
    "start_time": "2021-09-16T01:54:55.411Z"
   },
   {
    "duration": 7,
    "start_time": "2021-09-16T01:54:55.422Z"
   },
   {
    "duration": 60,
    "start_time": "2021-09-16T01:54:55.432Z"
   },
   {
    "duration": 5,
    "start_time": "2021-09-16T01:54:55.494Z"
   },
   {
    "duration": 18,
    "start_time": "2021-09-16T01:54:55.502Z"
   },
   {
    "duration": 4,
    "start_time": "2021-09-16T01:54:55.523Z"
   },
   {
    "duration": 52,
    "start_time": "2021-09-16T01:54:55.533Z"
   },
   {
    "duration": 5,
    "start_time": "2021-09-16T01:54:55.588Z"
   },
   {
    "duration": 17,
    "start_time": "2021-09-16T01:54:55.595Z"
   },
   {
    "duration": 14,
    "start_time": "2021-09-16T01:54:55.614Z"
   },
   {
    "duration": 15,
    "start_time": "2021-09-16T01:54:55.630Z"
   },
   {
    "duration": 34,
    "start_time": "2021-09-16T01:54:55.648Z"
   },
   {
    "duration": 11,
    "start_time": "2021-09-16T01:54:55.685Z"
   },
   {
    "duration": 9,
    "start_time": "2021-09-16T01:54:55.698Z"
   },
   {
    "duration": 10,
    "start_time": "2021-09-16T01:54:55.709Z"
   },
   {
    "duration": 19,
    "start_time": "2021-09-16T01:54:55.721Z"
   },
   {
    "duration": 43,
    "start_time": "2021-09-16T01:54:55.743Z"
   },
   {
    "duration": 24,
    "start_time": "2021-09-16T01:54:55.788Z"
   },
   {
    "duration": 39,
    "start_time": "2021-09-16T01:54:55.815Z"
   },
   {
    "duration": 34,
    "start_time": "2021-09-16T01:54:55.856Z"
   },
   {
    "duration": 14,
    "start_time": "2021-09-16T01:54:55.893Z"
   },
   {
    "duration": 17,
    "start_time": "2021-09-16T01:54:55.909Z"
   },
   {
    "duration": 4,
    "start_time": "2021-09-16T01:54:55.929Z"
   },
   {
    "duration": 51,
    "start_time": "2021-09-16T01:54:55.935Z"
   },
   {
    "duration": 29684,
    "start_time": "2021-09-16T01:54:55.989Z"
   },
   {
    "duration": 15,
    "start_time": "2021-09-16T01:55:25.676Z"
   },
   {
    "duration": 37,
    "start_time": "2021-09-16T01:55:25.694Z"
   },
   {
    "duration": 311,
    "start_time": "2021-09-16T01:55:25.734Z"
   },
   {
    "duration": 36,
    "start_time": "2021-09-16T01:55:26.049Z"
   },
   {
    "duration": 25,
    "start_time": "2021-09-16T01:55:26.088Z"
   },
   {
    "duration": 311,
    "start_time": "2021-09-16T01:55:26.115Z"
   },
   {
    "duration": 4,
    "start_time": "2021-09-16T01:55:26.428Z"
   },
   {
    "duration": 41,
    "start_time": "2021-09-16T01:55:26.434Z"
   },
   {
    "duration": 362,
    "start_time": "2021-09-16T01:55:26.478Z"
   },
   {
    "duration": 21,
    "start_time": "2021-09-16T01:55:26.842Z"
   },
   {
    "duration": 297,
    "start_time": "2021-09-16T01:55:26.865Z"
   },
   {
    "duration": 282,
    "start_time": "2021-09-16T01:56:06.718Z"
   },
   {
    "duration": 88,
    "start_time": "2021-09-16T04:01:36.526Z"
   },
   {
    "duration": 82,
    "start_time": "2021-09-16T04:01:37.866Z"
   },
   {
    "duration": 285,
    "start_time": "2021-09-16T04:09:29.111Z"
   },
   {
    "duration": 1690,
    "start_time": "2021-09-16T04:09:41.051Z"
   },
   {
    "duration": 226,
    "start_time": "2021-09-16T04:09:42.744Z"
   },
   {
    "duration": 26,
    "start_time": "2021-09-16T04:09:42.973Z"
   },
   {
    "duration": 28,
    "start_time": "2021-09-16T04:09:43.001Z"
   },
   {
    "duration": 83,
    "start_time": "2021-09-16T04:09:43.031Z"
   },
   {
    "duration": 5,
    "start_time": "2021-09-16T04:09:43.117Z"
   },
   {
    "duration": 15,
    "start_time": "2021-09-16T04:09:43.124Z"
   },
   {
    "duration": 50,
    "start_time": "2021-09-16T04:09:43.142Z"
   },
   {
    "duration": 90,
    "start_time": "2021-09-16T04:09:43.195Z"
   },
   {
    "duration": 12,
    "start_time": "2021-09-16T04:09:43.288Z"
   },
   {
    "duration": 7,
    "start_time": "2021-09-16T04:09:43.303Z"
   },
   {
    "duration": 9,
    "start_time": "2021-09-16T04:09:43.313Z"
   },
   {
    "duration": 6,
    "start_time": "2021-09-16T04:09:43.324Z"
   },
   {
    "duration": 52,
    "start_time": "2021-09-16T04:09:43.333Z"
   },
   {
    "duration": 6,
    "start_time": "2021-09-16T04:09:43.388Z"
   },
   {
    "duration": 12,
    "start_time": "2021-09-16T04:09:43.397Z"
   },
   {
    "duration": 6,
    "start_time": "2021-09-16T04:09:43.411Z"
   },
   {
    "duration": 6,
    "start_time": "2021-09-16T04:09:43.419Z"
   },
   {
    "duration": 56,
    "start_time": "2021-09-16T04:09:43.428Z"
   },
   {
    "duration": 7,
    "start_time": "2021-09-16T04:09:43.486Z"
   },
   {
    "duration": 9,
    "start_time": "2021-09-16T04:09:43.495Z"
   },
   {
    "duration": 15,
    "start_time": "2021-09-16T04:09:43.506Z"
   },
   {
    "duration": 5,
    "start_time": "2021-09-16T04:09:43.527Z"
   },
   {
    "duration": 50,
    "start_time": "2021-09-16T04:09:43.535Z"
   },
   {
    "duration": 5,
    "start_time": "2021-09-16T04:09:43.587Z"
   },
   {
    "duration": 13,
    "start_time": "2021-09-16T04:09:43.594Z"
   },
   {
    "duration": 4,
    "start_time": "2021-09-16T04:09:43.609Z"
   },
   {
    "duration": 18,
    "start_time": "2021-09-16T04:09:43.616Z"
   },
   {
    "duration": 13,
    "start_time": "2021-09-16T04:09:43.636Z"
   },
   {
    "duration": 44,
    "start_time": "2021-09-16T04:09:43.652Z"
   },
   {
    "duration": 9,
    "start_time": "2021-09-16T04:09:43.698Z"
   },
   {
    "duration": 9,
    "start_time": "2021-09-16T04:09:43.709Z"
   },
   {
    "duration": 8,
    "start_time": "2021-09-16T04:09:43.720Z"
   },
   {
    "duration": 9,
    "start_time": "2021-09-16T04:09:43.730Z"
   },
   {
    "duration": 55,
    "start_time": "2021-09-16T04:09:43.741Z"
   },
   {
    "duration": 8,
    "start_time": "2021-09-16T04:09:43.798Z"
   },
   {
    "duration": 25,
    "start_time": "2021-09-16T04:09:43.809Z"
   },
   {
    "duration": 76,
    "start_time": "2021-09-16T04:09:43.836Z"
   },
   {
    "duration": 88,
    "start_time": "2021-09-16T04:09:43.915Z"
   },
   {
    "duration": -2677,
    "start_time": "2021-09-16T04:09:46.683Z"
   },
   {
    "duration": -2681,
    "start_time": "2021-09-16T04:09:46.688Z"
   },
   {
    "duration": -2688,
    "start_time": "2021-09-16T04:09:46.696Z"
   },
   {
    "duration": -2692,
    "start_time": "2021-09-16T04:09:46.702Z"
   },
   {
    "duration": -2695,
    "start_time": "2021-09-16T04:09:46.706Z"
   },
   {
    "duration": -2698,
    "start_time": "2021-09-16T04:09:46.710Z"
   },
   {
    "duration": -2701,
    "start_time": "2021-09-16T04:09:46.715Z"
   },
   {
    "duration": -2704,
    "start_time": "2021-09-16T04:09:46.719Z"
   },
   {
    "duration": -2803,
    "start_time": "2021-09-16T04:09:46.819Z"
   },
   {
    "duration": -2805,
    "start_time": "2021-09-16T04:09:46.823Z"
   },
   {
    "duration": -2809,
    "start_time": "2021-09-16T04:09:46.828Z"
   },
   {
    "duration": -2811,
    "start_time": "2021-09-16T04:09:46.831Z"
   },
   {
    "duration": -2815,
    "start_time": "2021-09-16T04:09:46.836Z"
   },
   {
    "duration": -2817,
    "start_time": "2021-09-16T04:09:46.840Z"
   },
   {
    "duration": -2820,
    "start_time": "2021-09-16T04:09:46.844Z"
   },
   {
    "duration": 429,
    "start_time": "2021-09-16T04:10:05.626Z"
   },
   {
    "duration": 6,
    "start_time": "2021-09-16T04:10:25.810Z"
   },
   {
    "duration": 10,
    "start_time": "2021-09-16T04:10:38.326Z"
   },
   {
    "duration": 335,
    "start_time": "2021-09-16T04:11:53.189Z"
   },
   {
    "duration": 10,
    "start_time": "2021-09-16T04:12:13.190Z"
   },
   {
    "duration": 16,
    "start_time": "2021-09-16T04:12:24.457Z"
   },
   {
    "duration": 17,
    "start_time": "2021-09-16T04:12:27.156Z"
   },
   {
    "duration": 19,
    "start_time": "2021-09-16T04:12:31.052Z"
   },
   {
    "duration": 22,
    "start_time": "2021-09-16T04:12:35.542Z"
   },
   {
    "duration": 25,
    "start_time": "2021-09-16T04:12:42.534Z"
   },
   {
    "duration": 42,
    "start_time": "2021-09-16T04:12:59.319Z"
   },
   {
    "duration": 151,
    "start_time": "2021-09-16T04:13:08.759Z"
   },
   {
    "duration": 18,
    "start_time": "2021-09-16T04:13:13.863Z"
   },
   {
    "duration": 1825,
    "start_time": "2021-09-16T04:13:34.159Z"
   },
   {
    "duration": 292,
    "start_time": "2021-09-16T04:13:35.987Z"
   },
   {
    "duration": 29,
    "start_time": "2021-09-16T04:13:36.283Z"
   },
   {
    "duration": 25,
    "start_time": "2021-09-16T04:13:36.315Z"
   },
   {
    "duration": 98,
    "start_time": "2021-09-16T04:13:36.343Z"
   },
   {
    "duration": 5,
    "start_time": "2021-09-16T04:13:36.443Z"
   },
   {
    "duration": 39,
    "start_time": "2021-09-16T04:13:36.451Z"
   },
   {
    "duration": 32,
    "start_time": "2021-09-16T04:13:36.493Z"
   },
   {
    "duration": 129,
    "start_time": "2021-09-16T04:13:36.531Z"
   },
   {
    "duration": 25,
    "start_time": "2021-09-16T04:13:36.664Z"
   },
   {
    "duration": 8,
    "start_time": "2021-09-16T04:13:36.692Z"
   },
   {
    "duration": 12,
    "start_time": "2021-09-16T04:13:36.703Z"
   },
   {
    "duration": 8,
    "start_time": "2021-09-16T04:13:36.718Z"
   },
   {
    "duration": 58,
    "start_time": "2021-09-16T04:13:36.729Z"
   },
   {
    "duration": 9,
    "start_time": "2021-09-16T04:13:36.790Z"
   },
   {
    "duration": 11,
    "start_time": "2021-09-16T04:13:36.802Z"
   },
   {
    "duration": 11,
    "start_time": "2021-09-16T04:13:36.816Z"
   },
   {
    "duration": 10,
    "start_time": "2021-09-16T04:13:36.830Z"
   },
   {
    "duration": 9,
    "start_time": "2021-09-16T04:13:36.884Z"
   },
   {
    "duration": 8,
    "start_time": "2021-09-16T04:13:36.895Z"
   },
   {
    "duration": 10,
    "start_time": "2021-09-16T04:13:36.907Z"
   },
   {
    "duration": 11,
    "start_time": "2021-09-16T04:13:36.920Z"
   },
   {
    "duration": 54,
    "start_time": "2021-09-16T04:13:36.934Z"
   },
   {
    "duration": 18,
    "start_time": "2021-09-16T04:13:36.991Z"
   },
   {
    "duration": 6,
    "start_time": "2021-09-16T04:13:37.012Z"
   },
   {
    "duration": 9,
    "start_time": "2021-09-16T04:13:37.021Z"
   },
   {
    "duration": 5,
    "start_time": "2021-09-16T04:13:37.086Z"
   },
   {
    "duration": 11,
    "start_time": "2021-09-16T04:13:37.094Z"
   },
   {
    "duration": 17,
    "start_time": "2021-09-16T04:13:37.107Z"
   },
   {
    "duration": 20,
    "start_time": "2021-09-16T04:13:37.126Z"
   },
   {
    "duration": 44,
    "start_time": "2021-09-16T04:13:37.149Z"
   },
   {
    "duration": 16,
    "start_time": "2021-09-16T04:13:37.197Z"
   },
   {
    "duration": 12,
    "start_time": "2021-09-16T04:13:37.216Z"
   },
   {
    "duration": 11,
    "start_time": "2021-09-16T04:13:37.230Z"
   },
   {
    "duration": 53,
    "start_time": "2021-09-16T04:13:37.244Z"
   },
   {
    "duration": 8,
    "start_time": "2021-09-16T04:13:37.300Z"
   },
   {
    "duration": 25,
    "start_time": "2021-09-16T04:13:37.310Z"
   },
   {
    "duration": 74,
    "start_time": "2021-09-16T04:13:37.338Z"
   },
   {
    "duration": 15,
    "start_time": "2021-09-16T04:13:37.415Z"
   },
   {
    "duration": 18,
    "start_time": "2021-09-16T04:13:37.432Z"
   },
   {
    "duration": 11,
    "start_time": "2021-09-16T04:13:37.453Z"
   },
   {
    "duration": 7,
    "start_time": "2021-09-16T04:13:37.484Z"
   },
   {
    "duration": 12,
    "start_time": "2021-09-16T04:13:37.494Z"
   },
   {
    "duration": 30339,
    "start_time": "2021-09-16T04:13:37.509Z"
   },
   {
    "duration": 9,
    "start_time": "2021-09-16T04:14:07.850Z"
   },
   {
    "duration": 37,
    "start_time": "2021-09-16T04:14:07.862Z"
   },
   {
    "duration": 400,
    "start_time": "2021-09-16T04:14:07.901Z"
   },
   {
    "duration": 21,
    "start_time": "2021-09-16T04:14:08.303Z"
   },
   {
    "duration": 20,
    "start_time": "2021-09-16T04:14:08.326Z"
   },
   {
    "duration": 324,
    "start_time": "2021-09-16T04:14:08.348Z"
   },
   {
    "duration": 20,
    "start_time": "2021-09-16T04:14:08.682Z"
   },
   {
    "duration": 365,
    "start_time": "2021-09-16T04:14:08.705Z"
   },
   {
    "duration": 29,
    "start_time": "2021-09-16T04:14:09.072Z"
   },
   {
    "duration": 277,
    "start_time": "2021-09-16T04:14:09.103Z"
   },
   {
    "duration": 91,
    "start_time": "2021-09-16T04:25:23.259Z"
   },
   {
    "duration": 3441,
    "start_time": "2021-09-16T04:25:28.246Z"
   },
   {
    "duration": 30,
    "start_time": "2021-09-16T04:25:52.376Z"
   },
   {
    "duration": 28,
    "start_time": "2021-09-16T04:25:55.526Z"
   },
   {
    "duration": 17,
    "start_time": "2021-09-16T04:26:04.702Z"
   },
   {
    "duration": 1621,
    "start_time": "2021-09-16T04:26:30.117Z"
   },
   {
    "duration": 199,
    "start_time": "2021-09-16T04:26:31.740Z"
   },
   {
    "duration": 25,
    "start_time": "2021-09-16T04:26:31.942Z"
   },
   {
    "duration": 33,
    "start_time": "2021-09-16T04:26:31.970Z"
   },
   {
    "duration": 86,
    "start_time": "2021-09-16T04:26:32.005Z"
   },
   {
    "duration": 5,
    "start_time": "2021-09-16T04:26:32.094Z"
   },
   {
    "duration": 14,
    "start_time": "2021-09-16T04:26:32.101Z"
   },
   {
    "duration": 20,
    "start_time": "2021-09-16T04:26:32.117Z"
   },
   {
    "duration": 107,
    "start_time": "2021-09-16T04:26:32.141Z"
   },
   {
    "duration": 12,
    "start_time": "2021-09-16T04:26:32.252Z"
   },
   {
    "duration": 19,
    "start_time": "2021-09-16T04:26:32.266Z"
   },
   {
    "duration": 11,
    "start_time": "2021-09-16T04:26:32.287Z"
   },
   {
    "duration": 6,
    "start_time": "2021-09-16T04:26:32.300Z"
   },
   {
    "duration": 8,
    "start_time": "2021-09-16T04:26:32.308Z"
   },
   {
    "duration": 9,
    "start_time": "2021-09-16T04:26:32.319Z"
   },
   {
    "duration": 53,
    "start_time": "2021-09-16T04:26:32.331Z"
   },
   {
    "duration": 6,
    "start_time": "2021-09-16T04:26:32.386Z"
   },
   {
    "duration": 8,
    "start_time": "2021-09-16T04:26:32.394Z"
   },
   {
    "duration": 6,
    "start_time": "2021-09-16T04:26:32.404Z"
   },
   {
    "duration": 8,
    "start_time": "2021-09-16T04:26:32.413Z"
   },
   {
    "duration": 7,
    "start_time": "2021-09-16T04:26:32.423Z"
   },
   {
    "duration": 11,
    "start_time": "2021-09-16T04:26:32.483Z"
   },
   {
    "duration": 6,
    "start_time": "2021-09-16T04:26:32.497Z"
   },
   {
    "duration": 17,
    "start_time": "2021-09-16T04:26:32.505Z"
   },
   {
    "duration": 4,
    "start_time": "2021-09-16T04:26:32.525Z"
   },
   {
    "duration": 51,
    "start_time": "2021-09-16T04:26:32.532Z"
   },
   {
    "duration": 5,
    "start_time": "2021-09-16T04:26:32.591Z"
   },
   {
    "duration": 10,
    "start_time": "2021-09-16T04:26:32.600Z"
   },
   {
    "duration": 14,
    "start_time": "2021-09-16T04:26:32.612Z"
   },
   {
    "duration": 56,
    "start_time": "2021-09-16T04:26:32.629Z"
   },
   {
    "duration": 6,
    "start_time": "2021-09-16T04:26:32.688Z"
   },
   {
    "duration": 11,
    "start_time": "2021-09-16T04:26:32.697Z"
   },
   {
    "duration": 10,
    "start_time": "2021-09-16T04:26:32.710Z"
   },
   {
    "duration": 9,
    "start_time": "2021-09-16T04:26:32.723Z"
   },
   {
    "duration": 58,
    "start_time": "2021-09-16T04:26:32.734Z"
   },
   {
    "duration": 9,
    "start_time": "2021-09-16T04:26:32.795Z"
   },
   {
    "duration": 28,
    "start_time": "2021-09-16T04:26:32.807Z"
   },
   {
    "duration": 65,
    "start_time": "2021-09-16T04:26:32.837Z"
   },
   {
    "duration": 16,
    "start_time": "2021-09-16T04:26:32.905Z"
   },
   {
    "duration": 35,
    "start_time": "2021-09-16T04:26:32.923Z"
   },
   {
    "duration": 96,
    "start_time": "2021-09-16T04:26:32.960Z"
   },
   {
    "duration": -863,
    "start_time": "2021-09-16T04:26:33.921Z"
   },
   {
    "duration": -895,
    "start_time": "2021-09-16T04:26:33.955Z"
   },
   {
    "duration": -901,
    "start_time": "2021-09-16T04:26:33.962Z"
   },
   {
    "duration": -906,
    "start_time": "2021-09-16T04:26:33.968Z"
   },
   {
    "duration": -909,
    "start_time": "2021-09-16T04:26:33.973Z"
   },
   {
    "duration": -912,
    "start_time": "2021-09-16T04:26:33.977Z"
   },
   {
    "duration": -914,
    "start_time": "2021-09-16T04:26:33.981Z"
   },
   {
    "duration": -917,
    "start_time": "2021-09-16T04:26:33.985Z"
   },
   {
    "duration": -920,
    "start_time": "2021-09-16T04:26:33.989Z"
   },
   {
    "duration": -926,
    "start_time": "2021-09-16T04:26:33.997Z"
   },
   {
    "duration": -930,
    "start_time": "2021-09-16T04:26:34.002Z"
   },
   {
    "duration": -934,
    "start_time": "2021-09-16T04:26:34.007Z"
   },
   {
    "duration": -935,
    "start_time": "2021-09-16T04:26:34.010Z"
   },
   {
    "duration": -939,
    "start_time": "2021-09-16T04:26:34.015Z"
   },
   {
    "duration": -941,
    "start_time": "2021-09-16T04:26:34.019Z"
   },
   {
    "duration": 17,
    "start_time": "2021-09-16T04:31:00.237Z"
   },
   {
    "duration": 85,
    "start_time": "2021-09-16T04:31:08.772Z"
   },
   {
    "duration": 27,
    "start_time": "2021-09-16T04:31:13.924Z"
   },
   {
    "duration": 72,
    "start_time": "2021-09-16T04:31:23.193Z"
   },
   {
    "duration": 11,
    "start_time": "2021-09-16T04:31:25.993Z"
   },
   {
    "duration": 1659,
    "start_time": "2021-09-16T04:31:56.368Z"
   },
   {
    "duration": 235,
    "start_time": "2021-09-16T04:31:58.030Z"
   },
   {
    "duration": 27,
    "start_time": "2021-09-16T04:31:58.268Z"
   },
   {
    "duration": 15,
    "start_time": "2021-09-16T04:31:58.299Z"
   },
   {
    "duration": 106,
    "start_time": "2021-09-16T04:31:58.317Z"
   },
   {
    "duration": 6,
    "start_time": "2021-09-16T04:31:58.426Z"
   },
   {
    "duration": 12,
    "start_time": "2021-09-16T04:31:58.434Z"
   },
   {
    "duration": 46,
    "start_time": "2021-09-16T04:31:58.450Z"
   },
   {
    "duration": 83,
    "start_time": "2021-09-16T04:31:58.499Z"
   },
   {
    "duration": 13,
    "start_time": "2021-09-16T04:31:58.584Z"
   },
   {
    "duration": 11,
    "start_time": "2021-09-16T04:31:58.600Z"
   },
   {
    "duration": 10,
    "start_time": "2021-09-16T04:31:58.613Z"
   },
   {
    "duration": 6,
    "start_time": "2021-09-16T04:31:58.625Z"
   },
   {
    "duration": 8,
    "start_time": "2021-09-16T04:31:58.634Z"
   },
   {
    "duration": 7,
    "start_time": "2021-09-16T04:31:58.683Z"
   },
   {
    "duration": 8,
    "start_time": "2021-09-16T04:31:58.693Z"
   },
   {
    "duration": 6,
    "start_time": "2021-09-16T04:31:58.703Z"
   },
   {
    "duration": 9,
    "start_time": "2021-09-16T04:31:58.711Z"
   },
   {
    "duration": 62,
    "start_time": "2021-09-16T04:31:58.722Z"
   },
   {
    "duration": 10,
    "start_time": "2021-09-16T04:31:58.788Z"
   },
   {
    "duration": 10,
    "start_time": "2021-09-16T04:31:58.800Z"
   },
   {
    "duration": 11,
    "start_time": "2021-09-16T04:31:58.813Z"
   },
   {
    "duration": 53,
    "start_time": "2021-09-16T04:31:58.829Z"
   },
   {
    "duration": 16,
    "start_time": "2021-09-16T04:31:58.886Z"
   },
   {
    "duration": 5,
    "start_time": "2021-09-16T04:31:58.904Z"
   },
   {
    "duration": 10,
    "start_time": "2021-09-16T04:31:58.911Z"
   },
   {
    "duration": 7,
    "start_time": "2021-09-16T04:31:58.924Z"
   },
   {
    "duration": 9,
    "start_time": "2021-09-16T04:31:58.934Z"
   },
   {
    "duration": 15,
    "start_time": "2021-09-16T04:31:58.984Z"
   },
   {
    "duration": 17,
    "start_time": "2021-09-16T04:31:59.002Z"
   },
   {
    "duration": 6,
    "start_time": "2021-09-16T04:31:59.022Z"
   },
   {
    "duration": 55,
    "start_time": "2021-09-16T04:31:59.031Z"
   },
   {
    "duration": 11,
    "start_time": "2021-09-16T04:31:59.089Z"
   },
   {
    "duration": 11,
    "start_time": "2021-09-16T04:31:59.103Z"
   },
   {
    "duration": 23,
    "start_time": "2021-09-16T04:31:59.117Z"
   },
   {
    "duration": 45,
    "start_time": "2021-09-16T04:31:59.143Z"
   },
   {
    "duration": 25,
    "start_time": "2021-09-16T04:31:59.192Z"
   },
   {
    "duration": 79,
    "start_time": "2021-09-16T04:31:59.220Z"
   },
   {
    "duration": 90,
    "start_time": "2021-09-16T04:31:59.302Z"
   },
   {
    "duration": -1054,
    "start_time": "2021-09-16T04:32:00.449Z"
   },
   {
    "duration": -1057,
    "start_time": "2021-09-16T04:32:00.454Z"
   },
   {
    "duration": -1110,
    "start_time": "2021-09-16T04:32:00.509Z"
   },
   {
    "duration": -1112,
    "start_time": "2021-09-16T04:32:00.514Z"
   },
   {
    "duration": -1115,
    "start_time": "2021-09-16T04:32:00.519Z"
   },
   {
    "duration": -1129,
    "start_time": "2021-09-16T04:32:00.535Z"
   },
   {
    "duration": -1131,
    "start_time": "2021-09-16T04:32:00.539Z"
   },
   {
    "duration": -1134,
    "start_time": "2021-09-16T04:32:00.544Z"
   },
   {
    "duration": -1135,
    "start_time": "2021-09-16T04:32:00.548Z"
   },
   {
    "duration": -1138,
    "start_time": "2021-09-16T04:32:00.553Z"
   },
   {
    "duration": -1158,
    "start_time": "2021-09-16T04:32:00.575Z"
   },
   {
    "duration": -1160,
    "start_time": "2021-09-16T04:32:00.580Z"
   },
   {
    "duration": -1162,
    "start_time": "2021-09-16T04:32:00.584Z"
   },
   {
    "duration": -1165,
    "start_time": "2021-09-16T04:32:00.589Z"
   },
   {
    "duration": -1168,
    "start_time": "2021-09-16T04:32:00.594Z"
   },
   {
    "duration": -1173,
    "start_time": "2021-09-16T04:32:00.601Z"
   },
   {
    "duration": 8,
    "start_time": "2021-09-16T04:34:17.581Z"
   },
   {
    "duration": 8,
    "start_time": "2021-09-16T04:34:19.761Z"
   },
   {
    "duration": 5,
    "start_time": "2021-09-16T04:34:30.524Z"
   },
   {
    "duration": 7,
    "start_time": "2021-09-16T04:34:32.654Z"
   },
   {
    "duration": 14,
    "start_time": "2021-09-16T04:34:46.246Z"
   },
   {
    "duration": 6,
    "start_time": "2021-09-16T04:35:09.970Z"
   },
   {
    "duration": 9,
    "start_time": "2021-09-16T04:35:11.329Z"
   },
   {
    "duration": 10,
    "start_time": "2021-09-16T04:35:13.535Z"
   },
   {
    "duration": 21,
    "start_time": "2021-09-16T04:35:21.371Z"
   },
   {
    "duration": 9,
    "start_time": "2021-09-16T04:35:24.961Z"
   },
   {
    "duration": 1644,
    "start_time": "2021-09-16T04:35:32.578Z"
   },
   {
    "duration": 229,
    "start_time": "2021-09-16T04:35:34.225Z"
   },
   {
    "duration": 25,
    "start_time": "2021-09-16T04:35:34.458Z"
   },
   {
    "duration": 21,
    "start_time": "2021-09-16T04:35:34.486Z"
   },
   {
    "duration": 88,
    "start_time": "2021-09-16T04:35:34.510Z"
   },
   {
    "duration": 6,
    "start_time": "2021-09-16T04:35:34.601Z"
   },
   {
    "duration": 25,
    "start_time": "2021-09-16T04:35:34.609Z"
   },
   {
    "duration": 21,
    "start_time": "2021-09-16T04:35:34.638Z"
   },
   {
    "duration": 70,
    "start_time": "2021-09-16T04:35:34.683Z"
   },
   {
    "duration": 26,
    "start_time": "2021-09-16T04:35:34.756Z"
   },
   {
    "duration": 8,
    "start_time": "2021-09-16T04:35:34.784Z"
   },
   {
    "duration": 10,
    "start_time": "2021-09-16T04:35:34.795Z"
   },
   {
    "duration": 16,
    "start_time": "2021-09-16T04:35:34.808Z"
   },
   {
    "duration": 23,
    "start_time": "2021-09-16T04:35:34.827Z"
   },
   {
    "duration": 32,
    "start_time": "2021-09-16T04:35:34.852Z"
   },
   {
    "duration": 9,
    "start_time": "2021-09-16T04:35:34.886Z"
   },
   {
    "duration": 13,
    "start_time": "2021-09-16T04:35:34.897Z"
   },
   {
    "duration": 10,
    "start_time": "2021-09-16T04:35:34.912Z"
   },
   {
    "duration": 6,
    "start_time": "2021-09-16T04:35:34.924Z"
   },
   {
    "duration": 52,
    "start_time": "2021-09-16T04:35:34.932Z"
   },
   {
    "duration": 8,
    "start_time": "2021-09-16T04:35:34.986Z"
   },
   {
    "duration": 32,
    "start_time": "2021-09-16T04:35:34.996Z"
   },
   {
    "duration": 6,
    "start_time": "2021-09-16T04:35:35.034Z"
   },
   {
    "duration": 17,
    "start_time": "2021-09-16T04:35:35.043Z"
   },
   {
    "duration": 21,
    "start_time": "2021-09-16T04:35:35.063Z"
   },
   {
    "duration": 12,
    "start_time": "2021-09-16T04:35:35.087Z"
   },
   {
    "duration": 18,
    "start_time": "2021-09-16T04:35:35.101Z"
   },
   {
    "duration": 5,
    "start_time": "2021-09-16T04:35:35.122Z"
   },
   {
    "duration": 21,
    "start_time": "2021-09-16T04:35:35.129Z"
   },
   {
    "duration": 34,
    "start_time": "2021-09-16T04:35:35.153Z"
   },
   {
    "duration": 8,
    "start_time": "2021-09-16T04:35:35.190Z"
   },
   {
    "duration": 23,
    "start_time": "2021-09-16T04:35:35.200Z"
   },
   {
    "duration": 10,
    "start_time": "2021-09-16T04:35:35.225Z"
   },
   {
    "duration": 37,
    "start_time": "2021-09-16T04:35:35.237Z"
   },
   {
    "duration": 24,
    "start_time": "2021-09-16T04:35:35.276Z"
   },
   {
    "duration": 8,
    "start_time": "2021-09-16T04:35:35.302Z"
   },
   {
    "duration": 34,
    "start_time": "2021-09-16T04:35:35.313Z"
   },
   {
    "duration": 54,
    "start_time": "2021-09-16T04:35:35.349Z"
   },
   {
    "duration": 93,
    "start_time": "2021-09-16T04:35:35.405Z"
   },
   {
    "duration": -1945,
    "start_time": "2021-09-16T04:35:37.445Z"
   },
   {
    "duration": -1947,
    "start_time": "2021-09-16T04:35:37.449Z"
   },
   {
    "duration": -1950,
    "start_time": "2021-09-16T04:35:37.453Z"
   },
   {
    "duration": -1952,
    "start_time": "2021-09-16T04:35:37.457Z"
   },
   {
    "duration": -1955,
    "start_time": "2021-09-16T04:35:37.461Z"
   },
   {
    "duration": -1958,
    "start_time": "2021-09-16T04:35:37.465Z"
   },
   {
    "duration": -1960,
    "start_time": "2021-09-16T04:35:37.469Z"
   },
   {
    "duration": -1963,
    "start_time": "2021-09-16T04:35:37.473Z"
   },
   {
    "duration": -1965,
    "start_time": "2021-09-16T04:35:37.477Z"
   },
   {
    "duration": -1967,
    "start_time": "2021-09-16T04:35:37.481Z"
   },
   {
    "duration": -1971,
    "start_time": "2021-09-16T04:35:37.486Z"
   },
   {
    "duration": -2349,
    "start_time": "2021-09-16T04:35:37.866Z"
   },
   {
    "duration": -2356,
    "start_time": "2021-09-16T04:35:37.874Z"
   },
   {
    "duration": -2360,
    "start_time": "2021-09-16T04:35:37.879Z"
   },
   {
    "duration": -2363,
    "start_time": "2021-09-16T04:35:37.884Z"
   },
   {
    "duration": -2366,
    "start_time": "2021-09-16T04:35:37.888Z"
   },
   {
    "duration": 18,
    "start_time": "2021-09-16T04:36:28.226Z"
   },
   {
    "duration": 434,
    "start_time": "2021-09-16T04:41:50.333Z"
   },
   {
    "duration": 9,
    "start_time": "2021-09-16T04:41:55.980Z"
   },
   {
    "duration": 267,
    "start_time": "2021-09-16T04:42:01.016Z"
   },
   {
    "duration": 250,
    "start_time": "2021-09-16T04:42:18.742Z"
   },
   {
    "duration": 332,
    "start_time": "2021-09-16T04:42:24.403Z"
   },
   {
    "duration": 241,
    "start_time": "2021-09-16T04:42:28.529Z"
   },
   {
    "duration": 226,
    "start_time": "2021-09-16T04:44:43.994Z"
   },
   {
    "duration": 247,
    "start_time": "2021-09-16T04:47:45.201Z"
   },
   {
    "duration": 280,
    "start_time": "2021-09-16T04:48:45.415Z"
   },
   {
    "duration": 1613,
    "start_time": "2021-09-16T04:51:51.994Z"
   },
   {
    "duration": 240,
    "start_time": "2021-09-16T04:51:53.609Z"
   },
   {
    "duration": 24,
    "start_time": "2021-09-16T04:51:53.852Z"
   },
   {
    "duration": 36,
    "start_time": "2021-09-16T04:51:53.879Z"
   },
   {
    "duration": 81,
    "start_time": "2021-09-16T04:51:53.917Z"
   },
   {
    "duration": 5,
    "start_time": "2021-09-16T04:51:54.000Z"
   },
   {
    "duration": 28,
    "start_time": "2021-09-16T04:51:54.007Z"
   },
   {
    "duration": 24,
    "start_time": "2021-09-16T04:51:54.037Z"
   },
   {
    "duration": 81,
    "start_time": "2021-09-16T04:51:54.065Z"
   },
   {
    "duration": 16,
    "start_time": "2021-09-16T04:51:54.149Z"
   },
   {
    "duration": 7,
    "start_time": "2021-09-16T04:51:54.183Z"
   },
   {
    "duration": 21,
    "start_time": "2021-09-16T04:51:54.192Z"
   },
   {
    "duration": 20,
    "start_time": "2021-09-16T04:51:54.215Z"
   },
   {
    "duration": 18,
    "start_time": "2021-09-16T04:51:54.237Z"
   },
   {
    "duration": 18,
    "start_time": "2021-09-16T04:51:54.258Z"
   },
   {
    "duration": 18,
    "start_time": "2021-09-16T04:51:54.278Z"
   },
   {
    "duration": 17,
    "start_time": "2021-09-16T04:51:54.298Z"
   },
   {
    "duration": 24,
    "start_time": "2021-09-16T04:51:54.317Z"
   },
   {
    "duration": 27,
    "start_time": "2021-09-16T04:51:54.343Z"
   },
   {
    "duration": 21,
    "start_time": "2021-09-16T04:51:54.372Z"
   },
   {
    "duration": 25,
    "start_time": "2021-09-16T04:51:54.395Z"
   },
   {
    "duration": 24,
    "start_time": "2021-09-16T04:51:54.422Z"
   },
   {
    "duration": 12,
    "start_time": "2021-09-16T04:51:54.448Z"
   },
   {
    "duration": 39,
    "start_time": "2021-09-16T04:51:54.462Z"
   },
   {
    "duration": 10,
    "start_time": "2021-09-16T04:51:54.503Z"
   },
   {
    "duration": 17,
    "start_time": "2021-09-16T04:51:54.515Z"
   },
   {
    "duration": 13,
    "start_time": "2021-09-16T04:51:54.538Z"
   },
   {
    "duration": 10,
    "start_time": "2021-09-16T04:51:54.554Z"
   },
   {
    "duration": 22,
    "start_time": "2021-09-16T04:51:54.566Z"
   },
   {
    "duration": 25,
    "start_time": "2021-09-16T04:51:54.591Z"
   },
   {
    "duration": 8,
    "start_time": "2021-09-16T04:51:54.618Z"
   },
   {
    "duration": 14,
    "start_time": "2021-09-16T04:51:54.629Z"
   },
   {
    "duration": 12,
    "start_time": "2021-09-16T04:51:54.646Z"
   },
   {
    "duration": 23,
    "start_time": "2021-09-16T04:51:54.660Z"
   },
   {
    "duration": 20,
    "start_time": "2021-09-16T04:51:54.686Z"
   },
   {
    "duration": 8,
    "start_time": "2021-09-16T04:51:54.708Z"
   },
   {
    "duration": 28,
    "start_time": "2021-09-16T04:51:54.718Z"
   },
   {
    "duration": 69,
    "start_time": "2021-09-16T04:51:54.748Z"
   },
   {
    "duration": 16,
    "start_time": "2021-09-16T04:51:54.819Z"
   },
   {
    "duration": 421,
    "start_time": "2021-09-16T04:51:54.837Z"
   },
   {
    "duration": -2521,
    "start_time": "2021-09-16T04:51:57.782Z"
   },
   {
    "duration": -2525,
    "start_time": "2021-09-16T04:51:57.787Z"
   },
   {
    "duration": -2529,
    "start_time": "2021-09-16T04:51:57.793Z"
   },
   {
    "duration": -2533,
    "start_time": "2021-09-16T04:51:57.798Z"
   },
   {
    "duration": -2685,
    "start_time": "2021-09-16T04:51:57.952Z"
   },
   {
    "duration": -2712,
    "start_time": "2021-09-16T04:51:57.980Z"
   },
   {
    "duration": -2714,
    "start_time": "2021-09-16T04:51:57.984Z"
   },
   {
    "duration": -2719,
    "start_time": "2021-09-16T04:51:57.990Z"
   },
   {
    "duration": -2728,
    "start_time": "2021-09-16T04:51:58.001Z"
   },
   {
    "duration": -2734,
    "start_time": "2021-09-16T04:51:58.008Z"
   },
   {
    "duration": -2737,
    "start_time": "2021-09-16T04:51:58.012Z"
   },
   {
    "duration": -2886,
    "start_time": "2021-09-16T04:51:58.163Z"
   },
   {
    "duration": -2890,
    "start_time": "2021-09-16T04:51:58.168Z"
   },
   {
    "duration": -2893,
    "start_time": "2021-09-16T04:51:58.172Z"
   },
   {
    "duration": -2895,
    "start_time": "2021-09-16T04:51:58.176Z"
   },
   {
    "duration": -2899,
    "start_time": "2021-09-16T04:51:58.181Z"
   },
   {
    "duration": -2964,
    "start_time": "2021-09-16T04:51:58.248Z"
   },
   {
    "duration": 3,
    "start_time": "2021-09-16T04:53:26.463Z"
   },
   {
    "duration": 16,
    "start_time": "2021-09-16T04:53:29.134Z"
   },
   {
    "duration": 18,
    "start_time": "2021-09-16T04:53:33.264Z"
   },
   {
    "duration": 96,
    "start_time": "2021-09-16T04:59:13.775Z"
   },
   {
    "duration": 78403,
    "start_time": "2021-09-16T04:59:17.559Z"
   },
   {
    "duration": 19,
    "start_time": "2021-09-16T05:02:26.080Z"
   },
   {
    "duration": 1762,
    "start_time": "2021-09-16T05:02:44.364Z"
   },
   {
    "duration": 196,
    "start_time": "2021-09-16T05:02:46.129Z"
   },
   {
    "duration": 26,
    "start_time": "2021-09-16T05:02:46.328Z"
   },
   {
    "duration": 34,
    "start_time": "2021-09-16T05:02:46.357Z"
   },
   {
    "duration": 73,
    "start_time": "2021-09-16T05:02:46.394Z"
   },
   {
    "duration": 15,
    "start_time": "2021-09-16T05:02:46.470Z"
   },
   {
    "duration": 17,
    "start_time": "2021-09-16T05:02:46.487Z"
   },
   {
    "duration": 23,
    "start_time": "2021-09-16T05:02:46.507Z"
   },
   {
    "duration": 110,
    "start_time": "2021-09-16T05:02:46.535Z"
   },
   {
    "duration": 39,
    "start_time": "2021-09-16T05:02:46.649Z"
   },
   {
    "duration": 9,
    "start_time": "2021-09-16T05:02:46.691Z"
   },
   {
    "duration": 14,
    "start_time": "2021-09-16T05:02:46.703Z"
   },
   {
    "duration": 6,
    "start_time": "2021-09-16T05:02:46.720Z"
   },
   {
    "duration": 8,
    "start_time": "2021-09-16T05:02:46.728Z"
   },
   {
    "duration": 50,
    "start_time": "2021-09-16T05:02:46.738Z"
   },
   {
    "duration": 7,
    "start_time": "2021-09-16T05:02:46.791Z"
   },
   {
    "duration": 6,
    "start_time": "2021-09-16T05:02:46.801Z"
   },
   {
    "duration": 9,
    "start_time": "2021-09-16T05:02:46.809Z"
   },
   {
    "duration": 6,
    "start_time": "2021-09-16T05:02:46.821Z"
   },
   {
    "duration": 55,
    "start_time": "2021-09-16T05:02:46.829Z"
   },
   {
    "duration": 8,
    "start_time": "2021-09-16T05:02:46.886Z"
   },
   {
    "duration": 13,
    "start_time": "2021-09-16T05:02:46.896Z"
   },
   {
    "duration": 5,
    "start_time": "2021-09-16T05:02:46.911Z"
   },
   {
    "duration": 15,
    "start_time": "2021-09-16T05:02:46.919Z"
   },
   {
    "duration": 46,
    "start_time": "2021-09-16T05:02:46.936Z"
   },
   {
    "duration": 9,
    "start_time": "2021-09-16T05:02:46.985Z"
   },
   {
    "duration": 7,
    "start_time": "2021-09-16T05:02:47.000Z"
   },
   {
    "duration": 7,
    "start_time": "2021-09-16T05:02:47.010Z"
   },
   {
    "duration": 7,
    "start_time": "2021-09-16T05:02:47.019Z"
   },
   {
    "duration": 60,
    "start_time": "2021-09-16T05:02:47.029Z"
   },
   {
    "duration": 9,
    "start_time": "2021-09-16T05:02:47.092Z"
   },
   {
    "duration": 16,
    "start_time": "2021-09-16T05:02:47.103Z"
   },
   {
    "duration": 9,
    "start_time": "2021-09-16T05:02:47.121Z"
   },
   {
    "duration": 8,
    "start_time": "2021-09-16T05:02:47.133Z"
   },
   {
    "duration": 48,
    "start_time": "2021-09-16T05:02:47.143Z"
   },
   {
    "duration": 8,
    "start_time": "2021-09-16T05:02:47.193Z"
   },
   {
    "duration": 22,
    "start_time": "2021-09-16T05:02:47.204Z"
   },
   {
    "duration": 69,
    "start_time": "2021-09-16T05:02:47.228Z"
   },
   {
    "duration": 16,
    "start_time": "2021-09-16T05:02:47.299Z"
   },
   {
    "duration": 8,
    "start_time": "2021-09-16T05:02:47.318Z"
   },
   {
    "duration": 15,
    "start_time": "2021-09-16T05:02:47.328Z"
   },
   {
    "duration": 130547,
    "start_time": "2021-09-16T05:02:47.345Z"
   },
   {
    "duration": 17,
    "start_time": "2021-09-16T05:04:57.895Z"
   },
   {
    "duration": 11,
    "start_time": "2021-09-16T05:04:57.915Z"
   },
   {
    "duration": 70,
    "start_time": "2021-09-16T05:04:57.929Z"
   },
   {
    "duration": 34,
    "start_time": "2021-09-16T05:04:58.002Z"
   },
   {
    "duration": 20,
    "start_time": "2021-09-16T05:04:58.039Z"
   },
   {
    "duration": 32346,
    "start_time": "2021-09-16T05:04:58.062Z"
   },
   {
    "duration": 10,
    "start_time": "2021-09-16T05:05:30.411Z"
   },
   {
    "duration": 31,
    "start_time": "2021-09-16T05:05:30.424Z"
   },
   {
    "duration": 316,
    "start_time": "2021-09-16T05:05:30.458Z"
   },
   {
    "duration": 23,
    "start_time": "2021-09-16T05:05:30.782Z"
   },
   {
    "duration": 22,
    "start_time": "2021-09-16T05:05:30.808Z"
   },
   {
    "duration": 345,
    "start_time": "2021-09-16T05:05:30.832Z"
   },
   {
    "duration": 29,
    "start_time": "2021-09-16T05:05:31.182Z"
   },
   {
    "duration": 1738,
    "start_time": "2021-09-16T05:09:43.540Z"
   },
   {
    "duration": 242,
    "start_time": "2021-09-16T05:09:45.283Z"
   },
   {
    "duration": 28,
    "start_time": "2021-09-16T05:09:45.528Z"
   },
   {
    "duration": 31,
    "start_time": "2021-09-16T05:09:45.559Z"
   },
   {
    "duration": 90,
    "start_time": "2021-09-16T05:09:45.592Z"
   },
   {
    "duration": 5,
    "start_time": "2021-09-16T05:09:45.684Z"
   },
   {
    "duration": 18,
    "start_time": "2021-09-16T05:09:45.692Z"
   },
   {
    "duration": 21,
    "start_time": "2021-09-16T05:09:45.714Z"
   },
   {
    "duration": 109,
    "start_time": "2021-09-16T05:09:45.738Z"
   },
   {
    "duration": 14,
    "start_time": "2021-09-16T05:09:45.850Z"
   },
   {
    "duration": 10,
    "start_time": "2021-09-16T05:09:45.883Z"
   },
   {
    "duration": 23,
    "start_time": "2021-09-16T05:09:45.896Z"
   },
   {
    "duration": 7,
    "start_time": "2021-09-16T05:09:45.922Z"
   },
   {
    "duration": 20,
    "start_time": "2021-09-16T05:09:45.932Z"
   },
   {
    "duration": 10,
    "start_time": "2021-09-16T05:09:45.984Z"
   },
   {
    "duration": 14,
    "start_time": "2021-09-16T05:09:45.996Z"
   },
   {
    "duration": 15,
    "start_time": "2021-09-16T05:09:46.014Z"
   },
   {
    "duration": 15,
    "start_time": "2021-09-16T05:09:46.032Z"
   },
   {
    "duration": 13,
    "start_time": "2021-09-16T05:09:46.082Z"
   },
   {
    "duration": 12,
    "start_time": "2021-09-16T05:09:46.097Z"
   },
   {
    "duration": 16,
    "start_time": "2021-09-16T05:09:46.112Z"
   },
   {
    "duration": 17,
    "start_time": "2021-09-16T05:09:46.130Z"
   },
   {
    "duration": 7,
    "start_time": "2021-09-16T05:09:46.155Z"
   },
   {
    "duration": 17,
    "start_time": "2021-09-16T05:09:46.185Z"
   },
   {
    "duration": 4,
    "start_time": "2021-09-16T05:09:46.205Z"
   },
   {
    "duration": 15,
    "start_time": "2021-09-16T05:09:46.213Z"
   },
   {
    "duration": 14,
    "start_time": "2021-09-16T05:09:46.230Z"
   },
   {
    "duration": 6,
    "start_time": "2021-09-16T05:09:46.283Z"
   },
   {
    "duration": 14,
    "start_time": "2021-09-16T05:09:46.292Z"
   },
   {
    "duration": 21,
    "start_time": "2021-09-16T05:09:46.308Z"
   },
   {
    "duration": 8,
    "start_time": "2021-09-16T05:09:46.331Z"
   },
   {
    "duration": 12,
    "start_time": "2021-09-16T05:09:46.341Z"
   },
   {
    "duration": 32,
    "start_time": "2021-09-16T05:09:46.356Z"
   },
   {
    "duration": 11,
    "start_time": "2021-09-16T05:09:46.390Z"
   },
   {
    "duration": 30,
    "start_time": "2021-09-16T05:09:46.403Z"
   },
   {
    "duration": 11,
    "start_time": "2021-09-16T05:09:46.436Z"
   },
   {
    "duration": 62,
    "start_time": "2021-09-16T05:09:46.450Z"
   },
   {
    "duration": 81,
    "start_time": "2021-09-16T05:09:46.515Z"
   },
   {
    "duration": 24,
    "start_time": "2021-09-16T05:09:46.599Z"
   },
   {
    "duration": 6,
    "start_time": "2021-09-16T05:09:46.626Z"
   },
   {
    "duration": 8,
    "start_time": "2021-09-16T05:09:46.636Z"
   },
   {
    "duration": 541,
    "start_time": "2021-09-16T05:09:46.647Z"
   },
   {
    "duration": -510,
    "start_time": "2021-09-16T05:09:47.701Z"
   },
   {
    "duration": -523,
    "start_time": "2021-09-16T05:09:47.715Z"
   },
   {
    "duration": -601,
    "start_time": "2021-09-16T05:09:47.794Z"
   },
   {
    "duration": -605,
    "start_time": "2021-09-16T05:09:47.800Z"
   },
   {
    "duration": -610,
    "start_time": "2021-09-16T05:09:47.806Z"
   },
   {
    "duration": -615,
    "start_time": "2021-09-16T05:09:47.812Z"
   },
   {
    "duration": -619,
    "start_time": "2021-09-16T05:09:47.818Z"
   },
   {
    "duration": -623,
    "start_time": "2021-09-16T05:09:47.823Z"
   },
   {
    "duration": -625,
    "start_time": "2021-09-16T05:09:47.828Z"
   },
   {
    "duration": -629,
    "start_time": "2021-09-16T05:09:47.833Z"
   },
   {
    "duration": -632,
    "start_time": "2021-09-16T05:09:47.838Z"
   },
   {
    "duration": -636,
    "start_time": "2021-09-16T05:09:47.843Z"
   },
   {
    "duration": -641,
    "start_time": "2021-09-16T05:09:47.849Z"
   },
   {
    "duration": -645,
    "start_time": "2021-09-16T05:09:47.854Z"
   },
   {
    "duration": -648,
    "start_time": "2021-09-16T05:09:47.858Z"
   },
   {
    "duration": -652,
    "start_time": "2021-09-16T05:09:47.864Z"
   },
   {
    "duration": -719,
    "start_time": "2021-09-16T05:13:05.691Z"
   },
   {
    "duration": 313,
    "start_time": "2021-09-16T05:13:12.718Z"
   },
   {
    "duration": 246,
    "start_time": "2021-09-16T05:13:20.256Z"
   },
   {
    "duration": 4,
    "start_time": "2021-09-16T05:13:58.089Z"
   },
   {
    "duration": 268,
    "start_time": "2021-09-16T05:14:19.986Z"
   },
   {
    "duration": 12,
    "start_time": "2021-09-16T05:14:26.047Z"
   },
   {
    "duration": 497,
    "start_time": "2021-09-16T05:16:14.430Z"
   },
   {
    "duration": 331,
    "start_time": "2021-09-16T05:16:22.532Z"
   },
   {
    "duration": 1589,
    "start_time": "2021-09-16T05:21:57.420Z"
   },
   {
    "duration": 206,
    "start_time": "2021-09-16T05:21:59.012Z"
   },
   {
    "duration": 26,
    "start_time": "2021-09-16T05:21:59.222Z"
   },
   {
    "duration": 33,
    "start_time": "2021-09-16T05:21:59.250Z"
   },
   {
    "duration": 76,
    "start_time": "2021-09-16T05:21:59.285Z"
   },
   {
    "duration": 20,
    "start_time": "2021-09-16T05:21:59.364Z"
   },
   {
    "duration": 16,
    "start_time": "2021-09-16T05:21:59.387Z"
   },
   {
    "duration": 19,
    "start_time": "2021-09-16T05:21:59.407Z"
   },
   {
    "duration": 102,
    "start_time": "2021-09-16T05:21:59.429Z"
   },
   {
    "duration": 13,
    "start_time": "2021-09-16T05:21:59.533Z"
   },
   {
    "duration": 10,
    "start_time": "2021-09-16T05:21:59.548Z"
   },
   {
    "duration": 20,
    "start_time": "2021-09-16T05:21:59.583Z"
   },
   {
    "duration": 6,
    "start_time": "2021-09-16T05:21:59.605Z"
   },
   {
    "duration": 8,
    "start_time": "2021-09-16T05:21:59.613Z"
   },
   {
    "duration": 5,
    "start_time": "2021-09-16T05:21:59.624Z"
   },
   {
    "duration": 7,
    "start_time": "2021-09-16T05:21:59.632Z"
   },
   {
    "duration": 7,
    "start_time": "2021-09-16T05:21:59.681Z"
   },
   {
    "duration": 13,
    "start_time": "2021-09-16T05:21:59.690Z"
   },
   {
    "duration": 5,
    "start_time": "2021-09-16T05:21:59.705Z"
   },
   {
    "duration": 8,
    "start_time": "2021-09-16T05:21:59.713Z"
   },
   {
    "duration": 7,
    "start_time": "2021-09-16T05:21:59.723Z"
   },
   {
    "duration": 57,
    "start_time": "2021-09-16T05:21:59.733Z"
   },
   {
    "duration": 6,
    "start_time": "2021-09-16T05:21:59.796Z"
   },
   {
    "duration": 17,
    "start_time": "2021-09-16T05:21:59.805Z"
   },
   {
    "duration": 4,
    "start_time": "2021-09-16T05:21:59.824Z"
   },
   {
    "duration": 12,
    "start_time": "2021-09-16T05:21:59.830Z"
   },
   {
    "duration": 40,
    "start_time": "2021-09-16T05:21:59.844Z"
   },
   {
    "duration": 5,
    "start_time": "2021-09-16T05:21:59.886Z"
   },
   {
    "duration": 10,
    "start_time": "2021-09-16T05:21:59.893Z"
   },
   {
    "duration": 19,
    "start_time": "2021-09-16T05:21:59.905Z"
   },
   {
    "duration": 7,
    "start_time": "2021-09-16T05:21:59.927Z"
   },
   {
    "duration": 48,
    "start_time": "2021-09-16T05:21:59.937Z"
   },
   {
    "duration": 8,
    "start_time": "2021-09-16T05:21:59.988Z"
   },
   {
    "duration": 12,
    "start_time": "2021-09-16T05:21:59.998Z"
   },
   {
    "duration": 25,
    "start_time": "2021-09-16T05:22:00.013Z"
   },
   {
    "duration": 8,
    "start_time": "2021-09-16T05:22:00.040Z"
   },
   {
    "duration": 27,
    "start_time": "2021-09-16T05:22:00.083Z"
   },
   {
    "duration": 56,
    "start_time": "2021-09-16T05:22:00.112Z"
   },
   {
    "duration": 24,
    "start_time": "2021-09-16T05:22:00.170Z"
   },
   {
    "duration": 23,
    "start_time": "2021-09-16T05:22:00.197Z"
   },
   {
    "duration": 24,
    "start_time": "2021-09-16T05:22:00.223Z"
   },
   {
    "duration": 48,
    "start_time": "2021-09-16T05:22:00.249Z"
   },
   {
    "duration": 11,
    "start_time": "2021-09-16T05:22:00.299Z"
   },
   {
    "duration": 106,
    "start_time": "2021-09-16T05:22:00.313Z"
   },
   {
    "duration": -2496,
    "start_time": "2021-09-16T05:22:02.918Z"
   },
   {
    "duration": -2501,
    "start_time": "2021-09-16T05:22:02.924Z"
   },
   {
    "duration": -2504,
    "start_time": "2021-09-16T05:22:02.929Z"
   },
   {
    "duration": -2507,
    "start_time": "2021-09-16T05:22:02.934Z"
   },
   {
    "duration": -2511,
    "start_time": "2021-09-16T05:22:02.939Z"
   },
   {
    "duration": -2514,
    "start_time": "2021-09-16T05:22:02.944Z"
   },
   {
    "duration": -2621,
    "start_time": "2021-09-16T05:22:03.052Z"
   },
   {
    "duration": -2632,
    "start_time": "2021-09-16T05:22:03.065Z"
   },
   {
    "duration": -2649,
    "start_time": "2021-09-16T05:22:03.083Z"
   },
   {
    "duration": -2664,
    "start_time": "2021-09-16T05:22:03.099Z"
   },
   {
    "duration": -2674,
    "start_time": "2021-09-16T05:22:03.111Z"
   },
   {
    "duration": -2734,
    "start_time": "2021-09-16T05:22:03.173Z"
   },
   {
    "duration": -2738,
    "start_time": "2021-09-16T05:22:03.179Z"
   },
   {
    "duration": -2747,
    "start_time": "2021-09-16T05:22:03.189Z"
   },
   {
    "duration": -2763,
    "start_time": "2021-09-16T05:22:03.206Z"
   },
   {
    "duration": -2770,
    "start_time": "2021-09-16T05:22:03.215Z"
   },
   {
    "duration": 5,
    "start_time": "2021-09-16T05:22:27.208Z"
   },
   {
    "duration": 9,
    "start_time": "2021-09-16T05:23:06.037Z"
   },
   {
    "duration": 1419,
    "start_time": "2021-09-16T05:23:54.125Z"
   },
   {
    "duration": 5,
    "start_time": "2021-09-16T05:24:30.710Z"
   },
   {
    "duration": 60969,
    "start_time": "2021-09-16T05:24:32.432Z"
   },
   {
    "duration": 17,
    "start_time": "2021-09-16T05:25:47.054Z"
   },
   {
    "duration": 18,
    "start_time": "2021-09-16T05:30:50.905Z"
   },
   {
    "duration": 21,
    "start_time": "2021-09-16T05:30:55.263Z"
   },
   {
    "duration": 10,
    "start_time": "2021-09-16T05:31:08.942Z"
   },
   {
    "duration": 31339,
    "start_time": "2021-09-16T05:31:11.733Z"
   },
   {
    "duration": 10,
    "start_time": "2021-09-16T05:32:18.246Z"
   },
   {
    "duration": 23,
    "start_time": "2021-09-16T05:32:26.871Z"
   },
   {
    "duration": 1640,
    "start_time": "2021-09-16T05:33:05.579Z"
   },
   {
    "duration": 417,
    "start_time": "2021-09-16T05:33:07.222Z"
   },
   {
    "duration": 29,
    "start_time": "2021-09-16T05:33:07.643Z"
   },
   {
    "duration": 21,
    "start_time": "2021-09-16T05:33:07.676Z"
   },
   {
    "duration": 100,
    "start_time": "2021-09-16T05:33:07.700Z"
   },
   {
    "duration": 7,
    "start_time": "2021-09-16T05:33:07.803Z"
   },
   {
    "duration": 16,
    "start_time": "2021-09-16T05:33:07.813Z"
   },
   {
    "duration": 61,
    "start_time": "2021-09-16T05:33:07.835Z"
   },
   {
    "duration": 89,
    "start_time": "2021-09-16T05:33:07.901Z"
   },
   {
    "duration": 13,
    "start_time": "2021-09-16T05:33:07.992Z"
   },
   {
    "duration": 19,
    "start_time": "2021-09-16T05:33:08.007Z"
   },
   {
    "duration": 26,
    "start_time": "2021-09-16T05:33:08.029Z"
   },
   {
    "duration": 6,
    "start_time": "2021-09-16T05:33:08.058Z"
   },
   {
    "duration": 21,
    "start_time": "2021-09-16T05:33:08.067Z"
   },
   {
    "duration": 9,
    "start_time": "2021-09-16T05:33:08.091Z"
   },
   {
    "duration": 24,
    "start_time": "2021-09-16T05:33:08.103Z"
   },
   {
    "duration": 14,
    "start_time": "2021-09-16T05:33:08.130Z"
   },
   {
    "duration": 14,
    "start_time": "2021-09-16T05:33:08.146Z"
   },
   {
    "duration": 23,
    "start_time": "2021-09-16T05:33:08.162Z"
   },
   {
    "duration": 10,
    "start_time": "2021-09-16T05:33:08.188Z"
   },
   {
    "duration": 23,
    "start_time": "2021-09-16T05:33:08.201Z"
   },
   {
    "duration": 18,
    "start_time": "2021-09-16T05:33:08.226Z"
   },
   {
    "duration": 6,
    "start_time": "2021-09-16T05:33:08.249Z"
   },
   {
    "duration": 39,
    "start_time": "2021-09-16T05:33:08.258Z"
   },
   {
    "duration": 4,
    "start_time": "2021-09-16T05:33:08.299Z"
   },
   {
    "duration": 22,
    "start_time": "2021-09-16T05:33:08.306Z"
   },
   {
    "duration": 14,
    "start_time": "2021-09-16T05:33:08.331Z"
   },
   {
    "duration": 16,
    "start_time": "2021-09-16T05:33:08.347Z"
   },
   {
    "duration": 18,
    "start_time": "2021-09-16T05:33:08.365Z"
   },
   {
    "duration": 29,
    "start_time": "2021-09-16T05:33:08.386Z"
   },
   {
    "duration": 11,
    "start_time": "2021-09-16T05:33:08.417Z"
   },
   {
    "duration": 21,
    "start_time": "2021-09-16T05:33:08.430Z"
   },
   {
    "duration": 16,
    "start_time": "2021-09-16T05:33:08.454Z"
   },
   {
    "duration": 15,
    "start_time": "2021-09-16T05:33:08.472Z"
   },
   {
    "duration": 26,
    "start_time": "2021-09-16T05:33:08.490Z"
   },
   {
    "duration": 8,
    "start_time": "2021-09-16T05:33:08.519Z"
   },
   {
    "duration": 33,
    "start_time": "2021-09-16T05:33:08.529Z"
   },
   {
    "duration": 65,
    "start_time": "2021-09-16T05:33:08.564Z"
   },
   {
    "duration": 127,
    "start_time": "2021-09-16T05:33:08.631Z"
   },
   {
    "duration": -403,
    "start_time": "2021-09-16T05:33:09.165Z"
   },
   {
    "duration": -405,
    "start_time": "2021-09-16T05:33:09.169Z"
   },
   {
    "duration": -408,
    "start_time": "2021-09-16T05:33:09.174Z"
   },
   {
    "duration": -410,
    "start_time": "2021-09-16T05:33:09.178Z"
   },
   {
    "duration": -411,
    "start_time": "2021-09-16T05:33:09.181Z"
   },
   {
    "duration": -415,
    "start_time": "2021-09-16T05:33:09.187Z"
   },
   {
    "duration": -416,
    "start_time": "2021-09-16T05:33:09.190Z"
   },
   {
    "duration": -419,
    "start_time": "2021-09-16T05:33:09.195Z"
   },
   {
    "duration": -421,
    "start_time": "2021-09-16T05:33:09.199Z"
   },
   {
    "duration": -423,
    "start_time": "2021-09-16T05:33:09.203Z"
   },
   {
    "duration": -425,
    "start_time": "2021-09-16T05:33:09.207Z"
   },
   {
    "duration": -428,
    "start_time": "2021-09-16T05:33:09.212Z"
   },
   {
    "duration": -430,
    "start_time": "2021-09-16T05:33:09.216Z"
   },
   {
    "duration": -433,
    "start_time": "2021-09-16T05:33:09.221Z"
   },
   {
    "duration": 16,
    "start_time": "2021-09-16T05:34:22.152Z"
   },
   {
    "duration": 19,
    "start_time": "2021-09-16T05:34:24.204Z"
   },
   {
    "duration": 11,
    "start_time": "2021-09-16T05:34:35.599Z"
   },
   {
    "duration": 11,
    "start_time": "2021-09-16T05:34:42.042Z"
   },
   {
    "duration": 30338,
    "start_time": "2021-09-16T05:34:42.056Z"
   },
   {
    "duration": 9,
    "start_time": "2021-09-16T05:35:12.397Z"
   },
   {
    "duration": 24,
    "start_time": "2021-09-16T05:35:12.410Z"
   },
   {
    "duration": 323,
    "start_time": "2021-09-16T05:35:12.437Z"
   },
   {
    "duration": 30,
    "start_time": "2021-09-16T05:35:12.763Z"
   },
   {
    "duration": 20,
    "start_time": "2021-09-16T05:35:12.795Z"
   },
   {
    "duration": 329,
    "start_time": "2021-09-16T05:35:12.818Z"
   },
   {
    "duration": 33,
    "start_time": "2021-09-16T05:35:13.151Z"
   },
   {
    "duration": 379,
    "start_time": "2021-09-16T05:35:13.186Z"
   },
   {
    "duration": 24,
    "start_time": "2021-09-16T05:35:13.568Z"
   },
   {
    "duration": 282,
    "start_time": "2021-09-16T05:35:13.594Z"
   },
   {
    "duration": 3,
    "start_time": "2021-09-16T05:57:17.347Z"
   },
   {
    "duration": 14,
    "start_time": "2021-09-16T06:04:42.776Z"
   },
   {
    "duration": 14,
    "start_time": "2021-09-16T06:04:55.500Z"
   },
   {
    "duration": 295,
    "start_time": "2021-09-16T06:05:00.378Z"
   },
   {
    "duration": 15,
    "start_time": "2021-09-16T06:05:03.046Z"
   },
   {
    "duration": 42,
    "start_time": "2021-09-16T06:11:37.451Z"
   },
   {
    "duration": 4,
    "start_time": "2021-09-16T06:11:43.783Z"
   },
   {
    "duration": 19,
    "start_time": "2021-09-16T06:12:30.858Z"
   },
   {
    "duration": 1618,
    "start_time": "2021-09-16T06:14:01.211Z"
   },
   {
    "duration": 207,
    "start_time": "2021-09-16T06:14:02.832Z"
   },
   {
    "duration": 25,
    "start_time": "2021-09-16T06:14:03.042Z"
   },
   {
    "duration": 23,
    "start_time": "2021-09-16T06:14:03.070Z"
   },
   {
    "duration": 91,
    "start_time": "2021-09-16T06:14:03.096Z"
   },
   {
    "duration": 6,
    "start_time": "2021-09-16T06:14:03.190Z"
   },
   {
    "duration": 18,
    "start_time": "2021-09-16T06:14:03.199Z"
   },
   {
    "duration": 27,
    "start_time": "2021-09-16T06:14:03.222Z"
   },
   {
    "duration": 102,
    "start_time": "2021-09-16T06:14:03.253Z"
   },
   {
    "duration": 31,
    "start_time": "2021-09-16T06:14:03.358Z"
   },
   {
    "duration": 10,
    "start_time": "2021-09-16T06:14:03.392Z"
   },
   {
    "duration": 10,
    "start_time": "2021-09-16T06:14:03.405Z"
   },
   {
    "duration": 6,
    "start_time": "2021-09-16T06:14:03.417Z"
   },
   {
    "duration": 11,
    "start_time": "2021-09-16T06:14:03.425Z"
   },
   {
    "duration": 7,
    "start_time": "2021-09-16T06:14:03.482Z"
   },
   {
    "duration": 8,
    "start_time": "2021-09-16T06:14:03.491Z"
   },
   {
    "duration": 5,
    "start_time": "2021-09-16T06:14:03.502Z"
   },
   {
    "duration": 10,
    "start_time": "2021-09-16T06:14:03.510Z"
   },
   {
    "duration": 6,
    "start_time": "2021-09-16T06:14:03.523Z"
   },
   {
    "duration": 7,
    "start_time": "2021-09-16T06:14:03.583Z"
   },
   {
    "duration": 8,
    "start_time": "2021-09-16T06:14:03.593Z"
   },
   {
    "duration": 13,
    "start_time": "2021-09-16T06:14:03.603Z"
   },
   {
    "duration": 7,
    "start_time": "2021-09-16T06:14:03.623Z"
   },
   {
    "duration": 62,
    "start_time": "2021-09-16T06:14:03.634Z"
   },
   {
    "duration": 6,
    "start_time": "2021-09-16T06:14:03.699Z"
   },
   {
    "duration": 16,
    "start_time": "2021-09-16T06:14:03.707Z"
   },
   {
    "duration": 10,
    "start_time": "2021-09-16T06:14:03.726Z"
   },
   {
    "duration": 5,
    "start_time": "2021-09-16T06:14:03.738Z"
   },
   {
    "duration": 39,
    "start_time": "2021-09-16T06:14:03.745Z"
   },
   {
    "duration": 18,
    "start_time": "2021-09-16T06:14:03.786Z"
   },
   {
    "duration": 10,
    "start_time": "2021-09-16T06:14:03.806Z"
   },
   {
    "duration": 12,
    "start_time": "2021-09-16T06:14:03.819Z"
   },
   {
    "duration": 8,
    "start_time": "2021-09-16T06:14:03.834Z"
   },
   {
    "duration": 38,
    "start_time": "2021-09-16T06:14:03.844Z"
   },
   {
    "duration": 21,
    "start_time": "2021-09-16T06:14:03.885Z"
   },
   {
    "duration": 9,
    "start_time": "2021-09-16T06:14:03.908Z"
   },
   {
    "duration": 24,
    "start_time": "2021-09-16T06:14:03.919Z"
   },
   {
    "duration": 77,
    "start_time": "2021-09-16T06:14:03.946Z"
   },
   {
    "duration": 5,
    "start_time": "2021-09-16T06:14:04.025Z"
   },
   {
    "duration": 11,
    "start_time": "2021-09-16T06:14:04.032Z"
   },
   {
    "duration": 41,
    "start_time": "2021-09-16T06:14:04.045Z"
   },
   {
    "duration": 12,
    "start_time": "2021-09-16T06:14:04.088Z"
   },
   {
    "duration": 30787,
    "start_time": "2021-09-16T06:14:04.102Z"
   },
   {
    "duration": 10,
    "start_time": "2021-09-16T06:14:34.892Z"
   },
   {
    "duration": 27,
    "start_time": "2021-09-16T06:14:34.905Z"
   },
   {
    "duration": 333,
    "start_time": "2021-09-16T06:14:34.934Z"
   },
   {
    "duration": 23,
    "start_time": "2021-09-16T06:14:35.269Z"
   },
   {
    "duration": 19,
    "start_time": "2021-09-16T06:14:35.294Z"
   },
   {
    "duration": 340,
    "start_time": "2021-09-16T06:14:35.316Z"
   },
   {
    "duration": 44,
    "start_time": "2021-09-16T06:14:35.658Z"
   },
   {
    "duration": 1705,
    "start_time": "2021-09-16T06:15:29.095Z"
   },
   {
    "duration": 216,
    "start_time": "2021-09-16T06:15:30.803Z"
   },
   {
    "duration": 27,
    "start_time": "2021-09-16T06:15:31.022Z"
   },
   {
    "duration": 38,
    "start_time": "2021-09-16T06:15:31.052Z"
   },
   {
    "duration": 99,
    "start_time": "2021-09-16T06:15:31.092Z"
   },
   {
    "duration": 5,
    "start_time": "2021-09-16T06:15:31.194Z"
   },
   {
    "duration": 23,
    "start_time": "2021-09-16T06:15:31.201Z"
   },
   {
    "duration": 24,
    "start_time": "2021-09-16T06:15:31.227Z"
   },
   {
    "duration": 92,
    "start_time": "2021-09-16T06:15:31.254Z"
   },
   {
    "duration": 12,
    "start_time": "2021-09-16T06:15:31.349Z"
   },
   {
    "duration": 24,
    "start_time": "2021-09-16T06:15:31.364Z"
   },
   {
    "duration": 17,
    "start_time": "2021-09-16T06:15:31.391Z"
   },
   {
    "duration": 10,
    "start_time": "2021-09-16T06:15:31.410Z"
   },
   {
    "duration": 24,
    "start_time": "2021-09-16T06:15:31.423Z"
   },
   {
    "duration": 7,
    "start_time": "2021-09-16T06:15:31.449Z"
   },
   {
    "duration": 8,
    "start_time": "2021-09-16T06:15:31.483Z"
   },
   {
    "duration": 15,
    "start_time": "2021-09-16T06:15:31.493Z"
   },
   {
    "duration": 14,
    "start_time": "2021-09-16T06:15:31.511Z"
   },
   {
    "duration": 17,
    "start_time": "2021-09-16T06:15:31.528Z"
   },
   {
    "duration": 12,
    "start_time": "2021-09-16T06:15:31.547Z"
   },
   {
    "duration": 27,
    "start_time": "2021-09-16T06:15:31.562Z"
   },
   {
    "duration": 23,
    "start_time": "2021-09-16T06:15:31.591Z"
   },
   {
    "duration": 6,
    "start_time": "2021-09-16T06:15:31.620Z"
   },
   {
    "duration": 46,
    "start_time": "2021-09-16T06:15:31.630Z"
   },
   {
    "duration": 6,
    "start_time": "2021-09-16T06:15:31.678Z"
   },
   {
    "duration": 13,
    "start_time": "2021-09-16T06:15:31.686Z"
   },
   {
    "duration": 14,
    "start_time": "2021-09-16T06:15:31.701Z"
   },
   {
    "duration": 20,
    "start_time": "2021-09-16T06:15:31.718Z"
   },
   {
    "duration": 10,
    "start_time": "2021-09-16T06:15:31.740Z"
   },
   {
    "duration": 32,
    "start_time": "2021-09-16T06:15:31.752Z"
   },
   {
    "duration": 7,
    "start_time": "2021-09-16T06:15:31.786Z"
   },
   {
    "duration": 12,
    "start_time": "2021-09-16T06:15:31.795Z"
   },
   {
    "duration": 8,
    "start_time": "2021-09-16T06:15:31.809Z"
   },
   {
    "duration": 19,
    "start_time": "2021-09-16T06:15:31.819Z"
   },
   {
    "duration": 52,
    "start_time": "2021-09-16T06:15:31.840Z"
   },
   {
    "duration": 8,
    "start_time": "2021-09-16T06:15:31.895Z"
   },
   {
    "duration": 34,
    "start_time": "2021-09-16T06:15:31.905Z"
   },
   {
    "duration": 61,
    "start_time": "2021-09-16T06:15:31.941Z"
   },
   {
    "duration": 5,
    "start_time": "2021-09-16T06:15:32.004Z"
   },
   {
    "duration": 21,
    "start_time": "2021-09-16T06:15:32.011Z"
   },
   {
    "duration": 11,
    "start_time": "2021-09-16T06:15:32.034Z"
   },
   {
    "duration": 37,
    "start_time": "2021-09-16T06:15:32.047Z"
   },
   {
    "duration": 9,
    "start_time": "2021-09-16T06:15:32.086Z"
   },
   {
    "duration": 30748,
    "start_time": "2021-09-16T06:15:32.097Z"
   },
   {
    "duration": 9,
    "start_time": "2021-09-16T06:16:02.848Z"
   },
   {
    "duration": 36,
    "start_time": "2021-09-16T06:16:02.860Z"
   },
   {
    "duration": 336,
    "start_time": "2021-09-16T06:16:02.898Z"
   },
   {
    "duration": 19,
    "start_time": "2021-09-16T06:16:03.237Z"
   },
   {
    "duration": 37,
    "start_time": "2021-09-16T06:16:03.258Z"
   },
   {
    "duration": 323,
    "start_time": "2021-09-16T06:16:03.297Z"
   },
   {
    "duration": 19,
    "start_time": "2021-09-16T06:16:03.623Z"
   },
   {
    "duration": 448,
    "start_time": "2021-09-16T06:16:03.645Z"
   },
   {
    "duration": 21,
    "start_time": "2021-09-16T06:16:04.095Z"
   },
   {
    "duration": 312,
    "start_time": "2021-09-16T06:16:04.119Z"
   },
   {
    "duration": 13,
    "start_time": "2021-09-16T06:17:36.062Z"
   },
   {
    "duration": 1661,
    "start_time": "2021-09-16T06:17:58.255Z"
   },
   {
    "duration": 211,
    "start_time": "2021-09-16T06:17:59.918Z"
   },
   {
    "duration": 27,
    "start_time": "2021-09-16T06:18:00.131Z"
   },
   {
    "duration": 32,
    "start_time": "2021-09-16T06:18:00.161Z"
   },
   {
    "duration": 93,
    "start_time": "2021-09-16T06:18:00.195Z"
   },
   {
    "duration": 6,
    "start_time": "2021-09-16T06:18:00.290Z"
   },
   {
    "duration": 28,
    "start_time": "2021-09-16T06:18:00.298Z"
   },
   {
    "duration": 36,
    "start_time": "2021-09-16T06:18:00.331Z"
   },
   {
    "duration": 84,
    "start_time": "2021-09-16T06:18:00.371Z"
   },
   {
    "duration": 27,
    "start_time": "2021-09-16T06:18:00.457Z"
   },
   {
    "duration": 8,
    "start_time": "2021-09-16T06:18:00.486Z"
   },
   {
    "duration": 17,
    "start_time": "2021-09-16T06:18:00.497Z"
   },
   {
    "duration": 11,
    "start_time": "2021-09-16T06:18:00.517Z"
   },
   {
    "duration": 19,
    "start_time": "2021-09-16T06:18:00.530Z"
   },
   {
    "duration": 8,
    "start_time": "2021-09-16T06:18:00.584Z"
   },
   {
    "duration": 22,
    "start_time": "2021-09-16T06:18:00.595Z"
   },
   {
    "duration": 21,
    "start_time": "2021-09-16T06:18:00.620Z"
   },
   {
    "duration": 34,
    "start_time": "2021-09-16T06:18:00.644Z"
   },
   {
    "duration": 22,
    "start_time": "2021-09-16T06:18:00.681Z"
   },
   {
    "duration": 18,
    "start_time": "2021-09-16T06:18:00.706Z"
   },
   {
    "duration": 12,
    "start_time": "2021-09-16T06:18:00.727Z"
   },
   {
    "duration": 24,
    "start_time": "2021-09-16T06:18:00.742Z"
   },
   {
    "duration": 8,
    "start_time": "2021-09-16T06:18:00.773Z"
   },
   {
    "duration": 39,
    "start_time": "2021-09-16T06:18:00.785Z"
   },
   {
    "duration": 10,
    "start_time": "2021-09-16T06:18:00.827Z"
   },
   {
    "duration": 36,
    "start_time": "2021-09-16T06:18:00.840Z"
   },
   {
    "duration": 21,
    "start_time": "2021-09-16T06:18:00.879Z"
   },
   {
    "duration": 40,
    "start_time": "2021-09-16T06:18:00.903Z"
   },
   {
    "duration": 51,
    "start_time": "2021-09-16T06:18:00.946Z"
   },
   {
    "duration": 112,
    "start_time": "2021-09-16T06:18:00.999Z"
   },
   {
    "duration": 13,
    "start_time": "2021-09-16T06:18:01.113Z"
   },
   {
    "duration": 23,
    "start_time": "2021-09-16T06:18:01.129Z"
   },
   {
    "duration": 28,
    "start_time": "2021-09-16T06:18:01.154Z"
   },
   {
    "duration": 28,
    "start_time": "2021-09-16T06:18:01.185Z"
   },
   {
    "duration": 27,
    "start_time": "2021-09-16T06:18:01.216Z"
   },
   {
    "duration": 9,
    "start_time": "2021-09-16T06:18:01.246Z"
   },
   {
    "duration": 33,
    "start_time": "2021-09-16T06:18:01.257Z"
   },
   {
    "duration": 43,
    "start_time": "2021-09-16T06:18:01.292Z"
   },
   {
    "duration": 10,
    "start_time": "2021-09-16T06:18:01.338Z"
   },
   {
    "duration": 111,
    "start_time": "2021-09-16T06:18:01.350Z"
   },
   {
    "duration": -635,
    "start_time": "2021-09-16T06:18:02.098Z"
   },
   {
    "duration": -638,
    "start_time": "2021-09-16T06:18:02.103Z"
   },
   {
    "duration": -642,
    "start_time": "2021-09-16T06:18:02.108Z"
   },
   {
    "duration": -644,
    "start_time": "2021-09-16T06:18:02.112Z"
   },
   {
    "duration": -647,
    "start_time": "2021-09-16T06:18:02.117Z"
   },
   {
    "duration": -679,
    "start_time": "2021-09-16T06:18:02.150Z"
   },
   {
    "duration": -686,
    "start_time": "2021-09-16T06:18:02.159Z"
   },
   {
    "duration": -693,
    "start_time": "2021-09-16T06:18:02.167Z"
   },
   {
    "duration": -697,
    "start_time": "2021-09-16T06:18:02.173Z"
   },
   {
    "duration": -700,
    "start_time": "2021-09-16T06:18:02.177Z"
   },
   {
    "duration": -709,
    "start_time": "2021-09-16T06:18:02.188Z"
   },
   {
    "duration": -712,
    "start_time": "2021-09-16T06:18:02.192Z"
   },
   {
    "duration": -716,
    "start_time": "2021-09-16T06:18:02.197Z"
   },
   {
    "duration": -718,
    "start_time": "2021-09-16T06:18:02.201Z"
   },
   {
    "duration": -722,
    "start_time": "2021-09-16T06:18:02.206Z"
   },
   {
    "duration": 6,
    "start_time": "2021-09-16T06:21:15.031Z"
   },
   {
    "duration": 340,
    "start_time": "2021-09-16T06:23:20.703Z"
   },
   {
    "duration": 79,
    "start_time": "2021-09-16T06:23:29.106Z"
   },
   {
    "duration": 106,
    "start_time": "2021-09-16T06:23:38.633Z"
   },
   {
    "duration": 92,
    "start_time": "2021-09-16T06:24:14.163Z"
   },
   {
    "duration": 173,
    "start_time": "2021-09-16T06:24:16.955Z"
   },
   {
    "duration": 95,
    "start_time": "2021-09-16T06:24:35.402Z"
   },
   {
    "duration": 5,
    "start_time": "2021-09-16T06:24:57.623Z"
   },
   {
    "duration": 5,
    "start_time": "2021-09-16T06:25:51.860Z"
   },
   {
    "duration": 12,
    "start_time": "2021-09-16T06:25:57.574Z"
   },
   {
    "duration": 18,
    "start_time": "2021-09-16T06:25:59.664Z"
   },
   {
    "duration": 5,
    "start_time": "2021-09-16T06:26:06.308Z"
   },
   {
    "duration": 18,
    "start_time": "2021-09-16T06:26:09.470Z"
   },
   {
    "duration": 5,
    "start_time": "2021-09-16T06:26:14.048Z"
   },
   {
    "duration": 19,
    "start_time": "2021-09-16T06:26:16.296Z"
   },
   {
    "duration": 5,
    "start_time": "2021-09-16T06:26:52.070Z"
   },
   {
    "duration": 1929,
    "start_time": "2021-09-16T06:26:56.272Z"
   },
   {
    "duration": 2499,
    "start_time": "2021-09-16T06:27:00.839Z"
   },
   {
    "duration": 1673,
    "start_time": "2021-09-16T06:27:11.165Z"
   },
   {
    "duration": 258,
    "start_time": "2021-09-16T06:27:12.840Z"
   },
   {
    "duration": 25,
    "start_time": "2021-09-16T06:27:13.101Z"
   },
   {
    "duration": 34,
    "start_time": "2021-09-16T06:27:13.129Z"
   },
   {
    "duration": 101,
    "start_time": "2021-09-16T06:27:13.165Z"
   },
   {
    "duration": 5,
    "start_time": "2021-09-16T06:27:13.268Z"
   },
   {
    "duration": 31,
    "start_time": "2021-09-16T06:27:13.275Z"
   },
   {
    "duration": 22,
    "start_time": "2021-09-16T06:27:13.308Z"
   },
   {
    "duration": 87,
    "start_time": "2021-09-16T06:27:13.333Z"
   },
   {
    "duration": 12,
    "start_time": "2021-09-16T06:27:13.423Z"
   },
   {
    "duration": 11,
    "start_time": "2021-09-16T06:27:13.437Z"
   },
   {
    "duration": 32,
    "start_time": "2021-09-16T06:27:13.451Z"
   },
   {
    "duration": 6,
    "start_time": "2021-09-16T06:27:13.486Z"
   },
   {
    "duration": 15,
    "start_time": "2021-09-16T06:27:13.494Z"
   },
   {
    "duration": 14,
    "start_time": "2021-09-16T06:27:13.512Z"
   },
   {
    "duration": 10,
    "start_time": "2021-09-16T06:27:13.529Z"
   },
   {
    "duration": 10,
    "start_time": "2021-09-16T06:27:13.541Z"
   },
   {
    "duration": 8,
    "start_time": "2021-09-16T06:27:13.581Z"
   },
   {
    "duration": 17,
    "start_time": "2021-09-16T06:27:13.591Z"
   },
   {
    "duration": 13,
    "start_time": "2021-09-16T06:27:13.610Z"
   },
   {
    "duration": 11,
    "start_time": "2021-09-16T06:27:13.625Z"
   },
   {
    "duration": 10,
    "start_time": "2021-09-16T06:27:13.638Z"
   },
   {
    "duration": 7,
    "start_time": "2021-09-16T06:27:13.683Z"
   },
   {
    "duration": 23,
    "start_time": "2021-09-16T06:27:13.692Z"
   },
   {
    "duration": 11,
    "start_time": "2021-09-16T06:27:13.717Z"
   },
   {
    "duration": 17,
    "start_time": "2021-09-16T06:27:13.731Z"
   },
   {
    "duration": 8,
    "start_time": "2021-09-16T06:27:13.753Z"
   },
   {
    "duration": 18,
    "start_time": "2021-09-16T06:27:13.764Z"
   },
   {
    "duration": 14,
    "start_time": "2021-09-16T06:27:13.785Z"
   },
   {
    "duration": 23,
    "start_time": "2021-09-16T06:27:13.801Z"
   },
   {
    "duration": 9,
    "start_time": "2021-09-16T06:27:13.826Z"
   },
   {
    "duration": 21,
    "start_time": "2021-09-16T06:27:13.838Z"
   },
   {
    "duration": 26,
    "start_time": "2021-09-16T06:27:13.862Z"
   },
   {
    "duration": 10,
    "start_time": "2021-09-16T06:27:13.891Z"
   },
   {
    "duration": 24,
    "start_time": "2021-09-16T06:27:13.904Z"
   },
   {
    "duration": 9,
    "start_time": "2021-09-16T06:27:13.931Z"
   },
   {
    "duration": 63,
    "start_time": "2021-09-16T06:27:13.943Z"
   },
   {
    "duration": 42,
    "start_time": "2021-09-16T06:27:14.009Z"
   },
   {
    "duration": 28,
    "start_time": "2021-09-16T06:27:14.054Z"
   },
   {
    "duration": 12,
    "start_time": "2021-09-16T06:27:14.085Z"
   },
   {
    "duration": 11,
    "start_time": "2021-09-16T06:27:14.099Z"
   },
   {
    "duration": 19,
    "start_time": "2021-09-16T06:27:14.112Z"
   },
   {
    "duration": 4,
    "start_time": "2021-09-16T06:27:14.133Z"
   },
   {
    "duration": 52,
    "start_time": "2021-09-16T06:27:14.139Z"
   },
   {
    "duration": 21,
    "start_time": "2021-09-16T06:27:14.193Z"
   },
   {
    "duration": 31737,
    "start_time": "2021-09-16T06:27:14.216Z"
   },
   {
    "duration": 9,
    "start_time": "2021-09-16T06:27:45.955Z"
   },
   {
    "duration": 36,
    "start_time": "2021-09-16T06:27:45.966Z"
   },
   {
    "duration": 315,
    "start_time": "2021-09-16T06:27:46.004Z"
   },
   {
    "duration": 24,
    "start_time": "2021-09-16T06:27:46.322Z"
   },
   {
    "duration": 42,
    "start_time": "2021-09-16T06:27:46.349Z"
   },
   {
    "duration": 364,
    "start_time": "2021-09-16T06:27:46.394Z"
   },
   {
    "duration": 33,
    "start_time": "2021-09-16T06:27:46.760Z"
   },
   {
    "duration": 372,
    "start_time": "2021-09-16T06:27:46.796Z"
   },
   {
    "duration": 28,
    "start_time": "2021-09-16T06:27:47.172Z"
   },
   {
    "duration": 309,
    "start_time": "2021-09-16T06:27:47.203Z"
   },
   {
    "duration": 5,
    "start_time": "2021-09-16T06:28:53.906Z"
   },
   {
    "duration": 5,
    "start_time": "2021-09-16T06:29:18.359Z"
   },
   {
    "duration": 1731,
    "start_time": "2021-09-16T06:29:24.937Z"
   },
   {
    "duration": 5,
    "start_time": "2021-09-16T06:29:37.616Z"
   },
   {
    "duration": 1695,
    "start_time": "2021-09-16T06:29:43.620Z"
   },
   {
    "duration": 6,
    "start_time": "2021-09-16T06:31:16.526Z"
   },
   {
    "duration": 1721,
    "start_time": "2021-09-16T06:31:23.076Z"
   },
   {
    "duration": 372,
    "start_time": "2021-09-16T06:31:24.799Z"
   },
   {
    "duration": 27,
    "start_time": "2021-09-16T06:31:25.174Z"
   },
   {
    "duration": 19,
    "start_time": "2021-09-16T06:31:25.204Z"
   },
   {
    "duration": 98,
    "start_time": "2021-09-16T06:31:25.227Z"
   },
   {
    "duration": 6,
    "start_time": "2021-09-16T06:31:25.328Z"
   },
   {
    "duration": 17,
    "start_time": "2021-09-16T06:31:25.336Z"
   },
   {
    "duration": 39,
    "start_time": "2021-09-16T06:31:25.357Z"
   },
   {
    "duration": 97,
    "start_time": "2021-09-16T06:31:25.400Z"
   },
   {
    "duration": 12,
    "start_time": "2021-09-16T06:31:25.500Z"
   },
   {
    "duration": 8,
    "start_time": "2021-09-16T06:31:25.515Z"
   },
   {
    "duration": 13,
    "start_time": "2021-09-16T06:31:25.526Z"
   },
   {
    "duration": 41,
    "start_time": "2021-09-16T06:31:25.543Z"
   },
   {
    "duration": 16,
    "start_time": "2021-09-16T06:31:25.587Z"
   },
   {
    "duration": 19,
    "start_time": "2021-09-16T06:31:25.606Z"
   },
   {
    "duration": 11,
    "start_time": "2021-09-16T06:31:25.627Z"
   },
   {
    "duration": 7,
    "start_time": "2021-09-16T06:31:25.640Z"
   },
   {
    "duration": 7,
    "start_time": "2021-09-16T06:31:25.682Z"
   },
   {
    "duration": 6,
    "start_time": "2021-09-16T06:31:25.692Z"
   },
   {
    "duration": 8,
    "start_time": "2021-09-16T06:31:25.701Z"
   },
   {
    "duration": 9,
    "start_time": "2021-09-16T06:31:25.711Z"
   },
   {
    "duration": 59,
    "start_time": "2021-09-16T06:31:25.723Z"
   },
   {
    "duration": 7,
    "start_time": "2021-09-16T06:31:25.788Z"
   },
   {
    "duration": 19,
    "start_time": "2021-09-16T06:31:25.798Z"
   },
   {
    "duration": 11,
    "start_time": "2021-09-16T06:31:25.819Z"
   },
   {
    "duration": 12,
    "start_time": "2021-09-16T06:31:25.832Z"
   },
   {
    "duration": 39,
    "start_time": "2021-09-16T06:31:25.847Z"
   },
   {
    "duration": 5,
    "start_time": "2021-09-16T06:31:25.888Z"
   },
   {
    "duration": 22,
    "start_time": "2021-09-16T06:31:25.895Z"
   },
   {
    "duration": 23,
    "start_time": "2021-09-16T06:31:25.920Z"
   },
   {
    "duration": 12,
    "start_time": "2021-09-16T06:31:25.945Z"
   },
   {
    "duration": 24,
    "start_time": "2021-09-16T06:31:25.959Z"
   },
   {
    "duration": 8,
    "start_time": "2021-09-16T06:31:25.986Z"
   },
   {
    "duration": 9,
    "start_time": "2021-09-16T06:31:25.996Z"
   },
   {
    "duration": 24,
    "start_time": "2021-09-16T06:31:26.007Z"
   },
   {
    "duration": 8,
    "start_time": "2021-09-16T06:31:26.034Z"
   },
   {
    "duration": 23,
    "start_time": "2021-09-16T06:31:26.083Z"
   },
   {
    "duration": 44,
    "start_time": "2021-09-16T06:31:26.109Z"
   },
   {
    "duration": 33,
    "start_time": "2021-09-16T06:31:26.156Z"
   },
   {
    "duration": 13,
    "start_time": "2021-09-16T06:31:26.192Z"
   },
   {
    "duration": 5,
    "start_time": "2021-09-16T06:31:26.207Z"
   },
   {
    "duration": 17,
    "start_time": "2021-09-16T06:31:26.214Z"
   },
   {
    "duration": 48,
    "start_time": "2021-09-16T06:31:26.234Z"
   },
   {
    "duration": 22,
    "start_time": "2021-09-16T06:31:26.285Z"
   },
   {
    "duration": 25,
    "start_time": "2021-09-16T06:31:26.310Z"
   },
   {
    "duration": 31939,
    "start_time": "2021-09-16T06:31:26.338Z"
   },
   {
    "duration": 9,
    "start_time": "2021-09-16T06:31:58.279Z"
   },
   {
    "duration": 28,
    "start_time": "2021-09-16T06:31:58.291Z"
   },
   {
    "duration": 337,
    "start_time": "2021-09-16T06:31:58.321Z"
   },
   {
    "duration": 30,
    "start_time": "2021-09-16T06:31:58.661Z"
   },
   {
    "duration": 22,
    "start_time": "2021-09-16T06:31:58.694Z"
   },
   {
    "duration": 351,
    "start_time": "2021-09-16T06:31:58.719Z"
   },
   {
    "duration": 25,
    "start_time": "2021-09-16T06:31:59.073Z"
   },
   {
    "duration": 388,
    "start_time": "2021-09-16T06:31:59.101Z"
   },
   {
    "duration": 21,
    "start_time": "2021-09-16T06:31:59.492Z"
   },
   {
    "duration": 306,
    "start_time": "2021-09-16T06:31:59.515Z"
   },
   {
    "duration": 5,
    "start_time": "2021-09-16T06:32:28.825Z"
   },
   {
    "duration": 7,
    "start_time": "2021-09-16T06:32:36.739Z"
   },
   {
    "duration": 529,
    "start_time": "2021-09-16T06:32:47.834Z"
   },
   {
    "duration": 5,
    "start_time": "2021-09-16T06:32:51.591Z"
   },
   {
    "duration": 1627,
    "start_time": "2021-09-16T06:32:53.093Z"
   },
   {
    "duration": 1698,
    "start_time": "2021-09-16T06:33:05.741Z"
   },
   {
    "duration": 379,
    "start_time": "2021-09-16T06:33:07.442Z"
   },
   {
    "duration": 28,
    "start_time": "2021-09-16T06:33:07.825Z"
   },
   {
    "duration": 33,
    "start_time": "2021-09-16T06:33:07.857Z"
   },
   {
    "duration": 116,
    "start_time": "2021-09-16T06:33:07.894Z"
   },
   {
    "duration": 5,
    "start_time": "2021-09-16T06:33:08.012Z"
   },
   {
    "duration": 20,
    "start_time": "2021-09-16T06:33:08.019Z"
   },
   {
    "duration": 42,
    "start_time": "2021-09-16T06:33:08.041Z"
   },
   {
    "duration": 75,
    "start_time": "2021-09-16T06:33:08.087Z"
   },
   {
    "duration": 15,
    "start_time": "2021-09-16T06:33:08.183Z"
   },
   {
    "duration": 14,
    "start_time": "2021-09-16T06:33:08.201Z"
   },
   {
    "duration": 32,
    "start_time": "2021-09-16T06:33:08.217Z"
   },
   {
    "duration": 23,
    "start_time": "2021-09-16T06:33:08.252Z"
   },
   {
    "duration": 53,
    "start_time": "2021-09-16T06:33:08.277Z"
   },
   {
    "duration": 17,
    "start_time": "2021-09-16T06:33:08.332Z"
   },
   {
    "duration": 26,
    "start_time": "2021-09-16T06:33:08.351Z"
   },
   {
    "duration": 19,
    "start_time": "2021-09-16T06:33:08.380Z"
   },
   {
    "duration": 33,
    "start_time": "2021-09-16T06:33:08.402Z"
   },
   {
    "duration": 15,
    "start_time": "2021-09-16T06:33:08.437Z"
   },
   {
    "duration": 29,
    "start_time": "2021-09-16T06:33:08.454Z"
   },
   {
    "duration": 31,
    "start_time": "2021-09-16T06:33:08.486Z"
   },
   {
    "duration": 25,
    "start_time": "2021-09-16T06:33:08.519Z"
   },
   {
    "duration": 16,
    "start_time": "2021-09-16T06:33:08.546Z"
   },
   {
    "duration": 39,
    "start_time": "2021-09-16T06:33:08.564Z"
   },
   {
    "duration": 7,
    "start_time": "2021-09-16T06:33:08.606Z"
   },
   {
    "duration": 41,
    "start_time": "2021-09-16T06:33:08.615Z"
   },
   {
    "duration": 14,
    "start_time": "2021-09-16T06:33:08.662Z"
   },
   {
    "duration": 16,
    "start_time": "2021-09-16T06:33:08.679Z"
   },
   {
    "duration": 21,
    "start_time": "2021-09-16T06:33:08.697Z"
   },
   {
    "duration": 35,
    "start_time": "2021-09-16T06:33:08.721Z"
   },
   {
    "duration": 17,
    "start_time": "2021-09-16T06:33:08.758Z"
   },
   {
    "duration": 19,
    "start_time": "2021-09-16T06:33:08.777Z"
   },
   {
    "duration": 32,
    "start_time": "2021-09-16T06:33:08.799Z"
   },
   {
    "duration": 36,
    "start_time": "2021-09-16T06:33:08.834Z"
   },
   {
    "duration": 38,
    "start_time": "2021-09-16T06:33:08.873Z"
   },
   {
    "duration": 8,
    "start_time": "2021-09-16T06:33:08.914Z"
   },
   {
    "duration": 39,
    "start_time": "2021-09-16T06:33:08.924Z"
   },
   {
    "duration": 66,
    "start_time": "2021-09-16T06:33:08.965Z"
   },
   {
    "duration": 6,
    "start_time": "2021-09-16T06:33:09.034Z"
   },
   {
    "duration": 15,
    "start_time": "2021-09-16T06:33:09.043Z"
   },
   {
    "duration": 19,
    "start_time": "2021-09-16T06:33:09.060Z"
   },
   {
    "duration": 37,
    "start_time": "2021-09-16T06:33:09.083Z"
   },
   {
    "duration": 17,
    "start_time": "2021-09-16T06:33:09.122Z"
   },
   {
    "duration": 37,
    "start_time": "2021-09-16T06:33:09.141Z"
   },
   {
    "duration": 23,
    "start_time": "2021-09-16T06:33:09.181Z"
   },
   {
    "duration": 32456,
    "start_time": "2021-09-16T06:33:09.206Z"
   },
   {
    "duration": 20,
    "start_time": "2021-09-16T06:33:41.665Z"
   },
   {
    "duration": 28,
    "start_time": "2021-09-16T06:33:41.688Z"
   },
   {
    "duration": 348,
    "start_time": "2021-09-16T06:33:41.719Z"
   },
   {
    "duration": 33,
    "start_time": "2021-09-16T06:33:42.071Z"
   },
   {
    "duration": 22,
    "start_time": "2021-09-16T06:33:42.106Z"
   },
   {
    "duration": 351,
    "start_time": "2021-09-16T06:33:42.130Z"
   },
   {
    "duration": 21,
    "start_time": "2021-09-16T06:33:42.484Z"
   },
   {
    "duration": 389,
    "start_time": "2021-09-16T06:33:42.507Z"
   },
   {
    "duration": 22,
    "start_time": "2021-09-16T06:33:42.899Z"
   },
   {
    "duration": 320,
    "start_time": "2021-09-16T06:33:42.924Z"
   },
   {
    "duration": 5,
    "start_time": "2021-09-16T06:34:13.375Z"
   },
   {
    "duration": 1699,
    "start_time": "2021-09-16T06:34:17.339Z"
   },
   {
    "duration": 1663,
    "start_time": "2021-09-16T06:34:25.977Z"
   },
   {
    "duration": 244,
    "start_time": "2021-09-16T06:34:27.642Z"
   },
   {
    "duration": 29,
    "start_time": "2021-09-16T06:34:27.889Z"
   },
   {
    "duration": 15,
    "start_time": "2021-09-16T06:34:27.921Z"
   },
   {
    "duration": 110,
    "start_time": "2021-09-16T06:34:27.938Z"
   },
   {
    "duration": 5,
    "start_time": "2021-09-16T06:34:28.050Z"
   },
   {
    "duration": 32,
    "start_time": "2021-09-16T06:34:28.057Z"
   },
   {
    "duration": 20,
    "start_time": "2021-09-16T06:34:28.091Z"
   },
   {
    "duration": 97,
    "start_time": "2021-09-16T06:34:28.116Z"
   },
   {
    "duration": 13,
    "start_time": "2021-09-16T06:34:28.217Z"
   },
   {
    "duration": 8,
    "start_time": "2021-09-16T06:34:28.233Z"
   },
   {
    "duration": 41,
    "start_time": "2021-09-16T06:34:28.243Z"
   },
   {
    "duration": 7,
    "start_time": "2021-09-16T06:34:28.287Z"
   },
   {
    "duration": 9,
    "start_time": "2021-09-16T06:34:28.296Z"
   },
   {
    "duration": 12,
    "start_time": "2021-09-16T06:34:28.308Z"
   },
   {
    "duration": 8,
    "start_time": "2021-09-16T06:34:28.323Z"
   },
   {
    "duration": 48,
    "start_time": "2021-09-16T06:34:28.334Z"
   },
   {
    "duration": 8,
    "start_time": "2021-09-16T06:34:28.385Z"
   },
   {
    "duration": 7,
    "start_time": "2021-09-16T06:34:28.395Z"
   },
   {
    "duration": 7,
    "start_time": "2021-09-16T06:34:28.404Z"
   },
   {
    "duration": 16,
    "start_time": "2021-09-16T06:34:28.413Z"
   },
   {
    "duration": 56,
    "start_time": "2021-09-16T06:34:28.431Z"
   },
   {
    "duration": 7,
    "start_time": "2021-09-16T06:34:28.490Z"
   },
   {
    "duration": 19,
    "start_time": "2021-09-16T06:34:28.499Z"
   },
   {
    "duration": 4,
    "start_time": "2021-09-16T06:34:28.521Z"
   },
   {
    "duration": 11,
    "start_time": "2021-09-16T06:34:28.527Z"
   },
   {
    "duration": 42,
    "start_time": "2021-09-16T06:34:28.545Z"
   },
   {
    "duration": 6,
    "start_time": "2021-09-16T06:34:28.592Z"
   },
   {
    "duration": 9,
    "start_time": "2021-09-16T06:34:28.601Z"
   },
   {
    "duration": 21,
    "start_time": "2021-09-16T06:34:28.613Z"
   },
   {
    "duration": 45,
    "start_time": "2021-09-16T06:34:28.637Z"
   },
   {
    "duration": 11,
    "start_time": "2021-09-16T06:34:28.686Z"
   },
   {
    "duration": 10,
    "start_time": "2021-09-16T06:34:28.700Z"
   },
   {
    "duration": 10,
    "start_time": "2021-09-16T06:34:28.712Z"
   },
   {
    "duration": 68,
    "start_time": "2021-09-16T06:34:28.725Z"
   },
   {
    "duration": 11,
    "start_time": "2021-09-16T06:34:28.796Z"
   },
   {
    "duration": 24,
    "start_time": "2021-09-16T06:34:28.810Z"
   },
   {
    "duration": 75,
    "start_time": "2021-09-16T06:34:28.837Z"
   },
   {
    "duration": 8,
    "start_time": "2021-09-16T06:34:28.915Z"
   },
   {
    "duration": 10,
    "start_time": "2021-09-16T06:34:28.926Z"
   },
   {
    "duration": 5,
    "start_time": "2021-09-16T06:34:28.938Z"
   },
   {
    "duration": 50,
    "start_time": "2021-09-16T06:34:28.945Z"
   },
   {
    "duration": 6,
    "start_time": "2021-09-16T06:34:28.998Z"
   },
   {
    "duration": 20,
    "start_time": "2021-09-16T06:34:29.007Z"
   },
   {
    "duration": 14,
    "start_time": "2021-09-16T06:34:29.030Z"
   },
   {
    "duration": 31428,
    "start_time": "2021-09-16T06:34:29.047Z"
   },
   {
    "duration": 10,
    "start_time": "2021-09-16T06:35:00.477Z"
   },
   {
    "duration": 46,
    "start_time": "2021-09-16T06:35:00.489Z"
   },
   {
    "duration": 327,
    "start_time": "2021-09-16T06:35:00.537Z"
   },
   {
    "duration": 38,
    "start_time": "2021-09-16T06:35:00.866Z"
   },
   {
    "duration": 41,
    "start_time": "2021-09-16T06:35:00.907Z"
   },
   {
    "duration": 351,
    "start_time": "2021-09-16T06:35:00.951Z"
   },
   {
    "duration": 22,
    "start_time": "2021-09-16T06:35:01.305Z"
   },
   {
    "duration": 395,
    "start_time": "2021-09-16T06:35:01.330Z"
   },
   {
    "duration": 22,
    "start_time": "2021-09-16T06:35:01.727Z"
   },
   {
    "duration": 301,
    "start_time": "2021-09-16T06:35:01.752Z"
   },
   {
    "duration": 1660,
    "start_time": "2021-09-16T06:36:59.804Z"
   },
   {
    "duration": 208,
    "start_time": "2021-09-16T06:37:01.467Z"
   },
   {
    "duration": 29,
    "start_time": "2021-09-16T06:37:01.678Z"
   },
   {
    "duration": 25,
    "start_time": "2021-09-16T06:37:01.710Z"
   },
   {
    "duration": 92,
    "start_time": "2021-09-16T06:37:01.737Z"
   },
   {
    "duration": 6,
    "start_time": "2021-09-16T06:37:01.831Z"
   },
   {
    "duration": 28,
    "start_time": "2021-09-16T06:37:01.839Z"
   },
   {
    "duration": 32,
    "start_time": "2021-09-16T06:37:01.870Z"
   },
   {
    "duration": 82,
    "start_time": "2021-09-16T06:37:01.909Z"
   },
   {
    "duration": 11,
    "start_time": "2021-09-16T06:37:01.995Z"
   },
   {
    "duration": 20,
    "start_time": "2021-09-16T06:37:02.009Z"
   },
   {
    "duration": 26,
    "start_time": "2021-09-16T06:37:02.031Z"
   },
   {
    "duration": 17,
    "start_time": "2021-09-16T06:37:02.059Z"
   },
   {
    "duration": 21,
    "start_time": "2021-09-16T06:37:02.083Z"
   },
   {
    "duration": 25,
    "start_time": "2021-09-16T06:37:02.106Z"
   },
   {
    "duration": 21,
    "start_time": "2021-09-16T06:37:02.133Z"
   },
   {
    "duration": 7,
    "start_time": "2021-09-16T06:37:02.157Z"
   },
   {
    "duration": 14,
    "start_time": "2021-09-16T06:37:02.167Z"
   },
   {
    "duration": 11,
    "start_time": "2021-09-16T06:37:02.183Z"
   },
   {
    "duration": 11,
    "start_time": "2021-09-16T06:37:02.197Z"
   },
   {
    "duration": 13,
    "start_time": "2021-09-16T06:37:02.210Z"
   },
   {
    "duration": 25,
    "start_time": "2021-09-16T06:37:02.226Z"
   },
   {
    "duration": 6,
    "start_time": "2021-09-16T06:37:02.253Z"
   },
   {
    "duration": 29,
    "start_time": "2021-09-16T06:37:02.261Z"
   },
   {
    "duration": 32,
    "start_time": "2021-09-16T06:37:02.292Z"
   },
   {
    "duration": 15,
    "start_time": "2021-09-16T06:37:02.327Z"
   },
   {
    "duration": 9,
    "start_time": "2021-09-16T06:37:02.350Z"
   },
   {
    "duration": 25,
    "start_time": "2021-09-16T06:37:02.362Z"
   },
   {
    "duration": 18,
    "start_time": "2021-09-16T06:37:02.390Z"
   },
   {
    "duration": 73,
    "start_time": "2021-09-16T06:37:02.411Z"
   },
   {
    "duration": 6,
    "start_time": "2021-09-16T06:37:02.487Z"
   },
   {
    "duration": 26,
    "start_time": "2021-09-16T06:37:02.496Z"
   },
   {
    "duration": 8,
    "start_time": "2021-09-16T06:37:02.524Z"
   },
   {
    "duration": 51,
    "start_time": "2021-09-16T06:37:02.534Z"
   },
   {
    "duration": 22,
    "start_time": "2021-09-16T06:37:02.588Z"
   },
   {
    "duration": 8,
    "start_time": "2021-09-16T06:37:02.612Z"
   },
   {
    "duration": 27,
    "start_time": "2021-09-16T06:37:02.622Z"
   },
   {
    "duration": 48,
    "start_time": "2021-09-16T06:37:02.651Z"
   },
   {
    "duration": 6,
    "start_time": "2021-09-16T06:37:02.702Z"
   },
   {
    "duration": 12,
    "start_time": "2021-09-16T06:37:02.710Z"
   },
   {
    "duration": 4,
    "start_time": "2021-09-16T06:37:02.725Z"
   },
   {
    "duration": 20,
    "start_time": "2021-09-16T06:37:02.731Z"
   },
   {
    "duration": 10,
    "start_time": "2021-09-16T06:37:02.753Z"
   },
   {
    "duration": 25,
    "start_time": "2021-09-16T06:37:02.766Z"
   },
   {
    "duration": 14,
    "start_time": "2021-09-16T06:37:02.793Z"
   },
   {
    "duration": 31352,
    "start_time": "2021-09-16T06:37:02.810Z"
   },
   {
    "duration": 10,
    "start_time": "2021-09-16T06:37:34.165Z"
   },
   {
    "duration": 28,
    "start_time": "2021-09-16T06:37:34.183Z"
   },
   {
    "duration": 339,
    "start_time": "2021-09-16T06:37:34.215Z"
   },
   {
    "duration": 36,
    "start_time": "2021-09-16T06:37:34.557Z"
   },
   {
    "duration": 24,
    "start_time": "2021-09-16T06:37:34.595Z"
   },
   {
    "duration": 346,
    "start_time": "2021-09-16T06:37:34.621Z"
   },
   {
    "duration": 26,
    "start_time": "2021-09-16T06:37:34.969Z"
   },
   {
    "duration": 384,
    "start_time": "2021-09-16T06:37:34.998Z"
   },
   {
    "duration": 21,
    "start_time": "2021-09-16T06:37:35.384Z"
   },
   {
    "duration": 299,
    "start_time": "2021-09-16T06:37:35.407Z"
   },
   {
    "duration": 1665,
    "start_time": "2021-09-16T06:38:32.468Z"
   },
   {
    "duration": 254,
    "start_time": "2021-09-16T06:38:34.136Z"
   },
   {
    "duration": 28,
    "start_time": "2021-09-16T06:38:34.394Z"
   },
   {
    "duration": 18,
    "start_time": "2021-09-16T06:38:34.425Z"
   },
   {
    "duration": 100,
    "start_time": "2021-09-16T06:38:34.445Z"
   },
   {
    "duration": 5,
    "start_time": "2021-09-16T06:38:34.547Z"
   },
   {
    "duration": 35,
    "start_time": "2021-09-16T06:38:34.554Z"
   },
   {
    "duration": 20,
    "start_time": "2021-09-16T06:38:34.593Z"
   },
   {
    "duration": 97,
    "start_time": "2021-09-16T06:38:34.616Z"
   },
   {
    "duration": 15,
    "start_time": "2021-09-16T06:38:34.716Z"
   },
   {
    "duration": 7,
    "start_time": "2021-09-16T06:38:34.734Z"
   },
   {
    "duration": 39,
    "start_time": "2021-09-16T06:38:34.744Z"
   },
   {
    "duration": 7,
    "start_time": "2021-09-16T06:38:34.786Z"
   },
   {
    "duration": 10,
    "start_time": "2021-09-16T06:38:34.795Z"
   },
   {
    "duration": 11,
    "start_time": "2021-09-16T06:38:34.807Z"
   },
   {
    "duration": 8,
    "start_time": "2021-09-16T06:38:34.820Z"
   },
   {
    "duration": 6,
    "start_time": "2021-09-16T06:38:34.830Z"
   },
   {
    "duration": 8,
    "start_time": "2021-09-16T06:38:34.883Z"
   },
   {
    "duration": 7,
    "start_time": "2021-09-16T06:38:34.894Z"
   },
   {
    "duration": 10,
    "start_time": "2021-09-16T06:38:34.903Z"
   },
   {
    "duration": 8,
    "start_time": "2021-09-16T06:38:34.916Z"
   },
   {
    "duration": 9,
    "start_time": "2021-09-16T06:38:34.927Z"
   },
   {
    "duration": 6,
    "start_time": "2021-09-16T06:38:34.985Z"
   },
   {
    "duration": 19,
    "start_time": "2021-09-16T06:38:34.995Z"
   },
   {
    "duration": 5,
    "start_time": "2021-09-16T06:38:35.017Z"
   },
   {
    "duration": 10,
    "start_time": "2021-09-16T06:38:35.025Z"
   },
   {
    "duration": 45,
    "start_time": "2021-09-16T06:38:35.038Z"
   },
   {
    "duration": 7,
    "start_time": "2021-09-16T06:38:35.086Z"
   },
   {
    "duration": 13,
    "start_time": "2021-09-16T06:38:35.095Z"
   },
   {
    "duration": 23,
    "start_time": "2021-09-16T06:38:35.110Z"
   },
   {
    "duration": 17,
    "start_time": "2021-09-16T06:38:35.135Z"
   },
   {
    "duration": 32,
    "start_time": "2021-09-16T06:38:35.155Z"
   },
   {
    "duration": 8,
    "start_time": "2021-09-16T06:38:35.189Z"
   },
   {
    "duration": 11,
    "start_time": "2021-09-16T06:38:35.200Z"
   },
   {
    "duration": 20,
    "start_time": "2021-09-16T06:38:35.213Z"
   },
   {
    "duration": 7,
    "start_time": "2021-09-16T06:38:35.236Z"
   },
   {
    "duration": 66,
    "start_time": "2021-09-16T06:38:35.247Z"
   },
   {
    "duration": 46,
    "start_time": "2021-09-16T06:38:35.315Z"
   },
   {
    "duration": 23,
    "start_time": "2021-09-16T06:38:35.364Z"
   },
   {
    "duration": 15,
    "start_time": "2021-09-16T06:38:35.391Z"
   },
   {
    "duration": 4,
    "start_time": "2021-09-16T06:38:35.408Z"
   },
   {
    "duration": 15,
    "start_time": "2021-09-16T06:38:35.415Z"
   },
   {
    "duration": 11,
    "start_time": "2021-09-16T06:38:35.432Z"
   },
   {
    "duration": 50,
    "start_time": "2021-09-16T06:38:35.445Z"
   },
   {
    "duration": 44,
    "start_time": "2021-09-16T06:38:35.497Z"
   },
   {
    "duration": 33398,
    "start_time": "2021-09-16T06:38:35.544Z"
   },
   {
    "duration": 10,
    "start_time": "2021-09-16T06:39:08.945Z"
   },
   {
    "duration": 40,
    "start_time": "2021-09-16T06:39:08.959Z"
   },
   {
    "duration": 344,
    "start_time": "2021-09-16T06:39:09.002Z"
   },
   {
    "duration": 36,
    "start_time": "2021-09-16T06:39:09.349Z"
   },
   {
    "duration": 22,
    "start_time": "2021-09-16T06:39:09.388Z"
   },
   {
    "duration": 348,
    "start_time": "2021-09-16T06:39:09.413Z"
   },
   {
    "duration": 28,
    "start_time": "2021-09-16T06:39:09.764Z"
   },
   {
    "duration": 374,
    "start_time": "2021-09-16T06:39:09.794Z"
   },
   {
    "duration": 28,
    "start_time": "2021-09-16T06:39:10.171Z"
   },
   {
    "duration": 283,
    "start_time": "2021-09-16T06:39:10.201Z"
   },
   {
    "duration": 6663,
    "start_time": "2021-09-16T06:46:50.446Z"
   },
   {
    "duration": 318,
    "start_time": "2021-09-16T06:48:29.060Z"
   },
   {
    "duration": 347,
    "start_time": "2021-09-16T06:49:19.450Z"
   },
   {
    "duration": 296,
    "start_time": "2021-09-16T06:49:28.912Z"
   },
   {
    "duration": 6786,
    "start_time": "2021-09-16T06:49:56.933Z"
   },
   {
    "duration": 316,
    "start_time": "2021-09-16T06:50:25.877Z"
   },
   {
    "duration": 297,
    "start_time": "2021-09-16T06:50:34.575Z"
   },
   {
    "duration": 14,
    "start_time": "2021-09-16T06:52:04.095Z"
   },
   {
    "duration": 13,
    "start_time": "2021-09-16T06:52:13.674Z"
   },
   {
    "duration": 1708,
    "start_time": "2021-09-16T06:52:29.542Z"
   },
   {
    "duration": 248,
    "start_time": "2021-09-16T06:52:31.253Z"
   },
   {
    "duration": 28,
    "start_time": "2021-09-16T06:52:31.505Z"
   },
   {
    "duration": 22,
    "start_time": "2021-09-16T06:52:31.536Z"
   },
   {
    "duration": 103,
    "start_time": "2021-09-16T06:52:31.561Z"
   },
   {
    "duration": 5,
    "start_time": "2021-09-16T06:52:31.683Z"
   },
   {
    "duration": 20,
    "start_time": "2021-09-16T06:52:31.691Z"
   },
   {
    "duration": 26,
    "start_time": "2021-09-16T06:52:31.715Z"
   },
   {
    "duration": 98,
    "start_time": "2021-09-16T06:52:31.745Z"
   },
   {
    "duration": 13,
    "start_time": "2021-09-16T06:52:31.845Z"
   },
   {
    "duration": 25,
    "start_time": "2021-09-16T06:52:31.860Z"
   },
   {
    "duration": 10,
    "start_time": "2021-09-16T06:52:31.887Z"
   },
   {
    "duration": 10,
    "start_time": "2021-09-16T06:52:31.900Z"
   },
   {
    "duration": 8,
    "start_time": "2021-09-16T06:52:31.913Z"
   },
   {
    "duration": 8,
    "start_time": "2021-09-16T06:52:31.923Z"
   },
   {
    "duration": 53,
    "start_time": "2021-09-16T06:52:31.933Z"
   },
   {
    "duration": 21,
    "start_time": "2021-09-16T06:52:31.989Z"
   },
   {
    "duration": 13,
    "start_time": "2021-09-16T06:52:32.012Z"
   },
   {
    "duration": 7,
    "start_time": "2021-09-16T06:52:32.027Z"
   },
   {
    "duration": 7,
    "start_time": "2021-09-16T06:52:32.037Z"
   },
   {
    "duration": 40,
    "start_time": "2021-09-16T06:52:32.046Z"
   },
   {
    "duration": 10,
    "start_time": "2021-09-16T06:52:32.089Z"
   },
   {
    "duration": 6,
    "start_time": "2021-09-16T06:52:32.105Z"
   },
   {
    "duration": 21,
    "start_time": "2021-09-16T06:52:32.114Z"
   },
   {
    "duration": 5,
    "start_time": "2021-09-16T06:52:32.137Z"
   },
   {
    "duration": 8,
    "start_time": "2021-09-16T06:52:32.182Z"
   },
   {
    "duration": 8,
    "start_time": "2021-09-16T06:52:32.193Z"
   },
   {
    "duration": 6,
    "start_time": "2021-09-16T06:52:32.203Z"
   },
   {
    "duration": 9,
    "start_time": "2021-09-16T06:52:32.211Z"
   },
   {
    "duration": 61,
    "start_time": "2021-09-16T06:52:32.223Z"
   },
   {
    "duration": 11,
    "start_time": "2021-09-16T06:52:32.287Z"
   },
   {
    "duration": 14,
    "start_time": "2021-09-16T06:52:32.301Z"
   },
   {
    "duration": 14,
    "start_time": "2021-09-16T06:52:32.318Z"
   },
   {
    "duration": 17,
    "start_time": "2021-09-16T06:52:32.335Z"
   },
   {
    "duration": 32,
    "start_time": "2021-09-16T06:52:32.354Z"
   },
   {
    "duration": 9,
    "start_time": "2021-09-16T06:52:32.388Z"
   },
   {
    "duration": 32,
    "start_time": "2021-09-16T06:52:32.399Z"
   },
   {
    "duration": 59,
    "start_time": "2021-09-16T06:52:32.433Z"
   },
   {
    "duration": 11,
    "start_time": "2021-09-16T06:52:32.494Z"
   },
   {
    "duration": 109,
    "start_time": "2021-09-16T06:52:32.507Z"
   },
   {
    "duration": -999,
    "start_time": "2021-09-16T06:52:33.617Z"
   },
   {
    "duration": -1004,
    "start_time": "2021-09-16T06:52:33.623Z"
   },
   {
    "duration": -1007,
    "start_time": "2021-09-16T06:52:33.628Z"
   },
   {
    "duration": -1010,
    "start_time": "2021-09-16T06:52:33.632Z"
   },
   {
    "duration": -1015,
    "start_time": "2021-09-16T06:52:33.638Z"
   },
   {
    "duration": -1018,
    "start_time": "2021-09-16T06:52:33.642Z"
   },
   {
    "duration": -1022,
    "start_time": "2021-09-16T06:52:33.648Z"
   },
   {
    "duration": -1063,
    "start_time": "2021-09-16T06:52:33.690Z"
   },
   {
    "duration": -1073,
    "start_time": "2021-09-16T06:52:33.701Z"
   },
   {
    "duration": -1078,
    "start_time": "2021-09-16T06:52:33.708Z"
   },
   {
    "duration": -1087,
    "start_time": "2021-09-16T06:52:33.718Z"
   },
   {
    "duration": -1091,
    "start_time": "2021-09-16T06:52:33.723Z"
   },
   {
    "duration": -1110,
    "start_time": "2021-09-16T06:52:33.744Z"
   },
   {
    "duration": -1115,
    "start_time": "2021-09-16T06:52:33.750Z"
   },
   {
    "duration": 5,
    "start_time": "2021-09-16T06:54:20.970Z"
   },
   {
    "duration": 15,
    "start_time": "2021-09-16T06:54:27.165Z"
   },
   {
    "duration": 17,
    "start_time": "2021-09-16T06:54:28.879Z"
   },
   {
    "duration": 23,
    "start_time": "2021-09-16T06:54:49.959Z"
   },
   {
    "duration": 276,
    "start_time": "2021-09-16T06:54:51.680Z"
   },
   {
    "duration": 5,
    "start_time": "2021-09-16T06:55:21.102Z"
   },
   {
    "duration": 2035,
    "start_time": "2021-09-16T06:55:25.688Z"
   },
   {
    "duration": 1341,
    "start_time": "2021-09-16T06:55:31.842Z"
   },
   {
    "duration": 17,
    "start_time": "2021-09-16T06:55:36.862Z"
   },
   {
    "duration": 6,
    "start_time": "2021-09-16T06:55:47.216Z"
   },
   {
    "duration": 248,
    "start_time": "2021-09-16T06:55:47.225Z"
   },
   {
    "duration": 22,
    "start_time": "2021-09-16T06:55:47.476Z"
   },
   {
    "duration": 22,
    "start_time": "2021-09-16T06:55:47.501Z"
   },
   {
    "duration": 168,
    "start_time": "2021-09-16T06:55:47.526Z"
   },
   {
    "duration": 5,
    "start_time": "2021-09-16T06:55:47.697Z"
   },
   {
    "duration": 54,
    "start_time": "2021-09-16T06:55:47.706Z"
   },
   {
    "duration": 31,
    "start_time": "2021-09-16T06:55:47.763Z"
   },
   {
    "duration": 86,
    "start_time": "2021-09-16T06:55:47.796Z"
   },
   {
    "duration": 12,
    "start_time": "2021-09-16T06:55:47.885Z"
   },
   {
    "duration": 24,
    "start_time": "2021-09-16T06:55:47.900Z"
   },
   {
    "duration": 12,
    "start_time": "2021-09-16T06:55:47.926Z"
   },
   {
    "duration": 7,
    "start_time": "2021-09-16T06:55:47.940Z"
   },
   {
    "duration": 35,
    "start_time": "2021-09-16T06:55:47.950Z"
   },
   {
    "duration": 6,
    "start_time": "2021-09-16T06:55:47.987Z"
   },
   {
    "duration": 21,
    "start_time": "2021-09-16T06:55:47.995Z"
   },
   {
    "duration": 16,
    "start_time": "2021-09-16T06:55:48.018Z"
   },
   {
    "duration": 15,
    "start_time": "2021-09-16T06:55:48.036Z"
   },
   {
    "duration": 27,
    "start_time": "2021-09-16T06:55:48.056Z"
   },
   {
    "duration": 5,
    "start_time": "2021-09-16T06:55:48.087Z"
   },
   {
    "duration": 15,
    "start_time": "2021-09-16T06:55:48.095Z"
   },
   {
    "duration": 15,
    "start_time": "2021-09-16T06:55:48.112Z"
   },
   {
    "duration": 6,
    "start_time": "2021-09-16T06:55:48.130Z"
   },
   {
    "duration": 51,
    "start_time": "2021-09-16T06:55:48.139Z"
   },
   {
    "duration": 6,
    "start_time": "2021-09-16T06:55:48.193Z"
   },
   {
    "duration": 13,
    "start_time": "2021-09-16T06:55:48.202Z"
   },
   {
    "duration": 11,
    "start_time": "2021-09-16T06:55:48.217Z"
   },
   {
    "duration": 8,
    "start_time": "2021-09-16T06:55:48.231Z"
   },
   {
    "duration": 43,
    "start_time": "2021-09-16T06:55:48.242Z"
   },
   {
    "duration": 25,
    "start_time": "2021-09-16T06:55:48.288Z"
   },
   {
    "duration": 12,
    "start_time": "2021-09-16T06:55:48.316Z"
   },
   {
    "duration": 21,
    "start_time": "2021-09-16T06:55:48.331Z"
   },
   {
    "duration": 24,
    "start_time": "2021-09-16T06:55:48.355Z"
   },
   {
    "duration": 37,
    "start_time": "2021-09-16T06:55:48.382Z"
   },
   {
    "duration": 28,
    "start_time": "2021-09-16T06:55:48.421Z"
   },
   {
    "duration": 8,
    "start_time": "2021-09-16T06:55:48.451Z"
   },
   {
    "duration": 54,
    "start_time": "2021-09-16T06:55:48.462Z"
   },
   {
    "duration": 72,
    "start_time": "2021-09-16T06:55:48.519Z"
   },
   {
    "duration": 11,
    "start_time": "2021-09-16T06:55:48.594Z"
   },
   {
    "duration": 28,
    "start_time": "2021-09-16T06:55:48.607Z"
   },
   {
    "duration": 167,
    "start_time": "2021-09-16T06:55:48.638Z"
   },
   {
    "duration": -215,
    "start_time": "2021-09-16T06:55:49.022Z"
   },
   {
    "duration": 16,
    "start_time": "2021-09-16T06:55:53.642Z"
   },
   {
    "duration": 18,
    "start_time": "2021-09-16T06:55:55.122Z"
   },
   {
    "duration": 275,
    "start_time": "2021-09-16T06:55:59.978Z"
   },
   {
    "duration": 1641,
    "start_time": "2021-09-16T06:56:31.089Z"
   },
   {
    "duration": 238,
    "start_time": "2021-09-16T06:56:32.732Z"
   },
   {
    "duration": 27,
    "start_time": "2021-09-16T06:56:32.974Z"
   },
   {
    "duration": 35,
    "start_time": "2021-09-16T06:56:33.005Z"
   },
   {
    "duration": 92,
    "start_time": "2021-09-16T06:56:33.044Z"
   },
   {
    "duration": 7,
    "start_time": "2021-09-16T06:56:33.139Z"
   },
   {
    "duration": 41,
    "start_time": "2021-09-16T06:56:33.149Z"
   },
   {
    "duration": 29,
    "start_time": "2021-09-16T06:56:33.194Z"
   },
   {
    "duration": 97,
    "start_time": "2021-09-16T06:56:33.229Z"
   },
   {
    "duration": 13,
    "start_time": "2021-09-16T06:56:33.329Z"
   },
   {
    "duration": 24,
    "start_time": "2021-09-16T06:56:33.345Z"
   },
   {
    "duration": 19,
    "start_time": "2021-09-16T06:56:33.372Z"
   },
   {
    "duration": 8,
    "start_time": "2021-09-16T06:56:33.393Z"
   },
   {
    "duration": 20,
    "start_time": "2021-09-16T06:56:33.403Z"
   },
   {
    "duration": 20,
    "start_time": "2021-09-16T06:56:33.425Z"
   },
   {
    "duration": 36,
    "start_time": "2021-09-16T06:56:33.448Z"
   },
   {
    "duration": 9,
    "start_time": "2021-09-16T06:56:33.487Z"
   },
   {
    "duration": 10,
    "start_time": "2021-09-16T06:56:33.499Z"
   },
   {
    "duration": 10,
    "start_time": "2021-09-16T06:56:33.512Z"
   },
   {
    "duration": 10,
    "start_time": "2021-09-16T06:56:33.525Z"
   },
   {
    "duration": 51,
    "start_time": "2021-09-16T06:56:33.538Z"
   },
   {
    "duration": 13,
    "start_time": "2021-09-16T06:56:33.592Z"
   },
   {
    "duration": 13,
    "start_time": "2021-09-16T06:56:33.607Z"
   },
   {
    "duration": 19,
    "start_time": "2021-09-16T06:56:33.623Z"
   },
   {
    "duration": 42,
    "start_time": "2021-09-16T06:56:33.645Z"
   },
   {
    "duration": 32,
    "start_time": "2021-09-16T06:56:33.690Z"
   },
   {
    "duration": 12,
    "start_time": "2021-09-16T06:56:33.730Z"
   },
   {
    "duration": 11,
    "start_time": "2021-09-16T06:56:33.745Z"
   },
   {
    "duration": 15,
    "start_time": "2021-09-16T06:56:33.759Z"
   },
   {
    "duration": 29,
    "start_time": "2021-09-16T06:56:33.777Z"
   },
   {
    "duration": 17,
    "start_time": "2021-09-16T06:56:33.809Z"
   },
   {
    "duration": 21,
    "start_time": "2021-09-16T06:56:33.828Z"
   },
   {
    "duration": 19,
    "start_time": "2021-09-16T06:56:33.851Z"
   },
   {
    "duration": 18,
    "start_time": "2021-09-16T06:56:33.873Z"
   },
   {
    "duration": 25,
    "start_time": "2021-09-16T06:56:33.893Z"
   },
   {
    "duration": 8,
    "start_time": "2021-09-16T06:56:33.920Z"
   },
   {
    "duration": 28,
    "start_time": "2021-09-16T06:56:33.931Z"
   },
   {
    "duration": 65,
    "start_time": "2021-09-16T06:56:33.961Z"
   },
   {
    "duration": 4,
    "start_time": "2021-09-16T06:56:34.028Z"
   },
   {
    "duration": 23,
    "start_time": "2021-09-16T06:56:34.034Z"
   },
   {
    "duration": 28,
    "start_time": "2021-09-16T06:56:34.059Z"
   },
   {
    "duration": 20,
    "start_time": "2021-09-16T06:56:34.089Z"
   },
   {
    "duration": 31489,
    "start_time": "2021-09-16T06:56:34.111Z"
   },
   {
    "duration": 9,
    "start_time": "2021-09-16T06:57:05.602Z"
   },
   {
    "duration": 31,
    "start_time": "2021-09-16T06:57:05.614Z"
   },
   {
    "duration": 317,
    "start_time": "2021-09-16T06:57:05.647Z"
   },
   {
    "duration": 21,
    "start_time": "2021-09-16T06:57:05.967Z"
   },
   {
    "duration": 21,
    "start_time": "2021-09-16T06:57:05.990Z"
   },
   {
    "duration": 414,
    "start_time": "2021-09-16T06:57:06.014Z"
   },
   {
    "duration": 28,
    "start_time": "2021-09-16T06:57:06.483Z"
   },
   {
    "duration": 706,
    "start_time": "2021-09-16T06:57:06.514Z"
   },
   {
    "duration": 61,
    "start_time": "2021-09-16T06:57:07.223Z"
   },
   {
    "duration": 327,
    "start_time": "2021-09-16T06:57:07.287Z"
   },
   {
    "duration": 126,
    "start_time": "2021-09-16T17:54:50.269Z"
   },
   {
    "duration": 113,
    "start_time": "2021-09-16T17:57:19.430Z"
   },
   {
    "duration": 102,
    "start_time": "2021-09-16T17:58:05.669Z"
   },
   {
    "duration": 121,
    "start_time": "2021-09-16T17:59:14.854Z"
   },
   {
    "duration": 132,
    "start_time": "2021-09-16T18:01:52.579Z"
   },
   {
    "duration": 406,
    "start_time": "2021-09-16T18:02:19.085Z"
   },
   {
    "duration": 1715,
    "start_time": "2021-09-16T18:02:32.136Z"
   },
   {
    "duration": 260,
    "start_time": "2021-09-16T18:02:33.853Z"
   },
   {
    "duration": 28,
    "start_time": "2021-09-16T18:02:34.116Z"
   },
   {
    "duration": 33,
    "start_time": "2021-09-16T18:02:34.147Z"
   },
   {
    "duration": 101,
    "start_time": "2021-09-16T18:02:34.182Z"
   },
   {
    "duration": 6,
    "start_time": "2021-09-16T18:02:34.285Z"
   },
   {
    "duration": 24,
    "start_time": "2021-09-16T18:02:34.294Z"
   },
   {
    "duration": 53,
    "start_time": "2021-09-16T18:02:34.323Z"
   },
   {
    "duration": 76,
    "start_time": "2021-09-16T18:02:34.379Z"
   },
   {
    "duration": 18,
    "start_time": "2021-09-16T18:02:34.468Z"
   },
   {
    "duration": 11,
    "start_time": "2021-09-16T18:02:34.489Z"
   },
   {
    "duration": 65,
    "start_time": "2021-09-16T18:02:34.504Z"
   },
   {
    "duration": 10,
    "start_time": "2021-09-16T18:02:34.572Z"
   },
   {
    "duration": 15,
    "start_time": "2021-09-16T18:02:34.585Z"
   },
   {
    "duration": 10,
    "start_time": "2021-09-16T18:02:34.603Z"
   },
   {
    "duration": 64,
    "start_time": "2021-09-16T18:02:34.616Z"
   },
   {
    "duration": 13,
    "start_time": "2021-09-16T18:02:34.683Z"
   },
   {
    "duration": 24,
    "start_time": "2021-09-16T18:02:34.699Z"
   },
   {
    "duration": 43,
    "start_time": "2021-09-16T18:02:34.726Z"
   },
   {
    "duration": 13,
    "start_time": "2021-09-16T18:02:34.772Z"
   },
   {
    "duration": 13,
    "start_time": "2021-09-16T18:02:34.788Z"
   },
   {
    "duration": 13,
    "start_time": "2021-09-16T18:02:34.805Z"
   },
   {
    "duration": 49,
    "start_time": "2021-09-16T18:02:34.825Z"
   },
   {
    "duration": 26,
    "start_time": "2021-09-16T18:02:34.878Z"
   },
   {
    "duration": 4,
    "start_time": "2021-09-16T18:02:34.907Z"
   },
   {
    "duration": 19,
    "start_time": "2021-09-16T18:02:34.914Z"
   },
   {
    "duration": 34,
    "start_time": "2021-09-16T18:02:34.936Z"
   },
   {
    "duration": 12,
    "start_time": "2021-09-16T18:02:34.973Z"
   },
   {
    "duration": 20,
    "start_time": "2021-09-16T18:02:34.988Z"
   },
   {
    "duration": 32,
    "start_time": "2021-09-16T18:02:35.011Z"
   },
   {
    "duration": 30,
    "start_time": "2021-09-16T18:02:35.046Z"
   },
   {
    "duration": 16,
    "start_time": "2021-09-16T18:02:35.078Z"
   },
   {
    "duration": 21,
    "start_time": "2021-09-16T18:02:35.096Z"
   },
   {
    "duration": 11,
    "start_time": "2021-09-16T18:02:35.120Z"
   },
   {
    "duration": 35,
    "start_time": "2021-09-16T18:02:35.133Z"
   },
   {
    "duration": 23,
    "start_time": "2021-09-16T18:02:35.170Z"
   },
   {
    "duration": 10,
    "start_time": "2021-09-16T18:02:35.195Z"
   },
   {
    "duration": 64,
    "start_time": "2021-09-16T18:02:35.207Z"
   },
   {
    "duration": 72,
    "start_time": "2021-09-16T18:02:35.274Z"
   },
   {
    "duration": 5,
    "start_time": "2021-09-16T18:02:35.348Z"
   },
   {
    "duration": 23,
    "start_time": "2021-09-16T18:02:35.355Z"
   },
   {
    "duration": 26,
    "start_time": "2021-09-16T18:02:35.380Z"
   },
   {
    "duration": 15,
    "start_time": "2021-09-16T18:02:35.409Z"
   },
   {
    "duration": 31783,
    "start_time": "2021-09-16T18:02:35.426Z"
   },
   {
    "duration": 10,
    "start_time": "2021-09-16T18:03:07.212Z"
   },
   {
    "duration": 49,
    "start_time": "2021-09-16T18:03:07.225Z"
   },
   {
    "duration": 333,
    "start_time": "2021-09-16T18:03:07.276Z"
   },
   {
    "duration": 23,
    "start_time": "2021-09-16T18:03:07.611Z"
   },
   {
    "duration": 46,
    "start_time": "2021-09-16T18:03:07.636Z"
   },
   {
    "duration": 353,
    "start_time": "2021-09-16T18:03:07.685Z"
   },
   {
    "duration": 32,
    "start_time": "2021-09-16T18:03:08.041Z"
   },
   {
    "duration": 402,
    "start_time": "2021-09-16T18:03:08.076Z"
   },
   {
    "duration": 21,
    "start_time": "2021-09-16T18:03:08.480Z"
   },
   {
    "duration": 338,
    "start_time": "2021-09-16T18:03:08.504Z"
   },
   {
    "duration": 102,
    "start_time": "2021-09-16T18:10:10.934Z"
   },
   {
    "duration": 127,
    "start_time": "2021-09-16T18:15:55.609Z"
   },
   {
    "duration": 148,
    "start_time": "2021-09-16T18:21:15.085Z"
   },
   {
    "duration": 1737,
    "start_time": "2021-09-16T18:24:27.235Z"
   },
   {
    "duration": 284,
    "start_time": "2021-09-16T18:24:28.974Z"
   },
   {
    "duration": 28,
    "start_time": "2021-09-16T18:24:29.262Z"
   },
   {
    "duration": 18,
    "start_time": "2021-09-16T18:24:29.293Z"
   },
   {
    "duration": 112,
    "start_time": "2021-09-16T18:24:29.314Z"
   },
   {
    "duration": 5,
    "start_time": "2021-09-16T18:24:29.429Z"
   },
   {
    "duration": 37,
    "start_time": "2021-09-16T18:24:29.437Z"
   },
   {
    "duration": 39,
    "start_time": "2021-09-16T18:24:29.480Z"
   },
   {
    "duration": 110,
    "start_time": "2021-09-16T18:24:29.524Z"
   },
   {
    "duration": 29,
    "start_time": "2021-09-16T18:24:29.637Z"
   },
   {
    "duration": 8,
    "start_time": "2021-09-16T18:24:29.668Z"
   },
   {
    "duration": 14,
    "start_time": "2021-09-16T18:24:29.679Z"
   },
   {
    "duration": 7,
    "start_time": "2021-09-16T18:24:29.695Z"
   },
   {
    "duration": 9,
    "start_time": "2021-09-16T18:24:29.704Z"
   },
   {
    "duration": 7,
    "start_time": "2021-09-16T18:24:29.768Z"
   },
   {
    "duration": 10,
    "start_time": "2021-09-16T18:24:29.777Z"
   },
   {
    "duration": 7,
    "start_time": "2021-09-16T18:24:29.789Z"
   },
   {
    "duration": 67,
    "start_time": "2021-09-16T18:24:29.799Z"
   },
   {
    "duration": 6,
    "start_time": "2021-09-16T18:24:29.869Z"
   },
   {
    "duration": 12,
    "start_time": "2021-09-16T18:24:29.878Z"
   },
   {
    "duration": 23,
    "start_time": "2021-09-16T18:24:29.892Z"
   },
   {
    "duration": 59,
    "start_time": "2021-09-16T18:24:29.917Z"
   },
   {
    "duration": 6,
    "start_time": "2021-09-16T18:24:29.981Z"
   },
   {
    "duration": 22,
    "start_time": "2021-09-16T18:24:29.991Z"
   },
   {
    "duration": 52,
    "start_time": "2021-09-16T18:24:30.015Z"
   },
   {
    "duration": 19,
    "start_time": "2021-09-16T18:24:30.070Z"
   },
   {
    "duration": 11,
    "start_time": "2021-09-16T18:24:30.092Z"
   },
   {
    "duration": 12,
    "start_time": "2021-09-16T18:24:30.105Z"
   },
   {
    "duration": 18,
    "start_time": "2021-09-16T18:24:30.120Z"
   },
   {
    "duration": 50,
    "start_time": "2021-09-16T18:24:30.140Z"
   },
   {
    "duration": 62,
    "start_time": "2021-09-16T18:24:30.194Z"
   },
   {
    "duration": 12,
    "start_time": "2021-09-16T18:24:30.259Z"
   },
   {
    "duration": 26,
    "start_time": "2021-09-16T18:24:30.274Z"
   },
   {
    "duration": 12,
    "start_time": "2021-09-16T18:24:30.302Z"
   },
   {
    "duration": 14,
    "start_time": "2021-09-16T18:24:30.316Z"
   },
   {
    "duration": 38,
    "start_time": "2021-09-16T18:24:30.333Z"
   },
   {
    "duration": 8,
    "start_time": "2021-09-16T18:24:30.374Z"
   },
   {
    "duration": 47,
    "start_time": "2021-09-16T18:24:30.384Z"
   },
   {
    "duration": 62,
    "start_time": "2021-09-16T18:24:30.434Z"
   },
   {
    "duration": 4,
    "start_time": "2021-09-16T18:24:30.499Z"
   },
   {
    "duration": 21,
    "start_time": "2021-09-16T18:24:30.506Z"
   },
   {
    "duration": 50,
    "start_time": "2021-09-16T18:24:30.529Z"
   },
   {
    "duration": 37,
    "start_time": "2021-09-16T18:24:30.582Z"
   },
   {
    "duration": 34294,
    "start_time": "2021-09-16T18:24:30.622Z"
   },
   {
    "duration": 13,
    "start_time": "2021-09-16T18:25:04.918Z"
   },
   {
    "duration": 56,
    "start_time": "2021-09-16T18:25:04.934Z"
   },
   {
    "duration": 341,
    "start_time": "2021-09-16T18:25:04.993Z"
   },
   {
    "duration": 33,
    "start_time": "2021-09-16T18:25:05.337Z"
   },
   {
    "duration": 21,
    "start_time": "2021-09-16T18:25:05.372Z"
   },
   {
    "duration": 357,
    "start_time": "2021-09-16T18:25:05.396Z"
   },
   {
    "duration": 31,
    "start_time": "2021-09-16T18:25:05.756Z"
   },
   {
    "duration": 418,
    "start_time": "2021-09-16T18:25:05.790Z"
   },
   {
    "duration": 25,
    "start_time": "2021-09-16T18:25:06.212Z"
   },
   {
    "duration": 311,
    "start_time": "2021-09-16T18:25:06.267Z"
   },
   {
    "duration": 243,
    "start_time": "2021-09-16T18:40:12.528Z"
   }
  ],
  "kernelspec": {
   "display_name": "Python 3",
   "language": "python",
   "name": "python3"
  },
  "language_info": {
   "codemirror_mode": {
    "name": "ipython",
    "version": 3
   },
   "file_extension": ".py",
   "mimetype": "text/x-python",
   "name": "python",
   "nbconvert_exporter": "python",
   "pygments_lexer": "ipython3",
   "version": "3.7.10"
  },
  "toc": {
   "base_numbering": 1,
   "nav_menu": {},
   "number_sections": true,
   "sideBar": true,
   "skip_h1_title": true,
   "title_cell": "Table of Contents",
   "title_sidebar": "Contents",
   "toc_cell": false,
   "toc_position": {
    "height": "100px",
    "left": "779.972px",
    "top": "110.052px",
    "width": "165px"
   },
   "toc_section_display": true,
   "toc_window_display": false
  }
 },
 "nbformat": 4,
 "nbformat_minor": 2
}
