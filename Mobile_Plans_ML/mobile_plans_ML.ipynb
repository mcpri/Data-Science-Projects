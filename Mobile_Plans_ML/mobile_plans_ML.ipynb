{
 "cells": [
  {
   "cell_type": "markdown",
   "metadata": {},
   "source": [
    "# Mobile Carrier "
   ]
  },
  {
   "cell_type": "markdown",
   "metadata": {},
   "source": [
    "# Project description\n",
    "Mobile carrier Megaline has found out that many of their subscribers use legacy plans. They want to develop a model that would analyze subscribers' behavior and recommend one of Megaline's newer plans: Smart or Ultra.\n",
    "\n",
    "You have access to behavior data about subscribers who have already switched to the new plans (from the project for the Phone Plan Analysis). For this classification task, you need to develop a model that will pick the right plan. Since you’ve already performed the data preprocessing step, you can move straight to creating the model.\n",
    "\n",
    "Goal:\n",
    "Develop a model with the highest possible accuracy. In this project, the threshold for accuracy is 0.75. Check the accuracy using the test dataset.\n"
   ]
  },
  {
   "cell_type": "markdown",
   "metadata": {},
   "source": [
    "# Data description\n",
    "Every observation in the dataset contains monthly behavior information about one user. The information given is as follows:\n",
    "\n",
    "* сalls — number of calls,\n",
    "* minutes — total call duration in minutes,\n",
    "* messages — number of text messages,\n",
    "* mb_used — Internet traffic used in MB,\n",
    "* is_ultra — plan for the current month (Ultra - 1, Smart - 0)."
   ]
  },
  {
   "cell_type": "code",
   "execution_count": 1,
   "metadata": {},
   "outputs": [],
   "source": [
    "import pandas as pd\n",
    "import numpy as np\n",
    "from sklearn.dummy import DummyClassifier\n",
    "from sklearn.tree import DecisionTreeClassifier\n",
    "from sklearn.ensemble import RandomForestClassifier\n",
    "from sklearn.metrics import accuracy_score\n",
    "from sklearn.model_selection import train_test_split\n",
    "from sklearn.linear_model import LogisticRegression\n",
    "from sklearn.metrics import confusion_matrix\n",
    "from sklearn.metrics import accuracy_score\n",
    "from sklearn.metrics import confusion_matrix, classification_report\n",
    "from sklearn.metrics import precision_score, recall_score, f1_score\n",
    "from sklearn.metrics import balanced_accuracy_score, roc_auc_score"
   ]
  },
  {
   "cell_type": "code",
   "execution_count": 2,
   "metadata": {},
   "outputs": [],
   "source": [
    "try:\n",
    "    df = pd.read_csv('users_behavior.csv')   \n",
    "except:\n",
    "    df = pd.read_csv('/datasets/users_behavior.csv')"
   ]
  },
  {
   "cell_type": "code",
   "execution_count": 3,
   "metadata": {},
   "outputs": [
    {
     "data": {
      "text/html": [
       "<div>\n",
       "<style scoped>\n",
       "    .dataframe tbody tr th:only-of-type {\n",
       "        vertical-align: middle;\n",
       "    }\n",
       "\n",
       "    .dataframe tbody tr th {\n",
       "        vertical-align: top;\n",
       "    }\n",
       "\n",
       "    .dataframe thead th {\n",
       "        text-align: right;\n",
       "    }\n",
       "</style>\n",
       "<table border=\"1\" class=\"dataframe\">\n",
       "  <thead>\n",
       "    <tr style=\"text-align: right;\">\n",
       "      <th></th>\n",
       "      <th>calls</th>\n",
       "      <th>minutes</th>\n",
       "      <th>messages</th>\n",
       "      <th>mb_used</th>\n",
       "      <th>is_ultra</th>\n",
       "    </tr>\n",
       "  </thead>\n",
       "  <tbody>\n",
       "    <tr>\n",
       "      <th>0</th>\n",
       "      <td>40.0</td>\n",
       "      <td>311.90</td>\n",
       "      <td>83.0</td>\n",
       "      <td>19915.42</td>\n",
       "      <td>0</td>\n",
       "    </tr>\n",
       "    <tr>\n",
       "      <th>1</th>\n",
       "      <td>85.0</td>\n",
       "      <td>516.75</td>\n",
       "      <td>56.0</td>\n",
       "      <td>22696.96</td>\n",
       "      <td>0</td>\n",
       "    </tr>\n",
       "    <tr>\n",
       "      <th>2</th>\n",
       "      <td>77.0</td>\n",
       "      <td>467.66</td>\n",
       "      <td>86.0</td>\n",
       "      <td>21060.45</td>\n",
       "      <td>0</td>\n",
       "    </tr>\n",
       "    <tr>\n",
       "      <th>3</th>\n",
       "      <td>106.0</td>\n",
       "      <td>745.53</td>\n",
       "      <td>81.0</td>\n",
       "      <td>8437.39</td>\n",
       "      <td>1</td>\n",
       "    </tr>\n",
       "    <tr>\n",
       "      <th>4</th>\n",
       "      <td>66.0</td>\n",
       "      <td>418.74</td>\n",
       "      <td>1.0</td>\n",
       "      <td>14502.75</td>\n",
       "      <td>0</td>\n",
       "    </tr>\n",
       "  </tbody>\n",
       "</table>\n",
       "</div>"
      ],
      "text/plain": [
       "   calls  minutes  messages   mb_used  is_ultra\n",
       "0   40.0   311.90      83.0  19915.42         0\n",
       "1   85.0   516.75      56.0  22696.96         0\n",
       "2   77.0   467.66      86.0  21060.45         0\n",
       "3  106.0   745.53      81.0   8437.39         1\n",
       "4   66.0   418.74       1.0  14502.75         0"
      ]
     },
     "execution_count": 3,
     "metadata": {},
     "output_type": "execute_result"
    }
   ],
   "source": [
    "#looking into the first 5 rows of our dataset\n",
    "df.head()"
   ]
  },
  {
   "cell_type": "code",
   "execution_count": 4,
   "metadata": {},
   "outputs": [
    {
     "name": "stdout",
     "output_type": "stream",
     "text": [
      "<class 'pandas.core.frame.DataFrame'>\n",
      "RangeIndex: 3214 entries, 0 to 3213\n",
      "Data columns (total 5 columns):\n",
      " #   Column    Non-Null Count  Dtype  \n",
      "---  ------    --------------  -----  \n",
      " 0   calls     3214 non-null   float64\n",
      " 1   minutes   3214 non-null   float64\n",
      " 2   messages  3214 non-null   float64\n",
      " 3   mb_used   3214 non-null   float64\n",
      " 4   is_ultra  3214 non-null   int64  \n",
      "dtypes: float64(4), int64(1)\n",
      "memory usage: 125.7 KB\n"
     ]
    }
   ],
   "source": [
    "df.info()"
   ]
  },
  {
   "cell_type": "markdown",
   "metadata": {},
   "source": [
    "There are no NA's present and just some data types that need to be converted."
   ]
  },
  {
   "cell_type": "code",
   "execution_count": 5,
   "metadata": {},
   "outputs": [],
   "source": [
    "# change calls and minutes to ints from floats\n",
    "df['calls'] = df['calls'].astype(int)\n",
    "df['messages'] = df['messages'].astype(int)"
   ]
  },
  {
   "cell_type": "markdown",
   "metadata": {},
   "source": [
    "Since the data is already cleaned from our EDA processs we can move on to model building. "
   ]
  },
  {
   "cell_type": "markdown",
   "metadata": {},
   "source": [
    "### Spliting the data\n"
   ]
  },
  {
   "cell_type": "markdown",
   "metadata": {},
   "source": [
    "We will be spliting the data into training, testing, and validation set. \n",
    "The data will be split into 80% train and 20% test. When spliting the data we will do a 80% train data which is obtained from the first split into validation and train."
   ]
  },
  {
   "cell_type": "code",
   "execution_count": 6,
   "metadata": {},
   "outputs": [
    {
     "name": "stdout",
     "output_type": "stream",
     "text": [
      "(2056, 4)\n",
      "(2056,)\n",
      "(515, 4)\n",
      "(515,)\n",
      "(643, 4)\n",
      "(643,)\n"
     ]
    }
   ],
   "source": [
    "features = df.drop(columns=['is_ultra'])\n",
    "target =  df['is_ultra']\n",
    "\n",
    "# spliting data from train and test \n",
    "features_train, features_test, target_train, target_test = train_test_split(\n",
    "    features,target, test_size = 0.2, random_state = 12345)\n",
    "\n",
    "#spliting data for train anf validate\n",
    "features_train, features_valid, target_train, target_valid = train_test_split(\n",
    "    features_train,target_train, test_size = 0.2, random_state = 12345)\n",
    "\n",
    "\n",
    "#check the size of training testing and validate\n",
    "print(features_train.shape),\n",
    "print(target_train.shape),\n",
    "print(features_valid.shape), \n",
    "print(target_valid.shape),\n",
    "print(features_test.shape), \n",
    "print(target_test.shape)"
   ]
  },
  {
   "cell_type": "markdown",
   "metadata": {},
   "source": [
    "### Models and Hyperparameters "
   ]
  },
  {
   "cell_type": "markdown",
   "metadata": {},
   "source": [
    "#### Decision tree model"
   ]
  },
  {
   "cell_type": "code",
   "execution_count": 7,
   "metadata": {},
   "outputs": [
    {
     "name": "stdout",
     "output_type": "stream",
     "text": [
      "0.6990291262135923\n"
     ]
    }
   ],
   "source": [
    "# with no hyperparamters for decision tree\n",
    "dt = DecisionTreeClassifier()\n",
    "dt.fit(features_train, target_train)\n",
    "dt_predictions_valid = dt.predict(features_valid)# < find the predictions using validation set >\n",
    "print(accuracy_score(target_valid, dt_predictions_valid)) "
   ]
  },
  {
   "cell_type": "code",
   "execution_count": 8,
   "metadata": {},
   "outputs": [
    {
     "name": "stdout",
     "output_type": "stream",
     "text": [
      "max_depth = 1 :  0.7223300970873786\n",
      "max_depth = 2 :  0.7475728155339806\n",
      "max_depth = 3 :  0.7553398058252427\n",
      "max_depth = 4 :  0.7533980582524272\n",
      "max_depth = 5 :  0.7572815533980582\n",
      "max_depth = 6 :  0.7611650485436893\n",
      "max_depth = 7 :  0.7650485436893204\n",
      "max_depth = 8 :  0.7631067961165049\n",
      "max_depth = 9 :  0.7533980582524272\n",
      "max_depth = 10 :  0.7592233009708738\n",
      "The max depth:  7  The accuracy Score 0.7650485436893204\n"
     ]
    }
   ],
   "source": [
    "# descion tree with hyperparamters \n",
    "highest_score=0\n",
    "for depth in range(1, 11):\n",
    "    dt = DecisionTreeClassifier(max_depth = depth, random_state=12345)# <create a model,specify max_depth=depth >\n",
    "    # < train the model >\n",
    "    dt.fit(features_train,target_train)\n",
    "    dt_predictions_valid1 = dt.predict(features_valid)# < find the predictions using validation set >\n",
    "    dt_acc = accuracy_score(target_valid, dt_predictions_valid1)\n",
    "    print(\"max_depth =\", depth, \": \", dt_acc)\n",
    "        \n",
    "    if (dt_acc > highest_score):\n",
    "        highest_score = dt_acc\n",
    "        highest_depth = depth\n",
    "print('The max depth: ', highest_depth,' The accuracy Score', highest_score)\n",
    "     "
   ]
  },
  {
   "cell_type": "markdown",
   "metadata": {},
   "source": [
    "Dession tree gives a accuracy score of 77%"
   ]
  },
  {
   "cell_type": "markdown",
   "metadata": {},
   "source": [
    "####  Logistic Regression\n",
    "logistic regression is for classification problems, which predicts a probability range between 0 to 1."
   ]
  },
  {
   "cell_type": "code",
   "execution_count": 9,
   "metadata": {},
   "outputs": [
    {
     "name": "stdout",
     "output_type": "stream",
     "text": [
      "accuracy score 0.7592233009708738\n"
     ]
    }
   ],
   "source": [
    "#WITHOUT hyper parameters and tuning \n",
    "lr = LogisticRegression()\n",
    "lr.fit(features_train, target_train)     \n",
    "lr_predictions_valid = dt.predict(features_valid)\n",
    "print(\"accuracy score\",accuracy_score(target_valid, lr_predictions_valid)) "
   ]
  },
  {
   "cell_type": "code",
   "execution_count": 10,
   "metadata": {},
   "outputs": [
    {
     "data": {
      "text/plain": [
       "0.7592233009708738"
      ]
     },
     "execution_count": 10,
     "metadata": {},
     "output_type": "execute_result"
    }
   ],
   "source": [
    "#with tunning \n",
    "log_reg1 = LogisticRegression(random_state=12345, solver='liblinear')\n",
    "log_reg1.fit(features_train, target_train)\n",
    "lr_predictions_valid1 = dt.predict(features_valid)# find the predictions using validation set \n",
    "accuracy_score(target_valid, lr_predictions_valid1)"
   ]
  },
  {
   "cell_type": "markdown",
   "metadata": {},
   "source": [
    "The accuracy score is 76%"
   ]
  },
  {
   "cell_type": "markdown",
   "metadata": {},
   "source": [
    "#### Random Forest"
   ]
  },
  {
   "cell_type": "code",
   "execution_count": 11,
   "metadata": {},
   "outputs": [
    {
     "data": {
      "text/plain": [
       "0.7864077669902912"
      ]
     },
     "execution_count": 11,
     "metadata": {},
     "output_type": "execute_result"
    }
   ],
   "source": [
    "#without hyper prameters\n",
    "rf_model2 = RandomForestClassifier(random_state=12345)\n",
    "rf_model2.fit(features_train, target_train)\n",
    "rf_predictions_valid2 = rf_model2.predict(features_valid)\n",
    "accuracy_score(target_valid, rf_predictions_valid2)"
   ]
  },
  {
   "cell_type": "code",
   "execution_count": 12,
   "metadata": {},
   "outputs": [
    {
     "name": "stdout",
     "output_type": "stream",
     "text": [
      "n_estimators = 1 :  0.7223300970873786\n",
      "n_estimators = 2 :  0.7398058252427184\n",
      "n_estimators = 3 :  0.7436893203883496\n",
      "n_estimators = 4 :  0.7533980582524272\n",
      "n_estimators = 5 :  0.7398058252427184\n",
      "n_estimators = 6 :  0.7553398058252427\n",
      "n_estimators = 7 :  0.7553398058252427\n",
      "n_estimators = 8 :  0.7669902912621359\n",
      "n_estimators = 9 :  0.7708737864077669\n",
      "n_estimators = 10 :  0.7650485436893204\n",
      "n_estimators = 11 :  0.7708737864077669\n",
      "n_estimators = 12 :  0.7669902912621359\n",
      "n_estimators = 13 :  0.7728155339805826\n",
      "n_estimators = 14 :  0.7669902912621359\n",
      "n_estimators = 15 :  0.7689320388349514\n",
      "n_estimators = 16 :  0.7689320388349514\n",
      "n_estimators = 17 :  0.7728155339805826\n",
      "n_estimators = 18 :  0.7631067961165049\n",
      "n_estimators = 19 :  0.7728155339805826\n",
      "n_estimators = 20 :  0.7728155339805826\n",
      "n_estimators = 21 :  0.7708737864077669\n",
      "n_estimators = 22 :  0.7708737864077669\n",
      "n_estimators = 23 :  0.7689320388349514\n",
      "n_estimators = 24 :  0.7766990291262136\n",
      "The n_estimators:  24  The accuracy Score 0.7766990291262136\n"
     ]
    }
   ],
   "source": [
    "#find the best estimator\n",
    "highest_score = 0.0\n",
    "for estimators in range(1, 25):\n",
    "    rf_model = RandomForestClassifier(random_state=12345, n_estimators=estimators)\n",
    "    rf_model.fit(features_train, target_train)\n",
    "    rf_predictions_valid = rf_model.predict(features_valid)\n",
    "    rf_acc = accuracy_score(target_valid, rf_predictions_valid)\n",
    "    print(\"n_estimators =\", estimators, \": \", rf_acc)\n",
    "    if (rf_acc > highest_score):\n",
    "        highest_score = rf_acc\n",
    "        highest_depth = estimators\n",
    "print('The n_estimators: ', highest_depth,' The accuracy Score', highest_score)\n"
   ]
  },
  {
   "cell_type": "markdown",
   "metadata": {},
   "source": [
    "Random forest gives us a accuracy score of 78% which is higher than Logistic Regression and Decision tree model."
   ]
  },
  {
   "cell_type": "markdown",
   "metadata": {},
   "source": [
    "### Model Testing\n"
   ]
  },
  {
   "cell_type": "code",
   "execution_count": 13,
   "metadata": {},
   "outputs": [
    {
     "name": "stdout",
     "output_type": "stream",
     "text": [
      "Test accuracy score: 0.7822706065318819\n"
     ]
    }
   ],
   "source": [
    "#testing choosen model\n",
    "# test random forest as choosen model\n",
    "rf1 = RandomForestClassifier(random_state=12345, n_estimators=24)\n",
    "rf1.fit(features_train, target_train) \n",
    "rd_test_predictions = rf1.predict(features_test)   \n",
    "rf1.score(features_train, target_train) \n",
    "print('Test accuracy score:', accuracy_score(target_test, rd_test_predictions))"
   ]
  },
  {
   "cell_type": "markdown",
   "metadata": {},
   "source": [
    "From testing our model with Random Forest Classifier we have been able to retrieve an accuracy score of 78% with our test set. We can accurately say that our model will be able to predict accurately 78 % of the time to choose the right subscribers phone plan, and has met the baselines of 75%."
   ]
  },
  {
   "cell_type": "markdown",
   "metadata": {},
   "source": [
    "### Sanity Check"
   ]
  },
  {
   "cell_type": "markdown",
   "metadata": {},
   "source": [
    "#### Dummy Classifier "
   ]
  },
  {
   "cell_type": "code",
   "execution_count": 22,
   "metadata": {},
   "outputs": [
    {
     "name": "stdout",
     "output_type": "stream",
     "text": [
      "mean accuracy on train set:  0.5825242718446602\n"
     ]
    }
   ],
   "source": [
    "dummy_classifier_model = DummyClassifier(strategy='stratified')\n",
    "dummy_classifier_model.fit(features_train, target_train)\n",
    "dummy_predicition = dummy_classifier_model.predict(features_valid)\n",
    "print(\"mean accuracy on train set: \", dummy_classifier_model.score(target_valid, dummy_predicition))\n"
   ]
  },
  {
   "cell_type": "markdown",
   "metadata": {},
   "source": [
    "The dummy classifier gives you a measure of \"baseline\" performance and we can see by itself the model does have a high accuracy performance."
   ]
  },
  {
   "cell_type": "markdown",
   "metadata": {},
   "source": [
    "Will compute a function below which will alow us to see how well the algrothm works. This functions will compute the confusion matrix, precision, recall,F1-score, accuracy score, balanced accuracy score, ROC score."
   ]
  },
  {
   "cell_type": "code",
   "execution_count": 24,
   "metadata": {},
   "outputs": [],
   "source": [
    "# compute the precision, recall, and F1 score\n",
    "def check(features_train, target_train, features_valid, target_valid):\n",
    "    model = RandomForestClassifier(random_state=12345)\n",
    "    model.fit(features_train, target_train)\n",
    "    predictions_valid = model.predict(features_valid) \n",
    "    print('Confusion Matrix')\n",
    "    print(confusion_matrix(target_valid, predictions_valid))\n",
    "    print('Recall: ', recall_score(target_valid, predictions_valid))\n",
    "    print('Precision: ', precision_score(target_valid, predictions_valid))\n",
    "    print('F1-score: ', f1_score(target_valid, predictions_valid))\n",
    "    print('Accuracy Score: ', accuracy_score(target_valid, predictions_valid))\n",
    "    print('Balanced Accuracy Score: ', balanced_accuracy_score(target_valid, predictions_valid))\n",
    "    print('ROC Score: ', roc_auc_score(target_valid, predictions_valid))\n",
    "    print('Classification report')\n",
    "    print(classification_report(target_valid, predictions_valid))"
   ]
  },
  {
   "cell_type": "code",
   "execution_count": 25,
   "metadata": {},
   "outputs": [
    {
     "name": "stdout",
     "output_type": "stream",
     "text": [
      "Confusion Matrix\n",
      "[[322  26]\n",
      " [ 84  83]]\n",
      "Recall:  0.49700598802395207\n",
      "Precision:  0.7614678899082569\n",
      "F1-score:  0.6014492753623188\n",
      "Accuracy Score:  0.7864077669902912\n",
      "Balanced Accuracy Score:  0.7111466721728956\n",
      "ROC Score:  0.7111466721728956\n",
      "Classification report\n",
      "              precision    recall  f1-score   support\n",
      "\n",
      "           0       0.79      0.93      0.85       348\n",
      "           1       0.76      0.50      0.60       167\n",
      "\n",
      "    accuracy                           0.79       515\n",
      "   macro avg       0.78      0.71      0.73       515\n",
      "weighted avg       0.78      0.79      0.77       515\n",
      "\n"
     ]
    }
   ],
   "source": [
    "# display sanity check\n",
    "check(features_train, target_train, features_valid, target_valid)"
   ]
  },
  {
   "cell_type": "markdown",
   "metadata": {},
   "source": [
    "Our model is able to predict survivors behaviors 76% of the time and this is score is from the precision score. In addition, our F1-score does not look to good as well as recall, but the model is able to predict an accuracy score of 79%."
   ]
  },
  {
   "cell_type": "markdown",
   "metadata": {},
   "source": [
    "### Conclusion"
   ]
  },
  {
   "cell_type": "markdown",
   "metadata": {},
   "source": [
    "From this classification project, we have been able to develop a model that will analyze subscribers' behavior which would recommend one of Megaline's newer plans. From the different models we have implemented we have found that Random Forest gives the best model accuracy out of all the models. Random Forest is able to 79% compared to the baseline of 58%. In addition, from learning this which we can help improve Megalines performance for recommending their newer plans to customers and having a better turnover in the company."
   ]
  }
 ],
 "metadata": {
  "ExecuteTimeLog": [
   {
    "duration": 1517,
    "start_time": "2021-11-25T01:57:31.835Z"
   },
   {
    "duration": 248,
    "start_time": "2021-11-25T01:57:39.410Z"
   },
   {
    "duration": 28,
    "start_time": "2021-11-25T01:57:44.281Z"
   },
   {
    "duration": 1440,
    "start_time": "2021-11-25T19:12:33.389Z"
   },
   {
    "duration": 201,
    "start_time": "2021-11-25T19:12:38.341Z"
   },
   {
    "duration": 23,
    "start_time": "2021-11-25T19:12:39.665Z"
   },
   {
    "duration": 17,
    "start_time": "2021-11-25T19:16:38.224Z"
   },
   {
    "duration": 8,
    "start_time": "2021-11-25T19:16:43.787Z"
   },
   {
    "duration": 8,
    "start_time": "2021-11-25T19:16:47.122Z"
   },
   {
    "duration": 9,
    "start_time": "2021-11-25T19:17:04.716Z"
   },
   {
    "duration": 8,
    "start_time": "2021-11-25T19:17:16.200Z"
   },
   {
    "duration": 8,
    "start_time": "2021-11-25T19:18:48.213Z"
   },
   {
    "duration": 6,
    "start_time": "2021-11-25T19:19:56.726Z"
   },
   {
    "duration": 5,
    "start_time": "2021-11-25T19:20:05.419Z"
   },
   {
    "duration": 9,
    "start_time": "2021-11-25T19:20:15.762Z"
   },
   {
    "duration": 3,
    "start_time": "2021-11-25T19:56:59.523Z"
   },
   {
    "duration": 316,
    "start_time": "2021-11-25T22:57:15.665Z"
   },
   {
    "duration": 1339,
    "start_time": "2021-11-25T22:57:32.734Z"
   },
   {
    "duration": 183,
    "start_time": "2021-11-25T22:57:34.075Z"
   },
   {
    "duration": 21,
    "start_time": "2021-11-25T22:57:34.261Z"
   },
   {
    "duration": 10,
    "start_time": "2021-11-25T22:57:34.284Z"
   },
   {
    "duration": 11,
    "start_time": "2021-11-25T22:57:34.296Z"
   },
   {
    "duration": 22,
    "start_time": "2021-11-25T22:57:34.310Z"
   },
   {
    "duration": 19,
    "start_time": "2021-11-25T22:58:23.407Z"
   },
   {
    "duration": 14,
    "start_time": "2021-11-25T23:45:36.440Z"
   },
   {
    "duration": 24,
    "start_time": "2021-11-26T00:16:41.649Z"
   },
   {
    "duration": 316,
    "start_time": "2021-11-26T18:51:01.114Z"
   },
   {
    "duration": 1492,
    "start_time": "2021-11-26T18:51:10.098Z"
   },
   {
    "duration": 326,
    "start_time": "2021-11-26T18:51:11.593Z"
   },
   {
    "duration": 22,
    "start_time": "2021-11-26T18:51:11.922Z"
   },
   {
    "duration": 9,
    "start_time": "2021-11-26T18:51:11.947Z"
   },
   {
    "duration": 12,
    "start_time": "2021-11-26T18:51:11.958Z"
   },
   {
    "duration": 15,
    "start_time": "2021-11-26T18:51:11.973Z"
   },
   {
    "duration": 440,
    "start_time": "2021-11-26T18:51:11.990Z"
   },
   {
    "duration": -270,
    "start_time": "2021-11-26T18:51:12.702Z"
   },
   {
    "duration": -275,
    "start_time": "2021-11-26T18:51:12.708Z"
   },
   {
    "duration": 253,
    "start_time": "2021-11-26T18:51:24.214Z"
   },
   {
    "duration": 21,
    "start_time": "2021-11-26T18:51:29.917Z"
   },
   {
    "duration": 19,
    "start_time": "2021-11-26T18:51:46.735Z"
   },
   {
    "duration": 24,
    "start_time": "2021-11-26T18:54:20.249Z"
   },
   {
    "duration": 25,
    "start_time": "2021-11-26T19:06:49.445Z"
   },
   {
    "duration": 260,
    "start_time": "2021-11-26T19:07:34.854Z"
   },
   {
    "duration": 46028,
    "start_time": "2021-11-26T19:08:09.025Z"
   },
   {
    "duration": 289,
    "start_time": "2021-11-26T19:39:28.589Z"
   },
   {
    "duration": 290,
    "start_time": "2021-11-26T19:39:38.085Z"
   },
   {
    "duration": 337,
    "start_time": "2021-11-26T19:41:02.589Z"
   },
   {
    "duration": 20,
    "start_time": "2021-11-26T19:55:54.855Z"
   },
   {
    "duration": 23,
    "start_time": "2021-11-26T19:58:25.590Z"
   },
   {
    "duration": 274,
    "start_time": "2021-11-26T20:51:07.844Z"
   },
   {
    "duration": 85,
    "start_time": "2021-11-26T20:51:16.421Z"
   },
   {
    "duration": 21,
    "start_time": "2021-11-26T20:53:32.387Z"
   },
   {
    "duration": 20,
    "start_time": "2021-11-26T20:54:02.654Z"
   },
   {
    "duration": 263,
    "start_time": "2021-11-26T21:46:38.244Z"
   },
   {
    "duration": 84,
    "start_time": "2021-11-26T21:46:48.738Z"
   },
   {
    "duration": 80,
    "start_time": "2021-11-26T21:47:05.791Z"
   },
   {
    "duration": 79,
    "start_time": "2021-11-26T21:47:10.630Z"
   },
   {
    "duration": 107,
    "start_time": "2021-11-26T21:47:23.371Z"
   },
   {
    "duration": 1309,
    "start_time": "2021-11-26T21:47:33.061Z"
   },
   {
    "duration": 195,
    "start_time": "2021-11-26T21:47:34.373Z"
   },
   {
    "duration": 23,
    "start_time": "2021-11-26T21:47:34.571Z"
   },
   {
    "duration": 10,
    "start_time": "2021-11-26T21:47:34.597Z"
   },
   {
    "duration": 6,
    "start_time": "2021-11-26T21:47:34.609Z"
   },
   {
    "duration": 20,
    "start_time": "2021-11-26T21:47:34.618Z"
   },
   {
    "duration": 31,
    "start_time": "2021-11-26T21:47:34.642Z"
   },
   {
    "duration": 18,
    "start_time": "2021-11-26T21:47:34.676Z"
   },
   {
    "duration": 54,
    "start_time": "2021-11-26T21:47:34.696Z"
   },
   {
    "duration": 118,
    "start_time": "2021-11-26T21:47:34.753Z"
   },
   {
    "duration": 22,
    "start_time": "2021-11-26T21:47:34.874Z"
   },
   {
    "duration": 23,
    "start_time": "2021-11-26T21:48:39.407Z"
   },
   {
    "duration": 21,
    "start_time": "2021-11-26T21:48:44.754Z"
   },
   {
    "duration": 21,
    "start_time": "2021-11-26T21:48:45.940Z"
   },
   {
    "duration": 78,
    "start_time": "2021-11-26T21:48:47.606Z"
   },
   {
    "duration": 1450,
    "start_time": "2021-11-26T21:58:36.362Z"
   },
   {
    "duration": 184,
    "start_time": "2021-11-26T21:58:37.815Z"
   },
   {
    "duration": 22,
    "start_time": "2021-11-26T21:58:38.002Z"
   },
   {
    "duration": 10,
    "start_time": "2021-11-26T21:58:38.027Z"
   },
   {
    "duration": 8,
    "start_time": "2021-11-26T21:58:38.039Z"
   },
   {
    "duration": 21,
    "start_time": "2021-11-26T21:58:38.049Z"
   },
   {
    "duration": 29,
    "start_time": "2021-11-26T21:58:56.122Z"
   },
   {
    "duration": 90,
    "start_time": "2021-11-26T21:58:58.910Z"
   },
   {
    "duration": 83,
    "start_time": "2021-11-26T22:04:25.551Z"
   },
   {
    "duration": 90,
    "start_time": "2021-11-26T22:04:46.749Z"
   },
   {
    "duration": 92,
    "start_time": "2021-11-26T22:05:12.760Z"
   },
   {
    "duration": 106,
    "start_time": "2021-11-26T22:05:24.872Z"
   },
   {
    "duration": 79,
    "start_time": "2021-11-26T22:05:48.535Z"
   },
   {
    "duration": 85,
    "start_time": "2021-11-26T22:05:51.758Z"
   },
   {
    "duration": 90,
    "start_time": "2021-11-26T22:05:57.022Z"
   },
   {
    "duration": 92,
    "start_time": "2021-11-26T22:06:10.828Z"
   },
   {
    "duration": 109,
    "start_time": "2021-11-26T22:06:59.956Z"
   },
   {
    "duration": 19,
    "start_time": "2021-11-26T22:08:18.247Z"
   },
   {
    "duration": 18,
    "start_time": "2021-11-26T22:08:36.585Z"
   },
   {
    "duration": 321,
    "start_time": "2021-11-29T18:23:20.721Z"
   },
   {
    "duration": 1055,
    "start_time": "2021-11-29T18:23:30.016Z"
   },
   {
    "duration": 311,
    "start_time": "2021-11-29T18:23:31.073Z"
   },
   {
    "duration": 18,
    "start_time": "2021-11-29T18:23:31.386Z"
   },
   {
    "duration": 10,
    "start_time": "2021-11-29T18:23:31.406Z"
   },
   {
    "duration": 10,
    "start_time": "2021-11-29T18:23:31.418Z"
   },
   {
    "duration": 10,
    "start_time": "2021-11-29T18:23:31.430Z"
   },
   {
    "duration": 16,
    "start_time": "2021-11-29T18:23:31.442Z"
   },
   {
    "duration": 14,
    "start_time": "2021-11-29T18:23:31.461Z"
   },
   {
    "duration": 10,
    "start_time": "2021-11-29T18:23:31.477Z"
   },
   {
    "duration": 102,
    "start_time": "2021-11-29T18:23:31.489Z"
   },
   {
    "duration": 12,
    "start_time": "2021-11-29T18:23:31.592Z"
   },
   {
    "duration": 12,
    "start_time": "2021-11-29T18:23:31.605Z"
   },
   {
    "duration": 1031,
    "start_time": "2021-11-29T18:25:36.138Z"
   },
   {
    "duration": 189,
    "start_time": "2021-11-29T18:25:37.256Z"
   },
   {
    "duration": 14,
    "start_time": "2021-11-29T18:25:38.384Z"
   },
   {
    "duration": 7,
    "start_time": "2021-11-29T18:25:40.542Z"
   },
   {
    "duration": 4,
    "start_time": "2021-11-29T18:25:42.621Z"
   },
   {
    "duration": 10,
    "start_time": "2021-11-29T18:25:44.928Z"
   },
   {
    "duration": 15,
    "start_time": "2021-11-29T18:25:49.962Z"
   },
   {
    "duration": 14,
    "start_time": "2021-11-29T18:26:21.353Z"
   },
   {
    "duration": 75,
    "start_time": "2021-11-29T18:26:55.545Z"
   },
   {
    "duration": 54,
    "start_time": "2021-11-29T18:27:03.585Z"
   },
   {
    "duration": 62,
    "start_time": "2021-11-29T18:27:07.214Z"
   },
   {
    "duration": 12,
    "start_time": "2021-11-29T18:27:18.531Z"
   },
   {
    "duration": 13,
    "start_time": "2021-11-29T18:38:40.030Z"
   },
   {
    "duration": 12,
    "start_time": "2021-11-29T18:38:45.234Z"
   },
   {
    "duration": 408,
    "start_time": "2021-11-29T18:40:04.267Z"
   },
   {
    "duration": 273,
    "start_time": "2021-11-29T18:40:28.928Z"
   },
   {
    "duration": 13,
    "start_time": "2021-11-29T18:40:47.273Z"
   },
   {
    "duration": 13,
    "start_time": "2021-11-29T18:40:49.154Z"
   },
   {
    "duration": 258,
    "start_time": "2021-11-29T18:43:58.866Z"
   },
   {
    "duration": 14,
    "start_time": "2021-11-29T18:44:32.472Z"
   },
   {
    "duration": 16,
    "start_time": "2021-11-29T18:45:26.763Z"
   },
   {
    "duration": 16,
    "start_time": "2021-11-29T18:45:38.976Z"
   },
   {
    "duration": 16,
    "start_time": "2021-11-29T18:45:56.277Z"
   },
   {
    "duration": 14,
    "start_time": "2021-11-29T18:46:02.323Z"
   },
   {
    "duration": 12,
    "start_time": "2021-11-29T18:46:10.797Z"
   },
   {
    "duration": 13,
    "start_time": "2021-11-29T18:51:42.877Z"
   },
   {
    "duration": 13,
    "start_time": "2021-11-29T18:52:21.480Z"
   },
   {
    "duration": 13,
    "start_time": "2021-11-29T18:53:25.070Z"
   },
   {
    "duration": 1007,
    "start_time": "2021-11-29T18:54:09.460Z"
   },
   {
    "duration": 196,
    "start_time": "2021-11-29T18:54:10.816Z"
   },
   {
    "duration": 14,
    "start_time": "2021-11-29T18:54:11.931Z"
   },
   {
    "duration": 6,
    "start_time": "2021-11-29T18:54:12.668Z"
   },
   {
    "duration": 5,
    "start_time": "2021-11-29T18:54:15.447Z"
   },
   {
    "duration": 11,
    "start_time": "2021-11-29T18:54:17.873Z"
   },
   {
    "duration": 16,
    "start_time": "2021-11-29T18:54:22.160Z"
   },
   {
    "duration": 15,
    "start_time": "2021-11-29T18:54:24.767Z"
   },
   {
    "duration": 65,
    "start_time": "2021-11-29T18:54:29.104Z"
   },
   {
    "duration": 11,
    "start_time": "2021-11-29T18:54:31.828Z"
   },
   {
    "duration": 14,
    "start_time": "2021-11-29T18:54:37.021Z"
   },
   {
    "duration": 14,
    "start_time": "2021-11-29T18:54:42.249Z"
   },
   {
    "duration": 15,
    "start_time": "2021-11-29T18:55:00.640Z"
   },
   {
    "duration": 13,
    "start_time": "2021-11-29T18:55:34.306Z"
   },
   {
    "duration": 23,
    "start_time": "2021-11-29T18:55:38.040Z"
   },
   {
    "duration": 1162,
    "start_time": "2021-11-29T18:56:02.714Z"
   },
   {
    "duration": 191,
    "start_time": "2021-11-29T18:56:03.879Z"
   },
   {
    "duration": 15,
    "start_time": "2021-11-29T18:56:04.072Z"
   },
   {
    "duration": 15,
    "start_time": "2021-11-29T18:56:04.089Z"
   },
   {
    "duration": 33,
    "start_time": "2021-11-29T18:56:04.105Z"
   },
   {
    "duration": 37,
    "start_time": "2021-11-29T18:56:04.140Z"
   },
   {
    "duration": 30,
    "start_time": "2021-11-29T18:56:04.179Z"
   },
   {
    "duration": 18,
    "start_time": "2021-11-29T18:56:04.211Z"
   },
   {
    "duration": 78,
    "start_time": "2021-11-29T18:56:04.231Z"
   },
   {
    "duration": 10,
    "start_time": "2021-11-29T18:56:04.311Z"
   },
   {
    "duration": 30,
    "start_time": "2021-11-29T18:56:04.323Z"
   },
   {
    "duration": 20,
    "start_time": "2021-11-29T18:56:04.355Z"
   },
   {
    "duration": 22,
    "start_time": "2021-11-29T18:56:04.377Z"
   },
   {
    "duration": 26,
    "start_time": "2021-11-29T18:56:04.401Z"
   },
   {
    "duration": 426,
    "start_time": "2021-11-29T19:02:08.568Z"
   },
   {
    "duration": 13,
    "start_time": "2021-11-29T19:02:19.977Z"
   },
   {
    "duration": 3,
    "start_time": "2021-11-29T19:32:53.057Z"
   },
   {
    "duration": 291,
    "start_time": "2021-11-29T19:46:03.077Z"
   },
   {
    "duration": 328,
    "start_time": "2021-11-29T19:46:11.134Z"
   },
   {
    "duration": 15,
    "start_time": "2021-11-29T19:46:20.753Z"
   },
   {
    "duration": 15,
    "start_time": "2021-11-29T19:46:23.157Z"
   },
   {
    "duration": 20,
    "start_time": "2021-11-29T19:46:24.638Z"
   },
   {
    "duration": 71,
    "start_time": "2021-11-29T19:48:04.176Z"
   },
   {
    "duration": 481,
    "start_time": "2021-11-29T20:14:56.893Z"
   },
   {
    "duration": 962,
    "start_time": "2021-11-29T20:15:10.200Z"
   },
   {
    "duration": 357,
    "start_time": "2021-11-29T20:15:42.814Z"
   },
   {
    "duration": 3,
    "start_time": "2021-11-29T20:15:51.215Z"
   },
   {
    "duration": 376,
    "start_time": "2021-11-29T20:16:15.916Z"
   },
   {
    "duration": 388,
    "start_time": "2021-11-29T20:16:37.809Z"
   },
   {
    "duration": 362,
    "start_time": "2021-11-29T20:17:10.826Z"
   },
   {
    "duration": 402,
    "start_time": "2021-11-29T20:17:17.538Z"
   },
   {
    "duration": 375,
    "start_time": "2021-11-29T20:17:30.819Z"
   },
   {
    "duration": 65,
    "start_time": "2021-11-29T20:22:33.856Z"
   },
   {
    "duration": 88,
    "start_time": "2021-11-29T20:22:51.640Z"
   },
   {
    "duration": 124,
    "start_time": "2021-11-29T20:22:55.182Z"
   },
   {
    "duration": 342,
    "start_time": "2021-11-29T20:22:58.980Z"
   },
   {
    "duration": 369,
    "start_time": "2021-11-29T20:23:06.354Z"
   },
   {
    "duration": 59,
    "start_time": "2021-11-29T20:23:57.311Z"
   },
   {
    "duration": 335,
    "start_time": "2021-11-29T20:24:07.132Z"
   },
   {
    "duration": 97,
    "start_time": "2021-11-29T20:24:48.704Z"
   },
   {
    "duration": 74,
    "start_time": "2021-11-29T20:25:30.490Z"
   },
   {
    "duration": 67,
    "start_time": "2021-11-29T20:25:55.490Z"
   },
   {
    "duration": 282,
    "start_time": "2021-11-29T20:31:42.012Z"
   },
   {
    "duration": 14,
    "start_time": "2021-11-29T20:31:58.319Z"
   },
   {
    "duration": 69,
    "start_time": "2021-11-29T20:34:06.150Z"
   },
   {
    "duration": 280,
    "start_time": "2021-11-29T20:34:08.165Z"
   },
   {
    "duration": 237,
    "start_time": "2021-11-29T20:34:13.096Z"
   },
   {
    "duration": 45,
    "start_time": "2021-11-29T20:34:33.130Z"
   },
   {
    "duration": 55,
    "start_time": "2021-11-29T20:34:42.993Z"
   },
   {
    "duration": 49,
    "start_time": "2021-11-29T20:34:52.377Z"
   },
   {
    "duration": 4,
    "start_time": "2021-11-29T20:37:21.142Z"
   },
   {
    "duration": 274,
    "start_time": "2021-11-29T20:38:27.119Z"
   },
   {
    "duration": 857,
    "start_time": "2021-11-29T20:38:56.199Z"
   },
   {
    "duration": 12,
    "start_time": "2021-11-29T20:39:07.057Z"
   },
   {
    "duration": 333,
    "start_time": "2021-11-29T20:40:55.334Z"
   },
   {
    "duration": 13,
    "start_time": "2021-11-29T20:41:07.703Z"
   },
   {
    "duration": 12,
    "start_time": "2021-11-29T20:41:59.116Z"
   },
   {
    "duration": 14,
    "start_time": "2021-11-29T20:42:17.437Z"
   },
   {
    "duration": 15,
    "start_time": "2021-11-29T20:42:21.687Z"
   },
   {
    "duration": 17,
    "start_time": "2021-11-29T21:21:18.218Z"
   },
   {
    "duration": 13,
    "start_time": "2021-11-29T21:21:51.804Z"
   },
   {
    "duration": 1686,
    "start_time": "2021-11-29T22:58:29.551Z"
   },
   {
    "duration": 184,
    "start_time": "2021-11-29T22:58:31.240Z"
   },
   {
    "duration": 23,
    "start_time": "2021-11-29T22:58:31.428Z"
   },
   {
    "duration": 10,
    "start_time": "2021-11-29T22:58:31.454Z"
   },
   {
    "duration": 30,
    "start_time": "2021-11-29T22:58:31.467Z"
   },
   {
    "duration": 21,
    "start_time": "2021-11-29T22:58:31.500Z"
   },
   {
    "duration": 28,
    "start_time": "2021-11-29T22:58:31.524Z"
   },
   {
    "duration": 108,
    "start_time": "2021-11-29T22:58:31.555Z"
   },
   {
    "duration": 24,
    "start_time": "2021-11-29T22:58:31.667Z"
   },
   {
    "duration": 25,
    "start_time": "2021-11-29T22:58:31.695Z"
   },
   {
    "duration": 63,
    "start_time": "2021-11-29T22:58:31.722Z"
   },
   {
    "duration": 90,
    "start_time": "2021-11-29T22:58:31.787Z"
   },
   {
    "duration": 428,
    "start_time": "2021-11-29T22:58:31.881Z"
   },
   {
    "duration": 81,
    "start_time": "2021-11-29T22:58:32.312Z"
   },
   {
    "duration": 413,
    "start_time": "2021-11-29T23:39:26.905Z"
   },
   {
    "duration": 278,
    "start_time": "2021-11-29T23:39:31.534Z"
   },
   {
    "duration": 25,
    "start_time": "2021-11-29T23:41:26.987Z"
   },
   {
    "duration": 28,
    "start_time": "2021-11-29T23:42:26.256Z"
   },
   {
    "duration": 1074,
    "start_time": "2021-12-01T18:51:53.754Z"
   },
   {
    "duration": 6,
    "start_time": "2021-12-01T19:45:41.024Z"
   },
   {
    "duration": 5,
    "start_time": "2021-12-01T19:45:49.675Z"
   },
   {
    "duration": 354,
    "start_time": "2021-12-01T19:46:26.316Z"
   },
   {
    "duration": 5,
    "start_time": "2021-12-01T19:46:41.755Z"
   },
   {
    "duration": 263,
    "start_time": "2021-12-01T19:46:43.567Z"
   },
   {
    "duration": 3,
    "start_time": "2021-12-01T19:47:58.155Z"
   },
   {
    "duration": 276,
    "start_time": "2021-12-01T19:48:03.342Z"
   },
   {
    "duration": 6,
    "start_time": "2021-12-01T20:02:42.668Z"
   },
   {
    "duration": 263,
    "start_time": "2021-12-01T20:02:45.276Z"
   },
   {
    "duration": 6,
    "start_time": "2021-12-01T20:03:10.359Z"
   },
   {
    "duration": 247,
    "start_time": "2021-12-01T20:03:11.664Z"
   },
   {
    "duration": 6,
    "start_time": "2021-12-01T20:03:28.303Z"
   },
   {
    "duration": 288,
    "start_time": "2021-12-01T20:03:29.793Z"
   },
   {
    "duration": 269,
    "start_time": "2021-12-01T20:04:41.023Z"
   },
   {
    "duration": 259,
    "start_time": "2021-12-01T22:21:33.109Z"
   },
   {
    "duration": 1039,
    "start_time": "2021-12-01T22:21:43.334Z"
   },
   {
    "duration": 190,
    "start_time": "2021-12-01T22:21:44.375Z"
   },
   {
    "duration": 14,
    "start_time": "2021-12-01T22:21:44.567Z"
   },
   {
    "duration": 7,
    "start_time": "2021-12-01T22:21:44.583Z"
   },
   {
    "duration": 4,
    "start_time": "2021-12-01T22:21:44.591Z"
   },
   {
    "duration": 11,
    "start_time": "2021-12-01T22:21:44.596Z"
   },
   {
    "duration": 14,
    "start_time": "2021-12-01T22:21:44.608Z"
   },
   {
    "duration": 73,
    "start_time": "2021-12-01T22:21:44.624Z"
   },
   {
    "duration": 438,
    "start_time": "2021-12-01T22:21:44.700Z"
   },
   {
    "duration": -153,
    "start_time": "2021-12-01T22:21:45.293Z"
   },
   {
    "duration": -160,
    "start_time": "2021-12-01T22:21:45.301Z"
   },
   {
    "duration": -161,
    "start_time": "2021-12-01T22:21:45.303Z"
   },
   {
    "duration": -162,
    "start_time": "2021-12-01T22:21:45.305Z"
   },
   {
    "duration": -345,
    "start_time": "2021-12-01T22:21:45.489Z"
   },
   {
    "duration": -355,
    "start_time": "2021-12-01T22:21:45.500Z"
   },
   {
    "duration": 320,
    "start_time": "2021-12-01T22:21:58.619Z"
   },
   {
    "duration": 636,
    "start_time": "2021-12-01T22:22:22.202Z"
   },
   {
    "duration": 64,
    "start_time": "2021-12-01T22:22:28.549Z"
   },
   {
    "duration": 337,
    "start_time": "2021-12-01T22:22:40.011Z"
   },
   {
    "duration": 69,
    "start_time": "2021-12-01T22:38:26.827Z"
   },
   {
    "duration": 63,
    "start_time": "2021-12-01T22:38:43.594Z"
   },
   {
    "duration": 66,
    "start_time": "2021-12-01T22:38:48.497Z"
   },
   {
    "duration": 64,
    "start_time": "2021-12-01T22:39:03.758Z"
   },
   {
    "duration": 83,
    "start_time": "2021-12-01T22:39:36.918Z"
   },
   {
    "duration": 69,
    "start_time": "2021-12-01T22:40:25.462Z"
   },
   {
    "duration": 64,
    "start_time": "2021-12-01T22:40:29.291Z"
   },
   {
    "duration": 61,
    "start_time": "2021-12-01T22:41:29.776Z"
   },
   {
    "duration": 68,
    "start_time": "2021-12-01T22:41:39.386Z"
   },
   {
    "duration": 1048,
    "start_time": "2021-12-01T22:41:57.027Z"
   },
   {
    "duration": 186,
    "start_time": "2021-12-01T22:41:58.077Z"
   },
   {
    "duration": 14,
    "start_time": "2021-12-01T22:41:58.265Z"
   },
   {
    "duration": 7,
    "start_time": "2021-12-01T22:41:58.281Z"
   },
   {
    "duration": 5,
    "start_time": "2021-12-01T22:41:58.289Z"
   },
   {
    "duration": 11,
    "start_time": "2021-12-01T22:41:58.295Z"
   },
   {
    "duration": 14,
    "start_time": "2021-12-01T22:41:58.307Z"
   },
   {
    "duration": 71,
    "start_time": "2021-12-01T22:41:58.322Z"
   },
   {
    "duration": 81,
    "start_time": "2021-12-01T22:41:58.395Z"
   },
   {
    "duration": 11,
    "start_time": "2021-12-01T22:41:58.477Z"
   },
   {
    "duration": 13,
    "start_time": "2021-12-01T22:41:58.489Z"
   },
   {
    "duration": 12,
    "start_time": "2021-12-01T22:41:58.503Z"
   },
   {
    "duration": 71,
    "start_time": "2021-12-01T22:41:58.516Z"
   },
   {
    "duration": 261,
    "start_time": "2021-12-01T22:41:58.588Z"
   },
   {
    "duration": 40,
    "start_time": "2021-12-01T22:41:58.850Z"
   },
   {
    "duration": 91,
    "start_time": "2021-12-01T22:43:48.341Z"
   },
   {
    "duration": 64,
    "start_time": "2021-12-01T22:43:53.712Z"
   },
   {
    "duration": 752,
    "start_time": "2021-12-01T22:45:24.940Z"
   },
   {
    "duration": 515,
    "start_time": "2021-12-01T22:45:32.931Z"
   },
   {
    "duration": 64,
    "start_time": "2021-12-01T22:45:43.303Z"
   },
   {
    "duration": 1288,
    "start_time": "2021-12-01T22:45:59.983Z"
   },
   {
    "duration": 409,
    "start_time": "2021-12-01T22:46:01.273Z"
   },
   {
    "duration": 15,
    "start_time": "2021-12-01T22:46:01.685Z"
   },
   {
    "duration": 18,
    "start_time": "2021-12-01T22:46:01.702Z"
   },
   {
    "duration": 20,
    "start_time": "2021-12-01T22:46:01.722Z"
   },
   {
    "duration": 30,
    "start_time": "2021-12-01T22:46:01.743Z"
   },
   {
    "duration": 18,
    "start_time": "2021-12-01T22:46:11.508Z"
   },
   {
    "duration": 60,
    "start_time": "2021-12-01T22:46:16.442Z"
   },
   {
    "duration": 70,
    "start_time": "2021-12-01T22:46:21.020Z"
   },
   {
    "duration": 599,
    "start_time": "2021-12-01T22:46:30.509Z"
   },
   {
    "duration": 74,
    "start_time": "2021-12-01T22:46:45.033Z"
   },
   {
    "duration": 355,
    "start_time": "2021-12-01T22:46:48.249Z"
   },
   {
    "duration": 266,
    "start_time": "2021-12-01T22:47:01.382Z"
   },
   {
    "duration": 353,
    "start_time": "2021-12-01T22:47:10.920Z"
   },
   {
    "duration": 327,
    "start_time": "2021-12-01T22:47:19.790Z"
   },
   {
    "duration": 364,
    "start_time": "2021-12-01T22:47:30.963Z"
   },
   {
    "duration": 327,
    "start_time": "2021-12-01T22:47:36.122Z"
   },
   {
    "duration": 341,
    "start_time": "2021-12-01T22:51:46.635Z"
   },
   {
    "duration": 1072,
    "start_time": "2021-12-01T22:52:08.303Z"
   },
   {
    "duration": 207,
    "start_time": "2021-12-01T22:52:09.377Z"
   },
   {
    "duration": 14,
    "start_time": "2021-12-01T22:52:09.586Z"
   },
   {
    "duration": 21,
    "start_time": "2021-12-01T22:52:09.601Z"
   },
   {
    "duration": 12,
    "start_time": "2021-12-01T22:52:09.624Z"
   },
   {
    "duration": 18,
    "start_time": "2021-12-01T22:52:09.637Z"
   },
   {
    "duration": 401,
    "start_time": "2021-12-01T22:52:17.271Z"
   },
   {
    "duration": 320,
    "start_time": "2021-12-01T22:52:28.100Z"
   },
   {
    "duration": 312,
    "start_time": "2021-12-01T22:52:37.882Z"
   },
   {
    "duration": 319,
    "start_time": "2021-12-01T22:53:11.020Z"
   },
   {
    "duration": 321,
    "start_time": "2021-12-01T22:53:25.145Z"
   },
   {
    "duration": 293,
    "start_time": "2021-12-01T22:59:36.201Z"
   },
   {
    "duration": 34,
    "start_time": "2021-12-01T22:59:44.709Z"
   },
   {
    "duration": 36,
    "start_time": "2021-12-01T22:59:58.798Z"
   },
   {
    "duration": 72,
    "start_time": "2021-12-01T23:00:27.754Z"
   },
   {
    "duration": 67,
    "start_time": "2021-12-01T23:01:10.352Z"
   },
   {
    "duration": 70,
    "start_time": "2021-12-01T23:01:21.753Z"
   },
   {
    "duration": 60,
    "start_time": "2021-12-01T23:02:33.350Z"
   },
   {
    "duration": 61,
    "start_time": "2021-12-01T23:02:36.606Z"
   },
   {
    "duration": 93,
    "start_time": "2021-12-01T23:03:33.833Z"
   },
   {
    "duration": 144,
    "start_time": "2021-12-01T23:03:41.115Z"
   },
   {
    "duration": 157,
    "start_time": "2021-12-01T23:04:00.212Z"
   },
   {
    "duration": 346,
    "start_time": "2021-12-01T23:04:09.712Z"
   },
   {
    "duration": 318,
    "start_time": "2021-12-01T23:04:33.507Z"
   },
   {
    "duration": 97,
    "start_time": "2021-12-01T23:04:54.215Z"
   },
   {
    "duration": 130,
    "start_time": "2021-12-01T23:05:42.270Z"
   },
   {
    "duration": 96,
    "start_time": "2021-12-01T23:06:13.001Z"
   },
   {
    "duration": 14,
    "start_time": "2021-12-01T23:06:22.972Z"
   },
   {
    "duration": 62,
    "start_time": "2021-12-01T23:06:46.487Z"
   },
   {
    "duration": 66,
    "start_time": "2021-12-01T23:07:09.927Z"
   },
   {
    "duration": 91,
    "start_time": "2021-12-01T23:14:18.872Z"
   },
   {
    "duration": 14,
    "start_time": "2021-12-01T23:16:10.289Z"
   },
   {
    "duration": 12,
    "start_time": "2021-12-01T23:16:12.190Z"
   },
   {
    "duration": 260,
    "start_time": "2021-12-01T23:19:25.256Z"
   },
   {
    "duration": 259,
    "start_time": "2021-12-01T23:20:08.941Z"
   },
   {
    "duration": 16,
    "start_time": "2021-12-01T23:20:22.401Z"
   },
   {
    "duration": 16,
    "start_time": "2021-12-01T23:21:31.605Z"
   },
   {
    "duration": 15,
    "start_time": "2021-12-01T23:22:27.231Z"
   },
   {
    "duration": 15,
    "start_time": "2021-12-01T23:22:32.083Z"
   },
   {
    "duration": 62,
    "start_time": "2021-12-01T23:24:08.082Z"
   },
   {
    "duration": 61,
    "start_time": "2021-12-01T23:24:16.307Z"
   },
   {
    "duration": 61,
    "start_time": "2021-12-01T23:24:24.150Z"
   },
   {
    "duration": 261,
    "start_time": "2021-12-01T23:36:21.445Z"
   },
   {
    "duration": 3,
    "start_time": "2021-12-01T23:36:39.873Z"
   },
   {
    "duration": 4,
    "start_time": "2021-12-01T23:37:02.189Z"
   },
   {
    "duration": 250,
    "start_time": "2021-12-01T23:37:03.197Z"
   },
   {
    "duration": 258,
    "start_time": "2021-12-01T23:37:06.282Z"
   },
   {
    "duration": 6,
    "start_time": "2021-12-01T23:56:39.845Z"
   },
   {
    "duration": 5,
    "start_time": "2021-12-02T00:23:18.144Z"
   },
   {
    "duration": 6,
    "start_time": "2021-12-02T00:23:33.651Z"
   },
   {
    "duration": 5,
    "start_time": "2021-12-02T00:23:36.834Z"
   },
   {
    "duration": 45,
    "start_time": "2021-12-02T00:27:13.087Z"
   },
   {
    "duration": 289,
    "start_time": "2021-12-02T00:27:15.055Z"
   },
   {
    "duration": 40,
    "start_time": "2021-12-02T00:27:17.000Z"
   },
   {
    "duration": 236,
    "start_time": "2021-12-02T00:29:02.494Z"
   },
   {
    "duration": 226,
    "start_time": "2021-12-02T00:29:05.911Z"
   },
   {
    "duration": 229,
    "start_time": "2021-12-02T00:29:19.653Z"
   },
   {
    "duration": 247,
    "start_time": "2021-12-02T00:30:05.457Z"
   },
   {
    "duration": 227,
    "start_time": "2021-12-02T00:30:12.100Z"
   },
   {
    "duration": 231,
    "start_time": "2021-12-02T00:30:15.293Z"
   },
   {
    "duration": 233,
    "start_time": "2021-12-02T00:30:23.570Z"
   },
   {
    "duration": 223,
    "start_time": "2021-12-02T00:30:28.961Z"
   },
   {
    "duration": 237,
    "start_time": "2021-12-02T00:30:34.817Z"
   },
   {
    "duration": 252,
    "start_time": "2021-12-02T00:30:54.499Z"
   },
   {
    "duration": 231,
    "start_time": "2021-12-02T00:31:11.275Z"
   },
   {
    "duration": 414,
    "start_time": "2021-12-02T00:31:34.794Z"
   },
   {
    "duration": 747,
    "start_time": "2021-12-02T00:31:40.299Z"
   },
   {
    "duration": 1276,
    "start_time": "2021-12-02T00:31:49.953Z"
   },
   {
    "duration": 4745,
    "start_time": "2021-12-02T00:31:59.549Z"
   },
   {
    "duration": 760,
    "start_time": "2021-12-02T00:32:14.427Z"
   },
   {
    "duration": 432,
    "start_time": "2021-12-02T00:32:27.296Z"
   },
   {
    "duration": 5,
    "start_time": "2021-12-02T00:33:28.166Z"
   },
   {
    "duration": 61,
    "start_time": "2021-12-02T00:42:18.691Z"
   },
   {
    "duration": 1023,
    "start_time": "2021-12-02T00:42:27.149Z"
   },
   {
    "duration": 180,
    "start_time": "2021-12-02T00:42:28.173Z"
   },
   {
    "duration": 13,
    "start_time": "2021-12-02T00:42:28.355Z"
   },
   {
    "duration": 6,
    "start_time": "2021-12-02T00:42:28.370Z"
   },
   {
    "duration": 3,
    "start_time": "2021-12-02T00:42:28.378Z"
   },
   {
    "duration": 12,
    "start_time": "2021-12-02T00:42:28.382Z"
   },
   {
    "duration": 13,
    "start_time": "2021-12-02T00:42:28.395Z"
   },
   {
    "duration": 88,
    "start_time": "2021-12-02T00:42:28.410Z"
   },
   {
    "duration": 3,
    "start_time": "2021-12-02T00:42:28.500Z"
   },
   {
    "duration": 348,
    "start_time": "2021-12-02T00:42:28.504Z"
   },
   {
    "duration": -115,
    "start_time": "2021-12-02T00:42:28.969Z"
   },
   {
    "duration": -117,
    "start_time": "2021-12-02T00:42:28.972Z"
   },
   {
    "duration": -132,
    "start_time": "2021-12-02T00:42:28.989Z"
   },
   {
    "duration": -144,
    "start_time": "2021-12-02T00:42:29.002Z"
   },
   {
    "duration": -145,
    "start_time": "2021-12-02T00:42:29.005Z"
   },
   {
    "duration": 11,
    "start_time": "2021-12-02T00:43:02.317Z"
   },
   {
    "duration": 13,
    "start_time": "2021-12-02T00:43:06.831Z"
   },
   {
    "duration": 46,
    "start_time": "2021-12-02T00:43:09.390Z"
   },
   {
    "duration": 444,
    "start_time": "2021-12-02T00:43:15.585Z"
   },
   {
    "duration": 6,
    "start_time": "2021-12-02T00:43:35.961Z"
   },
   {
    "duration": 6,
    "start_time": "2021-12-02T01:12:55.653Z"
   },
   {
    "duration": 6,
    "start_time": "2021-12-02T01:13:01.346Z"
   },
   {
    "duration": 1302,
    "start_time": "2021-12-02T01:13:09.684Z"
   },
   {
    "duration": 276,
    "start_time": "2021-12-02T01:13:33.044Z"
   },
   {
    "duration": 554,
    "start_time": "2021-12-02T01:13:34.978Z"
   },
   {
    "duration": 91,
    "start_time": "2021-12-02T01:13:57.927Z"
   },
   {
    "duration": 3,
    "start_time": "2021-12-02T01:14:23.587Z"
   },
   {
    "duration": 5,
    "start_time": "2021-12-02T01:14:27.778Z"
   },
   {
    "duration": 676,
    "start_time": "2021-12-02T01:14:29.786Z"
   },
   {
    "duration": 3,
    "start_time": "2021-12-02T01:14:56.548Z"
   },
   {
    "duration": 93,
    "start_time": "2021-12-02T01:14:59.429Z"
   },
   {
    "duration": 55,
    "start_time": "2021-12-02T01:15:01.736Z"
   },
   {
    "duration": 120,
    "start_time": "2021-12-02T01:15:16.066Z"
   },
   {
    "duration": 6,
    "start_time": "2021-12-02T01:15:52.239Z"
   },
   {
    "duration": 4,
    "start_time": "2021-12-02T01:16:25.680Z"
   },
   {
    "duration": 5,
    "start_time": "2021-12-02T01:17:30.940Z"
   },
   {
    "duration": 56,
    "start_time": "2021-12-02T01:17:34.316Z"
   },
   {
    "duration": 5,
    "start_time": "2021-12-02T01:17:52.878Z"
   },
   {
    "duration": 52,
    "start_time": "2021-12-02T01:17:54.798Z"
   },
   {
    "duration": 5,
    "start_time": "2021-12-02T01:18:08.068Z"
   },
   {
    "duration": 54,
    "start_time": "2021-12-02T01:18:10.164Z"
   },
   {
    "duration": 6,
    "start_time": "2021-12-02T01:19:03.744Z"
   },
   {
    "duration": 24,
    "start_time": "2021-12-02T01:19:05.088Z"
   },
   {
    "duration": 6,
    "start_time": "2021-12-02T01:20:20.153Z"
   },
   {
    "duration": 25,
    "start_time": "2021-12-02T01:20:22.169Z"
   },
   {
    "duration": 6,
    "start_time": "2021-12-02T01:21:04.451Z"
   },
   {
    "duration": 25,
    "start_time": "2021-12-02T01:21:05.633Z"
   },
   {
    "duration": 986,
    "start_time": "2021-12-02T01:23:37.774Z"
   },
   {
    "duration": 186,
    "start_time": "2021-12-02T01:23:38.762Z"
   },
   {
    "duration": 15,
    "start_time": "2021-12-02T01:23:38.950Z"
   },
   {
    "duration": 26,
    "start_time": "2021-12-02T01:23:38.967Z"
   },
   {
    "duration": 28,
    "start_time": "2021-12-02T01:23:38.995Z"
   },
   {
    "duration": 23,
    "start_time": "2021-12-02T01:23:39.024Z"
   },
   {
    "duration": 30,
    "start_time": "2021-12-02T01:23:39.049Z"
   },
   {
    "duration": 65,
    "start_time": "2021-12-02T01:23:39.082Z"
   },
   {
    "duration": 12,
    "start_time": "2021-12-02T01:23:39.149Z"
   },
   {
    "duration": 13,
    "start_time": "2021-12-02T01:23:39.163Z"
   },
   {
    "duration": 67,
    "start_time": "2021-12-02T01:23:39.178Z"
   },
   {
    "duration": 451,
    "start_time": "2021-12-02T01:23:39.247Z"
   },
   {
    "duration": 5,
    "start_time": "2021-12-02T01:23:39.700Z"
   },
   {
    "duration": 21,
    "start_time": "2021-12-02T01:23:39.707Z"
   },
   {
    "duration": 35,
    "start_time": "2021-12-02T01:23:39.730Z"
   },
   {
    "duration": 351,
    "start_time": "2021-12-02T01:27:11.007Z"
   },
   {
    "duration": 279,
    "start_time": "2021-12-02T01:27:21.640Z"
   },
   {
    "duration": 283,
    "start_time": "2021-12-02T01:27:57.463Z"
   },
   {
    "duration": 62,
    "start_time": "2021-12-02T01:28:15.272Z"
   },
   {
    "duration": 5,
    "start_time": "2021-12-02T01:38:33.506Z"
   },
   {
    "duration": 54,
    "start_time": "2021-12-02T01:38:40.529Z"
   },
   {
    "duration": 299,
    "start_time": "2021-12-02T04:21:44.095Z"
   },
   {
    "duration": 1062,
    "start_time": "2021-12-02T04:21:52.914Z"
   },
   {
    "duration": 327,
    "start_time": "2021-12-02T04:21:57.049Z"
   },
   {
    "duration": 266,
    "start_time": "2021-12-02T04:22:03.695Z"
   },
   {
    "duration": 4,
    "start_time": "2021-12-02T04:22:06.685Z"
   },
   {
    "duration": 719,
    "start_time": "2021-12-02T04:22:08.782Z"
   },
   {
    "duration": 16,
    "start_time": "2021-12-02T04:22:10.393Z"
   },
   {
    "duration": 7,
    "start_time": "2021-12-02T04:22:12.033Z"
   },
   {
    "duration": 4,
    "start_time": "2021-12-02T04:22:14.170Z"
   },
   {
    "duration": 10,
    "start_time": "2021-12-02T04:22:17.765Z"
   },
   {
    "duration": 14,
    "start_time": "2021-12-02T04:22:22.423Z"
   },
   {
    "duration": 294,
    "start_time": "2021-12-02T04:22:25.332Z"
   },
   {
    "duration": 273,
    "start_time": "2021-12-02T04:22:40.775Z"
   },
   {
    "duration": 268,
    "start_time": "2021-12-02T04:22:53.424Z"
   },
   {
    "duration": 60,
    "start_time": "2021-12-02T04:23:04.700Z"
   },
   {
    "duration": 66,
    "start_time": "2021-12-02T04:23:07.816Z"
   },
   {
    "duration": 58,
    "start_time": "2021-12-02T04:23:25.508Z"
   },
   {
    "duration": 87,
    "start_time": "2021-12-02T04:23:52.504Z"
   },
   {
    "duration": 307,
    "start_time": "2021-12-02T04:24:00.296Z"
   },
   {
    "duration": 100,
    "start_time": "2021-12-02T04:24:49.379Z"
   },
   {
    "duration": 267,
    "start_time": "2021-12-02T04:25:01.098Z"
   },
   {
    "duration": 60,
    "start_time": "2021-12-02T04:25:35.741Z"
   },
   {
    "duration": 62,
    "start_time": "2021-12-02T04:25:57.502Z"
   },
   {
    "duration": 430,
    "start_time": "2021-12-02T04:29:38.779Z"
   },
   {
    "duration": 628,
    "start_time": "2021-12-02T04:29:57.099Z"
   },
   {
    "duration": 417,
    "start_time": "2021-12-02T04:30:02.849Z"
   },
   {
    "duration": 1157,
    "start_time": "2021-12-02T04:30:32.644Z"
   },
   {
    "duration": 1160,
    "start_time": "2021-12-02T04:31:28.547Z"
   },
   {
    "duration": 1170,
    "start_time": "2021-12-02T04:33:00.082Z"
   },
   {
    "duration": 5,
    "start_time": "2021-12-02T04:33:34.705Z"
   },
   {
    "duration": 57,
    "start_time": "2021-12-02T04:33:37.920Z"
   },
   {
    "duration": 5,
    "start_time": "2021-12-02T04:33:46.796Z"
   },
   {
    "duration": 6,
    "start_time": "2021-12-02T04:33:51.624Z"
   },
   {
    "duration": 53,
    "start_time": "2021-12-02T04:33:56.160Z"
   },
   {
    "duration": 5,
    "start_time": "2021-12-02T04:37:28.056Z"
   },
   {
    "duration": 5,
    "start_time": "2021-12-02T04:37:50.710Z"
   },
   {
    "duration": 55,
    "start_time": "2021-12-02T04:37:53.937Z"
   },
   {
    "duration": 5,
    "start_time": "2021-12-02T05:04:27.306Z"
   },
   {
    "duration": 52,
    "start_time": "2021-12-02T05:04:28.196Z"
   },
   {
    "duration": 349,
    "start_time": "2021-12-03T19:08:46.856Z"
   },
   {
    "duration": 1119,
    "start_time": "2021-12-03T19:09:02.345Z"
   },
   {
    "duration": 226,
    "start_time": "2021-12-03T19:09:03.467Z"
   },
   {
    "duration": 17,
    "start_time": "2021-12-03T19:09:03.695Z"
   },
   {
    "duration": 8,
    "start_time": "2021-12-03T19:09:03.714Z"
   },
   {
    "duration": 5,
    "start_time": "2021-12-03T19:09:03.723Z"
   },
   {
    "duration": 11,
    "start_time": "2021-12-03T19:09:03.730Z"
   },
   {
    "duration": 15,
    "start_time": "2021-12-03T19:09:03.743Z"
   },
   {
    "duration": 100,
    "start_time": "2021-12-03T19:09:03.760Z"
   },
   {
    "duration": 13,
    "start_time": "2021-12-03T19:09:03.862Z"
   },
   {
    "duration": 30,
    "start_time": "2021-12-03T19:09:03.877Z"
   },
   {
    "duration": 51,
    "start_time": "2021-12-03T19:09:03.909Z"
   },
   {
    "duration": 1360,
    "start_time": "2021-12-03T19:09:03.962Z"
   },
   {
    "duration": 122,
    "start_time": "2021-12-03T19:09:05.323Z"
   },
   {
    "duration": 5,
    "start_time": "2021-12-03T19:09:05.447Z"
   },
   {
    "duration": 5,
    "start_time": "2021-12-03T19:09:05.454Z"
   },
   {
    "duration": 82,
    "start_time": "2021-12-03T19:09:05.461Z"
   },
   {
    "duration": 111,
    "start_time": "2021-12-03T19:09:58.049Z"
   },
   {
    "duration": 107,
    "start_time": "2021-12-03T19:34:11.776Z"
   },
   {
    "duration": 6,
    "start_time": "2021-12-03T20:03:20.474Z"
   },
   {
    "duration": 5,
    "start_time": "2021-12-03T20:03:22.919Z"
   },
   {
    "duration": 5,
    "start_time": "2021-12-03T20:03:24.654Z"
   },
   {
    "duration": 5,
    "start_time": "2021-12-03T20:03:28.118Z"
   },
   {
    "duration": 5,
    "start_time": "2021-12-03T20:03:32.815Z"
   },
   {
    "duration": 5,
    "start_time": "2021-12-03T20:03:34.857Z"
   },
   {
    "duration": 1125,
    "start_time": "2021-12-03T20:03:46.821Z"
   },
   {
    "duration": 224,
    "start_time": "2021-12-03T20:03:47.948Z"
   },
   {
    "duration": 15,
    "start_time": "2021-12-03T20:03:48.174Z"
   },
   {
    "duration": 7,
    "start_time": "2021-12-03T20:03:48.191Z"
   },
   {
    "duration": 6,
    "start_time": "2021-12-03T20:03:48.200Z"
   },
   {
    "duration": 10,
    "start_time": "2021-12-03T20:03:48.208Z"
   },
   {
    "duration": 15,
    "start_time": "2021-12-03T20:03:48.220Z"
   },
   {
    "duration": 88,
    "start_time": "2021-12-03T20:03:48.238Z"
   },
   {
    "duration": 12,
    "start_time": "2021-12-03T20:03:48.328Z"
   },
   {
    "duration": 12,
    "start_time": "2021-12-03T20:03:48.342Z"
   },
   {
    "duration": 75,
    "start_time": "2021-12-03T20:03:48.356Z"
   },
   {
    "duration": 1331,
    "start_time": "2021-12-03T20:03:48.433Z"
   },
   {
    "duration": 536,
    "start_time": "2021-12-03T20:03:49.765Z"
   },
   {
    "duration": -106,
    "start_time": "2021-12-03T20:03:50.411Z"
   },
   {
    "duration": -294,
    "start_time": "2021-12-03T20:03:50.600Z"
   },
   {
    "duration": -298,
    "start_time": "2021-12-03T20:03:50.606Z"
   },
   {
    "duration": 109,
    "start_time": "2021-12-03T20:04:15.420Z"
   },
   {
    "duration": 6,
    "start_time": "2021-12-03T20:04:18.127Z"
   },
   {
    "duration": 5,
    "start_time": "2021-12-03T20:04:25.831Z"
   },
   {
    "duration": 5,
    "start_time": "2021-12-03T20:04:52.862Z"
   },
   {
    "duration": 4,
    "start_time": "2021-12-03T20:04:56.182Z"
   },
   {
    "duration": 4,
    "start_time": "2021-12-03T20:04:57.659Z"
   },
   {
    "duration": 56,
    "start_time": "2021-12-03T20:04:58.590Z"
   }
  ],
  "kernelspec": {
   "display_name": "Python 3",
   "language": "python",
   "name": "python3"
  },
  "language_info": {
   "codemirror_mode": {
    "name": "ipython",
    "version": 3
   },
   "file_extension": ".py",
   "mimetype": "text/x-python",
   "name": "python",
   "nbconvert_exporter": "python",
   "pygments_lexer": "ipython3",
   "version": "3.7.10"
  },
  "toc": {
   "base_numbering": 1,
   "nav_menu": {},
   "number_sections": true,
   "sideBar": true,
   "skip_h1_title": true,
   "title_cell": "Table of Contents",
   "title_sidebar": "Contents",
   "toc_cell": false,
   "toc_position": {},
   "toc_section_display": true,
   "toc_window_display": false
  }
 },
 "nbformat": 4,
 "nbformat_minor": 2
}
